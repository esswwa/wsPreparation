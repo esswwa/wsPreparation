{
 "cells": [
  {
   "cell_type": "markdown",
   "id": "795267f3",
   "metadata": {},
   "source": [
    "## Модуль Б.  Разведочный анализ данных"
   ]
  },
  {
   "cell_type": "markdown",
   "id": "b3e0fc69",
   "metadata": {},
   "source": [
    "#### Импортирование библиотек"
   ]
  },
  {
   "cell_type": "code",
   "execution_count": 184,
   "id": "2d4500e9",
   "metadata": {},
   "outputs": [],
   "source": [
    "import pandas as pd\n",
    "import io\n",
    "import glob\n",
    "import re\n",
    "import nltk\n",
    "import matplotlib.pyplot as plt\n",
    "import pymorphy2\n",
    "import fitz\n",
    "import string\n",
    "import numpy as np\n",
    "import re\n",
    "import pyLDAvis\n",
    "import pyLDAvis.gensim\n",
    "from nltk.stem import *\n",
    "from nltk.corpus import stopwords\n",
    "from pymystem3 import Mystem\n",
    "from string import punctuation\n",
    "from nltk.tokenize import word_tokenize\n",
    "from tqdm.auto import tqdm, trange\n",
    "from sklearn.feature_extraction.text import CountVectorizer\n",
    "from sklearn.decomposition import LatentDirichletAllocation\n",
    "import pyLDAvis.sklearn\n",
    "from __future__ import division\n",
    "from sklearn.feature_extraction.text import TfidfVectorizer\n",
    "from sklearn.cluster import AgglomerativeClustering\n",
    "from sklearn.cluster import KMeans\n",
    "from sklearn.cluster import SpectralClustering\n",
    "from sklearn.metrics import silhouette_score\n",
    "from sklearn.manifold import TSNE\n",
    "from sklearn.decomposition import NMF\n",
    "from sklearn.decomposition import TruncatedSVD\n",
    "from sklearn.metrics.pairwise import linear_kernel\n",
    "from sklearn.metrics.pairwise import cosine_similarity\n",
    "from sklearn.naive_bayes import MultinomialNB\n",
    "from sklearn.pipeline import Pipeline\n",
    "from sklearn.model_selection import train_test_split\n",
    "from sklearn.feature_extraction.text import TfidfTransformer\n",
    "import seaborn as sns"
   ]
  },
  {
   "cell_type": "markdown",
   "id": "6eca1300",
   "metadata": {},
   "source": [
    "### 1.2 Формирование структуры набора данных"
   ]
  },
  {
   "cell_type": "markdown",
   "id": "540131f8",
   "metadata": {},
   "source": [
    "### Описание структуры данных"
   ]
  },
  {
   "cell_type": "markdown",
   "id": "21062b3f",
   "metadata": {},
   "source": [
    "__TitleCompany__ - Название компании\n",
    "\n",
    "__TextPostLemat__ - обработанный, лематизированный текст \n",
    "\n",
    "__TextPostToken__ - обработанный, токенизированный и лематизированный текст (лематизирован другим способом нежели TextPostLemat)\n",
    "\n",
    "__bigram__ - биграммы обработанного и лематизированного текста\n",
    "\n",
    "__trigram__ - триграммы обработанного и лематизированного текста\n",
    "\n",
    "__keyword__ - ключевые слова обработанного и лематизированного текста\n",
    "\n",
    "__clustersAgglomerative__ - кластеры, образованные моделью Agglomerative\n",
    "\n",
    "__clustersKmeans__ - кластеры, образованные моделью Kmeans\n",
    "\n",
    "__clustersSpectral__ - кластеры, образованные моделью Spectral"
   ]
  },
  {
   "cell_type": "markdown",
   "id": "0ec5bb6d",
   "metadata": {},
   "source": [
    "#### Установка библиотек"
   ]
  },
  {
   "cell_type": "markdown",
   "id": "41893cc7",
   "metadata": {},
   "source": [
    "### 2.1 Поиск ключевых слов/n-грамм. Векторизация текстов"
   ]
  },
  {
   "cell_type": "code",
   "execution_count": 78,
   "id": "cb6410ef",
   "metadata": {},
   "outputs": [],
   "source": [
    "dfHabr1 = pd.read_csv(r'C:\\Users\\МОиБД\\Downloads\\Report1.csv')"
   ]
  },
  {
   "cell_type": "code",
   "execution_count": 79,
   "id": "b37bedce",
   "metadata": {},
   "outputs": [],
   "source": [
    "mystem = Mystem() \n",
    "# добавление стопслов\n",
    "russian_stopwords = stopwords.words(\"russian\")\n",
    "russian_stopwords.extend(['…', '«', '»', '...', 'быть', 'r', 'n', 'а', 'мы', 'с', 'для', 'ещё', 'его', 'также', 'к', 'тем', 'кто', 'чтобы', 'но', 'они', 'будут', 'так', 'где', 'один', 'он ', 'и', 'на', 'но', 'или', 'либо', 'это', 'мб', 'далее', 'дв', 'свой', 'ваш','всё', 'очень', 'её', 'ещё', 'вообще', 'наш', 'который'])"
   ]
  },
  {
   "cell_type": "markdown",
   "id": "e6a585e4",
   "metadata": {},
   "source": [
    "Из-за проблем с чтением нужно заново токенизировать текст, именно поэтому заново прописываю метод токенизации на лемматизированном тексте"
   ]
  },
  {
   "cell_type": "code",
   "execution_count": 80,
   "id": "c4ad6fa6",
   "metadata": {},
   "outputs": [],
   "source": [
    "def tokenize(text):\n",
    "    t = word_tokenize(text)\n",
    "    return [token for token in t if token not in russian_stopwords]"
   ]
  },
  {
   "cell_type": "code",
   "execution_count": 81,
   "id": "5a159916",
   "metadata": {},
   "outputs": [
    {
     "data": {
      "application/vnd.jupyter.widget-view+json": {
       "model_id": "b0da451c27f045c98910ca4b665b1f17",
       "version_major": 2,
       "version_minor": 0
      },
      "text/plain": [
       "  0%|          | 0/6 [00:00<?, ?it/s]"
      ]
     },
     "metadata": {},
     "output_type": "display_data"
    }
   ],
   "source": [
    "prep_text1 = [tokenize(text.lower()) for text in tqdm(dfHabr1['TextPostLemat']) if text not in russian_stopwords]"
   ]
  },
  {
   "cell_type": "code",
   "execution_count": 82,
   "id": "6f0e7097",
   "metadata": {},
   "outputs": [],
   "source": [
    "dfHabr1['TextPostToken'] = prep_text1"
   ]
  },
  {
   "cell_type": "code",
   "execution_count": 83,
   "id": "54e70483",
   "metadata": {},
   "outputs": [],
   "source": [
    "dfHabr1['bigram'] = ''\n",
    "dfHabr1['trigram'] = ''\n",
    "dfHabr1['keyword'] = ''"
   ]
  },
  {
   "cell_type": "markdown",
   "id": "df3925c9",
   "metadata": {},
   "source": [
    "#### Создание биграммы, триграммы и ключевых слов, а также добавления их в датафрейм"
   ]
  },
  {
   "cell_type": "code",
   "execution_count": 84,
   "id": "d08ea12c",
   "metadata": {},
   "outputs": [
    {
     "data": {
      "application/vnd.jupyter.widget-view+json": {
       "model_id": "b1597fdeddbe4c0a8b405d5ca5afb12a",
       "version_major": 2,
       "version_minor": 0
      },
      "text/plain": [
       "  0%|          | 0/6 [00:00<?, ?it/s]"
      ]
     },
     "metadata": {},
     "output_type": "display_data"
    },
    {
     "data": {
      "application/vnd.jupyter.widget-view+json": {
       "model_id": "9ac6d747f8e54d7a99e2d4c76f0db91b",
       "version_major": 2,
       "version_minor": 0
      },
      "text/plain": [
       "  0%|          | 0/6 [00:00<?, ?it/s]"
      ]
     },
     "metadata": {},
     "output_type": "display_data"
    },
    {
     "data": {
      "application/vnd.jupyter.widget-view+json": {
       "model_id": "9f6d03c4235941d7a697e7fb2c6c8f3a",
       "version_major": 2,
       "version_minor": 0
      },
      "text/plain": [
       "  0%|          | 0/6 [00:00<?, ?it/s]"
      ]
     },
     "metadata": {},
     "output_type": "display_data"
    }
   ],
   "source": [
    "# использование цикла с записью биграмм в датафрейм\n",
    "for i in tqdm(range(len(dfHabr1['TextPostToken']))):\n",
    "    dfHabr1['bigram'][i] = list(nltk.ngrams(dfHabr1['TextPostToken'][i], 2))\n",
    "# использование цикла с записью триграмм в датафрейм\n",
    "for i in tqdm(range(len(dfHabr1['TextPostToken']))):\n",
    "    dfHabr1['trigram'][i] = list(nltk.ngrams(dfHabr1['TextPostToken'][i], 3))\n",
    "# использование цикла с записью ключевых слов в датафрейм\n",
    "for i in tqdm(range(len(dfHabr1['TextPostToken']))):\n",
    "    freq_dist = nltk.FreqDist(dfHabr1['TextPostToken'][i])\n",
    "    top_words = [word for word, count in freq_dist.most_common(10)]\n",
    "    dfHabr1['keyword'][i] = ', '.join(top_words)"
   ]
  },
  {
   "cell_type": "code",
   "execution_count": 86,
   "id": "6b87ae51",
   "metadata": {},
   "outputs": [
    {
     "data": {
      "text/html": [
       "<div>\n",
       "<style scoped>\n",
       "    .dataframe tbody tr th:only-of-type {\n",
       "        vertical-align: middle;\n",
       "    }\n",
       "\n",
       "    .dataframe tbody tr th {\n",
       "        vertical-align: top;\n",
       "    }\n",
       "\n",
       "    .dataframe thead th {\n",
       "        text-align: right;\n",
       "    }\n",
       "</style>\n",
       "<table border=\"1\" class=\"dataframe\">\n",
       "  <thead>\n",
       "    <tr style=\"text-align: right;\">\n",
       "      <th></th>\n",
       "      <th>TitleCompany</th>\n",
       "      <th>TextPost</th>\n",
       "      <th>TextPostLemat</th>\n",
       "      <th>TextPostToken</th>\n",
       "      <th>bigram</th>\n",
       "      <th>trigram</th>\n",
       "      <th>keyword</th>\n",
       "    </tr>\n",
       "  </thead>\n",
       "  <tbody>\n",
       "    <tr>\n",
       "      <th>0</th>\n",
       "      <td>Нетология</td>\n",
       "      <td>Системы, за которые нужно отвечать, есть в го...</td>\n",
       "      <td>система нужно отвечать государственный структу...</td>\n",
       "      <td>[система, нужно, отвечать, государственный, ст...</td>\n",
       "      <td>[(система, нужно), (нужно, отвечать), (отвечат...</td>\n",
       "      <td>[(система, нужно, отвечать), (нужно, отвечать,...</td>\n",
       "      <td>работа, инженер, системный, система, работать,...</td>\n",
       "    </tr>\n",
       "    <tr>\n",
       "      <th>1</th>\n",
       "      <td>Сбер</td>\n",
       "      <td>Не все регулярные офлайн-мероприятия возвраща...</td>\n",
       "      <td>весь регулярный офлайн мероприятие возвращатьс...</td>\n",
       "      <td>[весь, регулярный, офлайн, мероприятие, возвра...</td>\n",
       "      <td>[(весь, регулярный), (регулярный, офлайн), (оф...</td>\n",
       "      <td>[(весь, регулярный, офлайн), (регулярный, офла...</td>\n",
       "      <td>робот, дисциплина, соревнование, robogames, го...</td>\n",
       "    </tr>\n",
       "    <tr>\n",
       "      <th>2</th>\n",
       "      <td>Skillbox</td>\n",
       "      <td>Уходящий 2022 год был богат на новинки и событ...</td>\n",
       "      <td>уходить год богатый новинка событие запускать ...</td>\n",
       "      <td>[уходить, год, богатый, новинка, событие, запу...</td>\n",
       "      <td>[(уходить, год), (год, богатый), (богатый, нов...</td>\n",
       "      <td>[(уходить, год, богатый), (год, богатый, новин...</td>\n",
       "      <td>год, направление, программа, курс, рынок, разр...</td>\n",
       "    </tr>\n",
       "    <tr>\n",
       "      <th>3</th>\n",
       "      <td>Иннотех</td>\n",
       "      <td>Начну с небольшой предыстории и представлюсь. ...</td>\n",
       "      <td>начинать небольшой предыстория представляться ...</td>\n",
       "      <td>[начинать, небольшой, предыстория, представлят...</td>\n",
       "      <td>[(начинать, небольшой), (небольшой, предыстори...</td>\n",
       "      <td>[(начинать, небольшой, предыстория), (небольшо...</td>\n",
       "      <td>дизайнер, весь, дизайн, решение, находить, сов...</td>\n",
       "    </tr>\n",
       "    <tr>\n",
       "      <th>4</th>\n",
       "      <td>СберМаркет</td>\n",
       "      <td>Привет! Меня зовут Анна Большешапова, я продук...</td>\n",
       "      <td>привет звать анна большешаповый продуктовый ди...</td>\n",
       "      <td>[привет, звать, анна, большешаповый, продуктов...</td>\n",
       "      <td>[(привет, звать), (звать, анна), (анна, больше...</td>\n",
       "      <td>[(привет, звать, анна), (звать, анна, большеша...</td>\n",
       "      <td>text, задача, время, делать, день, проблема, н...</td>\n",
       "    </tr>\n",
       "  </tbody>\n",
       "</table>\n",
       "</div>"
      ],
      "text/plain": [
       "  TitleCompany                                           TextPost  \\\n",
       "0    Нетология   Системы, за которые нужно отвечать, есть в го...   \n",
       "1         Сбер   Не все регулярные офлайн-мероприятия возвраща...   \n",
       "2     Skillbox  Уходящий 2022 год был богат на новинки и событ...   \n",
       "3      Иннотех  Начну с небольшой предыстории и представлюсь. ...   \n",
       "4   СберМаркет  Привет! Меня зовут Анна Большешапова, я продук...   \n",
       "\n",
       "                                       TextPostLemat  \\\n",
       "0  система нужно отвечать государственный структу...   \n",
       "1  весь регулярный офлайн мероприятие возвращатьс...   \n",
       "2  уходить год богатый новинка событие запускать ...   \n",
       "3  начинать небольшой предыстория представляться ...   \n",
       "4  привет звать анна большешаповый продуктовый ди...   \n",
       "\n",
       "                                       TextPostToken  \\\n",
       "0  [система, нужно, отвечать, государственный, ст...   \n",
       "1  [весь, регулярный, офлайн, мероприятие, возвра...   \n",
       "2  [уходить, год, богатый, новинка, событие, запу...   \n",
       "3  [начинать, небольшой, предыстория, представлят...   \n",
       "4  [привет, звать, анна, большешаповый, продуктов...   \n",
       "\n",
       "                                              bigram  \\\n",
       "0  [(система, нужно), (нужно, отвечать), (отвечат...   \n",
       "1  [(весь, регулярный), (регулярный, офлайн), (оф...   \n",
       "2  [(уходить, год), (год, богатый), (богатый, нов...   \n",
       "3  [(начинать, небольшой), (небольшой, предыстори...   \n",
       "4  [(привет, звать), (звать, анна), (анна, больше...   \n",
       "\n",
       "                                             trigram  \\\n",
       "0  [(система, нужно, отвечать), (нужно, отвечать,...   \n",
       "1  [(весь, регулярный, офлайн), (регулярный, офла...   \n",
       "2  [(уходить, год, богатый), (год, богатый, новин...   \n",
       "3  [(начинать, небольшой, предыстория), (небольшо...   \n",
       "4  [(привет, звать, анна), (звать, анна, большеша...   \n",
       "\n",
       "                                             keyword  \n",
       "0  работа, инженер, системный, система, работать,...  \n",
       "1  робот, дисциплина, соревнование, robogames, го...  \n",
       "2  год, направление, программа, курс, рынок, разр...  \n",
       "3  дизайнер, весь, дизайн, решение, находить, сов...  \n",
       "4  text, задача, время, делать, день, проблема, н...  "
      ]
     },
     "execution_count": 86,
     "metadata": {},
     "output_type": "execute_result"
    }
   ],
   "source": [
    "dfHabr1.head()"
   ]
  },
  {
   "cell_type": "code",
   "execution_count": 87,
   "id": "7215f0ad",
   "metadata": {},
   "outputs": [],
   "source": [
    "# метод препроцессинга, необходимый для полной очистки всего ненужного\n",
    "def preprocess_text(data, stopwords=russian_stopwords):\n",
    "    text = re.sub('ё','е', data.lower())\n",
    "    text = text.strip()\n",
    "    text = [w for w in text.split() if w not in stopwords] \n",
    "    text = [w for w in text if len(w) >=3]\n",
    "    return ' '.join(text)"
   ]
  },
  {
   "cell_type": "code",
   "execution_count": 88,
   "id": "83ac3aa0",
   "metadata": {},
   "outputs": [],
   "source": [
    "# вызов препроцессинга и трансформация\n",
    "def transform_data(data: pd.Series) -> list:\n",
    "    result = [preprocess_text(data=i) for i in data]\n",
    "    return result"
   ]
  },
  {
   "cell_type": "code",
   "execution_count": 89,
   "id": "13ff6e6c",
   "metadata": {},
   "outputs": [],
   "source": [
    "text = dfHabr1['TextPostLemat']"
   ]
  },
  {
   "cell_type": "code",
   "execution_count": 90,
   "id": "6fb29b55",
   "metadata": {},
   "outputs": [
    {
     "name": "stdout",
     "output_type": "stream",
     "text": [
      "CPU times: total: 15.6 ms\n",
      "Wall time: 17.9 ms\n"
     ]
    }
   ],
   "source": [
    "%%time\n",
    "dfHabr2 = transform_data(text)"
   ]
  },
  {
   "cell_type": "code",
   "execution_count": 91,
   "id": "f41523f2",
   "metadata": {},
   "outputs": [
    {
     "data": {
      "text/plain": [
       "6"
      ]
     },
     "execution_count": 91,
     "metadata": {},
     "output_type": "execute_result"
    }
   ],
   "source": [
    "len(dfHabr2)"
   ]
  },
  {
   "cell_type": "markdown",
   "id": "3cbc4bfc",
   "metadata": {},
   "source": [
    "#### Векторизация текста, для дальнейшей обработки"
   ]
  },
  {
   "cell_type": "code",
   "execution_count": 92,
   "id": "d477d648",
   "metadata": {},
   "outputs": [],
   "source": [
    "vectorizer = CountVectorizer(analyzer='word', stop_words=russian_stopwords, ngram_range=(1, 3), min_df=1)\n",
    "count_matrix = vectorizer.fit_transform(dfHabr2)"
   ]
  },
  {
   "cell_type": "code",
   "execution_count": 93,
   "id": "0034057d",
   "metadata": {},
   "outputs": [
    {
     "data": {
      "text/plain": [
       "array([[ 0,  0,  0,  0,  0,  0,  0,  0,  0,  0,  0,  0,  0,  0,  0,  0,\n",
       "         0,  0,  0,  0,  0,  0,  0,  0,  0,  0,  0,  0,  0,  0,  0,  0,\n",
       "         0,  0,  0,  0,  0,  0,  0,  0,  0,  0,  0,  0,  0,  0,  0,  0,\n",
       "         0,  0,  1,  1,  1,  1,  1,  1,  1,  1,  1,  0,  0,  0,  1,  1,\n",
       "         1,  0,  0,  0,  0,  0,  0,  0,  0,  0,  0,  0,  0,  0,  0,  0,\n",
       "         1,  1,  1,  0,  0,  0,  0,  0,  0,  0,  0,  0,  0,  0,  0,  0,\n",
       "         0,  0,  0,  0,  0,  0,  0,  0,  0,  0,  0,  0,  0,  0,  0,  0,\n",
       "         0,  0,  0,  0,  0,  1,  1,  1,  0,  0,  0,  0,  0,  0,  0,  0,\n",
       "         0,  0,  0,  0,  0,  1,  1,  1,  0,  0,  0,  0,  0,  0, 10,  2,\n",
       "         1,  1,  1,  1,  1,  1,  1,  1,  1,  1,  1,  1,  1,  1,  1,  1,\n",
       "         1,  1,  0,  0,  0,  0,  0,  0,  0,  0,  0,  0,  1,  1,  1,  3,\n",
       "         3,  1,  1,  1,  1,  1,  1,  0,  0,  0,  1,  1,  1,  0,  0,  0,\n",
       "         0,  0,  0,  0,  0,  0,  0,  0],\n",
       "       [ 0,  0,  0,  0,  0,  0,  0,  0,  0,  1,  1,  1,  1,  1,  1,  0,\n",
       "         0,  0,  0,  0,  0,  0,  0,  0,  0,  0,  0,  0,  0,  0,  0,  0,\n",
       "         0,  0,  0,  0,  0,  0,  0,  0,  0,  0,  0,  0,  0,  0,  0,  0,\n",
       "         0,  0,  0,  0,  0,  0,  0,  0,  0,  0,  0,  1,  1,  1,  0,  0,\n",
       "         0,  1,  1,  1,  1,  1,  1,  1,  1,  1,  0,  0,  0,  1,  1,  1,\n",
       "         0,  0,  0,  0,  0,  0,  0,  0,  0,  0,  0,  0,  0,  0,  0,  0,\n",
       "         0,  0,  0,  0,  0,  0,  0,  0,  0,  0,  0,  0,  0,  0,  0,  0,\n",
       "         0,  0,  1,  1,  1,  0,  0,  0,  0,  0,  0,  0,  0,  0,  0,  0,\n",
       "         0,  0,  0,  0,  0,  0,  0,  0,  0,  0,  0,  0,  0,  0,  0,  0,\n",
       "         0,  0,  0,  0,  0,  0,  0,  0,  0,  0,  0,  0,  0,  0,  0,  0,\n",
       "         0,  0,  0,  0,  0,  0,  0,  0,  0,  1,  1,  1,  0,  0,  0,  0,\n",
       "         0,  0,  0,  0,  0,  0,  0,  0,  0,  0,  0,  0,  0,  1,  1,  1,\n",
       "         0,  0,  0,  0,  0,  0,  0,  0]], dtype=int64)"
      ]
     },
     "execution_count": 93,
     "metadata": {},
     "output_type": "execute_result"
    }
   ],
   "source": [
    "count_matrix.toarray()[:2,:200]"
   ]
  },
  {
   "cell_type": "code",
   "execution_count": 94,
   "id": "6e691a5a",
   "metadata": {},
   "outputs": [
    {
     "data": {
      "text/plain": [
       "(6, 11064)"
      ]
     },
     "execution_count": 94,
     "metadata": {},
     "output_type": "execute_result"
    }
   ],
   "source": [
    "count_matrix.shape"
   ]
  },
  {
   "cell_type": "code",
   "execution_count": 95,
   "id": "43e93182",
   "metadata": {},
   "outputs": [
    {
     "data": {
      "text/plain": [
       "array(['academy', 'academy проводить', 'academy проводить выступление',\n",
       "       'adobe', 'adobe illustrator', 'adobe illustrator почему',\n",
       "       'adobe illustrator рисование', 'adobe photoshop',\n",
       "       'adobe photoshop часто', 'alameda', 'alameda county',\n",
       "       'alameda county fairgrounds', 'and', 'and carry',\n",
       "       'and carry соревнование', 'animated', 'animated apitext',\n",
       "       'animated apitext библиотека', 'animated apitext изначальный',\n",
       "       'animated apitext новый', 'animated apitext ребята',\n",
       "       'animated nativeanimatedhelper',\n",
       "       'animated nativeanimatedhelper указывать', 'animated reanimated',\n",
       "       'animated reanimated посмотреть', 'animated timing',\n",
       "       'animated timing animationvalue', 'animated value',\n",
       "       'animated value currenttext', 'animated показывать',\n",
       "       'animated показывать хороший', 'animated представлять',\n",
       "       'animated представлять набор', 'animatedtext',\n",
       "       'animatedtext начинать', 'animatedtext начинать встраивать',\n",
       "       'animationvalue', 'animationvalue text',\n",
       "       'animationvalue text tovalue', 'animationvalue useref',\n",
       "       'animationvalue useref new', 'apitext', 'apitext библиотека',\n",
       "       'apitext библиотека просто', 'apitext изначальный',\n",
       "       'apitext изначальный схема', 'apitext новый',\n",
       "       'apitext новый вариант', 'apitext ребята', 'apitext ребята react'],\n",
       "      dtype=object)"
      ]
     },
     "execution_count": 95,
     "metadata": {},
     "output_type": "execute_result"
    }
   ],
   "source": [
    "vectorizer.get_feature_names_out()[:50]"
   ]
  },
  {
   "cell_type": "code",
   "execution_count": 96,
   "id": "dc40d31c",
   "metadata": {},
   "outputs": [
    {
     "data": {
      "text/plain": [
       "11064"
      ]
     },
     "execution_count": 96,
     "metadata": {},
     "output_type": "execute_result"
    }
   ],
   "source": [
    "len(vectorizer.get_feature_names_out())"
   ]
  },
  {
   "cell_type": "markdown",
   "id": "76fbbc43",
   "metadata": {},
   "source": [
    "### 2.3 Кластеризация"
   ]
  },
  {
   "cell_type": "markdown",
   "id": "9822cf9a",
   "metadata": {},
   "source": [
    "Agglomerative - это метод кластеризации, который относится к иерархической кластеризации. Он работает путем объединения каждого отдельного кластера с процессом, который повторяется до тех пор, пока все кластеры не будут объединены в один кластер. Также полезен в случаях, когда нужно разбить данные на группы на основе их сходства."
   ]
  },
  {
   "cell_type": "code",
   "execution_count": 115,
   "id": "8f3b9c85",
   "metadata": {},
   "outputs": [],
   "source": [
    "# Выбор и применение алгоритма кластеризации\n",
    "agg = AgglomerativeClustering(n_clusters=6).fit(count_matrix.toarray())"
   ]
  },
  {
   "cell_type": "code",
   "execution_count": 116,
   "id": "9d3decba",
   "metadata": {},
   "outputs": [],
   "source": [
    "# Получение меток кластеров\n",
    "labelsAgglomerative = agg.labels_\n",
    "clusters1 = agg.labels_.tolist()"
   ]
  },
  {
   "cell_type": "code",
   "execution_count": 117,
   "id": "0bd040cb",
   "metadata": {},
   "outputs": [
    {
     "data": {
      "text/plain": [
       "array([3, 5, 4, 1, 2, 0], dtype=int64)"
      ]
     },
     "execution_count": 117,
     "metadata": {},
     "output_type": "execute_result"
    }
   ],
   "source": [
    "agg.labels_"
   ]
  },
  {
   "cell_type": "code",
   "execution_count": 118,
   "id": "cd06c8d3",
   "metadata": {},
   "outputs": [],
   "source": [
    "dfHabr1['clustersAgglomerative'] = clusters1"
   ]
  },
  {
   "cell_type": "markdown",
   "id": "c0fa2f65",
   "metadata": {},
   "source": [
    "Kmeans - это метод кластеризации, который относится к семейству неконтролируемого обучения. Он используется для разбиения данных на группы на основе их сходства. Алгоритм начинается с выбора случайных центров кластеров, затем каждая точка данных присваивается к ближайшему центру кластера. Затем центры кластеров пересчитываются на основе точек данных, которые были присвоены кластеру, и процесс повторяется до тех пор, пока центры кластеров не стабилизируются. Также полезен в случаях, когда нужно разбить данные на группы на основе их сходства. "
   ]
  },
  {
   "cell_type": "code",
   "execution_count": 121,
   "id": "84a39abf",
   "metadata": {},
   "outputs": [
    {
     "name": "stderr",
     "output_type": "stream",
     "text": [
      "C:\\ProgramData\\anaconda3\\lib\\site-packages\\sklearn\\cluster\\_kmeans.py:870: FutureWarning: The default value of `n_init` will change from 10 to 'auto' in 1.4. Set the value of `n_init` explicitly to suppress the warning\n",
      "  warnings.warn(\n",
      "C:\\ProgramData\\anaconda3\\lib\\site-packages\\sklearn\\cluster\\_kmeans.py:1382: UserWarning: KMeans is known to have a memory leak on Windows with MKL, when there are less chunks than available threads. You can avoid it by setting the environment variable OMP_NUM_THREADS=1.\n",
      "  warnings.warn(\n"
     ]
    }
   ],
   "source": [
    "# Метод к-средних - KMeans\n",
    "km = KMeans(n_clusters=6).fit(count_matrix.toarray())"
   ]
  },
  {
   "cell_type": "code",
   "execution_count": 122,
   "id": "e37af8e2",
   "metadata": {},
   "outputs": [],
   "source": [
    "labelsKmeans = km.labels_\n",
    "clusters2 = km.labels_.tolist()"
   ]
  },
  {
   "cell_type": "code",
   "execution_count": 123,
   "id": "af7720b5",
   "metadata": {},
   "outputs": [],
   "source": [
    "dfHabr1['clustersKmeans'] = clusters2"
   ]
  },
  {
   "cell_type": "markdown",
   "id": "d7dbe134",
   "metadata": {},
   "source": [
    "Spectral - это метод кластеризации, который использует линейную алгебру для разбиения данных на группы на основе их сходства. Он преобразует данные в новое пространство признаков, где они могут быть более легко разделены на группы. Затем он использует методы кластеризации, такие как K-means, для разбиения данных на группы. Spectral может быть полезен в случаях, когда нужно разбить данные на группы на основе их сходства, но данные не могут быть разделены на группы в исходном пространстве признаков. "
   ]
  },
  {
   "cell_type": "code",
   "execution_count": 125,
   "id": "ff4c9d53",
   "metadata": {},
   "outputs": [
    {
     "name": "stderr",
     "output_type": "stream",
     "text": [
      "C:\\ProgramData\\anaconda3\\lib\\site-packages\\sklearn\\manifold\\_spectral_embedding.py:274: UserWarning: Graph is not fully connected, spectral embedding may not work as expected.\n",
      "  warnings.warn(\n",
      "C:\\ProgramData\\anaconda3\\lib\\site-packages\\scipy\\sparse\\linalg\\_eigen\\arpack\\arpack.py:1600: RuntimeWarning: k >= N for N * N square matrix. Attempting to use scipy.linalg.eigh instead.\n",
      "  warnings.warn(\"k >= N for N * N square matrix. \"\n",
      "C:\\ProgramData\\anaconda3\\lib\\site-packages\\sklearn\\cluster\\_kmeans.py:1382: UserWarning: KMeans is known to have a memory leak on Windows with MKL, when there are less chunks than available threads. You can avoid it by setting the environment variable OMP_NUM_THREADS=1.\n",
      "  warnings.warn(\n"
     ]
    }
   ],
   "source": [
    "# Создание модели DBSCAN\n",
    "spectral = SpectralClustering(n_clusters=6).fit(count_matrix.toarray())"
   ]
  },
  {
   "cell_type": "code",
   "execution_count": 126,
   "id": "44213a3b",
   "metadata": {},
   "outputs": [],
   "source": [
    "labelsSpectral = spectral.labels_\n",
    "clusters3 = spectral.labels_.tolist()"
   ]
  },
  {
   "cell_type": "code",
   "execution_count": 127,
   "id": "84315f3f",
   "metadata": {},
   "outputs": [],
   "source": [
    "dfHabr1['clustersSpectral'] = clusters3"
   ]
  },
  {
   "cell_type": "code",
   "execution_count": 128,
   "id": "65ebac19",
   "metadata": {},
   "outputs": [
    {
     "name": "stdout",
     "output_type": "stream",
     "text": [
      "[0 1 3 5 2 4]\n"
     ]
    }
   ],
   "source": [
    "print(labelsSpectral)"
   ]
  },
  {
   "cell_type": "code",
   "execution_count": 129,
   "id": "18232dbb",
   "metadata": {},
   "outputs": [
    {
     "name": "stdout",
     "output_type": "stream",
     "text": [
      "[1 2 5 0 3 4]\n"
     ]
    }
   ],
   "source": [
    "print(labelsKmeans)"
   ]
  },
  {
   "cell_type": "code",
   "execution_count": 130,
   "id": "f107a596",
   "metadata": {
    "scrolled": true
   },
   "outputs": [
    {
     "name": "stdout",
     "output_type": "stream",
     "text": [
      "[3 5 4 1 2 0]\n"
     ]
    }
   ],
   "source": [
    "print(labelsAgglomerative)"
   ]
  },
  {
   "cell_type": "code",
   "execution_count": 131,
   "id": "dc3319bc",
   "metadata": {},
   "outputs": [
    {
     "data": {
      "text/html": [
       "<div>\n",
       "<style scoped>\n",
       "    .dataframe tbody tr th:only-of-type {\n",
       "        vertical-align: middle;\n",
       "    }\n",
       "\n",
       "    .dataframe tbody tr th {\n",
       "        vertical-align: top;\n",
       "    }\n",
       "\n",
       "    .dataframe thead th {\n",
       "        text-align: right;\n",
       "    }\n",
       "</style>\n",
       "<table border=\"1\" class=\"dataframe\">\n",
       "  <thead>\n",
       "    <tr style=\"text-align: right;\">\n",
       "      <th></th>\n",
       "      <th>TitleCompany</th>\n",
       "      <th>TextPost</th>\n",
       "      <th>TextPostLemat</th>\n",
       "      <th>TextPostToken</th>\n",
       "      <th>bigram</th>\n",
       "      <th>trigram</th>\n",
       "      <th>keyword</th>\n",
       "      <th>clustersAgglomerative</th>\n",
       "      <th>clustersKmeans</th>\n",
       "      <th>clustersSpectral</th>\n",
       "    </tr>\n",
       "  </thead>\n",
       "  <tbody>\n",
       "    <tr>\n",
       "      <th>0</th>\n",
       "      <td>Нетология</td>\n",
       "      <td>Системы, за которые нужно отвечать, есть в го...</td>\n",
       "      <td>система нужно отвечать государственный структу...</td>\n",
       "      <td>[система, нужно, отвечать, государственный, ст...</td>\n",
       "      <td>[(система, нужно), (нужно, отвечать), (отвечат...</td>\n",
       "      <td>[(система, нужно, отвечать), (нужно, отвечать,...</td>\n",
       "      <td>работа, инженер, системный, система, работать,...</td>\n",
       "      <td>3</td>\n",
       "      <td>1</td>\n",
       "      <td>0</td>\n",
       "    </tr>\n",
       "    <tr>\n",
       "      <th>1</th>\n",
       "      <td>Сбер</td>\n",
       "      <td>Не все регулярные офлайн-мероприятия возвраща...</td>\n",
       "      <td>весь регулярный офлайн мероприятие возвращатьс...</td>\n",
       "      <td>[весь, регулярный, офлайн, мероприятие, возвра...</td>\n",
       "      <td>[(весь, регулярный), (регулярный, офлайн), (оф...</td>\n",
       "      <td>[(весь, регулярный, офлайн), (регулярный, офла...</td>\n",
       "      <td>робот, дисциплина, соревнование, robogames, го...</td>\n",
       "      <td>5</td>\n",
       "      <td>2</td>\n",
       "      <td>1</td>\n",
       "    </tr>\n",
       "    <tr>\n",
       "      <th>2</th>\n",
       "      <td>Skillbox</td>\n",
       "      <td>Уходящий 2022 год был богат на новинки и событ...</td>\n",
       "      <td>уходить год богатый новинка событие запускать ...</td>\n",
       "      <td>[уходить, год, богатый, новинка, событие, запу...</td>\n",
       "      <td>[(уходить, год), (год, богатый), (богатый, нов...</td>\n",
       "      <td>[(уходить, год, богатый), (год, богатый, новин...</td>\n",
       "      <td>год, направление, программа, курс, рынок, разр...</td>\n",
       "      <td>4</td>\n",
       "      <td>5</td>\n",
       "      <td>3</td>\n",
       "    </tr>\n",
       "    <tr>\n",
       "      <th>3</th>\n",
       "      <td>Иннотех</td>\n",
       "      <td>Начну с небольшой предыстории и представлюсь. ...</td>\n",
       "      <td>начинать небольшой предыстория представляться ...</td>\n",
       "      <td>[начинать, небольшой, предыстория, представлят...</td>\n",
       "      <td>[(начинать, небольшой), (небольшой, предыстори...</td>\n",
       "      <td>[(начинать, небольшой, предыстория), (небольшо...</td>\n",
       "      <td>дизайнер, весь, дизайн, решение, находить, сов...</td>\n",
       "      <td>1</td>\n",
       "      <td>0</td>\n",
       "      <td>5</td>\n",
       "    </tr>\n",
       "    <tr>\n",
       "      <th>4</th>\n",
       "      <td>СберМаркет</td>\n",
       "      <td>Привет! Меня зовут Анна Большешапова, я продук...</td>\n",
       "      <td>привет звать анна большешаповый продуктовый ди...</td>\n",
       "      <td>[привет, звать, анна, большешаповый, продуктов...</td>\n",
       "      <td>[(привет, звать), (звать, анна), (анна, больше...</td>\n",
       "      <td>[(привет, звать, анна), (звать, анна, большеша...</td>\n",
       "      <td>text, задача, время, делать, день, проблема, н...</td>\n",
       "      <td>2</td>\n",
       "      <td>3</td>\n",
       "      <td>2</td>\n",
       "    </tr>\n",
       "  </tbody>\n",
       "</table>\n",
       "</div>"
      ],
      "text/plain": [
       "  TitleCompany                                           TextPost  \\\n",
       "0    Нетология   Системы, за которые нужно отвечать, есть в го...   \n",
       "1         Сбер   Не все регулярные офлайн-мероприятия возвраща...   \n",
       "2     Skillbox  Уходящий 2022 год был богат на новинки и событ...   \n",
       "3      Иннотех  Начну с небольшой предыстории и представлюсь. ...   \n",
       "4   СберМаркет  Привет! Меня зовут Анна Большешапова, я продук...   \n",
       "\n",
       "                                       TextPostLemat  \\\n",
       "0  система нужно отвечать государственный структу...   \n",
       "1  весь регулярный офлайн мероприятие возвращатьс...   \n",
       "2  уходить год богатый новинка событие запускать ...   \n",
       "3  начинать небольшой предыстория представляться ...   \n",
       "4  привет звать анна большешаповый продуктовый ди...   \n",
       "\n",
       "                                       TextPostToken  \\\n",
       "0  [система, нужно, отвечать, государственный, ст...   \n",
       "1  [весь, регулярный, офлайн, мероприятие, возвра...   \n",
       "2  [уходить, год, богатый, новинка, событие, запу...   \n",
       "3  [начинать, небольшой, предыстория, представлят...   \n",
       "4  [привет, звать, анна, большешаповый, продуктов...   \n",
       "\n",
       "                                              bigram  \\\n",
       "0  [(система, нужно), (нужно, отвечать), (отвечат...   \n",
       "1  [(весь, регулярный), (регулярный, офлайн), (оф...   \n",
       "2  [(уходить, год), (год, богатый), (богатый, нов...   \n",
       "3  [(начинать, небольшой), (небольшой, предыстори...   \n",
       "4  [(привет, звать), (звать, анна), (анна, больше...   \n",
       "\n",
       "                                             trigram  \\\n",
       "0  [(система, нужно, отвечать), (нужно, отвечать,...   \n",
       "1  [(весь, регулярный, офлайн), (регулярный, офла...   \n",
       "2  [(уходить, год, богатый), (год, богатый, новин...   \n",
       "3  [(начинать, небольшой, предыстория), (небольшо...   \n",
       "4  [(привет, звать, анна), (звать, анна, большеша...   \n",
       "\n",
       "                                             keyword  clustersAgglomerative  \\\n",
       "0  работа, инженер, системный, система, работать,...                      3   \n",
       "1  робот, дисциплина, соревнование, robogames, го...                      5   \n",
       "2  год, направление, программа, курс, рынок, разр...                      4   \n",
       "3  дизайнер, весь, дизайн, решение, находить, сов...                      1   \n",
       "4  text, задача, время, делать, день, проблема, н...                      2   \n",
       "\n",
       "   clustersKmeans  clustersSpectral  \n",
       "0               1                 0  \n",
       "1               2                 1  \n",
       "2               5                 3  \n",
       "3               0                 5  \n",
       "4               3                 2  "
      ]
     },
     "execution_count": 131,
     "metadata": {},
     "output_type": "execute_result"
    }
   ],
   "source": [
    "dfHabr1.head()"
   ]
  },
  {
   "cell_type": "markdown",
   "id": "ecf885d1",
   "metadata": {},
   "source": [
    "#### Визуализация распределения кластеров"
   ]
  },
  {
   "cell_type": "code",
   "execution_count": 133,
   "id": "9eb3d4b8",
   "metadata": {},
   "outputs": [
    {
     "data": {
      "image/png": "[encoded data removed]",
      "text/plain": [
       "<Figure size 640x480 with 1 Axes>"
      ]
     },
     "metadata": {},
     "output_type": "display_data"
    }
   ],
   "source": [
    "# визуализация распределения кластеров Kmeans\n",
    "cluster_counts = dfHabr1['clustersKmeans'].value_counts()\n",
    "plt.pie(cluster_counts.values, labels=cluster_counts.index, autopct='%1.1f%%')\n",
    "plt.show()"
   ]
  },
  {
   "cell_type": "code",
   "execution_count": 134,
   "id": "2b9900e9",
   "metadata": {},
   "outputs": [
    {
     "data": {
      "image/png": "[encoded data removed]",
      "text/plain": [
       "<Figure size 640x480 with 1 Axes>"
      ]
     },
     "metadata": {},
     "output_type": "display_data"
    }
   ],
   "source": [
    "# визуализация распределения кластеров Spectral\n",
    "cluster_counts = dfHabr1['clustersSpectral'].value_counts()\n",
    "plt.pie(cluster_counts.values, labels=cluster_counts.index, autopct='%1.1f%%')\n",
    "plt.show()"
   ]
  },
  {
   "cell_type": "code",
   "execution_count": 186,
   "id": "f00a541c",
   "metadata": {},
   "outputs": [
    {
     "data": {
      "image/png": "[encoded data removed]",
      "text/plain": [
       "<Figure size 640x480 with 1 Axes>"
      ]
     },
     "metadata": {},
     "output_type": "display_data"
    }
   ],
   "source": [
    "# визуализация распределения кластеров Agglomerative\n",
    "cluster_counts = dfHabr1['clustersAgglomerative'].value_counts()\n",
    "plt.pie(cluster_counts.values, labels=cluster_counts.index, autopct='%1.1f%%')\n",
    "plt.show()"
   ]
  },
  {
   "cell_type": "markdown",
   "id": "1b231271",
   "metadata": {},
   "source": [
    "#### Оценка качества кластеризации"
   ]
  },
  {
   "cell_type": "code",
   "execution_count": 137,
   "id": "7835c620",
   "metadata": {},
   "outputs": [],
   "source": [
    "a = (dfHabr1['clustersKmeans'] - dfHabr1['clustersKmeans'].mean()) / dfHabr1['clustersKmeans'].std()\n",
    "a1 = (dfHabr1['clustersAgglomerative'] - dfHabr1['clustersAgglomerative'].mean()) / dfHabr1['clustersAgglomerative'].std()\n",
    "a2 = (dfHabr1['clustersSpectral'] - dfHabr1['clustersSpectral'].mean()) / dfHabr1['clustersSpectral'].std()"
   ]
  },
  {
   "cell_type": "code",
   "execution_count": 138,
   "id": "26c7779a",
   "metadata": {},
   "outputs": [],
   "source": [
    "data_norm_kmeans = a.values.reshape(-1, 1)\n",
    "data_norm_agg = a1.values.reshape(-1, 1)\n",
    "data_norm_spec = a2.values.reshape(-1, 1)"
   ]
  },
  {
   "cell_type": "code",
   "execution_count": 142,
   "id": "1dc597c7",
   "metadata": {},
   "outputs": [
    {
     "ename": "ValueError",
     "evalue": "Number of labels is 6. Valid values are 2 to n_samples - 1 (inclusive)",
     "output_type": "error",
     "traceback": [
      "\u001b[1;31m---------------------------------------------------------------------------\u001b[0m",
      "\u001b[1;31mValueError\u001b[0m                                Traceback (most recent call last)",
      "Cell \u001b[1;32mIn[142], line 2\u001b[0m\n\u001b[0;32m      1\u001b[0m \u001b[38;5;66;03m# оценка качества кластеризации с помощью индекса силуэта\u001b[39;00m\n\u001b[1;32m----> 2\u001b[0m silhouette_avg \u001b[38;5;241m=\u001b[39m \u001b[43msilhouette_score\u001b[49m\u001b[43m(\u001b[49m\u001b[43mdata_norm_kmeans\u001b[49m\u001b[43m,\u001b[49m\u001b[43m \u001b[49m\u001b[43mkm\u001b[49m\u001b[38;5;241;43m.\u001b[39;49m\u001b[43mlabels_\u001b[49m\u001b[43m)\u001b[49m\n\u001b[0;32m      3\u001b[0m \u001b[38;5;28mprint\u001b[39m(\u001b[38;5;124m\"\u001b[39m\u001b[38;5;124mSilhouette  score:\u001b[39m\u001b[38;5;124m\"\u001b[39m, silhouette_avg)\n",
      "File \u001b[1;32mC:\\ProgramData\\anaconda3\\lib\\site-packages\\sklearn\\metrics\\cluster\\_unsupervised.py:117\u001b[0m, in \u001b[0;36msilhouette_score\u001b[1;34m(X, labels, metric, sample_size, random_state, **kwds)\u001b[0m\n\u001b[0;32m    115\u001b[0m     \u001b[38;5;28;01melse\u001b[39;00m:\n\u001b[0;32m    116\u001b[0m         X, labels \u001b[38;5;241m=\u001b[39m X[indices], labels[indices]\n\u001b[1;32m--> 117\u001b[0m \u001b[38;5;28;01mreturn\u001b[39;00m np\u001b[38;5;241m.\u001b[39mmean(silhouette_samples(X, labels, metric\u001b[38;5;241m=\u001b[39mmetric, \u001b[38;5;241m*\u001b[39m\u001b[38;5;241m*\u001b[39mkwds))\n",
      "File \u001b[1;32mC:\\ProgramData\\anaconda3\\lib\\site-packages\\sklearn\\metrics\\cluster\\_unsupervised.py:231\u001b[0m, in \u001b[0;36msilhouette_samples\u001b[1;34m(X, labels, metric, **kwds)\u001b[0m\n\u001b[0;32m    229\u001b[0m n_samples \u001b[38;5;241m=\u001b[39m \u001b[38;5;28mlen\u001b[39m(labels)\n\u001b[0;32m    230\u001b[0m label_freqs \u001b[38;5;241m=\u001b[39m np\u001b[38;5;241m.\u001b[39mbincount(labels)\n\u001b[1;32m--> 231\u001b[0m \u001b[43mcheck_number_of_labels\u001b[49m\u001b[43m(\u001b[49m\u001b[38;5;28;43mlen\u001b[39;49m\u001b[43m(\u001b[49m\u001b[43mle\u001b[49m\u001b[38;5;241;43m.\u001b[39;49m\u001b[43mclasses_\u001b[49m\u001b[43m)\u001b[49m\u001b[43m,\u001b[49m\u001b[43m \u001b[49m\u001b[43mn_samples\u001b[49m\u001b[43m)\u001b[49m\n\u001b[0;32m    233\u001b[0m kwds[\u001b[38;5;124m\"\u001b[39m\u001b[38;5;124mmetric\u001b[39m\u001b[38;5;124m\"\u001b[39m] \u001b[38;5;241m=\u001b[39m metric\n\u001b[0;32m    234\u001b[0m reduce_func \u001b[38;5;241m=\u001b[39m functools\u001b[38;5;241m.\u001b[39mpartial(\n\u001b[0;32m    235\u001b[0m     _silhouette_reduce, labels\u001b[38;5;241m=\u001b[39mlabels, label_freqs\u001b[38;5;241m=\u001b[39mlabel_freqs\n\u001b[0;32m    236\u001b[0m )\n",
      "File \u001b[1;32mC:\\ProgramData\\anaconda3\\lib\\site-packages\\sklearn\\metrics\\cluster\\_unsupervised.py:33\u001b[0m, in \u001b[0;36mcheck_number_of_labels\u001b[1;34m(n_labels, n_samples)\u001b[0m\n\u001b[0;32m     22\u001b[0m \u001b[38;5;124;03m\"\"\"Check that number of labels are valid.\u001b[39;00m\n\u001b[0;32m     23\u001b[0m \n\u001b[0;32m     24\u001b[0m \u001b[38;5;124;03mParameters\u001b[39;00m\n\u001b[1;32m   (...)\u001b[0m\n\u001b[0;32m     30\u001b[0m \u001b[38;5;124;03m    Number of samples.\u001b[39;00m\n\u001b[0;32m     31\u001b[0m \u001b[38;5;124;03m\"\"\"\u001b[39;00m\n\u001b[0;32m     32\u001b[0m \u001b[38;5;28;01mif\u001b[39;00m \u001b[38;5;129;01mnot\u001b[39;00m \u001b[38;5;241m1\u001b[39m \u001b[38;5;241m<\u001b[39m n_labels \u001b[38;5;241m<\u001b[39m n_samples:\n\u001b[1;32m---> 33\u001b[0m     \u001b[38;5;28;01mraise\u001b[39;00m \u001b[38;5;167;01mValueError\u001b[39;00m(\n\u001b[0;32m     34\u001b[0m         \u001b[38;5;124m\"\u001b[39m\u001b[38;5;124mNumber of labels is \u001b[39m\u001b[38;5;132;01m%d\u001b[39;00m\u001b[38;5;124m. Valid values are 2 to n_samples - 1 (inclusive)\u001b[39m\u001b[38;5;124m\"\u001b[39m\n\u001b[0;32m     35\u001b[0m         \u001b[38;5;241m%\u001b[39m n_labels\n\u001b[0;32m     36\u001b[0m     )\n",
      "\u001b[1;31mValueError\u001b[0m: Number of labels is 6. Valid values are 2 to n_samples - 1 (inclusive)"
     ]
    }
   ],
   "source": [
    "# оценка качества кластеризации с помощью индекса силуэта\n",
    "silhouette_avg = silhouette_score(data_norm_kmeans, km.labels_)\n",
    "print(\"Silhouette  score:\", silhouette_avg)"
   ]
  },
  {
   "cell_type": "code",
   "execution_count": 140,
   "id": "111f992a",
   "metadata": {},
   "outputs": [
    {
     "ename": "ValueError",
     "evalue": "Number of labels is 6. Valid values are 2 to n_samples - 1 (inclusive)",
     "output_type": "error",
     "traceback": [
      "\u001b[1;31m---------------------------------------------------------------------------\u001b[0m",
      "\u001b[1;31mValueError\u001b[0m                                Traceback (most recent call last)",
      "Cell \u001b[1;32mIn[140], line 2\u001b[0m\n\u001b[0;32m      1\u001b[0m \u001b[38;5;66;03m# оценка качества кластеризации с помощью индекса силуэта\u001b[39;00m\n\u001b[1;32m----> 2\u001b[0m silhouette_avg \u001b[38;5;241m=\u001b[39m \u001b[43msilhouette_score\u001b[49m\u001b[43m(\u001b[49m\u001b[43mdata_norm_agg\u001b[49m\u001b[43m,\u001b[49m\u001b[43m \u001b[49m\u001b[43magg\u001b[49m\u001b[38;5;241;43m.\u001b[39;49m\u001b[43mlabels_\u001b[49m\u001b[43m)\u001b[49m\n\u001b[0;32m      3\u001b[0m \u001b[38;5;28mprint\u001b[39m(\u001b[38;5;124m\"\u001b[39m\u001b[38;5;124mSilhouette  score:\u001b[39m\u001b[38;5;124m\"\u001b[39m, silhouette_avg)\n",
      "File \u001b[1;32mC:\\ProgramData\\anaconda3\\lib\\site-packages\\sklearn\\metrics\\cluster\\_unsupervised.py:117\u001b[0m, in \u001b[0;36msilhouette_score\u001b[1;34m(X, labels, metric, sample_size, random_state, **kwds)\u001b[0m\n\u001b[0;32m    115\u001b[0m     \u001b[38;5;28;01melse\u001b[39;00m:\n\u001b[0;32m    116\u001b[0m         X, labels \u001b[38;5;241m=\u001b[39m X[indices], labels[indices]\n\u001b[1;32m--> 117\u001b[0m \u001b[38;5;28;01mreturn\u001b[39;00m np\u001b[38;5;241m.\u001b[39mmean(silhouette_samples(X, labels, metric\u001b[38;5;241m=\u001b[39mmetric, \u001b[38;5;241m*\u001b[39m\u001b[38;5;241m*\u001b[39mkwds))\n",
      "File \u001b[1;32mC:\\ProgramData\\anaconda3\\lib\\site-packages\\sklearn\\metrics\\cluster\\_unsupervised.py:231\u001b[0m, in \u001b[0;36msilhouette_samples\u001b[1;34m(X, labels, metric, **kwds)\u001b[0m\n\u001b[0;32m    229\u001b[0m n_samples \u001b[38;5;241m=\u001b[39m \u001b[38;5;28mlen\u001b[39m(labels)\n\u001b[0;32m    230\u001b[0m label_freqs \u001b[38;5;241m=\u001b[39m np\u001b[38;5;241m.\u001b[39mbincount(labels)\n\u001b[1;32m--> 231\u001b[0m \u001b[43mcheck_number_of_labels\u001b[49m\u001b[43m(\u001b[49m\u001b[38;5;28;43mlen\u001b[39;49m\u001b[43m(\u001b[49m\u001b[43mle\u001b[49m\u001b[38;5;241;43m.\u001b[39;49m\u001b[43mclasses_\u001b[49m\u001b[43m)\u001b[49m\u001b[43m,\u001b[49m\u001b[43m \u001b[49m\u001b[43mn_samples\u001b[49m\u001b[43m)\u001b[49m\n\u001b[0;32m    233\u001b[0m kwds[\u001b[38;5;124m\"\u001b[39m\u001b[38;5;124mmetric\u001b[39m\u001b[38;5;124m\"\u001b[39m] \u001b[38;5;241m=\u001b[39m metric\n\u001b[0;32m    234\u001b[0m reduce_func \u001b[38;5;241m=\u001b[39m functools\u001b[38;5;241m.\u001b[39mpartial(\n\u001b[0;32m    235\u001b[0m     _silhouette_reduce, labels\u001b[38;5;241m=\u001b[39mlabels, label_freqs\u001b[38;5;241m=\u001b[39mlabel_freqs\n\u001b[0;32m    236\u001b[0m )\n",
      "File \u001b[1;32mC:\\ProgramData\\anaconda3\\lib\\site-packages\\sklearn\\metrics\\cluster\\_unsupervised.py:33\u001b[0m, in \u001b[0;36mcheck_number_of_labels\u001b[1;34m(n_labels, n_samples)\u001b[0m\n\u001b[0;32m     22\u001b[0m \u001b[38;5;124;03m\"\"\"Check that number of labels are valid.\u001b[39;00m\n\u001b[0;32m     23\u001b[0m \n\u001b[0;32m     24\u001b[0m \u001b[38;5;124;03mParameters\u001b[39;00m\n\u001b[1;32m   (...)\u001b[0m\n\u001b[0;32m     30\u001b[0m \u001b[38;5;124;03m    Number of samples.\u001b[39;00m\n\u001b[0;32m     31\u001b[0m \u001b[38;5;124;03m\"\"\"\u001b[39;00m\n\u001b[0;32m     32\u001b[0m \u001b[38;5;28;01mif\u001b[39;00m \u001b[38;5;129;01mnot\u001b[39;00m \u001b[38;5;241m1\u001b[39m \u001b[38;5;241m<\u001b[39m n_labels \u001b[38;5;241m<\u001b[39m n_samples:\n\u001b[1;32m---> 33\u001b[0m     \u001b[38;5;28;01mraise\u001b[39;00m \u001b[38;5;167;01mValueError\u001b[39;00m(\n\u001b[0;32m     34\u001b[0m         \u001b[38;5;124m\"\u001b[39m\u001b[38;5;124mNumber of labels is \u001b[39m\u001b[38;5;132;01m%d\u001b[39;00m\u001b[38;5;124m. Valid values are 2 to n_samples - 1 (inclusive)\u001b[39m\u001b[38;5;124m\"\u001b[39m\n\u001b[0;32m     35\u001b[0m         \u001b[38;5;241m%\u001b[39m n_labels\n\u001b[0;32m     36\u001b[0m     )\n",
      "\u001b[1;31mValueError\u001b[0m: Number of labels is 6. Valid values are 2 to n_samples - 1 (inclusive)"
     ]
    }
   ],
   "source": [
    "# оценка качества кластеризации с помощью индекса силуэта\n",
    "silhouette_avg = silhouette_score(data_norm_agg, agg.labels_)\n",
    "print(\"Silhouette  score:\", silhouette_avg)"
   ]
  },
  {
   "cell_type": "code",
   "execution_count": 141,
   "id": "ef204066",
   "metadata": {},
   "outputs": [
    {
     "ename": "ValueError",
     "evalue": "Number of labels is 6. Valid values are 2 to n_samples - 1 (inclusive)",
     "output_type": "error",
     "traceback": [
      "\u001b[1;31m---------------------------------------------------------------------------\u001b[0m",
      "\u001b[1;31mValueError\u001b[0m                                Traceback (most recent call last)",
      "Cell \u001b[1;32mIn[141], line 2\u001b[0m\n\u001b[0;32m      1\u001b[0m \u001b[38;5;66;03m# оценка качества кластеризации с помощью индекса силуэта\u001b[39;00m\n\u001b[1;32m----> 2\u001b[0m silhouette_avg \u001b[38;5;241m=\u001b[39m \u001b[43msilhouette_score\u001b[49m\u001b[43m(\u001b[49m\u001b[43mdata_norm_spec\u001b[49m\u001b[43m,\u001b[49m\u001b[43m \u001b[49m\u001b[43mspectral\u001b[49m\u001b[38;5;241;43m.\u001b[39;49m\u001b[43mlabels_\u001b[49m\u001b[43m)\u001b[49m\n\u001b[0;32m      3\u001b[0m \u001b[38;5;28mprint\u001b[39m(\u001b[38;5;124m\"\u001b[39m\u001b[38;5;124mSilhouette  score:\u001b[39m\u001b[38;5;124m\"\u001b[39m, silhouette_avg)\n",
      "File \u001b[1;32mC:\\ProgramData\\anaconda3\\lib\\site-packages\\sklearn\\metrics\\cluster\\_unsupervised.py:117\u001b[0m, in \u001b[0;36msilhouette_score\u001b[1;34m(X, labels, metric, sample_size, random_state, **kwds)\u001b[0m\n\u001b[0;32m    115\u001b[0m     \u001b[38;5;28;01melse\u001b[39;00m:\n\u001b[0;32m    116\u001b[0m         X, labels \u001b[38;5;241m=\u001b[39m X[indices], labels[indices]\n\u001b[1;32m--> 117\u001b[0m \u001b[38;5;28;01mreturn\u001b[39;00m np\u001b[38;5;241m.\u001b[39mmean(silhouette_samples(X, labels, metric\u001b[38;5;241m=\u001b[39mmetric, \u001b[38;5;241m*\u001b[39m\u001b[38;5;241m*\u001b[39mkwds))\n",
      "File \u001b[1;32mC:\\ProgramData\\anaconda3\\lib\\site-packages\\sklearn\\metrics\\cluster\\_unsupervised.py:231\u001b[0m, in \u001b[0;36msilhouette_samples\u001b[1;34m(X, labels, metric, **kwds)\u001b[0m\n\u001b[0;32m    229\u001b[0m n_samples \u001b[38;5;241m=\u001b[39m \u001b[38;5;28mlen\u001b[39m(labels)\n\u001b[0;32m    230\u001b[0m label_freqs \u001b[38;5;241m=\u001b[39m np\u001b[38;5;241m.\u001b[39mbincount(labels)\n\u001b[1;32m--> 231\u001b[0m \u001b[43mcheck_number_of_labels\u001b[49m\u001b[43m(\u001b[49m\u001b[38;5;28;43mlen\u001b[39;49m\u001b[43m(\u001b[49m\u001b[43mle\u001b[49m\u001b[38;5;241;43m.\u001b[39;49m\u001b[43mclasses_\u001b[49m\u001b[43m)\u001b[49m\u001b[43m,\u001b[49m\u001b[43m \u001b[49m\u001b[43mn_samples\u001b[49m\u001b[43m)\u001b[49m\n\u001b[0;32m    233\u001b[0m kwds[\u001b[38;5;124m\"\u001b[39m\u001b[38;5;124mmetric\u001b[39m\u001b[38;5;124m\"\u001b[39m] \u001b[38;5;241m=\u001b[39m metric\n\u001b[0;32m    234\u001b[0m reduce_func \u001b[38;5;241m=\u001b[39m functools\u001b[38;5;241m.\u001b[39mpartial(\n\u001b[0;32m    235\u001b[0m     _silhouette_reduce, labels\u001b[38;5;241m=\u001b[39mlabels, label_freqs\u001b[38;5;241m=\u001b[39mlabel_freqs\n\u001b[0;32m    236\u001b[0m )\n",
      "File \u001b[1;32mC:\\ProgramData\\anaconda3\\lib\\site-packages\\sklearn\\metrics\\cluster\\_unsupervised.py:33\u001b[0m, in \u001b[0;36mcheck_number_of_labels\u001b[1;34m(n_labels, n_samples)\u001b[0m\n\u001b[0;32m     22\u001b[0m \u001b[38;5;124;03m\"\"\"Check that number of labels are valid.\u001b[39;00m\n\u001b[0;32m     23\u001b[0m \n\u001b[0;32m     24\u001b[0m \u001b[38;5;124;03mParameters\u001b[39;00m\n\u001b[1;32m   (...)\u001b[0m\n\u001b[0;32m     30\u001b[0m \u001b[38;5;124;03m    Number of samples.\u001b[39;00m\n\u001b[0;32m     31\u001b[0m \u001b[38;5;124;03m\"\"\"\u001b[39;00m\n\u001b[0;32m     32\u001b[0m \u001b[38;5;28;01mif\u001b[39;00m \u001b[38;5;129;01mnot\u001b[39;00m \u001b[38;5;241m1\u001b[39m \u001b[38;5;241m<\u001b[39m n_labels \u001b[38;5;241m<\u001b[39m n_samples:\n\u001b[1;32m---> 33\u001b[0m     \u001b[38;5;28;01mraise\u001b[39;00m \u001b[38;5;167;01mValueError\u001b[39;00m(\n\u001b[0;32m     34\u001b[0m         \u001b[38;5;124m\"\u001b[39m\u001b[38;5;124mNumber of labels is \u001b[39m\u001b[38;5;132;01m%d\u001b[39;00m\u001b[38;5;124m. Valid values are 2 to n_samples - 1 (inclusive)\u001b[39m\u001b[38;5;124m\"\u001b[39m\n\u001b[0;32m     35\u001b[0m         \u001b[38;5;241m%\u001b[39m n_labels\n\u001b[0;32m     36\u001b[0m     )\n",
      "\u001b[1;31mValueError\u001b[0m: Number of labels is 6. Valid values are 2 to n_samples - 1 (inclusive)"
     ]
    }
   ],
   "source": [
    "# оценка качества кластеризации с помощью индекса силуэта\n",
    "silhouette_avg = silhouette_score(data_norm_spec, spectral.labels_)\n",
    "print(\"Silhouette  score:\", silhouette_avg)"
   ]
  },
  {
   "cell_type": "markdown",
   "id": "267b4008",
   "metadata": {},
   "source": [
    "Оценку качества кластеризации модели не прошли, так как у них проблема из-за количества кластеров"
   ]
  },
  {
   "cell_type": "markdown",
   "id": "eb577dcb",
   "metadata": {},
   "source": [
    "### 2.2 Тематическое моделирование"
   ]
  },
  {
   "cell_type": "markdown",
   "id": "a69b4c54",
   "metadata": {},
   "source": [
    "LDA - это метод машинного обучения, который используется для анализа тематической структуры в больших наборах документов. Который использует модель вероятности, чтобы определить, какие темы присутствуют в каждом документе, и какие слова связаны с каждой темой. LDA может быть полезен в случаях, когда нужно опредлить тематическую структуру в большом наборе документов, таких как статьи и т.д. "
   ]
  },
  {
   "cell_type": "code",
   "execution_count": 144,
   "id": "0956bf77",
   "metadata": {
    "scrolled": true
   },
   "outputs": [
    {
     "name": "stdout",
     "output_type": "stream",
     "text": [
      "Topic 0: показывать, сделать, новый, помимо, понимать, сразу, начинать, поделиться, определять, важный\n",
      "Topic 1: text, задача, время, делать, день, нужно, успевать, проблема, мочь, тип\n",
      "Topic 2: показывать, сделать, новый, помимо, понимать, сразу, начинать, поделиться, определять, важный\n",
      "Topic 3: робот, дизайнер, дисциплина, весь, соревнование, год, команда, robogames, находить, мочь\n",
      "Topic 4: text, анимация, animated, text text, работа, тред, весь, react, react native, const\n",
      "Topic 5: работа, инженер, системный, системный инженер, год, работать, система, направление, знание, программа\n"
     ]
    }
   ],
   "source": [
    "# создание модели LDA\n",
    "lda_model = LatentDirichletAllocation(n_components=6, random_state=0)\n",
    "lda_model.fit(count_matrix)\n",
    "\n",
    "# вывод топ слов для каждой темы\n",
    "for i, topic in enumerate(lda_model.components_):\n",
    "    print(f\"Topic {i}: {', '.join([vectorizer.get_feature_names_out()[i] for i in topic.argsort()[:-11:-1]])}\")"
   ]
  },
  {
   "cell_type": "code",
   "execution_count": 145,
   "id": "7a7d7f55",
   "metadata": {},
   "outputs": [
    {
     "name": "stdout",
     "output_type": "stream",
     "text": [
      "5    text, анимация, animated, работа, тред, react,...\n",
      "Name: keyword, dtype: object\n"
     ]
    }
   ],
   "source": [
    "print(str(dfHabr1.loc[dfHabr1['clustersAgglomerative'] == 0, 'keyword']))"
   ]
  },
  {
   "cell_type": "code",
   "execution_count": 146,
   "id": "dcece173",
   "metadata": {},
   "outputs": [
    {
     "data": {
      "text/plain": [
       "6"
      ]
     },
     "execution_count": 146,
     "metadata": {},
     "output_type": "execute_result"
    }
   ],
   "source": [
    "len(lda_model.components_)"
   ]
  },
  {
   "cell_type": "code",
   "execution_count": 147,
   "id": "b532e084",
   "metadata": {},
   "outputs": [
    {
     "data": {
      "text/plain": [
       "array([[0.16666667, 0.16666667, 0.16666667, ..., 0.16666667, 0.16666667,\n",
       "        0.16666667],\n",
       "       [0.16666667, 0.16666667, 0.16666667, ..., 0.16666667, 0.16666667,\n",
       "        0.16666667],\n",
       "       [0.16666667, 0.16666667, 0.16666667, ..., 0.16666667, 0.16666667,\n",
       "        0.16666667],\n",
       "       [0.16666667, 0.16666667, 0.16666667, ..., 2.16666665, 1.16666665,\n",
       "        1.16666665],\n",
       "       [0.16666667, 0.16666667, 0.16666667, ..., 0.16666667, 0.16666667,\n",
       "        0.16666667],\n",
       "       [1.16666664, 1.16666664, 1.16666664, ..., 0.16666667, 0.16666667,\n",
       "        0.16666667]])"
      ]
     },
     "execution_count": 147,
     "metadata": {},
     "output_type": "execute_result"
    }
   ],
   "source": [
    "lda_model.components_"
   ]
  },
  {
   "cell_type": "code",
   "execution_count": 148,
   "id": "d5427809",
   "metadata": {},
   "outputs": [],
   "source": [
    "# создание матрицы документ-термин\n",
    "tfidf_vectorizer = TfidfVectorizer(stop_words=russian_stopwords)\n",
    "tfidf_matrix = tfidf_vectorizer.fit_transform(dfHabr2)"
   ]
  },
  {
   "cell_type": "code",
   "execution_count": 149,
   "id": "b4f48450",
   "metadata": {},
   "outputs": [
    {
     "data": {
      "text/plain": [
       "scipy.sparse._csr.csr_matrix"
      ]
     },
     "execution_count": 149,
     "metadata": {},
     "output_type": "execute_result"
    }
   ],
   "source": [
    "type(tfidf_matrix)"
   ]
  },
  {
   "cell_type": "code",
   "execution_count": 150,
   "id": "d70ac9ca",
   "metadata": {},
   "outputs": [
    {
     "data": {
      "text/plain": [
       "(6, 1948)"
      ]
     },
     "execution_count": 150,
     "metadata": {},
     "output_type": "execute_result"
    }
   ],
   "source": [
    "tfidf_matrix.shape"
   ]
  },
  {
   "cell_type": "markdown",
   "id": "e5c9a9d7",
   "metadata": {},
   "source": [
    "NMF - это метод машинного обучения, который используется для разложения матрицы на две с неотрицательными элементами. Он может быть полезен в случаях, когда нужно найти скрытые признаки в данных, таких как тексты и т.д. NMF может использоваться в различных областях, таких как обработка изображений, текстовый анализ и т.д"
   ]
  },
  {
   "cell_type": "code",
   "execution_count": 151,
   "id": "c09bede9",
   "metadata": {},
   "outputs": [
    {
     "name": "stdout",
     "output_type": "stream",
     "text": [
      "Topic 0: text, задача, время, календарь, проблема, день, график, сколько, час, успевать\n",
      "Topic 1: направление, год, курс, образовательный, директор, рынок, программный, разработчик, программа, планировать\n",
      "Topic 2: робот, дисциплина, соревнование, robogames, автономный, запрещать, участник, соперник, фунт, битва\n",
      "Topic 3: дизайнер, дизайн, иконка, иллюстрация, совет, решение, сайт, интерфейс, количество, находить\n",
      "Topic 4: системный, инженер, работа, система, devops, компания, специалист, знание, приходиться, работать\n",
      "Topic 5: text, animated, анимация, тред, const, react, native, javascript, свойство, библиотека\n"
     ]
    }
   ],
   "source": [
    "# создание модели NMF\n",
    "nmf_model = NMF(n_components=6, random_state=0)\n",
    "nmf_model.fit(tfidf_matrix)\n",
    "\n",
    "# вывод топ слов для каждой темы\n",
    "for i, topic in enumerate(nmf_model.components_):\n",
    "    print(f\"Topic {i}: {', '.join([tfidf_vectorizer.get_feature_names_out()[i] for i in topic.argsort()[:-11:-1]])}\")"
   ]
  },
  {
   "cell_type": "code",
   "execution_count": 152,
   "id": "9343d7f3",
   "metadata": {},
   "outputs": [
    {
     "data": {
      "text/plain": [
       "6"
      ]
     },
     "execution_count": 152,
     "metadata": {},
     "output_type": "execute_result"
    }
   ],
   "source": [
    "len(nmf_model.components_)"
   ]
  },
  {
   "cell_type": "code",
   "execution_count": 153,
   "id": "7e1d52b9",
   "metadata": {},
   "outputs": [
    {
     "data": {
      "text/plain": [
       "array([[0.        , 0.        , 0.        , ..., 0.        , 0.        ,\n",
       "        0.        ],\n",
       "       [0.02721577, 0.        , 0.        , ..., 0.        , 0.        ,\n",
       "        0.        ],\n",
       "       [0.        , 0.        , 0.01467328, ..., 0.01467328, 0.01467328,\n",
       "        0.02934656],\n",
       "       [0.        , 0.09512567, 0.        , ..., 0.        , 0.        ,\n",
       "        0.        ],\n",
       "       [0.        , 0.        , 0.        , ..., 0.        , 0.        ,\n",
       "        0.        ],\n",
       "       [0.        , 0.        , 0.        , ..., 0.        , 0.        ,\n",
       "        0.        ]])"
      ]
     },
     "execution_count": 153,
     "metadata": {},
     "output_type": "execute_result"
    }
   ],
   "source": [
    "nmf_model.components_"
   ]
  },
  {
   "cell_type": "markdown",
   "id": "a553e9c1",
   "metadata": {},
   "source": [
    "LSA - это метод машинного обучения, который используется для анализа структуры в больших наборах текстовых данных. Он использует матричные вычисления для определения близости между словами и документами. LSA может быть полезен в случаях, когда вы хотите определить структуру в большом наборе текстовых данных, таких как статьи, отчеты и т.д."
   ]
  },
  {
   "cell_type": "code",
   "execution_count": 155,
   "id": "4e2470ce",
   "metadata": {},
   "outputs": [
    {
     "name": "stdout",
     "output_type": "stream",
     "text": [
      "Topic 0: text, задача, animated, анимация, работа, время, системный, дизайнер, инженер, весь\n",
      "Topic 1: системный, инженер, робот, работа, год, направление, курс, рынок, дизайнер, знание\n",
      "Topic 2: робот, дисциплина, соревнование, robogames, автономный, запрещать, участник, фунт, соперник, битва\n",
      "Topic 3: дизайнер, дизайн, иллюстрация, иконка, совет, решение, количество, сайт, интерфейс, comhttps\n",
      "Topic 4: системный, инженер, devops, система, работа, приходиться, центр, дата, linux, компания\n",
      "Topic 5: задача, время, календарь, день, проблема, график, сколько, час, успевать, тип\n"
     ]
    }
   ],
   "source": [
    "# создание модели LSA\n",
    "lsa_model = TruncatedSVD(n_components=6, random_state=0)\n",
    "lsa_model.fit(tfidf_matrix)\n",
    "\n",
    "# вывод топ слов для каждой темы\n",
    "for i, topic in enumerate(lsa_model.components_):\n",
    "    print(f\"Topic {i}: {', '.join([tfidf_vectorizer.get_feature_names_out()[i] for i in topic.argsort()[:-11:-1]])}\")"
   ]
  },
  {
   "cell_type": "code",
   "execution_count": 156,
   "id": "8ccdf63f",
   "metadata": {},
   "outputs": [
    {
     "data": {
      "text/plain": [
       "6"
      ]
     },
     "execution_count": 156,
     "metadata": {},
     "output_type": "execute_result"
    }
   ],
   "source": [
    "len(lsa_model.components_)"
   ]
  },
  {
   "cell_type": "code",
   "execution_count": 157,
   "id": "73dcf48d",
   "metadata": {
    "scrolled": true
   },
   "outputs": [
    {
     "data": {
      "text/plain": [
       "array([[ 0.00483911,  0.02149944,  0.00123066, ...,  0.00123066,\n",
       "         0.00123066,  0.00246132],\n",
       "       [ 0.01202264,  0.02816299,  0.00310654, ...,  0.00310654,\n",
       "         0.00310654,  0.00621307],\n",
       "       [-0.00338288, -0.0068577 ,  0.01401697, ...,  0.01401697,\n",
       "         0.01401697,  0.02803395],\n",
       "       [-0.00838981,  0.0918283 , -0.00064581, ..., -0.00064581,\n",
       "        -0.00064581, -0.00129161],\n",
       "       [-0.01875566, -0.00601476,  0.00097998, ...,  0.00097998,\n",
       "         0.00097998,  0.00195995],\n",
       "       [ 0.00018278, -0.01103478, -0.00016741, ..., -0.00016741,\n",
       "        -0.00016741, -0.00033482]])"
      ]
     },
     "execution_count": 157,
     "metadata": {},
     "output_type": "execute_result"
    }
   ],
   "source": [
    "lsa_model.components_"
   ]
  },
  {
   "cell_type": "markdown",
   "id": "21f1a434",
   "metadata": {},
   "source": [
    "В итоге лучшей моделью является LDA, т.к. она в данном случае самая нужная, и работает лучше всего (определяет тематическую структуру в большом наборе документов, таких как статьи и т.д.)"
   ]
  },
  {
   "cell_type": "markdown",
   "id": "5d328b9a",
   "metadata": {},
   "source": [
    "#### Визуализация тематического моделирования"
   ]
  },
  {
   "cell_type": "code",
   "execution_count": 158,
   "id": "dd1b22e7",
   "metadata": {},
   "outputs": [],
   "source": [
    "pyLDAvis.enable_notebook()"
   ]
  },
  {
   "cell_type": "code",
   "execution_count": 159,
   "id": "f7f003e1",
   "metadata": {},
   "outputs": [
    {
     "name": "stdout",
     "output_type": "stream",
     "text": [
      "5    text, анимация, animated, работа, тред, react,...\n",
      "Name: keyword, dtype: object\n"
     ]
    }
   ],
   "source": [
    "print(dfHabr1.loc[dfHabr1['clustersAgglomerative'] == 0, 'keyword'])"
   ]
  },
  {
   "cell_type": "code",
   "execution_count": 160,
   "id": "b65bc7cd",
   "metadata": {},
   "outputs": [
    {
     "name": "stderr",
     "output_type": "stream",
     "text": [
      "C:\\Users\\МОиБД\\AppData\\Roaming\\Python\\Python310\\site-packages\\pyLDAvis\\_prepare.py:244: FutureWarning: In a future version of pandas all arguments of DataFrame.drop except for the argument 'labels' will be keyword-only.\n",
      "  by='saliency', ascending=False).head(R).drop('saliency', 1)\n"
     ]
    },
    {
     "data": {
      "text/html": [
       "\n",
       "<link rel=\"stylesheet\" type=\"text/css\" href=\"https://cdn.jsdelivr.net/gh/bmabey/pyLDAvis@3.4.0/pyLDAvis/js/ldavis.v1.0.0.css\">\n",
       "\n",
       "\n",
       "<div id=\"ldavis_el1003620870475785605367197741\" style=\"background-color:white;\"></div>\n",
       "<script type=\"text/javascript\">\n",
       "\n",
       "var ldavis_el1003620870475785605367197741_data = {\"mdsDat\": {\"x\": [-56.468955993652344, 89.65515899658203, -4.4291157722473145, 95.67124938964844, 5.099026203155518, 25.975034713745117], \"y\": [3.5800039768218994, 61.16310119628906, 85.2663803100586, -35.97712707519531, -71.43077850341797, 8.499472618103027], \"topics\": [1, 2, 3, 4, 5, 6], \"cluster\": [1, 1, 1, 1, 1, 1], \"Freq\": [0.006963376039963055, 14.503661272387397, 0.006963376039963055, 32.23963729757938, 8.923721628747849, 44.31905304920545]}, \"tinfo\": {\"Term\": [\"text\", \"\\u0440\\u043e\\u0431\\u043e\\u0442\", \"\\u0437\\u0430\\u0434\\u0430\\u0447\\u0430\", \"\\u0438\\u043d\\u0436\\u0435\\u043d\\u0435\\u0440\", \"\\u0441\\u0438\\u0441\\u0442\\u0435\\u043c\\u043d\\u044b\\u0439\", \"\\u0441\\u0438\\u0441\\u0442\\u0435\\u043c\\u043d\\u044b\\u0439 \\u0438\\u043d\\u0436\\u0435\\u043d\\u0435\\u0440\", \"\\u0432\\u0440\\u0435\\u043c\\u044f\", \"\\u0430\\u043d\\u0438\\u043c\\u0430\\u0446\\u0438\\u044f\", \"\\u0434\\u0438\\u0441\\u0446\\u0438\\u043f\\u043b\\u0438\\u043d\\u0430\", \"\\u0441\\u043e\\u0440\\u0435\\u0432\\u043d\\u043e\\u0432\\u0430\\u043d\\u0438\\u0435\", \"animated\", \"\\u0434\\u0438\\u0437\\u0430\\u0439\\u043d\\u0435\\u0440\", \"\\u0440\\u0430\\u0431\\u043e\\u0442\\u0430\", \"\\u0437\\u043d\\u0430\\u043d\\u0438\\u0435\", \"\\u043d\\u0430\\u043f\\u0440\\u0430\\u0432\\u043b\\u0435\\u043d\\u0438\\u0435\", \"\\u043a\\u0443\\u0440\\u0441\", \"\\u0441\\u043f\\u0435\\u0446\\u0438\\u0430\\u043b\\u0438\\u0441\\u0442\", \"\\u0440\\u044b\\u043d\\u043e\\u043a\", \"\\u043a\\u043e\\u043c\\u043f\\u0430\\u043d\\u0438\\u044f\", \"text text\", \"\\u043f\\u0440\\u043e\\u0433\\u0440\\u0430\\u043c\\u043c\\u043d\\u044b\\u0439\", \"\\u043f\\u0440\\u043e\\u0431\\u043b\\u0435\\u043c\\u0430\", \"robogames\", \"\\u0434\\u0435\\u043d\\u044c\", \"\\u0440\\u0430\\u0437\\u0440\\u0430\\u0431\\u043e\\u0442\\u0447\\u0438\\u043a\", \"\\u0434\\u0435\\u043b\\u0430\\u0442\\u044c\", \"\\u043f\\u0440\\u043e\\u0444\\u0435\\u0441\\u0441\\u0438\\u044f\", \"\\u043e\\u0431\\u0440\\u0430\\u0437\\u043e\\u0432\\u0430\\u043d\\u0438\\u0435\", \"devops\", \"\\u0430\\u0432\\u0442\\u043e\\u043d\\u043e\\u043c\\u043d\\u044b\\u0439\", \"animated apitext \\u0431\\u0438\\u0431\\u043b\\u0438\\u043e\\u0442\\u0435\\u043a\\u0430\", \"animated apitext \\u0438\\u0437\\u043d\\u0430\\u0447\\u0430\\u043b\\u044c\\u043d\\u044b\\u0439\", \"animated apitext \\u043d\\u043e\\u0432\\u044b\\u0439\", \"animated apitext \\u0440\\u0435\\u0431\\u044f\\u0442\\u0430\", \"animated nativeanimatedhelper\", \"animated nativeanimatedhelper \\u0443\\u043a\\u0430\\u0437\\u044b\\u0432\\u0430\\u0442\\u044c\", \"animated reanimated\", \"animated reanimated \\u043f\\u043e\\u0441\\u043c\\u043e\\u0442\\u0440\\u0435\\u0442\\u044c\", \"animated \\u043f\\u043e\\u043a\\u0430\\u0437\\u044b\\u0432\\u0430\\u0442\\u044c\", \"animated \\u043f\\u043e\\u043a\\u0430\\u0437\\u044b\\u0432\\u0430\\u0442\\u044c \\u0445\\u043e\\u0440\\u043e\\u0448\\u0438\\u0439\", \"animated \\u043f\\u0440\\u0435\\u0434\\u0441\\u0442\\u0430\\u0432\\u043b\\u044f\\u0442\\u044c\", \"animated \\u043f\\u0440\\u0435\\u0434\\u0441\\u0442\\u0430\\u0432\\u043b\\u044f\\u0442\\u044c \\u043d\\u0430\\u0431\\u043e\\u0440\", \"animatedtext\", \"animatedtext \\u043d\\u0430\\u0447\\u0438\\u043d\\u0430\\u0442\\u044c\", \"animatedtext \\u043d\\u0430\\u0447\\u0438\\u043d\\u0430\\u0442\\u044c \\u0432\\u0441\\u0442\\u0440\\u0430\\u0438\\u0432\\u0430\\u0442\\u044c\", \"apitext \\u0431\\u0438\\u0431\\u043b\\u0438\\u043e\\u0442\\u0435\\u043a\\u0430\", \"apitext \\u0431\\u0438\\u0431\\u043b\\u0438\\u043e\\u0442\\u0435\\u043a\\u0430 \\u043f\\u0440\\u043e\\u0441\\u0442\\u043e\", \"apitext \\u0438\\u0437\\u043d\\u0430\\u0447\\u0430\\u043b\\u044c\\u043d\\u044b\\u0439\", \"apitext \\u0438\\u0437\\u043d\\u0430\\u0447\\u0430\\u043b\\u044c\\u043d\\u044b\\u0439 \\u0441\\u0445\\u0435\\u043c\\u0430\", \"apitext \\u043d\\u043e\\u0432\\u044b\\u0439\", \"apitext \\u043d\\u043e\\u0432\\u044b\\u0439 \\u0432\\u0430\\u0440\\u0438\\u0430\\u043d\\u0442\", \"apitext \\u0440\\u0435\\u0431\\u044f\\u0442\\u0430\", \"apitext \\u0440\\u0435\\u0431\\u044f\\u0442\\u0430 react\", \"dev\", \"dev \\u0440\\u0435\\u0436\\u0438\\u043c\", \"dev \\u0440\\u0435\\u0436\\u0438\\u043c \\u043f\\u0440\\u043e\\u0434\", \"duration text start\", \"duration text usenativedriver\", \"fps \\u0430\\u043d\\u0438\\u043c\\u0430\\u0446\\u0438\\u044f \\u043e\\u0441\\u0442\\u0430\\u043d\\u0430\\u0432\\u043b\\u0438\\u0432\\u0430\\u0442\\u044c\\u0441\\u044f\", \"fps \\u0430\\u043d\\u0438\\u043c\\u0430\\u0446\\u0438\\u044f \\u0440\\u0430\\u0431\\u043e\\u0442\\u0430\\u0442\\u044c\", \"\\u043f\\u043e\\u043a\\u0430\\u0437\\u044b\\u0432\\u0430\\u0442\\u044c\", \"\\u0441\\u0434\\u0435\\u043b\\u0430\\u0442\\u044c\", \"\\u043d\\u043e\\u0432\\u044b\\u0439\", \"\\u043f\\u043e\\u043c\\u0438\\u043c\\u043e\", \"\\u043f\\u043e\\u043d\\u0438\\u043c\\u0430\\u0442\\u044c\", \"\\u0441\\u0440\\u0430\\u0437\\u0443\", \"\\u043d\\u0430\\u0447\\u0438\\u043d\\u0430\\u0442\\u044c\", \"\\u043e\\u043f\\u0440\\u0435\\u0434\\u0435\\u043b\\u044f\\u0442\\u044c\", \"\\u043f\\u043e\\u0434\\u0435\\u043b\\u0438\\u0442\\u044c\\u0441\\u044f\", \"\\u0432\\u0430\\u0436\\u043d\\u044b\\u0439\", \"\\u0440\\u0430\\u0441\\u0441\\u043a\\u0430\\u0437\\u044b\\u0432\\u0430\\u0442\\u044c\", \"\\u043f\\u043e\\u043a\\u0430\", \"\\u0438\\u043d\\u0441\\u0442\\u0440\\u0443\\u043c\\u0435\\u043d\\u0442\", \"\\u0437\\u0430\\u0434\\u0430\\u0447\\u0430\", \"\\u0432\\u044b\\u0445\\u043e\\u0434\\u0438\\u0442\\u044c\", \"\\u0432\\u0440\\u0435\\u043c\\u044f\", \"\\u0430\\u043d\\u0430\\u043b\\u0438\\u0437\\u0438\\u0440\\u043e\\u0432\\u0430\\u0442\\u044c\", \"\\u0438\\u0441\\u043f\\u043e\\u043b\\u044c\\u0437\\u043e\\u0432\\u0430\\u0442\\u044c\", \"\\u0441\\u0430\\u043c\\u044b\\u0439\", \"\\u043d\\u0435\\u043a\\u043e\\u0442\\u043e\\u0440\\u044b\\u0439\", \"\\u043f\\u0440\\u0438\\u043d\\u0446\\u0438\\u043f\", \"\\u0437\\u0432\\u0430\\u0442\\u044c\", \"\\u0438\\u0441\\u043a\\u0430\\u0442\\u044c\", \"\\u0440\\u0430\\u0431\\u043e\\u0442\\u0430\\u0442\\u044c\", \"\\u043b\\u044e\\u0431\\u043e\\u0439\", \"\\u043f\\u043e\\u0434\\u0445\\u043e\\u0434\\u0438\\u0442\\u044c\", \"\\u043a\\u0430\\u0436\\u0434\\u044b\\u0439\", \"\\u0438\\u0434\\u0435\\u044f\", \"\\u0438\\u043c\\u0435\\u043d\\u043d\\u043e\", \"\\u043d\\u0435\\u043e\\u0431\\u0445\\u043e\\u0434\\u0438\\u043c\\u043e\", \"\\u0437\\u0430\\u0434\\u0430\\u0447\\u0430 \\u0442\\u0438\\u043f\", \"\\u043a\\u0430\\u043b\\u0435\\u043d\\u0434\\u0430\\u0440\\u044c\", \"\\u0433\\u0440\\u0430\\u0444\\u0438\\u043a\", \"text \\u0437\\u0430\\u0434\\u0430\\u0447\\u0430\", \"text \\u0437\\u0430\\u0434\\u0430\\u0447\\u0430 \\u0442\\u0438\\u043f\", \"\\u043f\\u043e\\u0440\\u044f\\u0434\\u043e\\u043a\", \"\\u0440\\u0430\\u0431\\u043e\\u0447\\u0438\\u0439\", \"\\u0441\\u043a\\u043e\\u043b\\u044c\\u043a\\u043e \\u0432\\u0440\\u0435\\u043c\\u044f\", \"\\u0441\\u043e\\u043e\\u0431\\u0449\\u0435\\u043d\\u0438\\u0435\", \"text \\u0432\\u0440\\u0435\\u043c\\u044f\", \"\\u0437\\u0430\\u0434\\u0430\\u0447\\u0430 text\", \"\\u0438\\u0441\\u043a\\u0430\\u0442\\u044c \\u0441\\u0441\\u044b\\u043b\\u043a\\u0430\", \"\\u043d\\u0430\\u0432\\u043e\\u0434\\u0438\\u0442\\u044c\", \"\\u043d\\u0430\\u0432\\u043e\\u0434\\u0438\\u0442\\u044c \\u043f\\u043e\\u0440\\u044f\\u0434\\u043e\\u043a\", \"\\u043d\\u0435\\u0434\\u0435\\u043b\\u044f\", \"\\u043e\\u0442\\u0432\\u043b\\u0435\\u043a\\u0430\\u0442\\u044c\\u0441\\u044f\", \"\\u043f\\u0440\\u0438\\u0447\\u0438\\u043d\\u0430\", \"\\u0441\\u043e\\u0437\\u0432\\u043e\\u043d\", \"\\u0441\\u0440\\u0435\\u0434\\u0430\", \"text \\u043e\\u0442\\u0441\\u0443\\u0442\\u0441\\u0442\\u0432\\u0438\\u0435\", \"\\u0430\\u0434\\u0430\\u043f\\u0442\\u0438\\u0440\\u043e\\u0432\\u0430\\u0442\\u044c\\u0441\\u044f \\u043e\\u043d\\u043e\", \"\\u0430\\u0434\\u0430\\u043f\\u0442\\u0438\\u0440\\u043e\\u0432\\u0430\\u0442\\u044c\\u0441\\u044f \\u043e\\u043d\\u043e \\u043d\\u0430\\u043b\\u0430\\u0436\\u0438\\u0432\\u0430\\u0442\\u044c\\u0441\\u044f\", \"\\u0432\\u0435\\u0441\\u044c \\u0437\\u0430\\u0434\\u0430\\u0447\\u0430\", \"\\u0432\\u0435\\u0447\\u043d\\u044b\\u0439\", \"\\u0432\\u0435\\u0447\\u043d\\u044b\\u0439 \\u043f\\u043e\\u0438\\u0441\\u043a\", \"\\u0432\\u0440\\u0435\\u043c\\u044f \\u0437\\u0430\\u0434\\u0430\\u0447\\u0430\", \"\\u0432\\u0440\\u0435\\u043c\\u044f \\u0443\\u0445\\u043e\\u0434\\u0438\\u0442\\u044c\", \"\\u0432\\u044b\\u0434\\u0435\\u043b\\u044f\\u0442\\u044c \\u0432\\u0440\\u0435\\u043c\\u044f\", \"\\u0434\\u0435\\u043b\\u0430\\u0442\\u044c text\", \"\\u0434\\u0435\\u043b\\u0430\\u0442\\u044c \\u0437\\u0430\\u0434\\u0430\\u0447\\u0430\", \"\\u0447\\u0430\\u0441\", \"\\u0444\\u0430\\u0439\\u043b\", \"text\", \"\\u0434\\u0435\\u043d\\u044c\", \"\\u0443\\u0441\\u043f\\u0435\\u0432\\u0430\\u0442\\u044c\", \"\\u0442\\u0438\\u043f\", \"\\u0441\\u043a\\u043e\\u043b\\u044c\\u043a\\u043e\", \"\\u0437\\u0430\\u0434\\u0430\\u0447\\u0430\", \"\\u0441\\u0442\\u0440\\u0443\\u043a\\u0442\\u0443\\u0440\\u0438\\u0440\\u043e\\u0432\\u0430\\u0442\\u044c\", \"\\u0441\\u043f\\u0440\\u0438\\u043d\\u0442\", \"\\u0432\\u0440\\u0435\\u043c\\u044f\", \"\\u0434\\u0435\\u043b\\u0430\\u0442\\u044c\", \"\\u043c\\u0438\\u043d\\u0443\\u0442\\u0430\", \"\\u043f\\u0440\\u043e\\u0431\\u043b\\u0435\\u043c\\u0430\", \"\\u043c\\u0430\\u043a\\u0435\\u0442\", \"\\u043d\\u0443\\u0436\\u043d\\u043e\", \"\\u0440\\u0430\\u0437\\u0431\\u0438\\u0440\\u0430\\u0442\\u044c\\u0441\\u044f\", \"\\u043c\\u043e\\u0447\\u044c\", \"\\u043d\\u0430\\u0447\\u0438\\u043d\\u0430\\u0442\\u044c\", \"\\u0441\\u0442\\u0430\\u043d\\u043e\\u0432\\u0438\\u0442\\u044c\\u0441\\u044f\", \"\\u0440\\u0435\\u0448\\u0430\\u0442\\u044c\", \"\\u0432\\u0435\\u0441\\u044c\", \"\\u043f\\u043e\\u043d\\u0438\\u043c\\u0430\\u0442\\u044c\", \"\\u043d\\u043e\\u0432\\u044b\\u0439\", \"\\u043e\\u0442\\u0432\\u0435\\u0447\\u0430\\u0442\\u044c\", \"\\u0443\\u0445\\u043e\\u0434\\u0438\\u0442\\u044c\", \"\\u043f\\u043e\\u043c\\u043e\\u0433\\u0430\\u0442\\u044c\", \"\\u0440\\u0430\\u0437\\u043d\\u044b\\u0439\", \"animated apitext \\u0431\\u0438\\u0431\\u043b\\u0438\\u043e\\u0442\\u0435\\u043a\\u0430\", \"animated apitext \\u0438\\u0437\\u043d\\u0430\\u0447\\u0430\\u043b\\u044c\\u043d\\u044b\\u0439\", \"animated apitext \\u043d\\u043e\\u0432\\u044b\\u0439\", \"animated apitext \\u0440\\u0435\\u0431\\u044f\\u0442\\u0430\", \"animated nativeanimatedhelper\", \"animated nativeanimatedhelper \\u0443\\u043a\\u0430\\u0437\\u044b\\u0432\\u0430\\u0442\\u044c\", \"animated reanimated\", \"animated reanimated \\u043f\\u043e\\u0441\\u043c\\u043e\\u0442\\u0440\\u0435\\u0442\\u044c\", \"animated \\u043f\\u043e\\u043a\\u0430\\u0437\\u044b\\u0432\\u0430\\u0442\\u044c\", \"animated \\u043f\\u043e\\u043a\\u0430\\u0437\\u044b\\u0432\\u0430\\u0442\\u044c \\u0445\\u043e\\u0440\\u043e\\u0448\\u0438\\u0439\", \"animated \\u043f\\u0440\\u0435\\u0434\\u0441\\u0442\\u0430\\u0432\\u043b\\u044f\\u0442\\u044c\", \"animated \\u043f\\u0440\\u0435\\u0434\\u0441\\u0442\\u0430\\u0432\\u043b\\u044f\\u0442\\u044c \\u043d\\u0430\\u0431\\u043e\\u0440\", \"animatedtext\", \"animatedtext \\u043d\\u0430\\u0447\\u0438\\u043d\\u0430\\u0442\\u044c\", \"animatedtext \\u043d\\u0430\\u0447\\u0438\\u043d\\u0430\\u0442\\u044c \\u0432\\u0441\\u0442\\u0440\\u0430\\u0438\\u0432\\u0430\\u0442\\u044c\", \"apitext \\u0431\\u0438\\u0431\\u043b\\u0438\\u043e\\u0442\\u0435\\u043a\\u0430\", \"apitext \\u0431\\u0438\\u0431\\u043b\\u0438\\u043e\\u0442\\u0435\\u043a\\u0430 \\u043f\\u0440\\u043e\\u0441\\u0442\\u043e\", \"apitext \\u0438\\u0437\\u043d\\u0430\\u0447\\u0430\\u043b\\u044c\\u043d\\u044b\\u0439\", \"apitext \\u0438\\u0437\\u043d\\u0430\\u0447\\u0430\\u043b\\u044c\\u043d\\u044b\\u0439 \\u0441\\u0445\\u0435\\u043c\\u0430\", \"apitext \\u043d\\u043e\\u0432\\u044b\\u0439\", \"apitext \\u043d\\u043e\\u0432\\u044b\\u0439 \\u0432\\u0430\\u0440\\u0438\\u0430\\u043d\\u0442\", \"apitext \\u0440\\u0435\\u0431\\u044f\\u0442\\u0430\", \"apitext \\u0440\\u0435\\u0431\\u044f\\u0442\\u0430 react\", \"dev\", \"dev \\u0440\\u0435\\u0436\\u0438\\u043c\", \"dev \\u0440\\u0435\\u0436\\u0438\\u043c \\u043f\\u0440\\u043e\\u0434\", \"duration text start\", \"duration text usenativedriver\", \"fps \\u0430\\u043d\\u0438\\u043c\\u0430\\u0446\\u0438\\u044f \\u043e\\u0441\\u0442\\u0430\\u043d\\u0430\\u0432\\u043b\\u0438\\u0432\\u0430\\u0442\\u044c\\u0441\\u044f\", \"fps \\u0430\\u043d\\u0438\\u043c\\u0430\\u0446\\u0438\\u044f \\u0440\\u0430\\u0431\\u043e\\u0442\\u0430\\u0442\\u044c\", \"\\u043f\\u043e\\u043a\\u0430\\u0437\\u044b\\u0432\\u0430\\u0442\\u044c\", \"\\u0441\\u0434\\u0435\\u043b\\u0430\\u0442\\u044c\", \"\\u043d\\u043e\\u0432\\u044b\\u0439\", \"\\u043f\\u043e\\u043c\\u0438\\u043c\\u043e\", \"\\u043f\\u043e\\u043d\\u0438\\u043c\\u0430\\u0442\\u044c\", \"\\u0441\\u0440\\u0430\\u0437\\u0443\", \"\\u043d\\u0430\\u0447\\u0438\\u043d\\u0430\\u0442\\u044c\", \"\\u043e\\u043f\\u0440\\u0435\\u0434\\u0435\\u043b\\u044f\\u0442\\u044c\", \"\\u043f\\u043e\\u0434\\u0435\\u043b\\u0438\\u0442\\u044c\\u0441\\u044f\", \"\\u0432\\u0430\\u0436\\u043d\\u044b\\u0439\", \"\\u0440\\u0430\\u0441\\u0441\\u043a\\u0430\\u0437\\u044b\\u0432\\u0430\\u0442\\u044c\", \"\\u043f\\u043e\\u043a\\u0430\", \"\\u0438\\u043d\\u0441\\u0442\\u0440\\u0443\\u043c\\u0435\\u043d\\u0442\", \"\\u0437\\u0430\\u0434\\u0430\\u0447\\u0430\", \"\\u0432\\u044b\\u0445\\u043e\\u0434\\u0438\\u0442\\u044c\", \"\\u0432\\u0440\\u0435\\u043c\\u044f\", \"\\u0430\\u043d\\u0430\\u043b\\u0438\\u0437\\u0438\\u0440\\u043e\\u0432\\u0430\\u0442\\u044c\", \"\\u0438\\u0441\\u043f\\u043e\\u043b\\u044c\\u0437\\u043e\\u0432\\u0430\\u0442\\u044c\", \"\\u0441\\u0430\\u043c\\u044b\\u0439\", \"\\u043d\\u0435\\u043a\\u043e\\u0442\\u043e\\u0440\\u044b\\u0439\", \"\\u043f\\u0440\\u0438\\u043d\\u0446\\u0438\\u043f\", \"\\u0437\\u0432\\u0430\\u0442\\u044c\", \"\\u0438\\u0441\\u043a\\u0430\\u0442\\u044c\", \"\\u0440\\u0430\\u0431\\u043e\\u0442\\u0430\\u0442\\u044c\", \"\\u043b\\u044e\\u0431\\u043e\\u0439\", \"\\u043f\\u043e\\u0434\\u0445\\u043e\\u0434\\u0438\\u0442\\u044c\", \"\\u043a\\u0430\\u0436\\u0434\\u044b\\u0439\", \"\\u0438\\u0434\\u0435\\u044f\", \"\\u0438\\u043c\\u0435\\u043d\\u043d\\u043e\", \"\\u043d\\u0435\\u043e\\u0431\\u0445\\u043e\\u0434\\u0438\\u043c\\u043e\", \"\\u0440\\u043e\\u0431\\u043e\\u0442\", \"\\u0434\\u0438\\u0441\\u0446\\u0438\\u043f\\u043b\\u0438\\u043d\\u0430\", \"\\u0441\\u043e\\u0440\\u0435\\u0432\\u043d\\u043e\\u0432\\u0430\\u043d\\u0438\\u0435\", \"robogames\", \"\\u0430\\u0432\\u0442\\u043e\\u043d\\u043e\\u043c\\u043d\\u044b\\u0439\", \"\\u0437\\u0430\\u043f\\u0440\\u0435\\u0449\\u0430\\u0442\\u044c\", \"\\u0443\\u0447\\u0430\\u0441\\u0442\\u043d\\u0438\\u043a\", \"\\u043a\\u043e\\u043b\\u0438\\u0447\\u0435\\u0441\\u0442\\u0432\\u043e\", \"\\u0431\\u0438\\u0442\\u0432\\u0430\", \"\\u043a\\u043e\\u043c\\u0430\\u043d\\u0434\\u0430 \\u0444\\u0443\\u043d\\u0442\", \"\\u0441\\u043e\\u043f\\u0435\\u0440\\u043d\\u0438\\u043a\", \"\\u0444\\u0443\\u043d\\u0442\", \"\\u0447\\u0435\\u043b\\u043e\\u0432\\u0435\\u043a \\u043a\\u043e\\u043c\\u0430\\u043d\\u0434\\u0430 \\u0444\\u0443\\u043d\\u0442\", \"\\u0434\\u0438\\u0437\\u0430\\u0439\\u043d \\u0440\\u0435\\u0448\\u0435\\u043d\\u0438\\u0435\", \"\\u0438\\u043a\\u043e\\u043d\\u043a\\u0430\", \"\\u0438\\u043b\\u043b\\u044e\\u0441\\u0442\\u0440\\u0430\\u0446\\u0438\\u044f\", \"\\u0434\\u0438\\u0437\\u0430\\u0439\\u043d\\u0435\\u0440\", \"\\u0430\\u0440\\u0435\\u043d\\u0430\", \"\\u0433\\u043e\\u043d\\u043a\\u0430\", \"\\u0434\\u0432\\u0438\\u0436\\u0435\\u043d\\u0438\\u0435\", \"\\u0434\\u0438\\u0441\\u0442\\u0430\\u043d\\u0446\\u0438\\u043e\\u043d\\u043d\\u044b\\u0439\", \"\\u0434\\u043e\\u043f\\u0443\\u0441\\u0442\\u0438\\u043c\\u044b\\u0439\", \"\\u0438\\u0433\\u0440\\u0430\", \"\\u043a\\u0430\\u0442\\u0435\\u0433\\u043e\\u0440\\u0438\\u044f\", \"\\u043f\\u043e\\u043b\\u0435\", \"\\u0440\\u043e\\u0431\\u043e\\u0442 \\u0434\\u043e\\u043b\\u0436\\u043d\\u044b\\u0439\", \"\\u0434\\u0440\\u0443\\u0433\", \"\\u043e\\u0431\\u044a\\u0435\\u043a\\u0442\", \"\\u0441\\u043b\\u043e\\u0436\\u043d\\u044b\\u0439\", \"\\u043e\\u0433\\u0440\\u043e\\u043c\\u043d\\u044b\\u0439\", \"\\u0434\\u0438\\u0437\\u0430\\u0439\\u043d\", \"\\u0431\\u044b\\u0441\\u0442\\u0440\\u043e\", \"\\u0441\\u043e\\u0432\\u0435\\u0442\", \"\\u0438\\u043d\\u0442\\u0435\\u0440\\u0444\\u0435\\u0439\\u0441\", \"\\u043d\\u0430\\u0445\\u043e\\u0434\\u0438\\u0442\\u044c\", \"\\u043f\\u0440\\u043e\\u0445\\u043e\\u0434\\u0438\\u0442\\u044c\", \"\\u0432\\u0435\\u0441\\u044c\", \"\\u0447\\u0435\\u043b\\u043e\\u0432\\u0435\\u043a \\u043a\\u043e\\u043c\\u0430\\u043d\\u0434\\u0430\", \"\\u0441\\u0430\\u0439\\u0442\", \"\\u043a\\u0430\\u0436\\u0434\\u044b\\u0439\", \"\\u0440\\u0435\\u0448\\u0435\\u043d\\u0438\\u0435\", \"\\u043a\\u043e\\u043c\\u0430\\u043d\\u0434\\u0430\", \"\\u0433\\u043e\\u0434\", \"\\u043c\\u043e\\u0447\\u044c\", \"\\u0434\\u043e\\u043b\\u0436\\u043d\\u044b\\u0439\", \"\\u043d\\u0443\\u0436\\u043d\\u043e\", \"\\u0447\\u0435\\u043b\\u043e\\u0432\\u0435\\u043a\", \"\\u0438\\u043d\\u0444\\u043e\\u0440\\u043c\\u0430\\u0446\\u0438\\u044f\", \"\\u0440\\u0430\\u0431\\u043e\\u0442\\u0430\", \"\\u0432\\u0440\\u0435\\u043c\\u044f\", \"\\u0438\\u0434\\u0435\\u044f\", \"\\u0438\\u0441\\u043f\\u043e\\u043b\\u044c\\u0437\\u043e\\u0432\\u0430\\u0442\\u044c\", \"animated\", \"text text\", \"\\u0442\\u0440\\u0435\\u0434\", \"const\", \"native\", \"react\", \"react native\", \"text text text\", \"javascript\", \"\\u0431\\u0438\\u0431\\u043b\\u0438\\u043e\\u0442\\u0435\\u043a\\u0430\", \"\\u0441\\u0432\\u043e\\u0439\\u0441\\u0442\\u0432\\u043e\", \"\\u0430\\u043d\\u0438\\u043c\\u0430\\u0446\\u0438\\u044f\", \"animated apitext\", \"animationvalue\", \"apitext\", \"text const\", \"\\u0440\\u0430\\u0431\\u043e\\u0442\\u0430 animated\", \"\\u0440\\u0430\\u0431\\u043e\\u0442\\u0430 animated apitext\", \"fps\", \"javascript \\u0442\\u0440\\u0435\\u0434\", \"animated timing\", \"animated timing animationvalue\", \"animated value\", \"animated value currenttext\", \"animationvalue text\", \"animationvalue text tovalue\", \"animationvalue useref\", \"animationvalue useref new\", \"const animationvalue\", \"const animationvalue useref\", \"text\", \"\\u043f\\u043e\\u0441\\u043c\\u043e\\u0442\\u0440\\u0435\\u0442\\u044c\", \"\\u0437\\u043d\\u0430\\u0447\\u0435\\u043d\\u0438\\u0435\", \"\\u043f\\u0440\\u043e\\u0438\\u0441\\u0445\\u043e\\u0434\\u0438\\u0442\\u044c\", \"\\u0441\\u043b\\u0435\\u0434\\u0443\\u044e\\u0449\\u0438\\u0439\", \"\\u043f\\u0440\\u0438\\u043b\\u043e\\u0436\\u0435\\u043d\\u0438\\u0435\", \"\\u0432\\u0435\\u0441\\u044c\", \"\\u0440\\u0430\\u0431\\u043e\\u0442\\u0430\", \"\\u0440\\u0430\\u0431\\u043e\\u0442\\u0430\\u0442\\u044c\", \"\\u0438\\u043d\\u0441\\u0442\\u0440\\u0443\\u043c\\u0435\\u043d\\u0442\", \"\\u0438\\u043d\\u0436\\u0435\\u043d\\u0435\\u0440\", \"\\u0441\\u0438\\u0441\\u0442\\u0435\\u043c\\u043d\\u044b\\u0439\", \"\\u0441\\u0438\\u0441\\u0442\\u0435\\u043c\\u043d\\u044b\\u0439 \\u0438\\u043d\\u0436\\u0435\\u043d\\u0435\\u0440\", \"\\u0437\\u043d\\u0430\\u043d\\u0438\\u0435\", \"\\u0441\\u043f\\u0435\\u0446\\u0438\\u0430\\u043b\\u0438\\u0441\\u0442\", \"\\u043a\\u0443\\u0440\\u0441\", \"\\u043a\\u043e\\u043c\\u043f\\u0430\\u043d\\u0438\\u044f\", \"\\u0440\\u044b\\u043d\\u043e\\u043a\", \"\\u043f\\u0440\\u043e\\u0433\\u0440\\u0430\\u043c\\u043c\\u043d\\u044b\\u0439\", \"devops\", \"\\u043e\\u0431\\u0440\\u0430\\u0437\\u043e\\u0432\\u0430\\u043d\\u0438\\u0435\", \"\\u043f\\u0440\\u043e\\u0444\\u0435\\u0441\\u0441\\u0438\\u044f\", \"\\u0441\\u0435\\u0442\\u044c\", \"\\u0434\\u0438\\u0440\\u0435\\u043a\\u0442\\u043e\\u0440\", \"\\u043e\\u0431\\u0440\\u0430\\u0437\\u043e\\u0432\\u0430\\u0442\\u0435\\u043b\\u044c\\u043d\\u044b\\u0439\", \"\\u043f\\u0440\\u043e\\u0433\\u0440\\u0430\\u043c\\u043c\\u043d\\u044b\\u0439 \\u0434\\u0438\\u0440\\u0435\\u043a\\u0442\\u043e\\u0440\", \"\\u0432\\u0430\\u043a\\u0430\\u043d\\u0441\\u0438\\u044f\", \"\\u043e\\u0431\\u0443\\u0447\\u0435\\u043d\\u0438\\u0435\", \"\\u043f\\u043b\\u0430\\u043d\\u0438\\u0440\\u043e\\u0432\\u0430\\u0442\\u044c\", \"linux\", \"\\u0434\\u0430\\u0442\\u0430\", \"\\u0434\\u0430\\u0442\\u0430 \\u0446\\u0435\\u043d\\u0442\\u0440\", \"\\u0446\\u0435\\u043d\\u0442\\u0440\", \"\\u0438\\u0437\\u0443\\u0447\\u0430\\u0442\\u044c\", \"\\u043f\\u0440\\u0430\\u043a\\u0442\\u0438\\u043a\\u0430\", \"\\u043f\\u0440\\u043e\\u0433\\u0440\\u0430\\u043c\\u043c\\u0438\\u0441\\u0442\", \"\\u0441\\u0435\\u0440\\u0442\\u0438\\u0444\\u0438\\u043a\\u0430\\u0442\", \"\\u0442\\u0435\\u0445\\u043d\\u043e\\u043b\\u043e\\u0433\\u0438\\u044f\", \"\\u0441\\u0430\\u043d\\u043a\\u0442\", \"\\u043a\\u0443\\u0440\\u0441\\u044b\", \"\\u043d\\u0430\\u043f\\u0440\\u0430\\u0432\\u043b\\u0435\\u043d\\u0438\\u0435\", \"\\u0440\\u0430\\u0437\\u0440\\u0430\\u0431\\u043e\\u0442\\u0447\\u0438\\u043a\", \"\\u0441\\u0438\\u0441\\u0442\\u0435\\u043c\\u0430\", \"\\u0440\\u0430\\u0431\\u043e\\u0442\\u0430\", \"\\u0440\\u0430\\u0437\\u0440\\u0430\\u0431\\u043e\\u0442\\u043a\\u0430\", \"\\u0433\\u043e\\u0434\", \"\\u043f\\u0440\\u0438\\u0445\\u043e\\u0434\\u0438\\u0442\\u044c\\u0441\\u044f\", \"\\u0440\\u0430\\u0431\\u043e\\u0442\\u0430\\u0442\\u044c\", \"\\u043f\\u0440\\u043e\\u0433\\u0440\\u0430\\u043c\\u043c\\u0430\", \"\\u043a\\u043e\\u0434\", \"\\u0445\\u043e\\u0442\\u0435\\u0442\\u044c\", \"\\u043d\\u043e\\u0432\\u044b\\u0439\", \"\\u0440\\u0435\\u0448\\u0430\\u0442\\u044c\", \"\\u043a\\u043e\\u043c\\u0430\\u043d\\u0434\\u0430\", \"\\u0447\\u0435\\u043b\\u043e\\u0432\\u0435\\u043a\", \"\\u0437\\u0430\\u0434\\u0430\\u0447\\u0430\", \"\\u0432\\u0440\\u0435\\u043c\\u044f\", \"\\u0441\\u0442\\u0430\\u043d\\u043e\\u0432\\u0438\\u0442\\u044c\\u0441\\u044f\"], \"Freq\": [39.0, 37.0, 27.0, 29.0, 26.0, 21.0, 23.0, 7.0, 12.0, 11.0, 5.0, 14.0, 43.0, 12.0, 15.0, 11.0, 11.0, 10.0, 10.0, 4.0, 9.0, 8.0, 7.0, 6.0, 10.0, 8.0, 8.0, 8.0, 8.0, 6.0, 9.034640527001146e-05, 9.034640527001146e-05, 9.034640527001146e-05, 9.034640527001146e-05, 9.034640527001146e-05, 9.034640527001146e-05, 9.034640527001146e-05, 9.034640527001146e-05, 9.034640527001146e-05, 9.034640527001146e-05, 9.034640527001146e-05, 9.034640527001146e-05, 9.034640527001146e-05, 9.034640527001146e-05, 9.034640527001146e-05, 9.034640527001146e-05, 9.034640527001146e-05, 9.034640527001146e-05, 9.034640527001146e-05, 9.034640527001146e-05, 9.034640527001146e-05, 9.034640527001146e-05, 9.034640527001146e-05, 9.034640527001146e-05, 9.034640527001146e-05, 9.034640527001146e-05, 9.034640527001146e-05, 9.034640527001146e-05, 9.034640527001146e-05, 9.034640527001146e-05, 9.034641704313701e-05, 9.034641508792488e-05, 9.034641473522374e-05, 9.034641459831036e-05, 9.034641449596329e-05, 9.034641443436529e-05, 9.034641389575967e-05, 9.0346413880283e-05, 9.0346413880283e-05, 9.034641348410735e-05, 9.034641344013578e-05, 9.034641339735273e-05, 9.034641338037882e-05, 9.034641329855187e-05, 9.034641324593655e-05, 9.034641313674506e-05, 9.034641310368302e-05, 9.034641307065451e-05, 9.034641296737803e-05, 9.034641288020747e-05, 9.034641288020747e-05, 9.034641284923544e-05, 9.034641283352852e-05, 9.034641282414126e-05, 9.034641282105266e-05, 9.034641276614148e-05, 9.034641271050074e-05, 9.034641268490283e-05, 9.034641264702457e-05, 9.03464125606355e-05, 3.2702500688304372, 3.2702500688304372, 2.7399392458801386, 2.209628422896573, 2.209628422896573, 2.209628422896573, 2.209628422896573, 2.209628422896573, 2.209628422896573, 1.679317599844646, 1.679317599844646, 1.679317599844646, 1.679317599844646, 1.679317599844646, 1.679317599844646, 1.679317599844646, 1.679317599844646, 1.679317599844646, 1.679317599844646, 1.1490067766140701, 1.1490067766140701, 1.1490067766140701, 1.1490067766140701, 1.1490067766140701, 1.1490067766140701, 1.1490067766140701, 1.1490067766140701, 1.1490067766140701, 1.1490067766140701, 1.1490067766140701, 3.2702540144259196, 2.209631014429408, 24.482689144321615, 4.330877236456368, 3.8005656419440585, 3.2702545630550657, 3.2702530766049818, 13.8765253375941, 2.209633152590386, 2.209630882111033, 10.694644897395927, 4.861199699933653, 3.27025353227217, 3.8005632587422347, 2.2096299493720295, 3.800568085637772, 2.7399410295778, 3.2702548046959325, 2.739948553661983, 2.739946381098728, 2.7399444607353685, 2.739939326576381, 2.2096371332520586, 2.209635153947541, 2.209634085798172, 2.2096327434383913, 2.2096323212569273, 2.2096319100343926, 9.034640527001146e-05, 9.034640527001146e-05, 9.034640527001146e-05, 9.034640527001146e-05, 9.034640527001146e-05, 9.034640527001146e-05, 9.034640527001146e-05, 9.034640527001146e-05, 9.034640527001146e-05, 9.034640527001146e-05, 9.034640527001146e-05, 9.034640527001146e-05, 9.034640527001146e-05, 9.034640527001146e-05, 9.034640527001146e-05, 9.034640527001146e-05, 9.034640527001146e-05, 9.034640527001146e-05, 9.034640527001146e-05, 9.034640527001146e-05, 9.034640527001146e-05, 9.034640527001146e-05, 9.034640527001146e-05, 9.034640527001146e-05, 9.034640527001146e-05, 9.034640527001146e-05, 9.034640527001146e-05, 9.034640527001146e-05, 9.034640527001146e-05, 9.034640527001146e-05, 9.034641704313701e-05, 9.034641508792488e-05, 9.034641473522374e-05, 9.034641459831036e-05, 9.034641449596329e-05, 9.034641443436529e-05, 9.034641389575967e-05, 9.0346413880283e-05, 9.0346413880283e-05, 9.034641348410735e-05, 9.034641344013578e-05, 9.034641339735273e-05, 9.034641338037882e-05, 9.034641329855187e-05, 9.034641324593655e-05, 9.034641313674506e-05, 9.034641310368302e-05, 9.034641307065451e-05, 9.034641296737803e-05, 9.034641288020747e-05, 9.034641288020747e-05, 9.034641284923544e-05, 9.034641283352852e-05, 9.034641282414126e-05, 9.034641282105266e-05, 9.034641276614148e-05, 9.034641271050074e-05, 9.034641268490283e-05, 9.034641264702457e-05, 9.03464125606355e-05, 37.29759759034794, 12.273650319249189, 10.843710475169688, 7.268860864929152, 6.5538909428673815, 5.123951098714141, 4.408981176612462, 4.408981170184421, 3.6940112544802375, 3.6940112544802375, 3.6940112544802375, 3.6940112544802375, 3.6940112544802375, 3.6940112466795, 3.6940112466795, 3.6940112466795, 13.70361029341228, 2.979041332293561, 2.979041332293561, 2.979041332293561, 2.979041332293561, 2.979041332293561, 2.979041332293561, 2.979041332293561, 2.979041332293561, 2.979041332293561, 2.9790413283268893, 2.9790413283268893, 2.9790413283268893, 2.979041326343553, 5.83892403473529, 4.408985946691824, 4.408984058137418, 3.6940131488143297, 6.553897301344413, 5.123958529227972, 10.84371482902963, 3.6940137650976483, 4.408984241608985, 5.838927130591585, 5.83892174390994, 7.268863966370246, 8.698805795370232, 6.553893420376946, 5.12395604956261, 5.123947450694285, 5.12395105741318, 4.40898072101069, 5.12392394236649, 4.408958154390486, 3.694016379936562, 3.6940142844522246, 5.397281073904871, 4.167520827978353, 2.9377605820158257, 2.527840500010688, 2.527840500010688, 2.527840500010688, 2.527840500010688, 2.527840500010688, 2.117920417987603, 2.117920417987603, 2.117920417987603, 6.21714005551828, 1.7080003359325286, 1.7080003359325286, 1.7080003359325286, 1.7080003359325286, 1.7080003359325286, 1.7080003359325286, 1.298080253811716, 1.298080253811716, 0.8881601715191099, 0.8881601715191099, 0.8881601715191099, 0.8881601715191099, 0.8881601715191099, 0.8881601715191099, 0.8881601715191099, 0.8881601715191099, 0.8881601715191099, 0.8881601715191099, 15.235358281316898, 1.29808154118057, 1.298081923864934, 1.2980829107492886, 1.2980841981231235, 1.7080045002753197, 2.527842834758356, 2.9377607153466214, 2.117923476127144, 1.2980832086044496, 28.811299994259567, 26.485724209425516, 21.059380710855518, 12.532269497225409, 10.981885640952033, 10.98188563811407, 10.206693712869109, 10.206693709807208, 9.431501781510116, 7.881117928467421, 7.881117927464571, 7.881117926461718, 7.105925999507591, 7.105925995033823, 7.105925995033823, 7.105925995033823, 6.330734069128474, 6.3307340672322745, 6.3307340672322745, 5.555542143233029, 5.555542143233029, 5.555542143233029, 5.555542143233029, 5.555542142506316, 5.555542141779605, 4.780350214788652, 4.780350214788652, 4.780350214788652, 4.780350213934002, 4.780350212224704, 14.08266186241836, 9.431505135889084, 14.082667478701111, 34.23769386463292, 9.431516745125961, 17.18343470423271, 7.105930074095383, 14.082671023861227, 10.981894010373649, 6.330737688388454, 6.330735720311283, 7.881128233541231, 7.881124243146684, 8.656309811964915, 7.8811179734000305, 9.431494832154023, 7.881110343150952, 7.105932178475399], \"Total\": [39.0, 37.0, 27.0, 29.0, 26.0, 21.0, 23.0, 7.0, 12.0, 11.0, 5.0, 14.0, 43.0, 12.0, 15.0, 11.0, 11.0, 10.0, 10.0, 4.0, 9.0, 8.0, 7.0, 6.0, 10.0, 8.0, 8.0, 8.0, 8.0, 6.0, 0.8151662305210641, 0.8151662305210641, 0.8151662305210641, 0.8151662305210641, 0.8151662305210641, 0.8151662305210641, 0.8151662305210641, 0.8151662305210641, 0.8151662305210641, 0.8151662305210641, 0.8151662305210641, 0.8151662305210641, 0.8151662305210641, 0.8151662305210641, 0.8151662305210641, 0.8151662305210641, 0.8151662305210641, 0.8151662305210641, 0.8151662305210641, 0.8151662305210641, 0.8151662305210641, 0.8151662305210641, 0.8151662305210641, 0.8151662305210641, 0.8151662305210641, 0.8151662305210641, 0.8151662305210641, 0.8151662305210641, 0.8151662305210641, 0.8151662305210641, 2.835637408947562, 6.221835374021564, 11.813217602534639, 2.305327084394439, 5.916731274386818, 4.325800719903903, 10.017951506963382, 2.425718290231038, 2.425718290231038, 7.286502237460664, 4.49083691175024, 3.486337989707849, 9.616125654346277, 27.480394432540976, 3.2009104913659545, 23.463117915850635, 3.1406883150911846, 7.6558225346165365, 6.530933920972926, 3.610830709787653, 3.610830709787653, 2.060446235358881, 6.161614110576254, 20.6744532133424, 5.81596370014437, 3.0805196719176746, 10.8613536598975, 5.285598282368722, 3.2009105523413894, 4.450237737402671, 3.587111085831976, 3.587111085831976, 3.0568002629058206, 2.5264894399590156, 2.5264894399590156, 2.5264894399590156, 2.5264894399590156, 2.5264894399590156, 2.5264894399590156, 1.9961786169697833, 1.9961786169697833, 1.9961786169697833, 1.9961786169697833, 1.9961786169697833, 1.9961786169697833, 1.9961786169697833, 1.9961786169697833, 1.9961786169697833, 1.9961786169697833, 1.4658677938696685, 1.4658677938696685, 1.4658677938696685, 1.4658677938696685, 1.4658677938696685, 1.4658677938696685, 1.4658677938696685, 1.4658677938696685, 1.4658677938696685, 1.4658677938696685, 1.4658677938696685, 4.36230118308853, 2.9364101064635415, 39.96658842969703, 6.198114028858296, 5.667803562248227, 5.017049355037888, 5.017049875547485, 27.480394432540976, 3.241457699943156, 3.241458497411618, 23.463117915850635, 8.978202626203034, 5.73201963745332, 8.768572378986327, 3.3463299472094596, 11.447784115996747, 6.157567145562373, 16.677944309552547, 10.017951506963382, 10.748495512028082, 12.238658045102799, 23.217594439063454, 5.916731274386818, 11.813217602534639, 7.117417217587693, 6.037177572947571, 7.65172120787825, 8.54735763973283, 0.8151662305210641, 0.8151662305210641, 0.8151662305210641, 0.8151662305210641, 0.8151662305210641, 0.8151662305210641, 0.8151662305210641, 0.8151662305210641, 0.8151662305210641, 0.8151662305210641, 0.8151662305210641, 0.8151662305210641, 0.8151662305210641, 0.8151662305210641, 0.8151662305210641, 0.8151662305210641, 0.8151662305210641, 0.8151662305210641, 0.8151662305210641, 0.8151662305210641, 0.8151662305210641, 0.8151662305210641, 0.8151662305210641, 0.8151662305210641, 0.8151662305210641, 0.8151662305210641, 0.8151662305210641, 0.8151662305210641, 0.8151662305210641, 0.8151662305210641, 2.835637408947562, 6.221835374021564, 11.813217602534639, 2.305327084394439, 5.916731274386818, 4.325800719903903, 10.017951506963382, 2.425718290231038, 2.425718290231038, 7.286502237460664, 4.49083691175024, 3.486337989707849, 9.616125654346277, 27.480394432540976, 3.2009104913659545, 23.463117915850635, 3.1406883150911846, 7.6558225346165365, 6.530933920972926, 3.610830709787653, 3.610830709787653, 2.060446235358881, 6.161614110576254, 20.6744532133424, 5.81596370014437, 3.0805196719176746, 10.8613536598975, 5.285598282368722, 3.2009105523413894, 4.450237737402671, 37.583682091184585, 12.559734820119111, 11.129794976046265, 7.554945365834243, 6.83997544378206, 5.410035599656441, 4.695065677575698, 4.695065672993076, 3.980095755473095, 3.980095755473095, 3.980095755473095, 3.980095755473095, 3.980095755473095, 3.9800957499118614, 3.9800957499118614, 3.9800957499118614, 14.929912675175657, 3.2651258333315227, 3.2651258333315227, 3.2651258333315227, 3.2651258333315227, 3.2651258333315227, 3.2651258333315227, 3.2651258333315227, 3.2651258333315227, 3.2651258333315227, 3.2651258305036377, 3.2651258305036377, 3.2651258305036377, 3.2651258290896954, 6.655317114727065, 5.4702571885738065, 5.470257347419665, 4.390016639478792, 10.47105493970091, 7.370340834843842, 23.217594439063454, 4.755287462707513, 6.5308785569348995, 10.8613536598975, 11.591897105901896, 17.672989820270384, 26.449036296998287, 16.677944309552547, 9.695917655723271, 11.447784115996747, 13.161954878516207, 9.386764966783332, 43.44855150952651, 23.463117915850635, 5.285598282368722, 7.6558225346165365, 5.7342072149746155, 4.504446969069227, 3.274686723146444, 2.864766641163668, 2.864766641163668, 2.864766641163668, 2.864766641163668, 2.864766641163668, 2.454846559172222, 2.454846559172222, 2.454846559172222, 7.269003283168197, 2.0449264771653244, 2.0449264771653244, 2.0449264771653244, 2.0449264771653244, 2.0449264771653244, 2.0449264771653244, 1.6350063951266716, 1.6350063951266716, 1.2250863130050353, 1.2250863130050353, 1.2250863130050353, 1.2250863130050353, 1.2250863130050353, 1.2250863130050353, 1.2250863130050353, 1.2250863130050353, 1.2250863130050353, 1.2250863130050353, 39.96658842969703, 2.165316835631749, 2.3499750665813584, 2.410195942927788, 2.9405061240449393, 6.150085028226669, 23.217594439063454, 43.44855150952651, 20.6744532133424, 9.616125654346277, 29.087347494214768, 26.76177170931166, 21.3354282107483, 12.80831699755666, 11.257933141161233, 11.257933139086498, 10.482741213002827, 10.48274121076438, 9.707549282449401, 8.157165428415823, 8.157165427682674, 8.157165426949522, 7.381973499616346, 7.381973496345732, 7.381973496345732, 7.381973496345732, 6.606781569779283, 6.606781568393038, 6.606781568393038, 5.83158964322008, 5.83158964322008, 5.83158964322008, 5.83158964322008, 5.8315896426888045, 5.831589642157532, 5.056397714797448, 5.056397714797448, 5.056397714797448, 5.056397714172643, 5.056397712923036, 15.073671426687177, 10.527391023515584, 16.318954419341168, 43.44855150952651, 10.952831990636762, 26.449036296998287, 8.096943729775502, 20.6744532133424, 15.363095935524164, 7.016703353537418, 7.426622508404316, 11.813217602534639, 12.238658045102799, 17.672989820270384, 13.161954878516207, 27.480394432540976, 23.463117915850635, 10.748495512028082], \"Category\": [\"Default\", \"Default\", \"Default\", \"Default\", \"Default\", \"Default\", \"Default\", \"Default\", \"Default\", \"Default\", \"Default\", \"Default\", \"Default\", \"Default\", \"Default\", \"Default\", \"Default\", \"Default\", \"Default\", \"Default\", \"Default\", \"Default\", \"Default\", \"Default\", \"Default\", \"Default\", \"Default\", \"Default\", \"Default\", \"Default\", \"Topic1\", \"Topic1\", \"Topic1\", \"Topic1\", \"Topic1\", \"Topic1\", \"Topic1\", \"Topic1\", \"Topic1\", \"Topic1\", \"Topic1\", \"Topic1\", \"Topic1\", \"Topic1\", \"Topic1\", \"Topic1\", \"Topic1\", \"Topic1\", \"Topic1\", \"Topic1\", \"Topic1\", \"Topic1\", \"Topic1\", \"Topic1\", \"Topic1\", \"Topic1\", \"Topic1\", \"Topic1\", \"Topic1\", \"Topic1\", \"Topic1\", \"Topic1\", \"Topic1\", \"Topic1\", \"Topic1\", \"Topic1\", \"Topic1\", \"Topic1\", \"Topic1\", \"Topic1\", \"Topic1\", \"Topic1\", \"Topic1\", \"Topic1\", \"Topic1\", \"Topic1\", \"Topic1\", \"Topic1\", \"Topic1\", \"Topic1\", \"Topic1\", \"Topic1\", \"Topic1\", \"Topic1\", \"Topic1\", \"Topic1\", \"Topic1\", \"Topic1\", \"Topic1\", \"Topic1\", \"Topic2\", \"Topic2\", \"Topic2\", \"Topic2\", \"Topic2\", \"Topic2\", \"Topic2\", \"Topic2\", \"Topic2\", \"Topic2\", \"Topic2\", \"Topic2\", \"Topic2\", \"Topic2\", \"Topic2\", \"Topic2\", \"Topic2\", \"Topic2\", \"Topic2\", \"Topic2\", \"Topic2\", \"Topic2\", \"Topic2\", \"Topic2\", \"Topic2\", \"Topic2\", \"Topic2\", \"Topic2\", \"Topic2\", \"Topic2\", \"Topic2\", \"Topic2\", \"Topic2\", \"Topic2\", \"Topic2\", \"Topic2\", \"Topic2\", \"Topic2\", \"Topic2\", \"Topic2\", \"Topic2\", \"Topic2\", \"Topic2\", \"Topic2\", \"Topic2\", \"Topic2\", \"Topic2\", \"Topic2\", \"Topic2\", \"Topic2\", \"Topic2\", \"Topic2\", \"Topic2\", \"Topic2\", \"Topic2\", \"Topic2\", \"Topic2\", \"Topic2\", \"Topic3\", \"Topic3\", \"Topic3\", \"Topic3\", \"Topic3\", \"Topic3\", \"Topic3\", \"Topic3\", \"Topic3\", \"Topic3\", \"Topic3\", \"Topic3\", \"Topic3\", \"Topic3\", \"Topic3\", \"Topic3\", \"Topic3\", \"Topic3\", \"Topic3\", \"Topic3\", \"Topic3\", \"Topic3\", \"Topic3\", \"Topic3\", \"Topic3\", \"Topic3\", \"Topic3\", \"Topic3\", \"Topic3\", \"Topic3\", \"Topic3\", \"Topic3\", \"Topic3\", \"Topic3\", \"Topic3\", \"Topic3\", \"Topic3\", \"Topic3\", \"Topic3\", \"Topic3\", \"Topic3\", \"Topic3\", \"Topic3\", \"Topic3\", \"Topic3\", \"Topic3\", \"Topic3\", \"Topic3\", \"Topic3\", \"Topic3\", \"Topic3\", \"Topic3\", \"Topic3\", \"Topic3\", \"Topic3\", \"Topic3\", \"Topic3\", \"Topic3\", \"Topic3\", \"Topic3\", \"Topic4\", \"Topic4\", \"Topic4\", \"Topic4\", \"Topic4\", \"Topic4\", \"Topic4\", \"Topic4\", \"Topic4\", \"Topic4\", \"Topic4\", \"Topic4\", \"Topic4\", \"Topic4\", \"Topic4\", \"Topic4\", \"Topic4\", \"Topic4\", \"Topic4\", \"Topic4\", \"Topic4\", \"Topic4\", \"Topic4\", \"Topic4\", \"Topic4\", \"Topic4\", \"Topic4\", \"Topic4\", \"Topic4\", \"Topic4\", \"Topic4\", \"Topic4\", \"Topic4\", \"Topic4\", \"Topic4\", \"Topic4\", \"Topic4\", \"Topic4\", \"Topic4\", \"Topic4\", \"Topic4\", \"Topic4\", \"Topic4\", \"Topic4\", \"Topic4\", \"Topic4\", \"Topic4\", \"Topic4\", \"Topic4\", \"Topic4\", \"Topic4\", \"Topic4\", \"Topic5\", \"Topic5\", \"Topic5\", \"Topic5\", \"Topic5\", \"Topic5\", \"Topic5\", \"Topic5\", \"Topic5\", \"Topic5\", \"Topic5\", \"Topic5\", \"Topic5\", \"Topic5\", \"Topic5\", \"Topic5\", \"Topic5\", \"Topic5\", \"Topic5\", \"Topic5\", \"Topic5\", \"Topic5\", \"Topic5\", \"Topic5\", \"Topic5\", \"Topic5\", \"Topic5\", \"Topic5\", \"Topic5\", \"Topic5\", \"Topic5\", \"Topic5\", \"Topic5\", \"Topic5\", \"Topic5\", \"Topic5\", \"Topic5\", \"Topic5\", \"Topic5\", \"Topic5\", \"Topic6\", \"Topic6\", \"Topic6\", \"Topic6\", \"Topic6\", \"Topic6\", \"Topic6\", \"Topic6\", \"Topic6\", \"Topic6\", \"Topic6\", \"Topic6\", \"Topic6\", \"Topic6\", \"Topic6\", \"Topic6\", \"Topic6\", \"Topic6\", \"Topic6\", \"Topic6\", \"Topic6\", \"Topic6\", \"Topic6\", \"Topic6\", \"Topic6\", \"Topic6\", \"Topic6\", \"Topic6\", \"Topic6\", \"Topic6\", \"Topic6\", \"Topic6\", \"Topic6\", \"Topic6\", \"Topic6\", \"Topic6\", \"Topic6\", \"Topic6\", \"Topic6\", \"Topic6\", \"Topic6\", \"Topic6\", \"Topic6\", \"Topic6\", \"Topic6\", \"Topic6\", \"Topic6\", \"Topic6\"], \"logprob\": [30.0, 29.0, 28.0, 27.0, 26.0, 25.0, 24.0, 23.0, 22.0, 21.0, 20.0, 19.0, 18.0, 17.0, 16.0, 15.0, 14.0, 13.0, 12.0, 11.0, 10.0, 9.0, 8.0, 7.0, 6.0, 5.0, 4.0, 3.0, 2.0, 1.0, -9.3115, -9.3115, -9.3115, -9.3115, -9.3115, -9.3115, -9.3115, -9.3115, -9.3115, -9.3115, -9.3115, -9.3115, -9.3115, -9.3115, -9.3115, -9.3115, -9.3115, -9.3115, -9.3115, -9.3115, -9.3115, -9.3115, -9.3115, -9.3115, -9.3115, -9.3115, -9.3115, -9.3115, -9.3115, -9.3115, -9.3115, -9.3115, -9.3115, -9.3115, -9.3115, -9.3115, -9.3115, -9.3115, -9.3115, -9.3115, -9.3115, -9.3115, -9.3115, -9.3115, -9.3115, -9.3115, -9.3115, -9.3115, -9.3115, -9.3115, -9.3115, -9.3115, -9.3115, -9.3115, -9.3115, -9.3115, -9.3115, -9.3115, -9.3115, -9.3115, -6.4562, -6.4562, -6.6331, -6.8483, -6.8483, -6.8483, -6.8483, -6.8483, -6.8483, -7.1227, -7.1227, -7.1227, -7.1227, -7.1227, -7.1227, -7.1227, -7.1227, -7.1227, -7.1227, -7.5022, -7.5022, -7.5022, -7.5022, -7.5022, -7.5022, -7.5022, -7.5022, -7.5022, -7.5022, -7.5022, -6.4562, -6.8483, -4.4431, -6.1753, -6.3059, -6.4562, -6.4562, -5.0109, -6.8483, -6.8483, -5.2713, -6.0598, -6.4562, -6.3059, -6.8483, -6.3059, -6.6331, -6.4562, -6.6331, -6.6331, -6.6331, -6.6331, -6.8483, -6.8483, -6.8483, -6.8483, -6.8483, -6.8483, -9.3115, -9.3115, -9.3115, -9.3115, -9.3115, -9.3115, -9.3115, -9.3115, -9.3115, -9.3115, -9.3115, -9.3115, -9.3115, -9.3115, -9.3115, -9.3115, -9.3115, -9.3115, -9.3115, -9.3115, -9.3115, -9.3115, -9.3115, -9.3115, -9.3115, -9.3115, -9.3115, -9.3115, -9.3115, -9.3115, -9.3115, -9.3115, -9.3115, -9.3115, -9.3115, -9.3115, -9.3115, -9.3115, -9.3115, -9.3115, -9.3115, -9.3115, -9.3115, -9.3115, -9.3115, -9.3115, -9.3115, -9.3115, -9.3115, -9.3115, -9.3115, -9.3115, -9.3115, -9.3115, -9.3115, -9.3115, -9.3115, -9.3115, -9.3115, -9.3115, -4.821, -5.9324, -6.0563, -6.4563, -6.5598, -6.806, -6.9562, -6.9562, -7.1332, -7.1332, -7.1332, -7.1332, -7.1332, -7.1332, -7.1332, -7.1332, -5.8222, -7.3483, -7.3483, -7.3483, -7.3483, -7.3483, -7.3483, -7.3483, -7.3483, -7.3483, -7.3483, -7.3483, -7.3483, -7.3483, -6.6753, -6.9562, -6.9562, -7.1332, -6.5598, -6.806, -6.0563, -7.1332, -6.9562, -6.6753, -6.6753, -6.4563, -6.2767, -6.5598, -6.806, -6.806, -6.806, -6.9562, -6.806, -6.9562, -7.1332, -7.1332, -5.4695, -5.7281, -6.0777, -6.228, -6.228, -6.228, -6.228, -6.228, -6.405, -6.405, -6.405, -5.3281, -6.6201, -6.6201, -6.6201, -6.6201, -6.6201, -6.6201, -6.8945, -6.8945, -7.274, -7.274, -7.274, -7.274, -7.274, -7.274, -7.274, -7.274, -7.274, -7.274, -4.4318, -6.8945, -6.8945, -6.8945, -6.8945, -6.6201, -6.228, -6.0777, -6.405, -6.8945, -5.3973, -5.4815, -5.7108, -6.2298, -6.3619, -6.3619, -6.4351, -6.4351, -6.514, -6.6936, -6.6936, -6.6936, -6.7972, -6.7972, -6.7972, -6.7972, -6.9127, -6.9127, -6.9127, -7.0433, -7.0433, -7.0433, -7.0433, -7.0433, -7.0433, -7.1936, -7.1936, -7.1936, -7.1936, -7.1936, -6.1132, -6.514, -6.1132, -5.2248, -6.514, -5.9142, -6.7972, -6.1132, -6.3619, -6.9127, -6.9127, -6.6936, -6.6936, -6.5998, -6.6936, -6.514, -6.6936, -6.7972], \"loglift\": [30.0, 29.0, 28.0, 27.0, 26.0, 25.0, 24.0, 23.0, 22.0, 21.0, 20.0, 19.0, 18.0, 17.0, 16.0, 15.0, 14.0, 13.0, 12.0, 11.0, 10.0, 9.0, 8.0, 7.0, 6.0, 5.0, 4.0, 3.0, 2.0, 1.0, 0.4648, 0.4648, 0.4648, 0.4648, 0.4648, 0.4648, 0.4648, 0.4648, 0.4648, 0.4648, 0.4648, 0.4648, 0.4648, 0.4648, 0.4648, 0.4648, 0.4648, 0.4648, 0.4648, 0.4648, 0.4648, 0.4648, 0.4648, 0.4648, 0.4648, 0.4648, 0.4648, 0.4648, 0.4648, 0.4648, -0.7819, -1.5677, -2.2088, -0.5748, -1.5174, -1.2042, -2.044, -0.6257, -0.6257, -1.7256, -1.2416, -0.9885, -2.003, -3.0531, -0.903, -2.895, -0.884, -1.7751, -1.6161, -1.0235, -1.0235, -0.4625, -1.5579, -2.7685, -1.5002, -0.8647, -2.1248, -1.4046, -0.903, -1.2326, 1.8383, 1.8383, 1.8213, 1.7968, 1.7968, 1.7968, 1.7968, 1.7968, 1.7968, 1.7579, 1.7579, 1.7579, 1.7579, 1.7579, 1.7579, 1.7579, 1.7579, 1.7579, 1.7579, 1.6872, 1.6872, 1.6872, 1.6872, 1.6872, 1.6872, 1.6872, 1.6872, 1.6872, 1.6872, 1.6872, 1.6426, 1.6464, 1.4407, 1.5723, 1.5311, 1.5028, 1.5028, 1.2475, 1.5476, 1.5476, 1.1451, 1.3173, 1.3696, 1.0947, 1.5157, 0.8281, 1.121, 0.3015, 0.6343, 0.5639, 0.4341, -0.2062, 0.9458, 0.2544, 0.7611, 0.9257, 0.6887, 0.578, 0.4648, 0.4648, 0.4648, 0.4648, 0.4648, 0.4648, 0.4648, 0.4648, 0.4648, 0.4648, 0.4648, 0.4648, 0.4648, 0.4648, 0.4648, 0.4648, 0.4648, 0.4648, 0.4648, 0.4648, 0.4648, 0.4648, 0.4648, 0.4648, 0.4648, 0.4648, 0.4648, 0.4648, 0.4648, 0.4648, -0.7819, -1.5677, -2.2088, -0.5748, -1.5174, -1.2042, -2.044, -0.6257, -0.6257, -1.7256, -1.2416, -0.9885, -2.003, -3.0531, -0.903, -2.895, -0.884, -1.7751, -1.6161, -1.0235, -1.0235, -0.4625, -1.5579, -2.7685, -1.5002, -0.8647, -2.1248, -1.4046, -0.903, -1.2326, 1.1243, 1.1089, 1.1059, 1.0934, 1.0892, 1.0776, 1.0691, 1.0691, 1.0574, 1.0574, 1.0574, 1.0574, 1.0574, 1.0574, 1.0574, 1.0574, 1.0463, 1.0403, 1.0403, 1.0403, 1.0403, 1.0403, 1.0403, 1.0403, 1.0403, 1.0403, 1.0403, 1.0403, 1.0403, 1.0403, 1.0011, 0.9163, 0.9163, 0.9594, 0.6634, 0.7684, 0.3706, 0.8794, 0.7391, 0.5113, 0.4462, 0.2435, 0.0199, 0.1979, 0.4942, 0.3281, 0.1886, 0.3763, -1.0057, -0.5398, 0.7737, 0.4032, 2.3559, 2.3387, 2.3079, 2.2913, 2.2913, 2.2913, 2.2913, 2.2913, 2.2688, 2.2688, 2.2688, 2.2601, 2.2364, 2.2364, 2.2364, 2.2364, 2.2364, 2.2364, 2.1857, 2.1857, 2.0948, 2.0948, 2.0948, 2.0948, 2.0948, 2.0948, 2.0948, 2.0948, 2.0948, 2.0948, 1.452, 1.9048, 1.8229, 1.7976, 1.5988, 1.1353, 0.1989, -0.2775, 0.138, 0.4139, 0.8042, 0.8034, 0.8007, 0.792, 0.7889, 0.7889, 0.7871, 0.7871, 0.7849, 0.7793, 0.7793, 0.7793, 0.7756, 0.7756, 0.7756, 0.7756, 0.7711, 0.7711, 0.7711, 0.7653, 0.7653, 0.7653, 0.7653, 0.7653, 0.7653, 0.7576, 0.7576, 0.7576, 0.7576, 0.7576, 0.7458, 0.7038, 0.6664, 0.5755, 0.6642, 0.3825, 0.6832, 0.4298, 0.478, 0.7109, 0.6541, 0.409, 0.3736, 0.1, 0.3009, -0.2557, -0.2772, 0.3999]}, \"token.table\": {\"Topic\": [5, 5, 5, 5, 5, 5, 5, 5, 5, 5, 5, 5, 5, 5, 5, 6, 5, 5, 5, 6, 5, 5, 5, 4, 2, 5, 5, 5, 5, 2, 2, 2, 2, 4, 2, 2, 2, 4, 6, 4, 5, 4, 5, 4, 4, 6, 2, 4, 5, 6, 6, 2, 4, 5, 6, 2, 2, 2, 2, 4, 6, 2, 2, 2, 2, 4, 6, 4, 6, 4, 2, 6, 6, 4, 2, 4, 5, 6, 2, 2, 2, 6, 2, 4, 4, 2, 4, 6, 4, 4, 4, 6, 4, 4, 2, 4, 6, 2, 2, 4, 2, 4, 6, 4, 5, 4, 2, 4, 6, 6, 4, 4, 2, 4, 6, 6, 2, 4, 5, 6, 4, 2, 4, 6, 2, 4, 6, 2, 2, 4, 5, 6, 2, 4, 5, 6, 2, 4, 6, 4, 2, 4, 6, 4, 6, 6, 6, 2, 4, 6, 2, 5, 2, 4, 2, 4, 5, 6, 2, 2, 4, 6, 2, 4, 6, 2, 4, 5, 6, 2, 2, 4, 6, 4, 6, 2, 4, 5, 6, 2, 4, 6, 6, 6, 6, 4, 4, 2, 4, 6, 2, 4, 6, 2, 6, 2, 4, 6, 4, 6, 2, 4, 6, 2, 4, 6, 4, 4, 6, 2, 4, 6, 2, 4, 6, 2, 2, 5, 6, 2, 4, 5, 2, 4, 6, 4, 6, 2, 2, 6, 2, 4, 6, 6, 6, 6, 5, 6, 6, 4, 6, 2, 4, 5, 6, 5, 5, 2, 4, 5, 6, 2, 2, 6, 2, 4, 6, 2, 4, 6, 5, 6, 2, 4, 5, 6, 2, 4, 6, 2, 4, 6, 4, 4, 6, 2, 4, 6, 2, 4, 6, 6, 5, 2, 4, 6, 6, 6, 2, 4, 6, 6, 6, 2, 4, 2, 2, 5, 6, 4, 4, 6, 2, 2, 4, 4, 6, 2, 4, 2, 4, 6, 2, 2, 4, 6, 2, 4, 6, 2, 4, 5, 2, 6, 2, 6, 4, 2, 4, 5, 6, 6, 2, 6, 4, 6, 4, 6, 4], \"Freq\": [0.8719601180338814, 0.97803027264452, 0.8162690166271491, 0.8162690166271491, 0.8162690166271491, 0.8162690166271491, 0.97803027264452, 0.8162690166271491, 0.8162690166271491, 0.8162690166271491, 0.8162690166271491, 0.97803027264452, 1.047205715430071, 0.8162690166271491, 0.8162690166271491, 0.9807328379208382, 0.6116184028274246, 0.8147148719040114, 0.6116184028274246, 1.0288789793321136, 1.047205715430071, 1.047205715430071, 1.047205715430071, 0.9265454164177184, 0.6005015925293959, 0.3753134953308725, 0.97803027264452, 0.8880113424504444, 1.047205715430071, 1.0019143492459697, 0.7916122538918839, 0.7916122538918839, 0.6821897610289614, 1.0233954869477508, 0.6821897610289614, 0.6821897610289614, 0.31840154121468967, 0.6368030824293793, 0.31840154121468967, 0.1375704427477091, 0.8254226564862547, 0.9188007302429121, 0.8147148719040114, 1.0050009461454625, 0.7312270451113599, 0.18280676127783999, 0.27448011883092444, 0.27448011883092444, 0.13724005941546222, 0.27448011883092444, 0.908157767383317, 0.1292123526351429, 0.4737786263288573, 0.1292123526351429, 0.3014954894820001, 0.6821897610289614, 0.6821897610289614, 0.6821897610289614, 0.4688208975231246, 0.17048032637204533, 0.34096065274409065, 0.6821897610289614, 0.6821897610289614, 0.6821897610289614, 0.31241111011925254, 0.31241111011925254, 0.6248222202385051, 0.3402770482424501, 0.6427455355690724, 0.9188007302429121, 0.9814183924297933, 1.0288789793321136, 1.0288789793321136, 0.9188007302429121, 0.5569043391165417, 0.2227617356466167, 0.11138086782330835, 0.2227617356466167, 0.6821897610289614, 0.6821897610289614, 0.6453576009373302, 0.3226788004686651, 0.1502558004016327, 0.9015348024097962, 1.0050009475497115, 0.06697962819720475, 0.9377147947608664, 0.9482559106267695, 0.9188007302429121, 0.955434184866508, 0.5156809471302202, 0.4125447577041761, 0.9188007302429121, 0.918800731038674, 0.5094541140727539, 0.1455583183065011, 0.3275062161896275, 1.0019143492459697, 0.8363275985093156, 0.9242083361369231, 0.485331761071564, 0.485331761071564, 1.0149655104944626, 0.4255364298204051, 0.4255364298204051, 0.9188007302429121, 0.18919334133578034, 0.7567733653431213, 0.18919334133578034, 1.0288789794258475, 1.0050009475497115, 1.0050009475497115, 0.31241110416800744, 0.31241110416800744, 0.6248222083360149, 0.9969970622370382, 0.10399198554024947, 0.41596794216099786, 0.10399198554024947, 0.41596794216099786, 0.9111582776312445, 0.21306595052473787, 0.42613190104947574, 0.3195989257871068, 0.32459027198198775, 0.32459027198198775, 0.32459027198198775, 1.0019143492459697, 0.13061953767585444, 0.5224781507034177, 0.13061953767585444, 0.26123907535170887, 0.18413911033800867, 0.552417331014026, 0.09206955516900434, 0.18413911033800867, 0.8363275985093156, 0.9188007302429121, 0.8551024174301377, 0.8519582639724875, 0.11316704306059525, 0.3960846507120834, 0.5092516937726786, 1.0050009461454625, 0.9539489525503088, 0.977088766126086, 0.9888462664281934, 0.17194055044999282, 0.34388110089998564, 0.34388110089998564, 0.5976696953233263, 0.2988348476616631, 0.5233757366073628, 0.3489171577382419, 0.1798782838171311, 0.41971599557330597, 0.05995942793904371, 0.3597565676342622, 1.0019143492459697, 1.0019143492459697, 0.06634083838589916, 0.9287717374025882, 0.0955013612055944, 0.6685095284391608, 0.2865040836167832, 0.29946241982851773, 0.09982080660950592, 0.09982080660950592, 0.5989248396570355, 1.0019143492459697, 0.2769445815582997, 0.2769445815582997, 0.5538891631165994, 0.6741212890237444, 0.2247070963412481, 0.16930188432073587, 0.08465094216036793, 0.08465094216036793, 0.6772075372829435, 0.34941259893349447, 0.4367657486668681, 0.17470629946674723, 0.9807328380089844, 0.9482559106267695, 0.908157767573868, 0.918800731038674, 0.9188007314365549, 0.41224902497014804, 0.41224902497014804, 0.41224902497014804, 0.2810008095433613, 0.14050040477168066, 0.5620016190867226, 1.0019143492459697, 0.908157767573868, 0.41224902497014804, 0.41224902497014804, 0.41224902497014804, 0.32462055318656136, 0.6492411063731227, 0.5736678445705139, 0.28683392228525695, 0.28683392228525695, 0.35265439680143973, 0.35265439680143973, 0.35265439680143973, 0.9188007302429121, 0.4337779253839283, 0.4337779253839283, 0.2613790996384957, 0.5227581992769914, 0.2613790996384957, 0.3380244779170355, 0.3380244779170355, 0.3380244779170355, 0.7916122538918839, 0.4618261787579192, 0.4618261787579192, 1.028878979519581, 0.16259937796150153, 0.6503975118460061, 0.32519875592300307, 0.2769445815582997, 0.2769445815582997, 0.5538891631165994, 0.12350339009058746, 0.8645237306341123, 1.0019143492459697, 0.4561746002788212, 0.5702182503485265, 0.06509104702572968, 0.2603641881029187, 0.7160015172830265, 0.988846266061627, 0.9271135008576673, 0.9482559106267695, 0.41490402592963, 0.41490402592963, 0.980732838097131, 0.6783946783522037, 0.27135787134088146, 0.023015726997958504, 0.11507863498979252, 0.06904718099387551, 0.7825347179305892, 0.97803027264452, 0.97803027264452, 0.09673774582387921, 0.09673774582387921, 0.09673774582387921, 0.6771642207671545, 0.7916122538918839, 0.4872054058171393, 0.4872054058171393, 0.2339904429297421, 0.2339904429297421, 0.4679808858594842, 0.09130058790775473, 0.09130058790775473, 0.8217052911697926, 0.09499029700390607, 0.8549126730351546, 0.2226756436831424, 0.4453512873662848, 0.2226756436831424, 0.2226756436831424, 0.2451249139361669, 0.16341660929077792, 0.6536664371631117, 0.1725343126951774, 0.5176029380855323, 0.3450686253903548, 0.9844698002242444, 0.9188007302429121, 0.9539489527540117, 0.1531187559655564, 0.6124750238622256, 0.1531187559655564, 0.1531174579471213, 0.4593523738413639, 0.3062349158942426, 0.9888462661838159, 0.8147148719040114, 0.32144855653859483, 0.16072427826929742, 0.4821728348078922, 0.988846266061627, 0.9482559102066408, 0.0612784357565705, 0.122556871513141, 0.857898100591987, 0.9715350793069278, 0.9842783464463432, 0.5979609679827281, 0.39864064532181875, 0.7916122538918839, 0.3400775097262532, 0.3400775097262532, 0.3400775097262532, 0.918800731038674, 0.7312270238779188, 0.1828067559694797, 1.0019143492459697, 0.7916122538918839, 1.0050009461454625, 0.9883380622620981, 0.9770887659460173, 0.6170062031017975, 0.3085031015508988, 0.23117107438601908, 0.46234214877203816, 0.46234214877203816, 1.0019143492459697, 0.2791088293838757, 0.09303627646129191, 0.6512539352290434, 0.6170063548986227, 0.3085031774493113, 0.988846266061627, 0.5979610300200733, 0.3986406866800489, 0.9161181675166428, 0.7057407611376946, 0.3528703805688473, 0.3312806316915285, 0.4969209475372927, 0.851958263140933, 0.6811037721187709, 1.0050009461454625, 0.13465071085387104, 0.8079042651232262, 1.0288789793321136, 0.6877104248625002, 0.22923680828750007, 0.37988277927933967, 0.6078124468469435, 0.8411689159423653, 0.21029222898559133, 1.0050009461454625], \"Term\": [\"animated\", \"animated apitext\", \"animated timing\", \"animated timing animationvalue\", \"animated value\", \"animated value currenttext\", \"animationvalue\", \"animationvalue text\", \"animationvalue text tovalue\", \"animationvalue useref\", \"animationvalue useref new\", \"apitext\", \"const\", \"const animationvalue\", \"const animationvalue useref\", \"devops\", \"fps\", \"javascript\", \"javascript \\u0442\\u0440\\u0435\\u0434\", \"linux\", \"native\", \"react\", \"react native\", \"robogames\", \"text\", \"text\", \"text const\", \"text text\", \"text text text\", \"text \\u0432\\u0440\\u0435\\u043c\\u044f\", \"text \\u0437\\u0430\\u0434\\u0430\\u0447\\u0430\", \"text \\u0437\\u0430\\u0434\\u0430\\u0447\\u0430 \\u0442\\u0438\\u043f\", \"text \\u043e\\u0442\\u0441\\u0443\\u0442\\u0441\\u0442\\u0432\\u0438\\u0435\", \"\\u0430\\u0432\\u0442\\u043e\\u043d\\u043e\\u043c\\u043d\\u044b\\u0439\", \"\\u0430\\u0434\\u0430\\u043f\\u0442\\u0438\\u0440\\u043e\\u0432\\u0430\\u0442\\u044c\\u0441\\u044f \\u043e\\u043d\\u043e\", \"\\u0430\\u0434\\u0430\\u043f\\u0442\\u0438\\u0440\\u043e\\u0432\\u0430\\u0442\\u044c\\u0441\\u044f \\u043e\\u043d\\u043e \\u043d\\u0430\\u043b\\u0430\\u0436\\u0438\\u0432\\u0430\\u0442\\u044c\\u0441\\u044f\", \"\\u0430\\u043d\\u0430\\u043b\\u0438\\u0437\\u0438\\u0440\\u043e\\u0432\\u0430\\u0442\\u044c\", \"\\u0430\\u043d\\u0430\\u043b\\u0438\\u0437\\u0438\\u0440\\u043e\\u0432\\u0430\\u0442\\u044c\", \"\\u0430\\u043d\\u0430\\u043b\\u0438\\u0437\\u0438\\u0440\\u043e\\u0432\\u0430\\u0442\\u044c\", \"\\u0430\\u043d\\u0438\\u043c\\u0430\\u0446\\u0438\\u044f\", \"\\u0430\\u043d\\u0438\\u043c\\u0430\\u0446\\u0438\\u044f\", \"\\u0430\\u0440\\u0435\\u043d\\u0430\", \"\\u0431\\u0438\\u0431\\u043b\\u0438\\u043e\\u0442\\u0435\\u043a\\u0430\", \"\\u0431\\u0438\\u0442\\u0432\\u0430\", \"\\u0431\\u044b\\u0441\\u0442\\u0440\\u043e\", \"\\u0431\\u044b\\u0441\\u0442\\u0440\\u043e\", \"\\u0432\\u0430\\u0436\\u043d\\u044b\\u0439\", \"\\u0432\\u0430\\u0436\\u043d\\u044b\\u0439\", \"\\u0432\\u0430\\u0436\\u043d\\u044b\\u0439\", \"\\u0432\\u0430\\u0436\\u043d\\u044b\\u0439\", \"\\u0432\\u0430\\u043a\\u0430\\u043d\\u0441\\u0438\\u044f\", \"\\u0432\\u0435\\u0441\\u044c\", \"\\u0432\\u0435\\u0441\\u044c\", \"\\u0432\\u0435\\u0441\\u044c\", \"\\u0432\\u0435\\u0441\\u044c\", \"\\u0432\\u0435\\u0441\\u044c \\u0437\\u0430\\u0434\\u0430\\u0447\\u0430\", \"\\u0432\\u0435\\u0447\\u043d\\u044b\\u0439\", \"\\u0432\\u0435\\u0447\\u043d\\u044b\\u0439 \\u043f\\u043e\\u0438\\u0441\\u043a\", \"\\u0432\\u0440\\u0435\\u043c\\u044f\", \"\\u0432\\u0440\\u0435\\u043c\\u044f\", \"\\u0432\\u0440\\u0435\\u043c\\u044f\", \"\\u0432\\u0440\\u0435\\u043c\\u044f \\u0437\\u0430\\u0434\\u0430\\u0447\\u0430\", \"\\u0432\\u0440\\u0435\\u043c\\u044f \\u0443\\u0445\\u043e\\u0434\\u0438\\u0442\\u044c\", \"\\u0432\\u044b\\u0434\\u0435\\u043b\\u044f\\u0442\\u044c \\u0432\\u0440\\u0435\\u043c\\u044f\", \"\\u0432\\u044b\\u0445\\u043e\\u0434\\u0438\\u0442\\u044c\", \"\\u0432\\u044b\\u0445\\u043e\\u0434\\u0438\\u0442\\u044c\", \"\\u0432\\u044b\\u0445\\u043e\\u0434\\u0438\\u0442\\u044c\", \"\\u0433\\u043e\\u0434\", \"\\u0433\\u043e\\u0434\", \"\\u0433\\u043e\\u043d\\u043a\\u0430\", \"\\u0433\\u0440\\u0430\\u0444\\u0438\\u043a\", \"\\u0434\\u0430\\u0442\\u0430\", \"\\u0434\\u0430\\u0442\\u0430 \\u0446\\u0435\\u043d\\u0442\\u0440\", \"\\u0434\\u0432\\u0438\\u0436\\u0435\\u043d\\u0438\\u0435\", \"\\u0434\\u0435\\u043b\\u0430\\u0442\\u044c\", \"\\u0434\\u0435\\u043b\\u0430\\u0442\\u044c\", \"\\u0434\\u0435\\u043b\\u0430\\u0442\\u044c\", \"\\u0434\\u0435\\u043b\\u0430\\u0442\\u044c\", \"\\u0434\\u0435\\u043b\\u0430\\u0442\\u044c text\", \"\\u0434\\u0435\\u043b\\u0430\\u0442\\u044c \\u0437\\u0430\\u0434\\u0430\\u0447\\u0430\", \"\\u0434\\u0435\\u043d\\u044c\", \"\\u0434\\u0435\\u043d\\u044c\", \"\\u0434\\u0438\\u0437\\u0430\\u0439\\u043d\", \"\\u0434\\u0438\\u0437\\u0430\\u0439\\u043d\", \"\\u0434\\u0438\\u0437\\u0430\\u0439\\u043d \\u0440\\u0435\\u0448\\u0435\\u043d\\u0438\\u0435\", \"\\u0434\\u0438\\u0437\\u0430\\u0439\\u043d\\u0435\\u0440\", \"\\u0434\\u0438\\u0437\\u0430\\u0439\\u043d\\u0435\\u0440\", \"\\u0434\\u0438\\u0440\\u0435\\u043a\\u0442\\u043e\\u0440\", \"\\u0434\\u0438\\u0441\\u0442\\u0430\\u043d\\u0446\\u0438\\u043e\\u043d\\u043d\\u044b\\u0439\", \"\\u0434\\u0438\\u0441\\u0446\\u0438\\u043f\\u043b\\u0438\\u043d\\u0430\", \"\\u0434\\u043e\\u043b\\u0436\\u043d\\u044b\\u0439\", \"\\u0434\\u043e\\u043b\\u0436\\u043d\\u044b\\u0439\", \"\\u0434\\u043e\\u043f\\u0443\\u0441\\u0442\\u0438\\u043c\\u044b\\u0439\", \"\\u0434\\u0440\\u0443\\u0433\", \"\\u0437\\u0430\\u0434\\u0430\\u0447\\u0430\", \"\\u0437\\u0430\\u0434\\u0430\\u0447\\u0430\", \"\\u0437\\u0430\\u0434\\u0430\\u0447\\u0430\", \"\\u0437\\u0430\\u0434\\u0430\\u0447\\u0430 text\", \"\\u0437\\u0430\\u0434\\u0430\\u0447\\u0430 \\u0442\\u0438\\u043f\", \"\\u0437\\u0430\\u043f\\u0440\\u0435\\u0449\\u0430\\u0442\\u044c\", \"\\u0437\\u0432\\u0430\\u0442\\u044c\", \"\\u0437\\u0432\\u0430\\u0442\\u044c\", \"\\u0437\\u043d\\u0430\\u043d\\u0438\\u0435\", \"\\u0437\\u043d\\u0430\\u0447\\u0435\\u043d\\u0438\\u0435\", \"\\u0437\\u043d\\u0430\\u0447\\u0435\\u043d\\u0438\\u0435\", \"\\u0438\\u0433\\u0440\\u0430\", \"\\u0438\\u0434\\u0435\\u044f\", \"\\u0438\\u0434\\u0435\\u044f\", \"\\u0438\\u0434\\u0435\\u044f\", \"\\u0438\\u0437\\u0443\\u0447\\u0430\\u0442\\u044c\", \"\\u0438\\u043a\\u043e\\u043d\\u043a\\u0430\", \"\\u0438\\u043b\\u043b\\u044e\\u0441\\u0442\\u0440\\u0430\\u0446\\u0438\\u044f\", \"\\u0438\\u043c\\u0435\\u043d\\u043d\\u043e\", \"\\u0438\\u043c\\u0435\\u043d\\u043d\\u043e\", \"\\u0438\\u043c\\u0435\\u043d\\u043d\\u043e\", \"\\u0438\\u043d\\u0436\\u0435\\u043d\\u0435\\u0440\", \"\\u0438\\u043d\\u0441\\u0442\\u0440\\u0443\\u043c\\u0435\\u043d\\u0442\", \"\\u0438\\u043d\\u0441\\u0442\\u0440\\u0443\\u043c\\u0435\\u043d\\u0442\", \"\\u0438\\u043d\\u0441\\u0442\\u0440\\u0443\\u043c\\u0435\\u043d\\u0442\", \"\\u0438\\u043d\\u0441\\u0442\\u0440\\u0443\\u043c\\u0435\\u043d\\u0442\", \"\\u0438\\u043d\\u0442\\u0435\\u0440\\u0444\\u0435\\u0439\\u0441\", \"\\u0438\\u043d\\u0444\\u043e\\u0440\\u043c\\u0430\\u0446\\u0438\\u044f\", \"\\u0438\\u043d\\u0444\\u043e\\u0440\\u043c\\u0430\\u0446\\u0438\\u044f\", \"\\u0438\\u043d\\u0444\\u043e\\u0440\\u043c\\u0430\\u0446\\u0438\\u044f\", \"\\u0438\\u0441\\u043a\\u0430\\u0442\\u044c\", \"\\u0438\\u0441\\u043a\\u0430\\u0442\\u044c\", \"\\u0438\\u0441\\u043a\\u0430\\u0442\\u044c\", \"\\u0438\\u0441\\u043a\\u0430\\u0442\\u044c \\u0441\\u0441\\u044b\\u043b\\u043a\\u0430\", \"\\u0438\\u0441\\u043f\\u043e\\u043b\\u044c\\u0437\\u043e\\u0432\\u0430\\u0442\\u044c\", \"\\u0438\\u0441\\u043f\\u043e\\u043b\\u044c\\u0437\\u043e\\u0432\\u0430\\u0442\\u044c\", \"\\u0438\\u0441\\u043f\\u043e\\u043b\\u044c\\u0437\\u043e\\u0432\\u0430\\u0442\\u044c\", \"\\u0438\\u0441\\u043f\\u043e\\u043b\\u044c\\u0437\\u043e\\u0432\\u0430\\u0442\\u044c\", \"\\u043a\\u0430\\u0436\\u0434\\u044b\\u0439\", \"\\u043a\\u0430\\u0436\\u0434\\u044b\\u0439\", \"\\u043a\\u0430\\u0436\\u0434\\u044b\\u0439\", \"\\u043a\\u0430\\u0436\\u0434\\u044b\\u0439\", \"\\u043a\\u0430\\u043b\\u0435\\u043d\\u0434\\u0430\\u0440\\u044c\", \"\\u043a\\u0430\\u0442\\u0435\\u0433\\u043e\\u0440\\u0438\\u044f\", \"\\u043a\\u043e\\u0434\", \"\\u043a\\u043e\\u043b\\u0438\\u0447\\u0435\\u0441\\u0442\\u0432\\u043e\", \"\\u043a\\u043e\\u043c\\u0430\\u043d\\u0434\\u0430\", \"\\u043a\\u043e\\u043c\\u0430\\u043d\\u0434\\u0430\", \"\\u043a\\u043e\\u043c\\u0430\\u043d\\u0434\\u0430\", \"\\u043a\\u043e\\u043c\\u0430\\u043d\\u0434\\u0430 \\u0444\\u0443\\u043d\\u0442\", \"\\u043a\\u043e\\u043c\\u043f\\u0430\\u043d\\u0438\\u044f\", \"\\u043a\\u0443\\u0440\\u0441\", \"\\u043a\\u0443\\u0440\\u0441\\u044b\", \"\\u043b\\u044e\\u0431\\u043e\\u0439\", \"\\u043b\\u044e\\u0431\\u043e\\u0439\", \"\\u043b\\u044e\\u0431\\u043e\\u0439\", \"\\u043c\\u0430\\u043a\\u0435\\u0442\", \"\\u043c\\u0430\\u043a\\u0435\\u0442\", \"\\u043c\\u0438\\u043d\\u0443\\u0442\\u0430\", \"\\u043c\\u0438\\u043d\\u0443\\u0442\\u0430\", \"\\u043c\\u043e\\u0447\\u044c\", \"\\u043c\\u043e\\u0447\\u044c\", \"\\u043c\\u043e\\u0447\\u044c\", \"\\u043c\\u043e\\u0447\\u044c\", \"\\u043d\\u0430\\u0432\\u043e\\u0434\\u0438\\u0442\\u044c\", \"\\u043d\\u0430\\u0432\\u043e\\u0434\\u0438\\u0442\\u044c \\u043f\\u043e\\u0440\\u044f\\u0434\\u043e\\u043a\", \"\\u043d\\u0430\\u043f\\u0440\\u0430\\u0432\\u043b\\u0435\\u043d\\u0438\\u0435\", \"\\u043d\\u0430\\u043f\\u0440\\u0430\\u0432\\u043b\\u0435\\u043d\\u0438\\u0435\", \"\\u043d\\u0430\\u0445\\u043e\\u0434\\u0438\\u0442\\u044c\", \"\\u043d\\u0430\\u0445\\u043e\\u0434\\u0438\\u0442\\u044c\", \"\\u043d\\u0430\\u0445\\u043e\\u0434\\u0438\\u0442\\u044c\", \"\\u043d\\u0430\\u0447\\u0438\\u043d\\u0430\\u0442\\u044c\", \"\\u043d\\u0430\\u0447\\u0438\\u043d\\u0430\\u0442\\u044c\", \"\\u043d\\u0430\\u0447\\u0438\\u043d\\u0430\\u0442\\u044c\", \"\\u043d\\u0430\\u0447\\u0438\\u043d\\u0430\\u0442\\u044c\", \"\\u043d\\u0435\\u0434\\u0435\\u043b\\u044f\", \"\\u043d\\u0435\\u043a\\u043e\\u0442\\u043e\\u0440\\u044b\\u0439\", \"\\u043d\\u0435\\u043a\\u043e\\u0442\\u043e\\u0440\\u044b\\u0439\", \"\\u043d\\u0435\\u043a\\u043e\\u0442\\u043e\\u0440\\u044b\\u0439\", \"\\u043d\\u0435\\u043e\\u0431\\u0445\\u043e\\u0434\\u0438\\u043c\\u043e\", \"\\u043d\\u0435\\u043e\\u0431\\u0445\\u043e\\u0434\\u0438\\u043c\\u043e\", \"\\u043d\\u043e\\u0432\\u044b\\u0439\", \"\\u043d\\u043e\\u0432\\u044b\\u0439\", \"\\u043d\\u043e\\u0432\\u044b\\u0439\", \"\\u043d\\u043e\\u0432\\u044b\\u0439\", \"\\u043d\\u0443\\u0436\\u043d\\u043e\", \"\\u043d\\u0443\\u0436\\u043d\\u043e\", \"\\u043d\\u0443\\u0436\\u043d\\u043e\", \"\\u043e\\u0431\\u0440\\u0430\\u0437\\u043e\\u0432\\u0430\\u043d\\u0438\\u0435\", \"\\u043e\\u0431\\u0440\\u0430\\u0437\\u043e\\u0432\\u0430\\u0442\\u0435\\u043b\\u044c\\u043d\\u044b\\u0439\", \"\\u043e\\u0431\\u0443\\u0447\\u0435\\u043d\\u0438\\u0435\", \"\\u043e\\u0431\\u044a\\u0435\\u043a\\u0442\", \"\\u043e\\u0433\\u0440\\u043e\\u043c\\u043d\\u044b\\u0439\", \"\\u043e\\u043f\\u0440\\u0435\\u0434\\u0435\\u043b\\u044f\\u0442\\u044c\", \"\\u043e\\u043f\\u0440\\u0435\\u0434\\u0435\\u043b\\u044f\\u0442\\u044c\", \"\\u043e\\u043f\\u0440\\u0435\\u0434\\u0435\\u043b\\u044f\\u0442\\u044c\", \"\\u043e\\u0442\\u0432\\u0435\\u0447\\u0430\\u0442\\u044c\", \"\\u043e\\u0442\\u0432\\u0435\\u0447\\u0430\\u0442\\u044c\", \"\\u043e\\u0442\\u0432\\u0435\\u0447\\u0430\\u0442\\u044c\", \"\\u043e\\u0442\\u0432\\u043b\\u0435\\u043a\\u0430\\u0442\\u044c\\u0441\\u044f\", \"\\u043f\\u043b\\u0430\\u043d\\u0438\\u0440\\u043e\\u0432\\u0430\\u0442\\u044c\", \"\\u043f\\u043e\\u0434\\u0435\\u043b\\u0438\\u0442\\u044c\\u0441\\u044f\", \"\\u043f\\u043e\\u0434\\u0435\\u043b\\u0438\\u0442\\u044c\\u0441\\u044f\", \"\\u043f\\u043e\\u0434\\u0435\\u043b\\u0438\\u0442\\u044c\\u0441\\u044f\", \"\\u043f\\u043e\\u0434\\u0445\\u043e\\u0434\\u0438\\u0442\\u044c\", \"\\u043f\\u043e\\u0434\\u0445\\u043e\\u0434\\u0438\\u0442\\u044c\", \"\\u043f\\u043e\\u043a\\u0430\", \"\\u043f\\u043e\\u043a\\u0430\", \"\\u043f\\u043e\\u043a\\u0430\", \"\\u043f\\u043e\\u043a\\u0430\\u0437\\u044b\\u0432\\u0430\\u0442\\u044c\", \"\\u043f\\u043e\\u043a\\u0430\\u0437\\u044b\\u0432\\u0430\\u0442\\u044c\", \"\\u043f\\u043e\\u043a\\u0430\\u0437\\u044b\\u0432\\u0430\\u0442\\u044c\", \"\\u043f\\u043e\\u043b\\u0435\", \"\\u043f\\u043e\\u043c\\u0438\\u043c\\u043e\", \"\\u043f\\u043e\\u043c\\u0438\\u043c\\u043e\", \"\\u043f\\u043e\\u043c\\u043e\\u0433\\u0430\\u0442\\u044c\", \"\\u043f\\u043e\\u043c\\u043e\\u0433\\u0430\\u0442\\u044c\", \"\\u043f\\u043e\\u043c\\u043e\\u0433\\u0430\\u0442\\u044c\", \"\\u043f\\u043e\\u043d\\u0438\\u043c\\u0430\\u0442\\u044c\", \"\\u043f\\u043e\\u043d\\u0438\\u043c\\u0430\\u0442\\u044c\", \"\\u043f\\u043e\\u043d\\u0438\\u043c\\u0430\\u0442\\u044c\", \"\\u043f\\u043e\\u0440\\u044f\\u0434\\u043e\\u043a\", \"\\u043f\\u043e\\u0441\\u043c\\u043e\\u0442\\u0440\\u0435\\u0442\\u044c\", \"\\u043f\\u043e\\u0441\\u043c\\u043e\\u0442\\u0440\\u0435\\u0442\\u044c\", \"\\u043f\\u0440\\u0430\\u043a\\u0442\\u0438\\u043a\\u0430\", \"\\u043f\\u0440\\u0438\\u043b\\u043e\\u0436\\u0435\\u043d\\u0438\\u0435\", \"\\u043f\\u0440\\u0438\\u043b\\u043e\\u0436\\u0435\\u043d\\u0438\\u0435\", \"\\u043f\\u0440\\u0438\\u043b\\u043e\\u0436\\u0435\\u043d\\u0438\\u0435\", \"\\u043f\\u0440\\u0438\\u043d\\u0446\\u0438\\u043f\", \"\\u043f\\u0440\\u0438\\u043d\\u0446\\u0438\\u043f\", \"\\u043f\\u0440\\u0438\\u043d\\u0446\\u0438\\u043f\", \"\\u043f\\u0440\\u0438\\u0445\\u043e\\u0434\\u0438\\u0442\\u044c\\u0441\\u044f\", \"\\u043f\\u0440\\u0438\\u0445\\u043e\\u0434\\u0438\\u0442\\u044c\\u0441\\u044f\", \"\\u043f\\u0440\\u0438\\u0447\\u0438\\u043d\\u0430\", \"\\u043f\\u0440\\u043e\\u0431\\u043b\\u0435\\u043c\\u0430\", \"\\u043f\\u0440\\u043e\\u0431\\u043b\\u0435\\u043c\\u0430\", \"\\u043f\\u0440\\u043e\\u0433\\u0440\\u0430\\u043c\\u043c\\u0430\", \"\\u043f\\u0440\\u043e\\u0433\\u0440\\u0430\\u043c\\u043c\\u0430\", \"\\u043f\\u0440\\u043e\\u0433\\u0440\\u0430\\u043c\\u043c\\u0430\", \"\\u043f\\u0440\\u043e\\u0433\\u0440\\u0430\\u043c\\u043c\\u0438\\u0441\\u0442\", \"\\u043f\\u0440\\u043e\\u0433\\u0440\\u0430\\u043c\\u043c\\u043d\\u044b\\u0439\", \"\\u043f\\u0440\\u043e\\u0433\\u0440\\u0430\\u043c\\u043c\\u043d\\u044b\\u0439 \\u0434\\u0438\\u0440\\u0435\\u043a\\u0442\\u043e\\u0440\", \"\\u043f\\u0440\\u043e\\u0438\\u0441\\u0445\\u043e\\u0434\\u0438\\u0442\\u044c\", \"\\u043f\\u0440\\u043e\\u0438\\u0441\\u0445\\u043e\\u0434\\u0438\\u0442\\u044c\", \"\\u043f\\u0440\\u043e\\u0444\\u0435\\u0441\\u0441\\u0438\\u044f\", \"\\u043f\\u0440\\u043e\\u0445\\u043e\\u0434\\u0438\\u0442\\u044c\", \"\\u043f\\u0440\\u043e\\u0445\\u043e\\u0434\\u0438\\u0442\\u044c\", \"\\u0440\\u0430\\u0431\\u043e\\u0442\\u0430\", \"\\u0440\\u0430\\u0431\\u043e\\u0442\\u0430\", \"\\u0440\\u0430\\u0431\\u043e\\u0442\\u0430\", \"\\u0440\\u0430\\u0431\\u043e\\u0442\\u0430\", \"\\u0440\\u0430\\u0431\\u043e\\u0442\\u0430 animated\", \"\\u0440\\u0430\\u0431\\u043e\\u0442\\u0430 animated apitext\", \"\\u0440\\u0430\\u0431\\u043e\\u0442\\u0430\\u0442\\u044c\", \"\\u0440\\u0430\\u0431\\u043e\\u0442\\u0430\\u0442\\u044c\", \"\\u0440\\u0430\\u0431\\u043e\\u0442\\u0430\\u0442\\u044c\", \"\\u0440\\u0430\\u0431\\u043e\\u0442\\u0430\\u0442\\u044c\", \"\\u0440\\u0430\\u0431\\u043e\\u0447\\u0438\\u0439\", \"\\u0440\\u0430\\u0437\\u0431\\u0438\\u0440\\u0430\\u0442\\u044c\\u0441\\u044f\", \"\\u0440\\u0430\\u0437\\u0431\\u0438\\u0440\\u0430\\u0442\\u044c\\u0441\\u044f\", \"\\u0440\\u0430\\u0437\\u043d\\u044b\\u0439\", \"\\u0440\\u0430\\u0437\\u043d\\u044b\\u0439\", \"\\u0440\\u0430\\u0437\\u043d\\u044b\\u0439\", \"\\u0440\\u0430\\u0437\\u0440\\u0430\\u0431\\u043e\\u0442\\u043a\\u0430\", \"\\u0440\\u0430\\u0437\\u0440\\u0430\\u0431\\u043e\\u0442\\u043a\\u0430\", \"\\u0440\\u0430\\u0437\\u0440\\u0430\\u0431\\u043e\\u0442\\u043a\\u0430\", \"\\u0440\\u0430\\u0437\\u0440\\u0430\\u0431\\u043e\\u0442\\u0447\\u0438\\u043a\", \"\\u0440\\u0430\\u0437\\u0440\\u0430\\u0431\\u043e\\u0442\\u0447\\u0438\\u043a\", \"\\u0440\\u0430\\u0441\\u0441\\u043a\\u0430\\u0437\\u044b\\u0432\\u0430\\u0442\\u044c\", \"\\u0440\\u0430\\u0441\\u0441\\u043a\\u0430\\u0437\\u044b\\u0432\\u0430\\u0442\\u044c\", \"\\u0440\\u0430\\u0441\\u0441\\u043a\\u0430\\u0437\\u044b\\u0432\\u0430\\u0442\\u044c\", \"\\u0440\\u0430\\u0441\\u0441\\u043a\\u0430\\u0437\\u044b\\u0432\\u0430\\u0442\\u044c\", \"\\u0440\\u0435\\u0448\\u0430\\u0442\\u044c\", \"\\u0440\\u0435\\u0448\\u0430\\u0442\\u044c\", \"\\u0440\\u0435\\u0448\\u0430\\u0442\\u044c\", \"\\u0440\\u0435\\u0448\\u0435\\u043d\\u0438\\u0435\", \"\\u0440\\u0435\\u0448\\u0435\\u043d\\u0438\\u0435\", \"\\u0440\\u0435\\u0448\\u0435\\u043d\\u0438\\u0435\", \"\\u0440\\u043e\\u0431\\u043e\\u0442\", \"\\u0440\\u043e\\u0431\\u043e\\u0442 \\u0434\\u043e\\u043b\\u0436\\u043d\\u044b\\u0439\", \"\\u0440\\u044b\\u043d\\u043e\\u043a\", \"\\u0441\\u0430\\u0439\\u0442\", \"\\u0441\\u0430\\u0439\\u0442\", \"\\u0441\\u0430\\u0439\\u0442\", \"\\u0441\\u0430\\u043c\\u044b\\u0439\", \"\\u0441\\u0430\\u043c\\u044b\\u0439\", \"\\u0441\\u0430\\u043c\\u044b\\u0439\", \"\\u0441\\u0430\\u043d\\u043a\\u0442\", \"\\u0441\\u0432\\u043e\\u0439\\u0441\\u0442\\u0432\\u043e\", \"\\u0441\\u0434\\u0435\\u043b\\u0430\\u0442\\u044c\", \"\\u0441\\u0434\\u0435\\u043b\\u0430\\u0442\\u044c\", \"\\u0441\\u0434\\u0435\\u043b\\u0430\\u0442\\u044c\", \"\\u0441\\u0435\\u0440\\u0442\\u0438\\u0444\\u0438\\u043a\\u0430\\u0442\", \"\\u0441\\u0435\\u0442\\u044c\", \"\\u0441\\u0438\\u0441\\u0442\\u0435\\u043c\\u0430\", \"\\u0441\\u0438\\u0441\\u0442\\u0435\\u043c\\u0430\", \"\\u0441\\u0438\\u0441\\u0442\\u0435\\u043c\\u0430\", \"\\u0441\\u0438\\u0441\\u0442\\u0435\\u043c\\u043d\\u044b\\u0439\", \"\\u0441\\u0438\\u0441\\u0442\\u0435\\u043c\\u043d\\u044b\\u0439 \\u0438\\u043d\\u0436\\u0435\\u043d\\u0435\\u0440\", \"\\u0441\\u043a\\u043e\\u043b\\u044c\\u043a\\u043e\", \"\\u0441\\u043a\\u043e\\u043b\\u044c\\u043a\\u043e\", \"\\u0441\\u043a\\u043e\\u043b\\u044c\\u043a\\u043e \\u0432\\u0440\\u0435\\u043c\\u044f\", \"\\u0441\\u043b\\u0435\\u0434\\u0443\\u044e\\u0449\\u0438\\u0439\", \"\\u0441\\u043b\\u0435\\u0434\\u0443\\u044e\\u0449\\u0438\\u0439\", \"\\u0441\\u043b\\u0435\\u0434\\u0443\\u044e\\u0449\\u0438\\u0439\", \"\\u0441\\u043b\\u043e\\u0436\\u043d\\u044b\\u0439\", \"\\u0441\\u043e\\u0432\\u0435\\u0442\", \"\\u0441\\u043e\\u0432\\u0435\\u0442\", \"\\u0441\\u043e\\u0437\\u0432\\u043e\\u043d\", \"\\u0441\\u043e\\u043e\\u0431\\u0449\\u0435\\u043d\\u0438\\u0435\", \"\\u0441\\u043e\\u043f\\u0435\\u0440\\u043d\\u0438\\u043a\", \"\\u0441\\u043e\\u0440\\u0435\\u0432\\u043d\\u043e\\u0432\\u0430\\u043d\\u0438\\u0435\", \"\\u0441\\u043f\\u0435\\u0446\\u0438\\u0430\\u043b\\u0438\\u0441\\u0442\", \"\\u0441\\u043f\\u0440\\u0438\\u043d\\u0442\", \"\\u0441\\u043f\\u0440\\u0438\\u043d\\u0442\", \"\\u0441\\u0440\\u0430\\u0437\\u0443\", \"\\u0441\\u0440\\u0430\\u0437\\u0443\", \"\\u0441\\u0440\\u0430\\u0437\\u0443\", \"\\u0441\\u0440\\u0435\\u0434\\u0430\", \"\\u0441\\u0442\\u0430\\u043d\\u043e\\u0432\\u0438\\u0442\\u044c\\u0441\\u044f\", \"\\u0441\\u0442\\u0430\\u043d\\u043e\\u0432\\u0438\\u0442\\u044c\\u0441\\u044f\", \"\\u0441\\u0442\\u0430\\u043d\\u043e\\u0432\\u0438\\u0442\\u044c\\u0441\\u044f\", \"\\u0441\\u0442\\u0440\\u0443\\u043a\\u0442\\u0443\\u0440\\u0438\\u0440\\u043e\\u0432\\u0430\\u0442\\u044c\", \"\\u0441\\u0442\\u0440\\u0443\\u043a\\u0442\\u0443\\u0440\\u0438\\u0440\\u043e\\u0432\\u0430\\u0442\\u044c\", \"\\u0442\\u0435\\u0445\\u043d\\u043e\\u043b\\u043e\\u0433\\u0438\\u044f\", \"\\u0442\\u0438\\u043f\", \"\\u0442\\u0438\\u043f\", \"\\u0442\\u0440\\u0435\\u0434\", \"\\u0443\\u0441\\u043f\\u0435\\u0432\\u0430\\u0442\\u044c\", \"\\u0443\\u0441\\u043f\\u0435\\u0432\\u0430\\u0442\\u044c\", \"\\u0443\\u0445\\u043e\\u0434\\u0438\\u0442\\u044c\", \"\\u0443\\u0445\\u043e\\u0434\\u0438\\u0442\\u044c\", \"\\u0443\\u0447\\u0430\\u0441\\u0442\\u043d\\u0438\\u043a\", \"\\u0444\\u0430\\u0439\\u043b\", \"\\u0444\\u0443\\u043d\\u0442\", \"\\u0445\\u043e\\u0442\\u0435\\u0442\\u044c\", \"\\u0445\\u043e\\u0442\\u0435\\u0442\\u044c\", \"\\u0446\\u0435\\u043d\\u0442\\u0440\", \"\\u0447\\u0430\\u0441\", \"\\u0447\\u0430\\u0441\", \"\\u0447\\u0435\\u043b\\u043e\\u0432\\u0435\\u043a\", \"\\u0447\\u0435\\u043b\\u043e\\u0432\\u0435\\u043a\", \"\\u0447\\u0435\\u043b\\u043e\\u0432\\u0435\\u043a \\u043a\\u043e\\u043c\\u0430\\u043d\\u0434\\u0430\", \"\\u0447\\u0435\\u043b\\u043e\\u0432\\u0435\\u043a \\u043a\\u043e\\u043c\\u0430\\u043d\\u0434\\u0430\", \"\\u0447\\u0435\\u043b\\u043e\\u0432\\u0435\\u043a \\u043a\\u043e\\u043c\\u0430\\u043d\\u0434\\u0430 \\u0444\\u0443\\u043d\\u0442\"]}, \"R\": 30, \"lambda.step\": 0.01, \"plot.opts\": {\"xlab\": \"PC1\", \"ylab\": \"PC2\"}, \"topic.order\": [1, 2, 3, 4, 5, 6]};\n",
       "\n",
       "function LDAvis_load_lib(url, callback){\n",
       "  var s = document.createElement('script');\n",
       "  s.src = url;\n",
       "  s.async = true;\n",
       "  s.onreadystatechange = s.onload = callback;\n",
       "  s.onerror = function(){console.warn(\"failed to load library \" + url);};\n",
       "  document.getElementsByTagName(\"head\")[0].appendChild(s);\n",
       "}\n",
       "\n",
       "if(typeof(LDAvis) !== \"undefined\"){\n",
       "   // already loaded: just create the visualization\n",
       "   !function(LDAvis){\n",
       "       new LDAvis(\"#\" + \"ldavis_el1003620870475785605367197741\", ldavis_el1003620870475785605367197741_data);\n",
       "   }(LDAvis);\n",
       "}else if(typeof define === \"function\" && define.amd){\n",
       "   // require.js is available: use it to load d3/LDAvis\n",
       "   require.config({paths: {d3: \"https://d3js.org/d3.v5\"}});\n",
       "   require([\"d3\"], function(d3){\n",
       "      window.d3 = d3;\n",
       "      LDAvis_load_lib(\"https://cdn.jsdelivr.net/gh/bmabey/pyLDAvis@3.4.0/pyLDAvis/js/ldavis.v3.0.0.js\", function(){\n",
       "        new LDAvis(\"#\" + \"ldavis_el1003620870475785605367197741\", ldavis_el1003620870475785605367197741_data);\n",
       "      });\n",
       "    });\n",
       "}else{\n",
       "    // require.js not available: dynamically load d3 & LDAvis\n",
       "    LDAvis_load_lib(\"https://d3js.org/d3.v5.js\", function(){\n",
       "         LDAvis_load_lib(\"https://cdn.jsdelivr.net/gh/bmabey/pyLDAvis@3.4.0/pyLDAvis/js/ldavis.v3.0.0.js\", function(){\n",
       "                 new LDAvis(\"#\" + \"ldavis_el1003620870475785605367197741\", ldavis_el1003620870475785605367197741_data);\n",
       "            })\n",
       "         });\n",
       "}\n",
       "</script>"
      ],
      "text/plain": [
       "PreparedData(topic_coordinates=               x          y  topics  cluster       Freq\n",
       "topic                                                  \n",
       "0     -56.468956   3.580004       1        1   0.006963\n",
       "1      89.655159  61.163101       2        1  14.503661\n",
       "2      -4.429116  85.266380       3        1   0.006963\n",
       "3      95.671249 -35.977127       4        1  32.239637\n",
       "4       5.099026 -71.430779       5        1   8.923722\n",
       "5      25.975035   8.499473       6        1  44.319053, topic_info=              Term       Freq      Total Category  logprob  loglift\n",
       "516           text  39.000000  39.000000  Default  30.0000  30.0000\n",
       "8542         робот  37.000000  37.000000  Default  29.0000  29.0000\n",
       "2754        задача  27.000000  27.000000  Default  28.0000  28.0000\n",
       "3267       инженер  29.000000  29.000000  Default  27.0000  27.0000\n",
       "9065     системный  26.000000  26.000000  Default  26.0000  26.0000\n",
       "...            ...        ...        ...      ...      ...      ...\n",
       "3860       команда   8.656310  17.672990   Topic6  -6.5998   0.1000\n",
       "10821      человек   7.881118  13.161955   Topic6  -6.6936   0.3009\n",
       "2754        задача   9.431495  27.480394   Topic6  -6.5140  -0.2557\n",
       "1652         время   7.881110  23.463118   Topic6  -6.6936  -0.2772\n",
       "9653   становиться   7.105932  10.748496   Topic6  -6.7972   0.3999\n",
       "\n",
       "[348 rows x 6 columns], token_table=       Topic      Freq                            Term\n",
       "term                                                  \n",
       "15         5  0.871960                        animated\n",
       "16         5  0.978030                animated apitext\n",
       "25         5  0.816269                 animated timing\n",
       "26         5  0.816269  animated timing animationvalue\n",
       "27         5  0.816269                  animated value\n",
       "...      ...       ...                             ...\n",
       "10821      4  0.379883                         человек\n",
       "10821      6  0.607812                         человек\n",
       "10828      4  0.841169                 человек команда\n",
       "10828      6  0.210292                 человек команда\n",
       "10830      4  1.005001            человек команда фунт\n",
       "\n",
       "[339 rows x 3 columns], R=30, lambda_step=0.01, plot_opts={'xlab': 'PC1', 'ylab': 'PC2'}, topic_order=[1, 2, 3, 4, 5, 6])"
      ]
     },
     "execution_count": 160,
     "metadata": {},
     "output_type": "execute_result"
    }
   ],
   "source": [
    "# визуализация модели LDA\n",
    "panel = pyLDAvis.sklearn.prepare(lda_model, count_matrix, vectorizer, mds='tsne', sort_topics=False)\n",
    "panel"
   ]
  },
  {
   "cell_type": "code",
   "execution_count": 161,
   "id": "d522e263",
   "metadata": {},
   "outputs": [
    {
     "name": "stderr",
     "output_type": "stream",
     "text": [
      "C:\\ProgramData\\anaconda3\\lib\\site-packages\\pandas\\core\\internals\\blocks.py:351: RuntimeWarning: divide by zero encountered in log\n",
      "  result = func(self.values, **kwargs)\n",
      "C:\\Users\\МОиБД\\AppData\\Roaming\\Python\\Python310\\site-packages\\pyLDAvis\\_prepare.py:244: FutureWarning: In a future version of pandas all arguments of DataFrame.drop except for the argument 'labels' will be keyword-only.\n",
      "  by='saliency', ascending=False).head(R).drop('saliency', 1)\n",
      "C:\\ProgramData\\anaconda3\\lib\\site-packages\\pandas\\core\\internals\\blocks.py:351: RuntimeWarning: divide by zero encountered in log\n",
      "  result = func(self.values, **kwargs)\n"
     ]
    },
    {
     "data": {
      "text/html": [
       "\n",
       "<link rel=\"stylesheet\" type=\"text/css\" href=\"https://cdn.jsdelivr.net/gh/bmabey/pyLDAvis@3.4.0/pyLDAvis/js/ldavis.v1.0.0.css\">\n",
       "\n",
       "\n",
       "<div id=\"ldavis_el1003620870475844969265204579\" style=\"background-color:white;\"></div>\n",
       "<script type=\"text/javascript\">\n",
       "\n",
       "var ldavis_el1003620870475844969265204579_data = {\"mdsDat\": {\"x\": [1.4280670881271362, 3.406663179397583, 16.828020095825195, -16.339664459228516, 21.908349990844727, -6.853294372558594], \"y\": [-6.784307479858398, -26.938352584838867, -42.112281799316406, -22.4730167388916, -18.904760360717773, -44.32453155517578], \"topics\": [1, 2, 3, 4, 5, 6], \"cluster\": [1, 1, 1, 1, 1, 1], \"Freq\": [13.696367588284799, 21.35409707219428, 16.602911915680167, 17.761602451956175, 19.82999232120173, 10.755028650682842]}, \"tinfo\": {\"Term\": [\"text\", \"\\u0440\\u043e\\u0431\\u043e\\u0442\", \"\\u0441\\u0438\\u0441\\u0442\\u0435\\u043c\\u043d\\u044b\\u0439\", \"animated\", \"\\u0434\\u0438\\u0437\\u0430\\u0439\\u043d\\u0435\\u0440\", \"\\u0430\\u043d\\u0438\\u043c\\u0430\\u0446\\u0438\\u044f\", \"\\u0438\\u043d\\u0436\\u0435\\u043d\\u0435\\u0440\", \"\\u0434\\u0438\\u0441\\u0446\\u0438\\u043f\\u043b\\u0438\\u043d\\u0430\", \"\\u0441\\u043e\\u0440\\u0435\\u0432\\u043d\\u043e\\u0432\\u0430\\u043d\\u0438\\u0435\", \"\\u0442\\u0440\\u0435\\u0434\", \"\\u0437\\u0430\\u0434\\u0430\\u0447\\u0430\", \"\\u0434\\u0438\\u0437\\u0430\\u0439\\u043d\", \"\\u0434\\u0438\\u0440\\u0435\\u043a\\u0442\\u043e\\u0440\", \"\\u043e\\u0431\\u0440\\u0430\\u0437\\u043e\\u0432\\u0430\\u0442\\u0435\\u043b\\u044c\\u043d\\u044b\\u0439\", \"\\u043d\\u0430\\u043f\\u0440\\u0430\\u0432\\u043b\\u0435\\u043d\\u0438\\u0435\", \"native\", \"react\", \"const\", \"\\u043a\\u0443\\u0440\\u0441\", \"\\u0438\\u043b\\u043b\\u044e\\u0441\\u0442\\u0440\\u0430\\u0446\\u0438\\u044f\", \"\\u0438\\u043a\\u043e\\u043d\\u043a\\u0430\", \"javascript\", \"\\u0431\\u0438\\u0431\\u043b\\u0438\\u043e\\u0442\\u0435\\u043a\\u0430\", \"\\u0441\\u0432\\u043e\\u0439\\u0441\\u0442\\u0432\\u043e\", \"robogames\", \"\\u0441\\u043e\\u0432\\u0435\\u0442\", \"\\u0440\\u044b\\u043d\\u043e\\u043a\", \"devops\", \"\\u043a\\u0430\\u043b\\u0435\\u043d\\u0434\\u0430\\u0440\\u044c\", \"\\u0430\\u0432\\u0442\\u043e\\u043d\\u043e\\u043c\\u043d\\u044b\\u0439\", \"\\u0433\\u0440\\u0430\\u0444\\u0438\\u043a\", \"\\u043a\\u0430\\u043b\\u0435\\u043d\\u0434\\u0430\\u0440\\u044c\", \"\\u043d\\u0430\\u0432\\u043e\\u0434\\u0438\\u0442\\u044c\", \"\\u043d\\u0435\\u0434\\u0435\\u043b\\u044f\", \"\\u043e\\u0442\\u0432\\u043b\\u0435\\u043a\\u0430\\u0442\\u044c\\u0441\\u044f\", \"\\u043f\\u0440\\u0438\\u0447\\u0438\\u043d\\u0430\", \"\\u0441\\u043e\\u0437\\u0432\\u043e\\u043d\", \"\\u0441\\u0440\\u0435\\u0434\\u0430\", \"chatgpt\", \"outlook\", \"toby\", \"vpn\", \"\\u0430\\u0431\\u0437\\u0430\\u0446\", \"\\u0430\\u0433\\u0435\\u043d\\u0442\\u0441\\u0442\\u0432\\u043e\", \"\\u0430\\u0434\\u0430\\u043f\\u0442\\u0438\\u0440\\u043e\\u0432\\u0430\\u0442\\u044c\", \"\\u0430\\u043d\\u043d\\u0430\", \"\\u0431\\u0435\\u0441\\u043a\\u043e\\u043d\\u0435\\u0447\\u043d\\u044b\\u0439\", \"\\u0431\\u043e\\u043b\\u044c\\u0448\\u0435\\u0448\\u0430\\u043f\\u043e\\u0432\\u044b\\u0439\", \"\\u0431\\u044d\\u043a\\u043b\\u043e\\u0433\\u0430\", \"\\u0432\\u0430\\u0436\\u043d\\u043e\\u0441\\u0442\\u044c\", \"\\u0432\\u0432\\u043e\\u0434\\u0438\\u0442\\u044c\", \"\\u0432\\u0435\\u0447\\u0435\\u0440\", \"\\u0432\\u0435\\u0447\\u043d\\u044b\\u0439\", \"\\u0432\\u0437\\u044f\\u0442\\u044c\\u0441\\u044f\", \"\\u0432\\u043b\\u0438\\u044f\\u0442\\u044c\", \"\\u0432\\u043d\\u0435\\u0437\\u0430\\u043f\\u043d\\u044b\\u0439\", \"\\u0432\\u043e\\u043a\\u0440\\u0443\\u0433\", \"\\u0432\\u044b\\u0433\\u0440\\u0443\\u0436\\u0430\\u0442\\u044c\", \"\\u0432\\u044b\\u0445\\u043e\\u0434\\u043d\\u043e\\u0439\", \"\\u0434\\u0438\\u0430\\u043b\\u043e\\u0433\", \"\\u043f\\u043e\\u0440\\u044f\\u0434\\u043e\\u043a\", \"\\u0440\\u0430\\u0431\\u043e\\u0447\\u0438\\u0439\", \"\\u0441\\u043e\\u043e\\u0431\\u0449\\u0435\\u043d\\u0438\\u0435\", \"\\u0436\\u0438\\u0442\\u044c\", \"\\u0437\\u0430\\u043a\\u043b\\u0430\\u0434\\u043a\\u0430\", \"\\u0437\\u0430\\u0445\\u043e\\u0434\\u0438\\u0442\\u044c\", \"\\u0438\\u0437\\u043c\\u0430\\u0442\\u044b\\u0432\\u0430\\u0442\\u044c\", \"\\u0438\\u0441\\u0442\\u043e\\u0440\\u0438\\u044f\", \"\\u0438\\u0442\\u0430\\u043a\", \"\\u043a\\u043e\\u0440\\u043f\\u043e\\u0440\\u0430\\u0442\\u0438\\u0432\\u043d\\u044b\\u0439\", \"\\u043c\\u0430\\u0442\\u0440\\u0438\\u0446\\u0430\", \"\\u043c\\u043e\\u0442\\u0438\\u0432\\u0430\\u0446\\u0438\\u044f\", \"\\u043d\\u0430\\u043b\\u0430\\u0436\\u0438\\u0432\\u0430\\u0442\\u044c\\u0441\\u044f\", \"\\u043e\\u0442\\u043a\\u043b\\u0430\\u0434\\u044b\\u0432\\u0430\\u0442\\u044c\", \"\\u043f\\u0435\\u0440\\u0435\\u043a\\u043b\\u044e\\u0447\\u0430\\u0442\\u044c\\u0441\\u044f\", \"\\u043f\\u0435\\u0440\\u0435\\u043a\\u043b\\u044e\\u0447\\u0435\\u043d\\u0438\\u0435\", \"\\u043f\\u043e\\u0434\\u043e\\u0436\\u0434\\u0430\\u0442\\u044c\", \"\\u043f\\u043e\\u0438\\u0441\\u043a\", \"\\u043f\\u043e\\u0441\\u0447\\u0438\\u0442\\u0430\\u0442\\u044c\", \"\\u043f\\u0440\\u043e\\u0434\\u0435\\u0440\\u0436\\u0430\\u0442\\u044c\\u0441\\u044f\", \"\\u043f\\u044b\\u0442\\u0430\\u0442\\u044c\\u0441\\u044f\", \"\\u0447\\u0430\\u0441\", \"\\u0434\\u0435\\u043d\\u044c\", \"text\", \"\\u0441\\u043a\\u043e\\u043b\\u044c\\u043a\\u043e\", \"\\u0443\\u0441\\u043f\\u0435\\u0432\\u0430\\u0442\\u044c\", \"\\u0437\\u0430\\u0434\\u0430\\u0447\\u0430\", \"\\u0441\\u043f\\u0440\\u0438\\u043d\\u0442\", \"\\u0432\\u0440\\u0435\\u043c\\u044f\", \"\\u0442\\u0438\\u043f\", \"\\u043f\\u0440\\u043e\\u0431\\u043b\\u0435\\u043c\\u0430\", \"\\u0444\\u0430\\u0439\\u043b\", \"\\u043c\\u0438\\u043d\\u0443\\u0442\\u0430\", \"\\u0434\\u0435\\u043b\\u0430\\u0442\\u044c\", \"\\u0440\\u0430\\u0437\\u0431\\u0438\\u0440\\u0430\\u0442\\u044c\\u0441\\u044f\", \"\\u0441\\u0442\\u0440\\u0443\\u043a\\u0442\\u0443\\u0440\\u0438\\u0440\\u043e\\u0432\\u0430\\u0442\\u044c\", \"\\u043c\\u0430\\u043a\\u0435\\u0442\", \"\\u043d\\u0443\\u0436\\u043d\\u043e\", \"\\u043f\\u043e\\u043b\\u0443\\u0447\\u0430\\u0442\\u044c\\u0441\\u044f\", \"\\u0437\\u0430\\u043f\\u0438\\u0441\\u044b\\u0432\\u0430\\u0442\\u044c\", \"\\u043d\\u0430\\u0447\\u0438\\u043d\\u0430\\u0442\\u044c\", \"\\u0441\\u0442\\u0430\\u043d\\u043e\\u0432\\u0438\\u0442\\u044c\\u0441\\u044f\", \"academy\", \"cloud\", \"coding\", \"conf\", \"css\", \"data\", \"docker\", \"frontend\", \"html\", \"igor\", \"java\", \"kafka\", \"kubernetes\", \"lms\", \"moscow\", \"muzykin\", \"piter\", \"python\", \"ready\", \"rest\", \"school\", \"science\", \"scientist\", \"skillagram\", \"skillbox\", \"wsd\", \"\\u0430\\u0432\\u0442\\u043e\\u043c\\u0430\\u0442\\u0438\\u0437\\u0438\\u0440\\u043e\\u0432\\u0430\\u043d\\u043d\\u044b\\u0439\", \"\\u0430\\u0434\\u0440\\u0435\\u0441\", \"\\u0430\\u043a\\u0442\\u0443\\u0430\\u043b\\u0438\\u0437\\u0430\\u0446\\u0438\\u044f\", \"\\u0430\\u043a\\u0442\\u0443\\u0430\\u043b\\u0438\\u0437\\u0438\\u0440\\u043e\\u0432\\u0430\\u0442\\u044c\", \"\\u0434\\u0438\\u0440\\u0435\\u043a\\u0442\\u043e\\u0440\", \"\\u043e\\u0431\\u0440\\u0430\\u0437\\u043e\\u0432\\u0430\\u0442\\u0435\\u043b\\u044c\\u043d\\u044b\\u0439\", \"\\u044d\\u043a\\u0441\\u043f\\u0435\\u0440\\u0442\", \"\\u0430\\u043d\\u0430\\u043b\\u0438\\u0437\", \"\\u0433\\u043e\\u0440\\u043e\\u0434\", \"\\u043c\\u0438\\u043a\\u0440\\u043e\\u0441\\u0435\\u0440\\u0432\\u0438\\u0441\", \"\\u043d\\u0435\\u043e\\u0431\\u0445\\u043e\\u0434\\u0438\\u043c\\u044b\\u0439\", \"\\u043f\\u0440\\u0430\\u043a\\u0442\\u0438\\u0447\\u0435\\u0441\\u043a\\u0438\\u0439\", \"\\u043f\\u0440\\u0435\\u043f\\u043e\\u0434\\u0430\\u0432\\u0430\\u0442\\u0435\\u043b\\u044c\", \"\\u043f\\u0440\\u0438\\u0432\\u043b\\u0435\\u043a\\u0430\\u0442\\u044c\", \"\\u0440\\u0430\\u0431\\u043e\\u0442\\u043e\\u0434\\u0430\\u0442\\u0435\\u043b\\u044c\", \"\\u0441\\u043b\\u0443\\u0448\\u0430\\u0442\\u0435\\u043b\\u044c\", \"\\u0430\\u043a\\u0442\\u0443\\u0430\\u043b\\u044c\\u043d\\u044b\\u0439\", \"\\u0430\\u043b\\u044c\\u0444\\u0430\", \"\\u0430\\u043d\\u0430\\u043b\\u0438\\u0442\\u0438\\u043a\", \"\\u0437\\u0430\\u0440\\u0443\\u0431\\u0435\\u0436\\u043d\\u044b\\u0439\", \"\\u043a\\u0430\\u0441\\u0442\\u0434\\u0435\\u0432\", \"\\u043a\\u043e\\u043d\\u0446\\u0435\\u043f\\u0446\\u0438\\u044f\", \"\\u043c\\u0435\\u0441\\u044f\\u0446\", \"\\u043c\\u0435\\u0442\\u043e\\u0434\\u0438\\u0441\\u0442\", \"\\u043c\\u043e\\u0441\\u043a\\u0432\\u0430\", \"\\u043e\\u0431\\u043d\\u043e\\u0432\\u043b\\u0435\\u043d\\u0438\\u0435\", \"\\u043e\\u0431\\u043d\\u043e\\u0432\\u043b\\u044f\\u0442\\u044c\", \"\\u043e\\u0431\\u0440\\u0430\\u0437\", \"\\u043d\\u0430\\u043f\\u0440\\u0430\\u0432\\u043b\\u0435\\u043d\\u0438\\u0435\", \"\\u043e\\u0431\\u0443\\u0447\\u0435\\u043d\\u0438\\u0435\", \"\\u043f\\u043b\\u0430\\u043d\\u0438\\u0440\\u043e\\u0432\\u0430\\u0442\\u044c\", \"\\u043a\\u0443\\u0440\\u0441\", \"\\u0440\\u044b\\u043d\\u043e\\u043a\", \"\\u043f\\u0440\\u043e\\u0433\\u0440\\u0430\\u043c\\u043c\\u043d\\u044b\\u0439\", \"\\u043e\\u0444\\u043b\\u0430\\u0439\\u043d\", \"\\u0443\\u0447\\u0435\\u0431\\u043d\\u044b\\u0439\", \"\\u0448\\u043a\\u043e\\u043b\\u0430\", \"\\u0440\\u0430\\u0437\\u0440\\u0430\\u0431\\u043e\\u0442\\u0447\\u0438\\u043a\", \"\\u0438\\u0437\\u043c\\u0435\\u043d\\u0435\\u043d\\u0438\\u0435\", \"\\u0442\\u0435\\u0441\\u0442\\u0438\\u0440\\u043e\\u0432\\u0430\\u043d\\u0438\\u0435\", \"\\u0437\\u0430\\u043f\\u0443\\u0441\\u043a\\u0430\\u0442\\u044c\", \"\\u0433\\u043e\\u0434\", \"\\u043f\\u0440\\u043e\\u0433\\u0440\\u0430\\u043c\\u043c\\u0430\", \"\\u0440\\u0430\\u0437\\u0440\\u0430\\u0431\\u043e\\u0442\\u043a\\u0430\", \"\\u0438\\u0441\\u0441\\u043b\\u0435\\u0434\\u043e\\u0432\\u0430\\u043d\\u0438\\u0435\", \"\\u043f\\u043e\\u0437\\u0432\\u043e\\u043b\\u044f\\u0442\\u044c\", \"\\u043d\\u043e\\u0432\\u044b\\u0439\", \"\\u0437\\u043d\\u0430\\u043d\\u0438\\u0435\", \"\\u0431\\u0438\\u0437\\u043d\\u0435\\u0441\", \"\\u043f\\u0440\\u043e\\u0433\\u0440\\u0430\\u043c\\u043c\\u0438\\u0440\\u043e\\u0432\\u0430\\u043d\\u0438\\u0435\", \"\\u0442\\u0440\\u0435\\u0431\\u043e\\u0432\\u0430\\u043d\\u0438\\u0435\", \"\\u0432\\u0430\\u043a\\u0430\\u043d\\u0441\\u0438\\u044f\", \"\\u0440\\u0430\\u0431\\u043e\\u0442\\u0430\", \"alameda\", \"and\", \"ball\", \"beam\", \"beamrobogames\", \"boston\", \"carry\", \"county\", \"dynamics\", \"fairgrounds\", \"free\", \"ilush\", \"kick\", \"last\", \"lift\", \"maru\", \"mech\", \"natcar\", \"net\", \"rites\", \"robogames\", \"tokotoko\", \"warfare\", \"\\u0430\\u0432\\u0442\\u043e\\u043d\\u043e\\u043c\\u043d\\u043e\\u0441\\u0442\\u044c\", \"\\u0430\\u0432\\u0442\\u043e\\u043d\\u043e\\u043c\\u043d\\u044b\\u0439\", \"\\u0430\\u043a\\u0440\\u043e\\u0431\\u0430\\u0442\\u0438\\u0447\\u0435\\u0441\\u043a\\u0438\\u0439\", \"\\u0430\\u043a\\u0442\\u0443\\u0430\\u0442\\u043e\\u0440\", \"\\u0430\\u043d\\u0430\\u043b\\u043e\\u0433\", \"\\u0430\\u043d\\u0438\\u043c\\u0435\", \"\\u0430\\u043d\\u0442\\u0440\\u043e\\u043f\\u043e\\u043c\\u043e\\u0440\\u0444\\u043d\\u044b\\u0439\", \"\\u0440\\u043e\\u0431\\u043e\\u0442\", \"\\u0434\\u0438\\u0441\\u0446\\u0438\\u043f\\u043b\\u0438\\u043d\\u0430\", \"\\u0441\\u043e\\u0440\\u0435\\u0432\\u043d\\u043e\\u0432\\u0430\\u043d\\u0438\\u0435\", \"\\u0437\\u0430\\u043f\\u0440\\u0435\\u0449\\u0430\\u0442\\u044c\", \"\\u0443\\u0447\\u0430\\u0441\\u0442\\u043d\\u0438\\u043a\", \"\\u0431\\u0438\\u0442\\u0432\\u0430\", \"\\u0441\\u043e\\u043f\\u0435\\u0440\\u043d\\u0438\\u043a\", \"\\u0444\\u0443\\u043d\\u0442\", \"\\u0430\\u0440\\u0435\\u043d\\u0430\", \"\\u0433\\u043e\\u043d\\u043a\\u0430\", \"\\u0434\\u0432\\u0438\\u0436\\u0435\\u043d\\u0438\\u0435\", \"\\u0434\\u0438\\u0441\\u0442\\u0430\\u043d\\u0446\\u0438\\u043e\\u043d\\u043d\\u044b\\u0439\", \"\\u0434\\u043e\\u043f\\u0443\\u0441\\u0442\\u0438\\u043c\\u044b\\u0439\", \"\\u0438\\u0433\\u0440\\u0430\", \"\\u043a\\u0430\\u0442\\u0435\\u0433\\u043e\\u0440\\u0438\\u044f\", \"\\u043f\\u043e\\u043b\\u0435\", \"\\u0430\\u0440\\u0442\", \"\\u0431\\u043b\\u043e\\u043a\\u0438\\u0440\\u043e\\u0432\\u0430\\u0442\\u044c\", \"\\u0431\\u043e\\u0439\", \"\\u0432\\u0435\\u0441\\u043e\\u0432\\u043e\\u0439\", \"\\u0434\\u0438\\u0441\\u043a\", \"\\u043c\\u0430\\u0442\\u0447\", \"\\u043c\\u0435\\u0445\\u0430\\u043d\\u0438\\u0437\\u043c\", \"\\u043c\\u044f\\u0447\", \"\\u043d\\u043e\\u0433\\u0430\", \"\\u043d\\u043e\\u043a\\u0430\\u0443\\u0442\", \"\\u043e\\u0440\\u0433\\u0430\\u043d\\u0438\\u0437\\u0430\\u0442\\u043e\\u0440\", \"\\u043f\\u0435\\u043d\\u0430\\u043b\\u044c\\u0442\\u0438\", \"\\u043f\\u0440\\u043e\\u0445\\u043e\\u0434\\u0438\\u0442\\u044c\", \"\\u0447\\u0435\\u043b\\u043e\\u0432\\u0435\\u043a\", \"\\u0432\\u0435\\u0441\", \"\\u043a\\u043e\\u043c\\u0430\\u043d\\u0434\\u0430\", \"\\u043f\\u043e\\u0434\\u044b\\u043c\\u0430\\u0442\\u044c\", \"\\u0433\\u043e\\u0434\", \"\\u0431\\u044b\\u0441\\u0442\\u0440\\u043e\", \"\\u043b\\u0438\\u043d\\u0438\\u044f\", \"\\u043c\\u043e\\u0447\\u044c\", \"adobe\", \"builderframer\", \"comadobe\", \"comhttps\", \"designerblocs\", \"evernote\", \"figma\", \"getpocket\", \"https\", \"illustrator\", \"muz\", \"opsnext\", \"photoshop\", \"pinterest\", \"producthunt\", \"trello\", \"website\", \"www\", \"xdaffinity\", \"xpixsowebflow\\u0441\\u0442\\u0430\\u0440\\u044b\\u0435\", \"\\u0430\\u0431\\u0441\\u0442\\u0440\\u0430\\u043a\\u0442\\u043d\\u044b\\u0439\", \"\\u0430\\u0433\\u0440\\u0435\\u0433\\u0438\\u0440\\u043e\\u0432\\u0430\\u0442\\u044c\", \"\\u0430\\u0443\\u0434\\u0438\\u0442\\u043e\\u0440\\u0438\\u044f\", \"\\u0431\\u0430\\u043d\\u0430\\u043b\\u044c\\u043d\\u044b\\u0439\", \"\\u0431\\u043b\\u0430\\u0433\\u043e\\u043f\\u043e\\u043b\\u0443\\u0447\\u043d\\u043e\", \"\\u0431\\u043e\\u044f\\u0442\\u044c\\u0441\\u044f\", \"\\u0431\\u0443\\u0434\\u0443\\u0449\\u0438\\u0439\", \"\\u0431\\u0443\\u043c\\u0430\\u0433\\u0430\", \"\\u0431\\u0443\\u043c\\u0430\\u0433\\u0435\\u0435\\u0449\\u0435\", \"\\u0432\\u0430\\u043b\\u0438\\u0434\\u0430\\u0446\\u0438\\u044f\", \"\\u0438\\u043a\\u043e\\u043d\\u043a\\u0430\", \"\\u0438\\u043b\\u043b\\u044e\\u0441\\u0442\\u0440\\u0430\\u0446\\u0438\\u044f\", \"\\u0432\\u0434\\u043e\\u0445\\u043d\\u043e\\u0432\\u0435\\u043d\\u0438\\u0435\", \"\\u043c\\u0438\\u043d\\u0443\\u0441\", \"\\u0440\\u0438\\u0441\\u043e\\u0432\\u0430\\u0442\\u044c\", \"\\u0433\\u043b\\u0430\\u0432\\u043d\\u044b\\u0439\", \"\\u043d\\u0430\\u0441\\u043c\\u043e\\u0442\\u0440\\u0435\\u043d\\u043d\\u043e\\u0441\\u0442\\u044c\", \"\\u043f\\u043e\\u043d\\u0440\\u0430\\u0432\\u0438\\u0442\\u044c\\u0441\\u044f\", \"\\u043f\\u0440\\u043e\\u0431\\u043e\\u0432\\u0430\\u0442\\u044c\", \"\\u043f\\u0440\\u043e\\u0442\\u043e\\u0442\\u0438\\u043f\", \"\\u0441\\u0442\\u0430\\u0440\\u0442\\u0430\\u043f\", \"\\u0442\\u0432\\u043e\\u0439\", \"\\u0434\\u0438\\u0437\\u0430\\u0439\\u043d\\u0435\\u0440\", \"\\u0434\\u0438\\u0437\\u0430\\u0439\\u043d\", \"\\u0441\\u043e\\u0432\\u0435\\u0442\", \"\\u043a\\u043e\\u043b\\u0438\\u0447\\u0435\\u0441\\u0442\\u0432\\u043e\", \"\\u0438\\u043d\\u0442\\u0435\\u0440\\u0444\\u0435\\u0439\\u0441\", \"\\u0440\\u0430\\u0437\\u043b\\u0438\\u0447\\u043d\\u044b\\u0439\", \"\\u043e\\u0433\\u0440\\u043e\\u043c\\u043d\\u044b\\u0439\", \"\\u043f\\u043b\\u044e\\u0441\", \"\\u043f\\u043e\\u0441\\u0442\\u0430\\u0432\\u043b\\u044f\\u0442\\u044c\", \"\\u0441\\u0430\\u0439\\u0442\", \"\\u0438\\u0434\\u0435\\u044f\", \"\\u043d\\u0430\\u0445\\u043e\\u0434\\u0438\\u0442\\u044c\", \"\\u0440\\u0435\\u0448\\u0435\\u043d\\u0438\\u0435\", \"\\u0438\\u043d\\u0442\\u0435\\u0440\\u043d\\u0435\\u0442\", \"\\u043d\\u0430\\u0447\\u0438\\u043d\\u0430\\u044e\\u0449\\u0438\\u0439\", \"\\u043f\\u0440\\u0438\\u0434\\u0443\\u043c\\u044b\\u0432\\u0430\\u0442\\u044c\", \"\\u0438\\u043d\\u0444\\u043e\\u0440\\u043c\\u0430\\u0446\\u0438\\u044f\", \"\\u043f\\u0440\\u0438\\u043b\\u043e\\u0436\\u0435\\u043d\\u0438\\u0435\", \"\\u043f\\u043b\\u0430\\u0442\\u0444\\u043e\\u0440\\u043c\\u0430\", \"\\u043f\\u0440\\u0438\\u043c\\u0435\\u043d\\u044f\\u0442\\u044c\", \"\\u0437\\u043d\\u0430\\u0442\\u044c\", \"\\u0432\\u0435\\u0441\\u044c\", \"\\u043e\\u043f\\u044b\\u0442\", \"\\u043d\\u0443\\u0436\\u043d\\u043e\", \"\\u0438\\u043d\\u0441\\u0442\\u0440\\u0443\\u043c\\u0435\\u043d\\u0442\", \"\\u0437\\u0430\\u0434\\u0430\\u0447\\u0430\", \"archlinux\", \"asep\", \"associate\", \"bare\", \"certified\", \"csep\", \"deployment\", \"devops\", \"engineer\", \"engineering\", \"esep\", \"expert\", \"freebsd\", \"gnu\", \"incose\", \"institute\", \"junior\", \"linkmeup\", \"linux\", \"lpic\", \"metal\", \"oracle\", \"professional\", \"raid\", \"reliability\", \"site\", \"skills\\u043a\\u0430\\u043a\", \"skills\\u043f\\u0440\\u043e\\u0444\\u0435\\u0441\\u0441\\u0438\\u044f\", \"soft\", \"sre\", \"\\u0441\\u0438\\u0441\\u0442\\u0435\\u043c\\u043d\\u044b\\u0439\", \"\\u0434\\u0430\\u0442\\u0430\", \"\\u0446\\u0435\\u043d\\u0442\\u0440\", \"\\u043f\\u0440\\u043e\\u0433\\u0440\\u0430\\u043c\\u043c\\u0438\\u0441\\u0442\", \"\\u0441\\u0435\\u0440\\u0442\\u0438\\u0444\\u0438\\u043a\\u0430\\u0442\", \"\\u0442\\u0435\\u0445\\u043d\\u043e\\u043b\\u043e\\u0433\\u0438\\u044f\", \"\\u043f\\u0440\\u043e\\u0432\\u0430\\u0439\\u0434\\u0435\\u0440\", \"\\u0441\\u0438\\u0441\\u0430\\u0434\\u043c\\u0438\\u043d\", \"\\u0438\\u043d\\u0444\\u043e\\u0440\\u043c\\u0430\\u0446\\u0438\\u043e\\u043d\\u043d\\u044b\\u0439\", \"\\u043d\\u0430\\u0434\\u0435\\u0436\\u043d\\u043e\\u0441\\u0442\\u044c\", \"\\u043e\\u0442\\u0432\\u0435\\u0442\\u0441\\u0442\\u0432\\u0435\\u043d\\u043d\\u044b\\u0439\", \"\\u0442\\u0435\\u0445\\u043d\\u0438\\u0447\\u0435\\u0441\\u043a\\u0438\\u0439\", \"\\u0443\\u0441\\u0442\\u0440\\u0430\\u0438\\u0432\\u0430\\u0442\\u044c\\u0441\\u044f\", \"systems\", \"\\u0432\\u044b\\u0431\\u0438\\u0440\\u0430\\u0442\\u044c\", \"\\u0433\\u043e\\u0442\\u043e\\u0432\\u043d\\u043e\\u0441\\u0442\\u044c\", \"\\u0434\\u0435\\u044f\\u0442\\u0435\\u043b\\u044c\\u043d\\u043e\\u0441\\u0442\\u044c\", \"\\u0437\\u0430\\u0432\\u0438\\u0441\\u0435\\u0442\\u044c\", \"\\u0438\\u043d\\u0436\\u0435\\u043d\\u0435\\u0440\\u0438\\u044f\", \"\\u0438\\u043d\\u0442\\u0435\\u0440\\u0435\\u0441\\u043d\\u043e\", \"\\u043a\\u0430\\u0440\\u044c\\u0435\\u0440\\u0430\", \"\\u043c\\u0435\\u0436\\u0434\\u0443\\u043d\\u0430\\u0440\\u043e\\u0434\\u043d\\u044b\\u0439\", \"\\u043e\\u0431\\u044b\\u0447\\u043d\\u043e\", \"\\u043f\\u0440\\u0435\\u0434\\u043f\\u043e\\u043b\\u0430\\u0433\\u0430\\u0442\\u044c\", \"\\u0440\\u0443\\u0442\\u0438\\u043d\\u043d\\u044b\\u0439\", \"\\u0438\\u043d\\u0436\\u0435\\u043d\\u0435\\u0440\", \"\\u043f\\u0440\\u0438\\u0445\\u043e\\u0434\\u0438\\u0442\\u044c\\u0441\\u044f\", \"\\u0441\\u0438\\u0441\\u0442\\u0435\\u043c\\u0430\", \"\\u043a\\u043e\\u043c\\u043f\\u0430\\u043d\\u0438\\u044f\", \"\\u0441\\u0435\\u0442\\u044c\", \"\\u0441\\u043f\\u0435\\u0446\\u0438\\u0430\\u043b\\u0438\\u0441\\u0442\", \"\\u043e\\u0431\\u0440\\u0430\\u0437\\u043e\\u0432\\u0430\\u043d\\u0438\\u0435\", \"\\u0440\\u0430\\u0431\\u043e\\u0442\\u0430\", \"\\u0438\\u0437\\u0443\\u0447\\u0430\\u0442\\u044c\", \"\\u0437\\u043d\\u0430\\u043d\\u0438\\u0435\", \"\\u0441\\u0430\\u043d\\u043a\\u0442\", \"\\u0440\\u0430\\u0431\\u043e\\u0442\\u0430\\u0442\\u044c\", \"\\u043f\\u0440\\u043e\\u0444\\u0435\\u0441\\u0441\\u0438\\u044f\", \"\\u0440\\u0435\\u0448\\u0430\\u0442\\u044c\", \"\\u043f\\u0440\\u043e\\u0431\\u043b\\u0435\\u043c\\u0430\", \"\\u0447\\u0435\\u043b\\u043e\\u0432\\u0435\\u043a\", \"\\u0437\\u0430\\u0434\\u0430\\u0447\\u0430\", \"\\u043a\\u043e\\u0434\", \"\\u043f\\u0440\\u0430\\u043a\\u0442\\u0438\\u043a\\u0430\", \"\\u043d\\u0430\\u0447\\u0438\\u043d\\u0430\\u0442\\u044c\", \"animated\", \"animatedtext\", \"animationvalue\", \"apitext\", \"const\", \"currenttext\", \"dev\", \"duration\", \"fps\", \"javascript\", \"libraries\", \"lotte\", \"mycomponent\", \"native\", \"nativeanimatedhelper\", \"new\", \"opengl\", \"react\", \"reanimated\", \"render\", \"requestanimationframe\", \"run\", \"setnativeprops\", \"skia\", \"start\", \"svg\", \"timing\", \"tovalue\", \"true\", \"usenativedriver\", \"\\u0442\\u0440\\u0435\\u0434\", \"\\u0431\\u0438\\u0431\\u043b\\u0438\\u043e\\u0442\\u0435\\u043a\\u0430\", \"\\u0441\\u0432\\u043e\\u0439\\u0441\\u0442\\u0432\\u043e\", \"useref\", \"value\", \"\\u0430\\u043d\\u0438\\u043c\\u0438\\u0440\\u043e\\u0432\\u0430\\u0442\\u044c\", \"\\u0438\\u0437\\u043d\\u0430\\u0447\\u0430\\u043b\\u044c\\u043d\\u044b\\u0439\", \"\\u043b\\u043e\\u0433\\u0438\\u043a\\u0430\", \"\\u043f\\u0435\\u0440\\u0444\\u043e\\u043c\\u0430\\u043d\\u0441\", \"\\u043f\\u043e\\u0442\\u043e\\u043a\", \"\\u0444\\u0440\\u0438\\u0437\\u0438\\u0432\\u0430\\u0442\\u044c\\u0441\\u044f\", \"\\u044e\\u0437\\u0435\\u0440\", \"\\u0430\\u043d\\u0438\\u043c\\u0430\\u0446\\u0438\\u044f\", \"text\", \"\\u0437\\u043d\\u0430\\u0447\\u0435\\u043d\\u0438\\u0435\", \"\\u043f\\u043e\\u0441\\u043c\\u043e\\u0442\\u0440\\u0435\\u0442\\u044c\", \"\\u043f\\u0440\\u043e\\u0438\\u0441\\u0445\\u043e\\u0434\\u0438\\u0442\\u044c\", \"\\u043f\\u0440\\u0438\\u043b\\u043e\\u0436\\u0435\\u043d\\u0438\\u0435\", \"\\u0440\\u0430\\u0431\\u043e\\u0442\\u0430\", \"\\u0432\\u0435\\u0441\\u044c\", \"\\u0440\\u0430\\u0431\\u043e\\u0442\\u0430\\u0442\\u044c\", \"\\u0441\\u043b\\u0435\\u0434\\u0443\\u044e\\u0449\\u0438\\u0439\"], \"Freq\": [1.0, 0.0, 0.0, 0.0, 0.0, 0.0, 0.0, 0.0, 0.0, 0.0, 0.0, 0.0, 0.0, 0.0, 0.0, 0.0, 0.0, 0.0, 0.0, 0.0, 0.0, 0.0, 0.0, 0.0, 0.0, 0.0, 0.0, 0.0, 0.0, 0.0, 0.09774797979149993, 0.1172975757497999, 0.05864878787489995, 0.05864878787489995, 0.05864878787489995, 0.05864878787489995, 0.05864878787489995, 0.05864878787489995, 0.019549595958299984, 0.019549595958299984, 0.019549595958299984, 0.019549595958299984, 0.019549595958299984, 0.019549595958299984, 0.019549595958299984, 0.019549595958299984, 0.019549595958299984, 0.019549595958299984, 0.019549595958299984, 0.019549595958299984, 0.019549595958299984, 0.019549595958299984, 0.03909919191659997, 0.019549595958299984, 0.019549595958299984, 0.019549595958299984, 0.019549595958299984, 0.019549595958299984, 0.019549595958299984, 0.019549595958299984, 0.07819838383319994, 0.07819838383319994, 0.07819838383319994, 0.03909919191659997, 0.03909919191659997, 0.03909919191659997, 0.03909919191659997, 0.03909919191659997, 0.03909919191659997, 0.03909919191659997, 0.03909919191659997, 0.03909919191659997, 0.03909919191659997, 0.03909919191659997, 0.03909919191659997, 0.03909919191659997, 0.03909919191659997, 0.03909919191659997, 0.03909919191659997, 0.03909919191659997, 0.03909919191659997, 0.09618568257472467, 0.10827541875106692, 0.7374269667331045, 0.09618569007991788, 0.09474099061516432, 0.26041116329437175, 0.06412379338661194, 0.17356153828714446, 0.08120643556639336, 0.11221659339541147, 0.06412412406749357, 0.08120643556639336, 0.09014238440425887, 0.08015471171249196, 0.06412363555887277, 0.06412410602658881, 0.08118524911817229, 0.04809308854039398, 0.048092687212219785, 0.05799002015714864, 0.05798974175957572, 0.02378468016688674, 0.02378468016688674, 0.02378468016688674, 0.02378468016688674, 0.02378468016688674, 0.09513872066754696, 0.02378468016688674, 0.02378468016688674, 0.02378468016688674, 0.02378468016688674, 0.07135404050066022, 0.02378468016688674, 0.02378468016688674, 0.02378468016688674, 0.02378468016688674, 0.02378468016688674, 0.02378468016688674, 0.07135404050066022, 0.02378468016688674, 0.02378468016688674, 0.02378468016688674, 0.02378468016688674, 0.07135404050066022, 0.02378468016688674, 0.09513872066754696, 0.02378468016688674, 0.02378468016688674, 0.02378468016688674, 0.02378468016688674, 0.04756936033377348, 0.21406212150198065, 0.21406212150198065, 0.11892340083443367, 0.07135404050066022, 0.07135404050066022, 0.07135404050066022, 0.07135404050066022, 0.07135404050066022, 0.07135404050066022, 0.07135404050066022, 0.07135404050066022, 0.07135404050066022, 0.04756936033377348, 0.04756936033377348, 0.04756936033377348, 0.04756936033377348, 0.04756936033377348, 0.04756936033377348, 0.04756936033377348, 0.04756936033377348, 0.04756936033377348, 0.04756936033377348, 0.04756936033377348, 0.04756936033377348, 0.26346287277727665, 0.1365264459107123, 0.1365264459107123, 0.21454155785912873, 0.19503777987182788, 0.17553400188452703, 0.09751888990703161, 0.09751888993611066, 0.09751888993611066, 0.1646642954855586, 0.07801511194880985, 0.07801511194880985, 0.11702266788844505, 0.2193394925134333, 0.1462263283421226, 0.11288383253408212, 0.09879857726188018, 0.0823321477427661, 0.09748421889464655, 0.09751888993217604, 0.07801511194841637, 0.07801511194841637, 0.08233214771770961, 0.07801511194762947, 0.09502203496169917, 0.014412038754196011, 0.014412038754196011, 0.014412038754196011, 0.014412038754196011, 0.014412038754196011, 0.014412038754196011, 0.014412038754196011, 0.014412038754196011, 0.014412038754196011, 0.014412038754196011, 0.028824077508392023, 0.014412038754196011, 0.014412038754196011, 0.014412038754196011, 0.014412038754196011, 0.014412038754196011, 0.014412038754196011, 0.014412038754196011, 0.014412038754196011, 0.014412038754196011, 0.14412038754196013, 0.014412038754196011, 0.014412038754196011, 0.014412038754196011, 0.12970834878776408, 0.014412038754196011, 0.014412038754196011, 0.014412038754196011, 0.014412038754196011, 0.028824077508392023, 0.7494260152181926, 0.24500465882133218, 0.21618058131294016, 0.10088427127937205, 0.08647223252517607, 0.07206019377098007, 0.07206019377098007, 0.07206019377098007, 0.057648155016784046, 0.057648155016784046, 0.057648155016784046, 0.057648155016784046, 0.057648155016784046, 0.057648155016784046, 0.057648155016784046, 0.057648155016784046, 0.04323611626258803, 0.04323611626258803, 0.04323611626258803, 0.04323611626258803, 0.04323611626258803, 0.04323611626258803, 0.04323611626258803, 0.04323611626258803, 0.04323611626258803, 0.04323611626258803, 0.04323611626258803, 0.04323611626258803, 0.059850516704286795, 0.06984343423710045, 0.047272311782050096, 0.06645305388386487, 0.04727231178199263, 0.06645305388430477, 0.04988816731208828, 0.04727231178203519, 0.05117995618980174, 0.09761630382534776, 0.032538767941782586, 0.032538767941782586, 0.13015507176713034, 0.032538767941782586, 0.032538767941782586, 0.06507753588356517, 0.032538767941782586, 0.06507753588356517, 0.09761630382534776, 0.032538767941782586, 0.032538767941782586, 0.032538767941782586, 0.032538767941782586, 0.032538767941782586, 0.032538767941782586, 0.032538767941782586, 0.06507753588356517, 0.032538767941782586, 0.032538767941782586, 0.032538767941782586, 0.032538767941782586, 0.032538767941782586, 0.032538767941782586, 0.032538767941782586, 0.032538767941782586, 0.06507753588356517, 0.032538767941782586, 0.032538767941782586, 0.032538767941782586, 0.16269383970891296, 0.16269383970891296, 0.09761630382534776, 0.09761630382534776, 0.09761630382534776, 0.06507753588356517, 0.06507753588356517, 0.06507753588356517, 0.06507753588356517, 0.06507753588356517, 0.06507753588356517, 0.06507753588356517, 0.4280128719068168, 0.2134580414941302, 0.16009353111536492, 0.13341127592894447, 0.1334112759289467, 0.10672902074277403, 0.08004676555736492, 0.08004676555763633, 0.08004676555763633, 0.1351619595507023, 0.11263496629125488, 0.13336384401764734, 0.1544313736624885, 0.10672902074336124, 0.09010797303048358, 0.08004676556052111, 0.11582353024718833, 0.11263496629149768, 0.09010797303040567, 0.09010797303040567, 0.09651960853873094, 0.12999543919386589, 0.09651960853914292, 0.09651960854003952, 0.08335240251085868, 0.08335240250850215, 0.014537088473963372, 0.014537088473963372, 0.014537088473963372, 0.014537088473963372, 0.014537088473963372, 0.014537088473963372, 0.014537088473963372, 0.14537088473963375, 0.014537088473963372, 0.043611265421890116, 0.014537088473963372, 0.014537088473963372, 0.014537088473963372, 0.029074176947926744, 0.014537088473963372, 0.014537088473963372, 0.014537088473963372, 0.014537088473963372, 0.1017596193177436, 0.029074176947926744, 0.014537088473963372, 0.014537088473963372, 0.05814835389585349, 0.029074176947926744, 0.014537088473963372, 0.014537088473963372, 0.014537088473963372, 0.014537088473963372, 0.014537088473963372, 0.07268544236981687, 0.4942610081147546, 0.1017596193177436, 0.1017596193177436, 0.08722253084378023, 0.08722253084378023, 0.08722253084378023, 0.07268544236981687, 0.07268544236981687, 0.05814835389585349, 0.05814835389585349, 0.05814835389585349, 0.05814835389585349, 0.05814835389585349, 0.043611265421890116, 0.043611265421890116, 0.043611265421890116, 0.043611265421890116, 0.043611265421890116, 0.043611265421890116, 0.043611265421890116, 0.043611265421890116, 0.043611265421890116, 0.043611265421890116, 0.043611265421890116, 0.043611265421890116, 0.41722122126272093, 0.10728558169367734, 0.14661224829847355, 0.13112632915271955, 0.09536471583781823, 0.13112608095387068, 0.09536446763896937, 0.22585381065847934, 0.07152347482865147, 0.13112558455617299, 0.05960285432406808, 0.10426764321883734, 0.07152273023210488, 0.07761810687850759, 0.07152372302779357, 0.07044880308955553, 0.06702905533853533, 0.060384821321599974, 0.059602606125219205, 0.06036979292870582, 0.30339049310387795, 0.023337730238759843, 0.09335092095503937, 0.09335092095503937, 0.14002638143255905, 0.046675460477519685, 0.023337730238759843, 0.046675460477519685, 0.07001319071627952, 0.1166886511937992, 0.023337730238759843, 0.023337730238759843, 0.046675460477519685, 0.14002638143255905, 0.023337730238759843, 0.046675460477519685, 0.023337730238759843, 0.14002638143255905, 0.023337730238759843, 0.046675460477519685, 0.023337730238759843, 0.046675460477519685, 0.023337730238759843, 0.023337730238759843, 0.046675460477519685, 0.023337730238759843, 0.046675460477519685, 0.046675460477519685, 0.023337730238759843, 0.046675460477519685, 0.1633641116713189, 0.1166886511937992, 0.1166886511937992, 0.046675460477519685, 0.046675460477519685, 0.046675460477519685, 0.046675460477519685, 0.046675460477519685, 0.046675460477519685, 0.046675460477519685, 0.046675460477519685, 0.046675460477519685, 0.28705908969962923, 0.706651653277906, 0.057411817939926266, 0.057380786828605576, 0.05741181793990798, 0.06460180494746812, 0.0724836266235549, 0.06207362942141684, 0.05970516517038776, 0.04844480307212793], \"Total\": [1.0, 0.0, 0.0, 0.0, 0.0, 0.0, 0.0, 0.0, 0.0, 0.0, 0.0, 0.0, 0.0, 0.0, 0.0, 0.0, 0.0, 0.0, 0.0, 0.0, 0.0, 0.0, 0.0, 0.0, 0.0, 0.0, 0.0, 0.0, 0.0, 0.0, 0.09774797979389918, 0.11729757575267899, 0.058648787876339495, 0.058648787876339495, 0.058648787876339495, 0.058648787876339495, 0.058648787876339495, 0.058648787876339495, 0.019549595958779833, 0.019549595958779833, 0.019549595958779833, 0.019549595958779833, 0.019549595958779833, 0.019549595958779833, 0.019549595958779833, 0.019549595958779833, 0.019549595958779833, 0.019549595958779833, 0.019549595958779833, 0.019549595958779833, 0.019549595958779833, 0.019549595958779833, 0.039099191917559666, 0.019549595958779833, 0.019549595958779833, 0.019549595958779833, 0.019549595958779833, 0.019549595958779833, 0.019549595958779833, 0.019549595958779833, 0.07819838383511933, 0.07819838383511933, 0.07819838383511933, 0.039099191917559666, 0.039099191917559666, 0.039099191917559666, 0.039099191917559666, 0.039099191917559666, 0.039099191917559666, 0.039099191917559666, 0.039099191917559666, 0.039099191917559666, 0.039099191917559666, 0.039099191917559666, 0.039099191917559666, 0.039099191917559666, 0.039099191917559666, 0.039099191917559666, 0.039099191917559666, 0.039099191917559666, 0.039099191917559666, 0.10810630308162568, 0.13480584569261977, 1.4440786200110105, 0.11982184597306905, 0.12127141755638497, 0.45880166926619925, 0.07594187133354315, 0.3431517497803322, 0.11371106228886807, 0.1837403164254066, 0.08313727188471332, 0.12368869575129379, 0.15283058373236402, 0.1278371937326199, 0.09080589074701712, 0.10227452652537243, 0.2206776335317364, 0.06713726757369975, 0.07477494240000851, 0.16524212758481718, 0.1768561350485245, 0.02378468016688674, 0.02378468016688674, 0.02378468016688674, 0.02378468016688674, 0.02378468016688674, 0.09513872066754696, 0.02378468016688674, 0.02378468016688674, 0.02378468016688674, 0.02378468016688674, 0.07135404050066022, 0.02378468016688674, 0.02378468016688674, 0.02378468016688674, 0.02378468016688674, 0.02378468016688674, 0.02378468016688674, 0.07135404050066022, 0.02378468016688674, 0.02378468016688674, 0.02378468016688674, 0.02378468016688674, 0.07135404050066022, 0.02378468016688674, 0.09513872066754696, 0.02378468016688674, 0.02378468016688674, 0.02378468016688674, 0.02378468016688674, 0.04756936033377348, 0.21406212150198065, 0.21406212150198065, 0.11892340083443367, 0.07135404050066022, 0.07135404050066022, 0.07135404050066022, 0.07135404050066022, 0.07135404050066022, 0.07135404050066022, 0.07135404050066022, 0.07135404050066022, 0.07135404050066022, 0.04756936033377348, 0.04756936033377348, 0.04756936033377348, 0.04756936033377348, 0.04756936033377348, 0.04756936033377348, 0.04756936033377348, 0.04756936033377348, 0.04756936033377348, 0.04756936033377348, 0.04756936033377348, 0.04756936033377348, 0.2935655649699499, 0.1484453290259444, 0.1484453290259444, 0.25030068918947007, 0.23079715940063372, 0.2112936296117974, 0.1093369678522457, 0.10943826944827176, 0.10943826944827176, 0.21710461259659683, 0.08993473965943546, 0.08993473965943546, 0.15529721318161832, 0.3775486009970321, 0.2173407561278239, 0.1782811713065326, 0.15548047178032431, 0.10592972874964508, 0.19294765430293329, 0.22864447448917363, 0.10185536016352563, 0.10185536016352563, 0.13479204136056933, 0.125696601171706, 0.4957297119440939, 0.014412038754196011, 0.014412038754196011, 0.014412038754196011, 0.014412038754196011, 0.014412038754196011, 0.014412038754196011, 0.014412038754196011, 0.014412038754196011, 0.014412038754196011, 0.014412038754196011, 0.028824077508392023, 0.014412038754196011, 0.014412038754196011, 0.014412038754196011, 0.014412038754196011, 0.014412038754196011, 0.014412038754196011, 0.014412038754196011, 0.014412038754196011, 0.014412038754196011, 0.14412038754196013, 0.014412038754196011, 0.014412038754196011, 0.014412038754196011, 0.12970834878776408, 0.014412038754196011, 0.014412038754196011, 0.014412038754196011, 0.014412038754196011, 0.028824077508392023, 0.7494260152181926, 0.24500465882133218, 0.21618058131294016, 0.10088427127937205, 0.08647223252517607, 0.07206019377098007, 0.07206019377098007, 0.07206019377098007, 0.057648155016784046, 0.057648155016784046, 0.057648155016784046, 0.057648155016784046, 0.057648155016784046, 0.057648155016784046, 0.057648155016784046, 0.057648155016784046, 0.04323611626258803, 0.04323611626258803, 0.04323611626258803, 0.04323611626258803, 0.04323611626258803, 0.04323611626258803, 0.04323611626258803, 0.04323611626258803, 0.04323611626258803, 0.04323611626258803, 0.04323611626258803, 0.04323611626258803, 0.09643038338545618, 0.18969152597069439, 0.05919292089634107, 0.21878400261060266, 0.06677608976326124, 0.3775486009970321, 0.08888159011226505, 0.08303416190549293, 0.19794623178019044, 0.09761630382534776, 0.032538767941782586, 0.032538767941782586, 0.13015507176713034, 0.032538767941782586, 0.032538767941782586, 0.06507753588356517, 0.032538767941782586, 0.06507753588356517, 0.09761630382534776, 0.032538767941782586, 0.032538767941782586, 0.032538767941782586, 0.032538767941782586, 0.032538767941782586, 0.032538767941782586, 0.032538767941782586, 0.06507753588356517, 0.032538767941782586, 0.032538767941782586, 0.032538767941782586, 0.032538767941782586, 0.032538767941782586, 0.032538767941782586, 0.032538767941782586, 0.032538767941782586, 0.06507753588356517, 0.032538767941782586, 0.032538767941782586, 0.032538767941782586, 0.16269383970891296, 0.16269383970891296, 0.09761630382534776, 0.09761630382534776, 0.09761630382534776, 0.06507753588356517, 0.06507753588356517, 0.06507753588356517, 0.06507753588356517, 0.06507753588356517, 0.06507753588356517, 0.06507753588356517, 0.4576756334569263, 0.22948772721886987, 0.17201390323380206, 0.14522935387440772, 0.15254854857557343, 0.12623279872208032, 0.0918648435028481, 0.09196726186894613, 0.09196726186894613, 0.1722940072249872, 0.14263515772347138, 0.1900285127868371, 0.2433175152713315, 0.14249071666541177, 0.11663826016625868, 0.0960772404239566, 0.19608570484976673, 0.19077054580057792, 0.12670246710269117, 0.12670246710269117, 0.14809992981191467, 0.3524448399896002, 0.19356903936534436, 0.2206776335317364, 0.1711941303886245, 0.45880166926619925, 0.014537088473963372, 0.014537088473963372, 0.014537088473963372, 0.014537088473963372, 0.014537088473963372, 0.014537088473963372, 0.014537088473963372, 0.14537088473963375, 0.014537088473963372, 0.043611265421890116, 0.014537088473963372, 0.014537088473963372, 0.014537088473963372, 0.029074176947926744, 0.014537088473963372, 0.014537088473963372, 0.014537088473963372, 0.014537088473963372, 0.1017596193177436, 0.029074176947926744, 0.014537088473963372, 0.014537088473963372, 0.05814835389585349, 0.029074176947926744, 0.014537088473963372, 0.014537088473963372, 0.014537088473963372, 0.014537088473963372, 0.014537088473963372, 0.07268544236981687, 0.4942610081147546, 0.1017596193177436, 0.1017596193177436, 0.08722253084378023, 0.08722253084378023, 0.08722253084378023, 0.07268544236981687, 0.07268544236981687, 0.05814835389585349, 0.05814835389585349, 0.05814835389585349, 0.05814835389585349, 0.05814835389585349, 0.043611265421890116, 0.043611265421890116, 0.043611265421890116, 0.043611265421890116, 0.043611265421890116, 0.043611265421890116, 0.043611265421890116, 0.043611265421890116, 0.043611265421890116, 0.043611265421890116, 0.043611265421890116, 0.043611265421890116, 0.45622877722355143, 0.11910365963912468, 0.18942075930207466, 0.1701338851230145, 0.11486849382197137, 0.18963741491151814, 0.13437202361046707, 0.4957297119440939, 0.0910272528135985, 0.22864447448917363, 0.07910663230941602, 0.30278928148170453, 0.14953784217988636, 0.1883260352154543, 0.1837403164254066, 0.18969152597069439, 0.45880166926619925, 0.10947468097319679, 0.09861016209812354, 0.16524212758481718, 0.30339049310387795, 0.023337730238759843, 0.09335092095503937, 0.09335092095503937, 0.14002638143255905, 0.046675460477519685, 0.023337730238759843, 0.046675460477519685, 0.07001319071627952, 0.1166886511937992, 0.023337730238759843, 0.023337730238759843, 0.046675460477519685, 0.14002638143255905, 0.023337730238759843, 0.046675460477519685, 0.023337730238759843, 0.14002638143255905, 0.023337730238759843, 0.046675460477519685, 0.023337730238759843, 0.046675460477519685, 0.023337730238759843, 0.023337730238759843, 0.046675460477519685, 0.023337730238759843, 0.046675460477519685, 0.046675460477519685, 0.023337730238759843, 0.046675460477519685, 0.1633641116713189, 0.1166886511937992, 0.1166886511937992, 0.046675460477519685, 0.046675460477519685, 0.046675460477519685, 0.046675460477519685, 0.046675460477519685, 0.046675460477519685, 0.046675460477519685, 0.046675460477519685, 0.046675460477519685, 0.31374134488538574, 1.4440786200110105, 0.06922989588543835, 0.0734117682331446, 0.076915595921267, 0.19077054580057792, 0.4957297119440939, 0.3524448399896002, 0.30278928148170453, 0.07844568866124296], \"Category\": [\"Default\", \"Default\", \"Default\", \"Default\", \"Default\", \"Default\", \"Default\", \"Default\", \"Default\", \"Default\", \"Default\", \"Default\", \"Default\", \"Default\", \"Default\", \"Default\", \"Default\", \"Default\", \"Default\", \"Default\", \"Default\", \"Default\", \"Default\", \"Default\", \"Default\", \"Default\", \"Default\", \"Default\", \"Default\", \"Default\", \"Topic1\", \"Topic1\", \"Topic1\", \"Topic1\", \"Topic1\", \"Topic1\", \"Topic1\", \"Topic1\", \"Topic1\", \"Topic1\", \"Topic1\", \"Topic1\", \"Topic1\", \"Topic1\", \"Topic1\", \"Topic1\", \"Topic1\", \"Topic1\", \"Topic1\", \"Topic1\", \"Topic1\", \"Topic1\", \"Topic1\", \"Topic1\", \"Topic1\", \"Topic1\", \"Topic1\", \"Topic1\", \"Topic1\", \"Topic1\", \"Topic1\", \"Topic1\", \"Topic1\", \"Topic1\", \"Topic1\", \"Topic1\", \"Topic1\", \"Topic1\", \"Topic1\", \"Topic1\", \"Topic1\", \"Topic1\", \"Topic1\", \"Topic1\", \"Topic1\", \"Topic1\", \"Topic1\", \"Topic1\", \"Topic1\", \"Topic1\", \"Topic1\", \"Topic1\", \"Topic1\", \"Topic1\", \"Topic1\", \"Topic1\", \"Topic1\", \"Topic1\", \"Topic1\", \"Topic1\", \"Topic1\", \"Topic1\", \"Topic1\", \"Topic1\", \"Topic1\", \"Topic1\", \"Topic1\", \"Topic1\", \"Topic1\", \"Topic1\", \"Topic1\", \"Topic1\", \"Topic2\", \"Topic2\", \"Topic2\", \"Topic2\", \"Topic2\", \"Topic2\", \"Topic2\", \"Topic2\", \"Topic2\", \"Topic2\", \"Topic2\", \"Topic2\", \"Topic2\", \"Topic2\", \"Topic2\", \"Topic2\", \"Topic2\", \"Topic2\", \"Topic2\", \"Topic2\", \"Topic2\", \"Topic2\", \"Topic2\", \"Topic2\", \"Topic2\", \"Topic2\", \"Topic2\", \"Topic2\", \"Topic2\", \"Topic2\", \"Topic2\", \"Topic2\", \"Topic2\", \"Topic2\", \"Topic2\", \"Topic2\", \"Topic2\", \"Topic2\", \"Topic2\", \"Topic2\", \"Topic2\", \"Topic2\", \"Topic2\", \"Topic2\", \"Topic2\", \"Topic2\", \"Topic2\", \"Topic2\", \"Topic2\", \"Topic2\", \"Topic2\", \"Topic2\", \"Topic2\", \"Topic2\", \"Topic2\", \"Topic2\", \"Topic2\", \"Topic2\", \"Topic2\", \"Topic2\", \"Topic2\", \"Topic2\", \"Topic2\", \"Topic2\", \"Topic2\", \"Topic2\", \"Topic2\", \"Topic2\", \"Topic2\", \"Topic2\", \"Topic2\", \"Topic2\", \"Topic2\", \"Topic2\", \"Topic2\", \"Topic2\", \"Topic2\", \"Topic2\", \"Topic2\", \"Topic3\", \"Topic3\", \"Topic3\", \"Topic3\", \"Topic3\", \"Topic3\", \"Topic3\", \"Topic3\", \"Topic3\", \"Topic3\", \"Topic3\", \"Topic3\", \"Topic3\", \"Topic3\", \"Topic3\", \"Topic3\", \"Topic3\", \"Topic3\", \"Topic3\", \"Topic3\", \"Topic3\", \"Topic3\", \"Topic3\", \"Topic3\", \"Topic3\", \"Topic3\", \"Topic3\", \"Topic3\", \"Topic3\", \"Topic3\", \"Topic3\", \"Topic3\", \"Topic3\", \"Topic3\", \"Topic3\", \"Topic3\", \"Topic3\", \"Topic3\", \"Topic3\", \"Topic3\", \"Topic3\", \"Topic3\", \"Topic3\", \"Topic3\", \"Topic3\", \"Topic3\", \"Topic3\", \"Topic3\", \"Topic3\", \"Topic3\", \"Topic3\", \"Topic3\", \"Topic3\", \"Topic3\", \"Topic3\", \"Topic3\", \"Topic3\", \"Topic3\", \"Topic3\", \"Topic3\", \"Topic3\", \"Topic3\", \"Topic3\", \"Topic3\", \"Topic3\", \"Topic3\", \"Topic3\", \"Topic4\", \"Topic4\", \"Topic4\", \"Topic4\", \"Topic4\", \"Topic4\", \"Topic4\", \"Topic4\", \"Topic4\", \"Topic4\", \"Topic4\", \"Topic4\", \"Topic4\", \"Topic4\", \"Topic4\", \"Topic4\", \"Topic4\", \"Topic4\", \"Topic4\", \"Topic4\", \"Topic4\", \"Topic4\", \"Topic4\", \"Topic4\", \"Topic4\", \"Topic4\", \"Topic4\", \"Topic4\", \"Topic4\", \"Topic4\", \"Topic4\", \"Topic4\", \"Topic4\", \"Topic4\", \"Topic4\", \"Topic4\", \"Topic4\", \"Topic4\", \"Topic4\", \"Topic4\", \"Topic4\", \"Topic4\", \"Topic4\", \"Topic4\", \"Topic4\", \"Topic4\", \"Topic4\", \"Topic4\", \"Topic4\", \"Topic4\", \"Topic4\", \"Topic4\", \"Topic4\", \"Topic4\", \"Topic4\", \"Topic4\", \"Topic4\", \"Topic4\", \"Topic4\", \"Topic4\", \"Topic4\", \"Topic4\", \"Topic4\", \"Topic4\", \"Topic4\", \"Topic4\", \"Topic4\", \"Topic4\", \"Topic5\", \"Topic5\", \"Topic5\", \"Topic5\", \"Topic5\", \"Topic5\", \"Topic5\", \"Topic5\", \"Topic5\", \"Topic5\", \"Topic5\", \"Topic5\", \"Topic5\", \"Topic5\", \"Topic5\", \"Topic5\", \"Topic5\", \"Topic5\", \"Topic5\", \"Topic5\", \"Topic5\", \"Topic5\", \"Topic5\", \"Topic5\", \"Topic5\", \"Topic5\", \"Topic5\", \"Topic5\", \"Topic5\", \"Topic5\", \"Topic5\", \"Topic5\", \"Topic5\", \"Topic5\", \"Topic5\", \"Topic5\", \"Topic5\", \"Topic5\", \"Topic5\", \"Topic5\", \"Topic5\", \"Topic5\", \"Topic5\", \"Topic5\", \"Topic5\", \"Topic5\", \"Topic5\", \"Topic5\", \"Topic5\", \"Topic5\", \"Topic5\", \"Topic5\", \"Topic5\", \"Topic5\", \"Topic5\", \"Topic5\", \"Topic5\", \"Topic5\", \"Topic5\", \"Topic5\", \"Topic5\", \"Topic5\", \"Topic5\", \"Topic5\", \"Topic5\", \"Topic5\", \"Topic5\", \"Topic5\", \"Topic5\", \"Topic5\", \"Topic5\", \"Topic5\", \"Topic5\", \"Topic5\", \"Topic5\", \"Topic6\", \"Topic6\", \"Topic6\", \"Topic6\", \"Topic6\", \"Topic6\", \"Topic6\", \"Topic6\", \"Topic6\", \"Topic6\", \"Topic6\", \"Topic6\", \"Topic6\", \"Topic6\", \"Topic6\", \"Topic6\", \"Topic6\", \"Topic6\", \"Topic6\", \"Topic6\", \"Topic6\", \"Topic6\", \"Topic6\", \"Topic6\", \"Topic6\", \"Topic6\", \"Topic6\", \"Topic6\", \"Topic6\", \"Topic6\", \"Topic6\", \"Topic6\", \"Topic6\", \"Topic6\", \"Topic6\", \"Topic6\", \"Topic6\", \"Topic6\", \"Topic6\", \"Topic6\", \"Topic6\", \"Topic6\", \"Topic6\", \"Topic6\", \"Topic6\", \"Topic6\", \"Topic6\", \"Topic6\", \"Topic6\", \"Topic6\", \"Topic6\", \"Topic6\"], \"logprob\": [30.0, 29.0, 28.0, 27.0, 26.0, 25.0, 24.0, 23.0, 22.0, 21.0, 20.0, 19.0, 18.0, 17.0, 16.0, 15.0, 14.0, 13.0, 12.0, 11.0, 10.0, 9.0, 8.0, 7.0, 6.0, 5.0, 4.0, 3.0, 2.0, 1.0, -4.6891, -4.5068, -5.1999, -5.1999, -5.1999, -5.1999, -5.1999, -5.1999, -6.2985, -6.2985, -6.2985, -6.2985, -6.2985, -6.2985, -6.2985, -6.2985, -6.2985, -6.2985, -6.2985, -6.2985, -6.2985, -6.2985, -5.6054, -6.2985, -6.2985, -6.2985, -6.2985, -6.2985, -6.2985, -6.2985, -4.9122, -4.9122, -4.9122, -5.6054, -5.6054, -5.6054, -5.6054, -5.6054, -5.6054, -5.6054, -5.6054, -5.6054, -5.6054, -5.6054, -5.6054, -5.6054, -5.6054, -5.6054, -5.6054, -5.6054, -5.6054, -4.7052, -4.5868, -2.6683, -4.7052, -4.7203, -3.7092, -5.1107, -4.115, -4.8745, -4.5511, -5.1107, -4.8745, -4.7701, -4.8875, -5.1107, -5.1107, -4.8748, -5.3984, -5.3984, -5.2112, -5.2112, -6.5466, -6.5466, -6.5466, -6.5466, -6.5466, -5.1603, -6.5466, -6.5466, -6.5466, -6.5466, -5.448, -6.5466, -6.5466, -6.5466, -6.5466, -6.5466, -6.5466, -5.448, -6.5466, -6.5466, -6.5466, -6.5466, -5.448, -6.5466, -5.1603, -6.5466, -6.5466, -6.5466, -6.5466, -5.8534, -4.3493, -4.3493, -4.9371, -5.448, -5.448, -5.448, -5.448, -5.448, -5.448, -5.448, -5.448, -5.448, -5.8534, -5.8534, -5.8534, -5.8534, -5.8534, -5.8534, -5.8534, -5.8534, -5.8534, -5.8534, -5.8534, -5.8534, -4.1417, -4.7991, -4.7991, -4.3471, -4.4424, -4.5478, -5.1356, -5.1356, -5.1356, -4.6117, -5.3587, -5.3587, -4.9532, -4.325, -4.7305, -4.9892, -5.1225, -5.3048, -5.1359, -5.1356, -5.3587, -5.3587, -5.3048, -5.3587, -5.1615, -6.7959, -6.7959, -6.7959, -6.7959, -6.7959, -6.7959, -6.7959, -6.7959, -6.7959, -6.7959, -6.1027, -6.7959, -6.7959, -6.7959, -6.7959, -6.7959, -6.7959, -6.7959, -6.7959, -6.7959, -4.4933, -6.7959, -6.7959, -6.7959, -4.5987, -6.7959, -6.7959, -6.7959, -6.7959, -6.1027, -2.8446, -3.9627, -4.0878, -4.85, -5.0041, -5.1864, -5.1864, -5.1864, -5.4096, -5.4096, -5.4096, -5.4096, -5.4096, -5.4096, -5.4096, -5.4096, -5.6973, -5.6973, -5.6973, -5.6973, -5.6973, -5.6973, -5.6973, -5.6973, -5.6973, -5.6973, -5.6973, -5.6973, -5.3721, -5.2177, -5.608, -5.2674, -5.608, -5.2674, -5.5542, -5.608, -5.5286, -4.9504, -6.049, -6.049, -4.6627, -6.049, -6.049, -5.3558, -6.049, -5.3558, -4.9504, -6.049, -6.049, -6.049, -6.049, -6.049, -6.049, -6.049, -5.3558, -6.049, -6.049, -6.049, -6.049, -6.049, -6.049, -6.049, -6.049, -5.3558, -6.049, -6.049, -6.049, -4.4395, -4.4395, -4.9504, -4.9504, -4.9504, -5.3558, -5.3558, -5.3558, -5.3558, -5.3558, -5.3558, -5.3558, -3.4722, -4.168, -4.4556, -4.638, -4.638, -4.8611, -5.1488, -5.1488, -5.1488, -4.6249, -4.8073, -4.6383, -4.4917, -4.8611, -5.0304, -5.1488, -4.7793, -4.8073, -5.0304, -5.0304, -4.9617, -4.6639, -4.9617, -4.9617, -5.1083, -5.1083, -6.9649, -6.9649, -6.9649, -6.9649, -6.9649, -6.9649, -6.9649, -4.6623, -6.9649, -5.8662, -6.9649, -6.9649, -6.9649, -6.2717, -6.9649, -6.9649, -6.9649, -6.9649, -5.0189, -6.2717, -6.9649, -6.9649, -5.5786, -6.2717, -6.9649, -6.9649, -6.9649, -6.9649, -6.9649, -5.3554, -3.4385, -5.0189, -5.0189, -5.1731, -5.1731, -5.1731, -5.3554, -5.3554, -5.5786, -5.5786, -5.5786, -5.5786, -5.5786, -5.8662, -5.8662, -5.8662, -5.8662, -5.8662, -5.8662, -5.8662, -5.8662, -5.8662, -5.8662, -5.8662, -5.8662, -3.6079, -4.9661, -4.6538, -4.7654, -5.0839, -4.7654, -5.0839, -4.2217, -5.3715, -4.7654, -5.5539, -4.9946, -5.3715, -5.2898, -5.3715, -5.3867, -5.4364, -5.5408, -5.5539, -5.5411, -3.3147, -5.8797, -4.4934, -4.4934, -4.0879, -5.1865, -5.8797, -5.1865, -4.7811, -4.2702, -5.8797, -5.8797, -5.1865, -4.0879, -5.8797, -5.1865, -5.8797, -4.0879, -5.8797, -5.1865, -5.8797, -5.1865, -5.8797, -5.8797, -5.1865, -5.8797, -5.1865, -5.1865, -5.8797, -5.1865, -3.9338, -4.2702, -4.2702, -5.1865, -5.1865, -5.1865, -5.1865, -5.1865, -5.1865, -5.1865, -5.1865, -5.1865, -3.37, -2.4692, -4.9795, -4.98, -4.9795, -4.8615, -4.7464, -4.9014, -4.9403, -5.1493], \"loglift\": [30.0, 29.0, 28.0, 27.0, 26.0, 25.0, 24.0, 23.0, 22.0, 21.0, 20.0, 19.0, 18.0, 17.0, 16.0, 15.0, 14.0, 13.0, 12.0, 11.0, 10.0, 9.0, 8.0, 7.0, 6.0, 5.0, 4.0, 3.0, 2.0, 1.0, 1.988, 1.988, 1.988, 1.988, 1.988, 1.988, 1.988, 1.988, 1.988, 1.988, 1.988, 1.988, 1.988, 1.988, 1.988, 1.988, 1.988, 1.988, 1.988, 1.988, 1.988, 1.988, 1.988, 1.988, 1.988, 1.988, 1.988, 1.988, 1.988, 1.988, 1.988, 1.988, 1.988, 1.988, 1.988, 1.988, 1.988, 1.988, 1.988, 1.988, 1.988, 1.988, 1.988, 1.988, 1.988, 1.988, 1.988, 1.988, 1.988, 1.988, 1.988, 1.8712, 1.7689, 1.316, 1.7683, 1.7412, 1.4217, 1.8189, 1.3064, 1.6514, 1.4949, 1.7284, 1.5673, 1.4601, 1.5212, 1.6401, 1.5212, 0.9881, 1.6544, 1.5467, 0.9409, 0.873, 1.5439, 1.5439, 1.5439, 1.5439, 1.5439, 1.5439, 1.5439, 1.5439, 1.5439, 1.5439, 1.5439, 1.5439, 1.5439, 1.5439, 1.5439, 1.5439, 1.5439, 1.5439, 1.5439, 1.5439, 1.5439, 1.5439, 1.5439, 1.5439, 1.5439, 1.5439, 1.5439, 1.5439, 1.5439, 1.5439, 1.5439, 1.5439, 1.5439, 1.5439, 1.5439, 1.5439, 1.5439, 1.5439, 1.5439, 1.5439, 1.5439, 1.5439, 1.5439, 1.5439, 1.5439, 1.5439, 1.5439, 1.5439, 1.5439, 1.5439, 1.5439, 1.5439, 1.5439, 1.5439, 1.4357, 1.4602, 1.4602, 1.3898, 1.3756, 1.3585, 1.4295, 1.4286, 1.4286, 1.2675, 1.4017, 1.4017, 1.261, 1.0008, 1.1476, 1.0869, 1.0905, 1.2919, 0.8612, 0.6918, 1.2773, 1.2773, 1.051, 1.067, -0.108, 1.7956, 1.7956, 1.7956, 1.7956, 1.7956, 1.7956, 1.7956, 1.7956, 1.7956, 1.7956, 1.7956, 1.7956, 1.7956, 1.7956, 1.7956, 1.7956, 1.7956, 1.7956, 1.7956, 1.7956, 1.7956, 1.7956, 1.7956, 1.7956, 1.7956, 1.7956, 1.7956, 1.7956, 1.7956, 1.7956, 1.7956, 1.7956, 1.7956, 1.7956, 1.7956, 1.7956, 1.7956, 1.7956, 1.7956, 1.7956, 1.7956, 1.7956, 1.7956, 1.7956, 1.7956, 1.7956, 1.7956, 1.7956, 1.7956, 1.7956, 1.7956, 1.7956, 1.7956, 1.7956, 1.7956, 1.7956, 1.7956, 1.7956, 1.3186, 0.7964, 1.5707, 0.604, 1.4502, 0.0584, 1.2181, 1.2323, 0.4429, 1.7281, 1.7281, 1.7281, 1.7281, 1.7281, 1.7281, 1.7281, 1.7281, 1.7281, 1.7281, 1.7281, 1.7281, 1.7281, 1.7281, 1.7281, 1.7281, 1.7281, 1.7281, 1.7281, 1.7281, 1.7281, 1.7281, 1.7281, 1.7281, 1.7281, 1.7281, 1.7281, 1.7281, 1.7281, 1.7281, 1.7281, 1.7281, 1.7281, 1.7281, 1.7281, 1.7281, 1.7281, 1.7281, 1.7281, 1.7281, 1.7281, 1.7281, 1.6611, 1.6557, 1.6563, 1.6433, 1.5941, 1.5603, 1.5904, 1.5893, 1.5893, 1.4854, 1.492, 1.374, 1.2735, 1.4391, 1.4701, 1.5456, 1.2016, 1.2012, 1.3873, 1.3873, 1.3, 0.7307, 1.0322, 0.9012, 1.0084, 0.0226, 1.618, 1.618, 1.618, 1.618, 1.618, 1.618, 1.618, 1.618, 1.618, 1.618, 1.618, 1.618, 1.618, 1.618, 1.618, 1.618, 1.618, 1.618, 1.618, 1.618, 1.618, 1.618, 1.618, 1.618, 1.618, 1.618, 1.618, 1.618, 1.618, 1.618, 1.618, 1.618, 1.618, 1.618, 1.618, 1.618, 1.618, 1.618, 1.618, 1.618, 1.618, 1.618, 1.618, 1.618, 1.618, 1.618, 1.618, 1.618, 1.618, 1.618, 1.618, 1.618, 1.618, 1.618, 1.618, 1.5286, 1.5135, 1.3618, 1.3576, 1.4319, 1.249, 1.2751, 0.8318, 1.3768, 1.062, 1.3349, 0.5519, 0.8804, 0.7316, 0.6745, 0.6275, -0.3055, 1.023, 1.1145, 0.6111, 2.2298, 2.2298, 2.2298, 2.2298, 2.2298, 2.2298, 2.2298, 2.2298, 2.2298, 2.2298, 2.2298, 2.2298, 2.2298, 2.2298, 2.2298, 2.2298, 2.2298, 2.2298, 2.2298, 2.2298, 2.2298, 2.2298, 2.2298, 2.2298, 2.2298, 2.2298, 2.2298, 2.2298, 2.2298, 2.2298, 2.2298, 2.2298, 2.2298, 2.2298, 2.2298, 2.2298, 2.2298, 2.2298, 2.2298, 2.2298, 2.2298, 2.2298, 2.1409, 1.5151, 2.0426, 1.9834, 1.9373, 1.147, 0.3071, 0.4932, 0.6062, 1.7478]}, \"token.table\": {\"Topic\": [1, 6, 3], \"Freq\": [0.6924830726961219, 0.6924830726961219, 1.3343545322600707], \"Term\": [\"text\", \"text\", \"\\u0440\\u043e\\u0431\\u043e\\u0442\"]}, \"R\": 30, \"lambda.step\": 0.01, \"plot.opts\": {\"xlab\": \"PC1\", \"ylab\": \"PC2\"}, \"topic.order\": [1, 2, 3, 4, 5, 6]};\n",
       "\n",
       "function LDAvis_load_lib(url, callback){\n",
       "  var s = document.createElement('script');\n",
       "  s.src = url;\n",
       "  s.async = true;\n",
       "  s.onreadystatechange = s.onload = callback;\n",
       "  s.onerror = function(){console.warn(\"failed to load library \" + url);};\n",
       "  document.getElementsByTagName(\"head\")[0].appendChild(s);\n",
       "}\n",
       "\n",
       "if(typeof(LDAvis) !== \"undefined\"){\n",
       "   // already loaded: just create the visualization\n",
       "   !function(LDAvis){\n",
       "       new LDAvis(\"#\" + \"ldavis_el1003620870475844969265204579\", ldavis_el1003620870475844969265204579_data);\n",
       "   }(LDAvis);\n",
       "}else if(typeof define === \"function\" && define.amd){\n",
       "   // require.js is available: use it to load d3/LDAvis\n",
       "   require.config({paths: {d3: \"https://d3js.org/d3.v5\"}});\n",
       "   require([\"d3\"], function(d3){\n",
       "      window.d3 = d3;\n",
       "      LDAvis_load_lib(\"https://cdn.jsdelivr.net/gh/bmabey/pyLDAvis@3.4.0/pyLDAvis/js/ldavis.v3.0.0.js\", function(){\n",
       "        new LDAvis(\"#\" + \"ldavis_el1003620870475844969265204579\", ldavis_el1003620870475844969265204579_data);\n",
       "      });\n",
       "    });\n",
       "}else{\n",
       "    // require.js not available: dynamically load d3 & LDAvis\n",
       "    LDAvis_load_lib(\"https://d3js.org/d3.v5.js\", function(){\n",
       "         LDAvis_load_lib(\"https://cdn.jsdelivr.net/gh/bmabey/pyLDAvis@3.4.0/pyLDAvis/js/ldavis.v3.0.0.js\", function(){\n",
       "                 new LDAvis(\"#\" + \"ldavis_el1003620870475844969265204579\", ldavis_el1003620870475844969265204579_data);\n",
       "            })\n",
       "         });\n",
       "}\n",
       "</script>"
      ],
      "text/plain": [
       "PreparedData(topic_coordinates=               x          y  topics  cluster       Freq\n",
       "topic                                                  \n",
       "0       1.428067  -6.784307       1        1  13.696368\n",
       "1       3.406663 -26.938353       2        1  21.354097\n",
       "2      16.828020 -42.112282       3        1  16.602912\n",
       "3     -16.339664 -22.473017       4        1  17.761602\n",
       "4      21.908350 -18.904760       5        1  19.829992\n",
       "5      -6.853294 -44.324532       6        1  10.755029, topic_info=            Term      Freq     Total Category  logprob  loglift\n",
       "120         text  1.000000  1.000000  Default  30.0000  30.0000\n",
       "1494       робот  0.000000  0.000000  Default  29.0000  29.0000\n",
       "1566   системный  0.000000  0.000000  Default  28.0000  28.0000\n",
       "4       animated  0.000000  0.000000  Default  27.0000  27.0000\n",
       "433     дизайнер  0.000000  0.000000  Default  26.0000  26.0000\n",
       "...          ...       ...       ...      ...      ...      ...\n",
       "1307  приложение  0.064602  0.190771   Topic6  -4.8615   1.1470\n",
       "1406      работа  0.072484  0.495730   Topic6  -4.7464   0.3071\n",
       "266         весь  0.062074  0.352445   Topic6  -4.9014   0.4932\n",
       "1407    работать  0.059705  0.302789   Topic6  -4.9403   0.6062\n",
       "1581   следующий  0.048445  0.078446   Topic6  -5.1493   1.7478\n",
       "\n",
       "[443 rows x 6 columns], token_table=      Topic      Freq   Term\n",
       "term                        \n",
       "120       1  0.692483   text\n",
       "120       6  0.692483   text\n",
       "1494      3  1.334355  робот, R=30, lambda_step=0.01, plot_opts={'xlab': 'PC1', 'ylab': 'PC2'}, topic_order=[1, 2, 3, 4, 5, 6])"
      ]
     },
     "execution_count": 161,
     "metadata": {},
     "output_type": "execute_result"
    }
   ],
   "source": [
    "# визуализация модели NMF\n",
    "panel = pyLDAvis.sklearn.prepare(nmf_model, tfidf_matrix, tfidf_vectorizer, mds='tsne', sort_topics=False)\n",
    "panel"
   ]
  },
  {
   "cell_type": "markdown",
   "id": "1aff8cb5",
   "metadata": {},
   "source": [
    "К сожалению, модель LSA через pyLDAvis невозможно вывести"
   ]
  },
  {
   "cell_type": "code",
   "execution_count": 163,
   "id": "0b991832",
   "metadata": {},
   "outputs": [
    {
     "name": "stdout",
     "output_type": "stream",
     "text": [
      "5    text, анимация, animated, работа, тред, react,...\n",
      "Name: keyword, dtype: object\n"
     ]
    }
   ],
   "source": [
    "print(dfHabr1.loc[dfHabr1['clustersAgglomerative'] == 0, 'keyword'])"
   ]
  },
  {
   "cell_type": "markdown",
   "id": "e8afc800",
   "metadata": {},
   "source": [
    "#### Распределение кластеров по тематическому моделированию"
   ]
  },
  {
   "cell_type": "code",
   "execution_count": 177,
   "id": "704bc895",
   "metadata": {},
   "outputs": [],
   "source": [
    "# Массив, в котором будут сохраняться перебранные lda компоненты\n",
    "topics = []\n",
    "\n",
    "for i, topic in enumerate(lda_model.components_):\n",
    "    # топ векторизованных слов\n",
    "    top_words = [vectorizer.get_feature_names_out()[i] for i in topic.argsort()[:-11:-1]]\n",
    "    topic_string = f\"Topic {i}: {', '.join(top_words)}\"\n",
    "    # добавление\n",
    "    topics.append(topic_string)"
   ]
  },
  {
   "cell_type": "code",
   "execution_count": 178,
   "id": "4de5f3f0",
   "metadata": {},
   "outputs": [],
   "source": [
    "dfCosinTest = pd.DataFrame({'texts': topics})"
   ]
  },
  {
   "cell_type": "code",
   "execution_count": 179,
   "id": "a445b030",
   "metadata": {},
   "outputs": [],
   "source": [
    "dfj = {'texts': [], 'cos_similarities' : [], 'cluster': []}"
   ]
  },
  {
   "cell_type": "code",
   "execution_count": 180,
   "id": "fb9458e8",
   "metadata": {},
   "outputs": [],
   "source": [
    "# цикл, который реализует сравнение топ слов lda модели и кластеров, для правильного подбора кластера к lda модели\n",
    "for i in range(0, 6):\n",
    "    # выбор текста - цели\n",
    "    find_nearest_to = str(dfHabr1.loc[dfHabr1['clustersAgglomerative'] == i, 'keyword'])\n",
    "    # формирование весов tf-idf\n",
    "    tfidf = TfidfVectorizer()\n",
    "    mx_tf = tfidf.fit_transform(topics)\n",
    "    new_entry = tfidf.transform([find_nearest_to])\n",
    "    sdf = pd.DataFrame.sparse.from_spmatrix(mx_tf)\n",
    "    new_entry = tfidf.transform([find_nearest_to])\n",
    "    pd.DataFrame.sparse.from_spmatrix(new_entry)\n",
    "    # создание косинуснового сходства\n",
    "    cosine_similarities = cosine_similarity(new_entry, mx_tf).flatten()\n",
    "    dfCosinTest['cos_similarities'] = cosine_similarities\n",
    "    # сортировка, для выбора наибольшего сходства\n",
    "    dfCosinTest = dfCosinTest.sort_values(by=['cos_similarities'], ascending=[0])\n",
    "    dfCosinTest = dfCosinTest.reset_index(drop=True)\n",
    "    dfj['texts'].append(dfCosinTest['texts'][0])\n",
    "    dfj['cos_similarities'].append(dfCosinTest['cos_similarities'][0])\n",
    "    dfj['cluster'].append(i)"
   ]
  },
  {
   "cell_type": "code",
   "execution_count": 181,
   "id": "df898457",
   "metadata": {},
   "outputs": [],
   "source": [
    "dfClusters = pd.DataFrame(data = dfj)"
   ]
  },
  {
   "cell_type": "code",
   "execution_count": 182,
   "id": "fa7ccdd9",
   "metadata": {
    "scrolled": true
   },
   "outputs": [
    {
     "data": {
      "text/html": [
       "<div>\n",
       "<style scoped>\n",
       "    .dataframe tbody tr th:only-of-type {\n",
       "        vertical-align: middle;\n",
       "    }\n",
       "\n",
       "    .dataframe tbody tr th {\n",
       "        vertical-align: top;\n",
       "    }\n",
       "\n",
       "    .dataframe thead th {\n",
       "        text-align: right;\n",
       "    }\n",
       "</style>\n",
       "<table border=\"1\" class=\"dataframe\">\n",
       "  <thead>\n",
       "    <tr style=\"text-align: right;\">\n",
       "      <th></th>\n",
       "      <th>texts</th>\n",
       "      <th>cos_similarities</th>\n",
       "      <th>cluster</th>\n",
       "    </tr>\n",
       "  </thead>\n",
       "  <tbody>\n",
       "    <tr>\n",
       "      <th>0</th>\n",
       "      <td>Topic 4: text, анимация, animated, text text, ...</td>\n",
       "      <td>0.816525</td>\n",
       "      <td>0</td>\n",
       "    </tr>\n",
       "    <tr>\n",
       "      <th>1</th>\n",
       "      <td>Topic 0: показывать, сделать, новый, помимо, п...</td>\n",
       "      <td>0.538544</td>\n",
       "      <td>1</td>\n",
       "    </tr>\n",
       "    <tr>\n",
       "      <th>2</th>\n",
       "      <td>Topic 2: показывать, сделать, новый, помимо, п...</td>\n",
       "      <td>0.771022</td>\n",
       "      <td>2</td>\n",
       "    </tr>\n",
       "    <tr>\n",
       "      <th>3</th>\n",
       "      <td>Topic 3: робот, дизайнер, дисциплина, весь, со...</td>\n",
       "      <td>0.809472</td>\n",
       "      <td>3</td>\n",
       "    </tr>\n",
       "    <tr>\n",
       "      <th>4</th>\n",
       "      <td>Topic 4: text, анимация, animated, text text, ...</td>\n",
       "      <td>0.428689</td>\n",
       "      <td>4</td>\n",
       "    </tr>\n",
       "    <tr>\n",
       "      <th>5</th>\n",
       "      <td>Topic 1: text, задача, время, делать, день, ну...</td>\n",
       "      <td>0.658868</td>\n",
       "      <td>5</td>\n",
       "    </tr>\n",
       "  </tbody>\n",
       "</table>\n",
       "</div>"
      ],
      "text/plain": [
       "                                               texts  cos_similarities  \\\n",
       "0  Topic 4: text, анимация, animated, text text, ...          0.816525   \n",
       "1  Topic 0: показывать, сделать, новый, помимо, п...          0.538544   \n",
       "2  Topic 2: показывать, сделать, новый, помимо, п...          0.771022   \n",
       "3  Topic 3: робот, дизайнер, дисциплина, весь, со...          0.809472   \n",
       "4  Topic 4: text, анимация, animated, text text, ...          0.428689   \n",
       "5  Topic 1: text, задача, время, делать, день, ну...          0.658868   \n",
       "\n",
       "   cluster  \n",
       "0        0  \n",
       "1        1  \n",
       "2        2  \n",
       "3        3  \n",
       "4        4  \n",
       "5        5  "
      ]
     },
     "execution_count": 182,
     "metadata": {},
     "output_type": "execute_result"
    }
   ],
   "source": [
    "dfClusters.head(15)"
   ]
  },
  {
   "cell_type": "markdown",
   "id": "78d0a84f",
   "metadata": {},
   "source": [
    "### 2.4 Разведочный анализ"
   ]
  },
  {
   "cell_type": "code",
   "execution_count": 185,
   "id": "0d7354ee",
   "metadata": {},
   "outputs": [
    {
     "name": "stderr",
     "output_type": "stream",
     "text": [
      "C:\\Users\\МОиБД\\AppData\\Local\\Temp\\ipykernel_10036\\785557542.py:3: FutureWarning: \n",
      "\n",
      "`shade` is now deprecated in favor of `fill`; setting `fill=True`.\n",
      "This will become an error in seaborn v0.14.0; please update your code.\n",
      "\n",
      "  sns.kdeplot(dfHabr1['clustersAgglomerative'], shade=True)\n"
     ]
    },
    {
     "data": {
      "text/plain": [
       "<module 'matplotlib.pyplot' from 'C:\\\\ProgramData\\\\anaconda3\\\\lib\\\\site-packages\\\\matplotlib\\\\pyplot.py'>"
      ]
     },
     "execution_count": 185,
     "metadata": {},
     "output_type": "execute_result"
    },
    {
     "data": {
      "image/png": "[encoded data removed]",
      "text/plain": [
       "<Figure size 500x500 with 1 Axes>"
      ]
     },
     "metadata": {},
     "output_type": "display_data"
    }
   ],
   "source": [
    "sns.catplot(x='TitleCompany', kind='count', data=dfHabr1)\n",
    "# анализ плотности распределения целевой переменной\n",
    "sns.kdeplot(dfHabr1['clustersAgglomerative'], shade=True)\n",
    "# визуализация зависимости кластеров от временных признаков\n",
    "plt.scatter(dfHabr1['TitleCompany'], dfHabr1['clustersAgglomerative'])\n",
    "plt.xlabel('Title')\n",
    "plt.ylabel('Cluster')\n",
    "plt "
   ]
  },
  {
   "cell_type": "code",
   "execution_count": 193,
   "id": "eba4b040",
   "metadata": {},
   "outputs": [],
   "source": [
    "# сохраняем DataFrame в файл\n",
    "dfHabr1.to_csv(r'C:\\Users\\МОиБД\\Downloads\\Report2.csv', index=False, encoding='utf-8')"
   ]
  },
  {
   "cell_type": "markdown",
   "id": "9fd2b38d",
   "metadata": {},
   "source": [
    "### 2.5 Подготовка отчета"
   ]
  },
  {
   "cell_type": "markdown",
   "id": "bfbb0fa9",
   "metadata": {},
   "source": [
    "\n",
    "\n",
    "\n",
    "__2.1 Поиск ключевых слов/n-грамм. Векторизация текста__ Пункт был выполнен без нареканий. Биграммы, триграммы и векторизация выполнены успешно.\n",
    "\n",
    "__2.2 Тематическое моделирование__ Сначала была выполнена кластеризация, потом тематическое моделирование. Само тематическое моделирование было выполнено тремя способами LDA, NMF и LSA, оно прошло успешно и была выбрана LDA.\n",
    "\n",
    "    __2.2.1 LDA__ (лучшая модель) выбрал потому, что он может быть полезен в случаях, когда нужно опредлить тематическую структуру в большом наборе документов, таких как статьи и т.д. \n",
    "\n",
    "    __2.2.2 NMF__ выбрал потому, что он может быть полезен в случаях, когда нужно найти скрытые признаки в данных, таких как тексты и т.д.\n",
    "\n",
    "    __2.2.3 LSA__ выбрал потому, что он может быть полезен в случаях, когда нужно определить структуру в большом наборе текстовых данных, таких как статьи, отчеты и т.д.\n",
    "\n",
    "\n",
    "__2.3 Кластеризация__ Предварительная обработка данных выполнена без проблем. Кластеры показали себя одинакого, по сравнению друг с другом из-за того, что текста довольно разные и их мало, оценка кластеризации не сработало из-за маленького количества строк, в соответствии кластеров.\n",
    "\n",
    "    __2.3.1 Agglomerative__ выбрал потому, что он полезен в случаях, когда нужно разбить данные на группы на основе их сходства.\n",
    "\n",
    "    __2.3.2 Kmeans__ выбрал потому, что он полезен в случаях, когда нужно разбить данные на группы на основе их сходства.\n",
    "\n",
    "    __2.3.3 Spectral__ выбрал потому, что он полезен в случаях, когда нужно разбить данные на группы на основе их сходства, но данные не могут быть разделены на группы в исходном пространстве признаков.\n",
    "\n",
    "__2.4 Разведочный анализ__ Предварительная обработка данных выполнена полностью, без проблем.\n",
    "\n",
    "### Вывод\n",
    "\n",
    "В итоге датафрейм почти полностью готов к 3-ей Сессии. Но есть небольшие недочеты, по типу того, что датасет очень маленький. И проблемы связанные с этим. Такие как проблема с кластеризацией.\n",
    "\n"
   ]
  },
  {
   "cell_type": "code",
   "execution_count": null,
   "id": "d94c074d",
   "metadata": {},
   "outputs": [],
   "source": []
  }
 ],
 "metadata": {
  "kernelspec": {
   "display_name": "Python 3 (ipykernel)",
   "language": "python",
   "name": "python3"
  },
  "language_info": {
   "codemirror_mode": {
    "name": "ipython",
    "version": 3
   },
   "file_extension": ".py",
   "mimetype": "text/x-python",
   "name": "python",
   "nbconvert_exporter": "python",
   "pygments_lexer": "ipython3",
   "version": "3.10.9"
  }
 },
 "nbformat": 4,
 "nbformat_minor": 5
}
