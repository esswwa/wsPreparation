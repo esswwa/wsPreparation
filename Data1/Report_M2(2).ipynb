{
 "cells": [
  {
   "cell_type": "markdown",
   "id": "795267f3",
   "metadata": {},
   "source": [
    "## Модуль Б.  Разведочный анализ данных"
   ]
  },
  {
   "cell_type": "markdown",
   "id": "b3e0fc69",
   "metadata": {},
   "source": [
    "#### Импортирование библиотек"
   ]
  },
  {
   "cell_type": "code",
   "execution_count": 1,
   "id": "2d4500e9",
   "metadata": {},
   "outputs": [],
   "source": [
    "import pandas as pd\n",
    "import io\n",
    "import glob\n",
    "import re\n",
    "import nltk\n",
    "import matplotlib.pyplot as plt\n",
    "import pymorphy2\n",
    "import fitz\n",
    "import string\n",
    "import numpy as np\n",
    "import re\n",
    "import pyLDAvis\n",
    "import pyLDAvis.gensim\n",
    "from nltk.stem import *\n",
    "from nltk.corpus import stopwords\n",
    "from pymystem3 import Mystem\n",
    "from string import punctuation\n",
    "from nltk.tokenize import word_tokenize\n",
    "from tqdm.auto import tqdm, trange\n",
    "from sklearn.feature_extraction.text import CountVectorizer\n",
    "from sklearn.decomposition import LatentDirichletAllocation\n",
    "import pyLDAvis.sklearn\n",
    "from __future__ import division\n",
    "from sklearn.feature_extraction.text import TfidfVectorizer\n",
    "from sklearn.cluster import AgglomerativeClustering\n",
    "from sklearn.cluster import KMeans\n",
    "from sklearn.cluster import SpectralClustering\n",
    "from sklearn.metrics import silhouette_score\n",
    "from sklearn.manifold import TSNE\n",
    "from sklearn.decomposition import NMF\n",
    "from sklearn.decomposition import TruncatedSVD\n",
    "from sklearn.metrics.pairwise import linear_kernel\n",
    "from sklearn.metrics.pairwise import cosine_similarity\n",
    "from sklearn.naive_bayes import MultinomialNB\n",
    "from sklearn.pipeline import Pipeline\n",
    "from sklearn.model_selection import train_test_split\n",
    "from sklearn.feature_extraction.text import TfidfTransformer"
   ]
  },
  {
   "cell_type": "markdown",
   "id": "6eca1300",
   "metadata": {},
   "source": [
    "### 1.2 Формирование структуры набора данных"
   ]
  },
  {
   "cell_type": "markdown",
   "id": "540131f8",
   "metadata": {},
   "source": [
    "### Описание структуры данных"
   ]
  },
  {
   "cell_type": "markdown",
   "id": "21062b3f",
   "metadata": {},
   "source": [
    "__TitleCompany__ - Название компании\n",
    "\n",
    "__Description__ - Описание компании\n",
    "\n",
    "__Reiting__ - Рейтинг компании\n",
    "\n",
    "__Categories__ - Категории компании\n",
    "\n",
    "\n",
    "__TitleCompany__ - Название компании\n",
    "\n",
    "__Description__ - Описание компании\n",
    "\n",
    "__Reiting__ - Рейтинг компании\n",
    "\n",
    "__Categories__ - Категории компании\n",
    "\n",
    "__TextPostLemat__ - обработанный, лематизированный текст \n",
    "\n",
    "__TextPostToken__ - обработанный, токенизированный и лематизированный текст (лематизирован другим способом нежели TextPostLemat)\n",
    "\n",
    "__bigram__ - биграммы обработанного и лематизированного текста\n",
    "\n",
    "__trigram__ - триграммы обработанного и лематизированного текста\n",
    "\n",
    "__keyword__ - ключевые слова обработанного и лематизированного текста\n",
    "\n",
    "__clustersAgglomerative__ - кластеры, образованные моделью Agglomerative\n",
    "\n",
    "__clustersKmeans__ - кластеры, образованные моделью Kmeans\n",
    "\n",
    "__clustersSpectral__ - кластеры, образованные моделью Spectral"
   ]
  },
  {
   "cell_type": "markdown",
   "id": "0ec5bb6d",
   "metadata": {},
   "source": [
    "#### Установка библиотек"
   ]
  },
  {
   "cell_type": "markdown",
   "id": "41893cc7",
   "metadata": {},
   "source": [
    "### 2.1 Поиск ключевых слов/n-грамм. Векторизация текстов"
   ]
  },
  {
   "cell_type": "code",
   "execution_count": 2,
   "id": "cb6410ef",
   "metadata": {},
   "outputs": [],
   "source": [
    "dfHabr1 = pd.read_csv('Report1.csv')"
   ]
  },
  {
   "cell_type": "code",
   "execution_count": 3,
   "id": "b37bedce",
   "metadata": {},
   "outputs": [],
   "source": [
    "mystem = Mystem() \n",
    "# добавление стопслов\n",
    "russian_stopwords = stopwords.words(\"russian\")\n",
    "russian_stopwords.extend(['…', '«', '»', '...', 'быть', 'r', 'n', 'а', 'мы', 'с', 'для', 'ещё', 'его', 'также', 'к', 'тем', 'кто', 'чтобы', 'но', 'они', 'будут', 'так', 'где', 'один', 'он ', 'и', 'на', 'но', 'или', 'либо', 'это', 'мб', 'далее', 'дв', 'свой', 'ваш','всё', 'очень', 'её', 'ещё', 'вообще', 'наш', 'который'])"
   ]
  },
  {
   "cell_type": "markdown",
   "id": "e6a585e4",
   "metadata": {},
   "source": [
    "Из-за проблем с чтением нужно заново токенизировать текст, именно поэтому заново прописываю метод токенизации на лемматизированном тексте"
   ]
  },
  {
   "cell_type": "code",
   "execution_count": 4,
   "id": "c4ad6fa6",
   "metadata": {},
   "outputs": [],
   "source": [
    "def tokenize(text):\n",
    "    t = word_tokenize(text)\n",
    "    return [token for token in t if token not in russian_stopwords]"
   ]
  },
  {
   "cell_type": "code",
   "execution_count": 5,
   "id": "5a159916",
   "metadata": {},
   "outputs": [
    {
     "data": {
      "application/vnd.jupyter.widget-view+json": {
       "model_id": "ef30237399da47998796783aec733b02",
       "version_major": 2,
       "version_minor": 0
      },
      "text/plain": [
       "  0%|          | 0/87 [00:00<?, ?it/s]"
      ]
     },
     "metadata": {},
     "output_type": "display_data"
    }
   ],
   "source": [
    "prep_text1 = [tokenize(text.lower()) for text in tqdm(dfHabr1['TextPostLemat']) if text not in russian_stopwords]"
   ]
  },
  {
   "cell_type": "code",
   "execution_count": 6,
   "id": "6f0e7097",
   "metadata": {},
   "outputs": [],
   "source": [
    "dfHabr1['TextPostToken'] = prep_text1"
   ]
  },
  {
   "cell_type": "code",
   "execution_count": 7,
   "id": "54e70483",
   "metadata": {},
   "outputs": [],
   "source": [
    "dfHabr1['bigram'] = ''\n",
    "dfHabr1['trigram'] = ''\n",
    "dfHabr1['keyword'] = ''"
   ]
  },
  {
   "cell_type": "code",
   "execution_count": 8,
   "id": "d08ea12c",
   "metadata": {},
   "outputs": [
    {
     "data": {
      "application/vnd.jupyter.widget-view+json": {
       "model_id": "af25535e9efa46159fb66cf24d697fe6",
       "version_major": 2,
       "version_minor": 0
      },
      "text/plain": [
       "  0%|          | 0/87 [00:00<?, ?it/s]"
      ]
     },
     "metadata": {},
     "output_type": "display_data"
    },
    {
     "name": "stderr",
     "output_type": "stream",
     "text": [
      "C:\\Users\\essww\\AppData\\Local\\Temp\\ipykernel_14508\\4148636806.py:3: SettingWithCopyWarning: \n",
      "A value is trying to be set on a copy of a slice from a DataFrame\n",
      "\n",
      "See the caveats in the documentation: https://pandas.pydata.org/pandas-docs/stable/user_guide/indexing.html#returning-a-view-versus-a-copy\n",
      "  dfHabr1['bigram'][i] = list(nltk.ngrams(dfHabr1['TextPostToken'][i], 2))\n"
     ]
    },
    {
     "data": {
      "application/vnd.jupyter.widget-view+json": {
       "model_id": "8b65b3175df544bb9abb3f78b0e47983",
       "version_major": 2,
       "version_minor": 0
      },
      "text/plain": [
       "  0%|          | 0/87 [00:00<?, ?it/s]"
      ]
     },
     "metadata": {},
     "output_type": "display_data"
    },
    {
     "name": "stderr",
     "output_type": "stream",
     "text": [
      "C:\\Users\\essww\\AppData\\Local\\Temp\\ipykernel_14508\\4148636806.py:6: SettingWithCopyWarning: \n",
      "A value is trying to be set on a copy of a slice from a DataFrame\n",
      "\n",
      "See the caveats in the documentation: https://pandas.pydata.org/pandas-docs/stable/user_guide/indexing.html#returning-a-view-versus-a-copy\n",
      "  dfHabr1['trigram'][i] = list(nltk.ngrams(dfHabr1['TextPostToken'][i], 3))\n"
     ]
    },
    {
     "data": {
      "application/vnd.jupyter.widget-view+json": {
       "model_id": "18662586f4414cdd9e658519ecc62a0c",
       "version_major": 2,
       "version_minor": 0
      },
      "text/plain": [
       "  0%|          | 0/87 [00:00<?, ?it/s]"
      ]
     },
     "metadata": {},
     "output_type": "display_data"
    },
    {
     "name": "stderr",
     "output_type": "stream",
     "text": [
      "C:\\Users\\essww\\AppData\\Local\\Temp\\ipykernel_14508\\4148636806.py:11: SettingWithCopyWarning: \n",
      "A value is trying to be set on a copy of a slice from a DataFrame\n",
      "\n",
      "See the caveats in the documentation: https://pandas.pydata.org/pandas-docs/stable/user_guide/indexing.html#returning-a-view-versus-a-copy\n",
      "  dfHabr1['keyword'][i] = ', '.join(top_words)\n"
     ]
    }
   ],
   "source": [
    "# использование цикла с записью биграмм в датафрейм\n",
    "for i in tqdm(range(len(dfHabr1['TextPostToken']))):\n",
    "    dfHabr1['bigram'][i] = list(nltk.ngrams(dfHabr1['TextPostToken'][i], 2))\n",
    "# использование цикла с записью триграмм в датафрейм\n",
    "for i in tqdm(range(len(dfHabr1['TextPostToken']))):\n",
    "    dfHabr1['trigram'][i] = list(nltk.ngrams(dfHabr1['TextPostToken'][i], 3))\n",
    "# использование цикла с записью ключевых слов в датафрейм\n",
    "for i in tqdm(range(len(dfHabr1['TextPostToken']))):\n",
    "    freq_dist = nltk.FreqDist(dfHabr1['TextPostToken'][i])\n",
    "    top_words = [word for word, count in freq_dist.most_common(10)]\n",
    "    dfHabr1['keyword'][i] = ', '.join(top_words)"
   ]
  },
  {
   "cell_type": "code",
   "execution_count": 9,
   "id": "6b87ae51",
   "metadata": {},
   "outputs": [
    {
     "data": {
      "text/html": [
       "<div>\n",
       "<style scoped>\n",
       "    .dataframe tbody tr th:only-of-type {\n",
       "        vertical-align: middle;\n",
       "    }\n",
       "\n",
       "    .dataframe tbody tr th {\n",
       "        vertical-align: top;\n",
       "    }\n",
       "\n",
       "    .dataframe thead th {\n",
       "        text-align: right;\n",
       "    }\n",
       "</style>\n",
       "<table border=\"1\" class=\"dataframe\">\n",
       "  <thead>\n",
       "    <tr style=\"text-align: right;\">\n",
       "      <th></th>\n",
       "      <th>TitleCompany</th>\n",
       "      <th>Description</th>\n",
       "      <th>Reiting</th>\n",
       "      <th>Categories</th>\n",
       "      <th>TextPostLemat</th>\n",
       "      <th>TextPostToken</th>\n",
       "      <th>bigram</th>\n",
       "      <th>trigram</th>\n",
       "      <th>keyword</th>\n",
       "    </tr>\n",
       "  </thead>\n",
       "  <tbody>\n",
       "    <tr>\n",
       "      <th>0</th>\n",
       "      <td>RUVDS.com</td>\n",
       "      <td>VDS/VPS-хостинг. Скидка 15% по коду HABR15</td>\n",
       "      <td>2393.91</td>\n",
       "      <td>Электроника для начинающих, Системное админист...</td>\n",
       "      <td>языковой модель заменять программист непосредс...</td>\n",
       "      <td>[языковой, модель, заменять, программист, непо...</td>\n",
       "      <td>[(языковой, модель), (модель, заменять), (заме...</td>\n",
       "      <td>[(языковой, модель, заменять), (модель, заменя...</td>\n",
       "      <td>код, модель, плагин, поиск, данные, разработка...</td>\n",
       "    </tr>\n",
       "    <tr>\n",
       "      <th>1</th>\n",
       "      <td>FirstVDS</td>\n",
       "      <td>Виртуальные и выделенные серверы в ДЦ в Москве</td>\n",
       "      <td>398.02</td>\n",
       "      <td>Читальный зал, Информационная безопасность, IT...</td>\n",
       "      <td>приветствовать читатель время идти весь новый ...</td>\n",
       "      <td>[приветствовать, читатель, время, идти, весь, ...</td>\n",
       "      <td>[(приветствовать, читатель), (читатель, время)...</td>\n",
       "      <td>[(приветствовать, читатель, время), (читатель,...</td>\n",
       "      <td>файл, уязвимость, процесс, весь, код, использо...</td>\n",
       "    </tr>\n",
       "    <tr>\n",
       "      <th>2</th>\n",
       "      <td>Timeweb Cloud</td>\n",
       "      <td>Облачная платформа для разработчиков и бизнеса</td>\n",
       "      <td>1542.55</td>\n",
       "      <td>DIY или Сделай сам, История IT</td>\n",
       "      <td>интересный занятие изучать история техника оты...</td>\n",
       "      <td>[интересный, занятие, изучать, история, техник...</td>\n",
       "      <td>[(интересный, занятие), (занятие, изучать), (и...</td>\n",
       "      <td>[(интересный, занятие, изучать), (занятие, изу...</td>\n",
       "      <td>плата, процессор, сервер, слот, контроллер, си...</td>\n",
       "    </tr>\n",
       "    <tr>\n",
       "      <th>3</th>\n",
       "      <td>Southbridge</td>\n",
       "      <td>Обеспечиваем стабильную работу highload-проектов</td>\n",
       "      <td>272.35</td>\n",
       "      <td>Карьера в IT-индустрии, Программирование</td>\n",
       "      <td>платформа оркестрация контейнер однако настрой...</td>\n",
       "      <td>[платформа, оркестрация, контейнер, однако, на...</td>\n",
       "      <td>[(платформа, оркестрация), (оркестрация, конте...</td>\n",
       "      <td>[(платформа, оркестрация, контейнер), (оркестр...</td>\n",
       "      <td>кластер, узел, команда, мочь, машина, установк...</td>\n",
       "    </tr>\n",
       "    <tr>\n",
       "      <th>4</th>\n",
       "      <td>Яндекс</td>\n",
       "      <td>Как мы делаем Яндекс</td>\n",
       "      <td>721.53</td>\n",
       "      <td>Высокая производительность, Программирование, ...</td>\n",
       "      <td>привет звать артур яковлев делать голосовой пе...</td>\n",
       "      <td>[привет, звать, артур, яковлев, делать, голосо...</td>\n",
       "      <td>[(привет, звать), (звать, артур), (артур, яков...</td>\n",
       "      <td>[(привет, звать, артур), (звать, артур, яковле...</td>\n",
       "      <td>китайский, модель, перевод, язык, видео, тон, ...</td>\n",
       "    </tr>\n",
       "  </tbody>\n",
       "</table>\n",
       "</div>"
      ],
      "text/plain": [
       "    TitleCompany                                       Description  Reiting  \\\n",
       "0      RUVDS.com        VDS/VPS-хостинг. Скидка 15% по коду HABR15  2393.91   \n",
       "1       FirstVDS    Виртуальные и выделенные серверы в ДЦ в Москве   398.02   \n",
       "2  Timeweb Cloud    Облачная платформа для разработчиков и бизнеса  1542.55   \n",
       "3    Southbridge  Обеспечиваем стабильную работу highload-проектов   272.35   \n",
       "4         Яндекс                              Как мы делаем Яндекс   721.53   \n",
       "\n",
       "                                          Categories  \\\n",
       "0  Электроника для начинающих, Системное админист...   \n",
       "1  Читальный зал, Информационная безопасность, IT...   \n",
       "2                     DIY или Сделай сам, История IT   \n",
       "3           Карьера в IT-индустрии, Программирование   \n",
       "4  Высокая производительность, Программирование, ...   \n",
       "\n",
       "                                       TextPostLemat  \\\n",
       "0  языковой модель заменять программист непосредс...   \n",
       "1  приветствовать читатель время идти весь новый ...   \n",
       "2  интересный занятие изучать история техника оты...   \n",
       "3  платформа оркестрация контейнер однако настрой...   \n",
       "4  привет звать артур яковлев делать голосовой пе...   \n",
       "\n",
       "                                       TextPostToken  \\\n",
       "0  [языковой, модель, заменять, программист, непо...   \n",
       "1  [приветствовать, читатель, время, идти, весь, ...   \n",
       "2  [интересный, занятие, изучать, история, техник...   \n",
       "3  [платформа, оркестрация, контейнер, однако, на...   \n",
       "4  [привет, звать, артур, яковлев, делать, голосо...   \n",
       "\n",
       "                                              bigram  \\\n",
       "0  [(языковой, модель), (модель, заменять), (заме...   \n",
       "1  [(приветствовать, читатель), (читатель, время)...   \n",
       "2  [(интересный, занятие), (занятие, изучать), (и...   \n",
       "3  [(платформа, оркестрация), (оркестрация, конте...   \n",
       "4  [(привет, звать), (звать, артур), (артур, яков...   \n",
       "\n",
       "                                             trigram  \\\n",
       "0  [(языковой, модель, заменять), (модель, заменя...   \n",
       "1  [(приветствовать, читатель, время), (читатель,...   \n",
       "2  [(интересный, занятие, изучать), (занятие, изу...   \n",
       "3  [(платформа, оркестрация, контейнер), (оркестр...   \n",
       "4  [(привет, звать, артур), (звать, артур, яковле...   \n",
       "\n",
       "                                             keyword  \n",
       "0  код, модель, плагин, поиск, данные, разработка...  \n",
       "1  файл, уязвимость, процесс, весь, код, использо...  \n",
       "2  плата, процессор, сервер, слот, контроллер, си...  \n",
       "3  кластер, узел, команда, мочь, машина, установк...  \n",
       "4  китайский, модель, перевод, язык, видео, тон, ...  "
      ]
     },
     "execution_count": 9,
     "metadata": {},
     "output_type": "execute_result"
    }
   ],
   "source": [
    "dfHabr1.head()"
   ]
  },
  {
   "cell_type": "code",
   "execution_count": 10,
   "id": "7215f0ad",
   "metadata": {},
   "outputs": [],
   "source": [
    "def preprocess_text(data, stopwords=russian_stopwords):\n",
    "    text = re.sub('ё','е', data.lower())\n",
    "    text = text.strip()\n",
    "    text = [w for w in text.split() if w not in stopwords] \n",
    "    text = [w for w in text if len(w) >=3]\n",
    "    return ' '.join(text)"
   ]
  },
  {
   "cell_type": "code",
   "execution_count": 11,
   "id": "83ac3aa0",
   "metadata": {},
   "outputs": [],
   "source": [
    "def transform_data(data: pd.Series) -> list:\n",
    "    result = [preprocess_text(data=i) for i in data]\n",
    "    return result"
   ]
  },
  {
   "cell_type": "code",
   "execution_count": 12,
   "id": "13ff6e6c",
   "metadata": {},
   "outputs": [],
   "source": [
    "text = dfHabr1['TextPostLemat']"
   ]
  },
  {
   "cell_type": "code",
   "execution_count": 13,
   "id": "6fb29b55",
   "metadata": {},
   "outputs": [
    {
     "name": "stdout",
     "output_type": "stream",
     "text": [
      "CPU times: total: 156 ms\n",
      "Wall time: 175 ms\n"
     ]
    }
   ],
   "source": [
    "%%time\n",
    "dfHabr2 = transform_data(text)"
   ]
  },
  {
   "cell_type": "code",
   "execution_count": 14,
   "id": "f41523f2",
   "metadata": {},
   "outputs": [
    {
     "data": {
      "text/plain": [
       "87"
      ]
     },
     "execution_count": 14,
     "metadata": {},
     "output_type": "execute_result"
    }
   ],
   "source": [
    "len(dfHabr2)"
   ]
  },
  {
   "cell_type": "code",
   "execution_count": 15,
   "id": "d477d648",
   "metadata": {},
   "outputs": [],
   "source": [
    "vectorizer = CountVectorizer(analyzer='word', stop_words=russian_stopwords, ngram_range=(1, 3), min_df=1)\n",
    "count_matrix = vectorizer.fit_transform(dfHabr2)"
   ]
  },
  {
   "cell_type": "code",
   "execution_count": 16,
   "id": "0034057d",
   "metadata": {},
   "outputs": [
    {
     "data": {
      "text/plain": [
       "array([[0, 0, 0, 0, 0, 0, 0, 0, 0, 0, 0, 0, 0, 0, 0, 0, 0, 0, 0, 0, 0, 0,\n",
       "        0, 0, 0, 0, 0, 0, 0, 0, 0, 0, 0, 0, 0, 0, 0, 0, 0, 0, 0, 0, 0, 0,\n",
       "        0, 0, 0, 0, 0, 0, 0, 0, 0, 0, 0, 0, 0, 0, 0, 0, 0, 0, 0, 0, 0, 0,\n",
       "        0, 0, 0, 0, 0, 0, 0, 0, 0, 0, 0, 0, 0, 0, 0, 0, 0, 0, 0, 0, 0, 0,\n",
       "        0, 0, 0, 0, 0, 0, 0, 0, 0, 0, 0, 0, 0, 0, 0, 0, 0, 0, 0, 0, 0, 0,\n",
       "        0, 0, 0, 0, 0, 0, 0, 0, 0, 0, 0, 0, 0, 0, 0, 0, 0, 0, 0, 0, 0, 0,\n",
       "        0, 0, 0, 0, 0, 0, 0, 0, 0, 0, 0, 0, 0, 0, 0, 0, 0, 0, 0, 0, 0, 0,\n",
       "        0, 0, 0, 0, 0, 0, 0, 0, 0, 0, 0, 0, 0, 0, 0, 0, 0, 0, 0, 0, 0, 0,\n",
       "        0, 0, 0, 0, 0, 0, 0, 0, 0, 0, 0, 0, 0, 0, 0, 0, 0, 0, 0, 0, 0, 0,\n",
       "        0, 0],\n",
       "       [0, 0, 0, 0, 0, 0, 0, 0, 0, 0, 0, 0, 0, 0, 0, 0, 0, 0, 0, 0, 0, 0,\n",
       "        0, 0, 0, 0, 0, 0, 0, 0, 0, 0, 0, 0, 0, 0, 0, 0, 0, 0, 0, 0, 0, 0,\n",
       "        0, 0, 0, 0, 0, 0, 0, 0, 0, 0, 0, 0, 0, 0, 0, 0, 0, 0, 0, 0, 0, 0,\n",
       "        0, 0, 0, 0, 0, 0, 0, 0, 0, 0, 0, 0, 0, 0, 0, 0, 0, 0, 0, 0, 0, 0,\n",
       "        0, 0, 0, 0, 0, 0, 0, 0, 0, 0, 0, 0, 0, 0, 0, 0, 1, 1, 0, 1, 0, 0,\n",
       "        0, 0, 0, 0, 0, 0, 0, 0, 0, 0, 0, 0, 0, 0, 0, 0, 0, 0, 0, 0, 0, 0,\n",
       "        0, 0, 0, 0, 0, 0, 0, 0, 0, 0, 0, 0, 0, 0, 0, 0, 0, 0, 0, 0, 0, 0,\n",
       "        0, 0, 0, 0, 0, 0, 0, 0, 0, 0, 0, 0, 0, 0, 0, 0, 0, 0, 0, 0, 0, 0,\n",
       "        0, 0, 0, 0, 0, 0, 0, 0, 0, 0, 0, 0, 0, 0, 0, 0, 0, 0, 0, 0, 0, 0,\n",
       "        0, 0]], dtype=int64)"
      ]
     },
     "execution_count": 16,
     "metadata": {},
     "output_type": "execute_result"
    }
   ],
   "source": [
    "count_matrix.toarray()[:2,:200]"
   ]
  },
  {
   "cell_type": "code",
   "execution_count": 17,
   "id": "6e691a5a",
   "metadata": {},
   "outputs": [
    {
     "data": {
      "text/plain": [
       "(87, 157648)"
      ]
     },
     "execution_count": 17,
     "metadata": {},
     "output_type": "execute_result"
    }
   ],
   "source": [
    "count_matrix.shape"
   ]
  },
  {
   "cell_type": "code",
   "execution_count": 18,
   "id": "43e93182",
   "metadata": {},
   "outputs": [
    {
     "data": {
      "text/plain": [
       "array(['ааа', 'ааа класс', 'ааа класс требовать', 'ааа проект',\n",
       "       'ааа проект современность', 'аббревиатура',\n",
       "       'аббревиатура название', 'аббревиатура название большинство',\n",
       "       'аббревиатура обозначать', 'аббревиатура обозначать сторона',\n",
       "       'аббревиатура расшифровываться',\n",
       "       'аббревиатура расшифровываться запрос', 'абитуриент',\n",
       "       'абитуриент вопрос', 'абитуриент вопрос прежде', 'абразив',\n",
       "       'абразив кварц', 'абразив кварц угольный', 'абрам',\n",
       "       'абрам совместный', 'абрам совместный работа', 'абрам старший',\n",
       "       'абрам старший директор', 'абсолютно', 'абсолютно важно',\n",
       "       'абсолютно важно игра', 'абсолютно любой',\n",
       "       'абсолютно любой локация', 'абсолютно непонятный',\n",
       "       'абсолютно непонятный вещь', 'абсолютно никуда',\n",
       "       'абсолютно никуда полететь', 'абсолютно новый',\n",
       "       'абсолютно новый технология', 'абсолютно нормальный',\n",
       "       'абсолютно нормальный браузерный', 'абсолютно разный',\n",
       "       'абсолютно разный неявный', 'абсолютно скрывать',\n",
       "       'абсолютно скрывать секундный', 'абсолютно спокойно',\n",
       "       'абсолютно спокойно чувствовать', 'абсолютный',\n",
       "       'абсолютный значение', 'абсолютный значение идеально',\n",
       "       'абсолютный изменение', 'абсолютный изменение показатель',\n",
       "       'абсолютный норма', 'абсолютный норма окно',\n",
       "       'абсолютный относительный'], dtype=object)"
      ]
     },
     "execution_count": 18,
     "metadata": {},
     "output_type": "execute_result"
    }
   ],
   "source": [
    "vectorizer.get_feature_names_out()[:50]"
   ]
  },
  {
   "cell_type": "code",
   "execution_count": 19,
   "id": "dc40d31c",
   "metadata": {},
   "outputs": [
    {
     "data": {
      "text/plain": [
       "157648"
      ]
     },
     "execution_count": 19,
     "metadata": {},
     "output_type": "execute_result"
    }
   ],
   "source": [
    "len(vectorizer.get_feature_names_out())"
   ]
  },
  {
   "cell_type": "markdown",
   "id": "76fbbc43",
   "metadata": {},
   "source": [
    "### 2.3 Кластеризация"
   ]
  },
  {
   "cell_type": "code",
   "execution_count": 20,
   "id": "8f3b9c85",
   "metadata": {},
   "outputs": [],
   "source": [
    "# Выбор и применение алгоритма кластеризации\n",
    "agg = AgglomerativeClustering(n_clusters=11).fit(count_matrix.toarray())"
   ]
  },
  {
   "cell_type": "code",
   "execution_count": 21,
   "id": "9d3decba",
   "metadata": {},
   "outputs": [],
   "source": [
    "# Получение меток кластеров\n",
    "labelsAgglomerative = agg.labels_\n",
    "clusters1 = agg.labels_.tolist()"
   ]
  },
  {
   "cell_type": "code",
   "execution_count": 22,
   "id": "0bd040cb",
   "metadata": {},
   "outputs": [
    {
     "data": {
      "text/plain": [
       "array([ 1,  0,  0,  1,  1,  1,  1,  1,  5,  1,  1,  1,  0,  6,  1,  1,  1,\n",
       "        1,  1,  1, 10,  0,  1,  1,  1,  0,  1,  1,  0,  9,  7,  0,  0,  1,\n",
       "        1,  1,  1,  1,  1,  1,  8,  1,  1,  1,  1,  2,  1,  1,  0,  1,  1,\n",
       "        0,  0,  1,  0,  1,  0,  1,  1,  0,  0,  1,  2,  0,  1,  1,  1,  1,\n",
       "        3,  1,  1,  0,  0,  1,  1,  1,  1,  1,  1,  1,  1,  1,  0,  4,  1,\n",
       "        2,  1], dtype=int64)"
      ]
     },
     "execution_count": 22,
     "metadata": {},
     "output_type": "execute_result"
    }
   ],
   "source": [
    "agg.labels_"
   ]
  },
  {
   "cell_type": "code",
   "execution_count": 23,
   "id": "cd06c8d3",
   "metadata": {},
   "outputs": [],
   "source": [
    "dfHabr1['clustersAgglomerative'] = clusters1"
   ]
  },
  {
   "cell_type": "code",
   "execution_count": 24,
   "id": "84a39abf",
   "metadata": {},
   "outputs": [
    {
     "name": "stderr",
     "output_type": "stream",
     "text": [
      "C:\\Users\\essww\\anaconda3\\lib\\site-packages\\sklearn\\cluster\\_kmeans.py:870: FutureWarning: The default value of `n_init` will change from 10 to 'auto' in 1.4. Set the value of `n_init` explicitly to suppress the warning\n",
      "  warnings.warn(\n",
      "C:\\Users\\essww\\anaconda3\\lib\\site-packages\\sklearn\\cluster\\_kmeans.py:1382: UserWarning: KMeans is known to have a memory leak on Windows with MKL, when there are less chunks than available threads. You can avoid it by setting the environment variable OMP_NUM_THREADS=1.\n",
      "  warnings.warn(\n"
     ]
    }
   ],
   "source": [
    "# Метод к-средних - KMeans\n",
    "km = KMeans(n_clusters=11).fit(count_matrix.toarray())"
   ]
  },
  {
   "cell_type": "code",
   "execution_count": 25,
   "id": "e37af8e2",
   "metadata": {},
   "outputs": [],
   "source": [
    "labelsKmeans = km.labels_\n",
    "clusters2 = km.labels_.tolist()"
   ]
  },
  {
   "cell_type": "code",
   "execution_count": 26,
   "id": "af7720b5",
   "metadata": {},
   "outputs": [],
   "source": [
    "dfHabr1['clustersKmeans'] = clusters2"
   ]
  },
  {
   "cell_type": "code",
   "execution_count": 27,
   "id": "ff4c9d53",
   "metadata": {},
   "outputs": [
    {
     "name": "stderr",
     "output_type": "stream",
     "text": [
      "C:\\Users\\essww\\anaconda3\\lib\\site-packages\\sklearn\\manifold\\_spectral_embedding.py:274: UserWarning: Graph is not fully connected, spectral embedding may not work as expected.\n",
      "  warnings.warn(\n",
      "C:\\Users\\essww\\anaconda3\\lib\\site-packages\\sklearn\\cluster\\_kmeans.py:1382: UserWarning: KMeans is known to have a memory leak on Windows with MKL, when there are less chunks than available threads. You can avoid it by setting the environment variable OMP_NUM_THREADS=1.\n",
      "  warnings.warn(\n"
     ]
    }
   ],
   "source": [
    "# Создание модели DBSCAN\n",
    "spectral = SpectralClustering(n_clusters=11).fit(count_matrix.toarray())"
   ]
  },
  {
   "cell_type": "code",
   "execution_count": null,
   "id": "0c255d18",
   "metadata": {},
   "outputs": [],
   "source": []
  },
  {
   "cell_type": "code",
   "execution_count": null,
   "id": "6b13f871",
   "metadata": {},
   "outputs": [],
   "source": []
  },
  {
   "cell_type": "code",
   "execution_count": null,
   "id": "c30e2baf",
   "metadata": {},
   "outputs": [],
   "source": []
  },
  {
   "cell_type": "code",
   "execution_count": 28,
   "id": "44213a3b",
   "metadata": {},
   "outputs": [],
   "source": [
    "labelsSpectral = spectral.labels_\n",
    "clusters3 = spectral.labels_.tolist()"
   ]
  },
  {
   "cell_type": "code",
   "execution_count": 29,
   "id": "84315f3f",
   "metadata": {},
   "outputs": [],
   "source": [
    "dfHabr1['clustersSpectral'] = clusters3"
   ]
  },
  {
   "cell_type": "code",
   "execution_count": 30,
   "id": "65ebac19",
   "metadata": {},
   "outputs": [
    {
     "name": "stdout",
     "output_type": "stream",
     "text": [
      "[ 1  1  1  0  3  1  1  1  2  1  1  1  8  7 10  8  1  0  8  1  3  1  1  1\n",
      "  3 10  1  1  0  1  2  0  1  8  1  3  1  1  1  8  2  3  2  8  1  8  1  1\n",
      "  0  8 10  7  1  9  8  8  5  3  3  3  0  8  1  1  1  1  2  1  1  8  4  8\n",
      " 10  1  3  1  0  1  3  3  3  3  2  3  6  0  8]\n"
     ]
    }
   ],
   "source": [
    "print(labelsSpectral)"
   ]
  },
  {
   "cell_type": "code",
   "execution_count": 31,
   "id": "18232dbb",
   "metadata": {},
   "outputs": [
    {
     "name": "stdout",
     "output_type": "stream",
     "text": [
      "[ 4  2  4  2  4  4  4  4  7  4  4  4  2  9  4  4  4  4  4  4  4 10  4  4\n",
      "  4  4  2  4  4  6  8  4  4  4  4  4  4  4  4  4  3  4  4  4  4  4  4  4\n",
      "  4  4  4  4  4  2  4  4  4  4  4  2  4  4  0  4  4  4  4  4  1  4  4  4\n",
      "  4  4  4  2  4  4  4  4  4  4  4  5  4  4  4]\n"
     ]
    }
   ],
   "source": [
    "print(labelsKmeans)"
   ]
  },
  {
   "cell_type": "code",
   "execution_count": 32,
   "id": "f107a596",
   "metadata": {
    "scrolled": true
   },
   "outputs": [
    {
     "name": "stdout",
     "output_type": "stream",
     "text": [
      "[ 1  0  0  1  1  1  1  1  5  1  1  1  0  6  1  1  1  1  1  1 10  0  1  1\n",
      "  1  0  1  1  0  9  7  0  0  1  1  1  1  1  1  1  8  1  1  1  1  2  1  1\n",
      "  0  1  1  0  0  1  0  1  0  1  1  0  0  1  2  0  1  1  1  1  3  1  1  0\n",
      "  0  1  1  1  1  1  1  1  1  1  0  4  1  2  1]\n"
     ]
    }
   ],
   "source": [
    "print(labelsAgglomerative)"
   ]
  },
  {
   "cell_type": "code",
   "execution_count": 33,
   "id": "dc3319bc",
   "metadata": {},
   "outputs": [
    {
     "data": {
      "text/html": [
       "<div>\n",
       "<style scoped>\n",
       "    .dataframe tbody tr th:only-of-type {\n",
       "        vertical-align: middle;\n",
       "    }\n",
       "\n",
       "    .dataframe tbody tr th {\n",
       "        vertical-align: top;\n",
       "    }\n",
       "\n",
       "    .dataframe thead th {\n",
       "        text-align: right;\n",
       "    }\n",
       "</style>\n",
       "<table border=\"1\" class=\"dataframe\">\n",
       "  <thead>\n",
       "    <tr style=\"text-align: right;\">\n",
       "      <th></th>\n",
       "      <th>TitleCompany</th>\n",
       "      <th>Description</th>\n",
       "      <th>Reiting</th>\n",
       "      <th>Categories</th>\n",
       "      <th>TextPostLemat</th>\n",
       "      <th>TextPostToken</th>\n",
       "      <th>bigram</th>\n",
       "      <th>trigram</th>\n",
       "      <th>keyword</th>\n",
       "      <th>clustersAgglomerative</th>\n",
       "      <th>clustersKmeans</th>\n",
       "      <th>clustersSpectral</th>\n",
       "    </tr>\n",
       "  </thead>\n",
       "  <tbody>\n",
       "    <tr>\n",
       "      <th>0</th>\n",
       "      <td>RUVDS.com</td>\n",
       "      <td>VDS/VPS-хостинг. Скидка 15% по коду HABR15</td>\n",
       "      <td>2393.91</td>\n",
       "      <td>Электроника для начинающих, Системное админист...</td>\n",
       "      <td>языковой модель заменять программист непосредс...</td>\n",
       "      <td>[языковой, модель, заменять, программист, непо...</td>\n",
       "      <td>[(языковой, модель), (модель, заменять), (заме...</td>\n",
       "      <td>[(языковой, модель, заменять), (модель, заменя...</td>\n",
       "      <td>код, модель, плагин, поиск, данные, разработка...</td>\n",
       "      <td>1</td>\n",
       "      <td>4</td>\n",
       "      <td>1</td>\n",
       "    </tr>\n",
       "    <tr>\n",
       "      <th>1</th>\n",
       "      <td>FirstVDS</td>\n",
       "      <td>Виртуальные и выделенные серверы в ДЦ в Москве</td>\n",
       "      <td>398.02</td>\n",
       "      <td>Читальный зал, Информационная безопасность, IT...</td>\n",
       "      <td>приветствовать читатель время идти весь новый ...</td>\n",
       "      <td>[приветствовать, читатель, время, идти, весь, ...</td>\n",
       "      <td>[(приветствовать, читатель), (читатель, время)...</td>\n",
       "      <td>[(приветствовать, читатель, время), (читатель,...</td>\n",
       "      <td>файл, уязвимость, процесс, весь, код, использо...</td>\n",
       "      <td>0</td>\n",
       "      <td>2</td>\n",
       "      <td>1</td>\n",
       "    </tr>\n",
       "    <tr>\n",
       "      <th>2</th>\n",
       "      <td>Timeweb Cloud</td>\n",
       "      <td>Облачная платформа для разработчиков и бизнеса</td>\n",
       "      <td>1542.55</td>\n",
       "      <td>DIY или Сделай сам, История IT</td>\n",
       "      <td>интересный занятие изучать история техника оты...</td>\n",
       "      <td>[интересный, занятие, изучать, история, техник...</td>\n",
       "      <td>[(интересный, занятие), (занятие, изучать), (и...</td>\n",
       "      <td>[(интересный, занятие, изучать), (занятие, изу...</td>\n",
       "      <td>плата, процессор, сервер, слот, контроллер, си...</td>\n",
       "      <td>0</td>\n",
       "      <td>4</td>\n",
       "      <td>1</td>\n",
       "    </tr>\n",
       "    <tr>\n",
       "      <th>3</th>\n",
       "      <td>Southbridge</td>\n",
       "      <td>Обеспечиваем стабильную работу highload-проектов</td>\n",
       "      <td>272.35</td>\n",
       "      <td>Карьера в IT-индустрии, Программирование</td>\n",
       "      <td>платформа оркестрация контейнер однако настрой...</td>\n",
       "      <td>[платформа, оркестрация, контейнер, однако, на...</td>\n",
       "      <td>[(платформа, оркестрация), (оркестрация, конте...</td>\n",
       "      <td>[(платформа, оркестрация, контейнер), (оркестр...</td>\n",
       "      <td>кластер, узел, команда, мочь, машина, установк...</td>\n",
       "      <td>1</td>\n",
       "      <td>2</td>\n",
       "      <td>0</td>\n",
       "    </tr>\n",
       "    <tr>\n",
       "      <th>4</th>\n",
       "      <td>Яндекс</td>\n",
       "      <td>Как мы делаем Яндекс</td>\n",
       "      <td>721.53</td>\n",
       "      <td>Высокая производительность, Программирование, ...</td>\n",
       "      <td>привет звать артур яковлев делать голосовой пе...</td>\n",
       "      <td>[привет, звать, артур, яковлев, делать, голосо...</td>\n",
       "      <td>[(привет, звать), (звать, артур), (артур, яков...</td>\n",
       "      <td>[(привет, звать, артур), (звать, артур, яковле...</td>\n",
       "      <td>китайский, модель, перевод, язык, видео, тон, ...</td>\n",
       "      <td>1</td>\n",
       "      <td>4</td>\n",
       "      <td>3</td>\n",
       "    </tr>\n",
       "  </tbody>\n",
       "</table>\n",
       "</div>"
      ],
      "text/plain": [
       "    TitleCompany                                       Description  Reiting  \\\n",
       "0      RUVDS.com        VDS/VPS-хостинг. Скидка 15% по коду HABR15  2393.91   \n",
       "1       FirstVDS    Виртуальные и выделенные серверы в ДЦ в Москве   398.02   \n",
       "2  Timeweb Cloud    Облачная платформа для разработчиков и бизнеса  1542.55   \n",
       "3    Southbridge  Обеспечиваем стабильную работу highload-проектов   272.35   \n",
       "4         Яндекс                              Как мы делаем Яндекс   721.53   \n",
       "\n",
       "                                          Categories  \\\n",
       "0  Электроника для начинающих, Системное админист...   \n",
       "1  Читальный зал, Информационная безопасность, IT...   \n",
       "2                     DIY или Сделай сам, История IT   \n",
       "3           Карьера в IT-индустрии, Программирование   \n",
       "4  Высокая производительность, Программирование, ...   \n",
       "\n",
       "                                       TextPostLemat  \\\n",
       "0  языковой модель заменять программист непосредс...   \n",
       "1  приветствовать читатель время идти весь новый ...   \n",
       "2  интересный занятие изучать история техника оты...   \n",
       "3  платформа оркестрация контейнер однако настрой...   \n",
       "4  привет звать артур яковлев делать голосовой пе...   \n",
       "\n",
       "                                       TextPostToken  \\\n",
       "0  [языковой, модель, заменять, программист, непо...   \n",
       "1  [приветствовать, читатель, время, идти, весь, ...   \n",
       "2  [интересный, занятие, изучать, история, техник...   \n",
       "3  [платформа, оркестрация, контейнер, однако, на...   \n",
       "4  [привет, звать, артур, яковлев, делать, голосо...   \n",
       "\n",
       "                                              bigram  \\\n",
       "0  [(языковой, модель), (модель, заменять), (заме...   \n",
       "1  [(приветствовать, читатель), (читатель, время)...   \n",
       "2  [(интересный, занятие), (занятие, изучать), (и...   \n",
       "3  [(платформа, оркестрация), (оркестрация, конте...   \n",
       "4  [(привет, звать), (звать, артур), (артур, яков...   \n",
       "\n",
       "                                             trigram  \\\n",
       "0  [(языковой, модель, заменять), (модель, заменя...   \n",
       "1  [(приветствовать, читатель, время), (читатель,...   \n",
       "2  [(интересный, занятие, изучать), (занятие, изу...   \n",
       "3  [(платформа, оркестрация, контейнер), (оркестр...   \n",
       "4  [(привет, звать, артур), (звать, артур, яковле...   \n",
       "\n",
       "                                             keyword  clustersAgglomerative  \\\n",
       "0  код, модель, плагин, поиск, данные, разработка...                      1   \n",
       "1  файл, уязвимость, процесс, весь, код, использо...                      0   \n",
       "2  плата, процессор, сервер, слот, контроллер, си...                      0   \n",
       "3  кластер, узел, команда, мочь, машина, установк...                      1   \n",
       "4  китайский, модель, перевод, язык, видео, тон, ...                      1   \n",
       "\n",
       "   clustersKmeans  clustersSpectral  \n",
       "0               4                 1  \n",
       "1               2                 1  \n",
       "2               4                 1  \n",
       "3               2                 0  \n",
       "4               4                 3  "
      ]
     },
     "execution_count": 33,
     "metadata": {},
     "output_type": "execute_result"
    }
   ],
   "source": [
    "dfHabr1.head()"
   ]
  },
  {
   "cell_type": "code",
   "execution_count": 34,
   "id": "9f0e1f31",
   "metadata": {},
   "outputs": [],
   "source": [
    "topic = ['RUVDS.com', 'Selectel', 'Timeweb Cloud', 'OTUS', 'Яндекс', 'Open Data Science', 'ГК ЛАНИТ', 'VK', 'getmatch', 'Wiren Board', 'FirstVDS', 'Конференции Олега Бунина (Онтико)', 'AGIMA', 'Альфа-Банк', 'Postgres Professional', 'Ozon Tech', 'TINKOFF', 'Хабр Карьера', 'JUG Ru Group', 'Southbridge']"
   ]
  },
  {
   "cell_type": "code",
   "execution_count": null,
   "id": "f6554764",
   "metadata": {},
   "outputs": [],
   "source": [
    "clust_res = pd.DataFrame(columns=['topic', 'cluster_0', 'cluster_1', 'cluster_2', 'cluster_3', 'cluster_4', 'cluster_5', 'cluster_6', 'cluster_7', 'cluster_8', 'cluster_9', 'cluster_10'])\n",
    "i = 0\n",
    "for topic in topics:\n",
    "    cnt = []\n",
    "    for cluster in range(num_clusters):\n",
    "        cnt.append(len(frame1[ frame1.topic.eq(topic) &  frame1.cluster.eq(cluster) ]))\n",
    "    clust_res.loc[i] = [topic] + cnt\n",
    "    i += 1\n",
    "clust_res"
   ]
  },
  {
   "cell_type": "code",
   "execution_count": 36,
   "id": "9eb3d4b8",
   "metadata": {},
   "outputs": [
    {
     "data": {
      "image/png": "[encoded data removed]",
      "text/plain": [
       "<Figure size 640x480 with 1 Axes>"
      ]
     },
     "metadata": {},
     "output_type": "display_data"
    }
   ],
   "source": [
    "cluster_counts = dfHabr1['clustersKmeans'].value_counts()\n",
    "plt.pie(cluster_counts.values, labels=cluster_counts.index, autopct='%1.1f%%')\n",
    "plt.show()"
   ]
  },
  {
   "cell_type": "code",
   "execution_count": 37,
   "id": "2b9900e9",
   "metadata": {},
   "outputs": [
    {
     "data": {
      "image/png": "[encoded data removed]",
      "text/plain": [
       "<Figure size 640x480 with 1 Axes>"
      ]
     },
     "metadata": {},
     "output_type": "display_data"
    }
   ],
   "source": [
    "cluster_counts = dfHabr1['clustersSpectral'].value_counts()\n",
    "plt.pie(cluster_counts.values, labels=cluster_counts.index, autopct='%1.1f%%')\n",
    "plt.show()"
   ]
  },
  {
   "cell_type": "code",
   "execution_count": 38,
   "id": "f00a541c",
   "metadata": {},
   "outputs": [
    {
     "data": {
      "image/png": "[encoded data removed]",
      "text/plain": [
       "<Figure size 640x480 with 1 Axes>"
      ]
     },
     "metadata": {},
     "output_type": "display_data"
    }
   ],
   "source": [
    "cluster_counts = dfHabr1['clustersAgglomerative'].value_counts()\n",
    "plt.pie(cluster_counts.values, labels=cluster_counts.index, autopct='%1.1f%%')\n",
    "plt.show()"
   ]
  },
  {
   "cell_type": "code",
   "execution_count": 39,
   "id": "3d31e7a1",
   "metadata": {},
   "outputs": [],
   "source": [
    "prize = ['Государство и Общество','СМИ и массовые коммуникации','Образование и Кадры', 'Экономика и Бизнес', 'Путешествия по РФ', 'Наука, технологии и инновации', 'Здоровье и Отдых', 'Культурные проекты в сети', 'Народов много - Родина одна', 'Туризм и индустрия гостеприимства', 'Подкасты и цифровой контент']"
   ]
  },
  {
   "cell_type": "code",
   "execution_count": 40,
   "id": "7835c620",
   "metadata": {},
   "outputs": [],
   "source": [
    "a = (dfHabr1['clustersKmeans'] - dfHabr1['clustersKmeans'].mean()) / dfHabr1['clustersKmeans'].std()\n",
    "a1 = (dfHabr1['clustersAgglomerative'] - dfHabr1['clustersAgglomerative'].mean()) / dfHabr1['clustersAgglomerative'].std()\n",
    "a2 = (dfHabr1['clustersSpectral'] - dfHabr1['clustersSpectral'].mean()) / dfHabr1['clustersSpectral'].std()"
   ]
  },
  {
   "cell_type": "code",
   "execution_count": 41,
   "id": "26c7779a",
   "metadata": {},
   "outputs": [],
   "source": [
    "data_norm_kmeans = a.values.reshape(-1, 1)\n",
    "data_norm_agg = a1.values.reshape(-1, 1)\n",
    "data_norm_spec = a2.values.reshape(-1, 1)"
   ]
  },
  {
   "cell_type": "code",
   "execution_count": 42,
   "id": "1dc597c7",
   "metadata": {},
   "outputs": [
    {
     "name": "stdout",
     "output_type": "stream",
     "text": [
      "Silhouette  score: 0.896551724137931\n"
     ]
    }
   ],
   "source": [
    "# оценка качества кластеризации с помощью индекса силуэта\n",
    "silhouette_avg = silhouette_score(data_norm_kmeans, km.labels_)\n",
    "print(\"Silhouette  score:\", silhouette_avg)"
   ]
  },
  {
   "cell_type": "code",
   "execution_count": 43,
   "id": "111f992a",
   "metadata": {},
   "outputs": [
    {
     "name": "stdout",
     "output_type": "stream",
     "text": [
      "Silhouette  score: 0.9080459770114943\n"
     ]
    }
   ],
   "source": [
    "# оценка качества кластеризации с помощью индекса силуэта\n",
    "silhouette_avg = silhouette_score(data_norm_agg, agg.labels_)\n",
    "print(\"Silhouette  score:\", silhouette_avg)"
   ]
  },
  {
   "cell_type": "code",
   "execution_count": 44,
   "id": "ef204066",
   "metadata": {},
   "outputs": [
    {
     "name": "stdout",
     "output_type": "stream",
     "text": [
      "Silhouette  score: 0.9540229885057471\n"
     ]
    }
   ],
   "source": [
    "# оценка качества кластеризации с помощью индекса силуэта\n",
    "silhouette_avg = silhouette_score(data_norm_spec, spectral.labels_)\n",
    "print(\"Silhouette  score:\", silhouette_avg)"
   ]
  },
  {
   "cell_type": "markdown",
   "id": "eb577dcb",
   "metadata": {},
   "source": [
    "### 2.2 Тематическое моделирование"
   ]
  },
  {
   "cell_type": "code",
   "execution_count": 45,
   "id": "0956bf77",
   "metadata": {
    "scrolled": true
   },
   "outputs": [
    {
     "name": "stdout",
     "output_type": "stream",
     "text": [
      "Topic 0: данные, мочь, весь, использовать, файл, функция, работать, новый, сигнал, значение\n",
      "Topic 1: мочь, дыра, игра, ошибка, команда, сервер, весь, создавать, чрной, чрной дыра\n",
      "Topic 2: класс, объект, десериализация, поле, значение, библиотека, сериализатор, результат, сериализация, использование\n",
      "Topic 3: работа, мочь, данные, анимация, использовать, год, весь, запрос, самый, время\n",
      "Topic 4: реактивный, мочь, данные, стрим, оператор, поток, элемент, метод, запрос, китайский\n",
      "Topic 5: весь, код, статья, сумма, лидар, мочь, балл, проект, приложение, станция\n",
      "Topic 6: система, мочь, устройство, работа, плата, работать, качество, проблема, использовать, весь\n",
      "Topic 7: система, устройство, операционный, операционный система, принцип, компьютер, работа, плата, процессор, сервер\n",
      "Topic 8: мочь, приложение, имя, система, пользователь, пространство, год, весь, сервер, клиент\n",
      "Topic 9: год, мочь, весь, тест, человек, сервер, грейс, время, проект, первый\n",
      "Topic 10: пакет, функция, мочь, код, схема, команда, растение, переменный, использовать, весь\n"
     ]
    }
   ],
   "source": [
    "# создание модели LDA\n",
    "lda_model = LatentDirichletAllocation(n_components=11, random_state=0)\n",
    "lda_model.fit(count_matrix)\n",
    "\n",
    "# вывод топ слов для каждой темы\n",
    "for i, topic in enumerate(lda_model.components_):\n",
    "    print(f\"Topic {i}: {', '.join([vectorizer.get_feature_names_out()[i] for i in topic.argsort()[:-11:-1]])}\")"
   ]
  },
  {
   "cell_type": "code",
   "execution_count": 46,
   "id": "7a7d7f55",
   "metadata": {},
   "outputs": [
    {
     "name": "stdout",
     "output_type": "stream",
     "text": [
      "1     файл, уязвимость, процесс, весь, код, использо...\n",
      "2     плата, процессор, сервер, слот, контроллер, си...\n",
      "12    ошибка, команда, мочь, проблема, файл, проверя...\n",
      "21    лидар, мочь, объект, автомобиль, система, бесп...\n",
      "25    класс, объект, десериализация, поле, значение,...\n",
      "28    качество, звук, пакет, звонок, сигнал, мочь, и...\n",
      "31    приложение, клиент, версия, писать, весь, стар...\n",
      "32    приложение, станция, язык, поиск, программа, в...\n",
      "48    устройство, преобразователь, кабель, производс...\n",
      "51    метрика, приложение, мониторинг, сбор, собират...\n",
      "52    мониторинг, метрика, система, мочь, запрос, по...\n",
      "54    система, операционный, устройство, компьютер, ...\n",
      "56    коммутатор, выделять, инсталляция, клиент, сер...\n",
      "59    данные, база, инстанс, мочь, ресурс, использов...\n",
      "60    частота, устройство, точка, доступ, работать, ...\n",
      "63    код, проект, файл, работать, весь, просто, скр...\n",
      "71    диск, система, данные, файловый, профиль, испо...\n",
      "72    ряд, временный, средний, данные, мочь, метод, ...\n",
      "82    система, метрика, мониторинг, приложение, данн...\n",
      "Name: keyword, dtype: object\n"
     ]
    }
   ],
   "source": [
    "print(str(dfHabr1.loc[dfHabr1['clustersAgglomerative'] == 0, 'keyword']))"
   ]
  },
  {
   "cell_type": "code",
   "execution_count": null,
   "id": "b9e03b2d",
   "metadata": {},
   "outputs": [],
   "source": []
  },
  {
   "cell_type": "code",
   "execution_count": 47,
   "id": "dcece173",
   "metadata": {},
   "outputs": [
    {
     "data": {
      "text/plain": [
       "11"
      ]
     },
     "execution_count": 47,
     "metadata": {},
     "output_type": "execute_result"
    }
   ],
   "source": [
    "len(lda_model.components_)"
   ]
  },
  {
   "cell_type": "code",
   "execution_count": 48,
   "id": "b532e084",
   "metadata": {},
   "outputs": [
    {
     "data": {
      "text/plain": [
       "array([[0.09090909, 0.09090909, 0.09090909, ..., 0.09090909, 0.09090909,\n",
       "        0.09090909],\n",
       "       [0.09090909, 0.09090909, 0.09090909, ..., 1.09090909, 0.09090909,\n",
       "        0.09090909],\n",
       "       [0.09090909, 0.09090909, 0.09090909, ..., 0.09090909, 0.09090909,\n",
       "        0.09090909],\n",
       "       ...,\n",
       "       [0.09090909, 0.09090909, 0.09090909, ..., 0.09090909, 0.09090909,\n",
       "        0.09090909],\n",
       "       [1.09090909, 0.09090909, 0.09090909, ..., 0.09090909, 0.09090909,\n",
       "        0.09090909],\n",
       "       [0.09090909, 0.09090909, 0.09090909, ..., 0.09090909, 0.09090909,\n",
       "        0.09090909]])"
      ]
     },
     "execution_count": 48,
     "metadata": {},
     "output_type": "execute_result"
    }
   ],
   "source": [
    "lda_model.components_"
   ]
  },
  {
   "cell_type": "code",
   "execution_count": 49,
   "id": "d5427809",
   "metadata": {},
   "outputs": [],
   "source": [
    "# создание матрицы документ-термин\n",
    "tfidf_vectorizer = TfidfVectorizer(stop_words=russian_stopwords)\n",
    "tfidf_matrix = tfidf_vectorizer.fit_transform(dfHabr2)"
   ]
  },
  {
   "cell_type": "code",
   "execution_count": 50,
   "id": "b4f48450",
   "metadata": {},
   "outputs": [
    {
     "data": {
      "text/plain": [
       "scipy.sparse._csr.csr_matrix"
      ]
     },
     "execution_count": 50,
     "metadata": {},
     "output_type": "execute_result"
    }
   ],
   "source": [
    "type(tfidf_matrix)"
   ]
  },
  {
   "cell_type": "code",
   "execution_count": 51,
   "id": "d70ac9ca",
   "metadata": {},
   "outputs": [
    {
     "data": {
      "text/plain": [
       "(87, 10370)"
      ]
     },
     "execution_count": 51,
     "metadata": {},
     "output_type": "execute_result"
    }
   ],
   "source": [
    "tfidf_matrix.shape"
   ]
  },
  {
   "cell_type": "code",
   "execution_count": 52,
   "id": "c09bede9",
   "metadata": {},
   "outputs": [
    {
     "name": "stdout",
     "output_type": "stream",
     "text": [
      "Topic 0: класс, код, файл, поле, аннотация, объект, десериализация, структура, память, константа\n",
      "Topic 1: год, модель, видео, обучение, человек, компания, мочь, нейросеть, работа, изображение\n",
      "Topic 2: плата, порт, озу, процессор, слот, система, разъем, чип, производитель, оснащать\n",
      "Topic 3: метрика, мониторинг, система, приложение, сбор, запрос, данные, собирать, логирование, ресурс\n",
      "Topic 4: кластер, сертификат, безопасность, команда, узел, контейнер, доступ, файл, мочь, запускать\n",
      "Topic 5: игра, персонаж, играть, игровой, студия, игрок, индустрия, мир, часть, левин\n",
      "Topic 6: сервер, коммутатор, клиент, инсталляция, сеть, выделять, адрес, цод, подавление, публичный\n",
      "Topic 7: пакет, шрифт, файл, субд, сигнал, схема, звук, папка, проект, переменный\n",
      "Topic 8: диск, устройство, файловый, кеш, система, профиль, хранение, кэширование, дисковый, данные\n",
      "Topic 9: значение, функция, анимация, реактивный, запрос, состояние, мочь, использовать, элемент, пример\n",
      "Topic 10: тест, кейс, запрос, тесто, регрессионный, спринт, тестирование, тестировщик, ответ, тело\n"
     ]
    }
   ],
   "source": [
    "# создание модели NMF\n",
    "nmf_model = NMF(n_components=11, random_state=0)\n",
    "nmf_model.fit(tfidf_matrix)\n",
    "\n",
    "# вывод топ слов для каждой темы\n",
    "for i, topic in enumerate(nmf_model.components_):\n",
    "    print(f\"Topic {i}: {', '.join([tfidf_vectorizer.get_feature_names_out()[i] for i in topic.argsort()[:-11:-1]])}\")"
   ]
  },
  {
   "cell_type": "code",
   "execution_count": 53,
   "id": "9343d7f3",
   "metadata": {},
   "outputs": [
    {
     "data": {
      "text/plain": [
       "11"
      ]
     },
     "execution_count": 53,
     "metadata": {},
     "output_type": "execute_result"
    }
   ],
   "source": [
    "len(nmf_model.components_)"
   ]
  },
  {
   "cell_type": "code",
   "execution_count": 54,
   "id": "7e1d52b9",
   "metadata": {},
   "outputs": [
    {
     "data": {
      "text/plain": [
       "array([[0.        , 0.00751809, 0.        , ..., 0.00497699, 0.        ,\n",
       "        0.        ],\n",
       "       [0.00176436, 0.00064842, 0.00370224, ..., 0.        , 0.        ,\n",
       "        0.00474703],\n",
       "       [0.        , 0.        , 0.        , ..., 0.        , 0.00011343,\n",
       "        0.        ],\n",
       "       ...,\n",
       "       [0.        , 0.00239386, 0.        , ..., 0.        , 0.        ,\n",
       "        0.        ],\n",
       "       [0.00112239, 0.00238976, 0.        , ..., 0.00743061, 0.00585765,\n",
       "        0.        ],\n",
       "       [0.        , 0.        , 0.        , ..., 0.        , 0.        ,\n",
       "        0.00019022]])"
      ]
     },
     "execution_count": 54,
     "metadata": {},
     "output_type": "execute_result"
    }
   ],
   "source": [
    "nmf_model.components_"
   ]
  },
  {
   "cell_type": "code",
   "execution_count": 55,
   "id": "4e2470ce",
   "metadata": {},
   "outputs": [
    {
     "name": "stdout",
     "output_type": "stream",
     "text": [
      "Topic 0: мочь, система, код, данные, приложение, метрика, использовать, файл, запрос, сервер\n",
      "Topic 1: игра, плата, год, озу, порт, процессор, слот, чип, индустрия, человек\n",
      "Topic 2: порт, плата, озу, процессор, система, слот, устройство, разъем, чип, ядро\n",
      "Topic 3: метрика, мониторинг, сбор, система, запрос, приложение, данные, игра, собирать, логирование\n",
      "Topic 4: кластер, сертификат, безопасность, сервер, доступ, клиент, коммутатор, команда, узел, контейнер\n",
      "Topic 5: игра, кластер, сервер, файл, персонаж, команда, диск, играть, контейнер, ошибка\n",
      "Topic 6: сервер, коммутатор, тест, запрос, пакет, клиент, инсталляция, сигнал, схема, сеть\n",
      "Topic 7: пакет, сигнал, схема, шрифт, звук, устройство, файл, растение, субд, команда\n",
      "Topic 8: тест, пакет, файл, проект, шрифт, метрика, кейс, команда, мониторинг, сервер\n",
      "Topic 9: коммутатор, инсталляция, сеть, сервер, выделять, подавление, модель, адрес, класс, клиент\n",
      "Topic 10: тест, диск, файловый, кеш, устройство, команда, кейс, система, профиль, дисковый\n"
     ]
    }
   ],
   "source": [
    "# создание модели LSA\n",
    "lsa_model = TruncatedSVD(n_components=11, random_state=0)\n",
    "lsa_model.fit(tfidf_matrix)\n",
    "\n",
    "# вывод топ слов для каждой темы\n",
    "for i, topic in enumerate(lsa_model.components_):\n",
    "    print(f\"Topic {i}: {', '.join([tfidf_vectorizer.get_feature_names_out()[i] for i in topic.argsort()[:-11:-1]])}\")"
   ]
  },
  {
   "cell_type": "code",
   "execution_count": 56,
   "id": "8ccdf63f",
   "metadata": {},
   "outputs": [
    {
     "data": {
      "text/plain": [
       "11"
      ]
     },
     "execution_count": 56,
     "metadata": {},
     "output_type": "execute_result"
    }
   ],
   "source": [
    "len(lsa_model.components_)"
   ]
  },
  {
   "cell_type": "code",
   "execution_count": 57,
   "id": "73dcf48d",
   "metadata": {
    "scrolled": true
   },
   "outputs": [
    {
     "data": {
      "text/plain": [
       "array([[ 2.07215525e-03,  3.93552333e-03,  7.12494879e-04, ...,\n",
       "         2.12740572e-03,  2.69404836e-03,  3.85326523e-03],\n",
       "       [ 6.97356870e-03, -3.58486421e-03,  8.93076325e-04, ...,\n",
       "        -3.21890224e-03,  5.29783957e-03,  1.32689934e-02],\n",
       "       [-7.09504210e-03,  9.82099746e-04, -7.84449153e-04, ...,\n",
       "        -1.35124754e-03, -5.89962097e-03, -1.34844274e-02],\n",
       "       ...,\n",
       "       [-6.00729965e-05, -4.11346819e-03,  1.34652517e-03, ...,\n",
       "        -4.35354049e-03, -1.06594298e-02, -5.24307791e-03],\n",
       "       [-1.21774922e-03,  3.91684284e-03, -9.56829543e-04, ...,\n",
       "        -8.96646923e-05, -4.60564139e-03,  5.97511550e-04],\n",
       "       [-2.45050372e-03, -3.72612989e-03, -1.27285942e-03, ...,\n",
       "        -1.44167037e-03, -6.07993991e-03,  3.74680040e-03]])"
      ]
     },
     "execution_count": 57,
     "metadata": {},
     "output_type": "execute_result"
    }
   ],
   "source": [
    "lsa_model.components_"
   ]
  },
  {
   "cell_type": "code",
   "execution_count": 58,
   "id": "dd1b22e7",
   "metadata": {},
   "outputs": [],
   "source": [
    "pyLDAvis.enable_notebook()"
   ]
  },
  {
   "cell_type": "code",
   "execution_count": 59,
   "id": "f7f003e1",
   "metadata": {},
   "outputs": [
    {
     "name": "stdout",
     "output_type": "stream",
     "text": [
      "1     файл, уязвимость, процесс, весь, код, использо...\n",
      "2     плата, процессор, сервер, слот, контроллер, си...\n",
      "12    ошибка, команда, мочь, проблема, файл, проверя...\n",
      "21    лидар, мочь, объект, автомобиль, система, бесп...\n",
      "25    класс, объект, десериализация, поле, значение,...\n",
      "28    качество, звук, пакет, звонок, сигнал, мочь, и...\n",
      "31    приложение, клиент, версия, писать, весь, стар...\n",
      "32    приложение, станция, язык, поиск, программа, в...\n",
      "48    устройство, преобразователь, кабель, производс...\n",
      "51    метрика, приложение, мониторинг, сбор, собират...\n",
      "52    мониторинг, метрика, система, мочь, запрос, по...\n",
      "54    система, операционный, устройство, компьютер, ...\n",
      "56    коммутатор, выделять, инсталляция, клиент, сер...\n",
      "59    данные, база, инстанс, мочь, ресурс, использов...\n",
      "60    частота, устройство, точка, доступ, работать, ...\n",
      "63    код, проект, файл, работать, весь, просто, скр...\n",
      "71    диск, система, данные, файловый, профиль, испо...\n",
      "72    ряд, временный, средний, данные, мочь, метод, ...\n",
      "82    система, метрика, мониторинг, приложение, данн...\n",
      "Name: keyword, dtype: object\n"
     ]
    }
   ],
   "source": [
    "print(dfHabr1.loc[dfHabr1['clustersAgglomerative'] == 0, 'keyword'])"
   ]
  },
  {
   "cell_type": "code",
   "execution_count": 60,
   "id": "b65bc7cd",
   "metadata": {},
   "outputs": [
    {
     "name": "stderr",
     "output_type": "stream",
     "text": [
      "C:\\Users\\essww\\anaconda3\\lib\\site-packages\\pyLDAvis\\_prepare.py:244: FutureWarning: In a future version of pandas all arguments of DataFrame.drop except for the argument 'labels' will be keyword-only.\n",
      "  by='saliency', ascending=False).head(R).drop('saliency', 1)\n"
     ]
    },
    {
     "data": {
      "text/html": [
       "\n",
       "<link rel=\"stylesheet\" type=\"text/css\" href=\"https://cdn.jsdelivr.net/gh/bmabey/pyLDAvis@3.4.0/pyLDAvis/js/ldavis.v1.0.0.css\">\n",
       "\n",
       "\n",
       "<div id=\"ldavis_el1450814081613785129597127281\" style=\"background-color:white;\"></div>\n",
       "<script type=\"text/javascript\">\n",
       "\n",
       "var ldavis_el1450814081613785129597127281_data = {\"mdsDat\": {\"x\": [-18.931982040405273, 5.185822486877441, 20.49338722229004, -47.8343505859375, -61.51698303222656, 65.88641357421875, -14.420488357543945, 45.23548126220703, -62.355003356933594, -14.854109764099121, 30.384117126464844], \"y\": [21.36409568786621, -65.50485229492188, 2.463796615600586, -55.8276481628418, 41.36314010620117, 11.477523803710938, -23.016563415527344, -37.61310958862305, -7.88605260848999, 68.1696548461914, 49.55182647705078], \"topics\": [1, 2, 3, 4, 5, 6, 7, 8, 9, 10, 11], \"cluster\": [1, 1, 1, 1, 1, 1, 1, 1, 1, 1, 1], \"Freq\": [15.9416187079216, 8.904410325130883, 1.4797138748413308, 12.538552265369068, 10.02029661337691, 7.1451706930851095, 12.39284046217147, 4.146973895338521, 7.202944287681347, 12.357454422137176, 7.870024452946586]}, \"tinfo\": {\"Term\": [\"\\u043f\\u0430\\u043a\\u0435\\u0442\", \"\\u0440\\u0435\\u0430\\u043a\\u0442\\u0438\\u0432\\u043d\\u044b\\u0439\", \"\\u0441\\u0442\\u0440\\u0438\\u043c\", \"\\u043a\\u043b\\u0430\\u0441\\u0441\", \"\\u0441\\u0438\\u0441\\u0442\\u0435\\u043c\\u0430\", \"\\u0443\\u0441\\u0442\\u0440\\u043e\\u0439\\u0441\\u0442\\u0432\\u043e\", \"\\u0434\\u044b\\u0440\\u0430\", \"\\u043e\\u043f\\u0435\\u0440\\u0430\\u0442\\u043e\\u0440\", \"\\u0430\\u043d\\u0438\\u043c\\u0430\\u0446\\u0438\\u044f\", \"\\u0444\\u0443\\u043d\\u043a\\u0446\\u0438\\u044f\", \"\\u043e\\u0431\\u044a\\u0435\\u043a\\u0442\", \"\\u0441\\u0435\\u0440\\u0432\\u0435\\u0440\", \"\\u0437\\u043d\\u0430\\u0447\\u0435\\u043d\\u0438\\u0435\", \"\\u0441\\u0445\\u0435\\u043c\\u0430\", \"\\u043f\\u043e\\u0442\\u043e\\u043a\", \"\\u043f\\u043b\\u0430\\u0442\\u0430\", \"\\u0438\\u0433\\u0440\\u0430\", \"\\u0433\\u0440\\u0435\\u0439\\u0441\", \"\\u043a\\u043e\\u0434\", \"\\u0442\\u0435\\u0441\\u0442\", \"\\u0441\\u0443\\u043c\\u043c\\u0430\", \"\\u0440\\u0430\\u0441\\u0442\\u0435\\u043d\\u0438\\u0435\", \"\\u043f\\u0430\\u0440\\u0441\\u0435\\u0440\", \"\\u044d\\u043b\\u0435\\u043c\\u0435\\u043d\\u0442\", \"\\u043b\\u0438\\u0434\\u0430\\u0440\", \"\\u0447\\u0440\\u043d\\u043e\\u0439\", \"\\u0447\\u0440\\u043d\\u043e\\u0439 \\u0434\\u044b\\u0440\\u0430\", \"\\u0438\\u043c\\u044f\", \"\\u043c\\u0435\\u0442\\u0440\\u0438\\u043a\\u0430\", \"\\u043f\\u0440\\u043e\\u0441\\u0442\\u0440\\u0430\\u043d\\u0441\\u0442\\u0432\\u043e\", \"\\u043f\\u0430\\u0440\\u0441\\u0435\\u0440\", \"\\u0431\\u0430\\u043d\\u044f\", \"\\u0441\\u0443\\u043c\\u043c\\u0430\\u0442\\u043e\\u0440\", \"\\u043e\\u043a\\u0440\\u0435\\u0441\\u0442\\u043d\\u043e\\u0441\\u0442\\u044c\", \"\\u0440\\u0430\\u0437\\u0440\\u044f\\u0434\", \"\\u0441\\u0448\\u0430 \\u0441\\u0448\\u0430\", \"\\u0444\\u0430\\u0439\\u043b \\u043a\\u043b\\u0430\\u0441\\u0441\", \"\\u0432\\u0440\\u0435\\u0434\\u043e\\u043d\\u043e\\u0441\", \"\\u0438\\u043d\\u0442\\u0435\\u0440\\u0444\\u0435\\u0440\\u0435\\u043d\\u0446\\u0438\\u044f\", \"\\u0441\\u0438\\u0433\\u043d\\u0430\\u043b \\u043f\\u0435\\u0440\\u0435\\u043d\\u043e\\u0441\", \"\\u0432\\u044b\\u043c\\u043e\\u0433\\u0430\\u0442\\u0435\\u043b\\u044c\", \"\\u0440\\u0430\\u0431\\u043e\\u0447\\u0438\\u0439 \\u0447\\u0430\\u0441\\u0442\\u043e\\u0442\\u0430\", \"\\u043b\\u0435\\u0439\\u0431\\u043b\\u0441\\u0435\\u0442\", \"\\u0441\\u0448\\u0430 \\u0441\\u0448\\u0430 \\u0441\\u0448\\u0430\", \"\\u043b\\u044f\\u043c\\u0431\\u0434\\u0430\", \"\\u0447\\u0435\\u0442\\u044b\\u0440\\u0445\\u0440\\u0430\\u0437\\u0440\\u044f\\u0434\\u043d\\u044b\\u0439\", \"\\u0441\\u043f\\u0443\\u0442\\u043d\\u0438\\u043a\", \"\\u0441\\u0438\\u0433\\u043d\\u0430\\u043b \\u0432\\u044b\\u0441\\u043e\\u043a\\u0438\\u0439\", \"\\u0432\\u0437\\u0432\\u0435\\u0448\\u0438\\u0432\\u0430\\u0442\\u044c \\u043e\\u043a\\u0440\\u0435\\u0441\\u0442\\u043d\\u043e\\u0441\\u0442\\u044c\", \"\\u0449\\u0438\\u0442\", \"\\u043a\\u043b\\u0435\\u0442\\u043a\\u0430\", \"\\u0442\\u0440\\u0438\\u0433\\u0433\\u0435\\u0440\", \"\\u0432\\u044b\\u0441\\u043e\\u043a\\u0438\\u0439 \\u043b\\u043e\\u0433\\u0438\\u0447\\u0435\\u0441\\u043a\\u0438\\u0439\", \"\\u0432\\u044b\\u0441\\u043e\\u043a\\u0438\\u0439 \\u043b\\u043e\\u0433\\u0438\\u0447\\u0435\\u0441\\u043a\\u0438\\u0439 \\u0443\\u0440\\u043e\\u0432\\u0435\\u043d\\u044c\", \"\\u043f\\u043e\\u043b\\u043d\\u044b\\u0439 \\u0441\\u0443\\u043c\\u043c\\u0430\\u0442\\u043e\\u0440\", \"\\u0441\\u0438\\u0433\\u043d\\u0430\\u043b \\u0432\\u044b\\u0441\\u043e\\u043a\\u0438\\u0439 \\u043b\\u043e\\u0433\\u0438\\u0447\\u0435\\u0441\\u043a\\u0438\\u0439\", \"\\u043f\\u0443\\u043b \\u043a\\u043e\\u043d\\u0441\\u0442\\u0430\\u043d\\u0442\\u0430\", \"\\u0431\\u0430\\u043d\\u0449\\u0438\\u043a\", \"\\u0442\\u0440\\u0430\\u043d\\u0441\\u0442\\u0435\\u043b\\u0435\\u043a\\u043e\\u043c\", \"\\u0432\\u0445\\u043e\\u0434\\u043d\\u043e\\u0439 \\u0434\\u0430\\u043d\\u043d\\u044b\\u0435\", \"\\u0442\\u043e\\u0447\\u043a\\u0430 \\u0434\\u043e\\u0441\\u0442\\u0443\\u043f\", \"\\u043f\\u0430\\u0440\\u0441\\u0438\\u043d\\u0433\", \"\\u043b\\u043e\\u0433\\u0438\\u0447\\u0435\\u0441\\u043a\\u0438\\u0439 \\u0443\\u0440\\u043e\\u0432\\u0435\\u043d\\u044c\", \"\\u0430\\u043f\\u043f\\u0430\\u0440\\u0430\\u0442\", \"\\u043b\\u043e\\u0433\\u0438\\u0447\\u0435\\u0441\\u043a\\u0438\\u0439\", \"\\u0432\\u0445\\u043e\\u0434\\u043d\\u043e\\u0439\", \"\\u043f\\u0435\\u0440\\u0435\\u043d\\u043e\\u0441\", \"\\u0441\\u043e\\u0441\\u0435\\u0434\", \"\\u0441\\u043d\\u0438\\u043c\\u043e\\u043a\", \"\\u0432\\u0445\\u043e\\u0434\", \"\\u0441\\u0438\\u0433\\u043d\\u0430\\u043b\", \"\\u0443\\u044f\\u0437\\u0432\\u0438\\u043c\\u043e\\u0441\\u0442\\u044c\", \"\\u0441\\u0448\\u0430\", \"\\u0444\\u0430\\u0439\\u043b\", \"\\u0441\\u0445\\u0435\\u043c\\u0430\", \"\\u0434\\u0430\\u043d\\u043d\\u044b\\u0435\", \"\\u0437\\u043d\\u0430\\u0447\\u0435\\u043d\\u0438\\u0435\", \"\\u0447\\u0430\\u0441\\u0442\\u043e\\u0442\\u0430\", \"\\u0444\\u0443\\u043d\\u043a\\u0446\\u0438\\u044f\", \"\\u043a\\u043b\\u0430\\u0441\\u0442\\u0435\\u0440\", \"\\u0432\\u0435\\u0441\\u044c\", \"\\u043c\\u0435\\u0442\\u0440\\u0438\\u043a\\u0430\", \"\\u043d\\u043e\\u0432\\u044b\\u0439\", \"\\u0440\\u0430\\u0431\\u043e\\u0442\\u0430\\u0442\\u044c\", \"\\u0438\\u0441\\u043f\\u043e\\u043b\\u044c\\u0437\\u043e\\u0432\\u0430\\u0442\\u044c\", \"\\u043a\\u043b\\u0430\\u0441\\u0441\", \"\\u043c\\u043e\\u0447\\u044c\", \"\\u043f\\u043e\\u043b\\u0443\\u0447\\u0430\\u0442\\u044c\", \"\\u043f\\u0440\\u0430\\u0432\\u0438\\u043b\\u043e\", \"\\u0434\\u0430\\u043d\\u043d\\u044b\\u0439\", \"\\u043f\\u0430\\u043c\\u044f\\u0442\\u044c\", \"\\u0447\\u0430\\u0441\\u0442\\u044c\", \"\\u043a\\u043e\\u0434\", \"\\u0432\\u0440\\u0435\\u043c\\u044f\", \"\\u043a\\u0430\\u0436\\u0434\\u044b\\u0439\", \"\\u043f\\u0435\\u0440\\u0432\\u044b\\u0439\", \"\\u0443\\u0441\\u0442\\u0440\\u043e\\u0439\\u0441\\u0442\\u0432\\u043e\", \"\\u044d\\u043b\\u0435\\u043c\\u0435\\u043d\\u0442\", \"\\u0441\\u0438\\u0441\\u0442\\u0435\\u043c\\u0430\", \"\\u043d\\u0443\\u0436\\u043d\\u043e\", \"\\u0441\\u0430\\u043c\\u044b\\u0439\", \"\\u043f\\u0440\\u043e\\u0441\\u0442\\u043e\", \"\\u043f\\u043e\\u0437\\u0432\\u043e\\u043b\\u044f\\u0442\\u044c\", \"\\u0440\\u0430\\u0431\\u043e\\u0442\\u0430\", \"\\u043f\\u0440\\u043e\\u0431\\u043b\\u0435\\u043c\\u0430\", \"\\u0447\\u0440\\u043d\\u043e\\u0439 \\u0434\\u044b\\u0440\\u0430\", \"\\u0432\\u0441\\u0435\\u043b\\u0435\\u043d\\u043d\\u0430\\u044f\", \"\\u0433\\u043e\\u0440\\u0438\\u0437\\u043e\\u043d\\u0442 \\u0441\\u043e\\u0431\\u044b\\u0442\\u0438\\u0435\", \"\\u0447\\u0440\\u043d\\u043e\\u0439\", \"\\u0434\\u044b\\u0440\\u0430\", \"\\u0431\\u0435\\u043b\\u044b\\u0439 \\u0434\\u044b\\u0440\\u0430\", \"\\u043b\\u0435\\u0432\\u0438\\u043d\", \"\\u044d\\u043b\\u0438\\u0437\\u0430\\u0431\\u0435\\u0442\", \"\\u043a\\u0435\\u043d\", \"\\u043a\\u0435\\u043d \\u043b\\u0435\\u0432\\u0438\\u043d\", \"\\u0433\\u043e\\u0440\\u0438\\u0437\\u043e\\u043d\\u0442 \\u0441\\u043e\\u0431\\u044b\\u0442\\u0438\\u0435 \\u0447\\u0440\\u043d\\u043e\\u0439\", \"\\u0441\\u043e\\u0431\\u044b\\u0442\\u0438\\u0435 \\u0447\\u0440\\u043d\\u043e\\u0439\", \"\\u0441\\u043e\\u0431\\u044b\\u0442\\u0438\\u0435 \\u0447\\u0440\\u043d\\u043e\\u0439 \\u0434\\u044b\\u0440\\u0430\", \"\\u0441\\u0438\\u043d\\u0433\\u0443\\u043b\\u044f\\u0440\\u043d\\u043e\\u0441\\u0442\\u044c\", \"\\u0440\\u0435\\u043c\\u0430\\u0441\\u0442\\u0435\\u0440\", \"\\u043c\\u043e\\u0447\\u044c \\u043f\\u043e\\u043f\\u0440\\u043e\\u0431\\u043e\\u0432\\u0430\\u0442\\u044c\", \"\\u043c\\u0430\\u0442\\u0435\\u0440\\u0438\\u044f \\u044d\\u043d\\u0435\\u0440\\u0433\\u0438\\u044f\", \"\\u0432\\u044b\\u043f\\u043e\\u043b\\u043d\\u044f\\u0442\\u044c \\u043a\\u043e\\u043c\\u0430\\u043d\\u0434\\u0430\", \"\\u0433\\u043e\\u0440\\u0438\\u0437\\u043e\\u043d\\u0442\", \"\\u0431\\u043e\\u043b\\u044c\\u0448\\u043e\\u0439 \\u0432\\u0437\\u0440\\u044b\\u0432\", \"\\u043d\\u0430\\u0431\\u043b\\u044e\\u0434\\u0430\\u0442\\u044c \\u0432\\u0441\\u0435\\u043b\\u0435\\u043d\\u043d\\u0430\\u044f\", \"\\u043e\\u0431\\u0449\\u0438\\u0439 \\u0442\\u0435\\u043e\\u0440\\u0438\\u044f\", \"\\u043e\\u0431\\u0449\\u0438\\u0439 \\u0442\\u0435\\u043e\\u0440\\u0438\\u044f \\u043e\\u0442\\u043d\\u043e\\u0441\\u0438\\u0442\\u0435\\u043b\\u044c\\u043d\\u043e\\u0441\\u0442\\u044c\", \"\\u043f\\u0440\\u043e\\u0441\\u0442\\u0440\\u0430\\u043d\\u0441\\u0442\\u0432\\u043e \\u0432\\u0440\\u0435\\u043c\\u044f\", \"\\u0447\\u0440\\u043d\\u0430\\u044f\", \"\\u0447\\u0440\\u043d\\u0430\\u044f \\u0434\\u044b\\u0440\\u0430\", \"\\u043f\\u043e\\u043f\\u0440\\u043e\\u0431\\u043e\\u0432\\u0430\\u0442\\u044c \\u0432\\u044b\\u043f\\u043e\\u043b\\u043d\\u044f\\u0442\\u044c\", \"\\u043f\\u0435\\u0440\\u0435\\u043c\\u0435\\u043d\\u043d\\u044b\\u0439 \\u043e\\u043a\\u0440\\u0443\\u0436\\u0435\\u043d\\u0438\\u0435\", \"\\u043c\\u0430\\u0442\\u0435\\u0440\\u0438\\u044f\", \"\\u0430\\u043c\\u0430\\u0437\\u043e\\u043d\\u043a\\u0430\", \"\\u0441\\u044e\\u0436\\u0435\\u0442\", \"\\u0431\\u0435\\u043b\\u044b\\u0439\", \"\\u043f\\u0438\\u0441\\u044c\\u043c\\u043e\", \"\\u043f\\u0435\\u0440\\u0441\\u043e\\u043d\\u0430\\u0436\", \"\\u0438\\u043d\\u0442\\u0435\\u043b\\u043b\\u0435\\u043a\\u0442\", \"\\u0438\\u0433\\u0440\\u0430\", \"\\u0438\\u0433\\u0440\\u043e\\u043a\", \"\\u043e\\u0448\\u0438\\u0431\\u043a\\u0430\", \"\\u0438\\u0441\\u043a\\u0443\\u0441\\u0441\\u0442\\u0432\\u0435\\u043d\\u043d\\u044b\\u0439 \\u0438\\u043d\\u0442\\u0435\\u043b\\u043b\\u0435\\u043a\\u0442\", \"\\u0438\\u0441\\u043f\\u043e\\u043b\\u044c\\u0437\\u043e\\u0432\\u0430\\u0442\\u044c \\u043a\\u043e\\u043c\\u0430\\u043d\\u0434\\u0430\", \"\\u0438\\u0441\\u043a\\u0443\\u0441\\u0441\\u0442\\u0432\\u0435\\u043d\\u043d\\u044b\\u0439\", \"\\u043c\\u043e\\u0447\\u044c\", \"\\u0441\\u0442\\u0443\\u0434\\u0438\\u044f\", \"\\u043f\\u0440\\u043e\\u0432\\u0435\\u0440\\u044f\\u0442\\u044c\", \"\\u043a\\u043e\\u043c\\u0430\\u043d\\u0434\\u0430\", \"\\u0441\\u043e\\u0431\\u044b\\u0442\\u0438\\u0435\", \"\\u0441\\u0435\\u0440\\u0432\\u0435\\u0440\", \"\\u043f\\u043e\\u043f\\u0440\\u043e\\u0431\\u043e\\u0432\\u0430\\u0442\\u044c\", \"\\u0441\\u043e\\u0437\\u0434\\u0430\\u0432\\u0430\\u0442\\u044c\", \"\\u0437\\u0430\\u043f\\u0443\\u0441\\u043a\\u0430\\u0442\\u044c\", \"\\u043f\\u0440\\u043e\\u0431\\u043b\\u0435\\u043c\\u0430\", \"\\u0432\\u0438\\u0434\\u0435\\u043e\", \"\\u0432\\u0435\\u0441\\u044c\", \"\\u0441\\u0438\\u0441\\u0442\\u0435\\u043c\\u0430\", \"\\u0438\\u0433\\u0440\\u0430\\u0442\\u044c\", \"\\u0433\\u043e\\u0434\", \"\\u0432\\u0440\\u0435\\u043c\\u044f\", \"\\u043f\\u043e\\u043c\\u043e\\u0449\\u044c\", \"\\u043d\\u043e\\u0432\\u044b\\u0439\", \"\\u0444\\u0430\\u0439\\u043b\", \"\\u0437\\u043d\\u0430\\u0447\\u0435\\u043d\\u0438\\u0435\", \"\\u0441\\u0434\\u0435\\u043b\\u0430\\u0442\\u044c\", \"\\u0447\\u0435\\u043b\\u043e\\u0432\\u0435\\u043a\", \"\\u0438\\u0441\\u043f\\u043e\\u043b\\u044c\\u0437\\u043e\\u0432\\u0430\\u0442\\u044c\", \"\\u0441\\u0430\\u043c\\u044b\\u0439\", \"\\u0431\\u043e\\u043b\\u044c\\u0448\\u043e\\u0439\", \"\\u0441\\u0442\\u0430\\u043d\\u043e\\u0432\\u0438\\u0442\\u044c\\u0441\\u044f\", \"\\u0434\\u0435\\u0441\\u0435\\u0440\\u0438\\u0430\\u043b\\u0438\\u0437\\u0430\\u0446\\u0438\\u044f\", \"\\u0441\\u0435\\u0440\\u0438\\u0430\\u043b\\u0438\\u0437\\u0430\\u0442\\u043e\\u0440\", \"\\u043f\\u043e\\u043b\\u0438\\u043c\\u043e\\u0440\\u0444\\u043d\\u044b\\u0439\", \"\\u043f\\u043e\\u043b\\u0438\\u043c\\u043e\\u0440\\u0444\\u043d\\u044b\\u0439 \\u0441\\u0442\\u0440\\u0443\\u043a\\u0442\\u0443\\u0440\\u0430\", \"\\u0441\\u0435\\u0440\\u0438\\u0430\\u043b\\u0438\\u0437\\u0430\\u0446\\u0438\\u044f\", \"\\u043d\\u0430\\u0441\\u043b\\u0435\\u0434\\u043d\\u0438\\u043a\", \"\\u043e\\u0446\\u0435\\u043d\\u043a\\u0430 \\u0432\\u043b\\u0438\\u044f\\u043d\\u0438\\u0435\", \"\\u0431\\u0438\\u0431\\u043b\\u0438\\u043e\\u0442\\u0435\\u0447\\u043d\\u044b\\u0439 \\u043a\\u043b\\u0430\\u0441\\u0441\", \"\\u0432\\u043a\\u043b\\u044e\\u0447\\u0430\\u0442\\u044c \\u0432\\u044b\\u043a\\u043b\\u044e\\u0447\\u0430\\u0442\\u044c \\u043e\\u043f\\u0442\\u0438\\u043c\\u0438\\u0437\\u0430\\u0446\\u0438\\u044f\", \"\\u0432\\u043a\\u043b\\u044e\\u0447\\u0430\\u0442\\u044c \\u043e\\u043f\\u0442\\u0438\\u043c\\u0438\\u0437\\u0430\\u0446\\u0438\\u044f\", \"\\u0432\\u043b\\u043e\\u0436\\u0435\\u043d\\u043d\\u043e\\u0441\\u0442\\u044c\", \"\\u0432\\u044b\\u043a\\u043b\\u044e\\u0447\\u0430\\u0442\\u044c \\u043e\\u043f\\u0442\\u0438\\u043c\\u0438\\u0437\\u0430\\u0446\\u0438\\u044f\", \"\\u0432\\u044b\\u043a\\u043b\\u044e\\u0447\\u0430\\u0442\\u044c \\u043e\\u043f\\u0442\\u0438\\u043c\\u0438\\u0437\\u0430\\u0446\\u0438\\u044f \\u0441\\u043e\\u0441\\u0442\\u0430\\u0432\\u043b\\u044f\\u0442\\u044c\", \"\\u0434\\u0435\\u0444\\u043e\\u043b\\u0442\\u043d\\u044b\\u0439\", \"\\u0434\\u0435\\u0444\\u043e\\u043b\\u0442\\u043d\\u044b\\u0439 \\u0437\\u043d\\u0430\\u0447\\u0435\\u043d\\u0438\\u0435\", \"\\u0438\\u0441\\u043f\\u043e\\u043b\\u044c\\u0437\\u043e\\u0432\\u0430\\u043d\\u0438\\u0435 \\u0432\\u043a\\u043b\\u044e\\u0447\\u0430\\u0442\\u044c\", \"\\u0438\\u0441\\u043f\\u043e\\u043b\\u044c\\u0437\\u043e\\u0432\\u0430\\u043d\\u0438\\u0435 \\u0432\\u043a\\u043b\\u044e\\u0447\\u0430\\u0442\\u044c \\u0432\\u044b\\u043a\\u043b\\u044e\\u0447\\u0430\\u0442\\u044c\", \"\\u043e\\u043f\\u0442\\u0438\\u043c\\u0438\\u0437\\u0430\\u0446\\u0438\\u044f \\u0441\\u043e\\u0441\\u0442\\u0430\\u0432\\u043b\\u044f\\u0442\\u044c\", \"\\u043f\\u043e\\u043b\\u043d\\u044b\\u0439 \\u0440\\u0435\\u0437\\u0443\\u043b\\u044c\\u0442\\u0430\\u0442\", \"\\u043f\\u043e\\u043b\\u0443\\u0447\\u0430\\u0442\\u044c \\u043e\\u0431\\u044a\\u0435\\u043a\\u0442\", \"\\u0440\\u0430\\u0437\\u043d\\u0438\\u0446\\u0430 \\u0438\\u0441\\u043f\\u043e\\u043b\\u044c\\u0437\\u043e\\u0432\\u0430\\u043d\\u0438\\u0435\", \"\\u0440\\u0430\\u0437\\u043d\\u0438\\u0446\\u0430 \\u0438\\u0441\\u043f\\u043e\\u043b\\u044c\\u0437\\u043e\\u0432\\u0430\\u043d\\u0438\\u0435 \\u0432\\u043a\\u043b\\u044e\\u0447\\u0430\\u0442\\u044c\", \"\\u043f\\u0440\\u0438\\u043c\\u0438\\u0442\\u0438\\u0432\", \"\\u0434\\u0435\\u0441\\u0435\\u0440\\u0438\\u0430\\u043b\\u0438\\u0437\\u0430\\u0446\\u0438\\u044f \\u043f\\u043e\\u043b\\u0438\\u043c\\u043e\\u0440\\u0444\\u043d\\u044b\\u0439\", \"\\u0434\\u0435\\u0441\\u0435\\u0440\\u0438\\u0430\\u043b\\u0438\\u0437\\u0430\\u0446\\u0438\\u044f \\u043f\\u043e\\u043b\\u0438\\u043c\\u043e\\u0440\\u0444\\u043d\\u044b\\u0439 \\u0441\\u0442\\u0440\\u0443\\u043a\\u0442\\u0443\\u0440\\u0430\", \"\\u0437\\u043d\\u0430\\u0447\\u0435\\u043d\\u0438\\u0435 \\u0441\\u0432\\u043e\\u0439\\u0441\\u0442\\u0432\\u043e\", \"\\u0438\\u043d\\u0432\\u0435\\u0441\\u0442\", \"\\u043e\\u0431\\u044a\\u0435\\u043a\\u0442 \\u0441\\u043e\\u0441\\u0442\\u043e\\u044f\\u0442\\u044c\", \"\\u043e\\u043f\\u0442\\u0438\\u043c\\u0438\\u0437\\u0430\\u0446\\u0438\\u044f \\u0441\\u043e\\u0441\\u0442\\u0430\\u0432\\u043b\\u044f\\u0442\\u044c \\u0441\\u043e\\u043e\\u0442\\u0432\\u0435\\u0442\\u0441\\u0442\\u0432\\u0435\\u043d\\u043d\\u043e\\u0442\\u0430\\u0431\\u043b\\u0438\\u0446\\u0430\", \"\\u043e\\u043f\\u0446\\u0438\\u043e\\u043d\\u0430\\u043b\\u044c\\u043d\\u043e\\u0441\\u0442\\u044c\", \"\\u0441\\u043e\\u0437\\u0434\\u0430\\u043d\\u0438\\u0435 \\u0438\\u043d\\u0441\\u0442\\u0430\\u043d\\u0441\", \"\\u0440\\u0430\\u043d\\u0442\\u0430\\u0439\\u043c\", \"\\u043e\\u0431\\u044a\\u0435\\u043a\\u0442\", \"\\u043a\\u043b\\u0430\\u0441\\u0441\", \"\\u043f\\u043e\\u043b\\u0435\", \"\\u0432\\u043a\\u043b\\u044e\\u0447\\u0430\\u0442\\u044c \\u0432\\u044b\\u043a\\u043b\\u044e\\u0447\\u0430\\u0442\\u044c\", \"\\u0431\\u0438\\u0431\\u043b\\u0438\\u043e\\u0442\\u0435\\u043a\\u0430\", \"\\u043e\\u043f\\u0442\\u0438\\u043c\\u0438\\u0437\\u0430\\u0446\\u0438\\u044f\", \"\\u0441\\u0442\\u0440\\u0443\\u043a\\u0442\\u0443\\u0440\\u0430\", \"\\u0437\\u043d\\u0430\\u0447\\u0435\\u043d\\u0438\\u0435\", \"\\u0440\\u0435\\u0437\\u0443\\u043b\\u044c\\u0442\\u0430\\u0442\", \"\\u0438\\u0441\\u043f\\u043e\\u043b\\u044c\\u0437\\u043e\\u0432\\u0430\\u043d\\u0438\\u0435\", \"\\u043b\\u043e\\u0433\\u0438\\u043a\\u0430\", \"\\u043f\\u043e\\u0434\\u0434\\u0435\\u0440\\u0436\\u043a\\u0430\", \"\\u0441\\u0432\\u043e\\u0439\\u0441\\u0442\\u0432\\u043e\", \"\\u0432\\u043a\\u043b\\u044e\\u0447\\u0430\\u0442\\u044c\", \"\\u0441\\u043e\\u0437\\u0434\\u0430\\u043d\\u0438\\u0435\", \"\\u0441\\u043f\\u0438\\u0441\\u043e\\u043a\", \"\\u0442\\u0438\\u043f\", \"\\u0438\\u043d\\u0441\\u0442\\u0430\\u043d\\u0441\", \"\\u043f\\u043e\\u043b\\u043d\\u044b\\u0439\", \"\\u0438\\u0441\\u043f\\u043e\\u043b\\u044c\\u0437\\u043e\\u0432\\u0430\\u0442\\u044c\", \"\\u0430\\u043d\\u043d\\u043e\\u0442\\u0430\\u0446\\u0438\\u044f\", \"\\u0434\\u0430\\u043d\\u043d\\u044b\\u0435\", \"\\u0434\\u043e\\u0431\\u0430\\u0432\\u043b\\u044f\\u0442\\u044c\", \"\\u043f\\u043e\\u043b\\u0443\\u0447\\u0430\\u0442\\u044c\", \"\\u043e\\u0448\\u0438\\u0431\\u043a\\u0430\", \"\\u043a\\u043e\\u0434\", \"\\u0441\\u043a\\u0440\\u0430\", \"\\u0441\\u043a\\u0440\\u0430 \\u043c\\u0430\\u0441\\u0442\\u0435\\u0440\", \"\\u043c\\u0438\\u043a\\u0440\\u043e\\u0441\\u0442\\u0440\\u0443\\u043a\\u0442\\u0443\\u0440\\u0430\", \"\\u044d\\u043a\\u0437\\u0430\\u043c\\u0435\\u043d\", \"\\u0441\\u0442\\u0435\\u0433\\u0430\\u043d\\u043e\\u0433\\u0440\\u0430\\u0444\\u0438\\u044f\", \"\\u0430\\u043d\\u0438\\u043c\\u0430\\u0442\\u043e\\u0440\", \"\\u0430\\u043d\\u0438\\u043c\\u0430\\u0446\\u0438\\u044f\", \"\\u0432\\u0443\\u0437\", \"\\u0437\\u043d\\u0430\\u0447\\u0435\\u043d\\u0438\\u0435 \\u0441\\u0447\\u0435\\u0442\\u0447\\u0438\\u043a\", \"\\u043c\\u043b\\u043d \\u043c\\u043b\\u043d\", \"\\u043d\\u043e\\u0432\\u044b\\u0439 \\u0430\\u043b\\u0433\\u043e\\u0440\\u0438\\u0442\\u043c\", \"\\u0447\\u0443\\u0432\\u0441\\u0442\\u0432\\u0438\\u0442\\u0435\\u043b\\u044c\\u043d\\u044b\\u0439 \\u0438\\u043d\\u0444\\u043e\\u0440\\u043c\\u0430\\u0446\\u0438\\u044f\", \"\\u0441\\u043e\\u0441\\u0442\\u0430\\u0432\\u043b\\u044f\\u0442\\u044c \\u043c\\u0438\\u043a\\u0440\\u043e\\u0441\\u0442\\u0440\\u0443\\u043a\\u0442\\u0443\\u0440\\u0430\", \"\\u0441\\u0434\\u0430\\u0432\\u0430\\u0442\\u044c\", \"\\u0432\\u044b\\u0441\\u043e\\u043a\\u0438\\u0439 \\u043e\\u0431\\u0440\\u0430\\u0437\\u043e\\u0432\\u0430\\u043d\\u0438\\u0435\", \"\\u0431\\u0435\\u0441\\u0441\\u0435\\u0440\\u0432\\u0435\\u0440\\u043d\\u044b\\u0439\", \"\\u0442\\u0438\\u043c\\u043b\\u0438\\u0434\\u044b\", \"\\u043c\\u043b\\u043d \\u043c\\u043b\\u043d \\u043c\\u043b\\u043d\", \"\\u0432\\u043a\\u0430\\u0442\\u0438\\u0442\\u044c\\u0441\\u044f\", \"\\u0437\\u043e\\u043d\\u0430 \\u0434\\u043e\\u0441\\u0442\\u0443\\u043f\\u043d\\u043e\\u0441\\u0442\\u044c\", \"\\u0438\\u043d\\u0441\\u0442\\u0430\\u043d\\u0441 \\u0431\\u0430\\u0437\\u0430\", \"\\u0438\\u043d\\u0441\\u0442\\u0430\\u043d\\u0441 \\u0431\\u0430\\u0437\\u0430 \\u0434\\u0430\\u043d\\u043d\\u044b\\u0435\", \"\\u0430\\u043d\\u0438\\u043c\\u0438\\u0440\\u043e\\u0432\\u0430\\u043d\\u0438\\u0435\", \"\\u043c\\u043e\\u0434\\u0435\\u043b\\u044c \\u043e\\u0441\\u043d\\u043e\\u0432\\u044b\\u0432\\u0430\\u0442\\u044c\", \"\\u043a\\u0443\\u0440\\u0441\\u044b\", \"\\u0440\\u0435\\u043f\\u043b\\u0438\\u043a\\u0430\", \"\\u0431\\u0435\\u0441\\u0441\\u0435\\u0440\\u0432\\u0435\\u0440\\u043d\\u044b\\u0439 \\u0440\\u0435\\u0448\\u0435\\u043d\\u0438\\u0435\", \"\\u043d\\u0435\\u0441\\u043a\\u043e\\u043b\\u044c\\u043a\\u043e \\u0437\\u043e\\u043d\\u0430\", \"\\u043d\\u0435\\u0441\\u043a\\u043e\\u043b\\u044c\\u043a\\u043e \\u0437\\u043e\\u043d\\u0430 \\u0434\\u043e\\u0441\\u0442\\u0443\\u043f\\u043d\\u043e\\u0441\\u0442\\u044c\", \"\\u0433\\u0443\\u043c\\u0430\\u043d\\u0438\\u0442\\u0430\\u0440\\u043d\\u044b\\u0439\", \"\\u0430\\u043d\\u0438\\u043c\\u0438\\u0440\\u043e\\u0432\\u0430\\u0442\\u044c\", \"\\u0434\\u0438\\u043f\\u043b\\u043e\\u043c\", \"\\u0443\\u0441\\u0442\\u0440\\u043e\\u0439\\u0441\\u0442\\u0432\\u043e \\u0445\\u0440\\u0430\\u043d\\u0435\\u043d\\u0438\\u0435\", \"\\u043c\\u0430\\u0441\\u0442\\u0435\\u0440\", \"\\u0441\\u0447\\u0435\\u0442\\u0447\\u0438\\u043a\", \"\\u0444\\u0430\\u0439\\u043b\\u043e\\u0432\\u044b\\u0439 \\u0441\\u0438\\u0441\\u0442\\u0435\\u043c\\u0430\", \"\\u0440\\u043e\\u043b\\u0438\\u043a\", \"\\u0444\\u0430\\u0439\\u043b\\u043e\\u0432\\u044b\\u0439\", \"\\u043f\\u0440\\u043e\\u0444\\u0438\\u043b\\u044c\", \"\\u0434\\u0438\\u0441\\u043a\", \"\\u043c\\u043b\\u043d\", \"\\u0437\\u0430\\u043a\\u0430\\u0437\\u0447\\u0438\\u043a\", \"\\u0447\\u0430\\u0441\", \"\\u0440\\u0430\\u0431\\u043e\\u0442\\u0430\", \"\\u0440\\u0438\\u0441\\u0443\\u043d\\u043e\\u043a\", \"\\u0441\\u043f\\u0435\\u0446\\u0438\\u0430\\u043b\\u0438\\u0441\\u0442\", \"\\u043e\\u0431\\u0443\\u0447\\u0435\\u043d\\u0438\\u0435\", \"\\u043f\\u043b\\u0430\\u0442\\u0438\\u0442\\u044c\", \"\\u0438\\u043d\\u0441\\u0442\\u0430\\u043d\\u0441\", \"\\u0441\\u0435\\u0440\\u0442\\u0438\\u0444\\u0438\\u043a\\u0430\\u0442\", \"\\u0438\\u0437\\u043e\\u0431\\u0440\\u0430\\u0436\\u0435\\u043d\\u0438\\u0435\", \"\\u0431\\u0430\\u0437\\u0430 \\u0434\\u0430\\u043d\\u043d\\u044b\\u0435\", \"\\u0437\\u0430\\u043f\\u0440\\u043e\\u0441\", \"\\u0434\\u0430\\u043d\\u043d\\u044b\\u0435\", \"\\u043c\\u043e\\u0447\\u044c\", \"\\u0433\\u043e\\u0434\", \"\\u0438\\u0441\\u043f\\u043e\\u043b\\u044c\\u0437\\u043e\\u0432\\u0430\\u0442\\u044c\", \"\\u0438\\u043d\\u0444\\u043e\\u0440\\u043c\\u0430\\u0446\\u0438\\u044f\", \"\\u0441\\u0430\\u043c\\u044b\\u0439\", \"\\u0432\\u0435\\u0441\\u044c\", \"\\u043d\\u0430\\u043f\\u0440\\u0430\\u0432\\u043b\\u0435\\u043d\\u0438\\u0435\", \"\\u0432\\u0440\\u0435\\u043c\\u044f\", \"\\u043c\\u043e\\u0434\\u0435\\u043b\\u044c\", \"\\u0447\\u0435\\u043b\\u043e\\u0432\\u0435\\u043a\", \"\\u043d\\u0443\\u0436\\u043d\\u043e\", \"\\u0441\\u043e\\u0437\\u0434\\u0430\\u0432\\u0430\\u0442\\u044c\", \"\\u043d\\u0435\\u0441\\u043a\\u043e\\u043b\\u044c\\u043a\\u043e\", \"\\u0434\\u0430\\u0432\\u0430\\u0442\\u044c\", \"\\u043a\\u0430\\u0436\\u0434\\u044b\\u0439\", \"\\u0434\\u0430\\u043d\\u043d\\u044b\\u0439\", \"\\u0434\\u0435\\u043b\\u0430\\u0442\\u044c\", \"\\u043f\\u043e\\u043b\\u0443\\u0447\\u0430\\u0442\\u044c\", \"\\u043a\\u043e\\u043c\\u0430\\u043d\\u0434\\u0430\", \"\\u0441\\u0442\\u0430\\u043d\\u043e\\u0432\\u0438\\u0442\\u044c\\u0441\\u044f\", \"\\u0441\\u043b\\u0443\\u0447\\u0430\\u0439\", \"\\u043f\\u0440\\u043e\\u0441\\u0442\\u043e\", \"\\u0437\\u043d\\u0430\\u0447\\u0435\\u043d\\u0438\\u0435\", \"\\u043a\\u043e\\u043c\\u043f\\u0430\\u043d\\u0438\\u044f\", \"\\u0441\\u0442\\u0440\\u0438\\u043c\", \"\\u0440\\u0435\\u0430\\u043a\\u0442\\u0438\\u0432\\u043d\\u044b\\u0439 \\u0441\\u0442\\u0440\\u0438\\u043c\", \"\\u0441\\u043a\\u043e\\u043b\\u044c\\u0437\\u044f\\u0449\\u0438\\u0439 \\u0441\\u0440\\u0435\\u0434\\u043d\\u0438\\u0439\", \"\\u0440\\u0435\\u0430\\u043a\\u0442\\u0438\\u0432\", \"\\u0440\\u0435\\u0430\\u043a\\u0442\\u0438\\u0432\\u043d\\u044b\\u0439 \\u0446\\u0435\\u043f\\u043e\\u0447\\u043a\\u0430\", \"\\u0430\\u043a\\u0446\\u0438\\u044f\", \"\\u0441\\u043a\\u043e\\u043b\\u044c\\u0437\\u0438\\u0442\\u044c\", \"\\u0442\\u043e\\u043d\", \"\\u0446\\u0435\\u043d\\u0430 \\u0437\\u0430\\u043a\\u0440\\u044b\\u0442\\u0438\\u0435\", \"\\u0441\\u0443\\u0431\\u0442\\u0438\\u0442\\u0440\", \"\\u0441\\u043c\\u0435\\u043d\\u0430 \\u043f\\u043e\\u0442\\u043e\\u043a\", \"\\u0438\\u0435\\u0440\\u043e\\u0433\\u043b\\u0438\\u0444\", \"\\u0441\\u043a\\u043e\\u043b\\u044c\\u0437\\u044f\\u0449\\u0438\\u0439\", \"\\u0441\\u043a\\u043e\\u043b\\u044c\\u0437\\u0438\\u0442\\u044c \\u0441\\u0440\\u0435\\u0434\\u043d\\u0438\\u0439\", \"\\u0441\\u0442\\u044d\\u043a\", \"\\u043f\\u0440\\u043e\\u0433\\u043d\\u043e\\u0437\\u0438\\u0440\\u043e\\u0432\\u0430\\u043d\\u0438\\u0435\", \"\\u0433\\u0435\\u0440\\u043a\\u043e\\u043d\", \"\\u0440\\u0435\\u0430\\u043a\\u0442\\u0438\\u0432\\u043d\\u044b\\u0439\", \"\\u0437\\u0430\\u043f\\u0440\\u043e\\u0441 \\u044d\\u043b\\u0435\\u043c\\u0435\\u043d\\u0442\", \"\\u0440\\u0435\\u0430\\u043a\\u0442\\u0438\\u0432\\u043d\\u044b\\u0439 \\u043f\\u043e\\u0434\\u0445\\u043e\\u0434\", \"\\u0438\\u0437\\u043c\\u0435\\u043d\\u0435\\u043d\\u0438\\u0435 \\u0446\\u0435\\u043d\\u0430\", \"\\u0440\\u0430\\u0431\\u043e\\u0442\\u0430 \\u0432\\u0440\\u0435\\u043c\\u0435\\u043d\\u043d\\u044b\\u0439\", \"\\u0446\\u0435\\u043d\\u0430 \\u0430\\u043a\\u0446\\u0438\\u044f\", \"\\u043f\\u043e\\u0434\\u043f\\u0438\\u0441\\u043a\\u0430\", \"\\u0442\\u043e\\u0447\\u043a\\u0430 \\u043b\\u043e\\u0433\\u0438\\u0440\\u043e\\u0432\\u0430\\u043d\\u0438\\u0435\", \"\\u044d\\u043b\\u0435\\u043c\\u0435\\u043d\\u0442 \\u0441\\u0442\\u0440\\u0438\\u043c\", \"\\u0441\\u043d\\u0438\\u0437\\u0443 \\u0432\\u0432\\u0435\\u0440\\u0445\", \"\\u0435\\u0436\\u0435\\u0434\\u043d\\u0435\\u0432\\u043d\\u044b\\u0439\", \"\\u0440\\u0430\\u0431\\u043e\\u0442\\u0430 \\u0432\\u0440\\u0435\\u043c\\u0435\\u043d\\u043d\\u044b\\u0439 \\u0440\\u044f\\u0434\", \"\\u0440\\u0430\\u0437\\u043c\\u0435\\u0440 \\u043e\\u043a\\u043d\\u043e\", \"\\u043a\\u0430\\u043d\\u0434\\u0438\\u0434\\u0430\\u0442\", \"\\u043a\\u0438\\u0442\\u0430\\u0439\\u0441\\u043a\\u0438\\u0439\", \"\\u043e\\u043f\\u0435\\u0440\\u0430\\u0442\\u043e\\u0440\", \"\\u043f\\u043e\\u0442\\u043e\\u043a\", \"\\u0432\\u0440\\u0435\\u043c\\u0435\\u043d\\u043d\\u044b\\u0439 \\u0440\\u044f\\u0434\", \"\\u0446\\u0435\\u043f\\u043e\\u0447\\u043a\\u0430\", \"\\u043e\\u0442\\u043c\\u0435\\u043d\\u0430\", \"\\u0432\\u0440\\u0435\\u043c\\u0435\\u043d\\u043d\\u044b\\u0439\", \"\\u0441\\u0440\\u0435\\u0434\\u043d\\u0438\\u0439\", \"\\u0432\\u0430\\u043a\\u0430\\u043d\\u0441\\u0438\\u044f\", \"\\u0432\\u0432\\u0435\\u0440\\u0445\", \"\\u043a\\u043e\\u043d\\u0442\\u0435\\u043a\\u0441\\u0442\", \"\\u0440\\u044f\\u0434\", \"\\u044d\\u043b\\u0435\\u043c\\u0435\\u043d\\u0442\", \"\\u043c\\u0435\\u0442\\u043e\\u0434\", \"\\u043e\\u043a\\u043d\\u043e\", \"\\u0446\\u0435\\u043d\\u0430\", \"\\u0438\\u0441\\u043f\\u043e\\u043b\\u043d\\u0435\\u043d\\u0438\\u0435\", \"\\u0434\\u0430\\u043d\\u043d\\u044b\\u0435\", \"\\u0441\\u043e\\u0431\\u044b\\u0442\\u0438\\u0435\", \"\\u0437\\u0430\\u043f\\u0440\\u043e\\u0441\", \"\\u043c\\u043e\\u0447\\u044c\", \"\\u043a\\u043e\\u043b\\u0438\\u0447\\u0435\\u0441\\u0442\\u0432\\u043e\", \"\\u043a\\u043e\\u043c\\u043f\\u0430\\u043d\\u0438\\u044f\", \"\\u043d\\u0430\\u043f\\u0440\\u0438\\u043c\\u0435\\u0440\", \"\\u0440\\u0430\\u0431\\u043e\\u0442\\u0430\", \"\\u043f\\u0440\\u0438\\u043b\\u043e\\u0436\\u0435\\u043d\\u0438\\u0435\", \"\\u043c\\u0435\\u0442\\u0440\\u0438\\u043a\\u0430\", \"\\u0437\\u043d\\u0430\\u0447\\u0435\\u043d\\u0438\\u0435\", \"\\u043d\\u043e\\u0432\\u044b\\u0439\", \"\\u0438\\u0441\\u043f\\u043e\\u043b\\u044c\\u0437\\u043e\\u0432\\u0430\\u0442\\u044c\", \"\\u043a\\u043e\\u0434\", \"\\u0432\\u0435\\u0441\\u044c\", \"\\u043f\\u0435\\u0440\\u0432\\u044b\\u0439\", \"\\u043c\\u043e\\u0434\\u0435\\u043b\\u044c\", \"\\u0434\\u0430\\u043d\\u043d\\u044b\\u0439\", \"\\u043b\\u0438\\u0434\\u0430\\u0440\", \"\\u043d\\u043e\\u043c\\u0438\\u043d\\u0430\\u0446\\u0438\\u044f\", \"\\u0442\\u0435\\u0445\\u043d\\u0438\\u0447\\u0435\\u0441\\u043a\\u0438\\u0439 \\u0431\\u0430\\u043b\\u043b\", \"\\u0431\\u0435\\u0441\\u043f\\u0438\\u043b\\u043e\\u0442\\u043d\\u044b\\u0439\", \"\\u0431\\u043b\\u043e\\u0433 \\u043a\\u043e\\u043c\\u043f\\u0430\\u043d\\u0438\\u044f\", \"\\u0441\\u0443\\u043c\\u043c\\u0430 \\u0442\\u0435\\u0445\\u043d\\u0438\\u0447\\u0435\\u0441\\u043a\\u0438\\u0439\", \"\\u0441\\u0443\\u043c\\u043c\\u0430 \\u0442\\u0435\\u0445\\u043d\\u0438\\u0447\\u0435\\u0441\\u043a\\u0438\\u0439 \\u0431\\u0430\\u043b\\u043b\", \"\\u043f\\u043e\\u0431\\u0435\\u0434\\u0438\\u0442\\u0435\\u043b\\u044c\", \"\\u0440\\u0430\\u0434\\u0430\\u0440\", \"\\u0441\\u0443\\u0434\\u0435\\u0439\\u0441\\u0442\\u0432\\u043e\", \"\\u0441\\u0443\\u0434\\u0435\\u0439\\u0441\\u0442\\u0432\\u043e \\u0441\\u043f\\u0430\\u0441\\u0438\\u0431\\u043e\", \"\\u0431\\u0430\\u043b\\u043b\", \"\\u0431\\u0435\\u0441\\u043f\\u0438\\u043b\\u043e\\u0442\\u043d\\u044b\\u0439 \\u0430\\u0432\\u0442\\u043e\\u043c\\u043e\\u0431\\u0438\\u043b\\u044c\", \"\\u0438\\u0437\\u0431\\u0440\\u0430\\u043d\\u043d\\u044b\\u0439\", \"\\u043d\\u0430\\u0437\\u0432\\u0430\\u043d\\u0438\\u0435 \\u0441\\u0442\\u0430\\u043d\\u0446\\u0438\\u044f\", \"\\u0432\\u0435\\u0441\\u044c \\u0431\\u0430\\u043b\\u043b\", \"\\u0441\\u0443\\u043c\\u043c\\u0430 \\u0432\\u0435\\u0441\\u044c\", \"\\u0441\\u0443\\u043c\\u043c\\u0430 \\u0432\\u0435\\u0441\\u044c \\u0431\\u0430\\u043b\\u043b\", \"\\u043f\\u0437\\u0443\", \"\\u0430\\u0432\\u0442\\u043e\", \"\\u0442\\u0440\\u0430\\u043d\\u0441\\u043f\\u043e\\u0440\\u0442\\u043d\\u044b\\u0439 \\u0441\\u0440\\u0435\\u0434\\u0441\\u0442\\u0432\\u043e\", \"\\u0430\\u0432\\u0442\\u043e\\u043c\\u043e\\u0431\\u0438\\u043b\\u044c\", \"\\u0432\\u043e\\u0434\\u0438\\u0442\\u0435\\u043b\\u044c\", \"\\u0434\\u0435\\u0442\\u0435\\u043a\\u0446\\u0438\\u044f\", \"\\u043a\\u043b\\u0430\\u0432\\u0438\\u0448\\u0430\", \"\\u0441\\u043f\\u0430\\u0441\\u0438\\u0431\\u043e\", \"\\u0430\\u0432\\u0442\\u043e\\u043c\\u043e\\u0431\\u0438\\u043b\\u044c\\u043d\\u044b\\u0439\", \"\\u0432\\u043e\\u0436\\u0434\\u0435\\u043d\\u0438\\u0435\", \"\\u0440\\u043e\\u0431\\u043e\\u0442\\u0430\\u043a\\u0441\\u0438\", \"\\u0441\\u0432\\u0440\\u0442\\u043e\\u0447\\u043d\\u044b\\u0439\", \"\\u043a\\u043e\\u043d\\u0442\\u0440\\u043e\\u043b\\u044c\\u043d\\u044b\\u0439 \\u0441\\u0443\\u043c\\u043c\\u0430\", \"\\u0441\\u0442\\u0430\\u043d\\u0446\\u0438\\u044f\", \"\\u043a\\u043e\\u043d\\u043a\\u0443\\u0440\\u0441\", \"\\u043a\\u043e\\u043d\\u0442\\u0440\\u043e\\u043b\\u044c\\u043d\\u044b\\u0439\", \"\\u0441\\u0443\\u043c\\u043c\\u0430\", \"\\u0431\\u043b\\u043e\\u0433\", \"\\u043a\\u043e\\u043c\\u043f\\u044c\\u044e\\u0442\\u0435\\u0440\\u043d\\u044b\\u0439 \\u0437\\u0440\\u0435\\u043d\\u0438\\u0435\", \"\\u043a\\u0430\\u043c\\u0435\\u0440\\u0430\", \"\\u0442\\u0435\\u0445\\u043d\\u0438\\u0447\\u0435\\u0441\\u043a\\u0438\\u0439\", \"\\u0441\\u0442\\u0430\\u0442\\u044c\\u044f\", \"\\u0434\\u0430\\u0442\\u0447\\u0438\\u043a\", \"\\u043e\\u0431\\u044a\\u0435\\u043a\\u0442\", \"\\u043a\\u043e\\u0434\", \"\\u043f\\u0440\\u043e\\u0433\\u0440\\u0430\\u043c\\u043c\\u0430\", \"\\u043f\\u0440\\u043e\\u0435\\u043a\\u0442\", \"\\u0432\\u0435\\u0441\\u044c\", \"\\u043f\\u0440\\u0438\\u043b\\u043e\\u0436\\u0435\\u043d\\u0438\\u0435\", \"\\u043a\\u043e\\u043c\\u043f\\u0430\\u043d\\u0438\\u044f\", \"\\u044f\\u0437\\u044b\\u043a\", \"\\u0441\\u043f\\u0438\\u0441\\u043e\\u043a\", \"\\u043c\\u043e\\u0447\\u044c\", \"\\u0437\\u0440\\u0435\\u043d\\u0438\\u0435\", \"\\u0441\\u0438\\u0441\\u0442\\u0435\\u043c\\u0430\", \"\\u0430\\u0432\\u0442\\u043e\\u0440\", \"\\u0440\\u0430\\u0431\\u043e\\u0442\\u0430\\u0442\\u044c\", \"\\u043f\\u043e\\u043c\\u043e\\u0449\\u044c\", \"\\u0444\\u0430\\u0439\\u043b\", \"\\u043f\\u043e\\u0437\\u0432\\u043e\\u043b\\u044f\\u0442\\u044c\", \"\\u0434\\u0430\\u043d\\u043d\\u044b\\u0435\", \"\\u0441\\u0432\\u0430\\u0440\\u043a\\u0430\", \"\\u0443\\u043b\\u044c\\u0442\\u0440\\u0430\\u0437\\u0432\\u0443\\u043a\\u043e\\u0432\\u043e\\u0439 \\u0441\\u0432\\u0430\\u0440\\u043a\\u0430\", \"\\u043d\\u0430\\u043a\\u043e\\u043d\\u0435\\u0447\\u043d\\u0438\\u043a\", \"\\u043e\\u043f\\u043e\\u0432\\u0435\\u0449\\u0435\\u043d\\u0438\\u0435\", \"\\u0443\\u043b\\u044c\\u0442\\u0440\\u0430\\u0437\\u0432\\u0443\\u043a\", \"\\u0443\\u043b\\u044c\\u0442\\u0440\\u0430\\u0437\\u0432\\u0443\\u043a\\u043e\\u0432\\u043e\\u0439\", \"\\u043a\\u0430\\u0447\\u0435\\u0441\\u0442\\u0432\\u043e \\u0437\\u0432\\u0443\\u043a\", \"\\u0441\\u0432\\u0430\\u0440\\u043e\\u0447\\u043d\\u044b\\u0439\", \"\\u0444\\u0430\\u0431\\u043b\\u0430\\u0431\", \"\\u043f\\u0440\\u0435\\u043e\\u0431\\u0440\\u0430\\u0437\\u043e\\u0432\\u0430\\u0442\\u0435\\u043b\\u044c\", \"\\u043f\\u0440\\u0435\\u043e\\u0431\\u0440\\u0430\\u0437\\u043e\\u0432\\u0430\\u0442\\u0435\\u043b\\u044c \\u0438\\u043d\\u0442\\u0435\\u0440\\u0444\\u0435\\u0439\\u0441\", \"\\u0438\\u0437\\u0433\\u043e\\u0442\\u043e\\u0432\\u043b\\u0435\\u043d\\u0438\\u0435\", \"\\u043a\\u0430\\u043d\\u0430\\u043b\\u044c\\u043d\\u044b\\u0439 \\u0443\\u0440\\u043e\\u0432\\u0435\\u043d\\u044c\", \"\\u0441\\u0438\\u0441\\u0442\\u0435\\u043c\\u0430 \\u043f\\u0440\\u0438\\u043b\\u043e\\u0436\\u0435\\u043d\\u0438\\u0435\", \"\\u0438\\u0437\\u043c\\u0435\\u0440\\u0435\\u043d\\u0438\\u0435 \\u043a\\u0430\\u0447\\u0435\\u0441\\u0442\\u0432\\u043e\", \"\\u043a\\u043e\\u043d\\u0442\\u0435\\u043a\\u0441\\u0442 \\u0442\\u0440\\u0435\\u0439\\u0441\", \"\\u0442\\u0435\\u043f\\u043b\\u043e\\u0432\\u0438\\u0437\\u043e\\u0440\", \"\\u0446\\u0435\\u043f\\u044c \\u043f\\u0438\\u0442\\u0430\\u043d\\u0438\\u0435\", \"\\u043c\\u0435\\u0439\\u043a\\u0435\\u0440\\u0441\\u043a\\u0438\\u0439\", \"\\u043c\\u0435\\u0439\\u043a\\u0435\\u0440\\u0441\\u043a\\u0438\\u0439 \\u0434\\u0432\\u0438\\u0436\\u0435\\u043d\\u0438\\u0435\", \"\\u043f\\u043e\\u0434\\u0430\\u0432\\u043b\\u0435\\u043d\\u0438\\u0435\", \"\\u0441\\u0435\\u0440\\u0438\\u0439\\u043d\\u044b\\u0439\", \"\\u0448\\u0443\\u043c\\u043e\\u043f\\u043e\\u0434\\u0430\\u0432\\u043b\\u0435\\u043d\\u0438\\u0435\", \"\\u043a\\u0433\\u0446\", \"\\u043c\\u0435\\u0442\\u0440\\u0438\\u043a\\u0430 \\u043f\\u0440\\u043e\\u0438\\u0437\\u0432\\u043e\\u0434\\u0438\\u0442\\u0435\\u043b\\u044c\\u043d\\u043e\\u0441\\u0442\\u044c\", \"\\u043f\\u043b\\u0430\\u0441\\u0442\\u043c\\u0430\\u0441\\u0441\\u0430\", \"\\u0446\\u0435\\u043d\\u0442\\u0440 \\u0441\\u0435\\u0440\\u0442\\u0438\\u0444\\u0438\\u043a\\u0430\\u0446\\u0438\\u044f\", \"\\u0432\\u0440\\u0435\\u043c\\u044f \\u043e\\u0442\\u043a\\u043b\\u0438\\u043a\", \"\\u043f\\u043e\\u0432\\u0435\\u0434\\u0435\\u043d\\u0438\\u0435 \\u0441\\u0438\\u0441\\u0442\\u0435\\u043c\\u0430\", \"\\u043f\\u0440\\u043e\\u0438\\u0437\\u0432\\u043e\\u0434\\u0438\\u0442\\u0435\\u043b\\u044c\\u043d\\u043e\\u0441\\u0442\\u044c \\u043f\\u043e\\u0432\\u0435\\u0434\\u0435\\u043d\\u0438\\u0435\", \"\\u0442\\u0440\\u0435\\u0439\\u0441\", \"\\u0437\\u0432\\u043e\\u043d\\u043e\\u043a\", \"\\u0431\\u0440\\u043e\\u043a\\u0435\\u0440\", \"\\u0437\\u0430\\u043c\\u044b\\u043a\\u0430\\u043d\\u0438\\u0435\", \"\\u043c\\u0435\\u0442\\u0430\\u043b\\u043b\", \"\\u043c\\u0430\\u0442\\u0435\\u0440\\u0438\\u0430\\u043b\", \"\\u043d\\u043e\\u0443\\u0442\\u0431\\u0443\\u043a\", \"\\u043a\\u0430\\u0431\\u0435\\u043b\\u044c\", \"\\u043f\\u043b\\u0430\\u0442\\u0430\", \"\\u043f\\u0435\\u0440\\u0435\\u0434\\u0430\\u0447\\u0430\", \"\\u043f\\u0438\\u0442\\u0430\\u043d\\u0438\\u0435\", \"\\u0443\\u0441\\u0442\\u0440\\u043e\\u0439\\u0441\\u0442\\u0432\\u043e\", \"\\u0434\\u0435\\u0442\\u0430\\u043b\\u044c\", \"\\u0438\\u0437\\u043c\\u0435\\u0440\\u0435\\u043d\\u0438\\u0435\", \"\\u043f\\u0430\\u0440\\u0442\\u0438\\u044f\", \"\\u0441\\u0438\\u0441\\u0442\\u0435\\u043c\\u0430\", \"\\u043a\\u0430\\u0447\\u0435\\u0441\\u0442\\u0432\\u043e\", \"\\u043b\\u043e\\u0433\\u0438\\u0440\\u043e\\u0432\\u0430\\u043d\\u0438\\u0435\", \"\\u0437\\u0432\\u0443\\u043a\", \"\\u043c\\u043e\\u0447\\u044c\", \"\\u043f\\u043e\\u0440\\u0442\", \"\\u043f\\u0440\\u043e\\u0431\\u043b\\u0435\\u043c\\u0430\", \"\\u043c\\u0435\\u0442\\u0440\\u0438\\u043a\\u0430\", \"\\u0438\\u0441\\u043f\\u043e\\u043b\\u044c\\u0437\\u043e\\u0432\\u0430\\u043d\\u0438\\u0435\", \"\\u0440\\u0430\\u0431\\u043e\\u0442\\u0430\\u0442\\u044c\", \"\\u0440\\u0430\\u0431\\u043e\\u0442\\u0430\", \"\\u0441\\u0435\\u0442\\u0435\\u0432\\u043e\\u0439\", \"\\u0441\\u0435\\u0442\\u044c\", \"\\u043f\\u043e\\u043c\\u043e\\u0449\\u044c\", \"\\u043a\\u043e\\u043c\\u0430\\u043d\\u0434\\u0430\", \"\\u0438\\u0441\\u043f\\u043e\\u043b\\u044c\\u0437\\u043e\\u0432\\u0430\\u0442\\u044c\", \"\\u0438\\u043d\\u0442\\u0435\\u0440\\u043d\\u0435\\u0442\", \"\\u043f\\u043e\\u0437\\u0432\\u043e\\u043b\\u044f\\u0442\\u044c\", \"\\u043f\\u043e\\u044d\\u0442\\u043e\\u043c\\u0443\", \"\\u0432\\u0435\\u0441\\u044c\", \"\\u043f\\u0440\\u0438\\u043b\\u043e\\u0436\\u0435\\u043d\\u0438\\u0435\", \"\\u0434\\u0430\\u043d\\u043d\\u044b\\u0435\", \"\\u043f\\u043e\\u043b\\u0443\\u0447\\u0430\\u0442\\u044c\", \"\\u0432\\u0440\\u0435\\u043c\\u044f\", \"\\u043f\\u0430\\u043a\\u0435\\u0442\", \"\\u0434\\u0435\\u043b\\u0430\\u0442\\u044c\", \"\\u043f\\u0435\\u0440\\u0432\\u044b\\u0439\", \"\\u0447\\u0435\\u043b\\u043e\\u0432\\u0435\\u043a\", \"\\u043d\\u0430\\u043f\\u0440\\u0438\\u043c\\u0435\\u0440\", \"\\u043c\\u043e\\u0431\\u0438\\u043b\\u044c\\u043d\\u044b\\u0439 \\u0443\\u0441\\u0442\\u0440\\u043e\\u0439\\u0441\\u0442\\u0432\\u043e\", \"\\u043c\\u0431\\u0430\\u0439\\u0442\", \"\\u0441\\u043b\\u043e\\u0442 \\u043f\\u0430\\u043c\\u044f\\u0442\\u044c\", \"\\u043a\\u044d\\u0448\\u0438\\u0440\\u043e\\u0432\\u0430\\u043d\\u0438\\u0435\", \"\\u043f\\u043b\\u0430\\u0442\\u0430 \\u0440\\u0430\\u0441\\u043f\\u043e\\u043b\\u0430\\u0433\\u0430\\u0442\\u044c\", \"\\u043f\\u0440\\u043e\\u0446\\u0435\\u0441\\u0441\\u043e\\u0440 \\u0432\\u0432\\u043e\\u0434\", \"\\u043f\\u0440\\u043e\\u0446\\u0435\\u0441\\u0441\\u043e\\u0440 \\u0432\\u0432\\u043e\\u0434 \\u0432\\u044b\\u0432\\u043e\\u0434\", \"\\u0443\\u0441\\u0442\\u0440\\u043e\\u0439\\u0441\\u0442\\u0432\\u043e \\u043f\\u0440\\u0435\\u0434\\u043e\\u0441\\u0442\\u0430\\u0432\\u043b\\u044f\\u0442\\u044c\", \"\\u043f\\u043e\\u0434\\u043a\\u043b\\u0430\\u0441\\u0441\", \"\\u043e\\u0441\\u043d\\u043e\\u0432\\u043d\\u043e\\u0439 \\u043f\\u0440\\u0438\\u043d\\u0446\\u0438\\u043f\", \"\\u0448\\u0430\\u0441\\u0441\\u0438\", \"\\u0432\\u044b\\u0434\\u0435\\u043b\\u044f\\u0442\\u044c \\u0441\\u043b\\u043e\\u0442\", \"\\u043a\\u0440\\u044b\\u0448\\u043a\\u0430\", \"\\u0447\\u0430\\u0441\\u0442\\u044c \\u0448\\u0430\\u0441\\u0441\\u0438\", \"\\u0448\\u0438\\u043d\\u0430 \\u043c\\u0433\\u0446\", \"\\u0441\\u0435\\u0442\\u0435\\u0432\\u043e\\u0439 \\u043f\\u0440\\u043e\\u0442\\u043e\\u043a\\u043e\\u043b\", \"\\u0437\\u0430\\u043a\\u0440\\u044b\\u0442\\u043e\\u0441\\u0442\\u044c\", \"\\u0434\\u0440\\u0430\\u0439\\u0432\\u0435\\u0440 \\u0443\\u0441\\u0442\\u0440\\u043e\\u0439\\u0441\\u0442\\u0432\\u043e\", \"\\u043a\\u043e\\u043c\\u043f\\u043e\\u043d\\u0435\\u043d\\u0442 \\u043e\\u043f\\u0435\\u0440\\u0430\\u0446\\u0438\\u043e\\u043d\\u043d\\u044b\\u0439\", \"\\u043f\\u0435\\u0440\\u0432\\u044b\\u0439 \\u043e\\u043f\\u0435\\u0440\\u0430\\u0446\\u0438\\u043e\\u043d\\u043d\\u044b\\u0439\", \"\\u043f\\u0435\\u0440\\u0432\\u044b\\u0439 \\u043e\\u043f\\u0435\\u0440\\u0430\\u0446\\u0438\\u043e\\u043d\\u043d\\u044b\\u0439 \\u0441\\u0438\\u0441\\u0442\\u0435\\u043c\\u0430\", \"\\u043f\\u043b\\u0430\\u043d\\u0448\\u0435\\u0442\\u043d\\u044b\\u0439\", \"\\u043f\\u043b\\u0430\\u043d\\u0448\\u0435\\u0442\\u043d\\u044b\\u0439 \\u043a\\u043e\\u043c\\u043f\\u044c\\u044e\\u0442\\u0435\\u0440\", \"\\u043f\\u0440\\u0435\\u0434\\u043e\\u0441\\u0442\\u0430\\u0432\\u043b\\u044f\\u0442\\u044c \\u0448\\u0438\\u0440\\u043e\\u043a\\u0438\\u0439 \\u043d\\u0430\\u0431\\u043e\\u0440\", \"\\u0441\\u0438\\u0441\\u0442\\u0435\\u043c\\u0430 \\u043c\\u043e\\u0431\\u0438\\u043b\\u044c\\u043d\\u044b\\u0439\", \"\\u0441\\u0438\\u0441\\u0442\\u0435\\u043c\\u0430 \\u043c\\u043e\\u0431\\u0438\\u043b\\u044c\\u043d\\u044b\\u0439 \\u0443\\u0441\\u0442\\u0440\\u043e\\u0439\\u0441\\u0442\\u0432\\u043e\", \"\\u0441\\u043c\\u0430\\u0440\\u0442\\u0444\\u043e\\u043d \\u043f\\u043b\\u0430\\u043d\\u0448\\u0435\\u0442\\u043d\\u044b\\u0439\", \"\\u0441\\u043c\\u0430\\u0440\\u0442\\u0444\\u043e\\u043d \\u043f\\u043b\\u0430\\u043d\\u0448\\u0435\\u0442\\u043d\\u044b\\u0439 \\u043a\\u043e\\u043c\\u043f\\u044c\\u044e\\u0442\\u0435\\u0440\", \"\\u0443\\u043f\\u0440\\u0430\\u0432\\u043b\\u0435\\u043d\\u0438\\u0435 \\u0444\\u0430\\u0439\\u043b\", \"\\u0443\\u0441\\u0442\\u0440\\u043e\\u0439\\u0441\\u0442\\u0432\\u043e \\u043f\\u0440\\u0435\\u0434\\u043e\\u0441\\u0442\\u0430\\u0432\\u043b\\u044f\\u0442\\u044c \\u0448\\u0438\\u0440\\u043e\\u043a\\u0438\\u0439\", \"\\u043e\\u043f\\u0435\\u0440\\u0430\\u0446\\u0438\\u043e\\u043d\\u043d\\u044b\\u0439 \\u0441\\u0438\\u0441\\u0442\\u0435\\u043c\\u0430\", \"\\u043e\\u043f\\u0435\\u0440\\u0430\\u0446\\u0438\\u043e\\u043d\\u043d\\u044b\\u0439\", \"\\u043a\\u044d\\u0448\\u0438\\u0440\\u043e\\u0432\\u0430\\u0442\\u044c\", \"\\u0447\\u0438\\u043f\\u0441\\u0435\\u0442\", \"\\u0440\\u0430\\u0441\\u043f\\u043e\\u043b\\u0430\\u0433\\u0430\\u0442\\u044c\", \"\\u0432\\u0432\\u043e\\u0434 \\u0432\\u044b\\u0432\\u043e\\u0434\", \"\\u043a\\u0435\\u0448\", \"\\u0441\\u043b\\u043e\\u0442\", \"\\u043f\\u0440\\u0438\\u043d\\u0446\\u0438\\u043f\", \"\\u0434\\u0440\\u0430\\u0439\\u0432\\u0435\\u0440\", \"\\u043c\\u043e\\u0434\\u0443\\u043b\\u044c\", \"\\u043a\\u043e\\u043d\\u0442\\u0440\\u043e\\u043b\\u043b\\u0435\\u0440\", \"\\u0441\\u0435\\u0442\\u0435\\u0432\\u043e\\u0439 \\u043a\\u0430\\u0440\\u0442\\u0430\", \"\\u0432\\u0432\\u043e\\u0434\", \"\\u043a\\u043e\\u043c\\u043f\\u044c\\u044e\\u0442\\u0435\\u0440\", \"\\u043a\\u0430\\u0440\\u0442\\u0430\", \"\\u0441\\u0438\\u0441\\u0442\\u0435\\u043c\\u0430\", \"\\u043a\\u043e\\u043b\\u043b\\u0435\\u043a\\u0446\\u0438\\u044f\", \"\\u0430\\u0431\\u0441\\u0442\\u0440\\u0430\\u043a\\u0446\\u0438\\u044f\", \"\\u0443\\u0441\\u0442\\u0440\\u043e\\u0439\\u0441\\u0442\\u0432\\u043e\", \"\\u043f\\u043b\\u0430\\u0442\\u0430\", \"\\u043f\\u0440\\u043e\\u0446\\u0435\\u0441\\u0441\\u043e\\u0440\", \"\\u043e\\u0431\\u0435\\u0441\\u043f\\u0435\\u0447\\u0438\\u0432\\u0430\\u0442\\u044c\", \"\\u043f\\u0440\\u043e\\u0433\\u0440\\u0430\\u043c\\u043c\\u043d\\u044b\\u0439\", \"\\u0438\\u043d\\u0442\\u0435\\u0440\\u0444\\u0435\\u0439\\u0441\", \"\\u043f\\u0430\\u043c\\u044f\\u0442\\u044c\", \"\\u044f\\u0434\\u0440\\u043e\", \"\\u0432\\u044b\\u0432\\u043e\\u0434\", \"\\u0434\\u0438\\u0441\\u043a\", \"\\u0441\\u0435\\u0440\\u0432\\u0435\\u0440\", \"\\u0440\\u0430\\u0431\\u043e\\u0442\\u0430\", \"\\u0438\\u0441\\u043f\\u043e\\u043b\\u044c\\u0437\\u043e\\u0432\\u0430\\u0442\\u044c\", \"\\u0434\\u0430\\u043d\\u043d\\u044b\\u0435\", \"\\u0443\\u043f\\u0440\\u0430\\u0432\\u043b\\u0435\\u043d\\u0438\\u0435\", \"\\u043c\\u043e\\u0447\\u044c\", \"\\u043e\\u0441\\u043d\\u043e\\u0432\\u043d\\u043e\\u0439\", \"\\u0432\\u0440\\u0435\\u043c\\u044f\", \"\\u0440\\u0435\\u0441\\u0443\\u0440\\u0441\", \"\\u0432\\u0435\\u0441\\u044c\", \"\\u043f\\u0440\\u043e\\u0441\\u0442\\u0440\\u0430\\u043d\\u0441\\u0442\\u0432\\u043e \\u0438\\u043c\\u044f\", \"\\u0430\\u043d\\u043e\\u043d\\u0438\\u043c\\u043d\\u044b\\u0439 \\u043f\\u0440\\u043e\\u0441\\u0442\\u0440\\u0430\\u043d\\u0441\\u0442\\u0432\\u043e\", \"\\u0430\\u043d\\u043e\\u043d\\u0438\\u043c\\u043d\\u044b\\u0439 \\u043f\\u0440\\u043e\\u0441\\u0442\\u0440\\u0430\\u043d\\u0441\\u0442\\u0432\\u043e \\u0438\\u043c\\u044f\", \"\\u043a\\u0432\\u0430\\u043d\\u0442\\u0438\\u043b\\u044c\", \"\\u0432\\u043d\\u0443\\u0442\\u0440\\u0435\\u043d\\u043d\\u0438\\u0439 \\u0441\\u0432\\u044f\\u0437\\u044c\", \"\\u0435\\u0434\\u0438\\u043d\\u0438\\u0446\\u0430 \\u0442\\u0440\\u0430\\u043d\\u0441\\u043b\\u044f\\u0446\\u0438\\u044f\", \"\\u0430\\u043f\\u0433\\u0440\\u0435\\u0439\\u0434\", \"\\u043e\\u0442\\u0432\\u0435\\u0447\\u0430\\u0442\\u044c \\u0432\\u043e\\u043f\\u0440\\u043e\\u0441\", \"\\u0432\\u0438\\u0434\\u0438\\u043c\\u043e\\u0441\\u0442\\u044c\", \"\\u043a\\u0430\\u0440\\u043f\\u0430\\u0442\\u044b\", \"\\u0431\\u0435\\u043b\\u044b\\u0439 \\u0441\\u043f\\u0438\\u0441\\u043e\\u043a\", \"\\u0432\\u0435\\u0434\\u0435\\u043d\\u0438\\u0435\", \"\\u0432\\u0435\\u0434\\u0435\\u043d\\u0438\\u0435 \\u0436\\u0443\\u0440\\u043d\\u0430\\u043b\", \"\\u043a\\u043e\\u043d\\u0442\\u0435\\u0439\\u043d\\u0435\\u0440 \\u0438\\u043c\\u044f\", \"\\u043a\\u043e\\u043d\\u0442\\u0435\\u0439\\u043d\\u0435\\u0440 \\u0438\\u043c\\u044f \\u043f\\u043e\\u043b\\u044c\\u0437\\u043e\\u0432\\u0430\\u0442\\u0435\\u043b\\u044c\", \"\\u043c\\u0435\\u0442\\u043e\\u0434 \\u043e\\u0431\\u0435\\u0441\\u043f\\u0435\\u0447\\u0435\\u043d\\u0438\\u0435\", \"\\u043c\\u0435\\u0442\\u043e\\u0434 \\u043e\\u0431\\u0435\\u0441\\u043f\\u0435\\u0447\\u0435\\u043d\\u0438\\u0435 \\u0431\\u0435\\u0437\\u043e\\u043f\\u0430\\u0441\\u043d\\u043e\\u0441\\u0442\\u044c\", \"\\u0430\\u043d\\u043e\\u043d\\u0438\\u043c\\u043d\\u044b\\u0439\", \"\\u0441\\u0435\\u0440\\u0432\\u0435\\u0440 \\u0440\\u0435\\u043b\\u0435\", \"\\u0437\\u0430\\u0449\\u0438\\u0442\\u0430 \\u043a\\u043b\\u0430\\u0441\\u0442\\u0435\\u0440\", \"\\u043a\\u043b\\u0430\\u0441\\u0442\\u0435\\u0440 \\u0430\\u0442\\u0430\\u043a\\u0430\", \"\\u0441\\u0443\\u0431\\u044a\\u0435\\u043a\\u0442\", \"\\u0434\\u0440\\u043e\\u0437\\u043e\\u0444\\u0438\\u043b\\u0430\", \"\\u043f\\u043b\\u0430\\u0432\\u0430\\u0442\\u044c \\u0430\\u0434\\u0440\\u0435\\u0441\", \"\\u043f\\u0443\\u0431\\u043b\\u0438\\u0447\\u043d\\u044b\\u0439 \\u0441\\u0435\\u0442\\u044c\", \"\\u0444\\u0438\\u0434\\u0431\\u0435\\u043a\", \"\\u0432\\u0438\\u0434\\u0438\\u043c\\u043e\\u0441\\u0442\\u044c \\u043f\\u0440\\u043e\\u0441\\u0442\\u0440\\u0430\\u043d\\u0441\\u0442\\u0432\\u043e\", \"\\u0432\\u0438\\u0434\\u0438\\u043c\\u043e\\u0441\\u0442\\u044c \\u043f\\u0440\\u043e\\u0441\\u0442\\u0440\\u0430\\u043d\\u0441\\u0442\\u0432\\u043e \\u0438\\u043c\\u044f\", \"\\u0433\\u043b\\u043e\\u0431\\u0430\\u043b\\u044c\\u043d\\u044b\\u0439 \\u043e\\u0431\\u043b\\u0430\\u0441\\u0442\\u044c\", \"\\u0433\\u043b\\u043e\\u0431\\u0430\\u043b\\u044c\\u043d\\u044b\\u0439 \\u043e\\u0431\\u043b\\u0430\\u0441\\u0442\\u044c \\u0432\\u0438\\u0434\\u0438\\u043c\\u043e\\u0441\\u0442\\u044c\", \"\\u043a\\u043e\\u043d\\u0444\\u0438\\u0433\\u0443\\u0440\\u0430\\u0442\\u043e\\u0440\", \"\\u043e\\u0431\\u043b\\u0430\\u0441\\u0442\\u044c \\u0432\\u0438\\u0434\\u0438\\u043c\\u043e\\u0441\\u0442\\u044c\", \"\\u0441\\u0442\\u0430\\u0442\\u0438\\u0447\\u0435\\u0441\\u043a\\u0438\\u0439\", \"\\u0430\\u043d\\u0434\\u0440\\u0435\\u0439 \\u043a\\u0430\\u0440\\u043f\\u0430\\u0442\\u044b\", \"\\u0430\\u043d\\u0434\\u0440\\u0435\\u0439\", \"\\u0438\\u043c\\u044f\", \"\\u043f\\u0440\\u043e\\u0441\\u0442\\u0440\\u0430\\u043d\\u0441\\u0442\\u0432\\u043e\", \"\\u0434\\u0435\\u0432\\u0430\\u0439\\u0441\\u0430\", \"\\u043f\\u043e\\u043b\\u044c\\u0437\\u043e\\u0432\\u0430\\u0442\\u0435\\u043b\\u044c\", \"\\u043c\\u043e\\u043d\\u0438\\u0442\\u043e\\u0440\\u0438\\u043d\\u0433\", \"\\u043d\\u0435\\u0439\\u0440\\u043e\\u0441\\u0435\\u0442\\u044c\", \"\\u043a\\u043b\\u0430\\u0441\\u0442\\u0435\\u0440\", \"\\u043f\\u0440\\u0438\\u043b\\u043e\\u0436\\u0435\\u043d\\u0438\\u0435\", \"\\u043a\\u043b\\u0438\\u0435\\u043d\\u0442\", \"\\u0437\\u0430\\u0449\\u0438\\u0442\\u0430\", \"\\u0441\\u0432\\u044f\\u0437\\u044c\", \"\\u0432\\u043d\\u0443\\u0442\\u0440\\u0435\\u043d\\u043d\\u0438\\u0439\", \"\\u0441\\u0435\\u0440\\u0432\\u0435\\u0440\", \"\\u0432\\u0435\\u0440\\u0441\\u0438\\u044f\", \"\\u0431\\u0435\\u0437\\u043e\\u043f\\u0430\\u0441\\u043d\\u043e\\u0441\\u0442\\u044c\", \"\\u0441\\u0438\\u0441\\u0442\\u0435\\u043c\\u0430\", \"\\u0434\\u043e\\u0441\\u0442\\u0443\\u043f\", \"\\u0433\\u043e\\u0434\", \"\\u043c\\u043e\\u0447\\u044c\", \"\\u043c\\u0435\\u0442\\u0440\\u0438\\u043a\\u0430\", \"\\u0432\\u0435\\u0441\\u044c\", \"\\u043a\\u043e\\u0434\", \"\\u0432\\u0440\\u0435\\u043c\\u044f\", \"\\u0441\\u0442\\u0430\\u043d\\u043e\\u0432\\u0438\\u0442\\u044c\\u0441\\u044f\", \"\\u0437\\u0430\\u043f\\u0440\\u043e\\u0441\", \"\\u0440\\u0430\\u0431\\u043e\\u0442\\u0430\\u0442\\u044c\", \"\\u0441\\u0430\\u043c\\u044b\\u0439\", \"\\u043f\\u0435\\u0440\\u0432\\u044b\\u0439\", \"\\u0432\\u043e\\u0437\\u043c\\u043e\\u0436\\u043d\\u043e\\u0441\\u0442\\u044c\", \"\\u043f\\u0440\\u043e\\u0431\\u043b\\u0435\\u043c\\u0430\", \"\\u043d\\u0430\\u043f\\u0440\\u0438\\u043c\\u0435\\u0440\", \"\\u0444\\u0443\\u043d\\u043a\\u0446\\u0438\\u044f\", \"\\u0433\\u0440\\u0435\\u0439\\u0441\", \"\\u0445\\u043e\\u043f\\u043f\\u0435\\u0440\", \"\\u0442\\u0435\\u0441\\u0442 \\u043a\\u0435\\u0439\\u0441\", \"\\u0433\\u0440\\u0435\\u0439\\u0441 \\u0445\\u043e\\u043f\\u043f\\u0435\\u0440\", \"\\u0432\\u044b\\u0434\\u0435\\u043b\\u044f\\u0442\\u044c \\u0438\\u043d\\u0441\\u0442\\u0430\\u043b\\u043b\\u044f\\u0446\\u0438\\u044f\", \"\\u0448\\u0440\\u0438\\u0444\\u0442\", \"\\u043a\\u043e\\u043c\\u043c\\u0443\\u0442\\u0430\\u0442\\u043e\\u0440 \\u0434\\u043e\\u0441\\u0442\\u0443\\u043f\", \"\\u0438\\u043d\\u0441\\u0442\\u0430\\u043b\\u043b\\u044f\\u0446\\u0438\\u044f\", \"\\u0432\\u043e\\u0435\\u043d\\u043d\\u044b\\u0439\", \"\\u0445\\u0443\\u043c\\u0430\\u043d\\u0438\\u0437\\u0430\\u0446\\u0438\\u044f\", \"\\u043f\\u043e\\u043b\\u044c\\u0437\\u043e\\u0432\\u0430\\u0442\\u0435\\u043b\\u044c\\u0441\\u043a\\u0438\\u0439 \\u0438\\u0441\\u0442\\u043e\\u0440\\u0438\\u044f\", \"\\u043e\\u0431\\u043e\\u0433\\u0440\\u0435\\u0432\", \"\\u0430\\u0434\\u043c\\u0438\\u0440\\u0430\\u043b\", \"\\u043a\\u043e\\u0431\\u043e\\u043b\", \"\\u0447\\u0435\\u043a\", \"\\u0431\\u0430\\u0441\\u0441\\u0435\\u0439\\u043d\", \"\\u0440\\u0435\\u0433\\u0440\\u0435\\u0441\\u0441\\u0438\\u043e\\u043d\\u043d\\u044b\\u0439 \\u0442\\u0435\\u0441\\u0442\", \"\\u0438\\u0441\\u0445\\u043e\\u0434\\u043d\\u044b\\u0439 \\u0442\\u0435\\u043a\\u0441\\u0442\", \"\\u043a\\u0438\\u043d\\u043e\\u0442\\u0435\\u0430\\u0442\\u0440\", \"\\u043f\\u0435\\u0440\\u0441\\u043e\\u043d\\u0430\\u043b\\u0438\\u0437\\u0438\\u0440\\u043e\\u0432\\u0430\\u0442\\u044c\", \"\\u0442\\u043e\\u0440\\u0440\\u0435\\u043d\\u0442\", \"\\u043c\\u0430\\u0442\\u0435\\u043c\\u0430\\u0442\\u0438\\u043a\", \"\\u043e\\u0444\\u0438\\u0446\\u0435\\u0440\", \"\\u0430\\u043d\\u0442\\u0440\\u043e\\u043f\\u043e\\u043c\\u043e\\u0440\\u0444\\u0438\\u0437\\u043c\", \"\\u043c\\u043e\\u044d\", \"\\u0442\\u0430\\u043d\", \"\\u043c\\u0430\\u0440\\u0448\\u0440\\u0443\\u0442\\u0438\\u0437\\u0430\\u0442\\u043e\\u0440\", \"\\u0442\\u044d\\u0433\", \"\\u0431\\u0430\\u0433\", \"\\u0441\\u043f\\u0440\\u0438\\u043d\\u0442\", \"\\u043a\\u0435\\u0439\\u0441\", \"\\u0430\\u043c\\u0435\\u0440\\u0438\\u043a\\u0430\\u043d\\u0441\\u043a\\u0438\\u0439\", \"\\u0440\\u0435\\u0433\\u0440\\u0435\\u0441\\u0441\\u0438\\u043e\\u043d\\u043d\\u044b\\u0439\", \"\\u0444\\u0430\\u0439\\u043b \\u043f\\u0440\\u043e\\u0435\\u043a\\u0442\", \"\\u044f\\u043f\\u043e\\u043d\\u0441\\u043a\\u0438\\u0439\", \"\\u0438\\u043d\\u0434\\u0443\\u0441\\u0442\\u0440\\u0438\\u044f\", \"\\u0442\\u0435\\u0441\\u0442\", \"\\u043a\\u043e\\u043c\\u043c\\u0443\\u0442\\u0430\\u0442\\u043e\\u0440\", \"\\u0432\\u044b\\u0431\\u043e\\u0440\\u043a\\u0430\", \"\\u0431\\u0440\\u0435\\u043d\\u0434\", \"\\u0440\\u0430\\u0437\\u043c\\u0435\\u0442\\u043a\\u0430\", \"\\u0431\\u0440\\u0430\\u0443\\u0437\\u0435\\u0440\", \"\\u0432\\u044b\\u0434\\u0435\\u043b\\u044f\\u0442\\u044c\", \"\\u0434\\u0435\\u0432\\u0443\\u0448\\u043a\\u0430\", \"\\u0430\\u043d\\u043d\\u043e\\u0442\\u0430\\u0446\\u0438\\u044f\", \"\\u0431\\u043e\\u0433\", \"\\u0432\\u043e\\u0434\\u0430\", \"\\u0433\\u043e\\u0434\", \"\\u0441\\u043c\\u043e\\u0442\\u0440\\u0435\\u0442\\u044c\", \"\\u043a\\u043e\\u043d\\u0442\\u0435\\u043d\\u0442\", \"\\u0432\\u0438\\u0434\\u0435\\u043e\", \"\\u0438\\u0441\\u0442\\u043e\\u0440\\u0438\\u044f\", \"\\u0447\\u0435\\u043b\\u043e\\u0432\\u0435\\u043a\", \"\\u0441\\u0435\\u0440\\u0432\\u0435\\u0440\", \"\\u043f\\u0440\\u043e\\u0435\\u043a\\u0442\", \"\\u043a\\u043b\\u0438\\u0435\\u043d\\u0442\", \"\\u0432\\u0435\\u0441\\u044c\", \"\\u043d\\u0443\\u0436\\u043d\\u044b\\u0439\", \"\\u0441\\u0442\\u0430\\u043d\\u043e\\u0432\\u0438\\u0442\\u044c\\u0441\\u044f\", \"\\u0432\\u0440\\u0435\\u043c\\u044f\", \"\\u043c\\u043e\\u0447\\u044c\", \"\\u043f\\u0435\\u0440\\u0432\\u044b\\u0439\", \"\\u043d\\u0430\\u043f\\u0440\\u0438\\u043c\\u0435\\u0440\", \"\\u0444\\u0430\\u0439\\u043b\", \"\\u0441\\u0430\\u043c\\u044b\\u0439\", \"\\u043f\\u0430\\u043a\\u0435\\u0442\", \"\\u043d\\u043e\\u0432\\u044b\\u0439\", \"\\u0438\\u0441\\u043f\\u043e\\u043b\\u044c\\u0437\\u043e\\u0432\\u0430\\u0442\\u044c\", \"\\u0440\\u0430\\u0431\\u043e\\u0442\\u0430\\u0442\\u044c\", \"\\u043f\\u043e\\u043b\\u0443\\u0447\\u0430\\u0442\\u044c\", \"\\u0440\\u0430\\u0441\\u0442\\u0435\\u043d\\u0438\\u0435\", \"\\u0441\\u0443\\u0431\\u0434\", \"\\u0441\\u0435\\u0441\\u0441\\u0438\\u044f\", \"\\u043f\\u0430\\u043a\\u0435\\u0442 \\u0441\\u0443\\u0431\\u0434\", \"\\u0431\\u0430\\u0442\\u0430\\u0440\\u0435\\u0439\\u043a\\u0430\", \"\\u0433\\u043b\\u043e\\u0431\\u0430\\u043b\\u044c\\u043d\\u044b\\u0439 \\u043f\\u0435\\u0440\\u0435\\u043c\\u0435\\u043d\\u043d\\u044b\\u0439\", \"\\u0444\\u0443\\u043d\\u043a\\u0446\\u0438\\u043e\\u043d\\u0430\\u043b\\u044c\\u043d\\u043e\\u0441\\u0442\\u044c \\u043f\\u0430\\u043a\\u0435\\u0442\", \"\\u0444\\u0443\\u043d\\u043a\\u0446\\u0438\\u044f \\u0438\\u043d\\u0438\\u0446\\u0438\\u0430\\u043b\\u0438\\u0437\\u0430\\u0446\\u0438\\u044f\", \"\\u0442\\u0440\\u0430\\u043d\\u0437\\u0438\\u0441\\u0442\\u043e\\u0440\", \"\\u0438\\u043d\\u0438\\u0446\\u0438\\u0430\\u043b\\u0438\\u0437\\u0430\\u0446\\u0438\\u044f \\u043f\\u0430\\u043a\\u0435\\u0442\", \"\\u043f\\u0430\\u043a\\u0435\\u0442\\u043d\\u044b\\u0439\", \"\\u0442\\u0435\\u043b\\u043e \\u043f\\u0430\\u043a\\u0435\\u0442\", \"\\u043f\\u0435\\u0434\\u0430\\u043b\\u044c\", \"\\u043f\\u0435\\u0440\\u0435\\u043c\\u0435\\u043d\\u043d\\u044b\\u0439 \\u043f\\u0430\\u043a\\u0435\\u0442\", \"\\u0433\\u0438\\u0442\\u0430\\u0440\\u0430\", \"\\u0433\\u043b\\u043e\\u0431\\u0430\\u043b\\u044c\\u043d\\u044b\\u0439 \\u043f\\u0435\\u0440\\u0435\\u043c\\u0435\\u043d\\u043d\\u044b\\u0439 \\u043f\\u0430\\u043a\\u0435\\u0442\", \"\\u0433\\u0438\\u0442\\u0430\\u0440\\u043d\\u044b\\u0439\", \"\\u0440\\u0435\\u0437\\u0438\\u0441\\u0442\\u043e\\u0440\", \"\\u0441\\u0442\\u0440\\u0435\\u0441\\u0441\", \"\\u043f\\u043e\\u0434\\u0434\\u0435\\u0440\\u0436\\u043a\\u0430 \\u0444\\u0443\\u043d\\u043a\\u0446\\u0438\\u043e\\u043d\\u0430\\u043b\\u044c\\u043d\\u043e\\u0441\\u0442\\u044c\", \"\\u043f\\u043e\\u0434\\u0434\\u0435\\u0440\\u0436\\u043a\\u0430 \\u0444\\u0443\\u043d\\u043a\\u0446\\u0438\\u043e\\u043d\\u0430\\u043b\\u044c\\u043d\\u043e\\u0441\\u0442\\u044c \\u043f\\u0430\\u043a\\u0435\\u0442\", \"\\u0444\\u0443\\u043d\\u043a\\u0446\\u0438\\u044f \\u043f\\u0430\\u043a\\u0435\\u0442\", \"\\u044d\\u043b\\u0435\\u043c\\u0435\\u043d\\u0442 \\u043f\\u0430\\u043a\\u0435\\u0442\", \"\\u0433\\u0438\\u0442\\u0430\\u0440\\u0438\\u0441\\u0442\", \"\\u0434\\u0438\\u0441\\u0442\\u043e\\u0440\\u0448\\u043d\", \"\\u0432\\u043d\\u0435\\u0448\\u043d\\u0438\\u0439 \\u0437\\u0430\\u0432\\u0438\\u0441\\u0438\\u043c\\u043e\\u0441\\u0442\\u044c\", \"\\u043f\\u0430\\u043a\\u0435\\u0442 \\u0434\\u043e\\u0441\\u0442\\u0443\\u043f\\u043d\\u044b\\u0439\", \"\\u043f\\u0430\\u043a\\u0435\\u0442 \\u043a\\u043e\\u043c\\u0430\\u043d\\u0434\\u0430\", \"\\u0441\\u0435\\u043a\\u0446\\u0438\\u044f \\u0438\\u043d\\u0438\\u0446\\u0438\\u0430\\u043b\\u0438\\u0437\\u0430\\u0446\\u0438\\u044f\", \"\\u0444\\u0443\\u043d\\u043a\\u0446\\u0438\\u044f \\u043f\\u0440\\u043e\\u0446\\u0435\\u0434\\u0443\\u0440\\u0430\", \"\\u0443\\u0441\\u0438\\u043b\\u0438\\u0442\\u0435\\u043b\\u044c\", \"\\u043f\\u0430\\u043a\\u0435\\u0442\", \"\\u0438\\u043d\\u0438\\u0446\\u0438\\u0430\\u043b\\u0438\\u0437\\u0430\\u0446\\u0438\\u044f\", \"\\u043f\\u0440\\u043e\\u0446\\u0435\\u0434\\u0443\\u0440\\u0430\", \"\\u043f\\u0435\\u0440\\u0435\\u043c\\u0435\\u043d\\u043d\\u044b\\u0439\", \"\\u0444\\u0443\\u043d\\u043a\\u0446\\u0438\\u044f\", \"\\u0437\\u0432\\u0443\\u043a\", \"\\u0431\\u043e\\u0442\", \"\\u0441\\u0445\\u0435\\u043c\\u0430\", \"\\u0434\\u0438\\u043e\\u0434\", \"\\u043a\\u043e\\u0434\", \"\\u0433\\u043b\\u043e\\u0431\\u0430\\u043b\\u044c\\u043d\\u044b\\u0439\", \"\\u0442\\u0438\\u043f\", \"\\u043a\\u043e\\u043c\\u0430\\u043d\\u0434\\u0430\", \"\\u0437\\u0430\\u0432\\u0438\\u0441\\u0438\\u043c\\u043e\\u0441\\u0442\\u044c\", \"\\u043c\\u043e\\u0434\\u0438\\u0444\\u0438\\u043a\\u0430\\u0442\\u043e\\u0440\", \"\\u043c\\u043e\\u0447\\u044c\", \"\\u043c\\u043e\\u0434\\u0435\\u043b\\u044c\", \"\\u0442\\u0435\\u043b\\u043e\", \"\\u0438\\u0441\\u043f\\u043e\\u043b\\u044c\\u0437\\u043e\\u0432\\u0430\\u0442\\u044c\", \"\\u0438\\u043d\\u0444\\u0440\\u0430\\u0441\\u0442\\u0440\\u0443\\u043a\\u0442\\u0443\\u0440\\u0430\", \"\\u0432\\u0435\\u0441\\u044c\", \"\\u043d\\u0430\\u043f\\u0440\\u0438\\u043c\\u0435\\u0440\", \"\\u043d\\u043e\\u0432\\u044b\\u0439\", \"\\u0438\\u0437\\u043c\\u0435\\u043d\\u0435\\u043d\\u0438\\u0435\", \"\\u0438\\u043c\\u044f\", \"\\u0441\\u043e\\u0441\\u0442\\u043e\\u044f\\u043d\\u0438\\u0435\", \"\\u043f\\u043e\\u0437\\u0432\\u043e\\u043b\\u044f\\u0442\\u044c\", \"\\u0438\\u0441\\u043f\\u043e\\u043b\\u044c\\u0437\\u043e\\u0432\\u0430\\u043d\\u0438\\u0435\", \"\\u0440\\u0430\\u0431\\u043e\\u0442\\u0430\\u0442\\u044c\", \"\\u043f\\u043e\\u043c\\u043e\\u0449\\u044c\", \"\\u0440\\u0430\\u0431\\u043e\\u0442\\u0430\", \"\\u0434\\u0430\\u043d\\u043d\\u044b\\u0435\", \"\\u0441\\u0430\\u043c\\u044b\\u0439\"], \"Freq\": [159.0, 62.0, 47.0, 78.0, 243.0, 131.0, 41.0, 62.0, 50.0, 158.0, 47.0, 114.0, 124.0, 92.0, 64.0, 64.0, 101.0, 33.0, 179.0, 73.0, 35.0, 25.0, 37.0, 108.0, 23.0, 25.0, 24.0, 59.0, 113.0, 49.0, 36.55721622351396, 15.392512048403576, 13.932877285192225, 31.44849451971021, 13.203059903586425, 13.203059903586224, 12.473242521980366, 10.283790377163308, 10.283790377163273, 9.553972995557386, 8.824155613951678, 8.824155613951648, 8.094338232345967, 8.094338232345542, 7.3645208507401, 7.364520850739921, 16.85214685023802, 6.634703469134086, 6.634703469134026, 6.634703469133826, 14.66269470535892, 26.33977281603521, 5.904886087528238, 5.904886087528238, 5.904886087528238, 5.904886087528238, 5.904886087527977, 5.904886087527977, 5.904886087527862, 12.473242523987942, 11.7434251780256, 15.392512085194104, 11.013607828619591, 8.824155624743275, 19.041599363447187, 21.2310512761199, 12.473242639576908, 13.932877345542067, 10.283790508161506, 24.150321283417362, 44.585207879660636, 14.662695219821021, 21.960869094588855, 53.76499102693051, 38.74663698680603, 77.67710850695352, 44.311235129224855, 24.167484079737996, 47.97514206003207, 24.150320898972886, 67.40403762277982, 38.203264132279024, 46.87154031660212, 47.62243269480181, 55.449464602224374, 30.2567174157663, 74.87247072385075, 42.571514834763654, 25.0793450106287, 35.98572593483207, 25.647868098184915, 29.52949119389609, 39.69976900801874, 41.056213446828956, 34.440090954896256, 35.95650098235637, 32.17831190022758, 28.52922511933184, 33.70457157380748, 28.640792763801432, 30.777168267299874, 29.29829711926955, 28.68809129187101, 30.035001984966307, 28.58484032182611, 24.114882392002894, 15.693812350349281, 13.889297341423509, 24.716387496678635, 39.15250764998431, 9.077257317621415, 9.077257317621333, 6.069732302744981, 5.4682272997696995, 5.4682272997696995, 4.8667222967944985, 4.8667222967944985, 4.8667222967944985, 9.077257367705887, 4.265217293819259, 4.265217293819168, 3.663712290843894, 3.6637122908438577, 13.88929757067751, 3.062207287868562, 3.062207287868562, 3.062207287868562, 3.062207287868562, 3.062207287868562, 3.062207287868562, 3.062207287868562, 3.0622072878685254, 3.0622072878684414, 10.881772381390803, 2.460702284893246, 7.874247493462985, 9.678762371409421, 8.475752679741621, 12.68628761490312, 9.67876277839075, 38.551003641811164, 7.874247526765621, 35.54347876789511, 8.475752720811004, 4.866722413784728, 8.475752801758217, 75.84431419132424, 9.077257473443233, 15.693813248571546, 33.13745875972186, 19.30284337208727, 26.520903192620633, 11.483277679041676, 24.716388144594575, 14.490802876636458, 20.505852874459055, 14.490802604729183, 26.520902513519612, 21.70886242636226, 10.881772685442044, 20.50585257423346, 19.904347475543275, 16.29531762047024, 17.498327560446196, 16.295317807487802, 15.693812362591816, 15.092307598639714, 15.09230753121766, 16.89682204686369, 15.092307411563395, 13.889297560289691, 13.8892974756439, 4.832941011407331, 3.0274271995982307, 2.2249766165719587, 1.8237513250588202, 2.8268145782139644, 1.0213007420325235, 1.0213007420325235, 0.820688096275938, 0.820688096275938, 0.820688096275938, 0.820688096275938, 0.820688096275938, 0.820688096275938, 0.820688096275938, 0.820688096275938, 0.820688096275938, 0.820688096275938, 0.820688096275938, 0.820688096275938, 0.820688096275938, 0.820688096275938, 0.820688096275938, 1.4225260424822048, 0.6200754505193385, 0.6200754505193385, 0.6200754505193385, 0.6200754505193385, 0.6200754505193385, 0.6200754505193385, 0.6200754505193385, 1.2219134062769716, 0.8206881036669067, 5.6353920430766316, 7.440906052915215, 4.030490811791081, 1.0213007737824213, 3.6292655518587433, 2.0243644467623856, 2.4255894619958727, 3.82987812995914, 2.826814802753121, 2.626202121358165, 1.6231387617683268, 2.0243641817546836, 1.6231388135760176, 1.8237514638131205, 2.024364126949267, 1.8237514423074657, 2.0243641091257434, 1.6231387225062526, 1.6231387910039725, 2.425589375282045, 1.2219134312118944, 2.224976690363231, 1.8237514431568829, 1.8237514038653044, 1.422526108479902, 1.4225260711838474, 15.02191605122515, 14.34191162092243, 12.981902760316885, 9.581880608803846, 8.901876178500745, 7.541867317895654, 46.982124815676144, 6.8618628875929, 6.861862887592315, 6.861862887591609, 6.181858457289779, 6.181858457289779, 6.181858457289552, 5.501854026987399, 5.501854026987394, 5.501854026987229, 5.5018540269868925, 5.50185402698609, 4.821849596684635, 4.821849596684458, 4.821849596684458, 4.821849596684458, 4.821849596684306, 4.821849596684017, 16.381925030890375, 9.581880634636184, 4.141845166381666, 4.141845166381666, 4.141845166381666, 4.141845166381516, 8.901876214226137, 8.901876203269959, 10.261885165420827, 14.341911840444512, 6.861862947237399, 13.66190723740711, 18.42193867742487, 13.661907223062256, 12.981902897146835, 29.98201427233184, 10.94188968132373, 14.341911944600005, 17.741934273634918, 68.74226776578035, 12.301898521652909, 19.781947745926967, 27.261996664162865, 10.261885125743184, 16.38192501659348, 19.78194742523742, 21.14195622255206, 17.061930007272963, 34.062040737678664, 54.462173490055946, 66.7022528899238, 43.5821024774319, 44.26210682703786, 22.501965343883732, 30.662018352358583, 39.50207558164301, 14.341912423120876, 30.662017968146184, 23.861973615233858, 23.861973847466878, 23.181969688801107, 23.861973818712244, 23.181969502289807, 21.821960561836676, 23.18196942751295, 22.501964713953043, 21.821960685574485, 23.181969401982638, 22.501964712048366, 21.82196031451297, 21.141956314263133, 21.8219606236472, 21.141955770922028, 20.461951762996748, 47.26383912117194, 18.939867734994102, 11.386808698679836, 10.757387112320458, 10.757387112320458, 10.75738711232032, 9.498543939601289, 8.239700766882171, 6.980857594163203, 6.980857594163123, 6.351436007803817, 6.351436007803595, 12.016230311633485, 5.722014421444139, 5.092592835084744, 5.092592835084599, 5.092592835084315, 56.07574214083593, 4.463171248725195, 4.463171248725195, 4.463171248725047, 4.463171248725047, 4.463171248725047, 14.533916718411525, 3.833749662365629, 3.833749662365629, 3.8337496623656038, 3.8337496623655047, 3.833749662365479, 3.833749662365479, 13.27507359527814, 24.604662738051765, 46.00499714230252, 44.11673276222674, 18.310446338617, 18.310446649779404, 7.610279286403866, 20.198712398762027, 20.828133031930047, 13.27507401025324, 5.722014466620604, 15.163338605066176, 22.086976408992296, 37.82251646042145, 30.898879115065522, 12.016230563637404, 14.533917162054573, 9.498544095335271, 47.893261796636715, 20.82813358394615, 27.122349315277678, 52.928633657456984, 22.08697639851336, 22.086975951271526, 23.34581916364209, 24.604662039314416, 21.45755463728264, 20.19871093243822, 20.198711537235212, 21.457554336916726, 22.086975902188392, 20.198711197307798, 22.086975347904335, 19.56928953321284, 18.31044648023169, 18.310446509787397, 22.51085392384832, 16.484718249542667, 11.554243606928974, 10.458582575237074, 9.910752059391069, 9.910752059391069, 9.910752059391069, 7.719429996007191, 6.623768964315279, 6.623768964315242, 6.623768964315242, 20.86736277508672, 5.528107932623324, 4.980277416777268, 4.9802774167772625, 4.432446900931314, 4.432446900931314, 4.432446900931314, 4.432446900931309, 3.884616385085357, 3.884616385085357, 12.64990469514115, 3.336785869239352, 3.336785869239352, 3.3367858692392702, 9.910752156392578, 2.7889553533933267, 2.7889553533933267, 2.7889553533933267, 2.7889553533933267, 6.075938513256893, 19.223871074223375, 5.5281079748634046, 6.075938541914789, 23.058684839506764, 11.55424386510336, 8.267260710136513, 10.458582950143802, 15.93688850915341, 25.79783830967813, 8.267260706364024, 14.841227304216778, 28.536990784216876, 14.293396830183354, 19.22387188706426, 29.08482086830068, 19.22387164396542, 18.12821057128685, 12.649905098666373, 11.554244016932897, 21.963023730732182, 9.362922066906007, 17.03254922466539, 9.91075254204387, 13.197735456505937, 12.102074617321064, 12.10207461202523, 11.554243939409762, 10.458582686435323, 19.030341983705235, 10.900875505226095, 10.223419965352827, 8.868508885606314, 8.868508885606285, 18.352886535952024, 8.19105334573307, 8.19105334573301, 8.191053345732879, 16.997975497387355, 6.836142265986562, 5.4812311862398095, 5.481231186239659, 10.900875540908725, 4.803775646366614, 4.803775646366577, 4.803775646366496, 4.803775646366496, 4.803775646366415, 4.803775646366415, 8.868508900180625, 4.126320106493293, 4.126320106493284, 4.126320106493263, 4.126320106493247, 4.126320106493219, 4.1263201064930275, 3.4488645666198847, 3.4488645666198847, 3.4488645666198847, 6.836142312223578, 14.96560888855436, 8.86850900435909, 8.191053502572696, 8.191053440859832, 19.707798008570716, 12.933242521163582, 10.900875611904418, 32.57945341799836, 15.643064671369157, 18.352887069656575, 48.83838676765999, 11.578331242332133, 9.545964560620437, 7.513597946177334, 71.87187538717787, 31.224542667492546, 13.610697901188669, 16.99797549099886, 67.80714081061953, 14.965609125522647, 29.86963116314566, 27.159808743910826, 27.15980898059938, 32.579453044318406, 35.28927502655145, 15.64306490443446, 21.74016451339017, 24.4499867255795, 25.127442156172773, 29.192175038450277, 16.997975663013953, 22.41761983875545, 21.06270886429838, 28.514718916177262, 22.41761994717021, 26.482352698548407, 22.417619812901023, 23.09507507802749, 21.740164173520395, 19.707797717487594, 20.3852530651076, 18.352886528589337, 18.352886391662576, 3.3404242425567796, 2.514701396081462, 2.514701396081462, 3.7532856765433884, 1.6889785496060443, 1.6889785496060443, 1.6889785496060443, 1.6889785496059884, 1.688978549605963, 1.6889785496059564, 3.3404243468455386, 1.2761171263682867, 1.2761171263682867, 1.2761171263682867, 1.2761171263682867, 1.276117126368248, 1.2761171263682303, 1.2761171263682285, 1.2761171263682285, 1.2761171263682285, 1.2761171263682285, 1.2761171263682285, 1.2761171263682285, 1.2761171263682285, 1.2761171263682285, 1.2761171263682285, 1.2761171263682285, 1.2761171263682285, 1.2761171263682285, 1.2761171263682285, 14.90054477194431, 15.31340640240626, 2.1018399797934095, 3.3404242530880772, 4.991870067204379, 6.230454408659472, 6.643316024294429, 7.469038846487131, 12.836237530037522, 6.643316080443888, 9.120484848244647, 6.643315837258724, 2.101839979431927, 6.230454567858236, 12.010514950274239, 5.817593239628361, 26.047803847572048, 1.6889785539916535, 1.688978553773555, 17.377713413086887, 11.184791809069338, 10.359069313955493, 7.469039079461826, 5.817593124023542, 8.29476185478961, 8.707623268677763, 5.817593169301353, 6.230454573601359, 7.056177392412556, 9.533346158818969, 12.01051448378824, 9.53334581671624, 9.12048414341773, 6.230454594688306, 9.533345225804135, 6.230454450778134, 6.6433157248498285, 6.230454538275162, 6.6433154437847115, 17.0929348533495, 7.746797959848972, 6.647252442966543, 6.647252413164782, 5.547706926084104, 4.997934167642882, 3.3486158923191973, 3.348615861458456, 6.097479706151879, 6.097479712594871, 2.798843133878034, 2.798843133878034, 2.798843133878034, 2.798843133878034, 2.798843133878034, 2.798843133878034, 2.798843133878034, 8.846343495012128, 2.249070375436801, 2.249070375436735, 2.249070375436735, 2.249070375436735, 2.2490703754367036, 2.2490703754366277, 2.2490703754366277, 2.2490703754366277, 2.2490703754365953, 2.2490703754365953, 2.2490703754365953, 2.2490703754365953, 4.448161427581787, 3.8983886633382894, 3.898388698607828, 3.3486159063937286, 6.097479732516252, 25.33828804385475, 21.49111813783707, 3.8983886979140934, 23.68381231165925, 17.5990508415836, 11.045434850044371, 14.344071690968148, 27.522121713128865, 19.29202676969493, 9.396116708290847, 10.495662219520927, 9.945889265892689, 19.839642851171373, 13.791744135761142, 11.045435125892768, 24.189792162847482, 13.241197690292628, 21.48873419811, 29.10559149832066, 15.30319176421768, 20.870213626051818, 15.983412770580104, 15.946857313447703, 13.241003889968734, 12.104876087379852, 13.193733113503365, 12.650691316926777, 12.115096519408652, 10.492245903538029, 11.003539838960911, 10.485752408716175, 10.495661599504352, 33.22635054467141, 27.811686011464573, 21.7201884116065, 18.336023078352564, 16.982356945050558, 11.567692411843264, 8.860360145240184, 20.366522344507498, 8.183527078589591, 7.506694011938665, 7.506694011938362, 5.476194811985718, 4.7993617453351485, 4.7993617453351485, 4.799361745334817, 4.799361745334806, 4.799361745334778, 4.799361504803772, 4.122528678684232, 4.122528678684232, 4.122528678684232, 4.12252867868422, 4.12252867868422, 4.122528678684156, 4.122528678684156, 4.122528678684156, 4.122528678683908, 4.122528678683886, 8.183527100068288, 8.860360227233796, 23.7506881097502, 7.506694028403078, 10.21402630536592, 6.829860967069859, 8.860360167168157, 21.720189001765664, 45.408752320732, 21.72018848188815, 6.153027942593183, 22.397021957821426, 8.183527198225509, 14.95185805575599, 27.12305074530916, 6.829861014819438, 7.489648354492364, 7.506694196677169, 10.890859565507192, 61.64410361427486, 15.628691135549138, 15.628691128321657, 24.427521093185455, 19.012856679245196, 34.58001746325928, 33.22635119076581, 32.500685516477496, 25.781187435740495, 47.3470436795751, 21.04335573942075, 27.125320323982695, 33.172262779210186, 47.87978134896117, 28.405580201123144, 26.328982544569396, 23.35934861422547, 23.750687839991503, 22.386656788090793, 22.30717430534866, 22.500210657176297, 21.673328009485857, 20.912484045237917, 24.63015284103022, 21.772223713906076, 10.912093030833654, 10.340507205408862, 8.054163903709329, 7.48257807828453, 6.339406427434789, 6.339406427434789, 6.339406427434719, 5.767820602009916, 5.767820602009916, 5.767820602009916, 12.62685058960001, 5.196234776585034, 5.196234776584964, 4.62464895116015, 4.624648951160078, 4.624648951160078, 4.624648951159995, 4.053063125735258, 4.053063125735258, 4.053063125735258, 4.053063125735258, 4.053063125735186, 4.053063125735186, 3.4814773003103534, 3.4814773003103534, 3.4814773003103534, 3.4814773003103534, 3.4814773003103534, 7.482578171746413, 103.50900088935192, 13.198436809731108, 10.340507300472295, 23.48698239586749, 48.06517388578232, 18.34270900506117, 7.482578176606024, 26.916497168885215, 5.767820673831194, 34.91869891200236, 9.768921754929533, 18.914295297306587, 25.773325671449744, 13.198436981875322, 6.339406881680917, 37.77662697551863, 17.77112351337798, 8.625750018853473, 23.486981270181026, 12.055265065223583, 21.772223753668577, 17.199537478084718, 16.627951726086945, 12.626850938243152, 12.055265093052475, 12.626850944376335, 14.341608215012537, 13.770022627285762, 14.913193851339464, 13.198436606344933, 13.770022056079606, 13.198436174008538, 12.6268504556009], \"Total\": [159.0, 62.0, 47.0, 78.0, 243.0, 131.0, 41.0, 62.0, 50.0, 158.0, 47.0, 114.0, 124.0, 92.0, 64.0, 64.0, 101.0, 33.0, 179.0, 73.0, 35.0, 25.0, 37.0, 108.0, 23.0, 25.0, 24.0, 59.0, 113.0, 49.0, 37.63315494527505, 15.896865029755691, 14.437230266544164, 32.62968049723973, 13.707412884938366, 13.707412884938304, 12.97759550333248, 10.788143358515175, 10.788143358515162, 10.058325976909327, 9.328508595303544, 9.328508595303537, 8.59869121369776, 8.598691213697633, 7.868873832091921, 7.868873832091866, 18.033332862411758, 7.139056450486032, 7.139056450486015, 7.1390564504859535, 15.844503190779387, 28.558883239553232, 6.409239068880186, 6.409239068880186, 6.409239068880186, 6.409239068880186, 6.409239068880106, 6.409239068880109, 6.409239068880073, 13.579433442056876, 12.797550889450303, 17.24908837135422, 12.195416284995188, 9.8763391138345, 22.83183527045986, 27.073634095452086, 14.85743858746154, 17.145185010688735, 12.039733628324289, 35.63491633164439, 86.8424616643312, 19.839427057119526, 35.963027620611214, 137.44097077992092, 92.80494003537082, 270.60344191567157, 124.65536939381472, 47.372929799354125, 158.34534515296835, 48.80872257551852, 310.5670153598245, 113.69556130835778, 168.21721335583436, 180.84917521613554, 245.12313244590047, 78.92867573223022, 485.23386897855215, 159.53181641423816, 54.62542254024165, 122.01552954656867, 60.184059372109026, 86.36540391570962, 179.7568690102898, 204.1734850091534, 134.43477423261666, 162.9587271370092, 131.14666634448116, 108.60548051048247, 243.83801259150937, 112.82066444137102, 165.5244956188629, 138.43679395284462, 135.13978875113148, 226.80152677879224, 131.1812382930689, 24.630900135048396, 16.209830093394785, 14.405315084469013, 25.909860665045006, 41.128159933465284, 9.593275060666919, 9.593275060666908, 6.585750045790561, 5.984245042815281, 5.984245042815281, 5.382740039840009, 5.382740039840009, 5.382740039840009, 10.143047823409576, 4.781235036864723, 4.781235036864709, 4.179730033889407, 4.179730033889401, 15.864949798765307, 3.578225030914078, 3.578225030914078, 3.578225030914078, 3.578225030914078, 3.578225030914078, 3.578225030914078, 3.578225030914078, 3.578225030914072, 3.5782250309140595, 12.751456196017854, 2.976720027938717, 10.241441000278186, 13.623648282891887, 12.118651896886176, 20.08481447526824, 16.21674364488707, 101.85337258452321, 12.610838841551399, 101.07431069553317, 14.44214782353427, 6.792561830229072, 15.743550995493777, 485.23386897855215, 17.84026864331903, 43.74645042868356, 152.43916455407216, 64.28809174698976, 114.66894788381306, 26.516671487887777, 127.87663414388047, 55.98465308620679, 131.1812382930689, 62.68059923406054, 310.5670153598245, 243.83801259150937, 30.91128706416106, 224.06122362411259, 204.1734850091534, 122.96235653855943, 168.21721335583436, 137.44097077992092, 124.65536939381472, 122.51572444315853, 122.77982839201948, 245.12313244590047, 165.5244956188629, 102.46956726864626, 127.98587418877024, 5.385403514199888, 3.5798897023907874, 2.7774391193645167, 2.3762138278513794, 3.9508628369832213, 1.5737632448250862, 1.5737632448250862, 1.373150599068503, 1.373150599068503, 1.373150599068503, 1.373150599068503, 1.373150599068503, 1.373150599068503, 1.373150599068503, 1.373150599068503, 1.373150599068503, 1.373150599068503, 1.373150599068503, 1.373150599068503, 1.373150599068503, 1.373150599068503, 1.373150599068503, 2.522819036711015, 1.1725379533119071, 1.1725379533119071, 1.1725379533119071, 1.1725379533119071, 1.1725379533119071, 1.1725379533119071, 1.1725379533119071, 2.3459616818121662, 1.7860120144831346, 47.27961603564236, 78.92867573223022, 29.41319124492589, 2.981036084750015, 44.806199936417165, 15.511864198777934, 29.224762596590725, 124.65536939381472, 84.67162522418309, 118.45405960673406, 19.38333826403791, 48.29298163348773, 23.190335002623552, 43.44966087833647, 71.21601804536968, 46.387281375453455, 81.25794720681625, 30.765309383064615, 32.60121449261152, 245.12313244590047, 9.950691270743096, 270.60344191567157, 92.05221333925465, 159.53181641423816, 101.07431069553317, 179.7568690102898, 15.530797482695721, 14.850793052393001, 13.490784191787533, 10.090762040274056, 9.410757609971233, 8.050748749365859, 50.153650488717574, 7.370744319063113, 7.370744319062966, 7.370744319062788, 6.690739888760274, 6.690739888760274, 6.690739888760214, 6.010735458457611, 6.010735458457608, 6.010735458457567, 6.010735458457482, 6.0107354584572805, 5.330731028154842, 5.3307310281547995, 5.3307310281547995, 5.3307310281547995, 5.33073102815476, 5.330731028154686, 18.16914442148329, 10.640534803656523, 4.6507265978520085, 4.6507265978520085, 4.6507265978520085, 4.650726597851972, 10.012262617063138, 10.087590676727302, 11.813049506695192, 17.559992739651545, 7.972249328916055, 17.608649104914605, 25.727821915013433, 18.156479619774046, 17.981855370807107, 51.82515692083279, 14.739138972888378, 21.265769385111017, 31.422666816617568, 226.80152677879224, 18.992029863555313, 38.499526290628815, 62.50813555185199, 14.726517639513474, 30.765309383064615, 42.41544159774276, 48.1868896112081, 34.6963438496966, 116.66783042803807, 270.60344191567157, 485.23386897855215, 224.06122362411259, 245.12313244590047, 67.0353973031422, 165.5244956188629, 310.5670153598245, 27.894785383924205, 204.1734850091534, 109.14859071399565, 122.77982839201948, 112.82066444137102, 127.87663414388047, 118.28000402003748, 96.31715830233999, 134.43477423261666, 122.01552954656867, 117.33824756889108, 159.53181641423816, 152.43916455407216, 127.98587418877024, 106.01906326449405, 138.43679395284462, 124.65536939381472, 121.8297295054327, 47.77731899300059, 19.453347606822746, 11.900288570508598, 11.270866984149107, 11.270866984149107, 11.270866984149082, 10.012023811430051, 8.753180638710997, 7.494337465991969, 7.494337465991953, 6.864915879632467, 6.864915879632425, 13.077540676155458, 6.2354942932729065, 5.606072706913395, 5.606072706913368, 5.606072706913314, 62.473762787632474, 4.9766511205538455, 4.9766511205538455, 4.976651120553817, 4.976651120553817, 4.976651120553817, 16.277173694065752, 4.347229534194282, 4.347229534194282, 4.347229534194276, 4.347229534194257, 4.347229534194253, 4.347229534194253, 15.826017719472244, 31.347706583985925, 62.22762810173065, 64.74404712281262, 24.384073132430842, 24.949183647546906, 9.402719596992092, 35.656229321478584, 38.03368526181382, 20.99061021921859, 6.9123273565103505, 26.848230535612583, 46.06335339325864, 108.60548051048247, 80.61051022189854, 19.82018356633188, 27.903490880246608, 14.081319021356526, 270.60344191567157, 64.28809174698976, 116.66783042803807, 485.23386897855215, 101.3760120515371, 121.8297295054327, 155.6967501993818, 226.80152677879224, 140.46752188433135, 113.69556130835778, 124.65536939381472, 168.21721335583436, 245.12313244590047, 179.7568690102898, 310.5670153598245, 162.9587271370092, 109.14859071399565, 122.01552954656867, 23.031751165723666, 17.005615491418048, 12.075140848804352, 10.97947981711242, 10.431649301266448, 10.431649301266448, 10.431649301266448, 8.24032723788257, 7.144666206190625, 7.144666206190623, 7.144666206190623, 22.697685568961937, 6.049005174498672, 5.501174658652685, 5.501174658652684, 4.9533441428066975, 4.9533441428066975, 4.9533441428066975, 4.953344142806699, 4.4055136269607065, 4.4055136269607065, 14.52571294686091, 3.857683111114702, 3.857683111114702, 3.8576831111146963, 11.662575879918627, 3.3098525952686786, 3.3098525952686786, 3.3098525952686786, 3.3098525952686786, 7.276840105005527, 23.71759882752836, 6.678426754558689, 7.689701533400972, 35.05663799914711, 16.047211587473583, 11.841110995842032, 20.94230561988488, 43.78395035689617, 103.49996005047453, 15.335604289314626, 47.27961603564236, 179.7568690102898, 58.487804843817095, 117.81682091187943, 310.5670153598245, 140.46752188433135, 121.8297295054327, 56.3077440514638, 46.387281375453455, 485.23386897855215, 24.9086726574683, 243.83801259150937, 32.03796938034053, 180.84917521613554, 122.96235653855943, 137.44097077992092, 135.13978875113148, 270.60344191567157, 19.539455132487337, 11.4099886540082, 10.732533114134933, 9.377622034388402, 9.377622034388391, 19.433585432428423, 8.70016649451513, 8.70016649451512, 8.700166494515086, 18.18709294265808, 7.345255414768587, 5.990344335021962, 5.990344335021923, 11.959761433764774, 5.312888795148681, 5.312888795148672, 5.312888795148652, 5.312888795148652, 5.312888795148632, 5.312888795148632, 9.925452553017035, 4.635433255275355, 4.6354332552753545, 4.635433255275349, 4.635433255275345, 4.635433255275337, 4.635433255275289, 3.9579777154019853, 3.9579777154019853, 3.9579777154019853, 7.974677004397945, 18.03390217343756, 10.784272474961458, 10.009592515715592, 10.631761184365367, 31.056118277510294, 18.95757549797211, 15.629939992452895, 64.71179090675658, 25.457187762168168, 31.676943163844733, 131.14666634448116, 17.954798403303556, 13.781159040720375, 9.92932121488161, 243.83801259150937, 78.4457799914575, 24.18294031530926, 39.5886089894652, 485.23386897855215, 32.2186004209465, 131.1812382930689, 113.69556130835778, 118.45405960673406, 180.84917521613554, 226.80152677879224, 37.7444176698346, 84.98027707004357, 122.96235653855943, 152.43916455407216, 245.12313244590047, 55.81993632874876, 135.13978875113148, 110.66301698420179, 310.5670153598245, 140.46752188433135, 270.60344191567157, 159.53181641423816, 204.1734850091534, 159.1916741007176, 117.33824756889108, 162.9587271370092, 122.77982839201948, 155.6967501993818, 3.8735914019420536, 3.04786855546667, 3.04786855546667, 4.915874405892638, 2.222145708991256, 2.222145708991256, 2.222145708991256, 2.222145708991273, 2.222145708991281, 2.222145708991283, 4.551046874968166, 1.8092842857535034, 1.8092842857535034, 1.8092842857535034, 1.8092842857535034, 1.8092842857535147, 1.80928428575352, 1.8092842857535203, 1.8092842857535203, 1.8092842857535203, 1.8092842857535203, 1.8092842857535203, 1.8092842857535203, 1.8092842857535203, 1.8092842857535203, 1.8092842857535203, 1.8092842857535203, 1.8092842857535203, 1.8092842857535203, 1.8092842857535203, 26.2849071218852, 28.9622987028809, 3.2065929549754437, 5.522909673768846, 8.83635547704611, 12.415768639062227, 13.454021177411658, 16.78371605573069, 34.66533720038897, 15.857128043840001, 28.007140858089993, 19.41112655286638, 3.730668161762378, 18.58110362301342, 49.494469390221525, 17.667877668636915, 243.83801259150937, 2.851567293041963, 2.8515672931563545, 131.14666634448116, 64.71179090675658, 62.58088826611808, 37.00154870885077, 23.442354614301404, 48.66887587478988, 60.184059372109026, 29.273861956686954, 34.24568826504233, 51.82515692083279, 114.66894788381306, 226.80152677879224, 245.12313244590047, 270.60344191567157, 57.60204383118448, 485.23386897855215, 66.69939982755251, 204.1734850091534, 78.00940886037814, 310.5670153598245, 17.61365552771641, 8.267518634215886, 7.167973117333459, 7.167973127093232, 6.068427600451022, 5.5186548420098, 3.8693365666860946, 3.8693365767926604, 7.166030874808631, 7.189786183196806, 3.3195638082448373, 3.3195638082448373, 3.3195638082448373, 3.3195638082448373, 3.3195638082448373, 3.3195638082448373, 3.3195638082448373, 10.510235801217434, 2.769791049803547, 2.7697910498035436, 2.7697910498035436, 2.7697910498035436, 2.7697910498035414, 2.7697910498035365, 2.7697910498035365, 2.7697910498035365, 2.7697910498035347, 2.7697910498035347, 2.7697910498035347, 2.7697910498035347, 5.646337619162688, 4.966939841011758, 5.020614323592717, 4.44092239154593, 9.581720900497514, 59.120439047427574, 49.168883344501005, 5.774020393914133, 86.10538335282023, 61.62119854114921, 32.40603152162126, 48.80872257551852, 140.46752188433135, 87.13594759468313, 28.083986933692536, 34.82964741797685, 32.21701313563614, 114.66894788381306, 61.487128798801855, 44.162032638203996, 243.83801259150937, 71.69193764381755, 224.06122362411259, 485.23386897855215, 113.69556130835778, 310.5670153598245, 179.7568690102898, 204.1734850091534, 127.98587418877024, 116.66783042803807, 180.84917521613554, 165.5244956188629, 162.9587271370092, 85.93106957503106, 131.1812382930689, 155.6967501993818, 158.34534515296835, 33.73552028192818, 28.320855748721335, 22.22935814886353, 18.845192815609327, 17.49152668230754, 12.076862149100545, 9.36952988249717, 21.553147555363765, 8.692696815846366, 8.015863749195479, 8.015863749195402, 5.985364549242743, 5.30853148259192, 5.30853148259192, 5.308531482591837, 5.3085314825918335, 5.308531482591828, 5.308531501420927, 4.6316984159409955, 4.6316984159409955, 4.6316984159409955, 4.631698415940993, 4.631698415940993, 4.631698415940975, 4.631698415940975, 4.631698415940975, 4.631698415940914, 4.631698415940909, 9.240527335780126, 10.049534312404958, 28.278966619554854, 8.695868179410532, 12.07810709551238, 7.88880344506882, 10.512701536751418, 30.79714487788815, 73.31878067420223, 31.71373570701747, 7.342202045885926, 33.634412386102646, 10.470304524200714, 24.89011943255207, 57.02179823294603, 8.648456703168678, 9.950691270743096, 10.024641673758474, 17.31301663034069, 224.06122362411259, 29.486760260415302, 29.848221408299263, 62.68059923406054, 43.603787615351806, 122.77982839201948, 114.66894788381306, 117.81682091187943, 87.13594759468313, 310.5670153598245, 71.6805197556318, 127.98587418877024, 204.1734850091534, 485.23386897855215, 162.9587271370092, 155.6967501993818, 137.44097077992092, 165.5244956188629, 159.1916741007176, 168.21721335583436, 245.12313244590047, 180.84917521613554, 159.53181641423816, 25.148890509307634, 22.290961382183358, 11.430830699110999, 10.859244873686144, 8.572901571986675, 8.001315746561813, 6.858144095712073, 6.858144095712073, 6.858144095712067, 6.2865582702872, 6.2865582702872, 6.2865582702872, 13.823043699969167, 5.714972444862319, 5.714972444862314, 5.143386619437436, 5.143386619437429, 5.143386619437429, 5.14338661943742, 4.571800794012544, 4.571800794012544, 4.571800794012544, 4.571800794012544, 4.571800794012538, 4.571800794012538, 4.000214968587641, 4.000214968587641, 4.000214968587641, 4.000214968587641, 4.000214968587641, 8.731133102281001, 159.1916741007176, 18.67276301038203, 15.810880996763384, 55.718533863433876, 158.34534515296835, 39.5886089894652, 11.808741182411111, 92.80494003537082, 8.222856973500663, 179.7568690102898, 20.679599123251577, 81.25794720681625, 152.43916455407216, 41.78399134532978, 9.77740906899541, 485.23386897855215, 109.14859071399565, 19.130884499843106, 245.12313244590047, 51.271216264424496, 310.5670153598245, 155.6967501993818, 168.21721335583436, 68.12144961381023, 59.120439047427574, 70.38632772230547, 135.13978875113148, 118.45405960673406, 180.84917521613554, 122.96235653855943, 226.80152677879224, 270.60344191567157, 165.5244956188629], \"Category\": [\"Default\", \"Default\", \"Default\", \"Default\", \"Default\", \"Default\", \"Default\", \"Default\", \"Default\", \"Default\", \"Default\", \"Default\", \"Default\", \"Default\", \"Default\", \"Default\", \"Default\", \"Default\", \"Default\", \"Default\", \"Default\", \"Default\", \"Default\", \"Default\", \"Default\", \"Default\", \"Default\", \"Default\", \"Default\", \"Default\", \"Topic1\", \"Topic1\", \"Topic1\", \"Topic1\", \"Topic1\", \"Topic1\", \"Topic1\", \"Topic1\", \"Topic1\", \"Topic1\", \"Topic1\", \"Topic1\", \"Topic1\", \"Topic1\", \"Topic1\", \"Topic1\", \"Topic1\", \"Topic1\", \"Topic1\", \"Topic1\", \"Topic1\", \"Topic1\", \"Topic1\", \"Topic1\", \"Topic1\", \"Topic1\", \"Topic1\", \"Topic1\", \"Topic1\", \"Topic1\", \"Topic1\", \"Topic1\", \"Topic1\", \"Topic1\", \"Topic1\", \"Topic1\", \"Topic1\", \"Topic1\", \"Topic1\", \"Topic1\", \"Topic1\", \"Topic1\", \"Topic1\", \"Topic1\", \"Topic1\", \"Topic1\", \"Topic1\", \"Topic1\", \"Topic1\", \"Topic1\", \"Topic1\", \"Topic1\", \"Topic1\", \"Topic1\", \"Topic1\", \"Topic1\", \"Topic1\", \"Topic1\", \"Topic1\", \"Topic1\", \"Topic1\", \"Topic1\", \"Topic1\", \"Topic1\", \"Topic1\", \"Topic1\", \"Topic1\", \"Topic1\", \"Topic1\", \"Topic1\", \"Topic1\", \"Topic1\", \"Topic1\", \"Topic1\", \"Topic1\", \"Topic2\", \"Topic2\", \"Topic2\", \"Topic2\", \"Topic2\", \"Topic2\", \"Topic2\", \"Topic2\", \"Topic2\", \"Topic2\", \"Topic2\", \"Topic2\", \"Topic2\", \"Topic2\", \"Topic2\", \"Topic2\", \"Topic2\", \"Topic2\", \"Topic2\", \"Topic2\", \"Topic2\", \"Topic2\", \"Topic2\", \"Topic2\", \"Topic2\", \"Topic2\", \"Topic2\", \"Topic2\", \"Topic2\", \"Topic2\", \"Topic2\", \"Topic2\", \"Topic2\", \"Topic2\", \"Topic2\", \"Topic2\", \"Topic2\", \"Topic2\", \"Topic2\", \"Topic2\", \"Topic2\", \"Topic2\", \"Topic2\", \"Topic2\", \"Topic2\", \"Topic2\", \"Topic2\", \"Topic2\", \"Topic2\", \"Topic2\", \"Topic2\", \"Topic2\", \"Topic2\", \"Topic2\", \"Topic2\", \"Topic2\", \"Topic2\", \"Topic2\", \"Topic2\", \"Topic2\", \"Topic2\", \"Topic2\", \"Topic2\", \"Topic2\", \"Topic2\", \"Topic2\", \"Topic2\", \"Topic3\", \"Topic3\", \"Topic3\", \"Topic3\", \"Topic3\", \"Topic3\", \"Topic3\", \"Topic3\", \"Topic3\", \"Topic3\", \"Topic3\", \"Topic3\", \"Topic3\", \"Topic3\", \"Topic3\", \"Topic3\", \"Topic3\", \"Topic3\", \"Topic3\", \"Topic3\", \"Topic3\", \"Topic3\", \"Topic3\", \"Topic3\", \"Topic3\", \"Topic3\", \"Topic3\", \"Topic3\", \"Topic3\", \"Topic3\", \"Topic3\", \"Topic3\", \"Topic3\", \"Topic3\", \"Topic3\", \"Topic3\", \"Topic3\", \"Topic3\", \"Topic3\", \"Topic3\", \"Topic3\", \"Topic3\", \"Topic3\", \"Topic3\", \"Topic3\", \"Topic3\", \"Topic3\", \"Topic3\", \"Topic3\", \"Topic3\", \"Topic3\", \"Topic3\", \"Topic3\", \"Topic3\", \"Topic3\", \"Topic3\", \"Topic3\", \"Topic3\", \"Topic4\", \"Topic4\", \"Topic4\", \"Topic4\", \"Topic4\", \"Topic4\", \"Topic4\", \"Topic4\", \"Topic4\", \"Topic4\", \"Topic4\", \"Topic4\", \"Topic4\", \"Topic4\", \"Topic4\", \"Topic4\", \"Topic4\", \"Topic4\", \"Topic4\", \"Topic4\", \"Topic4\", \"Topic4\", \"Topic4\", \"Topic4\", \"Topic4\", \"Topic4\", \"Topic4\", \"Topic4\", \"Topic4\", \"Topic4\", \"Topic4\", \"Topic4\", \"Topic4\", \"Topic4\", \"Topic4\", \"Topic4\", \"Topic4\", \"Topic4\", \"Topic4\", \"Topic4\", \"Topic4\", \"Topic4\", \"Topic4\", \"Topic4\", \"Topic4\", \"Topic4\", \"Topic4\", \"Topic4\", \"Topic4\", \"Topic4\", \"Topic4\", \"Topic4\", \"Topic4\", \"Topic4\", \"Topic4\", \"Topic4\", \"Topic4\", \"Topic4\", \"Topic4\", \"Topic4\", \"Topic4\", \"Topic4\", \"Topic4\", \"Topic4\", \"Topic4\", \"Topic4\", \"Topic4\", \"Topic4\", \"Topic4\", \"Topic4\", \"Topic4\", \"Topic4\", \"Topic4\", \"Topic4\", \"Topic4\", \"Topic4\", \"Topic4\", \"Topic4\", \"Topic5\", \"Topic5\", \"Topic5\", \"Topic5\", \"Topic5\", \"Topic5\", \"Topic5\", \"Topic5\", \"Topic5\", \"Topic5\", \"Topic5\", \"Topic5\", \"Topic5\", \"Topic5\", \"Topic5\", \"Topic5\", \"Topic5\", \"Topic5\", \"Topic5\", \"Topic5\", \"Topic5\", \"Topic5\", \"Topic5\", \"Topic5\", \"Topic5\", \"Topic5\", \"Topic5\", \"Topic5\", \"Topic5\", \"Topic5\", \"Topic5\", \"Topic5\", \"Topic5\", \"Topic5\", \"Topic5\", \"Topic5\", \"Topic5\", \"Topic5\", \"Topic5\", \"Topic5\", \"Topic5\", \"Topic5\", \"Topic5\", \"Topic5\", \"Topic5\", \"Topic5\", \"Topic5\", \"Topic5\", \"Topic5\", \"Topic5\", \"Topic5\", \"Topic5\", \"Topic5\", \"Topic5\", \"Topic5\", \"Topic5\", \"Topic5\", \"Topic5\", \"Topic5\", \"Topic5\", \"Topic5\", \"Topic5\", \"Topic5\", \"Topic5\", \"Topic5\", \"Topic5\", \"Topic6\", \"Topic6\", \"Topic6\", \"Topic6\", \"Topic6\", \"Topic6\", \"Topic6\", \"Topic6\", \"Topic6\", \"Topic6\", \"Topic6\", \"Topic6\", \"Topic6\", \"Topic6\", \"Topic6\", \"Topic6\", \"Topic6\", \"Topic6\", \"Topic6\", \"Topic6\", \"Topic6\", \"Topic6\", \"Topic6\", \"Topic6\", \"Topic6\", \"Topic6\", \"Topic6\", \"Topic6\", \"Topic6\", \"Topic6\", \"Topic6\", \"Topic6\", \"Topic6\", \"Topic6\", \"Topic6\", \"Topic6\", \"Topic6\", \"Topic6\", \"Topic6\", \"Topic6\", \"Topic6\", \"Topic6\", \"Topic6\", \"Topic6\", \"Topic6\", \"Topic6\", \"Topic6\", \"Topic6\", \"Topic6\", \"Topic6\", \"Topic6\", \"Topic6\", \"Topic6\", \"Topic6\", \"Topic6\", \"Topic6\", \"Topic6\", \"Topic6\", \"Topic6\", \"Topic7\", \"Topic7\", \"Topic7\", \"Topic7\", \"Topic7\", \"Topic7\", \"Topic7\", \"Topic7\", \"Topic7\", \"Topic7\", \"Topic7\", \"Topic7\", \"Topic7\", \"Topic7\", \"Topic7\", \"Topic7\", \"Topic7\", \"Topic7\", \"Topic7\", \"Topic7\", \"Topic7\", \"Topic7\", \"Topic7\", \"Topic7\", \"Topic7\", \"Topic7\", \"Topic7\", \"Topic7\", \"Topic7\", \"Topic7\", \"Topic7\", \"Topic7\", \"Topic7\", \"Topic7\", \"Topic7\", \"Topic7\", \"Topic7\", \"Topic7\", \"Topic7\", \"Topic7\", \"Topic7\", \"Topic7\", \"Topic7\", \"Topic7\", \"Topic7\", \"Topic7\", \"Topic7\", \"Topic7\", \"Topic7\", \"Topic7\", \"Topic7\", \"Topic7\", \"Topic7\", \"Topic7\", \"Topic7\", \"Topic7\", \"Topic7\", \"Topic7\", \"Topic7\", \"Topic7\", \"Topic7\", \"Topic7\", \"Topic7\", \"Topic7\", \"Topic7\", \"Topic7\", \"Topic7\", \"Topic7\", \"Topic7\", \"Topic7\", \"Topic7\", \"Topic7\", \"Topic7\", \"Topic7\", \"Topic8\", \"Topic8\", \"Topic8\", \"Topic8\", \"Topic8\", \"Topic8\", \"Topic8\", \"Topic8\", \"Topic8\", \"Topic8\", \"Topic8\", \"Topic8\", \"Topic8\", \"Topic8\", \"Topic8\", \"Topic8\", \"Topic8\", \"Topic8\", \"Topic8\", \"Topic8\", \"Topic8\", \"Topic8\", \"Topic8\", \"Topic8\", \"Topic8\", \"Topic8\", \"Topic8\", \"Topic8\", \"Topic8\", \"Topic8\", \"Topic8\", \"Topic8\", \"Topic8\", \"Topic8\", \"Topic8\", \"Topic8\", \"Topic8\", \"Topic8\", \"Topic8\", \"Topic8\", \"Topic8\", \"Topic8\", \"Topic8\", \"Topic8\", \"Topic8\", \"Topic8\", \"Topic8\", \"Topic8\", \"Topic8\", \"Topic8\", \"Topic8\", \"Topic8\", \"Topic8\", \"Topic8\", \"Topic8\", \"Topic8\", \"Topic8\", \"Topic8\", \"Topic8\", \"Topic8\", \"Topic8\", \"Topic8\", \"Topic8\", \"Topic8\", \"Topic8\", \"Topic8\", \"Topic8\", \"Topic8\", \"Topic8\", \"Topic9\", \"Topic9\", \"Topic9\", \"Topic9\", \"Topic9\", \"Topic9\", \"Topic9\", \"Topic9\", \"Topic9\", \"Topic9\", \"Topic9\", \"Topic9\", \"Topic9\", \"Topic9\", \"Topic9\", \"Topic9\", \"Topic9\", \"Topic9\", \"Topic9\", \"Topic9\", \"Topic9\", \"Topic9\", \"Topic9\", \"Topic9\", \"Topic9\", \"Topic9\", \"Topic9\", \"Topic9\", \"Topic9\", \"Topic9\", \"Topic9\", \"Topic9\", \"Topic9\", \"Topic9\", \"Topic9\", \"Topic9\", \"Topic9\", \"Topic9\", \"Topic9\", \"Topic9\", \"Topic9\", \"Topic9\", \"Topic9\", \"Topic9\", \"Topic9\", \"Topic9\", \"Topic9\", \"Topic9\", \"Topic9\", \"Topic9\", \"Topic9\", \"Topic9\", \"Topic9\", \"Topic9\", \"Topic9\", \"Topic9\", \"Topic9\", \"Topic9\", \"Topic9\", \"Topic9\", \"Topic9\", \"Topic9\", \"Topic9\", \"Topic9\", \"Topic9\", \"Topic9\", \"Topic9\", \"Topic10\", \"Topic10\", \"Topic10\", \"Topic10\", \"Topic10\", \"Topic10\", \"Topic10\", \"Topic10\", \"Topic10\", \"Topic10\", \"Topic10\", \"Topic10\", \"Topic10\", \"Topic10\", \"Topic10\", \"Topic10\", \"Topic10\", \"Topic10\", \"Topic10\", \"Topic10\", \"Topic10\", \"Topic10\", \"Topic10\", \"Topic10\", \"Topic10\", \"Topic10\", \"Topic10\", \"Topic10\", \"Topic10\", \"Topic10\", \"Topic10\", \"Topic10\", \"Topic10\", \"Topic10\", \"Topic10\", \"Topic10\", \"Topic10\", \"Topic10\", \"Topic10\", \"Topic10\", \"Topic10\", \"Topic10\", \"Topic10\", \"Topic10\", \"Topic10\", \"Topic10\", \"Topic10\", \"Topic10\", \"Topic10\", \"Topic10\", \"Topic10\", \"Topic10\", \"Topic10\", \"Topic10\", \"Topic10\", \"Topic10\", \"Topic10\", \"Topic10\", \"Topic10\", \"Topic10\", \"Topic10\", \"Topic10\", \"Topic10\", \"Topic10\", \"Topic10\", \"Topic10\", \"Topic10\", \"Topic10\", \"Topic10\", \"Topic10\", \"Topic11\", \"Topic11\", \"Topic11\", \"Topic11\", \"Topic11\", \"Topic11\", \"Topic11\", \"Topic11\", \"Topic11\", \"Topic11\", \"Topic11\", \"Topic11\", \"Topic11\", \"Topic11\", \"Topic11\", \"Topic11\", \"Topic11\", \"Topic11\", \"Topic11\", \"Topic11\", \"Topic11\", \"Topic11\", \"Topic11\", \"Topic11\", \"Topic11\", \"Topic11\", \"Topic11\", \"Topic11\", \"Topic11\", \"Topic11\", \"Topic11\", \"Topic11\", \"Topic11\", \"Topic11\", \"Topic11\", \"Topic11\", \"Topic11\", \"Topic11\", \"Topic11\", \"Topic11\", \"Topic11\", \"Topic11\", \"Topic11\", \"Topic11\", \"Topic11\", \"Topic11\", \"Topic11\", \"Topic11\", \"Topic11\", \"Topic11\", \"Topic11\", \"Topic11\", \"Topic11\", \"Topic11\", \"Topic11\", \"Topic11\", \"Topic11\", \"Topic11\", \"Topic11\", \"Topic11\", \"Topic11\", \"Topic11\", \"Topic11\", \"Topic11\"], \"logprob\": [30.0, 29.0, 28.0, 27.0, 26.0, 25.0, 24.0, 23.0, 22.0, 21.0, 20.0, 19.0, 18.0, 17.0, 16.0, 15.0, 14.0, 13.0, 12.0, 11.0, 10.0, 9.0, 8.0, 7.0, 6.0, 5.0, 4.0, 3.0, 2.0, 1.0, -6.9655, -7.8305, -7.9301, -7.116, -7.9839, -7.9839, -8.0408, -8.2338, -8.2338, -8.3074, -8.3869, -8.3869, -8.4732, -8.4732, -8.5677, -8.5677, -7.7399, -8.672, -8.672, -8.672, -7.8791, -7.2933, -8.7886, -8.7886, -8.7886, -8.7886, -8.7886, -8.7886, -8.7886, -8.0408, -8.1011, -7.8305, -8.1652, -8.3869, -7.6177, -7.5089, -8.0408, -7.9301, -8.2338, -7.3801, -6.767, -7.8791, -7.4751, -6.5797, -6.9073, -6.2118, -6.7731, -7.3793, -6.6937, -7.3801, -6.3537, -6.9214, -6.7169, -6.7011, -6.5489, -7.1546, -6.2486, -6.8132, -7.3423, -6.9812, -7.3199, -7.179, -6.883, -6.8494, -7.0251, -6.982, -7.0931, -7.2134, -7.0467, -7.2095, -7.1376, -7.1868, -7.2079, -7.162, -7.2115, -6.7991, -7.2287, -7.3509, -6.7745, -6.3145, -7.7762, -7.7762, -8.1787, -8.283, -8.283, -8.3996, -8.3996, -8.3996, -7.7762, -8.5315, -8.5315, -8.6835, -8.6835, -7.3509, -8.8628, -8.8628, -8.8628, -8.8628, -8.8628, -8.8628, -8.8628, -8.8628, -8.8628, -7.5949, -9.0815, -7.9184, -7.712, -7.8448, -7.4414, -7.712, -6.33, -7.9184, -6.4112, -7.8448, -8.3996, -7.8448, -5.6533, -7.7762, -7.2287, -6.4813, -7.0217, -6.704, -7.5411, -6.7745, -7.3085, -6.9613, -7.3085, -6.704, -6.9043, -7.5949, -6.9613, -6.991, -7.1911, -7.1199, -7.1911, -7.2287, -7.2678, -7.2678, -7.1548, -7.2678, -7.3509, -7.3509, -6.6118, -7.0796, -7.3875, -7.5864, -7.1481, -8.1662, -8.1662, -8.3849, -8.3849, -8.3849, -8.3849, -8.3849, -8.3849, -8.3849, -8.3849, -8.3849, -8.3849, -8.3849, -8.3849, -8.3849, -8.3849, -8.3849, -7.8348, -8.6652, -8.6652, -8.6652, -8.6652, -8.6652, -8.6652, -8.6652, -7.9869, -8.3849, -6.4582, -6.1803, -6.7934, -8.1662, -6.8982, -7.482, -7.3012, -6.8444, -7.1481, -7.2217, -7.7029, -7.482, -7.7029, -7.5864, -7.482, -7.5864, -7.482, -7.7029, -7.7029, -7.3012, -7.9869, -7.3875, -7.5864, -7.5864, -7.8348, -7.8348, -7.6147, -7.661, -7.7607, -8.0644, -8.138, -8.3038, -6.4745, -8.3983, -8.3983, -8.3983, -8.5026, -8.5026, -8.5026, -8.6191, -8.6191, -8.6191, -8.6191, -8.6191, -8.7511, -8.7511, -8.7511, -8.7511, -8.7511, -8.7511, -7.5281, -8.0644, -8.9031, -8.9031, -8.9031, -8.9031, -8.138, -8.138, -7.9958, -7.661, -8.3983, -7.7096, -7.4107, -7.7096, -7.7607, -6.9236, -7.9316, -7.661, -7.4483, -6.0939, -7.8145, -7.3395, -7.0187, -7.9958, -7.5281, -7.3395, -7.273, -7.4874, -6.796, -6.3267, -6.124, -6.5496, -6.5341, -7.2106, -6.9012, -6.6479, -7.661, -6.9012, -7.1519, -7.1519, -7.1809, -7.1519, -7.1809, -7.2413, -7.1809, -7.2106, -7.2413, -7.1809, -7.2106, -7.2413, -7.273, -7.2413, -7.273, -7.3057, -6.2443, -7.1588, -7.6676, -7.7244, -7.7244, -7.7244, -7.8489, -7.9911, -8.1569, -8.1569, -8.2514, -8.2514, -7.6138, -8.3557, -8.4722, -8.4722, -8.4722, -6.0733, -8.6042, -8.6042, -8.6042, -8.6042, -8.6042, -7.4236, -8.7562, -8.7562, -8.7562, -8.7562, -8.7562, -8.7562, -7.5141, -6.8971, -6.2713, -6.3132, -7.1926, -7.1926, -8.0705, -7.0944, -7.0637, -7.5141, -8.3557, -7.3812, -7.005, -6.4671, -6.6693, -7.6138, -7.4236, -7.8489, -6.2311, -7.0637, -6.7997, -6.1311, -7.005, -7.005, -6.9496, -6.8971, -7.034, -7.0944, -7.0944, -7.034, -7.005, -7.0944, -7.005, -7.1261, -7.1926, -7.1926, -6.6479, -6.9594, -7.3148, -7.4144, -7.4682, -7.4682, -7.4682, -7.7181, -7.8712, -7.8712, -7.8712, -6.7237, -8.052, -8.1564, -8.1564, -8.2729, -8.2729, -8.2729, -8.2729, -8.4048, -8.4048, -7.2242, -8.5569, -8.5569, -8.5569, -7.4682, -8.7362, -8.7362, -8.7362, -8.7362, -7.9575, -6.8057, -8.052, -7.9575, -6.6238, -7.3148, -7.6496, -7.4144, -6.9932, -6.5116, -7.6496, -7.0645, -6.4107, -7.1021, -6.8057, -6.3916, -6.8057, -6.8644, -7.2242, -7.3148, -6.6725, -7.5251, -6.9267, -7.4682, -7.1818, -7.2685, -7.2685, -7.3148, -7.4144, -7.3665, -7.9237, -7.9879, -8.13, -8.13, -7.4028, -8.2095, -8.2095, -8.2095, -7.4794, -8.3903, -8.6112, -8.6112, -7.9237, -8.7431, -8.7431, -8.7431, -8.7431, -8.7431, -8.7431, -8.13, -8.8952, -8.8952, -8.8952, -8.8952, -8.8952, -8.8952, -9.0745, -9.0745, -9.0745, -8.3903, -7.6068, -8.13, -8.2095, -8.2095, -7.3315, -7.7527, -7.9237, -6.8289, -7.5625, -7.4028, -6.424, -7.8634, -8.0564, -8.2958, -6.0377, -6.8713, -7.7017, -7.4794, -6.0959, -7.6068, -6.9157, -7.0108, -7.0108, -6.8289, -6.749, -7.5625, -7.2334, -7.1159, -7.0886, -6.9386, -7.4794, -7.2027, -7.265, -6.9621, -7.2027, -7.0361, -7.2027, -7.1729, -7.2334, -7.3315, -7.2977, -7.4028, -7.4028, -8.0117, -8.2956, -8.2956, -7.8952, -8.6937, -8.6937, -8.6937, -8.6937, -8.6937, -8.6937, -8.0117, -8.974, -8.974, -8.974, -8.974, -8.974, -8.974, -8.974, -8.974, -8.974, -8.974, -8.974, -8.974, -8.974, -8.974, -8.974, -8.974, -8.974, -8.974, -8.974, -6.5164, -6.4891, -8.475, -8.0117, -7.61, -7.3884, -7.3242, -7.207, -6.6655, -7.3242, -7.0073, -7.3242, -8.475, -7.3884, -6.732, -7.4569, -5.9579, -8.6937, -8.6937, -6.3626, -6.8032, -6.8799, -7.207, -7.4569, -7.1022, -7.0536, -7.4569, -7.3884, -7.2639, -6.963, -6.732, -6.963, -7.0073, -7.3884, -6.963, -7.3884, -7.3242, -7.3884, -7.3242, -6.9312, -7.7226, -7.8757, -7.8757, -8.0565, -8.1609, -8.5614, -8.5614, -7.962, -7.962, -8.7407, -8.7407, -8.7407, -8.7407, -8.7407, -8.7407, -8.7407, -7.5899, -8.9594, -8.9594, -8.9594, -8.9594, -8.9594, -8.9594, -8.9594, -8.9594, -8.9594, -8.9594, -8.9594, -8.9594, -8.2774, -8.4094, -8.4094, -8.5614, -7.962, -6.5376, -6.7023, -8.4094, -6.6051, -6.9021, -7.3679, -7.1066, -6.4549, -6.8102, -7.5296, -7.419, -7.4728, -6.7822, -7.1458, -7.3679, -6.584, -7.1866, -6.7024, -6.399, -7.0419, -6.7316, -6.9984, -7.0007, -7.1866, -7.2763, -7.1902, -7.2322, -7.2755, -7.4193, -7.3717, -7.4199, -7.419, -6.8063, -6.9842, -7.2314, -7.4008, -7.4775, -7.8615, -8.1281, -7.2958, -8.2076, -8.2939, -8.2939, -8.6093, -8.7412, -8.7412, -8.7412, -8.7412, -8.7412, -8.7412, -8.8932, -8.8932, -8.8932, -8.8932, -8.8932, -8.8932, -8.8932, -8.8932, -8.8932, -8.8932, -8.2076, -8.1281, -7.1421, -8.2939, -7.9859, -8.3884, -8.1281, -7.2314, -6.494, -7.2314, -8.4927, -7.2008, -8.2076, -7.6048, -7.0093, -8.3884, -8.2962, -8.2939, -7.9218, -6.1883, -7.5606, -7.5606, -7.114, -7.3646, -6.7664, -6.8063, -6.8284, -7.06, -6.4522, -7.2631, -7.0092, -6.808, -6.441, -6.9631, -7.039, -7.1587, -7.1421, -7.2012, -7.2048, -7.1962, -7.2336, -7.2693, -6.6545, -6.7779, -7.4686, -7.5224, -7.7723, -7.8459, -8.0117, -8.0117, -8.0117, -8.1062, -8.1062, -8.1062, -7.3227, -8.2106, -8.2106, -8.3271, -8.3271, -8.3271, -8.3271, -8.459, -8.459, -8.459, -8.459, -8.459, -8.459, -8.611, -8.611, -8.611, -8.611, -8.611, -7.8459, -5.2188, -7.2784, -7.5224, -6.702, -5.9859, -6.9493, -7.8459, -6.5657, -8.1062, -6.3055, -7.5793, -6.9186, -6.6091, -7.2784, -8.0117, -6.2268, -6.9809, -7.7037, -6.702, -7.369, -6.7779, -7.0136, -7.0474, -7.3227, -7.369, -7.3227, -7.1953, -7.236, -7.1562, -7.2784, -7.236, -7.2784, -7.3227], \"loglift\": [30.0, 29.0, 28.0, 27.0, 26.0, 25.0, 24.0, 23.0, 22.0, 21.0, 20.0, 19.0, 18.0, 17.0, 16.0, 15.0, 14.0, 13.0, 12.0, 11.0, 10.0, 9.0, 8.0, 7.0, 6.0, 5.0, 4.0, 3.0, 2.0, 1.0, 1.8072, 1.804, 1.8007, 1.7994, 1.7987, 1.7987, 1.7966, 1.7884, 1.7884, 1.7848, 1.7807, 1.7807, 1.7758, 1.7758, 1.77, 1.77, 1.7685, 1.763, 1.763, 1.763, 1.7587, 1.7553, 1.7543, 1.7543, 1.7543, 1.7543, 1.7543, 1.7543, 1.7543, 1.7513, 1.7503, 1.7224, 1.7343, 1.7236, 1.6547, 1.5931, 1.6613, 1.6288, 1.6786, 1.4472, 1.1695, 1.5339, 1.343, 0.8977, 0.9628, 0.5881, 0.8019, 1.1632, 0.6421, 1.1326, 0.3085, 0.7456, 0.5584, 0.5019, 0.3499, 0.8774, -0.0326, 0.5152, 1.0578, 0.6152, 0.9833, 0.763, 0.326, 0.2322, 0.4744, 0.325, 0.4312, 0.4994, -0.1426, 0.4653, 0.1539, 0.2834, 0.2864, -0.1855, 0.3125, 2.3975, 2.3863, 2.3821, 2.3715, 2.3694, 2.3633, 2.3633, 2.337, 2.3284, 2.3284, 2.3178, 2.3178, 2.3178, 2.3076, 2.3044, 2.3044, 2.2869, 2.2869, 2.2856, 2.2629, 2.2629, 2.2629, 2.2629, 2.2629, 2.2629, 2.2629, 2.2629, 2.2629, 2.2601, 2.2282, 2.1558, 2.0768, 2.0611, 1.9592, 1.9025, 1.4471, 1.9477, 1.3735, 1.8857, 2.0852, 1.7994, 0.5627, 1.7429, 1.3935, 0.8925, 1.2155, 0.9545, 1.5817, 0.775, 1.0671, 0.5628, 0.9541, -0.0418, -0.0002, 1.3746, 0.0274, 0.0906, 0.3976, 0.1555, 0.2863, 0.3463, 0.3246, 0.3224, -0.256, 0.0237, 0.4202, 0.1978, 4.1051, 4.0457, 3.9915, 3.9487, 3.8785, 3.7809, 3.7809, 3.6986, 3.6986, 3.6986, 3.6986, 3.6986, 3.6986, 3.6986, 3.6986, 3.6986, 3.6986, 3.6986, 3.6986, 3.6986, 3.6986, 3.6986, 3.6404, 3.5762, 3.5762, 3.5762, 3.5762, 3.5762, 3.5762, 3.5762, 3.561, 3.4357, 2.0863, 1.8518, 2.2258, 3.1421, 1.7, 2.177, 1.7244, 0.7306, 0.8137, 0.4043, 1.7333, 1.0413, 1.5539, 1.0426, 0.6529, 0.9772, 0.5209, 1.2713, 1.2133, -0.4024, 2.1161, -0.5876, 0.2919, -0.258, -0.0501, -0.6258, 2.043, 2.0415, 2.0379, 2.0246, 2.0208, 2.0111, 2.011, 2.0048, 2.0048, 2.0048, 1.9973, 1.9973, 1.9973, 1.9879, 1.9879, 1.9879, 1.9879, 1.9879, 1.976, 1.976, 1.976, 1.976, 1.976, 1.976, 1.9728, 1.9716, 1.9605, 1.9605, 1.9605, 1.9605, 1.9588, 1.9513, 1.9356, 1.8739, 1.9264, 1.8226, 1.7423, 1.7919, 1.7506, 1.5291, 1.7785, 1.6824, 1.5048, 0.8827, 1.6421, 1.4105, 1.2466, 1.7151, 1.4462, 1.3136, 1.2525, 1.3666, 0.8452, 0.4732, 0.092, 0.4391, 0.3647, 0.9847, 0.3903, 0.0143, 1.4111, 0.1804, 0.5559, 0.4383, 0.4939, 0.3976, 0.4467, 0.5916, 0.3187, 0.3858, 0.3942, 0.1475, 0.1632, 0.3074, 0.464, 0.2289, 0.3021, 0.2923, 2.2898, 2.2738, 2.2565, 2.2539, 2.2539, 2.2539, 2.2479, 2.2401, 2.2296, 2.2296, 2.2228, 2.2228, 2.2159, 2.2146, 2.2045, 2.2045, 2.2045, 2.1925, 2.1917, 2.1917, 2.1917, 2.1917, 2.1917, 2.1873, 2.1749, 2.1749, 2.1749, 2.1749, 2.1749, 2.1749, 2.1248, 2.0584, 1.9985, 1.917, 2.0141, 1.9912, 2.0891, 1.7323, 1.6984, 1.8424, 2.1116, 1.7292, 1.5655, 1.2457, 1.3416, 1.8001, 1.6483, 1.9068, 0.5689, 1.1735, 0.8416, 0.0849, 0.7767, 0.5929, 0.4031, 0.0794, 0.4217, 0.5727, 0.4806, 0.2414, -0.1062, 0.1146, -0.3429, 0.181, 0.5153, 0.4039, 2.6159, 2.6076, 2.5946, 2.5901, 2.5875, 2.5875, 2.5875, 2.5734, 2.563, 2.563, 2.563, 2.5547, 2.5487, 2.5393, 2.5393, 2.5276, 2.5276, 2.5276, 2.5276, 2.5129, 2.5129, 2.5005, 2.4937, 2.4937, 2.4937, 2.476, 2.4675, 2.4675, 2.4675, 2.4675, 2.4584, 2.4287, 2.4497, 2.4032, 2.2198, 2.3103, 2.2795, 1.9444, 1.6281, 1.2495, 2.0209, 1.4801, 0.7983, 1.2297, 0.8258, 0.2706, 0.6499, 0.7336, 1.1456, 1.2488, -0.4565, 1.6603, -0.0226, 1.4654, 0.0211, 0.3202, 0.2089, 0.1795, -0.6145, 2.0617, 2.0424, 2.0395, 2.0322, 2.0322, 2.0308, 2.0278, 2.0278, 2.0278, 2.0204, 2.0162, 1.9992, 1.9992, 1.9953, 1.9873, 1.9873, 1.9873, 1.9873, 1.9873, 1.9873, 1.9755, 1.9717, 1.9717, 1.9717, 1.9717, 1.9717, 1.9717, 1.9504, 1.9504, 1.9504, 1.934, 1.9016, 1.8925, 1.8875, 1.8272, 1.6333, 1.7056, 1.7277, 1.4018, 1.6011, 1.5422, 1.1003, 1.6493, 1.7209, 1.8093, 0.8664, 1.1668, 1.5133, 1.2426, 0.1201, 1.3213, 0.6083, 0.6563, 0.6153, 0.3741, 0.2276, 1.2072, 0.7248, 0.4728, 0.2852, -0.0398, 0.899, 0.2916, 0.4291, -0.2999, 0.2529, -0.2361, 0.1257, -0.0913, 0.0971, 0.304, 0.0094, 0.1874, -0.0501, 3.0347, 2.9905, 2.9905, 2.913, 2.9084, 2.9084, 2.9084, 2.9084, 2.9084, 2.9084, 2.8735, 2.8337, 2.8337, 2.8337, 2.8337, 2.8337, 2.8337, 2.8337, 2.8337, 2.8337, 2.8337, 2.8337, 2.8337, 2.8337, 2.8337, 2.8337, 2.8337, 2.8337, 2.8337, 2.8337, 2.6152, 2.5455, 2.7604, 2.68, 2.6117, 2.4933, 2.4771, 2.3731, 2.1893, 2.3128, 2.0609, 2.1106, 2.609, 2.0901, 1.7667, 2.0719, 0.9462, 2.659, 2.659, 1.1617, 1.4274, 1.3842, 1.5826, 1.7891, 1.4134, 1.2496, 1.567, 1.4787, 1.1888, 0.6955, 0.2445, -0.0642, -0.2073, 0.9587, -0.747, 0.812, -0.2426, 0.6554, -0.662, 2.6007, 2.5656, 2.5553, 2.5553, 2.541, 2.5316, 2.4861, 2.4861, 2.4692, 2.4659, 2.4601, 2.4601, 2.4601, 2.4601, 2.4601, 2.4601, 2.4601, 2.4583, 2.4224, 2.4224, 2.4224, 2.4224, 2.4224, 2.4224, 2.4224, 2.4224, 2.4224, 2.4224, 2.4224, 2.4224, 2.3922, 2.3884, 2.3777, 2.3484, 2.1787, 1.7834, 1.8031, 2.2379, 1.3399, 1.3775, 1.5544, 1.4061, 1.0007, 1.1229, 1.5358, 1.4312, 1.4553, 0.8763, 1.1359, 1.2448, 0.3201, 0.9416, 0.2863, -0.183, 0.6252, -0.0694, 0.2106, 0.081, 0.3621, 0.365, 0.0128, 0.0593, 0.0316, 0.5278, 0.1523, -0.0672, -0.0831, 2.0757, 2.0728, 2.0677, 2.0635, 2.0614, 2.0478, 2.035, 2.0343, 2.0306, 2.0253, 2.0253, 2.002, 1.9901, 1.9901, 1.9901, 1.9901, 1.9901, 1.9901, 1.9745, 1.9745, 1.9745, 1.9745, 1.9745, 1.9745, 1.9745, 1.9745, 1.9745, 1.9745, 1.9694, 1.965, 1.9164, 1.9439, 1.9233, 1.9468, 1.9199, 1.7417, 1.6118, 1.7124, 1.9142, 1.6843, 1.8445, 1.5813, 1.3479, 1.8548, 1.8068, 1.8017, 1.6274, 0.8004, 1.4561, 1.4439, 1.1486, 1.2609, 0.8238, 0.8522, 0.803, 0.8731, 0.21, 0.8653, 0.5395, 0.2737, -0.225, 0.344, 0.3137, 0.3187, 0.1494, 0.1293, 0.0706, -0.2973, -0.0307, 0.059, 2.5213, 2.5186, 2.4957, 2.4932, 2.4797, 2.4751, 2.4635, 2.4635, 2.4635, 2.456, 2.456, 2.456, 2.4516, 2.447, 2.447, 2.4358, 2.4358, 2.4358, 2.4358, 2.4217, 2.4217, 2.4217, 2.4217, 2.4217, 2.4217, 2.4032, 2.4032, 2.4032, 2.4032, 2.4032, 2.3878, 2.1117, 2.1951, 2.1175, 1.6782, 1.3499, 1.7728, 2.0858, 1.3043, 2.1875, 0.9035, 1.7922, 1.0844, 0.7647, 1.3897, 2.1088, -0.0108, 0.727, 1.7456, 0.1968, 1.0945, -0.1157, 0.3391, 0.2279, 0.8566, 0.952, 0.8239, 0.299, 0.3901, 0.0467, 0.3103, -0.2595, -0.4784, -0.0312]}, \"token.table\": {\"Topic\": [5, 8, 6, 6, 7, 6, 1, 2, 4, 5, 6, 7, 8, 10, 11, 10, 5, 2, 4, 10, 6, 9, 11, 9, 11, 4, 1, 2, 4, 4, 2, 4, 1, 3, 10, 9, 11, 9, 9, 10, 9, 1, 6, 6, 10, 1, 2, 4, 5, 7, 8, 9, 10, 11, 4, 5, 6, 1, 1, 10, 11, 1, 2, 4, 5, 6, 7, 8, 9, 10, 11, 2, 4, 9, 2, 9, 6, 6, 4, 4, 1, 2, 3, 4, 5, 6, 7, 8, 10, 11, 3, 1, 2, 4, 5, 6, 6, 1, 2, 7, 10, 1, 2, 3, 4, 5, 6, 7, 8, 9, 10, 11, 2, 6, 7, 9, 11, 1, 2, 5, 6, 8, 10, 11, 1, 4, 5, 10, 11, 1, 7, 10, 1, 4, 5, 7, 11, 5, 10, 1, 2, 4, 5, 6, 7, 8, 9, 4, 5, 7, 8, 9, 9, 9, 1, 2, 3, 4, 5, 6, 7, 8, 9, 10, 11, 1, 2, 3, 4, 5, 6, 7, 8, 9, 10, 11, 6, 1, 1, 2, 4, 5, 6, 7, 9, 10, 11, 6, 9, 9, 9, 4, 1, 2, 3, 4, 5, 6, 7, 8, 9, 10, 11, 1, 3, 7, 3, 3, 3, 11, 1, 2, 4, 5, 7, 9, 10, 11, 9, 1, 2, 7, 10, 11, 6, 10, 6, 1, 2, 4, 5, 6, 7, 8, 9, 10, 11, 1, 1, 2, 4, 5, 6, 7, 1, 5, 7, 9, 1, 2, 3, 4, 5, 6, 7, 8, 9, 10, 11, 7, 2, 4, 1, 2, 4, 5, 7, 9, 11, 1, 3, 5, 7, 11, 1, 3, 4, 10, 1, 2, 4, 5, 6, 7, 8, 9, 10, 1, 2, 4, 5, 6, 8, 9, 10, 11, 10, 8, 3, 3, 1, 2, 1, 1, 4, 5, 11, 11, 11, 1, 2, 6, 7, 9, 10, 11, 9, 9, 11, 11, 1, 2, 4, 5, 6, 7, 8, 9, 10, 11, 1, 2, 2, 2, 10, 10, 4, 1, 2, 4, 5, 6, 7, 8, 9, 10, 11, 1, 2, 3, 4, 5, 6, 7, 8, 9, 10, 11, 1, 2, 4, 5, 6, 7, 8, 9, 10, 11, 1, 6, 7, 9, 11, 7, 9, 4, 5, 10, 1, 2, 4, 5, 6, 7, 8, 9, 10, 11, 3, 3, 3, 5, 6, 7, 9, 10, 11, 6, 3, 3, 5, 7, 11, 4, 10, 1, 2, 4, 5, 7, 8, 9, 11, 1, 2, 3, 4, 5, 6, 7, 9, 10, 11, 1, 2, 4, 5, 6, 7, 8, 9, 10, 11, 1, 2, 5, 7, 8, 11, 8, 9, 1, 2, 9, 5, 1, 2, 4, 5, 6, 7, 8, 9, 10, 11, 1, 4, 5, 10, 8, 4, 5, 7, 1, 2, 4, 5, 6, 7, 9, 10, 11, 5, 1, 2, 4, 5, 6, 7, 8, 9, 10, 11, 1, 2, 4, 5, 7, 9, 11, 9, 1, 7, 9, 2, 4, 5, 7, 10, 11, 1, 2, 3, 4, 5, 6, 7, 8, 9, 10, 11, 3, 4, 4, 1, 2, 4, 5, 6, 7, 9, 10, 11, 1, 2, 4, 6, 7, 8, 10, 11, 1, 2, 4, 5, 6, 7, 10, 11, 1, 2, 7, 10, 5, 6, 7, 1, 2, 4, 5, 6, 7, 8, 9, 10, 11, 5, 1, 2, 6, 7, 9, 7, 1, 2, 4, 6, 7, 9, 10, 11, 1, 2, 5, 6, 7, 9, 10, 11, 3, 2, 4, 5, 7, 10, 11, 1, 4, 6, 10, 11, 11, 7, 10, 1, 3, 4, 5, 9, 11, 4, 4, 2, 4, 5, 6, 7, 10, 11, 1, 2, 4, 5, 7, 8, 9, 10, 11, 1, 2, 3, 4, 5, 6, 7, 8, 9, 10, 11, 1, 1, 2, 4, 5, 6, 7, 8, 9, 10, 11, 1, 4, 5, 7, 9, 10, 11, 1, 2, 4, 5, 6, 7, 10, 11, 2, 4, 5, 6, 7, 10, 11, 1, 2, 5, 10, 1, 2, 3, 4, 5, 6, 7, 8, 9, 10, 11, 3, 3, 1, 2, 3, 4, 5, 6, 7, 8, 9, 10, 11, 1, 2, 4, 1, 2, 4, 5, 6, 7, 8, 9, 10, 11, 10, 1, 7, 10, 1, 2, 3, 4, 5, 6, 7, 8, 9, 10, 11, 1, 2, 4, 6, 7, 10, 11, 7, 4, 5, 7, 9, 11, 1, 2, 5, 6, 7, 8, 9, 10, 11, 1, 2, 4, 5, 6, 7, 8, 9, 10, 11, 7, 9, 7, 3, 4, 5, 7, 9, 10, 2, 2, 1, 4, 5, 8, 9, 10, 11, 10, 1, 5, 6, 7, 9, 10, 11, 6, 1, 2, 3, 4, 5, 6, 7, 8, 9, 10, 11, 1, 2, 4, 7, 9, 10, 9, 1, 7, 1, 2, 4, 5, 6, 7, 9, 10, 11, 10, 1, 2, 3, 4, 5, 6, 7, 8, 9, 10, 11, 1, 2, 4, 5, 6, 7, 8, 9, 10, 11, 5, 8, 1, 2, 4, 5, 6, 7, 8, 9, 10, 11, 7, 10, 10, 1, 2, 4, 5, 6, 7, 8, 9, 10, 11, 8, 1, 2, 4, 5, 6, 7, 8, 9, 10, 11, 4, 6, 9, 11, 5, 6, 9, 9, 1, 2, 4, 5, 7, 9, 10, 7, 1, 2, 4, 6, 8, 10, 11, 1, 5, 6, 7, 8, 4, 6, 4, 6, 7, 9, 8, 2, 4, 10, 5, 8, 8, 11, 2, 1, 6, 1, 3, 5, 7, 10, 11, 1, 4, 5, 7, 9, 1, 4, 7, 10, 11, 1, 7, 1, 10, 4, 7, 10, 10, 1, 2, 4, 6, 7, 9, 10, 2, 10, 2, 8, 7, 7, 4, 7, 11, 1, 2, 4, 5, 6, 7, 8, 9, 10, 11, 9, 9, 1, 4, 5, 6, 7, 9, 10, 7, 4, 1, 2, 4, 7, 9, 4, 4, 8, 1, 2, 4, 5, 6, 7, 8, 9, 10, 11, 4, 1, 11, 1, 5, 6, 7, 8, 9, 10, 11, 1, 4, 5, 7, 9, 1, 2, 3, 4, 5, 6, 7, 8, 9, 10, 11, 2, 10, 2, 6, 7, 1, 2, 4, 5, 6, 7, 10, 11, 1, 2, 3, 4, 5, 6, 7, 8, 9, 10, 11, 3, 2, 4, 5, 6, 7, 9, 10, 11, 1, 2, 4, 5, 6, 7, 8, 9, 10, 11, 4, 4, 1, 2, 3, 4, 5, 6, 7, 8, 9, 10, 11, 4, 6, 4, 5, 6, 7, 10, 1, 2, 3, 4, 5, 6, 7, 8, 9, 10, 11, 1, 2, 4, 5, 6, 7, 8, 9, 10, 11, 1, 2, 4, 5, 6, 7, 8, 9, 10, 11, 6, 9, 10, 1, 2, 4, 5, 6, 7, 9, 10, 11, 2, 2, 1, 2, 3, 4, 5, 6, 7, 9, 10, 11, 3, 1, 5, 6, 10, 11, 1, 10, 1, 5, 7, 9, 10, 11, 1, 2, 5, 6, 7, 8, 9, 10, 11, 1, 2, 5, 6, 7, 8, 10, 7, 1, 3, 4, 5, 7, 9, 11, 3, 3, 3, 1, 2, 3, 4, 5, 6, 7, 8, 9, 10, 11, 8, 9, 2, 5, 7, 10, 3, 1, 2, 3, 4, 5, 6, 7, 8, 9, 10, 11, 1, 2, 5, 6, 7, 10, 11, 11, 11, 11, 11, 1, 2, 3, 4, 5, 6, 7, 8, 9, 10, 1, 11, 1, 3, 9, 4, 7, 9, 10, 7, 11, 1, 2, 4, 5, 6, 7, 8, 9, 10, 11, 8, 8, 1, 2, 4, 5, 7, 8, 1, 2, 4, 5, 6, 7, 9, 10, 11, 2, 11, 1, 2, 10, 1, 2, 4, 7, 10, 10, 6, 2, 5, 7, 10, 11, 1, 5, 7, 8, 9, 10, 11, 9, 8, 8, 7, 1, 5, 6, 7, 8, 9, 10, 8, 4, 10, 11, 6, 7, 6, 7, 1, 2, 3, 4, 5, 6, 7, 8, 9, 10, 11, 11, 11, 8, 4, 5, 9, 1, 2, 3, 4, 5, 6, 7, 8, 9, 10, 11, 1, 2, 3, 4, 5, 6, 7, 9, 10, 11, 3, 3, 1, 2, 3, 4, 6, 7, 9, 10, 11, 3, 1, 1, 2, 3, 4, 5, 6, 7, 8, 9, 10, 11, 3, 1, 2, 4, 5, 6, 7, 8, 9, 10, 11, 10, 1, 2, 3, 4, 5, 6, 7, 8, 9, 10, 11, 1, 2, 4, 5, 6, 7, 11, 2, 1, 2, 5, 6, 7, 9, 10, 1, 2, 4, 5, 6, 7, 8, 9, 10, 1, 2, 3, 4, 5, 6, 7, 8, 9, 10, 11, 1, 2, 3, 4, 5, 6, 7, 8, 9, 10, 11, 8, 4, 7, 7, 1, 2, 3, 4, 5, 6, 7, 8, 9, 10, 11, 3, 6, 2, 4, 5, 6, 7, 8, 9, 10, 1, 2, 3, 4, 5, 6, 7, 8, 9, 10, 11, 1, 2, 4, 5, 6, 7, 9, 11, 5, 1, 2, 4, 5, 6, 7, 8, 9, 10, 11, 1, 4, 6, 7, 8, 9, 10, 11, 1, 2, 3, 4, 5, 6, 7, 9, 10, 11, 7, 1, 2, 3, 4, 5, 6, 7, 8, 9, 10, 11, 1, 2, 4, 5, 6, 7, 9, 10, 2, 9, 1, 4, 5, 11, 1, 7, 11, 1, 2, 4, 5, 6, 7, 8, 9, 10, 11, 8, 8, 9, 1, 1, 2, 3, 4, 5, 6, 7, 8, 9, 10, 11, 5, 5, 1, 2, 4, 5, 6, 7, 8, 9, 10, 11, 1, 6, 5, 4, 6, 9, 10, 3, 3, 1, 3, 1, 4, 6, 8, 10, 11, 5, 2, 4, 5, 5, 5, 5, 7, 10, 10, 11, 1, 2, 3, 4, 5, 6, 7, 9, 10, 11, 2, 4, 9, 1, 2, 4, 5, 6, 7, 8, 9, 10, 11, 1, 4, 5, 6, 7, 6, 1, 2, 4, 5, 7, 9, 1, 2, 4, 5, 7, 9, 10, 11, 1, 2, 4, 5, 6, 7, 8, 9, 10, 11, 7, 7, 1, 2, 3, 4, 5, 6, 7, 10, 11, 6, 1, 2, 4, 5, 6, 7, 9, 10, 11, 4, 1, 2, 4, 5, 6, 7, 8, 9, 10, 11, 11, 1, 2, 4, 5, 6, 7, 8, 9, 10, 9, 3, 3, 11, 7, 2, 4, 7, 9, 11, 11, 1, 2, 4, 5, 6, 7, 8, 9, 10, 6, 8, 8, 1, 2, 4, 5, 6, 7, 8, 9, 10, 11, 1, 4, 5, 6, 7, 9, 10, 11, 1, 1, 1, 2, 9, 1, 2, 4, 5, 6, 7, 8, 9, 10, 11, 8, 8, 7, 9, 5, 5, 5, 6, 5, 4, 4, 5, 7, 8, 9, 8, 1, 2, 3, 4, 5, 6, 7, 8, 9, 10, 11, 8, 8, 5, 1, 2, 4, 5, 6, 7, 9, 10, 5, 1, 4, 11, 1, 2, 4, 5, 7, 9, 10, 11, 2, 2, 1, 2, 4, 5, 6, 7, 8, 9, 10, 11, 1, 2, 3, 4, 5, 6, 7, 8, 9, 10, 11, 3, 11, 1, 7, 10, 4, 1, 2, 4, 5, 6, 7, 8, 9, 10, 11, 2, 5, 6, 1, 2, 4, 5, 7, 9, 10, 1, 2, 3, 4, 5, 6, 7, 9, 10, 11, 4, 10, 1, 10, 1, 2, 4, 5, 6, 7, 9, 10, 11, 1, 2, 4, 5, 6, 7, 8, 9, 10, 11, 5, 6, 8, 2, 9, 1, 2, 4, 5, 6, 7, 8, 9, 10, 11, 4, 11, 5, 1, 3, 4, 5, 6, 7, 9, 10, 11, 1, 2, 4, 10, 5, 11, 5, 9, 6, 6, 1, 4, 5, 6, 6, 6, 6, 6, 1, 1, 4, 5, 7, 8, 10, 11, 2, 4, 1, 4, 5, 6, 7, 9, 10, 11, 1, 1, 1, 2, 9, 11, 10, 1, 2, 4, 7, 9, 11, 11, 7, 1, 2, 4, 5, 7, 9, 10, 11, 10, 1, 2, 4, 5, 6, 7, 9, 10, 11, 6, 4, 1, 2, 3, 4, 5, 6, 7, 8, 9, 10, 11, 5, 10, 1, 9, 5, 11, 6, 1, 5, 7, 1, 11, 10, 7, 7, 11, 7, 1, 2, 4, 5, 6, 7, 8, 9, 10, 11, 8, 1, 11, 1, 2, 4, 5, 6, 7, 8, 9, 10, 8, 8, 4, 5, 1, 2, 4, 5, 7, 9, 11, 7, 1, 2, 4, 5, 6, 7, 8, 9, 10, 11, 1, 9, 10, 4, 6, 8, 4, 6, 8, 9, 11, 1, 2, 3, 4, 5, 6, 7, 8, 9, 10, 11, 11, 11, 11, 10, 10, 1, 4, 5, 6, 7, 9, 10, 11, 5, 5, 7, 1, 5, 7, 9, 10, 7, 1, 2, 4, 5, 6, 7, 10, 11, 1, 5, 7, 8, 9, 10, 11, 1, 2, 3, 4, 5, 6, 7, 8, 9, 10, 11, 8, 10, 1, 2, 4, 5, 6, 7, 8, 9, 10, 11, 1, 8, 9, 2, 2, 2, 7, 2, 4, 7, 8, 8, 10, 7, 1, 4, 1, 2, 4, 5, 6, 7, 10, 11, 11, 5, 2, 1, 2, 4, 5, 7, 8, 9, 11, 1, 4, 5, 6, 7, 9, 10, 11, 10, 11], \"Freq\": [0.3506843420458494, 0.7013686840916988, 0.9079531556822209, 0.8949646772972596, 0.06884343671517382, 0.9063847750465981, 0.0624259289425272, 0.18727778682758162, 0.0312129644712636, 0.1248518578850544, 0.312129644712636, 0.1248518578850544, 0.0624259289425272, 0.09363889341379081, 0.0312129644712636, 0.941880069167212, 0.9759675112367115, 0.6718804527226351, 0.11499714339825551, 0.9199771471860441, 0.20873077193222708, 0.6261923157966812, 0.10436538596611354, 0.6755353360173605, 0.22517844533912015, 0.9936963938453729, 0.03987745618735997, 0.019938728093679987, 0.9371202204029593, 0.9379576597641162, 0.09987752401697654, 0.8988977161527889, 0.10049553069143931, 0.10049553069143931, 0.7034687148400751, 0.8563080952910211, 0.09514534392122458, 0.9676422097062188, 0.976566162486398, 0.863614087271561, 0.7753267125504565, 0.9112688311191189, 0.10125209234656876, 0.10821893206547997, 0.8657514565238398, 0.14410740283356172, 0.028821480566712344, 0.48996516963410985, 0.05764296113342469, 0.08646444170013703, 0.028821480566712344, 0.028821480566712344, 0.05764296113342469, 0.05764296113342469, 0.04405735540576238, 0.04405735540576238, 0.92520446352101, 0.9361485716975111, 0.9435822705875062, 0.9418800691672273, 0.933172967498108, 0.1811510820966901, 0.06793165578625879, 0.13586331157251758, 0.02264388526208626, 0.04528777052417252, 0.09057554104834505, 0.02264388526208626, 0.2490827378829489, 0.13586331157251758, 0.02264388526208626, 0.7340177750006699, 0.07340177750006699, 0.22020533250020097, 0.9381571927297918, 0.9037331930625544, 0.9107899615074824, 0.9918986390183188, 0.998213952596689, 0.8600806596215409, 0.08927335961711222, 0.04463667980855611, 0.08927335961711222, 0.2455017389470586, 0.22318339904278053, 0.13391003942566831, 0.04463667980855611, 0.022318339904278055, 0.11159169952139027, 0.022318339904278055, 0.7282522402701967, 0.12463224461757552, 0.06231612230878776, 0.06231612230878776, 0.06231612230878776, 0.7477934677054531, 0.9586211835923161, 0.09975418898190667, 0.09975418898190667, 0.09975418898190667, 0.7980335118552534, 0.11710794062923473, 0.13662593073410717, 0.009758995052436227, 0.1463849257865434, 0.08783095547192604, 0.048794975262181135, 0.13662593073410717, 0.048794975262181135, 0.058553970314617364, 0.17566191094385208, 0.03903598020974491, 0.8384045089622642, 0.0846830313708188, 0.2540490941124564, 0.0846830313708188, 0.5927812195957316, 0.04017658503848596, 0.08035317007697192, 0.16070634015394383, 0.04017658503848596, 0.04017658503848596, 0.6026487755772894, 0.04017658503848596, 0.029731454455651157, 0.029731454455651157, 0.2081201811895581, 0.6540919980243255, 0.05946290891130231, 0.09272762741499388, 0.8345486467349449, 0.09272762741499388, 0.04764034916357123, 0.19056139665428493, 0.619324539126426, 0.04764034916357123, 0.09528069832714246, 0.8680144458651718, 0.14466907431086198, 0.10763623305576545, 0.05381811652788272, 0.05381811652788272, 0.16145434958364815, 0.10763623305576545, 0.05381811652788272, 0.3229086991672963, 0.10763623305576545, 0.08054273795452513, 0.2416282138635754, 0.08054273795452513, 0.4832564277271508, 0.08054273795452513, 0.9037331930625544, 0.9037331930625544, 0.14637209731242767, 0.13010853094438016, 0.01626356636804752, 0.08131783184023761, 0.01626356636804752, 0.06505426547219008, 0.09758139820828513, 0.03252713273609504, 0.22768992915266528, 0.11384496457633264, 0.06505426547219008, 0.21573443632567826, 0.08693775792228825, 0.00321991696008475, 0.12879667840339, 0.07083817312186451, 0.09337759184245775, 0.09337759184245775, 0.02253941872059325, 0.06761825616177976, 0.15133609712398327, 0.07083817312186451, 0.8075352498591977, 0.9805217326056376, 0.03190779961326858, 0.2233545972928801, 0.04786169941990288, 0.14358509825970864, 0.01595389980663429, 0.01595389980663429, 0.09572339883980575, 0.382893595359223, 0.03190779961326858, 0.13954726367637998, 0.8372835820582799, 0.7220761292234888, 0.7220761292234888, 0.9379576597641018, 0.1611059754781682, 0.04603027870804806, 0.04603027870804806, 0.06904541806207208, 0.13809083612414416, 0.06904541806207208, 0.18412111483219223, 0.02301513935402403, 0.09206055741609612, 0.11507569677012014, 0.06904541806207208, 0.33545383939351353, 0.33545383939351353, 0.33545383939351353, 0.7282522402701967, 0.7282522402701967, 0.7282522402701967, 0.7499596955558647, 0.12415800257955907, 0.031039500644889768, 0.0931185019346693, 0.1862370038693386, 0.0931185019346693, 0.31039500644889767, 0.12415800257955907, 0.062079001289779535, 0.9887239982156273, 0.1732800276262985, 0.05776000920876616, 0.05776000920876616, 0.6353601012964277, 0.11552001841753232, 0.7776688529331096, 0.920312783187881, 0.9063847750465981, 0.20947021943306812, 0.10473510971653406, 0.13964681295537876, 0.09309787530358583, 0.04654893765179292, 0.09309787530358583, 0.058186172064741144, 0.11637234412948229, 0.0814606408906376, 0.058186172064741144, 0.9269435590237048, 0.2243647225810544, 0.0280455903226318, 0.0841367709678954, 0.5609118064526359, 0.0280455903226318, 0.0560911806452636, 0.1640415027577979, 0.7381867624100906, 0.04101037568944948, 0.04101037568944948, 0.20080962029992241, 0.09795591234142557, 0.0048977956170712785, 0.15183166412920965, 0.08326252549021174, 0.03428456931949895, 0.11264929919263941, 0.03428456931949895, 0.07836472987314046, 0.1616272553633522, 0.04408016055364151, 0.7579628324651418, 0.9870553798413786, 0.9497005589918173, 0.6734967405742891, 0.02806236419059538, 0.02806236419059538, 0.05612472838119076, 0.08418709257178614, 0.02806236419059538, 0.11224945676238152, 0.7756624000295419, 0.03693630476331152, 0.03693630476331152, 0.03693630476331152, 0.11080891428993456, 0.8836892975840058, 0.07364077479866715, 0.13619892148845625, 0.8171935289307375, 0.26280680739557843, 0.05840151275457298, 0.08760226913185946, 0.11680302550914597, 0.05840151275457298, 0.08760226913185946, 0.17520453826371893, 0.05840151275457298, 0.05840151275457298, 0.1227600710065917, 0.01753715300094167, 0.14029722400753336, 0.08768576500470836, 0.03507430600188334, 0.05261145900282501, 0.05261145900282501, 0.47350313102542513, 0.01753715300094167, 0.9718991548745306, 0.5527047395890774, 0.7282522402701967, 0.7282522402701967, 0.9647844463080698, 0.9569996070482679, 0.9361485716974998, 0.9361485716974998, 0.9982139525966822, 0.8918899667202113, 0.8748948570163161, 0.8749287600716555, 0.9721221385739204, 0.09671367361039676, 0.04835683680519838, 0.04835683680519838, 0.04835683680519838, 0.19342734722079352, 0.14507051041559513, 0.4835683680519838, 0.7220761292234888, 0.7220761292234888, 0.8748561138845093, 0.972122138573919, 0.11603971262612521, 0.09372438327494728, 0.19637489829036572, 0.062482922183298185, 0.035704526961884676, 0.05355679044282702, 0.02677839522141351, 0.09372438327494728, 0.2767100839546063, 0.04463065870235585, 0.12606406105083612, 0.8824484273558528, 0.9718635044015108, 0.928894942537224, 0.9781974525431525, 0.9551507472553287, 0.8600806596215476, 0.23879442048947186, 0.11420602719061697, 0.22841205438123394, 0.10382366108237906, 0.03114709832471372, 0.03114709832471372, 0.020764732216475814, 0.05191183054118953, 0.08305892886590326, 0.09344129497414115, 0.2882446706805275, 0.02586811147132939, 0.0073908889918083975, 0.19955400277882673, 0.17738133580340154, 0.03695444495904199, 0.09608155689350917, 0.03325900046313779, 0.02956355596723359, 0.05173622294265878, 0.048040778446754584, 0.2950444106072594, 0.040978390362119366, 0.18850059566574906, 0.1475222053036297, 0.024587034217271618, 0.12293517108635808, 0.040978390362119366, 0.03278271228969549, 0.040978390362119366, 0.057369746506967106, 0.2608309346366661, 0.5216618692733322, 0.06520773365916653, 0.13041546731833306, 0.06520773365916653, 0.17318955108887538, 0.6927582043555015, 0.11562756620306759, 0.11562756620306759, 0.8093929634214732, 0.15340266599287605, 0.05965659233056291, 0.1874921473246263, 0.12783555499406338, 0.034089481331750236, 0.1704474066587512, 0.017044740665875118, 0.0852237033293756, 0.11931318466112582, 0.0426118516646878, 0.9284355363189256, 0.8528508584096891, 0.8528508584096891, 0.05569541787871075, 0.1113908357574215, 0.6683450145445289, 0.05569541787871075, 0.05569541787871075, 0.05569541787871075, 0.7776688529331096, 0.7282522402701967, 0.7282522402701967, 0.12161223322047841, 0.12161223322047841, 0.7296733993228706, 0.8921852886798389, 0.09913169874220433, 0.09647824139998096, 0.05788694483998858, 0.5788694483998857, 0.05788694483998858, 0.03859129655999238, 0.13506953795997334, 0.03859129655999238, 0.8749287600716555, 0.2824483959356639, 0.07604379890575567, 0.02172679968735876, 0.13036079812415258, 0.08690719874943505, 0.06518039906207629, 0.0543169992183969, 0.04345359937471752, 0.16295099765519072, 0.07604379890575567, 0.3068685367286512, 0.05579427940520931, 0.013948569851302328, 0.013948569851302328, 0.013948569851302328, 0.041845709553906985, 0.05579427940520931, 0.18133140806693027, 0.1952799779182326, 0.11158855881041863, 0.18918936592464525, 0.06306312197488174, 0.06306312197488174, 0.18918936592464525, 0.4414418538241722, 0.06306312197488174, 0.5527047395890723, 0.7220761292234871, 0.04862848236428477, 0.948255406103553, 0.9060178871739485, 0.920126247886606, 0.16752827517475527, 0.07179783221775225, 0.02393261073925075, 0.095730442957003, 0.07179783221775225, 0.07179783221775225, 0.02393261073925075, 0.02393261073925075, 0.11966305369625375, 0.3111239396102598, 0.23511963801792624, 0.6583349864501934, 0.047023927603585244, 0.047023927603585244, 0.5527047395890723, 0.09990416677101958, 0.09990416677101958, 0.7992333341681567, 0.13714148914313587, 0.03428537228578397, 0.29142566442916373, 0.23142626292904178, 0.008571343071445992, 0.15428417528602786, 0.1028561168573519, 0.008571343071445992, 0.025714029214337974, 0.8037533480054042, 0.3215166837290762, 0.2500685317892815, 0.07144815193979472, 0.03572407596989736, 0.07144815193979472, 0.05358611395484604, 0.01786203798494868, 0.07144815193979472, 0.03572407596989736, 0.03572407596989736, 0.10682243967293978, 0.035607479890979926, 0.10682243967293978, 0.035607479890979926, 0.24925235923685948, 0.32046731901881936, 0.10682243967293978, 0.7220761292234865, 0.11090223185006702, 0.8317667388755027, 0.05545111592503351, 0.050519582552956424, 0.025259791276478212, 0.025259791276478212, 0.4294164517001296, 0.025259791276478212, 0.4546762429766078, 0.35297316284061514, 0.12835387739658732, 0.03208846934914683, 0.16846446408302088, 0.16044234674573415, 0.008022117337286708, 0.008022117337286708, 0.016044234674573415, 0.03208846934914683, 0.016044234674573415, 0.08022117337286708, 0.8528508584096891, 0.9497005589918363, 0.9379576597641093, 0.0802933190179584, 0.0401466595089792, 0.12043997852693761, 0.12043997852693761, 0.3613199355808128, 0.0401466595089792, 0.0802933190179584, 0.0401466595089792, 0.0802933190179584, 0.19636070453536492, 0.38290337384396156, 0.03927214090707298, 0.01963607045353649, 0.15708856362829193, 0.009818035226768246, 0.17672463408182842, 0.01963607045353649, 0.0647012851923214, 0.3558570685577677, 0.0323506425961607, 0.0323506425961607, 0.0323506425961607, 0.1617532129808035, 0.2264544981731249, 0.0647012851923214, 0.1585937323542831, 0.6343749294171324, 0.07929686617714155, 0.07929686617714155, 0.8740092530196107, 0.9088967920943216, 0.834676559537319, 0.10275764887100837, 0.14679664124429767, 0.11743731299543814, 0.2201949618664465, 0.029359328248859534, 0.0440389923732893, 0.0440389923732893, 0.05871865649771907, 0.07339832062214884, 0.19083563361758696, 0.8037533480054089, 0.07256283720732154, 0.07256283720732154, 0.14512567441464308, 0.7256283720732154, 0.07256283720732154, 0.9411075956578675, 0.04150506530172072, 0.18677279385774323, 0.4358031856680676, 0.14526772855602252, 0.06225759795258108, 0.02075253265086036, 0.06225759795258108, 0.04150506530172072, 0.1353169923785959, 0.033829248094648975, 0.050743872141973456, 0.033829248094648975, 0.06765849618929795, 0.42286560118311217, 0.016914624047324488, 0.20297548856789382, 0.8528508584096891, 0.0649410848937483, 0.0649410848937483, 0.0649410848937483, 0.03247054244687415, 0.7143519338312313, 0.03247054244687415, 0.05355393839915396, 0.05355393839915396, 0.10710787679830792, 0.05355393839915396, 0.6962011991890015, 0.9544173046734348, 0.04639693564159439, 0.9279387128318878, 0.032504142492078114, 0.06500828498415623, 0.5200662798732498, 0.06500828498415623, 0.06500828498415623, 0.2600331399366249, 0.9379576597641093, 0.9379576597641093, 0.6166466103787039, 0.06166466103787039, 0.06166466103787039, 0.12332932207574078, 0.06166466103787039, 0.06166466103787039, 0.12332932207574078, 0.12540322437442145, 0.07165898535681225, 0.05374423901760919, 0.03582949267840613, 0.3045506877664521, 0.017914746339203064, 0.03582949267840613, 0.2508064487488429, 0.08957373169601532, 0.18492311232242645, 0.04109402496053921, 0.020547012480269605, 0.020547012480269605, 0.10273506240134803, 0.04109402496053921, 0.22601713728296566, 0.16437609984215684, 0.12328207488161763, 0.04109402496053921, 0.04109402496053921, 0.9269435590237058, 0.16409241150994697, 0.07458745977724862, 0.34310231497534366, 0.04475247586634917, 0.10442244368814807, 0.1193399356435978, 0.014917491955449724, 0.02983498391089945, 0.014917491955449724, 0.1193399356435978, 0.2340494506335015, 0.11702472531675075, 0.11702472531675075, 0.11702472531675075, 0.0780164835445005, 0.09752060443062563, 0.2340494506335015, 0.0635180716400148, 0.5081445731201184, 0.0635180716400148, 0.0635180716400148, 0.1270361432800296, 0.0635180716400148, 0.0635180716400148, 0.1270361432800296, 0.5539342276336184, 0.0692417784542023, 0.0692417784542023, 0.1384835569084046, 0.0692417784542023, 0.0692417784542023, 0.0692417784542023, 0.14203214890357124, 0.07101607445178562, 0.6391446700660706, 0.07101607445178562, 0.1435155541012252, 0.059094639924033916, 0.025326274253157394, 0.16039973693666348, 0.06753673134175305, 0.03376836567087652, 0.22793646827841654, 0.025326274253157394, 0.05065254850631479, 0.07597882275947218, 0.11818927984806783, 0.7282522402701967, 0.7282522402701967, 0.22437702819475308, 0.06935289962383277, 0.008159164661627385, 0.17950162255580246, 0.08975081127790123, 0.036716240977323227, 0.11830788759359707, 0.04079582330813692, 0.04079582330813692, 0.09383039360871492, 0.09383039360871492, 0.14721985975154178, 0.736099298757709, 0.14721985975154178, 0.09173515005819585, 0.1376027250872938, 0.022933787514548963, 0.045867575029097926, 0.022933787514548963, 0.045867575029097926, 0.0688013625436469, 0.09173515005819585, 0.43574196277643035, 0.022933787514548963, 0.9418800658264261, 0.12795954437225762, 0.7037774940474169, 0.12795954437225762, 0.2529107531446346, 0.08926261875692987, 0.007438551563077489, 0.17108668595078225, 0.11157827344616233, 0.0669469640676974, 0.07438551563077489, 0.037192757815387445, 0.05950841250461991, 0.10413972188308485, 0.029754206252309956, 0.04775023429371083, 0.04775023429371083, 0.09550046858742166, 0.47750234293710825, 0.19100093717484332, 0.04775023429371083, 0.04775023429371083, 0.8346765595373243, 0.06318708962202195, 0.8214321650862852, 0.06318708962202195, 0.8345171674260013, 0.13908619457100022, 0.05659989381606073, 0.05659989381606073, 0.05659989381606073, 0.22639957526424292, 0.11319978763212146, 0.3395993628963644, 0.05659989381606073, 0.05659989381606073, 0.11319978763212146, 0.08923360824205302, 0.06373829160146645, 0.1274765832029329, 0.050990633281173155, 0.050990633281173155, 0.39517740792909195, 0.03824297496087987, 0.03824297496087987, 0.1147289248826396, 0.025495316640586577, 0.9195226327040363, 0.9765661611567246, 0.8629182602182449, 0.03536197108802773, 0.03536197108802773, 0.03536197108802773, 0.03536197108802773, 0.03536197108802773, 0.8486873061126655, 0.8355272827610943, 0.8355272827610943, 0.074327220599216, 0.074327220599216, 0.22298166179764797, 0.5202905441945119, 0.074327220599216, 0.074327220599216, 0.074327220599216, 0.8636140872715572, 0.03190026030519417, 0.7975065076298541, 0.03190026030519417, 0.06380052061038834, 0.03190026030519417, 0.03190026030519417, 0.03190026030519417, 0.7776688529331107, 0.3800899954507867, 0.038008999545078664, 0.08868766560518355, 0.08868766560518355, 0.038008999545078664, 0.025339333030052445, 0.012669666515026223, 0.05067866606010489, 0.08868766560518355, 0.1773753312103671, 0.012669666515026223, 0.4917153888399021, 0.040976282403325175, 0.020488141201662587, 0.12292884720997553, 0.28683397682327627, 0.020488141201662587, 0.7220761292234865, 0.9467005572461975, 0.06311337048307984, 0.17214479688421122, 0.011476319792280747, 0.04590527916912299, 0.022952639584561493, 0.011476319792280747, 0.17214479688421122, 0.2180500760533342, 0.2983843145992994, 0.05738159896140374, 0.941880069167212, 0.22252278992303925, 0.044504557984607854, 0.005563069748075982, 0.044504557984607854, 0.11126139496151963, 0.16132902269420346, 0.022252278992303927, 0.016689209244227943, 0.08900911596921571, 0.08344604622113971, 0.19470744118265934, 0.23674239609858574, 0.08877839853696966, 0.17755679707393932, 0.21701386309037027, 0.029592799512323218, 0.07891413203286192, 0.00986426650410774, 0.07891413203286192, 0.059185599024646436, 0.01972853300821548, 0.3506843420599173, 0.7013686841198346, 0.11807989142852567, 0.21647980095229707, 0.1508798612697828, 0.019679981904754278, 0.019679981904754278, 0.16399984920628566, 0.013119987936502852, 0.026239975873005705, 0.09183991555551997, 0.17055984317453707, 0.31532078378856027, 0.6937057243348327, 0.9605604670531577, 0.20520442835658753, 0.049249062805581, 0.16416354268527, 0.180579896953797, 0.147747188416743, 0.065665417074108, 0.0246245314027905, 0.0246245314027905, 0.082081771342635, 0.049249062805581, 0.5527047395890723, 0.0808171104626544, 0.0404085552313272, 0.1212256656939816, 0.0202042776156636, 0.0404085552313272, 0.1212256656939816, 0.2424513313879632, 0.0202042776156636, 0.2828598866192904, 0.0202042776156636, 0.08445153502497754, 0.6756122801998203, 0.08445153502497754, 0.08445153502497754, 0.14973586396188304, 0.8984151837712983, 0.9037331930625544, 0.9037331930625544, 0.03724640246490581, 0.03724640246490581, 0.11173920739471743, 0.5586960369735872, 0.18623201232452907, 0.03724640246490581, 0.03724640246490581, 0.9411075956578691, 0.03350283376422393, 0.10050850129267178, 0.26802267011379144, 0.03350283376422393, 0.03350283376422393, 0.5360453402275829, 0.03350283376422393, 0.2060673804328648, 0.1030336902164324, 0.0515168451082162, 0.257584225541081, 0.3606179157575134, 0.13004405901274607, 0.7802643540764765, 0.13742228571329046, 0.8245337142797426, 0.17710595211419414, 0.7084238084567765, 0.5527047395890774, 0.05503836486750553, 0.8806138378800885, 0.05503836486750553, 0.20342260957710884, 0.8136904383084353, 0.6237149610450997, 0.31185748052254986, 0.9381571927297929, 0.9303741466208204, 0.9986214176466565, 0.10318140109594119, 0.10318140109594119, 0.5674977060276766, 0.15477210164391178, 0.051590700547970596, 0.051590700547970596, 0.041351464584599734, 0.041351464584599734, 0.3308117166767979, 0.5789205041843963, 0.041351464584599734, 0.8321713859149317, 0.04379849399552272, 0.04379849399552272, 0.04379849399552272, 0.04379849399552272, 0.9019782304220327, 0.08199802094745752, 0.8895809170877336, 0.8636140872715724, 0.7972668444439125, 0.11389526349198749, 0.056947631745993745, 0.8636140872715576, 0.06439954865345573, 0.03219977432672787, 0.0965993229801836, 0.06439954865345573, 0.6439954865345573, 0.06439954865345573, 0.03219977432672787, 0.862646573921117, 0.07842241581101063, 0.9569996070482665, 0.984294416049927, 0.9411075956578762, 0.9411075956578762, 0.09405779368620122, 0.7524623494896098, 0.09405779368620122, 0.07443198143125074, 0.01240533023854179, 0.19848528381666863, 0.3845652373947955, 0.07443198143125074, 0.03721599071562537, 0.03721599071562537, 0.09924264190833432, 0.062026651192708955, 0.01240533023854179, 0.9037331930625544, 0.9037331930625544, 0.3342258885282148, 0.04397709059581774, 0.17590836238327096, 0.017590836238327096, 0.2374762892174158, 0.1319312717874532, 0.052772508714981285, 0.8629182602182458, 0.9636207810598366, 0.13569313673470756, 0.06784656836735378, 0.7463122520408916, 0.06784656836735378, 0.06784656836735378, 0.9497005589918591, 0.9982139525967366, 0.7744750771844258, 0.0824564013252621, 0.07329457895578853, 0.21988373686736556, 0.1649128026505242, 0.027485467108420696, 0.027485467108420696, 0.036647289477894265, 0.07329457895578853, 0.1282655131726299, 0.1649128026505242, 0.9379576597641293, 0.3068297520161175, 0.613659504032235, 0.17852589899606716, 0.035705179799213435, 0.10711553939764029, 0.07141035959842687, 0.3213466181929209, 0.14282071919685374, 0.07141035959842687, 0.035705179799213435, 0.21096636072923672, 0.048684544783670014, 0.17850999754012337, 0.2758790871074634, 0.2921072687020201, 0.15456464355606447, 0.15662550547014534, 0.0020608619140808594, 0.1380777482434176, 0.10922568144628556, 0.04533896210977891, 0.14013861015749846, 0.020608619140808596, 0.05976499550834493, 0.09892137187588126, 0.07831275273507267, 0.8366039253788696, 0.863614087271561, 0.8384045089622642, 0.9088967920943217, 0.9317464846048158, 0.0716979884402553, 0.03584899422012765, 0.501885919081787, 0.10754698266038294, 0.10754698266038294, 0.1433959768805106, 0.03584899422012765, 0.03584899422012765, 0.16699128252005888, 0.03853644981232128, 0.00642274163538688, 0.08991838289541632, 0.14772305761389826, 0.04495919144770816, 0.11560934943696384, 0.03853644981232128, 0.0642274163538688, 0.16699128252005888, 0.10918660780157696, 0.6354195926790396, 0.09257535894200448, 0.27772607682601347, 0.030858452980668163, 0.09257535894200448, 0.030858452980668163, 0.3394429827873498, 0.061716905961336326, 0.061716905961336326, 0.19445383174068573, 0.09299965865858882, 0.19445383174068573, 0.11836320192911305, 0.050727086541048454, 0.042272572117540375, 0.025363543270524227, 0.07609062981157268, 0.10990868750560498, 0.09299965865858882, 0.8600806596215409, 0.8600806596215409, 0.2794006574141711, 0.10105981225618954, 0.005944694838599385, 0.10700450709478893, 0.12483859161058708, 0.02377877935439754, 0.07133633806319262, 0.01188938967719877, 0.04161286387019569, 0.13078328644918646, 0.10105981225618954, 0.8967618080743741, 0.9408656809907565, 0.05274936133615662, 0.15824808400846985, 0.05274936133615662, 0.6857416973700361, 0.05274936133615662, 0.25704510909940875, 0.04431812225851875, 0.00886362445170375, 0.20386336238918626, 0.13295436677555625, 0.035454497806815, 0.06204537116192625, 0.0177272489034075, 0.06204537116192625, 0.1240907423238525, 0.04431812225851875, 0.16740950039019747, 0.04185237509754937, 0.16740950039019747, 0.09765554189428186, 0.027901583398366243, 0.0697539584959156, 0.013950791699183122, 0.05580316679673249, 0.29296662568284554, 0.05580316679673249, 0.1081035832168614, 0.08107768741264605, 0.08107768741264605, 0.08107768741264605, 0.0540517916084307, 0.1081035832168614, 0.18918127062950746, 0.13512947902107675, 0.0540517916084307, 0.08107768741264605, 0.20133120835147894, 0.8053248334059158, 0.8353710052017784, 0.03199583513958679, 0.015997917569793393, 0.4319437743844216, 0.06399167027917357, 0.03199583513958679, 0.015997917569793393, 0.11198542298855375, 0.09598750541876036, 0.1759770932677273, 0.8384045089622642, 0.8384045089622642, 0.1480553478844447, 0.0423015279669842, 0.1269045839009526, 0.0211507639834921, 0.0634522919504763, 0.3172614597523815, 0.0211507639834921, 0.0423015279669842, 0.0846030559339684, 0.1057538199174605, 0.8528508584096891, 0.10090723899234501, 0.60544343395407, 0.10090723899234501, 0.050453619496172504, 0.050453619496172504, 0.9500552726105426, 0.03064694427775944, 0.16070032403696716, 0.7392214905700489, 0.016070032403696716, 0.016070032403696716, 0.03214006480739343, 0.03214006480739343, 0.06905529220997429, 0.034527646104987146, 0.034527646104987146, 0.10358293831496143, 0.034527646104987146, 0.5179146915748072, 0.034527646104987146, 0.10358293831496143, 0.06905529220997429, 0.07608929301997687, 0.038044646509988435, 0.038044646509988435, 0.11413393952996531, 0.038044646509988435, 0.5706696976498266, 0.11413393952996531, 0.9597315787516669, 0.12893356816246274, 0.12893356816246274, 0.06446678408123137, 0.25786713632492547, 0.1934003522436941, 0.12893356816246274, 0.06446678408123137, 0.7282522402701967, 0.8528508584096891, 0.8528508584096891, 0.1499263865320292, 0.059970554612811686, 0.014992638653202921, 0.17991166383843504, 0.059970554612811686, 0.08995583191921752, 0.0749631932660146, 0.08995583191921752, 0.0749631932660146, 0.16491902518523213, 0.04497791595960876, 0.9000309889255087, 0.7753267105253314, 0.10635220902683279, 0.8508176722146623, 0.10635220902683279, 0.8636140872715576, 0.6354195926790396, 0.09893710806619367, 0.3561735890382972, 0.009893710806619367, 0.019787421613238734, 0.09893710806619367, 0.07914968645295493, 0.13851195129267113, 0.009893710806619367, 0.059362264839716204, 0.059362264839716204, 0.06925597564633557, 0.025126942238632877, 0.018845206678974658, 0.012563471119316438, 0.012563471119316438, 0.13819818231248082, 0.13819818231248082, 0.6533004982044548, 0.7499596955558647, 0.7499596955558647, 0.9208743440560728, 0.9544173046734348, 0.43200808106422156, 0.016615695425546983, 0.016615695425546983, 0.04984708627664095, 0.033231390851093966, 0.0996941725532819, 0.08307847712773492, 0.14954125882992286, 0.0996941725532819, 0.016615695425546983, 0.9831756081520201, 0.02657231373383838, 0.8696111746352168, 0.05797407830901445, 0.05797407830901445, 0.10071181890069646, 0.8056945512055717, 0.10071181890069646, 0.10071181890069646, 0.07234296741767737, 0.9404585764298059, 0.22091483305298917, 0.04909218512288648, 0.1227304628072162, 0.1227304628072162, 0.04295566198252567, 0.1227304628072162, 0.03681913884216486, 0.07363827768432972, 0.17182264793010268, 0.03068261570180405, 0.5527047395890723, 0.5527047395890723, 0.27497145660380734, 0.03928163665768677, 0.03928163665768677, 0.03928163665768677, 0.6285061865229883, 0.03928163665768677, 0.053842048452907965, 0.10768409690581593, 0.08973674742151327, 0.053842048452907965, 0.053842048452907965, 0.017947349484302655, 0.12563144639011858, 0.07178939793721062, 0.41278903813896106, 0.8384045089622685, 0.8748948570163152, 0.8076762309572673, 0.06730635257977227, 0.06730635257977227, 0.09957771840326095, 0.6472551696211962, 0.049788859201630474, 0.09957771840326095, 0.09957771840326095, 0.8636140872715572, 0.8075352498591974, 0.6601394336655184, 0.0825174292081898, 0.0825174292081898, 0.0825174292081898, 0.0825174292081898, 0.06313740532523195, 0.03156870266261597, 0.5682366479270875, 0.09470610798784791, 0.03156870266261597, 0.03156870266261597, 0.18941221597569582, 0.7220761292234884, 0.5527047395890723, 0.5527047395890723, 0.8629182602182472, 0.0309062687336502, 0.0772656718341255, 0.0772656718341255, 0.5099534341052283, 0.1699844780350761, 0.1236250749346008, 0.0154531343668251, 0.9000309889255195, 0.6790471613715715, 0.20371414841147145, 0.06790471613715715, 0.9708352313027409, 0.7579628324651418, 0.1007510735312548, 0.9067596617812932, 0.16565554102073857, 0.04141388525518464, 0.04141388525518464, 0.08282777051036928, 0.08282777051036928, 0.06212082788277696, 0.06212082788277696, 0.12424165576555392, 0.06212082788277696, 0.04141388525518464, 0.22777636890351552, 0.8749287600716543, 0.8749287600716543, 0.9000309889255095, 0.06143572703684884, 0.9215359055527326, 0.06143572703684884, 0.21459261012613648, 0.051798216237343285, 0.007399745176763326, 0.13319541318173989, 0.11839592282821322, 0.08879694212115992, 0.1627943938887932, 0.02219923553028998, 0.029598980707053305, 0.06659770659086994, 0.10359643247468657, 0.33998351000845967, 0.033998351000845965, 0.13599340400338386, 0.1019950530025379, 0.033998351000845965, 0.033998351000845965, 0.06799670200169193, 0.06799670200169193, 0.16999175500422983, 0.033998351000845965, 0.7200877909639307, 0.8416750952957969, 0.33741074285723166, 0.030673703896111973, 0.061347407792223946, 0.09202111168833592, 0.061347407792223946, 0.09202111168833592, 0.09202111168833592, 0.12269481558444789, 0.09202111168833592, 0.7282522402701967, 0.9361485716974998, 0.26953870999842927, 0.06268342092986727, 0.012536684185973455, 0.14417186813869473, 0.10029347348778764, 0.04387839465090709, 0.137903526045708, 0.006268342092986727, 0.04387839465090709, 0.13163518395272128, 0.04387839465090709, 0.7282522402701967, 0.1277504329192411, 0.04645470287972404, 0.09290940575944807, 0.06968205431958606, 0.08129573003951707, 0.18581881151889615, 0.058068378599655045, 0.27872821727834424, 0.03484102715979303, 0.03484102715979303, 0.9980209557333114, 0.13012112365447878, 0.13012112365447878, 0.008132570228404924, 0.16265140456809848, 0.07319313205564432, 0.0975908427408591, 0.1951816854817182, 0.024397710685214773, 0.032530280913619695, 0.024397710685214773, 0.10572341296926402, 0.18856061939311985, 0.41483336266486365, 0.1508484955144959, 0.07542424775724794, 0.07542424775724794, 0.03771212387862397, 0.03771212387862397, 0.8384045089622656, 0.031037971449245916, 0.031037971449245916, 0.2172658001447214, 0.031037971449245916, 0.46556957173868874, 0.1862278286954755, 0.06207594289849183, 0.10811804808435499, 0.030890870881244283, 0.030890870881244283, 0.6795991593873743, 0.0772271772031107, 0.015445435440622142, 0.015445435440622142, 0.015445435440622142, 0.015445435440622142, 0.1897652944253088, 0.0903644259168137, 0.009036442591681371, 0.12651019628353918, 0.09940086850849508, 0.05421865555008823, 0.1897652944253088, 0.009036442591681371, 0.06325509814176959, 0.12651019628353918, 0.036145770366725484, 0.4576623637388418, 0.05491948364866101, 0.01830649454955367, 0.07322597819821468, 0.07322597819821468, 0.01830649454955367, 0.07322597819821468, 0.01830649454955367, 0.1281454618468757, 0.09153247274776835, 0.01830649454955367, 0.5527047395890723, 0.054984048476185335, 0.9347288240951507, 0.9529961321597603, 0.12814350077893583, 0.07830991714268301, 0.007119083376607546, 0.0925480838958981, 0.14950075090875847, 0.13526258415554337, 0.15661983428536602, 0.014238166753215093, 0.1993343345450113, 0.007119083376607546, 0.028476333506430185, 0.3963819780366389, 0.3963819780366389, 0.05769452027651295, 0.28847260138256475, 0.028847260138256475, 0.05769452027651295, 0.05769452027651295, 0.37501438179733415, 0.05769452027651295, 0.08654178041476943, 0.22106819829838614, 0.1600838677333141, 0.007623041320634004, 0.030492165282536017, 0.09147649584760806, 0.04573824792380403, 0.22869123961902013, 0.015246082641268009, 0.08385345452697406, 0.060984330565072034, 0.06860737188570604, 0.13715398486515687, 0.36574395964041834, 0.09143598991010458, 0.04571799495505229, 0.04571799495505229, 0.18287197982020917, 0.09143598991010458, 0.022858997477526146, 0.8918899667202026, 0.0854879066388583, 0.01709758132777166, 0.18807339460548825, 0.0854879066388583, 0.23936613858880323, 0.01709758132777166, 0.10258548796662996, 0.10258548796662996, 0.10258548796662996, 0.06839032531108664, 0.042657830941177435, 0.17063132376470974, 0.1279734928235323, 0.08531566188235487, 0.2559469856470646, 0.1279734928235323, 0.042657830941177435, 0.1279734928235323, 0.08487752362185579, 0.10185302834622695, 0.00848775236218558, 0.14429179015715485, 0.00848775236218558, 0.161267294881526, 0.13580403779496927, 0.03395100944874232, 0.2800958279521241, 0.025463257086556737, 0.7579628324651418, 0.20948188102274456, 0.09390567080329928, 0.007223513138715329, 0.15891728905173724, 0.08668215766458395, 0.05778810510972263, 0.10112918394201462, 0.02167053941614599, 0.04334107883229198, 0.14447026277430658, 0.07223513138715329, 0.020338066109688028, 0.2237187272065683, 0.24405679331625632, 0.020338066109688028, 0.040676132219376056, 0.020338066109688028, 0.42709938830344857, 0.020338066109688028, 0.8384045089622642, 0.9651602402039271, 0.1112232280127738, 0.7229509820830297, 0.1112232280127738, 0.0556116140063869, 0.18974274745437172, 0.12649516496958116, 0.6324758248479058, 0.031958638737999825, 0.015979319368999913, 0.11185523558299938, 0.20773115179699886, 0.015979319368999913, 0.1438138743209992, 0.1597931936899991, 0.1438138743209992, 0.1597931936899991, 0.015979319368999913, 0.9000309889255195, 0.9000309889255195, 0.7220761292234884, 0.9361485716975114, 0.13227424182756975, 0.04850055533677557, 0.0044091413942523245, 0.3042307562034104, 0.11022853485630812, 0.017636565577009298, 0.15431994879883137, 0.0529096967310279, 0.04409141394252325, 0.06613712091378487, 0.06172797951953255, 0.8037533480054089, 0.9201262478866069, 0.2654145364093283, 0.04976522557674906, 0.07741257311938743, 0.0608241645938044, 0.07188310361085976, 0.18247249378141323, 0.022117878034110694, 0.07188310361085976, 0.1216483291876088, 0.0829420426279151, 0.9647844463080705, 0.9797518593569456, 0.9201262478866069, 0.09550820586818973, 0.09550820586818973, 0.09550820586818973, 0.7640656469455178, 0.7282522402701967, 0.7282522402701967, 0.9483919474173228, 0.5599066478225212, 0.11316882877761819, 0.11316882877761819, 0.11316882877761819, 0.565844143888091, 0.11316882877761819, 0.99407963904998, 0.9759675112367093, 0.03201343909440216, 0.06402687818880431, 0.8963762946432603, 0.8037533480054042, 0.9766956507442582, 0.9759675112367093, 0.0827944306249404, 0.827944306249404, 0.9418800691672283, 0.9721221385739204, 0.1889653110783828, 0.05905165971199462, 0.03543099582719677, 0.2362066388479785, 0.0944826555391914, 0.0472413277695957, 0.16534464719358494, 0.0472413277695957, 0.0944826555391914, 0.02362066388479785, 0.8366039253788671, 0.9398023863014471, 0.09398023863014471, 0.19228449771805242, 0.0897327656017578, 0.16664656468897876, 0.10255173211629463, 0.01281896651453683, 0.0897327656017578, 0.07691379908722097, 0.0897327656017578, 0.0897327656017578, 0.0897327656017578, 0.21061466461127387, 0.6318439938338216, 0.05265366615281847, 0.05265366615281847, 0.05265366615281847, 0.9063847750465981, 0.03886842824485082, 0.15547371297940327, 0.6996317084073147, 0.03886842824485082, 0.03886842824485082, 0.03886842824485082, 0.1519646201230423, 0.043418462892297796, 0.0651276943384467, 0.47760309181527577, 0.1085461572307445, 0.0651276943384467, 0.021709231446148898, 0.021709231446148898, 0.18728345846394046, 0.09062102828900344, 0.18728345846394046, 0.09062102828900344, 0.03624841131560138, 0.09062102828900344, 0.01812420565780069, 0.07853822451713632, 0.14499364526240552, 0.07853822451713632, 0.97239149562618, 0.9195226327040374, 0.12936423728508475, 0.08624282485672317, 0.08624282485672317, 0.2587284745701695, 0.08624282485672317, 0.04312141242836159, 0.12936423728508475, 0.12936423728508475, 0.08624282485672317, 0.9063847750465981, 0.14355586032775391, 0.028711172065550784, 0.08613351619665235, 0.08613351619665235, 0.028711172065550784, 0.22968937652440627, 0.28711172065550783, 0.05742234413110157, 0.028711172065550784, 0.9982139525966818, 0.17956878678219754, 0.12243326371513467, 0.16324435162017956, 0.08978439339109877, 0.04897330548605387, 0.1142710461341257, 0.03264887032403591, 0.024486652743026936, 0.16324435162017956, 0.05713552306706285, 0.7499596955558647, 0.06104529717227951, 0.23546043195022096, 0.0959283241278678, 0.02616227021669122, 0.008720756738897073, 0.02616227021669122, 0.08720756738897073, 0.17441513477794146, 0.2877849723836034, 0.7220761292234856, 0.8380146455340468, 0.7593278035161363, 0.25310926783871207, 0.8629182602182438, 0.023576319432996717, 0.47152638865993435, 0.35364479149495076, 0.1414579165979803, 0.023576319432996717, 0.9623097646661406, 0.10597593622955287, 0.052987968114776435, 0.026493984057388217, 0.026493984057388217, 0.052987968114776435, 0.4239037449182115, 0.1324699202869411, 0.026493984057388217, 0.1589639043443293, 0.26804849872458164, 0.5360969974491633, 0.552704739589074, 0.21181385399772, 0.08237205433244665, 0.09413949066565333, 0.023534872666413333, 0.035302308999619995, 0.25888359933054667, 0.047069745332826665, 0.10590692699886, 0.15297667233168666, 0.011767436333206666, 0.518179691565363, 0.011515104257008068, 0.12666614682708874, 0.057575521285040336, 0.172726563855121, 0.011515104257008068, 0.011515104257008068, 0.09212083405606454, 0.9805217326056352, 0.9361485716974998, 0.9942012242352033, 0.8873072627369963, 0.09858969585966626, 0.139436832012565, 0.09022383247871853, 0.0697184160062825, 0.05331408282833368, 0.0697184160062825, 0.2952779972030788, 0.10662816565666736, 0.09842599906769293, 0.04921299953384647, 0.02870758306141044, 0.5527047395890723, 0.5527047395890723, 0.9197507877493963, 0.08361370797721784, 0.8989191565570697, 0.9622332597550499, 0.9176037220729002, 0.07646697683940835, 0.9243473328252139, 0.9658229087535826, 0.942710598054162, 0.17874468264587148, 0.23832624352782864, 0.4170709261737001, 0.11916312176391432, 0.984294416049927, 0.19807758485480725, 0.09432265945467012, 0.009432265945467012, 0.19807758485480725, 0.10375492540013714, 0.028296797836401037, 0.10375492540013714, 0.028296797836401037, 0.0660258616182691, 0.1320517232365382, 0.04716132972733506, 0.5527047395890723, 0.5527047395890723, 0.8740092530196054, 0.06782705127103819, 0.033913525635519096, 0.06782705127103819, 0.10174057690655727, 0.06782705127103819, 0.033913525635519096, 0.06782705127103819, 0.5426164101683055, 0.920126247886602, 0.8305831597863862, 0.08305831597863862, 0.08305831597863862, 0.06221992115961813, 0.2955446255081861, 0.15554980289904533, 0.3266545860879952, 0.10888486202933173, 0.015554980289904532, 0.015554980289904532, 0.015554980289904532, 0.928894942537224, 0.928894942537224, 0.14858070144872706, 0.19550092295885138, 0.18768088604049735, 0.06256029534683244, 0.04692022151012434, 0.08602040610189461, 0.02346011075506217, 0.039100184591770275, 0.12512059069366488, 0.08602040610189461, 0.14041784804128318, 0.14041784804128318, 0.028083569608256635, 0.1544596328454115, 0.0842507088247699, 0.0842507088247699, 0.07020892402064159, 0.028083569608256635, 0.04212535441238495, 0.09829249362889822, 0.14041784804128318, 0.4262644218585608, 0.4262644218585608, 0.8165557846866075, 0.05832541319190053, 0.11665082638380106, 0.8967618080743822, 0.2557314834070508, 0.17048765560470053, 0.18469496023842558, 0.04262191390117513, 0.02841460926745009, 0.09945113243607531, 0.014207304633725045, 0.014207304633725045, 0.014207304633725045, 0.18469496023842558, 0.08574435101613051, 0.08574435101613051, 0.8574435101613052, 0.18182041896198273, 0.025974345565997533, 0.5194869113199506, 0.051948691131995066, 0.12987172782998765, 0.025974345565997533, 0.0779230366979926, 0.15090343284709412, 0.043115266527741176, 0.043115266527741176, 0.021557633263870588, 0.021557633263870588, 0.2586915991664471, 0.10778816631935294, 0.12934579958322354, 0.10778816631935294, 0.10778816631935294, 0.09950709842998581, 0.8955638858698723, 0.9426987307174032, 0.055452866512788426, 0.1314624119535439, 0.02629248239070878, 0.02629248239070878, 0.5521421302048843, 0.02629248239070878, 0.02629248239070878, 0.07887744717212634, 0.02629248239070878, 0.07887744717212634, 0.09376034719504152, 0.10938707172754844, 0.1718939698575761, 0.07032026039628114, 0.05469353586377422, 0.12501379626005535, 0.02344008679876038, 0.10157370946129497, 0.2109607811888434, 0.0390668113312673, 0.1264883524599456, 0.8010928989129888, 0.0421627841533152, 0.199178812700436, 0.796715250801744, 0.16425127112811921, 0.00966183947812466, 0.10628023425937126, 0.0966183947812466, 0.2512078264312412, 0.11594207373749592, 0.02898551843437398, 0.07729471582499728, 0.06763287634687262, 0.07729471582499728, 0.9563523334682416, 0.972122138573922, 0.9837303764760331, 0.3763931345428013, 0.06843511537141841, 0.13687023074283683, 0.06843511537141841, 0.10265267305712762, 0.10265267305712762, 0.06843511537141841, 0.03421755768570921, 0.03421755768570921, 0.11210593517317782, 0.5044767082793001, 0.22421187034635565, 0.16815890275976672, 0.8918899667201984, 0.9869471138012057, 0.9340385366638246, 0.7220761292234865, 0.979751859356946, 0.979751859356946, 0.28525268168166296, 0.028525268168166296, 0.028525268168166296, 0.6560811678678249, 0.8075352498591977, 0.8075352498591977, 0.9586211835923161, 0.9586211835923161, 0.9697150867256463, 0.4202362501946114, 0.010775288466528497, 0.04310115386611399, 0.15085403853139898, 0.010775288466528497, 0.08620230773222798, 0.2909327885962694, 0.1254351135723906, 0.8780457950067341, 0.611739373894964, 0.027806335177043815, 0.027806335177043815, 0.027806335177043815, 0.027806335177043815, 0.027806335177043815, 0.22245068141635052, 0.027806335177043815, 0.9483919474173271, 0.9303741466208342, 0.09764250948404987, 0.781140075872399, 0.09764250948404987, 0.09764250948404987, 0.863614087271561, 0.052271498477145746, 0.052271498477145746, 0.15681449543143722, 0.052271498477145746, 0.15681449543143722, 0.4704434862943117, 0.9544173046734348, 0.9411075956578727, 0.027278140492913504, 0.06819535123228376, 0.21822512394330804, 0.027278140492913504, 0.013639070246456752, 0.013639070246456752, 0.6137581610905538, 0.013639070246456752, 0.9896821965201341, 0.045678838562929966, 0.022839419281464983, 0.20555477353318485, 0.045678838562929966, 0.3654307085034397, 0.09135767712585993, 0.06851825784439494, 0.06851825784439494, 0.09135767712585993, 0.9937772279640289, 0.9982139525967032, 0.15998435164640126, 0.024612977176369424, 0.024612977176369424, 0.11075839729366241, 0.036919465764554134, 0.036919465764554134, 0.11075839729366241, 0.036919465764554134, 0.08614542011729298, 0.13537137447003184, 0.23382328317550952, 0.9139534907596845, 0.8636140872715572, 0.937679412542304, 0.078139951045192, 0.9201262478866008, 0.8748722564390844, 0.9079531556822209, 0.9361485716975164, 0.1253969282327687, 0.8777784976293809, 0.91039974434262, 0.07003074956481693, 0.8636140872715732, 0.959731578751668, 0.9262315522056868, 0.05145730845587149, 0.9640675668976957, 0.19096544616086766, 0.017360495105533426, 0.24304693147746795, 0.017360495105533426, 0.0694419804221337, 0.1388839608442674, 0.10416297063320056, 0.0694419804221337, 0.0694419804221337, 0.05208148531660028, 0.5527047395890723, 0.11453267156570443, 0.8017287009599311, 0.2440016272769453, 0.007625050852404541, 0.11437576278606812, 0.038125254262022706, 0.015250101704809081, 0.3736274917678225, 0.1296258644908772, 0.045750305114427244, 0.030500203409618162, 0.9000309889255127, 0.5527047395890723, 0.8465214671565015, 0.08465214671565015, 0.756070221020679, 0.050404681401378604, 0.050404681401378604, 0.050404681401378604, 0.050404681401378604, 0.050404681401378604, 0.050404681401378604, 0.9195226327040411, 0.3928959442993762, 0.1164136131257411, 0.05820680656287055, 0.014551701640717637, 0.08731020984430582, 0.04365510492215291, 0.029103403281435274, 0.050930955742511726, 0.16734456886825283, 0.036379254101794094, 0.9246705213549423, 0.12676193632699595, 0.8873335542889715, 0.7710745856676278, 0.05507675611911627, 0.1652302683573488, 0.7950638300863508, 0.056790273577596494, 0.17037082073278947, 0.7220761292234884, 0.8748722564390836, 0.30313489767337304, 0.08209903478653854, 0.006315310368195272, 0.09472965552292908, 0.05683779331375745, 0.018945931104585815, 0.018945931104585815, 0.03789186220917163, 0.06315310368195272, 0.012630620736390544, 0.30313489767337304, 0.8748722564390836, 0.8749287600716543, 0.7499596955558647, 0.9886706901949521, 0.9980209557333019, 0.14335123935448785, 0.07167561967724392, 0.5375671475793294, 0.07167561967724392, 0.07167561967724392, 0.03583780983862196, 0.03583780983862196, 0.07167561967724392, 0.8037533480054089, 0.9340385366638226, 0.8629182602182561, 0.08016294353569549, 0.7214664918212594, 0.08016294353569549, 0.040081471767847744, 0.040081471767847744, 0.9411075956578727, 0.19094496450654402, 0.06364832150218135, 0.572834893519632, 0.03182416075109067, 0.03182416075109067, 0.03182416075109067, 0.03182416075109067, 0.03182416075109067, 0.5066184443658204, 0.06332730554572755, 0.2533092221829102, 0.021109101848575847, 0.08443640739430339, 0.021109101848575847, 0.04221820369715169, 0.34736131181970986, 0.15052323512187427, 0.011578710393990329, 0.06947226236394197, 0.06947226236394197, 0.06947226236394197, 0.0810509727579323, 0.046314841575961316, 0.046314841575961316, 0.09262968315192263, 0.03473613118197098, 0.5527047395890774, 0.9418800691672267, 0.05701262244519467, 0.12216990523970286, 0.19547184838352458, 0.024433981047940572, 0.032578641397254096, 0.14660388628764345, 0.024433981047940572, 0.06515728279450819, 0.28506311222597336, 0.040723301746567624, 0.8895809170877398, 0.5431919363535043, 0.36212795756900285, 0.8384045089622642, 0.8384045089622642, 0.9648836141263971, 0.03859534456505588, 0.9743858270875508, 0.8967618080743741, 0.21972966384948406, 0.6591889915484522, 0.5527047395890774, 0.9936355861190094, 0.8629182602182439, 0.9805217326056459, 0.9910054325023414, 0.26702151552288333, 0.018415276932612645, 0.17494513085982014, 0.34989026171964027, 0.009207638466306322, 0.04603819233153161, 0.018415276932612645, 0.11049166159567587, 0.8749287600716543, 0.9201262478866008, 0.9110579597285268, 0.13664066619970824, 0.20496099929956235, 0.03416016654992706, 0.10248049964978118, 0.06832033309985412, 0.20496099929956235, 0.20496099929956235, 0.03416016654992706, 0.15983591869307065, 0.05327863956435688, 0.15983591869307065, 0.23087410477887982, 0.017759546521452292, 0.035519093042904584, 0.17759546521452294, 0.15983591869307065, 0.85610724974326, 0.09512302774925112], \"Term\": [\"\\u0430\\u0431\\u0441\\u0442\\u0440\\u0430\\u043a\\u0446\\u0438\\u044f\", \"\\u0430\\u0431\\u0441\\u0442\\u0440\\u0430\\u043a\\u0446\\u0438\\u044f\", \"\\u0430\\u0432\\u0442\\u043e\", \"\\u0430\\u0432\\u0442\\u043e\\u043c\\u043e\\u0431\\u0438\\u043b\\u044c\", \"\\u0430\\u0432\\u0442\\u043e\\u043c\\u043e\\u0431\\u0438\\u043b\\u044c\", \"\\u0430\\u0432\\u0442\\u043e\\u043c\\u043e\\u0431\\u0438\\u043b\\u044c\\u043d\\u044b\\u0439\", \"\\u0430\\u0432\\u0442\\u043e\\u0440\", \"\\u0430\\u0432\\u0442\\u043e\\u0440\", \"\\u0430\\u0432\\u0442\\u043e\\u0440\", \"\\u0430\\u0432\\u0442\\u043e\\u0440\", \"\\u0430\\u0432\\u0442\\u043e\\u0440\", \"\\u0430\\u0432\\u0442\\u043e\\u0440\", \"\\u0430\\u0432\\u0442\\u043e\\u0440\", \"\\u0430\\u0432\\u0442\\u043e\\u0440\", \"\\u0430\\u0432\\u0442\\u043e\\u0440\", \"\\u0430\\u0434\\u043c\\u0438\\u0440\\u0430\\u043b\", \"\\u0430\\u043a\\u0446\\u0438\\u044f\", \"\\u0430\\u043c\\u0430\\u0437\\u043e\\u043d\\u043a\\u0430\", \"\\u0430\\u043c\\u0435\\u0440\\u0438\\u043a\\u0430\\u043d\\u0441\\u043a\\u0438\\u0439\", \"\\u0430\\u043c\\u0435\\u0440\\u0438\\u043a\\u0430\\u043d\\u0441\\u043a\\u0438\\u0439\", \"\\u0430\\u043d\\u0434\\u0440\\u0435\\u0439\", \"\\u0430\\u043d\\u0434\\u0440\\u0435\\u0439\", \"\\u0430\\u043d\\u0434\\u0440\\u0435\\u0439\", \"\\u0430\\u043d\\u0434\\u0440\\u0435\\u0439 \\u043a\\u0430\\u0440\\u043f\\u0430\\u0442\\u044b\", \"\\u0430\\u043d\\u0434\\u0440\\u0435\\u0439 \\u043a\\u0430\\u0440\\u043f\\u0430\\u0442\\u044b\", \"\\u0430\\u043d\\u0438\\u043c\\u0430\\u0442\\u043e\\u0440\", \"\\u0430\\u043d\\u0438\\u043c\\u0430\\u0446\\u0438\\u044f\", \"\\u0430\\u043d\\u0438\\u043c\\u0430\\u0446\\u0438\\u044f\", \"\\u0430\\u043d\\u0438\\u043c\\u0430\\u0446\\u0438\\u044f\", \"\\u0430\\u043d\\u0438\\u043c\\u0438\\u0440\\u043e\\u0432\\u0430\\u043d\\u0438\\u0435\", \"\\u0430\\u043d\\u0438\\u043c\\u0438\\u0440\\u043e\\u0432\\u0430\\u0442\\u044c\", \"\\u0430\\u043d\\u0438\\u043c\\u0438\\u0440\\u043e\\u0432\\u0430\\u0442\\u044c\", \"\\u0430\\u043d\\u043d\\u043e\\u0442\\u0430\\u0446\\u0438\\u044f\", \"\\u0430\\u043d\\u043d\\u043e\\u0442\\u0430\\u0446\\u0438\\u044f\", \"\\u0430\\u043d\\u043d\\u043e\\u0442\\u0430\\u0446\\u0438\\u044f\", \"\\u0430\\u043d\\u043e\\u043d\\u0438\\u043c\\u043d\\u044b\\u0439\", \"\\u0430\\u043d\\u043e\\u043d\\u0438\\u043c\\u043d\\u044b\\u0439\", \"\\u0430\\u043d\\u043e\\u043d\\u0438\\u043c\\u043d\\u044b\\u0439 \\u043f\\u0440\\u043e\\u0441\\u0442\\u0440\\u0430\\u043d\\u0441\\u0442\\u0432\\u043e\", \"\\u0430\\u043d\\u043e\\u043d\\u0438\\u043c\\u043d\\u044b\\u0439 \\u043f\\u0440\\u043e\\u0441\\u0442\\u0440\\u0430\\u043d\\u0441\\u0442\\u0432\\u043e \\u0438\\u043c\\u044f\", \"\\u0430\\u043d\\u0442\\u0440\\u043e\\u043f\\u043e\\u043c\\u043e\\u0440\\u0444\\u0438\\u0437\\u043c\", \"\\u0430\\u043f\\u0433\\u0440\\u0435\\u0439\\u0434\", \"\\u0430\\u043f\\u043f\\u0430\\u0440\\u0430\\u0442\", \"\\u0430\\u043f\\u043f\\u0430\\u0440\\u0430\\u0442\", \"\\u0431\\u0430\\u0433\", \"\\u0431\\u0430\\u0433\", \"\\u0431\\u0430\\u0437\\u0430 \\u0434\\u0430\\u043d\\u043d\\u044b\\u0435\", \"\\u0431\\u0430\\u0437\\u0430 \\u0434\\u0430\\u043d\\u043d\\u044b\\u0435\", \"\\u0431\\u0430\\u0437\\u0430 \\u0434\\u0430\\u043d\\u043d\\u044b\\u0435\", \"\\u0431\\u0430\\u0437\\u0430 \\u0434\\u0430\\u043d\\u043d\\u044b\\u0435\", \"\\u0431\\u0430\\u0437\\u0430 \\u0434\\u0430\\u043d\\u043d\\u044b\\u0435\", \"\\u0431\\u0430\\u0437\\u0430 \\u0434\\u0430\\u043d\\u043d\\u044b\\u0435\", \"\\u0431\\u0430\\u0437\\u0430 \\u0434\\u0430\\u043d\\u043d\\u044b\\u0435\", \"\\u0431\\u0430\\u0437\\u0430 \\u0434\\u0430\\u043d\\u043d\\u044b\\u0435\", \"\\u0431\\u0430\\u0437\\u0430 \\u0434\\u0430\\u043d\\u043d\\u044b\\u0435\", \"\\u0431\\u0430\\u043b\\u043b\", \"\\u0431\\u0430\\u043b\\u043b\", \"\\u0431\\u0430\\u043b\\u043b\", \"\\u0431\\u0430\\u043d\\u0449\\u0438\\u043a\", \"\\u0431\\u0430\\u043d\\u044f\", \"\\u0431\\u0430\\u0441\\u0441\\u0435\\u0439\\u043d\", \"\\u0431\\u0430\\u0442\\u0430\\u0440\\u0435\\u0439\\u043a\\u0430\", \"\\u0431\\u0435\\u0437\\u043e\\u043f\\u0430\\u0441\\u043d\\u043e\\u0441\\u0442\\u044c\", \"\\u0431\\u0435\\u0437\\u043e\\u043f\\u0430\\u0441\\u043d\\u043e\\u0441\\u0442\\u044c\", \"\\u0431\\u0435\\u0437\\u043e\\u043f\\u0430\\u0441\\u043d\\u043e\\u0441\\u0442\\u044c\", \"\\u0431\\u0435\\u0437\\u043e\\u043f\\u0430\\u0441\\u043d\\u043e\\u0441\\u0442\\u044c\", \"\\u0431\\u0435\\u0437\\u043e\\u043f\\u0430\\u0441\\u043d\\u043e\\u0441\\u0442\\u044c\", \"\\u0431\\u0435\\u0437\\u043e\\u043f\\u0430\\u0441\\u043d\\u043e\\u0441\\u0442\\u044c\", \"\\u0431\\u0435\\u0437\\u043e\\u043f\\u0430\\u0441\\u043d\\u043e\\u0441\\u0442\\u044c\", \"\\u0431\\u0435\\u0437\\u043e\\u043f\\u0430\\u0441\\u043d\\u043e\\u0441\\u0442\\u044c\", \"\\u0431\\u0435\\u0437\\u043e\\u043f\\u0430\\u0441\\u043d\\u043e\\u0441\\u0442\\u044c\", \"\\u0431\\u0435\\u0437\\u043e\\u043f\\u0430\\u0441\\u043d\\u043e\\u0441\\u0442\\u044c\", \"\\u0431\\u0435\\u043b\\u044b\\u0439\", \"\\u0431\\u0435\\u043b\\u044b\\u0439\", \"\\u0431\\u0435\\u043b\\u044b\\u0439\", \"\\u0431\\u0435\\u043b\\u044b\\u0439 \\u0434\\u044b\\u0440\\u0430\", \"\\u0431\\u0435\\u043b\\u044b\\u0439 \\u0441\\u043f\\u0438\\u0441\\u043e\\u043a\", \"\\u0431\\u0435\\u0441\\u043f\\u0438\\u043b\\u043e\\u0442\\u043d\\u044b\\u0439\", \"\\u0431\\u0435\\u0441\\u043f\\u0438\\u043b\\u043e\\u0442\\u043d\\u044b\\u0439 \\u0430\\u0432\\u0442\\u043e\\u043c\\u043e\\u0431\\u0438\\u043b\\u044c\", \"\\u0431\\u0435\\u0441\\u0441\\u0435\\u0440\\u0432\\u0435\\u0440\\u043d\\u044b\\u0439\", \"\\u0431\\u0435\\u0441\\u0441\\u0435\\u0440\\u0432\\u0435\\u0440\\u043d\\u044b\\u0439 \\u0440\\u0435\\u0448\\u0435\\u043d\\u0438\\u0435\", \"\\u0431\\u0438\\u0431\\u043b\\u0438\\u043e\\u0442\\u0435\\u043a\\u0430\", \"\\u0431\\u0438\\u0431\\u043b\\u0438\\u043e\\u0442\\u0435\\u043a\\u0430\", \"\\u0431\\u0438\\u0431\\u043b\\u0438\\u043e\\u0442\\u0435\\u043a\\u0430\", \"\\u0431\\u0438\\u0431\\u043b\\u0438\\u043e\\u0442\\u0435\\u043a\\u0430\", \"\\u0431\\u0438\\u0431\\u043b\\u0438\\u043e\\u0442\\u0435\\u043a\\u0430\", \"\\u0431\\u0438\\u0431\\u043b\\u0438\\u043e\\u0442\\u0435\\u043a\\u0430\", \"\\u0431\\u0438\\u0431\\u043b\\u0438\\u043e\\u0442\\u0435\\u043a\\u0430\", \"\\u0431\\u0438\\u0431\\u043b\\u0438\\u043e\\u0442\\u0435\\u043a\\u0430\", \"\\u0431\\u0438\\u0431\\u043b\\u0438\\u043e\\u0442\\u0435\\u043a\\u0430\", \"\\u0431\\u0438\\u0431\\u043b\\u0438\\u043e\\u0442\\u0435\\u043a\\u0430\", \"\\u0431\\u0438\\u0431\\u043b\\u0438\\u043e\\u0442\\u0435\\u0447\\u043d\\u044b\\u0439 \\u043a\\u043b\\u0430\\u0441\\u0441\", \"\\u0431\\u043b\\u043e\\u0433\", \"\\u0431\\u043b\\u043e\\u0433\", \"\\u0431\\u043b\\u043e\\u0433\", \"\\u0431\\u043b\\u043e\\u0433\", \"\\u0431\\u043b\\u043e\\u0433\", \"\\u0431\\u043b\\u043e\\u0433 \\u043a\\u043e\\u043c\\u043f\\u0430\\u043d\\u0438\\u044f\", \"\\u0431\\u043e\\u0433\", \"\\u0431\\u043e\\u0433\", \"\\u0431\\u043e\\u0433\", \"\\u0431\\u043e\\u0433\", \"\\u0431\\u043e\\u043b\\u044c\\u0448\\u043e\\u0439\", \"\\u0431\\u043e\\u043b\\u044c\\u0448\\u043e\\u0439\", \"\\u0431\\u043e\\u043b\\u044c\\u0448\\u043e\\u0439\", \"\\u0431\\u043e\\u043b\\u044c\\u0448\\u043e\\u0439\", \"\\u0431\\u043e\\u043b\\u044c\\u0448\\u043e\\u0439\", \"\\u0431\\u043e\\u043b\\u044c\\u0448\\u043e\\u0439\", \"\\u0431\\u043e\\u043b\\u044c\\u0448\\u043e\\u0439\", \"\\u0431\\u043e\\u043b\\u044c\\u0448\\u043e\\u0439\", \"\\u0431\\u043e\\u043b\\u044c\\u0448\\u043e\\u0439\", \"\\u0431\\u043e\\u043b\\u044c\\u0448\\u043e\\u0439\", \"\\u0431\\u043e\\u043b\\u044c\\u0448\\u043e\\u0439\", \"\\u0431\\u043e\\u043b\\u044c\\u0448\\u043e\\u0439 \\u0432\\u0437\\u0440\\u044b\\u0432\", \"\\u0431\\u043e\\u0442\", \"\\u0431\\u043e\\u0442\", \"\\u0431\\u043e\\u0442\", \"\\u0431\\u043e\\u0442\", \"\\u0431\\u0440\\u0430\\u0443\\u0437\\u0435\\u0440\", \"\\u0431\\u0440\\u0430\\u0443\\u0437\\u0435\\u0440\", \"\\u0431\\u0440\\u0430\\u0443\\u0437\\u0435\\u0440\", \"\\u0431\\u0440\\u0430\\u0443\\u0437\\u0435\\u0440\", \"\\u0431\\u0440\\u0430\\u0443\\u0437\\u0435\\u0440\", \"\\u0431\\u0440\\u0430\\u0443\\u0437\\u0435\\u0440\", \"\\u0431\\u0440\\u0430\\u0443\\u0437\\u0435\\u0440\", \"\\u0431\\u0440\\u0435\\u043d\\u0434\", \"\\u0431\\u0440\\u0435\\u043d\\u0434\", \"\\u0431\\u0440\\u0435\\u043d\\u0434\", \"\\u0431\\u0440\\u0435\\u043d\\u0434\", \"\\u0431\\u0440\\u0435\\u043d\\u0434\", \"\\u0431\\u0440\\u043e\\u043a\\u0435\\u0440\", \"\\u0431\\u0440\\u043e\\u043a\\u0435\\u0440\", \"\\u0431\\u0440\\u043e\\u043a\\u0435\\u0440\", \"\\u0432\\u0430\\u043a\\u0430\\u043d\\u0441\\u0438\\u044f\", \"\\u0432\\u0430\\u043a\\u0430\\u043d\\u0441\\u0438\\u044f\", \"\\u0432\\u0430\\u043a\\u0430\\u043d\\u0441\\u0438\\u044f\", \"\\u0432\\u0430\\u043a\\u0430\\u043d\\u0441\\u0438\\u044f\", \"\\u0432\\u0430\\u043a\\u0430\\u043d\\u0441\\u0438\\u044f\", \"\\u0432\\u0432\\u0435\\u0440\\u0445\", \"\\u0432\\u0432\\u0435\\u0440\\u0445\", \"\\u0432\\u0432\\u043e\\u0434\", \"\\u0432\\u0432\\u043e\\u0434\", \"\\u0432\\u0432\\u043e\\u0434\", \"\\u0432\\u0432\\u043e\\u0434\", \"\\u0432\\u0432\\u043e\\u0434\", \"\\u0432\\u0432\\u043e\\u0434\", \"\\u0432\\u0432\\u043e\\u0434\", \"\\u0432\\u0432\\u043e\\u0434\", \"\\u0432\\u0432\\u043e\\u0434 \\u0432\\u044b\\u0432\\u043e\\u0434\", \"\\u0432\\u0432\\u043e\\u0434 \\u0432\\u044b\\u0432\\u043e\\u0434\", \"\\u0432\\u0432\\u043e\\u0434 \\u0432\\u044b\\u0432\\u043e\\u0434\", \"\\u0432\\u0432\\u043e\\u0434 \\u0432\\u044b\\u0432\\u043e\\u0434\", \"\\u0432\\u0432\\u043e\\u0434 \\u0432\\u044b\\u0432\\u043e\\u0434\", \"\\u0432\\u0435\\u0434\\u0435\\u043d\\u0438\\u0435\", \"\\u0432\\u0435\\u0434\\u0435\\u043d\\u0438\\u0435 \\u0436\\u0443\\u0440\\u043d\\u0430\\u043b\", \"\\u0432\\u0435\\u0440\\u0441\\u0438\\u044f\", \"\\u0432\\u0435\\u0440\\u0441\\u0438\\u044f\", \"\\u0432\\u0435\\u0440\\u0441\\u0438\\u044f\", \"\\u0432\\u0435\\u0440\\u0441\\u0438\\u044f\", \"\\u0432\\u0435\\u0440\\u0441\\u0438\\u044f\", \"\\u0432\\u0435\\u0440\\u0441\\u0438\\u044f\", \"\\u0432\\u0435\\u0440\\u0441\\u0438\\u044f\", \"\\u0432\\u0435\\u0440\\u0441\\u0438\\u044f\", \"\\u0432\\u0435\\u0440\\u0441\\u0438\\u044f\", \"\\u0432\\u0435\\u0440\\u0441\\u0438\\u044f\", \"\\u0432\\u0435\\u0440\\u0441\\u0438\\u044f\", \"\\u0432\\u0435\\u0441\\u044c\", \"\\u0432\\u0435\\u0441\\u044c\", \"\\u0432\\u0435\\u0441\\u044c\", \"\\u0432\\u0435\\u0441\\u044c\", \"\\u0432\\u0435\\u0441\\u044c\", \"\\u0432\\u0435\\u0441\\u044c\", \"\\u0432\\u0435\\u0441\\u044c\", \"\\u0432\\u0435\\u0441\\u044c\", \"\\u0432\\u0435\\u0441\\u044c\", \"\\u0432\\u0435\\u0441\\u044c\", \"\\u0432\\u0435\\u0441\\u044c\", \"\\u0432\\u0435\\u0441\\u044c \\u0431\\u0430\\u043b\\u043b\", \"\\u0432\\u0437\\u0432\\u0435\\u0448\\u0438\\u0432\\u0430\\u0442\\u044c \\u043e\\u043a\\u0440\\u0435\\u0441\\u0442\\u043d\\u043e\\u0441\\u0442\\u044c\", \"\\u0432\\u0438\\u0434\\u0435\\u043e\", \"\\u0432\\u0438\\u0434\\u0435\\u043e\", \"\\u0432\\u0438\\u0434\\u0435\\u043e\", \"\\u0432\\u0438\\u0434\\u0435\\u043e\", \"\\u0432\\u0438\\u0434\\u0435\\u043e\", \"\\u0432\\u0438\\u0434\\u0435\\u043e\", \"\\u0432\\u0438\\u0434\\u0435\\u043e\", \"\\u0432\\u0438\\u0434\\u0435\\u043e\", \"\\u0432\\u0438\\u0434\\u0435\\u043e\", \"\\u0432\\u0438\\u0434\\u0438\\u043c\\u043e\\u0441\\u0442\\u044c\", \"\\u0432\\u0438\\u0434\\u0438\\u043c\\u043e\\u0441\\u0442\\u044c\", \"\\u0432\\u0438\\u0434\\u0438\\u043c\\u043e\\u0441\\u0442\\u044c \\u043f\\u0440\\u043e\\u0441\\u0442\\u0440\\u0430\\u043d\\u0441\\u0442\\u0432\\u043e\", \"\\u0432\\u0438\\u0434\\u0438\\u043c\\u043e\\u0441\\u0442\\u044c \\u043f\\u0440\\u043e\\u0441\\u0442\\u0440\\u0430\\u043d\\u0441\\u0442\\u0432\\u043e \\u0438\\u043c\\u044f\", \"\\u0432\\u043a\\u0430\\u0442\\u0438\\u0442\\u044c\\u0441\\u044f\", \"\\u0432\\u043a\\u043b\\u044e\\u0447\\u0430\\u0442\\u044c\", \"\\u0432\\u043a\\u043b\\u044e\\u0447\\u0430\\u0442\\u044c\", \"\\u0432\\u043a\\u043b\\u044e\\u0447\\u0430\\u0442\\u044c\", \"\\u0432\\u043a\\u043b\\u044e\\u0447\\u0430\\u0442\\u044c\", \"\\u0432\\u043a\\u043b\\u044e\\u0447\\u0430\\u0442\\u044c\", \"\\u0432\\u043a\\u043b\\u044e\\u0447\\u0430\\u0442\\u044c\", \"\\u0432\\u043a\\u043b\\u044e\\u0447\\u0430\\u0442\\u044c\", \"\\u0432\\u043a\\u043b\\u044e\\u0447\\u0430\\u0442\\u044c\", \"\\u0432\\u043a\\u043b\\u044e\\u0447\\u0430\\u0442\\u044c\", \"\\u0432\\u043a\\u043b\\u044e\\u0447\\u0430\\u0442\\u044c\", \"\\u0432\\u043a\\u043b\\u044e\\u0447\\u0430\\u0442\\u044c\", \"\\u0432\\u043a\\u043b\\u044e\\u0447\\u0430\\u0442\\u044c \\u0432\\u044b\\u043a\\u043b\\u044e\\u0447\\u0430\\u0442\\u044c\", \"\\u0432\\u043a\\u043b\\u044e\\u0447\\u0430\\u0442\\u044c \\u0432\\u044b\\u043a\\u043b\\u044e\\u0447\\u0430\\u0442\\u044c\", \"\\u0432\\u043a\\u043b\\u044e\\u0447\\u0430\\u0442\\u044c \\u0432\\u044b\\u043a\\u043b\\u044e\\u0447\\u0430\\u0442\\u044c\", \"\\u0432\\u043a\\u043b\\u044e\\u0447\\u0430\\u0442\\u044c \\u0432\\u044b\\u043a\\u043b\\u044e\\u0447\\u0430\\u0442\\u044c \\u043e\\u043f\\u0442\\u0438\\u043c\\u0438\\u0437\\u0430\\u0446\\u0438\\u044f\", \"\\u0432\\u043a\\u043b\\u044e\\u0447\\u0430\\u0442\\u044c \\u043e\\u043f\\u0442\\u0438\\u043c\\u0438\\u0437\\u0430\\u0446\\u0438\\u044f\", \"\\u0432\\u043b\\u043e\\u0436\\u0435\\u043d\\u043d\\u043e\\u0441\\u0442\\u044c\", \"\\u0432\\u043d\\u0435\\u0448\\u043d\\u0438\\u0439 \\u0437\\u0430\\u0432\\u0438\\u0441\\u0438\\u043c\\u043e\\u0441\\u0442\\u044c\", \"\\u0432\\u043d\\u0443\\u0442\\u0440\\u0435\\u043d\\u043d\\u0438\\u0439\", \"\\u0432\\u043d\\u0443\\u0442\\u0440\\u0435\\u043d\\u043d\\u0438\\u0439\", \"\\u0432\\u043d\\u0443\\u0442\\u0440\\u0435\\u043d\\u043d\\u0438\\u0439\", \"\\u0432\\u043d\\u0443\\u0442\\u0440\\u0435\\u043d\\u043d\\u0438\\u0439\", \"\\u0432\\u043d\\u0443\\u0442\\u0440\\u0435\\u043d\\u043d\\u0438\\u0439\", \"\\u0432\\u043d\\u0443\\u0442\\u0440\\u0435\\u043d\\u043d\\u0438\\u0439\", \"\\u0432\\u043d\\u0443\\u0442\\u0440\\u0435\\u043d\\u043d\\u0438\\u0439\", \"\\u0432\\u043d\\u0443\\u0442\\u0440\\u0435\\u043d\\u043d\\u0438\\u0439\", \"\\u0432\\u043d\\u0443\\u0442\\u0440\\u0435\\u043d\\u043d\\u0438\\u0439 \\u0441\\u0432\\u044f\\u0437\\u044c\", \"\\u0432\\u043e\\u0434\\u0430\", \"\\u0432\\u043e\\u0434\\u0430\", \"\\u0432\\u043e\\u0434\\u0430\", \"\\u0432\\u043e\\u0434\\u0430\", \"\\u0432\\u043e\\u0434\\u0430\", \"\\u0432\\u043e\\u0434\\u0438\\u0442\\u0435\\u043b\\u044c\", \"\\u0432\\u043e\\u0435\\u043d\\u043d\\u044b\\u0439\", \"\\u0432\\u043e\\u0436\\u0434\\u0435\\u043d\\u0438\\u0435\", \"\\u0432\\u043e\\u0437\\u043c\\u043e\\u0436\\u043d\\u043e\\u0441\\u0442\\u044c\", \"\\u0432\\u043e\\u0437\\u043c\\u043e\\u0436\\u043d\\u043e\\u0441\\u0442\\u044c\", \"\\u0432\\u043e\\u0437\\u043c\\u043e\\u0436\\u043d\\u043e\\u0441\\u0442\\u044c\", \"\\u0432\\u043e\\u0437\\u043c\\u043e\\u0436\\u043d\\u043e\\u0441\\u0442\\u044c\", \"\\u0432\\u043e\\u0437\\u043c\\u043e\\u0436\\u043d\\u043e\\u0441\\u0442\\u044c\", \"\\u0432\\u043e\\u0437\\u043c\\u043e\\u0436\\u043d\\u043e\\u0441\\u0442\\u044c\", \"\\u0432\\u043e\\u0437\\u043c\\u043e\\u0436\\u043d\\u043e\\u0441\\u0442\\u044c\", \"\\u0432\\u043e\\u0437\\u043c\\u043e\\u0436\\u043d\\u043e\\u0441\\u0442\\u044c\", \"\\u0432\\u043e\\u0437\\u043c\\u043e\\u0436\\u043d\\u043e\\u0441\\u0442\\u044c\", \"\\u0432\\u043e\\u0437\\u043c\\u043e\\u0436\\u043d\\u043e\\u0441\\u0442\\u044c\", \"\\u0432\\u0440\\u0435\\u0434\\u043e\\u043d\\u043e\\u0441\", \"\\u0432\\u0440\\u0435\\u043c\\u0435\\u043d\\u043d\\u044b\\u0439\", \"\\u0432\\u0440\\u0435\\u043c\\u0435\\u043d\\u043d\\u044b\\u0439\", \"\\u0432\\u0440\\u0435\\u043c\\u0435\\u043d\\u043d\\u044b\\u0439\", \"\\u0432\\u0440\\u0435\\u043c\\u0435\\u043d\\u043d\\u044b\\u0439\", \"\\u0432\\u0440\\u0435\\u043c\\u0435\\u043d\\u043d\\u044b\\u0439\", \"\\u0432\\u0440\\u0435\\u043c\\u0435\\u043d\\u043d\\u044b\\u0439\", \"\\u0432\\u0440\\u0435\\u043c\\u0435\\u043d\\u043d\\u044b\\u0439 \\u0440\\u044f\\u0434\", \"\\u0432\\u0440\\u0435\\u043c\\u0435\\u043d\\u043d\\u044b\\u0439 \\u0440\\u044f\\u0434\", \"\\u0432\\u0440\\u0435\\u043c\\u0435\\u043d\\u043d\\u044b\\u0439 \\u0440\\u044f\\u0434\", \"\\u0432\\u0440\\u0435\\u043c\\u0435\\u043d\\u043d\\u044b\\u0439 \\u0440\\u044f\\u0434\", \"\\u0432\\u0440\\u0435\\u043c\\u044f\", \"\\u0432\\u0440\\u0435\\u043c\\u044f\", \"\\u0432\\u0440\\u0435\\u043c\\u044f\", \"\\u0432\\u0440\\u0435\\u043c\\u044f\", \"\\u0432\\u0440\\u0435\\u043c\\u044f\", \"\\u0432\\u0440\\u0435\\u043c\\u044f\", \"\\u0432\\u0440\\u0435\\u043c\\u044f\", \"\\u0432\\u0440\\u0435\\u043c\\u044f\", \"\\u0432\\u0440\\u0435\\u043c\\u044f\", \"\\u0432\\u0440\\u0435\\u043c\\u044f\", \"\\u0432\\u0440\\u0435\\u043c\\u044f\", \"\\u0432\\u0440\\u0435\\u043c\\u044f \\u043e\\u0442\\u043a\\u043b\\u0438\\u043a\", \"\\u0432\\u0441\\u0435\\u043b\\u0435\\u043d\\u043d\\u0430\\u044f\", \"\\u0432\\u0443\\u0437\", \"\\u0432\\u0445\\u043e\\u0434\", \"\\u0432\\u0445\\u043e\\u0434\", \"\\u0432\\u0445\\u043e\\u0434\", \"\\u0432\\u0445\\u043e\\u0434\", \"\\u0432\\u0445\\u043e\\u0434\", \"\\u0432\\u0445\\u043e\\u0434\", \"\\u0432\\u0445\\u043e\\u0434\", \"\\u0432\\u0445\\u043e\\u0434\\u043d\\u043e\\u0439\", \"\\u0432\\u0445\\u043e\\u0434\\u043d\\u043e\\u0439\", \"\\u0432\\u0445\\u043e\\u0434\\u043d\\u043e\\u0439\", \"\\u0432\\u0445\\u043e\\u0434\\u043d\\u043e\\u0439\", \"\\u0432\\u0445\\u043e\\u0434\\u043d\\u043e\\u0439\", \"\\u0432\\u0445\\u043e\\u0434\\u043d\\u043e\\u0439 \\u0434\\u0430\\u043d\\u043d\\u044b\\u0435\", \"\\u0432\\u0445\\u043e\\u0434\\u043d\\u043e\\u0439 \\u0434\\u0430\\u043d\\u043d\\u044b\\u0435\", \"\\u0432\\u044b\\u0431\\u043e\\u0440\\u043a\\u0430\", \"\\u0432\\u044b\\u0431\\u043e\\u0440\\u043a\\u0430\", \"\\u0432\\u044b\\u0432\\u043e\\u0434\", \"\\u0432\\u044b\\u0432\\u043e\\u0434\", \"\\u0432\\u044b\\u0432\\u043e\\u0434\", \"\\u0432\\u044b\\u0432\\u043e\\u0434\", \"\\u0432\\u044b\\u0432\\u043e\\u0434\", \"\\u0432\\u044b\\u0432\\u043e\\u0434\", \"\\u0432\\u044b\\u0432\\u043e\\u0434\", \"\\u0432\\u044b\\u0432\\u043e\\u0434\", \"\\u0432\\u044b\\u0432\\u043e\\u0434\", \"\\u0432\\u044b\\u0434\\u0435\\u043b\\u044f\\u0442\\u044c\", \"\\u0432\\u044b\\u0434\\u0435\\u043b\\u044f\\u0442\\u044c\", \"\\u0432\\u044b\\u0434\\u0435\\u043b\\u044f\\u0442\\u044c\", \"\\u0432\\u044b\\u0434\\u0435\\u043b\\u044f\\u0442\\u044c\", \"\\u0432\\u044b\\u0434\\u0435\\u043b\\u044f\\u0442\\u044c\", \"\\u0432\\u044b\\u0434\\u0435\\u043b\\u044f\\u0442\\u044c\", \"\\u0432\\u044b\\u0434\\u0435\\u043b\\u044f\\u0442\\u044c\", \"\\u0432\\u044b\\u0434\\u0435\\u043b\\u044f\\u0442\\u044c\", \"\\u0432\\u044b\\u0434\\u0435\\u043b\\u044f\\u0442\\u044c\", \"\\u0432\\u044b\\u0434\\u0435\\u043b\\u044f\\u0442\\u044c \\u0438\\u043d\\u0441\\u0442\\u0430\\u043b\\u043b\\u044f\\u0446\\u0438\\u044f\", \"\\u0432\\u044b\\u0434\\u0435\\u043b\\u044f\\u0442\\u044c \\u0441\\u043b\\u043e\\u0442\", \"\\u0432\\u044b\\u043a\\u043b\\u044e\\u0447\\u0430\\u0442\\u044c \\u043e\\u043f\\u0442\\u0438\\u043c\\u0438\\u0437\\u0430\\u0446\\u0438\\u044f\", \"\\u0432\\u044b\\u043a\\u043b\\u044e\\u0447\\u0430\\u0442\\u044c \\u043e\\u043f\\u0442\\u0438\\u043c\\u0438\\u0437\\u0430\\u0446\\u0438\\u044f \\u0441\\u043e\\u0441\\u0442\\u0430\\u0432\\u043b\\u044f\\u0442\\u044c\", \"\\u0432\\u044b\\u043c\\u043e\\u0433\\u0430\\u0442\\u0435\\u043b\\u044c\", \"\\u0432\\u044b\\u043f\\u043e\\u043b\\u043d\\u044f\\u0442\\u044c \\u043a\\u043e\\u043c\\u0430\\u043d\\u0434\\u0430\", \"\\u0432\\u044b\\u0441\\u043e\\u043a\\u0438\\u0439 \\u043b\\u043e\\u0433\\u0438\\u0447\\u0435\\u0441\\u043a\\u0438\\u0439\", \"\\u0432\\u044b\\u0441\\u043e\\u043a\\u0438\\u0439 \\u043b\\u043e\\u0433\\u0438\\u0447\\u0435\\u0441\\u043a\\u0438\\u0439 \\u0443\\u0440\\u043e\\u0432\\u0435\\u043d\\u044c\", \"\\u0432\\u044b\\u0441\\u043e\\u043a\\u0438\\u0439 \\u043e\\u0431\\u0440\\u0430\\u0437\\u043e\\u0432\\u0430\\u043d\\u0438\\u0435\", \"\\u0433\\u0435\\u0440\\u043a\\u043e\\u043d\", \"\\u0433\\u0438\\u0442\\u0430\\u0440\\u0430\", \"\\u0433\\u0438\\u0442\\u0430\\u0440\\u0438\\u0441\\u0442\", \"\\u0433\\u0438\\u0442\\u0430\\u0440\\u043d\\u044b\\u0439\", \"\\u0433\\u043b\\u043e\\u0431\\u0430\\u043b\\u044c\\u043d\\u044b\\u0439\", \"\\u0433\\u043b\\u043e\\u0431\\u0430\\u043b\\u044c\\u043d\\u044b\\u0439\", \"\\u0433\\u043b\\u043e\\u0431\\u0430\\u043b\\u044c\\u043d\\u044b\\u0439\", \"\\u0433\\u043b\\u043e\\u0431\\u0430\\u043b\\u044c\\u043d\\u044b\\u0439\", \"\\u0433\\u043b\\u043e\\u0431\\u0430\\u043b\\u044c\\u043d\\u044b\\u0439\", \"\\u0433\\u043b\\u043e\\u0431\\u0430\\u043b\\u044c\\u043d\\u044b\\u0439\", \"\\u0433\\u043b\\u043e\\u0431\\u0430\\u043b\\u044c\\u043d\\u044b\\u0439\", \"\\u0433\\u043b\\u043e\\u0431\\u0430\\u043b\\u044c\\u043d\\u044b\\u0439 \\u043e\\u0431\\u043b\\u0430\\u0441\\u0442\\u044c\", \"\\u0433\\u043b\\u043e\\u0431\\u0430\\u043b\\u044c\\u043d\\u044b\\u0439 \\u043e\\u0431\\u043b\\u0430\\u0441\\u0442\\u044c \\u0432\\u0438\\u0434\\u0438\\u043c\\u043e\\u0441\\u0442\\u044c\", \"\\u0433\\u043b\\u043e\\u0431\\u0430\\u043b\\u044c\\u043d\\u044b\\u0439 \\u043f\\u0435\\u0440\\u0435\\u043c\\u0435\\u043d\\u043d\\u044b\\u0439\", \"\\u0433\\u043b\\u043e\\u0431\\u0430\\u043b\\u044c\\u043d\\u044b\\u0439 \\u043f\\u0435\\u0440\\u0435\\u043c\\u0435\\u043d\\u043d\\u044b\\u0439 \\u043f\\u0430\\u043a\\u0435\\u0442\", \"\\u0433\\u043e\\u0434\", \"\\u0433\\u043e\\u0434\", \"\\u0433\\u043e\\u0434\", \"\\u0433\\u043e\\u0434\", \"\\u0433\\u043e\\u0434\", \"\\u0433\\u043e\\u0434\", \"\\u0433\\u043e\\u0434\", \"\\u0433\\u043e\\u0434\", \"\\u0433\\u043e\\u0434\", \"\\u0433\\u043e\\u0434\", \"\\u0433\\u043e\\u0440\\u0438\\u0437\\u043e\\u043d\\u0442\", \"\\u0433\\u043e\\u0440\\u0438\\u0437\\u043e\\u043d\\u0442\", \"\\u0433\\u043e\\u0440\\u0438\\u0437\\u043e\\u043d\\u0442 \\u0441\\u043e\\u0431\\u044b\\u0442\\u0438\\u0435\", \"\\u0433\\u043e\\u0440\\u0438\\u0437\\u043e\\u043d\\u0442 \\u0441\\u043e\\u0431\\u044b\\u0442\\u0438\\u0435 \\u0447\\u0440\\u043d\\u043e\\u0439\", \"\\u0433\\u0440\\u0435\\u0439\\u0441\", \"\\u0433\\u0440\\u0435\\u0439\\u0441 \\u0445\\u043e\\u043f\\u043f\\u0435\\u0440\", \"\\u0433\\u0443\\u043c\\u0430\\u043d\\u0438\\u0442\\u0430\\u0440\\u043d\\u044b\\u0439\", \"\\u0434\\u0430\\u0432\\u0430\\u0442\\u044c\", \"\\u0434\\u0430\\u0432\\u0430\\u0442\\u044c\", \"\\u0434\\u0430\\u0432\\u0430\\u0442\\u044c\", \"\\u0434\\u0430\\u0432\\u0430\\u0442\\u044c\", \"\\u0434\\u0430\\u0432\\u0430\\u0442\\u044c\", \"\\u0434\\u0430\\u0432\\u0430\\u0442\\u044c\", \"\\u0434\\u0430\\u0432\\u0430\\u0442\\u044c\", \"\\u0434\\u0430\\u0432\\u0430\\u0442\\u044c\", \"\\u0434\\u0430\\u0432\\u0430\\u0442\\u044c\", \"\\u0434\\u0430\\u0432\\u0430\\u0442\\u044c\", \"\\u0434\\u0430\\u043d\\u043d\\u044b\\u0435\", \"\\u0434\\u0430\\u043d\\u043d\\u044b\\u0435\", \"\\u0434\\u0430\\u043d\\u043d\\u044b\\u0435\", \"\\u0434\\u0430\\u043d\\u043d\\u044b\\u0435\", \"\\u0434\\u0430\\u043d\\u043d\\u044b\\u0435\", \"\\u0434\\u0430\\u043d\\u043d\\u044b\\u0435\", \"\\u0434\\u0430\\u043d\\u043d\\u044b\\u0435\", \"\\u0434\\u0430\\u043d\\u043d\\u044b\\u0435\", \"\\u0434\\u0430\\u043d\\u043d\\u044b\\u0435\", \"\\u0434\\u0430\\u043d\\u043d\\u044b\\u0435\", \"\\u0434\\u0430\\u043d\\u043d\\u044b\\u0435\", \"\\u0434\\u0430\\u043d\\u043d\\u044b\\u0439\", \"\\u0434\\u0430\\u043d\\u043d\\u044b\\u0439\", \"\\u0434\\u0430\\u043d\\u043d\\u044b\\u0439\", \"\\u0434\\u0430\\u043d\\u043d\\u044b\\u0439\", \"\\u0434\\u0430\\u043d\\u043d\\u044b\\u0439\", \"\\u0434\\u0430\\u043d\\u043d\\u044b\\u0439\", \"\\u0434\\u0430\\u043d\\u043d\\u044b\\u0439\", \"\\u0434\\u0430\\u043d\\u043d\\u044b\\u0439\", \"\\u0434\\u0430\\u043d\\u043d\\u044b\\u0439\", \"\\u0434\\u0430\\u043d\\u043d\\u044b\\u0439\", \"\\u0434\\u0430\\u0442\\u0447\\u0438\\u043a\", \"\\u0434\\u0430\\u0442\\u0447\\u0438\\u043a\", \"\\u0434\\u0430\\u0442\\u0447\\u0438\\u043a\", \"\\u0434\\u0430\\u0442\\u0447\\u0438\\u043a\", \"\\u0434\\u0430\\u0442\\u0447\\u0438\\u043a\", \"\\u0434\\u0435\\u0432\\u0430\\u0439\\u0441\\u0430\", \"\\u0434\\u0435\\u0432\\u0430\\u0439\\u0441\\u0430\", \"\\u0434\\u0435\\u0432\\u0443\\u0448\\u043a\\u0430\", \"\\u0434\\u0435\\u0432\\u0443\\u0448\\u043a\\u0430\", \"\\u0434\\u0435\\u0432\\u0443\\u0448\\u043a\\u0430\", \"\\u0434\\u0435\\u043b\\u0430\\u0442\\u044c\", \"\\u0434\\u0435\\u043b\\u0430\\u0442\\u044c\", \"\\u0434\\u0435\\u043b\\u0430\\u0442\\u044c\", \"\\u0434\\u0435\\u043b\\u0430\\u0442\\u044c\", \"\\u0434\\u0435\\u043b\\u0430\\u0442\\u044c\", \"\\u0434\\u0435\\u043b\\u0430\\u0442\\u044c\", \"\\u0434\\u0435\\u043b\\u0430\\u0442\\u044c\", \"\\u0434\\u0435\\u043b\\u0430\\u0442\\u044c\", \"\\u0434\\u0435\\u043b\\u0430\\u0442\\u044c\", \"\\u0434\\u0435\\u043b\\u0430\\u0442\\u044c\", \"\\u0434\\u0435\\u0441\\u0435\\u0440\\u0438\\u0430\\u043b\\u0438\\u0437\\u0430\\u0446\\u0438\\u044f\", \"\\u0434\\u0435\\u0441\\u0435\\u0440\\u0438\\u0430\\u043b\\u0438\\u0437\\u0430\\u0446\\u0438\\u044f \\u043f\\u043e\\u043b\\u0438\\u043c\\u043e\\u0440\\u0444\\u043d\\u044b\\u0439\", \"\\u0434\\u0435\\u0441\\u0435\\u0440\\u0438\\u0430\\u043b\\u0438\\u0437\\u0430\\u0446\\u0438\\u044f \\u043f\\u043e\\u043b\\u0438\\u043c\\u043e\\u0440\\u0444\\u043d\\u044b\\u0439 \\u0441\\u0442\\u0440\\u0443\\u043a\\u0442\\u0443\\u0440\\u0430\", \"\\u0434\\u0435\\u0442\\u0430\\u043b\\u044c\", \"\\u0434\\u0435\\u0442\\u0430\\u043b\\u044c\", \"\\u0434\\u0435\\u0442\\u0430\\u043b\\u044c\", \"\\u0434\\u0435\\u0442\\u0430\\u043b\\u044c\", \"\\u0434\\u0435\\u0442\\u0430\\u043b\\u044c\", \"\\u0434\\u0435\\u0442\\u0430\\u043b\\u044c\", \"\\u0434\\u0435\\u0442\\u0435\\u043a\\u0446\\u0438\\u044f\", \"\\u0434\\u0435\\u0444\\u043e\\u043b\\u0442\\u043d\\u044b\\u0439\", \"\\u0434\\u0435\\u0444\\u043e\\u043b\\u0442\\u043d\\u044b\\u0439 \\u0437\\u043d\\u0430\\u0447\\u0435\\u043d\\u0438\\u0435\", \"\\u0434\\u0438\\u043e\\u0434\", \"\\u0434\\u0438\\u043e\\u0434\", \"\\u0434\\u0438\\u043e\\u0434\", \"\\u0434\\u0438\\u043f\\u043b\\u043e\\u043c\", \"\\u0434\\u0438\\u043f\\u043b\\u043e\\u043c\", \"\\u0434\\u0438\\u0441\\u043a\", \"\\u0434\\u0438\\u0441\\u043a\", \"\\u0434\\u0438\\u0441\\u043a\", \"\\u0434\\u0438\\u0441\\u043a\", \"\\u0434\\u0438\\u0441\\u043a\", \"\\u0434\\u0438\\u0441\\u043a\", \"\\u0434\\u0438\\u0441\\u043a\", \"\\u0434\\u0438\\u0441\\u0442\\u043e\\u0440\\u0448\\u043d\", \"\\u0434\\u043e\\u0431\\u0430\\u0432\\u043b\\u044f\\u0442\\u044c\", \"\\u0434\\u043e\\u0431\\u0430\\u0432\\u043b\\u044f\\u0442\\u044c\", \"\\u0434\\u043e\\u0431\\u0430\\u0432\\u043b\\u044f\\u0442\\u044c\", \"\\u0434\\u043e\\u0431\\u0430\\u0432\\u043b\\u044f\\u0442\\u044c\", \"\\u0434\\u043e\\u0431\\u0430\\u0432\\u043b\\u044f\\u0442\\u044c\", \"\\u0434\\u043e\\u0431\\u0430\\u0432\\u043b\\u044f\\u0442\\u044c\", \"\\u0434\\u043e\\u0431\\u0430\\u0432\\u043b\\u044f\\u0442\\u044c\", \"\\u0434\\u043e\\u0431\\u0430\\u0432\\u043b\\u044f\\u0442\\u044c\", \"\\u0434\\u043e\\u0431\\u0430\\u0432\\u043b\\u044f\\u0442\\u044c\", \"\\u0434\\u043e\\u0431\\u0430\\u0432\\u043b\\u044f\\u0442\\u044c\", \"\\u0434\\u043e\\u0441\\u0442\\u0443\\u043f\", \"\\u0434\\u043e\\u0441\\u0442\\u0443\\u043f\", \"\\u0434\\u043e\\u0441\\u0442\\u0443\\u043f\", \"\\u0434\\u043e\\u0441\\u0442\\u0443\\u043f\", \"\\u0434\\u043e\\u0441\\u0442\\u0443\\u043f\", \"\\u0434\\u043e\\u0441\\u0442\\u0443\\u043f\", \"\\u0434\\u043e\\u0441\\u0442\\u0443\\u043f\", \"\\u0434\\u043e\\u0441\\u0442\\u0443\\u043f\", \"\\u0434\\u043e\\u0441\\u0442\\u0443\\u043f\", \"\\u0434\\u043e\\u0441\\u0442\\u0443\\u043f\", \"\\u0434\\u0440\\u0430\\u0439\\u0432\\u0435\\u0440\", \"\\u0434\\u0440\\u0430\\u0439\\u0432\\u0435\\u0440\", \"\\u0434\\u0440\\u0430\\u0439\\u0432\\u0435\\u0440\", \"\\u0434\\u0440\\u0430\\u0439\\u0432\\u0435\\u0440\", \"\\u0434\\u0440\\u0430\\u0439\\u0432\\u0435\\u0440\", \"\\u0434\\u0440\\u0430\\u0439\\u0432\\u0435\\u0440\", \"\\u0434\\u0440\\u0430\\u0439\\u0432\\u0435\\u0440 \\u0443\\u0441\\u0442\\u0440\\u043e\\u0439\\u0441\\u0442\\u0432\\u043e\", \"\\u0434\\u0440\\u043e\\u0437\\u043e\\u0444\\u0438\\u043b\\u0430\", \"\\u0434\\u044b\\u0440\\u0430\", \"\\u0434\\u044b\\u0440\\u0430\", \"\\u0435\\u0434\\u0438\\u043d\\u0438\\u0446\\u0430 \\u0442\\u0440\\u0430\\u043d\\u0441\\u043b\\u044f\\u0446\\u0438\\u044f\", \"\\u0435\\u0436\\u0435\\u0434\\u043d\\u0435\\u0432\\u043d\\u044b\\u0439\", \"\\u0437\\u0430\\u0432\\u0438\\u0441\\u0438\\u043c\\u043e\\u0441\\u0442\\u044c\", \"\\u0437\\u0430\\u0432\\u0438\\u0441\\u0438\\u043c\\u043e\\u0441\\u0442\\u044c\", \"\\u0437\\u0430\\u0432\\u0438\\u0441\\u0438\\u043c\\u043e\\u0441\\u0442\\u044c\", \"\\u0437\\u0430\\u0432\\u0438\\u0441\\u0438\\u043c\\u043e\\u0441\\u0442\\u044c\", \"\\u0437\\u0430\\u0432\\u0438\\u0441\\u0438\\u043c\\u043e\\u0441\\u0442\\u044c\", \"\\u0437\\u0430\\u0432\\u0438\\u0441\\u0438\\u043c\\u043e\\u0441\\u0442\\u044c\", \"\\u0437\\u0430\\u0432\\u0438\\u0441\\u0438\\u043c\\u043e\\u0441\\u0442\\u044c\", \"\\u0437\\u0430\\u0432\\u0438\\u0441\\u0438\\u043c\\u043e\\u0441\\u0442\\u044c\", \"\\u0437\\u0430\\u0432\\u0438\\u0441\\u0438\\u043c\\u043e\\u0441\\u0442\\u044c\", \"\\u0437\\u0430\\u0432\\u0438\\u0441\\u0438\\u043c\\u043e\\u0441\\u0442\\u044c\", \"\\u0437\\u0430\\u043a\\u0430\\u0437\\u0447\\u0438\\u043a\", \"\\u0437\\u0430\\u043a\\u0430\\u0437\\u0447\\u0438\\u043a\", \"\\u0437\\u0430\\u043a\\u0430\\u0437\\u0447\\u0438\\u043a\", \"\\u0437\\u0430\\u043a\\u0430\\u0437\\u0447\\u0438\\u043a\", \"\\u0437\\u0430\\u043a\\u0440\\u044b\\u0442\\u043e\\u0441\\u0442\\u044c\", \"\\u0437\\u0430\\u043c\\u044b\\u043a\\u0430\\u043d\\u0438\\u0435\", \"\\u0437\\u0430\\u043c\\u044b\\u043a\\u0430\\u043d\\u0438\\u0435\", \"\\u0437\\u0430\\u043c\\u044b\\u043a\\u0430\\u043d\\u0438\\u0435\", \"\\u0437\\u0430\\u043f\\u0440\\u043e\\u0441\", \"\\u0437\\u0430\\u043f\\u0440\\u043e\\u0441\", \"\\u0437\\u0430\\u043f\\u0440\\u043e\\u0441\", \"\\u0437\\u0430\\u043f\\u0440\\u043e\\u0441\", \"\\u0437\\u0430\\u043f\\u0440\\u043e\\u0441\", \"\\u0437\\u0430\\u043f\\u0440\\u043e\\u0441\", \"\\u0437\\u0430\\u043f\\u0440\\u043e\\u0441\", \"\\u0437\\u0430\\u043f\\u0440\\u043e\\u0441\", \"\\u0437\\u0430\\u043f\\u0440\\u043e\\u0441\", \"\\u0437\\u0430\\u043f\\u0440\\u043e\\u0441 \\u044d\\u043b\\u0435\\u043c\\u0435\\u043d\\u0442\", \"\\u0437\\u0430\\u043f\\u0443\\u0441\\u043a\\u0430\\u0442\\u044c\", \"\\u0437\\u0430\\u043f\\u0443\\u0441\\u043a\\u0430\\u0442\\u044c\", \"\\u0437\\u0430\\u043f\\u0443\\u0441\\u043a\\u0430\\u0442\\u044c\", \"\\u0437\\u0430\\u043f\\u0443\\u0441\\u043a\\u0430\\u0442\\u044c\", \"\\u0437\\u0430\\u043f\\u0443\\u0441\\u043a\\u0430\\u0442\\u044c\", \"\\u0437\\u0430\\u043f\\u0443\\u0441\\u043a\\u0430\\u0442\\u044c\", \"\\u0437\\u0430\\u043f\\u0443\\u0441\\u043a\\u0430\\u0442\\u044c\", \"\\u0437\\u0430\\u043f\\u0443\\u0441\\u043a\\u0430\\u0442\\u044c\", \"\\u0437\\u0430\\u043f\\u0443\\u0441\\u043a\\u0430\\u0442\\u044c\", \"\\u0437\\u0430\\u043f\\u0443\\u0441\\u043a\\u0430\\u0442\\u044c\", \"\\u0437\\u0430\\u0449\\u0438\\u0442\\u0430\", \"\\u0437\\u0430\\u0449\\u0438\\u0442\\u0430\", \"\\u0437\\u0430\\u0449\\u0438\\u0442\\u0430\", \"\\u0437\\u0430\\u0449\\u0438\\u0442\\u0430\", \"\\u0437\\u0430\\u0449\\u0438\\u0442\\u0430\", \"\\u0437\\u0430\\u0449\\u0438\\u0442\\u0430\", \"\\u0437\\u0430\\u0449\\u0438\\u0442\\u0430\", \"\\u0437\\u0430\\u0449\\u0438\\u0442\\u0430 \\u043a\\u043b\\u0430\\u0441\\u0442\\u0435\\u0440\", \"\\u0437\\u0432\\u043e\\u043d\\u043e\\u043a\", \"\\u0437\\u0432\\u043e\\u043d\\u043e\\u043a\", \"\\u0437\\u0432\\u043e\\u043d\\u043e\\u043a\", \"\\u0437\\u0432\\u0443\\u043a\", \"\\u0437\\u0432\\u0443\\u043a\", \"\\u0437\\u0432\\u0443\\u043a\", \"\\u0437\\u0432\\u0443\\u043a\", \"\\u0437\\u0432\\u0443\\u043a\", \"\\u0437\\u0432\\u0443\\u043a\", \"\\u0437\\u043d\\u0430\\u0447\\u0435\\u043d\\u0438\\u0435\", \"\\u0437\\u043d\\u0430\\u0447\\u0435\\u043d\\u0438\\u0435\", \"\\u0437\\u043d\\u0430\\u0447\\u0435\\u043d\\u0438\\u0435\", \"\\u0437\\u043d\\u0430\\u0447\\u0435\\u043d\\u0438\\u0435\", \"\\u0437\\u043d\\u0430\\u0447\\u0435\\u043d\\u0438\\u0435\", \"\\u0437\\u043d\\u0430\\u0447\\u0435\\u043d\\u0438\\u0435\", \"\\u0437\\u043d\\u0430\\u0447\\u0435\\u043d\\u0438\\u0435\", \"\\u0437\\u043d\\u0430\\u0447\\u0435\\u043d\\u0438\\u0435\", \"\\u0437\\u043d\\u0430\\u0447\\u0435\\u043d\\u0438\\u0435\", \"\\u0437\\u043d\\u0430\\u0447\\u0435\\u043d\\u0438\\u0435\", \"\\u0437\\u043d\\u0430\\u0447\\u0435\\u043d\\u0438\\u0435\", \"\\u0437\\u043d\\u0430\\u0447\\u0435\\u043d\\u0438\\u0435 \\u0441\\u0432\\u043e\\u0439\\u0441\\u0442\\u0432\\u043e\", \"\\u0437\\u043d\\u0430\\u0447\\u0435\\u043d\\u0438\\u0435 \\u0441\\u0447\\u0435\\u0442\\u0447\\u0438\\u043a\", \"\\u0437\\u043e\\u043d\\u0430 \\u0434\\u043e\\u0441\\u0442\\u0443\\u043f\\u043d\\u043e\\u0441\\u0442\\u044c\", \"\\u0437\\u0440\\u0435\\u043d\\u0438\\u0435\", \"\\u0437\\u0440\\u0435\\u043d\\u0438\\u0435\", \"\\u0437\\u0440\\u0435\\u043d\\u0438\\u0435\", \"\\u0437\\u0440\\u0435\\u043d\\u0438\\u0435\", \"\\u0437\\u0440\\u0435\\u043d\\u0438\\u0435\", \"\\u0437\\u0440\\u0435\\u043d\\u0438\\u0435\", \"\\u0437\\u0440\\u0435\\u043d\\u0438\\u0435\", \"\\u0437\\u0440\\u0435\\u043d\\u0438\\u0435\", \"\\u0437\\u0440\\u0435\\u043d\\u0438\\u0435\", \"\\u0438\\u0433\\u0440\\u0430\", \"\\u0438\\u0433\\u0440\\u0430\", \"\\u0438\\u0433\\u0440\\u0430\", \"\\u0438\\u0433\\u0440\\u0430\", \"\\u0438\\u0433\\u0440\\u0430\", \"\\u0438\\u0433\\u0440\\u0430\", \"\\u0438\\u0433\\u0440\\u0430\", \"\\u0438\\u0433\\u0440\\u0430\", \"\\u0438\\u0433\\u0440\\u0430\\u0442\\u044c\", \"\\u0438\\u0433\\u0440\\u0430\\u0442\\u044c\", \"\\u0438\\u0433\\u0440\\u0430\\u0442\\u044c\", \"\\u0438\\u0433\\u0440\\u0430\\u0442\\u044c\", \"\\u0438\\u0433\\u0440\\u0430\\u0442\\u044c\", \"\\u0438\\u0433\\u0440\\u0430\\u0442\\u044c\", \"\\u0438\\u0433\\u0440\\u0430\\u0442\\u044c\", \"\\u0438\\u0433\\u0440\\u0430\\u0442\\u044c\", \"\\u0438\\u0433\\u0440\\u043e\\u043a\", \"\\u0438\\u0433\\u0440\\u043e\\u043a\", \"\\u0438\\u0433\\u0440\\u043e\\u043a\", \"\\u0438\\u0433\\u0440\\u043e\\u043a\", \"\\u0438\\u0435\\u0440\\u043e\\u0433\\u043b\\u0438\\u0444\", \"\\u0438\\u0437\\u0431\\u0440\\u0430\\u043d\\u043d\\u044b\\u0439\", \"\\u0438\\u0437\\u0433\\u043e\\u0442\\u043e\\u0432\\u043b\\u0435\\u043d\\u0438\\u0435\", \"\\u0438\\u0437\\u043c\\u0435\\u043d\\u0435\\u043d\\u0438\\u0435\", \"\\u0438\\u0437\\u043c\\u0435\\u043d\\u0435\\u043d\\u0438\\u0435\", \"\\u0438\\u0437\\u043c\\u0435\\u043d\\u0435\\u043d\\u0438\\u0435\", \"\\u0438\\u0437\\u043c\\u0435\\u043d\\u0435\\u043d\\u0438\\u0435\", \"\\u0438\\u0437\\u043c\\u0435\\u043d\\u0435\\u043d\\u0438\\u0435\", \"\\u0438\\u0437\\u043c\\u0435\\u043d\\u0435\\u043d\\u0438\\u0435\", \"\\u0438\\u0437\\u043c\\u0435\\u043d\\u0435\\u043d\\u0438\\u0435\", \"\\u0438\\u0437\\u043c\\u0435\\u043d\\u0435\\u043d\\u0438\\u0435\", \"\\u0438\\u0437\\u043c\\u0435\\u043d\\u0435\\u043d\\u0438\\u0435\", \"\\u0438\\u0437\\u043c\\u0435\\u043d\\u0435\\u043d\\u0438\\u0435\", \"\\u0438\\u0437\\u043c\\u0435\\u043d\\u0435\\u043d\\u0438\\u0435 \\u0446\\u0435\\u043d\\u0430\", \"\\u0438\\u0437\\u043c\\u0435\\u0440\\u0435\\u043d\\u0438\\u0435\", \"\\u0438\\u0437\\u043c\\u0435\\u0440\\u0435\\u043d\\u0438\\u0435\", \"\\u0438\\u0437\\u043c\\u0435\\u0440\\u0435\\u043d\\u0438\\u0435\", \"\\u0438\\u0437\\u043c\\u0435\\u0440\\u0435\\u043d\\u0438\\u0435\", \"\\u0438\\u0437\\u043c\\u0435\\u0440\\u0435\\u043d\\u0438\\u0435\", \"\\u0438\\u0437\\u043c\\u0435\\u0440\\u0435\\u043d\\u0438\\u0435 \\u043a\\u0430\\u0447\\u0435\\u0441\\u0442\\u0432\\u043e\", \"\\u0438\\u0437\\u043e\\u0431\\u0440\\u0430\\u0436\\u0435\\u043d\\u0438\\u0435\", \"\\u0438\\u0437\\u043e\\u0431\\u0440\\u0430\\u0436\\u0435\\u043d\\u0438\\u0435\", \"\\u0438\\u0437\\u043e\\u0431\\u0440\\u0430\\u0436\\u0435\\u043d\\u0438\\u0435\", \"\\u0438\\u0437\\u043e\\u0431\\u0440\\u0430\\u0436\\u0435\\u043d\\u0438\\u0435\", \"\\u0438\\u0437\\u043e\\u0431\\u0440\\u0430\\u0436\\u0435\\u043d\\u0438\\u0435\", \"\\u0438\\u0437\\u043e\\u0431\\u0440\\u0430\\u0436\\u0435\\u043d\\u0438\\u0435\", \"\\u0438\\u0437\\u043e\\u0431\\u0440\\u0430\\u0436\\u0435\\u043d\\u0438\\u0435\", \"\\u0438\\u0437\\u043e\\u0431\\u0440\\u0430\\u0436\\u0435\\u043d\\u0438\\u0435\", \"\\u0438\\u043c\\u044f\", \"\\u0438\\u043c\\u044f\", \"\\u0438\\u043c\\u044f\", \"\\u0438\\u043c\\u044f\", \"\\u0438\\u043c\\u044f\", \"\\u0438\\u043c\\u044f\", \"\\u0438\\u043c\\u044f\", \"\\u0438\\u043c\\u044f\", \"\\u0438\\u043d\\u0432\\u0435\\u0441\\u0442\", \"\\u0438\\u043d\\u0434\\u0443\\u0441\\u0442\\u0440\\u0438\\u044f\", \"\\u0438\\u043d\\u0434\\u0443\\u0441\\u0442\\u0440\\u0438\\u044f\", \"\\u0438\\u043d\\u0434\\u0443\\u0441\\u0442\\u0440\\u0438\\u044f\", \"\\u0438\\u043d\\u0434\\u0443\\u0441\\u0442\\u0440\\u0438\\u044f\", \"\\u0438\\u043d\\u0434\\u0443\\u0441\\u0442\\u0440\\u0438\\u044f\", \"\\u0438\\u043d\\u0434\\u0443\\u0441\\u0442\\u0440\\u0438\\u044f\", \"\\u0438\\u043d\\u0438\\u0446\\u0438\\u0430\\u043b\\u0438\\u0437\\u0430\\u0446\\u0438\\u044f\", \"\\u0438\\u043d\\u0438\\u0446\\u0438\\u0430\\u043b\\u0438\\u0437\\u0430\\u0446\\u0438\\u044f\", \"\\u0438\\u043d\\u0438\\u0446\\u0438\\u0430\\u043b\\u0438\\u0437\\u0430\\u0446\\u0438\\u044f\", \"\\u0438\\u043d\\u0438\\u0446\\u0438\\u0430\\u043b\\u0438\\u0437\\u0430\\u0446\\u0438\\u044f\", \"\\u0438\\u043d\\u0438\\u0446\\u0438\\u0430\\u043b\\u0438\\u0437\\u0430\\u0446\\u0438\\u044f\", \"\\u0438\\u043d\\u0438\\u0446\\u0438\\u0430\\u043b\\u0438\\u0437\\u0430\\u0446\\u0438\\u044f \\u043f\\u0430\\u043a\\u0435\\u0442\", \"\\u0438\\u043d\\u0441\\u0442\\u0430\\u043b\\u043b\\u044f\\u0446\\u0438\\u044f\", \"\\u0438\\u043d\\u0441\\u0442\\u0430\\u043b\\u043b\\u044f\\u0446\\u0438\\u044f\", \"\\u0438\\u043d\\u0441\\u0442\\u0430\\u043d\\u0441\", \"\\u0438\\u043d\\u0441\\u0442\\u0430\\u043d\\u0441\", \"\\u0438\\u043d\\u0441\\u0442\\u0430\\u043d\\u0441\", \"\\u0438\\u043d\\u0441\\u0442\\u0430\\u043d\\u0441\", \"\\u0438\\u043d\\u0441\\u0442\\u0430\\u043d\\u0441\", \"\\u0438\\u043d\\u0441\\u0442\\u0430\\u043d\\u0441\", \"\\u0438\\u043d\\u0441\\u0442\\u0430\\u043d\\u0441 \\u0431\\u0430\\u0437\\u0430\", \"\\u0438\\u043d\\u0441\\u0442\\u0430\\u043d\\u0441 \\u0431\\u0430\\u0437\\u0430 \\u0434\\u0430\\u043d\\u043d\\u044b\\u0435\", \"\\u0438\\u043d\\u0442\\u0435\\u043b\\u043b\\u0435\\u043a\\u0442\", \"\\u0438\\u043d\\u0442\\u0435\\u043b\\u043b\\u0435\\u043a\\u0442\", \"\\u0438\\u043d\\u0442\\u0435\\u043b\\u043b\\u0435\\u043a\\u0442\", \"\\u0438\\u043d\\u0442\\u0435\\u043b\\u043b\\u0435\\u043a\\u0442\", \"\\u0438\\u043d\\u0442\\u0435\\u043b\\u043b\\u0435\\u043a\\u0442\", \"\\u0438\\u043d\\u0442\\u0435\\u043b\\u043b\\u0435\\u043a\\u0442\", \"\\u0438\\u043d\\u0442\\u0435\\u043b\\u043b\\u0435\\u043a\\u0442\", \"\\u0438\\u043d\\u0442\\u0435\\u0440\\u043d\\u0435\\u0442\", \"\\u0438\\u043d\\u0442\\u0435\\u0440\\u043d\\u0435\\u0442\", \"\\u0438\\u043d\\u0442\\u0435\\u0440\\u043d\\u0435\\u0442\", \"\\u0438\\u043d\\u0442\\u0435\\u0440\\u043d\\u0435\\u0442\", \"\\u0438\\u043d\\u0442\\u0435\\u0440\\u043d\\u0435\\u0442\", \"\\u0438\\u043d\\u0442\\u0435\\u0440\\u043d\\u0435\\u0442\", \"\\u0438\\u043d\\u0442\\u0435\\u0440\\u043d\\u0435\\u0442\", \"\\u0438\\u043d\\u0442\\u0435\\u0440\\u043d\\u0435\\u0442\", \"\\u0438\\u043d\\u0442\\u0435\\u0440\\u043d\\u0435\\u0442\", \"\\u0438\\u043d\\u0442\\u0435\\u0440\\u0444\\u0435\\u0439\\u0441\", \"\\u0438\\u043d\\u0442\\u0435\\u0440\\u0444\\u0435\\u0439\\u0441\", \"\\u0438\\u043d\\u0442\\u0435\\u0440\\u0444\\u0435\\u0439\\u0441\", \"\\u0438\\u043d\\u0442\\u0435\\u0440\\u0444\\u0435\\u0439\\u0441\", \"\\u0438\\u043d\\u0442\\u0435\\u0440\\u0444\\u0435\\u0439\\u0441\", \"\\u0438\\u043d\\u0442\\u0435\\u0440\\u0444\\u0435\\u0439\\u0441\", \"\\u0438\\u043d\\u0442\\u0435\\u0440\\u0444\\u0435\\u0439\\u0441\", \"\\u0438\\u043d\\u0442\\u0435\\u0440\\u0444\\u0435\\u0439\\u0441\", \"\\u0438\\u043d\\u0442\\u0435\\u0440\\u0444\\u0435\\u0439\\u0441\", \"\\u0438\\u043d\\u0442\\u0435\\u0440\\u0444\\u0435\\u0439\\u0441\", \"\\u0438\\u043d\\u0442\\u0435\\u0440\\u0444\\u0435\\u0439\\u0441\", \"\\u0438\\u043d\\u0442\\u0435\\u0440\\u0444\\u0435\\u0440\\u0435\\u043d\\u0446\\u0438\\u044f\", \"\\u0438\\u043d\\u0444\\u043e\\u0440\\u043c\\u0430\\u0446\\u0438\\u044f\", \"\\u0438\\u043d\\u0444\\u043e\\u0440\\u043c\\u0430\\u0446\\u0438\\u044f\", \"\\u0438\\u043d\\u0444\\u043e\\u0440\\u043c\\u0430\\u0446\\u0438\\u044f\", \"\\u0438\\u043d\\u0444\\u043e\\u0440\\u043c\\u0430\\u0446\\u0438\\u044f\", \"\\u0438\\u043d\\u0444\\u043e\\u0440\\u043c\\u0430\\u0446\\u0438\\u044f\", \"\\u0438\\u043d\\u0444\\u043e\\u0440\\u043c\\u0430\\u0446\\u0438\\u044f\", \"\\u0438\\u043d\\u0444\\u043e\\u0440\\u043c\\u0430\\u0446\\u0438\\u044f\", \"\\u0438\\u043d\\u0444\\u043e\\u0440\\u043c\\u0430\\u0446\\u0438\\u044f\", \"\\u0438\\u043d\\u0444\\u043e\\u0440\\u043c\\u0430\\u0446\\u0438\\u044f\", \"\\u0438\\u043d\\u0444\\u043e\\u0440\\u043c\\u0430\\u0446\\u0438\\u044f\", \"\\u0438\\u043d\\u0444\\u0440\\u0430\\u0441\\u0442\\u0440\\u0443\\u043a\\u0442\\u0443\\u0440\\u0430\", \"\\u0438\\u043d\\u0444\\u0440\\u0430\\u0441\\u0442\\u0440\\u0443\\u043a\\u0442\\u0443\\u0440\\u0430\", \"\\u0438\\u043d\\u0444\\u0440\\u0430\\u0441\\u0442\\u0440\\u0443\\u043a\\u0442\\u0443\\u0440\\u0430\", \"\\u0438\\u043d\\u0444\\u0440\\u0430\\u0441\\u0442\\u0440\\u0443\\u043a\\u0442\\u0443\\u0440\\u0430\", \"\\u0438\\u043d\\u0444\\u0440\\u0430\\u0441\\u0442\\u0440\\u0443\\u043a\\u0442\\u0443\\u0440\\u0430\", \"\\u0438\\u043d\\u0444\\u0440\\u0430\\u0441\\u0442\\u0440\\u0443\\u043a\\u0442\\u0443\\u0440\\u0430\", \"\\u0438\\u043d\\u0444\\u0440\\u0430\\u0441\\u0442\\u0440\\u0443\\u043a\\u0442\\u0443\\u0440\\u0430\", \"\\u0438\\u0441\\u043a\\u0443\\u0441\\u0441\\u0442\\u0432\\u0435\\u043d\\u043d\\u044b\\u0439\", \"\\u0438\\u0441\\u043a\\u0443\\u0441\\u0441\\u0442\\u0432\\u0435\\u043d\\u043d\\u044b\\u0439\", \"\\u0438\\u0441\\u043a\\u0443\\u0441\\u0441\\u0442\\u0432\\u0435\\u043d\\u043d\\u044b\\u0439\", \"\\u0438\\u0441\\u043a\\u0443\\u0441\\u0441\\u0442\\u0432\\u0435\\u043d\\u043d\\u044b\\u0439\", \"\\u0438\\u0441\\u043a\\u0443\\u0441\\u0441\\u0442\\u0432\\u0435\\u043d\\u043d\\u044b\\u0439\", \"\\u0438\\u0441\\u043a\\u0443\\u0441\\u0441\\u0442\\u0432\\u0435\\u043d\\u043d\\u044b\\u0439\", \"\\u0438\\u0441\\u043a\\u0443\\u0441\\u0441\\u0442\\u0432\\u0435\\u043d\\u043d\\u044b\\u0439\", \"\\u0438\\u0441\\u043a\\u0443\\u0441\\u0441\\u0442\\u0432\\u0435\\u043d\\u043d\\u044b\\u0439\", \"\\u0438\\u0441\\u043a\\u0443\\u0441\\u0441\\u0442\\u0432\\u0435\\u043d\\u043d\\u044b\\u0439 \\u0438\\u043d\\u0442\\u0435\\u043b\\u043b\\u0435\\u043a\\u0442\", \"\\u0438\\u0441\\u043a\\u0443\\u0441\\u0441\\u0442\\u0432\\u0435\\u043d\\u043d\\u044b\\u0439 \\u0438\\u043d\\u0442\\u0435\\u043b\\u043b\\u0435\\u043a\\u0442\", \"\\u0438\\u0441\\u043a\\u0443\\u0441\\u0441\\u0442\\u0432\\u0435\\u043d\\u043d\\u044b\\u0439 \\u0438\\u043d\\u0442\\u0435\\u043b\\u043b\\u0435\\u043a\\u0442\", \"\\u0438\\u0441\\u043a\\u0443\\u0441\\u0441\\u0442\\u0432\\u0435\\u043d\\u043d\\u044b\\u0439 \\u0438\\u043d\\u0442\\u0435\\u043b\\u043b\\u0435\\u043a\\u0442\", \"\\u0438\\u0441\\u043a\\u0443\\u0441\\u0441\\u0442\\u0432\\u0435\\u043d\\u043d\\u044b\\u0439 \\u0438\\u043d\\u0442\\u0435\\u043b\\u043b\\u0435\\u043a\\u0442\", \"\\u0438\\u0441\\u043a\\u0443\\u0441\\u0441\\u0442\\u0432\\u0435\\u043d\\u043d\\u044b\\u0439 \\u0438\\u043d\\u0442\\u0435\\u043b\\u043b\\u0435\\u043a\\u0442\", \"\\u0438\\u0441\\u043a\\u0443\\u0441\\u0441\\u0442\\u0432\\u0435\\u043d\\u043d\\u044b\\u0439 \\u0438\\u043d\\u0442\\u0435\\u043b\\u043b\\u0435\\u043a\\u0442\", \"\\u0438\\u0441\\u043f\\u043e\\u043b\\u043d\\u0435\\u043d\\u0438\\u0435\", \"\\u0438\\u0441\\u043f\\u043e\\u043b\\u043d\\u0435\\u043d\\u0438\\u0435\", \"\\u0438\\u0441\\u043f\\u043e\\u043b\\u043d\\u0435\\u043d\\u0438\\u0435\", \"\\u0438\\u0441\\u043f\\u043e\\u043b\\u043d\\u0435\\u043d\\u0438\\u0435\", \"\\u0438\\u0441\\u043f\\u043e\\u043b\\u044c\\u0437\\u043e\\u0432\\u0430\\u043d\\u0438\\u0435\", \"\\u0438\\u0441\\u043f\\u043e\\u043b\\u044c\\u0437\\u043e\\u0432\\u0430\\u043d\\u0438\\u0435\", \"\\u0438\\u0441\\u043f\\u043e\\u043b\\u044c\\u0437\\u043e\\u0432\\u0430\\u043d\\u0438\\u0435\", \"\\u0438\\u0441\\u043f\\u043e\\u043b\\u044c\\u0437\\u043e\\u0432\\u0430\\u043d\\u0438\\u0435\", \"\\u0438\\u0441\\u043f\\u043e\\u043b\\u044c\\u0437\\u043e\\u0432\\u0430\\u043d\\u0438\\u0435\", \"\\u0438\\u0441\\u043f\\u043e\\u043b\\u044c\\u0437\\u043e\\u0432\\u0430\\u043d\\u0438\\u0435\", \"\\u0438\\u0441\\u043f\\u043e\\u043b\\u044c\\u0437\\u043e\\u0432\\u0430\\u043d\\u0438\\u0435\", \"\\u0438\\u0441\\u043f\\u043e\\u043b\\u044c\\u0437\\u043e\\u0432\\u0430\\u043d\\u0438\\u0435\", \"\\u0438\\u0441\\u043f\\u043e\\u043b\\u044c\\u0437\\u043e\\u0432\\u0430\\u043d\\u0438\\u0435\", \"\\u0438\\u0441\\u043f\\u043e\\u043b\\u044c\\u0437\\u043e\\u0432\\u0430\\u043d\\u0438\\u0435\", \"\\u0438\\u0441\\u043f\\u043e\\u043b\\u044c\\u0437\\u043e\\u0432\\u0430\\u043d\\u0438\\u0435\", \"\\u0438\\u0441\\u043f\\u043e\\u043b\\u044c\\u0437\\u043e\\u0432\\u0430\\u043d\\u0438\\u0435 \\u0432\\u043a\\u043b\\u044e\\u0447\\u0430\\u0442\\u044c\", \"\\u0438\\u0441\\u043f\\u043e\\u043b\\u044c\\u0437\\u043e\\u0432\\u0430\\u043d\\u0438\\u0435 \\u0432\\u043a\\u043b\\u044e\\u0447\\u0430\\u0442\\u044c \\u0432\\u044b\\u043a\\u043b\\u044e\\u0447\\u0430\\u0442\\u044c\", \"\\u0438\\u0441\\u043f\\u043e\\u043b\\u044c\\u0437\\u043e\\u0432\\u0430\\u0442\\u044c\", \"\\u0438\\u0441\\u043f\\u043e\\u043b\\u044c\\u0437\\u043e\\u0432\\u0430\\u0442\\u044c\", \"\\u0438\\u0441\\u043f\\u043e\\u043b\\u044c\\u0437\\u043e\\u0432\\u0430\\u0442\\u044c\", \"\\u0438\\u0441\\u043f\\u043e\\u043b\\u044c\\u0437\\u043e\\u0432\\u0430\\u0442\\u044c\", \"\\u0438\\u0441\\u043f\\u043e\\u043b\\u044c\\u0437\\u043e\\u0432\\u0430\\u0442\\u044c\", \"\\u0438\\u0441\\u043f\\u043e\\u043b\\u044c\\u0437\\u043e\\u0432\\u0430\\u0442\\u044c\", \"\\u0438\\u0441\\u043f\\u043e\\u043b\\u044c\\u0437\\u043e\\u0432\\u0430\\u0442\\u044c\", \"\\u0438\\u0441\\u043f\\u043e\\u043b\\u044c\\u0437\\u043e\\u0432\\u0430\\u0442\\u044c\", \"\\u0438\\u0441\\u043f\\u043e\\u043b\\u044c\\u0437\\u043e\\u0432\\u0430\\u0442\\u044c\", \"\\u0438\\u0441\\u043f\\u043e\\u043b\\u044c\\u0437\\u043e\\u0432\\u0430\\u0442\\u044c\", \"\\u0438\\u0441\\u043f\\u043e\\u043b\\u044c\\u0437\\u043e\\u0432\\u0430\\u0442\\u044c\", \"\\u0438\\u0441\\u043f\\u043e\\u043b\\u044c\\u0437\\u043e\\u0432\\u0430\\u0442\\u044c \\u043a\\u043e\\u043c\\u0430\\u043d\\u0434\\u0430\", \"\\u0438\\u0441\\u043f\\u043e\\u043b\\u044c\\u0437\\u043e\\u0432\\u0430\\u0442\\u044c \\u043a\\u043e\\u043c\\u0430\\u043d\\u0434\\u0430\", \"\\u0438\\u0441\\u043f\\u043e\\u043b\\u044c\\u0437\\u043e\\u0432\\u0430\\u0442\\u044c \\u043a\\u043e\\u043c\\u0430\\u043d\\u0434\\u0430\", \"\\u0438\\u0441\\u0442\\u043e\\u0440\\u0438\\u044f\", \"\\u0438\\u0441\\u0442\\u043e\\u0440\\u0438\\u044f\", \"\\u0438\\u0441\\u0442\\u043e\\u0440\\u0438\\u044f\", \"\\u0438\\u0441\\u0442\\u043e\\u0440\\u0438\\u044f\", \"\\u0438\\u0441\\u0442\\u043e\\u0440\\u0438\\u044f\", \"\\u0438\\u0441\\u0442\\u043e\\u0440\\u0438\\u044f\", \"\\u0438\\u0441\\u0442\\u043e\\u0440\\u0438\\u044f\", \"\\u0438\\u0441\\u0442\\u043e\\u0440\\u0438\\u044f\", \"\\u0438\\u0441\\u0442\\u043e\\u0440\\u0438\\u044f\", \"\\u0438\\u0441\\u0442\\u043e\\u0440\\u0438\\u044f\", \"\\u0438\\u0441\\u0445\\u043e\\u0434\\u043d\\u044b\\u0439 \\u0442\\u0435\\u043a\\u0441\\u0442\", \"\\u043a\\u0430\\u0431\\u0435\\u043b\\u044c\", \"\\u043a\\u0430\\u0431\\u0435\\u043b\\u044c\", \"\\u043a\\u0430\\u0431\\u0435\\u043b\\u044c\", \"\\u043a\\u0430\\u0436\\u0434\\u044b\\u0439\", \"\\u043a\\u0430\\u0436\\u0434\\u044b\\u0439\", \"\\u043a\\u0430\\u0436\\u0434\\u044b\\u0439\", \"\\u043a\\u0430\\u0436\\u0434\\u044b\\u0439\", \"\\u043a\\u0430\\u0436\\u0434\\u044b\\u0439\", \"\\u043a\\u0430\\u0436\\u0434\\u044b\\u0439\", \"\\u043a\\u0430\\u0436\\u0434\\u044b\\u0439\", \"\\u043a\\u0430\\u0436\\u0434\\u044b\\u0439\", \"\\u043a\\u0430\\u0436\\u0434\\u044b\\u0439\", \"\\u043a\\u0430\\u0436\\u0434\\u044b\\u0439\", \"\\u043a\\u0430\\u0436\\u0434\\u044b\\u0439\", \"\\u043a\\u0430\\u043c\\u0435\\u0440\\u0430\", \"\\u043a\\u0430\\u043c\\u0435\\u0440\\u0430\", \"\\u043a\\u0430\\u043c\\u0435\\u0440\\u0430\", \"\\u043a\\u0430\\u043c\\u0435\\u0440\\u0430\", \"\\u043a\\u0430\\u043c\\u0435\\u0440\\u0430\", \"\\u043a\\u0430\\u043c\\u0435\\u0440\\u0430\", \"\\u043a\\u0430\\u043c\\u0435\\u0440\\u0430\", \"\\u043a\\u0430\\u043d\\u0430\\u043b\\u044c\\u043d\\u044b\\u0439 \\u0443\\u0440\\u043e\\u0432\\u0435\\u043d\\u044c\", \"\\u043a\\u0430\\u043d\\u0434\\u0438\\u0434\\u0430\\u0442\", \"\\u043a\\u0430\\u043d\\u0434\\u0438\\u0434\\u0430\\u0442\", \"\\u043a\\u0430\\u043d\\u0434\\u0438\\u0434\\u0430\\u0442\", \"\\u043a\\u0430\\u0440\\u043f\\u0430\\u0442\\u044b\", \"\\u043a\\u0430\\u0440\\u043f\\u0430\\u0442\\u044b\", \"\\u043a\\u0430\\u0440\\u0442\\u0430\", \"\\u043a\\u0430\\u0440\\u0442\\u0430\", \"\\u043a\\u0430\\u0440\\u0442\\u0430\", \"\\u043a\\u0430\\u0440\\u0442\\u0430\", \"\\u043a\\u0430\\u0440\\u0442\\u0430\", \"\\u043a\\u0430\\u0440\\u0442\\u0430\", \"\\u043a\\u0430\\u0440\\u0442\\u0430\", \"\\u043a\\u0430\\u0440\\u0442\\u0430\", \"\\u043a\\u0430\\u0440\\u0442\\u0430\", \"\\u043a\\u0430\\u0447\\u0435\\u0441\\u0442\\u0432\\u043e\", \"\\u043a\\u0430\\u0447\\u0435\\u0441\\u0442\\u0432\\u043e\", \"\\u043a\\u0430\\u0447\\u0435\\u0441\\u0442\\u0432\\u043e\", \"\\u043a\\u0430\\u0447\\u0435\\u0441\\u0442\\u0432\\u043e\", \"\\u043a\\u0430\\u0447\\u0435\\u0441\\u0442\\u0432\\u043e\", \"\\u043a\\u0430\\u0447\\u0435\\u0441\\u0442\\u0432\\u043e\", \"\\u043a\\u0430\\u0447\\u0435\\u0441\\u0442\\u0432\\u043e\", \"\\u043a\\u0430\\u0447\\u0435\\u0441\\u0442\\u0432\\u043e\", \"\\u043a\\u0430\\u0447\\u0435\\u0441\\u0442\\u0432\\u043e\", \"\\u043a\\u0430\\u0447\\u0435\\u0441\\u0442\\u0432\\u043e\", \"\\u043a\\u0430\\u0447\\u0435\\u0441\\u0442\\u0432\\u043e \\u0437\\u0432\\u0443\\u043a\", \"\\u043a\\u0432\\u0430\\u043d\\u0442\\u0438\\u043b\\u044c\", \"\\u043a\\u0433\\u0446\", \"\\u043a\\u0435\\u0439\\u0441\", \"\\u043a\\u0435\\u0439\\u0441\", \"\\u043a\\u0435\\u0439\\u0441\", \"\\u043a\\u0435\\u0439\\u0441\", \"\\u043a\\u0435\\u0439\\u0441\", \"\\u043a\\u0435\\u0439\\u0441\", \"\\u043a\\u0435\\u043d\", \"\\u043a\\u0435\\u043d \\u043b\\u0435\\u0432\\u0438\\u043d\", \"\\u043a\\u0435\\u0448\", \"\\u043a\\u0435\\u0448\", \"\\u043a\\u0435\\u0448\", \"\\u043a\\u0435\\u0448\", \"\\u043a\\u0435\\u0448\", \"\\u043a\\u0435\\u0448\", \"\\u043a\\u0435\\u0448\", \"\\u043a\\u0438\\u043d\\u043e\\u0442\\u0435\\u0430\\u0442\\u0440\", \"\\u043a\\u0438\\u0442\\u0430\\u0439\\u0441\\u043a\\u0438\\u0439\", \"\\u043a\\u0438\\u0442\\u0430\\u0439\\u0441\\u043a\\u0438\\u0439\", \"\\u043a\\u0438\\u0442\\u0430\\u0439\\u0441\\u043a\\u0438\\u0439\", \"\\u043a\\u0438\\u0442\\u0430\\u0439\\u0441\\u043a\\u0438\\u0439\", \"\\u043a\\u0438\\u0442\\u0430\\u0439\\u0441\\u043a\\u0438\\u0439\", \"\\u043a\\u0438\\u0442\\u0430\\u0439\\u0441\\u043a\\u0438\\u0439\", \"\\u043a\\u0438\\u0442\\u0430\\u0439\\u0441\\u043a\\u0438\\u0439\", \"\\u043a\\u043b\\u0430\\u0432\\u0438\\u0448\\u0430\", \"\\u043a\\u043b\\u0430\\u0441\\u0441\", \"\\u043a\\u043b\\u0430\\u0441\\u0441\", \"\\u043a\\u043b\\u0430\\u0441\\u0441\", \"\\u043a\\u043b\\u0430\\u0441\\u0441\", \"\\u043a\\u043b\\u0430\\u0441\\u0441\", \"\\u043a\\u043b\\u0430\\u0441\\u0441\", \"\\u043a\\u043b\\u0430\\u0441\\u0441\", \"\\u043a\\u043b\\u0430\\u0441\\u0441\", \"\\u043a\\u043b\\u0430\\u0441\\u0441\", \"\\u043a\\u043b\\u0430\\u0441\\u0441\", \"\\u043a\\u043b\\u0430\\u0441\\u0441\", \"\\u043a\\u043b\\u0430\\u0441\\u0442\\u0435\\u0440\", \"\\u043a\\u043b\\u0430\\u0441\\u0442\\u0435\\u0440\", \"\\u043a\\u043b\\u0430\\u0441\\u0442\\u0435\\u0440\", \"\\u043a\\u043b\\u0430\\u0441\\u0442\\u0435\\u0440\", \"\\u043a\\u043b\\u0430\\u0441\\u0442\\u0435\\u0440\", \"\\u043a\\u043b\\u0430\\u0441\\u0442\\u0435\\u0440\", \"\\u043a\\u043b\\u0430\\u0441\\u0442\\u0435\\u0440 \\u0430\\u0442\\u0430\\u043a\\u0430\", \"\\u043a\\u043b\\u0435\\u0442\\u043a\\u0430\", \"\\u043a\\u043b\\u0435\\u0442\\u043a\\u0430\", \"\\u043a\\u043b\\u0438\\u0435\\u043d\\u0442\", \"\\u043a\\u043b\\u0438\\u0435\\u043d\\u0442\", \"\\u043a\\u043b\\u0438\\u0435\\u043d\\u0442\", \"\\u043a\\u043b\\u0438\\u0435\\u043d\\u0442\", \"\\u043a\\u043b\\u0438\\u0435\\u043d\\u0442\", \"\\u043a\\u043b\\u0438\\u0435\\u043d\\u0442\", \"\\u043a\\u043b\\u0438\\u0435\\u043d\\u0442\", \"\\u043a\\u043b\\u0438\\u0435\\u043d\\u0442\", \"\\u043a\\u043b\\u0438\\u0435\\u043d\\u0442\", \"\\u043a\\u043e\\u0431\\u043e\\u043b\", \"\\u043a\\u043e\\u0434\", \"\\u043a\\u043e\\u0434\", \"\\u043a\\u043e\\u0434\", \"\\u043a\\u043e\\u0434\", \"\\u043a\\u043e\\u0434\", \"\\u043a\\u043e\\u0434\", \"\\u043a\\u043e\\u0434\", \"\\u043a\\u043e\\u0434\", \"\\u043a\\u043e\\u0434\", \"\\u043a\\u043e\\u0434\", \"\\u043a\\u043e\\u0434\", \"\\u043a\\u043e\\u043b\\u0438\\u0447\\u0435\\u0441\\u0442\\u0432\\u043e\", \"\\u043a\\u043e\\u043b\\u0438\\u0447\\u0435\\u0441\\u0442\\u0432\\u043e\", \"\\u043a\\u043e\\u043b\\u0438\\u0447\\u0435\\u0441\\u0442\\u0432\\u043e\", \"\\u043a\\u043e\\u043b\\u0438\\u0447\\u0435\\u0441\\u0442\\u0432\\u043e\", \"\\u043a\\u043e\\u043b\\u0438\\u0447\\u0435\\u0441\\u0442\\u0432\\u043e\", \"\\u043a\\u043e\\u043b\\u0438\\u0447\\u0435\\u0441\\u0442\\u0432\\u043e\", \"\\u043a\\u043e\\u043b\\u0438\\u0447\\u0435\\u0441\\u0442\\u0432\\u043e\", \"\\u043a\\u043e\\u043b\\u0438\\u0447\\u0435\\u0441\\u0442\\u0432\\u043e\", \"\\u043a\\u043e\\u043b\\u0438\\u0447\\u0435\\u0441\\u0442\\u0432\\u043e\", \"\\u043a\\u043e\\u043b\\u0438\\u0447\\u0435\\u0441\\u0442\\u0432\\u043e\", \"\\u043a\\u043e\\u043b\\u043b\\u0435\\u043a\\u0446\\u0438\\u044f\", \"\\u043a\\u043e\\u043b\\u043b\\u0435\\u043a\\u0446\\u0438\\u044f\", \"\\u043a\\u043e\\u043c\\u0430\\u043d\\u0434\\u0430\", \"\\u043a\\u043e\\u043c\\u0430\\u043d\\u0434\\u0430\", \"\\u043a\\u043e\\u043c\\u0430\\u043d\\u0434\\u0430\", \"\\u043a\\u043e\\u043c\\u0430\\u043d\\u0434\\u0430\", \"\\u043a\\u043e\\u043c\\u0430\\u043d\\u0434\\u0430\", \"\\u043a\\u043e\\u043c\\u0430\\u043d\\u0434\\u0430\", \"\\u043a\\u043e\\u043c\\u0430\\u043d\\u0434\\u0430\", \"\\u043a\\u043e\\u043c\\u0430\\u043d\\u0434\\u0430\", \"\\u043a\\u043e\\u043c\\u0430\\u043d\\u0434\\u0430\", \"\\u043a\\u043e\\u043c\\u0430\\u043d\\u0434\\u0430\", \"\\u043a\\u043e\\u043c\\u043c\\u0443\\u0442\\u0430\\u0442\\u043e\\u0440\", \"\\u043a\\u043e\\u043c\\u043c\\u0443\\u0442\\u0430\\u0442\\u043e\\u0440\", \"\\u043a\\u043e\\u043c\\u043c\\u0443\\u0442\\u0430\\u0442\\u043e\\u0440 \\u0434\\u043e\\u0441\\u0442\\u0443\\u043f\", \"\\u043a\\u043e\\u043c\\u043f\\u0430\\u043d\\u0438\\u044f\", \"\\u043a\\u043e\\u043c\\u043f\\u0430\\u043d\\u0438\\u044f\", \"\\u043a\\u043e\\u043c\\u043f\\u0430\\u043d\\u0438\\u044f\", \"\\u043a\\u043e\\u043c\\u043f\\u0430\\u043d\\u0438\\u044f\", \"\\u043a\\u043e\\u043c\\u043f\\u0430\\u043d\\u0438\\u044f\", \"\\u043a\\u043e\\u043c\\u043f\\u0430\\u043d\\u0438\\u044f\", \"\\u043a\\u043e\\u043c\\u043f\\u0430\\u043d\\u0438\\u044f\", \"\\u043a\\u043e\\u043c\\u043f\\u0430\\u043d\\u0438\\u044f\", \"\\u043a\\u043e\\u043c\\u043f\\u0430\\u043d\\u0438\\u044f\", \"\\u043a\\u043e\\u043c\\u043f\\u0430\\u043d\\u0438\\u044f\", \"\\u043a\\u043e\\u043c\\u043f\\u043e\\u043d\\u0435\\u043d\\u0442 \\u043e\\u043f\\u0435\\u0440\\u0430\\u0446\\u0438\\u043e\\u043d\\u043d\\u044b\\u0439\", \"\\u043a\\u043e\\u043c\\u043f\\u044c\\u044e\\u0442\\u0435\\u0440\", \"\\u043a\\u043e\\u043c\\u043f\\u044c\\u044e\\u0442\\u0435\\u0440\", \"\\u043a\\u043e\\u043c\\u043f\\u044c\\u044e\\u0442\\u0435\\u0440\", \"\\u043a\\u043e\\u043c\\u043f\\u044c\\u044e\\u0442\\u0435\\u0440\", \"\\u043a\\u043e\\u043c\\u043f\\u044c\\u044e\\u0442\\u0435\\u0440\", \"\\u043a\\u043e\\u043c\\u043f\\u044c\\u044e\\u0442\\u0435\\u0440\", \"\\u043a\\u043e\\u043c\\u043f\\u044c\\u044e\\u0442\\u0435\\u0440\", \"\\u043a\\u043e\\u043c\\u043f\\u044c\\u044e\\u0442\\u0435\\u0440\", \"\\u043a\\u043e\\u043c\\u043f\\u044c\\u044e\\u0442\\u0435\\u0440\", \"\\u043a\\u043e\\u043c\\u043f\\u044c\\u044e\\u0442\\u0435\\u0440\", \"\\u043a\\u043e\\u043c\\u043f\\u044c\\u044e\\u0442\\u0435\\u0440\\u043d\\u044b\\u0439 \\u0437\\u0440\\u0435\\u043d\\u0438\\u0435\", \"\\u043a\\u043e\\u043c\\u043f\\u044c\\u044e\\u0442\\u0435\\u0440\\u043d\\u044b\\u0439 \\u0437\\u0440\\u0435\\u043d\\u0438\\u0435\", \"\\u043a\\u043e\\u043c\\u043f\\u044c\\u044e\\u0442\\u0435\\u0440\\u043d\\u044b\\u0439 \\u0437\\u0440\\u0435\\u043d\\u0438\\u0435\", \"\\u043a\\u043e\\u043c\\u043f\\u044c\\u044e\\u0442\\u0435\\u0440\\u043d\\u044b\\u0439 \\u0437\\u0440\\u0435\\u043d\\u0438\\u0435\", \"\\u043a\\u043e\\u043d\\u043a\\u0443\\u0440\\u0441\", \"\\u043a\\u043e\\u043d\\u043a\\u0443\\u0440\\u0441\", \"\\u043a\\u043e\\u043d\\u0442\\u0435\\u0439\\u043d\\u0435\\u0440 \\u0438\\u043c\\u044f\", \"\\u043a\\u043e\\u043d\\u0442\\u0435\\u0439\\u043d\\u0435\\u0440 \\u0438\\u043c\\u044f \\u043f\\u043e\\u043b\\u044c\\u0437\\u043e\\u0432\\u0430\\u0442\\u0435\\u043b\\u044c\", \"\\u043a\\u043e\\u043d\\u0442\\u0435\\u043a\\u0441\\u0442\", \"\\u043a\\u043e\\u043d\\u0442\\u0435\\u043a\\u0441\\u0442\", \"\\u043a\\u043e\\u043d\\u0442\\u0435\\u043a\\u0441\\u0442\", \"\\u043a\\u043e\\u043d\\u0442\\u0435\\u043a\\u0441\\u0442\", \"\\u043a\\u043e\\u043d\\u0442\\u0435\\u043a\\u0441\\u0442\", \"\\u043a\\u043e\\u043d\\u0442\\u0435\\u043a\\u0441\\u0442\", \"\\u043a\\u043e\\u043d\\u0442\\u0435\\u043a\\u0441\\u0442\", \"\\u043a\\u043e\\u043d\\u0442\\u0435\\u043a\\u0441\\u0442 \\u0442\\u0440\\u0435\\u0439\\u0441\", \"\\u043a\\u043e\\u043d\\u0442\\u0435\\u043d\\u0442\", \"\\u043a\\u043e\\u043d\\u0442\\u0435\\u043d\\u0442\", \"\\u043a\\u043e\\u043d\\u0442\\u0435\\u043d\\u0442\", \"\\u043a\\u043e\\u043d\\u0442\\u0435\\u043d\\u0442\", \"\\u043a\\u043e\\u043d\\u0442\\u0435\\u043d\\u0442\", \"\\u043a\\u043e\\u043d\\u0442\\u0435\\u043d\\u0442\", \"\\u043a\\u043e\\u043d\\u0442\\u0435\\u043d\\u0442\", \"\\u043a\\u043e\\u043d\\u0442\\u0440\\u043e\\u043b\\u043b\\u0435\\u0440\", \"\\u043a\\u043e\\u043d\\u0442\\u0440\\u043e\\u043b\\u043b\\u0435\\u0440\", \"\\u043a\\u043e\\u043d\\u0442\\u0440\\u043e\\u043b\\u043b\\u0435\\u0440\", \"\\u043a\\u043e\\u043d\\u0442\\u0440\\u043e\\u043b\\u043b\\u0435\\u0440\", \"\\u043a\\u043e\\u043d\\u0442\\u0440\\u043e\\u043b\\u043b\\u0435\\u0440\", \"\\u043a\\u043e\\u043d\\u0442\\u0440\\u043e\\u043b\\u044c\\u043d\\u044b\\u0439\", \"\\u043a\\u043e\\u043d\\u0442\\u0440\\u043e\\u043b\\u044c\\u043d\\u044b\\u0439\", \"\\u043a\\u043e\\u043d\\u0442\\u0440\\u043e\\u043b\\u044c\\u043d\\u044b\\u0439 \\u0441\\u0443\\u043c\\u043c\\u0430\", \"\\u043a\\u043e\\u043d\\u0442\\u0440\\u043e\\u043b\\u044c\\u043d\\u044b\\u0439 \\u0441\\u0443\\u043c\\u043c\\u0430\", \"\\u043a\\u043e\\u043d\\u0444\\u0438\\u0433\\u0443\\u0440\\u0430\\u0442\\u043e\\u0440\", \"\\u043a\\u043e\\u043d\\u0444\\u0438\\u0433\\u0443\\u0440\\u0430\\u0442\\u043e\\u0440\", \"\\u043a\\u0440\\u044b\\u0448\\u043a\\u0430\", \"\\u043a\\u0443\\u0440\\u0441\\u044b\", \"\\u043a\\u0443\\u0440\\u0441\\u044b\", \"\\u043a\\u0443\\u0440\\u0441\\u044b\", \"\\u043a\\u044d\\u0448\\u0438\\u0440\\u043e\\u0432\\u0430\\u043d\\u0438\\u0435\", \"\\u043a\\u044d\\u0448\\u0438\\u0440\\u043e\\u0432\\u0430\\u043d\\u0438\\u0435\", \"\\u043a\\u044d\\u0448\\u0438\\u0440\\u043e\\u0432\\u0430\\u0442\\u044c\", \"\\u043a\\u044d\\u0448\\u0438\\u0440\\u043e\\u0432\\u0430\\u0442\\u044c\", \"\\u043b\\u0435\\u0432\\u0438\\u043d\", \"\\u043b\\u0435\\u0439\\u0431\\u043b\\u0441\\u0435\\u0442\", \"\\u043b\\u0438\\u0434\\u0430\\u0440\", \"\\u043b\\u043e\\u0433\\u0438\\u043a\\u0430\", \"\\u043b\\u043e\\u0433\\u0438\\u043a\\u0430\", \"\\u043b\\u043e\\u0433\\u0438\\u043a\\u0430\", \"\\u043b\\u043e\\u0433\\u0438\\u043a\\u0430\", \"\\u043b\\u043e\\u0433\\u0438\\u043a\\u0430\", \"\\u043b\\u043e\\u0433\\u0438\\u043a\\u0430\", \"\\u043b\\u043e\\u0433\\u0438\\u0440\\u043e\\u0432\\u0430\\u043d\\u0438\\u0435\", \"\\u043b\\u043e\\u0433\\u0438\\u0440\\u043e\\u0432\\u0430\\u043d\\u0438\\u0435\", \"\\u043b\\u043e\\u0433\\u0438\\u0440\\u043e\\u0432\\u0430\\u043d\\u0438\\u0435\", \"\\u043b\\u043e\\u0433\\u0438\\u0440\\u043e\\u0432\\u0430\\u043d\\u0438\\u0435\", \"\\u043b\\u043e\\u0433\\u0438\\u0440\\u043e\\u0432\\u0430\\u043d\\u0438\\u0435\", \"\\u043b\\u043e\\u0433\\u0438\\u0447\\u0435\\u0441\\u043a\\u0438\\u0439\", \"\\u043b\\u043e\\u0433\\u0438\\u0447\\u0435\\u0441\\u043a\\u0438\\u0439\", \"\\u043b\\u043e\\u0433\\u0438\\u0447\\u0435\\u0441\\u043a\\u0438\\u0439\", \"\\u043b\\u043e\\u0433\\u0438\\u0447\\u0435\\u0441\\u043a\\u0438\\u0439\", \"\\u043b\\u043e\\u0433\\u0438\\u0447\\u0435\\u0441\\u043a\\u0438\\u0439\", \"\\u043b\\u043e\\u0433\\u0438\\u0447\\u0435\\u0441\\u043a\\u0438\\u0439 \\u0443\\u0440\\u043e\\u0432\\u0435\\u043d\\u044c\", \"\\u043b\\u043e\\u0433\\u0438\\u0447\\u0435\\u0441\\u043a\\u0438\\u0439 \\u0443\\u0440\\u043e\\u0432\\u0435\\u043d\\u044c\", \"\\u043b\\u044f\\u043c\\u0431\\u0434\\u0430\", \"\\u043c\\u0430\\u0440\\u0448\\u0440\\u0443\\u0442\\u0438\\u0437\\u0430\\u0442\\u043e\\u0440\", \"\\u043c\\u0430\\u0441\\u0442\\u0435\\u0440\", \"\\u043c\\u0430\\u0441\\u0442\\u0435\\u0440\", \"\\u043c\\u0430\\u0441\\u0442\\u0435\\u0440\", \"\\u043c\\u0430\\u0442\\u0435\\u043c\\u0430\\u0442\\u0438\\u043a\", \"\\u043c\\u0430\\u0442\\u0435\\u0440\\u0438\\u0430\\u043b\", \"\\u043c\\u0430\\u0442\\u0435\\u0440\\u0438\\u0430\\u043b\", \"\\u043c\\u0430\\u0442\\u0435\\u0440\\u0438\\u0430\\u043b\", \"\\u043c\\u0430\\u0442\\u0435\\u0440\\u0438\\u0430\\u043b\", \"\\u043c\\u0430\\u0442\\u0435\\u0440\\u0438\\u0430\\u043b\", \"\\u043c\\u0430\\u0442\\u0435\\u0440\\u0438\\u0430\\u043b\", \"\\u043c\\u0430\\u0442\\u0435\\u0440\\u0438\\u0430\\u043b\", \"\\u043c\\u0430\\u0442\\u0435\\u0440\\u0438\\u044f\", \"\\u043c\\u0430\\u0442\\u0435\\u0440\\u0438\\u044f\", \"\\u043c\\u0430\\u0442\\u0435\\u0440\\u0438\\u044f \\u044d\\u043d\\u0435\\u0440\\u0433\\u0438\\u044f\", \"\\u043c\\u0431\\u0430\\u0439\\u0442\", \"\\u043c\\u0435\\u0439\\u043a\\u0435\\u0440\\u0441\\u043a\\u0438\\u0439\", \"\\u043c\\u0435\\u0439\\u043a\\u0435\\u0440\\u0441\\u043a\\u0438\\u0439 \\u0434\\u0432\\u0438\\u0436\\u0435\\u043d\\u0438\\u0435\", \"\\u043c\\u0435\\u0442\\u0430\\u043b\\u043b\", \"\\u043c\\u0435\\u0442\\u0430\\u043b\\u043b\", \"\\u043c\\u0435\\u0442\\u0430\\u043b\\u043b\", \"\\u043c\\u0435\\u0442\\u043e\\u0434\", \"\\u043c\\u0435\\u0442\\u043e\\u0434\", \"\\u043c\\u0435\\u0442\\u043e\\u0434\", \"\\u043c\\u0435\\u0442\\u043e\\u0434\", \"\\u043c\\u0435\\u0442\\u043e\\u0434\", \"\\u043c\\u0435\\u0442\\u043e\\u0434\", \"\\u043c\\u0435\\u0442\\u043e\\u0434\", \"\\u043c\\u0435\\u0442\\u043e\\u0434\", \"\\u043c\\u0435\\u0442\\u043e\\u0434\", \"\\u043c\\u0435\\u0442\\u043e\\u0434\", \"\\u043c\\u0435\\u0442\\u043e\\u0434 \\u043e\\u0431\\u0435\\u0441\\u043f\\u0435\\u0447\\u0435\\u043d\\u0438\\u0435\", \"\\u043c\\u0435\\u0442\\u043e\\u0434 \\u043e\\u0431\\u0435\\u0441\\u043f\\u0435\\u0447\\u0435\\u043d\\u0438\\u0435 \\u0431\\u0435\\u0437\\u043e\\u043f\\u0430\\u0441\\u043d\\u043e\\u0441\\u0442\\u044c\", \"\\u043c\\u0435\\u0442\\u0440\\u0438\\u043a\\u0430\", \"\\u043c\\u0435\\u0442\\u0440\\u0438\\u043a\\u0430\", \"\\u043c\\u0435\\u0442\\u0440\\u0438\\u043a\\u0430\", \"\\u043c\\u0435\\u0442\\u0440\\u0438\\u043a\\u0430\", \"\\u043c\\u0435\\u0442\\u0440\\u0438\\u043a\\u0430\", \"\\u043c\\u0435\\u0442\\u0440\\u0438\\u043a\\u0430\", \"\\u043c\\u0435\\u0442\\u0440\\u0438\\u043a\\u0430\", \"\\u043c\\u0435\\u0442\\u0440\\u0438\\u043a\\u0430 \\u043f\\u0440\\u043e\\u0438\\u0437\\u0432\\u043e\\u0434\\u0438\\u0442\\u0435\\u043b\\u044c\\u043d\\u043e\\u0441\\u0442\\u044c\", \"\\u043c\\u0438\\u043a\\u0440\\u043e\\u0441\\u0442\\u0440\\u0443\\u043a\\u0442\\u0443\\u0440\\u0430\", \"\\u043c\\u043b\\u043d\", \"\\u043c\\u043b\\u043d\", \"\\u043c\\u043b\\u043d\", \"\\u043c\\u043b\\u043d\", \"\\u043c\\u043b\\u043d\", \"\\u043c\\u043b\\u043d \\u043c\\u043b\\u043d\", \"\\u043c\\u043b\\u043d \\u043c\\u043b\\u043d \\u043c\\u043b\\u043d\", \"\\u043c\\u043e\\u0431\\u0438\\u043b\\u044c\\u043d\\u044b\\u0439 \\u0443\\u0441\\u0442\\u0440\\u043e\\u0439\\u0441\\u0442\\u0432\\u043e\", \"\\u043c\\u043e\\u0434\\u0435\\u043b\\u044c\", \"\\u043c\\u043e\\u0434\\u0435\\u043b\\u044c\", \"\\u043c\\u043e\\u0434\\u0435\\u043b\\u044c\", \"\\u043c\\u043e\\u0434\\u0435\\u043b\\u044c\", \"\\u043c\\u043e\\u0434\\u0435\\u043b\\u044c\", \"\\u043c\\u043e\\u0434\\u0435\\u043b\\u044c\", \"\\u043c\\u043e\\u0434\\u0435\\u043b\\u044c\", \"\\u043c\\u043e\\u0434\\u0435\\u043b\\u044c\", \"\\u043c\\u043e\\u0434\\u0435\\u043b\\u044c\", \"\\u043c\\u043e\\u0434\\u0435\\u043b\\u044c\", \"\\u043c\\u043e\\u0434\\u0435\\u043b\\u044c \\u043e\\u0441\\u043d\\u043e\\u0432\\u044b\\u0432\\u0430\\u0442\\u044c\", \"\\u043c\\u043e\\u0434\\u0438\\u0444\\u0438\\u043a\\u0430\\u0442\\u043e\\u0440\", \"\\u043c\\u043e\\u0434\\u0438\\u0444\\u0438\\u043a\\u0430\\u0442\\u043e\\u0440\", \"\\u043c\\u043e\\u0434\\u0443\\u043b\\u044c\", \"\\u043c\\u043e\\u0434\\u0443\\u043b\\u044c\", \"\\u043c\\u043e\\u0434\\u0443\\u043b\\u044c\", \"\\u043c\\u043e\\u0434\\u0443\\u043b\\u044c\", \"\\u043c\\u043e\\u0434\\u0443\\u043b\\u044c\", \"\\u043c\\u043e\\u0434\\u0443\\u043b\\u044c\", \"\\u043c\\u043e\\u0434\\u0443\\u043b\\u044c\", \"\\u043c\\u043e\\u0434\\u0443\\u043b\\u044c\", \"\\u043c\\u043e\\u043d\\u0438\\u0442\\u043e\\u0440\\u0438\\u043d\\u0433\", \"\\u043c\\u043e\\u043d\\u0438\\u0442\\u043e\\u0440\\u0438\\u043d\\u0433\", \"\\u043c\\u043e\\u043d\\u0438\\u0442\\u043e\\u0440\\u0438\\u043d\\u0433\", \"\\u043c\\u043e\\u043d\\u0438\\u0442\\u043e\\u0440\\u0438\\u043d\\u0433\", \"\\u043c\\u043e\\u043d\\u0438\\u0442\\u043e\\u0440\\u0438\\u043d\\u0433\", \"\\u043c\\u043e\\u0447\\u044c\", \"\\u043c\\u043e\\u0447\\u044c\", \"\\u043c\\u043e\\u0447\\u044c\", \"\\u043c\\u043e\\u0447\\u044c\", \"\\u043c\\u043e\\u0447\\u044c\", \"\\u043c\\u043e\\u0447\\u044c\", \"\\u043c\\u043e\\u0447\\u044c\", \"\\u043c\\u043e\\u0447\\u044c\", \"\\u043c\\u043e\\u0447\\u044c\", \"\\u043c\\u043e\\u0447\\u044c\", \"\\u043c\\u043e\\u0447\\u044c\", \"\\u043c\\u043e\\u0447\\u044c \\u043f\\u043e\\u043f\\u0440\\u043e\\u0431\\u043e\\u0432\\u0430\\u0442\\u044c\", \"\\u043c\\u043e\\u044d\", \"\\u043d\\u0430\\u0431\\u043b\\u044e\\u0434\\u0430\\u0442\\u044c \\u0432\\u0441\\u0435\\u043b\\u0435\\u043d\\u043d\\u0430\\u044f\", \"\\u043d\\u0430\\u0437\\u0432\\u0430\\u043d\\u0438\\u0435 \\u0441\\u0442\\u0430\\u043d\\u0446\\u0438\\u044f\", \"\\u043d\\u0430\\u043a\\u043e\\u043d\\u0435\\u0447\\u043d\\u0438\\u043a\", \"\\u043d\\u0430\\u043f\\u0440\\u0430\\u0432\\u043b\\u0435\\u043d\\u0438\\u0435\", \"\\u043d\\u0430\\u043f\\u0440\\u0430\\u0432\\u043b\\u0435\\u043d\\u0438\\u0435\", \"\\u043d\\u0430\\u043f\\u0440\\u0430\\u0432\\u043b\\u0435\\u043d\\u0438\\u0435\", \"\\u043d\\u0430\\u043f\\u0440\\u0430\\u0432\\u043b\\u0435\\u043d\\u0438\\u0435\", \"\\u043d\\u0430\\u043f\\u0440\\u0430\\u0432\\u043b\\u0435\\u043d\\u0438\\u0435\", \"\\u043d\\u0430\\u043f\\u0440\\u0430\\u0432\\u043b\\u0435\\u043d\\u0438\\u0435\", \"\\u043d\\u0430\\u043f\\u0440\\u0430\\u0432\\u043b\\u0435\\u043d\\u0438\\u0435\", \"\\u043d\\u0430\\u043f\\u0440\\u0430\\u0432\\u043b\\u0435\\u043d\\u0438\\u0435\", \"\\u043d\\u0430\\u043f\\u0440\\u0438\\u043c\\u0435\\u0440\", \"\\u043d\\u0430\\u043f\\u0440\\u0438\\u043c\\u0435\\u0440\", \"\\u043d\\u0430\\u043f\\u0440\\u0438\\u043c\\u0435\\u0440\", \"\\u043d\\u0430\\u043f\\u0440\\u0438\\u043c\\u0435\\u0440\", \"\\u043d\\u0430\\u043f\\u0440\\u0438\\u043c\\u0435\\u0440\", \"\\u043d\\u0430\\u043f\\u0440\\u0438\\u043c\\u0435\\u0440\", \"\\u043d\\u0430\\u043f\\u0440\\u0438\\u043c\\u0435\\u0440\", \"\\u043d\\u0430\\u043f\\u0440\\u0438\\u043c\\u0435\\u0440\", \"\\u043d\\u0430\\u043f\\u0440\\u0438\\u043c\\u0435\\u0440\", \"\\u043d\\u0430\\u043f\\u0440\\u0438\\u043c\\u0435\\u0440\", \"\\u043d\\u0430\\u043f\\u0440\\u0438\\u043c\\u0435\\u0440\", \"\\u043d\\u0430\\u0441\\u043b\\u0435\\u0434\\u043d\\u0438\\u043a\", \"\\u043d\\u0435\\u0439\\u0440\\u043e\\u0441\\u0435\\u0442\\u044c\", \"\\u043d\\u0435\\u0439\\u0440\\u043e\\u0441\\u0435\\u0442\\u044c\", \"\\u043d\\u0435\\u0439\\u0440\\u043e\\u0441\\u0435\\u0442\\u044c\", \"\\u043d\\u0435\\u0439\\u0440\\u043e\\u0441\\u0435\\u0442\\u044c\", \"\\u043d\\u0435\\u0439\\u0440\\u043e\\u0441\\u0435\\u0442\\u044c\", \"\\u043d\\u0435\\u0439\\u0440\\u043e\\u0441\\u0435\\u0442\\u044c\", \"\\u043d\\u0435\\u0439\\u0440\\u043e\\u0441\\u0435\\u0442\\u044c\", \"\\u043d\\u0435\\u0439\\u0440\\u043e\\u0441\\u0435\\u0442\\u044c\", \"\\u043d\\u0435\\u0441\\u043a\\u043e\\u043b\\u044c\\u043a\\u043e\", \"\\u043d\\u0435\\u0441\\u043a\\u043e\\u043b\\u044c\\u043a\\u043e\", \"\\u043d\\u0435\\u0441\\u043a\\u043e\\u043b\\u044c\\u043a\\u043e\", \"\\u043d\\u0435\\u0441\\u043a\\u043e\\u043b\\u044c\\u043a\\u043e\", \"\\u043d\\u0435\\u0441\\u043a\\u043e\\u043b\\u044c\\u043a\\u043e\", \"\\u043d\\u0435\\u0441\\u043a\\u043e\\u043b\\u044c\\u043a\\u043e\", \"\\u043d\\u0435\\u0441\\u043a\\u043e\\u043b\\u044c\\u043a\\u043e\", \"\\u043d\\u0435\\u0441\\u043a\\u043e\\u043b\\u044c\\u043a\\u043e\", \"\\u043d\\u0435\\u0441\\u043a\\u043e\\u043b\\u044c\\u043a\\u043e\", \"\\u043d\\u0435\\u0441\\u043a\\u043e\\u043b\\u044c\\u043a\\u043e\", \"\\u043d\\u0435\\u0441\\u043a\\u043e\\u043b\\u044c\\u043a\\u043e \\u0437\\u043e\\u043d\\u0430\", \"\\u043d\\u0435\\u0441\\u043a\\u043e\\u043b\\u044c\\u043a\\u043e \\u0437\\u043e\\u043d\\u0430 \\u0434\\u043e\\u0441\\u0442\\u0443\\u043f\\u043d\\u043e\\u0441\\u0442\\u044c\", \"\\u043d\\u043e\\u0432\\u044b\\u0439\", \"\\u043d\\u043e\\u0432\\u044b\\u0439\", \"\\u043d\\u043e\\u0432\\u044b\\u0439\", \"\\u043d\\u043e\\u0432\\u044b\\u0439\", \"\\u043d\\u043e\\u0432\\u044b\\u0439\", \"\\u043d\\u043e\\u0432\\u044b\\u0439\", \"\\u043d\\u043e\\u0432\\u044b\\u0439\", \"\\u043d\\u043e\\u0432\\u044b\\u0439\", \"\\u043d\\u043e\\u0432\\u044b\\u0439\", \"\\u043d\\u043e\\u0432\\u044b\\u0439\", \"\\u043d\\u043e\\u0432\\u044b\\u0439\", \"\\u043d\\u043e\\u0432\\u044b\\u0439 \\u0430\\u043b\\u0433\\u043e\\u0440\\u0438\\u0442\\u043c\", \"\\u043d\\u043e\\u043c\\u0438\\u043d\\u0430\\u0446\\u0438\\u044f\", \"\\u043d\\u043e\\u0443\\u0442\\u0431\\u0443\\u043a\", \"\\u043d\\u043e\\u0443\\u0442\\u0431\\u0443\\u043a\", \"\\u043d\\u043e\\u0443\\u0442\\u0431\\u0443\\u043a\", \"\\u043d\\u043e\\u0443\\u0442\\u0431\\u0443\\u043a\", \"\\u043d\\u043e\\u0443\\u0442\\u0431\\u0443\\u043a\", \"\\u043d\\u0443\\u0436\\u043d\\u043e\", \"\\u043d\\u0443\\u0436\\u043d\\u043e\", \"\\u043d\\u0443\\u0436\\u043d\\u043e\", \"\\u043d\\u0443\\u0436\\u043d\\u043e\", \"\\u043d\\u0443\\u0436\\u043d\\u043e\", \"\\u043d\\u0443\\u0436\\u043d\\u043e\", \"\\u043d\\u0443\\u0436\\u043d\\u043e\", \"\\u043d\\u0443\\u0436\\u043d\\u043e\", \"\\u043d\\u0443\\u0436\\u043d\\u043e\", \"\\u043d\\u0443\\u0436\\u043d\\u043e\", \"\\u043d\\u0443\\u0436\\u043d\\u043e\", \"\\u043d\\u0443\\u0436\\u043d\\u044b\\u0439\", \"\\u043d\\u0443\\u0436\\u043d\\u044b\\u0439\", \"\\u043d\\u0443\\u0436\\u043d\\u044b\\u0439\", \"\\u043d\\u0443\\u0436\\u043d\\u044b\\u0439\", \"\\u043d\\u0443\\u0436\\u043d\\u044b\\u0439\", \"\\u043d\\u0443\\u0436\\u043d\\u044b\\u0439\", \"\\u043d\\u0443\\u0436\\u043d\\u044b\\u0439\", \"\\u043d\\u0443\\u0436\\u043d\\u044b\\u0439\", \"\\u043d\\u0443\\u0436\\u043d\\u044b\\u0439\", \"\\u043d\\u0443\\u0436\\u043d\\u044b\\u0439\", \"\\u043e\\u0431\\u0435\\u0441\\u043f\\u0435\\u0447\\u0438\\u0432\\u0430\\u0442\\u044c\", \"\\u043e\\u0431\\u0435\\u0441\\u043f\\u0435\\u0447\\u0438\\u0432\\u0430\\u0442\\u044c\", \"\\u043e\\u0431\\u0435\\u0441\\u043f\\u0435\\u0447\\u0438\\u0432\\u0430\\u0442\\u044c\", \"\\u043e\\u0431\\u0435\\u0441\\u043f\\u0435\\u0447\\u0438\\u0432\\u0430\\u0442\\u044c\", \"\\u043e\\u0431\\u0435\\u0441\\u043f\\u0435\\u0447\\u0438\\u0432\\u0430\\u0442\\u044c\", \"\\u043e\\u0431\\u0435\\u0441\\u043f\\u0435\\u0447\\u0438\\u0432\\u0430\\u0442\\u044c\", \"\\u043e\\u0431\\u0435\\u0441\\u043f\\u0435\\u0447\\u0438\\u0432\\u0430\\u0442\\u044c\", \"\\u043e\\u0431\\u0435\\u0441\\u043f\\u0435\\u0447\\u0438\\u0432\\u0430\\u0442\\u044c\", \"\\u043e\\u0431\\u0435\\u0441\\u043f\\u0435\\u0447\\u0438\\u0432\\u0430\\u0442\\u044c\", \"\\u043e\\u0431\\u0435\\u0441\\u043f\\u0435\\u0447\\u0438\\u0432\\u0430\\u0442\\u044c\", \"\\u043e\\u0431\\u043b\\u0430\\u0441\\u0442\\u044c \\u0432\\u0438\\u0434\\u0438\\u043c\\u043e\\u0441\\u0442\\u044c\", \"\\u043e\\u0431\\u043b\\u0430\\u0441\\u0442\\u044c \\u0432\\u0438\\u0434\\u0438\\u043c\\u043e\\u0441\\u0442\\u044c\", \"\\u043e\\u0431\\u043e\\u0433\\u0440\\u0435\\u0432\", \"\\u043e\\u0431\\u0443\\u0447\\u0435\\u043d\\u0438\\u0435\", \"\\u043e\\u0431\\u0443\\u0447\\u0435\\u043d\\u0438\\u0435\", \"\\u043e\\u0431\\u0443\\u0447\\u0435\\u043d\\u0438\\u0435\", \"\\u043e\\u0431\\u0443\\u0447\\u0435\\u043d\\u0438\\u0435\", \"\\u043e\\u0431\\u0443\\u0447\\u0435\\u043d\\u0438\\u0435\", \"\\u043e\\u0431\\u0443\\u0447\\u0435\\u043d\\u0438\\u0435\", \"\\u043e\\u0431\\u0443\\u0447\\u0435\\u043d\\u0438\\u0435\", \"\\u043e\\u0431\\u0443\\u0447\\u0435\\u043d\\u0438\\u0435\", \"\\u043e\\u0431\\u0443\\u0447\\u0435\\u043d\\u0438\\u0435\", \"\\u043e\\u0431\\u0449\\u0438\\u0439 \\u0442\\u0435\\u043e\\u0440\\u0438\\u044f\", \"\\u043e\\u0431\\u0449\\u0438\\u0439 \\u0442\\u0435\\u043e\\u0440\\u0438\\u044f \\u043e\\u0442\\u043d\\u043e\\u0441\\u0438\\u0442\\u0435\\u043b\\u044c\\u043d\\u043e\\u0441\\u0442\\u044c\", \"\\u043e\\u0431\\u044a\\u0435\\u043a\\u0442\", \"\\u043e\\u0431\\u044a\\u0435\\u043a\\u0442\", \"\\u043e\\u0431\\u044a\\u0435\\u043a\\u0442\", \"\\u043e\\u0431\\u044a\\u0435\\u043a\\u0442\", \"\\u043e\\u0431\\u044a\\u0435\\u043a\\u0442\", \"\\u043e\\u0431\\u044a\\u0435\\u043a\\u0442\", \"\\u043e\\u0431\\u044a\\u0435\\u043a\\u0442\", \"\\u043e\\u0431\\u044a\\u0435\\u043a\\u0442\", \"\\u043e\\u0431\\u044a\\u0435\\u043a\\u0442\", \"\\u043e\\u0431\\u044a\\u0435\\u043a\\u0442\", \"\\u043e\\u0431\\u044a\\u0435\\u043a\\u0442 \\u0441\\u043e\\u0441\\u0442\\u043e\\u044f\\u0442\\u044c\", \"\\u043e\\u043a\\u043d\\u043e\", \"\\u043e\\u043a\\u043d\\u043e\", \"\\u043e\\u043a\\u043d\\u043e\", \"\\u043e\\u043a\\u043d\\u043e\", \"\\u043e\\u043a\\u043d\\u043e\", \"\\u043e\\u043a\\u0440\\u0435\\u0441\\u0442\\u043d\\u043e\\u0441\\u0442\\u044c\", \"\\u043e\\u043a\\u0440\\u0435\\u0441\\u0442\\u043d\\u043e\\u0441\\u0442\\u044c\", \"\\u043e\\u043f\\u0435\\u0440\\u0430\\u0442\\u043e\\u0440\", \"\\u043e\\u043f\\u0435\\u0440\\u0430\\u0442\\u043e\\u0440\", \"\\u043e\\u043f\\u0435\\u0440\\u0430\\u0442\\u043e\\u0440\", \"\\u043e\\u043f\\u0435\\u0440\\u0430\\u0442\\u043e\\u0440\", \"\\u043e\\u043f\\u0435\\u0440\\u0430\\u0442\\u043e\\u0440\", \"\\u043e\\u043f\\u0435\\u0440\\u0430\\u0442\\u043e\\u0440\", \"\\u043e\\u043f\\u0435\\u0440\\u0430\\u0446\\u0438\\u043e\\u043d\\u043d\\u044b\\u0439\", \"\\u043e\\u043f\\u0435\\u0440\\u0430\\u0446\\u0438\\u043e\\u043d\\u043d\\u044b\\u0439\", \"\\u043e\\u043f\\u0435\\u0440\\u0430\\u0446\\u0438\\u043e\\u043d\\u043d\\u044b\\u0439\", \"\\u043e\\u043f\\u0435\\u0440\\u0430\\u0446\\u0438\\u043e\\u043d\\u043d\\u044b\\u0439\", \"\\u043e\\u043f\\u0435\\u0440\\u0430\\u0446\\u0438\\u043e\\u043d\\u043d\\u044b\\u0439\", \"\\u043e\\u043f\\u0435\\u0440\\u0430\\u0446\\u0438\\u043e\\u043d\\u043d\\u044b\\u0439\", \"\\u043e\\u043f\\u0435\\u0440\\u0430\\u0446\\u0438\\u043e\\u043d\\u043d\\u044b\\u0439\", \"\\u043e\\u043f\\u0435\\u0440\\u0430\\u0446\\u0438\\u043e\\u043d\\u043d\\u044b\\u0439\", \"\\u043e\\u043f\\u0435\\u0440\\u0430\\u0446\\u0438\\u043e\\u043d\\u043d\\u044b\\u0439\", \"\\u043e\\u043f\\u0435\\u0440\\u0430\\u0446\\u0438\\u043e\\u043d\\u043d\\u044b\\u0439 \\u0441\\u0438\\u0441\\u0442\\u0435\\u043c\\u0430\", \"\\u043e\\u043f\\u0435\\u0440\\u0430\\u0446\\u0438\\u043e\\u043d\\u043d\\u044b\\u0439 \\u0441\\u0438\\u0441\\u0442\\u0435\\u043c\\u0430\", \"\\u043e\\u043f\\u0435\\u0440\\u0430\\u0446\\u0438\\u043e\\u043d\\u043d\\u044b\\u0439 \\u0441\\u0438\\u0441\\u0442\\u0435\\u043c\\u0430\", \"\\u043e\\u043f\\u0435\\u0440\\u0430\\u0446\\u0438\\u043e\\u043d\\u043d\\u044b\\u0439 \\u0441\\u0438\\u0441\\u0442\\u0435\\u043c\\u0430\", \"\\u043e\\u043f\\u0435\\u0440\\u0430\\u0446\\u0438\\u043e\\u043d\\u043d\\u044b\\u0439 \\u0441\\u0438\\u0441\\u0442\\u0435\\u043c\\u0430\", \"\\u043e\\u043f\\u0435\\u0440\\u0430\\u0446\\u0438\\u043e\\u043d\\u043d\\u044b\\u0439 \\u0441\\u0438\\u0441\\u0442\\u0435\\u043c\\u0430\", \"\\u043e\\u043f\\u0435\\u0440\\u0430\\u0446\\u0438\\u043e\\u043d\\u043d\\u044b\\u0439 \\u0441\\u0438\\u0441\\u0442\\u0435\\u043c\\u0430\", \"\\u043e\\u043f\\u043e\\u0432\\u0435\\u0449\\u0435\\u043d\\u0438\\u0435\", \"\\u043e\\u043f\\u0442\\u0438\\u043c\\u0438\\u0437\\u0430\\u0446\\u0438\\u044f\", \"\\u043e\\u043f\\u0442\\u0438\\u043c\\u0438\\u0437\\u0430\\u0446\\u0438\\u044f\", \"\\u043e\\u043f\\u0442\\u0438\\u043c\\u0438\\u0437\\u0430\\u0446\\u0438\\u044f\", \"\\u043e\\u043f\\u0442\\u0438\\u043c\\u0438\\u0437\\u0430\\u0446\\u0438\\u044f\", \"\\u043e\\u043f\\u0442\\u0438\\u043c\\u0438\\u0437\\u0430\\u0446\\u0438\\u044f\", \"\\u043e\\u043f\\u0442\\u0438\\u043c\\u0438\\u0437\\u0430\\u0446\\u0438\\u044f\", \"\\u043e\\u043f\\u0442\\u0438\\u043c\\u0438\\u0437\\u0430\\u0446\\u0438\\u044f\", \"\\u043e\\u043f\\u0442\\u0438\\u043c\\u0438\\u0437\\u0430\\u0446\\u0438\\u044f \\u0441\\u043e\\u0441\\u0442\\u0430\\u0432\\u043b\\u044f\\u0442\\u044c\", \"\\u043e\\u043f\\u0442\\u0438\\u043c\\u0438\\u0437\\u0430\\u0446\\u0438\\u044f \\u0441\\u043e\\u0441\\u0442\\u0430\\u0432\\u043b\\u044f\\u0442\\u044c \\u0441\\u043e\\u043e\\u0442\\u0432\\u0435\\u0442\\u0441\\u0442\\u0432\\u0435\\u043d\\u043d\\u043e\\u0442\\u0430\\u0431\\u043b\\u0438\\u0446\\u0430\", \"\\u043e\\u043f\\u0446\\u0438\\u043e\\u043d\\u0430\\u043b\\u044c\\u043d\\u043e\\u0441\\u0442\\u044c\", \"\\u043e\\u0441\\u043d\\u043e\\u0432\\u043d\\u043e\\u0439\", \"\\u043e\\u0441\\u043d\\u043e\\u0432\\u043d\\u043e\\u0439\", \"\\u043e\\u0441\\u043d\\u043e\\u0432\\u043d\\u043e\\u0439\", \"\\u043e\\u0441\\u043d\\u043e\\u0432\\u043d\\u043e\\u0439\", \"\\u043e\\u0441\\u043d\\u043e\\u0432\\u043d\\u043e\\u0439\", \"\\u043e\\u0441\\u043d\\u043e\\u0432\\u043d\\u043e\\u0439\", \"\\u043e\\u0441\\u043d\\u043e\\u0432\\u043d\\u043e\\u0439\", \"\\u043e\\u0441\\u043d\\u043e\\u0432\\u043d\\u043e\\u0439\", \"\\u043e\\u0441\\u043d\\u043e\\u0432\\u043d\\u043e\\u0439\", \"\\u043e\\u0441\\u043d\\u043e\\u0432\\u043d\\u043e\\u0439\", \"\\u043e\\u0441\\u043d\\u043e\\u0432\\u043d\\u043e\\u0439\", \"\\u043e\\u0441\\u043d\\u043e\\u0432\\u043d\\u043e\\u0439 \\u043f\\u0440\\u0438\\u043d\\u0446\\u0438\\u043f\", \"\\u043e\\u0442\\u0432\\u0435\\u0447\\u0430\\u0442\\u044c \\u0432\\u043e\\u043f\\u0440\\u043e\\u0441\", \"\\u043e\\u0442\\u043c\\u0435\\u043d\\u0430\", \"\\u043e\\u0442\\u043c\\u0435\\u043d\\u0430\", \"\\u043e\\u0442\\u043c\\u0435\\u043d\\u0430\", \"\\u043e\\u0444\\u0438\\u0446\\u0435\\u0440\", \"\\u043e\\u0446\\u0435\\u043d\\u043a\\u0430 \\u0432\\u043b\\u0438\\u044f\\u043d\\u0438\\u0435\", \"\\u043e\\u0448\\u0438\\u0431\\u043a\\u0430\", \"\\u043e\\u0448\\u0438\\u0431\\u043a\\u0430\", \"\\u043e\\u0448\\u0438\\u0431\\u043a\\u0430\", \"\\u043e\\u0448\\u0438\\u0431\\u043a\\u0430\", \"\\u043e\\u0448\\u0438\\u0431\\u043a\\u0430\", \"\\u043e\\u0448\\u0438\\u0431\\u043a\\u0430\", \"\\u043e\\u0448\\u0438\\u0431\\u043a\\u0430\", \"\\u043e\\u0448\\u0438\\u0431\\u043a\\u0430\", \"\\u043e\\u0448\\u0438\\u0431\\u043a\\u0430\", \"\\u043e\\u0448\\u0438\\u0431\\u043a\\u0430\", \"\\u043e\\u0448\\u0438\\u0431\\u043a\\u0430\", \"\\u043f\\u0430\\u043a\\u0435\\u0442\", \"\\u043f\\u0430\\u043a\\u0435\\u0442\", \"\\u043f\\u0430\\u043a\\u0435\\u0442\", \"\\u043f\\u0430\\u043a\\u0435\\u0442\", \"\\u043f\\u0430\\u043a\\u0435\\u0442\", \"\\u043f\\u0430\\u043a\\u0435\\u0442\", \"\\u043f\\u0430\\u043a\\u0435\\u0442\", \"\\u043f\\u0430\\u043a\\u0435\\u0442 \\u0434\\u043e\\u0441\\u0442\\u0443\\u043f\\u043d\\u044b\\u0439\", \"\\u043f\\u0430\\u043a\\u0435\\u0442 \\u043a\\u043e\\u043c\\u0430\\u043d\\u0434\\u0430\", \"\\u043f\\u0430\\u043a\\u0435\\u0442 \\u0441\\u0443\\u0431\\u0434\", \"\\u043f\\u0430\\u043a\\u0435\\u0442\\u043d\\u044b\\u0439\", \"\\u043f\\u0430\\u043c\\u044f\\u0442\\u044c\", \"\\u043f\\u0430\\u043c\\u044f\\u0442\\u044c\", \"\\u043f\\u0430\\u043c\\u044f\\u0442\\u044c\", \"\\u043f\\u0430\\u043c\\u044f\\u0442\\u044c\", \"\\u043f\\u0430\\u043c\\u044f\\u0442\\u044c\", \"\\u043f\\u0430\\u043c\\u044f\\u0442\\u044c\", \"\\u043f\\u0430\\u043c\\u044f\\u0442\\u044c\", \"\\u043f\\u0430\\u043c\\u044f\\u0442\\u044c\", \"\\u043f\\u0430\\u043c\\u044f\\u0442\\u044c\", \"\\u043f\\u0430\\u043c\\u044f\\u0442\\u044c\", \"\\u043f\\u0430\\u0440\\u0441\\u0435\\u0440\", \"\\u043f\\u0430\\u0440\\u0441\\u0435\\u0440\", \"\\u043f\\u0430\\u0440\\u0441\\u0438\\u043d\\u0433\", \"\\u043f\\u0430\\u0440\\u0441\\u0438\\u043d\\u0433\", \"\\u043f\\u0430\\u0440\\u0441\\u0438\\u043d\\u0433\", \"\\u043f\\u0430\\u0440\\u0442\\u0438\\u044f\", \"\\u043f\\u0430\\u0440\\u0442\\u0438\\u044f\", \"\\u043f\\u0430\\u0440\\u0442\\u0438\\u044f\", \"\\u043f\\u0430\\u0440\\u0442\\u0438\\u044f\", \"\\u043f\\u0435\\u0434\\u0430\\u043b\\u044c\", \"\\u043f\\u0435\\u0434\\u0430\\u043b\\u044c\", \"\\u043f\\u0435\\u0440\\u0432\\u044b\\u0439\", \"\\u043f\\u0435\\u0440\\u0432\\u044b\\u0439\", \"\\u043f\\u0435\\u0440\\u0432\\u044b\\u0439\", \"\\u043f\\u0435\\u0440\\u0432\\u044b\\u0439\", \"\\u043f\\u0435\\u0440\\u0432\\u044b\\u0439\", \"\\u043f\\u0435\\u0440\\u0432\\u044b\\u0439\", \"\\u043f\\u0435\\u0440\\u0432\\u044b\\u0439\", \"\\u043f\\u0435\\u0440\\u0432\\u044b\\u0439\", \"\\u043f\\u0435\\u0440\\u0432\\u044b\\u0439\", \"\\u043f\\u0435\\u0440\\u0432\\u044b\\u0439\", \"\\u043f\\u0435\\u0440\\u0432\\u044b\\u0439 \\u043e\\u043f\\u0435\\u0440\\u0430\\u0446\\u0438\\u043e\\u043d\\u043d\\u044b\\u0439\", \"\\u043f\\u0435\\u0440\\u0432\\u044b\\u0439 \\u043e\\u043f\\u0435\\u0440\\u0430\\u0446\\u0438\\u043e\\u043d\\u043d\\u044b\\u0439 \\u0441\\u0438\\u0441\\u0442\\u0435\\u043c\\u0430\", \"\\u043f\\u0435\\u0440\\u0435\\u0434\\u0430\\u0447\\u0430\", \"\\u043f\\u0435\\u0440\\u0435\\u0434\\u0430\\u0447\\u0430\", \"\\u043f\\u0435\\u0440\\u0435\\u0434\\u0430\\u0447\\u0430\", \"\\u043f\\u0435\\u0440\\u0435\\u0434\\u0430\\u0447\\u0430\", \"\\u043f\\u0435\\u0440\\u0435\\u0434\\u0430\\u0447\\u0430\", \"\\u043f\\u0435\\u0440\\u0435\\u0434\\u0430\\u0447\\u0430\", \"\\u043f\\u0435\\u0440\\u0435\\u043c\\u0435\\u043d\\u043d\\u044b\\u0439\", \"\\u043f\\u0435\\u0440\\u0435\\u043c\\u0435\\u043d\\u043d\\u044b\\u0439\", \"\\u043f\\u0435\\u0440\\u0435\\u043c\\u0435\\u043d\\u043d\\u044b\\u0439\", \"\\u043f\\u0435\\u0440\\u0435\\u043c\\u0435\\u043d\\u043d\\u044b\\u0439\", \"\\u043f\\u0435\\u0440\\u0435\\u043c\\u0435\\u043d\\u043d\\u044b\\u0439\", \"\\u043f\\u0435\\u0440\\u0435\\u043c\\u0435\\u043d\\u043d\\u044b\\u0439\", \"\\u043f\\u0435\\u0440\\u0435\\u043c\\u0435\\u043d\\u043d\\u044b\\u0439\", \"\\u043f\\u0435\\u0440\\u0435\\u043c\\u0435\\u043d\\u043d\\u044b\\u0439\", \"\\u043f\\u0435\\u0440\\u0435\\u043c\\u0435\\u043d\\u043d\\u044b\\u0439\", \"\\u043f\\u0435\\u0440\\u0435\\u043c\\u0435\\u043d\\u043d\\u044b\\u0439 \\u043e\\u043a\\u0440\\u0443\\u0436\\u0435\\u043d\\u0438\\u0435\", \"\\u043f\\u0435\\u0440\\u0435\\u043c\\u0435\\u043d\\u043d\\u044b\\u0439 \\u043f\\u0430\\u043a\\u0435\\u0442\", \"\\u043f\\u0435\\u0440\\u0435\\u043d\\u043e\\u0441\", \"\\u043f\\u0435\\u0440\\u0435\\u043d\\u043e\\u0441\", \"\\u043f\\u0435\\u0440\\u0435\\u043d\\u043e\\u0441\", \"\\u043f\\u0435\\u0440\\u0441\\u043e\\u043d\\u0430\\u0436\", \"\\u043f\\u0435\\u0440\\u0441\\u043e\\u043d\\u0430\\u0436\", \"\\u043f\\u0435\\u0440\\u0441\\u043e\\u043d\\u0430\\u0436\", \"\\u043f\\u0435\\u0440\\u0441\\u043e\\u043d\\u0430\\u0436\", \"\\u043f\\u0435\\u0440\\u0441\\u043e\\u043d\\u0430\\u0436\", \"\\u043f\\u0435\\u0440\\u0441\\u043e\\u043d\\u0430\\u043b\\u0438\\u0437\\u0438\\u0440\\u043e\\u0432\\u0430\\u0442\\u044c\", \"\\u043f\\u0437\\u0443\", \"\\u043f\\u0438\\u0441\\u044c\\u043c\\u043e\", \"\\u043f\\u0438\\u0441\\u044c\\u043c\\u043e\", \"\\u043f\\u0438\\u0441\\u044c\\u043c\\u043e\", \"\\u043f\\u0438\\u0441\\u044c\\u043c\\u043e\", \"\\u043f\\u0438\\u0441\\u044c\\u043c\\u043e\", \"\\u043f\\u0438\\u0442\\u0430\\u043d\\u0438\\u0435\", \"\\u043f\\u0438\\u0442\\u0430\\u043d\\u0438\\u0435\", \"\\u043f\\u0438\\u0442\\u0430\\u043d\\u0438\\u0435\", \"\\u043f\\u0438\\u0442\\u0430\\u043d\\u0438\\u0435\", \"\\u043f\\u0438\\u0442\\u0430\\u043d\\u0438\\u0435\", \"\\u043f\\u0438\\u0442\\u0430\\u043d\\u0438\\u0435\", \"\\u043f\\u0438\\u0442\\u0430\\u043d\\u0438\\u0435\", \"\\u043f\\u043b\\u0430\\u0432\\u0430\\u0442\\u044c \\u0430\\u0434\\u0440\\u0435\\u0441\", \"\\u043f\\u043b\\u0430\\u043d\\u0448\\u0435\\u0442\\u043d\\u044b\\u0439\", \"\\u043f\\u043b\\u0430\\u043d\\u0448\\u0435\\u0442\\u043d\\u044b\\u0439 \\u043a\\u043e\\u043c\\u043f\\u044c\\u044e\\u0442\\u0435\\u0440\", \"\\u043f\\u043b\\u0430\\u0441\\u0442\\u043c\\u0430\\u0441\\u0441\\u0430\", \"\\u043f\\u043b\\u0430\\u0442\\u0430\", \"\\u043f\\u043b\\u0430\\u0442\\u0430\", \"\\u043f\\u043b\\u0430\\u0442\\u0430\", \"\\u043f\\u043b\\u0430\\u0442\\u0430\", \"\\u043f\\u043b\\u0430\\u0442\\u0430\", \"\\u043f\\u043b\\u0430\\u0442\\u0430\", \"\\u043f\\u043b\\u0430\\u0442\\u0430\", \"\\u043f\\u043b\\u0430\\u0442\\u0430 \\u0440\\u0430\\u0441\\u043f\\u043e\\u043b\\u0430\\u0433\\u0430\\u0442\\u044c\", \"\\u043f\\u043b\\u0430\\u0442\\u0438\\u0442\\u044c\", \"\\u043f\\u043b\\u0430\\u0442\\u0438\\u0442\\u044c\", \"\\u043f\\u043b\\u0430\\u0442\\u0438\\u0442\\u044c\", \"\\u043f\\u043e\\u0431\\u0435\\u0434\\u0438\\u0442\\u0435\\u043b\\u044c\", \"\\u043f\\u043e\\u0432\\u0435\\u0434\\u0435\\u043d\\u0438\\u0435 \\u0441\\u0438\\u0441\\u0442\\u0435\\u043c\\u0430\", \"\\u043f\\u043e\\u0434\\u0430\\u0432\\u043b\\u0435\\u043d\\u0438\\u0435\", \"\\u043f\\u043e\\u0434\\u0430\\u0432\\u043b\\u0435\\u043d\\u0438\\u0435\", \"\\u043f\\u043e\\u0434\\u0434\\u0435\\u0440\\u0436\\u043a\\u0430\", \"\\u043f\\u043e\\u0434\\u0434\\u0435\\u0440\\u0436\\u043a\\u0430\", \"\\u043f\\u043e\\u0434\\u0434\\u0435\\u0440\\u0436\\u043a\\u0430\", \"\\u043f\\u043e\\u0434\\u0434\\u0435\\u0440\\u0436\\u043a\\u0430\", \"\\u043f\\u043e\\u0434\\u0434\\u0435\\u0440\\u0436\\u043a\\u0430\", \"\\u043f\\u043e\\u0434\\u0434\\u0435\\u0440\\u0436\\u043a\\u0430\", \"\\u043f\\u043e\\u0434\\u0434\\u0435\\u0440\\u0436\\u043a\\u0430\", \"\\u043f\\u043e\\u0434\\u0434\\u0435\\u0440\\u0436\\u043a\\u0430\", \"\\u043f\\u043e\\u0434\\u0434\\u0435\\u0440\\u0436\\u043a\\u0430\", \"\\u043f\\u043e\\u0434\\u0434\\u0435\\u0440\\u0436\\u043a\\u0430\", \"\\u043f\\u043e\\u0434\\u0434\\u0435\\u0440\\u0436\\u043a\\u0430\", \"\\u043f\\u043e\\u0434\\u0434\\u0435\\u0440\\u0436\\u043a\\u0430 \\u0444\\u0443\\u043d\\u043a\\u0446\\u0438\\u043e\\u043d\\u0430\\u043b\\u044c\\u043d\\u043e\\u0441\\u0442\\u044c\", \"\\u043f\\u043e\\u0434\\u0434\\u0435\\u0440\\u0436\\u043a\\u0430 \\u0444\\u0443\\u043d\\u043a\\u0446\\u0438\\u043e\\u043d\\u0430\\u043b\\u044c\\u043d\\u043e\\u0441\\u0442\\u044c \\u043f\\u0430\\u043a\\u0435\\u0442\", \"\\u043f\\u043e\\u0434\\u043a\\u043b\\u0430\\u0441\\u0441\", \"\\u043f\\u043e\\u0434\\u043f\\u0438\\u0441\\u043a\\u0430\", \"\\u043f\\u043e\\u0434\\u043f\\u0438\\u0441\\u043a\\u0430\", \"\\u043f\\u043e\\u0434\\u043f\\u0438\\u0441\\u043a\\u0430\", \"\\u043f\\u043e\\u0437\\u0432\\u043e\\u043b\\u044f\\u0442\\u044c\", \"\\u043f\\u043e\\u0437\\u0432\\u043e\\u043b\\u044f\\u0442\\u044c\", \"\\u043f\\u043e\\u0437\\u0432\\u043e\\u043b\\u044f\\u0442\\u044c\", \"\\u043f\\u043e\\u0437\\u0432\\u043e\\u043b\\u044f\\u0442\\u044c\", \"\\u043f\\u043e\\u0437\\u0432\\u043e\\u043b\\u044f\\u0442\\u044c\", \"\\u043f\\u043e\\u0437\\u0432\\u043e\\u043b\\u044f\\u0442\\u044c\", \"\\u043f\\u043e\\u0437\\u0432\\u043e\\u043b\\u044f\\u0442\\u044c\", \"\\u043f\\u043e\\u0437\\u0432\\u043e\\u043b\\u044f\\u0442\\u044c\", \"\\u043f\\u043e\\u0437\\u0432\\u043e\\u043b\\u044f\\u0442\\u044c\", \"\\u043f\\u043e\\u0437\\u0432\\u043e\\u043b\\u044f\\u0442\\u044c\", \"\\u043f\\u043e\\u0437\\u0432\\u043e\\u043b\\u044f\\u0442\\u044c\", \"\\u043f\\u043e\\u043b\\u0435\", \"\\u043f\\u043e\\u043b\\u0435\", \"\\u043f\\u043e\\u043b\\u0435\", \"\\u043f\\u043e\\u043b\\u0435\", \"\\u043f\\u043e\\u043b\\u0435\", \"\\u043f\\u043e\\u043b\\u0435\", \"\\u043f\\u043e\\u043b\\u0435\", \"\\u043f\\u043e\\u043b\\u0435\", \"\\u043f\\u043e\\u043b\\u0435\", \"\\u043f\\u043e\\u043b\\u0435\", \"\\u043f\\u043e\\u043b\\u0438\\u043c\\u043e\\u0440\\u0444\\u043d\\u044b\\u0439\", \"\\u043f\\u043e\\u043b\\u0438\\u043c\\u043e\\u0440\\u0444\\u043d\\u044b\\u0439 \\u0441\\u0442\\u0440\\u0443\\u043a\\u0442\\u0443\\u0440\\u0430\", \"\\u043f\\u043e\\u043b\\u043d\\u044b\\u0439\", \"\\u043f\\u043e\\u043b\\u043d\\u044b\\u0439\", \"\\u043f\\u043e\\u043b\\u043d\\u044b\\u0439\", \"\\u043f\\u043e\\u043b\\u043d\\u044b\\u0439\", \"\\u043f\\u043e\\u043b\\u043d\\u044b\\u0439\", \"\\u043f\\u043e\\u043b\\u043d\\u044b\\u0439\", \"\\u043f\\u043e\\u043b\\u043d\\u044b\\u0439\", \"\\u043f\\u043e\\u043b\\u043d\\u044b\\u0439\", \"\\u043f\\u043e\\u043b\\u043d\\u044b\\u0439\", \"\\u043f\\u043e\\u043b\\u043d\\u044b\\u0439 \\u0440\\u0435\\u0437\\u0443\\u043b\\u044c\\u0442\\u0430\\u0442\", \"\\u043f\\u043e\\u043b\\u043d\\u044b\\u0439 \\u0441\\u0443\\u043c\\u043c\\u0430\\u0442\\u043e\\u0440\", \"\\u043f\\u043e\\u043b\\u0443\\u0447\\u0430\\u0442\\u044c\", \"\\u043f\\u043e\\u043b\\u0443\\u0447\\u0430\\u0442\\u044c\", \"\\u043f\\u043e\\u043b\\u0443\\u0447\\u0430\\u0442\\u044c\", \"\\u043f\\u043e\\u043b\\u0443\\u0447\\u0430\\u0442\\u044c\", \"\\u043f\\u043e\\u043b\\u0443\\u0447\\u0430\\u0442\\u044c\", \"\\u043f\\u043e\\u043b\\u0443\\u0447\\u0430\\u0442\\u044c\", \"\\u043f\\u043e\\u043b\\u0443\\u0447\\u0430\\u0442\\u044c\", \"\\u043f\\u043e\\u043b\\u0443\\u0447\\u0430\\u0442\\u044c\", \"\\u043f\\u043e\\u043b\\u0443\\u0447\\u0430\\u0442\\u044c\", \"\\u043f\\u043e\\u043b\\u0443\\u0447\\u0430\\u0442\\u044c\", \"\\u043f\\u043e\\u043b\\u0443\\u0447\\u0430\\u0442\\u044c\", \"\\u043f\\u043e\\u043b\\u0443\\u0447\\u0430\\u0442\\u044c \\u043e\\u0431\\u044a\\u0435\\u043a\\u0442\", \"\\u043f\\u043e\\u043b\\u044c\\u0437\\u043e\\u0432\\u0430\\u0442\\u0435\\u043b\\u044c\", \"\\u043f\\u043e\\u043b\\u044c\\u0437\\u043e\\u0432\\u0430\\u0442\\u0435\\u043b\\u044c\", \"\\u043f\\u043e\\u043b\\u044c\\u0437\\u043e\\u0432\\u0430\\u0442\\u0435\\u043b\\u044c\", \"\\u043f\\u043e\\u043b\\u044c\\u0437\\u043e\\u0432\\u0430\\u0442\\u0435\\u043b\\u044c\", \"\\u043f\\u043e\\u043b\\u044c\\u0437\\u043e\\u0432\\u0430\\u0442\\u0435\\u043b\\u044c\", \"\\u043f\\u043e\\u043b\\u044c\\u0437\\u043e\\u0432\\u0430\\u0442\\u0435\\u043b\\u044c\", \"\\u043f\\u043e\\u043b\\u044c\\u0437\\u043e\\u0432\\u0430\\u0442\\u0435\\u043b\\u044c\", \"\\u043f\\u043e\\u043b\\u044c\\u0437\\u043e\\u0432\\u0430\\u0442\\u0435\\u043b\\u044c\", \"\\u043f\\u043e\\u043b\\u044c\\u0437\\u043e\\u0432\\u0430\\u0442\\u0435\\u043b\\u044c\", \"\\u043f\\u043e\\u043b\\u044c\\u0437\\u043e\\u0432\\u0430\\u0442\\u0435\\u043b\\u044c\", \"\\u043f\\u043e\\u043b\\u044c\\u0437\\u043e\\u0432\\u0430\\u0442\\u0435\\u043b\\u044c\\u0441\\u043a\\u0438\\u0439 \\u0438\\u0441\\u0442\\u043e\\u0440\\u0438\\u044f\", \"\\u043f\\u043e\\u043c\\u043e\\u0449\\u044c\", \"\\u043f\\u043e\\u043c\\u043e\\u0449\\u044c\", \"\\u043f\\u043e\\u043c\\u043e\\u0449\\u044c\", \"\\u043f\\u043e\\u043c\\u043e\\u0449\\u044c\", \"\\u043f\\u043e\\u043c\\u043e\\u0449\\u044c\", \"\\u043f\\u043e\\u043c\\u043e\\u0449\\u044c\", \"\\u043f\\u043e\\u043c\\u043e\\u0449\\u044c\", \"\\u043f\\u043e\\u043c\\u043e\\u0449\\u044c\", \"\\u043f\\u043e\\u043c\\u043e\\u0449\\u044c\", \"\\u043f\\u043e\\u043c\\u043e\\u0449\\u044c\", \"\\u043f\\u043e\\u043c\\u043e\\u0449\\u044c\", \"\\u043f\\u043e\\u043f\\u0440\\u043e\\u0431\\u043e\\u0432\\u0430\\u0442\\u044c\", \"\\u043f\\u043e\\u043f\\u0440\\u043e\\u0431\\u043e\\u0432\\u0430\\u0442\\u044c\", \"\\u043f\\u043e\\u043f\\u0440\\u043e\\u0431\\u043e\\u0432\\u0430\\u0442\\u044c\", \"\\u043f\\u043e\\u043f\\u0440\\u043e\\u0431\\u043e\\u0432\\u0430\\u0442\\u044c\", \"\\u043f\\u043e\\u043f\\u0440\\u043e\\u0431\\u043e\\u0432\\u0430\\u0442\\u044c\", \"\\u043f\\u043e\\u043f\\u0440\\u043e\\u0431\\u043e\\u0432\\u0430\\u0442\\u044c\", \"\\u043f\\u043e\\u043f\\u0440\\u043e\\u0431\\u043e\\u0432\\u0430\\u0442\\u044c\", \"\\u043f\\u043e\\u043f\\u0440\\u043e\\u0431\\u043e\\u0432\\u0430\\u0442\\u044c \\u0432\\u044b\\u043f\\u043e\\u043b\\u043d\\u044f\\u0442\\u044c\", \"\\u043f\\u043e\\u0440\\u0442\", \"\\u043f\\u043e\\u0440\\u0442\", \"\\u043f\\u043e\\u0440\\u0442\", \"\\u043f\\u043e\\u0440\\u0442\", \"\\u043f\\u043e\\u0440\\u0442\", \"\\u043f\\u043e\\u0440\\u0442\", \"\\u043f\\u043e\\u0440\\u0442\", \"\\u043f\\u043e\\u0442\\u043e\\u043a\", \"\\u043f\\u043e\\u0442\\u043e\\u043a\", \"\\u043f\\u043e\\u0442\\u043e\\u043a\", \"\\u043f\\u043e\\u0442\\u043e\\u043a\", \"\\u043f\\u043e\\u0442\\u043e\\u043a\", \"\\u043f\\u043e\\u0442\\u043e\\u043a\", \"\\u043f\\u043e\\u0442\\u043e\\u043a\", \"\\u043f\\u043e\\u0442\\u043e\\u043a\", \"\\u043f\\u043e\\u0442\\u043e\\u043a\", \"\\u043f\\u043e\\u044d\\u0442\\u043e\\u043c\\u0443\", \"\\u043f\\u043e\\u044d\\u0442\\u043e\\u043c\\u0443\", \"\\u043f\\u043e\\u044d\\u0442\\u043e\\u043c\\u0443\", \"\\u043f\\u043e\\u044d\\u0442\\u043e\\u043c\\u0443\", \"\\u043f\\u043e\\u044d\\u0442\\u043e\\u043c\\u0443\", \"\\u043f\\u043e\\u044d\\u0442\\u043e\\u043c\\u0443\", \"\\u043f\\u043e\\u044d\\u0442\\u043e\\u043c\\u0443\", \"\\u043f\\u043e\\u044d\\u0442\\u043e\\u043c\\u0443\", \"\\u043f\\u043e\\u044d\\u0442\\u043e\\u043c\\u0443\", \"\\u043f\\u043e\\u044d\\u0442\\u043e\\u043c\\u0443\", \"\\u043f\\u043e\\u044d\\u0442\\u043e\\u043c\\u0443\", \"\\u043f\\u0440\\u0430\\u0432\\u0438\\u043b\\u043e\", \"\\u043f\\u0440\\u0430\\u0432\\u0438\\u043b\\u043e\", \"\\u043f\\u0440\\u0430\\u0432\\u0438\\u043b\\u043e\", \"\\u043f\\u0440\\u0430\\u0432\\u0438\\u043b\\u043e\", \"\\u043f\\u0440\\u0430\\u0432\\u0438\\u043b\\u043e\", \"\\u043f\\u0440\\u0430\\u0432\\u0438\\u043b\\u043e\", \"\\u043f\\u0440\\u0430\\u0432\\u0438\\u043b\\u043e\", \"\\u043f\\u0440\\u0430\\u0432\\u0438\\u043b\\u043e\", \"\\u043f\\u0440\\u0430\\u0432\\u0438\\u043b\\u043e\", \"\\u043f\\u0440\\u0430\\u0432\\u0438\\u043b\\u043e\", \"\\u043f\\u0440\\u0430\\u0432\\u0438\\u043b\\u043e\", \"\\u043f\\u0440\\u0435\\u0434\\u043e\\u0441\\u0442\\u0430\\u0432\\u043b\\u044f\\u0442\\u044c \\u0448\\u0438\\u0440\\u043e\\u043a\\u0438\\u0439 \\u043d\\u0430\\u0431\\u043e\\u0440\", \"\\u043f\\u0440\\u0435\\u043e\\u0431\\u0440\\u0430\\u0437\\u043e\\u0432\\u0430\\u0442\\u0435\\u043b\\u044c\", \"\\u043f\\u0440\\u0435\\u043e\\u0431\\u0440\\u0430\\u0437\\u043e\\u0432\\u0430\\u0442\\u0435\\u043b\\u044c\", \"\\u043f\\u0440\\u0435\\u043e\\u0431\\u0440\\u0430\\u0437\\u043e\\u0432\\u0430\\u0442\\u0435\\u043b\\u044c \\u0438\\u043d\\u0442\\u0435\\u0440\\u0444\\u0435\\u0439\\u0441\", \"\\u043f\\u0440\\u0438\\u043b\\u043e\\u0436\\u0435\\u043d\\u0438\\u0435\", \"\\u043f\\u0440\\u0438\\u043b\\u043e\\u0436\\u0435\\u043d\\u0438\\u0435\", \"\\u043f\\u0440\\u0438\\u043b\\u043e\\u0436\\u0435\\u043d\\u0438\\u0435\", \"\\u043f\\u0440\\u0438\\u043b\\u043e\\u0436\\u0435\\u043d\\u0438\\u0435\", \"\\u043f\\u0440\\u0438\\u043b\\u043e\\u0436\\u0435\\u043d\\u0438\\u0435\", \"\\u043f\\u0440\\u0438\\u043b\\u043e\\u0436\\u0435\\u043d\\u0438\\u0435\", \"\\u043f\\u0440\\u0438\\u043b\\u043e\\u0436\\u0435\\u043d\\u0438\\u0435\", \"\\u043f\\u0440\\u0438\\u043b\\u043e\\u0436\\u0435\\u043d\\u0438\\u0435\", \"\\u043f\\u0440\\u0438\\u043b\\u043e\\u0436\\u0435\\u043d\\u0438\\u0435\", \"\\u043f\\u0440\\u0438\\u043b\\u043e\\u0436\\u0435\\u043d\\u0438\\u0435\", \"\\u043f\\u0440\\u0438\\u043b\\u043e\\u0436\\u0435\\u043d\\u0438\\u0435\", \"\\u043f\\u0440\\u0438\\u043c\\u0438\\u0442\\u0438\\u0432\", \"\\u043f\\u0440\\u0438\\u043c\\u0438\\u0442\\u0438\\u0432\", \"\\u043f\\u0440\\u0438\\u043d\\u0446\\u0438\\u043f\", \"\\u043f\\u0440\\u0438\\u043d\\u0446\\u0438\\u043f\", \"\\u043f\\u0440\\u0438\\u043d\\u0446\\u0438\\u043f\", \"\\u043f\\u0440\\u0438\\u043d\\u0446\\u0438\\u043f\", \"\\u043f\\u0440\\u0438\\u043d\\u0446\\u0438\\u043f\", \"\\u043f\\u0440\\u0438\\u043d\\u0446\\u0438\\u043f\", \"\\u043f\\u0440\\u0438\\u043d\\u0446\\u0438\\u043f\", \"\\u043f\\u0440\\u0438\\u043d\\u0446\\u0438\\u043f\", \"\\u043f\\u0440\\u043e\\u0431\\u043b\\u0435\\u043c\\u0430\", \"\\u043f\\u0440\\u043e\\u0431\\u043b\\u0435\\u043c\\u0430\", \"\\u043f\\u0440\\u043e\\u0431\\u043b\\u0435\\u043c\\u0430\", \"\\u043f\\u0440\\u043e\\u0431\\u043b\\u0435\\u043c\\u0430\", \"\\u043f\\u0440\\u043e\\u0431\\u043b\\u0435\\u043c\\u0430\", \"\\u043f\\u0440\\u043e\\u0431\\u043b\\u0435\\u043c\\u0430\", \"\\u043f\\u0440\\u043e\\u0431\\u043b\\u0435\\u043c\\u0430\", \"\\u043f\\u0440\\u043e\\u0431\\u043b\\u0435\\u043c\\u0430\", \"\\u043f\\u0440\\u043e\\u0431\\u043b\\u0435\\u043c\\u0430\", \"\\u043f\\u0440\\u043e\\u0431\\u043b\\u0435\\u043c\\u0430\", \"\\u043f\\u0440\\u043e\\u0431\\u043b\\u0435\\u043c\\u0430\", \"\\u043f\\u0440\\u043e\\u0432\\u0435\\u0440\\u044f\\u0442\\u044c\", \"\\u043f\\u0440\\u043e\\u0432\\u0435\\u0440\\u044f\\u0442\\u044c\", \"\\u043f\\u0440\\u043e\\u0432\\u0435\\u0440\\u044f\\u0442\\u044c\", \"\\u043f\\u0440\\u043e\\u0432\\u0435\\u0440\\u044f\\u0442\\u044c\", \"\\u043f\\u0440\\u043e\\u0432\\u0435\\u0440\\u044f\\u0442\\u044c\", \"\\u043f\\u0440\\u043e\\u0432\\u0435\\u0440\\u044f\\u0442\\u044c\", \"\\u043f\\u0440\\u043e\\u0432\\u0435\\u0440\\u044f\\u0442\\u044c\", \"\\u043f\\u0440\\u043e\\u0432\\u0435\\u0440\\u044f\\u0442\\u044c\", \"\\u043f\\u0440\\u043e\\u0433\\u043d\\u043e\\u0437\\u0438\\u0440\\u043e\\u0432\\u0430\\u043d\\u0438\\u0435\", \"\\u043f\\u0440\\u043e\\u0433\\u0440\\u0430\\u043c\\u043c\\u0430\", \"\\u043f\\u0440\\u043e\\u0433\\u0440\\u0430\\u043c\\u043c\\u0430\", \"\\u043f\\u0440\\u043e\\u0433\\u0440\\u0430\\u043c\\u043c\\u0430\", \"\\u043f\\u0440\\u043e\\u0433\\u0440\\u0430\\u043c\\u043c\\u0430\", \"\\u043f\\u0440\\u043e\\u0433\\u0440\\u0430\\u043c\\u043c\\u0430\", \"\\u043f\\u0440\\u043e\\u0433\\u0440\\u0430\\u043c\\u043c\\u0430\", \"\\u043f\\u0440\\u043e\\u0433\\u0440\\u0430\\u043c\\u043c\\u0430\", \"\\u043f\\u0440\\u043e\\u0433\\u0440\\u0430\\u043c\\u043c\\u0430\", \"\\u043f\\u0440\\u043e\\u0433\\u0440\\u0430\\u043c\\u043c\\u0430\", \"\\u043f\\u0440\\u043e\\u0433\\u0440\\u0430\\u043c\\u043c\\u0430\", \"\\u043f\\u0440\\u043e\\u0433\\u0440\\u0430\\u043c\\u043c\\u043d\\u044b\\u0439\", \"\\u043f\\u0440\\u043e\\u0433\\u0440\\u0430\\u043c\\u043c\\u043d\\u044b\\u0439\", \"\\u043f\\u0440\\u043e\\u0433\\u0440\\u0430\\u043c\\u043c\\u043d\\u044b\\u0439\", \"\\u043f\\u0440\\u043e\\u0433\\u0440\\u0430\\u043c\\u043c\\u043d\\u044b\\u0439\", \"\\u043f\\u0440\\u043e\\u0433\\u0440\\u0430\\u043c\\u043c\\u043d\\u044b\\u0439\", \"\\u043f\\u0440\\u043e\\u0433\\u0440\\u0430\\u043c\\u043c\\u043d\\u044b\\u0439\", \"\\u043f\\u0440\\u043e\\u0433\\u0440\\u0430\\u043c\\u043c\\u043d\\u044b\\u0439\", \"\\u043f\\u0440\\u043e\\u0433\\u0440\\u0430\\u043c\\u043c\\u043d\\u044b\\u0439\", \"\\u043f\\u0440\\u043e\\u0435\\u043a\\u0442\", \"\\u043f\\u0440\\u043e\\u0435\\u043a\\u0442\", \"\\u043f\\u0440\\u043e\\u0435\\u043a\\u0442\", \"\\u043f\\u0440\\u043e\\u0435\\u043a\\u0442\", \"\\u043f\\u0440\\u043e\\u0435\\u043a\\u0442\", \"\\u043f\\u0440\\u043e\\u0435\\u043a\\u0442\", \"\\u043f\\u0440\\u043e\\u0435\\u043a\\u0442\", \"\\u043f\\u0440\\u043e\\u0435\\u043a\\u0442\", \"\\u043f\\u0440\\u043e\\u0435\\u043a\\u0442\", \"\\u043f\\u0440\\u043e\\u0435\\u043a\\u0442\", \"\\u043f\\u0440\\u043e\\u0438\\u0437\\u0432\\u043e\\u0434\\u0438\\u0442\\u0435\\u043b\\u044c\\u043d\\u043e\\u0441\\u0442\\u044c \\u043f\\u043e\\u0432\\u0435\\u0434\\u0435\\u043d\\u0438\\u0435\", \"\\u043f\\u0440\\u043e\\u0441\\u0442\\u043e\", \"\\u043f\\u0440\\u043e\\u0441\\u0442\\u043e\", \"\\u043f\\u0440\\u043e\\u0441\\u0442\\u043e\", \"\\u043f\\u0440\\u043e\\u0441\\u0442\\u043e\", \"\\u043f\\u0440\\u043e\\u0441\\u0442\\u043e\", \"\\u043f\\u0440\\u043e\\u0441\\u0442\\u043e\", \"\\u043f\\u0440\\u043e\\u0441\\u0442\\u043e\", \"\\u043f\\u0440\\u043e\\u0441\\u0442\\u043e\", \"\\u043f\\u0440\\u043e\\u0441\\u0442\\u043e\", \"\\u043f\\u0440\\u043e\\u0441\\u0442\\u043e\", \"\\u043f\\u0440\\u043e\\u0441\\u0442\\u043e\", \"\\u043f\\u0440\\u043e\\u0441\\u0442\\u0440\\u0430\\u043d\\u0441\\u0442\\u0432\\u043e\", \"\\u043f\\u0440\\u043e\\u0441\\u0442\\u0440\\u0430\\u043d\\u0441\\u0442\\u0432\\u043e\", \"\\u043f\\u0440\\u043e\\u0441\\u0442\\u0440\\u0430\\u043d\\u0441\\u0442\\u0432\\u043e\", \"\\u043f\\u0440\\u043e\\u0441\\u0442\\u0440\\u0430\\u043d\\u0441\\u0442\\u0432\\u043e\", \"\\u043f\\u0440\\u043e\\u0441\\u0442\\u0440\\u0430\\u043d\\u0441\\u0442\\u0432\\u043e\", \"\\u043f\\u0440\\u043e\\u0441\\u0442\\u0440\\u0430\\u043d\\u0441\\u0442\\u0432\\u043e\", \"\\u043f\\u0440\\u043e\\u0441\\u0442\\u0440\\u0430\\u043d\\u0441\\u0442\\u0432\\u043e\", \"\\u043f\\u0440\\u043e\\u0441\\u0442\\u0440\\u0430\\u043d\\u0441\\u0442\\u0432\\u043e\", \"\\u043f\\u0440\\u043e\\u0441\\u0442\\u0440\\u0430\\u043d\\u0441\\u0442\\u0432\\u043e \\u0432\\u0440\\u0435\\u043c\\u044f\", \"\\u043f\\u0440\\u043e\\u0441\\u0442\\u0440\\u0430\\u043d\\u0441\\u0442\\u0432\\u043e \\u0438\\u043c\\u044f\", \"\\u043f\\u0440\\u043e\\u0444\\u0438\\u043b\\u044c\", \"\\u043f\\u0440\\u043e\\u0444\\u0438\\u043b\\u044c\", \"\\u043f\\u0440\\u043e\\u0444\\u0438\\u043b\\u044c\", \"\\u043f\\u0440\\u043e\\u0444\\u0438\\u043b\\u044c\", \"\\u043f\\u0440\\u043e\\u0446\\u0435\\u0434\\u0443\\u0440\\u0430\", \"\\u043f\\u0440\\u043e\\u0446\\u0435\\u0434\\u0443\\u0440\\u0430\", \"\\u043f\\u0440\\u043e\\u0446\\u0435\\u0434\\u0443\\u0440\\u0430\", \"\\u043f\\u0440\\u043e\\u0446\\u0435\\u0441\\u0441\\u043e\\u0440\", \"\\u043f\\u0440\\u043e\\u0446\\u0435\\u0441\\u0441\\u043e\\u0440\", \"\\u043f\\u0440\\u043e\\u0446\\u0435\\u0441\\u0441\\u043e\\u0440\", \"\\u043f\\u0440\\u043e\\u0446\\u0435\\u0441\\u0441\\u043e\\u0440\", \"\\u043f\\u0440\\u043e\\u0446\\u0435\\u0441\\u0441\\u043e\\u0440\", \"\\u043f\\u0440\\u043e\\u0446\\u0435\\u0441\\u0441\\u043e\\u0440\", \"\\u043f\\u0440\\u043e\\u0446\\u0435\\u0441\\u0441\\u043e\\u0440\", \"\\u043f\\u0440\\u043e\\u0446\\u0435\\u0441\\u0441\\u043e\\u0440\", \"\\u043f\\u0440\\u043e\\u0446\\u0435\\u0441\\u0441\\u043e\\u0440\", \"\\u043f\\u0440\\u043e\\u0446\\u0435\\u0441\\u0441\\u043e\\u0440\", \"\\u043f\\u0440\\u043e\\u0446\\u0435\\u0441\\u0441\\u043e\\u0440 \\u0432\\u0432\\u043e\\u0434\", \"\\u043f\\u0440\\u043e\\u0446\\u0435\\u0441\\u0441\\u043e\\u0440 \\u0432\\u0432\\u043e\\u0434 \\u0432\\u044b\\u0432\\u043e\\u0434\", \"\\u043f\\u0443\\u0431\\u043b\\u0438\\u0447\\u043d\\u044b\\u0439 \\u0441\\u0435\\u0442\\u044c\", \"\\u043f\\u0443\\u043b \\u043a\\u043e\\u043d\\u0441\\u0442\\u0430\\u043d\\u0442\\u0430\", \"\\u0440\\u0430\\u0431\\u043e\\u0442\\u0430\", \"\\u0440\\u0430\\u0431\\u043e\\u0442\\u0430\", \"\\u0440\\u0430\\u0431\\u043e\\u0442\\u0430\", \"\\u0440\\u0430\\u0431\\u043e\\u0442\\u0430\", \"\\u0440\\u0430\\u0431\\u043e\\u0442\\u0430\", \"\\u0440\\u0430\\u0431\\u043e\\u0442\\u0430\", \"\\u0440\\u0430\\u0431\\u043e\\u0442\\u0430\", \"\\u0440\\u0430\\u0431\\u043e\\u0442\\u0430\", \"\\u0440\\u0430\\u0431\\u043e\\u0442\\u0430\", \"\\u0440\\u0430\\u0431\\u043e\\u0442\\u0430\", \"\\u0440\\u0430\\u0431\\u043e\\u0442\\u0430\", \"\\u0440\\u0430\\u0431\\u043e\\u0442\\u0430 \\u0432\\u0440\\u0435\\u043c\\u0435\\u043d\\u043d\\u044b\\u0439\", \"\\u0440\\u0430\\u0431\\u043e\\u0442\\u0430 \\u0432\\u0440\\u0435\\u043c\\u0435\\u043d\\u043d\\u044b\\u0439 \\u0440\\u044f\\u0434\", \"\\u0440\\u0430\\u0431\\u043e\\u0442\\u0430\\u0442\\u044c\", \"\\u0440\\u0430\\u0431\\u043e\\u0442\\u0430\\u0442\\u044c\", \"\\u0440\\u0430\\u0431\\u043e\\u0442\\u0430\\u0442\\u044c\", \"\\u0440\\u0430\\u0431\\u043e\\u0442\\u0430\\u0442\\u044c\", \"\\u0440\\u0430\\u0431\\u043e\\u0442\\u0430\\u0442\\u044c\", \"\\u0440\\u0430\\u0431\\u043e\\u0442\\u0430\\u0442\\u044c\", \"\\u0440\\u0430\\u0431\\u043e\\u0442\\u0430\\u0442\\u044c\", \"\\u0440\\u0430\\u0431\\u043e\\u0442\\u0430\\u0442\\u044c\", \"\\u0440\\u0430\\u0431\\u043e\\u0442\\u0430\\u0442\\u044c\", \"\\u0440\\u0430\\u0431\\u043e\\u0442\\u0430\\u0442\\u044c\", \"\\u0440\\u0430\\u0431\\u043e\\u0447\\u0438\\u0439 \\u0447\\u0430\\u0441\\u0442\\u043e\\u0442\\u0430\", \"\\u0440\\u0430\\u0434\\u0430\\u0440\", \"\\u0440\\u0430\\u0437\\u043c\\u0435\\u0440 \\u043e\\u043a\\u043d\\u043e\", \"\\u0440\\u0430\\u0437\\u043c\\u0435\\u0442\\u043a\\u0430\", \"\\u0440\\u0430\\u0437\\u043c\\u0435\\u0442\\u043a\\u0430\", \"\\u0440\\u0430\\u0437\\u043c\\u0435\\u0442\\u043a\\u0430\", \"\\u0440\\u0430\\u0437\\u043c\\u0435\\u0442\\u043a\\u0430\", \"\\u0440\\u0430\\u0437\\u043d\\u0438\\u0446\\u0430 \\u0438\\u0441\\u043f\\u043e\\u043b\\u044c\\u0437\\u043e\\u0432\\u0430\\u043d\\u0438\\u0435\", \"\\u0440\\u0430\\u0437\\u043d\\u0438\\u0446\\u0430 \\u0438\\u0441\\u043f\\u043e\\u043b\\u044c\\u0437\\u043e\\u0432\\u0430\\u043d\\u0438\\u0435 \\u0432\\u043a\\u043b\\u044e\\u0447\\u0430\\u0442\\u044c\", \"\\u0440\\u0430\\u0437\\u0440\\u044f\\u0434\", \"\\u0440\\u0430\\u043d\\u0442\\u0430\\u0439\\u043c\", \"\\u0440\\u0430\\u0441\\u043f\\u043e\\u043b\\u0430\\u0433\\u0430\\u0442\\u044c\", \"\\u0440\\u0430\\u0441\\u043f\\u043e\\u043b\\u0430\\u0433\\u0430\\u0442\\u044c\", \"\\u0440\\u0430\\u0441\\u043f\\u043e\\u043b\\u0430\\u0433\\u0430\\u0442\\u044c\", \"\\u0440\\u0430\\u0441\\u043f\\u043e\\u043b\\u0430\\u0433\\u0430\\u0442\\u044c\", \"\\u0440\\u0430\\u0441\\u043f\\u043e\\u043b\\u0430\\u0433\\u0430\\u0442\\u044c\", \"\\u0440\\u0430\\u0441\\u0442\\u0435\\u043d\\u0438\\u0435\", \"\\u0440\\u0435\\u0430\\u043a\\u0442\\u0438\\u0432\", \"\\u0440\\u0435\\u0430\\u043a\\u0442\\u0438\\u0432\\u043d\\u044b\\u0439\", \"\\u0440\\u0435\\u0430\\u043a\\u0442\\u0438\\u0432\\u043d\\u044b\\u0439\", \"\\u0440\\u0435\\u0430\\u043a\\u0442\\u0438\\u0432\\u043d\\u044b\\u0439\", \"\\u0440\\u0435\\u0430\\u043a\\u0442\\u0438\\u0432\\u043d\\u044b\\u0439 \\u043f\\u043e\\u0434\\u0445\\u043e\\u0434\", \"\\u0440\\u0435\\u0430\\u043a\\u0442\\u0438\\u0432\\u043d\\u044b\\u0439 \\u0441\\u0442\\u0440\\u0438\\u043c\", \"\\u0440\\u0435\\u0430\\u043a\\u0442\\u0438\\u0432\\u043d\\u044b\\u0439 \\u0446\\u0435\\u043f\\u043e\\u0447\\u043a\\u0430\", \"\\u0440\\u0435\\u0433\\u0440\\u0435\\u0441\\u0441\\u0438\\u043e\\u043d\\u043d\\u044b\\u0439\", \"\\u0440\\u0435\\u0433\\u0440\\u0435\\u0441\\u0441\\u0438\\u043e\\u043d\\u043d\\u044b\\u0439\", \"\\u0440\\u0435\\u0433\\u0440\\u0435\\u0441\\u0441\\u0438\\u043e\\u043d\\u043d\\u044b\\u0439 \\u0442\\u0435\\u0441\\u0442\", \"\\u0440\\u0435\\u0437\\u0438\\u0441\\u0442\\u043e\\u0440\", \"\\u0440\\u0435\\u0437\\u0443\\u043b\\u044c\\u0442\\u0430\\u0442\", \"\\u0440\\u0435\\u0437\\u0443\\u043b\\u044c\\u0442\\u0430\\u0442\", \"\\u0440\\u0435\\u0437\\u0443\\u043b\\u044c\\u0442\\u0430\\u0442\", \"\\u0440\\u0435\\u0437\\u0443\\u043b\\u044c\\u0442\\u0430\\u0442\", \"\\u0440\\u0435\\u0437\\u0443\\u043b\\u044c\\u0442\\u0430\\u0442\", \"\\u0440\\u0435\\u0437\\u0443\\u043b\\u044c\\u0442\\u0430\\u0442\", \"\\u0440\\u0435\\u0437\\u0443\\u043b\\u044c\\u0442\\u0430\\u0442\", \"\\u0440\\u0435\\u0437\\u0443\\u043b\\u044c\\u0442\\u0430\\u0442\", \"\\u0440\\u0435\\u0437\\u0443\\u043b\\u044c\\u0442\\u0430\\u0442\", \"\\u0440\\u0435\\u0437\\u0443\\u043b\\u044c\\u0442\\u0430\\u0442\", \"\\u0440\\u0435\\u043c\\u0430\\u0441\\u0442\\u0435\\u0440\", \"\\u0440\\u0435\\u043f\\u043b\\u0438\\u043a\\u0430\", \"\\u0440\\u0435\\u043f\\u043b\\u0438\\u043a\\u0430\", \"\\u0440\\u0435\\u0441\\u0443\\u0440\\u0441\", \"\\u0440\\u0435\\u0441\\u0443\\u0440\\u0441\", \"\\u0440\\u0435\\u0441\\u0443\\u0440\\u0441\", \"\\u0440\\u0435\\u0441\\u0443\\u0440\\u0441\", \"\\u0440\\u0435\\u0441\\u0443\\u0440\\u0441\", \"\\u0440\\u0435\\u0441\\u0443\\u0440\\u0441\", \"\\u0440\\u0435\\u0441\\u0443\\u0440\\u0441\", \"\\u0440\\u0435\\u0441\\u0443\\u0440\\u0441\", \"\\u0440\\u0435\\u0441\\u0443\\u0440\\u0441\", \"\\u0440\\u0435\\u0441\\u0443\\u0440\\u0441\", \"\\u0440\\u0438\\u0441\\u0443\\u043d\\u043e\\u043a\", \"\\u0440\\u0438\\u0441\\u0443\\u043d\\u043e\\u043a\", \"\\u0440\\u0438\\u0441\\u0443\\u043d\\u043e\\u043a\", \"\\u0440\\u0438\\u0441\\u0443\\u043d\\u043e\\u043a\", \"\\u0440\\u0438\\u0441\\u0443\\u043d\\u043e\\u043a\", \"\\u0440\\u043e\\u0431\\u043e\\u0442\\u0430\\u043a\\u0441\\u0438\", \"\\u0440\\u043e\\u043b\\u0438\\u043a\", \"\\u0440\\u043e\\u043b\\u0438\\u043a\", \"\\u0440\\u043e\\u043b\\u0438\\u043a\", \"\\u0440\\u043e\\u043b\\u0438\\u043a\", \"\\u0440\\u043e\\u043b\\u0438\\u043a\", \"\\u0440\\u043e\\u043b\\u0438\\u043a\", \"\\u0440\\u044f\\u0434\", \"\\u0440\\u044f\\u0434\", \"\\u0440\\u044f\\u0434\", \"\\u0440\\u044f\\u0434\", \"\\u0440\\u044f\\u0434\", \"\\u0440\\u044f\\u0434\", \"\\u0440\\u044f\\u0434\", \"\\u0440\\u044f\\u0434\", \"\\u0441\\u0430\\u043c\\u044b\\u0439\", \"\\u0441\\u0430\\u043c\\u044b\\u0439\", \"\\u0441\\u0430\\u043c\\u044b\\u0439\", \"\\u0441\\u0430\\u043c\\u044b\\u0439\", \"\\u0441\\u0430\\u043c\\u044b\\u0439\", \"\\u0441\\u0430\\u043c\\u044b\\u0439\", \"\\u0441\\u0430\\u043c\\u044b\\u0439\", \"\\u0441\\u0430\\u043c\\u044b\\u0439\", \"\\u0441\\u0430\\u043c\\u044b\\u0439\", \"\\u0441\\u0430\\u043c\\u044b\\u0439\", \"\\u0441\\u0432\\u0430\\u0440\\u043a\\u0430\", \"\\u0441\\u0432\\u0430\\u0440\\u043e\\u0447\\u043d\\u044b\\u0439\", \"\\u0441\\u0432\\u043e\\u0439\\u0441\\u0442\\u0432\\u043e\", \"\\u0441\\u0432\\u043e\\u0439\\u0441\\u0442\\u0432\\u043e\", \"\\u0441\\u0432\\u043e\\u0439\\u0441\\u0442\\u0432\\u043e\", \"\\u0441\\u0432\\u043e\\u0439\\u0441\\u0442\\u0432\\u043e\", \"\\u0441\\u0432\\u043e\\u0439\\u0441\\u0442\\u0432\\u043e\", \"\\u0441\\u0432\\u043e\\u0439\\u0441\\u0442\\u0432\\u043e\", \"\\u0441\\u0432\\u043e\\u0439\\u0441\\u0442\\u0432\\u043e\", \"\\u0441\\u0432\\u043e\\u0439\\u0441\\u0442\\u0432\\u043e\", \"\\u0441\\u0432\\u043e\\u0439\\u0441\\u0442\\u0432\\u043e\", \"\\u0441\\u0432\\u0440\\u0442\\u043e\\u0447\\u043d\\u044b\\u0439\", \"\\u0441\\u0432\\u044f\\u0437\\u044c\", \"\\u0441\\u0432\\u044f\\u0437\\u044c\", \"\\u0441\\u0432\\u044f\\u0437\\u044c\", \"\\u0441\\u0432\\u044f\\u0437\\u044c\", \"\\u0441\\u0432\\u044f\\u0437\\u044c\", \"\\u0441\\u0432\\u044f\\u0437\\u044c\", \"\\u0441\\u0432\\u044f\\u0437\\u044c\", \"\\u0441\\u0432\\u044f\\u0437\\u044c\", \"\\u0441\\u0432\\u044f\\u0437\\u044c\", \"\\u0441\\u0434\\u0430\\u0432\\u0430\\u0442\\u044c\", \"\\u0441\\u0434\\u0435\\u043b\\u0430\\u0442\\u044c\", \"\\u0441\\u0434\\u0435\\u043b\\u0430\\u0442\\u044c\", \"\\u0441\\u0434\\u0435\\u043b\\u0430\\u0442\\u044c\", \"\\u0441\\u0434\\u0435\\u043b\\u0430\\u0442\\u044c\", \"\\u0441\\u0434\\u0435\\u043b\\u0430\\u0442\\u044c\", \"\\u0441\\u0434\\u0435\\u043b\\u0430\\u0442\\u044c\", \"\\u0441\\u0434\\u0435\\u043b\\u0430\\u0442\\u044c\", \"\\u0441\\u0434\\u0435\\u043b\\u0430\\u0442\\u044c\", \"\\u0441\\u0434\\u0435\\u043b\\u0430\\u0442\\u044c\", \"\\u0441\\u0434\\u0435\\u043b\\u0430\\u0442\\u044c\", \"\\u0441\\u0435\\u043a\\u0446\\u0438\\u044f \\u0438\\u043d\\u0438\\u0446\\u0438\\u0430\\u043b\\u0438\\u0437\\u0430\\u0446\\u0438\\u044f\", \"\\u0441\\u0435\\u0440\\u0432\\u0435\\u0440\", \"\\u0441\\u0435\\u0440\\u0432\\u0435\\u0440\", \"\\u0441\\u0435\\u0440\\u0432\\u0435\\u0440\", \"\\u0441\\u0435\\u0440\\u0432\\u0435\\u0440\", \"\\u0441\\u0435\\u0440\\u0432\\u0435\\u0440\", \"\\u0441\\u0435\\u0440\\u0432\\u0435\\u0440\", \"\\u0441\\u0435\\u0440\\u0432\\u0435\\u0440\", \"\\u0441\\u0435\\u0440\\u0432\\u0435\\u0440\", \"\\u0441\\u0435\\u0440\\u0432\\u0435\\u0440\", \"\\u0441\\u0435\\u0440\\u0432\\u0435\\u0440 \\u0440\\u0435\\u043b\\u0435\", \"\\u0441\\u0435\\u0440\\u0438\\u0430\\u043b\\u0438\\u0437\\u0430\\u0442\\u043e\\u0440\", \"\\u0441\\u0435\\u0440\\u0438\\u0430\\u043b\\u0438\\u0437\\u0430\\u0446\\u0438\\u044f\", \"\\u0441\\u0435\\u0440\\u0438\\u0430\\u043b\\u0438\\u0437\\u0430\\u0446\\u0438\\u044f\", \"\\u0441\\u0435\\u0440\\u0438\\u0439\\u043d\\u044b\\u0439\", \"\\u0441\\u0435\\u0440\\u0442\\u0438\\u0444\\u0438\\u043a\\u0430\\u0442\", \"\\u0441\\u0435\\u0440\\u0442\\u0438\\u0444\\u0438\\u043a\\u0430\\u0442\", \"\\u0441\\u0435\\u0440\\u0442\\u0438\\u0444\\u0438\\u043a\\u0430\\u0442\", \"\\u0441\\u0435\\u0440\\u0442\\u0438\\u0444\\u0438\\u043a\\u0430\\u0442\", \"\\u0441\\u0435\\u0440\\u0442\\u0438\\u0444\\u0438\\u043a\\u0430\\u0442\", \"\\u0441\\u0435\\u0441\\u0441\\u0438\\u044f\", \"\\u0441\\u0435\\u0442\\u0435\\u0432\\u043e\\u0439\", \"\\u0441\\u0435\\u0442\\u0435\\u0432\\u043e\\u0439\", \"\\u0441\\u0435\\u0442\\u0435\\u0432\\u043e\\u0439\", \"\\u0441\\u0435\\u0442\\u0435\\u0432\\u043e\\u0439\", \"\\u0441\\u0435\\u0442\\u0435\\u0432\\u043e\\u0439\", \"\\u0441\\u0435\\u0442\\u0435\\u0432\\u043e\\u0439\", \"\\u0441\\u0435\\u0442\\u0435\\u0432\\u043e\\u0439\", \"\\u0441\\u0435\\u0442\\u0435\\u0432\\u043e\\u0439\", \"\\u0441\\u0435\\u0442\\u0435\\u0432\\u043e\\u0439\", \"\\u0441\\u0435\\u0442\\u0435\\u0432\\u043e\\u0439 \\u043a\\u0430\\u0440\\u0442\\u0430\", \"\\u0441\\u0435\\u0442\\u0435\\u0432\\u043e\\u0439 \\u043a\\u0430\\u0440\\u0442\\u0430\", \"\\u0441\\u0435\\u0442\\u0435\\u0432\\u043e\\u0439 \\u043f\\u0440\\u043e\\u0442\\u043e\\u043a\\u043e\\u043b\", \"\\u0441\\u0435\\u0442\\u044c\", \"\\u0441\\u0435\\u0442\\u044c\", \"\\u0441\\u0435\\u0442\\u044c\", \"\\u0441\\u0435\\u0442\\u044c\", \"\\u0441\\u0435\\u0442\\u044c\", \"\\u0441\\u0435\\u0442\\u044c\", \"\\u0441\\u0435\\u0442\\u044c\", \"\\u0441\\u0435\\u0442\\u044c\", \"\\u0441\\u0435\\u0442\\u044c\", \"\\u0441\\u0435\\u0442\\u044c\", \"\\u0441\\u0438\\u0433\\u043d\\u0430\\u043b\", \"\\u0441\\u0438\\u0433\\u043d\\u0430\\u043b\", \"\\u0441\\u0438\\u0433\\u043d\\u0430\\u043b\", \"\\u0441\\u0438\\u0433\\u043d\\u0430\\u043b\", \"\\u0441\\u0438\\u0433\\u043d\\u0430\\u043b\", \"\\u0441\\u0438\\u0433\\u043d\\u0430\\u043b\", \"\\u0441\\u0438\\u0433\\u043d\\u0430\\u043b\", \"\\u0441\\u0438\\u0433\\u043d\\u0430\\u043b\", \"\\u0441\\u0438\\u0433\\u043d\\u0430\\u043b \\u0432\\u044b\\u0441\\u043e\\u043a\\u0438\\u0439\", \"\\u0441\\u0438\\u0433\\u043d\\u0430\\u043b \\u0432\\u044b\\u0441\\u043e\\u043a\\u0438\\u0439 \\u043b\\u043e\\u0433\\u0438\\u0447\\u0435\\u0441\\u043a\\u0438\\u0439\", \"\\u0441\\u0438\\u0433\\u043d\\u0430\\u043b \\u043f\\u0435\\u0440\\u0435\\u043d\\u043e\\u0441\", \"\\u0441\\u0438\\u043d\\u0433\\u0443\\u043b\\u044f\\u0440\\u043d\\u043e\\u0441\\u0442\\u044c\", \"\\u0441\\u0438\\u043d\\u0433\\u0443\\u043b\\u044f\\u0440\\u043d\\u043e\\u0441\\u0442\\u044c\", \"\\u0441\\u0438\\u0441\\u0442\\u0435\\u043c\\u0430\", \"\\u0441\\u0438\\u0441\\u0442\\u0435\\u043c\\u0430\", \"\\u0441\\u0438\\u0441\\u0442\\u0435\\u043c\\u0430\", \"\\u0441\\u0438\\u0441\\u0442\\u0435\\u043c\\u0430\", \"\\u0441\\u0438\\u0441\\u0442\\u0435\\u043c\\u0430\", \"\\u0441\\u0438\\u0441\\u0442\\u0435\\u043c\\u0430\", \"\\u0441\\u0438\\u0441\\u0442\\u0435\\u043c\\u0430\", \"\\u0441\\u0438\\u0441\\u0442\\u0435\\u043c\\u0430\", \"\\u0441\\u0438\\u0441\\u0442\\u0435\\u043c\\u0430\", \"\\u0441\\u0438\\u0441\\u0442\\u0435\\u043c\\u0430\", \"\\u0441\\u0438\\u0441\\u0442\\u0435\\u043c\\u0430 \\u043c\\u043e\\u0431\\u0438\\u043b\\u044c\\u043d\\u044b\\u0439\", \"\\u0441\\u0438\\u0441\\u0442\\u0435\\u043c\\u0430 \\u043c\\u043e\\u0431\\u0438\\u043b\\u044c\\u043d\\u044b\\u0439 \\u0443\\u0441\\u0442\\u0440\\u043e\\u0439\\u0441\\u0442\\u0432\\u043e\", \"\\u0441\\u0438\\u0441\\u0442\\u0435\\u043c\\u0430 \\u043f\\u0440\\u0438\\u043b\\u043e\\u0436\\u0435\\u043d\\u0438\\u0435\", \"\\u0441\\u0438\\u0441\\u0442\\u0435\\u043c\\u0430 \\u043f\\u0440\\u0438\\u043b\\u043e\\u0436\\u0435\\u043d\\u0438\\u0435\", \"\\u0441\\u043a\\u043e\\u043b\\u044c\\u0437\\u0438\\u0442\\u044c\", \"\\u0441\\u043a\\u043e\\u043b\\u044c\\u0437\\u0438\\u0442\\u044c \\u0441\\u0440\\u0435\\u0434\\u043d\\u0438\\u0439\", \"\\u0441\\u043a\\u043e\\u043b\\u044c\\u0437\\u044f\\u0449\\u0438\\u0439\", \"\\u0441\\u043a\\u043e\\u043b\\u044c\\u0437\\u044f\\u0449\\u0438\\u0439\", \"\\u0441\\u043a\\u043e\\u043b\\u044c\\u0437\\u044f\\u0449\\u0438\\u0439 \\u0441\\u0440\\u0435\\u0434\\u043d\\u0438\\u0439\", \"\\u0441\\u043a\\u0440\\u0430\", \"\\u0441\\u043a\\u0440\\u0430 \\u043c\\u0430\\u0441\\u0442\\u0435\\u0440\", \"\\u0441\\u043b\\u043e\\u0442\", \"\\u0441\\u043b\\u043e\\u0442\", \"\\u0441\\u043b\\u043e\\u0442\", \"\\u0441\\u043b\\u043e\\u0442\", \"\\u0441\\u043b\\u043e\\u0442 \\u043f\\u0430\\u043c\\u044f\\u0442\\u044c\", \"\\u0441\\u043b\\u0443\\u0447\\u0430\\u0439\", \"\\u0441\\u043b\\u0443\\u0447\\u0430\\u0439\", \"\\u0441\\u043b\\u0443\\u0447\\u0430\\u0439\", \"\\u0441\\u043b\\u0443\\u0447\\u0430\\u0439\", \"\\u0441\\u043b\\u0443\\u0447\\u0430\\u0439\", \"\\u0441\\u043b\\u0443\\u0447\\u0430\\u0439\", \"\\u0441\\u043b\\u0443\\u0447\\u0430\\u0439\", \"\\u0441\\u043b\\u0443\\u0447\\u0430\\u0439\", \"\\u0441\\u043b\\u0443\\u0447\\u0430\\u0439\", \"\\u0441\\u043b\\u0443\\u0447\\u0430\\u0439\", \"\\u0441\\u043b\\u0443\\u0447\\u0430\\u0439\", \"\\u0441\\u043c\\u0430\\u0440\\u0442\\u0444\\u043e\\u043d \\u043f\\u043b\\u0430\\u043d\\u0448\\u0435\\u0442\\u043d\\u044b\\u0439\", \"\\u0441\\u043c\\u0430\\u0440\\u0442\\u0444\\u043e\\u043d \\u043f\\u043b\\u0430\\u043d\\u0448\\u0435\\u0442\\u043d\\u044b\\u0439 \\u043a\\u043e\\u043c\\u043f\\u044c\\u044e\\u0442\\u0435\\u0440\", \"\\u0441\\u043c\\u0435\\u043d\\u0430 \\u043f\\u043e\\u0442\\u043e\\u043a\", \"\\u0441\\u043c\\u043e\\u0442\\u0440\\u0435\\u0442\\u044c\", \"\\u0441\\u043c\\u043e\\u0442\\u0440\\u0435\\u0442\\u044c\", \"\\u0441\\u043c\\u043e\\u0442\\u0440\\u0435\\u0442\\u044c\", \"\\u0441\\u043c\\u043e\\u0442\\u0440\\u0435\\u0442\\u044c\", \"\\u0441\\u043c\\u043e\\u0442\\u0440\\u0435\\u0442\\u044c\", \"\\u0441\\u043c\\u043e\\u0442\\u0440\\u0435\\u0442\\u044c\", \"\\u0441\\u043c\\u043e\\u0442\\u0440\\u0435\\u0442\\u044c\", \"\\u0441\\u043c\\u043e\\u0442\\u0440\\u0435\\u0442\\u044c\", \"\\u0441\\u043d\\u0438\\u0437\\u0443 \\u0432\\u0432\\u0435\\u0440\\u0445\", \"\\u0441\\u043d\\u0438\\u043c\\u043e\\u043a\", \"\\u0441\\u043d\\u0438\\u043c\\u043e\\u043a\", \"\\u0441\\u043d\\u0438\\u043c\\u043e\\u043a\", \"\\u0441\\u043e\\u0431\\u044b\\u0442\\u0438\\u0435\", \"\\u0441\\u043e\\u0431\\u044b\\u0442\\u0438\\u0435\", \"\\u0441\\u043e\\u0431\\u044b\\u0442\\u0438\\u0435\", \"\\u0441\\u043e\\u0431\\u044b\\u0442\\u0438\\u0435\", \"\\u0441\\u043e\\u0431\\u044b\\u0442\\u0438\\u0435\", \"\\u0441\\u043e\\u0431\\u044b\\u0442\\u0438\\u0435\", \"\\u0441\\u043e\\u0431\\u044b\\u0442\\u0438\\u0435\", \"\\u0441\\u043e\\u0431\\u044b\\u0442\\u0438\\u0435\", \"\\u0441\\u043e\\u0431\\u044b\\u0442\\u0438\\u0435 \\u0447\\u0440\\u043d\\u043e\\u0439\", \"\\u0441\\u043e\\u0431\\u044b\\u0442\\u0438\\u0435 \\u0447\\u0440\\u043d\\u043e\\u0439 \\u0434\\u044b\\u0440\\u0430\", \"\\u0441\\u043e\\u0437\\u0434\\u0430\\u0432\\u0430\\u0442\\u044c\", \"\\u0441\\u043e\\u0437\\u0434\\u0430\\u0432\\u0430\\u0442\\u044c\", \"\\u0441\\u043e\\u0437\\u0434\\u0430\\u0432\\u0430\\u0442\\u044c\", \"\\u0441\\u043e\\u0437\\u0434\\u0430\\u0432\\u0430\\u0442\\u044c\", \"\\u0441\\u043e\\u0437\\u0434\\u0430\\u0432\\u0430\\u0442\\u044c\", \"\\u0441\\u043e\\u0437\\u0434\\u0430\\u0432\\u0430\\u0442\\u044c\", \"\\u0441\\u043e\\u0437\\u0434\\u0430\\u0432\\u0430\\u0442\\u044c\", \"\\u0441\\u043e\\u0437\\u0434\\u0430\\u0432\\u0430\\u0442\\u044c\", \"\\u0441\\u043e\\u0437\\u0434\\u0430\\u0432\\u0430\\u0442\\u044c\", \"\\u0441\\u043e\\u0437\\u0434\\u0430\\u0432\\u0430\\u0442\\u044c\", \"\\u0441\\u043e\\u0437\\u0434\\u0430\\u043d\\u0438\\u0435\", \"\\u0441\\u043e\\u0437\\u0434\\u0430\\u043d\\u0438\\u0435\", \"\\u0441\\u043e\\u0437\\u0434\\u0430\\u043d\\u0438\\u0435\", \"\\u0441\\u043e\\u0437\\u0434\\u0430\\u043d\\u0438\\u0435\", \"\\u0441\\u043e\\u0437\\u0434\\u0430\\u043d\\u0438\\u0435\", \"\\u0441\\u043e\\u0437\\u0434\\u0430\\u043d\\u0438\\u0435\", \"\\u0441\\u043e\\u0437\\u0434\\u0430\\u043d\\u0438\\u0435\", \"\\u0441\\u043e\\u0437\\u0434\\u0430\\u043d\\u0438\\u0435\", \"\\u0441\\u043e\\u0437\\u0434\\u0430\\u043d\\u0438\\u0435\", \"\\u0441\\u043e\\u0437\\u0434\\u0430\\u043d\\u0438\\u0435\", \"\\u0441\\u043e\\u0437\\u0434\\u0430\\u043d\\u0438\\u0435\", \"\\u0441\\u043e\\u0437\\u0434\\u0430\\u043d\\u0438\\u0435 \\u0438\\u043d\\u0441\\u0442\\u0430\\u043d\\u0441\", \"\\u0441\\u043e\\u0437\\u0434\\u0430\\u043d\\u0438\\u0435 \\u0438\\u043d\\u0441\\u0442\\u0430\\u043d\\u0441\", \"\\u0441\\u043e\\u0441\\u0435\\u0434\", \"\\u0441\\u043e\\u0441\\u0435\\u0434\", \"\\u0441\\u043e\\u0441\\u0435\\u0434\", \"\\u0441\\u043e\\u0441\\u0442\\u0430\\u0432\\u043b\\u044f\\u0442\\u044c \\u043c\\u0438\\u043a\\u0440\\u043e\\u0441\\u0442\\u0440\\u0443\\u043a\\u0442\\u0443\\u0440\\u0430\", \"\\u0441\\u043e\\u0441\\u0442\\u043e\\u044f\\u043d\\u0438\\u0435\", \"\\u0441\\u043e\\u0441\\u0442\\u043e\\u044f\\u043d\\u0438\\u0435\", \"\\u0441\\u043e\\u0441\\u0442\\u043e\\u044f\\u043d\\u0438\\u0435\", \"\\u0441\\u043e\\u0441\\u0442\\u043e\\u044f\\u043d\\u0438\\u0435\", \"\\u0441\\u043e\\u0441\\u0442\\u043e\\u044f\\u043d\\u0438\\u0435\", \"\\u0441\\u043e\\u0441\\u0442\\u043e\\u044f\\u043d\\u0438\\u0435\", \"\\u0441\\u043e\\u0441\\u0442\\u043e\\u044f\\u043d\\u0438\\u0435\", \"\\u0441\\u043e\\u0441\\u0442\\u043e\\u044f\\u043d\\u0438\\u0435\", \"\\u0441\\u043e\\u0441\\u0442\\u043e\\u044f\\u043d\\u0438\\u0435\", \"\\u0441\\u043e\\u0441\\u0442\\u043e\\u044f\\u043d\\u0438\\u0435\", \"\\u0441\\u043f\\u0430\\u0441\\u0438\\u0431\\u043e\", \"\\u0441\\u043f\\u0430\\u0441\\u0438\\u0431\\u043e\", \"\\u0441\\u043f\\u0430\\u0441\\u0438\\u0431\\u043e\", \"\\u0441\\u043f\\u0435\\u0446\\u0438\\u0430\\u043b\\u0438\\u0441\\u0442\", \"\\u0441\\u043f\\u0435\\u0446\\u0438\\u0430\\u043b\\u0438\\u0441\\u0442\", \"\\u0441\\u043f\\u0435\\u0446\\u0438\\u0430\\u043b\\u0438\\u0441\\u0442\", \"\\u0441\\u043f\\u0435\\u0446\\u0438\\u0430\\u043b\\u0438\\u0441\\u0442\", \"\\u0441\\u043f\\u0435\\u0446\\u0438\\u0430\\u043b\\u0438\\u0441\\u0442\", \"\\u0441\\u043f\\u0435\\u0446\\u0438\\u0430\\u043b\\u0438\\u0441\\u0442\", \"\\u0441\\u043f\\u0435\\u0446\\u0438\\u0430\\u043b\\u0438\\u0441\\u0442\", \"\\u0441\\u043f\\u0438\\u0441\\u043e\\u043a\", \"\\u0441\\u043f\\u0438\\u0441\\u043e\\u043a\", \"\\u0441\\u043f\\u0438\\u0441\\u043e\\u043a\", \"\\u0441\\u043f\\u0438\\u0441\\u043e\\u043a\", \"\\u0441\\u043f\\u0438\\u0441\\u043e\\u043a\", \"\\u0441\\u043f\\u0438\\u0441\\u043e\\u043a\", \"\\u0441\\u043f\\u0438\\u0441\\u043e\\u043a\", \"\\u0441\\u043f\\u0438\\u0441\\u043e\\u043a\", \"\\u0441\\u043f\\u0438\\u0441\\u043e\\u043a\", \"\\u0441\\u043f\\u0438\\u0441\\u043e\\u043a\", \"\\u0441\\u043f\\u0440\\u0438\\u043d\\u0442\", \"\\u0441\\u043f\\u0440\\u0438\\u043d\\u0442\", \"\\u0441\\u043f\\u0443\\u0442\\u043d\\u0438\\u043a\", \"\\u0441\\u043f\\u0443\\u0442\\u043d\\u0438\\u043a\", \"\\u0441\\u0440\\u0435\\u0434\\u043d\\u0438\\u0439\", \"\\u0441\\u0440\\u0435\\u0434\\u043d\\u0438\\u0439\", \"\\u0441\\u0440\\u0435\\u0434\\u043d\\u0438\\u0439\", \"\\u0441\\u0440\\u0435\\u0434\\u043d\\u0438\\u0439\", \"\\u0441\\u0440\\u0435\\u0434\\u043d\\u0438\\u0439\", \"\\u0441\\u0440\\u0435\\u0434\\u043d\\u0438\\u0439\", \"\\u0441\\u0440\\u0435\\u0434\\u043d\\u0438\\u0439\", \"\\u0441\\u0440\\u0435\\u0434\\u043d\\u0438\\u0439\", \"\\u0441\\u0440\\u0435\\u0434\\u043d\\u0438\\u0439\", \"\\u0441\\u0442\\u0430\\u043d\\u043e\\u0432\\u0438\\u0442\\u044c\\u0441\\u044f\", \"\\u0441\\u0442\\u0430\\u043d\\u043e\\u0432\\u0438\\u0442\\u044c\\u0441\\u044f\", \"\\u0441\\u0442\\u0430\\u043d\\u043e\\u0432\\u0438\\u0442\\u044c\\u0441\\u044f\", \"\\u0441\\u0442\\u0430\\u043d\\u043e\\u0432\\u0438\\u0442\\u044c\\u0441\\u044f\", \"\\u0441\\u0442\\u0430\\u043d\\u043e\\u0432\\u0438\\u0442\\u044c\\u0441\\u044f\", \"\\u0441\\u0442\\u0430\\u043d\\u043e\\u0432\\u0438\\u0442\\u044c\\u0441\\u044f\", \"\\u0441\\u0442\\u0430\\u043d\\u043e\\u0432\\u0438\\u0442\\u044c\\u0441\\u044f\", \"\\u0441\\u0442\\u0430\\u043d\\u043e\\u0432\\u0438\\u0442\\u044c\\u0441\\u044f\", \"\\u0441\\u0442\\u0430\\u043d\\u043e\\u0432\\u0438\\u0442\\u044c\\u0441\\u044f\", \"\\u0441\\u0442\\u0430\\u043d\\u043e\\u0432\\u0438\\u0442\\u044c\\u0441\\u044f\", \"\\u0441\\u0442\\u0430\\u043d\\u0446\\u0438\\u044f\", \"\\u0441\\u0442\\u0430\\u043d\\u0446\\u0438\\u044f\", \"\\u0441\\u0442\\u0430\\u043d\\u0446\\u0438\\u044f\", \"\\u0441\\u0442\\u0430\\u0442\\u0438\\u0447\\u0435\\u0441\\u043a\\u0438\\u0439\", \"\\u0441\\u0442\\u0430\\u0442\\u0438\\u0447\\u0435\\u0441\\u043a\\u0438\\u0439\", \"\\u0441\\u0442\\u0430\\u0442\\u044c\\u044f\", \"\\u0441\\u0442\\u0430\\u0442\\u044c\\u044f\", \"\\u0441\\u0442\\u0430\\u0442\\u044c\\u044f\", \"\\u0441\\u0442\\u0430\\u0442\\u044c\\u044f\", \"\\u0441\\u0442\\u0430\\u0442\\u044c\\u044f\", \"\\u0441\\u0442\\u0430\\u0442\\u044c\\u044f\", \"\\u0441\\u0442\\u0430\\u0442\\u044c\\u044f\", \"\\u0441\\u0442\\u0430\\u0442\\u044c\\u044f\", \"\\u0441\\u0442\\u0430\\u0442\\u044c\\u044f\", \"\\u0441\\u0442\\u0430\\u0442\\u044c\\u044f\", \"\\u0441\\u0442\\u0435\\u0433\\u0430\\u043d\\u043e\\u0433\\u0440\\u0430\\u0444\\u0438\\u044f\", \"\\u0441\\u0442\\u0440\\u0435\\u0441\\u0441\", \"\\u0441\\u0442\\u0440\\u0438\\u043c\", \"\\u0441\\u0442\\u0440\\u0443\\u043a\\u0442\\u0443\\u0440\\u0430\", \"\\u0441\\u0442\\u0440\\u0443\\u043a\\u0442\\u0443\\u0440\\u0430\", \"\\u0441\\u0442\\u0440\\u0443\\u043a\\u0442\\u0443\\u0440\\u0430\", \"\\u0441\\u0442\\u0440\\u0443\\u043a\\u0442\\u0443\\u0440\\u0430\", \"\\u0441\\u0442\\u0440\\u0443\\u043a\\u0442\\u0443\\u0440\\u0430\", \"\\u0441\\u0442\\u0440\\u0443\\u043a\\u0442\\u0443\\u0440\\u0430\", \"\\u0441\\u0442\\u0440\\u0443\\u043a\\u0442\\u0443\\u0440\\u0430\", \"\\u0441\\u0442\\u0440\\u0443\\u043a\\u0442\\u0443\\u0440\\u0430\", \"\\u0441\\u0442\\u0440\\u0443\\u043a\\u0442\\u0443\\u0440\\u0430\", \"\\u0441\\u0442\\u0443\\u0434\\u0438\\u044f\", \"\\u0441\\u0442\\u0443\\u0434\\u0438\\u044f\", \"\\u0441\\u0442\\u0443\\u0434\\u0438\\u044f\", \"\\u0441\\u0442\\u0443\\u0434\\u0438\\u044f\", \"\\u0441\\u0442\\u044d\\u043a\", \"\\u0441\\u0443\\u0431\\u0434\", \"\\u0441\\u0443\\u0431\\u0442\\u0438\\u0442\\u0440\", \"\\u0441\\u0443\\u0431\\u044a\\u0435\\u043a\\u0442\", \"\\u0441\\u0443\\u0434\\u0435\\u0439\\u0441\\u0442\\u0432\\u043e\", \"\\u0441\\u0443\\u0434\\u0435\\u0439\\u0441\\u0442\\u0432\\u043e \\u0441\\u043f\\u0430\\u0441\\u0438\\u0431\\u043e\", \"\\u0441\\u0443\\u043c\\u043c\\u0430\", \"\\u0441\\u0443\\u043c\\u043c\\u0430\", \"\\u0441\\u0443\\u043c\\u043c\\u0430\", \"\\u0441\\u0443\\u043c\\u043c\\u0430\", \"\\u0441\\u0443\\u043c\\u043c\\u0430 \\u0432\\u0435\\u0441\\u044c\", \"\\u0441\\u0443\\u043c\\u043c\\u0430 \\u0432\\u0435\\u0441\\u044c \\u0431\\u0430\\u043b\\u043b\", \"\\u0441\\u0443\\u043c\\u043c\\u0430 \\u0442\\u0435\\u0445\\u043d\\u0438\\u0447\\u0435\\u0441\\u043a\\u0438\\u0439\", \"\\u0441\\u0443\\u043c\\u043c\\u0430 \\u0442\\u0435\\u0445\\u043d\\u0438\\u0447\\u0435\\u0441\\u043a\\u0438\\u0439 \\u0431\\u0430\\u043b\\u043b\", \"\\u0441\\u0443\\u043c\\u043c\\u0430\\u0442\\u043e\\u0440\", \"\\u0441\\u0445\\u0435\\u043c\\u0430\", \"\\u0441\\u0445\\u0435\\u043c\\u0430\", \"\\u0441\\u0445\\u0435\\u043c\\u0430\", \"\\u0441\\u0445\\u0435\\u043c\\u0430\", \"\\u0441\\u0445\\u0435\\u043c\\u0430\", \"\\u0441\\u0445\\u0435\\u043c\\u0430\", \"\\u0441\\u0445\\u0435\\u043c\\u0430\", \"\\u0441\\u0447\\u0435\\u0442\\u0447\\u0438\\u043a\", \"\\u0441\\u0447\\u0435\\u0442\\u0447\\u0438\\u043a\", \"\\u0441\\u0448\\u0430\", \"\\u0441\\u0448\\u0430\", \"\\u0441\\u0448\\u0430\", \"\\u0441\\u0448\\u0430\", \"\\u0441\\u0448\\u0430\", \"\\u0441\\u0448\\u0430\", \"\\u0441\\u0448\\u0430\", \"\\u0441\\u0448\\u0430\", \"\\u0441\\u0448\\u0430 \\u0441\\u0448\\u0430\", \"\\u0441\\u0448\\u0430 \\u0441\\u0448\\u0430 \\u0441\\u0448\\u0430\", \"\\u0441\\u044e\\u0436\\u0435\\u0442\", \"\\u0441\\u044e\\u0436\\u0435\\u0442\", \"\\u0441\\u044e\\u0436\\u0435\\u0442\", \"\\u0441\\u044e\\u0436\\u0435\\u0442\", \"\\u0442\\u0430\\u043d\", \"\\u0442\\u0435\\u043b\\u043e\", \"\\u0442\\u0435\\u043b\\u043e\", \"\\u0442\\u0435\\u043b\\u043e\", \"\\u0442\\u0435\\u043b\\u043e\", \"\\u0442\\u0435\\u043b\\u043e\", \"\\u0442\\u0435\\u043b\\u043e\", \"\\u0442\\u0435\\u043b\\u043e \\u043f\\u0430\\u043a\\u0435\\u0442\", \"\\u0442\\u0435\\u043f\\u043b\\u043e\\u0432\\u0438\\u0437\\u043e\\u0440\", \"\\u0442\\u0435\\u0441\\u0442\", \"\\u0442\\u0435\\u0441\\u0442\", \"\\u0442\\u0435\\u0441\\u0442\", \"\\u0442\\u0435\\u0441\\u0442\", \"\\u0442\\u0435\\u0441\\u0442\", \"\\u0442\\u0435\\u0441\\u0442\", \"\\u0442\\u0435\\u0441\\u0442\", \"\\u0442\\u0435\\u0441\\u0442\", \"\\u0442\\u0435\\u0441\\u0442 \\u043a\\u0435\\u0439\\u0441\", \"\\u0442\\u0435\\u0445\\u043d\\u0438\\u0447\\u0435\\u0441\\u043a\\u0438\\u0439\", \"\\u0442\\u0435\\u0445\\u043d\\u0438\\u0447\\u0435\\u0441\\u043a\\u0438\\u0439\", \"\\u0442\\u0435\\u0445\\u043d\\u0438\\u0447\\u0435\\u0441\\u043a\\u0438\\u0439\", \"\\u0442\\u0435\\u0445\\u043d\\u0438\\u0447\\u0435\\u0441\\u043a\\u0438\\u0439\", \"\\u0442\\u0435\\u0445\\u043d\\u0438\\u0447\\u0435\\u0441\\u043a\\u0438\\u0439\", \"\\u0442\\u0435\\u0445\\u043d\\u0438\\u0447\\u0435\\u0441\\u043a\\u0438\\u0439\", \"\\u0442\\u0435\\u0445\\u043d\\u0438\\u0447\\u0435\\u0441\\u043a\\u0438\\u0439\", \"\\u0442\\u0435\\u0445\\u043d\\u0438\\u0447\\u0435\\u0441\\u043a\\u0438\\u0439\", \"\\u0442\\u0435\\u0445\\u043d\\u0438\\u0447\\u0435\\u0441\\u043a\\u0438\\u0439\", \"\\u0442\\u0435\\u0445\\u043d\\u0438\\u0447\\u0435\\u0441\\u043a\\u0438\\u0439 \\u0431\\u0430\\u043b\\u043b\", \"\\u0442\\u0438\\u043c\\u043b\\u0438\\u0434\\u044b\", \"\\u0442\\u0438\\u043f\", \"\\u0442\\u0438\\u043f\", \"\\u0442\\u0438\\u043f\", \"\\u0442\\u0438\\u043f\", \"\\u0442\\u0438\\u043f\", \"\\u0442\\u0438\\u043f\", \"\\u0442\\u0438\\u043f\", \"\\u0442\\u0438\\u043f\", \"\\u0442\\u0438\\u043f\", \"\\u0442\\u0438\\u043f\", \"\\u0442\\u0438\\u043f\", \"\\u0442\\u043e\\u043d\", \"\\u0442\\u043e\\u0440\\u0440\\u0435\\u043d\\u0442\", \"\\u0442\\u043e\\u0447\\u043a\\u0430 \\u0434\\u043e\\u0441\\u0442\\u0443\\u043f\", \"\\u0442\\u043e\\u0447\\u043a\\u0430 \\u0434\\u043e\\u0441\\u0442\\u0443\\u043f\", \"\\u0442\\u043e\\u0447\\u043a\\u0430 \\u043b\\u043e\\u0433\\u0438\\u0440\\u043e\\u0432\\u0430\\u043d\\u0438\\u0435\", \"\\u0442\\u0440\\u0430\\u043d\\u0437\\u0438\\u0441\\u0442\\u043e\\u0440\", \"\\u0442\\u0440\\u0430\\u043d\\u0441\\u043f\\u043e\\u0440\\u0442\\u043d\\u044b\\u0439 \\u0441\\u0440\\u0435\\u0434\\u0441\\u0442\\u0432\\u043e\", \"\\u0442\\u0440\\u0430\\u043d\\u0441\\u0442\\u0435\\u043b\\u0435\\u043a\\u043e\\u043c\", \"\\u0442\\u0440\\u0435\\u0439\\u0441\", \"\\u0442\\u0440\\u0435\\u0439\\u0441\", \"\\u0442\\u0440\\u0438\\u0433\\u0433\\u0435\\u0440\", \"\\u0442\\u0440\\u0438\\u0433\\u0433\\u0435\\u0440\", \"\\u0442\\u044d\\u0433\", \"\\u0443\\u043b\\u044c\\u0442\\u0440\\u0430\\u0437\\u0432\\u0443\\u043a\", \"\\u0443\\u043b\\u044c\\u0442\\u0440\\u0430\\u0437\\u0432\\u0443\\u043a\\u043e\\u0432\\u043e\\u0439\", \"\\u0443\\u043b\\u044c\\u0442\\u0440\\u0430\\u0437\\u0432\\u0443\\u043a\\u043e\\u0432\\u043e\\u0439\", \"\\u0443\\u043b\\u044c\\u0442\\u0440\\u0430\\u0437\\u0432\\u0443\\u043a\\u043e\\u0432\\u043e\\u0439 \\u0441\\u0432\\u0430\\u0440\\u043a\\u0430\", \"\\u0443\\u043f\\u0440\\u0430\\u0432\\u043b\\u0435\\u043d\\u0438\\u0435\", \"\\u0443\\u043f\\u0440\\u0430\\u0432\\u043b\\u0435\\u043d\\u0438\\u0435\", \"\\u0443\\u043f\\u0440\\u0430\\u0432\\u043b\\u0435\\u043d\\u0438\\u0435\", \"\\u0443\\u043f\\u0440\\u0430\\u0432\\u043b\\u0435\\u043d\\u0438\\u0435\", \"\\u0443\\u043f\\u0440\\u0430\\u0432\\u043b\\u0435\\u043d\\u0438\\u0435\", \"\\u0443\\u043f\\u0440\\u0430\\u0432\\u043b\\u0435\\u043d\\u0438\\u0435\", \"\\u0443\\u043f\\u0440\\u0430\\u0432\\u043b\\u0435\\u043d\\u0438\\u0435\", \"\\u0443\\u043f\\u0440\\u0430\\u0432\\u043b\\u0435\\u043d\\u0438\\u0435\", \"\\u0443\\u043f\\u0440\\u0430\\u0432\\u043b\\u0435\\u043d\\u0438\\u0435\", \"\\u0443\\u043f\\u0440\\u0430\\u0432\\u043b\\u0435\\u043d\\u0438\\u0435\", \"\\u0443\\u043f\\u0440\\u0430\\u0432\\u043b\\u0435\\u043d\\u0438\\u0435 \\u0444\\u0430\\u0439\\u043b\", \"\\u0443\\u0441\\u0438\\u043b\\u0438\\u0442\\u0435\\u043b\\u044c\", \"\\u0443\\u0441\\u0438\\u043b\\u0438\\u0442\\u0435\\u043b\\u044c\", \"\\u0443\\u0441\\u0442\\u0440\\u043e\\u0439\\u0441\\u0442\\u0432\\u043e\", \"\\u0443\\u0441\\u0442\\u0440\\u043e\\u0439\\u0441\\u0442\\u0432\\u043e\", \"\\u0443\\u0441\\u0442\\u0440\\u043e\\u0439\\u0441\\u0442\\u0432\\u043e\", \"\\u0443\\u0441\\u0442\\u0440\\u043e\\u0439\\u0441\\u0442\\u0432\\u043e\", \"\\u0443\\u0441\\u0442\\u0440\\u043e\\u0439\\u0441\\u0442\\u0432\\u043e\", \"\\u0443\\u0441\\u0442\\u0440\\u043e\\u0439\\u0441\\u0442\\u0432\\u043e\", \"\\u0443\\u0441\\u0442\\u0440\\u043e\\u0439\\u0441\\u0442\\u0432\\u043e\", \"\\u0443\\u0441\\u0442\\u0440\\u043e\\u0439\\u0441\\u0442\\u0432\\u043e\", \"\\u0443\\u0441\\u0442\\u0440\\u043e\\u0439\\u0441\\u0442\\u0432\\u043e\", \"\\u0443\\u0441\\u0442\\u0440\\u043e\\u0439\\u0441\\u0442\\u0432\\u043e \\u043f\\u0440\\u0435\\u0434\\u043e\\u0441\\u0442\\u0430\\u0432\\u043b\\u044f\\u0442\\u044c\", \"\\u0443\\u0441\\u0442\\u0440\\u043e\\u0439\\u0441\\u0442\\u0432\\u043e \\u043f\\u0440\\u0435\\u0434\\u043e\\u0441\\u0442\\u0430\\u0432\\u043b\\u044f\\u0442\\u044c \\u0448\\u0438\\u0440\\u043e\\u043a\\u0438\\u0439\", \"\\u0443\\u0441\\u0442\\u0440\\u043e\\u0439\\u0441\\u0442\\u0432\\u043e \\u0445\\u0440\\u0430\\u043d\\u0435\\u043d\\u0438\\u0435\", \"\\u0443\\u0441\\u0442\\u0440\\u043e\\u0439\\u0441\\u0442\\u0432\\u043e \\u0445\\u0440\\u0430\\u043d\\u0435\\u043d\\u0438\\u0435\", \"\\u0443\\u044f\\u0437\\u0432\\u0438\\u043c\\u043e\\u0441\\u0442\\u044c\", \"\\u0443\\u044f\\u0437\\u0432\\u0438\\u043c\\u043e\\u0441\\u0442\\u044c\", \"\\u0443\\u044f\\u0437\\u0432\\u0438\\u043c\\u043e\\u0441\\u0442\\u044c\", \"\\u0443\\u044f\\u0437\\u0432\\u0438\\u043c\\u043e\\u0441\\u0442\\u044c\", \"\\u0443\\u044f\\u0437\\u0432\\u0438\\u043c\\u043e\\u0441\\u0442\\u044c\", \"\\u0443\\u044f\\u0437\\u0432\\u0438\\u043c\\u043e\\u0441\\u0442\\u044c\", \"\\u0443\\u044f\\u0437\\u0432\\u0438\\u043c\\u043e\\u0441\\u0442\\u044c\", \"\\u0444\\u0430\\u0431\\u043b\\u0430\\u0431\", \"\\u0444\\u0430\\u0439\\u043b\", \"\\u0444\\u0430\\u0439\\u043b\", \"\\u0444\\u0430\\u0439\\u043b\", \"\\u0444\\u0430\\u0439\\u043b\", \"\\u0444\\u0430\\u0439\\u043b\", \"\\u0444\\u0430\\u0439\\u043b\", \"\\u0444\\u0430\\u0439\\u043b\", \"\\u0444\\u0430\\u0439\\u043b\", \"\\u0444\\u0430\\u0439\\u043b\", \"\\u0444\\u0430\\u0439\\u043b\", \"\\u0444\\u0430\\u0439\\u043b \\u043a\\u043b\\u0430\\u0441\\u0441\", \"\\u0444\\u0430\\u0439\\u043b \\u043f\\u0440\\u043e\\u0435\\u043a\\u0442\", \"\\u0444\\u0430\\u0439\\u043b \\u043f\\u0440\\u043e\\u0435\\u043a\\u0442\", \"\\u0444\\u0430\\u0439\\u043b\\u043e\\u0432\\u044b\\u0439\", \"\\u0444\\u0430\\u0439\\u043b\\u043e\\u0432\\u044b\\u0439\", \"\\u0444\\u0430\\u0439\\u043b\\u043e\\u0432\\u044b\\u0439\", \"\\u0444\\u0430\\u0439\\u043b\\u043e\\u0432\\u044b\\u0439 \\u0441\\u0438\\u0441\\u0442\\u0435\\u043c\\u0430\", \"\\u0444\\u0430\\u0439\\u043b\\u043e\\u0432\\u044b\\u0439 \\u0441\\u0438\\u0441\\u0442\\u0435\\u043c\\u0430\", \"\\u0444\\u0430\\u0439\\u043b\\u043e\\u0432\\u044b\\u0439 \\u0441\\u0438\\u0441\\u0442\\u0435\\u043c\\u0430\", \"\\u0444\\u0438\\u0434\\u0431\\u0435\\u043a\", \"\\u0444\\u0443\\u043d\\u043a\\u0446\\u0438\\u043e\\u043d\\u0430\\u043b\\u044c\\u043d\\u043e\\u0441\\u0442\\u044c \\u043f\\u0430\\u043a\\u0435\\u0442\", \"\\u0444\\u0443\\u043d\\u043a\\u0446\\u0438\\u044f\", \"\\u0444\\u0443\\u043d\\u043a\\u0446\\u0438\\u044f\", \"\\u0444\\u0443\\u043d\\u043a\\u0446\\u0438\\u044f\", \"\\u0444\\u0443\\u043d\\u043a\\u0446\\u0438\\u044f\", \"\\u0444\\u0443\\u043d\\u043a\\u0446\\u0438\\u044f\", \"\\u0444\\u0443\\u043d\\u043a\\u0446\\u0438\\u044f\", \"\\u0444\\u0443\\u043d\\u043a\\u0446\\u0438\\u044f\", \"\\u0444\\u0443\\u043d\\u043a\\u0446\\u0438\\u044f\", \"\\u0444\\u0443\\u043d\\u043a\\u0446\\u0438\\u044f\", \"\\u0444\\u0443\\u043d\\u043a\\u0446\\u0438\\u044f\", \"\\u0444\\u0443\\u043d\\u043a\\u0446\\u0438\\u044f\", \"\\u0444\\u0443\\u043d\\u043a\\u0446\\u0438\\u044f \\u0438\\u043d\\u0438\\u0446\\u0438\\u0430\\u043b\\u0438\\u0437\\u0430\\u0446\\u0438\\u044f\", \"\\u0444\\u0443\\u043d\\u043a\\u0446\\u0438\\u044f \\u043f\\u0430\\u043a\\u0435\\u0442\", \"\\u0444\\u0443\\u043d\\u043a\\u0446\\u0438\\u044f \\u043f\\u0440\\u043e\\u0446\\u0435\\u0434\\u0443\\u0440\\u0430\", \"\\u0445\\u043e\\u043f\\u043f\\u0435\\u0440\", \"\\u0445\\u0443\\u043c\\u0430\\u043d\\u0438\\u0437\\u0430\\u0446\\u0438\\u044f\", \"\\u0446\\u0435\\u043d\\u0430\", \"\\u0446\\u0435\\u043d\\u0430\", \"\\u0446\\u0435\\u043d\\u0430\", \"\\u0446\\u0435\\u043d\\u0430\", \"\\u0446\\u0435\\u043d\\u0430\", \"\\u0446\\u0435\\u043d\\u0430\", \"\\u0446\\u0435\\u043d\\u0430\", \"\\u0446\\u0435\\u043d\\u0430\", \"\\u0446\\u0435\\u043d\\u0430 \\u0430\\u043a\\u0446\\u0438\\u044f\", \"\\u0446\\u0435\\u043d\\u0430 \\u0437\\u0430\\u043a\\u0440\\u044b\\u0442\\u0438\\u0435\", \"\\u0446\\u0435\\u043d\\u0442\\u0440 \\u0441\\u0435\\u0440\\u0442\\u0438\\u0444\\u0438\\u043a\\u0430\\u0446\\u0438\\u044f\", \"\\u0446\\u0435\\u043f\\u043e\\u0447\\u043a\\u0430\", \"\\u0446\\u0435\\u043f\\u043e\\u0447\\u043a\\u0430\", \"\\u0446\\u0435\\u043f\\u043e\\u0447\\u043a\\u0430\", \"\\u0446\\u0435\\u043f\\u043e\\u0447\\u043a\\u0430\", \"\\u0446\\u0435\\u043f\\u043e\\u0447\\u043a\\u0430\", \"\\u0446\\u0435\\u043f\\u044c \\u043f\\u0438\\u0442\\u0430\\u043d\\u0438\\u0435\", \"\\u0447\\u0430\\u0441\", \"\\u0447\\u0430\\u0441\", \"\\u0447\\u0430\\u0441\", \"\\u0447\\u0430\\u0441\", \"\\u0447\\u0430\\u0441\", \"\\u0447\\u0430\\u0441\", \"\\u0447\\u0430\\u0441\", \"\\u0447\\u0430\\u0441\", \"\\u0447\\u0430\\u0441\\u0442\\u043e\\u0442\\u0430\", \"\\u0447\\u0430\\u0441\\u0442\\u043e\\u0442\\u0430\", \"\\u0447\\u0430\\u0441\\u0442\\u043e\\u0442\\u0430\", \"\\u0447\\u0430\\u0441\\u0442\\u043e\\u0442\\u0430\", \"\\u0447\\u0430\\u0441\\u0442\\u043e\\u0442\\u0430\", \"\\u0447\\u0430\\u0441\\u0442\\u043e\\u0442\\u0430\", \"\\u0447\\u0430\\u0441\\u0442\\u043e\\u0442\\u0430\", \"\\u0447\\u0430\\u0441\\u0442\\u044c\", \"\\u0447\\u0430\\u0441\\u0442\\u044c\", \"\\u0447\\u0430\\u0441\\u0442\\u044c\", \"\\u0447\\u0430\\u0441\\u0442\\u044c\", \"\\u0447\\u0430\\u0441\\u0442\\u044c\", \"\\u0447\\u0430\\u0441\\u0442\\u044c\", \"\\u0447\\u0430\\u0441\\u0442\\u044c\", \"\\u0447\\u0430\\u0441\\u0442\\u044c\", \"\\u0447\\u0430\\u0441\\u0442\\u044c\", \"\\u0447\\u0430\\u0441\\u0442\\u044c\", \"\\u0447\\u0430\\u0441\\u0442\\u044c\", \"\\u0447\\u0430\\u0441\\u0442\\u044c \\u0448\\u0430\\u0441\\u0441\\u0438\", \"\\u0447\\u0435\\u043a\", \"\\u0447\\u0435\\u043b\\u043e\\u0432\\u0435\\u043a\", \"\\u0447\\u0435\\u043b\\u043e\\u0432\\u0435\\u043a\", \"\\u0447\\u0435\\u043b\\u043e\\u0432\\u0435\\u043a\", \"\\u0447\\u0435\\u043b\\u043e\\u0432\\u0435\\u043a\", \"\\u0447\\u0435\\u043b\\u043e\\u0432\\u0435\\u043a\", \"\\u0447\\u0435\\u043b\\u043e\\u0432\\u0435\\u043a\", \"\\u0447\\u0435\\u043b\\u043e\\u0432\\u0435\\u043a\", \"\\u0447\\u0435\\u043b\\u043e\\u0432\\u0435\\u043a\", \"\\u0447\\u0435\\u043b\\u043e\\u0432\\u0435\\u043a\", \"\\u0447\\u0435\\u043b\\u043e\\u0432\\u0435\\u043a\", \"\\u0447\\u0435\\u0442\\u044b\\u0440\\u0445\\u0440\\u0430\\u0437\\u0440\\u044f\\u0434\\u043d\\u044b\\u0439\", \"\\u0447\\u0438\\u043f\\u0441\\u0435\\u0442\", \"\\u0447\\u0438\\u043f\\u0441\\u0435\\u0442\", \"\\u0447\\u0440\\u043d\\u0430\\u044f\", \"\\u0447\\u0440\\u043d\\u0430\\u044f \\u0434\\u044b\\u0440\\u0430\", \"\\u0447\\u0440\\u043d\\u043e\\u0439\", \"\\u0447\\u0440\\u043d\\u043e\\u0439\", \"\\u0447\\u0440\\u043d\\u043e\\u0439 \\u0434\\u044b\\u0440\\u0430\", \"\\u0447\\u0443\\u0432\\u0441\\u0442\\u0432\\u0438\\u0442\\u0435\\u043b\\u044c\\u043d\\u044b\\u0439 \\u0438\\u043d\\u0444\\u043e\\u0440\\u043c\\u0430\\u0446\\u0438\\u044f\", \"\\u0448\\u0430\\u0441\\u0441\\u0438\", \"\\u0448\\u0430\\u0441\\u0441\\u0438\", \"\\u0448\\u0438\\u043d\\u0430 \\u043c\\u0433\\u0446\", \"\\u0448\\u0440\\u0438\\u0444\\u0442\", \"\\u0448\\u0443\\u043c\\u043e\\u043f\\u043e\\u0434\\u0430\\u0432\\u043b\\u0435\\u043d\\u0438\\u0435\", \"\\u0449\\u0438\\u0442\", \"\\u044d\\u043a\\u0437\\u0430\\u043c\\u0435\\u043d\", \"\\u044d\\u043b\\u0435\\u043c\\u0435\\u043d\\u0442\", \"\\u044d\\u043b\\u0435\\u043c\\u0435\\u043d\\u0442\", \"\\u044d\\u043b\\u0435\\u043c\\u0435\\u043d\\u0442\", \"\\u044d\\u043b\\u0435\\u043c\\u0435\\u043d\\u0442\", \"\\u044d\\u043b\\u0435\\u043c\\u0435\\u043d\\u0442\", \"\\u044d\\u043b\\u0435\\u043c\\u0435\\u043d\\u0442\", \"\\u044d\\u043b\\u0435\\u043c\\u0435\\u043d\\u0442\", \"\\u044d\\u043b\\u0435\\u043c\\u0435\\u043d\\u0442\", \"\\u044d\\u043b\\u0435\\u043c\\u0435\\u043d\\u0442 \\u043f\\u0430\\u043a\\u0435\\u0442\", \"\\u044d\\u043b\\u0435\\u043c\\u0435\\u043d\\u0442 \\u0441\\u0442\\u0440\\u0438\\u043c\", \"\\u044d\\u043b\\u0438\\u0437\\u0430\\u0431\\u0435\\u0442\", \"\\u044f\\u0434\\u0440\\u043e\", \"\\u044f\\u0434\\u0440\\u043e\", \"\\u044f\\u0434\\u0440\\u043e\", \"\\u044f\\u0434\\u0440\\u043e\", \"\\u044f\\u0434\\u0440\\u043e\", \"\\u044f\\u0434\\u0440\\u043e\", \"\\u044f\\u0434\\u0440\\u043e\", \"\\u044f\\u0434\\u0440\\u043e\", \"\\u044f\\u0437\\u044b\\u043a\", \"\\u044f\\u0437\\u044b\\u043a\", \"\\u044f\\u0437\\u044b\\u043a\", \"\\u044f\\u0437\\u044b\\u043a\", \"\\u044f\\u0437\\u044b\\u043a\", \"\\u044f\\u0437\\u044b\\u043a\", \"\\u044f\\u0437\\u044b\\u043a\", \"\\u044f\\u0437\\u044b\\u043a\", \"\\u044f\\u043f\\u043e\\u043d\\u0441\\u043a\\u0438\\u0439\", \"\\u044f\\u043f\\u043e\\u043d\\u0441\\u043a\\u0438\\u0439\"]}, \"R\": 30, \"lambda.step\": 0.01, \"plot.opts\": {\"xlab\": \"PC1\", \"ylab\": \"PC2\"}, \"topic.order\": [1, 2, 3, 4, 5, 6, 7, 8, 9, 10, 11]};\n",
       "\n",
       "function LDAvis_load_lib(url, callback){\n",
       "  var s = document.createElement('script');\n",
       "  s.src = url;\n",
       "  s.async = true;\n",
       "  s.onreadystatechange = s.onload = callback;\n",
       "  s.onerror = function(){console.warn(\"failed to load library \" + url);};\n",
       "  document.getElementsByTagName(\"head\")[0].appendChild(s);\n",
       "}\n",
       "\n",
       "if(typeof(LDAvis) !== \"undefined\"){\n",
       "   // already loaded: just create the visualization\n",
       "   !function(LDAvis){\n",
       "       new LDAvis(\"#\" + \"ldavis_el1450814081613785129597127281\", ldavis_el1450814081613785129597127281_data);\n",
       "   }(LDAvis);\n",
       "}else if(typeof define === \"function\" && define.amd){\n",
       "   // require.js is available: use it to load d3/LDAvis\n",
       "   require.config({paths: {d3: \"https://d3js.org/d3.v5\"}});\n",
       "   require([\"d3\"], function(d3){\n",
       "      window.d3 = d3;\n",
       "      LDAvis_load_lib(\"https://cdn.jsdelivr.net/gh/bmabey/pyLDAvis@3.4.0/pyLDAvis/js/ldavis.v3.0.0.js\", function(){\n",
       "        new LDAvis(\"#\" + \"ldavis_el1450814081613785129597127281\", ldavis_el1450814081613785129597127281_data);\n",
       "      });\n",
       "    });\n",
       "}else{\n",
       "    // require.js not available: dynamically load d3 & LDAvis\n",
       "    LDAvis_load_lib(\"https://d3js.org/d3.v5.js\", function(){\n",
       "         LDAvis_load_lib(\"https://cdn.jsdelivr.net/gh/bmabey/pyLDAvis@3.4.0/pyLDAvis/js/ldavis.v3.0.0.js\", function(){\n",
       "                 new LDAvis(\"#\" + \"ldavis_el1450814081613785129597127281\", ldavis_el1450814081613785129597127281_data);\n",
       "            })\n",
       "         });\n",
       "}\n",
       "</script>"
      ],
      "text/plain": [
       "PreparedData(topic_coordinates=               x          y  topics  cluster       Freq\n",
       "topic                                                  \n",
       "0     -18.931982  21.364096       1        1  15.941619\n",
       "1       5.185822 -65.504852       2        1   8.904410\n",
       "2      20.493387   2.463797       3        1   1.479714\n",
       "3     -47.834351 -55.827648       4        1  12.538552\n",
       "4     -61.516983  41.363140       5        1  10.020297\n",
       "5      65.886414  11.477524       6        1   7.145171\n",
       "6     -14.420488 -23.016563       7        1  12.392840\n",
       "7      45.235481 -37.613110       8        1   4.146974\n",
       "8     -62.355003  -7.886053       9        1   7.202944\n",
       "9     -14.854110  68.169655      10        1  12.357454\n",
       "10     30.384117  49.551826      11        1   7.870024, topic_info=              Term        Freq       Total Category  logprob  loglift\n",
       "83159        пакет  159.000000  159.000000  Default  30.0000  30.0000\n",
       "114921  реактивный   62.000000   62.000000  Default  29.0000  29.0000\n",
       "135726       стрим   47.000000   47.000000  Default  28.0000  28.0000\n",
       "45969        класс   78.000000   78.000000  Default  27.0000  27.0000\n",
       "123649     система  243.000000  243.000000  Default  26.0000  26.0000\n",
       "...            ...         ...         ...      ...      ...      ...\n",
       "110049    работать   14.913194  180.849175  Topic11  -7.1562   0.0467\n",
       "94065       помощь   13.198437  122.962357  Topic11  -7.2784   0.3103\n",
       "109425      работа   13.770022  226.801527  Topic11  -7.2360  -0.2595\n",
       "21931       данные   13.198436  270.603442  Topic11  -7.2784  -0.4784\n",
       "119129       самый   12.626850  165.524496  Topic11  -7.3227  -0.0312\n",
       "\n",
       "[777 rows x 6 columns], token_table=        Topic      Freq        Term\n",
       "term                               \n",
       "64          5  0.350684  абстракция\n",
       "64          8  0.701369  абстракция\n",
       "135         6  0.907953        авто\n",
       "306         6  0.894965  автомобиль\n",
       "306         7  0.068843  автомобиль\n",
       "...       ...       ...         ...\n",
       "157301      9  0.035519        язык\n",
       "157301     10  0.177595        язык\n",
       "157301     11  0.159836        язык\n",
       "157552     10  0.856107    японский\n",
       "157552     11  0.095123    японский\n",
       "\n",
       "[2183 rows x 3 columns], R=30, lambda_step=0.01, plot_opts={'xlab': 'PC1', 'ylab': 'PC2'}, topic_order=[1, 2, 3, 4, 5, 6, 7, 8, 9, 10, 11])"
      ]
     },
     "execution_count": 60,
     "metadata": {},
     "output_type": "execute_result"
    }
   ],
   "source": [
    "# визуализация модели LDA\n",
    "panel = pyLDAvis.sklearn.prepare(lda_model, count_matrix, vectorizer, mds='tsne', sort_topics=False)\n",
    "panel"
   ]
  },
  {
   "cell_type": "code",
   "execution_count": 61,
   "id": "d522e263",
   "metadata": {},
   "outputs": [
    {
     "name": "stderr",
     "output_type": "stream",
     "text": [
      "C:\\Users\\essww\\anaconda3\\lib\\site-packages\\pandas\\core\\internals\\blocks.py:351: RuntimeWarning: divide by zero encountered in log\n",
      "  result = func(self.values, **kwargs)\n",
      "C:\\Users\\essww\\anaconda3\\lib\\site-packages\\pyLDAvis\\_prepare.py:244: FutureWarning: In a future version of pandas all arguments of DataFrame.drop except for the argument 'labels' will be keyword-only.\n",
      "  by='saliency', ascending=False).head(R).drop('saliency', 1)\n",
      "C:\\Users\\essww\\anaconda3\\lib\\site-packages\\pandas\\core\\internals\\blocks.py:351: RuntimeWarning: divide by zero encountered in log\n",
      "  result = func(self.values, **kwargs)\n"
     ]
    },
    {
     "data": {
      "text/html": [
       "\n",
       "<link rel=\"stylesheet\" type=\"text/css\" href=\"https://cdn.jsdelivr.net/gh/bmabey/pyLDAvis@3.4.0/pyLDAvis/js/ldavis.v1.0.0.css\">\n",
       "\n",
       "\n",
       "<div id=\"ldavis_el1450814081613776162659563493\" style=\"background-color:white;\"></div>\n",
       "<script type=\"text/javascript\">\n",
       "\n",
       "var ldavis_el1450814081613776162659563493_data = {\"mdsDat\": {\"x\": [-57.628631591796875, -42.91819381713867, 30.804807662963867, 25.40135383605957, -121.37557983398438, -93.86505126953125, 91.48556518554688, 48.07108688354492, -4.050884246826172, 102.6481704711914, -42.86871337890625], \"y\": [-98.95991516113281, 114.3415298461914, -21.365083694458008, -101.42041778564453, -33.0918083190918, 47.962318420410156, 33.98158645629883, 105.06714630126953, 44.412166595458984, -53.76129913330078, -20.71629524230957], \"topics\": [1, 2, 3, 4, 5, 6, 7, 8, 9, 10, 11], \"cluster\": [1, 1, 1, 1, 1, 1, 1, 1, 1, 1, 1], \"Freq\": [6.320806369848817, 25.214483656225887, 7.740491441642461, 7.013458552438452, 8.658993419843352, 9.980504760304509, 9.294311729845827, 6.265921775129732, 5.643885588951188, 10.257129199630134, 3.6100135061396235]}, \"tinfo\": {\"Term\": [\"\\u043f\\u0430\\u043a\\u0435\\u0442\", \"\\u0442\\u0435\\u0441\\u0442\", \"\\u043c\\u0435\\u0442\\u0440\\u0438\\u043a\\u0430\", \"\\u0438\\u0433\\u0440\\u0430\", \"\\u043a\\u043b\\u0430\\u0441\\u0442\\u0435\\u0440\", \"\\u0437\\u0430\\u043f\\u0440\\u043e\\u0441\", \"\\u043c\\u043e\\u043d\\u0438\\u0442\\u043e\\u0440\\u0438\\u043d\\u0433\", \"\\u0434\\u0438\\u0441\\u043a\", \"\\u043a\\u043b\\u0430\\u0441\\u0441\", \"\\u0441\\u0438\\u0441\\u0442\\u0435\\u043c\\u0430\", \"\\u043f\\u043b\\u0430\\u0442\\u0430\", \"\\u043f\\u043e\\u0440\\u0442\", \"\\u043e\\u0437\\u0443\", \"\\u0443\\u0441\\u0442\\u0440\\u043e\\u0439\\u0441\\u0442\\u0432\\u043e\", \"\\u0437\\u043d\\u0430\\u0447\\u0435\\u043d\\u0438\\u0435\", \"\\u043f\\u0440\\u043e\\u0446\\u0435\\u0441\\u0441\\u043e\\u0440\", \"\\u0444\\u0430\\u0439\\u043b\", \"\\u0444\\u0430\\u0439\\u043b\\u043e\\u0432\\u044b\\u0439\", \"\\u043a\\u043e\\u043c\\u043c\\u0443\\u0442\\u0430\\u0442\\u043e\\u0440\", \"\\u0441\\u043b\\u043e\\u0442\", \"\\u0441\\u0435\\u0440\\u0432\\u0435\\u0440\", \"\\u0448\\u0440\\u0438\\u0444\\u0442\", \"\\u043a\\u0435\\u0439\\u0441\", \"\\u043a\\u043e\\u0434\", \"\\u0441\\u0435\\u0440\\u0442\\u0438\\u0444\\u0438\\u043a\\u0430\\u0442\", \"\\u0434\\u0430\\u043d\\u043d\\u044b\\u0435\", \"\\u043a\\u0435\\u0448\", \"\\u0444\\u0443\\u043d\\u043a\\u0446\\u0438\\u044f\", \"\\u0441\\u0431\\u043e\\u0440\", \"\\u043f\\u0440\\u0438\\u043b\\u043e\\u0436\\u0435\\u043d\\u0438\\u0435\", \"\\u0430\\u043d\\u043d\\u043e\\u0442\\u0438\\u0440\\u043e\\u0432\\u0430\\u0442\\u044c\", \"\\u0430\\u0441\\u0441\\u0435\\u043c\\u0431\\u043b\\u0435\\u0440\\u043d\\u044b\\u0439\", \"\\u0431\\u0435\\u043d\\u0447\\u043c\\u0430\\u0440\\u043a\\u0430\", \"\\u0431\\u0435\\u043d\\u0447\\u043c\\u0430\\u0440\\u043a\\u0438\\u043d\\u0433\", \"\\u0431\\u0438\\u0431\\u043b\\u0438\\u043e\\u0442\\u0435\\u043a\\u0438\\u043d\", \"\\u0432\\u043b\\u043e\\u0436\\u0435\\u043d\\u043d\\u043e\\u0441\\u0442\\u044c\", \"\\u0432\\u044b\\u0442\\u0430\\u043b\\u043a\\u0438\\u0432\\u0430\\u0442\\u044c\", \"\\u0432\\u044b\\u0448\\u0435\\u043f\\u0440\\u0438\\u0432\\u0435\\u0434\\u043d\\u043d\\u044b\\u0439\", \"\\u0434\\u0435\\u0441\\u0435\\u0440\\u0438\\u0430\\u043b\\u0438\\u0437\\u0430\\u0442\\u043e\\u0440\", \"\\u0434\\u0435\\u0444\\u043e\\u043b\\u0442\\u043d\\u0430\\u044f\", \"\\u0434\\u0435\\u0444\\u043e\\u043b\\u0442\\u043d\\u043e\\u0439\", \"\\u0434\\u0435\\u0444\\u043e\\u043b\\u0442\\u043d\\u0443\\u044e\", \"\\u0434\\u0435\\u0444\\u043e\\u043b\\u0442\\u043d\\u044b\\u0439\", \"\\u0434\\u0436\\u0435\\u043d\\u0435\\u0440\\u0438\\u043a\", \"\\u0434\\u0438\\u0441\\u043a\\u0440\\u0438\\u043c\\u0438\\u043d\\u0430\\u0442\\u043e\\u0440\", \"\\u0436\\u0430\\u0434\\u043d\\u044b\\u0439\", \"\\u0437\\u0430\\u0433\\u0440\\u0443\\u0436\\u0430\\u0442\\u044c\\u0441\\u044f\", \"\\u0437\\u0430\\u043c\\u0435\\u043d\\u044f\\u0442\\u044c\\u0441\\u044f\", \"\\u0437\\u0430\\u043f\\u0438\\u0441\\u044b\\u0432\\u0430\\u0442\\u0435\\u043b\\u044c\", \"\\u0437\\u0430\\u0440\\u0435\\u0437\\u0435\\u0440\\u0432\\u0438\\u0440\\u043e\\u0432\\u0430\\u0442\\u044c\", \"\\u0438\\u0437\\u044f\\u0449\\u043d\\u043e\\u0441\\u0442\\u044c\", \"\\u0438\\u043d\\u0434\\u0435\\u043a\\u0441\\u0430\\u0446\\u0438\\u044f\", \"\\u0438\\u043d\\u0438\\u0446\\u0438\\u0430\\u043b\\u0438\\u0437\\u0438\\u0440\\u043e\\u0432\\u0430\\u0442\\u044c\\u0441\\u044f\", \"\\u0438\\u043d\\u0442\\u0435\\u0440\\u043f\\u0440\\u0435\\u0442\\u0438\\u0440\\u043e\\u0432\\u0430\\u0442\\u044c\\u0441\\u044f\", \"\\u0438\\u0441\\u043a\\u043b\\u044e\\u0447\\u0430\\u0442\\u044c\\u0441\\u044f\", \"\\u043a\\u0438\\u0434\\u0430\\u0442\\u044c\", \"\\u043a\\u043e\\u0434\\u043e\\u0433\\u0435\\u043d\\u0435\\u0440\\u0430\\u0442\\u043e\\u0440\", \"\\u043a\\u043e\\u043d\\u0441\\u0442\\u0430\\u043d\\u0442\\u043d\\u044b\\u0439\", \"\\u043c\\u0435\\u0449\\u0435\\u0440\\u044f\\u043a\", \"\\u043c\\u0438\\u0433\\u0440\\u0430\\u0446\\u0438\\u0438\\u0434\\u043b\\u044c\", \"\\u0430\\u043d\\u043d\\u043e\\u0442\\u0430\\u0446\\u0438\\u044f\", \"\\u0434\\u0435\\u0441\\u0435\\u0440\\u0438\\u0430\\u043b\\u0438\\u0437\\u0430\\u0446\\u0438\\u044f\", \"\\u0441\\u0435\\u0440\\u0438\\u0430\\u043b\\u0438\\u0437\\u0430\\u0442\\u043e\\u0440\", \"\\u0441\\u0435\\u0440\\u0438\\u0430\\u043b\\u0438\\u0437\\u0430\\u0446\\u0438\\u044f\", \"\\u043f\\u043e\\u043b\\u0438\\u043c\\u043e\\u0440\\u0444\\u043d\\u044b\\u0439\", \"\\u043e\\u043f\\u0435\\u0440\\u0430\\u043d\\u0434\", \"\\u043a\\u043e\\u0434\\u043e\\u0433\\u0435\\u043d\\u0435\\u0440\\u0430\\u0446\\u0438\\u044f\", \"\\u0441\\u043a\\u043e\\u043d\\u0441\\u0442\\u0440\\u0443\\u0438\\u0440\\u043e\\u0432\\u0430\\u0442\\u044c\", \"\\u043f\\u0440\\u0438\\u043c\\u0438\\u0442\\u0438\\u0432\", \"\\u043a\\u043b\\u0430\\u0441\\u0441\", \"\\u043d\\u0430\\u0441\\u043b\\u0435\\u0434\\u043d\\u0438\\u043a\", \"\\u0441\\u0438\\u043c\\u0432\\u043e\\u043b\\u044c\\u043d\\u044b\\u0439\", \"\\u0438\\u043d\\u0432\\u0435\\u0441\\u0442\", \"\\u043e\\u043f\\u0446\\u0438\\u043e\\u043d\\u0430\\u043b\\u044c\\u043d\\u043e\\u0441\\u0442\\u044c\", \"\\u0441\\u0435\\u0440\\u0438\\u0430\\u043b\\u0438\\u0437\\u043e\\u0432\\u0430\\u0442\\u044c\", \"\\u0441\\u043e\\u043e\\u0442\\u0432\\u0435\\u0442\\u0441\\u0442\\u0432\\u0435\\u043d\\u043d\\u043e\\u0442\\u0430\\u0431\\u043b\\u0438\\u0446\\u0430\", \"\\u043d\\u0430\\u043f\\u043e\\u043b\\u043d\\u044f\\u0442\\u044c\", \"\\u043f\\u0440\\u043e\\u0442\\u043e\\u043a\\u043e\\u043b\\u0438\\u0440\\u043e\\u0432\\u0430\\u043d\\u0438\\u0435\", \"\\u0440\\u0430\\u043d\\u044c\\u0448\\u0435\\u043f\\u043e\\u0441\\u043b\\u0435\", \"\\u0441\\u0442\\u0440\\u043e\\u043a\\u043e\\u0432\\u044b\\u0439\", \"\\u043f\\u043e\\u0437\\u0430\\u0438\\u043c\\u0441\\u0442\\u0432\\u043e\\u0432\\u0430\\u0442\\u044c\", \"\\u0438\\u0442\\u0435\\u0440\\u0430\\u0442\\u043e\\u0440\", \"\\u0440\\u0430\\u043d\\u0442\\u0430\\u0439\\u043c\", \"\\u043a\\u043e\\u043d\\u0441\\u0442\\u0430\\u043d\\u0442\\u0430\", \"\\u0440\\u0435\\u0433\\u0438\\u0441\\u0442\\u0440\", \"\\u043f\\u043e\\u043b\\u0435\", \"\\u043e\\u0431\\u044a\\u0435\\u043a\\u0442\", \"\\u0432\\u0438\\u0434\\u0438\\u043c\\u043e\\u0441\\u0442\\u044c\", \"\\u0441\\u0442\\u0440\\u0443\\u043a\\u0442\\u0443\\u0440\\u0430\", \"\\u0438\\u043d\\u0434\\u0435\\u043a\\u0441\\u043d\\u044b\\u0439\", \"\\u043a\\u043e\\u043c\\u043f\\u0438\\u043b\\u044f\\u0442\\u043e\\u0440\", \"\\u0431\\u0430\\u0439\\u0442\", \"\\u0430\\u043d\\u043e\\u043d\\u0438\\u043c\\u043d\\u044b\\u0439\", \"\\u043a\\u043e\\u043c\\u043f\\u043e\\u043d\\u043e\\u0432\\u0449\\u0438\\u043a\", \"\\u0431\\u0438\\u0431\\u043b\\u0438\\u043e\\u0442\\u0435\\u0447\\u043d\\u044b\\u0439\", \"\\u043a\\u043e\\u043d\\u0441\\u0442\\u0440\\u0443\\u043a\\u0442\\u043e\\u0440\", \"\\u043a\\u043e\\u0434\", \"\\u043d\\u0430\\u0437\\u0432\\u0430\\u043d\\u0438\\u0435\", \"\\u0441\\u0442\\u0435\\u043a\", \"\\u0444\\u0430\\u0439\\u043b\", \"\\u043e\\u043f\\u0440\\u0435\\u0434\\u0435\\u043b\\u0435\\u043d\\u0438\\u0435\", \"\\u0438\\u0441\\u0445\\u043e\\u0434\\u043d\\u044b\\u0439\", \"\\u0433\\u0435\\u043d\\u0435\\u0440\\u0430\\u0446\\u0438\\u044f\", \"\\u0438\\u043c\\u044f\", \"\\u043f\\u0430\\u043c\\u044f\\u0442\\u044c\", \"\\u043f\\u043b\\u0430\\u0433\\u0438\\u043d\", \"\\u0438\\u043d\\u0441\\u0442\\u0440\\u0443\\u043a\\u0446\\u0438\\u044f\", \"\\u043f\\u0440\\u043e\\u0441\\u0442\\u0440\\u0430\\u043d\\u0441\\u0442\\u0432\\u043e\", \"\\u0431\\u0438\\u0431\\u043b\\u0438\\u043e\\u0442\\u0435\\u043a\\u0430\", \"\\u0442\\u0438\\u043f\", \"\\u043f\\u0440\\u043e\\u0435\\u043a\\u0442\", \"\\u0444\\u0443\\u043d\\u043a\\u0446\\u0438\\u044f\", \"\\u043c\\u0435\\u0442\\u043e\\u0434\", \"\\u043f\\u0440\\u043e\\u0446\\u0435\\u0441\\u0441\\u043e\\u0440\", \"\\u043f\\u0435\\u0440\\u0435\\u043c\\u0435\\u043d\\u043d\\u044b\\u0439\", \"\\u0438\\u0441\\u043f\\u043e\\u043b\\u044c\\u0437\\u043e\\u0432\\u0430\\u0442\\u044c\", \"\\u0441\\u043e\\u0437\\u0434\\u0430\\u0432\\u0430\\u0442\\u044c\", \"\\u0434\\u043e\\u0431\\u0430\\u0432\\u043b\\u044f\\u0442\\u044c\", \"\\u0430\\u0443\\u0434\\u0438\\u0442\\u043e\\u0440\\u0438\\u044f\", \"\\u0432\\u043a\\u043b\\u0430\\u0434\", \"\\u0440\\u0435\\u0433\\u0438\\u043e\\u043d\\u0430\\u043b\\u044c\\u043d\\u044b\\u0439\", \"\\u0430\\u0431\\u044b\", \"\\u0430\\u0432\\u0438\\u0430\\u043c\\u0435\\u0445\\u0430\\u043d\\u0438\\u043a\\u0430\", \"\\u0430\\u0432\\u0438\\u0430\\u0446\\u0438\\u043e\\u043d\\u043d\\u044b\\u0439\", \"\\u0430\\u0432\\u0438\\u0430\\u0446\\u0438\\u044f\", \"\\u0430\\u0433\\u0435\\u043d\\u0442\\u0441\\u0442\\u0432\\u0430\\u043c\\u0438\\u043a\\u0430\\u0440\\u044c\\u0435\\u0440\\u043d\\u044b\\u0439\", \"\\u0430\\u0434\\u043c\\u0438\\u0440\\u0430\\u043b\", \"\\u0430\\u0434\\u043c\\u0438\\u0440\\u0430\\u043b\\u044c\\u0441\\u043a\\u0438\\u0439\", \"\\u0430\\u0437\\u0438\\u043c\\u043e\\u0432\", \"\\u0430\\u0439\\u0437\\u0435\\u043a\", \"\\u0430\\u0439\\u0442\\u0438\", \"\\u0430\\u043a\\u0441\\u0435\\u043b\\u0435\\u0440\\u0430\\u0442\\u043e\\u0440\", \"\\u0430\\u043b\\u0430\\u0439\\u043d\\u043c\\u0435\\u043d\\u0442\", \"\\u0430\\u043b\\u0433\\u0435\\u0431\\u0440\\u0430\", \"\\u0430\\u043b\\u0444\\u0430\\u0432\\u0438\\u0442\", \"\\u0430\\u043b\\u0444\\u0430\\u0432\\u0438\\u0442\\u043d\\u044b\\u0439\", \"\\u0430\\u043d\\u0433\\u043b\\u0438\\u0447\\u0430\\u043d\\u0438\\u043d\", \"\\u0430\\u043d\\u0433\\u043b\\u043e\", \"\\u0430\\u0440\\u043b\\u0438\\u043d\\u0433\\u0442\\u043e\\u043d\\u0441\\u043a\\u0438\\u0439\", \"\\u0430\\u0440\\u0442\\u0438\\u043b\\u043b\\u0435\\u0440\\u0438\\u0439\\u0441\\u043a\\u0438\\u0439\", \"\\u0430\\u0440\\u0442\\u0443\\u0440\", \"\\u0431\\u0430\\u0431\\u0443\\u043b\\u044f\", \"\\u0431\\u0430\\u0439\\u043a\\u0430\", \"\\u0431\\u0430\\u0440\\u044b\\u0448\\u043d\\u044f\", \"\\u0431\\u043e\\u0441\\u0442\\u043e\\u043d\", \"\\u0431\\u0440\\u0430\\u0442\", \"\\u0431\\u0440\\u0430\\u0442\\u0441\\u0442\\u0432\\u043e\", \"\\u0431\\u0440\\u0435\\u0432\\u043d\\u043e\", \"\\u043a\\u0430\\u043d\\u0434\\u0438\\u0434\\u0430\\u0442\", \"\\u0433\\u0440\\u0435\\u0439\\u0441\", \"\\u0443\\u043d\\u0438\\u0432\\u0435\\u0440\\u0441\\u0438\\u0442\\u0435\\u0442\", \"\\u043f\\u0438\\u0441\\u044c\\u043c\\u043e\", \"\\u0445\\u043e\\u043f\\u043f\\u0435\\u0440\", \"\\u043f\\u0440\\u0435\\u0434\\u043b\\u043e\\u0436\\u0435\\u043d\\u0438\\u0435\", \"\\u0447\\u0435\\u043b\\u043e\\u0432\\u0435\\u0447\\u0435\\u0441\\u0442\\u0432\\u043e\", \"\\u0442\\u043e\\u043d\", \"\\u0441\\u0443\\u0431\\u0442\\u0438\\u0442\\u0440\", \"\\u043c\\u0438\\u043a\\u0440\\u043e\\u0441\\u0442\\u0440\\u0443\\u043a\\u0442\\u0443\\u0440\\u0430\", \"\\u0438\\u0435\\u0440\\u043e\\u0433\\u043b\\u0438\\u0444\", \"\\u0441\\u043e\\u043e\\u0441\\u043d\\u043e\\u0432\\u0430\\u0442\\u0435\\u043b\\u044c\", \"\\u0440\\u0430\\u0441\\u043f\\u043e\\u0437\\u043d\\u0430\\u0432\\u0430\\u0442\\u044c\", \"\\u0432\\u043e\\u0440\\u043e\\u043d\\u043a\\u0430\", \"\\u0441\\u043b\\u043e\\u0433\", \"\\u0432\\u043e\\u0435\\u043d\\u043d\\u044b\\u0439\", \"\\u0434\\u0438\\u0441\\u0441\\u0435\\u0440\\u0442\\u0430\\u0446\\u0438\\u044f\", \"\\u0434\\u0438\\u0430\\u043b\\u0435\\u043a\\u0442\", \"\\u043f\\u0438\\u0441\\u044c\\u043c\\u0435\\u043d\\u043d\\u043e\\u0441\\u0442\\u044c\", \"\\u043e\\u0445\\u0432\\u0430\\u0442\", \"\\u043a\\u0430\\u0440\\u044c\\u0435\\u0440\\u0430\", \"\\u043f\\u0440\\u043e\\u0444\\u0435\\u0441\\u0441\\u043e\\u0440\", \"\\u0441\\u043a\\u0435\\u043b\\u0435\\u0442\", \"\\u0432\\u044b\\u0440\\u0430\\u0436\\u0430\\u0442\\u044c\", \"\\u043f\\u0435\\u0440\\u0441\\u043f\\u0435\\u043a\\u0442\\u0438\\u0432\\u043d\\u044b\\u0439\", \"\\u0430\\u0432\\u0442\\u043e\\u043f\\u0438\\u043b\\u043e\\u0442\", \"\\u0443\\u0447\\u043d\\u044b\\u0439\", \"\\u043f\\u043e\\u043f\\u0440\\u043e\\u0441\\u0438\\u0442\\u044c\", \"\\u0437\\u0435\\u0440\\u043d\\u043e\", \"\\u043a\\u0430\\u0440\\u043f\\u0430\\u0442\\u044b\", \"\\u043e\\u0431\\u0443\\u0447\\u0430\\u0442\\u044c\", \"\\u043e\\u0431\\u0443\\u0447\\u0435\\u043d\\u0438\\u0435\", \"\\u0434\\u0440\\u043e\\u0437\\u043e\\u0444\\u0438\\u043b\\u0430\", \"\\u0440\\u0435\\u043a\\u0440\\u0443\\u0442\\u0435\\u0440\", \"\\u043e\\u0442\\u043b\\u0438\\u0447\\u0430\\u0442\\u044c\", \"\\u043d\\u0435\\u0439\\u0440\\u043e\\u0441\\u0435\\u0442\\u044c\", \"\\u0430\\u043d\\u0434\\u0440\\u0435\\u0439\", \"\\u0433\\u0435\\u043d\\u0435\\u0440\\u0430\\u0442\\u0438\\u0432\\u043d\\u044b\\u0439\", \"\\u0438\\u043d\\u0442\\u0435\\u043b\\u043b\\u0435\\u043a\\u0442\", \"\\u0432\\u0438\\u0434\\u0435\\u043e\", \"\\u043f\\u0440\\u043e\\u0433\\u0440\\u0430\\u043c\\u043c\\u0438\\u0441\\u0442\", \"\\u0444\\u0430\\u0431\\u043b\\u0430\\u0431\", \"\\u043b\\u0438\\u0434\\u0430\\u0440\", \"\\u043a\\u043b\\u0430\\u0441\\u0441\\u0438\\u0444\\u0438\\u043a\\u0430\\u0446\\u0438\\u044f\", \"\\u0430\\u043d\\u0433\\u043b\\u0438\\u0439\\u0441\\u043a\\u0438\\u0439\", \"\\u0441\\u043e\\u0431\\u0430\\u043a\\u0430\", \"\\u0431\\u0440\\u0435\\u043d\\u0434\", \"\\u043a\\u0438\\u0442\\u0430\\u0439\\u0441\\u043a\\u0438\\u0439\", \"\\u043c\\u043e\\u0434\\u0435\\u043b\\u044c\", \"\\u0447\\u0435\\u043b\\u043e\\u0432\\u0435\\u043a\", \"\\u043f\\u0435\\u0440\\u0435\\u0432\\u043e\\u0434\", \"\\u0438\\u0441\\u043a\\u0443\\u0441\\u0441\\u0442\\u0432\\u0435\\u043d\\u043d\\u044b\\u0439\", \"\\u0438\\u0437\\u043e\\u0431\\u0440\\u0430\\u0436\\u0435\\u043d\\u0438\\u0435\", \"\\u0433\\u043e\\u0434\", \"\\u0442\\u0435\\u0445\\u043d\\u043e\\u043b\\u043e\\u0433\\u0438\\u044f\", \"\\u043a\\u043e\\u043c\\u043f\\u0430\\u043d\\u0438\\u044f\", \"\\u0440\\u044b\\u043d\\u043e\\u043a\", \"\\u0431\\u043e\\u0442\", \"\\u043a\\u043e\\u043d\\u0442\\u0435\\u043d\\u0442\", \"\\u0432\\u0430\\u043a\\u0430\\u043d\\u0441\\u0438\\u044f\", \"\\u044f\\u0437\\u044b\\u043a\", \"\\u0440\\u043e\\u043b\\u0438\\u043a\", \"\\u0441\\u0442\\u0430\\u043d\\u043e\\u0432\\u0438\\u0442\\u044c\\u0441\\u044f\", \"\\u043d\\u0430\\u0432\\u044b\\u043a\", \"\\u0440\\u0430\\u0431\\u043e\\u0442\\u0430\", \"\\u0430\\u043b\\u0433\\u043e\\u0440\\u0438\\u0442\\u043c\", \"\\u043c\\u043e\\u0447\\u044c\", \"\\u0441\\u043f\\u0435\\u0446\\u0438\\u0430\\u043b\\u0438\\u0441\\u0442\", \"\\u0438\\u043d\\u0442\\u0435\\u0440\\u043d\\u0435\\u0442\", \"\\u0434\\u0430\\u043d\\u043d\\u044b\\u0435\", \"\\u0432\\u0435\\u0441\\u044c\", \"\\u0441\\u0430\\u043c\\u044b\\u0439\", \"\\u0441\\u0438\\u0441\\u0442\\u0435\\u043c\\u0430\", \"\\u0440\\u0430\\u0437\\u0440\\u0430\\u0431\\u043e\\u0442\\u043a\\u0430\", \"\\u0430\\u0443\\u0434\\u0438\\u043e\\u0432\\u044b\\u0445\\u043e\\u0434\", \"\\u0430\\u0443\\u0434\\u0438\\u043e\\u0440\\u0430\\u0437\\u044a\\u043c\\u043e\\u043c\", \"\\u0430\\u0443\\u0434\\u0438\\u043e\\u0447\\u0438\\u043f\", \"\\u0432\\u043f\\u043b\\u043e\\u0442\\u044c\", \"\\u0432\\u044b\\u0434\\u0443\\u043c\\u043a\\u0430\", \"\\u0433\\u0438\\u0433\\u0430\\u0431\\u0438\\u0442\\u043d\\u044b\\u0439\", \"\\u0433\\u0440\\u0430\\u043c\\u043c\", \"\\u0434\\u043e\\u043f\\u043b\\u0430\\u0442\\u0430\", \"\\u0437\\u0430\\u044f\\u0432\\u043b\\u044f\\u0442\\u044c\\u0441\\u044f\", \"\\u0437\\u0432\\u0435\\u0440\\u044c\", \"\\u0438\\u0431\\u043f\", \"\\u0438\\u043d\\u0435\\u0440\\u0446\\u0438\\u0430\\u043b\\u044c\\u043d\\u044b\\u0439\", \"\\u043a\\u043e\\u043c\\u0430\\u043d\\u0434\\u0438\\u0440\\u043e\\u0432\\u043a\\u0430\", \"\\u043a\\u043e\\u043c\\u0431\\u0438\\u043d\\u0438\\u0440\\u043e\\u0432\\u0430\\u043d\\u043d\\u044b\\u0439\", \"\\u043c\\u0430\\u043b\\u044e\\u0442\\u043a\\u0430\", \"\\u043c\\u0431\\u0438\\u0442\", \"\\u043c\\u0435\\u0436\\u043f\\u043b\\u0430\\u0442\\u043d\\u044b\\u0439\", \"\\u043c\\u0438\\u043a\\u0440\\u043e\\u043a\\u043e\\u043d\\u0442\\u0440\\u043e\\u043b\\u043b\\u0435\\u0440\", \"\\u043c\\u043e\\u043d\\u0441\\u0442\\u0440\\u043e\\u043e\\u0431\\u0440\\u0430\\u0437\\u043d\\u044b\\u0439\", \"\\u043c\\u043e\\u043d\\u0441\\u0442\\u0440\\u0443\\u043e\\u0437\\u043d\\u044b\\u0439\", \"\\u043d\\u0435\\u0431\\u0435\\u0437\\u044b\\u0437\\u0432\\u0435\\u0441\\u0442\\u043d\\u044b\\u0439\", \"\\u043e\\u043a\\u0435\\u0439\", \"\\u043e\\u0441\\u0435\\u0432\\u043e\\u0439\", \"\\u043e\\u0441\\u043d\\u0430\\u0449\\u0430\\u0442\\u044c\", \"\\u043f\\u0438\\u043d\\u043e\\u0432\\u044b\\u0439\", \"\\u043f\\u043e\\u0437\\u0438\\u0446\\u0438\\u043e\\u043d\\u0438\\u0440\\u043e\\u0432\\u0430\\u0442\\u044c\", \"\\u043f\\u043e\\u0440\\u0442\\u0430\\u0442\\u0438\\u0432\\u043d\\u043e\\u0441\\u0442\\u044c\", \"\\u043f\\u043e\\u0440\\u0442\\u0430\\u0442\\u0438\\u0432\\u043d\\u044b\\u0439\", \"\\u043f\\u043e\\u0441\\u0435\\u0440\\u0435\\u0434\\u0438\\u043d\\u0435\", \"\\u043f\\u0440\\u043e\\u0430\\u043f\\u0433\\u0440\\u0435\\u0439\\u0434\\u0438\\u043b\\u044c\", \"\\u0441\\u043b\\u043e\\u0442\", \"\\u043e\\u0437\\u0443\", \"\\u0440\\u0430\\u0437\\u044a\\u0435\\u043c\", \"\\u043f\\u0440\\u043e\\u0430\\u043f\\u0433\\u0440\\u0435\\u0439\\u0434\\u0438\\u0442\\u044c\", \"\\u0442\\u0435\\u0445\\u043f\\u0440\\u043e\\u0446\\u0435\\u0441\\u0441\", \"\\u0443\\u0441\\u043a\\u043e\\u0440\\u0438\\u0442\\u0435\\u043b\\u044c\", \"\\u0442\\u043e\\u043f\\u043e\\u0432\\u044b\\u0439\", \"\\u043f\\u0440\\u043e\\u0438\\u0437\\u0432\\u043e\\u0434\\u0438\\u0442\\u0435\\u043b\\u044c\", \"\\u0434\\u0438\\u0441\\u043f\\u043b\\u0435\\u0439\", \"\\u0430\\u043b\\u0438\\u044d\\u043a\\u0441\\u043f\\u0440\\u0435\\u0441\\u0441\", \"\\u0440\\u0430\\u0441\\u043f\\u0430\\u0438\\u0432\\u0430\\u0442\\u044c\", \"\\u043f\\u0440\\u043e\\u0434\\u0430\\u0432\\u0430\\u0442\\u044c\\u0441\\u044f\", \"\\u0431\\u0430\\u0442\\u0430\\u0440\\u0435\\u044f\", \"\\u043f\\u043e\\u0440\\u0442\", \"\\u043f\\u0440\\u043e\\u0438\\u0437\\u0432\\u043e\\u0434\\u0438\\u0442\\u0435\\u043b\\u044c\\u043d\\u044b\\u0439\", \"\\u0433\\u0433\\u0446\", \"\\u0434\\u0435\\u0432\\u0430\\u0439\\u0441\", \"\\u043f\\u043b\\u0430\\u0442\\u0430\", \"\\u0430\\u043b\\u044e\\u043c\\u0438\\u043d\\u0438\\u0435\\u0432\\u044b\\u0439\", \"\\u0430\\u043a\\u043a\\u0443\\u043c\\u0443\\u043b\\u044f\\u0442\\u043e\\u0440\", \"\\u0447\\u0438\\u043f\", \"\\u043d\\u043e\\u0443\\u0442\\u0431\\u0443\\u043a\", \"\\u043c\\u0430\\u0442\\u0435\\u0440\\u0438\\u043d\\u0441\\u043a\\u0438\\u0439\", \"\\u043f\\u0440\\u043e\\u0446\\u0435\\u0441\\u0441\\u043e\\u0440\", \"\\u043c\\u0438\\u043d\\u0438\", \"\\u043f\\u043e\\u0441\\u0442\\u0430\\u0432\\u043b\\u044f\\u0442\\u044c\\u0441\\u044f\", \"\\u0448\\u0430\\u0441\\u0441\\u0438\", \"\\u044f\\u0434\\u0435\\u0440\\u043d\\u044b\\u0439\", \"\\u043a\\u043e\\u043d\\u043d\\u0435\\u043a\\u0442\\u043e\\u0440\", \"\\u0441\\u0442\\u043e\\u0438\\u043c\\u043e\\u0441\\u0442\\u044c\", \"\\u043f\\u0440\\u043e\\u0434\\u0430\\u0436\\u0430\", \"\\u044f\\u0434\\u0440\\u043e\", \"\\u0431\\u0435\\u0441\\u043f\\u0440\\u043e\\u0432\\u043e\\u0434\\u043d\\u044b\\u0439\", \"\\u0430\\u0434\\u0430\\u043f\\u0442\\u0435\\u0440\", \"\\u0445\\u0430\\u0440\\u0430\\u043a\\u0442\\u0435\\u0440\\u0438\\u0441\\u0442\\u0438\\u043a\\u0430\", \"\\u0441\\u0438\\u0441\\u0442\\u0435\\u043c\\u0430\", \"\\u043f\\u043e\\u0434\\u0434\\u0435\\u0440\\u0436\\u0438\\u0432\\u0430\\u0442\\u044c\", \"\\u043f\\u0430\\u043c\\u044f\\u0442\\u044c\", \"\\u0441\\u0442\\u0430\\u043d\\u0446\\u0438\\u044f\", \"\\u043c\\u043e\\u0434\\u0443\\u043b\\u044c\", \"\\u043a\\u0430\\u0441\\u0430\\u0442\\u044c\\u0441\\u044f\", \"\\u0443\\u0441\\u0442\\u0440\\u043e\\u0439\\u0441\\u0442\\u0432\\u043e\", \"\\u043f\\u0438\\u0442\\u0430\\u043d\\u0438\\u0435\", \"\\u043a\\u043e\\u043c\\u043f\\u0430\\u043d\\u0438\\u044f\", \"\\u0433\\u043e\\u0434\", \"\\u0430\\u0433\\u0440\\u0435\\u0433\\u0438\\u0440\\u043e\\u0432\\u0430\\u043d\\u0438\\u0435\", \"\\u0430\\u0434\\u043c\\u0438\\u043d\", \"\\u0431\\u0435\\u0437\\u043e\\u0442\\u043a\\u0430\\u0437\\u043d\\u043e\\u0441\\u0442\\u044c\", \"\\u0431\\u0435\\u0437\\u043e\\u0442\\u043b\\u0430\\u0433\\u0430\\u0442\\u0435\\u043b\\u044c\\u043d\\u043e\", \"\\u0431\\u0438\\u0437\\u043d\\u0435\\u0441\\u043e\\u0432\", \"\\u0431\\u0440\\u0435\\u0434\\u043e\\u0432\\u043e\\u0439\", \"\\u0431\\u0443\\u0434\\u0435\", \"\\u0431\\u044d\\u043a\\u0430\\u043f\\u043b\\u0438\\u0432\\u0430\\u0442\\u044c\\u0441\\u044f\", \"\\u0432\\u0438\\u0437\\u0438\\u0443\\u0430\\u043b\\u0438\\u0437\\u0430\\u0446\\u0438\\u044f\", \"\\u0432\\u0438\\u0437\\u0443\\u0430\\u043b\\u0438\\u0437\\u0430\\u0446\\u0438\\u044f\\u0437\\u0430\\u0447\\u0435\\u043c\", \"\\u0432\\u0438\\u0437\\u0443\\u0430\\u043b\\u0438\\u0437\\u0438\\u0440\\u043e\\u0432\\u0430\\u0442\\u044c\", \"\\u0432\\u0441\\u044f\\u0447\\u0435\\u0441\\u043a\\u0438\\u0439\", \"\\u0434\\u0430\\u043d\\u043d\\u044b\\u0445\\u043c\\u043e\\u0434\\u0435\\u043b\\u044c\", \"\\u0434\\u0435\\u0432\\u043e\\u043f\\u0441\", \"\\u0434\\u0435\\u0433\\u0440\\u0430\\u0434\\u0438\\u0440\\u043e\\u0432\\u0430\\u0442\\u044c\", \"\\u0434\\u0435\\u0444\\u043e\\u043b\\u0442\", \"\\u0437\\u0430\\u043a\\u043e\\u043d\\u043d\\u044b\\u0439\", \"\\u0437\\u0430\\u043c\\u0435\\u0440\\u0438\\u0432\\u0430\\u0442\\u044c\", \"\\u0438\\u0441\\u0442\\u0438\\u043d\\u0430\", \"\\u0438\\u0441\\u0447\\u0438\\u0441\\u043b\\u044f\\u0442\\u044c\\u0441\\u044f\", \"\\u043a\\u0430\\u0440\\u0434\\u0438\\u043d\\u0430\\u043b\\u044c\\u043d\\u043e\\u0441\\u0442\\u044c\", \"\\u043a\\u0432\\u0430\\u043d\\u0442\\u0438\\u043b\\u0435\\u0439\", \"\\u043a\\u0432\\u0430\\u043d\\u0442\\u0438\\u043b\\u044c\", \"\\u043a\\u0432\\u0430\\u0440\\u0442\\u0438\\u043b\\u044c\", \"\\u043a\\u043b\\u0430\\u0441\\u0442\\u044c\", \"\\u043a\\u043e\\u0433\\u043d\\u0438\\u0442\\u0438\\u0432\\u043d\\u044b\\u0439\", \"\\u043a\\u043e\\u043c\\u043f\\u0435\\u043d\\u0441\\u0438\\u0440\\u043e\\u0432\\u0430\\u0442\\u044c\\u0441\\u044f\", \"\\u043a\\u043e\\u043d\\u0442\\u0435\\u0439\\u043d\\u0435\\u0440\\u0430\\u043c\\u0438\\u0434\\u043b\\u044f\", \"\\u043a\\u043e\\u043d\\u0447\\u0430\\u0442\\u044c\\u0441\\u044f\", \"\\u043b\\u043e\\u0433\\u0438\\u043d\\u043e\\u0432\", \"\\u043c\\u043e\\u043d\\u0438\\u0442\\u043e\\u0440\\u0438\\u043d\\u0433\", \"\\u0441\\u0431\\u043e\\u0440\", \"\\u043c\\u0435\\u0442\\u0440\\u0438\\u043a\\u0430\", \"\\u0430\\u043b\\u0435\\u0440\\u0442\", \"\\u0443\\u043a\\u043b\\u0430\\u0434\\u044b\\u0432\\u0430\\u0442\\u044c\\u0441\\u044f\", \"\\u0442\\u0440\\u0435\\u0439\\u0441\", \"\\u043e\\u0442\\u043b\\u0438\\u0447\\u0438\\u0442\\u0435\\u043b\\u044c\\u043d\\u044b\\u0439\", \"\\u043e\\u043f\\u043e\\u0432\\u0435\\u0449\\u0430\\u0442\\u044c\", \"\\u0442\\u0430\\u0440\\u0433\\u0435\\u0442\", \"\\u043c\\u0435\\u0442\\u043e\\u0434\\u0435\\u0441\\u043b\\u0438\", \"\\u043c\\u0435\\u0442\\u0440\\u0438\\u043a\\u0440\\u0430\\u0441\\u0441\\u043c\\u0430\\u0442\\u0440\\u0438\\u0432\\u0430\\u0442\\u044c\", \"\\u043e\\u0431\\u043e\\u0433\\u0430\\u0449\\u0430\\u0442\\u044c\", \"\\u0440\\u0435\\u0441\\u0443\\u0440\\u0441\\u043e\\u0441\\u0443\\u0449\\u0435\\u0441\\u0442\\u0432\\u043b\\u044f\\u0442\\u044c\", \"\\u0443\\u0442\\u0438\\u043b\\u0438\\u0437\\u0438\\u0440\\u043e\\u0432\\u0430\\u0442\\u044c\", \"\\u043d\\u0430\\u0441\\u044b\\u0449\\u0435\\u043d\\u0438\\u0435\", \"\\u043e\\u043f\\u043e\\u0432\\u0435\\u0449\\u0435\\u043d\\u0438\\u0435\", \"\\u0440\\u0430\\u0441\\u043f\\u0440\\u0435\\u0434\\u0435\\u043b\\u043d\\u043d\\u044b\\u0439\", \"\\u043c\\u043e\\u043d\\u0438\\u0442\\u043e\\u0440\\u044f\\u0442\\u044c\", \"\\u043a\\u0432\\u0430\\u043d\\u0442\\u0438\\u0442\\u044c\", \"\\u043c\\u0430\\u0441\\u0448\\u0442\\u0430\\u0431\\u0438\\u0440\\u043e\\u0432\\u0430\\u0442\\u044c\\u0441\\u044f\", \"\\u043b\\u0435\\u0439\\u0431\\u043b\\u0441\\u0435\\u0442\", \"\\u043d\\u0430\\u0431\\u043b\\u044e\\u0434\\u0430\\u0435\\u043c\\u043e\\u0441\\u0442\\u044c\", \"\\u043b\\u043e\\u0433\\u0438\\u0440\\u043e\\u0432\\u0430\\u043d\\u0438\\u0435\", \"\\u043e\\u0442\\u043a\\u043b\\u0438\\u043a\", \"\\u0434\\u0430\\u0448\\u0431\\u043e\\u0440\\u0434\", \"\\u0442\\u0440\\u0430\\u0441\\u0441\\u0438\\u0440\\u043e\\u0432\\u043a\\u0430\", \"\\u0432\\u0430\\u0441\\u044f\", \"\\u0434\\u0430\\u0442\\u0430\\u0446\\u0435\\u043d\\u0442\\u0440\", \"\\u0434\\u044b\\u0440\\u043a\\u0430\", \"\\u0442\\u0430\\u0439\\u043c\\u0438\\u043d\\u0433\", \"\\u0432\\u0438\\u0437\\u0443\\u0430\\u043b\\u0438\\u0437\\u0430\\u0446\\u0438\\u044f\", \"\\u0442\\u0440\\u0435\\u0439\\u0441\\u0438\\u043d\\u0433\", \"\\u0438\\u0434\\u0435\\u043d\\u0442\\u0438\\u0444\\u0438\\u0446\\u0438\\u0440\\u043e\\u0432\\u0430\\u0442\\u044c\\u0441\\u044f\", \"\\u0441\\u043e\\u0431\\u0438\\u0440\\u0430\\u0442\\u044c\", \"\\u0431\\u044b\\u0441\\u0442\\u0440\\u043e\\u0434\\u0435\\u0439\\u0441\\u0442\\u0432\\u0438\\u0435\", \"\\u043e\\u0442\\u043a\\u0440\\u044b\\u0432\\u0430\\u0442\\u044c\\u0441\\u044f\", \"\\u0431\\u043b\\u043e\\u043a\", \"\\u043f\\u0440\\u0438\\u043b\\u043e\\u0436\\u0435\\u043d\\u0438\\u0435\", \"\\u0438\\u0441\\u0442\\u043e\\u0447\\u043d\\u0438\\u043a\", \"\\u0437\\u0430\\u043f\\u0440\\u043e\\u0441\", \"\\u0441\\u0438\\u0441\\u0442\\u0435\\u043c\\u0430\", \"\\u043f\\u043e\\u0434\\u0445\\u043e\\u0434\", \"\\u0434\\u0430\\u043d\\u043d\\u044b\\u0435\", \"\\u0445\\u0440\\u0430\\u043d\\u0438\\u0442\\u044c\", \"\\u043d\\u0430\\u0431\\u043b\\u044e\\u0434\\u0435\\u043d\\u0438\\u0435\", \"\\u0433\\u0440\\u0430\\u0444\\u0438\\u043a\", \"\\u043f\\u0440\\u043e\\u0438\\u0437\\u0432\\u043e\\u0434\\u0438\\u0442\\u0435\\u043b\\u044c\\u043d\\u043e\\u0441\\u0442\\u044c\", \"\\u0440\\u0435\\u0441\\u0443\\u0440\\u0441\", \"\\u0441\\u0435\\u0440\\u0432\\u0438\\u0441\", \"\\u043c\\u0435\\u0442\\u043e\\u0434\", \"\\u043e\\u0448\\u0438\\u0431\\u043a\\u0430\", \"\\u0441\\u0445\\u0435\\u043c\\u0430\", \"\\u043f\\u0440\\u043e\\u0431\\u043b\\u0435\\u043c\\u0430\", \"\\u0440\\u044f\\u0434\", \"\\u043a\\u043e\\u043b\\u0438\\u0447\\u0435\\u0441\\u0442\\u0432\\u043e\", \"\\u043c\\u043e\\u0447\\u044c\", \"\\u0438\\u043d\\u0444\\u0440\\u0430\\u0441\\u0442\\u0440\\u0443\\u043a\\u0442\\u0443\\u0440\\u0430\", \"\\u0430\\u0432\\u0442\\u043e\\u0440\\u0438\\u0437\\u043e\\u0432\\u0430\\u0442\\u044c\", \"\\u0430\\u0432\\u0442\\u043e\\u0441\\u043a\\u0435\\u0439\\u043b\\u0438\\u043d\\u0433\", \"\\u0430\\u043c\\u0438\\u0440\", \"\\u0430\\u043d\\u043e\\u043d\\u0441\", \"\\u0430\\u0443\\u0442\\u0435\\u043d\\u0442\\u0438\\u0444\\u0438\\u043a\\u0430\\u0446\\u0438\\u044f\", \"\\u0431\\u0435\\u043a\\u0430\\u043f\", \"\\u0431\\u044d\\u043a\\u0434\\u043e\\u0440\\u044b\", \"\\u0432\\u0435\\u0434\\u0435\\u043d\\u0438\\u0435\", \"\\u0432\\u0437\\u043b\\u043e\\u043c\\u0430\\u0438\\u0437\", \"\\u0432\\u0440\\u0430\\u0449\\u0430\\u0442\\u044c\", \"\\u0432\\u044b\\u0432\\u043e\\u0434\\u0445\\u043e\\u0442\\u0438\\u0442\\u044c\", \"\\u0432\\u044b\\u0441\\u043e\\u043a\\u043e\\u043e\\u043f\\u043b\\u0430\\u0447\\u0438\\u0432\\u0430\\u0435\\u043c\\u044b\\u0439\", \"\\u0433\\u043e\\u0434\\u043e\\u0439\", \"\\u0433\\u0440\\u0430\\u043d\\u0442\", \"\\u0433\\u0440\\u0443\\u043f\\u043f\\u043e\\u0432\\u043e\\u0439\", \"\\u0437\\u0430\\u0440\\u0435\\u043a\\u043e\\u043c\\u0435\\u043d\\u0434\\u043e\\u0432\\u0430\\u0442\\u044c\", \"\\u0438\\u0437\\u0431\\u0435\\u0433\\u0430\\u043d\\u0438\\u0435\", \"\\u043a\\u0430\\u043c\\u043f\\u0443\\u0437\\u0430\\u0442\\u044c\", \"\\u043a\\u0430\\u0442\\u0430\\u0441\\u0442\\u0440\\u043e\\u0444\\u0438\\u0447\\u0435\\u0441\\u043a\\u0438\\u0439\", \"\\u043a\\u0430\\u0443\\u0448\\u0430\\u043d\\u0441\\u043a\\u0438\\u0439\", \"\\u043a\\u0438\\u0431\\u0435\\u0440\", \"\\u043a\\u043b\\u0430\\u0441\\u0442\\u0435\\u0440\\u043d\\u044b\\u0439\", \"\\u043a\\u043e\\u043c\\u043f\\u0440\\u043e\\u043c\\u0435\\u0442\\u0430\\u0446\\u0438\\u044f\", \"\\u043a\\u043e\\u043d\\u0442\\u0435\\u0439\\u043d\\u0435\\u0440\\u0438\\u0437\\u0438\\u0440\\u043e\\u0432\\u0430\\u043d\\u043d\\u044b\\u0439\", \"\\u043a\\u043e\\u043d\\u0444\\u0438\\u0434\\u0435\\u043d\\u0446\\u0438\\u0430\\u043b\\u044c\\u043d\\u044b\\u0439\", \"\\u043a\\u0443\\u0440\\u0430\\u0442\\u043e\\u0440\", \"\\u043a\\u0443\\u0440\\u0441\\u0432\\u0441\\u0435\\u043c\", \"\\u043b\\u0430\\u0437\\u0435\\u0439\\u043a\\u0430\", \"\\u043b\\u0435\\u0433\\u043a\\u0438\\u0439\", \"\\u043b\\u043e\\u0433\\u0430\\u043c\\u0438\\u0434\\u0440\\u0443\\u0433\\u043e\\u0439\", \"\\u0440\\u0435\\u0441\\u0443\\u0440\\u0441\\u043e\\u043e\\u0433\\u0440\\u0430\\u043d\\u0438\\u0447\\u0435\\u043d\\u043d\\u044b\\u0439\", \"\\u0445\\u0430\\u043a\\u0435\\u0440\", \"\\u0441\\u0443\\u0431\\u044a\\u0435\\u043a\\u0442\", \"\\u043a\\u043b\\u0430\\u0441\\u0442\\u0435\\u0440\", \"\\u0443\\u0433\\u043b\\u0443\\u0431\\u043b\\u0435\\u043d\\u043d\\u044b\\u0439\", \"\\u0444\\u0430\\u0435\\u0440\\u0432\\u043e\\u043b\", \"\\u0443\\u043f\\u0440\\u043e\\u0449\\u0435\\u043d\\u043d\\u044b\\u0439\", \"\\u043a\\u043e\\u043d\\u0441\\u044c\\u044e\\u043c\\u0435\\u0440\", \"\\u043f\\u0440\\u043e\\u0434\\u044c\\u044e\\u0441\\u0435\\u0440\", \"\\u043e\\u0431\\u0435\\u0437\\u043e\\u043f\\u0430\\u0441\\u0438\\u0442\\u044c\", \"\\u043d\\u0430\\u0441\\u044b\\u0449\\u0435\\u043d\\u043d\\u044b\\u0439\", \"\\u043e\\u0431\\u0443\\u0447\\u0435\\u043d\\u0438\\u044f\\u0432\\u0430\", \"\\u043f\\u043e\\u044d\\u043a\\u0441\\u043f\\u0435\\u0440\\u0438\\u043c\\u0435\\u043d\\u0442\\u0438\\u0440\\u043e\\u0432\\u0430\\u0442\\u044c\", \"\\u043f\\u0440\\u043e\\u0442\\u0435\\u0441\\u0442\\u0438\\u0440\\u043e\\u0432\\u0430\\u0442\\u044c\\u0441\\u044f\", \"\\u0441\\u043e\\u0434\\u0435\\u0439\\u0441\\u0442\\u0432\\u043e\\u0432\\u0430\\u0442\\u044c\", \"\\u0434\\u043e\\u0432\\u0435\\u0440\\u0435\\u043d\\u043d\\u044b\\u0439\", \"\\u0431\\u0440\\u043e\\u043a\\u0435\\u0440\", \"\\u0443\\u0437\\u0435\\u043b\", \"\\u043c\\u0435\\u0433\\u0430\", \"\\u043a\\u0430\\u0440\\u044c\\u0435\\u0440\\u043d\\u044b\\u0439\", \"\\u0443\\u0447\\u0435\\u0442\\u043d\\u044b\\u0439\", \"\\u0430\\u0443\\u0434\\u0438\\u0442\", \"\\u0441\\u0435\\u0440\\u0442\\u0438\\u0444\\u0438\\u043a\\u0430\\u0442\", \"\\u0430\\u0442\\u0430\\u043a\\u0430\", \"\\u0448\\u0438\\u0444\\u0440\\u043e\\u0432\\u0430\\u043d\\u0438\\u0435\", \"\\u0443\\u0433\\u043b\\u0443\\u0431\\u043b\\u044f\\u0442\\u044c\", \"\\u0431\\u0435\\u0437\\u043e\\u043f\\u0430\\u0441\\u043d\\u043e\\u0441\\u0442\\u044c\", \"\\u043a\\u043e\\u043d\\u0442\\u0435\\u0439\\u043d\\u0435\\u0440\", \"\\u043f\\u043e\\u0434\\u043f\\u0438\\u0441\\u044b\\u0432\\u0430\\u0442\\u044c\", \"\\u043f\\u0440\\u0438\\u0432\\u0438\\u043b\\u0435\\u0433\\u0438\\u044f\", \"\\u043c\\u0430\\u0441\\u0448\\u0442\\u0430\\u0431\\u0438\\u0440\\u043e\\u0432\\u0430\\u043d\\u0438\\u0435\", \"\\u0437\\u0430\\u0449\\u0438\\u0442\\u0430\", \"\\u0441\\u0440\\u0435\\u0434\\u0430\", \"\\u0443\\u0441\\u0442\\u0430\\u043d\\u043e\\u0432\\u043a\\u0430\", \"\\u043a\\u043b\\u044e\\u0447\", \"\\u0441\\u0435\\u0440\\u0442\\u0438\\u0444\\u0438\\u043a\\u0430\\u0446\\u0438\\u044f\", \"\\u0437\\u0430\\u043f\\u0443\\u0441\\u043a\\u0430\\u0442\\u044c\", \"\\u0434\\u043e\\u0441\\u0442\\u0443\\u043f\", \"\\u0437\\u0430\\u043f\\u0443\\u0441\\u043a\", \"\\u043a\\u043e\\u043c\\u0430\\u043d\\u0434\\u0430\", \"\\u043c\\u0430\\u0448\\u0438\\u043d\\u0430\", \"\\u0440\\u0435\\u0441\\u0443\\u0440\\u0441\", \"\\u0437\\u043b\\u043e\\u0443\\u043c\\u044b\\u0448\\u043b\\u0435\\u043d\\u043d\\u0438\\u043a\", \"\\u043d\\u0430\\u0441\\u0442\\u0440\\u043e\\u0439\\u043a\\u0430\", \"\\u0444\\u0430\\u0439\\u043b\", \"\\u043c\\u0435\\u0445\\u0430\\u043d\\u0438\\u0437\\u043c\", \"\\u043f\\u0440\\u0438\\u043b\\u043e\\u0436\\u0435\\u043d\\u0438\\u0435\", \"\\u043f\\u043e\\u043b\\u044c\\u0437\\u043e\\u0432\\u0430\\u0442\\u0435\\u043b\\u044c\", \"\\u0437\\u043d\\u0430\\u043d\\u0438\\u0435\", \"\\u043c\\u043e\\u0447\\u044c\", \"\\u043e\\u0448\\u0438\\u0431\\u043a\\u0430\", \"\\u043f\\u0440\\u043e\\u0446\\u0435\\u0441\\u0441\", \"\\u0438\\u0441\\u043f\\u043e\\u043b\\u044c\\u0437\\u043e\\u0432\\u0430\\u0442\\u044c\", \"\\u043a\\u043e\\u043d\\u0444\\u0438\\u0433\\u0443\\u0440\\u0430\\u0446\\u0438\\u044f\", \"\\u0441\\u0435\\u0440\\u0432\\u0435\\u0440\", \"\\u0438\\u043d\\u0444\\u0440\\u0430\\u0441\\u0442\\u0440\\u0443\\u043a\\u0442\\u0443\\u0440\\u0430\", \"\\u0430\\u0433\\u0440\\u0435\\u0441\\u0441\\u0438\\u0432\\u043d\\u044b\\u0439\", \"\\u0430\\u043a\\u0432\\u0430\\u043b\\u0430\\u043d\\u0433\", \"\\u0430\\u043b\\u044c\\u0431\\u043e\\u043c\", \"\\u0430\\u043b\\u044c\\u0442\\u0435\\u0440\", \"\\u0430\\u043d\\u0442\\u0438\\u0442\\u0435\\u0440\\u0440\\u043e\\u0440\\u0438\\u0441\\u0442\\u0438\\u0447\\u0435\\u0441\\u043a\\u0438\\u0439\", \"\\u0430\\u0442\\u043c\\u043e\\u0441\\u0444\\u0435\\u0440\\u0430\", \"\\u0430\\u0444\\u0438\\u0448\\u0430\", \"\\u0430\\u0447\\u0438\\u0432\\u043a\\u0438\", \"\\u0431\\u0430\\u043b\\u043b\\u0438\\u0441\\u0442\\u0438\\u0447\\u0435\\u0441\\u043a\\u0438\\u0439\", \"\\u0431\\u0430\\u0440\\u0440\\u0438\\u043a\\u0430\\u0434\\u0430\", \"\\u0431\\u0435\\u0433\", \"\\u0431\\u0435\\u0437\\u043c\\u043e\\u043b\\u0432\\u043d\\u044b\\u0439\", \"\\u0431\\u0435\\u0437\\u044b\\u0441\\u0445\\u043e\\u0434\\u043d\\u043e\\u0441\\u0442\\u044c\", \"\\u0431\\u0438\\u043e\\u043c\\u043e\\u0434\", \"\\u0431\\u043e\\u0439\", \"\\u0431\\u043e\\u043b\\u0432\\u0430\\u043d\\u0447\\u0438\\u043a\", \"\\u0431\\u0443\\u043d\\u0442\", \"\\u0431\\u0443\\u0448\\u0435\\u0432\\u0430\\u0442\\u044c\", \"\\u0432\\u0430\\u043a\\u0446\\u0438\\u043d\\u0430\", \"\\u0432\\u0435\\u0437\\u0443\\u0447\\u0438\\u0439\", \"\\u0432\\u0437\\u0430\\u0438\\u043c\\u043e\\u0437\\u0430\\u043c\\u0435\\u043d\\u044f\\u0435\\u043c\\u044b\\u0439\", \"\\u0432\\u0437\\u043b\\u0430\\u043c\\u044b\\u0432\\u0430\\u0442\\u044c\", \"\\u0432\\u043b\\u0430\\u0441\\u0442\\u044c\", \"\\u0432\\u043e\\u0437\\u043d\\u0430\\u0433\\u0440\\u0430\\u0436\\u0434\\u0430\\u0442\\u044c\", \"\\u0432\\u043e\\u043b\\u044c\\u043d\\u044b\\u0439\", \"\\u0432\\u043e\\u043f\\u0440\\u043e\\u0441\\u0438\\u043a\", \"\\u0432\\u043e\\u0441\\u0441\\u0442\\u0430\\u043d\\u0438\\u0435\", \"\\u0432\\u0440\\u0430\\u0433\", \"\\u0432\\u0440\\u0430\\u0442\\u044c\", \"\\u0432\\u0441\\u0435\\u043d\", \"\\u0438\\u0433\\u0440\\u0430\", \"\\u043f\\u0435\\u0440\\u0441\\u043e\\u043d\\u0430\\u0436\", \"\\u0438\\u0433\\u0440\\u043e\\u043a\", \"\\u043e\\u0440\\u0443\\u0436\\u0438\\u0435\", \"\\u0433\\u0435\\u0439\\u043c\\u043f\\u043b\\u0438\", \"\\u0433\\u0435\\u0439\\u043c\\u0435\\u0440\", \"\\u0440\\u043e\\u043b\\u0435\\u0432\\u043e\\u0439\", \"\\u0433\\u0435\\u0440\\u043e\\u0439\", \"\\u0444\\u0430\\u043d\\u0430\\u0442\", \"\\u043c\\u0435\\u0445\\u0430\\u043d\\u0438\\u043a\\u0430\", \"\\u0440\\u0435\\u043c\\u0430\\u0441\\u0442\\u0435\\u0440\", \"\\u043c\\u043e\\u0434\\u0430\", \"\\u0440\\u0430\\u0441\\u0441\\u0443\\u0436\\u0434\\u0435\\u043d\\u0438\\u0435\", \"\\u0433\\u0435\\u0439\\u043c\\u043f\\u043b\\u0435\\u0439\\u043d\\u044b\\u0439\", \"\\u043c\\u0443\\u043b\\u044c\\u0442\\u0438\\u043f\\u043b\\u0435\\u0435\\u0440\", \"\\u0441\\u0430\\u0443\\u043d\\u0434\\u0442\\u0440\\u0435\\u043a\", \"\\u043c\\u0435\\u0442\\u043a\\u043e\\u0441\\u0442\\u044c\", \"\\u0431\\u043e\\u0441\\u0441\", \"\\u0442\\u0435\\u0440\\u0440\\u043e\\u0440\\u0438\\u0441\\u0442\", \"\\u0432\\u0430\\u043b\\u044e\\u0442\\u0430\", \"\\u0432\\u043d\\u0443\\u0442\\u0440\\u0438\\u0438\\u0433\\u0440\\u043e\\u0432\\u043e\\u0439\", \"\\u0438\\u043d\\u0442\\u0435\\u0440\\u0430\\u043a\\u0442\\u0438\\u0432\\u043d\\u043e\\u0441\\u0442\\u044c\", \"\\u0434\\u0443\\u0448\\u0435\\u0432\\u043d\\u044b\\u0439\", \"\\u0433\\u0435\\u0439\\u043c\\u0434\\u0435\\u0432\", \"\\u0443\\u0432\\u043b\\u0435\\u043a\\u0430\\u0442\\u0435\\u043b\\u044c\\u043d\\u044b\\u0439\", \"\\u0438\\u0437\\u0434\\u0430\\u0442\\u0435\\u043b\\u044c\", \"\\u0441\\u0435\\u0440\\u044b\\u0439\", \"\\u0441\\u0442\\u0443\\u0434\\u0438\\u044f\", \"\\u0432\\u044b\\u0440\\u0435\\u0437\\u0430\\u0442\\u044c\", \"\\u0438\\u0433\\u0440\\u043e\\u0432\\u043e\\u0439\", \"\\u0438\\u0433\\u0440\\u0430\\u0442\\u044c\", \"\\u043b\\u0435\\u0432\\u0438\\u043d\", \"\\u0443\\u0431\\u0438\\u0432\\u0430\\u0442\\u044c\", \"\\u044d\\u043b\\u0438\\u0437\\u0430\\u0431\\u0435\\u0442\", \"\\u0437\\u0430\\u0442\\u044f\\u0433\\u0438\\u0432\\u0430\\u0442\\u044c\", \"\\u043a\\u0435\\u043d\", \"\\u0441\\u044e\\u0436\\u0435\\u0442\", \"\\u043c\\u0438\\u0440\", \"\\u0438\\u043d\\u0434\\u0443\\u0441\\u0442\\u0440\\u0438\\u044f\", \"\\u043f\\u0440\\u0435\\u0434\\u043c\\u0435\\u0442\", \"\\u0447\\u0430\\u0441\\u0442\\u044c\", \"\\u043f\\u0440\\u043e\\u043a\\u0430\\u0447\\u0438\\u0432\\u0430\\u0442\\u044c\", \"\\u043e\\u0431\\u0437\\u043e\\u0440\", \"\\u0433\\u043e\\u0434\", \"\\u043e\\u0433\\u0440\\u043e\\u043c\\u043d\\u044b\\u0439\", \"\\u043a\\u0430\\u0436\\u0434\\u044b\\u0439\", \"\\u0441\\u043e\\u0432\\u0440\\u0435\\u043c\\u0435\\u043d\\u043d\\u044b\\u0439\", \"\\u0432\\u0435\\u0441\\u044c\", \"\\u043d\\u0430\\u0432\\u044b\\u043a\", \"\\u043c\\u043e\\u0447\\u044c\", \"\\u0447\\u0435\\u043b\\u043e\\u0432\\u0435\\u043a\", \"\\u043f\\u0435\\u0440\\u0432\\u044b\\u0439\", \"\\u0430\\u043b\\u0438\\u0441\\u043e\\u0432\\u0430\", \"\\u0430\\u043f\\u0433\\u0440\\u0435\\u0439\\u0434\", \"\\u0430\\u043f\\u0433\\u0440\\u0435\\u0445\\u043e\\u0434\\u0438\\u0442\\u044c\", \"\\u0430\\u043f\\u043b\\u0438\\u043d\\u043a\\u0430\", \"\\u0430\\u0442\\u0442\\u0435\\u0441\\u0442\\u043e\\u0432\\u0430\\u0442\\u044c\", \"\\u0430\\u0443\\u0434\\u0438\\u043e\\u043a\\u0430\\u0431\\u0435\\u043b\\u044c\", \"\\u0430\\u0443\\u0434\\u0438\\u043e\\u0440\\u0430\\u0437\\u044a\\u043c\", \"\\u0431\\u0430\\u043b\\u043b\\u043e\\u043d\", \"\\u0431\\u043b\\u044c\\u0448\\u043e\\u0439\", \"\\u0431\\u043e\\u0439\\u043b\\u0435\\u0440\", \"\\u0431\\u043e\\u043b\\u0435\\u0432\\u043e\\u0439\", \"\\u0431\\u0443\\u0434\\u0438\\u0442\\u044c\", \"\\u0431\\u044b\\u0442\\u043e\\u0432\\u0430\\u0442\\u044c\", \"\\u0432\\u0430\\u0437\\u0430\", \"\\u0432\\u0435\\u0440\\u0441\\u0442\\u043a\\u0430\", \"\\u0432\\u0437\\u0430\\u0438\\u043c\\u043e\\u0432\\u044b\\u0433\\u043e\\u0434\\u043d\\u044b\\u0439\", \"\\u0432\\u043b\\u0430\\u0441\\u0442\\u0432\\u043e\\u0432\\u0430\\u0442\\u044c\", \"\\u0432\\u043e\\u0434\\u043e\\u0441\\u043d\\u0430\\u0431\\u0436\\u0435\\u043d\\u0438\\u0435\", \"\\u0432\\u043e\\u0437\\u043d\\u0430\\u0433\\u0440\\u0430\\u0436\\u0434\\u0435\\u043d\\u0438\\u0435\", \"\\u0432\\u043e\\u0441\\u0442\\u043e\\u0447\\u043d\\u044b\\u0439\", \"\\u0432\\u044b\\u0431\\u0438\\u0432\\u0430\\u0442\\u044c\\u0441\\u044f\", \"\\u0433\\u0430\\u0440\\u0444\\u0438\\u043b\\u0434\", \"\\u0433\\u0435\\u0439\\u043c\\u0438\\u0444\\u0438\\u0446\\u0438\\u0440\\u043e\\u0432\\u0430\\u0442\\u044c\", \"\\u0433\\u0438\\u043f\\u0435\\u0440\\u0441\\u043f\\u0435\\u0439\\u0441\", \"\\u0433\\u043e\\u0440\\u043e\\u0434\\u0441\\u043a\\u043e\\u0439\", \"\\u0434\\u0430\\u043d\\u0438\\u044f\", \"\\u0434\\u0438\\u0430\\u043c\\u0435\\u0442\\u0440\", \"\\u0434\\u043d\\u0435\\u0432\\u043d\\u0438\\u043a\\u043e\\u0432\\u044b\\u0439\", \"\\u0434\\u0440\\u043e\\u043f\\u0430\\u0442\\u044c\", \"\\u0436\\u0438\\u0434\\u043a\\u043e\\u0441\\u0442\\u043d\\u044b\\u0439\", \"\\u043a\\u043e\\u043c\\u043c\\u0443\\u0442\\u0430\\u0442\\u043e\\u0440\", \"\\u0438\\u043d\\u0441\\u0442\\u0430\\u043b\\u043b\\u044f\\u0446\\u0438\\u044f\", \"\\u043a\\u043e\\u043d\\u0444\\u0438\\u0433\\u0443\\u0440\\u0430\\u0442\\u043e\\u0440\", \"\\u043e\\u0431\\u043e\\u0433\\u0440\\u0435\\u0432\", \"\\u0441\\u0442\\u043e\\u0439\\u043a\\u0430\", \"\\u0431\\u0430\\u0441\\u0441\\u0435\\u0439\\u043d\", \"\\u0444\\u0438\\u0434\\u0431\\u0435\\u043a\", \"\\u043f\\u043b\\u0430\\u0432\\u0430\\u0442\\u044c\", \"\\u043a\\u0432\\u0430\\u0440\\u0442\\u0438\\u0440\\u0430\", \"\\u043c\\u0430\\u0440\\u0448\\u0440\\u0443\\u0442\\u0438\\u0437\\u0430\\u0442\\u043e\\u0440\", \"\\u0446\\u043e\\u0434\", \"\\u043a\\u043e\\u043c\\u043f\\u043b\\u0435\\u043a\\u0442\\u0443\\u044e\\u0449\\u0438\\u0439\", \"\\u043d\\u0430\\u0433\\u0440\\u0435\\u0432\\u0430\\u0442\\u044c\", \"\\u043f\\u043e\\u0434\\u043e\\u0433\\u0440\\u0435\\u0432\\u0430\\u0442\\u044c\", \"\\u0442\\u0435\\u043f\\u043b\\u043e\\u0432\\u043e\\u0439\", \"\\u044d\\u043b\\u0435\\u043a\\u0442\\u0440\\u043e\\u044d\\u043d\\u0435\\u0440\\u0433\\u0438\\u044f\", \"\\u0442\\u0438\\u043a\\u0435\\u0442\", \"\\u0440\\u0435\\u0431\\u0440\\u0435\\u043d\\u0434\\u0438\\u043d\\u0433\", \"\\u0440\\u043e\\u0434\\u0438\\u0442\\u044c\\u0441\\u044f\", \"\\u0441\\u043a\\u0430\\u043b\\u0438\\u0440\\u0443\\u0435\\u043c\\u043e\\u0441\\u0442\\u044c\", \"\\u043a\\u043e\\u043d\\u0432\\u0435\\u043a\\u0446\\u0438\\u044f\", \"\\u043f\\u043e\\u0434\\u043e\\u0433\\u0440\\u0435\\u0432\", \"\\u0442\\u0435\\u043f\\u043b\\u043e\\u043e\\u0431\\u043c\\u0435\\u043d\\u043d\\u0438\\u043a\", \"\\u043c\\u0443\\u043b\\u044c\\u0442\\u0438\\u0432\\u0435\\u043d\\u0434\\u043e\\u0440\\u043d\\u043e\\u0441\\u0442\\u044c\", \"\\u043f\\u0440\\u043e\\u0441\\u043b\\u043e\\u0439\\u043a\\u0430\", \"\\u0437\\u0438\\u043c\\u043d\\u0438\\u0439\", \"\\u043a\\u0432\\u0442\\u0447\", \"\\u043f\\u043e\\u0434\\u0430\\u0432\\u043b\\u0435\\u043d\\u0438\\u0435\", \"\\u0448\\u0438\\u0440\\u043e\\u043a\\u043e\\u0432\\u0435\\u0449\\u0430\\u0442\\u0435\\u043b\\u044c\\u043d\\u044b\\u0439\", \"\\u0432\\u043e\\u0434\\u0430\", \"\\u0438\\u0437\\u043b\\u0443\\u0447\\u0435\\u043d\\u0438\\u0435\", \"\\u043f\\u0443\\u0431\\u043b\\u0438\\u0447\\u043d\\u044b\\u0439\", \"\\u043a\\u0430\\u043d\\u0430\\u043b\\u044c\\u043d\\u044b\\u0439\", \"\\u0442\\u043e\\u043d\\u043d\\u0435\\u043b\\u044c\", \"\\u0444\\u0438\\u043a\\u0441\\u0438\\u0440\\u043e\\u0432\\u0430\\u043d\\u043d\\u044b\\u0439\", \"\\u0441\\u0435\\u0440\\u0432\\u0435\\u0440\", \"\\u0432\\u044b\\u0434\\u0435\\u043b\\u044f\\u0442\\u044c\", \"\\u043a\\u043b\\u0438\\u0435\\u043d\\u0442\", \"\\u0432\\u043e\\u0437\\u0434\\u0443\\u0445\", \"\\u0430\\u0434\\u0440\\u0435\\u0441\", \"\\u0441\\u0435\\u0442\\u044c\", \"\\u0442\\u0440\\u0430\\u043d\\u0441\\u0442\\u0435\\u043b\\u0435\\u043a\\u043e\\u043c\", \"\\u0442\\u0435\\u043f\\u043b\\u043e\", \"\\u0432\\u0435\\u043d\\u0442\\u0438\\u043b\\u044f\\u0442\\u043e\\u0440\", \"\\u0438\\u0441\\u0441\\u043b\\u0435\\u0434\\u043e\\u0432\\u0430\\u043d\\u0438\\u0435\", \"\\u0442\\u0440\\u0430\\u0444\\u0438\\u043a\", \"\\u0432\\u0438\\u0440\\u0442\\u0443\\u0430\\u043b\\u044c\\u043d\\u044b\\u0439\", \"\\u0441\\u0435\\u0442\\u0435\\u0432\\u043e\\u0439\", \"\\u043e\\u0431\\u043e\\u0440\\u0443\\u0434\\u043e\\u0432\\u0430\\u043d\\u0438\\u0435\", \"\\u0446\\u0435\\u043d\\u0442\\u0440\", \"\\u043a\\u0430\\u0437\\u0430\\u0445\\u0441\\u0442\\u0430\\u043d\", \"\\u0443\\u0440\\u043e\\u0432\\u0435\\u043d\\u044c\", \"\\u0434\\u043e\\u0441\\u0442\\u0443\\u043f\", \"\\u043a\\u043e\\u0440\\u043f\\u0443\\u0441\", \"\\u043f\\u0440\\u043e\\u0432\\u043e\\u0434\\u0438\\u0442\\u044c\", \"\\u043e\\u0431\\u043b\\u0430\\u043a\\u043e\", \"\\u043a\\u043e\\u043d\\u0444\\u0438\\u0433\\u0443\\u0440\\u0430\\u0446\\u0438\\u044f\", \"\\u043f\\u0440\\u0438\\u043b\\u043e\\u0436\\u0435\\u043d\\u0438\\u0435\", \"\\u043e\\u0431\\u043b\\u0430\\u0447\\u043d\\u044b\\u0439\", \"\\u043f\\u043e\\u043b\\u044c\\u0437\\u043e\\u0432\\u0430\\u0442\\u0435\\u043b\\u044c\", \"\\u043c\\u043e\\u0447\\u044c\", \"\\u0447\\u0430\\u0441\\u0442\\u043e\\u0442\\u0430\", \"\\u043f\\u0440\\u043e\\u0446\\u0435\\u0441\\u0441\\u043e\\u0440\", \"\\u0443\\u0441\\u0442\\u0440\\u043e\\u0439\\u0441\\u0442\\u0432\\u043e\", \"\\u0437\\u0430\\u043c\\u0435\\u0449\\u0430\\u0442\\u044c\", \"\\u043a\\u043e\\u043d\\u0432\\u0435\\u0440\\u0442\\u0430\\u0446\\u0438\\u044f\", \"\\u043f\\u0430\\u043a\\u0435\\u0442\", \"\\u043f\\u0430\\u043a\\u0435\\u0442\\u043d\\u044b\\u0439\", \"\\u043f\\u043e\\u0434\\u043f\\u0440\\u043e\\u0433\\u0440\\u0430\\u043c\\u043c\\u0430\", \"\\u043f\\u0440\\u0430\\u0433\\u043c\\u0430\", \"\\u0440\\u0438\\u0441\", \"\\u0432\\u0432\\u0435\\u0434\\u0435\\u043d\\u0438\\u0435\\u043e\\u0434\\u0438\\u043d\", \"\\u0432\\u0445\\u043e\\u0434\\u044f\\u0449\\u0438\\u0439\", \"\\u0432\\u044b\\u0437\\u044b\\u0432\\u0430\\u044e\\u0449\\u0438\\u0439\", \"\\u0432\\u044b\\u043f\\u043e\\u043b\\u043d\\u044f\\u0435\\u0442\\u044f\", \"\\u0433\\u0435\\u0442\\u0442\\u0435\\u0440\", \"\\u0435\\u043a\\u0446\\u0438\\u044f\", \"\\u0437\\u0430\\u043a\\u043b\\u044e\\u0447\\u0435\\u043d\\u0438\\u0435\\u043f\\u043e\\u0434\\u0434\\u0435\\u0440\\u0436\\u043a\\u0430\", \"\\u0438\\u043c\\u043f\\u043e\\u0440\\u0442\\u0438\\u0440\\u043e\\u0432\\u0430\\u043d\\u0438\\u0435\", \"\\u0438\\u043c\\u043f\\u043e\\u0440\\u0442\\u0438\\u0440\\u043e\\u0432\\u0430\\u0442\\u044c\\u0441\\u044f\", \"\\u0438\\u043d\\u0442\\u0435\\u0440\\u043f\\u0440\\u0435\\u0442\\u0430\\u0442\\u043e\\u0440\", \"\\u043a\\u0432\\u0430\\u043b\\u0438\\u0444\\u0438\\u043a\\u0430\\u0442\\u043e\\u0440\", \"\\u043a\\u043e\\u043c\\u043f\\u043e\\u0437\\u0438\\u0442\\u043d\\u044b\\u0439\", \"\\u043b\\u0430\\u0442\\u0447\", \"\\u043b\\u0435\\u0434\\u043e\\u0432\\u0430\\u0442\\u044c\", \"\\u043d\\u0430\\u0433\\u043b\\u044f\\u0434\\u043d\\u043e\\u0441\\u0442\\u044c\", \"\\u043d\\u0435\\u0434\\u0435\\u043b\\u0438\\u043c\\u044b\\u0439\", \"\\u043d\\u0435\\u0434\\u0435\\u0441\\u0442\\u0440\\u0443\\u043a\\u0442\\u0438\\u0432\\u043d\\u044b\\u0439\", \"\\u043d\\u0435\\u043a\\u0432\\u0430\\u043b\\u0438\\u0444\\u0438\\u0446\\u0438\\u0440\\u043e\\u0432\\u0430\\u043d\\u043d\\u044b\\u0439\", \"\\u043d\\u0435\\u0440\\u0430\\u0431\\u043e\\u0442\\u043e\\u0441\\u043f\\u043e\\u0441\\u043e\\u0431\\u043d\\u044b\\u0439\", \"\\u043e\\u0431\\u0435\\u0441\\u043f\\u0435\\u0447\\u0438\\u0432\\u0430\\u0442\\u044c\\u0441\\u044f\", \"\\u043e\\u043f\\u0435\\u0440\\u0430\\u0442\\u043e\", \"\\u043e\\u043f\\u0443\\u0441\\u043a\\u0430\\u0442\\u044c\\u0441\\u044f\", \"\\u043f\\u0435\\u0440\\u0435\\u043e\\u0442\\u043a\\u0440\\u044b\\u0442\\u0438\\u0435\", \"\\u0448\\u0440\\u0438\\u0444\\u0442\", \"\\u0441\\u0443\\u0431\\u0434\", \"\\u0432\\u043d\\u0443\\u0442\\u0440\\u0438\\u043a\\u043e\\u0440\\u043f\\u043e\\u0440\\u0430\\u0442\\u0438\\u0432\\u043d\\u044b\\u0439\", \"\\u043d\\u0430\\u0442\\u043a\\u043d\\u0443\\u0442\\u044c\\u0441\\u044f\", \"\\u043d\\u0435\\u0440\\u0432\", \"\\u043e\\u0446\\u0438\\u0444\\u0440\\u043e\\u0432\\u043a\\u0430\", \"\\u043f\\u043e\\u0434\\u0432\\u043e\\u0434\\u043d\\u043e\\u0439\", \"\\u0440\\u0435\\u043a\\u0443\\u0440\\u0441\\u0438\\u0432\\u043d\\u043e\", \"\\u0441\\u043b\\u0435\\u0448\", \"\\u0441\\u043e\\u043b\\u044e\\u0448\\u0435\\u043d\\u044c\", \"\\u0445\\u0430\\u0440\\u0434\\u043a\\u043e\\u0434\", \"\\u043f\\u0435\\u0440\\u0435\\u0447\\u0438\\u0441\\u043b\\u044f\\u0442\\u044c\\u0441\\u044f\", \"\\u043f\\u043e\\u0434\\u043a\\u043e\\u043c\\u0430\\u043d\\u0434\\u0430\", \"\\u0441\\u0435\\u0441\\u0441\\u0438\\u044f\", \"\\u043f\\u0430\\u043f\\u043a\\u0430\", \"\\u043f\\u0440\\u043e\\u0446\\u0435\\u0434\\u0443\\u0440\\u0430\", \"\\u0438\\u043d\\u0438\\u0446\\u0438\\u0430\\u043b\\u0438\\u0437\\u0430\\u0446\\u0438\\u044f\", \"\\u043e\\u0448\\u0438\\u0431\\u043e\\u0447\\u043d\\u044b\\u0439\", \"\\u0448\\u0443\\u043c\\u043e\\u043f\\u043e\\u0434\\u0430\\u0432\\u043b\\u0435\\u043d\\u0438\\u0435\", \"\\u0437\\u0432\\u043e\\u043d\\u043e\\u043a\", \"\\u0437\\u0432\\u0443\\u043a\", \"\\u0441\\u0431\\u043e\\u0440\\u043a\\u0430\", \"\\u0441\\u0438\\u0433\\u043d\\u0430\\u043b\", \"\\u0431\\u0435\\u0437\\u0440\\u0435\\u0444\\u0435\\u0440\\u0435\\u043d\\u0441\\u043d\\u044b\\u0439\", \"\\u0438\\u0441\\u043a\\u0430\\u0436\\u043d\\u043d\\u044b\\u0439\", \"\\u043f\\u0435\\u0434\\u0430\\u043b\\u044c\", \"\\u0441\\u0445\\u0435\\u043c\\u0430\", \"\\u0438\\u0437\\u043c\\u0435\\u0440\\u0435\\u043d\\u0438\\u0435\", \"\\u0440\\u0435\\u0444\\u0435\\u0440\\u0435\\u043d\\u0441\\u043d\\u044b\\u0439\", \"\\u043f\\u0435\\u0440\\u0435\\u0434\\u0430\\u0442\\u0447\\u0438\\u043a\", \"\\u043f\\u0435\\u0440\\u0435\\u043c\\u0435\\u043d\\u043d\\u044b\\u0439\", \"\\u0431\\u0430\\u0442\\u0430\\u0440\\u0435\\u0439\\u043a\\u0430\", \"\\u0433\\u043b\\u043e\\u0431\\u0430\\u043b\\u044c\\u043d\\u044b\\u0439\", \"\\u0440\\u0430\\u0441\\u0442\\u0435\\u043d\\u0438\\u0435\", \"\\u0447\\u0430\\u0441\\u0442\\u043e\\u0442\\u043d\\u044b\\u0439\", \"\\u0434\\u0438\\u043d\\u0430\\u043c\\u0438\\u043a\", \"\\u0442\\u0440\\u0438\\u0433\\u0433\\u0435\\u0440\", \"\\u0444\\u0430\\u0439\\u043b\", \"\\u0432\\u044b\\u0445\\u043e\\u0434\\u043d\\u043e\\u0439\", \"\\u043f\\u0440\\u043e\\u0435\\u043a\\u0442\", \"\\u0442\\u0435\\u0433\", \"\\u0444\\u0443\\u043d\\u043a\\u0446\\u0438\\u044f\", \"\\u043a\\u0430\\u0447\\u0435\\u0441\\u0442\\u0432\\u043e\", \"\\u043e\\u0446\\u0435\\u043d\\u043a\\u0430\", \"\\u043c\\u043e\\u0434\\u0438\\u0444\\u0438\\u043a\\u0430\\u0442\\u043e\\u0440\", \"\\u043a\\u043e\\u043c\\u0430\\u043d\\u0434\\u0430\", \"\\u043f\\u0435\\u0440\\u0435\\u0434\\u0430\\u0447\\u0430\", \"\\u044d\\u043b\\u0435\\u043c\\u0435\\u043d\\u0442\", \"\\u043e\\u0448\\u0438\\u0431\\u043a\\u0430\", \"\\u0442\\u0435\\u043b\\u043e\", \"\\u0438\\u043c\\u044f\", \"\\u0433\\u0440\\u044f\\u0437\\u043d\\u044b\\u0439\", \"\\u0444\\u0430\\u0439\\u043b\\u043e\\u0432\\u044b\\u0439\", \"\\u0430\\u043d\\u043d\\u0443\\u043b\\u0438\\u0440\\u043e\\u0432\\u0430\\u043d\\u0438\\u0435\", \"\\u0431\\u043b\\u043e\\u0433\\u0433\\u0435\\u0440\", \"\\u0431\\u044b\\u0432\\u0430\\u044e\\u0442\\u0438\\u0442\\u0430\\u043a\", \"\\u0434\\u0430\\u0442\\u0438\\u0440\\u043e\\u0432\\u0430\\u0442\\u044c\", \"\\u0434\\u0435\\u0430\\u043a\\u0442\\u0438\\u0432\\u0438\\u0440\\u043e\\u0432\\u0430\\u0442\\u044c\", \"\\u0434\\u0435\\u0433\\u043e\\u0442\\u044c\", \"\\u0434\\u0435\\u0439\\u0441\\u0442\\u0432\\u0438\\u0442\\u0435\\u043b\\u044c\\u043d\\u044b\\u0439\", \"\\u0437\\u0430\\u043f\\u0430\\u0441\\u043d\\u043e\\u0439\", \"\\u0437\\u0430\\u043f\\u0430\\u0441\\u043d\\u044b\\u0439\", \"\\u0437\\u0430\\u044f\\u0432\\u043b\\u0435\\u043d\\u0438\\u0435\", \"\\u0437\\u0435\\u0440\\u043a\\u0430\\u043b\\u0438\\u0440\\u043e\\u0432\\u0430\\u043d\\u0438\\u0435\", \"\\u0437\\u0435\\u0440\\u043a\\u0430\\u043b\\u044c\\u043d\\u044b\\u0439\", \"\\u043a\\u043e\\u043d\\u0442\\u0435\\u0439\\u043d\\u0435\\u0440\\u0438\\u0437\\u0430\\u0446\\u0438\\u044f\", \"\\u043a\\u044d\\u0448\\u0438\\u0440\\u043e\\u0432\\u0430\\u043d\\u0438\\u0435\", \"\\u043a\\u044d\\u0448\\u0438\\u0440\\u043e\\u0432\\u0430\\u0442\\u044c\", \"\\u043a\\u044d\\u0448\\u0438\\u0440\\u043e\\u0432\\u0430\\u0442\\u044c\\u0441\\u044f\", \"\\u043c\\u0435\\u0434\\u0430\\u043e\\u0434\\u043d\\u0430\\u043a\\u043e\", \"\\u043d\\u0435\\u0434\\u043e\\u0441\\u0442\\u0430\\u0442\\u043a\\u0430\\u0445\\u0432\\u0430\", \"\\u043d\\u0435\\u043e\\u0434\\u043d\\u043e\\u0437\\u043d\\u0430\\u0447\\u043d\\u044b\\u0439\", \"\\u043d\\u0435\\u0443\\u0441\\u0442\\u0440\\u0430\\u043d\\u0438\\u043c\\u044b\\u0439\", \"\\u043e\\u0442\\u0441\\u0443\\u0442\\u0441\\u0442\\u0432\\u0443\\u044e\\u0449\\u0438\\u0439\", \"\\u043f\\u043e\\u0434\\u043c\\u043e\\u043d\\u0442\\u0438\\u0440\\u043e\\u0432\\u0430\\u0442\\u044c\", \"\\u0440\\u0438\\u0441\\u043a\\u043d\\u0443\\u0442\\u044c\", \"\\u0441\\u043a\\u0440\\u0438\\u0448\\u043e\\u0442\", \"\\u0447\\u0435\\u0440\\u0435\\u0434\\u043e\\u0432\\u0430\\u043d\\u0438\\u0435\", \"\\u0447\\u0435\\u0442\\u043d\\u043e\\u0441\\u0442\\u044c\", \"\\u0447\\u0442\\u043d\\u043e\\u0441\\u0442\\u044c\", \"\\u043e\\u0442\\u043a\\u043b\\u044e\\u0447\\u0430\\u0442\\u044c\\u0441\\u044f\", \"\\u043f\\u0440\\u043e\\u0444\\u0438\\u043b\\u044c\", \"\\u043a\\u0435\\u0448\", \"\\u0434\\u0438\\u0441\\u043a\", \"\\u0441\\u0442\\u0440\\u043e\\u0439\", \"\\u0441\\u0431\\u043e\\u0439\", \"\\u0442\\u0432\\u0435\\u0440\\u0434\\u043e\\u0442\\u0435\\u043b\\u044c\\u043d\\u044b\\u0439\", \"\\u043a\\u043e\\u043f\\u0438\\u044f\", \"\\u0434\\u0438\\u0441\\u043a\\u043e\\u0432\\u044b\\u0439\", \"\\u0431\\u043b\\u043e\\u0447\\u043d\\u044b\\u0439\", \"\\u0445\\u0440\\u0430\\u043d\\u0435\\u043d\\u0438\\u0435\", \"\\u043c\\u0430\\u0441\\u0441\\u0438\\u0432\", \"\\u0432\\u043e\\u0441\\u0441\\u0442\\u0430\\u043d\\u0430\\u0432\\u043b\\u0438\\u0432\\u0430\\u0442\\u044c\\u0441\\u044f\", \"\\u0443\\u0441\\u0442\\u0440\\u043e\\u0439\\u0441\\u0442\\u0432\\u043e\", \"\\u0440\\u0430\\u0437\\u0434\\u0435\\u043b\", \"\\u043c\\u0435\\u0442\\u0430\\u0434\\u0430\\u043d\\u043d\\u044b\\u0435\", \"\\u043e\\u043f\\u0435\\u0440\\u0430\\u0446\\u0438\\u043e\\u043d\\u043d\\u044b\\u0439\", \"\\u0432\\u0435\\u0431\\u0438\\u043d\\u0430\\u0440\", \"\\u0437\\u0430\\u0432\\u0435\\u0440\\u0448\\u0430\\u0442\\u044c\", \"\\u0437\\u0430\\u043f\\u0438\\u0441\\u044c\", \"\\u0432\\u0438\\u0440\\u0442\\u0443\\u0430\\u043b\\u0438\\u0437\\u0430\\u0446\\u0438\\u044f\", \"\\u0441\\u0438\\u0441\\u0442\\u0435\\u043c\\u0430\", \"\\u043a\\u043e\\u043c\\u043f\\u044c\\u044e\\u0442\\u0435\\u0440\", \"\\u043f\\u0440\\u043e\\u0441\\u0442\\u0440\\u0430\\u043d\\u0441\\u0442\\u0432\\u043e\", \"\\u0434\\u0430\\u043d\\u043d\\u044b\\u0435\", \"\\u0434\\u0430\\u043d\\u043d\\u044b\\u0439\", \"\\u0436\\u0435\\u0441\\u0442\\u043a\\u0438\\u0439\", \"\\u044f\\u0434\\u0440\\u043e\", \"\\u0440\\u0430\\u0431\\u043e\\u0442\\u0430\", \"\\u0438\\u0441\\u043f\\u043e\\u043b\\u044c\\u0437\\u043e\\u0432\\u0430\\u0442\\u044c\", \"\\u043d\\u0430\\u0441\\u0442\\u0440\\u043e\\u0439\\u043a\\u0430\", \"\\u043a\\u043e\\u043c\\u0430\\u043d\\u0434\\u0430\", \"\\u043c\\u043e\\u0447\\u044c\", \"\\u0430\\u043a\\u0442\\u0438\\u0432\\u0430\\u0446\\u0438\\u044f\", \"\\u0430\\u043a\\u0446\\u0435\\u043d\\u0442\", \"\\u0430\\u043d\\u0438\\u043c\\u0438\\u0440\\u043e\\u0432\\u0430\\u043d\\u0438\\u0435\", \"\\u0430\\u043f\\u0434\\u0435\\u0439\\u0442\", \"\\u0430\\u0441\\u0438\\u043d\\u0445\\u0440\\u043e\\u043d\\u043d\\u043e\", \"\\u0430\\u0443\\u0442\", \"\\u0431\\u0430\\u043d\\u043a\\u0435\\u043d\\u0430\\u0433\\u0440\\u0443\\u0436\\u0435\\u043d\\u043d\\u044b\\u0439\", \"\\u0431\\u0435\\u0437\\u0433\\u0440\\u0430\\u043d\\u0438\\u0447\\u043d\\u044b\\u0439\", \"\\u0431\\u0435\\u0437\\u0434\\u0435\\u0439\\u0441\\u0442\\u0432\\u0438\\u0435\", \"\\u0431\\u0435\\u0440\\u0442\", \"\\u0431\\u043b\\u0430\\u0433\\u043e\\u0434\\u0430\\u0440\\u0438\\u0442\\u044c\", \"\\u0431\\u043e\\u0440\\u043e\\u0442\\u044c\\u0441\\u044f\\u0441\\u043b\\u043e\\u0436\\u043d\\u043e\\u0441\\u0442\\u044c\", \"\\u0431\\u0443\\u043a\\u0432\\u0435\\u0442\\u044c\", \"\\u0431\\u044d\\u043a\", \"\\u0432\\u0435\\u0431\\u0441\\u0430\\u0439\\u0442\", \"\\u0432\\u0435\\u0434\\u043c\", \"\\u0432\\u0435\\u0437\\u0442\\u0438\", \"\\u0432\\u0437\\u0430\\u0438\\u043c\\u043e\\u0441\\u0432\\u044f\\u0437\\u0430\\u043d\\u043d\\u044b\\u0439\", \"\\u0432\\u0438\\u0441\\u0435\\u0442\\u044c\", \"\\u0432\\u043b\\u0435\\u0437\\u0430\\u0442\\u044c\", \"\\u0432\\u043e\\u043e\\u0440\\u0443\\u0436\\u0430\\u0442\\u044c\\u0441\\u044f\", \"\\u0432\\u0440\\u0430\\u0449\\u0435\\u043d\\u0438\\u0435\", \"\\u0432\\u0443\\u0430\\u043b\\u044c\", \"\\u0432\\u044b\\u0448\\u0435\\u0441\\u0442\\u043e\\u044f\\u0449\\u0438\\u0439\", \"\\u0433\\u043e\\u043b\\u043e\\u0432\\u043e\\u043b\\u043e\\u043c\\u043a\\u0430\", \"\\u0433\\u0440\\u0430\\u0434\\u0438\\u0435\\u043d\\u0442\", \"\\u0434\\u0435\\u043a\\u043e\\u0440\\u0430\\u0442\\u043e\\u0440\\u044b\\u0441\\u0442\\u044d\\u043a\", \"\\u0434\\u0437\\u0435\\u043d\", \"\\u0434\\u043e\\u0440\\u0435\\u0430\\u043a\\u0442\\u0438\\u0432\\u043d\\u044b\\u0439\", \"\\u0434\\u0448\\u0435\\u0432\\u043e\\u0430\", \"\\u0440\\u0435\\u0430\\u043a\\u0442\\u0438\\u0432\\u043d\\u044b\\u0439\", \"\\u0441\\u0442\\u0440\\u0438\\u043c\", \"\\u0441\\u043b\\u0443\\u0436\\u0435\\u0431\\u043d\\u044b\\u0439\", \"\\u043f\\u0440\\u043e\\u0439\\u0442\\u0438\", \"\\u0440\\u0435\\u043d\\u0434\\u0435\\u0440\\u0438\\u043d\\u0433\", \"\\u0440\\u0435\\u043d\\u0434\\u0435\\u0440\\u0438\\u0432\\u0430\\u0442\\u044c\\u0441\\u044f\", \"\\u043a\\u043b\\u0438\\u043a\\u043d\\u0443\\u0442\\u044c\", \"\\u0440\\u0435\\u0430\\u043a\\u0442\\u0438\\u0432\", \"\\u043e\\u0442\\u0440\\u0438\\u0441\\u043e\\u0432\\u043a\\u0430\", \"\\u0440\\u0435\\u0430\\u043a\\u0442\\u0438\\u0432\\u043d\\u043e\\u0441\\u0442\\u044c\", \"\\u0444\\u0440\\u0435\\u0439\\u043c\\u0432\\u043e\\u0440\\u043a\", \"\\u0436\\u0438\\u0437\\u043d\\u0435\\u043d\\u043d\\u043e\", \"\\u0437\\u0430\\u043f\\u0440\\u043e\\u0441\\u0442\\u043e\", \"\\u0438\\u043d\\u0441\\u0442\\u0430\\u043b\\u043b\\u0438\\u0440\\u043e\\u0432\\u0430\\u0442\\u044c\", \"\\u0438\\u043d\\u0441\\u0442\\u0430\\u043b\\u043b\\u044f\\u0446\\u0438\\u044f\\u0447\\u0442\\u043e\\u0431\\u0430\", \"\\u043a\\u043e\\u043c\\u043f\\u043e\\u043d\\u043e\\u0432\\u0430\\u0442\\u044c\", \"\\u043a\\u043e\\u043d\\u0442\\u0435\\u043d\\u0442\\u043d\\u044b\\u0439\", \"\\u043b\\u0435\\u0433\\u043a\\u043e\\u0441\\u0442\\u044c\", \"\\u043c\\u0430\\u043d\\u0438\\u043f\\u0443\\u043b\\u0438\\u0440\\u043e\\u0432\\u0430\\u043d\\u0438\\u0435\", \"\\u043e\\u0442\\u043a\\u0430\\u0442\\u0438\\u0442\\u044c\\u0441\\u044f\", \"\\u043e\\u0442\\u0441\\u0447\\u0435\\u0442\", \"\\u043f\\u043e\\u0432\\u0442\\u043e\\u0440\", \"\\u0440\\u0435\\u043d\\u0434\\u0435\\u0440\\u0438\\u0442\", \"\\u0441\\u0431\\u0440\\u0430\\u0441\\u044b\\u0432\\u0430\\u0442\\u044c\\u0441\\u044f\", \"\\u0441\\u044b\\u043b\\u043a\\u0430\", \"\\u0441\\u0447\\u0435\\u0442\\u0447\\u0438\\u043a\", \"\\u043a\\u043e\\u043b\\u043b\\u0431\\u044d\\u043a\", \"\\u0437\\u043d\\u0430\\u0447\\u0435\\u043d\\u0438\\u0435\", \"\\u0432\\u044b\\u0447\\u0438\\u0441\\u043b\\u044f\\u0442\\u044c\", \"\\u0441\\u043d\\u0438\\u043f\\u043f\\u0435\\u0442\", \"\\u043f\\u043e\\u043b\\u0435\\u0437\\u043d\\u043e\", \"\\u0430\\u043d\\u0438\\u043c\\u0430\\u0446\\u0438\\u044f\", \"\\u043f\\u0430\\u0440\\u0441\\u0435\\u0440\", \"\\u0441\\u0431\\u0440\\u043e\\u0441\\u0438\\u0442\\u044c\", \"\\u043f\\u0430\\u0440\\u0430\\u0433\\u0440\\u0430\\u0444\", \"\\u043f\\u0440\\u043e\\u043c\\u0438\\u0441\", \"\\u043f\\u043e\\u0434\\u043f\\u0438\\u0441\\u043a\\u0430\", \"\\u043e\\u0442\\u043c\\u0435\\u043d\\u0430\", \"\\u0441\\u043e\\u0441\\u0442\\u043e\\u044f\\u043d\\u0438\\u0435\", \"\\u0432\\u043e\\u0437\\u0432\\u0440\\u0430\\u0449\\u0430\\u0442\\u044c\", \"\\u043c\\u043e\\u0434\\u0438\\u0444\\u0438\\u043a\\u0430\\u0446\\u0438\\u044f\", \"\\u044d\\u043b\\u0435\\u043c\\u0435\\u043d\\u0442\", \"\\u0430\\u043a\\u0446\\u0438\\u044f\", \"\\u0430\\u043d\\u0438\\u043c\\u0438\\u0440\\u043e\\u0432\\u0430\\u0442\\u044c\", \"\\u043e\\u043f\\u0435\\u0440\\u0430\\u0442\\u043e\\u0440\", \"\\u0444\\u0443\\u043d\\u043a\\u0446\\u0438\\u044f\", \"\\u0434\\u0438\\u0440\\u0435\\u043a\\u0442\\u0438\\u0432\\u0430\", \"\\u043a\\u043d\\u043e\\u043f\\u043a\\u0430\", \"\\u0438\\u0437\\u043c\\u0435\\u043d\\u0435\\u043d\\u0438\\u0435\", \"\\u0432\\u0445\\u043e\\u0434\\u043d\\u043e\\u0439\", \"\\u043e\\u0431\\u043d\\u043e\\u0432\\u043b\\u044f\\u0442\\u044c\", \"\\u043f\\u0440\\u0438\\u043c\\u0435\\u0440\", \"\\u0437\\u0430\\u043f\\u0440\\u043e\\u0441\", \"\\u0438\\u043d\\u0441\\u0442\\u0430\\u043d\\u0441\", \"\\u0438\\u0441\\u043f\\u043e\\u043b\\u044c\\u0437\\u043e\\u0432\\u0430\\u0442\\u044c\", \"\\u0434\\u0430\\u0432\\u0430\\u0442\\u044c\", \"\\u043c\\u043e\\u0447\\u044c\", \"\\u043a\\u043e\\u0434\", \"\\u0441\\u043e\\u0437\\u0434\\u0430\\u0432\\u0430\\u0442\\u044c\", \"\\u0434\\u0430\\u043d\\u043d\\u044b\\u0435\", \"\\u043a\\u043e\\u043c\\u043f\\u043e\\u043d\\u0435\\u043d\\u0442\", \"\\u0431\\u0438\\u0431\\u043b\\u0438\\u043e\\u0442\\u0435\\u043a\\u0430\", \"\\u0441\\u043e\\u0431\\u044b\\u0442\\u0438\\u0435\", \"\\u043f\\u0440\\u0438\\u043b\\u043e\\u0436\\u0435\\u043d\\u0438\\u0435\", \"\\u0432\\u043b\\u0435\\u0447\\u044c\", \"\\u0432\\u043d\\u043e\\u0441\\u0438\\u0442\\u044c\\u0441\\u044f\", \"\\u0434\\u044b\\u043c\\u043e\\u0432\\u043e\\u0439\", \"\\u0437\\u0430\\u043a\\u043b\\u044e\\u0447\\u0435\\u043d\\u0438\\u0435\\u043a\\u043b\\u044e\\u0447\", \"\\u043a\\u0435\\u0439\\u0441\\u0430\\u043c\\u0438\\u043e\\u0434\\u043d\\u044b\\u0439\", \"\\u043a\\u0435\\u0439\\u0441\\u0430\\u043c\\u0438\\u0440\\u0435\\u0448\\u0435\\u043d\\u0438\\u0435\", \"\\u043a\\u043e\\u043c\\u043c\\u0435\\u043d\\u0442\\u0438\\u0440\\u043e\\u0432\\u0430\\u0442\\u044c\", \"\\u043c\\u0435\\u0442\\u0430\\u0442\\u044c\\u0441\\u044f\", \"\\u043d\\u0435\\u0432\\u0430\\u043b\\u0438\\u0434\\u043d\\u043e\\u0441\\u0442\\u044c\", \"\\u043d\\u0435\\u0434\\u0435\\u0439\\u0441\\u0442\\u0432\\u0438\\u0442\\u0435\\u043b\\u044c\\u043d\\u044b\\u0439\", \"\\u043d\\u0435\\u0434\\u043e\\u043f\\u043e\\u043d\\u0438\\u043c\\u0430\\u043d\\u0438\\u0435\", \"\\u043e\\u0431\\u0435\\u0440\\u0442\\u044b\\u0432\\u0430\\u0442\\u044c\\u0441\\u044f\", \"\\u043e\\u0442\\u0432\\u043e\\u0434\\u0438\\u0442\\u044c\", \"\\u043f\\u0435\\u0440\\u0435\\u043f\\u043e\\u043b\\u043d\\u044f\\u0442\\u044c\\u0441\\u044f\", \"\\u043f\\u0440\\u043e\\u0430\\u043a\\u0442\\u0438\\u0432\\u043d\\u043e\\u0441\\u0442\\u044c\", \"\\u043f\\u0440\\u043e\\u0430\\u043a\\u0442\\u0438\\u0432\\u043d\\u044b\\u0439\", \"\\u043f\\u0440\\u043e\\u0432\\u0430\\u043b\\u0438\\u0432\\u0430\\u0442\\u044c\", \"\\u0440\\u0435\\u0433\\u0440\\u0435\\u0441\\u0441\\u0438\\u044f\", \"\\u0441\\u0430\\u043d\\u0438\\u0442\\u0430\\u0440\\u043d\\u044b\\u0439\", \"\\u0441\\u0432\\u0430\\u043b\\u0438\\u0432\\u0430\\u0442\\u044c\", \"\\u0441\\u043f\\u0440\\u0438\\u043d\\u0442\", \"\\u0441\\u044c\\u044e\\u0442\", \"\\u0442\\u0435\\u0441\\u0442\", \"\\u0443\\u043f\\u043e\\u0440\\u044f\\u0434\\u043e\\u0447\\u0438\\u0432\\u0430\\u0442\\u044c\", \"\\u043a\\u0435\\u0439\\u0441\", \"\\u0430\\u0441\\u0435\\u0440\\u0442\", \"\\u0431\\u0438\\u043b\\u0434\\u0435\\u0440\", \"\\u0433\\u043e\\u0440\\u0435\", \"\\u043a\\u043e\\u0434\\u0438\\u0442\\u044c\", \"\\u043a\\u0440\\u0430\\u0441\\u0438\\u0432\\u043e\\u043f\\u0440\\u0438\\u0432\\u0435\\u0442\", \"\\u043d\\u043e\\u0441\\u043e\\u043a\", \"\\u0442\\u0435\\u0441\\u0442\\u0438\\u0440\\u043e\\u0432\\u0449\\u0438\\u043a\", \"\\u043e\\u0437\\u0434\", \"\\u043d\\u044b\\u043d\\u0447\\u0435\", \"\\u043e\\u0431\\u0432\\u044f\\u0437\\u044b\\u0432\\u0430\\u0442\\u044c\", \"\\u043e\\u0431\\u0440\\u0430\\u0431\\u043e\\u0442\\u0447\\u0438\\u043a\", \"\\u043f\\u0430\\u0440\\u0430\\u043c\\u0435\\u0442\\u0440\\u0438\\u0437\\u0430\\u0446\\u0438\\u044f\", \"\\u043f\\u0435\\u043d\\u0441\\u0438\\u044f\", \"\\u043f\\u043e\\u0447\\u0438\\u043d\\u044f\\u0442\\u044c\", \"\\u0440\\u0430\\u0441\\u0441\\u043a\\u0430\\u0437\\u044b\\u0432\\u0430\\u0442\\u044c\\u0441\\u044f\", \"\\u0441\\u0430\\u0448\\u0430\", \"\\u0441\\u043e\\u043a\\u0440\\u0430\\u0449\\u043d\\u043d\\u044b\\u0435\", \"\\u0441\\u0442\\u0430\\u043d\\u043e\\u0432\\u043b\\u0435\\u043d\\u0438\\u0435\", \"\\u0442\\u0430\\u0431\\u043b\\u0438\\u0447\\u043d\\u044b\\u0439\", \"\\u0442\\u0435\\u0441\\u0442\\u0438\\u0440\", \"\\u0440\\u0435\\u0433\\u0440\\u0435\\u0441\\u0441\\u0438\\u043e\\u043d\\u043d\\u044b\\u0439\", \"\\u043e\\u0431\\u043e\\u0440\\u043e\\u0442\", \"\\u0442\\u0435\\u0441\\u0442\\u043e\", \"\\u043f\\u043e\\u0434\\u0433\\u043e\\u0442\\u0430\\u0432\\u043b\\u0438\\u0432\\u0430\\u0442\\u044c\", \"\\u0432\\u0430\\u043b\\u0438\\u0434\\u0430\\u0446\\u0438\\u044f\", \"\\u043d\\u0435\\u0432\\u0430\\u043b\\u0438\\u0434\\u043d\\u044b\\u0439\", \"\\u043f\\u0430\\u0440\\u0435\\u043d\\u044c\", \"\\u0442\\u0435\\u0441\\u0442\\u0438\\u0440\\u043e\\u0432\\u0430\\u043d\\u0438\\u0435\", \"\\u0437\\u0430\\u043f\\u0440\\u043e\\u0441\", \"\\u043b\\u0435\\u0439\\u0431\\u043b\", \"\\u043e\\u0442\\u0447\\u0442\", \"\\u0443\\u0434\\u0430\\u043b\\u0435\\u043d\\u0438\\u0435\", \"\\u0442\\u0435\\u043b\\u043e\", \"\\u0437\\u0432\\u0430\\u0442\\u044c\", \"\\u0442\\u0435\\u0433\", \"\\u0432\\u0430\\u043b\\u0438\\u0434\\u043d\\u044b\\u0439\", \"\\u043f\\u043e\\u043b\\u044c\\u0437\\u043e\\u0432\\u0430\\u0442\\u0435\\u043b\\u044c\\u0441\\u043a\\u0438\\u0439\", \"\\u0438\\u0441\\u0442\\u043e\\u0440\\u0438\\u044f\", \"\\u0440\\u0443\\u0447\\u043a\\u0430\", \"\\u043e\\u0442\\u0432\\u0435\\u0442\", \"\\u043f\\u0440\\u043e\\u0432\\u0435\\u0440\\u043a\\u0430\", \"\\u043f\\u0440\\u0438\\u0432\\u0435\\u0442\", \"\\u0441\\u043e\\u0437\\u0434\\u0430\\u0432\\u0430\\u0442\\u044c\", \"\\u043f\\u043e\\u043f\\u0440\\u043e\\u0431\\u043e\\u0432\\u0430\\u0442\\u044c\", \"\\u0443\\u0441\\u0442\\u0430\\u0440\\u0435\\u0432\\u0430\\u0442\\u044c\", \"\\u043a\\u043e\\u043d\\u0441\\u0442\\u0440\\u0443\\u043a\\u0442\\u043e\\u0440\", \"\\u0441\\u043b\\u0435\\u0434\\u0443\\u044e\\u0449\\u0438\\u0439\", \"\\u0434\\u0430\\u0432\\u0430\\u0442\\u044c\", \"\\u0441\\u0435\\u0440\\u0432\\u0435\\u0440\", \"\\u043e\\u0431\\u043d\\u043e\\u0432\\u043b\\u044f\\u0442\\u044c\", \"\\u0434\\u043e\\u0431\\u0430\\u0432\\u043b\\u044f\\u0442\\u044c\", \"\\u043d\\u043e\\u0432\\u044b\\u0439\", \"\\u0444\\u0430\\u0439\\u043b\"], \"Freq\": [3.0, 2.0, 2.0, 2.0, 2.0, 2.0, 1.0, 1.0, 1.0, 3.0, 1.0, 1.0, 1.0, 2.0, 2.0, 2.0, 2.0, 1.0, 1.0, 1.0, 2.0, 1.0, 0.0, 2.0, 1.0, 2.0, 0.0, 2.0, 0.0, 2.0, 0.1087243639260745, 0.03569626034370252, 0.039695965734594725, 0.019847982867297363, 0.019847982867297363, 0.07939193146918945, 0.03569626034370252, 0.03569626034370252, 0.019847982867297363, 0.019847982867297363, 0.019847982867297363, 0.019847982867297363, 0.07939193146918945, 0.10533434639578017, 0.019847982867297363, 0.03569626034370252, 0.0983734433996948, 0.019847982867297363, 0.03569626034370252, 0.03569626034370252, 0.019847982867297363, 0.049472069198099905, 0.03569626034370252, 0.03569626034370252, 0.019847982867297363, 0.019847982867297363, 0.049472069198099905, 0.04663465892672817, 0.019847982867297363, 0.019847982867297363, 0.5977071285291161, 0.47635158881513673, 0.29771974300946047, 0.26380367653705333, 0.21832781154027098, 0.21254154519861748, 0.15400362317710847, 0.14278504137481007, 0.12734958374250352, 1.6629728176125653, 0.09923991433648681, 0.07139252068740504, 0.05954394860189209, 0.05954394860189209, 0.05954394860189209, 0.05954394860189209, 0.049472069198099905, 0.049472069198099905, 0.049472069198099905, 0.049472069198099905, 0.0491867216998474, 0.18929196956547045, 0.09057679795583806, 0.41531147435209764, 0.2440239261583668, 0.6053792321290019, 0.5200425473576374, 0.1686185008803706, 0.4396224575536579, 0.06562565689702925, 0.2146520520630462, 0.33743460728744035, 0.21922460019065187, 0.15572873750491245, 0.08427714126475681, 0.27477304194668883, 1.098312951132322, 0.35852261778355404, 0.23178879550704848, 0.9096692922934655, 0.32131332388458933, 0.28905408118923215, 0.292304138129544, 0.37290081001689585, 0.41809948760635063, 0.31474246581821225, 0.28557427466050644, 0.30258298432339814, 0.3354893504808961, 0.32516749483902785, 0.3763173226085199, 0.37556618204728903, 0.31875540265483693, 0.32019568820152144, 0.2908556310680957, 0.30801495304811616, 0.2919157425986663, 0.27950623579746614, 0.12599909089262015, 0.023255916711734305, 0.037427361871758005, 0.008780296156274117, 0.008780296156274117, 0.026340888468822352, 0.008780296156274117, 0.02097240045844812, 0.061462073093918816, 0.008780296156274117, 0.008780296156274117, 0.008780296156274117, 0.008780296156274117, 0.02097240045844812, 0.03984138847972714, 0.008780296156274117, 0.04143822420471144, 0.01992069423986357, 0.008780296156274117, 0.03984138847972714, 0.008780296156274117, 0.008780296156274117, 0.01992069423986357, 0.008780296156274117, 0.017560592312548234, 0.008780296156274117, 0.008780296156274117, 0.008780296156274117, 0.008780296156274117, 0.008780296156274117, 0.43115881790505745, 0.43023451165743176, 0.3843723644841586, 0.5080728258371958, 0.35999214240723887, 0.2617405686410413, 0.26146868933514406, 0.2589690251182264, 0.21912763663849924, 0.40843727476444447, 0.19920694239863565, 0.18011097492107872, 0.138289826872655, 0.1258344027506887, 0.11657796967207228, 0.10828246312865358, 0.10605224499560777, 0.09960347119931783, 0.09960347119931783, 0.09514598247818283, 0.11222919971389933, 0.0900483308506709, 0.08567302131925754, 0.0856275739500535, 0.0851835772283712, 0.15331535751192193, 0.08201217403724086, 0.24461815813739865, 0.12898019203087724, 0.42404538457177915, 0.4157682911632271, 1.0499292472926463, 0.15636586802067468, 0.28108150615384186, 0.13923964970036565, 0.7778284744076868, 0.3972959965051169, 0.24075476135010543, 0.5180519355418597, 1.0593059460166203, 0.348587649952298, 0.3009899793856916, 0.370223253465775, 0.20835344692802732, 0.20484004273005077, 0.2407386053360807, 0.6047012011599784, 0.5629454035554396, 1.2655438613249916, 1.044825087691975, 0.2810075391203787, 0.4296176108016041, 0.6583563918552043, 1.3134262101342986, 0.5996681240229201, 0.867317002493702, 0.4071283159528624, 0.39691831374318925, 0.4506340889672199, 0.3739308106167599, 0.513065858971762, 0.4175013281633151, 0.5942733403105581, 0.5289435951951413, 0.6802387645323434, 0.4503190648894783, 0.8110060738898003, 0.47875163157091893, 0.4737474744930484, 0.5538892946721131, 0.5062393395451532, 0.4624301343999218, 0.5127641498974498, 0.42725677155605307, 0.22312899192881816, 0.07742427184189106, 0.07742427184189106, 0.5098089825816688, 0.08009689211191227, 0.07742427184189106, 0.1627158416907948, 0.0813579208453974, 0.08009689211191227, 0.08009689211191227, 0.08009689211191227, 0.07742427184189106, 0.08009689211191227, 0.07742427184189106, 0.07742427184189106, 0.09242598020819788, 0.07742427184189106, 0.30969708736756424, 0.08009689211191227, 0.08009689211191227, 0.07742427184189106, 0.08009689211191227, 0.15484854368378212, 0.6062577946470161, 0.15484854368378212, 0.14777134758499255, 0.08009689211191227, 0.16019378422382455, 0.07742427184189106, 0.0813579208453974, 1.246924907686633, 1.5131248814427742, 0.8857365004437736, 0.1627158416907948, 0.16019378422382455, 0.15484854368378212, 0.149579267281306, 0.635028835845187, 0.5178487063551203, 0.14225994397256903, 0.0813579208453974, 0.23812168512186013, 0.17974623282816027, 1.5900274871094042, 0.3726328576631824, 0.5477393736379429, 0.4372152851035176, 1.7123083828494379, 0.09347682161477214, 0.09231859153338509, 0.7999712048269271, 0.5170463421217963, 0.5121224620404955, 1.4351951506218787, 0.3906274330598547, 0.3094072326255337, 0.24268977095337016, 0.21198959550724478, 0.23156410775844188, 0.48079990135208517, 0.3987937058331846, 0.5790675204891581, 0.26518852708900764, 0.22690762315696272, 0.3029039153299956, 1.0719891925706806, 0.4175554111386194, 0.5533423162844244, 0.409218145827617, 0.4009517784178785, 0.32982420773720894, 0.5461316018222366, 0.31332945697816694, 0.31914234521756263, 0.3098872930181158, 0.03593188445991859, 0.03593188445991859, 0.03593188445991859, 0.03593188445991859, 0.03593188445991859, 0.05105419347877204, 0.03593188445991859, 0.03593188445991859, 0.07186376891983717, 0.05105419347877204, 0.2326677262775801, 0.03593188445991859, 0.03593188445991859, 0.03593188445991859, 0.03593188445991859, 0.03593188445991859, 0.05105419347877204, 0.03593188445991859, 0.05105419347877204, 0.05105419347877204, 0.03593188445991859, 0.03593188445991859, 0.43118261351902304, 0.03593188445991859, 0.03593188445991859, 0.03593188445991859, 0.03593188445991859, 0.05105419347877204, 0.03593188445991859, 0.05105419347877204, 1.8696371297235466, 0.9399910811105618, 2.722842288042286, 0.29521101208248773, 0.14372753783967435, 0.28695108003156816, 0.10210838695754408, 0.07186376891983717, 0.07186376891983717, 0.05105419347877204, 0.05105419347877204, 0.05105419347877204, 0.05105419347877204, 0.05105419347877204, 0.140315589837595, 0.34098963988797704, 0.13114986149537577, 0.2240938901233912, 0.05246486421310331, 0.05246486421310331, 0.23461518391350755, 0.07868991689722546, 0.46222625346782187, 0.12028493116462607, 0.23856915376934626, 0.17949504478669906, 0.08531461233218456, 0.08531461233218456, 0.08531461233218456, 0.0983491553207422, 0.21054188512764352, 0.06592783720690544, 0.0663837669095035, 0.5550316103841935, 0.12237534530302735, 0.09185239859977865, 0.3958974123139046, 0.9742749805650712, 0.3270131648294372, 0.8502885510385415, 1.0234304267816503, 0.2729906572984741, 0.7733470076450265, 0.18593929438197893, 0.1825930732209817, 0.2850577036364612, 0.3321887057093747, 0.44774461181939107, 0.2938902772106469, 0.30292541625772484, 0.3310261009763139, 0.29774925600361163, 0.3074666448533075, 0.23253799617923385, 0.259698452377248, 0.3394197847146875, 0.23785663841218332, 0.04869760386496651, 0.08891465332279755, 0.04869760386496651, 0.04869760386496651, 0.5124355671162296, 0.08891465332279755, 0.04869760386496651, 0.2434880193248325, 0.04869760386496651, 0.04869760386496651, 0.04869760386496651, 0.08891465332279755, 0.04869760386496651, 0.09059194099462531, 0.08891465332279755, 0.04869760386496651, 0.04869760386496651, 0.04869760386496651, 0.04869760386496651, 0.04869760386496651, 0.04869760386496651, 0.1778293066455951, 0.09739520772993301, 0.08891465332279755, 0.12707551691164648, 0.08891465332279755, 0.08891465332279755, 0.04869760386496651, 0.48879339910901326, 0.04869760386496651, 0.2402574807761626, 0.223949630787671, 0.19479041545986603, 2.3888070899346987, 0.1778293066455951, 0.1778293066455951, 0.1503476063124247, 0.12434208972063658, 0.12434208972063658, 0.09739520772993301, 0.08891465332279755, 0.08891465332279755, 0.08891465332279755, 0.08891465332279755, 0.08891465332279755, 0.08289472648042438, 0.4581816541968334, 0.7342687314390702, 0.28187293870602814, 0.22764038933038694, 0.18807983014219418, 0.2063120643038378, 1.100839435524596, 0.40847498105251073, 0.33005863915446954, 0.24379429611998718, 0.9354310120188379, 0.7280003517482496, 0.28855064131054653, 0.16506117566602174, 0.2545860853291086, 0.5065973481370158, 0.3910417576053422, 0.45761720599746386, 0.4585004908258026, 0.3269297778192172, 0.5984366570385875, 0.6562783502328974, 0.5119833519959369, 0.8380423512656894, 0.43788719432813816, 0.5946774188655508, 0.2877754532363691, 0.46797629206784375, 0.6403921704272191, 0.3229568257567245, 0.5756390453331827, 0.47634714483335483, 0.3361558454534909, 0.605804978020393, 0.4418564246461194, 0.3794907047864777, 0.45258490133990653, 0.3777502178517243, 0.42093991253761603, 0.3754807305373065, 0.05761292077832034, 0.05761292077832034, 0.05440871662813234, 0.05761292077832034, 0.05440871662813234, 0.0782651980410801, 0.05440871662813234, 0.05440871662813234, 0.05761292077832034, 0.05440871662813234, 0.05761292077832034, 0.10881743325626468, 0.05440871662813234, 0.05440871662813234, 0.18665817269509472, 0.05440871662813234, 0.05440871662813234, 0.05440871662813234, 0.05440871662813234, 0.05761292077832034, 0.05761292077832034, 0.1552578507930683, 0.05440871662813234, 0.05761292077832034, 0.11522584155664067, 0.05761292077832034, 0.05440871662813234, 0.3206410899108296, 0.05440871662813234, 0.05440871662813234, 2.9946615123318865, 0.6845078590352855, 0.539772504752087, 0.3422000833076918, 0.3317825546927132, 0.3169859142155581, 0.2940437380529421, 0.2809234512767466, 0.27839078522674, 0.26612741201008955, 0.2177262728246885, 0.21015833829039798, 0.18490590477227453, 0.18155134793871702, 0.18155134793871702, 0.17786023926955044, 0.17283876233496107, 0.16660087479679644, 0.16322614988439701, 0.1597592901327824, 0.1597592901327824, 0.1597592901327824, 0.15397468623948823, 0.15290253546510849, 0.1523003110076521, 0.14644772336200607, 0.14231744474670935, 0.5515334734317519, 0.19315729208900712, 0.5744165190172417, 0.6584878133565766, 0.38027024541321625, 0.19495286679177373, 0.25351349694214415, 0.1981373451251606, 0.22816214724792971, 0.29325880166523394, 0.503077577613059, 0.5099665260420033, 0.24410749566683781, 0.3971019188912198, 0.18618273383093192, 0.22991237062685596, 0.37422577581589245, 0.22837218662374614, 0.2774996879954782, 0.23574794409694552, 0.2953013029361374, 0.25083496870019106, 0.2879813676705392, 0.2544444573585152, 0.24327755870790319, 0.05197595806003457, 0.3118557483602074, 0.03424402034969179, 0.03065803201660433, 0.091974096049813, 0.03424402034969179, 0.03424402034969179, 0.13697608139876716, 0.03424402034969179, 0.03424402034969179, 0.05197595806003457, 0.03424402034969179, 0.03065803201660433, 0.03065803201660433, 0.05197595806003457, 0.03424402034969179, 0.03065803201660433, 0.03424402034969179, 0.05197595806003457, 0.03424402034969179, 0.03065803201660433, 0.03065803201660433, 0.05197595806003457, 0.05197595806003457, 0.03424402034969179, 0.03424402034969179, 0.03424402034969179, 0.05197595806003457, 0.03065803201660433, 0.03424402034969179, 1.3786931573743118, 0.8452195948741308, 0.383995176217779, 0.2739521627975343, 0.2725222837342149, 0.23970814244784253, 0.20790383224013828, 0.19028376358363952, 0.17295038138262342, 0.1716404612113768, 0.5044241523963455, 0.1474680353948171, 0.13697608139876716, 0.13697608139876716, 0.13697608139876716, 0.13697608139876716, 0.1228123988377303, 0.10395191612006914, 0.10395191612006914, 0.10395191612006914, 0.10273206104907538, 0.10273206104907538, 0.10273206104907538, 0.091974096049813, 0.091974096049813, 0.06848804069938358, 0.06848804069938358, 0.445631550738467, 0.24379011284361107, 0.40389466144779074, 0.15132949428822243, 0.44088828463741275, 0.2636034060064677, 0.17495308003343582, 0.19049663308098133, 1.623824900529556, 0.5856114908894241, 1.0431286213269848, 0.1898899241135713, 0.5677544776511043, 0.7863585628925837, 0.23810835752225296, 0.1896880748621833, 0.19170483862468382, 0.3227199522283028, 0.3088142359200239, 0.34671820425841493, 0.4186210041006402, 0.30574771680812635, 0.31052389622489923, 0.2083448128319714, 0.3778641154161963, 0.3866823611098104, 0.26741738112918134, 0.2709374799741964, 0.29974230639824373, 0.3028534675007649, 0.3309942083569609, 0.28619384397832565, 0.3004456107972424, 0.3252824227531762, 0.27822067257276595, 0.28513773209688104, 0.28602850044948114, 0.05490653796792571, 0.09210746170804636, 3.0874741112648953, 0.18302179322641904, 0.08375525178565252, 0.09151089661320952, 0.05490653796792571, 0.018302179322641905, 0.03660435864528381, 0.018302179322641905, 0.018302179322641905, 0.018302179322641905, 0.018302179322641905, 0.018302179322641905, 0.03660435864528381, 0.018302179322641905, 0.03660435864528381, 0.018302179322641905, 0.018302179322641905, 0.018302179322641905, 0.018302179322641905, 0.018302179322641905, 0.018302179322641905, 0.018302179322641905, 0.03660435864528381, 0.018302179322641905, 0.018302179322641905, 0.018302179322641905, 0.018302179322641905, 0.018302179322641905, 1.0884781899810838, 0.6954828142603924, 0.0640281288224167, 0.0640281288224167, 0.0640281288224167, 0.0640281288224167, 0.0640281288224167, 0.0640281288224167, 0.0640281288224167, 0.0640281288224167, 0.0640281288224167, 0.03660435864528381, 0.03660435864528381, 0.30213134811780873, 0.5262648320517913, 0.2738195171699717, 0.36349116309132723, 0.04293922821545417, 0.1679388194510307, 0.4711605613737687, 0.5473072112795511, 0.46809863179054284, 0.6325105585670787, 0.1119592129673538, 0.1119592129673538, 0.21361165488939035, 0.6320053158049014, 0.233026391337024, 0.15712555434892858, 0.13062816307746486, 0.5189969348712052, 0.14674830390281365, 0.20853353574639144, 0.24690885465447832, 0.10400085326672086, 0.10777236629578762, 0.22405231302798684, 0.7820201314156991, 0.1798442786140046, 0.5214320572177803, 0.23354065758522527, 0.4848307502048648, 0.3015023324765414, 0.22097739728172033, 0.15874319329280548, 0.37639401348635043, 0.20823849360459085, 0.24590604995343024, 0.23293735022438966, 0.19975798693703958, 0.20951172649630756, 0.31999870627122234, 1.1428841555574305, 0.08701102369979481, 0.049028916800665095, 0.049028916800665095, 0.08701102369979481, 0.08701102369979481, 0.049028916800665095, 0.049028916800665095, 0.049028916800665095, 0.049028916800665095, 0.08701102369979481, 0.049028916800665095, 0.13501702336707597, 0.24902082464956374, 0.5979279934098485, 0.3981837391948209, 0.08701102369979481, 0.049028916800665095, 0.08701102369979481, 0.08701102369979481, 0.08701102369979481, 0.12451041232478187, 0.12451041232478187, 0.12451041232478187, 0.08701102369979481, 0.09805783360133019, 0.09805783360133019, 0.049028916800665095, 0.15917792539617115, 0.653473720379605, 0.9240333742272987, 1.6755086394276764, 0.2740332955390073, 0.3534836681798365, 0.2332050089090705, 0.34832770282926256, 0.5934414673283304, 0.14535060933675595, 0.6137201104830082, 0.48416839953399954, 0.1569097587588316, 1.2159055574541593, 0.4360148026930715, 0.2606164470834591, 0.5177867508480717, 0.2824245655591685, 0.17935540703627972, 0.33911257074282264, 0.21403806876164114, 0.8440941708892594, 0.3798228015894503, 0.32636488675688236, 0.564073700057165, 0.3782257444947653, 0.18774952562626426, 0.2897724754385639, 0.32739717479401337, 0.3469894098020361, 0.24596062930102813, 0.25990229124524794, 0.2517571973298622, 0.032257677258294336, 0.032257677258294336, 0.22580374080806034, 0.10389641263377523, 0.007636600867623274, 0.007636600867623274, 0.007636600867623274, 0.032257677258294336, 0.10389641263377523, 0.007636600867623274, 0.032257677258294336, 0.007636600867623274, 0.007636600867623274, 0.007636600867623274, 0.10389641263377523, 0.007636600867623274, 0.10389641263377523, 0.007636600867623274, 0.007636600867623274, 0.007636600867623274, 0.007636600867623274, 0.030900437637771876, 0.032257677258294336, 0.007636600867623274, 0.007636600867623274, 0.032257677258294336, 0.007636600867623274, 0.007636600867623274, 0.007636600867623274, 0.007636600867623274, 0.9769532715946313, 0.5727450650717456, 0.29925202866233686, 0.2625678710765006, 0.3957390802335827, 0.19706231504041305, 0.1780240018301564, 0.12982221474959568, 0.12903070903317734, 0.259116006532849, 0.11517026258243693, 0.10389641263377523, 0.10389641263377523, 0.10389641263377523, 0.10389641263377523, 0.10389641263377523, 0.10389641263377523, 0.10389641263377523, 0.10389641263377523, 0.10389641263377523, 0.10389641263377523, 0.10389641263377523, 0.10389641263377523, 0.10389641263377523, 0.10389641263377523, 0.6025260263789934, 0.3323380471513939, 1.877506433482531, 0.32210866687932316, 0.22155869810092935, 0.24437844087853522, 1.0563413162322723, 0.6090554556245007, 0.17635736399830382, 0.16616902357569696, 0.16616902357569696, 0.15824673797460978, 0.43156694564228837, 0.8267369313296392, 0.346557559185136, 0.3119844721015189, 0.6971094137540613, 0.22712878699593878, 0.24998048911373594, 0.3841564309896092, 1.0888007775013244, 0.2050976271803144, 0.3977345798966041, 0.5762881978859525, 0.31993828097073657, 0.4324287275037403, 0.6673407887715463, 0.9086442710551106, 0.5456733664267005, 0.7335804526592827, 0.48194106344813353, 0.8091949451096059, 0.619537408560281, 0.5149627751332936, 0.5586141069908205, 0.36234290785601375, 0.3583973858811806, 0.3418898917256058, 0.3732011774830903, 0.03738454391498945, 0.03738454391498945, 0.11215363174496837, 0.03738454391498945, 0.03738454391498945, 0.03738454391498945, 0.03738454391498945, 0.03738454391498945, 0.03738454391498945, 0.03738454391498945, 0.03738454391498945, 0.03738454391498945, 0.03738454391498945, 0.03738454391498945, 0.0747690878299789, 0.03738454391498945, 0.03738454391498945, 0.11215363174496837, 0.11215363174496837, 0.03738454391498945, 0.44526842506241526, 0.11215363174496837, 2.469185941928576, 0.03738454391498945, 0.8824983182742063, 0.07570552049118573, 0.07570552049118573, 0.07570552049118573, 0.07570552049118573, 0.07570552049118573, 0.22711656147355724, 0.35415155307172125, 0.15141104098237146, 0.07570552049118573, 0.07570552049118573, 0.07570552049118573, 0.07570552049118573, 0.07570552049118573, 0.07570552049118573, 0.07570552049118573, 0.07570552049118573, 0.07570552049118573, 0.07570552049118573, 0.07570552049118573, 0.07570552049118573, 0.5129510315224566, 0.06928537676178202, 0.5577052813397384, 0.2071698261449564, 0.13812738051397044, 0.13661251789995854, 0.23178235101079964, 0.4351766780639435, 0.876193160190726, 0.2554751260288703, 0.1881522199451626, 0.20507252207359564, 0.2603592782745263, 0.15985153932132326, 0.22917589461893106, 0.0953670691603087, 0.21513523421729505, 0.23304996452036425, 0.11579119644162951, 0.26104108095495265, 0.1905225262599759, 0.14007513125579962, 0.2526910560248955, 0.17398039643556132, 0.15089237978618222, 0.15160464117638342, 0.1836817346916801, 0.17969926963024718, 0.17845466392154863, 0.15626994484183732, 0.16214822083316985, 0.1637801159385901, 0.15959528683433488], \"Total\": [3.0, 2.0, 2.0, 2.0, 2.0, 2.0, 1.0, 1.0, 1.0, 3.0, 1.0, 1.0, 1.0, 2.0, 2.0, 2.0, 2.0, 1.0, 1.0, 1.0, 2.0, 1.0, 0.0, 2.0, 1.0, 2.0, 0.0, 2.0, 0.0, 2.0, 0.1087243639260745, 0.03569626034370252, 0.039695965734594725, 0.019847982867297363, 0.019847982867297363, 0.07939193146918945, 0.03569626034370252, 0.03569626034370252, 0.019847982867297363, 0.019847982867297363, 0.019847982867297363, 0.019847982867297363, 0.07939193146918945, 0.10533434639578017, 0.019847982867297363, 0.03569626034370252, 0.0983734433996948, 0.019847982867297363, 0.03569626034370252, 0.03569626034370252, 0.019847982867297363, 0.049472069198099905, 0.03569626034370252, 0.03569626034370252, 0.019847982867297363, 0.019847982867297363, 0.049472069198099905, 0.04663465892672817, 0.019847982867297363, 0.019847982867297363, 0.5977071285291161, 0.47635158881513673, 0.29771974300946047, 0.26380367653705333, 0.21832781154027098, 0.21254154519861748, 0.15400362317710847, 0.14278504137481007, 0.12734958374250352, 1.7087068313397404, 0.09923991433648681, 0.07139252068740504, 0.05954394860189209, 0.05954394860189209, 0.05954394860189209, 0.05954394860189209, 0.049472069198099905, 0.049472069198099905, 0.049472069198099905, 0.049472069198099905, 0.0491867216998474, 0.201121576003685, 0.09346360068619322, 0.47998758836758415, 0.27804169441979526, 0.7628760064619851, 0.6556895408264871, 0.19390927488681595, 0.5810317305128059, 0.06807318026239505, 0.2633447898999561, 0.46367835127318363, 0.28797673917089467, 0.1905390189626091, 0.09236370593852859, 0.4263776831230722, 2.7019078795742297, 0.6310937706444599, 0.36977044058521247, 2.8615040355579144, 0.6118118532355982, 0.5860863011350816, 0.609010198235145, 1.0014246163727398, 1.2976404048945507, 0.7872226720181904, 0.6664213029745972, 0.764140463923581, 1.0067005369672093, 0.9865909534261595, 1.9519224725340036, 2.2131536025343648, 1.1847077868328422, 2.098429845674053, 1.2916309383768607, 2.5489676773786694, 1.7045288673046022, 1.3157957207431217, 0.12599909089262015, 0.023255916711734305, 0.037427361871758005, 0.008780296156274117, 0.008780296156274117, 0.026340888468822352, 0.008780296156274117, 0.02097240045844812, 0.061462073093918816, 0.008780296156274117, 0.008780296156274117, 0.008780296156274117, 0.008780296156274117, 0.02097240045844812, 0.03984138847972714, 0.008780296156274117, 0.04143822420471144, 0.01992069423986357, 0.008780296156274117, 0.03984138847972714, 0.008780296156274117, 0.008780296156274117, 0.01992069423986357, 0.008780296156274117, 0.017560592312548234, 0.008780296156274117, 0.008780296156274117, 0.008780296156274117, 0.008780296156274117, 0.008780296156274117, 0.43115881790505745, 0.43023451165743176, 0.3843723644841586, 0.5097512981894409, 0.35999214240723887, 0.2617405686410413, 0.26146868933514406, 0.2589690251182264, 0.21912763663849924, 0.4111450288076217, 0.19920694239863565, 0.18011097492107872, 0.138289826872655, 0.1258344027506887, 0.11657796967207228, 0.10828526048653199, 0.10605224499560777, 0.09960347119931783, 0.09960347119931783, 0.09514598247818283, 0.11246035522570161, 0.0900483308506709, 0.08567302131925754, 0.0856275739500535, 0.0851835772283712, 0.15427949543102784, 0.08201217403724086, 0.2474094088610582, 0.1298352722550385, 0.43643534614008894, 0.42798185258377186, 1.1241857038445635, 0.15831060272242525, 0.29016928280012605, 0.14097504121579418, 0.8538648665880423, 0.4234729774739353, 0.25001062610624236, 0.5610382547610804, 1.1985209803661432, 0.37864561870962077, 0.33026111671609115, 0.4199166979705198, 0.22086839274865364, 0.21728676962960378, 0.26087883540789736, 0.7453497944768189, 0.688651291444388, 1.7775994385600484, 1.4422455963235399, 0.3127125265493498, 0.5160075385212397, 0.8805095183451621, 2.2320590404005096, 0.9035976818220655, 1.5295792511917297, 0.5268927890615029, 0.5168708359951772, 0.6367642204047784, 0.47307325757976026, 0.8130136884141048, 0.5838371268001904, 1.167754043395175, 0.9850581626308407, 2.063469787559419, 0.7320643847369315, 3.9899153706407984, 0.8883679179237658, 0.9931408576329366, 2.762584095315295, 2.382353427592943, 1.2994929078668185, 3.758602330487421, 1.0220261048638895, 0.22312899192881816, 0.07742427184189106, 0.07742427184189106, 0.5098089825816688, 0.08009689211191227, 0.07742427184189106, 0.1627158416907948, 0.0813579208453974, 0.08009689211191227, 0.08009689211191227, 0.08009689211191227, 0.07742427184189106, 0.08009689211191227, 0.07742427184189106, 0.07742427184189106, 0.09242598020819788, 0.07742427184189106, 0.30969708736756424, 0.08009689211191227, 0.08009689211191227, 0.07742427184189106, 0.08009689211191227, 0.15484854368378212, 0.6062577946470161, 0.15484854368378212, 0.14777134758499255, 0.08009689211191227, 0.16019378422382455, 0.07742427184189106, 0.0813579208453974, 1.246924907686633, 1.5166683726209944, 0.8857365004437736, 0.1627158416907948, 0.16019378422382455, 0.15484854368378212, 0.14969038520687408, 0.6452623653882151, 0.5255863508803291, 0.142826643262151, 0.0813579208453974, 0.24096863185408826, 0.18148733196812203, 1.6805503628383653, 0.3906182533728701, 0.5844857729188921, 0.465132383739709, 1.939992608556086, 0.0942137284202007, 0.09322850350814126, 0.9819059400095309, 0.6156042862973805, 0.6330227814601178, 2.098429845674053, 0.481337131734467, 0.37714039884244477, 0.2835657462047038, 0.2385872105051513, 0.27424600618446676, 0.7911970841696822, 0.6646167770806036, 1.1980513033071885, 0.35394769142309707, 0.276924783565249, 0.4452693591448264, 3.758602330487421, 0.7830800074778554, 1.2976404048945507, 0.8416712381483796, 0.865689074707662, 0.5677977680985735, 2.451800600637633, 0.7112167953282978, 1.5295792511917297, 2.2320590404005096, 0.03593188445991859, 0.03593188445991859, 0.03593188445991859, 0.03593188445991859, 0.03593188445991859, 0.05105419347877204, 0.03593188445991859, 0.03593188445991859, 0.07186376891983717, 0.05105419347877204, 0.2326677262775801, 0.03593188445991859, 0.03593188445991859, 0.03593188445991859, 0.03593188445991859, 0.03593188445991859, 0.05105419347877204, 0.03593188445991859, 0.05105419347877204, 0.05105419347877204, 0.03593188445991859, 0.03593188445991859, 0.43118261351902304, 0.03593188445991859, 0.03593188445991859, 0.03593188445991859, 0.03593188445991859, 0.05105419347877204, 0.03593188445991859, 0.05105419347877204, 1.8696371297235466, 0.9399910811105618, 2.761871710720306, 0.2972752988378194, 0.14372753783967435, 0.2898822078383866, 0.10210838695754408, 0.07186376891983717, 0.07186376891983717, 0.05105419347877204, 0.05105419347877204, 0.05105419347877204, 0.05105419347877204, 0.05105419347877204, 0.1420347503166939, 0.34977861868175114, 0.13453023795451963, 0.2340874518054668, 0.05287849162926658, 0.05287849162926658, 0.25193946730972816, 0.08071814277271178, 0.5558383475365961, 0.12992610269757623, 0.29516704880458766, 0.2135348657169634, 0.09161435174899207, 0.09161435174899207, 0.09161435174899207, 0.10822123293203786, 0.2617568598652292, 0.06896131955390092, 0.0699124990329888, 0.9302922516259263, 0.149304876949109, 0.10508482242017717, 0.7399548697246057, 2.5371487143543128, 0.6547472661364393, 2.797713710446124, 3.758602330487421, 0.5241369343735831, 2.762584095315295, 0.3081404740054119, 0.30730353848420167, 0.6547175709247925, 0.8828732999201953, 1.5960184508414843, 0.9066818961343056, 1.1847077868328422, 1.5961308872198907, 1.2770179624765787, 1.4604611126390044, 0.6254666645232373, 1.009601975453237, 3.9899153706407984, 1.33718491705627, 0.04869760386496651, 0.08891465332279755, 0.04869760386496651, 0.04869760386496651, 0.5124355671162296, 0.08891465332279755, 0.04869760386496651, 0.2434880193248325, 0.04869760386496651, 0.04869760386496651, 0.04869760386496651, 0.08891465332279755, 0.04869760386496651, 0.09059194099462531, 0.08891465332279755, 0.04869760386496651, 0.04869760386496651, 0.04869760386496651, 0.04869760386496651, 0.04869760386496651, 0.04869760386496651, 0.1778293066455951, 0.09739520772993301, 0.08891465332279755, 0.12707551691164648, 0.08891465332279755, 0.08891465332279755, 0.04869760386496651, 0.48879339910901326, 0.04869760386496651, 0.2402574807761626, 0.223949630787671, 0.19479041545986603, 2.452234992125377, 0.1778293066455951, 0.1778293066455951, 0.15047638808314195, 0.12434208972063658, 0.12434208972063658, 0.09739520772993301, 0.08891465332279755, 0.08891465332279755, 0.08891465332279755, 0.08891465332279755, 0.08891465332279755, 0.08289472648042438, 0.4803534122115785, 0.7867403516050032, 0.29475745730417957, 0.2383747531289835, 0.19551934371630542, 0.21747709384440234, 1.3422039954386968, 0.46020421879216145, 0.3668091406494213, 0.2642961757250611, 1.1633136492431897, 0.9158094143638501, 0.3443687359139051, 0.18166521039908098, 0.3209780298232198, 0.7643879159518184, 0.5563884263073668, 0.6878173171661608, 0.7221193717464295, 0.45997315764289104, 1.094638946086953, 1.3570007888253277, 0.9328512485279139, 2.1020501692505977, 0.750600345675117, 1.5960184508414843, 0.41277293063909026, 1.1284410298753635, 2.8615040355579144, 0.5714279201234018, 2.5371487143543128, 1.617208550032915, 0.6338095279376916, 3.9899153706407984, 1.5961308872198907, 1.0145407718086312, 2.5489676773786694, 1.1951938931587665, 2.601400985772085, 1.33718491705627, 0.05761292077832034, 0.05761292077832034, 0.05440871662813234, 0.05761292077832034, 0.05440871662813234, 0.0782651980410801, 0.05440871662813234, 0.05440871662813234, 0.05761292077832034, 0.05440871662813234, 0.05761292077832034, 0.10881743325626468, 0.05440871662813234, 0.05440871662813234, 0.18665817269509472, 0.05440871662813234, 0.05440871662813234, 0.05440871662813234, 0.05440871662813234, 0.05761292077832034, 0.05761292077832034, 0.1552578507930683, 0.05440871662813234, 0.05761292077832034, 0.11522584155664067, 0.05761292077832034, 0.05440871662813234, 0.3206410899108296, 0.05440871662813234, 0.05440871662813234, 2.9946615123318865, 0.6845078590352855, 0.539772504752087, 0.3422000833076918, 0.3317825546927132, 0.3169859142155581, 0.2940437380529421, 0.2809234512767466, 0.27839078522674, 0.26612741201008955, 0.2177262728246885, 0.21015833829039798, 0.18490590477227453, 0.18155134793871702, 0.18155134793871702, 0.17786023926955044, 0.17283876233496107, 0.16660087479679644, 0.16322614988439701, 0.1597592901327824, 0.1597592901327824, 0.1597592901327824, 0.15397468623948823, 0.15290253546510849, 0.1523003110076521, 0.14644934066758053, 0.14231744474670935, 0.5985114761913788, 0.19638812194010338, 0.6376913911521233, 0.767455251989136, 0.42061233412017673, 0.20094200676605758, 0.28040822274678445, 0.20888609609950373, 0.252367400472106, 0.35298225243108833, 0.8083987824230024, 0.9060480201521344, 0.3137404681266154, 1.1140294117708704, 0.19578311584615452, 0.4005245439008542, 2.2320590404005096, 0.46729858426924326, 1.2831622555494087, 0.5868801532038452, 2.382353427592943, 0.9850581626308407, 3.9899153706407984, 1.4422455963235399, 1.5818672014549082, 0.05197595806003457, 0.3118557483602074, 0.03424402034969179, 0.03065803201660433, 0.091974096049813, 0.03424402034969179, 0.03424402034969179, 0.13697608139876716, 0.03424402034969179, 0.03424402034969179, 0.05197595806003457, 0.03424402034969179, 0.03065803201660433, 0.03065803201660433, 0.05197595806003457, 0.03424402034969179, 0.03065803201660433, 0.03424402034969179, 0.05197595806003457, 0.03424402034969179, 0.03065803201660433, 0.03065803201660433, 0.05197595806003457, 0.05197595806003457, 0.03424402034969179, 0.03424402034969179, 0.03424402034969179, 0.05197595806003457, 0.03065803201660433, 0.03424402034969179, 1.3786931573743118, 0.8452195948741308, 0.383995176217779, 0.2739521627975343, 0.2725222837342149, 0.23970814244784253, 0.20790383224013828, 0.19028376358363952, 0.17295038138262342, 0.1716404612113768, 0.5100257518369802, 0.1474680353948171, 0.13697608139876716, 0.13697608139876716, 0.13697608139876716, 0.13697608139876716, 0.1228123988377303, 0.10395191612006914, 0.10395191612006914, 0.10395191612006914, 0.10273206104907538, 0.10273206104907538, 0.10273206104907538, 0.091974096049813, 0.091974096049813, 0.06848804069938358, 0.06848804069938358, 0.46148651294208215, 0.25314304054701187, 0.43893652192229676, 0.1562991291278287, 0.5062647884604466, 0.29085914660481615, 0.18511849674717465, 0.2061884091213347, 2.601400985772085, 0.7969549038376744, 1.5896158611530096, 0.2151439864043264, 0.9059427371086582, 1.39604973319085, 0.30030521694130263, 0.22127764285404564, 0.22668466367973703, 0.5357063973625693, 0.510291323380798, 0.6342741050784532, 0.8829160178711, 0.5142330780518056, 0.546333793296274, 0.2627670648236399, 0.9983978391326804, 1.3570007888253277, 0.508549387271754, 0.5330494013370203, 0.7491277333035563, 1.1951938931587665, 2.5371487143543128, 0.9133913510468676, 1.617208550032915, 3.9899153706407984, 1.0221182549749872, 2.098429845674053, 2.451800600637633, 0.05490653796792571, 0.09210746170804636, 3.0874741112648953, 0.18302179322641904, 0.08375525178565252, 0.09151089661320952, 0.05490653796792571, 0.018302179322641905, 0.03660435864528381, 0.018302179322641905, 0.018302179322641905, 0.018302179322641905, 0.018302179322641905, 0.018302179322641905, 0.03660435864528381, 0.018302179322641905, 0.03660435864528381, 0.018302179322641905, 0.018302179322641905, 0.018302179322641905, 0.018302179322641905, 0.018302179322641905, 0.018302179322641905, 0.018302179322641905, 0.03660435864528381, 0.018302179322641905, 0.018302179322641905, 0.018302179322641905, 0.018302179322641905, 0.018302179322641905, 1.0890618755358745, 0.6954828142603924, 0.06406246326681615, 0.06406246326681615, 0.06406246326681615, 0.06406246326681615, 0.06406246326681615, 0.06406246326681615, 0.06406246326681615, 0.06406246326681615, 0.06406246326681615, 0.03660435864528381, 0.03660435864528381, 0.31753658638853915, 0.6023793946471862, 0.31756135347437187, 0.43376246227636384, 0.045878686855484144, 0.2118948200191454, 0.6928245124767483, 0.8217514974284553, 0.7226735665621851, 1.1620608487639994, 0.1412632133460969, 0.1412632133460969, 0.3172611484072013, 1.2770179624765787, 0.3677111236302164, 0.2259269900466801, 0.17670551059557407, 1.2916309383768607, 0.2160957378992838, 0.3692517565691821, 0.47736472239366773, 0.1314072951405035, 0.13870477806441853, 0.4174118468132765, 2.8615040355579144, 0.30378412223219026, 1.9519224725340036, 0.5439431060557767, 2.2131536025343648, 0.9723849684623543, 0.5335444757995662, 0.2752417042494212, 2.1020501692505977, 0.5697272387072051, 1.1129805704461977, 1.5961308872198907, 0.6146087916229745, 1.0014246163727398, 0.31999870627122234, 1.1428841555574305, 0.08701102369979481, 0.049028916800665095, 0.049028916800665095, 0.08701102369979481, 0.08701102369979481, 0.049028916800665095, 0.049028916800665095, 0.049028916800665095, 0.049028916800665095, 0.08701102369979481, 0.049028916800665095, 0.13501702336707597, 0.24902082464956374, 0.5979279934098485, 0.3981837391948209, 0.08701102369979481, 0.049028916800665095, 0.08701102369979481, 0.08701102369979481, 0.08701102369979481, 0.12451041232478187, 0.12451041232478187, 0.12451041232478187, 0.08701102369979481, 0.09805783360133019, 0.09805783360133019, 0.049028916800665095, 0.16182092312726598, 0.6671875329876444, 0.9766782260825213, 1.8303804469859286, 0.2903416775253044, 0.4021568258940198, 0.26674470350083523, 0.4160915160626055, 0.7733516518911825, 0.1621530985322659, 0.9391868016738449, 0.7106242036616909, 0.17878221197367702, 2.451800600637633, 0.6773416341079255, 0.38864219104773984, 0.9990927420977875, 0.43621125803720595, 0.24157135204709487, 0.6861459517004312, 0.34465804894967345, 3.758602330487421, 0.9854882353069785, 0.764140463923581, 2.762584095315295, 1.354972527877519, 0.30457521911631086, 1.1980513033071885, 2.063469787559419, 2.5489676773786694, 1.1284410298753635, 2.1020501692505977, 3.9899153706407984, 0.032257677258294336, 0.032257677258294336, 0.22580374080806034, 0.10389641263377523, 0.007636600867623274, 0.007636600867623274, 0.007636600867623274, 0.032257677258294336, 0.10389641263377523, 0.007636600867623274, 0.032257677258294336, 0.007636600867623274, 0.007636600867623274, 0.007636600867623274, 0.10389641263377523, 0.007636600867623274, 0.10389641263377523, 0.007636600867623274, 0.007636600867623274, 0.007636600867623274, 0.007636600867623274, 0.030900437637771876, 0.032257677258294336, 0.007636600867623274, 0.007636600867623274, 0.032257677258294336, 0.007636600867623274, 0.007636600867623274, 0.007636600867623274, 0.007636600867623274, 0.9769532715946313, 0.5727450650717456, 0.29925202866233686, 0.2625678710765006, 0.39837548723316224, 0.19706231504041305, 0.1780240018301564, 0.12982221474959568, 0.12903070903317734, 0.26096871637963354, 0.11517026258243693, 0.10389641263377523, 0.10389641263377523, 0.10389641263377523, 0.10389641263377523, 0.10389641263377523, 0.10389641263377523, 0.10389641263377523, 0.10389641263377523, 0.10389641263377523, 0.10389641263377523, 0.10389641263377523, 0.10389641263377523, 0.10389641263377523, 0.10389641263377523, 0.6340716636868577, 0.3565118451530686, 2.269276251826554, 0.35048407320510305, 0.23767456343537915, 0.26482093156262215, 1.3785165171642284, 0.7690393360462717, 0.1908048327633356, 0.1782559225765343, 0.1782559225765343, 0.17070532497660373, 0.5778185689678765, 1.303874971729871, 0.4519710656129424, 0.4002575698211168, 1.1129805704461977, 0.2753544311688961, 0.31348558329272924, 0.5489728087523487, 2.2131536025343648, 0.24293946974646388, 0.6273152894432493, 1.0923162359540513, 0.46272318789406786, 0.7416979552705556, 1.4871313536216175, 2.797713710446124, 1.1945696319089996, 2.5489676773786694, 1.2684220012381036, 3.9899153706407984, 2.7019078795742297, 1.7045288673046022, 2.762584095315295, 1.0209106987571404, 1.0067005369672093, 0.7697567092867272, 2.5371487143543128, 0.03738454391498945, 0.03738454391498945, 0.11215363174496837, 0.03738454391498945, 0.03738454391498945, 0.03738454391498945, 0.03738454391498945, 0.03738454391498945, 0.03738454391498945, 0.03738454391498945, 0.03738454391498945, 0.03738454391498945, 0.03738454391498945, 0.03738454391498945, 0.0747690878299789, 0.03738454391498945, 0.03738454391498945, 0.11215363174496837, 0.11215363174496837, 0.03738454391498945, 0.44526842506241526, 0.11215363174496837, 2.469185941928576, 0.03738454391498945, 0.8870317454599379, 0.07662488038818309, 0.07662488038818309, 0.07662488038818309, 0.07662488038818309, 0.07662488038818309, 0.2298746411645493, 0.3607395283224245, 0.15324976077636618, 0.07662488038818309, 0.07662488038818309, 0.07662488038818309, 0.07662488038818309, 0.07662488038818309, 0.07662488038818309, 0.07662488038818309, 0.07662488038818309, 0.07662488038818309, 0.07662488038818309, 0.07662488038818309, 0.07662488038818309, 0.5491597546557254, 0.07040098842885509, 0.6213233390082827, 0.22931669845327254, 0.14772957303627443, 0.14914058635041436, 0.280076927203064, 0.8101426012833481, 2.797713710446124, 0.4614566701443864, 0.2961816227698585, 0.3705284786078074, 0.6146087916229745, 0.27780870928291235, 0.5439431060557767, 0.11632894164805557, 0.5921539453860952, 0.7176096464858609, 0.17758068490916787, 0.9502370250873198, 0.516842331265301, 0.2960115029061907, 1.7045288673046022, 0.6234468759425112, 0.41544950099468725, 0.4263776831230722, 1.1390905563407048, 1.2684220012381036, 2.601400985772085, 0.7416979552705556, 1.3157957207431217, 1.6446264094910368, 2.8615040355579144], \"Category\": [\"Default\", \"Default\", \"Default\", \"Default\", \"Default\", \"Default\", \"Default\", \"Default\", \"Default\", \"Default\", \"Default\", \"Default\", \"Default\", \"Default\", \"Default\", \"Default\", \"Default\", \"Default\", \"Default\", \"Default\", \"Default\", \"Default\", \"Default\", \"Default\", \"Default\", \"Default\", \"Default\", \"Default\", \"Default\", \"Default\", \"Topic1\", \"Topic1\", \"Topic1\", \"Topic1\", \"Topic1\", \"Topic1\", \"Topic1\", \"Topic1\", \"Topic1\", \"Topic1\", \"Topic1\", \"Topic1\", \"Topic1\", \"Topic1\", \"Topic1\", \"Topic1\", \"Topic1\", \"Topic1\", \"Topic1\", \"Topic1\", \"Topic1\", \"Topic1\", \"Topic1\", \"Topic1\", \"Topic1\", \"Topic1\", \"Topic1\", \"Topic1\", \"Topic1\", \"Topic1\", \"Topic1\", \"Topic1\", \"Topic1\", \"Topic1\", \"Topic1\", \"Topic1\", \"Topic1\", \"Topic1\", \"Topic1\", \"Topic1\", \"Topic1\", \"Topic1\", \"Topic1\", \"Topic1\", \"Topic1\", \"Topic1\", \"Topic1\", \"Topic1\", \"Topic1\", \"Topic1\", \"Topic1\", \"Topic1\", \"Topic1\", \"Topic1\", \"Topic1\", \"Topic1\", \"Topic1\", \"Topic1\", \"Topic1\", \"Topic1\", \"Topic1\", \"Topic1\", \"Topic1\", \"Topic1\", \"Topic1\", \"Topic1\", \"Topic1\", \"Topic1\", \"Topic1\", \"Topic1\", \"Topic1\", \"Topic1\", \"Topic1\", \"Topic1\", \"Topic1\", \"Topic1\", \"Topic1\", \"Topic1\", \"Topic1\", \"Topic1\", \"Topic1\", \"Topic1\", \"Topic1\", \"Topic1\", \"Topic1\", \"Topic1\", \"Topic1\", \"Topic1\", \"Topic2\", \"Topic2\", \"Topic2\", \"Topic2\", \"Topic2\", \"Topic2\", \"Topic2\", \"Topic2\", \"Topic2\", \"Topic2\", \"Topic2\", \"Topic2\", \"Topic2\", \"Topic2\", \"Topic2\", \"Topic2\", \"Topic2\", \"Topic2\", \"Topic2\", \"Topic2\", \"Topic2\", \"Topic2\", \"Topic2\", \"Topic2\", \"Topic2\", \"Topic2\", \"Topic2\", \"Topic2\", \"Topic2\", \"Topic2\", \"Topic2\", \"Topic2\", \"Topic2\", \"Topic2\", \"Topic2\", \"Topic2\", \"Topic2\", \"Topic2\", \"Topic2\", \"Topic2\", \"Topic2\", \"Topic2\", \"Topic2\", \"Topic2\", \"Topic2\", \"Topic2\", \"Topic2\", \"Topic2\", \"Topic2\", \"Topic2\", \"Topic2\", \"Topic2\", \"Topic2\", \"Topic2\", \"Topic2\", \"Topic2\", \"Topic2\", \"Topic2\", \"Topic2\", \"Topic2\", \"Topic2\", \"Topic2\", \"Topic2\", \"Topic2\", \"Topic2\", \"Topic2\", \"Topic2\", \"Topic2\", \"Topic2\", \"Topic2\", \"Topic2\", \"Topic2\", \"Topic2\", \"Topic2\", \"Topic2\", \"Topic2\", \"Topic2\", \"Topic2\", \"Topic2\", \"Topic2\", \"Topic2\", \"Topic2\", \"Topic2\", \"Topic2\", \"Topic2\", \"Topic2\", \"Topic2\", \"Topic2\", \"Topic2\", \"Topic2\", \"Topic2\", \"Topic2\", \"Topic2\", \"Topic2\", \"Topic2\", \"Topic2\", \"Topic2\", \"Topic2\", \"Topic2\", \"Topic2\", \"Topic2\", \"Topic2\", \"Topic2\", \"Topic2\", \"Topic3\", \"Topic3\", \"Topic3\", \"Topic3\", \"Topic3\", \"Topic3\", \"Topic3\", \"Topic3\", \"Topic3\", \"Topic3\", \"Topic3\", \"Topic3\", \"Topic3\", \"Topic3\", \"Topic3\", \"Topic3\", \"Topic3\", \"Topic3\", \"Topic3\", \"Topic3\", \"Topic3\", \"Topic3\", \"Topic3\", \"Topic3\", \"Topic3\", \"Topic3\", \"Topic3\", \"Topic3\", \"Topic3\", \"Topic3\", \"Topic3\", \"Topic3\", \"Topic3\", \"Topic3\", \"Topic3\", \"Topic3\", \"Topic3\", \"Topic3\", \"Topic3\", \"Topic3\", \"Topic3\", \"Topic3\", \"Topic3\", \"Topic3\", \"Topic3\", \"Topic3\", \"Topic3\", \"Topic3\", \"Topic3\", \"Topic3\", \"Topic3\", \"Topic3\", \"Topic3\", \"Topic3\", \"Topic3\", \"Topic3\", \"Topic3\", \"Topic3\", \"Topic3\", \"Topic3\", \"Topic3\", \"Topic3\", \"Topic3\", \"Topic3\", \"Topic3\", \"Topic3\", \"Topic3\", \"Topic3\", \"Topic3\", \"Topic3\", \"Topic3\", \"Topic3\", \"Topic3\", \"Topic3\", \"Topic3\", \"Topic4\", \"Topic4\", \"Topic4\", \"Topic4\", \"Topic4\", \"Topic4\", \"Topic4\", \"Topic4\", \"Topic4\", \"Topic4\", \"Topic4\", \"Topic4\", \"Topic4\", \"Topic4\", \"Topic4\", \"Topic4\", \"Topic4\", \"Topic4\", \"Topic4\", \"Topic4\", \"Topic4\", \"Topic4\", \"Topic4\", \"Topic4\", \"Topic4\", \"Topic4\", \"Topic4\", \"Topic4\", \"Topic4\", \"Topic4\", \"Topic4\", \"Topic4\", \"Topic4\", \"Topic4\", \"Topic4\", \"Topic4\", \"Topic4\", \"Topic4\", \"Topic4\", \"Topic4\", \"Topic4\", \"Topic4\", \"Topic4\", \"Topic4\", \"Topic4\", \"Topic4\", \"Topic4\", \"Topic4\", \"Topic4\", \"Topic4\", \"Topic4\", \"Topic4\", \"Topic4\", \"Topic4\", \"Topic4\", \"Topic4\", \"Topic4\", \"Topic4\", \"Topic4\", \"Topic4\", \"Topic4\", \"Topic4\", \"Topic4\", \"Topic4\", \"Topic4\", \"Topic4\", \"Topic4\", \"Topic4\", \"Topic4\", \"Topic4\", \"Topic4\", \"Topic4\", \"Topic4\", \"Topic4\", \"Topic4\", \"Topic4\", \"Topic4\", \"Topic4\", \"Topic4\", \"Topic4\", \"Topic4\", \"Topic4\", \"Topic4\", \"Topic4\", \"Topic4\", \"Topic4\", \"Topic4\", \"Topic5\", \"Topic5\", \"Topic5\", \"Topic5\", \"Topic5\", \"Topic5\", \"Topic5\", \"Topic5\", \"Topic5\", \"Topic5\", \"Topic5\", \"Topic5\", \"Topic5\", \"Topic5\", \"Topic5\", \"Topic5\", \"Topic5\", \"Topic5\", \"Topic5\", \"Topic5\", \"Topic5\", \"Topic5\", \"Topic5\", \"Topic5\", \"Topic5\", \"Topic5\", \"Topic5\", \"Topic5\", \"Topic5\", \"Topic5\", \"Topic5\", \"Topic5\", \"Topic5\", \"Topic5\", \"Topic5\", \"Topic5\", \"Topic5\", \"Topic5\", \"Topic5\", \"Topic5\", \"Topic5\", \"Topic5\", \"Topic5\", \"Topic5\", \"Topic5\", \"Topic5\", \"Topic5\", \"Topic5\", \"Topic5\", \"Topic5\", \"Topic5\", \"Topic5\", \"Topic5\", \"Topic5\", \"Topic5\", \"Topic5\", \"Topic5\", \"Topic5\", \"Topic5\", \"Topic5\", \"Topic5\", \"Topic5\", \"Topic5\", \"Topic5\", \"Topic5\", \"Topic5\", \"Topic5\", \"Topic5\", \"Topic5\", \"Topic5\", \"Topic5\", \"Topic5\", \"Topic5\", \"Topic5\", \"Topic5\", \"Topic5\", \"Topic5\", \"Topic5\", \"Topic5\", \"Topic5\", \"Topic5\", \"Topic5\", \"Topic5\", \"Topic5\", \"Topic5\", \"Topic5\", \"Topic6\", \"Topic6\", \"Topic6\", \"Topic6\", \"Topic6\", \"Topic6\", \"Topic6\", \"Topic6\", \"Topic6\", \"Topic6\", \"Topic6\", \"Topic6\", \"Topic6\", \"Topic6\", \"Topic6\", \"Topic6\", \"Topic6\", \"Topic6\", \"Topic6\", \"Topic6\", \"Topic6\", \"Topic6\", \"Topic6\", \"Topic6\", \"Topic6\", \"Topic6\", \"Topic6\", \"Topic6\", \"Topic6\", \"Topic6\", \"Topic6\", \"Topic6\", \"Topic6\", \"Topic6\", \"Topic6\", \"Topic6\", \"Topic6\", \"Topic6\", \"Topic6\", \"Topic6\", \"Topic6\", \"Topic6\", \"Topic6\", \"Topic6\", \"Topic6\", \"Topic6\", \"Topic6\", \"Topic6\", \"Topic6\", \"Topic6\", \"Topic6\", \"Topic6\", \"Topic6\", \"Topic6\", \"Topic6\", \"Topic6\", \"Topic6\", \"Topic6\", \"Topic6\", \"Topic6\", \"Topic6\", \"Topic6\", \"Topic6\", \"Topic6\", \"Topic6\", \"Topic6\", \"Topic6\", \"Topic6\", \"Topic6\", \"Topic6\", \"Topic6\", \"Topic6\", \"Topic6\", \"Topic6\", \"Topic6\", \"Topic6\", \"Topic6\", \"Topic6\", \"Topic6\", \"Topic6\", \"Topic6\", \"Topic6\", \"Topic7\", \"Topic7\", \"Topic7\", \"Topic7\", \"Topic7\", \"Topic7\", \"Topic7\", \"Topic7\", \"Topic7\", \"Topic7\", \"Topic7\", \"Topic7\", \"Topic7\", \"Topic7\", \"Topic7\", \"Topic7\", \"Topic7\", \"Topic7\", \"Topic7\", \"Topic7\", \"Topic7\", \"Topic7\", \"Topic7\", \"Topic7\", \"Topic7\", \"Topic7\", \"Topic7\", \"Topic7\", \"Topic7\", \"Topic7\", \"Topic7\", \"Topic7\", \"Topic7\", \"Topic7\", \"Topic7\", \"Topic7\", \"Topic7\", \"Topic7\", \"Topic7\", \"Topic7\", \"Topic7\", \"Topic7\", \"Topic7\", \"Topic7\", \"Topic7\", \"Topic7\", \"Topic7\", \"Topic7\", \"Topic7\", \"Topic7\", \"Topic7\", \"Topic7\", \"Topic7\", \"Topic7\", \"Topic7\", \"Topic7\", \"Topic7\", \"Topic7\", \"Topic7\", \"Topic7\", \"Topic7\", \"Topic7\", \"Topic7\", \"Topic7\", \"Topic7\", \"Topic7\", \"Topic7\", \"Topic7\", \"Topic7\", \"Topic7\", \"Topic7\", \"Topic7\", \"Topic7\", \"Topic7\", \"Topic7\", \"Topic7\", \"Topic7\", \"Topic7\", \"Topic7\", \"Topic7\", \"Topic7\", \"Topic7\", \"Topic7\", \"Topic7\", \"Topic7\", \"Topic7\", \"Topic7\", \"Topic7\", \"Topic7\", \"Topic7\", \"Topic7\", \"Topic7\", \"Topic7\", \"Topic7\", \"Topic8\", \"Topic8\", \"Topic8\", \"Topic8\", \"Topic8\", \"Topic8\", \"Topic8\", \"Topic8\", \"Topic8\", \"Topic8\", \"Topic8\", \"Topic8\", \"Topic8\", \"Topic8\", \"Topic8\", \"Topic8\", \"Topic8\", \"Topic8\", \"Topic8\", \"Topic8\", \"Topic8\", \"Topic8\", \"Topic8\", \"Topic8\", \"Topic8\", \"Topic8\", \"Topic8\", \"Topic8\", \"Topic8\", \"Topic8\", \"Topic8\", \"Topic8\", \"Topic8\", \"Topic8\", \"Topic8\", \"Topic8\", \"Topic8\", \"Topic8\", \"Topic8\", \"Topic8\", \"Topic8\", \"Topic8\", \"Topic8\", \"Topic8\", \"Topic8\", \"Topic8\", \"Topic8\", \"Topic8\", \"Topic8\", \"Topic8\", \"Topic8\", \"Topic8\", \"Topic8\", \"Topic8\", \"Topic8\", \"Topic8\", \"Topic8\", \"Topic8\", \"Topic8\", \"Topic8\", \"Topic8\", \"Topic8\", \"Topic8\", \"Topic8\", \"Topic8\", \"Topic8\", \"Topic8\", \"Topic8\", \"Topic8\", \"Topic8\", \"Topic8\", \"Topic8\", \"Topic8\", \"Topic8\", \"Topic8\", \"Topic8\", \"Topic8\", \"Topic8\", \"Topic8\", \"Topic8\", \"Topic8\", \"Topic9\", \"Topic9\", \"Topic9\", \"Topic9\", \"Topic9\", \"Topic9\", \"Topic9\", \"Topic9\", \"Topic9\", \"Topic9\", \"Topic9\", \"Topic9\", \"Topic9\", \"Topic9\", \"Topic9\", \"Topic9\", \"Topic9\", \"Topic9\", \"Topic9\", \"Topic9\", \"Topic9\", \"Topic9\", \"Topic9\", \"Topic9\", \"Topic9\", \"Topic9\", \"Topic9\", \"Topic9\", \"Topic9\", \"Topic9\", \"Topic9\", \"Topic9\", \"Topic9\", \"Topic9\", \"Topic9\", \"Topic9\", \"Topic9\", \"Topic9\", \"Topic9\", \"Topic9\", \"Topic9\", \"Topic9\", \"Topic9\", \"Topic9\", \"Topic9\", \"Topic9\", \"Topic9\", \"Topic9\", \"Topic9\", \"Topic9\", \"Topic9\", \"Topic9\", \"Topic9\", \"Topic9\", \"Topic9\", \"Topic9\", \"Topic9\", \"Topic9\", \"Topic9\", \"Topic9\", \"Topic9\", \"Topic9\", \"Topic10\", \"Topic10\", \"Topic10\", \"Topic10\", \"Topic10\", \"Topic10\", \"Topic10\", \"Topic10\", \"Topic10\", \"Topic10\", \"Topic10\", \"Topic10\", \"Topic10\", \"Topic10\", \"Topic10\", \"Topic10\", \"Topic10\", \"Topic10\", \"Topic10\", \"Topic10\", \"Topic10\", \"Topic10\", \"Topic10\", \"Topic10\", \"Topic10\", \"Topic10\", \"Topic10\", \"Topic10\", \"Topic10\", \"Topic10\", \"Topic10\", \"Topic10\", \"Topic10\", \"Topic10\", \"Topic10\", \"Topic10\", \"Topic10\", \"Topic10\", \"Topic10\", \"Topic10\", \"Topic10\", \"Topic10\", \"Topic10\", \"Topic10\", \"Topic10\", \"Topic10\", \"Topic10\", \"Topic10\", \"Topic10\", \"Topic10\", \"Topic10\", \"Topic10\", \"Topic10\", \"Topic10\", \"Topic10\", \"Topic10\", \"Topic10\", \"Topic10\", \"Topic10\", \"Topic10\", \"Topic10\", \"Topic10\", \"Topic10\", \"Topic10\", \"Topic10\", \"Topic10\", \"Topic10\", \"Topic10\", \"Topic10\", \"Topic10\", \"Topic10\", \"Topic10\", \"Topic10\", \"Topic10\", \"Topic10\", \"Topic10\", \"Topic10\", \"Topic10\", \"Topic10\", \"Topic10\", \"Topic10\", \"Topic10\", \"Topic10\", \"Topic10\", \"Topic10\", \"Topic10\", \"Topic10\", \"Topic10\", \"Topic10\", \"Topic10\", \"Topic10\", \"Topic10\", \"Topic10\", \"Topic10\", \"Topic11\", \"Topic11\", \"Topic11\", \"Topic11\", \"Topic11\", \"Topic11\", \"Topic11\", \"Topic11\", \"Topic11\", \"Topic11\", \"Topic11\", \"Topic11\", \"Topic11\", \"Topic11\", \"Topic11\", \"Topic11\", \"Topic11\", \"Topic11\", \"Topic11\", \"Topic11\", \"Topic11\", \"Topic11\", \"Topic11\", \"Topic11\", \"Topic11\", \"Topic11\", \"Topic11\", \"Topic11\", \"Topic11\", \"Topic11\", \"Topic11\", \"Topic11\", \"Topic11\", \"Topic11\", \"Topic11\", \"Topic11\", \"Topic11\", \"Topic11\", \"Topic11\", \"Topic11\", \"Topic11\", \"Topic11\", \"Topic11\", \"Topic11\", \"Topic11\", \"Topic11\", \"Topic11\", \"Topic11\", \"Topic11\", \"Topic11\", \"Topic11\", \"Topic11\", \"Topic11\", \"Topic11\", \"Topic11\", \"Topic11\", \"Topic11\", \"Topic11\", \"Topic11\", \"Topic11\", \"Topic11\", \"Topic11\", \"Topic11\", \"Topic11\", \"Topic11\", \"Topic11\", \"Topic11\", \"Topic11\", \"Topic11\", \"Topic11\", \"Topic11\", \"Topic11\", \"Topic11\", \"Topic11\", \"Topic11\", \"Topic11\", \"Topic11\", \"Topic11\"], \"logprob\": [30.0, 29.0, 28.0, 27.0, 26.0, 25.0, 24.0, 23.0, 22.0, 21.0, 20.0, 19.0, 18.0, 17.0, 16.0, 15.0, 14.0, 13.0, 12.0, 11.0, 10.0, 9.0, 8.0, 7.0, 6.0, 5.0, 4.0, 3.0, 2.0, 1.0, -6.519, -7.6327, -7.5265, -8.2197, -8.2197, -6.8334, -7.6327, -7.6327, -8.2197, -8.2197, -8.2197, -8.2197, -6.8334, -6.5506, -8.2197, -7.6327, -6.619, -8.2197, -7.6327, -7.6327, -8.2197, -7.3064, -7.6327, -7.6327, -8.2197, -8.2197, -7.3064, -7.3654, -8.2197, -8.2197, -4.8147, -5.0416, -5.5116, -5.6326, -5.8218, -5.8486, -6.1708, -6.2464, -6.3608, -3.7914, -6.6102, -6.9396, -7.1211, -7.1211, -7.1211, -7.1211, -7.3064, -7.3064, -7.3064, -7.3064, -7.3122, -5.9645, -6.7016, -5.1787, -5.7105, -4.8019, -4.9539, -6.0801, -5.1219, -7.0238, -5.8388, -5.3864, -5.8177, -6.1597, -6.7737, -5.5918, -4.2062, -5.3258, -5.7619, -4.3947, -5.4354, -5.5412, -5.53, -5.2865, -5.1721, -5.456, -5.5533, -5.4954, -5.3922, -5.4234, -5.2773, -5.2793, -5.4434, -5.4388, -5.5349, -5.4776, -5.5313, -5.5748, -7.7551, -9.4448, -8.9689, -10.4188, -10.4188, -9.3202, -10.4188, -9.5481, -8.4729, -10.4188, -10.4188, -10.4188, -10.4188, -9.5481, -8.9064, -10.4188, -8.8671, -9.5996, -10.4188, -8.9064, -10.4188, -10.4188, -9.5996, -10.4188, -9.7257, -10.4188, -10.4188, -10.4188, -10.4188, -10.4188, -6.5249, -6.527, -6.6397, -6.3607, -6.7053, -7.024, -7.025, -7.0346, -7.2017, -6.579, -7.297, -7.3978, -7.662, -7.7564, -7.8328, -7.9066, -7.9274, -7.9902, -7.9902, -8.0359, -7.8708, -8.091, -8.1408, -8.1413, -8.1465, -7.5589, -8.1845, -7.0916, -7.7317, -6.5415, -6.5612, -5.6349, -7.5391, -6.9527, -7.6552, -5.9348, -6.6067, -7.1076, -6.3413, -5.626, -6.7375, -6.8843, -6.6772, -7.2521, -7.2691, -7.1076, -6.1866, -6.2582, -5.4481, -5.6397, -6.953, -6.5285, -6.1016, -5.411, -6.195, -5.8259, -6.5822, -6.6076, -6.4807, -6.6673, -6.3509, -6.5571, -6.204, -6.3205, -6.0689, -6.4814, -5.8931, -6.4202, -6.4307, -6.2744, -6.3643, -6.4549, -6.3515, -6.534, -6.0026, -7.0611, -7.0611, -5.1764, -7.0272, -7.0611, -6.3184, -7.0115, -7.0272, -7.0272, -7.0272, -7.0611, -7.0272, -7.0611, -7.0611, -6.884, -7.0611, -5.6748, -7.0272, -7.0272, -7.0611, -7.0272, -6.3679, -5.0031, -6.3679, -6.4147, -7.0272, -6.334, -7.0611, -7.0115, -4.282, -4.0885, -4.624, -6.3184, -6.334, -6.3679, -6.4026, -4.9567, -5.1607, -6.4527, -7.0115, -5.9376, -6.2188, -4.0389, -5.4898, -5.1046, -5.33, -3.9648, -6.8727, -6.8851, -4.7258, -5.1623, -5.1718, -4.1413, -5.4426, -5.6757, -5.9186, -6.0539, -5.9655, -5.2349, -5.4219, -5.049, -5.83, -5.9859, -5.697, -4.4331, -5.376, -5.0944, -5.3961, -5.4166, -5.6118, -5.1075, -5.6631, -5.6448, -5.6742, -7.7301, -7.7301, -7.7301, -7.7301, -7.7301, -7.3789, -7.7301, -7.7301, -7.037, -7.3789, -5.8621, -7.7301, -7.7301, -7.7301, -7.7301, -7.7301, -7.3789, -7.7301, -7.3789, -7.3789, -7.7301, -7.7301, -5.2452, -7.7301, -7.7301, -7.7301, -7.7301, -7.3789, -7.7301, -7.3789, -3.7783, -4.4659, -3.4023, -5.6241, -6.3438, -5.6524, -6.6857, -7.037, -7.037, -7.3789, -7.3789, -7.3789, -7.3789, -7.3789, -6.3679, -5.4799, -6.4354, -5.8997, -7.3516, -7.3516, -5.8538, -6.9462, -5.1757, -6.5219, -5.8371, -6.1216, -6.8654, -6.8654, -6.8654, -6.7232, -5.9621, -7.1232, -7.1163, -4.9927, -6.5047, -6.7916, -5.3306, -4.4301, -5.5218, -4.5662, -4.3808, -5.7023, -4.661, -6.0863, -6.1045, -5.6591, -5.5061, -5.2075, -5.6286, -5.5983, -5.5096, -5.6155, -5.5834, -5.8627, -5.7522, -5.4845, -5.8401, -7.6369, -7.0349, -7.6369, -7.6369, -5.2834, -7.0349, -7.6369, -6.0275, -7.6369, -7.6369, -7.6369, -7.0349, -7.6369, -7.0162, -7.0349, -7.6369, -7.6369, -7.6369, -7.6369, -7.6369, -7.6369, -6.3417, -6.9438, -7.0349, -6.6777, -7.0349, -7.0349, -7.6369, -5.3306, -7.6369, -6.0408, -6.1111, -6.2506, -3.744, -6.3417, -6.3417, -6.5096, -6.6995, -6.6995, -6.9438, -7.0349, -7.0349, -7.0349, -7.0349, -7.0349, -7.105, -5.3953, -4.9237, -5.8811, -6.0948, -6.2857, -6.1931, -4.5187, -5.5101, -5.7233, -6.0262, -4.6815, -4.9322, -5.8577, -6.4162, -5.9829, -5.2948, -5.5537, -5.3965, -5.3946, -5.7328, -5.1282, -5.0359, -5.2842, -4.7915, -5.4406, -5.1345, -5.8603, -5.3741, -5.0604, -5.745, -5.167, -5.3564, -5.705, -5.116, -5.4315, -5.5837, -5.4076, -5.5883, -5.48, -5.5943, -7.6108, -7.6108, -7.668, -7.6108, -7.668, -7.3045, -7.668, -7.668, -7.6108, -7.668, -7.6108, -6.9749, -7.668, -7.668, -6.4353, -7.668, -7.668, -7.668, -7.668, -7.6108, -7.6108, -6.6195, -7.668, -7.6108, -6.9177, -7.6108, -7.668, -5.8942, -7.668, -7.668, -3.66, -5.1359, -5.3734, -5.8292, -5.8601, -5.9057, -5.9808, -6.0265, -6.0355, -6.0806, -6.2813, -6.3167, -6.4447, -6.463, -6.463, -6.4836, -6.5122, -6.549, -6.5694, -6.5909, -6.5909, -6.5909, -6.6278, -6.6348, -6.6387, -6.6779, -6.7065, -5.3519, -6.4011, -5.3112, -5.1746, -5.7237, -6.3918, -6.1291, -6.3756, -6.2345, -5.9835, -5.4438, -5.4302, -6.167, -5.6804, -6.4378, -6.2269, -5.7397, -6.2336, -6.0387, -6.2018, -5.9766, -6.1398, -6.0017, -6.1255, -6.1704, -7.6426, -5.8508, -8.0598, -8.1704, -7.0718, -8.0598, -8.0598, -6.6735, -8.0598, -8.0598, -7.6426, -8.0598, -8.1704, -8.1704, -7.6426, -8.0598, -8.1704, -8.0598, -7.6426, -8.0598, -8.1704, -8.1704, -7.6426, -7.6426, -8.0598, -8.0598, -8.0598, -7.6426, -8.1704, -8.0598, -4.3644, -4.8537, -5.6427, -5.9804, -5.9856, -6.1139, -6.2563, -6.3448, -6.4403, -6.4479, -5.3699, -6.5997, -6.6735, -6.6735, -6.6735, -6.6735, -6.7827, -6.9494, -6.9494, -6.9494, -6.9612, -6.9612, -6.9612, -7.0718, -7.0718, -7.3667, -7.3667, -5.4938, -6.097, -5.5922, -6.5739, -5.5045, -6.0189, -6.4288, -6.3437, -4.2008, -5.2207, -4.6434, -6.3469, -5.2516, -4.9259, -6.1206, -6.348, -6.3374, -5.8165, -5.8606, -5.7448, -5.5564, -5.8706, -5.8551, -6.2541, -5.6588, -5.6357, -6.0045, -5.9914, -5.8904, -5.8801, -5.7912, -5.9367, -5.8881, -5.8086, -5.9649, -5.9404, -5.9372, -7.1934, -6.6761, -3.1639, -5.9894, -6.7712, -6.6826, -7.1934, -8.292, -7.5989, -8.292, -8.292, -8.292, -8.292, -8.292, -7.5989, -8.292, -7.5989, -8.292, -8.292, -8.292, -8.292, -8.292, -8.292, -8.292, -7.5989, -8.292, -8.292, -8.292, -8.292, -8.292, -4.2065, -4.6544, -7.0397, -7.0397, -7.0397, -7.0397, -7.0397, -7.0397, -7.0397, -7.0397, -7.0397, -7.5989, -7.5989, -5.4882, -4.9333, -5.5866, -5.3033, -7.4393, -6.0755, -5.0439, -4.894, -5.0504, -4.7494, -6.4809, -6.4809, -5.8349, -4.7502, -5.7479, -6.142, -6.3267, -4.9472, -6.2103, -5.859, -5.69, -6.5547, -6.519, -5.7872, -4.5372, -6.007, -4.9425, -5.7457, -5.0153, -5.4903, -5.801, -6.1318, -5.2684, -5.8604, -5.6941, -5.7483, -5.9019, -5.8543, -5.3262, -4.0532, -6.6285, -7.2021, -7.2021, -6.6285, -6.6285, -7.2021, -7.2021, -7.2021, -7.2021, -6.6285, -7.2021, -6.1891, -5.577, -4.701, -5.1076, -6.6285, -7.2021, -6.6285, -6.6285, -6.6285, -6.2701, -6.2701, -6.2701, -6.6285, -6.5089, -6.5089, -7.2021, -6.0245, -4.6122, -4.2658, -3.6706, -5.4813, -5.2267, -5.6426, -5.2414, -4.7086, -6.1154, -4.675, -4.9121, -6.0388, -3.9913, -5.0168, -5.5315, -4.8449, -5.4511, -5.9051, -5.2682, -5.7283, -4.3562, -5.1548, -5.3065, -4.7593, -5.159, -5.8594, -5.4254, -5.3033, -5.2452, -5.5893, -5.5342, -5.566, -8.2181, -8.2181, -6.2722, -7.0485, -9.6589, -9.6589, -9.6589, -8.2181, -7.0485, -9.6589, -8.2181, -9.6589, -9.6589, -9.6589, -7.0485, -9.6589, -7.0485, -9.6589, -9.6589, -9.6589, -9.6589, -8.2611, -8.2181, -9.6589, -9.6589, -8.2181, -9.6589, -9.6589, -9.6589, -9.6589, -4.8075, -5.3415, -5.9906, -6.1214, -5.7111, -6.4084, -6.51, -6.8257, -6.8319, -6.1346, -6.9455, -7.0485, -7.0485, -7.0485, -7.0485, -7.0485, -7.0485, -7.0485, -7.0485, -7.0485, -7.0485, -7.0485, -7.0485, -7.0485, -7.0485, -5.2908, -5.8857, -4.1542, -5.917, -6.2912, -6.1932, -4.7293, -5.28, -6.5194, -6.5789, -6.5789, -6.6277, -5.6245, -4.9744, -5.8439, -5.9489, -5.145, -6.2664, -6.1705, -5.7409, -4.6991, -6.3684, -5.7061, -5.3353, -5.9238, -5.6225, -5.1886, -4.8799, -5.3899, -5.094, -5.5141, -4.9959, -5.2629, -5.4478, -5.3664, -5.7993, -5.8103, -5.8574, -5.7698, -7.0264, -7.0264, -5.9278, -7.0264, -7.0264, -7.0264, -7.0264, -7.0264, -7.0264, -7.0264, -7.0264, -7.0264, -7.0264, -7.0264, -6.3332, -7.0264, -7.0264, -5.9278, -5.9278, -7.0264, -4.549, -5.9278, -2.836, -7.0264, -3.8649, -6.3208, -6.3208, -6.3208, -6.3208, -6.3208, -5.2222, -4.7779, -5.6276, -6.3208, -6.3208, -6.3208, -6.3208, -6.3208, -6.3208, -6.3208, -6.3208, -6.3208, -6.3208, -6.3208, -6.3208, -4.4075, -6.4094, -4.3238, -5.3141, -5.7195, -5.7305, -5.2018, -4.5719, -3.8721, -5.1045, -5.4104, -5.3243, -5.0856, -5.5734, -5.2132, -6.0899, -5.2764, -5.1964, -5.8959, -5.083, -5.3979, -5.7055, -5.1155, -5.4887, -5.6311, -5.6264, -5.4344, -5.4564, -5.4633, -5.5961, -5.5591, -5.5491, -5.575], \"loglift\": [30.0, 29.0, 28.0, 27.0, 26.0, 25.0, 24.0, 23.0, 22.0, 21.0, 20.0, 19.0, 18.0, 17.0, 16.0, 15.0, 14.0, 13.0, 12.0, 11.0, 10.0, 9.0, 8.0, 7.0, 6.0, 5.0, 4.0, 3.0, 2.0, 1.0, 2.7613, 2.7613, 2.7613, 2.7613, 2.7613, 2.7613, 2.7613, 2.7613, 2.7613, 2.7613, 2.7613, 2.7613, 2.7613, 2.7613, 2.7613, 2.7613, 2.7613, 2.7613, 2.7613, 2.7613, 2.7613, 2.7613, 2.7613, 2.7613, 2.7613, 2.7613, 2.7613, 2.7613, 2.7613, 2.7613, 2.7613, 2.7613, 2.7613, 2.7613, 2.7613, 2.7613, 2.7613, 2.7613, 2.7613, 2.7342, 2.7613, 2.7613, 2.7613, 2.7613, 2.7613, 2.7613, 2.7613, 2.7613, 2.7613, 2.7613, 2.7613, 2.7007, 2.7299, 2.6166, 2.6308, 2.5301, 2.5295, 2.6216, 2.4824, 2.7247, 2.5569, 2.4435, 2.4885, 2.5596, 2.6697, 2.3219, 1.8611, 2.1959, 2.2943, 1.6153, 2.1173, 2.0545, 2.0273, 1.7735, 1.6287, 1.8446, 1.9139, 1.8349, 1.6625, 1.6514, 1.1152, 0.9876, 1.4485, 0.8813, 1.2705, 0.648, 0.9967, 1.2122, 1.3778, 1.3778, 1.3778, 1.3778, 1.3778, 1.3778, 1.3778, 1.3778, 1.3778, 1.3778, 1.3778, 1.3778, 1.3778, 1.3778, 1.3778, 1.3778, 1.3778, 1.3778, 1.3778, 1.3778, 1.3778, 1.3778, 1.3778, 1.3778, 1.3778, 1.3778, 1.3778, 1.3778, 1.3778, 1.3778, 1.3778, 1.3778, 1.3778, 1.3745, 1.3778, 1.3778, 1.3778, 1.3778, 1.3778, 1.3711, 1.3778, 1.3778, 1.3778, 1.3778, 1.3778, 1.3777, 1.3778, 1.3778, 1.3778, 1.3778, 1.3757, 1.3778, 1.3778, 1.3778, 1.3778, 1.3715, 1.3778, 1.3664, 1.3711, 1.349, 1.3488, 1.3094, 1.3654, 1.3459, 1.3654, 1.2845, 1.3139, 1.34, 1.298, 1.2543, 1.295, 1.2849, 1.2518, 1.3194, 1.3188, 1.2974, 1.1686, 1.1762, 1.038, 1.0554, 1.2708, 1.1945, 1.087, 0.8475, 0.9677, 0.8104, 1.1199, 1.1137, 1.032, 1.1426, 0.9174, 1.0424, 0.7023, 0.7559, 0.2681, 0.8918, -0.2155, 0.7595, 0.6376, -0.2292, -0.1711, 0.3445, -0.6142, 0.5056, 2.5587, 2.5587, 2.5587, 2.5587, 2.5587, 2.5587, 2.5587, 2.5587, 2.5587, 2.5587, 2.5587, 2.5587, 2.5587, 2.5587, 2.5587, 2.5587, 2.5587, 2.5587, 2.5587, 2.5587, 2.5587, 2.5587, 2.5587, 2.5587, 2.5587, 2.5587, 2.5587, 2.5587, 2.5587, 2.5587, 2.5587, 2.5564, 2.5587, 2.5587, 2.5587, 2.5587, 2.558, 2.5427, 2.5439, 2.5547, 2.5587, 2.5468, 2.5491, 2.5033, 2.5116, 2.4938, 2.4968, 2.4339, 2.5509, 2.5489, 2.3538, 2.3842, 2.3468, 2.1788, 2.3499, 2.3607, 2.403, 2.4405, 2.3895, 2.0606, 2.0479, 1.8317, 2.27, 2.3595, 2.1734, 1.3042, 1.9299, 1.7064, 1.8376, 1.789, 2.0155, 1.057, 1.739, 0.9916, 0.5842, 2.6573, 2.6573, 2.6573, 2.6573, 2.6573, 2.6573, 2.6573, 2.6573, 2.6573, 2.6573, 2.6573, 2.6573, 2.6573, 2.6573, 2.6573, 2.6573, 2.6573, 2.6573, 2.6573, 2.6573, 2.6573, 2.6573, 2.6573, 2.6573, 2.6573, 2.6573, 2.6573, 2.6573, 2.6573, 2.6573, 2.6573, 2.6573, 2.6431, 2.6504, 2.6573, 2.6472, 2.6573, 2.6573, 2.6573, 2.6573, 2.6573, 2.6573, 2.6573, 2.6573, 2.6452, 2.6319, 2.6319, 2.6137, 2.6495, 2.6495, 2.5861, 2.6319, 2.4729, 2.5802, 2.4445, 2.4837, 2.5861, 2.5861, 2.5861, 2.5617, 2.4396, 2.6124, 2.6055, 2.1409, 2.4584, 2.5228, 2.0319, 1.7002, 1.9631, 1.4664, 1.3565, 2.005, 1.3841, 2.1522, 2.1368, 1.8258, 1.6799, 1.3863, 1.5308, 1.2936, 1.0842, 1.2013, 1.0992, 1.6679, 1.2995, 0.1931, 0.9307, 2.4466, 2.4466, 2.4466, 2.4466, 2.4466, 2.4466, 2.4466, 2.4466, 2.4466, 2.4466, 2.4466, 2.4466, 2.4466, 2.4466, 2.4466, 2.4466, 2.4466, 2.4466, 2.4466, 2.4466, 2.4466, 2.4466, 2.4466, 2.4466, 2.4466, 2.4466, 2.4466, 2.4466, 2.4466, 2.4466, 2.4466, 2.4466, 2.4466, 2.4204, 2.4466, 2.4466, 2.4457, 2.4466, 2.4466, 2.4466, 2.4466, 2.4466, 2.4466, 2.4466, 2.4466, 2.4466, 2.3993, 2.3775, 2.4019, 2.4005, 2.4078, 2.3939, 2.2483, 2.3273, 2.341, 2.3658, 2.2286, 2.2171, 2.2697, 2.3507, 2.2148, 2.0352, 2.0939, 2.0391, 1.9923, 2.1051, 1.8427, 1.7201, 1.8466, 1.527, 1.9077, 1.4593, 2.0859, 1.5664, 0.9495, 1.876, 0.9633, 1.2243, 1.8124, 0.5616, 1.1622, 1.4632, 0.7181, 1.2947, 0.6253, 1.1765, 2.3045, 2.3045, 2.3045, 2.3045, 2.3045, 2.3045, 2.3045, 2.3045, 2.3045, 2.3045, 2.3045, 2.3045, 2.3045, 2.3045, 2.3045, 2.3045, 2.3045, 2.3045, 2.3045, 2.3045, 2.3045, 2.3045, 2.3045, 2.3045, 2.3045, 2.3045, 2.3045, 2.3045, 2.3045, 2.3045, 2.3045, 2.3045, 2.3045, 2.3045, 2.3045, 2.3045, 2.3045, 2.3045, 2.3045, 2.3045, 2.3045, 2.3045, 2.3045, 2.3045, 2.3045, 2.3045, 2.3045, 2.3045, 2.3045, 2.3045, 2.3045, 2.3045, 2.3045, 2.3045, 2.3045, 2.3045, 2.3045, 2.2228, 2.2879, 2.2, 2.1514, 2.2037, 2.2743, 2.2037, 2.2517, 2.2037, 2.1192, 1.8302, 1.7298, 2.0536, 1.273, 2.2543, 1.7495, 0.5187, 1.5885, 0.7733, 1.3925, 0.2167, 0.9366, -0.3241, 0.5697, 0.4324, 2.3758, 2.3758, 2.3758, 2.3758, 2.3758, 2.3758, 2.3758, 2.3758, 2.3758, 2.3758, 2.3758, 2.3758, 2.3758, 2.3758, 2.3758, 2.3758, 2.3758, 2.3758, 2.3758, 2.3758, 2.3758, 2.3758, 2.3758, 2.3758, 2.3758, 2.3758, 2.3758, 2.3758, 2.3758, 2.3758, 2.3758, 2.3758, 2.3758, 2.3758, 2.3758, 2.3758, 2.3758, 2.3758, 2.3758, 2.3758, 2.3647, 2.3758, 2.3758, 2.3758, 2.3758, 2.3758, 2.3758, 2.3758, 2.3758, 2.3758, 2.3758, 2.3758, 2.3758, 2.3758, 2.3758, 2.3758, 2.3758, 2.3408, 2.3381, 2.2926, 2.3435, 2.2375, 2.2774, 2.3193, 2.2966, 1.9045, 2.0676, 1.9545, 2.2509, 1.9085, 1.8018, 2.1437, 2.2217, 2.2082, 1.869, 1.8735, 1.7718, 1.6295, 1.8559, 1.8108, 2.1437, 1.4042, 1.1203, 1.733, 1.699, 1.4598, 1.003, 0.3391, 1.2153, 0.6926, -0.1311, 1.0745, 0.3798, 0.2273, 2.77, 2.77, 2.77, 2.77, 2.77, 2.77, 2.77, 2.77, 2.77, 2.77, 2.77, 2.77, 2.77, 2.77, 2.77, 2.77, 2.77, 2.77, 2.77, 2.77, 2.77, 2.77, 2.77, 2.77, 2.77, 2.77, 2.77, 2.77, 2.77, 2.77, 2.7695, 2.77, 2.7695, 2.7695, 2.7695, 2.7695, 2.7695, 2.7695, 2.7695, 2.7695, 2.7695, 2.77, 2.77, 2.7203, 2.635, 2.6218, 2.5933, 2.7038, 2.5376, 2.3845, 2.3636, 2.3358, 2.1618, 2.5376, 2.5376, 2.3745, 2.0667, 2.3139, 2.4069, 2.4679, 1.8583, 2.383, 2.1987, 2.1108, 2.5361, 2.5177, 2.1479, 1.4728, 2.2458, 1.4501, 1.9246, 1.2517, 1.5991, 1.8886, 2.2197, 1.05, 1.7636, 1.2602, 0.8455, 1.6462, 1.2056, 2.8746, 2.8746, 2.8746, 2.8746, 2.8746, 2.8746, 2.8746, 2.8746, 2.8746, 2.8746, 2.8746, 2.8746, 2.8746, 2.8746, 2.8746, 2.8746, 2.8746, 2.8746, 2.8746, 2.8746, 2.8746, 2.8746, 2.8746, 2.8746, 2.8746, 2.8746, 2.8746, 2.8746, 2.8746, 2.8581, 2.8538, 2.8192, 2.7862, 2.8168, 2.7456, 2.7402, 2.6968, 2.6098, 2.7652, 2.4491, 2.4909, 2.7441, 2.1733, 2.4341, 2.475, 2.2173, 2.4399, 2.5768, 2.1698, 2.3982, 1.3811, 1.9212, 2.0239, 1.2859, 1.5986, 2.3908, 1.4552, 1.0336, 0.8804, 1.3512, 0.7842, 0.1115, 2.2772, 2.2772, 2.2772, 2.2772, 2.2772, 2.2772, 2.2772, 2.2772, 2.2772, 2.2772, 2.2772, 2.2772, 2.2772, 2.2772, 2.2772, 2.2772, 2.2772, 2.2772, 2.2772, 2.2772, 2.2772, 2.2772, 2.2772, 2.2772, 2.2772, 2.2772, 2.2772, 2.2772, 2.2772, 2.2772, 2.2772, 2.2772, 2.2772, 2.2772, 2.2706, 2.2772, 2.2772, 2.2772, 2.2772, 2.2701, 2.2772, 2.2772, 2.2772, 2.2772, 2.2772, 2.2772, 2.2772, 2.2772, 2.2772, 2.2772, 2.2772, 2.2772, 2.2772, 2.2772, 2.2772, 2.2262, 2.207, 2.0877, 2.1928, 2.207, 2.1969, 2.011, 2.044, 2.1985, 2.207, 2.207, 2.2014, 1.9854, 1.8216, 2.0116, 2.028, 1.8093, 2.0847, 2.0508, 1.9202, 1.5679, 2.1079, 1.8215, 1.6377, 1.9082, 1.7377, 1.4759, 1.1526, 1.4937, 1.0317, 1.3095, 0.6817, 0.8045, 1.0802, 0.6787, 1.2413, 1.2444, 1.4656, 0.3605, 3.3215, 3.3215, 3.3215, 3.3215, 3.3215, 3.3215, 3.3215, 3.3215, 3.3215, 3.3215, 3.3215, 3.3215, 3.3215, 3.3215, 3.3215, 3.3215, 3.3215, 3.3215, 3.3215, 3.3215, 3.3215, 3.3215, 3.3215, 3.3215, 3.3163, 3.3094, 3.3094, 3.3094, 3.3094, 3.3094, 3.3094, 3.303, 3.3094, 3.3094, 3.3094, 3.3094, 3.3094, 3.3094, 3.3094, 3.3094, 3.3094, 3.3094, 3.3094, 3.3094, 3.3094, 3.2532, 3.3055, 3.2134, 3.2199, 3.2543, 3.2337, 3.1322, 2.7, 2.1605, 2.7302, 2.8677, 2.7299, 2.4625, 2.7688, 2.4571, 3.1228, 2.309, 2.1968, 2.8938, 2.0294, 2.3235, 2.5732, 1.4126, 2.0451, 2.3087, 2.2874, 1.4967, 1.3672, 0.642, 1.7641, 1.2278, 1.0147, 0.435]}, \"token.table\": {\"Topic\": [7, 10, 1, 5, 5, 2, 2, 2, 3, 7, 3, 2, 2, 4, 9, 10, 9, 9, 3, 5, 4, 10, 11, 5, 5, 5, 8, 10, 6, 6, 6, 6, 10, 2, 6, 7, 10, 2, 10, 11, 9, 2, 1, 5, 7, 1, 10, 5, 7, 2, 5, 9, 3, 4, 6, 2, 4, 2, 5, 10, 2, 2, 3, 2, 1, 3, 9, 3, 8, 3, 8, 10, 8, 6, 2, 3, 1, 3, 4, 5, 10, 8, 3, 9, 3, 2, 3, 10, 11, 5, 4, 7, 5, 7, 8, 2, 3, 4, 9, 3, 4, 10, 10, 2, 10, 6, 8, 8, 10, 11, 11, 2, 5, 3, 9, 1, 5, 8, 9, 10, 9, 7, 2, 3, 8, 10, 3, 2], \"Freq\": [1.1038225254628435, 0.7254174959449295, 1.6730601866182813, 1.9514648556258039, 0.8596133988890823, 1.341651943034246, 0.4197530007167616, 0.8343616977772923, 1.9615189888102942, 1.2547761425202075, 1.7109056307838786, 0.4480168229871576, 0.3619799309261822, 0.3619799309261822, 0.3619799309261822, 0.3619799309261822, 1.0926690149544498, 1.2930728182380724, 1.9026369279283095, 0.7369192473835174, 0.35743471401887644, 0.35743471401887644, 0.35743471401887644, 1.0719822711049058, 0.9135432313775584, 1.308236275235718, 1.2169129026589496, 0.8813382673837917, 1.0017826681399984, 1.3030075661195109, 1.5681566567698055, 1.8526323426927638, 0.9154857971387559, 1.1357060646878747, 1.1036942609643252, 1.1831244874876794, 0.83712156519661, 1.7824096512382255, 0.3923156848455564, 1.1273553681908943, 1.0238786667857058, 1.4521137365510262, 1.1704758027050586, 0.8155825222388575, 0.6290828019762343, 0.3701088432954203, 0.3701088432954203, 0.4757260386209099, 0.7253245543805238, 0.6537745587362521, 1.0919302469658836, 1.6724421853829348, 1.5797219772934867, 1.0862198951368343, 1.2370132436403651, 0.5625564333042623, 1.0697262951210909, 0.2506318824099258, 0.2506318824099258, 0.2506318824099258, 1.0151684823658063, 1.1711455045526102, 1.6244201384863801, 0.8895327494204337, 1.5251120198432853, 1.3186798354235787, 1.000908081766571, 1.649463328685504, 0.9716680664800592, 0.7706295181840167, 1.6600833442945047, 1.3003236026145635, 0.7742149636463947, 1.4609036065843786, 1.9617409578981908, 1.0309317629248995, 1.3108290096024027, 1.1900863218535744, 0.39414323423075076, 0.39414323423075076, 0.672435556929585, 0.5123154295681585, 1.5497572051925899, 1.4988289657062865, 0.4765467866659999, 0.4846206162207763, 1.1290039413516073, 1.0235904101817999, 1.8209637387337525, 0.626559172591495, 1.0638398811385954, 0.7688164996241087, 0.7450432299399853, 0.7163068594371437, 0.8605401352808918, 0.26605634543687373, 0.26605634543687373, 0.26605634543687373, 0.26605634543687373, 0.8019729125912302, 1.0749310211411967, 0.5866723756819182, 0.7669447007432657, 0.8563447120187739, 1.7459775054975528, 1.6708117384206047, 1.4378500510662435, 0.7830743414608318, 1.5771087990045545, 0.8099835520843299, 1.60946794883987, 1.1066872128130558, 1.2710673832350567, 0.407863510490997, 0.407863510490997, 0.3494665698785316, 0.3494665698785316, 0.3494665698785316, 0.8749793188901633, 0.4518439203021709, 1.064750908144974, 1.9606853112774403, 0.6933631848480745, 1.0184274880649906, 0.9182214734199088, 0.8984882814253411, 0.8346887960803739, 1.2299915908557921], \"Term\": [\"\\u0430\\u0434\\u0440\\u0435\\u0441\", \"\\u0430\\u043d\\u0438\\u043c\\u0430\\u0446\\u0438\\u044f\", \"\\u0430\\u043d\\u043d\\u043e\\u0442\\u0430\\u0446\\u0438\\u044f\", \"\\u0430\\u0443\\u0442\\u0435\\u043d\\u0442\\u0438\\u0444\\u0438\\u043a\\u0430\\u0446\\u0438\\u044f\", \"\\u0431\\u0435\\u0437\\u043e\\u043f\\u0430\\u0441\\u043d\\u043e\\u0441\\u0442\\u044c\", \"\\u0431\\u0440\\u0435\\u043d\\u0434\", \"\\u0432\\u0435\\u0441\\u044c\", \"\\u0432\\u0438\\u0434\\u0435\\u043e\", \"\\u0432\\u043f\\u043b\\u043e\\u0442\\u044c\", \"\\u0432\\u044b\\u0434\\u0435\\u043b\\u044f\\u0442\\u044c\", \"\\u0433\\u0433\\u0446\", \"\\u0433\\u043e\\u0434\", \"\\u0434\\u0430\\u043d\\u043d\\u044b\\u0435\", \"\\u0434\\u0430\\u043d\\u043d\\u044b\\u0435\", \"\\u0434\\u0430\\u043d\\u043d\\u044b\\u0435\", \"\\u0434\\u0430\\u043d\\u043d\\u044b\\u0435\", \"\\u0434\\u0438\\u0441\\u043a\", \"\\u0434\\u0438\\u0441\\u043a\\u043e\\u0432\\u044b\\u0439\", \"\\u0434\\u0438\\u0441\\u043f\\u043b\\u0435\\u0439\", \"\\u0434\\u043e\\u0441\\u0442\\u0443\\u043f\", \"\\u0437\\u0430\\u043f\\u0440\\u043e\\u0441\", \"\\u0437\\u0430\\u043f\\u0440\\u043e\\u0441\", \"\\u0437\\u0430\\u043f\\u0440\\u043e\\u0441\", \"\\u0437\\u0430\\u043f\\u0443\\u0441\\u043a\", \"\\u0437\\u0430\\u043f\\u0443\\u0441\\u043a\\u0430\\u0442\\u044c\", \"\\u0437\\u0430\\u0449\\u0438\\u0442\\u0430\", \"\\u0437\\u0432\\u0443\\u043a\", \"\\u0437\\u043d\\u0430\\u0447\\u0435\\u043d\\u0438\\u0435\", \"\\u0438\\u0433\\u0440\\u0430\", \"\\u0438\\u0433\\u0440\\u0430\\u0442\\u044c\", \"\\u0438\\u0433\\u0440\\u043e\\u0432\\u043e\\u0439\", \"\\u0438\\u0433\\u0440\\u043e\\u043a\", \"\\u0438\\u0437\\u043c\\u0435\\u043d\\u0435\\u043d\\u0438\\u0435\", \"\\u0438\\u0437\\u043e\\u0431\\u0440\\u0430\\u0436\\u0435\\u043d\\u0438\\u0435\", \"\\u0438\\u043d\\u0434\\u0443\\u0441\\u0442\\u0440\\u0438\\u044f\", \"\\u0438\\u043d\\u0441\\u0442\\u0430\\u043b\\u043b\\u044f\\u0446\\u0438\\u044f\", \"\\u0438\\u043d\\u0441\\u0442\\u0430\\u043d\\u0441\", \"\\u0438\\u043d\\u0442\\u0435\\u043b\\u043b\\u0435\\u043a\\u0442\", \"\\u0438\\u0441\\u043f\\u043e\\u043b\\u044c\\u0437\\u043e\\u0432\\u0430\\u0442\\u044c\", \"\\u043a\\u0435\\u0439\\u0441\", \"\\u043a\\u0435\\u0448\", \"\\u043a\\u0438\\u0442\\u0430\\u0439\\u0441\\u043a\\u0438\\u0439\", \"\\u043a\\u043b\\u0430\\u0441\\u0441\", \"\\u043a\\u043b\\u0430\\u0441\\u0442\\u0435\\u0440\", \"\\u043a\\u043b\\u0438\\u0435\\u043d\\u0442\", \"\\u043a\\u043e\\u0434\", \"\\u043a\\u043e\\u0434\", \"\\u043a\\u043e\\u043c\\u0430\\u043d\\u0434\\u0430\", \"\\u043a\\u043e\\u043c\\u043c\\u0443\\u0442\\u0430\\u0442\\u043e\\u0440\", \"\\u043a\\u043e\\u043c\\u043f\\u0430\\u043d\\u0438\\u044f\", \"\\u043a\\u043e\\u043d\\u0442\\u0435\\u0439\\u043d\\u0435\\u0440\", \"\\u043a\\u044d\\u0448\\u0438\\u0440\\u043e\\u0432\\u0430\\u043d\\u0438\\u0435\", \"\\u043c\\u0430\\u0442\\u0435\\u0440\\u0438\\u043d\\u0441\\u043a\\u0438\\u0439\", \"\\u043c\\u0435\\u0442\\u0440\\u0438\\u043a\\u0430\", \"\\u043c\\u0438\\u0440\", \"\\u043c\\u043e\\u0434\\u0435\\u043b\\u044c\", \"\\u043c\\u043e\\u043d\\u0438\\u0442\\u043e\\u0440\\u0438\\u043d\\u0433\", \"\\u043c\\u043e\\u0447\\u044c\", \"\\u043c\\u043e\\u0447\\u044c\", \"\\u043c\\u043e\\u0447\\u044c\", \"\\u043d\\u0430\\u0432\\u044b\\u043a\", \"\\u043d\\u0435\\u0439\\u0440\\u043e\\u0441\\u0435\\u0442\\u044c\", \"\\u043d\\u043e\\u0443\\u0442\\u0431\\u0443\\u043a\", \"\\u043e\\u0431\\u0443\\u0447\\u0435\\u043d\\u0438\\u0435\", \"\\u043e\\u0431\\u044a\\u0435\\u043a\\u0442\", \"\\u043e\\u0437\\u0443\", \"\\u043e\\u043f\\u0435\\u0440\\u0430\\u0446\\u0438\\u043e\\u043d\\u043d\\u044b\\u0439\", \"\\u043e\\u0441\\u043d\\u0430\\u0449\\u0430\\u0442\\u044c\", \"\\u043f\\u0430\\u043a\\u0435\\u0442\", \"\\u043f\\u0430\\u043c\\u044f\\u0442\\u044c\", \"\\u043f\\u0430\\u043f\\u043a\\u0430\", \"\\u043f\\u0430\\u0440\\u0441\\u0435\\u0440\", \"\\u043f\\u0435\\u0440\\u0435\\u043c\\u0435\\u043d\\u043d\\u044b\\u0439\", \"\\u043f\\u0435\\u0440\\u0441\\u043e\\u043d\\u0430\\u0436\", \"\\u043f\\u0438\\u0441\\u044c\\u043c\\u043e\", \"\\u043f\\u043b\\u0430\\u0442\\u0430\", \"\\u043f\\u043e\\u043b\\u0435\", \"\\u043f\\u043e\\u0440\\u0442\", \"\\u043f\\u0440\\u0438\\u043b\\u043e\\u0436\\u0435\\u043d\\u0438\\u0435\", \"\\u043f\\u0440\\u0438\\u043b\\u043e\\u0436\\u0435\\u043d\\u0438\\u0435\", \"\\u043f\\u0440\\u0438\\u043c\\u0435\\u0440\", \"\\u043f\\u0440\\u043e\\u0435\\u043a\\u0442\", \"\\u043f\\u0440\\u043e\\u0438\\u0437\\u0432\\u043e\\u0434\\u0438\\u0442\\u0435\\u043b\\u044c\", \"\\u043f\\u0440\\u043e\\u0444\\u0438\\u043b\\u044c\", \"\\u043f\\u0440\\u043e\\u0446\\u0435\\u0441\\u0441\\u043e\\u0440\", \"\\u0440\\u0430\\u0431\\u043e\\u0442\\u0430\", \"\\u0440\\u0430\\u0437\\u044a\\u0435\\u043c\", \"\\u0440\\u0435\\u0430\\u043a\\u0442\\u0438\\u0432\\u043d\\u044b\\u0439\", \"\\u0440\\u0435\\u0433\\u0440\\u0435\\u0441\\u0441\\u0438\\u043e\\u043d\\u043d\\u044b\\u0439\", \"\\u0440\\u0435\\u0441\\u0443\\u0440\\u0441\", \"\\u0441\\u0431\\u043e\\u0440\", \"\\u0441\\u0435\\u0440\\u0432\\u0435\\u0440\", \"\\u0441\\u0435\\u0440\\u0442\\u0438\\u0444\\u0438\\u043a\\u0430\\u0442\", \"\\u0441\\u0435\\u0442\\u044c\", \"\\u0441\\u0438\\u0433\\u043d\\u0430\\u043b\", \"\\u0441\\u0438\\u0441\\u0442\\u0435\\u043c\\u0430\", \"\\u0441\\u0438\\u0441\\u0442\\u0435\\u043c\\u0430\", \"\\u0441\\u0438\\u0441\\u0442\\u0435\\u043c\\u0430\", \"\\u0441\\u0438\\u0441\\u0442\\u0435\\u043c\\u0430\", \"\\u0441\\u043b\\u043e\\u0442\", \"\\u0441\\u043e\\u0431\\u0438\\u0440\\u0430\\u0442\\u044c\", \"\\u0441\\u043e\\u0437\\u0434\\u0430\\u0432\\u0430\\u0442\\u044c\", \"\\u0441\\u043e\\u0441\\u0442\\u043e\\u044f\\u043d\\u0438\\u0435\", \"\\u0441\\u0442\\u0430\\u043d\\u043e\\u0432\\u0438\\u0442\\u044c\\u0441\\u044f\", \"\\u0441\\u0442\\u0440\\u0438\\u043c\", \"\\u0441\\u0442\\u0443\\u0434\\u0438\\u044f\", \"\\u0441\\u0443\\u0431\\u0434\", \"\\u0441\\u0445\\u0435\\u043c\\u0430\", \"\\u0441\\u0447\\u0435\\u0442\\u0447\\u0438\\u043a\", \"\\u0442\\u0435\\u0441\\u0442\", \"\\u0442\\u0435\\u0441\\u0442\\u043e\", \"\\u0442\\u0435\\u0445\\u043d\\u043e\\u043b\\u043e\\u0433\\u0438\\u044f\", \"\\u0443\\u0437\\u0435\\u043b\", \"\\u0443\\u0441\\u0442\\u0440\\u043e\\u0439\\u0441\\u0442\\u0432\\u043e\", \"\\u0443\\u0441\\u0442\\u0440\\u043e\\u0439\\u0441\\u0442\\u0432\\u043e\", \"\\u0444\\u0430\\u0439\\u043b\", \"\\u0444\\u0430\\u0439\\u043b\", \"\\u0444\\u0430\\u0439\\u043b\", \"\\u0444\\u0430\\u0439\\u043b\\u043e\\u0432\\u044b\\u0439\", \"\\u0444\\u0443\\u043d\\u043a\\u0446\\u0438\\u044f\", \"\\u0445\\u0440\\u0430\\u043d\\u0435\\u043d\\u0438\\u0435\", \"\\u0446\\u043e\\u0434\", \"\\u0447\\u0435\\u043b\\u043e\\u0432\\u0435\\u043a\", \"\\u0447\\u0438\\u043f\", \"\\u0448\\u0440\\u0438\\u0444\\u0442\", \"\\u044d\\u043b\\u0435\\u043c\\u0435\\u043d\\u0442\", \"\\u044f\\u0434\\u0440\\u043e\", \"\\u044f\\u0437\\u044b\\u043a\"]}, \"R\": 30, \"lambda.step\": 0.01, \"plot.opts\": {\"xlab\": \"PC1\", \"ylab\": \"PC2\"}, \"topic.order\": [1, 2, 3, 4, 5, 6, 7, 8, 9, 10, 11]};\n",
       "\n",
       "function LDAvis_load_lib(url, callback){\n",
       "  var s = document.createElement('script');\n",
       "  s.src = url;\n",
       "  s.async = true;\n",
       "  s.onreadystatechange = s.onload = callback;\n",
       "  s.onerror = function(){console.warn(\"failed to load library \" + url);};\n",
       "  document.getElementsByTagName(\"head\")[0].appendChild(s);\n",
       "}\n",
       "\n",
       "if(typeof(LDAvis) !== \"undefined\"){\n",
       "   // already loaded: just create the visualization\n",
       "   !function(LDAvis){\n",
       "       new LDAvis(\"#\" + \"ldavis_el1450814081613776162659563493\", ldavis_el1450814081613776162659563493_data);\n",
       "   }(LDAvis);\n",
       "}else if(typeof define === \"function\" && define.amd){\n",
       "   // require.js is available: use it to load d3/LDAvis\n",
       "   require.config({paths: {d3: \"https://d3js.org/d3.v5\"}});\n",
       "   require([\"d3\"], function(d3){\n",
       "      window.d3 = d3;\n",
       "      LDAvis_load_lib(\"https://cdn.jsdelivr.net/gh/bmabey/pyLDAvis@3.4.0/pyLDAvis/js/ldavis.v3.0.0.js\", function(){\n",
       "        new LDAvis(\"#\" + \"ldavis_el1450814081613776162659563493\", ldavis_el1450814081613776162659563493_data);\n",
       "      });\n",
       "    });\n",
       "}else{\n",
       "    // require.js not available: dynamically load d3 & LDAvis\n",
       "    LDAvis_load_lib(\"https://d3js.org/d3.v5.js\", function(){\n",
       "         LDAvis_load_lib(\"https://cdn.jsdelivr.net/gh/bmabey/pyLDAvis@3.4.0/pyLDAvis/js/ldavis.v3.0.0.js\", function(){\n",
       "                 new LDAvis(\"#\" + \"ldavis_el1450814081613776162659563493\", ldavis_el1450814081613776162659563493_data);\n",
       "            })\n",
       "         });\n",
       "}\n",
       "</script>"
      ],
      "text/plain": [
       "PreparedData(topic_coordinates=                x           y  topics  cluster       Freq\n",
       "topic                                                    \n",
       "0      -57.628632  -98.959915       1        1   6.320806\n",
       "1      -42.918194  114.341530       2        1  25.214484\n",
       "2       30.804808  -21.365084       3        1   7.740491\n",
       "3       25.401354 -101.420418       4        1   7.013459\n",
       "4     -121.375580  -33.091808       5        1   8.658993\n",
       "5      -93.865051   47.962318       6        1   9.980505\n",
       "6       91.485565   33.981586       7        1   9.294312\n",
       "7       48.071087  105.067146       8        1   6.265922\n",
       "8       -4.050884   44.412167       9        1   5.643886\n",
       "9      102.648170  -53.761299      10        1  10.257129\n",
       "10     -42.868713  -20.716295      11        1   3.610014, topic_info=           Term      Freq     Total Category  logprob  loglift\n",
       "5586      пакет  3.000000  3.000000  Default  30.0000  30.0000\n",
       "9018       тест  2.000000  2.000000  Default  29.0000  29.0000\n",
       "3980    метрика  2.000000  2.000000  Default  28.0000  28.0000\n",
       "2562       игра  2.000000  2.000000  Default  27.0000  27.0000\n",
       "3111    кластер  2.000000  2.000000  Default  26.0000  26.0000\n",
       "...         ...       ...       ...      ...      ...      ...\n",
       "8015     сервер  0.178455  2.601401  Topic11  -5.4633   0.6420\n",
       "4931  обновлять  0.156270  0.741698  Topic11  -5.5961   1.7641\n",
       "1875  добавлять  0.162148  1.315796  Topic11  -5.5591   1.2278\n",
       "4820      новый  0.163780  1.644626  Topic11  -5.5491   1.0147\n",
       "9593       файл  0.159595  2.861504  Topic11  -5.5750   0.4350\n",
       "\n",
       "[961 rows x 6 columns], token_table=       Topic      Freq            Term\n",
       "term                                  \n",
       "77         7  1.103823           адрес\n",
       "186       10  0.725417        анимация\n",
       "195        1  1.673060       аннотация\n",
       "310        5  1.951465  аутентификация\n",
       "412        5  0.859613    безопасность\n",
       "...      ...       ...             ...\n",
       "9998       3  1.018427             чип\n",
       "10132      8  0.918221           шрифт\n",
       "10258     10  0.898488         элемент\n",
       "10344      3  0.834689            ядро\n",
       "10345      2  1.229992            язык\n",
       "\n",
       "[128 rows x 3 columns], R=30, lambda_step=0.01, plot_opts={'xlab': 'PC1', 'ylab': 'PC2'}, topic_order=[1, 2, 3, 4, 5, 6, 7, 8, 9, 10, 11])"
      ]
     },
     "execution_count": 61,
     "metadata": {},
     "output_type": "execute_result"
    }
   ],
   "source": [
    "# визуализация модели NMF\n",
    "panel = pyLDAvis.sklearn.prepare(nmf_model, tfidf_matrix, tfidf_vectorizer, mds='tsne', sort_topics=False)\n",
    "panel"
   ]
  },
  {
   "cell_type": "code",
   "execution_count": 62,
   "id": "1ecbc81e",
   "metadata": {},
   "outputs": [
    {
     "data": {
      "image/png": "[encoded data removed]",
      "text/plain": [
       "<Figure size 640x480 with 2 Axes>"
      ]
     },
     "metadata": {},
     "output_type": "display_data"
    }
   ],
   "source": [
    "# визуализация модели LSA, к сожалению, через pyLDAvis невозможно вывести модель LSA\n",
    "plt.imshow(lsa_model.components_, cmap='viridis', interpolation='none')\n",
    "plt.colorbar()\n",
    "plt.xticks(range(11), ['Topic ' + str(i) for i in range(11)], rotation=90)\n",
    "plt.show()"
   ]
  },
  {
   "cell_type": "code",
   "execution_count": 63,
   "id": "0b991832",
   "metadata": {},
   "outputs": [
    {
     "name": "stdout",
     "output_type": "stream",
     "text": [
      "1     файл, уязвимость, процесс, весь, код, использо...\n",
      "2     плата, процессор, сервер, слот, контроллер, си...\n",
      "12    ошибка, команда, мочь, проблема, файл, проверя...\n",
      "21    лидар, мочь, объект, автомобиль, система, бесп...\n",
      "25    класс, объект, десериализация, поле, значение,...\n",
      "28    качество, звук, пакет, звонок, сигнал, мочь, и...\n",
      "31    приложение, клиент, версия, писать, весь, стар...\n",
      "32    приложение, станция, язык, поиск, программа, в...\n",
      "48    устройство, преобразователь, кабель, производс...\n",
      "51    метрика, приложение, мониторинг, сбор, собират...\n",
      "52    мониторинг, метрика, система, мочь, запрос, по...\n",
      "54    система, операционный, устройство, компьютер, ...\n",
      "56    коммутатор, выделять, инсталляция, клиент, сер...\n",
      "59    данные, база, инстанс, мочь, ресурс, использов...\n",
      "60    частота, устройство, точка, доступ, работать, ...\n",
      "63    код, проект, файл, работать, весь, просто, скр...\n",
      "71    диск, система, данные, файловый, профиль, испо...\n",
      "72    ряд, временный, средний, данные, мочь, метод, ...\n",
      "82    система, метрика, мониторинг, приложение, данн...\n",
      "Name: keyword, dtype: object\n"
     ]
    }
   ],
   "source": [
    "print(dfHabr1.loc[dfHabr1['clustersAgglomerative'] == 0, 'keyword'])"
   ]
  },
  {
   "cell_type": "markdown",
   "id": "78d0a84f",
   "metadata": {},
   "source": [
    "### 2.4 Разведочный анализ"
   ]
  },
  {
   "cell_type": "code",
   "execution_count": null,
   "id": "0d7354ee",
   "metadata": {},
   "outputs": [],
   "source": []
  },
  {
   "cell_type": "markdown",
   "id": "26b7ade4",
   "metadata": {},
   "source": [
    "### Вывод"
   ]
  },
  {
   "cell_type": "code",
   "execution_count": null,
   "id": "ad78f339",
   "metadata": {},
   "outputs": [],
   "source": []
  },
  {
   "cell_type": "code",
   "execution_count": 64,
   "id": "704bc895",
   "metadata": {},
   "outputs": [],
   "source": [
    "topics = []\n",
    "\n",
    "for i, topic in enumerate(lda_model.components_):\n",
    "    top_words = [vectorizer.get_feature_names_out()[i] for i in topic.argsort()[:-11:-1]]\n",
    "    topic_string = f\"Topic {i}: {', '.join(top_words)}\"\n",
    "    topics.append(topic_string)"
   ]
  },
  {
   "cell_type": "code",
   "execution_count": 65,
   "id": "4de5f3f0",
   "metadata": {},
   "outputs": [],
   "source": [
    "dfCosinTest = pd.DataFrame({'texts': topics})"
   ]
  },
  {
   "cell_type": "code",
   "execution_count": 66,
   "id": "a445b030",
   "metadata": {},
   "outputs": [],
   "source": [
    "dfj = {'texts': [], 'cos_similarities' : [], 'cluster': []}"
   ]
  },
  {
   "cell_type": "code",
   "execution_count": 67,
   "id": "fb9458e8",
   "metadata": {},
   "outputs": [],
   "source": [
    "for i in range(0, 11):\n",
    "    find_nearest_to = str(dfHabr1.loc[dfHabr1['clustersAgglomerative'] == i, 'keyword'])\n",
    "    # формирование весов tf-idf\n",
    "    tfidf = TfidfVectorizer()\n",
    "    mx_tf = tfidf.fit_transform(topics)\n",
    "    new_entry = tfidf.transform([find_nearest_to])\n",
    "    sdf = pd.DataFrame.sparse.from_spmatrix(mx_tf)\n",
    "    new_entry = tfidf.transform([find_nearest_to])\n",
    "    pd.DataFrame.sparse.from_spmatrix(new_entry)\n",
    "    cosine_similarities = cosine_similarity(new_entry, mx_tf).flatten()\n",
    "    dfCosinTest['cos_similarities'] = cosine_similarities\n",
    "    dfCosinTest = dfCosinTest.sort_values(by=['cos_similarities'], ascending=[0])\n",
    "    dfCosinTest = dfCosinTest.reset_index(drop=True)\n",
    "    dfj['texts'].append(dfCosinTest['texts'][0])\n",
    "    dfj['cos_similarities'].append(dfCosinTest['cos_similarities'][0])\n",
    "    dfj['cluster'].append(i)"
   ]
  },
  {
   "cell_type": "code",
   "execution_count": 68,
   "id": "df898457",
   "metadata": {},
   "outputs": [],
   "source": [
    "dfClusters = pd.DataFrame(data = dfj)"
   ]
  },
  {
   "cell_type": "code",
   "execution_count": 69,
   "id": "fa7ccdd9",
   "metadata": {},
   "outputs": [
    {
     "data": {
      "text/html": [
       "<div>\n",
       "<style scoped>\n",
       "    .dataframe tbody tr th:only-of-type {\n",
       "        vertical-align: middle;\n",
       "    }\n",
       "\n",
       "    .dataframe tbody tr th {\n",
       "        vertical-align: top;\n",
       "    }\n",
       "\n",
       "    .dataframe thead th {\n",
       "        text-align: right;\n",
       "    }\n",
       "</style>\n",
       "<table border=\"1\" class=\"dataframe\">\n",
       "  <thead>\n",
       "    <tr style=\"text-align: right;\">\n",
       "      <th></th>\n",
       "      <th>texts</th>\n",
       "      <th>cos_similarities</th>\n",
       "      <th>cluster</th>\n",
       "    </tr>\n",
       "  </thead>\n",
       "  <tbody>\n",
       "    <tr>\n",
       "      <th>0</th>\n",
       "      <td>Topic 6: система, мочь, устройство, работа, пл...</td>\n",
       "      <td>0.467358</td>\n",
       "      <td>0</td>\n",
       "    </tr>\n",
       "    <tr>\n",
       "      <th>1</th>\n",
       "      <td>Topic 0: данные, мочь, весь, использовать, фай...</td>\n",
       "      <td>0.398931</td>\n",
       "      <td>1</td>\n",
       "    </tr>\n",
       "    <tr>\n",
       "      <th>2</th>\n",
       "      <td>Topic 5: весь, код, статья, сумма, лидар, мочь...</td>\n",
       "      <td>0.606839</td>\n",
       "      <td>2</td>\n",
       "    </tr>\n",
       "    <tr>\n",
       "      <th>3</th>\n",
       "      <td>Topic 5: весь, код, статья, сумма, лидар, мочь...</td>\n",
       "      <td>0.419112</td>\n",
       "      <td>3</td>\n",
       "    </tr>\n",
       "    <tr>\n",
       "      <th>4</th>\n",
       "      <td>Topic 3: работа, мочь, данные, анимация, испол...</td>\n",
       "      <td>0.673266</td>\n",
       "      <td>4</td>\n",
       "    </tr>\n",
       "    <tr>\n",
       "      <th>5</th>\n",
       "      <td>Topic 6: система, мочь, устройство, работа, пл...</td>\n",
       "      <td>0.793603</td>\n",
       "      <td>5</td>\n",
       "    </tr>\n",
       "    <tr>\n",
       "      <th>6</th>\n",
       "      <td>Topic 7: система, устройство, операционный, оп...</td>\n",
       "      <td>0.762344</td>\n",
       "      <td>6</td>\n",
       "    </tr>\n",
       "    <tr>\n",
       "      <th>7</th>\n",
       "      <td>Topic 7: система, устройство, операционный, оп...</td>\n",
       "      <td>0.222575</td>\n",
       "      <td>7</td>\n",
       "    </tr>\n",
       "    <tr>\n",
       "      <th>8</th>\n",
       "      <td>Topic 8: мочь, приложение, имя, система, польз...</td>\n",
       "      <td>0.651142</td>\n",
       "      <td>8</td>\n",
       "    </tr>\n",
       "    <tr>\n",
       "      <th>9</th>\n",
       "      <td>Topic 5: весь, код, статья, сумма, лидар, мочь...</td>\n",
       "      <td>0.423164</td>\n",
       "      <td>9</td>\n",
       "    </tr>\n",
       "    <tr>\n",
       "      <th>10</th>\n",
       "      <td>Topic 2: класс, объект, десериализация, поле, ...</td>\n",
       "      <td>0.623691</td>\n",
       "      <td>10</td>\n",
       "    </tr>\n",
       "  </tbody>\n",
       "</table>\n",
       "</div>"
      ],
      "text/plain": [
       "                                                texts  cos_similarities  \\\n",
       "0   Topic 6: система, мочь, устройство, работа, пл...          0.467358   \n",
       "1   Topic 0: данные, мочь, весь, использовать, фай...          0.398931   \n",
       "2   Topic 5: весь, код, статья, сумма, лидар, мочь...          0.606839   \n",
       "3   Topic 5: весь, код, статья, сумма, лидар, мочь...          0.419112   \n",
       "4   Topic 3: работа, мочь, данные, анимация, испол...          0.673266   \n",
       "5   Topic 6: система, мочь, устройство, работа, пл...          0.793603   \n",
       "6   Topic 7: система, устройство, операционный, оп...          0.762344   \n",
       "7   Topic 7: система, устройство, операционный, оп...          0.222575   \n",
       "8   Topic 8: мочь, приложение, имя, система, польз...          0.651142   \n",
       "9   Topic 5: весь, код, статья, сумма, лидар, мочь...          0.423164   \n",
       "10  Topic 2: класс, объект, десериализация, поле, ...          0.623691   \n",
       "\n",
       "    cluster  \n",
       "0         0  \n",
       "1         1  \n",
       "2         2  \n",
       "3         3  \n",
       "4         4  \n",
       "5         5  \n",
       "6         6  \n",
       "7         7  \n",
       "8         8  \n",
       "9         9  \n",
       "10       10  "
      ]
     },
     "execution_count": 69,
     "metadata": {},
     "output_type": "execute_result"
    }
   ],
   "source": [
    "dfClusters.head(15)"
   ]
  },
  {
   "cell_type": "markdown",
   "id": "2e240e4f",
   "metadata": {},
   "source": [
    "Кластеры - Темы\n",
    " 0        -  6\n",
    " 1        -  0\n",
    " 2        -  5\n",
    " 3        -  5\n",
    " 4        -  3\n",
    " 5        -  6\n",
    " 6        -  7\n",
    " 7        -  7\n",
    " 8        -  8\n",
    " 9        -  5\n",
    "10        -  2\n",
    "темы не использованы 1, 4, 9, 10\n",
    "темы повторены 7, 5, 6"
   ]
  },
  {
   "cell_type": "code",
   "execution_count": 70,
   "id": "eae0bb83",
   "metadata": {},
   "outputs": [
    {
     "data": {
      "text/plain": [
       "'Topic 5: весь, код, статья, сумма, лидар, мочь, балл, проект, приложение, станция'"
      ]
     },
     "execution_count": 70,
     "metadata": {},
     "output_type": "execute_result"
    }
   ],
   "source": [
    "dfCosinTest['texts'][1]"
   ]
  },
  {
   "cell_type": "code",
   "execution_count": 71,
   "id": "ea3e073f",
   "metadata": {},
   "outputs": [
    {
     "data": {
      "text/plain": [
       "0.0"
      ]
     },
     "execution_count": 71,
     "metadata": {},
     "output_type": "execute_result"
    }
   ],
   "source": [
    "dfCosinTest['cos_similarities'][1]"
   ]
  },
  {
   "cell_type": "code",
   "execution_count": 72,
   "id": "7f4af209",
   "metadata": {},
   "outputs": [
    {
     "data": {
      "text/html": [
       "<div>\n",
       "<style scoped>\n",
       "    .dataframe tbody tr th:only-of-type {\n",
       "        vertical-align: middle;\n",
       "    }\n",
       "\n",
       "    .dataframe tbody tr th {\n",
       "        vertical-align: top;\n",
       "    }\n",
       "\n",
       "    .dataframe thead th {\n",
       "        text-align: right;\n",
       "    }\n",
       "</style>\n",
       "<table border=\"1\" class=\"dataframe\">\n",
       "  <thead>\n",
       "    <tr style=\"text-align: right;\">\n",
       "      <th></th>\n",
       "      <th>texts</th>\n",
       "      <th>cos_similarities</th>\n",
       "    </tr>\n",
       "  </thead>\n",
       "  <tbody>\n",
       "    <tr>\n",
       "      <th>0</th>\n",
       "      <td>Topic 2: класс, объект, десериализация, поле, ...</td>\n",
       "      <td>0.623691</td>\n",
       "    </tr>\n",
       "  </tbody>\n",
       "</table>\n",
       "</div>"
      ],
      "text/plain": [
       "                                               texts  cos_similarities\n",
       "0  Topic 2: класс, объект, десериализация, поле, ...          0.623691"
      ]
     },
     "execution_count": 72,
     "metadata": {},
     "output_type": "execute_result"
    }
   ],
   "source": [
    "dfCosinTest.head(1)"
   ]
  },
  {
   "cell_type": "code",
   "execution_count": 73,
   "id": "d2b5e923",
   "metadata": {},
   "outputs": [
    {
     "data": {
      "text/html": [
       "<div>\n",
       "<style scoped>\n",
       "    .dataframe tbody tr th:only-of-type {\n",
       "        vertical-align: middle;\n",
       "    }\n",
       "\n",
       "    .dataframe tbody tr th {\n",
       "        vertical-align: top;\n",
       "    }\n",
       "\n",
       "    .dataframe thead th {\n",
       "        text-align: right;\n",
       "    }\n",
       "</style>\n",
       "<table border=\"1\" class=\"dataframe\">\n",
       "  <thead>\n",
       "    <tr style=\"text-align: right;\">\n",
       "      <th></th>\n",
       "      <th>texts</th>\n",
       "      <th>cos_similarities</th>\n",
       "    </tr>\n",
       "  </thead>\n",
       "  <tbody>\n",
       "    <tr>\n",
       "      <th>0</th>\n",
       "      <td>Topic 2: класс, объект, десериализация, поле, ...</td>\n",
       "      <td>0.623691</td>\n",
       "    </tr>\n",
       "  </tbody>\n",
       "</table>\n",
       "</div>"
      ],
      "text/plain": [
       "                                               texts  cos_similarities\n",
       "0  Topic 2: класс, объект, десериализация, поле, ...          0.623691"
      ]
     },
     "execution_count": 73,
     "metadata": {},
     "output_type": "execute_result"
    }
   ],
   "source": [
    "dfCosinTest.head(1)"
   ]
  },
  {
   "cell_type": "code",
   "execution_count": null,
   "id": "5370a17c",
   "metadata": {},
   "outputs": [],
   "source": []
  },
  {
   "cell_type": "code",
   "execution_count": 74,
   "id": "cb394aa6",
   "metadata": {},
   "outputs": [],
   "source": [
    "find_nearest_to = str(dfHabr1.loc[dfHabr1['clustersAgglomerative'] == 0, 'keyword'])"
   ]
  },
  {
   "cell_type": "code",
   "execution_count": 75,
   "id": "4efaa23b",
   "metadata": {},
   "outputs": [],
   "source": [
    "# формирование весов tf-idf\n",
    "tfidf = TfidfVectorizer()\n",
    "mx_tf = tfidf.fit_transform(topics)\n",
    "new_entry = tfidf.transform([find_nearest_to])"
   ]
  },
  {
   "cell_type": "code",
   "execution_count": 76,
   "id": "c896b356",
   "metadata": {},
   "outputs": [
    {
     "data": {
      "text/plain": [
       "scipy.sparse._csr.csr_matrix"
      ]
     },
     "execution_count": 76,
     "metadata": {},
     "output_type": "execute_result"
    }
   ],
   "source": [
    "type(mx_tf)"
   ]
  },
  {
   "cell_type": "code",
   "execution_count": 77,
   "id": "d175eb30",
   "metadata": {},
   "outputs": [
    {
     "data": {
      "text/html": [
       "<div>\n",
       "<style scoped>\n",
       "    .dataframe tbody tr th:only-of-type {\n",
       "        vertical-align: middle;\n",
       "    }\n",
       "\n",
       "    .dataframe tbody tr th {\n",
       "        vertical-align: top;\n",
       "    }\n",
       "\n",
       "    .dataframe thead th {\n",
       "        text-align: right;\n",
       "    }\n",
       "</style>\n",
       "<table border=\"1\" class=\"dataframe\">\n",
       "  <thead>\n",
       "    <tr style=\"text-align: right;\">\n",
       "      <th></th>\n",
       "      <th>0</th>\n",
       "      <th>1</th>\n",
       "      <th>2</th>\n",
       "      <th>3</th>\n",
       "      <th>4</th>\n",
       "      <th>5</th>\n",
       "      <th>6</th>\n",
       "      <th>7</th>\n",
       "      <th>8</th>\n",
       "      <th>9</th>\n",
       "      <th>...</th>\n",
       "      <th>60</th>\n",
       "      <th>61</th>\n",
       "      <th>62</th>\n",
       "      <th>63</th>\n",
       "      <th>64</th>\n",
       "      <th>65</th>\n",
       "      <th>66</th>\n",
       "      <th>67</th>\n",
       "      <th>68</th>\n",
       "      <th>69</th>\n",
       "    </tr>\n",
       "  </thead>\n",
       "  <tbody>\n",
       "    <tr>\n",
       "      <th>0</th>\n",
       "      <td>0.000000</td>\n",
       "      <td>0.138089</td>\n",
       "      <td>0.000000</td>\n",
       "      <td>0.000000</td>\n",
       "      <td>0.000000</td>\n",
       "      <td>0.177814</td>\n",
       "      <td>0.000000</td>\n",
       "      <td>0.000000</td>\n",
       "      <td>0.000000</td>\n",
       "      <td>0.289795</td>\n",
       "      <td>...</td>\n",
       "      <td>0.000000</td>\n",
       "      <td>0.000000</td>\n",
       "      <td>0.000000</td>\n",
       "      <td>0.000000</td>\n",
       "      <td>0.000000</td>\n",
       "      <td>0.38551</td>\n",
       "      <td>0.329520</td>\n",
       "      <td>0.000000</td>\n",
       "      <td>0.000000</td>\n",
       "      <td>0.000000</td>\n",
       "    </tr>\n",
       "    <tr>\n",
       "      <th>1</th>\n",
       "      <td>0.000000</td>\n",
       "      <td>0.100503</td>\n",
       "      <td>0.000000</td>\n",
       "      <td>0.000000</td>\n",
       "      <td>0.000000</td>\n",
       "      <td>0.129416</td>\n",
       "      <td>0.000000</td>\n",
       "      <td>0.000000</td>\n",
       "      <td>0.000000</td>\n",
       "      <td>0.000000</td>\n",
       "      <td>...</td>\n",
       "      <td>0.000000</td>\n",
       "      <td>0.000000</td>\n",
       "      <td>0.000000</td>\n",
       "      <td>0.000000</td>\n",
       "      <td>0.000000</td>\n",
       "      <td>0.00000</td>\n",
       "      <td>0.000000</td>\n",
       "      <td>0.000000</td>\n",
       "      <td>0.561162</td>\n",
       "      <td>0.000000</td>\n",
       "    </tr>\n",
       "    <tr>\n",
       "      <th>2</th>\n",
       "      <td>0.000000</td>\n",
       "      <td>0.114079</td>\n",
       "      <td>0.000000</td>\n",
       "      <td>0.000000</td>\n",
       "      <td>0.318482</td>\n",
       "      <td>0.000000</td>\n",
       "      <td>0.000000</td>\n",
       "      <td>0.000000</td>\n",
       "      <td>0.000000</td>\n",
       "      <td>0.000000</td>\n",
       "      <td>...</td>\n",
       "      <td>0.000000</td>\n",
       "      <td>0.000000</td>\n",
       "      <td>0.000000</td>\n",
       "      <td>0.000000</td>\n",
       "      <td>0.000000</td>\n",
       "      <td>0.00000</td>\n",
       "      <td>0.000000</td>\n",
       "      <td>0.000000</td>\n",
       "      <td>0.000000</td>\n",
       "      <td>0.000000</td>\n",
       "    </tr>\n",
       "    <tr>\n",
       "      <th>3</th>\n",
       "      <td>0.000000</td>\n",
       "      <td>0.144696</td>\n",
       "      <td>0.403956</td>\n",
       "      <td>0.000000</td>\n",
       "      <td>0.000000</td>\n",
       "      <td>0.186322</td>\n",
       "      <td>0.345287</td>\n",
       "      <td>0.303661</td>\n",
       "      <td>0.000000</td>\n",
       "      <td>0.303661</td>\n",
       "      <td>...</td>\n",
       "      <td>0.000000</td>\n",
       "      <td>0.000000</td>\n",
       "      <td>0.000000</td>\n",
       "      <td>0.000000</td>\n",
       "      <td>0.000000</td>\n",
       "      <td>0.00000</td>\n",
       "      <td>0.000000</td>\n",
       "      <td>0.000000</td>\n",
       "      <td>0.000000</td>\n",
       "      <td>0.000000</td>\n",
       "    </tr>\n",
       "    <tr>\n",
       "      <th>4</th>\n",
       "      <td>0.000000</td>\n",
       "      <td>0.122120</td>\n",
       "      <td>0.000000</td>\n",
       "      <td>0.000000</td>\n",
       "      <td>0.000000</td>\n",
       "      <td>0.000000</td>\n",
       "      <td>0.000000</td>\n",
       "      <td>0.000000</td>\n",
       "      <td>0.000000</td>\n",
       "      <td>0.256283</td>\n",
       "      <td>...</td>\n",
       "      <td>0.340931</td>\n",
       "      <td>0.000000</td>\n",
       "      <td>0.000000</td>\n",
       "      <td>0.000000</td>\n",
       "      <td>0.000000</td>\n",
       "      <td>0.00000</td>\n",
       "      <td>0.000000</td>\n",
       "      <td>0.000000</td>\n",
       "      <td>0.000000</td>\n",
       "      <td>0.340931</td>\n",
       "    </tr>\n",
       "    <tr>\n",
       "      <th>5</th>\n",
       "      <td>0.000000</td>\n",
       "      <td>0.128983</td>\n",
       "      <td>0.000000</td>\n",
       "      <td>0.360088</td>\n",
       "      <td>0.000000</td>\n",
       "      <td>0.166088</td>\n",
       "      <td>0.000000</td>\n",
       "      <td>0.000000</td>\n",
       "      <td>0.000000</td>\n",
       "      <td>0.000000</td>\n",
       "      <td>...</td>\n",
       "      <td>0.000000</td>\n",
       "      <td>0.360088</td>\n",
       "      <td>0.000000</td>\n",
       "      <td>0.000000</td>\n",
       "      <td>0.000000</td>\n",
       "      <td>0.00000</td>\n",
       "      <td>0.000000</td>\n",
       "      <td>0.000000</td>\n",
       "      <td>0.000000</td>\n",
       "      <td>0.000000</td>\n",
       "    </tr>\n",
       "    <tr>\n",
       "      <th>6</th>\n",
       "      <td>0.000000</td>\n",
       "      <td>0.142780</td>\n",
       "      <td>0.000000</td>\n",
       "      <td>0.000000</td>\n",
       "      <td>0.000000</td>\n",
       "      <td>0.183856</td>\n",
       "      <td>0.000000</td>\n",
       "      <td>0.000000</td>\n",
       "      <td>0.000000</td>\n",
       "      <td>0.000000</td>\n",
       "      <td>...</td>\n",
       "      <td>0.000000</td>\n",
       "      <td>0.000000</td>\n",
       "      <td>0.000000</td>\n",
       "      <td>0.000000</td>\n",
       "      <td>0.340716</td>\n",
       "      <td>0.00000</td>\n",
       "      <td>0.000000</td>\n",
       "      <td>0.000000</td>\n",
       "      <td>0.000000</td>\n",
       "      <td>0.000000</td>\n",
       "    </tr>\n",
       "    <tr>\n",
       "      <th>7</th>\n",
       "      <td>0.000000</td>\n",
       "      <td>0.103984</td>\n",
       "      <td>0.000000</td>\n",
       "      <td>0.000000</td>\n",
       "      <td>0.000000</td>\n",
       "      <td>0.000000</td>\n",
       "      <td>0.000000</td>\n",
       "      <td>0.000000</td>\n",
       "      <td>0.000000</td>\n",
       "      <td>0.000000</td>\n",
       "      <td>...</td>\n",
       "      <td>0.000000</td>\n",
       "      <td>0.000000</td>\n",
       "      <td>0.000000</td>\n",
       "      <td>0.000000</td>\n",
       "      <td>0.248136</td>\n",
       "      <td>0.00000</td>\n",
       "      <td>0.000000</td>\n",
       "      <td>0.000000</td>\n",
       "      <td>0.000000</td>\n",
       "      <td>0.000000</td>\n",
       "    </tr>\n",
       "    <tr>\n",
       "      <th>8</th>\n",
       "      <td>0.000000</td>\n",
       "      <td>0.137035</td>\n",
       "      <td>0.000000</td>\n",
       "      <td>0.000000</td>\n",
       "      <td>0.000000</td>\n",
       "      <td>0.176458</td>\n",
       "      <td>0.000000</td>\n",
       "      <td>0.287584</td>\n",
       "      <td>0.000000</td>\n",
       "      <td>0.000000</td>\n",
       "      <td>...</td>\n",
       "      <td>0.000000</td>\n",
       "      <td>0.000000</td>\n",
       "      <td>0.000000</td>\n",
       "      <td>0.000000</td>\n",
       "      <td>0.000000</td>\n",
       "      <td>0.00000</td>\n",
       "      <td>0.000000</td>\n",
       "      <td>0.000000</td>\n",
       "      <td>0.000000</td>\n",
       "      <td>0.000000</td>\n",
       "    </tr>\n",
       "    <tr>\n",
       "      <th>9</th>\n",
       "      <td>0.000000</td>\n",
       "      <td>0.135405</td>\n",
       "      <td>0.000000</td>\n",
       "      <td>0.000000</td>\n",
       "      <td>0.000000</td>\n",
       "      <td>0.174358</td>\n",
       "      <td>0.323116</td>\n",
       "      <td>0.284162</td>\n",
       "      <td>0.378018</td>\n",
       "      <td>0.000000</td>\n",
       "      <td>...</td>\n",
       "      <td>0.000000</td>\n",
       "      <td>0.000000</td>\n",
       "      <td>0.000000</td>\n",
       "      <td>0.378018</td>\n",
       "      <td>0.000000</td>\n",
       "      <td>0.00000</td>\n",
       "      <td>0.000000</td>\n",
       "      <td>0.378018</td>\n",
       "      <td>0.000000</td>\n",
       "      <td>0.000000</td>\n",
       "    </tr>\n",
       "    <tr>\n",
       "      <th>10</th>\n",
       "      <td>0.349994</td>\n",
       "      <td>0.125367</td>\n",
       "      <td>0.000000</td>\n",
       "      <td>0.000000</td>\n",
       "      <td>0.000000</td>\n",
       "      <td>0.161432</td>\n",
       "      <td>0.000000</td>\n",
       "      <td>0.000000</td>\n",
       "      <td>0.000000</td>\n",
       "      <td>0.000000</td>\n",
       "      <td>...</td>\n",
       "      <td>0.000000</td>\n",
       "      <td>0.000000</td>\n",
       "      <td>0.349994</td>\n",
       "      <td>0.000000</td>\n",
       "      <td>0.000000</td>\n",
       "      <td>0.00000</td>\n",
       "      <td>0.299162</td>\n",
       "      <td>0.000000</td>\n",
       "      <td>0.000000</td>\n",
       "      <td>0.000000</td>\n",
       "    </tr>\n",
       "  </tbody>\n",
       "</table>\n",
       "<p>11 rows × 70 columns</p>\n",
       "</div>"
      ],
      "text/plain": [
       "          0         1         2         3         4         5         6   \\\n",
       "0   0.000000  0.138089  0.000000  0.000000  0.000000  0.177814  0.000000   \n",
       "1   0.000000  0.100503  0.000000  0.000000  0.000000  0.129416  0.000000   \n",
       "2   0.000000  0.114079  0.000000  0.000000  0.318482  0.000000  0.000000   \n",
       "3   0.000000  0.144696  0.403956  0.000000  0.000000  0.186322  0.345287   \n",
       "4   0.000000  0.122120  0.000000  0.000000  0.000000  0.000000  0.000000   \n",
       "5   0.000000  0.128983  0.000000  0.360088  0.000000  0.166088  0.000000   \n",
       "6   0.000000  0.142780  0.000000  0.000000  0.000000  0.183856  0.000000   \n",
       "7   0.000000  0.103984  0.000000  0.000000  0.000000  0.000000  0.000000   \n",
       "8   0.000000  0.137035  0.000000  0.000000  0.000000  0.176458  0.000000   \n",
       "9   0.000000  0.135405  0.000000  0.000000  0.000000  0.174358  0.323116   \n",
       "10  0.349994  0.125367  0.000000  0.000000  0.000000  0.161432  0.000000   \n",
       "\n",
       "          7         8         9   ...        60        61        62        63  \\\n",
       "0   0.000000  0.000000  0.289795  ...  0.000000  0.000000  0.000000  0.000000   \n",
       "1   0.000000  0.000000  0.000000  ...  0.000000  0.000000  0.000000  0.000000   \n",
       "2   0.000000  0.000000  0.000000  ...  0.000000  0.000000  0.000000  0.000000   \n",
       "3   0.303661  0.000000  0.303661  ...  0.000000  0.000000  0.000000  0.000000   \n",
       "4   0.000000  0.000000  0.256283  ...  0.340931  0.000000  0.000000  0.000000   \n",
       "5   0.000000  0.000000  0.000000  ...  0.000000  0.360088  0.000000  0.000000   \n",
       "6   0.000000  0.000000  0.000000  ...  0.000000  0.000000  0.000000  0.000000   \n",
       "7   0.000000  0.000000  0.000000  ...  0.000000  0.000000  0.000000  0.000000   \n",
       "8   0.287584  0.000000  0.000000  ...  0.000000  0.000000  0.000000  0.000000   \n",
       "9   0.284162  0.378018  0.000000  ...  0.000000  0.000000  0.000000  0.378018   \n",
       "10  0.000000  0.000000  0.000000  ...  0.000000  0.000000  0.349994  0.000000   \n",
       "\n",
       "          64       65        66        67        68        69  \n",
       "0   0.000000  0.38551  0.329520  0.000000  0.000000  0.000000  \n",
       "1   0.000000  0.00000  0.000000  0.000000  0.561162  0.000000  \n",
       "2   0.000000  0.00000  0.000000  0.000000  0.000000  0.000000  \n",
       "3   0.000000  0.00000  0.000000  0.000000  0.000000  0.000000  \n",
       "4   0.000000  0.00000  0.000000  0.000000  0.000000  0.340931  \n",
       "5   0.000000  0.00000  0.000000  0.000000  0.000000  0.000000  \n",
       "6   0.340716  0.00000  0.000000  0.000000  0.000000  0.000000  \n",
       "7   0.248136  0.00000  0.000000  0.000000  0.000000  0.000000  \n",
       "8   0.000000  0.00000  0.000000  0.000000  0.000000  0.000000  \n",
       "9   0.000000  0.00000  0.000000  0.378018  0.000000  0.000000  \n",
       "10  0.000000  0.00000  0.299162  0.000000  0.000000  0.000000  \n",
       "\n",
       "[11 rows x 70 columns]"
      ]
     },
     "execution_count": 77,
     "metadata": {},
     "output_type": "execute_result"
    }
   ],
   "source": [
    "sdf = pd.DataFrame.sparse.from_spmatrix(mx_tf)\n",
    "sdf"
   ]
  },
  {
   "cell_type": "code",
   "execution_count": 78,
   "id": "40f964e3",
   "metadata": {},
   "outputs": [
    {
     "data": {
      "text/plain": [
       "array([[1.        , 0.05629081, 0.10545741, 0.23932219, 0.11470609,\n",
       "        0.07224171, 0.26159235, 0.01435898, 0.07675203, 0.07583879,\n",
       "        0.2296883 ],\n",
       "       [0.05629081, 1.        , 0.01146536, 0.05898418, 0.02943043,\n",
       "        0.05257875, 0.05820329, 0.04720987, 0.10430463, 0.10306355,\n",
       "        0.12285286],\n",
       "       [0.10545741, 0.01146536, 1.        , 0.01650682, 0.01393141,\n",
       "        0.01471425, 0.01628829, 0.0118624 , 0.01563291, 0.0154469 ,\n",
       "        0.01430175],\n",
       "       [0.23932219, 0.05898418, 0.01650682, 1.        , 0.2208163 ,\n",
       "        0.07569829, 0.24745313, 0.08131132, 0.16775239, 0.27732408,\n",
       "        0.13738164],\n",
       "       [0.11470609, 0.02943043, 0.01393141, 0.2208163 , 1.        ,\n",
       "        0.03777001, 0.0418104 , 0.01269853, 0.04012813, 0.03965066,\n",
       "        0.03671117],\n",
       "       [0.07224171, 0.05257875, 0.01471425, 0.07569829, 0.03777001,\n",
       "        1.        , 0.07469612, 0.01341209, 0.17234018, 0.17028958,\n",
       "        0.15766519],\n",
       "       [0.26159235, 0.05820329, 0.01628829, 0.24745313, 0.0418104 ,\n",
       "        0.07469612, 1.        , 0.38009844, 0.16553151, 0.0784154 ,\n",
       "        0.13556283],\n",
       "       [0.01435898, 0.04720987, 0.0118624 , 0.08131132, 0.01269853,\n",
       "        0.01341209, 0.38009844, 1.        , 0.1898844 , 0.06360433,\n",
       "        0.0130361 ],\n",
       "       [0.07675203, 0.10430463, 0.01563291, 0.16775239, 0.04012813,\n",
       "        0.17234018, 0.16553151, 0.1898844 , 1.        , 0.22224684,\n",
       "        0.06968089],\n",
       "       [0.07583879, 0.10306355, 0.0154469 , 0.27732408, 0.03965066,\n",
       "        0.17028958, 0.0784154 , 0.06360433, 0.22224684, 1.        ,\n",
       "        0.06885179],\n",
       "       [0.2296883 , 0.12285286, 0.01430175, 0.13738164, 0.03671117,\n",
       "        0.15766519, 0.13556283, 0.0130361 , 0.06968089, 0.06885179,\n",
       "        1.        ]])"
      ]
     },
     "execution_count": 78,
     "metadata": {},
     "output_type": "execute_result"
    }
   ],
   "source": [
    "cosine_similarity(mx_tf)"
   ]
  },
  {
   "cell_type": "code",
   "execution_count": 79,
   "id": "93990544",
   "metadata": {},
   "outputs": [
    {
     "data": {
      "text/html": [
       "<div>\n",
       "<style scoped>\n",
       "    .dataframe tbody tr th:only-of-type {\n",
       "        vertical-align: middle;\n",
       "    }\n",
       "\n",
       "    .dataframe tbody tr th {\n",
       "        vertical-align: top;\n",
       "    }\n",
       "\n",
       "    .dataframe thead th {\n",
       "        text-align: right;\n",
       "    }\n",
       "</style>\n",
       "<table border=\"1\" class=\"dataframe\">\n",
       "  <thead>\n",
       "    <tr style=\"text-align: right;\">\n",
       "      <th></th>\n",
       "      <th>0</th>\n",
       "      <th>1</th>\n",
       "      <th>2</th>\n",
       "      <th>3</th>\n",
       "      <th>4</th>\n",
       "      <th>5</th>\n",
       "      <th>6</th>\n",
       "      <th>7</th>\n",
       "      <th>8</th>\n",
       "      <th>9</th>\n",
       "      <th>...</th>\n",
       "      <th>60</th>\n",
       "      <th>61</th>\n",
       "      <th>62</th>\n",
       "      <th>63</th>\n",
       "      <th>64</th>\n",
       "      <th>65</th>\n",
       "      <th>66</th>\n",
       "      <th>67</th>\n",
       "      <th>68</th>\n",
       "      <th>69</th>\n",
       "    </tr>\n",
       "  </thead>\n",
       "  <tbody>\n",
       "    <tr>\n",
       "      <th>0</th>\n",
       "      <td>0.0</td>\n",
       "      <td>0.0</td>\n",
       "      <td>0.0</td>\n",
       "      <td>0.0</td>\n",
       "      <td>0.0</td>\n",
       "      <td>0.148523</td>\n",
       "      <td>0.0</td>\n",
       "      <td>0.0</td>\n",
       "      <td>0.0</td>\n",
       "      <td>0.242057</td>\n",
       "      <td>...</td>\n",
       "      <td>0.0</td>\n",
       "      <td>0.0</td>\n",
       "      <td>0.0</td>\n",
       "      <td>0.0</td>\n",
       "      <td>0.275239</td>\n",
       "      <td>0.322006</td>\n",
       "      <td>0.0</td>\n",
       "      <td>0.0</td>\n",
       "      <td>0.0</td>\n",
       "      <td>0.0</td>\n",
       "    </tr>\n",
       "  </tbody>\n",
       "</table>\n",
       "<p>1 rows × 70 columns</p>\n",
       "</div>"
      ],
      "text/plain": [
       "    0    1    2    3    4         5    6    7    8         9   ...   60   61  \\\n",
       "0  0.0  0.0  0.0  0.0  0.0  0.148523  0.0  0.0  0.0  0.242057  ...  0.0  0.0   \n",
       "\n",
       "    62   63        64        65   66   67   68   69  \n",
       "0  0.0  0.0  0.275239  0.322006  0.0  0.0  0.0  0.0  \n",
       "\n",
       "[1 rows x 70 columns]"
      ]
     },
     "execution_count": 79,
     "metadata": {},
     "output_type": "execute_result"
    }
   ],
   "source": [
    "new_entry = tfidf.transform([find_nearest_to])\n",
    "pd.DataFrame.sparse.from_spmatrix(new_entry)"
   ]
  },
  {
   "cell_type": "code",
   "execution_count": 80,
   "id": "d2fd00fb",
   "metadata": {},
   "outputs": [
    {
     "data": {
      "text/plain": [
       "array([0.39729796, 0.11734167, 0.19589771, 0.17951505, 0.16474525,\n",
       "       0.34123143, 0.4673583 , 0.40583466, 0.40708225, 0.11751599,\n",
       "       0.18431081])"
      ]
     },
     "execution_count": 80,
     "metadata": {},
     "output_type": "execute_result"
    }
   ],
   "source": [
    "cosine_similarities = cosine_similarity(new_entry, mx_tf).flatten()\n",
    "cosine_similarities"
   ]
  },
  {
   "cell_type": "code",
   "execution_count": 81,
   "id": "59e0b165",
   "metadata": {},
   "outputs": [
    {
     "data": {
      "text/html": [
       "<div>\n",
       "<style scoped>\n",
       "    .dataframe tbody tr th:only-of-type {\n",
       "        vertical-align: middle;\n",
       "    }\n",
       "\n",
       "    .dataframe tbody tr th {\n",
       "        vertical-align: top;\n",
       "    }\n",
       "\n",
       "    .dataframe thead th {\n",
       "        text-align: right;\n",
       "    }\n",
       "</style>\n",
       "<table border=\"1\" class=\"dataframe\">\n",
       "  <thead>\n",
       "    <tr style=\"text-align: right;\">\n",
       "      <th></th>\n",
       "      <th>texts</th>\n",
       "      <th>cos_similarities</th>\n",
       "    </tr>\n",
       "  </thead>\n",
       "  <tbody>\n",
       "    <tr>\n",
       "      <th>6</th>\n",
       "      <td>Topic 10: пакет, функция, мочь, код, схема, ко...</td>\n",
       "      <td>0.467358</td>\n",
       "    </tr>\n",
       "    <tr>\n",
       "      <th>8</th>\n",
       "      <td>Topic 4: реактивный, мочь, данные, стрим, опер...</td>\n",
       "      <td>0.407082</td>\n",
       "    </tr>\n",
       "    <tr>\n",
       "      <th>7</th>\n",
       "      <td>Topic 3: работа, мочь, данные, анимация, испол...</td>\n",
       "      <td>0.405835</td>\n",
       "    </tr>\n",
       "    <tr>\n",
       "      <th>0</th>\n",
       "      <td>Topic 2: класс, объект, десериализация, поле, ...</td>\n",
       "      <td>0.397298</td>\n",
       "    </tr>\n",
       "    <tr>\n",
       "      <th>5</th>\n",
       "      <td>Topic 8: мочь, приложение, имя, система, польз...</td>\n",
       "      <td>0.341231</td>\n",
       "    </tr>\n",
       "    <tr>\n",
       "      <th>2</th>\n",
       "      <td>Topic 6: система, мочь, устройство, работа, пл...</td>\n",
       "      <td>0.195898</td>\n",
       "    </tr>\n",
       "    <tr>\n",
       "      <th>10</th>\n",
       "      <td>Topic 9: год, мочь, весь, тест, человек, серве...</td>\n",
       "      <td>0.184311</td>\n",
       "    </tr>\n",
       "    <tr>\n",
       "      <th>3</th>\n",
       "      <td>Topic 1: мочь, дыра, игра, ошибка, команда, се...</td>\n",
       "      <td>0.179515</td>\n",
       "    </tr>\n",
       "    <tr>\n",
       "      <th>4</th>\n",
       "      <td>Topic 0: данные, мочь, весь, использовать, фай...</td>\n",
       "      <td>0.164745</td>\n",
       "    </tr>\n",
       "    <tr>\n",
       "      <th>9</th>\n",
       "      <td>Topic 7: система, устройство, операционный, оп...</td>\n",
       "      <td>0.117516</td>\n",
       "    </tr>\n",
       "    <tr>\n",
       "      <th>1</th>\n",
       "      <td>Topic 5: весь, код, статья, сумма, лидар, мочь...</td>\n",
       "      <td>0.117342</td>\n",
       "    </tr>\n",
       "  </tbody>\n",
       "</table>\n",
       "</div>"
      ],
      "text/plain": [
       "                                                texts  cos_similarities\n",
       "6   Topic 10: пакет, функция, мочь, код, схема, ко...          0.467358\n",
       "8   Topic 4: реактивный, мочь, данные, стрим, опер...          0.407082\n",
       "7   Topic 3: работа, мочь, данные, анимация, испол...          0.405835\n",
       "0   Topic 2: класс, объект, десериализация, поле, ...          0.397298\n",
       "5   Topic 8: мочь, приложение, имя, система, польз...          0.341231\n",
       "2   Topic 6: система, мочь, устройство, работа, пл...          0.195898\n",
       "10  Topic 9: год, мочь, весь, тест, человек, серве...          0.184311\n",
       "3   Topic 1: мочь, дыра, игра, ошибка, команда, се...          0.179515\n",
       "4   Topic 0: данные, мочь, весь, использовать, фай...          0.164745\n",
       "9   Topic 7: система, устройство, операционный, оп...          0.117516\n",
       "1   Topic 5: весь, код, статья, сумма, лидар, мочь...          0.117342"
      ]
     },
     "execution_count": 81,
     "metadata": {},
     "output_type": "execute_result"
    }
   ],
   "source": [
    "# запишем все попарные результаты сравнений\n",
    "dfCosinTest['cos_similarities'] = cosine_similarities\n",
    "# и отсортируем по убыванию (т.к. cos(0)=1)\n",
    "dfCosinTest = dfCosinTest.sort_values(by=['cos_similarities'], ascending=[0])\n",
    "dfCosinTest"
   ]
  },
  {
   "cell_type": "markdown",
   "id": "304d4a9f",
   "metadata": {},
   "source": [
    "0 = 14\n",
    "\n",
    "1 = 15\n",
    "\n",
    "2 = 6\n",
    "\n",
    "3 = 2\n",
    "\n",
    "4 = 3\n",
    "\n",
    "5 = 5\n",
    "\n",
    "6 = 4\n",
    "\n",
    "7 = 8\n",
    "\n",
    "8 = 1\n",
    "\n",
    "9 = 13\n",
    "\n",
    "10 = 7\n",
    "\n",
    "11 = 9\n",
    "\n",
    "12 = 10\n",
    "\n",
    "13 = 11\n",
    "\n",
    "14 = 12"
   ]
  },
  {
   "cell_type": "code",
   "execution_count": null,
   "id": "ceff6de4",
   "metadata": {},
   "outputs": [],
   "source": []
  },
  {
   "cell_type": "code",
   "execution_count": 82,
   "id": "121521fd",
   "metadata": {},
   "outputs": [],
   "source": [
    "X = dfHabr1['keyword']\n",
    "y = dfHabr1['clustersAgglomerative']"
   ]
  },
  {
   "cell_type": "code",
   "execution_count": 83,
   "id": "149859bf",
   "metadata": {},
   "outputs": [],
   "source": [
    "X_train, X_test, y_train, y_test = train_test_split(X, y, test_size=0.3, random_state = 42)"
   ]
  },
  {
   "cell_type": "code",
   "execution_count": 84,
   "id": "a6820059",
   "metadata": {},
   "outputs": [
    {
     "data": {
      "text/plain": [
       "array([ 4,  2,  7,  9, 10,  6,  8,  3,  0,  1,  5], dtype=int64)"
      ]
     },
     "execution_count": 84,
     "metadata": {},
     "output_type": "execute_result"
    }
   ],
   "source": [
    "my_tags = dfHabr1['clustersKmeans'].unique()\n",
    "my_tags"
   ]
  },
  {
   "cell_type": "code",
   "execution_count": null,
   "id": "372bfcef",
   "metadata": {},
   "outputs": [],
   "source": []
  },
  {
   "cell_type": "code",
   "execution_count": 85,
   "id": "126e08c9",
   "metadata": {},
   "outputs": [],
   "source": [
    "nb = Pipeline([('vect', CountVectorizer()),\n",
    "               ('tfidf', TfidfTransformer()),\n",
    "               ('clf', MultinomialNB()),\n",
    "              ])"
   ]
  },
  {
   "cell_type": "code",
   "execution_count": 86,
   "id": "e0bf0987",
   "metadata": {},
   "outputs": [
    {
     "name": "stdout",
     "output_type": "stream",
     "text": [
      "CPU times: total: 0 ns\n",
      "Wall time: 3 ms\n"
     ]
    },
    {
     "data": {
      "text/html": [
       "<style>#sk-container-id-1 {color: black;background-color: white;}#sk-container-id-1 pre{padding: 0;}#sk-container-id-1 div.sk-toggleable {background-color: white;}#sk-container-id-1 label.sk-toggleable__label {cursor: pointer;display: block;width: 100%;margin-bottom: 0;padding: 0.3em;box-sizing: border-box;text-align: center;}#sk-container-id-1 label.sk-toggleable__label-arrow:before {content: \"▸\";float: left;margin-right: 0.25em;color: #696969;}#sk-container-id-1 label.sk-toggleable__label-arrow:hover:before {color: black;}#sk-container-id-1 div.sk-estimator:hover label.sk-toggleable__label-arrow:before {color: black;}#sk-container-id-1 div.sk-toggleable__content {max-height: 0;max-width: 0;overflow: hidden;text-align: left;background-color: #f0f8ff;}#sk-container-id-1 div.sk-toggleable__content pre {margin: 0.2em;color: black;border-radius: 0.25em;background-color: #f0f8ff;}#sk-container-id-1 input.sk-toggleable__control:checked~div.sk-toggleable__content {max-height: 200px;max-width: 100%;overflow: auto;}#sk-container-id-1 input.sk-toggleable__control:checked~label.sk-toggleable__label-arrow:before {content: \"▾\";}#sk-container-id-1 div.sk-estimator input.sk-toggleable__control:checked~label.sk-toggleable__label {background-color: #d4ebff;}#sk-container-id-1 div.sk-label input.sk-toggleable__control:checked~label.sk-toggleable__label {background-color: #d4ebff;}#sk-container-id-1 input.sk-hidden--visually {border: 0;clip: rect(1px 1px 1px 1px);clip: rect(1px, 1px, 1px, 1px);height: 1px;margin: -1px;overflow: hidden;padding: 0;position: absolute;width: 1px;}#sk-container-id-1 div.sk-estimator {font-family: monospace;background-color: #f0f8ff;border: 1px dotted black;border-radius: 0.25em;box-sizing: border-box;margin-bottom: 0.5em;}#sk-container-id-1 div.sk-estimator:hover {background-color: #d4ebff;}#sk-container-id-1 div.sk-parallel-item::after {content: \"\";width: 100%;border-bottom: 1px solid gray;flex-grow: 1;}#sk-container-id-1 div.sk-label:hover label.sk-toggleable__label {background-color: #d4ebff;}#sk-container-id-1 div.sk-serial::before {content: \"\";position: absolute;border-left: 1px solid gray;box-sizing: border-box;top: 0;bottom: 0;left: 50%;z-index: 0;}#sk-container-id-1 div.sk-serial {display: flex;flex-direction: column;align-items: center;background-color: white;padding-right: 0.2em;padding-left: 0.2em;position: relative;}#sk-container-id-1 div.sk-item {position: relative;z-index: 1;}#sk-container-id-1 div.sk-parallel {display: flex;align-items: stretch;justify-content: center;background-color: white;position: relative;}#sk-container-id-1 div.sk-item::before, #sk-container-id-1 div.sk-parallel-item::before {content: \"\";position: absolute;border-left: 1px solid gray;box-sizing: border-box;top: 0;bottom: 0;left: 50%;z-index: -1;}#sk-container-id-1 div.sk-parallel-item {display: flex;flex-direction: column;z-index: 1;position: relative;background-color: white;}#sk-container-id-1 div.sk-parallel-item:first-child::after {align-self: flex-end;width: 50%;}#sk-container-id-1 div.sk-parallel-item:last-child::after {align-self: flex-start;width: 50%;}#sk-container-id-1 div.sk-parallel-item:only-child::after {width: 0;}#sk-container-id-1 div.sk-dashed-wrapped {border: 1px dashed gray;margin: 0 0.4em 0.5em 0.4em;box-sizing: border-box;padding-bottom: 0.4em;background-color: white;}#sk-container-id-1 div.sk-label label {font-family: monospace;font-weight: bold;display: inline-block;line-height: 1.2em;}#sk-container-id-1 div.sk-label-container {text-align: center;}#sk-container-id-1 div.sk-container {/* jupyter's `normalize.less` sets `[hidden] { display: none; }` but bootstrap.min.css set `[hidden] { display: none !important; }` so we also need the `!important` here to be able to override the default hidden behavior on the sphinx rendered scikit-learn.org. See: https://github.com/scikit-learn/scikit-learn/issues/21755 */display: inline-block !important;position: relative;}#sk-container-id-1 div.sk-text-repr-fallback {display: none;}</style><div id=\"sk-container-id-1\" class=\"sk-top-container\"><div class=\"sk-text-repr-fallback\"><pre>Pipeline(steps=[(&#x27;vect&#x27;, CountVectorizer()), (&#x27;tfidf&#x27;, TfidfTransformer()),\n",
       "                (&#x27;clf&#x27;, MultinomialNB())])</pre><b>In a Jupyter environment, please rerun this cell to show the HTML representation or trust the notebook. <br />On GitHub, the HTML representation is unable to render, please try loading this page with nbviewer.org.</b></div><div class=\"sk-container\" hidden><div class=\"sk-item sk-dashed-wrapped\"><div class=\"sk-label-container\"><div class=\"sk-label sk-toggleable\"><input class=\"sk-toggleable__control sk-hidden--visually\" id=\"sk-estimator-id-1\" type=\"checkbox\" ><label for=\"sk-estimator-id-1\" class=\"sk-toggleable__label sk-toggleable__label-arrow\">Pipeline</label><div class=\"sk-toggleable__content\"><pre>Pipeline(steps=[(&#x27;vect&#x27;, CountVectorizer()), (&#x27;tfidf&#x27;, TfidfTransformer()),\n",
       "                (&#x27;clf&#x27;, MultinomialNB())])</pre></div></div></div><div class=\"sk-serial\"><div class=\"sk-item\"><div class=\"sk-estimator sk-toggleable\"><input class=\"sk-toggleable__control sk-hidden--visually\" id=\"sk-estimator-id-2\" type=\"checkbox\" ><label for=\"sk-estimator-id-2\" class=\"sk-toggleable__label sk-toggleable__label-arrow\">CountVectorizer</label><div class=\"sk-toggleable__content\"><pre>CountVectorizer()</pre></div></div></div><div class=\"sk-item\"><div class=\"sk-estimator sk-toggleable\"><input class=\"sk-toggleable__control sk-hidden--visually\" id=\"sk-estimator-id-3\" type=\"checkbox\" ><label for=\"sk-estimator-id-3\" class=\"sk-toggleable__label sk-toggleable__label-arrow\">TfidfTransformer</label><div class=\"sk-toggleable__content\"><pre>TfidfTransformer()</pre></div></div></div><div class=\"sk-item\"><div class=\"sk-estimator sk-toggleable\"><input class=\"sk-toggleable__control sk-hidden--visually\" id=\"sk-estimator-id-4\" type=\"checkbox\" ><label for=\"sk-estimator-id-4\" class=\"sk-toggleable__label sk-toggleable__label-arrow\">MultinomialNB</label><div class=\"sk-toggleable__content\"><pre>MultinomialNB()</pre></div></div></div></div></div></div></div>"
      ],
      "text/plain": [
       "Pipeline(steps=[('vect', CountVectorizer()), ('tfidf', TfidfTransformer()),\n",
       "                ('clf', MultinomialNB())])"
      ]
     },
     "execution_count": 86,
     "metadata": {},
     "output_type": "execute_result"
    }
   ],
   "source": [
    "%%time\n",
    "nb.fit(X_train, y_train)"
   ]
  },
  {
   "cell_type": "code",
   "execution_count": 87,
   "id": "7a891d88",
   "metadata": {},
   "outputs": [
    {
     "name": "stdout",
     "output_type": "stream",
     "text": [
      "CPU times: total: 0 ns\n",
      "Wall time: 1 ms\n"
     ]
    }
   ],
   "source": [
    "%%time\n",
    "from sklearn.metrics import classification_report\n",
    "y_pred = nb.predict(X_test)"
   ]
  },
  {
   "cell_type": "code",
   "execution_count": 88,
   "id": "05cfebb7",
   "metadata": {},
   "outputs": [
    {
     "data": {
      "text/plain": [
       "1"
      ]
     },
     "execution_count": 88,
     "metadata": {},
     "output_type": "execute_result"
    }
   ],
   "source": [
    "y_pred[0]"
   ]
  },
  {
   "cell_type": "code",
   "execution_count": 89,
   "id": "b20651c6",
   "metadata": {},
   "outputs": [
    {
     "name": "stdout",
     "output_type": "stream",
     "text": [
      "код, модель, плагин, поиск, данные, разработка, новый, любой, ответ, задача 1 1\n"
     ]
    }
   ],
   "source": [
    "print(X_test[0], y_test[0], y_pred[0])"
   ]
  },
  {
   "cell_type": "code",
   "execution_count": 90,
   "id": "242c0037",
   "metadata": {},
   "outputs": [
    {
     "data": {
      "text/plain": [
       "array([ 4,  2,  7,  9, 10,  6,  8,  3,  0,  1,  5], dtype=int64)"
      ]
     },
     "execution_count": 90,
     "metadata": {},
     "output_type": "execute_result"
    }
   ],
   "source": [
    "my_tags"
   ]
  },
  {
   "cell_type": "code",
   "execution_count": 91,
   "id": "8fa18bd9",
   "metadata": {
    "scrolled": true
   },
   "outputs": [
    {
     "name": "stdout",
     "output_type": "stream",
     "text": [
      "accuracy 0.7407407407407407\n",
      "              precision    recall  f1-score   support\n",
      "\n",
      "           0       0.00      0.00      0.00         2\n",
      "           1       0.77      0.95      0.85        21\n",
      "           3       0.00      0.00      0.00         1\n",
      "           4       0.00      0.00      0.00         1\n",
      "           7       0.00      0.00      0.00         1\n",
      "           8       0.00      0.00      0.00         1\n",
      "\n",
      "    accuracy                           0.74        27\n",
      "   macro avg       0.13      0.16      0.14        27\n",
      "weighted avg       0.60      0.74      0.66        27\n",
      "\n"
     ]
    },
    {
     "name": "stderr",
     "output_type": "stream",
     "text": [
      "C:\\Users\\essww\\anaconda3\\lib\\site-packages\\sklearn\\metrics\\_classification.py:1344: UndefinedMetricWarning: Precision and F-score are ill-defined and being set to 0.0 in labels with no predicted samples. Use `zero_division` parameter to control this behavior.\n",
      "  _warn_prf(average, modifier, msg_start, len(result))\n",
      "C:\\Users\\essww\\anaconda3\\lib\\site-packages\\sklearn\\metrics\\_classification.py:1344: UndefinedMetricWarning: Precision and F-score are ill-defined and being set to 0.0 in labels with no predicted samples. Use `zero_division` parameter to control this behavior.\n",
      "  _warn_prf(average, modifier, msg_start, len(result))\n",
      "C:\\Users\\essww\\anaconda3\\lib\\site-packages\\sklearn\\metrics\\_classification.py:1344: UndefinedMetricWarning: Precision and F-score are ill-defined and being set to 0.0 in labels with no predicted samples. Use `zero_division` parameter to control this behavior.\n",
      "  _warn_prf(average, modifier, msg_start, len(result))\n"
     ]
    }
   ],
   "source": [
    "from sklearn.metrics import accuracy_score\n",
    "\n",
    "print('accuracy %s' % accuracy_score(y_pred, y_test))\n",
    "print(classification_report(y_test, y_pred))"
   ]
  },
  {
   "cell_type": "code",
   "execution_count": null,
   "id": "adc68067",
   "metadata": {},
   "outputs": [],
   "source": []
  },
  {
   "cell_type": "code",
   "execution_count": 92,
   "id": "3c605912",
   "metadata": {},
   "outputs": [],
   "source": [
    "from sklearn.linear_model import SGDClassifier\n",
    "\n",
    "sgd = Pipeline([('vect', CountVectorizer()),\n",
    "                ('tfidf', TfidfTransformer()),\n",
    "                ('clf', SGDClassifier(loss='hinge', penalty='l2',alpha=1e-3, random_state=42, max_iter=5, tol=None)),\n",
    "               ])"
   ]
  },
  {
   "cell_type": "code",
   "execution_count": 93,
   "id": "7ecc9325",
   "metadata": {},
   "outputs": [
    {
     "name": "stdout",
     "output_type": "stream",
     "text": [
      "CPU times: total: 0 ns\n",
      "Wall time: 5.51 ms\n"
     ]
    },
    {
     "data": {
      "text/html": [
       "<style>#sk-container-id-2 {color: black;background-color: white;}#sk-container-id-2 pre{padding: 0;}#sk-container-id-2 div.sk-toggleable {background-color: white;}#sk-container-id-2 label.sk-toggleable__label {cursor: pointer;display: block;width: 100%;margin-bottom: 0;padding: 0.3em;box-sizing: border-box;text-align: center;}#sk-container-id-2 label.sk-toggleable__label-arrow:before {content: \"▸\";float: left;margin-right: 0.25em;color: #696969;}#sk-container-id-2 label.sk-toggleable__label-arrow:hover:before {color: black;}#sk-container-id-2 div.sk-estimator:hover label.sk-toggleable__label-arrow:before {color: black;}#sk-container-id-2 div.sk-toggleable__content {max-height: 0;max-width: 0;overflow: hidden;text-align: left;background-color: #f0f8ff;}#sk-container-id-2 div.sk-toggleable__content pre {margin: 0.2em;color: black;border-radius: 0.25em;background-color: #f0f8ff;}#sk-container-id-2 input.sk-toggleable__control:checked~div.sk-toggleable__content {max-height: 200px;max-width: 100%;overflow: auto;}#sk-container-id-2 input.sk-toggleable__control:checked~label.sk-toggleable__label-arrow:before {content: \"▾\";}#sk-container-id-2 div.sk-estimator input.sk-toggleable__control:checked~label.sk-toggleable__label {background-color: #d4ebff;}#sk-container-id-2 div.sk-label input.sk-toggleable__control:checked~label.sk-toggleable__label {background-color: #d4ebff;}#sk-container-id-2 input.sk-hidden--visually {border: 0;clip: rect(1px 1px 1px 1px);clip: rect(1px, 1px, 1px, 1px);height: 1px;margin: -1px;overflow: hidden;padding: 0;position: absolute;width: 1px;}#sk-container-id-2 div.sk-estimator {font-family: monospace;background-color: #f0f8ff;border: 1px dotted black;border-radius: 0.25em;box-sizing: border-box;margin-bottom: 0.5em;}#sk-container-id-2 div.sk-estimator:hover {background-color: #d4ebff;}#sk-container-id-2 div.sk-parallel-item::after {content: \"\";width: 100%;border-bottom: 1px solid gray;flex-grow: 1;}#sk-container-id-2 div.sk-label:hover label.sk-toggleable__label {background-color: #d4ebff;}#sk-container-id-2 div.sk-serial::before {content: \"\";position: absolute;border-left: 1px solid gray;box-sizing: border-box;top: 0;bottom: 0;left: 50%;z-index: 0;}#sk-container-id-2 div.sk-serial {display: flex;flex-direction: column;align-items: center;background-color: white;padding-right: 0.2em;padding-left: 0.2em;position: relative;}#sk-container-id-2 div.sk-item {position: relative;z-index: 1;}#sk-container-id-2 div.sk-parallel {display: flex;align-items: stretch;justify-content: center;background-color: white;position: relative;}#sk-container-id-2 div.sk-item::before, #sk-container-id-2 div.sk-parallel-item::before {content: \"\";position: absolute;border-left: 1px solid gray;box-sizing: border-box;top: 0;bottom: 0;left: 50%;z-index: -1;}#sk-container-id-2 div.sk-parallel-item {display: flex;flex-direction: column;z-index: 1;position: relative;background-color: white;}#sk-container-id-2 div.sk-parallel-item:first-child::after {align-self: flex-end;width: 50%;}#sk-container-id-2 div.sk-parallel-item:last-child::after {align-self: flex-start;width: 50%;}#sk-container-id-2 div.sk-parallel-item:only-child::after {width: 0;}#sk-container-id-2 div.sk-dashed-wrapped {border: 1px dashed gray;margin: 0 0.4em 0.5em 0.4em;box-sizing: border-box;padding-bottom: 0.4em;background-color: white;}#sk-container-id-2 div.sk-label label {font-family: monospace;font-weight: bold;display: inline-block;line-height: 1.2em;}#sk-container-id-2 div.sk-label-container {text-align: center;}#sk-container-id-2 div.sk-container {/* jupyter's `normalize.less` sets `[hidden] { display: none; }` but bootstrap.min.css set `[hidden] { display: none !important; }` so we also need the `!important` here to be able to override the default hidden behavior on the sphinx rendered scikit-learn.org. See: https://github.com/scikit-learn/scikit-learn/issues/21755 */display: inline-block !important;position: relative;}#sk-container-id-2 div.sk-text-repr-fallback {display: none;}</style><div id=\"sk-container-id-2\" class=\"sk-top-container\"><div class=\"sk-text-repr-fallback\"><pre>Pipeline(steps=[(&#x27;vect&#x27;, CountVectorizer()), (&#x27;tfidf&#x27;, TfidfTransformer()),\n",
       "                (&#x27;clf&#x27;,\n",
       "                 SGDClassifier(alpha=0.001, max_iter=5, random_state=42,\n",
       "                               tol=None))])</pre><b>In a Jupyter environment, please rerun this cell to show the HTML representation or trust the notebook. <br />On GitHub, the HTML representation is unable to render, please try loading this page with nbviewer.org.</b></div><div class=\"sk-container\" hidden><div class=\"sk-item sk-dashed-wrapped\"><div class=\"sk-label-container\"><div class=\"sk-label sk-toggleable\"><input class=\"sk-toggleable__control sk-hidden--visually\" id=\"sk-estimator-id-5\" type=\"checkbox\" ><label for=\"sk-estimator-id-5\" class=\"sk-toggleable__label sk-toggleable__label-arrow\">Pipeline</label><div class=\"sk-toggleable__content\"><pre>Pipeline(steps=[(&#x27;vect&#x27;, CountVectorizer()), (&#x27;tfidf&#x27;, TfidfTransformer()),\n",
       "                (&#x27;clf&#x27;,\n",
       "                 SGDClassifier(alpha=0.001, max_iter=5, random_state=42,\n",
       "                               tol=None))])</pre></div></div></div><div class=\"sk-serial\"><div class=\"sk-item\"><div class=\"sk-estimator sk-toggleable\"><input class=\"sk-toggleable__control sk-hidden--visually\" id=\"sk-estimator-id-6\" type=\"checkbox\" ><label for=\"sk-estimator-id-6\" class=\"sk-toggleable__label sk-toggleable__label-arrow\">CountVectorizer</label><div class=\"sk-toggleable__content\"><pre>CountVectorizer()</pre></div></div></div><div class=\"sk-item\"><div class=\"sk-estimator sk-toggleable\"><input class=\"sk-toggleable__control sk-hidden--visually\" id=\"sk-estimator-id-7\" type=\"checkbox\" ><label for=\"sk-estimator-id-7\" class=\"sk-toggleable__label sk-toggleable__label-arrow\">TfidfTransformer</label><div class=\"sk-toggleable__content\"><pre>TfidfTransformer()</pre></div></div></div><div class=\"sk-item\"><div class=\"sk-estimator sk-toggleable\"><input class=\"sk-toggleable__control sk-hidden--visually\" id=\"sk-estimator-id-8\" type=\"checkbox\" ><label for=\"sk-estimator-id-8\" class=\"sk-toggleable__label sk-toggleable__label-arrow\">SGDClassifier</label><div class=\"sk-toggleable__content\"><pre>SGDClassifier(alpha=0.001, max_iter=5, random_state=42, tol=None)</pre></div></div></div></div></div></div></div>"
      ],
      "text/plain": [
       "Pipeline(steps=[('vect', CountVectorizer()), ('tfidf', TfidfTransformer()),\n",
       "                ('clf',\n",
       "                 SGDClassifier(alpha=0.001, max_iter=5, random_state=42,\n",
       "                               tol=None))])"
      ]
     },
     "execution_count": 93,
     "metadata": {},
     "output_type": "execute_result"
    }
   ],
   "source": [
    "%%time\n",
    "sgd.fit(X_train, y_train)"
   ]
  },
  {
   "cell_type": "code",
   "execution_count": 94,
   "id": "fd0e5eac",
   "metadata": {},
   "outputs": [
    {
     "name": "stdout",
     "output_type": "stream",
     "text": [
      "CPU times: total: 0 ns\n",
      "Wall time: 1.34 ms\n"
     ]
    }
   ],
   "source": [
    "%%time\n",
    "y_pred = sgd.predict(X_test)"
   ]
  },
  {
   "cell_type": "code",
   "execution_count": 95,
   "id": "3fd92a5a",
   "metadata": {},
   "outputs": [
    {
     "name": "stdout",
     "output_type": "stream",
     "text": [
      "accuracy 0.5925925925925926\n",
      "              precision    recall  f1-score   support\n",
      "\n",
      "           0       0.00      0.00      0.00         2\n",
      "           1       0.73      0.76      0.74        21\n",
      "           2       0.00      0.00      0.00         0\n",
      "           3       0.00      0.00      0.00         1\n",
      "           4       0.00      0.00      0.00         1\n",
      "           7       0.00      0.00      0.00         1\n",
      "           8       0.00      0.00      0.00         1\n",
      "\n",
      "    accuracy                           0.59        27\n",
      "   macro avg       0.10      0.11      0.11        27\n",
      "weighted avg       0.57      0.59      0.58        27\n",
      "\n"
     ]
    },
    {
     "name": "stderr",
     "output_type": "stream",
     "text": [
      "C:\\Users\\essww\\anaconda3\\lib\\site-packages\\sklearn\\metrics\\_classification.py:1344: UndefinedMetricWarning: Precision and F-score are ill-defined and being set to 0.0 in labels with no predicted samples. Use `zero_division` parameter to control this behavior.\n",
      "  _warn_prf(average, modifier, msg_start, len(result))\n",
      "C:\\Users\\essww\\anaconda3\\lib\\site-packages\\sklearn\\metrics\\_classification.py:1344: UndefinedMetricWarning: Recall and F-score are ill-defined and being set to 0.0 in labels with no true samples. Use `zero_division` parameter to control this behavior.\n",
      "  _warn_prf(average, modifier, msg_start, len(result))\n",
      "C:\\Users\\essww\\anaconda3\\lib\\site-packages\\sklearn\\metrics\\_classification.py:1344: UndefinedMetricWarning: Precision and F-score are ill-defined and being set to 0.0 in labels with no predicted samples. Use `zero_division` parameter to control this behavior.\n",
      "  _warn_prf(average, modifier, msg_start, len(result))\n",
      "C:\\Users\\essww\\anaconda3\\lib\\site-packages\\sklearn\\metrics\\_classification.py:1344: UndefinedMetricWarning: Recall and F-score are ill-defined and being set to 0.0 in labels with no true samples. Use `zero_division` parameter to control this behavior.\n",
      "  _warn_prf(average, modifier, msg_start, len(result))\n",
      "C:\\Users\\essww\\anaconda3\\lib\\site-packages\\sklearn\\metrics\\_classification.py:1344: UndefinedMetricWarning: Precision and F-score are ill-defined and being set to 0.0 in labels with no predicted samples. Use `zero_division` parameter to control this behavior.\n",
      "  _warn_prf(average, modifier, msg_start, len(result))\n",
      "C:\\Users\\essww\\anaconda3\\lib\\site-packages\\sklearn\\metrics\\_classification.py:1344: UndefinedMetricWarning: Recall and F-score are ill-defined and being set to 0.0 in labels with no true samples. Use `zero_division` parameter to control this behavior.\n",
      "  _warn_prf(average, modifier, msg_start, len(result))\n"
     ]
    }
   ],
   "source": [
    "print('accuracy %s' % accuracy_score(y_pred, y_test))\n",
    "print(classification_report(y_test, y_pred))"
   ]
  },
  {
   "cell_type": "code",
   "execution_count": null,
   "id": "60a8b44c",
   "metadata": {},
   "outputs": [],
   "source": []
  },
  {
   "cell_type": "code",
   "execution_count": 96,
   "id": "c1b65627",
   "metadata": {},
   "outputs": [],
   "source": [
    "from sklearn.linear_model import LogisticRegression\n",
    "\n",
    "logreg = Pipeline([('vect', CountVectorizer()),\n",
    "                ('tfidf', TfidfTransformer()),\n",
    "                ('clf', LogisticRegression(n_jobs=1, C=1e5)),\n",
    "               ])"
   ]
  },
  {
   "cell_type": "code",
   "execution_count": 97,
   "id": "114dc97e",
   "metadata": {},
   "outputs": [
    {
     "name": "stdout",
     "output_type": "stream",
     "text": [
      "CPU times: total: 0 ns\n",
      "Wall time: 13.2 ms\n"
     ]
    },
    {
     "data": {
      "text/html": [
       "<style>#sk-container-id-3 {color: black;background-color: white;}#sk-container-id-3 pre{padding: 0;}#sk-container-id-3 div.sk-toggleable {background-color: white;}#sk-container-id-3 label.sk-toggleable__label {cursor: pointer;display: block;width: 100%;margin-bottom: 0;padding: 0.3em;box-sizing: border-box;text-align: center;}#sk-container-id-3 label.sk-toggleable__label-arrow:before {content: \"▸\";float: left;margin-right: 0.25em;color: #696969;}#sk-container-id-3 label.sk-toggleable__label-arrow:hover:before {color: black;}#sk-container-id-3 div.sk-estimator:hover label.sk-toggleable__label-arrow:before {color: black;}#sk-container-id-3 div.sk-toggleable__content {max-height: 0;max-width: 0;overflow: hidden;text-align: left;background-color: #f0f8ff;}#sk-container-id-3 div.sk-toggleable__content pre {margin: 0.2em;color: black;border-radius: 0.25em;background-color: #f0f8ff;}#sk-container-id-3 input.sk-toggleable__control:checked~div.sk-toggleable__content {max-height: 200px;max-width: 100%;overflow: auto;}#sk-container-id-3 input.sk-toggleable__control:checked~label.sk-toggleable__label-arrow:before {content: \"▾\";}#sk-container-id-3 div.sk-estimator input.sk-toggleable__control:checked~label.sk-toggleable__label {background-color: #d4ebff;}#sk-container-id-3 div.sk-label input.sk-toggleable__control:checked~label.sk-toggleable__label {background-color: #d4ebff;}#sk-container-id-3 input.sk-hidden--visually {border: 0;clip: rect(1px 1px 1px 1px);clip: rect(1px, 1px, 1px, 1px);height: 1px;margin: -1px;overflow: hidden;padding: 0;position: absolute;width: 1px;}#sk-container-id-3 div.sk-estimator {font-family: monospace;background-color: #f0f8ff;border: 1px dotted black;border-radius: 0.25em;box-sizing: border-box;margin-bottom: 0.5em;}#sk-container-id-3 div.sk-estimator:hover {background-color: #d4ebff;}#sk-container-id-3 div.sk-parallel-item::after {content: \"\";width: 100%;border-bottom: 1px solid gray;flex-grow: 1;}#sk-container-id-3 div.sk-label:hover label.sk-toggleable__label {background-color: #d4ebff;}#sk-container-id-3 div.sk-serial::before {content: \"\";position: absolute;border-left: 1px solid gray;box-sizing: border-box;top: 0;bottom: 0;left: 50%;z-index: 0;}#sk-container-id-3 div.sk-serial {display: flex;flex-direction: column;align-items: center;background-color: white;padding-right: 0.2em;padding-left: 0.2em;position: relative;}#sk-container-id-3 div.sk-item {position: relative;z-index: 1;}#sk-container-id-3 div.sk-parallel {display: flex;align-items: stretch;justify-content: center;background-color: white;position: relative;}#sk-container-id-3 div.sk-item::before, #sk-container-id-3 div.sk-parallel-item::before {content: \"\";position: absolute;border-left: 1px solid gray;box-sizing: border-box;top: 0;bottom: 0;left: 50%;z-index: -1;}#sk-container-id-3 div.sk-parallel-item {display: flex;flex-direction: column;z-index: 1;position: relative;background-color: white;}#sk-container-id-3 div.sk-parallel-item:first-child::after {align-self: flex-end;width: 50%;}#sk-container-id-3 div.sk-parallel-item:last-child::after {align-self: flex-start;width: 50%;}#sk-container-id-3 div.sk-parallel-item:only-child::after {width: 0;}#sk-container-id-3 div.sk-dashed-wrapped {border: 1px dashed gray;margin: 0 0.4em 0.5em 0.4em;box-sizing: border-box;padding-bottom: 0.4em;background-color: white;}#sk-container-id-3 div.sk-label label {font-family: monospace;font-weight: bold;display: inline-block;line-height: 1.2em;}#sk-container-id-3 div.sk-label-container {text-align: center;}#sk-container-id-3 div.sk-container {/* jupyter's `normalize.less` sets `[hidden] { display: none; }` but bootstrap.min.css set `[hidden] { display: none !important; }` so we also need the `!important` here to be able to override the default hidden behavior on the sphinx rendered scikit-learn.org. See: https://github.com/scikit-learn/scikit-learn/issues/21755 */display: inline-block !important;position: relative;}#sk-container-id-3 div.sk-text-repr-fallback {display: none;}</style><div id=\"sk-container-id-3\" class=\"sk-top-container\"><div class=\"sk-text-repr-fallback\"><pre>Pipeline(steps=[(&#x27;vect&#x27;, CountVectorizer()), (&#x27;tfidf&#x27;, TfidfTransformer()),\n",
       "                (&#x27;clf&#x27;, LogisticRegression(C=100000.0, n_jobs=1))])</pre><b>In a Jupyter environment, please rerun this cell to show the HTML representation or trust the notebook. <br />On GitHub, the HTML representation is unable to render, please try loading this page with nbviewer.org.</b></div><div class=\"sk-container\" hidden><div class=\"sk-item sk-dashed-wrapped\"><div class=\"sk-label-container\"><div class=\"sk-label sk-toggleable\"><input class=\"sk-toggleable__control sk-hidden--visually\" id=\"sk-estimator-id-9\" type=\"checkbox\" ><label for=\"sk-estimator-id-9\" class=\"sk-toggleable__label sk-toggleable__label-arrow\">Pipeline</label><div class=\"sk-toggleable__content\"><pre>Pipeline(steps=[(&#x27;vect&#x27;, CountVectorizer()), (&#x27;tfidf&#x27;, TfidfTransformer()),\n",
       "                (&#x27;clf&#x27;, LogisticRegression(C=100000.0, n_jobs=1))])</pre></div></div></div><div class=\"sk-serial\"><div class=\"sk-item\"><div class=\"sk-estimator sk-toggleable\"><input class=\"sk-toggleable__control sk-hidden--visually\" id=\"sk-estimator-id-10\" type=\"checkbox\" ><label for=\"sk-estimator-id-10\" class=\"sk-toggleable__label sk-toggleable__label-arrow\">CountVectorizer</label><div class=\"sk-toggleable__content\"><pre>CountVectorizer()</pre></div></div></div><div class=\"sk-item\"><div class=\"sk-estimator sk-toggleable\"><input class=\"sk-toggleable__control sk-hidden--visually\" id=\"sk-estimator-id-11\" type=\"checkbox\" ><label for=\"sk-estimator-id-11\" class=\"sk-toggleable__label sk-toggleable__label-arrow\">TfidfTransformer</label><div class=\"sk-toggleable__content\"><pre>TfidfTransformer()</pre></div></div></div><div class=\"sk-item\"><div class=\"sk-estimator sk-toggleable\"><input class=\"sk-toggleable__control sk-hidden--visually\" id=\"sk-estimator-id-12\" type=\"checkbox\" ><label for=\"sk-estimator-id-12\" class=\"sk-toggleable__label sk-toggleable__label-arrow\">LogisticRegression</label><div class=\"sk-toggleable__content\"><pre>LogisticRegression(C=100000.0, n_jobs=1)</pre></div></div></div></div></div></div></div>"
      ],
      "text/plain": [
       "Pipeline(steps=[('vect', CountVectorizer()), ('tfidf', TfidfTransformer()),\n",
       "                ('clf', LogisticRegression(C=100000.0, n_jobs=1))])"
      ]
     },
     "execution_count": 97,
     "metadata": {},
     "output_type": "execute_result"
    }
   ],
   "source": [
    "%%time\n",
    "logreg.fit(X_train, y_train)"
   ]
  },
  {
   "cell_type": "code",
   "execution_count": 98,
   "id": "38ecc719",
   "metadata": {},
   "outputs": [
    {
     "name": "stdout",
     "output_type": "stream",
     "text": [
      "CPU times: total: 0 ns\n",
      "Wall time: 1 ms\n"
     ]
    }
   ],
   "source": [
    "%%time\n",
    "y_pred = logreg.predict(X_test)"
   ]
  },
  {
   "cell_type": "code",
   "execution_count": 99,
   "id": "8ad0c5cc",
   "metadata": {},
   "outputs": [
    {
     "name": "stdout",
     "output_type": "stream",
     "text": [
      "accuracy 0.6666666666666666\n",
      "              precision    recall  f1-score   support\n",
      "\n",
      "           0       0.00      0.00      0.00         2\n",
      "           1       0.75      0.86      0.80        21\n",
      "           3       0.00      0.00      0.00         1\n",
      "           4       0.00      0.00      0.00         1\n",
      "           7       0.00      0.00      0.00         1\n",
      "           8       0.00      0.00      0.00         1\n",
      "\n",
      "    accuracy                           0.67        27\n",
      "   macro avg       0.12      0.14      0.13        27\n",
      "weighted avg       0.58      0.67      0.62        27\n",
      "\n"
     ]
    },
    {
     "name": "stderr",
     "output_type": "stream",
     "text": [
      "C:\\Users\\essww\\anaconda3\\lib\\site-packages\\sklearn\\metrics\\_classification.py:1344: UndefinedMetricWarning: Precision and F-score are ill-defined and being set to 0.0 in labels with no predicted samples. Use `zero_division` parameter to control this behavior.\n",
      "  _warn_prf(average, modifier, msg_start, len(result))\n",
      "C:\\Users\\essww\\anaconda3\\lib\\site-packages\\sklearn\\metrics\\_classification.py:1344: UndefinedMetricWarning: Precision and F-score are ill-defined and being set to 0.0 in labels with no predicted samples. Use `zero_division` parameter to control this behavior.\n",
      "  _warn_prf(average, modifier, msg_start, len(result))\n",
      "C:\\Users\\essww\\anaconda3\\lib\\site-packages\\sklearn\\metrics\\_classification.py:1344: UndefinedMetricWarning: Precision and F-score are ill-defined and being set to 0.0 in labels with no predicted samples. Use `zero_division` parameter to control this behavior.\n",
      "  _warn_prf(average, modifier, msg_start, len(result))\n"
     ]
    }
   ],
   "source": [
    "print('accuracy %s' % accuracy_score(y_pred, y_test))\n",
    "print(classification_report(y_test, y_pred))"
   ]
  },
  {
   "cell_type": "code",
   "execution_count": 100,
   "id": "57f70501",
   "metadata": {},
   "outputs": [],
   "source": [
    "econ_text = 'время неумолимо бежать вперед выходить новый гаджет постепенно заменять старый превращать тыква хороший случай тапочек звонок смартфон становиться практически одинаковый дисплей весь площадь передний панель полный отсутствие аппаратный кнопка беспроводной зарядка это здорово хотеться взять рука старый необычный наш время qwerty смартфон попытаться использовать основной цена мочь приятно удивлять бу девайс купить несколько сотня рубль проблема клиент приложение версия android безбожно устаревать давно работать желание воскрешать старый девайс превыше потребительский качество приходить мысль почему написать ноль свой клиент популярный приложение вк музыка youtube трекинг посылка садиться писать необходимый повседневный жизнь приложение ноль голый api android либо фреймворков appcompat получаться это узнавать статья мотивация самый дело копаться старый девайса пытаться находить применение это очень интересный затягивать дело зачастую попытка оживлять девайс заключаться прочтение большой количество мануал документация копание терминал компиляция загрузчик ядро подобный занятие интересный весь уровень хардварный системный прикладной пользовательский предыдущий статья моддиль девайса весь уровень ремонтировать железный болячка написать несколько статья системный моддинг компиляция загрузчик неизвестный китайский устройство узнавать пользовательский опыт установка готовый кастомный прошивка летний устройство сегодняшний день обходить прикладной уровень моддинг устройство т е написание самый обычный повседневный программа который сложно представлять жизнь современный человек время выход первый galaxy s год многие сутки красноглазить java версия аська сидеть вконтакте большинство заглядывать смартфон каждый пара минута проверка нотификация год смартфонный жизнь становиться похожий который привыкать соц сеть мессенджер пушить потоковый видео многие успевать привязываться жизнь конкретно самый девайса год давно миновать тенденция разработка приложение кардинальный поменяться учитывать многий читатель любить выбрасывать девайса мусорка правильно делать наверняка регулярно заглядывать полочка свой пыльный бывший гаджет рассматривать теплота сожаление понимать время проходить проходить посмотреть навык огромный мотивация программер мочь многое число запиливать весь самый необходимый приложение давно лелеять идея подумывать реализовать весь свой жизнь писать c практически щупать api android ui фрейморк день очень сильно зачесываться рука написать эдакий причем сразу весьма серьезный весь устройство год самый молодой являться реплика lumia который успевать замоддить рождаться идея написать клиент youtube вк трекинг придача б выделять неделя время должный успевать заканчивать пусть сыроватый вполне юзабельный клиент любить сервис начинать думать планирование написание приложение старый мобильный ос любой платформа требовать планирование работать учет ограничение целевой платформа сразу несколько ограничение раззадоривать пыл большинство свой старый версия android работать одноядерный чипсет значит лимитировать многопоточность никакой работа ui поток кроме обновление интерфейс поскольку первый версия система интерфейс менее отзывчивый свежий нужно сохранять баланс функционал симпатичность скорость работа приложение должный оптимально работать следующий условие мб озу который свободно средний мб сбер привет вылет гб озу ядро мгц видео ядро уровень mali malii негусто сходить второй ограничение становиться тотальный устаревание корневой сертификат многие знать просто мобильный система обновлять поэтому приходиться идти хаки делать сервер реле который преобразовывать трафик https http просто отключать проверка верификация ssl это кейс api vk решать отдельный сервер реле который отправлять запрос сервер вк обратно возвращать обычный результат json третий ограничение становиться android targetsdk android cupcake никакой appcompat кушать драгоценный свободный место никакой сервис google год чистый api система условие год назад писаться первый приложение android раздобывать лепешка расшибаться портировать свой приложение гордость сказать приложение работать android устройство полный энтузиазм садиться писать код основной часть статья решать поделить каждый приложение отдельно конкретный объяснение делать хотеться заранее сказать особо давно писать android зато писать winforms поэтому решение мочь показываться странный некоторый решение обусловливать версия android например нотификация первый версия android notification builder notification похожий структура приложение писать java вконтакте первый дело начинать писать клиент вк сразу определяться свой хотелок который весьма скромный возможность листать диалог читать сообщение отправлять полный поддержка qwerty клавиатура т е отправка enter плюс возможность слушать музыка ограничение вк бочка кой случай гнать просто публичный api ограничение хотя здорово снова хотеться почувствовать эмоция который ощущать прослушивание музыка школяр свой первый android смартфон год прилетать школа слушать плейлист практически девайса идентичный железо версия android помнить пользоваться прелесть многозадачность android g интернет g чипсет просто поддерживать песня слушать поставлять второй качаться пока песня доигрывать второй скачаться итак хотелка выбирать пора начинать писать приложение дебаг устройство galaxy s android jb китайский galaxy s mini i android фото высоко samsung galaxy s i android эмулятор kitkat android studio уметь проблема собирать приложение вплоть версия android последний build tools target sdk главное выкидывать appcompat androidx юнит тест build gradle либо проблема цеплять устройство adb отладчик проблема работать первый дело начинать писать активитя полноэкранный форма терминология android экран приложение диалог должный секунда подгружать данные строить морда весь суть весь код клиент получение ответ api вк разбор json датасет визуализация датасет экран это вводить объект vk который делать асинхронный запрос сервер оборачивать работа сервер реле парсить json vkobjectprocessor это скоро отрефакториться vkdataset поздно архитектура приложение получаться довольно простой примитивный старт активитя авторизация проверять данный приложение persiststorage наличие api токен отсутствие запрашивать авторизация это становиться классический среди различный самопальный клиент клиент прикидываться официальный приложение вк это использоваться связка app id app secret приложение вконтакте android авторизация приложение перенаправлять страница диалог поскольку пуша лонгполлинг метод обновление оставаться заданный интервал это handler который сечь брать список диалог сервер проверять обновляться данные обновлять датасет отправлять сигнал обновление интерфейс который построить listview кроме кеш аватарка точно распаралелленый несколько поток загружать данный момент превьюшка храниться хэшмап это сообщение реализовать схожий образ данный момент возможность горячий подгрузка сообщение сверху поэтому обновляться последний сообщение скоп сразу шустро весь это работать вполне неплохо основной процессорный время уходить разбор тяжелый json отчасти вино вк мало кастрировать функционал gethistory последний версия api возможность возвращать поле который нужный поступать аудиозапись музыка api настоящий заноза разработчик клиент который приходиться подолбаться правда недолго основной запрос сервер реле почему сделать музыка суть обход простой сгенерировать специальный api токен свободно обращаться метод связывать музыка необходимость притворяться официальный клиент подписывать запрос md ключ примитивный php скрипт предоставлять возможность позволять получать доступ база музыка вк однако ограничение типичный пользователь должный открытый аудиозапись php audiorelay for minivk c monobogdan token censored function vkrequest request global token curl curl init https api vk com method request access token token v curl setopt curl curlopt returntransfer true return curl exec curl function audioget uid get uid return vkrequest audio get owner id uid count function audiosearch query get query return vkrequest audio search q query count function audiogetdetails id get id return vkrequest audio getbyid audios id function audiostream url get url curl curl init urldecode url curl setopt curl curlopt returntransfer true return curl exec curl actions array actions get audioget actions search audiosearch actions getdetails audiogetdetails actions stream audiostream if isset get act act get act if isset actions act exit actions act exit internal error итог получаться рабочий плеер поиск музыка добавлять трек производительность оставаться отличный ссориться ребята вк хотеть поэтому добавлять возможность качать трек пока становиться стоить дружелюбный разработчик кастомный клиент получать итог довольно простенький клиент вк который практически потреблять озу шустро работать хватать куча различный фич минимум прсомотр лента стена успеться проект интересный продолжать наращивать фишечка потихоньку близко релиз слегка причесывать клиент добавлять вкшный дизайн приделывать анимированный боковой меню animation помнить youtube разработка клиент youtube свой особенность первый отличие клиент вк видео реле просто загружать слишком трафик второй youtube отдавать видео формат который поддерживать старый устройство основной это h p сожаление потоковый видео софтовый декодирование укладывать лопатка большинство одноядерник год ситуация осложняться videoview стандартный плеер весь смартфон который отлаживать приложение уметь игнорировать ошибка ssl просто валиться ошибка приходиться придумывать видосик хотеться смотреть крутой amoled дисплей galaxy s посидеть подумать придумывать поиск база youtube получение информация прямой ссылка видео решать использовать альтернативный фронтэнд youtube который называться invidous api крутой штука свой api который распределять пул токен ютуб отдавать ответ вид json формат запрос очень простой url инстанс invidous api v метод например search q test region ru hl ru выдавать результат поиск test российский регион очень удобно invidous отдельный сервис целый сеть т н инстанс хотеть юзай поскольку большинство инстанс прятаться свежий сертификат приходиться идти довольно известный костыль отключение верификация хостнейм httpurlconnection public static void disablesslcertificatechecking trustmanager trustallcerts new trustmanager new x trustmanager public x certificate getacceptedissuers return null override public void checkclienttrusted x certificate arg string arg throws certificateexception not implemented override public void checkservertrusted x certificate arg string arg throws certificateexception not implemented try sslcontext sc sslcontext getinstance tls sc init null trustallcerts new java security securerandom httpsurlconnection setdefaultsslsocketfactory sc getsocketfactory httpsurlconnection setdefaulthostnameverifier new hostnameverifier override public boolean verify string hostname sslsession session return true catch keymanagementexception e e printstacktrace catch nosuchalgorithmexception e e printstacktrace поскольку возможность воспроизводить потоковый видео онлайн решать просто предварительно загружать собственный менеджер закачка возможность последующий очистка кеш поскольку устройство p качество нужный выбирать p p mp avc кодек среднее ролик минута весить около мегабайт hsdpa загрузка подобный видео занимать около минута подождать закинуть тестовый версия беседа любитель ретро мобилка человек восторг поскольку invidous отчасти строиться анонимность авторизация однако свой задача посмотреть видосик выполнять нормально поэтому весь ui приложение поделить вкладка тренд популярный история поиск подписка история реализовывать сторона клиент некоторые подход показываться плюс однако минимальный задел клиент мочь смотреть видео скачать приложение бэкэнд полностью открытый исходный код доступный лицензия gplv следить статус проект github последний версия скачать релиз проект текущий хотеться портировать android несмотря приложение целое иметь targetsdk оно работать отказываться android слегка поменяться бинарный формат xml разметка приложение старый система вылетать исключение это решать eclipse adt зуб импортировать проект вперед кроме экспериментировать попытка сильно уменьшать нагрузка сеть процессор путем облегчение датасет json вк весить среднее кб который ядерный чипсет частота мгц мочь долго жевать негативно сказываться ui примитивный keyvalue формат который содержать нужный поле умещаться кб текстовый вид благодаря свой примитивность весь парсинг substring indexof поиск ключ хешмап налегать процессор благодаря наработка запиливать примитивный клиент вкшечка j me целое сделать единый формат датасет мессенджер бэкэнд реализовывать угодно telegram вк личный сообщение хабер платформа делать морда заводить современный мессенджер sailfish j me symbian winmobile практически пот кровь полный адаптация кнопочный управление клиент проблема писать сообщение любой клавиатура число qwerty однако основной интерфейс полностью адаптировать кнопка требовать выполнение некоторый действие палец заключение получаться вполне неплохо приложение кой сыроватый явно дотягивать функционал большой версия кое таки выигрывать легкий быстрый самый главное мочь продлять жизнь любимый девайса считать это классно средний потребление озу оба клиент мб вес apk кб момент выход статья значить писать голый api модный фреймворков остальной функционал кой android продолжать неплохо работать наш время например dlna стриминг дом e mail клиент банкинг смска уверенный это покрывать потребность большинство пользователь это называть старый смартфон бесполезный писать статья цель показывать старый девайса отнюдь тыква щепотка энтузиазм глаз любовь гаджет заодно поделиться свой приложение часто комментарий писать хотеть пользоваться свой смартфон далеко устаревать версия android считать ждать ваш мнение комментарий зарегистрировать пользователь мочь участвовать опрос входить пожалуйста старенький девайс появляться второй жизнь определенно запланировать устаревание продолжать жить неюзабельный вокруг прыгать проголосовать пользователь воздерживаться пользователь зарегистрировать пользователь мочь участвовать опрос входить пожалуйста полезно развивать приложение старый система развивать это нужный пустой трата время делать модный приложенька флаттер проголосовать пользователь воздерживаться пользователь  \\n'"
   ]
  },
  {
   "cell_type": "code",
   "execution_count": 101,
   "id": "8ba6fc72",
   "metadata": {},
   "outputs": [
    {
     "data": {
      "text/plain": [
       "array([1], dtype=int64)"
      ]
     },
     "execution_count": 101,
     "metadata": {},
     "output_type": "execute_result"
    }
   ],
   "source": [
    "ect_pred = nb.predict([econ_text])\n",
    "ect_pred"
   ]
  },
  {
   "cell_type": "code",
   "execution_count": null,
   "id": "6e487010",
   "metadata": {},
   "outputs": [],
   "source": []
  },
  {
   "cell_type": "code",
   "execution_count": null,
   "id": "2a6aecc1",
   "metadata": {},
   "outputs": [],
   "source": []
  },
  {
   "cell_type": "code",
   "execution_count": null,
   "id": "9a27981b",
   "metadata": {},
   "outputs": [],
   "source": []
  },
  {
   "cell_type": "code",
   "execution_count": null,
   "id": "0899c63a",
   "metadata": {},
   "outputs": [],
   "source": []
  },
  {
   "cell_type": "code",
   "execution_count": null,
   "id": "98d18bb9",
   "metadata": {},
   "outputs": [],
   "source": []
  },
  {
   "cell_type": "code",
   "execution_count": null,
   "id": "3d685308",
   "metadata": {},
   "outputs": [],
   "source": []
  },
  {
   "cell_type": "code",
   "execution_count": null,
   "id": "5fcda658",
   "metadata": {},
   "outputs": [],
   "source": []
  },
  {
   "cell_type": "code",
   "execution_count": null,
   "id": "8b73d76e",
   "metadata": {},
   "outputs": [],
   "source": []
  },
  {
   "cell_type": "code",
   "execution_count": null,
   "id": "e7a9b44a",
   "metadata": {},
   "outputs": [],
   "source": []
  },
  {
   "cell_type": "code",
   "execution_count": null,
   "id": "5594ae6b",
   "metadata": {},
   "outputs": [],
   "source": []
  },
  {
   "cell_type": "code",
   "execution_count": null,
   "id": "bce7d222",
   "metadata": {},
   "outputs": [],
   "source": []
  },
  {
   "cell_type": "code",
   "execution_count": null,
   "id": "40131a5f",
   "metadata": {},
   "outputs": [],
   "source": []
  },
  {
   "cell_type": "code",
   "execution_count": null,
   "id": "35c2e911",
   "metadata": {},
   "outputs": [],
   "source": []
  },
  {
   "cell_type": "code",
   "execution_count": null,
   "id": "9e36c6f4",
   "metadata": {},
   "outputs": [],
   "source": []
  },
  {
   "cell_type": "code",
   "execution_count": null,
   "id": "1e114795",
   "metadata": {},
   "outputs": [],
   "source": []
  },
  {
   "cell_type": "code",
   "execution_count": null,
   "id": "e79c7e07",
   "metadata": {},
   "outputs": [],
   "source": []
  },
  {
   "cell_type": "code",
   "execution_count": null,
   "id": "8ba3e7a4",
   "metadata": {},
   "outputs": [],
   "source": []
  },
  {
   "cell_type": "code",
   "execution_count": null,
   "id": "2e7951f8",
   "metadata": {},
   "outputs": [],
   "source": []
  },
  {
   "cell_type": "code",
   "execution_count": null,
   "id": "e6899c6e",
   "metadata": {},
   "outputs": [],
   "source": []
  },
  {
   "cell_type": "code",
   "execution_count": null,
   "id": "398dd31c",
   "metadata": {},
   "outputs": [],
   "source": []
  }
 ],
 "metadata": {
  "kernelspec": {
   "display_name": "Python 3 (ipykernel)",
   "language": "python",
   "name": "python3"
  },
  "language_info": {
   "codemirror_mode": {
    "name": "ipython",
    "version": 3
   },
   "file_extension": ".py",
   "mimetype": "text/x-python",
   "name": "python",
   "nbconvert_exporter": "python",
   "pygments_lexer": "ipython3",
   "version": "3.10.9"
  }
 },
 "nbformat": 4,
 "nbformat_minor": 5
}
