{
 "cells": [
  {
   "cell_type": "markdown",
   "id": "a07e4a4e",
   "metadata": {},
   "source": [
    "## Модуль А. Парсинг и предобработка данных"
   ]
  },
  {
   "cell_type": "markdown",
   "id": "363a3623",
   "metadata": {},
   "source": [
    "#### Импортирование библиотек"
   ]
  },
  {
   "cell_type": "code",
   "execution_count": 1,
   "id": "f4eb1f1e",
   "metadata": {},
   "outputs": [],
   "source": [
    "import pandas as pd\n",
    "import numpy as np\n",
    "import json\n",
    "import requests\n",
    "import codecs\n",
    "import glob\n",
    "from bs4 import BeautifulSoup as bs\n",
    "from docx import Document\n",
    "from tqdm.auto import tqdm, trange\n",
    "import nltk\n",
    "import matplotlib.pyplot as plt\n",
    "import pymorphy2\n",
    "import string\n",
    "\n",
    "import re\n",
    "from nltk.stem import *\n",
    "from nltk.corpus import stopwords\n",
    "from pymystem3 import Mystem\n",
    "from string import punctuation\n",
    "from nltk.tokenize import word_tokenize\n",
    "from sklearn.feature_extraction.text import CountVectorizer\n",
    "import seaborn as sns\n",
    "from scipy.stats import anderson\n",
    "from scipy.stats import normaltest\n",
    "import pylab \n",
    "import scipy.stats as stats"
   ]
  },
  {
   "cell_type": "markdown",
   "id": "3e69033c",
   "metadata": {},
   "source": [
    "### 1.1 Парсинг данных"
   ]
  },
  {
   "cell_type": "markdown",
   "id": "f3358388",
   "metadata": {},
   "source": [
    "#### Парсинг данных с json"
   ]
  },
  {
   "cell_type": "code",
   "execution_count": 2,
   "id": "b55a67f9",
   "metadata": {},
   "outputs": [],
   "source": [
    "path = r\"C:\\Users\\МОиБД\\Desktop\\Data\\*.json\"\n",
    "result_list = {'name': [],'desc': [],'rat':[], 'date': [], 'textart': []}\n",
    "company_json = []\n",
    "# Использование glob для получения списка файлов, соответствующих шаблону\n",
    "json_files = glob.glob(path)\n",
    "# Цикл по файлам JSON для извлечения данных\n",
    "for jsonfile in json_files:\n",
    "    # Чтение файла JSON и преобразование данных в словарь Python\n",
    "    with codecs.open(jsonfile, 'r', encoding = 'utf-8') as f:\n",
    "        data = json.load(f)\n",
    "        for item in data['refs']:\n",
    "            if item != None:\n",
    "                try:\n",
    "                    if data['info']!= None:\n",
    "                        result_list['desc'].append(data['info']['about'])\n",
    "                        result_list['rat'].append(data['info']['rate'])\n",
    "                    else:\n",
    "                        result_list['desc'].append(data['info'])\n",
    "                        result_list['rat'].append(data['info'])\n",
    "                    result_list['name'].append(jsonfile.replace('C:\\\\Users\\\\МОиБД\\\\Desktop\\\\Data\\\\', '')[:-5])    \n",
    "                    result_list['date'].append(item[1]['day'] + \" \" + item[1]['month'])\n",
    "                    result_list['textart'].append(item[0])\n",
    "                except:\n",
    "                    break\n",
    "        "
   ]
  },
  {
   "cell_type": "code",
   "execution_count": 3,
   "id": "1cd38535",
   "metadata": {},
   "outputs": [],
   "source": [
    "# создание датафрейма для записи в него из json\n",
    "dfJson = pd.DataFrame({\n",
    "'TitleCompany': [],\n",
    "'Description': [],\n",
    "'Reiting': [],\n",
    "'DatePublish': [],\n",
    "'TextPost': []\n",
    "})"
   ]
  },
  {
   "cell_type": "code",
   "execution_count": 4,
   "id": "9e9b1299",
   "metadata": {},
   "outputs": [],
   "source": [
    "# запись данных в датафрейм ид Json\n",
    "dfJson['TitleCompany'] = result_list['name']\n",
    "dfJson['Description'] = result_list['desc']\n",
    "dfJson['Reiting'] = result_list['rat']\n",
    "dfJson['DatePublish'] = result_list['date']\n",
    "dfJson['TextPost'] = result_list['textart']"
   ]
  },
  {
   "cell_type": "code",
   "execution_count": 5,
   "id": "bae9d049",
   "metadata": {
    "scrolled": true
   },
   "outputs": [
    {
     "data": {
      "text/html": [
       "<div>\n",
       "<style scoped>\n",
       "    .dataframe tbody tr th:only-of-type {\n",
       "        vertical-align: middle;\n",
       "    }\n",
       "\n",
       "    .dataframe tbody tr th {\n",
       "        vertical-align: top;\n",
       "    }\n",
       "\n",
       "    .dataframe thead th {\n",
       "        text-align: right;\n",
       "    }\n",
       "</style>\n",
       "<table border=\"1\" class=\"dataframe\">\n",
       "  <thead>\n",
       "    <tr style=\"text-align: right;\">\n",
       "      <th></th>\n",
       "      <th>TitleCompany</th>\n",
       "      <th>Description</th>\n",
       "      <th>Reiting</th>\n",
       "      <th>DatePublish</th>\n",
       "      <th>TextPost</th>\n",
       "    </tr>\n",
       "  </thead>\n",
       "  <tbody>\n",
       "    <tr>\n",
       "      <th>0</th>\n",
       "      <td>Cybersport.Metaratings</td>\n",
       "      <td>None</td>\n",
       "      <td>NaN</td>\n",
       "      <td>8 декабря</td>\n",
       "      <td>7 декабря состоялась церемония награждения лау...</td>\n",
       "    </tr>\n",
       "    <tr>\n",
       "      <th>1</th>\n",
       "      <td>ESforce Holding</td>\n",
       "      <td>None</td>\n",
       "      <td>NaN</td>\n",
       "      <td>8 декабря</td>\n",
       "      <td>7 декабря состоялась церемония награждения лау...</td>\n",
       "    </tr>\n",
       "    <tr>\n",
       "      <th>2</th>\n",
       "      <td>ESforce Holding</td>\n",
       "      <td>None</td>\n",
       "      <td>NaN</td>\n",
       "      <td>29 июля</td>\n",
       "      <td>Из совместного исследования издателя компьютер...</td>\n",
       "    </tr>\n",
       "    <tr>\n",
       "      <th>3</th>\n",
       "      <td>ESforce Holding</td>\n",
       "      <td>None</td>\n",
       "      <td>NaN</td>\n",
       "      <td>9 июля</td>\n",
       "      <td>По статистике The Esports Observer за I полови...</td>\n",
       "    </tr>\n",
       "    <tr>\n",
       "      <th>4</th>\n",
       "      <td>ESforce Holding</td>\n",
       "      <td>None</td>\n",
       "      <td>NaN</td>\n",
       "      <td>11 апреля</td>\n",
       "      <td>Компании SuperData Research и PayPal провели с...</td>\n",
       "    </tr>\n",
       "    <tr>\n",
       "      <th>5</th>\n",
       "      <td>Gett</td>\n",
       "      <td>None</td>\n",
       "      <td>NaN</td>\n",
       "      <td>29 марта</td>\n",
       "      <td>Минтранс предлагает новую версию законопроекта...</td>\n",
       "    </tr>\n",
       "    <tr>\n",
       "      <th>6</th>\n",
       "      <td>Gett</td>\n",
       "      <td>None</td>\n",
       "      <td>NaN</td>\n",
       "      <td>11 марта</td>\n",
       "      <td>По информации «РИА Новости», агрегатор такси «...</td>\n",
       "    </tr>\n",
       "    <tr>\n",
       "      <th>7</th>\n",
       "      <td>Gett</td>\n",
       "      <td>None</td>\n",
       "      <td>NaN</td>\n",
       "      <td>22 февраля</td>\n",
       "      <td>Как сообщает издание Wired, с 1 марта 2022 год...</td>\n",
       "    </tr>\n",
       "    <tr>\n",
       "      <th>8</th>\n",
       "      <td>Gett</td>\n",
       "      <td>None</td>\n",
       "      <td>NaN</td>\n",
       "      <td>21 февраля</td>\n",
       "      <td>Китайский агрегатор такси DiDi уйдет с российс...</td>\n",
       "    </tr>\n",
       "    <tr>\n",
       "      <th>9</th>\n",
       "      <td>Gett</td>\n",
       "      <td>None</td>\n",
       "      <td>NaN</td>\n",
       "      <td>7 февраля</td>\n",
       "      <td>По информации издания «Известия», антимонополь...</td>\n",
       "    </tr>\n",
       "  </tbody>\n",
       "</table>\n",
       "</div>"
      ],
      "text/plain": [
       "             TitleCompany Description  Reiting DatePublish  \\\n",
       "0  Cybersport.Metaratings        None      NaN   8 декабря   \n",
       "1         ESforce Holding        None      NaN   8 декабря   \n",
       "2         ESforce Holding        None      NaN     29 июля   \n",
       "3         ESforce Holding        None      NaN      9 июля   \n",
       "4         ESforce Holding        None      NaN   11 апреля   \n",
       "5                    Gett        None      NaN    29 марта   \n",
       "6                    Gett        None      NaN    11 марта   \n",
       "7                    Gett        None      NaN  22 февраля   \n",
       "8                    Gett        None      NaN  21 февраля   \n",
       "9                    Gett        None      NaN   7 февраля   \n",
       "\n",
       "                                            TextPost  \n",
       "0  7 декабря состоялась церемония награждения лау...  \n",
       "1  7 декабря состоялась церемония награждения лау...  \n",
       "2  Из совместного исследования издателя компьютер...  \n",
       "3  По статистике The Esports Observer за I полови...  \n",
       "4  Компании SuperData Research и PayPal провели с...  \n",
       "5  Минтранс предлагает новую версию законопроекта...  \n",
       "6  По информации «РИА Новости», агрегатор такси «...  \n",
       "7  Как сообщает издание Wired, с 1 марта 2022 год...  \n",
       "8  Китайский агрегатор такси DiDi уйдет с российс...  \n",
       "9  По информации издания «Известия», антимонополь...  "
      ]
     },
     "execution_count": 5,
     "metadata": {},
     "output_type": "execute_result"
    }
   ],
   "source": [
    "dfJson.head(10)"
   ]
  },
  {
   "cell_type": "code",
   "execution_count": 6,
   "id": "046fdf29",
   "metadata": {},
   "outputs": [
    {
     "data": {
      "text/plain": [
       "(1112, 5)"
      ]
     },
     "execution_count": 6,
     "metadata": {},
     "output_type": "execute_result"
    }
   ],
   "source": [
    "dfJson.shape"
   ]
  },
  {
   "cell_type": "code",
   "execution_count": 7,
   "id": "9736d232",
   "metadata": {},
   "outputs": [
    {
     "name": "stdout",
     "output_type": "stream",
     "text": [
      "<class 'pandas.core.frame.DataFrame'>\n",
      "RangeIndex: 1112 entries, 0 to 1111\n",
      "Data columns (total 5 columns):\n",
      " #   Column        Non-Null Count  Dtype  \n",
      "---  ------        --------------  -----  \n",
      " 0   TitleCompany  1112 non-null   object \n",
      " 1   Description   293 non-null    object \n",
      " 2   Reiting       293 non-null    float64\n",
      " 3   DatePublish   1112 non-null   object \n",
      " 4   TextPost      1112 non-null   object \n",
      "dtypes: float64(1), object(4)\n",
      "memory usage: 43.6+ KB\n"
     ]
    }
   ],
   "source": [
    "dfJson.info()"
   ]
  },
  {
   "cell_type": "code",
   "execution_count": 8,
   "id": "9f7ce12a",
   "metadata": {},
   "outputs": [
    {
     "data": {
      "text/plain": [
       "array(['Cybersport.Metaratings', 'ESforce Holding', 'Gett',\n",
       "       'Goose Gaming', 'skillbox', 'Vinci Agency', 'Гэллэри Сервис',\n",
       "       'Здоровье.ру', 'Иннотех',\n",
       "       'Проект по использованию технологий компьютерного зрения на базе искусственного интеллекта для анализа медицинских изображений',\n",
       "       'Промобот', 'Студия Артемия Лебедева',\n",
       "       'Федерация креативных индустрий'], dtype=object)"
      ]
     },
     "execution_count": 8,
     "metadata": {},
     "output_type": "execute_result"
    }
   ],
   "source": [
    "dfJson['TitleCompany'].unique()"
   ]
  },
  {
   "cell_type": "markdown",
   "id": "fad448b0",
   "metadata": {},
   "source": [
    "#### Парсинг данных с docx "
   ]
  },
  {
   "cell_type": "code",
   "execution_count": 9,
   "id": "9b3e344d",
   "metadata": {},
   "outputs": [],
   "source": [
    "# Получение doc документа в переменную\n",
    "path = r\"C:\\Users\\МОиБД\\Desktop\\Data\\Condidates.docx\" \n",
    "doc = Document(path)"
   ]
  },
  {
   "cell_type": "code",
   "execution_count": 10,
   "id": "a0c5ba2e",
   "metadata": {},
   "outputs": [],
   "source": [
    "# сохранение данных\n",
    "docx = doc.paragraphs"
   ]
  },
  {
   "cell_type": "code",
   "execution_count": 11,
   "id": "fac94aa3",
   "metadata": {},
   "outputs": [],
   "source": [
    "# считывание компаний и запись их в список\n",
    "company_docx = []\n",
    "for docs in docx:\n",
    "    if len(docs.text) != 0:\n",
    "        if docs.text[-1] != \" \":\n",
    "            company_docx.append(docs.text)\n",
    "        else:\n",
    "            company_docx.append(docs.text.replace(' ', ''))"
   ]
  },
  {
   "cell_type": "code",
   "execution_count": 12,
   "id": "ccae3de5",
   "metadata": {},
   "outputs": [
    {
     "name": "stdout",
     "output_type": "stream",
     "text": [
      "0 Здоровье.ру\n",
      "1 Проект по использованию технологий компьютерного зрения на базе искусственного интеллекта (ИИ) для анализа медицинских изображений\n",
      "2 Skillbox\n",
      "3 Gett\n",
      "4 Промобот\n",
      "5 Иннотех\n",
      "6 Cybersport.Metaratings\n",
      "7 MMA.Metaratings\n",
      "8 Goose Gaming\n",
      "9 ESforce Holding\n",
      "10 Vinci Agency\n",
      "11 Гэллэри Сервис\n",
      "12 Студия Артемия Лебедева\n",
      "13 Федерация креативных индустрий\n",
      "14 Метарейтинг\n",
      "15 СберМаркет\n",
      "16 Balance Platform\n",
      "17 Московская биржа\n",
      "18 Samsung Electronics\n",
      "19 Нетология\n",
      "20 Дневник МЭШ\n",
      "21 Цифровое образование\n"
     ]
    }
   ],
   "source": [
    "for i in range(len(company_docx)):\n",
    "    print(i, company_docx[i])"
   ]
  },
  {
   "cell_type": "markdown",
   "id": "f0d98d4f",
   "metadata": {},
   "source": [
    "#### Ненужный, в данном случае, код\n",
    "//"
   ]
  },
  {
   "cell_type": "code",
   "execution_count": 14,
   "id": "f9194fbf",
   "metadata": {},
   "outputs": [],
   "source": [
    "#df = pd.DataFrame({\"TitleCompany\": []})"
   ]
  },
  {
   "cell_type": "code",
   "execution_count": 15,
   "id": "4a79fa0c",
   "metadata": {},
   "outputs": [],
   "source": [
    "#df['TitleCompany'] = company_docx"
   ]
  },
  {
   "cell_type": "code",
   "execution_count": 16,
   "id": "5df534c5",
   "metadata": {},
   "outputs": [],
   "source": [
    "#dfNeedCompany = {\"TitleCompany\": []}"
   ]
  },
  {
   "cell_type": "code",
   "execution_count": 17,
   "id": "6f07ffe8",
   "metadata": {},
   "outputs": [],
   "source": [
    "# for i in df['TitleCompany']:\n",
    "#     if i.lower() in str(dfJson['TitleCompany'].unique()).lower():\n",
    "#         continue\n",
    "#     else:\n",
    "#         dfNeedCompany['TitleCompany'].append(i)\n",
    "# dfNeedCompany = pd.DataFrame(data = dfNeedCompany)\n",
    "# dfNeedCompany = dfNeedCompany.drop(0, axis=0)\n",
    "# dfNeedCompany = dfNeedCompany.drop(9, axis=0)\n",
    "# dfNeedCompany = dfNeedCompany.reset_index(drop=True)"
   ]
  },
  {
   "cell_type": "markdown",
   "id": "1a2acc31",
   "metadata": {},
   "source": [
    "При парсинге цифрового образования выводятся две компании, которые не подходят к списку компаний, поэтому цифоровое образование удалено из датафрейма, такой компании на хабре все равно не существует. А также удалена компания 'Проект по использованию технологий компьютерного зрения...', т.к. компания одна и даже в ворде и json, но в одном из файлов есть лишний символ, из-за чего удален он вручную."
   ]
  },
  {
   "cell_type": "code",
   "execution_count": 18,
   "id": "ca9176ee",
   "metadata": {},
   "outputs": [],
   "source": [
    "#dfNeedCompany"
   ]
  },
  {
   "cell_type": "markdown",
   "id": "37e412b2",
   "metadata": {},
   "source": [
    "//"
   ]
  },
  {
   "cell_type": "markdown",
   "id": "32008e7d",
   "metadata": {},
   "source": [
    "#### Парсинг данных с Habr компаний, для автоматического добавления"
   ]
  },
  {
   "cell_type": "code",
   "execution_count": 13,
   "id": "f454fc78",
   "metadata": {},
   "outputs": [],
   "source": [
    "dfNeedCompany = {\"TitleCompany\": []}\n",
    "dfNeedCompany['TitleCompany'] = company_docx"
   ]
  },
  {
   "cell_type": "code",
   "execution_count": 14,
   "id": "4041803c",
   "metadata": {},
   "outputs": [
    {
     "data": {
      "text/plain": [
       "{'TitleCompany': ['Здоровье.ру',\n",
       "  'Проект по использованию технологий компьютерного зрения на базе искусственного интеллекта (ИИ) для анализа медицинских изображений',\n",
       "  'Skillbox',\n",
       "  'Gett',\n",
       "  'Промобот',\n",
       "  'Иннотех',\n",
       "  'Cybersport.Metaratings',\n",
       "  'MMA.Metaratings',\n",
       "  'Goose Gaming',\n",
       "  'ESforce Holding',\n",
       "  'Vinci Agency',\n",
       "  'Гэллэри Сервис',\n",
       "  'Студия Артемия Лебедева',\n",
       "  'Федерация креативных индустрий',\n",
       "  'Метарейтинг',\n",
       "  'СберМаркет',\n",
       "  'Balance Platform',\n",
       "  'Московская биржа',\n",
       "  'Samsung Electronics',\n",
       "  'Нетология',\n",
       "  'Дневник МЭШ',\n",
       "  'Цифровое образование']}"
      ]
     },
     "execution_count": 14,
     "metadata": {},
     "output_type": "execute_result"
    }
   ],
   "source": [
    "dfNeedCompany"
   ]
  },
  {
   "cell_type": "code",
   "execution_count": 15,
   "id": "627c89ee",
   "metadata": {},
   "outputs": [],
   "source": [
    "dfHabr = {\"TitleCompany\": [], 'Description': [], 'Reiting' : [], 'Categories' : [], 'DatePublish': [], \"TextPost\": []}"
   ]
  },
  {
   "cell_type": "code",
   "execution_count": 16,
   "id": "465f6efe",
   "metadata": {
    "scrolled": true
   },
   "outputs": [
    {
     "data": {
      "application/vnd.jupyter.widget-view+json": {
       "model_id": "d96aa946e70041a7996e24d6d5547482",
       "version_major": 2,
       "version_minor": 0
      },
      "text/plain": [
       "  0%|          | 0/49 [00:00<?, ?it/s]"
      ]
     },
     "metadata": {},
     "output_type": "display_data"
    },
    {
     "name": "stdout",
     "output_type": "stream",
     "text": [
      "https://habr.com/ru/companies/skillbox/articles/page1/\n"
     ]
    },
    {
     "ename": "KeyboardInterrupt",
     "evalue": "",
     "output_type": "error",
     "traceback": [
      "\u001b[1;31m---------------------------------------------------------------------------\u001b[0m",
      "\u001b[1;31mKeyboardInterrupt\u001b[0m                         Traceback (most recent call last)",
      "Cell \u001b[1;32mIn[16], line 27\u001b[0m\n\u001b[0;32m     25\u001b[0m \u001b[38;5;28;01mif\u001b[39;00m \u001b[38;5;124m'\u001b[39m\u001b[38;5;124marticles\u001b[39m\u001b[38;5;124m'\u001b[39m \u001b[38;5;129;01min\u001b[39;00m \u001b[38;5;28mstr\u001b[39m(i\u001b[38;5;241m.\u001b[39mget(\u001b[38;5;124m'\u001b[39m\u001b[38;5;124mhref\u001b[39m\u001b[38;5;124m'\u001b[39m)):\n\u001b[0;32m     26\u001b[0m     \u001b[38;5;28mprint\u001b[39m(url)\n\u001b[1;32m---> 27\u001b[0m     page \u001b[38;5;241m=\u001b[39m \u001b[43mrequests\u001b[49m\u001b[38;5;241;43m.\u001b[39;49m\u001b[43mget\u001b[49m\u001b[43m(\u001b[49m\u001b[43murl\u001b[49m\u001b[43m)\u001b[49m\n\u001b[0;32m     28\u001b[0m     \u001b[38;5;28;01mif\u001b[39;00m page\u001b[38;5;241m.\u001b[39mstatus_code \u001b[38;5;241m==\u001b[39m \u001b[38;5;241m200\u001b[39m:\n\u001b[0;32m     29\u001b[0m         soup \u001b[38;5;241m=\u001b[39m bs(page\u001b[38;5;241m.\u001b[39mtext, \u001b[38;5;124m'\u001b[39m\u001b[38;5;124mhtml.parser\u001b[39m\u001b[38;5;124m'\u001b[39m)\n",
      "File \u001b[1;32mC:\\ProgramData\\anaconda3\\lib\\site-packages\\requests\\api.py:73\u001b[0m, in \u001b[0;36mget\u001b[1;34m(url, params, **kwargs)\u001b[0m\n\u001b[0;32m     62\u001b[0m \u001b[38;5;28;01mdef\u001b[39;00m \u001b[38;5;21mget\u001b[39m(url, params\u001b[38;5;241m=\u001b[39m\u001b[38;5;28;01mNone\u001b[39;00m, \u001b[38;5;241m*\u001b[39m\u001b[38;5;241m*\u001b[39mkwargs):\n\u001b[0;32m     63\u001b[0m     \u001b[38;5;124mr\u001b[39m\u001b[38;5;124;03m\"\"\"Sends a GET request.\u001b[39;00m\n\u001b[0;32m     64\u001b[0m \n\u001b[0;32m     65\u001b[0m \u001b[38;5;124;03m    :param url: URL for the new :class:`Request` object.\u001b[39;00m\n\u001b[1;32m   (...)\u001b[0m\n\u001b[0;32m     70\u001b[0m \u001b[38;5;124;03m    :rtype: requests.Response\u001b[39;00m\n\u001b[0;32m     71\u001b[0m \u001b[38;5;124;03m    \"\"\"\u001b[39;00m\n\u001b[1;32m---> 73\u001b[0m     \u001b[38;5;28;01mreturn\u001b[39;00m request(\u001b[38;5;124m\"\u001b[39m\u001b[38;5;124mget\u001b[39m\u001b[38;5;124m\"\u001b[39m, url, params\u001b[38;5;241m=\u001b[39mparams, \u001b[38;5;241m*\u001b[39m\u001b[38;5;241m*\u001b[39mkwargs)\n",
      "File \u001b[1;32mC:\\ProgramData\\anaconda3\\lib\\site-packages\\requests\\api.py:59\u001b[0m, in \u001b[0;36mrequest\u001b[1;34m(method, url, **kwargs)\u001b[0m\n\u001b[0;32m     55\u001b[0m \u001b[38;5;66;03m# By using the 'with' statement we are sure the session is closed, thus we\u001b[39;00m\n\u001b[0;32m     56\u001b[0m \u001b[38;5;66;03m# avoid leaving sockets open which can trigger a ResourceWarning in some\u001b[39;00m\n\u001b[0;32m     57\u001b[0m \u001b[38;5;66;03m# cases, and look like a memory leak in others.\u001b[39;00m\n\u001b[0;32m     58\u001b[0m \u001b[38;5;28;01mwith\u001b[39;00m sessions\u001b[38;5;241m.\u001b[39mSession() \u001b[38;5;28;01mas\u001b[39;00m session:\n\u001b[1;32m---> 59\u001b[0m     \u001b[38;5;28;01mreturn\u001b[39;00m session\u001b[38;5;241m.\u001b[39mrequest(method\u001b[38;5;241m=\u001b[39mmethod, url\u001b[38;5;241m=\u001b[39murl, \u001b[38;5;241m*\u001b[39m\u001b[38;5;241m*\u001b[39mkwargs)\n",
      "File \u001b[1;32mC:\\ProgramData\\anaconda3\\lib\\site-packages\\requests\\sessions.py:587\u001b[0m, in \u001b[0;36mSession.request\u001b[1;34m(self, method, url, params, data, headers, cookies, files, auth, timeout, allow_redirects, proxies, hooks, stream, verify, cert, json)\u001b[0m\n\u001b[0;32m    582\u001b[0m send_kwargs \u001b[38;5;241m=\u001b[39m {\n\u001b[0;32m    583\u001b[0m     \u001b[38;5;124m\"\u001b[39m\u001b[38;5;124mtimeout\u001b[39m\u001b[38;5;124m\"\u001b[39m: timeout,\n\u001b[0;32m    584\u001b[0m     \u001b[38;5;124m\"\u001b[39m\u001b[38;5;124mallow_redirects\u001b[39m\u001b[38;5;124m\"\u001b[39m: allow_redirects,\n\u001b[0;32m    585\u001b[0m }\n\u001b[0;32m    586\u001b[0m send_kwargs\u001b[38;5;241m.\u001b[39mupdate(settings)\n\u001b[1;32m--> 587\u001b[0m resp \u001b[38;5;241m=\u001b[39m \u001b[38;5;28mself\u001b[39m\u001b[38;5;241m.\u001b[39msend(prep, \u001b[38;5;241m*\u001b[39m\u001b[38;5;241m*\u001b[39msend_kwargs)\n\u001b[0;32m    589\u001b[0m \u001b[38;5;28;01mreturn\u001b[39;00m resp\n",
      "File \u001b[1;32mC:\\ProgramData\\anaconda3\\lib\\site-packages\\requests\\sessions.py:701\u001b[0m, in \u001b[0;36mSession.send\u001b[1;34m(self, request, **kwargs)\u001b[0m\n\u001b[0;32m    698\u001b[0m start \u001b[38;5;241m=\u001b[39m preferred_clock()\n\u001b[0;32m    700\u001b[0m \u001b[38;5;66;03m# Send the request\u001b[39;00m\n\u001b[1;32m--> 701\u001b[0m r \u001b[38;5;241m=\u001b[39m adapter\u001b[38;5;241m.\u001b[39msend(request, \u001b[38;5;241m*\u001b[39m\u001b[38;5;241m*\u001b[39mkwargs)\n\u001b[0;32m    703\u001b[0m \u001b[38;5;66;03m# Total elapsed time of the request (approximately)\u001b[39;00m\n\u001b[0;32m    704\u001b[0m elapsed \u001b[38;5;241m=\u001b[39m preferred_clock() \u001b[38;5;241m-\u001b[39m start\n",
      "File \u001b[1;32mC:\\ProgramData\\anaconda3\\lib\\site-packages\\requests\\adapters.py:489\u001b[0m, in \u001b[0;36mHTTPAdapter.send\u001b[1;34m(self, request, stream, timeout, verify, cert, proxies)\u001b[0m\n\u001b[0;32m    487\u001b[0m \u001b[38;5;28;01mtry\u001b[39;00m:\n\u001b[0;32m    488\u001b[0m     \u001b[38;5;28;01mif\u001b[39;00m \u001b[38;5;129;01mnot\u001b[39;00m chunked:\n\u001b[1;32m--> 489\u001b[0m         resp \u001b[38;5;241m=\u001b[39m \u001b[43mconn\u001b[49m\u001b[38;5;241;43m.\u001b[39;49m\u001b[43murlopen\u001b[49m\u001b[43m(\u001b[49m\n\u001b[0;32m    490\u001b[0m \u001b[43m            \u001b[49m\u001b[43mmethod\u001b[49m\u001b[38;5;241;43m=\u001b[39;49m\u001b[43mrequest\u001b[49m\u001b[38;5;241;43m.\u001b[39;49m\u001b[43mmethod\u001b[49m\u001b[43m,\u001b[49m\n\u001b[0;32m    491\u001b[0m \u001b[43m            \u001b[49m\u001b[43murl\u001b[49m\u001b[38;5;241;43m=\u001b[39;49m\u001b[43murl\u001b[49m\u001b[43m,\u001b[49m\n\u001b[0;32m    492\u001b[0m \u001b[43m            \u001b[49m\u001b[43mbody\u001b[49m\u001b[38;5;241;43m=\u001b[39;49m\u001b[43mrequest\u001b[49m\u001b[38;5;241;43m.\u001b[39;49m\u001b[43mbody\u001b[49m\u001b[43m,\u001b[49m\n\u001b[0;32m    493\u001b[0m \u001b[43m            \u001b[49m\u001b[43mheaders\u001b[49m\u001b[38;5;241;43m=\u001b[39;49m\u001b[43mrequest\u001b[49m\u001b[38;5;241;43m.\u001b[39;49m\u001b[43mheaders\u001b[49m\u001b[43m,\u001b[49m\n\u001b[0;32m    494\u001b[0m \u001b[43m            \u001b[49m\u001b[43mredirect\u001b[49m\u001b[38;5;241;43m=\u001b[39;49m\u001b[38;5;28;43;01mFalse\u001b[39;49;00m\u001b[43m,\u001b[49m\n\u001b[0;32m    495\u001b[0m \u001b[43m            \u001b[49m\u001b[43massert_same_host\u001b[49m\u001b[38;5;241;43m=\u001b[39;49m\u001b[38;5;28;43;01mFalse\u001b[39;49;00m\u001b[43m,\u001b[49m\n\u001b[0;32m    496\u001b[0m \u001b[43m            \u001b[49m\u001b[43mpreload_content\u001b[49m\u001b[38;5;241;43m=\u001b[39;49m\u001b[38;5;28;43;01mFalse\u001b[39;49;00m\u001b[43m,\u001b[49m\n\u001b[0;32m    497\u001b[0m \u001b[43m            \u001b[49m\u001b[43mdecode_content\u001b[49m\u001b[38;5;241;43m=\u001b[39;49m\u001b[38;5;28;43;01mFalse\u001b[39;49;00m\u001b[43m,\u001b[49m\n\u001b[0;32m    498\u001b[0m \u001b[43m            \u001b[49m\u001b[43mretries\u001b[49m\u001b[38;5;241;43m=\u001b[39;49m\u001b[38;5;28;43mself\u001b[39;49m\u001b[38;5;241;43m.\u001b[39;49m\u001b[43mmax_retries\u001b[49m\u001b[43m,\u001b[49m\n\u001b[0;32m    499\u001b[0m \u001b[43m            \u001b[49m\u001b[43mtimeout\u001b[49m\u001b[38;5;241;43m=\u001b[39;49m\u001b[43mtimeout\u001b[49m\u001b[43m,\u001b[49m\n\u001b[0;32m    500\u001b[0m \u001b[43m        \u001b[49m\u001b[43m)\u001b[49m\n\u001b[0;32m    502\u001b[0m     \u001b[38;5;66;03m# Send the request.\u001b[39;00m\n\u001b[0;32m    503\u001b[0m     \u001b[38;5;28;01melse\u001b[39;00m:\n\u001b[0;32m    504\u001b[0m         \u001b[38;5;28;01mif\u001b[39;00m \u001b[38;5;28mhasattr\u001b[39m(conn, \u001b[38;5;124m\"\u001b[39m\u001b[38;5;124mproxy_pool\u001b[39m\u001b[38;5;124m\"\u001b[39m):\n",
      "File \u001b[1;32mC:\\ProgramData\\anaconda3\\lib\\site-packages\\urllib3\\connectionpool.py:703\u001b[0m, in \u001b[0;36mHTTPConnectionPool.urlopen\u001b[1;34m(self, method, url, body, headers, retries, redirect, assert_same_host, timeout, pool_timeout, release_conn, chunked, body_pos, **response_kw)\u001b[0m\n\u001b[0;32m    700\u001b[0m     \u001b[38;5;28mself\u001b[39m\u001b[38;5;241m.\u001b[39m_prepare_proxy(conn)\n\u001b[0;32m    702\u001b[0m \u001b[38;5;66;03m# Make the request on the httplib connection object.\u001b[39;00m\n\u001b[1;32m--> 703\u001b[0m httplib_response \u001b[38;5;241m=\u001b[39m \u001b[38;5;28;43mself\u001b[39;49m\u001b[38;5;241;43m.\u001b[39;49m\u001b[43m_make_request\u001b[49m\u001b[43m(\u001b[49m\n\u001b[0;32m    704\u001b[0m \u001b[43m    \u001b[49m\u001b[43mconn\u001b[49m\u001b[43m,\u001b[49m\n\u001b[0;32m    705\u001b[0m \u001b[43m    \u001b[49m\u001b[43mmethod\u001b[49m\u001b[43m,\u001b[49m\n\u001b[0;32m    706\u001b[0m \u001b[43m    \u001b[49m\u001b[43murl\u001b[49m\u001b[43m,\u001b[49m\n\u001b[0;32m    707\u001b[0m \u001b[43m    \u001b[49m\u001b[43mtimeout\u001b[49m\u001b[38;5;241;43m=\u001b[39;49m\u001b[43mtimeout_obj\u001b[49m\u001b[43m,\u001b[49m\n\u001b[0;32m    708\u001b[0m \u001b[43m    \u001b[49m\u001b[43mbody\u001b[49m\u001b[38;5;241;43m=\u001b[39;49m\u001b[43mbody\u001b[49m\u001b[43m,\u001b[49m\n\u001b[0;32m    709\u001b[0m \u001b[43m    \u001b[49m\u001b[43mheaders\u001b[49m\u001b[38;5;241;43m=\u001b[39;49m\u001b[43mheaders\u001b[49m\u001b[43m,\u001b[49m\n\u001b[0;32m    710\u001b[0m \u001b[43m    \u001b[49m\u001b[43mchunked\u001b[49m\u001b[38;5;241;43m=\u001b[39;49m\u001b[43mchunked\u001b[49m\u001b[43m,\u001b[49m\n\u001b[0;32m    711\u001b[0m \u001b[43m\u001b[49m\u001b[43m)\u001b[49m\n\u001b[0;32m    713\u001b[0m \u001b[38;5;66;03m# If we're going to release the connection in ``finally:``, then\u001b[39;00m\n\u001b[0;32m    714\u001b[0m \u001b[38;5;66;03m# the response doesn't need to know about the connection. Otherwise\u001b[39;00m\n\u001b[0;32m    715\u001b[0m \u001b[38;5;66;03m# it will also try to release it and we'll have a double-release\u001b[39;00m\n\u001b[0;32m    716\u001b[0m \u001b[38;5;66;03m# mess.\u001b[39;00m\n\u001b[0;32m    717\u001b[0m response_conn \u001b[38;5;241m=\u001b[39m conn \u001b[38;5;28;01mif\u001b[39;00m \u001b[38;5;129;01mnot\u001b[39;00m release_conn \u001b[38;5;28;01melse\u001b[39;00m \u001b[38;5;28;01mNone\u001b[39;00m\n",
      "File \u001b[1;32mC:\\ProgramData\\anaconda3\\lib\\site-packages\\urllib3\\connectionpool.py:449\u001b[0m, in \u001b[0;36mHTTPConnectionPool._make_request\u001b[1;34m(self, conn, method, url, timeout, chunked, **httplib_request_kw)\u001b[0m\n\u001b[0;32m    444\u001b[0m             httplib_response \u001b[38;5;241m=\u001b[39m conn\u001b[38;5;241m.\u001b[39mgetresponse()\n\u001b[0;32m    445\u001b[0m         \u001b[38;5;28;01mexcept\u001b[39;00m \u001b[38;5;167;01mBaseException\u001b[39;00m \u001b[38;5;28;01mas\u001b[39;00m e:\n\u001b[0;32m    446\u001b[0m             \u001b[38;5;66;03m# Remove the TypeError from the exception chain in\u001b[39;00m\n\u001b[0;32m    447\u001b[0m             \u001b[38;5;66;03m# Python 3 (including for exceptions like SystemExit).\u001b[39;00m\n\u001b[0;32m    448\u001b[0m             \u001b[38;5;66;03m# Otherwise it looks like a bug in the code.\u001b[39;00m\n\u001b[1;32m--> 449\u001b[0m             \u001b[43msix\u001b[49m\u001b[38;5;241;43m.\u001b[39;49m\u001b[43mraise_from\u001b[49m\u001b[43m(\u001b[49m\u001b[43me\u001b[49m\u001b[43m,\u001b[49m\u001b[43m \u001b[49m\u001b[38;5;28;43;01mNone\u001b[39;49;00m\u001b[43m)\u001b[49m\n\u001b[0;32m    450\u001b[0m \u001b[38;5;28;01mexcept\u001b[39;00m (SocketTimeout, BaseSSLError, SocketError) \u001b[38;5;28;01mas\u001b[39;00m e:\n\u001b[0;32m    451\u001b[0m     \u001b[38;5;28mself\u001b[39m\u001b[38;5;241m.\u001b[39m_raise_timeout(err\u001b[38;5;241m=\u001b[39me, url\u001b[38;5;241m=\u001b[39murl, timeout_value\u001b[38;5;241m=\u001b[39mread_timeout)\n",
      "File \u001b[1;32m<string>:3\u001b[0m, in \u001b[0;36mraise_from\u001b[1;34m(value, from_value)\u001b[0m\n",
      "File \u001b[1;32mC:\\ProgramData\\anaconda3\\lib\\site-packages\\urllib3\\connectionpool.py:444\u001b[0m, in \u001b[0;36mHTTPConnectionPool._make_request\u001b[1;34m(self, conn, method, url, timeout, chunked, **httplib_request_kw)\u001b[0m\n\u001b[0;32m    441\u001b[0m \u001b[38;5;28;01mexcept\u001b[39;00m \u001b[38;5;167;01mTypeError\u001b[39;00m:\n\u001b[0;32m    442\u001b[0m     \u001b[38;5;66;03m# Python 3\u001b[39;00m\n\u001b[0;32m    443\u001b[0m     \u001b[38;5;28;01mtry\u001b[39;00m:\n\u001b[1;32m--> 444\u001b[0m         httplib_response \u001b[38;5;241m=\u001b[39m \u001b[43mconn\u001b[49m\u001b[38;5;241;43m.\u001b[39;49m\u001b[43mgetresponse\u001b[49m\u001b[43m(\u001b[49m\u001b[43m)\u001b[49m\n\u001b[0;32m    445\u001b[0m     \u001b[38;5;28;01mexcept\u001b[39;00m \u001b[38;5;167;01mBaseException\u001b[39;00m \u001b[38;5;28;01mas\u001b[39;00m e:\n\u001b[0;32m    446\u001b[0m         \u001b[38;5;66;03m# Remove the TypeError from the exception chain in\u001b[39;00m\n\u001b[0;32m    447\u001b[0m         \u001b[38;5;66;03m# Python 3 (including for exceptions like SystemExit).\u001b[39;00m\n\u001b[0;32m    448\u001b[0m         \u001b[38;5;66;03m# Otherwise it looks like a bug in the code.\u001b[39;00m\n\u001b[0;32m    449\u001b[0m         six\u001b[38;5;241m.\u001b[39mraise_from(e, \u001b[38;5;28;01mNone\u001b[39;00m)\n",
      "File \u001b[1;32mC:\\ProgramData\\anaconda3\\lib\\http\\client.py:1374\u001b[0m, in \u001b[0;36mHTTPConnection.getresponse\u001b[1;34m(self)\u001b[0m\n\u001b[0;32m   1372\u001b[0m \u001b[38;5;28;01mtry\u001b[39;00m:\n\u001b[0;32m   1373\u001b[0m     \u001b[38;5;28;01mtry\u001b[39;00m:\n\u001b[1;32m-> 1374\u001b[0m         \u001b[43mresponse\u001b[49m\u001b[38;5;241;43m.\u001b[39;49m\u001b[43mbegin\u001b[49m\u001b[43m(\u001b[49m\u001b[43m)\u001b[49m\n\u001b[0;32m   1375\u001b[0m     \u001b[38;5;28;01mexcept\u001b[39;00m \u001b[38;5;167;01mConnectionError\u001b[39;00m:\n\u001b[0;32m   1376\u001b[0m         \u001b[38;5;28mself\u001b[39m\u001b[38;5;241m.\u001b[39mclose()\n",
      "File \u001b[1;32mC:\\ProgramData\\anaconda3\\lib\\http\\client.py:318\u001b[0m, in \u001b[0;36mHTTPResponse.begin\u001b[1;34m(self)\u001b[0m\n\u001b[0;32m    316\u001b[0m \u001b[38;5;66;03m# read until we get a non-100 response\u001b[39;00m\n\u001b[0;32m    317\u001b[0m \u001b[38;5;28;01mwhile\u001b[39;00m \u001b[38;5;28;01mTrue\u001b[39;00m:\n\u001b[1;32m--> 318\u001b[0m     version, status, reason \u001b[38;5;241m=\u001b[39m \u001b[38;5;28;43mself\u001b[39;49m\u001b[38;5;241;43m.\u001b[39;49m\u001b[43m_read_status\u001b[49m\u001b[43m(\u001b[49m\u001b[43m)\u001b[49m\n\u001b[0;32m    319\u001b[0m     \u001b[38;5;28;01mif\u001b[39;00m status \u001b[38;5;241m!=\u001b[39m CONTINUE:\n\u001b[0;32m    320\u001b[0m         \u001b[38;5;28;01mbreak\u001b[39;00m\n",
      "File \u001b[1;32mC:\\ProgramData\\anaconda3\\lib\\http\\client.py:279\u001b[0m, in \u001b[0;36mHTTPResponse._read_status\u001b[1;34m(self)\u001b[0m\n\u001b[0;32m    278\u001b[0m \u001b[38;5;28;01mdef\u001b[39;00m \u001b[38;5;21m_read_status\u001b[39m(\u001b[38;5;28mself\u001b[39m):\n\u001b[1;32m--> 279\u001b[0m     line \u001b[38;5;241m=\u001b[39m \u001b[38;5;28mstr\u001b[39m(\u001b[38;5;28;43mself\u001b[39;49m\u001b[38;5;241;43m.\u001b[39;49m\u001b[43mfp\u001b[49m\u001b[38;5;241;43m.\u001b[39;49m\u001b[43mreadline\u001b[49m\u001b[43m(\u001b[49m\u001b[43m_MAXLINE\u001b[49m\u001b[43m \u001b[49m\u001b[38;5;241;43m+\u001b[39;49m\u001b[43m \u001b[49m\u001b[38;5;241;43m1\u001b[39;49m\u001b[43m)\u001b[49m, \u001b[38;5;124m\"\u001b[39m\u001b[38;5;124miso-8859-1\u001b[39m\u001b[38;5;124m\"\u001b[39m)\n\u001b[0;32m    280\u001b[0m     \u001b[38;5;28;01mif\u001b[39;00m \u001b[38;5;28mlen\u001b[39m(line) \u001b[38;5;241m>\u001b[39m _MAXLINE:\n\u001b[0;32m    281\u001b[0m         \u001b[38;5;28;01mraise\u001b[39;00m LineTooLong(\u001b[38;5;124m\"\u001b[39m\u001b[38;5;124mstatus line\u001b[39m\u001b[38;5;124m\"\u001b[39m)\n",
      "File \u001b[1;32mC:\\ProgramData\\anaconda3\\lib\\socket.py:705\u001b[0m, in \u001b[0;36mSocketIO.readinto\u001b[1;34m(self, b)\u001b[0m\n\u001b[0;32m    703\u001b[0m \u001b[38;5;28;01mwhile\u001b[39;00m \u001b[38;5;28;01mTrue\u001b[39;00m:\n\u001b[0;32m    704\u001b[0m     \u001b[38;5;28;01mtry\u001b[39;00m:\n\u001b[1;32m--> 705\u001b[0m         \u001b[38;5;28;01mreturn\u001b[39;00m \u001b[38;5;28;43mself\u001b[39;49m\u001b[38;5;241;43m.\u001b[39;49m\u001b[43m_sock\u001b[49m\u001b[38;5;241;43m.\u001b[39;49m\u001b[43mrecv_into\u001b[49m\u001b[43m(\u001b[49m\u001b[43mb\u001b[49m\u001b[43m)\u001b[49m\n\u001b[0;32m    706\u001b[0m     \u001b[38;5;28;01mexcept\u001b[39;00m timeout:\n\u001b[0;32m    707\u001b[0m         \u001b[38;5;28mself\u001b[39m\u001b[38;5;241m.\u001b[39m_timeout_occurred \u001b[38;5;241m=\u001b[39m \u001b[38;5;28;01mTrue\u001b[39;00m\n",
      "File \u001b[1;32mC:\\ProgramData\\anaconda3\\lib\\ssl.py:1274\u001b[0m, in \u001b[0;36mSSLSocket.recv_into\u001b[1;34m(self, buffer, nbytes, flags)\u001b[0m\n\u001b[0;32m   1270\u001b[0m     \u001b[38;5;28;01mif\u001b[39;00m flags \u001b[38;5;241m!=\u001b[39m \u001b[38;5;241m0\u001b[39m:\n\u001b[0;32m   1271\u001b[0m         \u001b[38;5;28;01mraise\u001b[39;00m \u001b[38;5;167;01mValueError\u001b[39;00m(\n\u001b[0;32m   1272\u001b[0m           \u001b[38;5;124m\"\u001b[39m\u001b[38;5;124mnon-zero flags not allowed in calls to recv_into() on \u001b[39m\u001b[38;5;132;01m%s\u001b[39;00m\u001b[38;5;124m\"\u001b[39m \u001b[38;5;241m%\u001b[39m\n\u001b[0;32m   1273\u001b[0m           \u001b[38;5;28mself\u001b[39m\u001b[38;5;241m.\u001b[39m\u001b[38;5;18m__class__\u001b[39m)\n\u001b[1;32m-> 1274\u001b[0m     \u001b[38;5;28;01mreturn\u001b[39;00m \u001b[38;5;28;43mself\u001b[39;49m\u001b[38;5;241;43m.\u001b[39;49m\u001b[43mread\u001b[49m\u001b[43m(\u001b[49m\u001b[43mnbytes\u001b[49m\u001b[43m,\u001b[49m\u001b[43m \u001b[49m\u001b[43mbuffer\u001b[49m\u001b[43m)\u001b[49m\n\u001b[0;32m   1275\u001b[0m \u001b[38;5;28;01melse\u001b[39;00m:\n\u001b[0;32m   1276\u001b[0m     \u001b[38;5;28;01mreturn\u001b[39;00m \u001b[38;5;28msuper\u001b[39m()\u001b[38;5;241m.\u001b[39mrecv_into(buffer, nbytes, flags)\n",
      "File \u001b[1;32mC:\\ProgramData\\anaconda3\\lib\\ssl.py:1130\u001b[0m, in \u001b[0;36mSSLSocket.read\u001b[1;34m(self, len, buffer)\u001b[0m\n\u001b[0;32m   1128\u001b[0m \u001b[38;5;28;01mtry\u001b[39;00m:\n\u001b[0;32m   1129\u001b[0m     \u001b[38;5;28;01mif\u001b[39;00m buffer \u001b[38;5;129;01mis\u001b[39;00m \u001b[38;5;129;01mnot\u001b[39;00m \u001b[38;5;28;01mNone\u001b[39;00m:\n\u001b[1;32m-> 1130\u001b[0m         \u001b[38;5;28;01mreturn\u001b[39;00m \u001b[38;5;28;43mself\u001b[39;49m\u001b[38;5;241;43m.\u001b[39;49m\u001b[43m_sslobj\u001b[49m\u001b[38;5;241;43m.\u001b[39;49m\u001b[43mread\u001b[49m\u001b[43m(\u001b[49m\u001b[38;5;28;43mlen\u001b[39;49m\u001b[43m,\u001b[49m\u001b[43m \u001b[49m\u001b[43mbuffer\u001b[49m\u001b[43m)\u001b[49m\n\u001b[0;32m   1131\u001b[0m     \u001b[38;5;28;01melse\u001b[39;00m:\n\u001b[0;32m   1132\u001b[0m         \u001b[38;5;28;01mreturn\u001b[39;00m \u001b[38;5;28mself\u001b[39m\u001b[38;5;241m.\u001b[39m_sslobj\u001b[38;5;241m.\u001b[39mread(\u001b[38;5;28mlen\u001b[39m)\n",
      "\u001b[1;31mKeyboardInterrupt\u001b[0m: "
     ]
    }
   ],
   "source": [
    "# перебираем необходимые компании\n",
    "for j in tqdm(range(1, 50)):\n",
    "    for i in dfNeedCompany['TitleCompany']:\n",
    "        if \" \" in i:\n",
    "            i = i.replace(\" \", \"%20\")\n",
    "        # запись компании в поиск\n",
    "        url = 'https://habr.com/ru/search/?q='+ i +'&target_type=companies&order=relevance'\n",
    "        page = requests.get(url)\n",
    "        soup = bs(page.text, 'html.parser')\n",
    "        # переход к компании\n",
    "        pages = soup.find_all('div', class_='tm-company-snippet__info')\n",
    "        for i in pages:\n",
    "            url = 'https://habr.com' + str(i.a.get('href'))\n",
    "            page = requests.get(url)\n",
    "            soup = bs(page.text, 'html.parser')\n",
    "            # запись названия, описания, рейтинга, категорий компании\n",
    "            TitleCompanyForName = soup.find('a', class_='tm-company-card__name router-link-exact-active router-link-active') \n",
    "            description = soup.find('div', class_='tm-company-card__description')\n",
    "            reiting = soup.find('span', class_='tm-votes-lever__score-counter tm-votes-lever__score-counter tm-votes-lever__score-counter_rating')\n",
    "            Categories = soup.find('div', class_='tm-company-profile__categories')\n",
    "            # переход на блог компании\n",
    "            pages = soup.find_all('a', class_='tm-tabs__tab-link tm-tabs__tab-link')\n",
    "            for i in pages:  \n",
    "                url = 'https://habr.com' + str(i.get('href')) + 'page' + str(j) + '/'\n",
    "                if 'articles' in str(i.get('href')):\n",
    "                    print(url)\n",
    "                    page = requests.get(url)\n",
    "                    if page.status_code == 200:\n",
    "                        soup = bs(page.text, 'html.parser')\n",
    "                        # переход по постам компаний\n",
    "                        pages = soup.find_all('h2', class_='tm-title tm-title_h2')\n",
    "                        for i in pages:\n",
    "                            url = 'https://habr.com' + str(i.a.get('href'))\n",
    "                            page = requests.get(url)\n",
    "                            soup = bs(page.text, 'html.parser')\n",
    "                            TextPost = soup.find('div', class_='tm-article-body')\n",
    "                            DatePublish = soup.find('span', class_='tm-article-datetime-published')\n",
    "                            # запись всех необходимых данных\n",
    "                            dfHabr[\"TextPost\"].append(TextPost.text)\n",
    "                            dfHabr['TitleCompany'].append(TitleCompanyForName.text)\n",
    "                            dfHabr['Description'].append(description.text)\n",
    "                            dfHabr['Reiting'].append(reiting.text)\n",
    "                            dfHabr['Categories'].append(Categories.text)\n",
    "                            dfHabr['DatePublish'].append(DatePublish.text)\n",
    "                    else:\n",
    "                        print(url, 'Страницы не существует')"
   ]
  },
  {
   "cell_type": "markdown",
   "id": "8b469cc0",
   "metadata": {},
   "source": [
    "К сожалению, в парсинге выше обработались только 8 компаний, т.к. на хабре есть только они, других компаний нет."
   ]
  },
  {
   "cell_type": "code",
   "execution_count": null,
   "id": "4ece5d73",
   "metadata": {},
   "outputs": [],
   "source": [
    "dfHabr1 = pd.DataFrame(dfHabr)"
   ]
  },
  {
   "cell_type": "code",
   "execution_count": null,
   "id": "7d57d645",
   "metadata": {},
   "outputs": [],
   "source": []
  },
  {
   "cell_type": "markdown",
   "id": "6b269f89",
   "metadata": {},
   "source": [
    "## Импорт\n",
    "готового датасета, чтобы не запускать заново лемматизацию и парсинг хабра"
   ]
  },
  {
   "cell_type": "code",
   "execution_count": 17,
   "id": "0b5d83ef",
   "metadata": {},
   "outputs": [],
   "source": [
    "dfHabr1 = pd.read_csv(r'C:\\Users\\МОиБД\\Downloads\\Report1 (1).csv')"
   ]
  },
  {
   "cell_type": "code",
   "execution_count": 18,
   "id": "505da8f1",
   "metadata": {},
   "outputs": [],
   "source": [
    "TextPostLemat1 = dfHabr1['TextPostLemat']"
   ]
  },
  {
   "cell_type": "code",
   "execution_count": 19,
   "id": "2a71075b",
   "metadata": {},
   "outputs": [],
   "source": [
    "dfHabr1 = dfHabr1.drop(['TextPostToken', 'bigram', 'trigram', 'keyword', 'Nominations', 'TextPostLemat'], axis=1)"
   ]
  },
  {
   "cell_type": "code",
   "execution_count": 20,
   "id": "2898da0b",
   "metadata": {},
   "outputs": [],
   "source": [
    "dfHabr1 = dfHabr1[1112:].reset_index(drop=True)"
   ]
  },
  {
   "cell_type": "markdown",
   "id": "aac1b615",
   "metadata": {},
   "source": [
    "## Импорт "
   ]
  },
  {
   "cell_type": "code",
   "execution_count": null,
   "id": "67efde64",
   "metadata": {},
   "outputs": [],
   "source": []
  },
  {
   "cell_type": "code",
   "execution_count": 21,
   "id": "726483be",
   "metadata": {},
   "outputs": [
    {
     "data": {
      "text/html": [
       "<div>\n",
       "<style scoped>\n",
       "    .dataframe tbody tr th:only-of-type {\n",
       "        vertical-align: middle;\n",
       "    }\n",
       "\n",
       "    .dataframe tbody tr th {\n",
       "        vertical-align: top;\n",
       "    }\n",
       "\n",
       "    .dataframe thead th {\n",
       "        text-align: right;\n",
       "    }\n",
       "</style>\n",
       "<table border=\"1\" class=\"dataframe\">\n",
       "  <thead>\n",
       "    <tr style=\"text-align: right;\">\n",
       "      <th></th>\n",
       "      <th>TitleCompany</th>\n",
       "      <th>Reiting</th>\n",
       "      <th>DatePublish</th>\n",
       "      <th>TextPost</th>\n",
       "      <th>Categories</th>\n",
       "    </tr>\n",
       "  </thead>\n",
       "  <tbody>\n",
       "    <tr>\n",
       "      <th>798</th>\n",
       "      <td>Samsung Electronics</td>\n",
       "      <td>70.64</td>\n",
       "      <td>15  ноя  2011 в 19:09</td>\n",
       "      <td>\\n\\r\\nРедкое устройство сегодня способно удив...</td>\n",
       "      <td>связь и телекоммуникации мобильные технологии</td>\n",
       "    </tr>\n",
       "    <tr>\n",
       "      <th>229</th>\n",
       "      <td>Samsung Electronics</td>\n",
       "      <td>70.64</td>\n",
       "      <td>3  окт  2019 в 20:43</td>\n",
       "      <td>Сегодня мы хотим ответить на вопрос «Нужно ли...</td>\n",
       "      <td>связь и телекоммуникации мобильные технологии</td>\n",
       "    </tr>\n",
       "    <tr>\n",
       "      <th>537</th>\n",
       "      <td>Skillbox</td>\n",
       "      <td>120.11</td>\n",
       "      <td>6  ноя  2018 в 15:34</td>\n",
       "      <td>\\n\\r\\nОт переводчика: этот пост — перевод ори...</td>\n",
       "      <td>веб разработка дизайн и юзабилити реклама и м...</td>\n",
       "    </tr>\n",
       "    <tr>\n",
       "      <th>738</th>\n",
       "      <td>Samsung Electronics</td>\n",
       "      <td>70.64</td>\n",
       "      <td>2  сен  2012 в 12:56</td>\n",
       "      <td>Так уж получилось, что вокруг меня просто куч...</td>\n",
       "      <td>связь и телекоммуникации мобильные технологии</td>\n",
       "    </tr>\n",
       "    <tr>\n",
       "      <th>8</th>\n",
       "      <td>Skillbox</td>\n",
       "      <td>120.11</td>\n",
       "      <td>20  сен  2022 в 13:15</td>\n",
       "      <td>Хабр, привет! Меня зовут Даниил Пилипенко, я ...</td>\n",
       "      <td>веб разработка дизайн и юзабилити реклама и м...</td>\n",
       "    </tr>\n",
       "  </tbody>\n",
       "</table>\n",
       "</div>"
      ],
      "text/plain": [
       "            TitleCompany   Reiting            DatePublish  \\\n",
       "798  Samsung Electronics    70.64   15  ноя  2011 в 19:09   \n",
       "229  Samsung Electronics    70.64    3  окт  2019 в 20:43   \n",
       "537             Skillbox   120.11    6  ноя  2018 в 15:34   \n",
       "738  Samsung Electronics    70.64    2  сен  2012 в 12:56   \n",
       "8               Skillbox   120.11   20  сен  2022 в 13:15   \n",
       "\n",
       "                                              TextPost  \\\n",
       "798   \\n\\r\\nРедкое устройство сегодня способно удив...   \n",
       "229   Сегодня мы хотим ответить на вопрос «Нужно ли...   \n",
       "537   \\n\\r\\nОт переводчика: этот пост — перевод ори...   \n",
       "738   Так уж получилось, что вокруг меня просто куч...   \n",
       "8     Хабр, привет! Меня зовут Даниил Пилипенко, я ...   \n",
       "\n",
       "                                            Categories  \n",
       "798     связь и телекоммуникации мобильные технологии   \n",
       "229     связь и телекоммуникации мобильные технологии   \n",
       "537   веб разработка дизайн и юзабилити реклама и м...  \n",
       "738     связь и телекоммуникации мобильные технологии   \n",
       "8     веб разработка дизайн и юзабилити реклама и м...  "
      ]
     },
     "execution_count": 21,
     "metadata": {},
     "output_type": "execute_result"
    }
   ],
   "source": [
    "dfHabr1.sample(5)"
   ]
  },
  {
   "cell_type": "code",
   "execution_count": 22,
   "id": "f5f30cd5",
   "metadata": {},
   "outputs": [
    {
     "data": {
      "text/plain": [
       "(905, 5)"
      ]
     },
     "execution_count": 22,
     "metadata": {},
     "output_type": "execute_result"
    }
   ],
   "source": [
    "dfHabr1.shape"
   ]
  },
  {
   "cell_type": "code",
   "execution_count": 23,
   "id": "30d13b3d",
   "metadata": {},
   "outputs": [
    {
     "name": "stdout",
     "output_type": "stream",
     "text": [
      "<class 'pandas.core.frame.DataFrame'>\n",
      "RangeIndex: 905 entries, 0 to 904\n",
      "Data columns (total 5 columns):\n",
      " #   Column        Non-Null Count  Dtype \n",
      "---  ------        --------------  ----- \n",
      " 0   TitleCompany  905 non-null    object\n",
      " 1   Reiting       905 non-null    object\n",
      " 2   DatePublish   905 non-null    object\n",
      " 3   TextPost      905 non-null    object\n",
      " 4   Categories    905 non-null    object\n",
      "dtypes: object(5)\n",
      "memory usage: 35.5+ KB\n"
     ]
    }
   ],
   "source": [
    "dfHabr1.info()"
   ]
  },
  {
   "cell_type": "code",
   "execution_count": 24,
   "id": "64511894",
   "metadata": {},
   "outputs": [
    {
     "name": "stdout",
     "output_type": "stream",
     "text": [
      "0 Здоровье.ру\n",
      "1 Проект по использованию технологий компьютерного зрения на базе искусственного интеллекта (ИИ) для анализа медицинских изображений\n",
      "2 Skillbox\n",
      "3 Gett\n",
      "4 Промобот\n",
      "5 Иннотех\n",
      "6 Cybersport.Metaratings\n",
      "7 MMA.Metaratings\n",
      "8 Goose Gaming\n",
      "9 ESforce Holding\n",
      "10 Vinci Agency\n",
      "11 Гэллэри Сервис\n",
      "12 Студия Артемия Лебедева\n",
      "13 Федерация креативных индустрий\n",
      "14 Метарейтинг\n",
      "15 СберМаркет\n",
      "16 Balance Platform\n",
      "17 Московская биржа\n",
      "18 Samsung Electronics\n",
      "19 Нетология\n",
      "20 Дневник МЭШ\n",
      "21 Цифровое образование\n"
     ]
    }
   ],
   "source": [
    "for i in range(len(company_docx)):\n",
    "    print(i, company_docx[i])"
   ]
  },
  {
   "cell_type": "code",
   "execution_count": 25,
   "id": "889930e2",
   "metadata": {},
   "outputs": [
    {
     "data": {
      "text/plain": [
       "array(['Skillbox', 'Иннотех', 'СберМаркет', 'MOEX', 'Samsung Electronics',\n",
       "       'Нетология', 'Учи.ру team',\n",
       "       'Команда Цифровой Трансформации Татарстана'], dtype=object)"
      ]
     },
     "execution_count": 25,
     "metadata": {},
     "output_type": "execute_result"
    }
   ],
   "source": [
    "dfHabr1['TitleCompany'].unique()"
   ]
  },
  {
   "cell_type": "code",
   "execution_count": 26,
   "id": "4bc8e529",
   "metadata": {},
   "outputs": [
    {
     "data": {
      "text/plain": [
       "array(['Cybersport.Metaratings', 'ESforce Holding', 'Gett',\n",
       "       'Goose Gaming', 'skillbox', 'Vinci Agency', 'Гэллэри Сервис',\n",
       "       'Здоровье.ру', 'Иннотех',\n",
       "       'Проект по использованию технологий компьютерного зрения на базе искусственного интеллекта для анализа медицинских изображений',\n",
       "       'Промобот', 'Студия Артемия Лебедева',\n",
       "       'Федерация креативных индустрий'], dtype=object)"
      ]
     },
     "execution_count": 26,
     "metadata": {},
     "output_type": "execute_result"
    }
   ],
   "source": [
    "dfJson['TitleCompany'].unique()"
   ]
  },
  {
   "cell_type": "markdown",
   "id": "ce1862fd",
   "metadata": {},
   "source": [
    "__Итог 1.1 Парсинг данных__\n",
    "\n",
    "Были отпарсины файл docx для списка номинантов, в котором вышло 22 компании.\n",
    "\n",
    "Затем был отпарсин json, в котором было 1112 записей, компаниями были: 'Cybersport.Metaratings', 'ESforce Holding', 'Gett','Goose Gaming', 'Skillbox', 'Vinci Agency', 'Гэллэри Сервис', Здоровье.ру', 'Иннотех', 'Проект по использованию технологий компьютерного зрения на базе искусственного интеллекта для анализа медицинских изображений','Промобот', 'Студия Артемия Лебедева', 'Федерация креативных индустрий' компаний получилось 13. \n",
    "\n",
    "А также с хабра по поиску отпарсины компании, каждые из существующих по 50 страниц. Но ни у одной компании из присутствующих не было 30-ти страниц. Отпарсить получилось только эти компании: 'Skillbox', 'Иннотех', 'СберМаркет', 'MOEX', 'Samsung',\n",
    "'Нетология', 'Учи.ру team','Команда Цифровой Трансформации Татарстана' две последние компании появляются при поиске компании 'Цифровое образование'.\n",
    "\n",
    "Компании \n",
    "\n",
    "Gett, MMA.Metaratings, Метарейтинг, Balance Platform, Дневник МЭШ не существуют ни в json, ни на хабре. Отсуствуют они по причине того, что их удалили с хабра по разным причинам."
   ]
  },
  {
   "cell_type": "markdown",
   "id": "0e3d828a",
   "metadata": {},
   "source": [
    "### 1.2 Формирование структуры набора данных"
   ]
  },
  {
   "cell_type": "markdown",
   "id": "b341f183",
   "metadata": {},
   "source": [
    "1 __TitleCompany__ - Название компании.\n",
    "\n",
    "2 __Description__ - Описание компании.\n",
    "\n",
    "3 __Reiting__ - Рейтинг компании.\n",
    "\n",
    "4 __Categories__ - Категории компании.\n",
    "\n",
    "5 __DatePublish__ - Дата опубликования статьи.\n",
    "\n",
    "6 __TextPost__ - необработанный текст.\n",
    "\n",
    "7 __TextPostLemat__ - обработанный, лематизированный текст.\n",
    "\n",
    "8 __TextPostToken__ - обработанный, токенизированный и лематизированный текст.\n",
    "\n",
    "9 __bigram__ - биграммы обработанного и лематизированного текста.\n",
    "\n",
    "10 __trigram__ - триграммы обработанного и лематизированного текста.\n",
    "\n",
    "11 __keyword__ - ключевые слова обработанного и лематизированного текста.\n",
    "\n",
    "__Пояснение исключения или выбора признаков:__\n",
    "\n",
    "1 - __Название компании__ необходимо оставить, т.к. с ним будет производится разведочный анализ данных, а также будет производится обучение.\n",
    "\n",
    "2 - __Описание компании__ ненужно, т.к. с ним не будут производится какие-либо работы. Поэтому оно будет просто занимать лишнее место.\n",
    "\n",
    "3 - __Рейтинг компании__ необходим, т.к. с ним будет производится разведочный анализ.\n",
    "\n",
    "4 - __Категории компании__ необходимы, т.к. благодаря ним можно определять принадлежность компании к определенной сфере.\n",
    "\n",
    "5 - __Дата опубликования статьи__ необходима, т.к. с ней будет производится разведочный анализ.\n",
    "\n",
    "6 - __Необработанный текст__ необходим для обработки текста и создания столбцов TextPostLemat и TextPostToken, а также для дальнейшего сравнения.\n",
    "\n",
    "7 - __Обработанный, лематизированный текст__, необходим в дальнейшем для работы с разведочным анализом, а также обучения.\n",
    "\n",
    "8 - __Обработанный, токенизированный и лематизированный текст__, необходим в дальнейшем для работы с разведочным анализом, а создания биграмм, триграмм и ключевых слов.\n",
    "\n",
    "9 - __Биграммы__ обработанного и лематизированного текста, необходимы по заданию, а также для визуального анализа.\n",
    "\n",
    "10 - __Триграммы__ обработанного и лематизированного текста, необходим по заданию, а также для визуального анализа.\n",
    "\n",
    "11 - __Ключевые__ слова обработанного и лематизированного текста, необходим по заданию, а также для визуального анализа.\n",
    "\n",
    "Следовательно исключается только 2 пункт (Описание)."
   ]
  },
  {
   "cell_type": "code",
   "execution_count": null,
   "id": "0d7e4c89",
   "metadata": {},
   "outputs": [],
   "source": [
    "dfHabr1 = dfHabr1.drop(['Description'], axis=1)"
   ]
  },
  {
   "cell_type": "code",
   "execution_count": 27,
   "id": "64a9c09c",
   "metadata": {},
   "outputs": [],
   "source": [
    "dfJson = dfJson.drop(['Description'], axis=1)"
   ]
  },
  {
   "cell_type": "markdown",
   "id": "736b06b1",
   "metadata": {},
   "source": [
    "### 1.3 Предварительная обработка текстовых данных"
   ]
  },
  {
   "cell_type": "markdown",
   "id": "3507fd05",
   "metadata": {},
   "source": [
    "#### План работы"
   ]
  },
  {
   "cell_type": "markdown",
   "id": "f98affc2",
   "metadata": {},
   "source": [
    "1. Обработка начинается с удаление дубликатов из датафрейма через drop_duplicates.\n",
    "2. Затем создание методов для обработки данных:\n",
    "\n",
    "Для начала создаются russian_stopwords через stopwords.words(\"russian\"), через которые пропускаются все методы, для удаления стоп-слов.\n",
    "\n",
    "    2.1 Метод удаление пунктуации, работает через string.punctuation, начинается обработка с него, чтобы убрать всю пунктуацию, и затем, если появятся лишние пробелы или символы дальнейшая обработка все удалила.\n",
    "    \n",
    "    2.2 Метод удаления чисел, работает через isdigit, аналогично удалению пунктуации идет он. \n",
    "    \n",
    "    2.3 Метод удаления оставшихся чисел, работает через isalpha.\n",
    "    \n",
    "    2.4 Метод удаления слов меньше 3 символов, он нужен для удаление невошедших в стопслова которких слов, которые точно не нужны в уже обработанном тексте.\n",
    "    \n",
    "    2.5 Затем идет удаление лишних пробелов, через функцию re, необходим, чтобы после обработки данных текст был читаемым, и не было этих лишних пробелов.\n",
    "    \n",
    "    2.6 Затем идет лемматизация, она уже без метода, просто запускается через mystem и обрабатывает все текста, лемматизация записывается в новый столбец.\n",
    "    \n",
    "    2.7 Затем идет токенизация на оснвое лемматизированого текста, работает через word_tokenize\n",
    "   \n",
    "Каждый из этих методов необходим по заданию, а последовательность задавалась методом проб, чтобы не было лишней информации и текст был обработан корректно.\n",
    "    "
   ]
  },
  {
   "cell_type": "markdown",
   "id": "d07ed2a7",
   "metadata": {},
   "source": [
    "#### Удаление дубликатов в парсинге с хабра"
   ]
  },
  {
   "cell_type": "code",
   "execution_count": 28,
   "id": "da5bc7ea",
   "metadata": {},
   "outputs": [],
   "source": [
    "dfHabr1.drop_duplicates(subset='TextPost', inplace=True)"
   ]
  },
  {
   "cell_type": "code",
   "execution_count": 29,
   "id": "d74df625",
   "metadata": {},
   "outputs": [
    {
     "name": "stdout",
     "output_type": "stream",
     "text": [
      "<class 'pandas.core.frame.DataFrame'>\n",
      "Int64Index: 905 entries, 0 to 904\n",
      "Data columns (total 5 columns):\n",
      " #   Column        Non-Null Count  Dtype \n",
      "---  ------        --------------  ----- \n",
      " 0   TitleCompany  905 non-null    object\n",
      " 1   Reiting       905 non-null    object\n",
      " 2   DatePublish   905 non-null    object\n",
      " 3   TextPost      905 non-null    object\n",
      " 4   Categories    905 non-null    object\n",
      "dtypes: object(5)\n",
      "memory usage: 42.4+ KB\n"
     ]
    }
   ],
   "source": [
    "dfHabr1.info()"
   ]
  },
  {
   "cell_type": "markdown",
   "id": "8148eb87",
   "metadata": {},
   "source": [
    "Дубликатов не было, поэтому так и осталось 905 записей"
   ]
  },
  {
   "cell_type": "code",
   "execution_count": 85,
   "id": "a1c89c37",
   "metadata": {},
   "outputs": [
    {
     "data": {
      "text/html": [
       "<div>\n",
       "<style scoped>\n",
       "    .dataframe tbody tr th:only-of-type {\n",
       "        vertical-align: middle;\n",
       "    }\n",
       "\n",
       "    .dataframe tbody tr th {\n",
       "        vertical-align: top;\n",
       "    }\n",
       "\n",
       "    .dataframe thead th {\n",
       "        text-align: right;\n",
       "    }\n",
       "</style>\n",
       "<table border=\"1\" class=\"dataframe\">\n",
       "  <thead>\n",
       "    <tr style=\"text-align: right;\">\n",
       "      <th></th>\n",
       "      <th>TitleCompany</th>\n",
       "      <th>Reiting</th>\n",
       "      <th>DatePublish</th>\n",
       "      <th>TextPost</th>\n",
       "      <th>Categories</th>\n",
       "    </tr>\n",
       "  </thead>\n",
       "  <tbody>\n",
       "    <tr>\n",
       "      <th>count</th>\n",
       "      <td>905</td>\n",
       "      <td>905</td>\n",
       "      <td>905</td>\n",
       "      <td>905</td>\n",
       "      <td>905</td>\n",
       "    </tr>\n",
       "    <tr>\n",
       "      <th>unique</th>\n",
       "      <td>8</td>\n",
       "      <td>8</td>\n",
       "      <td>905</td>\n",
       "      <td>905</td>\n",
       "      <td>7</td>\n",
       "    </tr>\n",
       "    <tr>\n",
       "      <th>top</th>\n",
       "      <td>Samsung Electronics</td>\n",
       "      <td>70.64</td>\n",
       "      <td>18  апр   в 15:42</td>\n",
       "      <td>Микросервисы становятся все более популярным ...</td>\n",
       "      <td>веб разработка дизайн и юзабилити реклама и м...</td>\n",
       "    </tr>\n",
       "    <tr>\n",
       "      <th>freq</th>\n",
       "      <td>328</td>\n",
       "      <td>328</td>\n",
       "      <td>1</td>\n",
       "      <td>1</td>\n",
       "      <td>406</td>\n",
       "    </tr>\n",
       "  </tbody>\n",
       "</table>\n",
       "</div>"
      ],
      "text/plain": [
       "               TitleCompany  Reiting        DatePublish  \\\n",
       "count                   905      905                905   \n",
       "unique                    8        8                905   \n",
       "top     Samsung Electronics   70.64   18  апр   в 15:42   \n",
       "freq                    328      328                  1   \n",
       "\n",
       "                                                 TextPost  \\\n",
       "count                                                 905   \n",
       "unique                                                905   \n",
       "top      Микросервисы становятся все более популярным ...   \n",
       "freq                                                    1   \n",
       "\n",
       "                                               Categories  \n",
       "count                                                 905  \n",
       "unique                                                  7  \n",
       "top      веб разработка дизайн и юзабилити реклама и м...  \n",
       "freq                                                  406  "
      ]
     },
     "execution_count": 85,
     "metadata": {},
     "output_type": "execute_result"
    }
   ],
   "source": [
    "dfHabr1.describe()"
   ]
  },
  {
   "cell_type": "markdown",
   "id": "e47c1a6b",
   "metadata": {},
   "source": [
    "#### Создание методов для полной обработки данных"
   ]
  },
  {
   "cell_type": "code",
   "execution_count": 30,
   "id": "c54145b8",
   "metadata": {},
   "outputs": [],
   "source": [
    "morph = pymorphy2.MorphAnalyzer()"
   ]
  },
  {
   "cell_type": "code",
   "execution_count": 31,
   "id": "11a0e7c5",
   "metadata": {},
   "outputs": [],
   "source": [
    "# метод удаления пунктуации\n",
    "def remove_punctuation(text):\n",
    "    return \"\".join([ch if ch not in string.punctuation else ' ' for ch in text])\n",
    "\n",
    "# метод удаления чисел\n",
    "def remove_numbers(text):\n",
    "    return ''.join([i if not i.isdigit() else ' ' for i in text])\n",
    "\n",
    "# метод удаления двойных пробелов\n",
    "def remove_multiple_spaces(text):\n",
    "\treturn re.sub(r'\\s+', ' ', text, flags=re.I)\n",
    "\n",
    "# метод удаления оставшихся чисел\n",
    "def remove_notalpha(text):\n",
    "    return ''.join([i if i.isalpha() else ' ' for i in text])\n",
    "\n",
    "# метод токенизирования\n",
    "def tokenize(text):\n",
    "    t = word_tokenize(text)\n",
    "    return [token for token in t if token not in russian_stopwords]\n",
    "\n",
    "# метод удаления слов < 3\n",
    "def remove_small_text(text):\n",
    "    words = text.split()\n",
    "    return ' '.join([i if len(i) >=3 else ' ' for i in words])\n",
    "\n",
    "# объект mystem для лематизации \n",
    "mystem = Mystem() \n",
    "# добавление стопслов\n",
    "russian_stopwords = stopwords.words(\"russian\")\n",
    "russian_stopwords.extend(['…', '«', '»', '...', 'быть', 'r', 'n', 'а', 'мы', 'с', 'для', 'ещё', 'его', 'также', 'к', 'тем', 'кто', 'чтобы', 'но', 'они', 'будут', 'так', 'где', 'один', 'он ', 'и', 'на', 'но', 'или', 'либо', 'это', 'мб', 'далее', 'дв', 'свой', 'ваш','всё', 'очень', 'её', 'ещё', 'вообще', 'наш', 'который'])"
   ]
  },
  {
   "cell_type": "markdown",
   "id": "d2172dae",
   "metadata": {},
   "source": [
    "#### Начало поочередной обработки данных"
   ]
  },
  {
   "cell_type": "markdown",
   "id": "f8116f0c",
   "metadata": {},
   "source": [
    "Ниже представлена обработка рейтинга, в ней перебирается весь столбец рейтинга в датафрейме. Сначала проверяется есть ли у текста стоп-слова, если есть, то стоп-слова удаляются, а если нет, то у текста удаляются лишние пробелы."
   ]
  },
  {
   "cell_type": "code",
   "execution_count": 32,
   "id": "9fdf80c2",
   "metadata": {},
   "outputs": [
    {
     "data": {
      "application/vnd.jupyter.widget-view+json": {
       "model_id": "7cdbb13ec375444f81f4b44c8fe6ac05",
       "version_major": 2,
       "version_minor": 0
      },
      "text/plain": [
       "  0%|          | 0/905 [00:00<?, ?it/s]"
      ]
     },
     "metadata": {},
     "output_type": "display_data"
    }
   ],
   "source": [
    "# обработка рейтинга\n",
    "prep_text_Reiting = [remove_multiple_spaces(text) for text in tqdm(dfHabr1['Reiting']) if text not in russian_stopwords]"
   ]
  },
  {
   "cell_type": "markdown",
   "id": "c0b7b45e",
   "metadata": {},
   "source": [
    "Ниже представлена обработка категорий, в ней перебирается весь столбец категорий в датафрейме. Сначала проверяется есть ли у текста стоп-слова, если есть, то стоп-слова удаляются, а если нет, то у текста нижнего регистра удаляется пунктация, а затем лишние пробелы."
   ]
  },
  {
   "cell_type": "code",
   "execution_count": 33,
   "id": "2f5b5cec",
   "metadata": {},
   "outputs": [
    {
     "data": {
      "application/vnd.jupyter.widget-view+json": {
       "model_id": "fdeadbdc431042338391a021193ca465",
       "version_major": 2,
       "version_minor": 0
      },
      "text/plain": [
       "  0%|          | 0/905 [00:00<?, ?it/s]"
      ]
     },
     "metadata": {},
     "output_type": "display_data"
    }
   ],
   "source": [
    "# обработка категорий\n",
    "prep_text_Categories = [remove_multiple_spaces(remove_punctuation(text.lower())) for text in tqdm(dfHabr1['Categories']) if text not in russian_stopwords]"
   ]
  },
  {
   "cell_type": "code",
   "execution_count": 34,
   "id": "8c66e3c9",
   "metadata": {},
   "outputs": [],
   "source": [
    "# перезапись на обработанный текст\n",
    "dfHabr1['Reiting'] = prep_text_Reiting\n",
    "dfHabr1['Categories'] = prep_text_Categories"
   ]
  },
  {
   "cell_type": "code",
   "execution_count": 35,
   "id": "fbbf96dc",
   "metadata": {},
   "outputs": [],
   "source": [
    "# обдъединение двух датафреймов с записми из json и записями с хабра\n",
    "dfReady = pd.concat([dfJson, dfHabr1], ignore_index=True)"
   ]
  },
  {
   "cell_type": "code",
   "execution_count": 36,
   "id": "0187c247",
   "metadata": {},
   "outputs": [
    {
     "name": "stdout",
     "output_type": "stream",
     "text": [
      "<class 'pandas.core.frame.DataFrame'>\n",
      "RangeIndex: 2017 entries, 0 to 2016\n",
      "Data columns (total 5 columns):\n",
      " #   Column        Non-Null Count  Dtype \n",
      "---  ------        --------------  ----- \n",
      " 0   TitleCompany  2017 non-null   object\n",
      " 1   Reiting       1198 non-null   object\n",
      " 2   DatePublish   2017 non-null   object\n",
      " 3   TextPost      2017 non-null   object\n",
      " 4   Categories    905 non-null    object\n",
      "dtypes: object(5)\n",
      "memory usage: 78.9+ KB\n"
     ]
    }
   ],
   "source": [
    "dfReady.info()"
   ]
  },
  {
   "cell_type": "code",
   "execution_count": null,
   "id": "ec8ae92b",
   "metadata": {},
   "outputs": [],
   "source": []
  },
  {
   "cell_type": "markdown",
   "id": "0fefa1af",
   "metadata": {},
   "source": [
    "#### Обработка пропусков в DataFrame"
   ]
  },
  {
   "cell_type": "code",
   "execution_count": 37,
   "id": "f7a0363b",
   "metadata": {},
   "outputs": [],
   "source": [
    "dfReady['Reiting'] = dfReady['Reiting'].fillna('Пусто')"
   ]
  },
  {
   "cell_type": "code",
   "execution_count": 38,
   "id": "1c4d8c88",
   "metadata": {},
   "outputs": [],
   "source": [
    "dfReady['Categories'] = dfReady['Categories'].fillna('Пусто')"
   ]
  },
  {
   "cell_type": "code",
   "execution_count": 39,
   "id": "d6117392",
   "metadata": {},
   "outputs": [
    {
     "data": {
      "text/html": [
       "<div>\n",
       "<style scoped>\n",
       "    .dataframe tbody tr th:only-of-type {\n",
       "        vertical-align: middle;\n",
       "    }\n",
       "\n",
       "    .dataframe tbody tr th {\n",
       "        vertical-align: top;\n",
       "    }\n",
       "\n",
       "    .dataframe thead th {\n",
       "        text-align: right;\n",
       "    }\n",
       "</style>\n",
       "<table border=\"1\" class=\"dataframe\">\n",
       "  <thead>\n",
       "    <tr style=\"text-align: right;\">\n",
       "      <th></th>\n",
       "      <th>TitleCompany</th>\n",
       "      <th>Reiting</th>\n",
       "      <th>DatePublish</th>\n",
       "      <th>TextPost</th>\n",
       "      <th>Categories</th>\n",
       "    </tr>\n",
       "  </thead>\n",
       "  <tbody>\n",
       "    <tr>\n",
       "      <th>1341</th>\n",
       "      <td>Samsung Electronics</td>\n",
       "      <td>70.64</td>\n",
       "      <td>3  окт  2019 в 20:43</td>\n",
       "      <td>Сегодня мы хотим ответить на вопрос «Нужно ли...</td>\n",
       "      <td>связь и телекоммуникации мобильные технологии</td>\n",
       "    </tr>\n",
       "    <tr>\n",
       "      <th>1337</th>\n",
       "      <td>Samsung Electronics</td>\n",
       "      <td>70.64</td>\n",
       "      <td>9  дек  2019 в 16:01</td>\n",
       "      <td>Если у вас телефон Samsung, то вы, возможно, ...</td>\n",
       "      <td>связь и телекоммуникации мобильные технологии</td>\n",
       "    </tr>\n",
       "    <tr>\n",
       "      <th>1919</th>\n",
       "      <td>Samsung Electronics</td>\n",
       "      <td>70.64</td>\n",
       "      <td>20  сен  2011 в 16:18</td>\n",
       "      <td>Технология Samsung Smart TV объединяет телеви...</td>\n",
       "      <td>связь и телекоммуникации мобильные технологии</td>\n",
       "    </tr>\n",
       "    <tr>\n",
       "      <th>1952</th>\n",
       "      <td>Samsung Electronics</td>\n",
       "      <td>70.64</td>\n",
       "      <td>16  дек  2010 в 15:51</td>\n",
       "      <td>Для нас энергоэффективность — это не только в...</td>\n",
       "      <td>связь и телекоммуникации мобильные технологии</td>\n",
       "    </tr>\n",
       "    <tr>\n",
       "      <th>1681</th>\n",
       "      <td>Samsung Electronics</td>\n",
       "      <td>70.64</td>\n",
       "      <td>9  сен  2013 в 12:03</td>\n",
       "      <td>Снова здравствуйте, хабражители!\\n\\r\\nВ преды...</td>\n",
       "      <td>связь и телекоммуникации мобильные технологии</td>\n",
       "    </tr>\n",
       "  </tbody>\n",
       "</table>\n",
       "</div>"
      ],
      "text/plain": [
       "             TitleCompany  Reiting            DatePublish  \\\n",
       "1341  Samsung Electronics   70.64    3  окт  2019 в 20:43   \n",
       "1337  Samsung Electronics   70.64    9  дек  2019 в 16:01   \n",
       "1919  Samsung Electronics   70.64   20  сен  2011 в 16:18   \n",
       "1952  Samsung Electronics   70.64   16  дек  2010 в 15:51   \n",
       "1681  Samsung Electronics   70.64    9  сен  2013 в 12:03   \n",
       "\n",
       "                                               TextPost  \\\n",
       "1341   Сегодня мы хотим ответить на вопрос «Нужно ли...   \n",
       "1337   Если у вас телефон Samsung, то вы, возможно, ...   \n",
       "1919   Технология Samsung Smart TV объединяет телеви...   \n",
       "1952   Для нас энергоэффективность — это не только в...   \n",
       "1681   Снова здравствуйте, хабражители!\\n\\r\\nВ преды...   \n",
       "\n",
       "                                           Categories  \n",
       "1341   связь и телекоммуникации мобильные технологии   \n",
       "1337   связь и телекоммуникации мобильные технологии   \n",
       "1919   связь и телекоммуникации мобильные технологии   \n",
       "1952   связь и телекоммуникации мобильные технологии   \n",
       "1681   связь и телекоммуникации мобильные технологии   "
      ]
     },
     "execution_count": 39,
     "metadata": {},
     "output_type": "execute_result"
    }
   ],
   "source": [
    "dfReady.sample(5)"
   ]
  },
  {
   "cell_type": "code",
   "execution_count": 40,
   "id": "c356e73f",
   "metadata": {},
   "outputs": [
    {
     "name": "stdout",
     "output_type": "stream",
     "text": [
      "<class 'pandas.core.frame.DataFrame'>\n",
      "RangeIndex: 2017 entries, 0 to 2016\n",
      "Data columns (total 5 columns):\n",
      " #   Column        Non-Null Count  Dtype \n",
      "---  ------        --------------  ----- \n",
      " 0   TitleCompany  2017 non-null   object\n",
      " 1   Reiting       2017 non-null   object\n",
      " 2   DatePublish   2017 non-null   object\n",
      " 3   TextPost      2017 non-null   object\n",
      " 4   Categories    2017 non-null   object\n",
      "dtypes: object(5)\n",
      "memory usage: 78.9+ KB\n"
     ]
    }
   ],
   "source": [
    "dfReady.info()"
   ]
  },
  {
   "cell_type": "code",
   "execution_count": 41,
   "id": "74a6bbd1",
   "metadata": {},
   "outputs": [
    {
     "data": {
      "text/plain": [
       "array(['Cybersport.Metaratings', 'ESforce Holding', 'Gett',\n",
       "       'Goose Gaming', 'skillbox', 'Vinci Agency', 'Гэллэри Сервис',\n",
       "       'Здоровье.ру', 'Иннотех',\n",
       "       'Проект по использованию технологий компьютерного зрения на базе искусственного интеллекта для анализа медицинских изображений',\n",
       "       'Промобот', 'Студия Артемия Лебедева',\n",
       "       'Федерация креативных индустрий', 'Skillbox', 'СберМаркет', 'MOEX',\n",
       "       'Samsung Electronics', 'Нетология', 'Учи.ру team',\n",
       "       'Команда Цифровой Трансформации Татарстана'], dtype=object)"
      ]
     },
     "execution_count": 41,
     "metadata": {},
     "output_type": "execute_result"
    }
   ],
   "source": [
    "dfReady['TitleCompany'].unique()"
   ]
  },
  {
   "cell_type": "markdown",
   "id": "3d0ba07e",
   "metadata": {},
   "source": [
    "Ниже представлена обработка публикаций, в ней перебирается весь столбец публикаций в датафрейме. Сначала проверяется есть ли у текста стоп-слова, если есть, то стоп-слова удаляются, а если нет, то у текста нижнего регистра удаляется пунктация, затем числа, потом оставшиеся числа, затем текст меньше 3 символов и лишние пробелы."
   ]
  },
  {
   "cell_type": "code",
   "execution_count": 42,
   "id": "2b8102d7",
   "metadata": {},
   "outputs": [
    {
     "data": {
      "application/vnd.jupyter.widget-view+json": {
       "model_id": "8be2032ec1bf4ae0b69f8f51e341a655",
       "version_major": 2,
       "version_minor": 0
      },
      "text/plain": [
       "  0%|          | 0/2017 [00:00<?, ?it/s]"
      ]
     },
     "metadata": {},
     "output_type": "display_data"
    }
   ],
   "source": [
    "# обработка текста без токенизации и лематизации для отдельной колонки с лематизацией\n",
    "prep_text1 = [remove_multiple_spaces(remove_small_text(remove_notalpha(remove_numbers(remove_punctuation(text.lower()))))) for text in tqdm(dfReady['TextPost']) if text not in russian_stopwords]"
   ]
  },
  {
   "cell_type": "code",
   "execution_count": null,
   "id": "6346cd37",
   "metadata": {},
   "outputs": [],
   "source": [
    "dfReady['TextPostLemat'] = prep_text1"
   ]
  },
  {
   "cell_type": "markdown",
   "id": "a855c45b",
   "metadata": {},
   "source": [
    "#### Лемматизация текста статей и токенизирование"
   ]
  },
  {
   "cell_type": "markdown",
   "id": "1a4f4a09",
   "metadata": {},
   "source": [
    "Ниже представлена лемматизация, которая работает через библиотеку mystem."
   ]
  },
  {
   "cell_type": "code",
   "execution_count": null,
   "id": "8743b9ff",
   "metadata": {},
   "outputs": [],
   "source": [
    "# обработка 1000 записей лемматизации занимает 15-16 минут по примерной оценке tqdm, библиотеке, оценивающей обработку \n",
    "lemm_texts_list = []\n",
    "for text in tqdm(dfReady['TextPostLemat']):\n",
    "    try:\n",
    "        text_lem = mystem.lemmatize(text)\n",
    "        tokens = [token for token in text_lem if token != ' ' and token not in russian_stopwords]\n",
    "        text = \" \".join(tokens)\n",
    "        lemm_texts_list.append(text)\n",
    "    except Exception as e:\n",
    "        print(e)\n",
    "        \n",
    "    \n",
    "dfReady['TextPostLemat'] = lemm_texts_list"
   ]
  },
  {
   "cell_type": "code",
   "execution_count": null,
   "id": "0009cecd",
   "metadata": {},
   "outputs": [],
   "source": [
    "dfReady.sample(5)"
   ]
  },
  {
   "cell_type": "code",
   "execution_count": null,
   "id": "94a3935d",
   "metadata": {},
   "outputs": [],
   "source": []
  },
  {
   "cell_type": "code",
   "execution_count": 43,
   "id": "6fc2fbcd",
   "metadata": {},
   "outputs": [],
   "source": [
    "# из готово импорта, чтобы не лемматизировать заново\n",
    "dfReady['TextPostLemat'] = TextPostLemat1"
   ]
  },
  {
   "cell_type": "markdown",
   "id": "6fdff639",
   "metadata": {},
   "source": [
    "Ниже представлена токенизация, в ней перебирается весь столбец лемматизированного текста в датафрейме. Сначала проверяется есть ли у текста стоп-слова, если есть, то стоп-слова удаляются, а если нет, то у текста нижнего регистра производится токенизация."
   ]
  },
  {
   "cell_type": "code",
   "execution_count": 44,
   "id": "f2b6a121",
   "metadata": {},
   "outputs": [
    {
     "data": {
      "application/vnd.jupyter.widget-view+json": {
       "model_id": "101ff1a1ff644108bb1a3386ddc412f9",
       "version_major": 2,
       "version_minor": 0
      },
      "text/plain": [
       "  0%|          | 0/2017 [00:00<?, ?it/s]"
      ]
     },
     "metadata": {},
     "output_type": "display_data"
    }
   ],
   "source": [
    "prep_text_token = [tokenize((text.lower())) for text in tqdm(dfReady['TextPostLemat']) if text not in russian_stopwords]"
   ]
  },
  {
   "cell_type": "code",
   "execution_count": 45,
   "id": "08559f1c",
   "metadata": {},
   "outputs": [],
   "source": [
    "dfReady['TextPostToken'] = prep_text_token"
   ]
  },
  {
   "cell_type": "code",
   "execution_count": 46,
   "id": "5894d03d",
   "metadata": {},
   "outputs": [
    {
     "data": {
      "text/html": [
       "<div>\n",
       "<style scoped>\n",
       "    .dataframe tbody tr th:only-of-type {\n",
       "        vertical-align: middle;\n",
       "    }\n",
       "\n",
       "    .dataframe tbody tr th {\n",
       "        vertical-align: top;\n",
       "    }\n",
       "\n",
       "    .dataframe thead th {\n",
       "        text-align: right;\n",
       "    }\n",
       "</style>\n",
       "<table border=\"1\" class=\"dataframe\">\n",
       "  <thead>\n",
       "    <tr style=\"text-align: right;\">\n",
       "      <th></th>\n",
       "      <th>TitleCompany</th>\n",
       "      <th>Reiting</th>\n",
       "      <th>DatePublish</th>\n",
       "      <th>TextPost</th>\n",
       "      <th>Categories</th>\n",
       "      <th>TextPostLemat</th>\n",
       "      <th>TextPostToken</th>\n",
       "    </tr>\n",
       "  </thead>\n",
       "  <tbody>\n",
       "    <tr>\n",
       "      <th>340</th>\n",
       "      <td>skillbox</td>\n",
       "      <td>113.82</td>\n",
       "      <td>17 января</td>\n",
       "      <td>Драйвер и навигатор в действии (северокорейски...</td>\n",
       "      <td>Пусто</td>\n",
       "      <td>драйвер навигатор действие северокорейский вар...</td>\n",
       "      <td>[драйвер, навигатор, действие, северокорейский...</td>\n",
       "    </tr>\n",
       "    <tr>\n",
       "      <th>1637</th>\n",
       "      <td>Нетология</td>\n",
       "      <td>89.34</td>\n",
       "      <td>1  апр  2020 в 10:29</td>\n",
       "      <td>Продуктовый аналитик — мостик между бизнесом ...</td>\n",
       "      <td>веб разработка дизайн и юзабилити реклама и м...</td>\n",
       "      <td>продуктовый аналитик мостик бизнес данные рабо...</td>\n",
       "      <td>[продуктовый, аналитик, мостик, бизнес, данные...</td>\n",
       "    </tr>\n",
       "    <tr>\n",
       "      <th>962</th>\n",
       "      <td>Студия Артемия Лебедева</td>\n",
       "      <td>Пусто</td>\n",
       "      <td>26 марта</td>\n",
       "      <td>Привет, Хабр! Сегодня мы опубликовали результа...</td>\n",
       "      <td>Пусто</td>\n",
       "      <td>привет хабр сегодня опубликовывать результат е...</td>\n",
       "      <td>[привет, хабр, сегодня, опубликовывать, резуль...</td>\n",
       "    </tr>\n",
       "    <tr>\n",
       "      <th>1527</th>\n",
       "      <td>Skillbox</td>\n",
       "      <td>120.11</td>\n",
       "      <td>15  мар  2019 в 17:29</td>\n",
       "      <td>\\n\\r\\nКогда я занимался изучением производите...</td>\n",
       "      <td>веб разработка дизайн и юзабилити реклама и м...</td>\n",
       "      <td>заниматься изучение производительность алгорит...</td>\n",
       "      <td>[заниматься, изучение, производительность, алг...</td>\n",
       "    </tr>\n",
       "    <tr>\n",
       "      <th>1216</th>\n",
       "      <td>Нетология</td>\n",
       "      <td>89.34</td>\n",
       "      <td>10  мар   в 18:18</td>\n",
       "      <td>Фрод (от английского — fraud, «обман») в сфер...</td>\n",
       "      <td>веб разработка дизайн и юзабилити реклама и м...</td>\n",
       "      <td>фрод английский fraud обман сфера приложение в...</td>\n",
       "      <td>[фрод, английский, fraud, обман, сфера, прилож...</td>\n",
       "    </tr>\n",
       "  </tbody>\n",
       "</table>\n",
       "</div>"
      ],
      "text/plain": [
       "                 TitleCompany   Reiting            DatePublish  \\\n",
       "340                  skillbox    113.82              17 января   \n",
       "1637                Нетология    89.34    1  апр  2020 в 10:29   \n",
       "962   Студия Артемия Лебедева     Пусто               26 марта   \n",
       "1527                 Skillbox   120.11   15  мар  2019 в 17:29   \n",
       "1216                Нетология    89.34       10  мар   в 18:18   \n",
       "\n",
       "                                               TextPost  \\\n",
       "340   Драйвер и навигатор в действии (северокорейски...   \n",
       "1637   Продуктовый аналитик — мостик между бизнесом ...   \n",
       "962   Привет, Хабр! Сегодня мы опубликовали результа...   \n",
       "1527   \\n\\r\\nКогда я занимался изучением производите...   \n",
       "1216   Фрод (от английского — fraud, «обман») в сфер...   \n",
       "\n",
       "                                             Categories  \\\n",
       "340                                               Пусто   \n",
       "1637   веб разработка дизайн и юзабилити реклама и м...   \n",
       "962                                               Пусто   \n",
       "1527   веб разработка дизайн и юзабилити реклама и м...   \n",
       "1216   веб разработка дизайн и юзабилити реклама и м...   \n",
       "\n",
       "                                          TextPostLemat  \\\n",
       "340   драйвер навигатор действие северокорейский вар...   \n",
       "1637  продуктовый аналитик мостик бизнес данные рабо...   \n",
       "962   привет хабр сегодня опубликовывать результат е...   \n",
       "1527  заниматься изучение производительность алгорит...   \n",
       "1216  фрод английский fraud обман сфера приложение в...   \n",
       "\n",
       "                                          TextPostToken  \n",
       "340   [драйвер, навигатор, действие, северокорейский...  \n",
       "1637  [продуктовый, аналитик, мостик, бизнес, данные...  \n",
       "962   [привет, хабр, сегодня, опубликовывать, резуль...  \n",
       "1527  [заниматься, изучение, производительность, алг...  \n",
       "1216  [фрод, английский, fraud, обман, сфера, прилож...  "
      ]
     },
     "execution_count": 46,
     "metadata": {},
     "output_type": "execute_result"
    }
   ],
   "source": [
    "dfReady.sample(5)"
   ]
  },
  {
   "cell_type": "code",
   "execution_count": 47,
   "id": "d2280eaf",
   "metadata": {},
   "outputs": [
    {
     "name": "stdout",
     "output_type": "stream",
     "text": [
      "<class 'pandas.core.frame.DataFrame'>\n",
      "RangeIndex: 2017 entries, 0 to 2016\n",
      "Data columns (total 7 columns):\n",
      " #   Column         Non-Null Count  Dtype \n",
      "---  ------         --------------  ----- \n",
      " 0   TitleCompany   2017 non-null   object\n",
      " 1   Reiting        2017 non-null   object\n",
      " 2   DatePublish    2017 non-null   object\n",
      " 3   TextPost       2017 non-null   object\n",
      " 4   Categories     2017 non-null   object\n",
      " 5   TextPostLemat  2017 non-null   object\n",
      " 6   TextPostToken  2017 non-null   object\n",
      "dtypes: object(7)\n",
      "memory usage: 110.4+ KB\n"
     ]
    }
   ],
   "source": [
    "dfReady.info()"
   ]
  },
  {
   "cell_type": "code",
   "execution_count": 86,
   "id": "36e867a8",
   "metadata": {},
   "outputs": [
    {
     "name": "stderr",
     "output_type": "stream",
     "text": [
      "C:\\ProgramData\\anaconda3\\lib\\site-packages\\pandas\\core\\algorithms.py:990: SparseEfficiencyWarning: Comparing sparse matrices using == is inefficient, try using != instead.\n",
      "  keys, counts = value_counts_arraylike(values, dropna)\n"
     ]
    },
    {
     "data": {
      "text/html": [
       "<div>\n",
       "<style scoped>\n",
       "    .dataframe tbody tr th:only-of-type {\n",
       "        vertical-align: middle;\n",
       "    }\n",
       "\n",
       "    .dataframe tbody tr th {\n",
       "        vertical-align: top;\n",
       "    }\n",
       "\n",
       "    .dataframe thead th {\n",
       "        text-align: right;\n",
       "    }\n",
       "</style>\n",
       "<table border=\"1\" class=\"dataframe\">\n",
       "  <thead>\n",
       "    <tr style=\"text-align: right;\">\n",
       "      <th></th>\n",
       "      <th>TitleCompany</th>\n",
       "      <th>Reiting</th>\n",
       "      <th>DatePublish</th>\n",
       "      <th>TextPost</th>\n",
       "      <th>Categories</th>\n",
       "      <th>TextPostLemat</th>\n",
       "      <th>TextPostToken</th>\n",
       "      <th>bigram</th>\n",
       "      <th>trigram</th>\n",
       "      <th>keyword</th>\n",
       "      <th>count_matrix</th>\n",
       "    </tr>\n",
       "  </thead>\n",
       "  <tbody>\n",
       "    <tr>\n",
       "      <th>count</th>\n",
       "      <td>2017</td>\n",
       "      <td>2017</td>\n",
       "      <td>2017</td>\n",
       "      <td>2017</td>\n",
       "      <td>2017</td>\n",
       "      <td>2017</td>\n",
       "      <td>2017</td>\n",
       "      <td>2017</td>\n",
       "      <td>2017</td>\n",
       "      <td>2017</td>\n",
       "      <td>2017</td>\n",
       "    </tr>\n",
       "    <tr>\n",
       "      <th>unique</th>\n",
       "      <td>19</td>\n",
       "      <td>11</td>\n",
       "      <td>1244</td>\n",
       "      <td>1993</td>\n",
       "      <td>8</td>\n",
       "      <td>1820</td>\n",
       "      <td>1820</td>\n",
       "      <td>1820</td>\n",
       "      <td>1820</td>\n",
       "      <td>1819</td>\n",
       "      <td>2017</td>\n",
       "    </tr>\n",
       "    <tr>\n",
       "      <th>top</th>\n",
       "      <td>Skillbox</td>\n",
       "      <td>Пусто</td>\n",
       "      <td>8 декабря</td>\n",
       "      <td>7 декабря состоялась церемония награждения лау...</td>\n",
       "      <td>Пусто</td>\n",
       "      <td>декабрь состояться церемония награждение лауре...</td>\n",
       "      <td>[декабрь, состояться, церемония, награждение, ...</td>\n",
       "      <td>[(декабрь, состояться), (состояться, церемония...</td>\n",
       "      <td>[(декабрь, состояться, церемония), (состояться...</td>\n",
       "      <td>номинация, проект, москва, премия, рунет, разв...</td>\n",
       "      <td>(0, 224)\\t1\\n  (0, 838)\\t1\\n  (0, 966)\\t1\\n ...</td>\n",
       "    </tr>\n",
       "    <tr>\n",
       "      <th>freq</th>\n",
       "      <td>470</td>\n",
       "      <td>819</td>\n",
       "      <td>16</td>\n",
       "      <td>13</td>\n",
       "      <td>1112</td>\n",
       "      <td>13</td>\n",
       "      <td>13</td>\n",
       "      <td>13</td>\n",
       "      <td>13</td>\n",
       "      <td>13</td>\n",
       "      <td>1</td>\n",
       "    </tr>\n",
       "  </tbody>\n",
       "</table>\n",
       "</div>"
      ],
      "text/plain": [
       "       TitleCompany Reiting DatePublish  \\\n",
       "count          2017    2017        2017   \n",
       "unique           19      11        1244   \n",
       "top        Skillbox   Пусто   8 декабря   \n",
       "freq            470     819          16   \n",
       "\n",
       "                                                 TextPost Categories  \\\n",
       "count                                                2017       2017   \n",
       "unique                                               1993          8   \n",
       "top     7 декабря состоялась церемония награждения лау...      Пусто   \n",
       "freq                                                   13       1112   \n",
       "\n",
       "                                            TextPostLemat  \\\n",
       "count                                                2017   \n",
       "unique                                               1820   \n",
       "top     декабрь состояться церемония награждение лауре...   \n",
       "freq                                                   13   \n",
       "\n",
       "                                            TextPostToken  \\\n",
       "count                                                2017   \n",
       "unique                                               1820   \n",
       "top     [декабрь, состояться, церемония, награждение, ...   \n",
       "freq                                                   13   \n",
       "\n",
       "                                                   bigram  \\\n",
       "count                                                2017   \n",
       "unique                                               1820   \n",
       "top     [(декабрь, состояться), (состояться, церемония...   \n",
       "freq                                                   13   \n",
       "\n",
       "                                                  trigram  \\\n",
       "count                                                2017   \n",
       "unique                                               1820   \n",
       "top     [(декабрь, состояться, церемония), (состояться...   \n",
       "freq                                                   13   \n",
       "\n",
       "                                                  keyword  \\\n",
       "count                                                2017   \n",
       "unique                                               1819   \n",
       "top     номинация, проект, москва, премия, рунет, разв...   \n",
       "freq                                                   13   \n",
       "\n",
       "                                             count_matrix  \n",
       "count                                                2017  \n",
       "unique                                               2017  \n",
       "top       (0, 224)\\t1\\n  (0, 838)\\t1\\n  (0, 966)\\t1\\n ...  \n",
       "freq                                                    1  "
      ]
     },
     "execution_count": 86,
     "metadata": {},
     "output_type": "execute_result"
    }
   ],
   "source": [
    "dfReady.describe()"
   ]
  },
  {
   "cell_type": "markdown",
   "id": "d35908c0",
   "metadata": {},
   "source": [
    "### 1.4 Поиск ключевых слов/n-грамм. Векторизация текстов"
   ]
  },
  {
   "cell_type": "code",
   "execution_count": 48,
   "id": "0c0475f5",
   "metadata": {},
   "outputs": [],
   "source": [
    "dfReady['bigram'] = ''\n",
    "dfReady['trigram'] = ''\n",
    "dfReady['keyword'] = ''"
   ]
  },
  {
   "cell_type": "markdown",
   "id": "5ac69cca",
   "metadata": {},
   "source": [
    "##### Биграммы и триграммы"
   ]
  },
  {
   "cell_type": "markdown",
   "id": "6132f34a",
   "metadata": {},
   "source": [
    "Биграммы и триграммы созданы через nltk.ngrams - это функция в Natural Language Toolkit (NLTK), которая генерирует n-граммы из последовательности элементов. N-граммы - это последовательности из n элементов из заданного текстового образца. Функция nltk.ngrams() возвращает итератор, который можно использовать для генерации n-грамм любого размера."
   ]
  },
  {
   "cell_type": "markdown",
   "id": "28d134fe",
   "metadata": {},
   "source": [
    "Для биграмм и триграмм я выбрал nltk.ngrams т.к. основное преимущество n-грамм заключается в том, что они могут использоваться для создания языковых моделей, которые могут предсказывать вероятность того, что заданная последовательность слов встретится в тексте. А также сама модель очень удобная и простая в использовании. "
   ]
  },
  {
   "cell_type": "markdown",
   "id": "f179b707",
   "metadata": {},
   "source": [
    "##### Ключевые слова"
   ]
  },
  {
   "cell_type": "markdown",
   "id": "42b748c0",
   "metadata": {},
   "source": [
    "Ключевые слова через nltk.FreqDist - это функция в Natural Language Toolkit (NLTK), которая используется для подсчета частоты встречаемости слов в тексте. Она принимает список слов в качестве аргумента и возвращает объект FreqDist, который содержит частоту каждого слова в списке."
   ]
  },
  {
   "cell_type": "markdown",
   "id": "6d1f2378",
   "metadata": {},
   "source": [
    "Для ключевых слов я выбрал nltk.FreqDist т.к. основное преимущество использования nltk.FreqDist() заключается в том, что она может использоваться для анализа текстов и выявления наиболее часто встречающихся слов, несколько удобнее чем аналоги поиска ключевых слов."
   ]
  },
  {
   "cell_type": "markdown",
   "id": "04aeb0e7",
   "metadata": {},
   "source": [
    "#### Создание биграммы, триграммы и ключевых слов, а также добавления их в датафрейм"
   ]
  },
  {
   "cell_type": "code",
   "execution_count": 49,
   "id": "ff624ea5",
   "metadata": {},
   "outputs": [
    {
     "data": {
      "application/vnd.jupyter.widget-view+json": {
       "model_id": "c2311560bd89424793c3216dcd9c1ed2",
       "version_major": 2,
       "version_minor": 0
      },
      "text/plain": [
       "  0%|          | 0/2017 [00:00<?, ?it/s]"
      ]
     },
     "metadata": {},
     "output_type": "display_data"
    },
    {
     "data": {
      "application/vnd.jupyter.widget-view+json": {
       "model_id": "4beead342c5047089dc21accce2f26e7",
       "version_major": 2,
       "version_minor": 0
      },
      "text/plain": [
       "  0%|          | 0/2017 [00:00<?, ?it/s]"
      ]
     },
     "metadata": {},
     "output_type": "display_data"
    },
    {
     "data": {
      "application/vnd.jupyter.widget-view+json": {
       "model_id": "63fd09bd39ac4b8181f307648bc99e2a",
       "version_major": 2,
       "version_minor": 0
      },
      "text/plain": [
       "  0%|          | 0/2017 [00:00<?, ?it/s]"
      ]
     },
     "metadata": {},
     "output_type": "display_data"
    }
   ],
   "source": [
    "# использование цикла с записью биграмм в датафрейм\n",
    "for i in tqdm(range(len(dfReady['TextPostToken']))):\n",
    "    dfReady['bigram'][i] = list(nltk.ngrams(dfReady['TextPostToken'][i], 2))\n",
    "# использование цикла с записью триграмм в датафрейм\n",
    "for i in tqdm(range(len(dfReady['TextPostToken']))):\n",
    "    dfReady['trigram'][i] = list(nltk.ngrams(dfReady['TextPostToken'][i], 3))\n",
    "# использование цикла с записью ключевых слов в датафрейм\n",
    "for i in tqdm(range(len(dfReady['TextPostToken']))):\n",
    "    freq_dist = nltk.FreqDist(dfReady['TextPostToken'][i])\n",
    "    top_words = [word for word, count in freq_dist.most_common(10)]\n",
    "    dfReady['keyword'][i] = ', '.join(top_words)"
   ]
  },
  {
   "cell_type": "code",
   "execution_count": 50,
   "id": "aa02e6b4",
   "metadata": {},
   "outputs": [
    {
     "data": {
      "text/html": [
       "<div>\n",
       "<style scoped>\n",
       "    .dataframe tbody tr th:only-of-type {\n",
       "        vertical-align: middle;\n",
       "    }\n",
       "\n",
       "    .dataframe tbody tr th {\n",
       "        vertical-align: top;\n",
       "    }\n",
       "\n",
       "    .dataframe thead th {\n",
       "        text-align: right;\n",
       "    }\n",
       "</style>\n",
       "<table border=\"1\" class=\"dataframe\">\n",
       "  <thead>\n",
       "    <tr style=\"text-align: right;\">\n",
       "      <th></th>\n",
       "      <th>TitleCompany</th>\n",
       "      <th>Reiting</th>\n",
       "      <th>DatePublish</th>\n",
       "      <th>TextPost</th>\n",
       "      <th>Categories</th>\n",
       "      <th>TextPostLemat</th>\n",
       "      <th>TextPostToken</th>\n",
       "      <th>bigram</th>\n",
       "      <th>trigram</th>\n",
       "      <th>keyword</th>\n",
       "    </tr>\n",
       "  </thead>\n",
       "  <tbody>\n",
       "    <tr>\n",
       "      <th>0</th>\n",
       "      <td>Cybersport.Metaratings</td>\n",
       "      <td>Пусто</td>\n",
       "      <td>8 декабря</td>\n",
       "      <td>7 декабря состоялась церемония награждения лау...</td>\n",
       "      <td>Пусто</td>\n",
       "      <td>декабрь состояться церемония награждение лауре...</td>\n",
       "      <td>[декабрь, состояться, церемония, награждение, ...</td>\n",
       "      <td>[(декабрь, состояться), (состояться, церемония...</td>\n",
       "      <td>[(декабрь, состояться, церемония), (состояться...</td>\n",
       "      <td>номинация, проект, москва, премия, рунет, разв...</td>\n",
       "    </tr>\n",
       "    <tr>\n",
       "      <th>1</th>\n",
       "      <td>ESforce Holding</td>\n",
       "      <td>Пусто</td>\n",
       "      <td>8 декабря</td>\n",
       "      <td>7 декабря состоялась церемония награждения лау...</td>\n",
       "      <td>Пусто</td>\n",
       "      <td>декабрь состояться церемония награждение лауре...</td>\n",
       "      <td>[декабрь, состояться, церемония, награждение, ...</td>\n",
       "      <td>[(декабрь, состояться), (состояться, церемония...</td>\n",
       "      <td>[(декабрь, состояться, церемония), (состояться...</td>\n",
       "      <td>номинация, проект, москва, премия, рунет, разв...</td>\n",
       "    </tr>\n",
       "    <tr>\n",
       "      <th>2</th>\n",
       "      <td>ESforce Holding</td>\n",
       "      <td>Пусто</td>\n",
       "      <td>29 июля</td>\n",
       "      <td>Из совместного исследования издателя компьютер...</td>\n",
       "      <td>Пусто</td>\n",
       "      <td>совместный исследование издатель компьютерный ...</td>\n",
       "      <td>[совместный, исследование, издатель, компьютер...</td>\n",
       "      <td>[(совместный, исследование), (исследование, из...</td>\n",
       "      <td>[(совместный, исследование, издатель), (исслед...</td>\n",
       "      <td>игра, год, world, серия, геймер, популярный, ф...</td>\n",
       "    </tr>\n",
       "    <tr>\n",
       "      <th>3</th>\n",
       "      <td>ESforce Holding</td>\n",
       "      <td>Пусто</td>\n",
       "      <td>9 июля</td>\n",
       "      <td>По статистике The Esports Observer за I полови...</td>\n",
       "      <td>Пусто</td>\n",
       "      <td>статистика the esports observer половина год в...</td>\n",
       "      <td>[статистика, the, esports, observer, половина,...</td>\n",
       "      <td>[(статистика, the), (the, esports), (esports, ...</td>\n",
       "      <td>[(статистика, the, esports), (the, esports, ob...</td>\n",
       "      <td>млн, канал, dota, ruhub, год, просмотр, место,...</td>\n",
       "    </tr>\n",
       "    <tr>\n",
       "      <th>4</th>\n",
       "      <td>ESforce Holding</td>\n",
       "      <td>Пусто</td>\n",
       "      <td>11 апреля</td>\n",
       "      <td>Компании SuperData Research и PayPal провели с...</td>\n",
       "      <td>Пусто</td>\n",
       "      <td>компания superdata research paypal проводить с...</td>\n",
       "      <td>[компания, superdata, research, paypal, провод...</td>\n",
       "      <td>[(компания, superdata), (superdata, research),...</td>\n",
       "      <td>[(компания, superdata, research), (superdata, ...</td>\n",
       "      <td>киберспорт, миллион, год, рынок, superdata, кр...</td>\n",
       "    </tr>\n",
       "  </tbody>\n",
       "</table>\n",
       "</div>"
      ],
      "text/plain": [
       "             TitleCompany Reiting DatePublish  \\\n",
       "0  Cybersport.Metaratings   Пусто   8 декабря   \n",
       "1         ESforce Holding   Пусто   8 декабря   \n",
       "2         ESforce Holding   Пусто     29 июля   \n",
       "3         ESforce Holding   Пусто      9 июля   \n",
       "4         ESforce Holding   Пусто   11 апреля   \n",
       "\n",
       "                                            TextPost Categories  \\\n",
       "0  7 декабря состоялась церемония награждения лау...      Пусто   \n",
       "1  7 декабря состоялась церемония награждения лау...      Пусто   \n",
       "2  Из совместного исследования издателя компьютер...      Пусто   \n",
       "3  По статистике The Esports Observer за I полови...      Пусто   \n",
       "4  Компании SuperData Research и PayPal провели с...      Пусто   \n",
       "\n",
       "                                       TextPostLemat  \\\n",
       "0  декабрь состояться церемония награждение лауре...   \n",
       "1  декабрь состояться церемония награждение лауре...   \n",
       "2  совместный исследование издатель компьютерный ...   \n",
       "3  статистика the esports observer половина год в...   \n",
       "4  компания superdata research paypal проводить с...   \n",
       "\n",
       "                                       TextPostToken  \\\n",
       "0  [декабрь, состояться, церемония, награждение, ...   \n",
       "1  [декабрь, состояться, церемония, награждение, ...   \n",
       "2  [совместный, исследование, издатель, компьютер...   \n",
       "3  [статистика, the, esports, observer, половина,...   \n",
       "4  [компания, superdata, research, paypal, провод...   \n",
       "\n",
       "                                              bigram  \\\n",
       "0  [(декабрь, состояться), (состояться, церемония...   \n",
       "1  [(декабрь, состояться), (состояться, церемония...   \n",
       "2  [(совместный, исследование), (исследование, из...   \n",
       "3  [(статистика, the), (the, esports), (esports, ...   \n",
       "4  [(компания, superdata), (superdata, research),...   \n",
       "\n",
       "                                             trigram  \\\n",
       "0  [(декабрь, состояться, церемония), (состояться...   \n",
       "1  [(декабрь, состояться, церемония), (состояться...   \n",
       "2  [(совместный, исследование, издатель), (исслед...   \n",
       "3  [(статистика, the, esports), (the, esports, ob...   \n",
       "4  [(компания, superdata, research), (superdata, ...   \n",
       "\n",
       "                                             keyword  \n",
       "0  номинация, проект, москва, премия, рунет, разв...  \n",
       "1  номинация, проект, москва, премия, рунет, разв...  \n",
       "2  игра, год, world, серия, геймер, популярный, ф...  \n",
       "3  млн, канал, dota, ruhub, год, просмотр, место,...  \n",
       "4  киберспорт, миллион, год, рынок, superdata, кр...  "
      ]
     },
     "execution_count": 50,
     "metadata": {},
     "output_type": "execute_result"
    }
   ],
   "source": [
    "dfReady.head()"
   ]
  },
  {
   "cell_type": "code",
   "execution_count": 51,
   "id": "0d14cc7c",
   "metadata": {},
   "outputs": [
    {
     "data": {
      "text/plain": [
       "(2017, 10)"
      ]
     },
     "execution_count": 51,
     "metadata": {},
     "output_type": "execute_result"
    }
   ],
   "source": [
    "dfReady.shape"
   ]
  },
  {
   "cell_type": "code",
   "execution_count": 52,
   "id": "89145fdb",
   "metadata": {},
   "outputs": [
    {
     "name": "stdout",
     "output_type": "stream",
     "text": [
      "<class 'pandas.core.frame.DataFrame'>\n",
      "RangeIndex: 2017 entries, 0 to 2016\n",
      "Data columns (total 10 columns):\n",
      " #   Column         Non-Null Count  Dtype \n",
      "---  ------         --------------  ----- \n",
      " 0   TitleCompany   2017 non-null   object\n",
      " 1   Reiting        2017 non-null   object\n",
      " 2   DatePublish    2017 non-null   object\n",
      " 3   TextPost       2017 non-null   object\n",
      " 4   Categories     2017 non-null   object\n",
      " 5   TextPostLemat  2017 non-null   object\n",
      " 6   TextPostToken  2017 non-null   object\n",
      " 7   bigram         2017 non-null   object\n",
      " 8   trigram        2017 non-null   object\n",
      " 9   keyword        2017 non-null   object\n",
      "dtypes: object(10)\n",
      "memory usage: 157.7+ KB\n"
     ]
    }
   ],
   "source": [
    "dfReady.info()"
   ]
  },
  {
   "cell_type": "markdown",
   "id": "205d331e",
   "metadata": {},
   "source": [
    "#### Преодобработка текста для векторизации"
   ]
  },
  {
   "cell_type": "code",
   "execution_count": 53,
   "id": "8d41613e",
   "metadata": {},
   "outputs": [],
   "source": [
    "# метод препроцессинга, необходимый для полной очистки всего ненужного\n",
    "def preprocess_text(data, stopwords=russian_stopwords):\n",
    "    text = re.sub('ё','е', data.lower())\n",
    "    text = text.strip()\n",
    "    text = [w for w in text.split() if w not in stopwords] \n",
    "    text = [w for w in text if len(w) >=3]\n",
    "    return ' '.join(text)"
   ]
  },
  {
   "cell_type": "code",
   "execution_count": 54,
   "id": "cd612e75",
   "metadata": {},
   "outputs": [],
   "source": [
    "# вызов препроцессинга и трансформация\n",
    "def transform_data(data: pd.Series) -> list:\n",
    "    result = [preprocess_text(data=i) for i in data]\n",
    "    return result"
   ]
  },
  {
   "cell_type": "code",
   "execution_count": 55,
   "id": "d843f4cd",
   "metadata": {},
   "outputs": [],
   "source": [
    "text = dfReady['TextPostLemat']"
   ]
  },
  {
   "cell_type": "code",
   "execution_count": 56,
   "id": "b1396358",
   "metadata": {},
   "outputs": [
    {
     "name": "stdout",
     "output_type": "stream",
     "text": [
      "CPU times: total: 5.19 s\n",
      "Wall time: 5.2 s\n"
     ]
    }
   ],
   "source": [
    "%%time\n",
    "dfHabr2 = transform_data(text)"
   ]
  },
  {
   "cell_type": "code",
   "execution_count": 57,
   "id": "b26093e4",
   "metadata": {},
   "outputs": [
    {
     "data": {
      "text/plain": [
       "2017"
      ]
     },
     "execution_count": 57,
     "metadata": {},
     "output_type": "execute_result"
    }
   ],
   "source": [
    "len(dfHabr2)"
   ]
  },
  {
   "cell_type": "markdown",
   "id": "13ba11aa",
   "metadata": {},
   "source": [
    "#### Векторизация текста, для дальнейшей обработки"
   ]
  },
  {
   "cell_type": "code",
   "execution_count": 58,
   "id": "9c28e6be",
   "metadata": {},
   "outputs": [],
   "source": [
    "vectorizer = CountVectorizer(analyzer='word', stop_words=russian_stopwords, ngram_range=(1, 3), min_df=1)\n",
    "count_matrix = vectorizer.fit_transform(dfHabr2)"
   ]
  },
  {
   "cell_type": "code",
   "execution_count": 59,
   "id": "e0cd5db6",
   "metadata": {},
   "outputs": [
    {
     "data": {
      "text/plain": [
       "array([[0, 0, 0, 0, 0, 0, 0, 0, 0, 0, 0, 0, 0, 0, 0, 0, 0, 0, 0, 0, 0, 0,\n",
       "        0, 0, 0, 0, 0, 0, 0, 0, 0, 0, 0, 0, 0, 0, 0, 0, 0, 0, 0, 0, 0, 0,\n",
       "        0, 0, 0, 0, 0, 0, 0, 0, 0, 0, 0, 0, 0, 0, 0, 0, 0, 0, 0, 0, 0, 0,\n",
       "        0, 0, 0, 0, 0, 0, 0, 0, 0, 0, 0, 0, 0, 0, 0, 0, 0, 0, 0, 0, 0, 0,\n",
       "        0, 0, 0, 0, 0, 0, 0, 0, 0, 0, 0, 0, 0, 0, 0, 0, 0, 0, 0, 0, 0, 0,\n",
       "        0, 0, 0, 0, 0, 0, 0, 0, 0, 0, 0, 0, 0, 0, 0, 0, 0, 0, 0, 0, 0, 0,\n",
       "        0, 0, 0, 0, 0, 0, 0, 0, 0, 0, 0, 0, 0, 0, 0, 0, 0, 0, 0, 0, 0, 0,\n",
       "        0, 0, 0, 0, 0, 0, 0, 0, 0, 0, 0, 0, 0, 0, 0, 0, 0, 0, 0, 0, 0, 0,\n",
       "        0, 0, 0, 0, 0, 0, 0, 0, 0, 0, 0, 0, 0, 0, 0, 0, 0, 0, 0, 0, 0, 0,\n",
       "        0, 0],\n",
       "       [0, 0, 0, 0, 0, 0, 0, 0, 0, 0, 0, 0, 0, 0, 0, 0, 0, 0, 0, 0, 0, 0,\n",
       "        0, 0, 0, 0, 0, 0, 0, 0, 0, 0, 0, 0, 0, 0, 0, 0, 0, 0, 0, 0, 0, 0,\n",
       "        0, 0, 0, 0, 0, 0, 0, 0, 0, 0, 0, 0, 0, 0, 0, 0, 0, 0, 0, 0, 0, 0,\n",
       "        0, 0, 0, 0, 0, 0, 0, 0, 0, 0, 0, 0, 0, 0, 0, 0, 0, 0, 0, 0, 0, 0,\n",
       "        0, 0, 0, 0, 0, 0, 0, 0, 0, 0, 0, 0, 0, 0, 0, 0, 0, 0, 0, 0, 0, 0,\n",
       "        0, 0, 0, 0, 0, 0, 0, 0, 0, 0, 0, 0, 0, 0, 0, 0, 0, 0, 0, 0, 0, 0,\n",
       "        0, 0, 0, 0, 0, 0, 0, 0, 0, 0, 0, 0, 0, 0, 0, 0, 0, 0, 0, 0, 0, 0,\n",
       "        0, 0, 0, 0, 0, 0, 0, 0, 0, 0, 0, 0, 0, 0, 0, 0, 0, 0, 0, 0, 0, 0,\n",
       "        0, 0, 0, 0, 0, 0, 0, 0, 0, 0, 0, 0, 0, 0, 0, 0, 0, 0, 0, 0, 0, 0,\n",
       "        0, 0]], dtype=int64)"
      ]
     },
     "execution_count": 59,
     "metadata": {},
     "output_type": "execute_result"
    }
   ],
   "source": [
    "count_matrix.toarray()[:2,:200]"
   ]
  },
  {
   "cell_type": "code",
   "execution_count": 60,
   "id": "2ed70713",
   "metadata": {},
   "outputs": [
    {
     "data": {
      "text/plain": [
       "(2017, 3235386)"
      ]
     },
     "execution_count": 60,
     "metadata": {},
     "output_type": "execute_result"
    }
   ],
   "source": [
    "count_matrix.shape"
   ]
  },
  {
   "cell_type": "code",
   "execution_count": 61,
   "id": "93e8d1d1",
   "metadata": {},
   "outputs": [
    {
     "data": {
      "text/plain": [
       "array(['aaa', 'aaa contrast', 'aaa contrast ratio', 'aaa запас',\n",
       "       'aaa запас энергия', 'aaa класс', 'aaa класс высокий',\n",
       "       'aaa тайтлы', 'aaa тайтлы очередь', 'aaaab', 'aaaab nzac',\n",
       "       'aaaab nzac eaaaadaqabaaabaqcyzjrpvojqstqd', 'aab', 'aab apk',\n",
       "       'aab apk rules', 'aab app', 'aab app app', 'aab artifacts',\n",
       "       'aab artifacts expire', 'aab артефакт', 'aab артефакт dimentions',\n",
       "       'aab путь', 'aab путь aab', 'aacr', 'aacr acquisition',\n",
       "       'aacr acquisition activation', 'aadhaar', 'aadhaar facebook',\n",
       "       'aadhaar facebook персонализировать', 'aadppotyqeck',\n",
       "       'aadppotyqeck hltyz', 'aadppotyqeck hltyz yfa', 'aaeark',\n",
       "       'aaeark nxjb', 'aaeark nxjb jib', 'aaff', 'aaff important',\n",
       "       'aaff important color', 'aaff скрипт', 'aaff скрипт пример',\n",
       "       'aaid', 'aaid https', 'aaid https wikipedia', 'aalborg',\n",
       "       'aalborg university', 'aalborg university denmark', 'aamof',\n",
       "       'aamof matter', 'aamof matter fact', 'aardvark'], dtype=object)"
      ]
     },
     "execution_count": 61,
     "metadata": {},
     "output_type": "execute_result"
    }
   ],
   "source": [
    "vectorizer.get_feature_names_out()[:50]"
   ]
  },
  {
   "cell_type": "code",
   "execution_count": 62,
   "id": "3b5db7e6",
   "metadata": {},
   "outputs": [
    {
     "data": {
      "text/plain": [
       "3235386"
      ]
     },
     "execution_count": 62,
     "metadata": {},
     "output_type": "execute_result"
    }
   ],
   "source": [
    "len(vectorizer.get_feature_names_out())"
   ]
  },
  {
   "cell_type": "markdown",
   "id": "9f50203c",
   "metadata": {},
   "source": [
    "#### Добавление векторизации в датафрейм (неизвестно, нужно ли это вообще делать)"
   ]
  },
  {
   "cell_type": "code",
   "execution_count": 63,
   "id": "5fc5c61e",
   "metadata": {},
   "outputs": [],
   "source": [
    "vectorizer = CountVectorizer(analyzer='word', stop_words=russian_stopwords, ngram_range=(1, 3), min_df=1)\n",
    "text = transform_data(dfReady['TextPostLemat'])\n",
    "count_matrices = []\n",
    "for i in range(len(text)):\n",
    "    count_matrix = vectorizer.fit_transform([text[i]])\n",
    "    count_matrices.append(count_matrix)\n",
    "dfReady['count_matrix'] = count_matrices"
   ]
  },
  {
   "cell_type": "code",
   "execution_count": 64,
   "id": "57f2a508",
   "metadata": {},
   "outputs": [
    {
     "data": {
      "text/html": [
       "<div>\n",
       "<style scoped>\n",
       "    .dataframe tbody tr th:only-of-type {\n",
       "        vertical-align: middle;\n",
       "    }\n",
       "\n",
       "    .dataframe tbody tr th {\n",
       "        vertical-align: top;\n",
       "    }\n",
       "\n",
       "    .dataframe thead th {\n",
       "        text-align: right;\n",
       "    }\n",
       "</style>\n",
       "<table border=\"1\" class=\"dataframe\">\n",
       "  <thead>\n",
       "    <tr style=\"text-align: right;\">\n",
       "      <th></th>\n",
       "      <th>TitleCompany</th>\n",
       "      <th>Reiting</th>\n",
       "      <th>DatePublish</th>\n",
       "      <th>TextPost</th>\n",
       "      <th>Categories</th>\n",
       "      <th>TextPostLemat</th>\n",
       "      <th>TextPostToken</th>\n",
       "      <th>bigram</th>\n",
       "      <th>trigram</th>\n",
       "      <th>keyword</th>\n",
       "      <th>count_matrix</th>\n",
       "    </tr>\n",
       "  </thead>\n",
       "  <tbody>\n",
       "    <tr>\n",
       "      <th>266</th>\n",
       "      <td>skillbox</td>\n",
       "      <td>113.82</td>\n",
       "      <td>15 мая</td>\n",
       "      <td>По данным Statista, к 2025 году объём рынка bi...</td>\n",
       "      <td>Пусто</td>\n",
       "      <td>данный statista год объем рынок big data вырас...</td>\n",
       "      <td>[данный, statista, год, объем, рынок, big, dat...</td>\n",
       "      <td>[(данный, statista), (statista, год), (год, об...</td>\n",
       "      <td>[(данный, statista, год), (statista, год, объе...</td>\n",
       "      <td>данные, data, уровень, продолжительность, язык...</td>\n",
       "      <td>(0, 547)\\t4\\n  (0, 310)\\t1\\n  (0, 476)\\t1\\n ...</td>\n",
       "    </tr>\n",
       "    <tr>\n",
       "      <th>92</th>\n",
       "      <td>Gett</td>\n",
       "      <td>Пусто</td>\n",
       "      <td>22 июня</td>\n",
       "      <td>Во Флоренции XV века семья Медичи собрала самы...</td>\n",
       "      <td>Пусто</td>\n",
       "      <td>флоренция век семья медичи собирать самый обра...</td>\n",
       "      <td>[флоренция, век, семья, медичи, собирать, самы...</td>\n",
       "      <td>[(флоренция, век), (век, семья), (семья, медич...</td>\n",
       "      <td>[(флоренция, век, семья), (век, семья, медичи)...</td>\n",
       "      <td>скрещивать, скрещивание, пересечение, весь, пр...</td>\n",
       "      <td>(0, 1269)\\t1\\n  (0, 143)\\t1\\n  (0, 988)\\t1\\n...</td>\n",
       "    </tr>\n",
       "    <tr>\n",
       "      <th>1432</th>\n",
       "      <td>Samsung Electronics</td>\n",
       "      <td>70.64</td>\n",
       "      <td>13  авг  2015 в 16:35</td>\n",
       "      <td>Привет Geektimes!\\n\\r\\nВ предыдущем посте мы ...</td>\n",
       "      <td>связь и телекоммуникации мобильные технологии</td>\n",
       "      <td>привет geektimes предыдущий пост рассказывать ...</td>\n",
       "      <td>[привет, geektimes, предыдущий, пост, рассказы...</td>\n",
       "      <td>[(привет, geektimes), (geektimes, предыдущий),...</td>\n",
       "      <td>[(привет, geektimes, предыдущий), (geektimes, ...</td>\n",
       "      <td>tizen, приложение, телевизор, samsung, устройс...</td>\n",
       "      <td>(0, 897)\\t1\\n  (0, 41)\\t1\\n  (0, 888)\\t1\\n  ...</td>\n",
       "    </tr>\n",
       "    <tr>\n",
       "      <th>1775</th>\n",
       "      <td>Skillbox</td>\n",
       "      <td>120.11</td>\n",
       "      <td>17  июл  2018 в 11:27</td>\n",
       "      <td>От переводчика: Дэвид Гилбертсон (David Gilbe...</td>\n",
       "      <td>веб разработка дизайн и юзабилити реклама и м...</td>\n",
       "      <td>переводчик дэвид гилбертсон david gilbertson и...</td>\n",
       "      <td>[переводчик, дэвид, гилбертсон, david, gilbert...</td>\n",
       "      <td>[(переводчик, дэвид), (дэвид, гилбертсон), (ги...</td>\n",
       "      <td>[(переводчик, дэвид, гилбертсон), (дэвид, гилб...</td>\n",
       "      <td>элемент, метод, мочь, использовать, например, ...</td>\n",
       "      <td>(0, 1546)\\t1\\n  (0, 945)\\t1\\n  (0, 863)\\t1\\n...</td>\n",
       "    </tr>\n",
       "    <tr>\n",
       "      <th>662</th>\n",
       "      <td>Здоровье.ру</td>\n",
       "      <td>Пусто</td>\n",
       "      <td>24 августа</td>\n",
       "      <td>Поведение детей в вебе отличается от поведения...</td>\n",
       "      <td>Пусто</td>\n",
       "      <td>поведение ребенок веб отличаться поведение взр...</td>\n",
       "      <td>[поведение, ребенок, веб, отличаться, поведени...</td>\n",
       "      <td>[(поведение, ребенок), (ребенок, веб), (веб, о...</td>\n",
       "      <td>[(поведение, ребенок, веб), (ребенок, веб, отл...</td>\n",
       "      <td>ребенок, кнопка, взрослый, интерфейс, экран, т...</td>\n",
       "      <td>(0, 1473)\\t2\\n  (0, 1783)\\t43\\n  (0, 123)\\t2...</td>\n",
       "    </tr>\n",
       "  </tbody>\n",
       "</table>\n",
       "</div>"
      ],
      "text/plain": [
       "             TitleCompany   Reiting            DatePublish  \\\n",
       "266              skillbox    113.82                 15 мая   \n",
       "92                   Gett     Пусто                22 июня   \n",
       "1432  Samsung Electronics    70.64   13  авг  2015 в 16:35   \n",
       "1775             Skillbox   120.11   17  июл  2018 в 11:27   \n",
       "662           Здоровье.ру     Пусто             24 августа   \n",
       "\n",
       "                                               TextPost  \\\n",
       "266   По данным Statista, к 2025 году объём рынка bi...   \n",
       "92    Во Флоренции XV века семья Медичи собрала самы...   \n",
       "1432   Привет Geektimes!\\n\\r\\nВ предыдущем посте мы ...   \n",
       "1775   От переводчика: Дэвид Гилбертсон (David Gilbe...   \n",
       "662   Поведение детей в вебе отличается от поведения...   \n",
       "\n",
       "                                             Categories  \\\n",
       "266                                               Пусто   \n",
       "92                                                Пусто   \n",
       "1432     связь и телекоммуникации мобильные технологии    \n",
       "1775   веб разработка дизайн и юзабилити реклама и м...   \n",
       "662                                               Пусто   \n",
       "\n",
       "                                          TextPostLemat  \\\n",
       "266   данный statista год объем рынок big data вырас...   \n",
       "92    флоренция век семья медичи собирать самый обра...   \n",
       "1432  привет geektimes предыдущий пост рассказывать ...   \n",
       "1775  переводчик дэвид гилбертсон david gilbertson и...   \n",
       "662   поведение ребенок веб отличаться поведение взр...   \n",
       "\n",
       "                                          TextPostToken  \\\n",
       "266   [данный, statista, год, объем, рынок, big, dat...   \n",
       "92    [флоренция, век, семья, медичи, собирать, самы...   \n",
       "1432  [привет, geektimes, предыдущий, пост, рассказы...   \n",
       "1775  [переводчик, дэвид, гилбертсон, david, gilbert...   \n",
       "662   [поведение, ребенок, веб, отличаться, поведени...   \n",
       "\n",
       "                                                 bigram  \\\n",
       "266   [(данный, statista), (statista, год), (год, об...   \n",
       "92    [(флоренция, век), (век, семья), (семья, медич...   \n",
       "1432  [(привет, geektimes), (geektimes, предыдущий),...   \n",
       "1775  [(переводчик, дэвид), (дэвид, гилбертсон), (ги...   \n",
       "662   [(поведение, ребенок), (ребенок, веб), (веб, о...   \n",
       "\n",
       "                                                trigram  \\\n",
       "266   [(данный, statista, год), (statista, год, объе...   \n",
       "92    [(флоренция, век, семья), (век, семья, медичи)...   \n",
       "1432  [(привет, geektimes, предыдущий), (geektimes, ...   \n",
       "1775  [(переводчик, дэвид, гилбертсон), (дэвид, гилб...   \n",
       "662   [(поведение, ребенок, веб), (ребенок, веб, отл...   \n",
       "\n",
       "                                                keyword  \\\n",
       "266   данные, data, уровень, продолжительность, язык...   \n",
       "92    скрещивать, скрещивание, пересечение, весь, пр...   \n",
       "1432  tizen, приложение, телевизор, samsung, устройс...   \n",
       "1775  элемент, метод, мочь, использовать, например, ...   \n",
       "662   ребенок, кнопка, взрослый, интерфейс, экран, т...   \n",
       "\n",
       "                                           count_matrix  \n",
       "266     (0, 547)\\t4\\n  (0, 310)\\t1\\n  (0, 476)\\t1\\n ...  \n",
       "92      (0, 1269)\\t1\\n  (0, 143)\\t1\\n  (0, 988)\\t1\\n...  \n",
       "1432    (0, 897)\\t1\\n  (0, 41)\\t1\\n  (0, 888)\\t1\\n  ...  \n",
       "1775    (0, 1546)\\t1\\n  (0, 945)\\t1\\n  (0, 863)\\t1\\n...  \n",
       "662     (0, 1473)\\t2\\n  (0, 1783)\\t43\\n  (0, 123)\\t2...  "
      ]
     },
     "execution_count": 64,
     "metadata": {},
     "output_type": "execute_result"
    }
   ],
   "source": [
    "dfReady.sample(5)"
   ]
  },
  {
   "cell_type": "code",
   "execution_count": 65,
   "id": "f31be1ec",
   "metadata": {},
   "outputs": [
    {
     "name": "stdout",
     "output_type": "stream",
     "text": [
      "<class 'pandas.core.frame.DataFrame'>\n",
      "RangeIndex: 2017 entries, 0 to 2016\n",
      "Data columns (total 11 columns):\n",
      " #   Column         Non-Null Count  Dtype \n",
      "---  ------         --------------  ----- \n",
      " 0   TitleCompany   2017 non-null   object\n",
      " 1   Reiting        2017 non-null   object\n",
      " 2   DatePublish    2017 non-null   object\n",
      " 3   TextPost       2017 non-null   object\n",
      " 4   Categories     2017 non-null   object\n",
      " 5   TextPostLemat  2017 non-null   object\n",
      " 6   TextPostToken  2017 non-null   object\n",
      " 7   bigram         2017 non-null   object\n",
      " 8   trigram        2017 non-null   object\n",
      " 9   keyword        2017 non-null   object\n",
      " 10  count_matrix   2017 non-null   object\n",
      "dtypes: object(11)\n",
      "memory usage: 173.5+ KB\n"
     ]
    }
   ],
   "source": [
    "dfReady.info()"
   ]
  },
  {
   "cell_type": "markdown",
   "id": "7bd1ab76",
   "metadata": {},
   "source": [
    "### 1.5 Разведочный анализ"
   ]
  },
  {
   "cell_type": "markdown",
   "id": "53d87a8c",
   "metadata": {},
   "source": [
    "#### Создание целевой переменной (номинации). "
   ]
  },
  {
   "cell_type": "code",
   "execution_count": 66,
   "id": "2a7ae576",
   "metadata": {},
   "outputs": [],
   "source": [
    "path = r\"C:\\Users\\МОиБД\\Downloads\\Target.json\"\n",
    "result_list1 = {'TitleCompany': [],'Nominations': []}\n",
    "# Чтение файла JSON и преобразование данных в словарь Python\n",
    "with codecs.open(path, 'r', encoding = 'utf-8') as f:\n",
    "    data = json.load(f)\n",
    "    for i in data['Target']:\n",
    "        if i != None:\n",
    "            try:\n",
    "                if i['Сompany'][-1] == ' ':\n",
    "                    result_list1['TitleCompany'].append(str(i['Сompany']).replace(\" \", \"\"))\n",
    "                else:\n",
    "                    result_list1['TitleCompany'].append(i['Сompany'])\n",
    "                result_list1['Nominations'].append(i['Nominations'])\n",
    "            except:\n",
    "                break\n",
    "    "
   ]
  },
  {
   "cell_type": "code",
   "execution_count": 67,
   "id": "115af6b4",
   "metadata": {},
   "outputs": [],
   "source": [
    "dfNominations = pd.DataFrame(result_list1)"
   ]
  },
  {
   "cell_type": "code",
   "execution_count": 68,
   "id": "6015469f",
   "metadata": {},
   "outputs": [
    {
     "data": {
      "text/plain": [
       "array(['Здоровье.ру',\n",
       "       'Проект по использованию технологий компьютерного зрения на базе искусственного интеллекта (ИИ) для анализа медицинских изображений',\n",
       "       'Skillbox', 'Gett', 'Промобот', 'Иннотех',\n",
       "       'Cybersport.Metaratings', 'MMA.Metaratings', 'Goose Gaming',\n",
       "       'ESforce Holding', 'Vinci Agency', 'Гэллэри Сервис',\n",
       "       'Студия Артемия Лебедева', 'Федерация креативных индустрий',\n",
       "       'Метарейтинг', 'СберМаркет', 'Balance Platform',\n",
       "       'Московская биржа', 'Samsung Electronics', 'Нетология',\n",
       "       'Дневник МЭШ', 'Цифровое образование'], dtype=object)"
      ]
     },
     "execution_count": 68,
     "metadata": {},
     "output_type": "execute_result"
    }
   ],
   "source": [
    "dfNominations['TitleCompany'].unique()"
   ]
  },
  {
   "cell_type": "code",
   "execution_count": 69,
   "id": "3c733c3d",
   "metadata": {},
   "outputs": [
    {
     "data": {
      "text/plain": [
       "array(['Cybersport.Metaratings', 'ESforce Holding', 'Gett',\n",
       "       'Goose Gaming', 'skillbox', 'Vinci Agency', 'Гэллэри Сервис',\n",
       "       'Здоровье.ру', 'Иннотех',\n",
       "       'Проект по использованию технологий компьютерного зрения на базе искусственного интеллекта для анализа медицинских изображений',\n",
       "       'Промобот', 'Студия Артемия Лебедева',\n",
       "       'Федерация креативных индустрий', 'Skillbox', 'СберМаркет', 'MOEX',\n",
       "       'Samsung Electronics', 'Нетология', 'Учи.ру team',\n",
       "       'Команда Цифровой Трансформации Татарстана'], dtype=object)"
      ]
     },
     "execution_count": 69,
     "metadata": {},
     "output_type": "execute_result"
    }
   ],
   "source": [
    "dfReady['TitleCompany'].unique()"
   ]
  },
  {
   "cell_type": "code",
   "execution_count": 70,
   "id": "13300b9c",
   "metadata": {},
   "outputs": [
    {
     "data": {
      "text/plain": [
       "(2017, 11)"
      ]
     },
     "execution_count": 70,
     "metadata": {},
     "output_type": "execute_result"
    }
   ],
   "source": [
    "dfReady.shape"
   ]
  },
  {
   "cell_type": "code",
   "execution_count": 71,
   "id": "a4fd3c2a",
   "metadata": {},
   "outputs": [],
   "source": [
    "for i in range(len(dfReady['TitleCompany'])):\n",
    "    if dfReady['TitleCompany'][i] == 'skillbox':\n",
    "        dfReady['TitleCompany'][i] = 'Skillbox'\n",
    "    if dfReady['TitleCompany'][i] == 'Samsung':\n",
    "        dfReady['TitleCompany'][i] = 'Samsung Electronics'"
   ]
  },
  {
   "cell_type": "code",
   "execution_count": 72,
   "id": "c4235db4",
   "metadata": {},
   "outputs": [],
   "source": [
    "merged_df = pd.merge(dfReady, dfNominations, on='TitleCompany', how='left')"
   ]
  },
  {
   "cell_type": "code",
   "execution_count": 73,
   "id": "3e96825e",
   "metadata": {},
   "outputs": [],
   "source": [
    "for i in range(len(merged_df['TitleCompany'])):\n",
    "    if merged_df['TitleCompany'][i] == 'Учи.ру team' or merged_df['TitleCompany'][i] == 'Команда Цифровой Трансформации Татарстана':\n",
    "        merged_df['Nominations'][i] = 'Образование и Кадры'\n",
    "    if merged_df['TitleCompany'][i] == 'Проект по использованию технологий компьютерного зрения на базе искусственного интеллекта для анализа медицинских изображений':\n",
    "        merged_df['Nominations'][i] = 'Здоровье и медицина'\n",
    "    if merged_df['TitleCompany'][i] == 'MOEX':\n",
    "        merged_df['Nominations'][i] = 'Экономика и Бизнес'    "
   ]
  },
  {
   "cell_type": "code",
   "execution_count": 74,
   "id": "f623a579",
   "metadata": {},
   "outputs": [
    {
     "data": {
      "text/html": [
       "<div>\n",
       "<style scoped>\n",
       "    .dataframe tbody tr th:only-of-type {\n",
       "        vertical-align: middle;\n",
       "    }\n",
       "\n",
       "    .dataframe tbody tr th {\n",
       "        vertical-align: top;\n",
       "    }\n",
       "\n",
       "    .dataframe thead th {\n",
       "        text-align: right;\n",
       "    }\n",
       "</style>\n",
       "<table border=\"1\" class=\"dataframe\">\n",
       "  <thead>\n",
       "    <tr style=\"text-align: right;\">\n",
       "      <th></th>\n",
       "      <th>TitleCompany</th>\n",
       "      <th>Reiting</th>\n",
       "      <th>DatePublish</th>\n",
       "      <th>TextPost</th>\n",
       "      <th>Categories</th>\n",
       "      <th>TextPostLemat</th>\n",
       "      <th>TextPostToken</th>\n",
       "      <th>bigram</th>\n",
       "      <th>trigram</th>\n",
       "      <th>keyword</th>\n",
       "      <th>count_matrix</th>\n",
       "      <th>Nominations</th>\n",
       "    </tr>\n",
       "  </thead>\n",
       "  <tbody>\n",
       "    <tr>\n",
       "      <th>499</th>\n",
       "      <td>Здоровье.ру</td>\n",
       "      <td>Пусто</td>\n",
       "      <td>19 ноября</td>\n",
       "      <td>Сервис «Работа.ру» провёл опрос среди шести ты...</td>\n",
       "      <td>Пусто</td>\n",
       "      <td>сервис работа проводить опрос среди шесть тыся...</td>\n",
       "      <td>[сервис, работа, проводить, опрос, среди, шест...</td>\n",
       "      <td>[(сервис, работа), (работа, проводить), (прово...</td>\n",
       "      <td>[(сервис, работа, проводить), (работа, проводи...</td>\n",
       "      <td>работа, респондент, опрос, работать, опрашиват...</td>\n",
       "      <td>(0, 468)\\t3\\n  (0, 362)\\t10\\n  (0, 347)\\t2\\n...</td>\n",
       "      <td>Здоровье и медицина</td>\n",
       "    </tr>\n",
       "    <tr>\n",
       "      <th>566</th>\n",
       "      <td>Здоровье.ру</td>\n",
       "      <td>Пусто</td>\n",
       "      <td>28 мая</td>\n",
       "      <td>Приезжая в Питер, нужно обязательно посетить Э...</td>\n",
       "      <td>Пусто</td>\n",
       "      <td>приезжать питер нужно обязательно посещать эрм...</td>\n",
       "      <td>[приезжать, питер, нужно, обязательно, посещат...</td>\n",
       "      <td>[(приезжать, питер), (питер, нужно), (нужно, о...</td>\n",
       "      <td>[(приезжать, питер, нужно), (питер, нужно, обя...</td>\n",
       "      <td>рубль, рынок, продавец, блошиный, купить, цена...</td>\n",
       "      <td>(0, 1077)\\t1\\n  (0, 912)\\t1\\n  (0, 775)\\t2\\n...</td>\n",
       "      <td>Здоровье и медицина</td>\n",
       "    </tr>\n",
       "    <tr>\n",
       "      <th>585</th>\n",
       "      <td>Здоровье.ру</td>\n",
       "      <td>Пусто</td>\n",
       "      <td>15 апреля</td>\n",
       "      <td>Часть 1Перенос полученных знаний в HAПришло вр...</td>\n",
       "      <td>Пусто</td>\n",
       "      <td>часть перенос получать знание haпришло время п...</td>\n",
       "      <td>[часть, перенос, получать, знание, haпришло, в...</td>\n",
       "      <td>[(часть, перенос), (перенос, получать), (получ...</td>\n",
       "      <td>[(часть, перенос, получать), (перенос, получат...</td>\n",
       "      <td>preset, day, time, приложение, устройство, tem...</td>\n",
       "      <td>(0, 792)\\t1\\n  (0, 589)\\t1\\n  (0, 609)\\t3\\n ...</td>\n",
       "      <td>Здоровье и медицина</td>\n",
       "    </tr>\n",
       "    <tr>\n",
       "      <th>895</th>\n",
       "      <td>Промобот</td>\n",
       "      <td>Пусто</td>\n",
       "      <td>15 июня</td>\n",
       "      <td>Роботы уже перестали быть героями фантастическ...</td>\n",
       "      <td>Пусто</td>\n",
       "      <td>робот переставать герой фантастический фильм г...</td>\n",
       "      <td>[робот, переставать, герой, фантастический, фи...</td>\n",
       "      <td>[(робот, переставать), (переставать, герой), (...</td>\n",
       "      <td>[(робот, переставать, герой), (переставать, ге...</td>\n",
       "      <td>робот, робототехника, мочь, человек, рабочий, ...</td>\n",
       "      <td>(0, 719)\\t19\\n  (0, 503)\\t1\\n  (0, 123)\\t1\\n...</td>\n",
       "      <td>Наука, технологии и инновации</td>\n",
       "    </tr>\n",
       "    <tr>\n",
       "      <th>1087</th>\n",
       "      <td>Студия Артемия Лебедева</td>\n",
       "      <td>Пусто</td>\n",
       "      <td>15 марта</td>\n",
       "      <td>11-й «Российский Интернет Форум» (РИФ-2007) пр...</td>\n",
       "      <td>Пусто</td>\n",
       "      <td>российский интернет форум риф пройти новый фор...</td>\n",
       "      <td>[российский, интернет, форум, риф, пройти, нов...</td>\n",
       "      <td>[(российский, интернет), (интернет, форум), (ф...</td>\n",
       "      <td>[(российский, интернет, форум), (интернет, фор...</td>\n",
       "      <td>риф, мероприятие, интернет, форум, первый, выс...</td>\n",
       "      <td>(0, 298)\\t2\\n  (0, 87)\\t3\\n  (0, 378)\\t3\\n  ...</td>\n",
       "      <td>Креативные индустрии</td>\n",
       "    </tr>\n",
       "    <tr>\n",
       "      <th>1895</th>\n",
       "      <td>Нетология</td>\n",
       "      <td>89.34</td>\n",
       "      <td>19  мая  2017 в 15:33</td>\n",
       "      <td>Data Scientist — это эксперт по аналитическим...</td>\n",
       "      <td>веб разработка дизайн и юзабилити реклама и м...</td>\n",
       "      <td>data scientist эксперт аналитический данные об...</td>\n",
       "      <td>[data, scientist, эксперт, аналитический, данн...</td>\n",
       "      <td>[(data, scientist), (scientist, эксперт), (экс...</td>\n",
       "      <td>[(data, scientist, эксперт), (scientist, экспе...</td>\n",
       "      <td>data, данные, обучение, scientist, машинный, з...</td>\n",
       "      <td>(0, 19)\\t20\\n  (0, 116)\\t12\\n  (0, 1505)\\t1\\...</td>\n",
       "      <td>Образование и Кадры</td>\n",
       "    </tr>\n",
       "    <tr>\n",
       "      <th>1575</th>\n",
       "      <td>Нетология</td>\n",
       "      <td>89.34</td>\n",
       "      <td>4  июн  2021 в 14:49</td>\n",
       "      <td>Unreal Engine 4 используют как крупные компан...</td>\n",
       "      <td>веб разработка дизайн и юзабилити реклама и м...</td>\n",
       "      <td>unreal engine использовать крупный компания не...</td>\n",
       "      <td>[unreal, engine, использовать, крупный, компан...</td>\n",
       "      <td>[(unreal, engine), (engine, использовать), (ис...</td>\n",
       "      <td>[(unreal, engine, использовать), (engine, испо...</td>\n",
       "      <td>blueprints, игра, unreal, engine, движок, гейм...</td>\n",
       "      <td>(0, 188)\\t12\\n  (0, 80)\\t12\\n  (0, 731)\\t8\\n...</td>\n",
       "      <td>Образование и Кадры</td>\n",
       "    </tr>\n",
       "    <tr>\n",
       "      <th>1835</th>\n",
       "      <td>Samsung Electronics</td>\n",
       "      <td>70.64</td>\n",
       "      <td>15  ноя  2012 в 14:52</td>\n",
       "      <td>Добрый день, Хабр!\\n\\r\\nСегодня мы публикуем ...</td>\n",
       "      <td>связь и телекоммуникации мобильные технологии</td>\n",
       "      <td>добрый день хабр сегодня публиковать второй за...</td>\n",
       "      <td>[добрый, день, хабр, сегодня, публиковать, вто...</td>\n",
       "      <td>[(добрый, день), (день, хабр), (хабр, сегодня)...</td>\n",
       "      <td>[(добрый, день, хабр), (день, хабр, сегодня), ...</td>\n",
       "      <td>камера, galaxy, camera, хороший, черный, устро...</td>\n",
       "      <td>(0, 367)\\t1\\n  (0, 353)\\t1\\n  (0, 1340)\\t1\\n...</td>\n",
       "      <td>Образование и Кадры</td>\n",
       "    </tr>\n",
       "    <tr>\n",
       "      <th>916</th>\n",
       "      <td>Студия Артемия Лебедева</td>\n",
       "      <td>Пусто</td>\n",
       "      <td>5 июля</td>\n",
       "      <td>Допустим, у вас есть &gt;100'000 изображений, кот...</td>\n",
       "      <td>Пусто</td>\n",
       "      <td>допускать изображение рассортировывать удобно ...</td>\n",
       "      <td>[допускать, изображение, рассортировывать, удо...</td>\n",
       "      <td>[(допускать, изображение), (изображение, рассо...</td>\n",
       "      <td>[(допускать, изображение, рассортировывать), (...</td>\n",
       "      <td>папка, тег, файл, изображение, слово, ключевой...</td>\n",
       "      <td>(0, 739)\\t3\\n  (0, 935)\\t22\\n  (0, 2229)\\t1\\...</td>\n",
       "      <td>Креативные индустрии</td>\n",
       "    </tr>\n",
       "    <tr>\n",
       "      <th>1112</th>\n",
       "      <td>Skillbox</td>\n",
       "      <td>120.11</td>\n",
       "      <td>18  апр   в 15:42</td>\n",
       "      <td>Микросервисы становятся все более популярным ...</td>\n",
       "      <td>веб разработка дизайн и юзабилити реклама и м...</td>\n",
       "      <td>микросервис становиться популярный способ созд...</td>\n",
       "      <td>[микросервис, становиться, популярный, способ,...</td>\n",
       "      <td>[(микросервис, становиться), (становиться, поп...</td>\n",
       "      <td>[(микросервис, становиться, популярный), (стан...</td>\n",
       "      <td>микросервис, книга, архитектура, приложение, м...</td>\n",
       "      <td>(0, 1141)\\t70\\n  (0, 2873)\\t3\\n  (0, 1986)\\t...</td>\n",
       "      <td>Наука, технологии и инновации</td>\n",
       "    </tr>\n",
       "    <tr>\n",
       "      <th>1487</th>\n",
       "      <td>Samsung Electronics</td>\n",
       "      <td>70.64</td>\n",
       "      <td>6  ноя  2014 в 10:03</td>\n",
       "      <td>Добрый день Хабр!\\n\\r\\nВот и подошел к концу ...</td>\n",
       "      <td>связь и телекоммуникации мобильные технологии</td>\n",
       "      <td>добрый день хабр подходить конец глобальный ко...</td>\n",
       "      <td>[добрый, день, хабр, подходить, конец, глобаль...</td>\n",
       "      <td>[(добрый, день), (день, хабр), (хабр, подходит...</td>\n",
       "      <td>[(добрый, день, хабр), (день, хабр, подходить)...</td>\n",
       "      <td>приложение, конкурс, голосование, app, challen...</td>\n",
       "      <td>(0, 141)\\t1\\n  (0, 138)\\t1\\n  (0, 422)\\t1\\n ...</td>\n",
       "      <td>Образование и Кадры</td>\n",
       "    </tr>\n",
       "    <tr>\n",
       "      <th>1850</th>\n",
       "      <td>Samsung Electronics</td>\n",
       "      <td>70.64</td>\n",
       "      <td>2  сен  2012 в 12:56</td>\n",
       "      <td>Так уж получилось, что вокруг меня просто куч...</td>\n",
       "      <td>связь и телекоммуникации мобильные технологии</td>\n",
       "      <td>получаться вокруг просто куча samsung девайс g...</td>\n",
       "      <td>[получаться, вокруг, просто, куча, samsung, де...</td>\n",
       "      <td>[(получаться, вокруг), (вокруг, просто), (прос...</td>\n",
       "      <td>[(получаться, вокруг, просто), (вокруг, просто...</td>\n",
       "      <td>экран, телефон, iii, просто, samsung, galaxy, ...</td>\n",
       "      <td>(0, 3177)\\t2\\n  (0, 755)\\t2\\n  (0, 3453)\\t16...</td>\n",
       "      <td>Образование и Кадры</td>\n",
       "    </tr>\n",
       "    <tr>\n",
       "      <th>923</th>\n",
       "      <td>Студия Артемия Лебедева</td>\n",
       "      <td>Пусто</td>\n",
       "      <td>27 июня</td>\n",
       "      <td>Путешествие — не только возможность увидеть чт...</td>\n",
       "      <td>Пусто</td>\n",
       "      <td>путешествие возможность увидеть новый изменять...</td>\n",
       "      <td>[путешествие, возможность, увидеть, новый, изм...</td>\n",
       "      <td>[(путешествие, возможность), (возможность, уви...</td>\n",
       "      <td>[(путешествие, возможность, увидеть), (возможн...</td>\n",
       "      <td>человек, время, новый, год, мочь, интернет, ра...</td>\n",
       "      <td>(0, 6108)\\t6\\n  (0, 968)\\t12\\n  (0, 7844)\\t6...</td>\n",
       "      <td>Креативные индустрии</td>\n",
       "    </tr>\n",
       "    <tr>\n",
       "      <th>55</th>\n",
       "      <td>Gett</td>\n",
       "      <td>Пусто</td>\n",
       "      <td>21 июня</td>\n",
       "      <td>Привет! Меня зовут Виталий Костоусов, я работа...</td>\n",
       "      <td>Пусто</td>\n",
       "      <td>привет звать виталий костоусов работать команд...</td>\n",
       "      <td>[привет, звать, виталий, костоусов, работать, ...</td>\n",
       "      <td>[(привет, звать), (звать, виталий), (виталий, ...</td>\n",
       "      <td>[(привет, звать, виталий), (звать, виталий, ко...</td>\n",
       "      <td>проблема, сервис, работать, работа, команда, м...</td>\n",
       "      <td>(0, 1646)\\t1\\n  (0, 636)\\t1\\n  (0, 357)\\t1\\n...</td>\n",
       "      <td>Наука, технологии и инновации</td>\n",
       "    </tr>\n",
       "    <tr>\n",
       "      <th>1044</th>\n",
       "      <td>Студия Артемия Лебедева</td>\n",
       "      <td>Пусто</td>\n",
       "      <td>2 апреля</td>\n",
       "      <td>Посещяя сайты я хотел бы, чтобы все на них был...</td>\n",
       "      <td>Пусто</td>\n",
       "      <td>посещяй сайт хотеть весь наглядно понятный пос...</td>\n",
       "      <td>[посещяй, сайт, хотеть, весь, наглядно, понятн...</td>\n",
       "      <td>[(посещяй, сайт), (сайт, хотеть), (хотеть, вес...</td>\n",
       "      <td>[(посещяй, сайт, хотеть), (сайт, хотеть, весь)...</td>\n",
       "      <td>ссылка, внутренний, способ, сайт, выделять, цв...</td>\n",
       "      <td>(0, 304)\\t1\\n  (0, 383)\\t4\\n  (0, 501)\\t1\\n ...</td>\n",
       "      <td>Креативные индустрии</td>\n",
       "    </tr>\n",
       "    <tr>\n",
       "      <th>513</th>\n",
       "      <td>Здоровье.ру</td>\n",
       "      <td>Пусто</td>\n",
       "      <td>11 октября</td>\n",
       "      <td>Выбрал пять мощнейших книг, которые прокачают ...</td>\n",
       "      <td>Пусто</td>\n",
       "      <td>выбирать пять мощный книга прокачивать память ...</td>\n",
       "      <td>[выбирать, пять, мощный, книга, прокачивать, п...</td>\n",
       "      <td>[(выбирать, пять), (пять, мощный), (мощный, кн...</td>\n",
       "      <td>[(выбирать, пять, мощный), (пять, мощный, книг...</td>\n",
       "      <td>работа, память, запоминать, книга, информация,...</td>\n",
       "      <td>(0, 196)\\t1\\n  (0, 1310)\\t1\\n  (0, 723)\\t1\\n...</td>\n",
       "      <td>Здоровье и медицина</td>\n",
       "    </tr>\n",
       "    <tr>\n",
       "      <th>1241</th>\n",
       "      <td>Учи.ру team</td>\n",
       "      <td>51.97</td>\n",
       "      <td>10  фев  2022 в 10:33</td>\n",
       "      <td>Признаем: сложно организовать работающую сист...</td>\n",
       "      <td>веб разработка программное обеспечение произв...</td>\n",
       "      <td>признавать сложно организовывать работать сист...</td>\n",
       "      <td>[признавать, сложно, организовывать, работать,...</td>\n",
       "      <td>[(признавать, сложно), (сложно, организовывать...</td>\n",
       "      <td>[(признавать, сложно, организовывать), (сложно...</td>\n",
       "      <td>стажировка, стажер, работа, проект, программир...</td>\n",
       "      <td>(0, 621)\\t1\\n  (0, 837)\\t1\\n  (0, 424)\\t1\\n ...</td>\n",
       "      <td>Образование и Кадры</td>\n",
       "    </tr>\n",
       "    <tr>\n",
       "      <th>1286</th>\n",
       "      <td>Skillbox</td>\n",
       "      <td>120.11</td>\n",
       "      <td>14  апр  2021 в 13:41</td>\n",
       "      <td>\\n\\r\\nЗа последние несколько лет машинное обу...</td>\n",
       "      <td>веб разработка дизайн и юзабилити реклама и м...</td>\n",
       "      <td>последний несколько год машинный обучение data...</td>\n",
       "      <td>[последний, несколько, год, машинный, обучение...</td>\n",
       "      <td>[(последний, несколько), (несколько, год), (го...</td>\n",
       "      <td>[(последний, несколько, год), (несколько, год,...</td>\n",
       "      <td>result, analytics, print, результат, строка, f...</td>\n",
       "      <td>(0, 1591)\\t3\\n  (0, 1318)\\t7\\n  (0, 854)\\t2\\...</td>\n",
       "      <td>Наука, технологии и инновации</td>\n",
       "    </tr>\n",
       "    <tr>\n",
       "      <th>1683</th>\n",
       "      <td>Нетология</td>\n",
       "      <td>89.34</td>\n",
       "      <td>13  ноя  2019 в 11:26</td>\n",
       "      <td>Маркетолог в Otzyvmarketing Станислав Романов...</td>\n",
       "      <td>веб разработка дизайн и юзабилити реклама и м...</td>\n",
       "      <td>маркетолог otzyvmarketing станислав романов ра...</td>\n",
       "      <td>[маркетолог, otzyvmarketing, станислав, романо...</td>\n",
       "      <td>[(маркетолог, otzyvmarketing), (otzyvmarketing...</td>\n",
       "      <td>[(маркетолог, otzyvmarketing, станислав), (otz...</td>\n",
       "      <td>gtm, тег, сайт, переменный, данные, создавать,...</td>\n",
       "      <td>(0, 721)\\t3\\n  (0, 158)\\t1\\n  (0, 1541)\\t1\\n...</td>\n",
       "      <td>Образование и Кадры</td>\n",
       "    </tr>\n",
       "    <tr>\n",
       "      <th>551</th>\n",
       "      <td>Здоровье.ру</td>\n",
       "      <td>Пусто</td>\n",
       "      <td>18 июня</td>\n",
       "      <td>Статья-продолжение первой части, в которой не ...</td>\n",
       "      <td>Пусто</td>\n",
       "      <td>статья продолжение первый часть умещаться хоте...</td>\n",
       "      <td>[статья, продолжение, первый, часть, умещаться...</td>\n",
       "      <td>[(статья, продолжение), (продолжение, первый),...</td>\n",
       "      <td>[(статья, продолжение, первый), (продолжение, ...</td>\n",
       "      <td>vim, файл, set, let, использовать, весь, строк...</td>\n",
       "      <td>(0, 21788)\\t6\\n  (0, 19274)\\t1\\n  (0, 17269)...</td>\n",
       "      <td>Здоровье и медицина</td>\n",
       "    </tr>\n",
       "    <tr>\n",
       "      <th>694</th>\n",
       "      <td>Здоровье.ру</td>\n",
       "      <td>Пусто</td>\n",
       "      <td>14 мая</td>\n",
       "      <td>За 20 лет работы в IT я выступал десятки раз.\\...</td>\n",
       "      <td>Пусто</td>\n",
       "      <td>год работа выступать десяток мэйл конференция ...</td>\n",
       "      <td>[год, работа, выступать, десяток, мэйл, конфер...</td>\n",
       "      <td>[(год, работа), (работа, выступать), (выступат...</td>\n",
       "      <td>[(год, работа, выступать), (работа, выступать,...</td>\n",
       "      <td>выступление, рассказывать, выступать, слайд, в...</td>\n",
       "      <td>(0, 385)\\t6\\n  (0, 1581)\\t1\\n  (0, 274)\\t15\\...</td>\n",
       "      <td>Здоровье и медицина</td>\n",
       "    </tr>\n",
       "    <tr>\n",
       "      <th>1579</th>\n",
       "      <td>Нетология</td>\n",
       "      <td>89.34</td>\n",
       "      <td>29  янв  2021 в 17:04</td>\n",
       "      <td>Личный бренд IT-специалиста — тема непростая....</td>\n",
       "      <td>веб разработка дизайн и юзабилити реклама и м...</td>\n",
       "      <td>личный бренд специалист тема непростой момент ...</td>\n",
       "      <td>[личный, бренд, специалист, тема, непростой, м...</td>\n",
       "      <td>[(личный, бренд), (бренд, специалист), (специа...</td>\n",
       "      <td>[(личный, бренд, специалист), (бренд, специали...</td>\n",
       "      <td>выступление, конференция, тема, выступать, опы...</td>\n",
       "      <td>(0, 1159)\\t3\\n  (0, 256)\\t2\\n  (0, 2778)\\t8\\...</td>\n",
       "      <td>Образование и Кадры</td>\n",
       "    </tr>\n",
       "    <tr>\n",
       "      <th>1281</th>\n",
       "      <td>Skillbox</td>\n",
       "      <td>120.11</td>\n",
       "      <td>6  сен  2021 в 15:38</td>\n",
       "      <td>Привет, Хабр! Меня зовут Даниил Пилипенко, я ...</td>\n",
       "      <td>веб разработка дизайн и юзабилити реклама и м...</td>\n",
       "      <td>привет хабр звать даниил пилипенко программный...</td>\n",
       "      <td>[привет, хабр, звать, даниил, пилипенко, прогр...</td>\n",
       "      <td>[(привет, хабр), (хабр, звать), (звать, даниил...</td>\n",
       "      <td>[(привет, хабр, звать), (хабр, звать, даниил),...</td>\n",
       "      <td>обучение, работа, разработка, java, учиться, р...</td>\n",
       "      <td>(0, 1043)\\t1\\n  (0, 1625)\\t1\\n  (0, 378)\\t1\\...</td>\n",
       "      <td>Наука, технологии и инновации</td>\n",
       "    </tr>\n",
       "    <tr>\n",
       "      <th>1002</th>\n",
       "      <td>Студия Артемия Лебедева</td>\n",
       "      <td>Пусто</td>\n",
       "      <td>10 ноября</td>\n",
       "      <td>Если вы один из тех людей, кто постоянно имеет...</td>\n",
       "      <td>Пусто</td>\n",
       "      <td>человек постоянно иметь дело мерный графика ск...</td>\n",
       "      <td>[человек, постоянно, иметь, дело, мерный, граф...</td>\n",
       "      <td>[(человек, постоянно), (постоянно, иметь), (им...</td>\n",
       "      <td>[(человек, постоянно, иметь), (постоянно, имет...</td>\n",
       "      <td>графика, знать, чайник, director, designer, че...</td>\n",
       "      <td>(0, 187)\\t1\\n  (0, 140)\\t1\\n  (0, 104)\\t1\\n ...</td>\n",
       "      <td>Креативные индустрии</td>\n",
       "    </tr>\n",
       "    <tr>\n",
       "      <th>69</th>\n",
       "      <td>Gett</td>\n",
       "      <td>Пусто</td>\n",
       "      <td>20 августа</td>\n",
       "      <td>5 сентября стартует базовый курс Android Acade...</td>\n",
       "      <td>Пусто</td>\n",
       "      <td>сентябрь стартовать базовый курс android acade...</td>\n",
       "      <td>[сентябрь, стартовать, базовый, курс, android,...</td>\n",
       "      <td>[(сентябрь, стартовать), (стартовать, базовый)...</td>\n",
       "      <td>[(сентябрь, стартовать, базовый), (стартовать,...</td>\n",
       "      <td>android, курс, academy, разработчик, разработк...</td>\n",
       "      <td>(0, 1504)\\t1\\n  (0, 1617)\\t2\\n  (0, 318)\\t2\\...</td>\n",
       "      <td>Наука, технологии и инновации</td>\n",
       "    </tr>\n",
       "    <tr>\n",
       "      <th>2006</th>\n",
       "      <td>Samsung Electronics</td>\n",
       "      <td>70.64</td>\n",
       "      <td>11  апр  2010 в 10:39</td>\n",
       "      <td>15 апреля, Из концертного зала Мариинского те...</td>\n",
       "      <td>связь и телекоммуникации мобильные технологии</td>\n",
       "      <td>апрель концертный зал мариинский театр состоят...</td>\n",
       "      <td>[апрель, концертный, зал, мариинский, театр, с...</td>\n",
       "      <td>[(апрель, концертный), (концертный, зал), (зал...</td>\n",
       "      <td>[(апрель, концертный, зал), (концертный, зал, ...</td>\n",
       "      <td>балет, мариинский, театр, формат, гала, концер...</td>\n",
       "      <td>(0, 6)\\t1\\n  (0, 98)\\t1\\n  (0, 58)\\t1\\n  (0,...</td>\n",
       "      <td>Образование и Кадры</td>\n",
       "    </tr>\n",
       "    <tr>\n",
       "      <th>1619</th>\n",
       "      <td>Samsung Electronics</td>\n",
       "      <td>70.64</td>\n",
       "      <td>21  янв  2014 в 12:20</td>\n",
       "      <td>Добрый день, Хабр!\\n\\r\\nМы продолжаем писать ...</td>\n",
       "      <td>связь и телекоммуникации мобильные технологии</td>\n",
       "      <td>добрый день хабр продолжать писать новинка пре...</td>\n",
       "      <td>[добрый, день, хабр, продолжать, писать, новин...</td>\n",
       "      <td>[(добрый, день), (день, хабр), (хабр, продолжа...</td>\n",
       "      <td>[(добрый, день, хабр), (день, хабр, продолжать...</td>\n",
       "      <td>smart, home, samsung, сервис, техника, устройс...</td>\n",
       "      <td>(0, 205)\\t1\\n  (0, 196)\\t1\\n  (0, 755)\\t1\\n ...</td>\n",
       "      <td>Образование и Кадры</td>\n",
       "    </tr>\n",
       "    <tr>\n",
       "      <th>1465</th>\n",
       "      <td>Skillbox</td>\n",
       "      <td>120.11</td>\n",
       "      <td>6  июн  2019 в 17:40</td>\n",
       "      <td>\\n\\r\\nContinuous Deployment (непрерывное разв...</td>\n",
       "      <td>веб разработка дизайн и юзабилити реклама и м...</td>\n",
       "      <td>continuous deployment непрерывный развертывани...</td>\n",
       "      <td>[continuous, deployment, непрерывный, разверты...</td>\n",
       "      <td>[(continuous, deployment), (deployment, непрер...</td>\n",
       "      <td>[(continuous, deployment, непрерывный), (deplo...</td>\n",
       "      <td>сборка, jenkins, apt, работа, агент, gocd, инс...</td>\n",
       "      <td>(0, 46)\\t1\\n  (0, 61)\\t1\\n  (0, 1004)\\t3\\n  ...</td>\n",
       "      <td>Наука, технологии и инновации</td>\n",
       "    </tr>\n",
       "    <tr>\n",
       "      <th>959</th>\n",
       "      <td>Студия Артемия Лебедева</td>\n",
       "      <td>Пусто</td>\n",
       "      <td>26 мая</td>\n",
       "      <td>Последние несколько недель прошли с ощущением ...</td>\n",
       "      <td>Пусто</td>\n",
       "      <td>последний несколько неделя проходить ощущение ...</td>\n",
       "      <td>[последний, несколько, неделя, проходить, ощущ...</td>\n",
       "      <td>[(последний, несколько), (несколько, неделя), ...</td>\n",
       "      <td>[(последний, несколько, неделя), (несколько, н...</td>\n",
       "      <td>магазин, розетка, ремонт, рубль, стена, день, ...</td>\n",
       "      <td>(0, 4348)\\t3\\n  (0, 3052)\\t5\\n  (0, 2996)\\t3...</td>\n",
       "      <td>Креативные индустрии</td>\n",
       "    </tr>\n",
       "    <tr>\n",
       "      <th>891</th>\n",
       "      <td>Промобот</td>\n",
       "      <td>Пусто</td>\n",
       "      <td>19 февраля</td>\n",
       "      <td>По последним данным ВЦИОМ, 88% россиян позитив...</td>\n",
       "      <td>Пусто</td>\n",
       "      <td>последний данные вциом россиянин позитивно ней...</td>\n",
       "      <td>[последний, данные, вциом, россиянин, позитивн...</td>\n",
       "      <td>[(последний, данные), (данные, вциом), (вциом,...</td>\n",
       "      <td>[(последний, данные, вциом), (данные, вциом, р...</td>\n",
       "      <td>робот, человек, взаимодействие, исследование, ...</td>\n",
       "      <td>(0, 1200)\\t3\\n  (0, 351)\\t2\\n  (0, 228)\\t1\\n...</td>\n",
       "      <td>Наука, технологии и инновации</td>\n",
       "    </tr>\n",
       "    <tr>\n",
       "      <th>1106</th>\n",
       "      <td>Федерация креативных индустрий</td>\n",
       "      <td>Пусто</td>\n",
       "      <td>1 мая</td>\n",
       "      <td>Как менеджер, вы должны заботиться о ваших сот...</td>\n",
       "      <td>Пусто</td>\n",
       "      <td>менеджер должный заботиться сотрудник поддержи...</td>\n",
       "      <td>[менеджер, должный, заботиться, сотрудник, под...</td>\n",
       "      <td>[(менеджер, должный), (должный, заботиться), (...</td>\n",
       "      <td>[(менеджер, должный, заботиться), (должный, за...</td>\n",
       "      <td>команда, говорить, стресс, человек, работа, мо...</td>\n",
       "      <td>(0, 1005)\\t1\\n  (0, 520)\\t3\\n  (0, 602)\\t4\\n...</td>\n",
       "      <td>Креативные индустрии</td>\n",
       "    </tr>\n",
       "    <tr>\n",
       "      <th>1822</th>\n",
       "      <td>Skillbox</td>\n",
       "      <td>120.11</td>\n",
       "      <td>28  июн  2018 в 10:48</td>\n",
       "      <td>Disclaimer: эта статья подготовлена Skillbox ...</td>\n",
       "      <td>веб разработка дизайн и юзабилити реклама и м...</td>\n",
       "      <td>disclaimer статья подготовить skillbox совмест...</td>\n",
       "      <td>[disclaimer, статья, подготовить, skillbox, со...</td>\n",
       "      <td>[(disclaimer, статья), (статья, подготовить), ...</td>\n",
       "      <td>[(disclaimer, статья, подготовить), (статья, п...</td>\n",
       "      <td>язык, время, программирование, мочь, становить...</td>\n",
       "      <td>(0, 17)\\t1\\n  (0, 1742)\\t1\\n  (0, 1119)\\t1\\n...</td>\n",
       "      <td>Наука, технологии и инновации</td>\n",
       "    </tr>\n",
       "    <tr>\n",
       "      <th>539</th>\n",
       "      <td>Здоровье.ру</td>\n",
       "      <td>Пусто</td>\n",
       "      <td>2 августа</td>\n",
       "      <td>На Хабре уже 8 лет просят: «Никогда не отвлека...</td>\n",
       "      <td>Пусто</td>\n",
       "      <td>хабер год просить отвлекать программист написа...</td>\n",
       "      <td>[хабер, год, просить, отвлекать, программист, ...</td>\n",
       "      <td>[(хабер, год), (год, просить), (просить, отвле...</td>\n",
       "      <td>[(хабер, год, просить), (год, просить, отвлека...</td>\n",
       "      <td>работа, книга, год, время, весь, история, час,...</td>\n",
       "      <td>(0, 6042)\\t1\\n  (0, 972)\\t25\\n  (0, 4386)\\t4...</td>\n",
       "      <td>Здоровье и медицина</td>\n",
       "    </tr>\n",
       "    <tr>\n",
       "      <th>1623</th>\n",
       "      <td>Нетология</td>\n",
       "      <td>89.34</td>\n",
       "      <td>28  авг  2020 в 14:09</td>\n",
       "      <td>Сегодня дизайнер не принимает решения только ...</td>\n",
       "      <td>веб разработка дизайн и юзабилити реклама и м...</td>\n",
       "      <td>сегодня дизайнер принимать решение основа опыт...</td>\n",
       "      <td>[сегодня, дизайнер, принимать, решение, основа...</td>\n",
       "      <td>[(сегодня, дизайнер), (дизайнер, принимать), (...</td>\n",
       "      <td>[(сегодня, дизайнер, принимать), (дизайнер, пр...</td>\n",
       "      <td>пользователь, исследование, продукт, клиент, с...</td>\n",
       "      <td>(0, 2387)\\t1\\n  (0, 449)\\t5\\n  (0, 1895)\\t1\\...</td>\n",
       "      <td>Образование и Кадры</td>\n",
       "    </tr>\n",
       "    <tr>\n",
       "      <th>855</th>\n",
       "      <td>Иннотех</td>\n",
       "      <td>47.73</td>\n",
       "      <td>8 декабря</td>\n",
       "      <td>7 декабря состоялась церемония награждения лау...</td>\n",
       "      <td>Пусто</td>\n",
       "      <td>декабрь состояться церемония награждение лауре...</td>\n",
       "      <td>[декабрь, состояться, церемония, награждение, ...</td>\n",
       "      <td>[(декабрь, состояться), (состояться, церемония...</td>\n",
       "      <td>[(декабрь, состояться, церемония), (состояться...</td>\n",
       "      <td>номинация, проект, москва, премия, рунет, разв...</td>\n",
       "      <td>(0, 224)\\t1\\n  (0, 838)\\t1\\n  (0, 966)\\t1\\n ...</td>\n",
       "      <td>Наука, технологии и инновации</td>\n",
       "    </tr>\n",
       "    <tr>\n",
       "      <th>1016</th>\n",
       "      <td>Студия Артемия Лебедева</td>\n",
       "      <td>Пусто</td>\n",
       "      <td>2 апреля</td>\n",
       "      <td>Просмотрел много админок… в одной хорошо то, а...</td>\n",
       "      <td>Пусто</td>\n",
       "      <td>просматривать админки сделать супер админка тр...</td>\n",
       "      <td>[просматривать, админки, сделать, супер, админ...</td>\n",
       "      <td>[(просматривать, админки), (админки, сделать),...</td>\n",
       "      <td>[(просматривать, админки, сделать), (админки, ...</td>\n",
       "      <td>панель, админк, админки, админка, вроде, решен...</td>\n",
       "      <td>(0, 159)\\t1\\n  (0, 38)\\t2\\n  (0, 188)\\t1\\n  ...</td>\n",
       "      <td>Креативные индустрии</td>\n",
       "    </tr>\n",
       "    <tr>\n",
       "      <th>113</th>\n",
       "      <td>Gett</td>\n",
       "      <td>Пусто</td>\n",
       "      <td>5 ноября</td>\n",
       "      <td>Рубрика «Как работают профессионалы» продолжае...</td>\n",
       "      <td>Пусто</td>\n",
       "      <td>рубрика работать профессионал продолжать знако...</td>\n",
       "      <td>[рубрика, работать, профессионал, продолжать, ...</td>\n",
       "      <td>[(рубрика, работать), (работать, профессионал)...</td>\n",
       "      <td>[(рубрика, работать, профессионал), (работать,...</td>\n",
       "      <td>книга, читать, человек, работа, работать, врем...</td>\n",
       "      <td>(0, 607)\\t1\\n  (0, 564)\\t4\\n  (0, 538)\\t1\\n ...</td>\n",
       "      <td>Наука, технологии и инновации</td>\n",
       "    </tr>\n",
       "    <tr>\n",
       "      <th>413</th>\n",
       "      <td>Skillbox</td>\n",
       "      <td>113.82</td>\n",
       "      <td>13 июля</td>\n",
       "      <td>В прошлый раз мы публиковали нашу подборку веб...</td>\n",
       "      <td>Пусто</td>\n",
       "      <td>прошлый публиковать подборка вебинар суббота р...</td>\n",
       "      <td>[прошлый, публиковать, подборка, вебинар, субб...</td>\n",
       "      <td>[(прошлый, публиковать), (публиковать, подборк...</td>\n",
       "      <td>[(прошлый, публиковать, подборка), (публиковат...</td>\n",
       "      <td>php, вебинар, разработчик, рассказывать, работ...</td>\n",
       "      <td>(0, 378)\\t1\\n  (0, 381)\\t1\\n  (0, 283)\\t2\\n ...</td>\n",
       "      <td>Наука, технологии и инновации</td>\n",
       "    </tr>\n",
       "    <tr>\n",
       "      <th>285</th>\n",
       "      <td>Skillbox</td>\n",
       "      <td>113.82</td>\n",
       "      <td>1 августа</td>\n",
       "      <td>OpenCV — библиотека, разработанная для проекто...</td>\n",
       "      <td>Пусто</td>\n",
       "      <td>opencv библиотека разрабатывать проект компьют...</td>\n",
       "      <td>[opencv, библиотека, разрабатывать, проект, ко...</td>\n",
       "      <td>[(opencv, библиотека), (библиотека, разрабатыв...</td>\n",
       "      <td>[(opencv, библиотека, разрабатывать), (библиот...</td>\n",
       "      <td>gocv, img, window, создавать, webcam, defer, c...</td>\n",
       "      <td>(0, 274)\\t7\\n  (0, 443)\\t2\\n  (0, 1022)\\t2\\n...</td>\n",
       "      <td>Наука, технологии и инновации</td>\n",
       "    </tr>\n",
       "    <tr>\n",
       "      <th>642</th>\n",
       "      <td>Здоровье.ру</td>\n",
       "      <td>Пусто</td>\n",
       "      <td>8 ноября</td>\n",
       "      <td>“Если ваш путь лишён препятствий, скорее всего...</td>\n",
       "      <td>Пусто</td>\n",
       "      <td>путь лишать препятствие скоро вести туда гевар...</td>\n",
       "      <td>[путь, лишать, препятствие, скоро, вести, туда...</td>\n",
       "      <td>[(путь, лишать), (лишать, препятствие), (препя...</td>\n",
       "      <td>[(путь, лишать, препятствие), (лишать, препятс...</td>\n",
       "      <td>кресло, спинка, сидение, подлокотник, мочь, ме...</td>\n",
       "      <td>(0, 9233)\\t2\\n  (0, 4415)\\t4\\n  (0, 8578)\\t2...</td>\n",
       "      <td>Здоровье и медицина</td>\n",
       "    </tr>\n",
       "    <tr>\n",
       "      <th>1287</th>\n",
       "      <td>Skillbox</td>\n",
       "      <td>120.11</td>\n",
       "      <td>8  фев  2021 в 12:15</td>\n",
       "      <td>\\n\\r\\nПри поиске по ключевой фразе «машинное ...</td>\n",
       "      <td>веб разработка дизайн и юзабилити реклама и м...</td>\n",
       "      <td>поиск ключевой фраза машинный обучение речь ид...</td>\n",
       "      <td>[поиск, ключевой, фраза, машинный, обучение, р...</td>\n",
       "      <td>[(поиск, ключевой), (ключевой, фраза), (фраза,...</td>\n",
       "      <td>[(поиск, ключевой, фраза), (ключевой, фраза, м...</td>\n",
       "      <td>new, text, import, количество, top, languages,...</td>\n",
       "      <td>(0, 2010)\\t2\\n  (0, 1678)\\t4\\n  (0, 2498)\\t1...</td>\n",
       "      <td>Наука, технологии и инновации</td>\n",
       "    </tr>\n",
       "    <tr>\n",
       "      <th>1714</th>\n",
       "      <td>Skillbox</td>\n",
       "      <td>120.11</td>\n",
       "      <td>4  сен  2018 в 10:38</td>\n",
       "      <td>\\n\\r\\nПредлагаем вам перевод  ироничной стать...</td>\n",
       "      <td>веб разработка дизайн и юзабилити реклама и м...</td>\n",
       "      <td>предлагать перевод ироничный статья чарли сонн...</td>\n",
       "      <td>[предлагать, перевод, ироничный, статья, чарли...</td>\n",
       "      <td>[(предлагать, перевод), (перевод, ироничный), ...</td>\n",
       "      <td>[(предлагать, перевод, ироничный), (перевод, и...</td>\n",
       "      <td>работать, вердикт, сайт, javascript, вкладка, ...</td>\n",
       "      <td>(0, 1100)\\t2\\n  (0, 965)\\t1\\n  (0, 570)\\t1\\n...</td>\n",
       "      <td>Наука, технологии и инновации</td>\n",
       "    </tr>\n",
       "    <tr>\n",
       "      <th>760</th>\n",
       "      <td>Здоровье.ру</td>\n",
       "      <td>Пусто</td>\n",
       "      <td>18 ноября</td>\n",
       "      <td>Предыдущий пост про депрессию вызвал довольно ...</td>\n",
       "      <td>Пусто</td>\n",
       "      <td>предыдущий пост депрессия вызывать довольно бу...</td>\n",
       "      <td>[предыдущий, пост, депрессия, вызывать, доволь...</td>\n",
       "      <td>[(предыдущий, пост), (пост, депрессия), (депре...</td>\n",
       "      <td>[(предыдущий, пост, депрессия), (пост, депресс...</td>\n",
       "      <td>специалист, мочь, психотерапевт, расстройство,...</td>\n",
       "      <td>(0, 1087)\\t1\\n  (0, 1026)\\t1\\n  (0, 271)\\t3\\...</td>\n",
       "      <td>Здоровье и медицина</td>\n",
       "    </tr>\n",
       "    <tr>\n",
       "      <th>1458</th>\n",
       "      <td>Нетология</td>\n",
       "      <td>89.34</td>\n",
       "      <td>11  фев  2022 в 10:00</td>\n",
       "      <td>Здравствуйте, меня зовут Александра и я астро...</td>\n",
       "      <td>веб разработка дизайн и юзабилити реклама и м...</td>\n",
       "      <td>здравствовать звать александр астрофизик прошл...</td>\n",
       "      <td>[здравствовать, звать, александр, астрофизик, ...</td>\n",
       "      <td>[(здравствовать, звать), (звать, александр), (...</td>\n",
       "      <td>[(здравствовать, звать, александр), (звать, ал...</td>\n",
       "      <td>галактика, объект, фильтр, данные, тип, фотоме...</td>\n",
       "      <td>(0, 829)\\t1\\n  (0, 807)\\t1\\n  (0, 166)\\t1\\n ...</td>\n",
       "      <td>Образование и Кадры</td>\n",
       "    </tr>\n",
       "    <tr>\n",
       "      <th>613</th>\n",
       "      <td>Здоровье.ру</td>\n",
       "      <td>Пусто</td>\n",
       "      <td>11 января</td>\n",
       "      <td>Громкий заголовок статьи, конечно, не означает...</td>\n",
       "      <td>Пусто</td>\n",
       "      <td>громкий заголовок статья означать прямо давать...</td>\n",
       "      <td>[громкий, заголовок, статья, означать, прямо, ...</td>\n",
       "      <td>[(громкий, заголовок), (заголовок, статья), (с...</td>\n",
       "      <td>[(громкий, заголовок, статья), (заголовок, ста...</td>\n",
       "      <td>время, прошлое, человек, точка, система, весь,...</td>\n",
       "      <td>(0, 827)\\t1\\n  (0, 1085)\\t1\\n  (0, 4348)\\t4\\...</td>\n",
       "      <td>Здоровье и медицина</td>\n",
       "    </tr>\n",
       "    <tr>\n",
       "      <th>1532</th>\n",
       "      <td>Skillbox</td>\n",
       "      <td>120.11</td>\n",
       "      <td>1  мар  2019 в 15:30</td>\n",
       "      <td>\\n\\r\\nВ этой статье мы обсудим разные Git-ком...</td>\n",
       "      <td>веб разработка дизайн и юзабилити реклама и м...</td>\n",
       "      <td>статья обсуждать разный git команда мочь оказы...</td>\n",
       "      <td>[статья, обсуждать, разный, git, команда, мочь...</td>\n",
       "      <td>[(статья, обсуждать), (обсуждать, разный), (ра...</td>\n",
       "      <td>[(статья, обсуждать, разный), (обсуждать, разн...</td>\n",
       "      <td>git, изменение, коммит, команда, файл, мочь, c...</td>\n",
       "      <td>(0, 1044)\\t1\\n  (0, 704)\\t1\\n  (0, 930)\\t2\\n...</td>\n",
       "      <td>Наука, технологии и инновации</td>\n",
       "    </tr>\n",
       "    <tr>\n",
       "      <th>250</th>\n",
       "      <td>Skillbox</td>\n",
       "      <td>113.82</td>\n",
       "      <td>27 сентября</td>\n",
       "      <td>28 сентября приглашаем на онлайн-лекцию о разв...</td>\n",
       "      <td>Пусто</td>\n",
       "      <td>сентябрь приглашать онлайн лекция развитие кар...</td>\n",
       "      <td>[сентябрь, приглашать, онлайн, лекция, развити...</td>\n",
       "      <td>[(сентябрь, приглашать), (приглашать, онлайн),...</td>\n",
       "      <td>[(сентябрь, приглашать, онлайн), (приглашать, ...</td>\n",
       "      <td>онлайн, карьера, директор, центр, подбор, спец...</td>\n",
       "      <td>(0, 144)\\t1\\n  (0, 108)\\t1\\n  (0, 80)\\t2\\n  ...</td>\n",
       "      <td>Наука, технологии и инновации</td>\n",
       "    </tr>\n",
       "    <tr>\n",
       "      <th>883</th>\n",
       "      <td>Промобот</td>\n",
       "      <td>Пусто</td>\n",
       "      <td>3 декабря</td>\n",
       "      <td>Эмоциональный робот ЮляЧто такое мультимодальн...</td>\n",
       "      <td>Пусто</td>\n",
       "      <td>эмоциональный робот юлячто мультимодальность т...</td>\n",
       "      <td>[эмоциональный, робот, юлячто, мультимодальнос...</td>\n",
       "      <td>[(эмоциональный, робот), (робот, юлячто), (юля...</td>\n",
       "      <td>[(эмоциональный, робот, юлячто), (робот, юлячт...</td>\n",
       "      <td>робот, человек, пользователь, этап, мультимода...</td>\n",
       "      <td>(0, 3388)\\t4\\n  (0, 2486)\\t76\\n  (0, 3462)\\t...</td>\n",
       "      <td>Наука, технологии и инновации</td>\n",
       "    </tr>\n",
       "    <tr>\n",
       "      <th>326</th>\n",
       "      <td>Skillbox</td>\n",
       "      <td>113.82</td>\n",
       "      <td>20 февраля</td>\n",
       "      <td>Привет Хабр!\\n\\r\\nВ первой части пятничного ан...</td>\n",
       "      <td>Пусто</td>\n",
       "      <td>привет хабр первый часть пятничный анализ расс...</td>\n",
       "      <td>[привет, хабр, первый, часть, пятничный, анали...</td>\n",
       "      <td>[(привет, хабр), (хабр, первый), (первый, част...</td>\n",
       "      <td>[(привет, хабр, первый), (хабр, первый, часть)...</td>\n",
       "      <td>votes, habr, com, views, comments, down, https...</td>\n",
       "      <td>(0, 2774)\\t1\\n  (0, 3180)\\t1\\n  (0, 2666)\\t4...</td>\n",
       "      <td>Наука, технологии и инновации</td>\n",
       "    </tr>\n",
       "    <tr>\n",
       "      <th>1760</th>\n",
       "      <td>Нетология</td>\n",
       "      <td>89.34</td>\n",
       "      <td>30  окт  2018 в 14:08</td>\n",
       "      <td>Переводчик Полина Кабирова специально для «Не...</td>\n",
       "      <td>веб разработка дизайн и юзабилити реклама и м...</td>\n",
       "      <td>переводчик полина кабиров специально нетология...</td>\n",
       "      <td>[переводчик, полина, кабиров, специально, нето...</td>\n",
       "      <td>[(переводчик, полина), (полина, кабиров), (каб...</td>\n",
       "      <td>[(переводчик, полина, кабиров), (полина, кабир...</td>\n",
       "      <td>модель, данные, train, сеть, model, нейронный,...</td>\n",
       "      <td>(0, 1639)\\t1\\n  (0, 1701)\\t1\\n  (0, 1133)\\t1...</td>\n",
       "      <td>Образование и Кадры</td>\n",
       "    </tr>\n",
       "  </tbody>\n",
       "</table>\n",
       "</div>"
      ],
      "text/plain": [
       "                        TitleCompany   Reiting            DatePublish  \\\n",
       "499                      Здоровье.ру     Пусто              19 ноября   \n",
       "566                      Здоровье.ру     Пусто                 28 мая   \n",
       "585                      Здоровье.ру     Пусто              15 апреля   \n",
       "895                         Промобот     Пусто                15 июня   \n",
       "1087         Студия Артемия Лебедева     Пусто               15 марта   \n",
       "1895                       Нетология    89.34   19  мая  2017 в 15:33   \n",
       "1575                       Нетология    89.34    4  июн  2021 в 14:49   \n",
       "1835             Samsung Electronics    70.64   15  ноя  2012 в 14:52   \n",
       "916          Студия Артемия Лебедева     Пусто                 5 июля   \n",
       "1112                        Skillbox   120.11       18  апр   в 15:42   \n",
       "1487             Samsung Electronics    70.64    6  ноя  2014 в 10:03   \n",
       "1850             Samsung Electronics    70.64    2  сен  2012 в 12:56   \n",
       "923          Студия Артемия Лебедева     Пусто                27 июня   \n",
       "55                              Gett     Пусто                21 июня   \n",
       "1044         Студия Артемия Лебедева     Пусто               2 апреля   \n",
       "513                      Здоровье.ру     Пусто             11 октября   \n",
       "1241                     Учи.ру team    51.97   10  фев  2022 в 10:33   \n",
       "1286                        Skillbox   120.11   14  апр  2021 в 13:41   \n",
       "1683                       Нетология    89.34   13  ноя  2019 в 11:26   \n",
       "551                      Здоровье.ру     Пусто                18 июня   \n",
       "694                      Здоровье.ру     Пусто                 14 мая   \n",
       "1579                       Нетология    89.34   29  янв  2021 в 17:04   \n",
       "1281                        Skillbox   120.11    6  сен  2021 в 15:38   \n",
       "1002         Студия Артемия Лебедева     Пусто              10 ноября   \n",
       "69                              Gett     Пусто             20 августа   \n",
       "2006             Samsung Electronics    70.64   11  апр  2010 в 10:39   \n",
       "1619             Samsung Electronics    70.64   21  янв  2014 в 12:20   \n",
       "1465                        Skillbox   120.11    6  июн  2019 в 17:40   \n",
       "959          Студия Артемия Лебедева     Пусто                 26 мая   \n",
       "891                         Промобот     Пусто             19 февраля   \n",
       "1106  Федерация креативных индустрий     Пусто                  1 мая   \n",
       "1822                        Skillbox   120.11   28  июн  2018 в 10:48   \n",
       "539                      Здоровье.ру     Пусто              2 августа   \n",
       "1623                       Нетология    89.34   28  авг  2020 в 14:09   \n",
       "855                          Иннотех     47.73              8 декабря   \n",
       "1016         Студия Артемия Лебедева     Пусто               2 апреля   \n",
       "113                             Gett     Пусто               5 ноября   \n",
       "413                         Skillbox    113.82                13 июля   \n",
       "285                         Skillbox    113.82              1 августа   \n",
       "642                      Здоровье.ру     Пусто               8 ноября   \n",
       "1287                        Skillbox   120.11    8  фев  2021 в 12:15   \n",
       "1714                        Skillbox   120.11    4  сен  2018 в 10:38   \n",
       "760                      Здоровье.ру     Пусто              18 ноября   \n",
       "1458                       Нетология    89.34   11  фев  2022 в 10:00   \n",
       "613                      Здоровье.ру     Пусто              11 января   \n",
       "1532                        Skillbox   120.11    1  мар  2019 в 15:30   \n",
       "250                         Skillbox    113.82            27 сентября   \n",
       "883                         Промобот     Пусто              3 декабря   \n",
       "326                         Skillbox    113.82             20 февраля   \n",
       "1760                       Нетология    89.34   30  окт  2018 в 14:08   \n",
       "\n",
       "                                               TextPost  \\\n",
       "499   Сервис «Работа.ру» провёл опрос среди шести ты...   \n",
       "566   Приезжая в Питер, нужно обязательно посетить Э...   \n",
       "585   Часть 1Перенос полученных знаний в HAПришло вр...   \n",
       "895   Роботы уже перестали быть героями фантастическ...   \n",
       "1087  11-й «Российский Интернет Форум» (РИФ-2007) пр...   \n",
       "1895   Data Scientist — это эксперт по аналитическим...   \n",
       "1575   Unreal Engine 4 используют как крупные компан...   \n",
       "1835   Добрый день, Хабр!\\n\\r\\nСегодня мы публикуем ...   \n",
       "916   Допустим, у вас есть >100'000 изображений, кот...   \n",
       "1112   Микросервисы становятся все более популярным ...   \n",
       "1487   Добрый день Хабр!\\n\\r\\nВот и подошел к концу ...   \n",
       "1850   Так уж получилось, что вокруг меня просто куч...   \n",
       "923   Путешествие — не только возможность увидеть чт...   \n",
       "55    Привет! Меня зовут Виталий Костоусов, я работа...   \n",
       "1044  Посещяя сайты я хотел бы, чтобы все на них был...   \n",
       "513   Выбрал пять мощнейших книг, которые прокачают ...   \n",
       "1241   Признаем: сложно организовать работающую сист...   \n",
       "1286   \\n\\r\\nЗа последние несколько лет машинное обу...   \n",
       "1683   Маркетолог в Otzyvmarketing Станислав Романов...   \n",
       "551   Статья-продолжение первой части, в которой не ...   \n",
       "694   За 20 лет работы в IT я выступал десятки раз.\\...   \n",
       "1579   Личный бренд IT-специалиста — тема непростая....   \n",
       "1281   Привет, Хабр! Меня зовут Даниил Пилипенко, я ...   \n",
       "1002  Если вы один из тех людей, кто постоянно имеет...   \n",
       "69    5 сентября стартует базовый курс Android Acade...   \n",
       "2006   15 апреля, Из концертного зала Мариинского те...   \n",
       "1619   Добрый день, Хабр!\\n\\r\\nМы продолжаем писать ...   \n",
       "1465   \\n\\r\\nContinuous Deployment (непрерывное разв...   \n",
       "959   Последние несколько недель прошли с ощущением ...   \n",
       "891   По последним данным ВЦИОМ, 88% россиян позитив...   \n",
       "1106  Как менеджер, вы должны заботиться о ваших сот...   \n",
       "1822   Disclaimer: эта статья подготовлена Skillbox ...   \n",
       "539   На Хабре уже 8 лет просят: «Никогда не отвлека...   \n",
       "1623   Сегодня дизайнер не принимает решения только ...   \n",
       "855   7 декабря состоялась церемония награждения лау...   \n",
       "1016  Просмотрел много админок… в одной хорошо то, а...   \n",
       "113   Рубрика «Как работают профессионалы» продолжае...   \n",
       "413   В прошлый раз мы публиковали нашу подборку веб...   \n",
       "285   OpenCV — библиотека, разработанная для проекто...   \n",
       "642   “Если ваш путь лишён препятствий, скорее всего...   \n",
       "1287   \\n\\r\\nПри поиске по ключевой фразе «машинное ...   \n",
       "1714   \\n\\r\\nПредлагаем вам перевод  ироничной стать...   \n",
       "760   Предыдущий пост про депрессию вызвал довольно ...   \n",
       "1458   Здравствуйте, меня зовут Александра и я астро...   \n",
       "613   Громкий заголовок статьи, конечно, не означает...   \n",
       "1532   \\n\\r\\nВ этой статье мы обсудим разные Git-ком...   \n",
       "250   28 сентября приглашаем на онлайн-лекцию о разв...   \n",
       "883   Эмоциональный робот ЮляЧто такое мультимодальн...   \n",
       "326   Привет Хабр!\\n\\r\\nВ первой части пятничного ан...   \n",
       "1760   Переводчик Полина Кабирова специально для «Не...   \n",
       "\n",
       "                                             Categories  \\\n",
       "499                                               Пусто   \n",
       "566                                               Пусто   \n",
       "585                                               Пусто   \n",
       "895                                               Пусто   \n",
       "1087                                              Пусто   \n",
       "1895   веб разработка дизайн и юзабилити реклама и м...   \n",
       "1575   веб разработка дизайн и юзабилити реклама и м...   \n",
       "1835     связь и телекоммуникации мобильные технологии    \n",
       "916                                               Пусто   \n",
       "1112   веб разработка дизайн и юзабилити реклама и м...   \n",
       "1487     связь и телекоммуникации мобильные технологии    \n",
       "1850     связь и телекоммуникации мобильные технологии    \n",
       "923                                               Пусто   \n",
       "55                                                Пусто   \n",
       "1044                                              Пусто   \n",
       "513                                               Пусто   \n",
       "1241   веб разработка программное обеспечение произв...   \n",
       "1286   веб разработка дизайн и юзабилити реклама и м...   \n",
       "1683   веб разработка дизайн и юзабилити реклама и м...   \n",
       "551                                               Пусто   \n",
       "694                                               Пусто   \n",
       "1579   веб разработка дизайн и юзабилити реклама и м...   \n",
       "1281   веб разработка дизайн и юзабилити реклама и м...   \n",
       "1002                                              Пусто   \n",
       "69                                                Пусто   \n",
       "2006     связь и телекоммуникации мобильные технологии    \n",
       "1619     связь и телекоммуникации мобильные технологии    \n",
       "1465   веб разработка дизайн и юзабилити реклама и м...   \n",
       "959                                               Пусто   \n",
       "891                                               Пусто   \n",
       "1106                                              Пусто   \n",
       "1822   веб разработка дизайн и юзабилити реклама и м...   \n",
       "539                                               Пусто   \n",
       "1623   веб разработка дизайн и юзабилити реклама и м...   \n",
       "855                                               Пусто   \n",
       "1016                                              Пусто   \n",
       "113                                               Пусто   \n",
       "413                                               Пусто   \n",
       "285                                               Пусто   \n",
       "642                                               Пусто   \n",
       "1287   веб разработка дизайн и юзабилити реклама и м...   \n",
       "1714   веб разработка дизайн и юзабилити реклама и м...   \n",
       "760                                               Пусто   \n",
       "1458   веб разработка дизайн и юзабилити реклама и м...   \n",
       "613                                               Пусто   \n",
       "1532   веб разработка дизайн и юзабилити реклама и м...   \n",
       "250                                               Пусто   \n",
       "883                                               Пусто   \n",
       "326                                               Пусто   \n",
       "1760   веб разработка дизайн и юзабилити реклама и м...   \n",
       "\n",
       "                                          TextPostLemat  \\\n",
       "499   сервис работа проводить опрос среди шесть тыся...   \n",
       "566   приезжать питер нужно обязательно посещать эрм...   \n",
       "585   часть перенос получать знание haпришло время п...   \n",
       "895   робот переставать герой фантастический фильм г...   \n",
       "1087  российский интернет форум риф пройти новый фор...   \n",
       "1895  data scientist эксперт аналитический данные об...   \n",
       "1575  unreal engine использовать крупный компания не...   \n",
       "1835  добрый день хабр сегодня публиковать второй за...   \n",
       "916   допускать изображение рассортировывать удобно ...   \n",
       "1112  микросервис становиться популярный способ созд...   \n",
       "1487  добрый день хабр подходить конец глобальный ко...   \n",
       "1850  получаться вокруг просто куча samsung девайс g...   \n",
       "923   путешествие возможность увидеть новый изменять...   \n",
       "55    привет звать виталий костоусов работать команд...   \n",
       "1044  посещяй сайт хотеть весь наглядно понятный пос...   \n",
       "513   выбирать пять мощный книга прокачивать память ...   \n",
       "1241  признавать сложно организовывать работать сист...   \n",
       "1286  последний несколько год машинный обучение data...   \n",
       "1683  маркетолог otzyvmarketing станислав романов ра...   \n",
       "551   статья продолжение первый часть умещаться хоте...   \n",
       "694   год работа выступать десяток мэйл конференция ...   \n",
       "1579  личный бренд специалист тема непростой момент ...   \n",
       "1281  привет хабр звать даниил пилипенко программный...   \n",
       "1002  человек постоянно иметь дело мерный графика ск...   \n",
       "69    сентябрь стартовать базовый курс android acade...   \n",
       "2006  апрель концертный зал мариинский театр состоят...   \n",
       "1619  добрый день хабр продолжать писать новинка пре...   \n",
       "1465  continuous deployment непрерывный развертывани...   \n",
       "959   последний несколько неделя проходить ощущение ...   \n",
       "891   последний данные вциом россиянин позитивно ней...   \n",
       "1106  менеджер должный заботиться сотрудник поддержи...   \n",
       "1822  disclaimer статья подготовить skillbox совмест...   \n",
       "539   хабер год просить отвлекать программист написа...   \n",
       "1623  сегодня дизайнер принимать решение основа опыт...   \n",
       "855   декабрь состояться церемония награждение лауре...   \n",
       "1016  просматривать админки сделать супер админка тр...   \n",
       "113   рубрика работать профессионал продолжать знако...   \n",
       "413   прошлый публиковать подборка вебинар суббота р...   \n",
       "285   opencv библиотека разрабатывать проект компьют...   \n",
       "642   путь лишать препятствие скоро вести туда гевар...   \n",
       "1287  поиск ключевой фраза машинный обучение речь ид...   \n",
       "1714  предлагать перевод ироничный статья чарли сонн...   \n",
       "760   предыдущий пост депрессия вызывать довольно бу...   \n",
       "1458  здравствовать звать александр астрофизик прошл...   \n",
       "613   громкий заголовок статья означать прямо давать...   \n",
       "1532  статья обсуждать разный git команда мочь оказы...   \n",
       "250   сентябрь приглашать онлайн лекция развитие кар...   \n",
       "883   эмоциональный робот юлячто мультимодальность т...   \n",
       "326   привет хабр первый часть пятничный анализ расс...   \n",
       "1760  переводчик полина кабиров специально нетология...   \n",
       "\n",
       "                                          TextPostToken  \\\n",
       "499   [сервис, работа, проводить, опрос, среди, шест...   \n",
       "566   [приезжать, питер, нужно, обязательно, посещат...   \n",
       "585   [часть, перенос, получать, знание, haпришло, в...   \n",
       "895   [робот, переставать, герой, фантастический, фи...   \n",
       "1087  [российский, интернет, форум, риф, пройти, нов...   \n",
       "1895  [data, scientist, эксперт, аналитический, данн...   \n",
       "1575  [unreal, engine, использовать, крупный, компан...   \n",
       "1835  [добрый, день, хабр, сегодня, публиковать, вто...   \n",
       "916   [допускать, изображение, рассортировывать, удо...   \n",
       "1112  [микросервис, становиться, популярный, способ,...   \n",
       "1487  [добрый, день, хабр, подходить, конец, глобаль...   \n",
       "1850  [получаться, вокруг, просто, куча, samsung, де...   \n",
       "923   [путешествие, возможность, увидеть, новый, изм...   \n",
       "55    [привет, звать, виталий, костоусов, работать, ...   \n",
       "1044  [посещяй, сайт, хотеть, весь, наглядно, понятн...   \n",
       "513   [выбирать, пять, мощный, книга, прокачивать, п...   \n",
       "1241  [признавать, сложно, организовывать, работать,...   \n",
       "1286  [последний, несколько, год, машинный, обучение...   \n",
       "1683  [маркетолог, otzyvmarketing, станислав, романо...   \n",
       "551   [статья, продолжение, первый, часть, умещаться...   \n",
       "694   [год, работа, выступать, десяток, мэйл, конфер...   \n",
       "1579  [личный, бренд, специалист, тема, непростой, м...   \n",
       "1281  [привет, хабр, звать, даниил, пилипенко, прогр...   \n",
       "1002  [человек, постоянно, иметь, дело, мерный, граф...   \n",
       "69    [сентябрь, стартовать, базовый, курс, android,...   \n",
       "2006  [апрель, концертный, зал, мариинский, театр, с...   \n",
       "1619  [добрый, день, хабр, продолжать, писать, новин...   \n",
       "1465  [continuous, deployment, непрерывный, разверты...   \n",
       "959   [последний, несколько, неделя, проходить, ощущ...   \n",
       "891   [последний, данные, вциом, россиянин, позитивн...   \n",
       "1106  [менеджер, должный, заботиться, сотрудник, под...   \n",
       "1822  [disclaimer, статья, подготовить, skillbox, со...   \n",
       "539   [хабер, год, просить, отвлекать, программист, ...   \n",
       "1623  [сегодня, дизайнер, принимать, решение, основа...   \n",
       "855   [декабрь, состояться, церемония, награждение, ...   \n",
       "1016  [просматривать, админки, сделать, супер, админ...   \n",
       "113   [рубрика, работать, профессионал, продолжать, ...   \n",
       "413   [прошлый, публиковать, подборка, вебинар, субб...   \n",
       "285   [opencv, библиотека, разрабатывать, проект, ко...   \n",
       "642   [путь, лишать, препятствие, скоро, вести, туда...   \n",
       "1287  [поиск, ключевой, фраза, машинный, обучение, р...   \n",
       "1714  [предлагать, перевод, ироничный, статья, чарли...   \n",
       "760   [предыдущий, пост, депрессия, вызывать, доволь...   \n",
       "1458  [здравствовать, звать, александр, астрофизик, ...   \n",
       "613   [громкий, заголовок, статья, означать, прямо, ...   \n",
       "1532  [статья, обсуждать, разный, git, команда, мочь...   \n",
       "250   [сентябрь, приглашать, онлайн, лекция, развити...   \n",
       "883   [эмоциональный, робот, юлячто, мультимодальнос...   \n",
       "326   [привет, хабр, первый, часть, пятничный, анали...   \n",
       "1760  [переводчик, полина, кабиров, специально, нето...   \n",
       "\n",
       "                                                 bigram  \\\n",
       "499   [(сервис, работа), (работа, проводить), (прово...   \n",
       "566   [(приезжать, питер), (питер, нужно), (нужно, о...   \n",
       "585   [(часть, перенос), (перенос, получать), (получ...   \n",
       "895   [(робот, переставать), (переставать, герой), (...   \n",
       "1087  [(российский, интернет), (интернет, форум), (ф...   \n",
       "1895  [(data, scientist), (scientist, эксперт), (экс...   \n",
       "1575  [(unreal, engine), (engine, использовать), (ис...   \n",
       "1835  [(добрый, день), (день, хабр), (хабр, сегодня)...   \n",
       "916   [(допускать, изображение), (изображение, рассо...   \n",
       "1112  [(микросервис, становиться), (становиться, поп...   \n",
       "1487  [(добрый, день), (день, хабр), (хабр, подходит...   \n",
       "1850  [(получаться, вокруг), (вокруг, просто), (прос...   \n",
       "923   [(путешествие, возможность), (возможность, уви...   \n",
       "55    [(привет, звать), (звать, виталий), (виталий, ...   \n",
       "1044  [(посещяй, сайт), (сайт, хотеть), (хотеть, вес...   \n",
       "513   [(выбирать, пять), (пять, мощный), (мощный, кн...   \n",
       "1241  [(признавать, сложно), (сложно, организовывать...   \n",
       "1286  [(последний, несколько), (несколько, год), (го...   \n",
       "1683  [(маркетолог, otzyvmarketing), (otzyvmarketing...   \n",
       "551   [(статья, продолжение), (продолжение, первый),...   \n",
       "694   [(год, работа), (работа, выступать), (выступат...   \n",
       "1579  [(личный, бренд), (бренд, специалист), (специа...   \n",
       "1281  [(привет, хабр), (хабр, звать), (звать, даниил...   \n",
       "1002  [(человек, постоянно), (постоянно, иметь), (им...   \n",
       "69    [(сентябрь, стартовать), (стартовать, базовый)...   \n",
       "2006  [(апрель, концертный), (концертный, зал), (зал...   \n",
       "1619  [(добрый, день), (день, хабр), (хабр, продолжа...   \n",
       "1465  [(continuous, deployment), (deployment, непрер...   \n",
       "959   [(последний, несколько), (несколько, неделя), ...   \n",
       "891   [(последний, данные), (данные, вциом), (вциом,...   \n",
       "1106  [(менеджер, должный), (должный, заботиться), (...   \n",
       "1822  [(disclaimer, статья), (статья, подготовить), ...   \n",
       "539   [(хабер, год), (год, просить), (просить, отвле...   \n",
       "1623  [(сегодня, дизайнер), (дизайнер, принимать), (...   \n",
       "855   [(декабрь, состояться), (состояться, церемония...   \n",
       "1016  [(просматривать, админки), (админки, сделать),...   \n",
       "113   [(рубрика, работать), (работать, профессионал)...   \n",
       "413   [(прошлый, публиковать), (публиковать, подборк...   \n",
       "285   [(opencv, библиотека), (библиотека, разрабатыв...   \n",
       "642   [(путь, лишать), (лишать, препятствие), (препя...   \n",
       "1287  [(поиск, ключевой), (ключевой, фраза), (фраза,...   \n",
       "1714  [(предлагать, перевод), (перевод, ироничный), ...   \n",
       "760   [(предыдущий, пост), (пост, депрессия), (депре...   \n",
       "1458  [(здравствовать, звать), (звать, александр), (...   \n",
       "613   [(громкий, заголовок), (заголовок, статья), (с...   \n",
       "1532  [(статья, обсуждать), (обсуждать, разный), (ра...   \n",
       "250   [(сентябрь, приглашать), (приглашать, онлайн),...   \n",
       "883   [(эмоциональный, робот), (робот, юлячто), (юля...   \n",
       "326   [(привет, хабр), (хабр, первый), (первый, част...   \n",
       "1760  [(переводчик, полина), (полина, кабиров), (каб...   \n",
       "\n",
       "                                                trigram  \\\n",
       "499   [(сервис, работа, проводить), (работа, проводи...   \n",
       "566   [(приезжать, питер, нужно), (питер, нужно, обя...   \n",
       "585   [(часть, перенос, получать), (перенос, получат...   \n",
       "895   [(робот, переставать, герой), (переставать, ге...   \n",
       "1087  [(российский, интернет, форум), (интернет, фор...   \n",
       "1895  [(data, scientist, эксперт), (scientist, экспе...   \n",
       "1575  [(unreal, engine, использовать), (engine, испо...   \n",
       "1835  [(добрый, день, хабр), (день, хабр, сегодня), ...   \n",
       "916   [(допускать, изображение, рассортировывать), (...   \n",
       "1112  [(микросервис, становиться, популярный), (стан...   \n",
       "1487  [(добрый, день, хабр), (день, хабр, подходить)...   \n",
       "1850  [(получаться, вокруг, просто), (вокруг, просто...   \n",
       "923   [(путешествие, возможность, увидеть), (возможн...   \n",
       "55    [(привет, звать, виталий), (звать, виталий, ко...   \n",
       "1044  [(посещяй, сайт, хотеть), (сайт, хотеть, весь)...   \n",
       "513   [(выбирать, пять, мощный), (пять, мощный, книг...   \n",
       "1241  [(признавать, сложно, организовывать), (сложно...   \n",
       "1286  [(последний, несколько, год), (несколько, год,...   \n",
       "1683  [(маркетолог, otzyvmarketing, станислав), (otz...   \n",
       "551   [(статья, продолжение, первый), (продолжение, ...   \n",
       "694   [(год, работа, выступать), (работа, выступать,...   \n",
       "1579  [(личный, бренд, специалист), (бренд, специали...   \n",
       "1281  [(привет, хабр, звать), (хабр, звать, даниил),...   \n",
       "1002  [(человек, постоянно, иметь), (постоянно, имет...   \n",
       "69    [(сентябрь, стартовать, базовый), (стартовать,...   \n",
       "2006  [(апрель, концертный, зал), (концертный, зал, ...   \n",
       "1619  [(добрый, день, хабр), (день, хабр, продолжать...   \n",
       "1465  [(continuous, deployment, непрерывный), (deplo...   \n",
       "959   [(последний, несколько, неделя), (несколько, н...   \n",
       "891   [(последний, данные, вциом), (данные, вциом, р...   \n",
       "1106  [(менеджер, должный, заботиться), (должный, за...   \n",
       "1822  [(disclaimer, статья, подготовить), (статья, п...   \n",
       "539   [(хабер, год, просить), (год, просить, отвлека...   \n",
       "1623  [(сегодня, дизайнер, принимать), (дизайнер, пр...   \n",
       "855   [(декабрь, состояться, церемония), (состояться...   \n",
       "1016  [(просматривать, админки, сделать), (админки, ...   \n",
       "113   [(рубрика, работать, профессионал), (работать,...   \n",
       "413   [(прошлый, публиковать, подборка), (публиковат...   \n",
       "285   [(opencv, библиотека, разрабатывать), (библиот...   \n",
       "642   [(путь, лишать, препятствие), (лишать, препятс...   \n",
       "1287  [(поиск, ключевой, фраза), (ключевой, фраза, м...   \n",
       "1714  [(предлагать, перевод, ироничный), (перевод, и...   \n",
       "760   [(предыдущий, пост, депрессия), (пост, депресс...   \n",
       "1458  [(здравствовать, звать, александр), (звать, ал...   \n",
       "613   [(громкий, заголовок, статья), (заголовок, ста...   \n",
       "1532  [(статья, обсуждать, разный), (обсуждать, разн...   \n",
       "250   [(сентябрь, приглашать, онлайн), (приглашать, ...   \n",
       "883   [(эмоциональный, робот, юлячто), (робот, юлячт...   \n",
       "326   [(привет, хабр, первый), (хабр, первый, часть)...   \n",
       "1760  [(переводчик, полина, кабиров), (полина, кабир...   \n",
       "\n",
       "                                                keyword  \\\n",
       "499   работа, респондент, опрос, работать, опрашиват...   \n",
       "566   рубль, рынок, продавец, блошиный, купить, цена...   \n",
       "585   preset, day, time, приложение, устройство, tem...   \n",
       "895   робот, робототехника, мочь, человек, рабочий, ...   \n",
       "1087  риф, мероприятие, интернет, форум, первый, выс...   \n",
       "1895  data, данные, обучение, scientist, машинный, з...   \n",
       "1575  blueprints, игра, unreal, engine, движок, гейм...   \n",
       "1835  камера, galaxy, camera, хороший, черный, устро...   \n",
       "916   папка, тег, файл, изображение, слово, ключевой...   \n",
       "1112  микросервис, книга, архитектура, приложение, м...   \n",
       "1487  приложение, конкурс, голосование, app, challen...   \n",
       "1850  экран, телефон, iii, просто, samsung, galaxy, ...   \n",
       "923   человек, время, новый, год, мочь, интернет, ра...   \n",
       "55    проблема, сервис, работать, работа, команда, м...   \n",
       "1044  ссылка, внутренний, способ, сайт, выделять, цв...   \n",
       "513   работа, память, запоминать, книга, информация,...   \n",
       "1241  стажировка, стажер, работа, проект, программир...   \n",
       "1286  result, analytics, print, результат, строка, f...   \n",
       "1683  gtm, тег, сайт, переменный, данные, создавать,...   \n",
       "551   vim, файл, set, let, использовать, весь, строк...   \n",
       "694   выступление, рассказывать, выступать, слайд, в...   \n",
       "1579  выступление, конференция, тема, выступать, опы...   \n",
       "1281  обучение, работа, разработка, java, учиться, р...   \n",
       "1002  графика, знать, чайник, director, designer, че...   \n",
       "69    android, курс, academy, разработчик, разработк...   \n",
       "2006  балет, мариинский, театр, формат, гала, концер...   \n",
       "1619  smart, home, samsung, сервис, техника, устройс...   \n",
       "1465  сборка, jenkins, apt, работа, агент, gocd, инс...   \n",
       "959   магазин, розетка, ремонт, рубль, стена, день, ...   \n",
       "891   робот, человек, взаимодействие, исследование, ...   \n",
       "1106  команда, говорить, стресс, человек, работа, мо...   \n",
       "1822  язык, время, программирование, мочь, становить...   \n",
       "539   работа, книга, год, время, весь, история, час,...   \n",
       "1623  пользователь, исследование, продукт, клиент, с...   \n",
       "855   номинация, проект, москва, премия, рунет, разв...   \n",
       "1016  панель, админк, админки, админка, вроде, решен...   \n",
       "113   книга, читать, человек, работа, работать, врем...   \n",
       "413   php, вебинар, разработчик, рассказывать, работ...   \n",
       "285   gocv, img, window, создавать, webcam, defer, c...   \n",
       "642   кресло, спинка, сидение, подлокотник, мочь, ме...   \n",
       "1287  new, text, import, количество, top, languages,...   \n",
       "1714  работать, вердикт, сайт, javascript, вкладка, ...   \n",
       "760   специалист, мочь, психотерапевт, расстройство,...   \n",
       "1458  галактика, объект, фильтр, данные, тип, фотоме...   \n",
       "613   время, прошлое, человек, точка, система, весь,...   \n",
       "1532  git, изменение, коммит, команда, файл, мочь, c...   \n",
       "250   онлайн, карьера, директор, центр, подбор, спец...   \n",
       "883   робот, человек, пользователь, этап, мультимода...   \n",
       "326   votes, habr, com, views, comments, down, https...   \n",
       "1760  модель, данные, train, сеть, model, нейронный,...   \n",
       "\n",
       "                                           count_matrix  \\\n",
       "499     (0, 468)\\t3\\n  (0, 362)\\t10\\n  (0, 347)\\t2\\n...   \n",
       "566     (0, 1077)\\t1\\n  (0, 912)\\t1\\n  (0, 775)\\t2\\n...   \n",
       "585     (0, 792)\\t1\\n  (0, 589)\\t1\\n  (0, 609)\\t3\\n ...   \n",
       "895     (0, 719)\\t19\\n  (0, 503)\\t1\\n  (0, 123)\\t1\\n...   \n",
       "1087    (0, 298)\\t2\\n  (0, 87)\\t3\\n  (0, 378)\\t3\\n  ...   \n",
       "1895    (0, 19)\\t20\\n  (0, 116)\\t12\\n  (0, 1505)\\t1\\...   \n",
       "1575    (0, 188)\\t12\\n  (0, 80)\\t12\\n  (0, 731)\\t8\\n...   \n",
       "1835    (0, 367)\\t1\\n  (0, 353)\\t1\\n  (0, 1340)\\t1\\n...   \n",
       "916     (0, 739)\\t3\\n  (0, 935)\\t22\\n  (0, 2229)\\t1\\...   \n",
       "1112    (0, 1141)\\t70\\n  (0, 2873)\\t3\\n  (0, 1986)\\t...   \n",
       "1487    (0, 141)\\t1\\n  (0, 138)\\t1\\n  (0, 422)\\t1\\n ...   \n",
       "1850    (0, 3177)\\t2\\n  (0, 755)\\t2\\n  (0, 3453)\\t16...   \n",
       "923     (0, 6108)\\t6\\n  (0, 968)\\t12\\n  (0, 7844)\\t6...   \n",
       "55      (0, 1646)\\t1\\n  (0, 636)\\t1\\n  (0, 357)\\t1\\n...   \n",
       "1044    (0, 304)\\t1\\n  (0, 383)\\t4\\n  (0, 501)\\t1\\n ...   \n",
       "513     (0, 196)\\t1\\n  (0, 1310)\\t1\\n  (0, 723)\\t1\\n...   \n",
       "1241    (0, 621)\\t1\\n  (0, 837)\\t1\\n  (0, 424)\\t1\\n ...   \n",
       "1286    (0, 1591)\\t3\\n  (0, 1318)\\t7\\n  (0, 854)\\t2\\...   \n",
       "1683    (0, 721)\\t3\\n  (0, 158)\\t1\\n  (0, 1541)\\t1\\n...   \n",
       "551     (0, 21788)\\t6\\n  (0, 19274)\\t1\\n  (0, 17269)...   \n",
       "694     (0, 385)\\t6\\n  (0, 1581)\\t1\\n  (0, 274)\\t15\\...   \n",
       "1579    (0, 1159)\\t3\\n  (0, 256)\\t2\\n  (0, 2778)\\t8\\...   \n",
       "1281    (0, 1043)\\t1\\n  (0, 1625)\\t1\\n  (0, 378)\\t1\\...   \n",
       "1002    (0, 187)\\t1\\n  (0, 140)\\t1\\n  (0, 104)\\t1\\n ...   \n",
       "69      (0, 1504)\\t1\\n  (0, 1617)\\t2\\n  (0, 318)\\t2\\...   \n",
       "2006    (0, 6)\\t1\\n  (0, 98)\\t1\\n  (0, 58)\\t1\\n  (0,...   \n",
       "1619    (0, 205)\\t1\\n  (0, 196)\\t1\\n  (0, 755)\\t1\\n ...   \n",
       "1465    (0, 46)\\t1\\n  (0, 61)\\t1\\n  (0, 1004)\\t3\\n  ...   \n",
       "959     (0, 4348)\\t3\\n  (0, 3052)\\t5\\n  (0, 2996)\\t3...   \n",
       "891     (0, 1200)\\t3\\n  (0, 351)\\t2\\n  (0, 228)\\t1\\n...   \n",
       "1106    (0, 1005)\\t1\\n  (0, 520)\\t3\\n  (0, 602)\\t4\\n...   \n",
       "1822    (0, 17)\\t1\\n  (0, 1742)\\t1\\n  (0, 1119)\\t1\\n...   \n",
       "539     (0, 6042)\\t1\\n  (0, 972)\\t25\\n  (0, 4386)\\t4...   \n",
       "1623    (0, 2387)\\t1\\n  (0, 449)\\t5\\n  (0, 1895)\\t1\\...   \n",
       "855     (0, 224)\\t1\\n  (0, 838)\\t1\\n  (0, 966)\\t1\\n ...   \n",
       "1016    (0, 159)\\t1\\n  (0, 38)\\t2\\n  (0, 188)\\t1\\n  ...   \n",
       "113     (0, 607)\\t1\\n  (0, 564)\\t4\\n  (0, 538)\\t1\\n ...   \n",
       "413     (0, 378)\\t1\\n  (0, 381)\\t1\\n  (0, 283)\\t2\\n ...   \n",
       "285     (0, 274)\\t7\\n  (0, 443)\\t2\\n  (0, 1022)\\t2\\n...   \n",
       "642     (0, 9233)\\t2\\n  (0, 4415)\\t4\\n  (0, 8578)\\t2...   \n",
       "1287    (0, 2010)\\t2\\n  (0, 1678)\\t4\\n  (0, 2498)\\t1...   \n",
       "1714    (0, 1100)\\t2\\n  (0, 965)\\t1\\n  (0, 570)\\t1\\n...   \n",
       "760     (0, 1087)\\t1\\n  (0, 1026)\\t1\\n  (0, 271)\\t3\\...   \n",
       "1458    (0, 829)\\t1\\n  (0, 807)\\t1\\n  (0, 166)\\t1\\n ...   \n",
       "613     (0, 827)\\t1\\n  (0, 1085)\\t1\\n  (0, 4348)\\t4\\...   \n",
       "1532    (0, 1044)\\t1\\n  (0, 704)\\t1\\n  (0, 930)\\t2\\n...   \n",
       "250     (0, 144)\\t1\\n  (0, 108)\\t1\\n  (0, 80)\\t2\\n  ...   \n",
       "883     (0, 3388)\\t4\\n  (0, 2486)\\t76\\n  (0, 3462)\\t...   \n",
       "326     (0, 2774)\\t1\\n  (0, 3180)\\t1\\n  (0, 2666)\\t4...   \n",
       "1760    (0, 1639)\\t1\\n  (0, 1701)\\t1\\n  (0, 1133)\\t1...   \n",
       "\n",
       "                        Nominations  \n",
       "499             Здоровье и медицина  \n",
       "566             Здоровье и медицина  \n",
       "585             Здоровье и медицина  \n",
       "895   Наука, технологии и инновации  \n",
       "1087           Креативные индустрии  \n",
       "1895            Образование и Кадры  \n",
       "1575            Образование и Кадры  \n",
       "1835            Образование и Кадры  \n",
       "916            Креативные индустрии  \n",
       "1112  Наука, технологии и инновации  \n",
       "1487            Образование и Кадры  \n",
       "1850            Образование и Кадры  \n",
       "923            Креативные индустрии  \n",
       "55    Наука, технологии и инновации  \n",
       "1044           Креативные индустрии  \n",
       "513             Здоровье и медицина  \n",
       "1241            Образование и Кадры  \n",
       "1286  Наука, технологии и инновации  \n",
       "1683            Образование и Кадры  \n",
       "551             Здоровье и медицина  \n",
       "694             Здоровье и медицина  \n",
       "1579            Образование и Кадры  \n",
       "1281  Наука, технологии и инновации  \n",
       "1002           Креативные индустрии  \n",
       "69    Наука, технологии и инновации  \n",
       "2006            Образование и Кадры  \n",
       "1619            Образование и Кадры  \n",
       "1465  Наука, технологии и инновации  \n",
       "959            Креативные индустрии  \n",
       "891   Наука, технологии и инновации  \n",
       "1106           Креативные индустрии  \n",
       "1822  Наука, технологии и инновации  \n",
       "539             Здоровье и медицина  \n",
       "1623            Образование и Кадры  \n",
       "855   Наука, технологии и инновации  \n",
       "1016           Креативные индустрии  \n",
       "113   Наука, технологии и инновации  \n",
       "413   Наука, технологии и инновации  \n",
       "285   Наука, технологии и инновации  \n",
       "642             Здоровье и медицина  \n",
       "1287  Наука, технологии и инновации  \n",
       "1714  Наука, технологии и инновации  \n",
       "760             Здоровье и медицина  \n",
       "1458            Образование и Кадры  \n",
       "613             Здоровье и медицина  \n",
       "1532  Наука, технологии и инновации  \n",
       "250   Наука, технологии и инновации  \n",
       "883   Наука, технологии и инновации  \n",
       "326   Наука, технологии и инновации  \n",
       "1760            Образование и Кадры  "
      ]
     },
     "execution_count": 74,
     "metadata": {},
     "output_type": "execute_result"
    }
   ],
   "source": [
    "merged_df.sample(50)"
   ]
  },
  {
   "cell_type": "code",
   "execution_count": 75,
   "id": "15b30feb",
   "metadata": {},
   "outputs": [
    {
     "name": "stdout",
     "output_type": "stream",
     "text": [
      "<class 'pandas.core.frame.DataFrame'>\n",
      "Int64Index: 2017 entries, 0 to 2016\n",
      "Data columns (total 12 columns):\n",
      " #   Column         Non-Null Count  Dtype \n",
      "---  ------         --------------  ----- \n",
      " 0   TitleCompany   2017 non-null   object\n",
      " 1   Reiting        2017 non-null   object\n",
      " 2   DatePublish    2017 non-null   object\n",
      " 3   TextPost       2017 non-null   object\n",
      " 4   Categories     2017 non-null   object\n",
      " 5   TextPostLemat  2017 non-null   object\n",
      " 6   TextPostToken  2017 non-null   object\n",
      " 7   bigram         2017 non-null   object\n",
      " 8   trigram        2017 non-null   object\n",
      " 9   keyword        2017 non-null   object\n",
      " 10  count_matrix   2017 non-null   object\n",
      " 11  Nominations    2017 non-null   object\n",
      "dtypes: object(12)\n",
      "memory usage: 269.4+ KB\n"
     ]
    }
   ],
   "source": [
    "merged_df.info()"
   ]
  },
  {
   "cell_type": "markdown",
   "id": "d236e798",
   "metadata": {},
   "source": [
    "#### Статистическая оценка распределния целевой переменной"
   ]
  },
  {
   "cell_type": "code",
   "execution_count": 76,
   "id": "ee8cd58d",
   "metadata": {},
   "outputs": [],
   "source": [
    "# преобразование номинаций в числа\n",
    "merged_df['NomiantionToInt'] = pd.factorize(merged_df['Nominations'])[0]"
   ]
  },
  {
   "cell_type": "code",
   "execution_count": 100,
   "id": "4deba12e",
   "metadata": {},
   "outputs": [
    {
     "data": {
      "text/html": [
       "<div>\n",
       "<style scoped>\n",
       "    .dataframe tbody tr th:only-of-type {\n",
       "        vertical-align: middle;\n",
       "    }\n",
       "\n",
       "    .dataframe tbody tr th {\n",
       "        vertical-align: top;\n",
       "    }\n",
       "\n",
       "    .dataframe thead th {\n",
       "        text-align: right;\n",
       "    }\n",
       "</style>\n",
       "<table border=\"1\" class=\"dataframe\">\n",
       "  <thead>\n",
       "    <tr style=\"text-align: right;\">\n",
       "      <th></th>\n",
       "      <th>TitleCompany</th>\n",
       "      <th>Reiting</th>\n",
       "      <th>DatePublish</th>\n",
       "      <th>TextPost</th>\n",
       "      <th>Categories</th>\n",
       "      <th>TextPostLemat</th>\n",
       "      <th>TextPostToken</th>\n",
       "      <th>bigram</th>\n",
       "      <th>trigram</th>\n",
       "      <th>keyword</th>\n",
       "      <th>count_matrix</th>\n",
       "      <th>Nominations</th>\n",
       "      <th>NomiantionToInt</th>\n",
       "    </tr>\n",
       "  </thead>\n",
       "  <tbody>\n",
       "    <tr>\n",
       "      <th>1091</th>\n",
       "      <td>Студия Артемия Лебедева</td>\n",
       "      <td>Пусто</td>\n",
       "      <td>15 февраля</td>\n",
       "      <td>Те, кто каждый день заходят на сайт студии Арт...</td>\n",
       "      <td>Пусто</td>\n",
       "      <td>каждый день заходить сайт студия артемий лебед...</td>\n",
       "      <td>[каждый, день, заходить, сайт, студия, артемий...</td>\n",
       "      <td>[(каждый, день), (день, заходить), (заходить, ...</td>\n",
       "      <td>[(каждый, день, заходить), (день, заходить, са...</td>\n",
       "      <td>логотип, буква, студия, однако, журнал, раша, ...</td>\n",
       "      <td>(0, 71)\\t1\\n  (0, 37)\\t1\\n  (0, 62)\\t1\\n  (0...</td>\n",
       "      <td>Креативные индустрии</td>\n",
       "      <td>2</td>\n",
       "    </tr>\n",
       "    <tr>\n",
       "      <th>275</th>\n",
       "      <td>Skillbox</td>\n",
       "      <td>113.82</td>\n",
       "      <td>24 февраля</td>\n",
       "      <td>Подборка мероприятий на неделю\\n\\nMosQA meetup...</td>\n",
       "      <td>Пусто</td>\n",
       "      <td>подборка мероприятие неделя mosqa meetup mail ...</td>\n",
       "      <td>[подборка, мероприятие, неделя, mosqa, meetup,...</td>\n",
       "      <td>[(подборка, мероприятие), (мероприятие, неделя...</td>\n",
       "      <td>[(подборка, мероприятие, неделя), (мероприятие...</td>\n",
       "      <td>февраль, бесплатно, яндекс, эксперт, мероприят...</td>\n",
       "      <td>(0, 646)\\t1\\n  (0, 474)\\t4\\n  (0, 534)\\t1\\n ...</td>\n",
       "      <td>Наука, технологии и инновации</td>\n",
       "      <td>1</td>\n",
       "    </tr>\n",
       "    <tr>\n",
       "      <th>400</th>\n",
       "      <td>Skillbox</td>\n",
       "      <td>113.82</td>\n",
       "      <td>9 августа</td>\n",
       "      <td>От переводчика: это перевод статьи Александра ...</td>\n",
       "      <td>Пусто</td>\n",
       "      <td>переводчик перевод статья александр шапорда dj...</td>\n",
       "      <td>[переводчик, перевод, статья, александр, шапор...</td>\n",
       "      <td>[(переводчик, перевод), (перевод, статья), (ст...</td>\n",
       "      <td>[(переводчик, перевод, статья), (перевод, стат...</td>\n",
       "      <td>пользователь, приложение, должный, цель, игра,...</td>\n",
       "      <td>(0, 775)\\t1\\n  (0, 772)\\t1\\n  (0, 1216)\\t2\\n...</td>\n",
       "      <td>Наука, технологии и инновации</td>\n",
       "      <td>1</td>\n",
       "    </tr>\n",
       "    <tr>\n",
       "      <th>1357</th>\n",
       "      <td>Нетология</td>\n",
       "      <td>89.34</td>\n",
       "      <td>23  июн  2022 в 16:20</td>\n",
       "      <td>Привет, Хабр! В прошлом году компания Statist...</td>\n",
       "      <td>веб разработка дизайн и юзабилити реклама и м...</td>\n",
       "      <td>привет хабр прошлый год компания statista пров...</td>\n",
       "      <td>[привет, хабр, прошлый, год, компания, statist...</td>\n",
       "      <td>[(привет, хабр), (хабр, прошлый), (прошлый, го...</td>\n",
       "      <td>[(привет, хабр, прошлый), (хабр, прошлый, год)...</td>\n",
       "      <td>kubernetes, кластер, managed, проект, использо...</td>\n",
       "      <td>(0, 886)\\t1\\n  (0, 1343)\\t1\\n  (0, 993)\\t1\\n...</td>\n",
       "      <td>Образование и Кадры</td>\n",
       "      <td>5</td>\n",
       "    </tr>\n",
       "    <tr>\n",
       "      <th>1694</th>\n",
       "      <td>Нетология</td>\n",
       "      <td>89.34</td>\n",
       "      <td>27  авг  2019 в 07:23</td>\n",
       "      <td>27 августа стартует Education Show — бесплатн...</td>\n",
       "      <td>веб разработка дизайн и юзабилити реклама и м...</td>\n",
       "      <td>август стартовать education show бесплатный об...</td>\n",
       "      <td>[август, стартовать, education, show, бесплатн...</td>\n",
       "      <td>[(август, стартовать), (стартовать, education)...</td>\n",
       "      <td>[(август, стартовать, education), (стартовать,...</td>\n",
       "      <td>задание, лекция, личный, кабинет, находить, ку...</td>\n",
       "      <td>(0, 54)\\t2\\n  (0, 1190)\\t1\\n  (0, 7)\\t8\\n  (...</td>\n",
       "      <td>Образование и Кадры</td>\n",
       "      <td>5</td>\n",
       "    </tr>\n",
       "  </tbody>\n",
       "</table>\n",
       "</div>"
      ],
      "text/plain": [
       "                 TitleCompany  Reiting            DatePublish  \\\n",
       "1091  Студия Артемия Лебедева    Пусто             15 февраля   \n",
       "275                  Skillbox   113.82             24 февраля   \n",
       "400                  Skillbox   113.82              9 августа   \n",
       "1357                Нетология   89.34   23  июн  2022 в 16:20   \n",
       "1694                Нетология   89.34   27  авг  2019 в 07:23   \n",
       "\n",
       "                                               TextPost  \\\n",
       "1091  Те, кто каждый день заходят на сайт студии Арт...   \n",
       "275   Подборка мероприятий на неделю\\n\\nMosQA meetup...   \n",
       "400   От переводчика: это перевод статьи Александра ...   \n",
       "1357   Привет, Хабр! В прошлом году компания Statist...   \n",
       "1694   27 августа стартует Education Show — бесплатн...   \n",
       "\n",
       "                                             Categories  \\\n",
       "1091                                              Пусто   \n",
       "275                                               Пусто   \n",
       "400                                               Пусто   \n",
       "1357   веб разработка дизайн и юзабилити реклама и м...   \n",
       "1694   веб разработка дизайн и юзабилити реклама и м...   \n",
       "\n",
       "                                          TextPostLemat  \\\n",
       "1091  каждый день заходить сайт студия артемий лебед...   \n",
       "275   подборка мероприятие неделя mosqa meetup mail ...   \n",
       "400   переводчик перевод статья александр шапорда dj...   \n",
       "1357  привет хабр прошлый год компания statista пров...   \n",
       "1694  август стартовать education show бесплатный об...   \n",
       "\n",
       "                                          TextPostToken  \\\n",
       "1091  [каждый, день, заходить, сайт, студия, артемий...   \n",
       "275   [подборка, мероприятие, неделя, mosqa, meetup,...   \n",
       "400   [переводчик, перевод, статья, александр, шапор...   \n",
       "1357  [привет, хабр, прошлый, год, компания, statist...   \n",
       "1694  [август, стартовать, education, show, бесплатн...   \n",
       "\n",
       "                                                 bigram  \\\n",
       "1091  [(каждый, день), (день, заходить), (заходить, ...   \n",
       "275   [(подборка, мероприятие), (мероприятие, неделя...   \n",
       "400   [(переводчик, перевод), (перевод, статья), (ст...   \n",
       "1357  [(привет, хабр), (хабр, прошлый), (прошлый, го...   \n",
       "1694  [(август, стартовать), (стартовать, education)...   \n",
       "\n",
       "                                                trigram  \\\n",
       "1091  [(каждый, день, заходить), (день, заходить, са...   \n",
       "275   [(подборка, мероприятие, неделя), (мероприятие...   \n",
       "400   [(переводчик, перевод, статья), (перевод, стат...   \n",
       "1357  [(привет, хабр, прошлый), (хабр, прошлый, год)...   \n",
       "1694  [(август, стартовать, education), (стартовать,...   \n",
       "\n",
       "                                                keyword  \\\n",
       "1091  логотип, буква, студия, однако, журнал, раша, ...   \n",
       "275   февраль, бесплатно, яндекс, эксперт, мероприят...   \n",
       "400   пользователь, приложение, должный, цель, игра,...   \n",
       "1357  kubernetes, кластер, managed, проект, использо...   \n",
       "1694  задание, лекция, личный, кабинет, находить, ку...   \n",
       "\n",
       "                                           count_matrix  \\\n",
       "1091    (0, 71)\\t1\\n  (0, 37)\\t1\\n  (0, 62)\\t1\\n  (0...   \n",
       "275     (0, 646)\\t1\\n  (0, 474)\\t4\\n  (0, 534)\\t1\\n ...   \n",
       "400     (0, 775)\\t1\\n  (0, 772)\\t1\\n  (0, 1216)\\t2\\n...   \n",
       "1357    (0, 886)\\t1\\n  (0, 1343)\\t1\\n  (0, 993)\\t1\\n...   \n",
       "1694    (0, 54)\\t2\\n  (0, 1190)\\t1\\n  (0, 7)\\t8\\n  (...   \n",
       "\n",
       "                        Nominations  NomiantionToInt  \n",
       "1091           Креативные индустрии                2  \n",
       "275   Наука, технологии и инновации                1  \n",
       "400   Наука, технологии и инновации                1  \n",
       "1357            Образование и Кадры                5  \n",
       "1694            Образование и Кадры                5  "
      ]
     },
     "execution_count": 100,
     "metadata": {},
     "output_type": "execute_result"
    }
   ],
   "source": [
    "merged_df.sample(5)"
   ]
  },
  {
   "cell_type": "code",
   "execution_count": 77,
   "id": "89669551",
   "metadata": {},
   "outputs": [
    {
     "name": "stdout",
     "output_type": "stream",
     "text": [
      "Statistics=0.826, p=0.000\n",
      "Sample does not look Gaussian (reject H0)\n"
     ]
    }
   ],
   "source": [
    "# Тест Шапиро-Уилка\n",
    "stat, p = shapiro(merged_df['NomiantionToInt'])\n",
    "print('Statistics=%.3f, p=%.3f' % (stat, p))\n",
    "alpha = 0.05\n",
    "if p > alpha:\n",
    "    print('Sample looks Gaussian (fail to reject H0)')\n",
    "else:\n",
    "    print('Sample does not look Gaussian (reject H0)')"
   ]
  },
  {
   "cell_type": "code",
   "execution_count": 103,
   "id": "f05b42fe",
   "metadata": {},
   "outputs": [
    {
     "name": "stdout",
     "output_type": "stream",
     "text": [
      "Statistics=12404.350, p=0.000\n",
      "Sample does not look Gaussian (reject H0)\n"
     ]
    }
   ],
   "source": [
    "# К-квадрат Д’Агостино\n",
    "stat, p = normaltest(merged_df['NomiantionToInt'])\n",
    "print('Statistics=%.3f, p=%.3f' % (stat, p))\n",
    "alpha = 0.05\n",
    "if p > alpha:\n",
    "    print('Sample looks Gaussian (fail to reject H0)')\n",
    "else:\n",
    "    print('Sample does not look Gaussian (reject H0)')"
   ]
  },
  {
   "cell_type": "code",
   "execution_count": 95,
   "id": "80ac7c4a",
   "metadata": {},
   "outputs": [
    {
     "name": "stdout",
     "output_type": "stream",
     "text": [
      "Statistics=131.217\n",
      "Probably not Gaussian : 0.575 critical value at 15.0 level of significanse\n",
      "Probably not Gaussian : 0.655 critical value at 10.0 level of significanse\n",
      "Probably not Gaussian : 0.785 critical value at 5.0 level of significanse\n",
      "Probably not Gaussian : 0.916 critical value at 2.5 level of significanse\n",
      "Probably not Gaussian : 1.09 critical value at 1.0 level of significanse\n"
     ]
    }
   ],
   "source": [
    "# Тест на нормальность Андерсона-Дарлинга\n",
    "result = anderson(merged_df['NomiantionToInt'])\n",
    "print('Statistics=%.3f' % (result.statistic))\n",
    "for i in range(len(result.critical_values)):\n",
    "    sig_lev,crit_val = result.significance_level[i], result.critical_values[i]\n",
    "    if result.statistic < sig_lev:\n",
    "        print(f'Probably Gaussian : {crit_val} critical value at {sig_lev} level of significanse')\n",
    "    else:\n",
    "        print(f'Probably not Gaussian : {crit_val} critical value at {sig_lev} level of significanse')"
   ]
  },
  {
   "cell_type": "code",
   "execution_count": 79,
   "id": "441d6d7b",
   "metadata": {},
   "outputs": [
    {
     "name": "stdout",
     "output_type": "stream",
     "text": [
      "Mean: 2.857709469509172\n"
     ]
    }
   ],
   "source": [
    "mean = merged_df['NomiantionToInt'].mean()\n",
    "print('Mean:', mean)"
   ]
  },
  {
   "cell_type": "code",
   "execution_count": 80,
   "id": "0f3567ab",
   "metadata": {},
   "outputs": [
    {
     "name": "stdout",
     "output_type": "stream",
     "text": [
      "Median: 3.0\n"
     ]
    }
   ],
   "source": [
    "median = merged_df['NomiantionToInt'].median()\n",
    "print('Median:', median)"
   ]
  },
  {
   "cell_type": "markdown",
   "id": "2868d326",
   "metadata": {},
   "source": [
    "#### Визуализация распределения целевой переменной"
   ]
  },
  {
   "cell_type": "code",
   "execution_count": 78,
   "id": "59462a14",
   "metadata": {},
   "outputs": [
    {
     "data": {
      "image/png": "[encoded data removed]",
      "text/plain": [
       "<Figure size 640x480 with 1 Axes>"
      ]
     },
     "metadata": {},
     "output_type": "display_data"
    }
   ],
   "source": [
    "plt.hist(merged_df['NomiantionToInt'], bins=10)\n",
    "plt.show()"
   ]
  },
  {
   "cell_type": "code",
   "execution_count": 98,
   "id": "61ca7af2",
   "metadata": {},
   "outputs": [
    {
     "data": {
      "image/png": "[encoded data removed]",
      "text/plain": [
       "<Figure size 640x480 with 1 Axes>"
      ]
     },
     "metadata": {},
     "output_type": "display_data"
    }
   ],
   "source": [
    "stats.probplot(merged_df['NomiantionToInt'], dist='norm', plot=pylab)\n",
    "pylab.show()"
   ]
  },
  {
   "cell_type": "code",
   "execution_count": 99,
   "id": "382aa47e",
   "metadata": {},
   "outputs": [
    {
     "data": {
      "text/plain": [
       "<Axes: xlabel='NomiantionToInt'>"
      ]
     },
     "execution_count": 99,
     "metadata": {},
     "output_type": "execute_result"
    },
    {
     "data": {
      "image/png": "[encoded data removed]",
      "text/plain": [
       "<Figure size 640x480 with 1 Axes>"
      ]
     },
     "metadata": {},
     "output_type": "display_data"
    }
   ],
   "source": [
    "sns.boxplot(x=merged_df['NomiantionToInt'])"
   ]
  },
  {
   "cell_type": "code",
   "execution_count": 101,
   "id": "fbee1d61",
   "metadata": {},
   "outputs": [
    {
     "name": "stderr",
     "output_type": "stream",
     "text": [
      "C:\\Users\\МОиБД\\AppData\\Local\\Temp\\ipykernel_6264\\2577834100.py:1: UserWarning: \n",
      "\n",
      "`distplot` is a deprecated function and will be removed in seaborn v0.14.0.\n",
      "\n",
      "Please adapt your code to use either `displot` (a figure-level function with\n",
      "similar flexibility) or `histplot` (an axes-level function for histograms).\n",
      "\n",
      "For a guide to updating your code to use the new functions, please see\n",
      "https://gist.github.com/mwaskom/de44147ed2974457ad6372750bbe5751\n",
      "\n",
      "  sns.distplot(x=merged_df['NomiantionToInt'])\n"
     ]
    },
    {
     "data": {
      "text/plain": [
       "<Axes: ylabel='Density'>"
      ]
     },
     "execution_count": 101,
     "metadata": {},
     "output_type": "execute_result"
    },
    {
     "data": {
      "image/png": "[encoded data removed]",
      "text/plain": [
       "<Figure size 640x480 with 1 Axes>"
      ]
     },
     "metadata": {},
     "output_type": "display_data"
    }
   ],
   "source": [
    "sns.distplot(x=merged_df['NomiantionToInt'])"
   ]
  },
  {
   "cell_type": "markdown",
   "id": "869ee920",
   "metadata": {},
   "source": [
    "#### Визуализация зависимостей признаков от целевой переменной"
   ]
  },
  {
   "cell_type": "code",
   "execution_count": 81,
   "id": "c58665a5",
   "metadata": {},
   "outputs": [
    {
     "data": {
      "image/png": "[encoded data removed]",
      "text/plain": [
       "<Figure size 640x480 with 1 Axes>"
      ]
     },
     "metadata": {},
     "output_type": "display_data"
    }
   ],
   "source": [
    "# визализация зависимости даты от номинации\n",
    "plt.plot(merged_df['DatePublish'], merged_df['Nominations'])\n",
    "plt.xlabel('Дата публикации')\n",
    "plt.ylabel('Целевая переменная')\n",
    "plt.title('Зависимость')\n",
    "plt.show()"
   ]
  },
  {
   "cell_type": "code",
   "execution_count": 82,
   "id": "3bd22a1a",
   "metadata": {},
   "outputs": [
    {
     "data": {
      "image/png": "[encoded data removed]",
      "text/plain": [
       "<Figure size 640x480 with 1 Axes>"
      ]
     },
     "metadata": {},
     "output_type": "display_data"
    }
   ],
   "source": [
    "# визализация зависимости ключевых слов от номинации\n",
    "plt.plot(merged_df['keyword'], merged_df['Nominations'])\n",
    "plt.xlabel('Ключевые слова')\n",
    "plt.ylabel('Целевая переменная')\n",
    "plt.title('Зависимость')\n",
    "plt.show()"
   ]
  },
  {
   "cell_type": "markdown",
   "id": "afcd74c4",
   "metadata": {},
   "source": [
    "#### Вывод об ассиметрии и мере скошенности"
   ]
  },
  {
   "cell_type": "code",
   "execution_count": 83,
   "id": "51dbc1e9",
   "metadata": {},
   "outputs": [
    {
     "name": "stdout",
     "output_type": "stream",
     "text": [
      "Ассиметрия: 0.15866003033711368\n",
      "Мера скошенности: -1.523855064550665\n"
     ]
    }
   ],
   "source": [
    "skewness = merged_df['NomiantionToInt'].skew()\n",
    "kurtosis = merged_df['NomiantionToInt'].kurtosis()\n",
    "\n",
    "\n",
    "print('Ассиметрия:', skewness)\n",
    "print('Мера скошенности:', kurtosis)"
   ]
  },
  {
   "cell_type": "code",
   "execution_count": 87,
   "id": "0657d59a",
   "metadata": {},
   "outputs": [],
   "source": [
    "# сохраняем DataFrame в файл\n",
    "merged_df.to_csv(r'C:\\Users\\МОиБД\\Downloads\\Report1.csv', index=False, encoding='utf-8')"
   ]
  },
  {
   "cell_type": "markdown",
   "id": "2d2ac563",
   "metadata": {},
   "source": [
    "### 1.6 Подготовка отчета"
   ]
  },
  {
   "cell_type": "markdown",
   "id": "eec604a7",
   "metadata": {},
   "source": [
    "\n",
    "__1.1 Парсинг данных__ Пункт был выполнен без нареканий. Сначала был выполнен парсинг Json, затем был выполнен парсинг вордовского документа с необходимыми компаниями, после парсинга компаний были выделены компании, которых не было в json файле.\n",
    "Затем был выполнен парсинг сайта Habr, по поиску из всех номинированных компаний были выделены их статьи и информация о компаниях, также стали известны компании, которых полностью нет ни на Habr, ни в Json, сами компании: Gett, MMA.Metaratings, Метарейтинг, Balance Platform, Дневник МЭШ, скорее всего, причина в том, что эти компании удалили с сайта Habr.\n",
    "\n",
    "__1.2 Формирование структуры набора данных__ Набор данных успешно был сформирован, все переменные были полностью записаны. Целевыми переменными являются: TitleCompany, TextPostLemat, TextPostToken.\n",
    "\n",
    "__1.3 Предварительная обработка текстовых данных__ Предварительная обработка данных выполнена без проблем, также были обработаны пропуски. Были созданы самые необходимые признаки TextPostLemat и TextPostToken, в дальнейшем будет производиться работа только с ними. Работа с обработкой данных завершена, данные полностью обработаны.\n",
    "\n",
    "__1.4 Поиск ключевых слов/n-грамм. Векторизация текста__ Пункт был выполнен успешно, без каких либо проблем. Биграммы, триграммы и векторизация выполнены успешно. А также добавлены как новые признаки. Была выполнена векторизация через CountVectorizer.\n",
    "\n",
    "    __1.4.1 Выбранный метод биграмм nltk.ngrams__ \n",
    "    \n",
    "    __1.4.2 Выбранный метод триграмм nltk.ngrams__\n",
    "    \n",
    "    __1.4.3 Выбранный метод ключевых слов nltk.FreqDist__ \n",
    "    \n",
    "    Каждый из трех методов выбран по причине удобного и простого использования, по сравнению с другими. Были перебраны несколько алгоритмов, некоторые либо работали некорректно, либо работали не так удобно, как nltk.ngrams и nltk.FreqDist.\n",
    "    \n",
    "__1.5 Разведочный анализ__ Данный пункт выполнен без каких либо проблем. В пункте был прочитан Json файл, и стали известны какие номинации у каких компаний. Поэтому все названия статей были обработаны для полного соответствия друг с другом, и затем присвоины номинации. Номинация - это целевая переменная, основная работа в дальнейшем будет проходить с ней. Также была выполнена проверка нормальности распределения целевой переменной. Проведена графическая оценка (на основе ключевых слов и даты публикации) и статическая оценка распределения целевой переменной. Сделан вывод о типе распределения, ассиметрии и мере скошенности.\n",
    "\n",
    "\n",
    "### Вывод\n",
    "\n",
    "В итоге датафрейм полностью готов к 2-ей Сессии. Номинации присвоены корректно.\n"
   ]
  }
 ],
 "metadata": {
  "kernelspec": {
   "display_name": "Python 3 (ipykernel)",
   "language": "python",
   "name": "python3"
  },
  "language_info": {
   "codemirror_mode": {
    "name": "ipython",
    "version": 3
   },
   "file_extension": ".py",
   "mimetype": "text/x-python",
   "name": "python",
   "nbconvert_exporter": "python",
   "pygments_lexer": "ipython3",
   "version": "3.10.9"
  }
 },
 "nbformat": 4,
 "nbformat_minor": 5
}
