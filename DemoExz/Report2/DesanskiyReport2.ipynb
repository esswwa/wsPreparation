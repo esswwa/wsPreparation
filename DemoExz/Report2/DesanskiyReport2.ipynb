{
 "cells": [
  {
   "cell_type": "markdown",
   "id": "5ad211d6",
   "metadata": {},
   "source": [
    "## Сессия 2"
   ]
  },
  {
   "cell_type": "markdown",
   "id": "11707df4",
   "metadata": {},
   "source": [
    "#### Импортирование библиотек"
   ]
  },
  {
   "cell_type": "code",
   "execution_count": 4,
   "id": "f6ad25d3",
   "metadata": {},
   "outputs": [],
   "source": [
    "import pandas as pd\n",
    "import nltk\n",
    "import matplotlib.pyplot as plt\n",
    "import numpy as np\n",
    "from nltk.stem import *\n",
    "from __future__ import division\n",
    "from sklearn.metrics import silhouette_score\n",
    "from sklearn.manifold import TSNE\n",
    "from sklearn.decomposition import NMF\n",
    "from sklearn.decomposition import TruncatedSVD\n",
    "from sklearn.metrics.pairwise import linear_kernel\n",
    "from sklearn.metrics.pairwise import cosine_similarity\n",
    "from sklearn.naive_bayes import MultinomialNB\n",
    "from sklearn.feature_extraction.text import CountVectorizer\n",
    "from sklearn.pipeline import Pipeline\n",
    "from sklearn.model_selection import train_test_split\n",
    "from sklearn.feature_extraction.text import TfidfTransformer\n",
    "import seaborn as sns\n",
    "from sklearn.metrics import classification_report\n",
    "from sklearn.linear_model import SGDClassifier\n",
    "from sklearn.metrics import accuracy_score\n",
    "from sklearn.linear_model import LogisticRegression\n",
    "import json\n",
    "from sklearn.model_selection import learning_curve"
   ]
  },
  {
   "cell_type": "markdown",
   "id": "8efe99f4",
   "metadata": {},
   "source": [
    "### Формирование структуры набора данных"
   ]
  },
  {
   "cell_type": "markdown",
   "id": "dd676589",
   "metadata": {},
   "source": [
    "1 __TitleCompany__ - Название компании.\n",
    "\n",
    "2 __Nominations__ - Номинации компаний.\n",
    "\n",
    "3 __Reiting__ - Рейтинг компании.\n",
    "\n",
    "4 __Categories__ - Категории компании.\n",
    "\n",
    "5 __DatePublish__ - Дата опубликования статьи.\n",
    "\n",
    "6 __TextPost__ - необработанный текст.\n",
    "\n",
    "7 __TextPostLemat__ - обработанный, лемматизированный текст.\n",
    "\n",
    "8 __TextPostToken__ - обработанный, токенизированный и лематизированный текст.\n",
    "\n",
    "9 __bigram__ - биграммы обработанного и лемматизированного текста.\n",
    "\n",
    "10 __trigram__ - триграммы обработанного и лемматизированного текста.\n",
    "\n",
    "11 __keyword__ - ключевые слова обработанного и лемматизированного текста.\n",
    "\n",
    "12 __NominationsToInt__ - Преобразованные номинации компаний в цифры."
   ]
  },
  {
   "cell_type": "markdown",
   "id": "38b94f4c",
   "metadata": {},
   "source": [
    "## 2.1 Разбиение выборки"
   ]
  },
  {
   "cell_type": "markdown",
   "id": "c100223e",
   "metadata": {},
   "source": [
    "#### Обучение моделей"
   ]
  },
  {
   "cell_type": "code",
   "execution_count": 5,
   "id": "a0b607fd",
   "metadata": {},
   "outputs": [],
   "source": [
    "# чтение csv файла\n",
    "dfHabr1 = pd.read_csv(r'C:\\Users\\essww\\Downloads\\Telegram Desktop\\Report1.csv')"
   ]
  },
  {
   "cell_type": "code",
   "execution_count": 6,
   "id": "d3cd8c24",
   "metadata": {},
   "outputs": [
    {
     "name": "stdout",
     "output_type": "stream",
     "text": [
      "<class 'pandas.core.frame.DataFrame'>\n",
      "RangeIndex: 2017 entries, 0 to 2016\n",
      "Data columns (total 11 columns):\n",
      " #   Column         Non-Null Count  Dtype \n",
      "---  ------         --------------  ----- \n",
      " 0   TitleCompany   2017 non-null   object\n",
      " 1   Reiting        2017 non-null   object\n",
      " 2   DatePublish    2017 non-null   object\n",
      " 3   TextPost       2017 non-null   object\n",
      " 4   Categories     2017 non-null   object\n",
      " 5   TextPostLemat  2017 non-null   object\n",
      " 6   TextPostToken  2017 non-null   object\n",
      " 7   bigram         2017 non-null   object\n",
      " 8   trigram        2017 non-null   object\n",
      " 9   keyword        2017 non-null   object\n",
      " 10  Nominations    2017 non-null   object\n",
      "dtypes: object(11)\n",
      "memory usage: 173.5+ KB\n"
     ]
    }
   ],
   "source": [
    "dfHabr1.info()"
   ]
  },
  {
   "cell_type": "code",
   "execution_count": 7,
   "id": "d4d659b5",
   "metadata": {},
   "outputs": [],
   "source": [
    "# выбор целевой и обучающей переменной\n",
    "X = dfHabr1['TextPost']\n",
    "y = dfHabr1['Nominations']"
   ]
  },
  {
   "cell_type": "code",
   "execution_count": 8,
   "id": "55acfce9",
   "metadata": {},
   "outputs": [],
   "source": [
    "# деление на обучающие и тестовые переменные\n",
    "X_train, X_test, y_train, y_test = train_test_split(X, y, test_size=0.3, random_state = 42)"
   ]
  },
  {
   "cell_type": "markdown",
   "id": "295d5bc7",
   "metadata": {},
   "source": [
    "Выборка нужно делить на обучающую и тестовую для того, чтобы обучение не прошло просто так. То есть сначала идет обучение, потом проверка, и так он понимает, насколько хорошо обучился. Обычно на тестовую выборку оставляют 30% данных."
   ]
  },
  {
   "cell_type": "code",
   "execution_count": 9,
   "id": "980ece73",
   "metadata": {},
   "outputs": [
    {
     "data": {
      "text/plain": [
       "array(['Игровая индустрия и киберспорт', 'Наука, технологии и инновации',\n",
       "       'Креативные индустрии', 'Здоровье и медицина',\n",
       "       'Экономика и Бизнес', 'Образование и Кадры'], dtype=object)"
      ]
     },
     "execution_count": 9,
     "metadata": {},
     "output_type": "execute_result"
    }
   ],
   "source": [
    "# вывод целевой переменной\n",
    "my_tags = dfHabr1['Nominations'].unique()\n",
    "my_tags"
   ]
  },
  {
   "cell_type": "markdown",
   "id": "8b950a4e",
   "metadata": {},
   "source": [
    "MultinomialNB - это алгоритм классификации, который используется в машинном обучении для классификации текста и других данных с дискретными признаками. Он является вариантом алгоритма Naive Bayes, который основан на теореме Байеса и предположении о независимости между признаками. MultinomialNB особенно полезен для задач классификации текста, таких как фильтрация спама и анализ тональности текста. Алгоритм работает путем расчета вероятности каждого класса на основе входных признаков и выбора класса с наибольшей вероятностью в качестве выхода. В случае классификации текста входными признаками обычно являются частоты каждого слова в документе, а классы - это категории, на которые можно классифицировать документ. MultinomialNB реализован в библиотеке scikit-learn на Python, которая обеспечивает простой и эффективный интерфейс для обучения и использования алгоритма. MultinomialNB выбирается, когда распределение признаков дискретное\n",
    "\n",
    "Ссылка на источник: https://scikit-learn.org/stable/modules/generated/sklearn.naive_bayes.MultinomialNB.html"
   ]
  },
  {
   "cell_type": "code",
   "execution_count": 10,
   "id": "dc8ebda6",
   "metadata": {},
   "outputs": [],
   "source": [
    "# создание nb, которая будет сразу производить 3 действия с последовательностью, с помощью Pipeline\n",
    "nb = Pipeline([('vect', CountVectorizer()),\n",
    "               ('tfidf', TfidfTransformer()),\n",
    "               ('clf', MultinomialNB()),\n",
    "              ])"
   ]
  },
  {
   "cell_type": "code",
   "execution_count": 11,
   "id": "24ef8731",
   "metadata": {},
   "outputs": [
    {
     "data": {
      "text/html": [
       "<style>#sk-container-id-1 {color: black;background-color: white;}#sk-container-id-1 pre{padding: 0;}#sk-container-id-1 div.sk-toggleable {background-color: white;}#sk-container-id-1 label.sk-toggleable__label {cursor: pointer;display: block;width: 100%;margin-bottom: 0;padding: 0.3em;box-sizing: border-box;text-align: center;}#sk-container-id-1 label.sk-toggleable__label-arrow:before {content: \"▸\";float: left;margin-right: 0.25em;color: #696969;}#sk-container-id-1 label.sk-toggleable__label-arrow:hover:before {color: black;}#sk-container-id-1 div.sk-estimator:hover label.sk-toggleable__label-arrow:before {color: black;}#sk-container-id-1 div.sk-toggleable__content {max-height: 0;max-width: 0;overflow: hidden;text-align: left;background-color: #f0f8ff;}#sk-container-id-1 div.sk-toggleable__content pre {margin: 0.2em;color: black;border-radius: 0.25em;background-color: #f0f8ff;}#sk-container-id-1 input.sk-toggleable__control:checked~div.sk-toggleable__content {max-height: 200px;max-width: 100%;overflow: auto;}#sk-container-id-1 input.sk-toggleable__control:checked~label.sk-toggleable__label-arrow:before {content: \"▾\";}#sk-container-id-1 div.sk-estimator input.sk-toggleable__control:checked~label.sk-toggleable__label {background-color: #d4ebff;}#sk-container-id-1 div.sk-label input.sk-toggleable__control:checked~label.sk-toggleable__label {background-color: #d4ebff;}#sk-container-id-1 input.sk-hidden--visually {border: 0;clip: rect(1px 1px 1px 1px);clip: rect(1px, 1px, 1px, 1px);height: 1px;margin: -1px;overflow: hidden;padding: 0;position: absolute;width: 1px;}#sk-container-id-1 div.sk-estimator {font-family: monospace;background-color: #f0f8ff;border: 1px dotted black;border-radius: 0.25em;box-sizing: border-box;margin-bottom: 0.5em;}#sk-container-id-1 div.sk-estimator:hover {background-color: #d4ebff;}#sk-container-id-1 div.sk-parallel-item::after {content: \"\";width: 100%;border-bottom: 1px solid gray;flex-grow: 1;}#sk-container-id-1 div.sk-label:hover label.sk-toggleable__label {background-color: #d4ebff;}#sk-container-id-1 div.sk-serial::before {content: \"\";position: absolute;border-left: 1px solid gray;box-sizing: border-box;top: 0;bottom: 0;left: 50%;z-index: 0;}#sk-container-id-1 div.sk-serial {display: flex;flex-direction: column;align-items: center;background-color: white;padding-right: 0.2em;padding-left: 0.2em;position: relative;}#sk-container-id-1 div.sk-item {position: relative;z-index: 1;}#sk-container-id-1 div.sk-parallel {display: flex;align-items: stretch;justify-content: center;background-color: white;position: relative;}#sk-container-id-1 div.sk-item::before, #sk-container-id-1 div.sk-parallel-item::before {content: \"\";position: absolute;border-left: 1px solid gray;box-sizing: border-box;top: 0;bottom: 0;left: 50%;z-index: -1;}#sk-container-id-1 div.sk-parallel-item {display: flex;flex-direction: column;z-index: 1;position: relative;background-color: white;}#sk-container-id-1 div.sk-parallel-item:first-child::after {align-self: flex-end;width: 50%;}#sk-container-id-1 div.sk-parallel-item:last-child::after {align-self: flex-start;width: 50%;}#sk-container-id-1 div.sk-parallel-item:only-child::after {width: 0;}#sk-container-id-1 div.sk-dashed-wrapped {border: 1px dashed gray;margin: 0 0.4em 0.5em 0.4em;box-sizing: border-box;padding-bottom: 0.4em;background-color: white;}#sk-container-id-1 div.sk-label label {font-family: monospace;font-weight: bold;display: inline-block;line-height: 1.2em;}#sk-container-id-1 div.sk-label-container {text-align: center;}#sk-container-id-1 div.sk-container {/* jupyter's `normalize.less` sets `[hidden] { display: none; }` but bootstrap.min.css set `[hidden] { display: none !important; }` so we also need the `!important` here to be able to override the default hidden behavior on the sphinx rendered scikit-learn.org. See: https://github.com/scikit-learn/scikit-learn/issues/21755 */display: inline-block !important;position: relative;}#sk-container-id-1 div.sk-text-repr-fallback {display: none;}</style><div id=\"sk-container-id-1\" class=\"sk-top-container\"><div class=\"sk-text-repr-fallback\"><pre>Pipeline(steps=[(&#x27;vect&#x27;, CountVectorizer()), (&#x27;tfidf&#x27;, TfidfTransformer()),\n",
       "                (&#x27;clf&#x27;, MultinomialNB())])</pre><b>In a Jupyter environment, please rerun this cell to show the HTML representation or trust the notebook. <br />On GitHub, the HTML representation is unable to render, please try loading this page with nbviewer.org.</b></div><div class=\"sk-container\" hidden><div class=\"sk-item sk-dashed-wrapped\"><div class=\"sk-label-container\"><div class=\"sk-label sk-toggleable\"><input class=\"sk-toggleable__control sk-hidden--visually\" id=\"sk-estimator-id-1\" type=\"checkbox\" ><label for=\"sk-estimator-id-1\" class=\"sk-toggleable__label sk-toggleable__label-arrow\">Pipeline</label><div class=\"sk-toggleable__content\"><pre>Pipeline(steps=[(&#x27;vect&#x27;, CountVectorizer()), (&#x27;tfidf&#x27;, TfidfTransformer()),\n",
       "                (&#x27;clf&#x27;, MultinomialNB())])</pre></div></div></div><div class=\"sk-serial\"><div class=\"sk-item\"><div class=\"sk-estimator sk-toggleable\"><input class=\"sk-toggleable__control sk-hidden--visually\" id=\"sk-estimator-id-2\" type=\"checkbox\" ><label for=\"sk-estimator-id-2\" class=\"sk-toggleable__label sk-toggleable__label-arrow\">CountVectorizer</label><div class=\"sk-toggleable__content\"><pre>CountVectorizer()</pre></div></div></div><div class=\"sk-item\"><div class=\"sk-estimator sk-toggleable\"><input class=\"sk-toggleable__control sk-hidden--visually\" id=\"sk-estimator-id-3\" type=\"checkbox\" ><label for=\"sk-estimator-id-3\" class=\"sk-toggleable__label sk-toggleable__label-arrow\">TfidfTransformer</label><div class=\"sk-toggleable__content\"><pre>TfidfTransformer()</pre></div></div></div><div class=\"sk-item\"><div class=\"sk-estimator sk-toggleable\"><input class=\"sk-toggleable__control sk-hidden--visually\" id=\"sk-estimator-id-4\" type=\"checkbox\" ><label for=\"sk-estimator-id-4\" class=\"sk-toggleable__label sk-toggleable__label-arrow\">MultinomialNB</label><div class=\"sk-toggleable__content\"><pre>MultinomialNB()</pre></div></div></div></div></div></div></div>"
      ],
      "text/plain": [
       "Pipeline(steps=[('vect', CountVectorizer()), ('tfidf', TfidfTransformer()),\n",
       "                ('clf', MultinomialNB())])"
      ]
     },
     "execution_count": 11,
     "metadata": {},
     "output_type": "execute_result"
    }
   ],
   "source": [
    "# обучение методом MultinomialNB\n",
    "nb.fit(X_train, y_train)"
   ]
  },
  {
   "cell_type": "code",
   "execution_count": 12,
   "id": "884a3e2b",
   "metadata": {},
   "outputs": [],
   "source": [
    "# предсказание и проверка предсказания\n",
    "y_pred = nb.predict(X_test)"
   ]
  },
  {
   "cell_type": "code",
   "execution_count": 13,
   "id": "1a90446d",
   "metadata": {},
   "outputs": [
    {
     "data": {
      "text/plain": [
       "'Образование и Кадры'"
      ]
     },
     "execution_count": 13,
     "metadata": {},
     "output_type": "execute_result"
    }
   ],
   "source": [
    "y_pred[0]"
   ]
  },
  {
   "cell_type": "code",
   "execution_count": 14,
   "id": "7489184b",
   "metadata": {},
   "outputs": [
    {
     "data": {
      "text/plain": [
       "array(['Игровая индустрия и киберспорт', 'Наука, технологии и инновации',\n",
       "       'Креативные индустрии', 'Здоровье и медицина',\n",
       "       'Экономика и Бизнес', 'Образование и Кадры'], dtype=object)"
      ]
     },
     "execution_count": 14,
     "metadata": {},
     "output_type": "execute_result"
    }
   ],
   "source": [
    "my_tags"
   ]
  },
  {
   "cell_type": "code",
   "execution_count": 15,
   "id": "c766cbb0",
   "metadata": {},
   "outputs": [
    {
     "name": "stdout",
     "output_type": "stream",
     "text": [
      "accuracy 0.5346534653465347\n",
      "                                precision    recall  f1-score   support\n",
      "\n",
      "           Здоровье и медицина       0.93      0.22      0.36       121\n",
      "Игровая индустрия и киберспорт       0.00      0.00      0.00         2\n",
      "          Креативные индустрии       0.00      0.00      0.00        73\n",
      " Наука, технологии и инновации       0.43      1.00      0.60       203\n",
      "           Образование и Кадры       0.90      0.52      0.66       181\n",
      "            Экономика и Бизнес       0.00      0.00      0.00        26\n",
      "\n",
      "                      accuracy                           0.53       606\n",
      "                     macro avg       0.38      0.29      0.27       606\n",
      "                  weighted avg       0.60      0.53      0.47       606\n",
      "\n"
     ]
    },
    {
     "name": "stderr",
     "output_type": "stream",
     "text": [
      "C:\\Users\\essww\\anaconda3\\lib\\site-packages\\sklearn\\metrics\\_classification.py:1344: UndefinedMetricWarning: Precision and F-score are ill-defined and being set to 0.0 in labels with no predicted samples. Use `zero_division` parameter to control this behavior.\n",
      "  _warn_prf(average, modifier, msg_start, len(result))\n",
      "C:\\Users\\essww\\anaconda3\\lib\\site-packages\\sklearn\\metrics\\_classification.py:1344: UndefinedMetricWarning: Precision and F-score are ill-defined and being set to 0.0 in labels with no predicted samples. Use `zero_division` parameter to control this behavior.\n",
      "  _warn_prf(average, modifier, msg_start, len(result))\n",
      "C:\\Users\\essww\\anaconda3\\lib\\site-packages\\sklearn\\metrics\\_classification.py:1344: UndefinedMetricWarning: Precision and F-score are ill-defined and being set to 0.0 in labels with no predicted samples. Use `zero_division` parameter to control this behavior.\n",
      "  _warn_prf(average, modifier, msg_start, len(result))\n"
     ]
    }
   ],
   "source": [
    "# вывод точности модели и ее classification_report\n",
    "print('accuracy %s' % accuracy_score(y_pred, y_test))\n",
    "print(classification_report(y_test, y_pred))"
   ]
  },
  {
   "cell_type": "markdown",
   "id": "6841fc52",
   "metadata": {},
   "source": [
    "SGDClassifier - это алгоритм классификации, который использует стохастический градиентный спуск для обучения модели. Он является одним из наиболее эффективных алгоритмов для решения крупномасштабных и разреженных задач машинного обучения, часто встречающихся при классификации текста и обработке естественного языка. Алгоритм работает путем минимизации функции потерь с помощью градиентного спуска, который обновляет веса модели на каждом шаге, используя только один случайный пример из обучающего набора за раз. Это позволяет SGDClassifier обучаться на больших наборах данных быстрее, чем другие алгоритмы, такие как логистическая регрессия и SVM. В библиотеке scikit-learn на Python реализован SGDClassifier, который обеспечивает простой и эффективный интерфейс для обучения и использования алгоритма\n",
    "\n",
    "Ссылка на источник: https://scikit-learn.org/stable/modules/generated/sklearn.linear_model.SGDClassifier.html"
   ]
  },
  {
   "cell_type": "code",
   "execution_count": 16,
   "id": "cdb0f5a0",
   "metadata": {},
   "outputs": [],
   "source": [
    "# создание sgd, которая будет сразу производить 3 действия с последовательностью, с помощью Pipeline\n",
    "sgd = Pipeline([('vect', CountVectorizer()),\n",
    "                ('tfidf', TfidfTransformer()),\n",
    "                ('clf', SGDClassifier(loss='hinge', penalty='l2',alpha=1e-3, random_state=42, max_iter=5, tol=None)),\n",
    "               ])"
   ]
  },
  {
   "cell_type": "code",
   "execution_count": 17,
   "id": "c99b6ffc",
   "metadata": {},
   "outputs": [
    {
     "data": {
      "text/html": [
       "<style>#sk-container-id-2 {color: black;background-color: white;}#sk-container-id-2 pre{padding: 0;}#sk-container-id-2 div.sk-toggleable {background-color: white;}#sk-container-id-2 label.sk-toggleable__label {cursor: pointer;display: block;width: 100%;margin-bottom: 0;padding: 0.3em;box-sizing: border-box;text-align: center;}#sk-container-id-2 label.sk-toggleable__label-arrow:before {content: \"▸\";float: left;margin-right: 0.25em;color: #696969;}#sk-container-id-2 label.sk-toggleable__label-arrow:hover:before {color: black;}#sk-container-id-2 div.sk-estimator:hover label.sk-toggleable__label-arrow:before {color: black;}#sk-container-id-2 div.sk-toggleable__content {max-height: 0;max-width: 0;overflow: hidden;text-align: left;background-color: #f0f8ff;}#sk-container-id-2 div.sk-toggleable__content pre {margin: 0.2em;color: black;border-radius: 0.25em;background-color: #f0f8ff;}#sk-container-id-2 input.sk-toggleable__control:checked~div.sk-toggleable__content {max-height: 200px;max-width: 100%;overflow: auto;}#sk-container-id-2 input.sk-toggleable__control:checked~label.sk-toggleable__label-arrow:before {content: \"▾\";}#sk-container-id-2 div.sk-estimator input.sk-toggleable__control:checked~label.sk-toggleable__label {background-color: #d4ebff;}#sk-container-id-2 div.sk-label input.sk-toggleable__control:checked~label.sk-toggleable__label {background-color: #d4ebff;}#sk-container-id-2 input.sk-hidden--visually {border: 0;clip: rect(1px 1px 1px 1px);clip: rect(1px, 1px, 1px, 1px);height: 1px;margin: -1px;overflow: hidden;padding: 0;position: absolute;width: 1px;}#sk-container-id-2 div.sk-estimator {font-family: monospace;background-color: #f0f8ff;border: 1px dotted black;border-radius: 0.25em;box-sizing: border-box;margin-bottom: 0.5em;}#sk-container-id-2 div.sk-estimator:hover {background-color: #d4ebff;}#sk-container-id-2 div.sk-parallel-item::after {content: \"\";width: 100%;border-bottom: 1px solid gray;flex-grow: 1;}#sk-container-id-2 div.sk-label:hover label.sk-toggleable__label {background-color: #d4ebff;}#sk-container-id-2 div.sk-serial::before {content: \"\";position: absolute;border-left: 1px solid gray;box-sizing: border-box;top: 0;bottom: 0;left: 50%;z-index: 0;}#sk-container-id-2 div.sk-serial {display: flex;flex-direction: column;align-items: center;background-color: white;padding-right: 0.2em;padding-left: 0.2em;position: relative;}#sk-container-id-2 div.sk-item {position: relative;z-index: 1;}#sk-container-id-2 div.sk-parallel {display: flex;align-items: stretch;justify-content: center;background-color: white;position: relative;}#sk-container-id-2 div.sk-item::before, #sk-container-id-2 div.sk-parallel-item::before {content: \"\";position: absolute;border-left: 1px solid gray;box-sizing: border-box;top: 0;bottom: 0;left: 50%;z-index: -1;}#sk-container-id-2 div.sk-parallel-item {display: flex;flex-direction: column;z-index: 1;position: relative;background-color: white;}#sk-container-id-2 div.sk-parallel-item:first-child::after {align-self: flex-end;width: 50%;}#sk-container-id-2 div.sk-parallel-item:last-child::after {align-self: flex-start;width: 50%;}#sk-container-id-2 div.sk-parallel-item:only-child::after {width: 0;}#sk-container-id-2 div.sk-dashed-wrapped {border: 1px dashed gray;margin: 0 0.4em 0.5em 0.4em;box-sizing: border-box;padding-bottom: 0.4em;background-color: white;}#sk-container-id-2 div.sk-label label {font-family: monospace;font-weight: bold;display: inline-block;line-height: 1.2em;}#sk-container-id-2 div.sk-label-container {text-align: center;}#sk-container-id-2 div.sk-container {/* jupyter's `normalize.less` sets `[hidden] { display: none; }` but bootstrap.min.css set `[hidden] { display: none !important; }` so we also need the `!important` here to be able to override the default hidden behavior on the sphinx rendered scikit-learn.org. See: https://github.com/scikit-learn/scikit-learn/issues/21755 */display: inline-block !important;position: relative;}#sk-container-id-2 div.sk-text-repr-fallback {display: none;}</style><div id=\"sk-container-id-2\" class=\"sk-top-container\"><div class=\"sk-text-repr-fallback\"><pre>Pipeline(steps=[(&#x27;vect&#x27;, CountVectorizer()), (&#x27;tfidf&#x27;, TfidfTransformer()),\n",
       "                (&#x27;clf&#x27;,\n",
       "                 SGDClassifier(alpha=0.001, max_iter=5, random_state=42,\n",
       "                               tol=None))])</pre><b>In a Jupyter environment, please rerun this cell to show the HTML representation or trust the notebook. <br />On GitHub, the HTML representation is unable to render, please try loading this page with nbviewer.org.</b></div><div class=\"sk-container\" hidden><div class=\"sk-item sk-dashed-wrapped\"><div class=\"sk-label-container\"><div class=\"sk-label sk-toggleable\"><input class=\"sk-toggleable__control sk-hidden--visually\" id=\"sk-estimator-id-5\" type=\"checkbox\" ><label for=\"sk-estimator-id-5\" class=\"sk-toggleable__label sk-toggleable__label-arrow\">Pipeline</label><div class=\"sk-toggleable__content\"><pre>Pipeline(steps=[(&#x27;vect&#x27;, CountVectorizer()), (&#x27;tfidf&#x27;, TfidfTransformer()),\n",
       "                (&#x27;clf&#x27;,\n",
       "                 SGDClassifier(alpha=0.001, max_iter=5, random_state=42,\n",
       "                               tol=None))])</pre></div></div></div><div class=\"sk-serial\"><div class=\"sk-item\"><div class=\"sk-estimator sk-toggleable\"><input class=\"sk-toggleable__control sk-hidden--visually\" id=\"sk-estimator-id-6\" type=\"checkbox\" ><label for=\"sk-estimator-id-6\" class=\"sk-toggleable__label sk-toggleable__label-arrow\">CountVectorizer</label><div class=\"sk-toggleable__content\"><pre>CountVectorizer()</pre></div></div></div><div class=\"sk-item\"><div class=\"sk-estimator sk-toggleable\"><input class=\"sk-toggleable__control sk-hidden--visually\" id=\"sk-estimator-id-7\" type=\"checkbox\" ><label for=\"sk-estimator-id-7\" class=\"sk-toggleable__label sk-toggleable__label-arrow\">TfidfTransformer</label><div class=\"sk-toggleable__content\"><pre>TfidfTransformer()</pre></div></div></div><div class=\"sk-item\"><div class=\"sk-estimator sk-toggleable\"><input class=\"sk-toggleable__control sk-hidden--visually\" id=\"sk-estimator-id-8\" type=\"checkbox\" ><label for=\"sk-estimator-id-8\" class=\"sk-toggleable__label sk-toggleable__label-arrow\">SGDClassifier</label><div class=\"sk-toggleable__content\"><pre>SGDClassifier(alpha=0.001, max_iter=5, random_state=42, tol=None)</pre></div></div></div></div></div></div></div>"
      ],
      "text/plain": [
       "Pipeline(steps=[('vect', CountVectorizer()), ('tfidf', TfidfTransformer()),\n",
       "                ('clf',\n",
       "                 SGDClassifier(alpha=0.001, max_iter=5, random_state=42,\n",
       "                               tol=None))])"
      ]
     },
     "execution_count": 17,
     "metadata": {},
     "output_type": "execute_result"
    }
   ],
   "source": [
    "# обучение методом SGDClassifier\n",
    "sgd.fit(X_train, y_train)"
   ]
  },
  {
   "cell_type": "code",
   "execution_count": 18,
   "id": "08e834c4",
   "metadata": {},
   "outputs": [],
   "source": [
    "# предсказание и проверка предсказания\n",
    "y_pred = sgd.predict(X_test)"
   ]
  },
  {
   "cell_type": "code",
   "execution_count": 19,
   "id": "a0912b3a",
   "metadata": {},
   "outputs": [
    {
     "name": "stdout",
     "output_type": "stream",
     "text": [
      "accuracy 0.806930693069307\n",
      "                                precision    recall  f1-score   support\n",
      "\n",
      "           Здоровье и медицина       0.68      0.85      0.75       121\n",
      "Игровая индустрия и киберспорт       0.00      0.00      0.00         2\n",
      "          Креативные индустрии       0.96      0.75      0.85        73\n",
      " Наука, технологии и инновации       0.82      0.88      0.85       203\n",
      "           Образование и Кадры       0.86      0.80      0.83       181\n",
      "            Экономика и Бизнес       0.80      0.31      0.44        26\n",
      "\n",
      "                      accuracy                           0.81       606\n",
      "                     macro avg       0.69      0.60      0.62       606\n",
      "                  weighted avg       0.82      0.81      0.80       606\n",
      "\n"
     ]
    },
    {
     "name": "stderr",
     "output_type": "stream",
     "text": [
      "C:\\Users\\essww\\anaconda3\\lib\\site-packages\\sklearn\\metrics\\_classification.py:1344: UndefinedMetricWarning: Precision and F-score are ill-defined and being set to 0.0 in labels with no predicted samples. Use `zero_division` parameter to control this behavior.\n",
      "  _warn_prf(average, modifier, msg_start, len(result))\n",
      "C:\\Users\\essww\\anaconda3\\lib\\site-packages\\sklearn\\metrics\\_classification.py:1344: UndefinedMetricWarning: Precision and F-score are ill-defined and being set to 0.0 in labels with no predicted samples. Use `zero_division` parameter to control this behavior.\n",
      "  _warn_prf(average, modifier, msg_start, len(result))\n",
      "C:\\Users\\essww\\anaconda3\\lib\\site-packages\\sklearn\\metrics\\_classification.py:1344: UndefinedMetricWarning: Precision and F-score are ill-defined and being set to 0.0 in labels with no predicted samples. Use `zero_division` parameter to control this behavior.\n",
      "  _warn_prf(average, modifier, msg_start, len(result))\n"
     ]
    }
   ],
   "source": [
    "# вывод точности модели и ее classification_report\n",
    "print('accuracy %s' % accuracy_score(y_pred, y_test))\n",
    "print(classification_report(y_test, y_pred))"
   ]
  },
  {
   "cell_type": "markdown",
   "id": "fbe7a95c",
   "metadata": {},
   "source": [
    "LogisticRegression - это алгоритм машинного обучения, который используется для решения задач бинарной классификации, то есть разделения данных на два класса. Он основан на линейной регрессии и использует логистическую функцию для преобразования выхода в вероятность принадлежности к классу. Логистическая регрессия хорошо подходит для задач, в которых требуется определить, принадлежит ли объект к определенному классу или нет, например, для определения склонности к депрессии. В библиотеке scikit-learn на Python реализована логистическая регрессия, которая обеспечивает простой и эффективный интерфейс для обучения и использования алгоритма. Логистическая регрессия также может использоваться для многоклассовой классификации, когда требуется разделить данные на более чем два класса\n",
    "\n",
    "Ссылка на источник: https://scikit-learn.org/stable/modules/generated/sklearn.linear_model.LogisticRegression.html"
   ]
  },
  {
   "cell_type": "code",
   "execution_count": 20,
   "id": "6573e9df",
   "metadata": {},
   "outputs": [],
   "source": [
    "# создание logreg, которая будет сразу производить 3 действия с последовательностью, с помощью Pipeline\n",
    "logreg = Pipeline([('vect', CountVectorizer()),\n",
    "                ('tfidf', TfidfTransformer()),\n",
    "                ('clf', LogisticRegression(n_jobs=1, C=1e5)),\n",
    "               ])"
   ]
  },
  {
   "cell_type": "code",
   "execution_count": 21,
   "id": "b83d2e63",
   "metadata": {},
   "outputs": [
    {
     "name": "stderr",
     "output_type": "stream",
     "text": [
      "C:\\Users\\essww\\anaconda3\\lib\\site-packages\\sklearn\\linear_model\\_logistic.py:458: ConvergenceWarning: lbfgs failed to converge (status=1):\n",
      "STOP: TOTAL NO. of ITERATIONS REACHED LIMIT.\n",
      "\n",
      "Increase the number of iterations (max_iter) or scale the data as shown in:\n",
      "    https://scikit-learn.org/stable/modules/preprocessing.html\n",
      "Please also refer to the documentation for alternative solver options:\n",
      "    https://scikit-learn.org/stable/modules/linear_model.html#logistic-regression\n",
      "  n_iter_i = _check_optimize_result(\n"
     ]
    },
    {
     "data": {
      "text/html": [
       "<style>#sk-container-id-3 {color: black;background-color: white;}#sk-container-id-3 pre{padding: 0;}#sk-container-id-3 div.sk-toggleable {background-color: white;}#sk-container-id-3 label.sk-toggleable__label {cursor: pointer;display: block;width: 100%;margin-bottom: 0;padding: 0.3em;box-sizing: border-box;text-align: center;}#sk-container-id-3 label.sk-toggleable__label-arrow:before {content: \"▸\";float: left;margin-right: 0.25em;color: #696969;}#sk-container-id-3 label.sk-toggleable__label-arrow:hover:before {color: black;}#sk-container-id-3 div.sk-estimator:hover label.sk-toggleable__label-arrow:before {color: black;}#sk-container-id-3 div.sk-toggleable__content {max-height: 0;max-width: 0;overflow: hidden;text-align: left;background-color: #f0f8ff;}#sk-container-id-3 div.sk-toggleable__content pre {margin: 0.2em;color: black;border-radius: 0.25em;background-color: #f0f8ff;}#sk-container-id-3 input.sk-toggleable__control:checked~div.sk-toggleable__content {max-height: 200px;max-width: 100%;overflow: auto;}#sk-container-id-3 input.sk-toggleable__control:checked~label.sk-toggleable__label-arrow:before {content: \"▾\";}#sk-container-id-3 div.sk-estimator input.sk-toggleable__control:checked~label.sk-toggleable__label {background-color: #d4ebff;}#sk-container-id-3 div.sk-label input.sk-toggleable__control:checked~label.sk-toggleable__label {background-color: #d4ebff;}#sk-container-id-3 input.sk-hidden--visually {border: 0;clip: rect(1px 1px 1px 1px);clip: rect(1px, 1px, 1px, 1px);height: 1px;margin: -1px;overflow: hidden;padding: 0;position: absolute;width: 1px;}#sk-container-id-3 div.sk-estimator {font-family: monospace;background-color: #f0f8ff;border: 1px dotted black;border-radius: 0.25em;box-sizing: border-box;margin-bottom: 0.5em;}#sk-container-id-3 div.sk-estimator:hover {background-color: #d4ebff;}#sk-container-id-3 div.sk-parallel-item::after {content: \"\";width: 100%;border-bottom: 1px solid gray;flex-grow: 1;}#sk-container-id-3 div.sk-label:hover label.sk-toggleable__label {background-color: #d4ebff;}#sk-container-id-3 div.sk-serial::before {content: \"\";position: absolute;border-left: 1px solid gray;box-sizing: border-box;top: 0;bottom: 0;left: 50%;z-index: 0;}#sk-container-id-3 div.sk-serial {display: flex;flex-direction: column;align-items: center;background-color: white;padding-right: 0.2em;padding-left: 0.2em;position: relative;}#sk-container-id-3 div.sk-item {position: relative;z-index: 1;}#sk-container-id-3 div.sk-parallel {display: flex;align-items: stretch;justify-content: center;background-color: white;position: relative;}#sk-container-id-3 div.sk-item::before, #sk-container-id-3 div.sk-parallel-item::before {content: \"\";position: absolute;border-left: 1px solid gray;box-sizing: border-box;top: 0;bottom: 0;left: 50%;z-index: -1;}#sk-container-id-3 div.sk-parallel-item {display: flex;flex-direction: column;z-index: 1;position: relative;background-color: white;}#sk-container-id-3 div.sk-parallel-item:first-child::after {align-self: flex-end;width: 50%;}#sk-container-id-3 div.sk-parallel-item:last-child::after {align-self: flex-start;width: 50%;}#sk-container-id-3 div.sk-parallel-item:only-child::after {width: 0;}#sk-container-id-3 div.sk-dashed-wrapped {border: 1px dashed gray;margin: 0 0.4em 0.5em 0.4em;box-sizing: border-box;padding-bottom: 0.4em;background-color: white;}#sk-container-id-3 div.sk-label label {font-family: monospace;font-weight: bold;display: inline-block;line-height: 1.2em;}#sk-container-id-3 div.sk-label-container {text-align: center;}#sk-container-id-3 div.sk-container {/* jupyter's `normalize.less` sets `[hidden] { display: none; }` but bootstrap.min.css set `[hidden] { display: none !important; }` so we also need the `!important` here to be able to override the default hidden behavior on the sphinx rendered scikit-learn.org. See: https://github.com/scikit-learn/scikit-learn/issues/21755 */display: inline-block !important;position: relative;}#sk-container-id-3 div.sk-text-repr-fallback {display: none;}</style><div id=\"sk-container-id-3\" class=\"sk-top-container\"><div class=\"sk-text-repr-fallback\"><pre>Pipeline(steps=[(&#x27;vect&#x27;, CountVectorizer()), (&#x27;tfidf&#x27;, TfidfTransformer()),\n",
       "                (&#x27;clf&#x27;, LogisticRegression(C=100000.0, n_jobs=1))])</pre><b>In a Jupyter environment, please rerun this cell to show the HTML representation or trust the notebook. <br />On GitHub, the HTML representation is unable to render, please try loading this page with nbviewer.org.</b></div><div class=\"sk-container\" hidden><div class=\"sk-item sk-dashed-wrapped\"><div class=\"sk-label-container\"><div class=\"sk-label sk-toggleable\"><input class=\"sk-toggleable__control sk-hidden--visually\" id=\"sk-estimator-id-9\" type=\"checkbox\" ><label for=\"sk-estimator-id-9\" class=\"sk-toggleable__label sk-toggleable__label-arrow\">Pipeline</label><div class=\"sk-toggleable__content\"><pre>Pipeline(steps=[(&#x27;vect&#x27;, CountVectorizer()), (&#x27;tfidf&#x27;, TfidfTransformer()),\n",
       "                (&#x27;clf&#x27;, LogisticRegression(C=100000.0, n_jobs=1))])</pre></div></div></div><div class=\"sk-serial\"><div class=\"sk-item\"><div class=\"sk-estimator sk-toggleable\"><input class=\"sk-toggleable__control sk-hidden--visually\" id=\"sk-estimator-id-10\" type=\"checkbox\" ><label for=\"sk-estimator-id-10\" class=\"sk-toggleable__label sk-toggleable__label-arrow\">CountVectorizer</label><div class=\"sk-toggleable__content\"><pre>CountVectorizer()</pre></div></div></div><div class=\"sk-item\"><div class=\"sk-estimator sk-toggleable\"><input class=\"sk-toggleable__control sk-hidden--visually\" id=\"sk-estimator-id-11\" type=\"checkbox\" ><label for=\"sk-estimator-id-11\" class=\"sk-toggleable__label sk-toggleable__label-arrow\">TfidfTransformer</label><div class=\"sk-toggleable__content\"><pre>TfidfTransformer()</pre></div></div></div><div class=\"sk-item\"><div class=\"sk-estimator sk-toggleable\"><input class=\"sk-toggleable__control sk-hidden--visually\" id=\"sk-estimator-id-12\" type=\"checkbox\" ><label for=\"sk-estimator-id-12\" class=\"sk-toggleable__label sk-toggleable__label-arrow\">LogisticRegression</label><div class=\"sk-toggleable__content\"><pre>LogisticRegression(C=100000.0, n_jobs=1)</pre></div></div></div></div></div></div></div>"
      ],
      "text/plain": [
       "Pipeline(steps=[('vect', CountVectorizer()), ('tfidf', TfidfTransformer()),\n",
       "                ('clf', LogisticRegression(C=100000.0, n_jobs=1))])"
      ]
     },
     "execution_count": 21,
     "metadata": {},
     "output_type": "execute_result"
    }
   ],
   "source": [
    "# обучение методом LogisticRegression\n",
    "logreg.fit(X_train, y_train)"
   ]
  },
  {
   "cell_type": "code",
   "execution_count": 22,
   "id": "c03ea7dd",
   "metadata": {},
   "outputs": [],
   "source": [
    "# предсказание и проверка предсказания\n",
    "y_pred = logreg.predict(X_test)"
   ]
  },
  {
   "cell_type": "code",
   "execution_count": 23,
   "id": "424fb29b",
   "metadata": {},
   "outputs": [
    {
     "name": "stdout",
     "output_type": "stream",
     "text": [
      "accuracy 0.8085808580858086\n",
      "                                precision    recall  f1-score   support\n",
      "\n",
      "           Здоровье и медицина       0.72      0.83      0.77       121\n",
      "Игровая индустрия и киберспорт       0.00      0.00      0.00         2\n",
      "          Креативные индустрии       0.92      0.75      0.83        73\n",
      " Наука, технологии и инновации       0.83      0.85      0.84       203\n",
      "           Образование и Кадры       0.83      0.85      0.84       181\n",
      "            Экономика и Бизнес       0.82      0.35      0.49        26\n",
      "\n",
      "                      accuracy                           0.81       606\n",
      "                     macro avg       0.69      0.60      0.63       606\n",
      "                  weighted avg       0.82      0.81      0.81       606\n",
      "\n"
     ]
    }
   ],
   "source": [
    "# вывод точности модели и ее classification_report\n",
    "print('accuracy %s' % accuracy_score(y_pred, y_test))\n",
    "print(classification_report(y_test, y_pred))"
   ]
  },
  {
   "cell_type": "markdown",
   "id": "b553b4f6",
   "metadata": {},
   "source": [
    "Выбрана лучшая модель классификации LogisticRegression т.к. по показателям точности она лучше всего и по моему мнению для данной задачи подходит лучше всего. Так что дальнейшая работа будет проводиться с ней."
   ]
  },
  {
   "cell_type": "markdown",
   "id": "44caeb8b",
   "metadata": {},
   "source": [
    "## 2.2 Оптимизация модели"
   ]
  },
  {
   "cell_type": "code",
   "execution_count": 24,
   "id": "800dcca7",
   "metadata": {},
   "outputs": [
    {
     "data": {
      "text/html": [
       "<div>\n",
       "<style scoped>\n",
       "    .dataframe tbody tr th:only-of-type {\n",
       "        vertical-align: middle;\n",
       "    }\n",
       "\n",
       "    .dataframe tbody tr th {\n",
       "        vertical-align: top;\n",
       "    }\n",
       "\n",
       "    .dataframe thead th {\n",
       "        text-align: right;\n",
       "    }\n",
       "</style>\n",
       "<table border=\"1\" class=\"dataframe\">\n",
       "  <thead>\n",
       "    <tr style=\"text-align: right;\">\n",
       "      <th></th>\n",
       "      <th>TitleCompany</th>\n",
       "      <th>Reiting</th>\n",
       "      <th>DatePublish</th>\n",
       "      <th>TextPost</th>\n",
       "      <th>Categories</th>\n",
       "      <th>TextPostLemat</th>\n",
       "      <th>TextPostToken</th>\n",
       "      <th>bigram</th>\n",
       "      <th>trigram</th>\n",
       "      <th>keyword</th>\n",
       "      <th>Nominations</th>\n",
       "    </tr>\n",
       "  </thead>\n",
       "  <tbody>\n",
       "    <tr>\n",
       "      <th>0</th>\n",
       "      <td>Cybersport.Metaratings</td>\n",
       "      <td>Пусто</td>\n",
       "      <td>8 декабря</td>\n",
       "      <td>7 декабря состоялась церемония награждения лау...</td>\n",
       "      <td>Пусто</td>\n",
       "      <td>декабрь состояться церемония награждение лауре...</td>\n",
       "      <td>['декабрь', 'состояться', 'церемония', 'награж...</td>\n",
       "      <td>[('декабрь', 'состояться'), ('состояться', 'це...</td>\n",
       "      <td>[('декабрь', 'состояться', 'церемония'), ('сос...</td>\n",
       "      <td>номинация, проект, москва, премия, рунет, разв...</td>\n",
       "      <td>Игровая индустрия и киберспорт</td>\n",
       "    </tr>\n",
       "    <tr>\n",
       "      <th>1</th>\n",
       "      <td>ESforce Holding</td>\n",
       "      <td>Пусто</td>\n",
       "      <td>8 декабря</td>\n",
       "      <td>7 декабря состоялась церемония награждения лау...</td>\n",
       "      <td>Пусто</td>\n",
       "      <td>декабрь состояться церемония награждение лауре...</td>\n",
       "      <td>['декабрь', 'состояться', 'церемония', 'награж...</td>\n",
       "      <td>[('декабрь', 'состояться'), ('состояться', 'це...</td>\n",
       "      <td>[('декабрь', 'состояться', 'церемония'), ('сос...</td>\n",
       "      <td>номинация, проект, москва, премия, рунет, разв...</td>\n",
       "      <td>Игровая индустрия и киберспорт</td>\n",
       "    </tr>\n",
       "    <tr>\n",
       "      <th>2</th>\n",
       "      <td>ESforce Holding</td>\n",
       "      <td>Пусто</td>\n",
       "      <td>29 июля</td>\n",
       "      <td>Из совместного исследования издателя компьютер...</td>\n",
       "      <td>Пусто</td>\n",
       "      <td>совместный исследование издатель компьютерный ...</td>\n",
       "      <td>['совместный', 'исследование', 'издатель', 'ко...</td>\n",
       "      <td>[('совместный', 'исследование'), ('исследовани...</td>\n",
       "      <td>[('совместный', 'исследование', 'издатель'), (...</td>\n",
       "      <td>игра, год, world, серия, геймер, популярный, ф...</td>\n",
       "      <td>Игровая индустрия и киберспорт</td>\n",
       "    </tr>\n",
       "    <tr>\n",
       "      <th>3</th>\n",
       "      <td>ESforce Holding</td>\n",
       "      <td>Пусто</td>\n",
       "      <td>9 июля</td>\n",
       "      <td>По статистике The Esports Observer за I полови...</td>\n",
       "      <td>Пусто</td>\n",
       "      <td>статистика the esports observer половина год в...</td>\n",
       "      <td>['статистика', 'the', 'esports', 'observer', '...</td>\n",
       "      <td>[('статистика', 'the'), ('the', 'esports'), ('...</td>\n",
       "      <td>[('статистика', 'the', 'esports'), ('the', 'es...</td>\n",
       "      <td>млн, канал, dota, ruhub, год, просмотр, место,...</td>\n",
       "      <td>Игровая индустрия и киберспорт</td>\n",
       "    </tr>\n",
       "    <tr>\n",
       "      <th>4</th>\n",
       "      <td>ESforce Holding</td>\n",
       "      <td>Пусто</td>\n",
       "      <td>11 апреля</td>\n",
       "      <td>Компании SuperData Research и PayPal провели с...</td>\n",
       "      <td>Пусто</td>\n",
       "      <td>компания superdata research paypal проводить с...</td>\n",
       "      <td>['компания', 'superdata', 'research', 'paypal'...</td>\n",
       "      <td>[('компания', 'superdata'), ('superdata', 'res...</td>\n",
       "      <td>[('компания', 'superdata', 'research'), ('supe...</td>\n",
       "      <td>киберспорт, миллион, год, рынок, superdata, кр...</td>\n",
       "      <td>Игровая индустрия и киберспорт</td>\n",
       "    </tr>\n",
       "  </tbody>\n",
       "</table>\n",
       "</div>"
      ],
      "text/plain": [
       "             TitleCompany Reiting DatePublish  \\\n",
       "0  Cybersport.Metaratings   Пусто   8 декабря   \n",
       "1         ESforce Holding   Пусто   8 декабря   \n",
       "2         ESforce Holding   Пусто     29 июля   \n",
       "3         ESforce Holding   Пусто      9 июля   \n",
       "4         ESforce Holding   Пусто   11 апреля   \n",
       "\n",
       "                                            TextPost Categories  \\\n",
       "0  7 декабря состоялась церемония награждения лау...      Пусто   \n",
       "1  7 декабря состоялась церемония награждения лау...      Пусто   \n",
       "2  Из совместного исследования издателя компьютер...      Пусто   \n",
       "3  По статистике The Esports Observer за I полови...      Пусто   \n",
       "4  Компании SuperData Research и PayPal провели с...      Пусто   \n",
       "\n",
       "                                       TextPostLemat  \\\n",
       "0  декабрь состояться церемония награждение лауре...   \n",
       "1  декабрь состояться церемония награждение лауре...   \n",
       "2  совместный исследование издатель компьютерный ...   \n",
       "3  статистика the esports observer половина год в...   \n",
       "4  компания superdata research paypal проводить с...   \n",
       "\n",
       "                                       TextPostToken  \\\n",
       "0  ['декабрь', 'состояться', 'церемония', 'награж...   \n",
       "1  ['декабрь', 'состояться', 'церемония', 'награж...   \n",
       "2  ['совместный', 'исследование', 'издатель', 'ко...   \n",
       "3  ['статистика', 'the', 'esports', 'observer', '...   \n",
       "4  ['компания', 'superdata', 'research', 'paypal'...   \n",
       "\n",
       "                                              bigram  \\\n",
       "0  [('декабрь', 'состояться'), ('состояться', 'це...   \n",
       "1  [('декабрь', 'состояться'), ('состояться', 'це...   \n",
       "2  [('совместный', 'исследование'), ('исследовани...   \n",
       "3  [('статистика', 'the'), ('the', 'esports'), ('...   \n",
       "4  [('компания', 'superdata'), ('superdata', 'res...   \n",
       "\n",
       "                                             trigram  \\\n",
       "0  [('декабрь', 'состояться', 'церемония'), ('сос...   \n",
       "1  [('декабрь', 'состояться', 'церемония'), ('сос...   \n",
       "2  [('совместный', 'исследование', 'издатель'), (...   \n",
       "3  [('статистика', 'the', 'esports'), ('the', 'es...   \n",
       "4  [('компания', 'superdata', 'research'), ('supe...   \n",
       "\n",
       "                                             keyword  \\\n",
       "0  номинация, проект, москва, премия, рунет, разв...   \n",
       "1  номинация, проект, москва, премия, рунет, разв...   \n",
       "2  игра, год, world, серия, геймер, популярный, ф...   \n",
       "3  млн, канал, dota, ruhub, год, просмотр, место,...   \n",
       "4  киберспорт, миллион, год, рынок, superdata, кр...   \n",
       "\n",
       "                      Nominations  \n",
       "0  Игровая индустрия и киберспорт  \n",
       "1  Игровая индустрия и киберспорт  \n",
       "2  Игровая индустрия и киберспорт  \n",
       "3  Игровая индустрия и киберспорт  \n",
       "4  Игровая индустрия и киберспорт  "
      ]
     },
     "execution_count": 24,
     "metadata": {},
     "output_type": "execute_result"
    }
   ],
   "source": [
    "dfHabr1.head()"
   ]
  },
  {
   "cell_type": "markdown",
   "id": "e13c7ad8",
   "metadata": {},
   "source": [
    "Для уменьшения вычислительной сложности необходимо выбрать значимые признаки и понизить размерность, но я считаю, что этого делать не нужно, т.к. датафрейм и так маленький и обучение работает довольно быстроэ. В общем этих записей не настолько много, чтобы уменьшить вычислительную мощность"
   ]
  },
  {
   "cell_type": "code",
   "execution_count": 25,
   "id": "a91e3671",
   "metadata": {},
   "outputs": [],
   "source": [
    "econ_text = 'Многие из нас ежедневно пользуются поисковыми.'"
   ]
  },
  {
   "cell_type": "code",
   "execution_count": 26,
   "id": "c7ed1faf",
   "metadata": {},
   "outputs": [
    {
     "data": {
      "text/plain": [
       "array(['Наука, технологии и инновации'], dtype='<U30')"
      ]
     },
     "execution_count": 26,
     "metadata": {},
     "output_type": "execute_result"
    }
   ],
   "source": [
    "# запуск модели\n",
    "ect_pred = nb.predict([econ_text])\n",
    "ect_pred"
   ]
  },
  {
   "cell_type": "code",
   "execution_count": 27,
   "id": "548457ad",
   "metadata": {},
   "outputs": [],
   "source": [
    "econ_text1 = 'Многие из нас ежедневно пользуются поисковыми.'"
   ]
  },
  {
   "cell_type": "code",
   "execution_count": 28,
   "id": "12b24a48",
   "metadata": {},
   "outputs": [
    {
     "data": {
      "text/plain": [
       "array(['Образование и Кадры'], dtype='<U30')"
      ]
     },
     "execution_count": 28,
     "metadata": {},
     "output_type": "execute_result"
    }
   ],
   "source": [
    "ect_pred1 = sgd.predict([econ_text1])\n",
    "ect_pred1"
   ]
  },
  {
   "cell_type": "code",
   "execution_count": 29,
   "id": "b26f872a",
   "metadata": {},
   "outputs": [],
   "source": [
    "econ_text2 = 'Многие из нас ежедневно пользуются поисковыми.'"
   ]
  },
  {
   "cell_type": "code",
   "execution_count": 30,
   "id": "f83d4cb9",
   "metadata": {},
   "outputs": [
    {
     "data": {
      "text/plain": [
       "array(['Образование и Кадры'], dtype=object)"
      ]
     },
     "execution_count": 30,
     "metadata": {},
     "output_type": "execute_result"
    }
   ],
   "source": [
    "ect_pred2 = logreg.predict([econ_text2])\n",
    "ect_pred2"
   ]
  },
  {
   "cell_type": "markdown",
   "id": "95dd7c92",
   "metadata": {},
   "source": [
    "Модель logreg и sgd показали себя хорошо, но по показателю точности logreg лучше, так что будет использоваться модель logreg без проблем."
   ]
  },
  {
   "cell_type": "markdown",
   "id": "92054d25",
   "metadata": {},
   "source": [
    "#### Подбор гипперпараметров для улучшения модели"
   ]
  },
  {
   "cell_type": "code",
   "execution_count": 33,
   "id": "fe09c840",
   "metadata": {},
   "outputs": [],
   "source": [
    "# создание logreg, которая будет сразу производить 3 действия с последовательностью, с помощью Pipeline\n",
    "logreg = Pipeline([('vect', CountVectorizer()),\n",
    "                ('tfidf', TfidfTransformer()),\n",
    "                ('clf', LogisticRegression(n_jobs=1, C=1e4)),\n",
    "               ])"
   ]
  },
  {
   "cell_type": "code",
   "execution_count": 34,
   "id": "abef407f",
   "metadata": {},
   "outputs": [
    {
     "name": "stderr",
     "output_type": "stream",
     "text": [
      "C:\\Users\\essww\\anaconda3\\lib\\site-packages\\sklearn\\linear_model\\_logistic.py:458: ConvergenceWarning: lbfgs failed to converge (status=1):\n",
      "STOP: TOTAL NO. of ITERATIONS REACHED LIMIT.\n",
      "\n",
      "Increase the number of iterations (max_iter) or scale the data as shown in:\n",
      "    https://scikit-learn.org/stable/modules/preprocessing.html\n",
      "Please also refer to the documentation for alternative solver options:\n",
      "    https://scikit-learn.org/stable/modules/linear_model.html#logistic-regression\n",
      "  n_iter_i = _check_optimize_result(\n"
     ]
    },
    {
     "data": {
      "text/html": [
       "<style>#sk-container-id-4 {color: black;background-color: white;}#sk-container-id-4 pre{padding: 0;}#sk-container-id-4 div.sk-toggleable {background-color: white;}#sk-container-id-4 label.sk-toggleable__label {cursor: pointer;display: block;width: 100%;margin-bottom: 0;padding: 0.3em;box-sizing: border-box;text-align: center;}#sk-container-id-4 label.sk-toggleable__label-arrow:before {content: \"▸\";float: left;margin-right: 0.25em;color: #696969;}#sk-container-id-4 label.sk-toggleable__label-arrow:hover:before {color: black;}#sk-container-id-4 div.sk-estimator:hover label.sk-toggleable__label-arrow:before {color: black;}#sk-container-id-4 div.sk-toggleable__content {max-height: 0;max-width: 0;overflow: hidden;text-align: left;background-color: #f0f8ff;}#sk-container-id-4 div.sk-toggleable__content pre {margin: 0.2em;color: black;border-radius: 0.25em;background-color: #f0f8ff;}#sk-container-id-4 input.sk-toggleable__control:checked~div.sk-toggleable__content {max-height: 200px;max-width: 100%;overflow: auto;}#sk-container-id-4 input.sk-toggleable__control:checked~label.sk-toggleable__label-arrow:before {content: \"▾\";}#sk-container-id-4 div.sk-estimator input.sk-toggleable__control:checked~label.sk-toggleable__label {background-color: #d4ebff;}#sk-container-id-4 div.sk-label input.sk-toggleable__control:checked~label.sk-toggleable__label {background-color: #d4ebff;}#sk-container-id-4 input.sk-hidden--visually {border: 0;clip: rect(1px 1px 1px 1px);clip: rect(1px, 1px, 1px, 1px);height: 1px;margin: -1px;overflow: hidden;padding: 0;position: absolute;width: 1px;}#sk-container-id-4 div.sk-estimator {font-family: monospace;background-color: #f0f8ff;border: 1px dotted black;border-radius: 0.25em;box-sizing: border-box;margin-bottom: 0.5em;}#sk-container-id-4 div.sk-estimator:hover {background-color: #d4ebff;}#sk-container-id-4 div.sk-parallel-item::after {content: \"\";width: 100%;border-bottom: 1px solid gray;flex-grow: 1;}#sk-container-id-4 div.sk-label:hover label.sk-toggleable__label {background-color: #d4ebff;}#sk-container-id-4 div.sk-serial::before {content: \"\";position: absolute;border-left: 1px solid gray;box-sizing: border-box;top: 0;bottom: 0;left: 50%;z-index: 0;}#sk-container-id-4 div.sk-serial {display: flex;flex-direction: column;align-items: center;background-color: white;padding-right: 0.2em;padding-left: 0.2em;position: relative;}#sk-container-id-4 div.sk-item {position: relative;z-index: 1;}#sk-container-id-4 div.sk-parallel {display: flex;align-items: stretch;justify-content: center;background-color: white;position: relative;}#sk-container-id-4 div.sk-item::before, #sk-container-id-4 div.sk-parallel-item::before {content: \"\";position: absolute;border-left: 1px solid gray;box-sizing: border-box;top: 0;bottom: 0;left: 50%;z-index: -1;}#sk-container-id-4 div.sk-parallel-item {display: flex;flex-direction: column;z-index: 1;position: relative;background-color: white;}#sk-container-id-4 div.sk-parallel-item:first-child::after {align-self: flex-end;width: 50%;}#sk-container-id-4 div.sk-parallel-item:last-child::after {align-self: flex-start;width: 50%;}#sk-container-id-4 div.sk-parallel-item:only-child::after {width: 0;}#sk-container-id-4 div.sk-dashed-wrapped {border: 1px dashed gray;margin: 0 0.4em 0.5em 0.4em;box-sizing: border-box;padding-bottom: 0.4em;background-color: white;}#sk-container-id-4 div.sk-label label {font-family: monospace;font-weight: bold;display: inline-block;line-height: 1.2em;}#sk-container-id-4 div.sk-label-container {text-align: center;}#sk-container-id-4 div.sk-container {/* jupyter's `normalize.less` sets `[hidden] { display: none; }` but bootstrap.min.css set `[hidden] { display: none !important; }` so we also need the `!important` here to be able to override the default hidden behavior on the sphinx rendered scikit-learn.org. See: https://github.com/scikit-learn/scikit-learn/issues/21755 */display: inline-block !important;position: relative;}#sk-container-id-4 div.sk-text-repr-fallback {display: none;}</style><div id=\"sk-container-id-4\" class=\"sk-top-container\"><div class=\"sk-text-repr-fallback\"><pre>Pipeline(steps=[(&#x27;vect&#x27;, CountVectorizer()), (&#x27;tfidf&#x27;, TfidfTransformer()),\n",
       "                (&#x27;clf&#x27;, LogisticRegression(C=10000.0, n_jobs=1))])</pre><b>In a Jupyter environment, please rerun this cell to show the HTML representation or trust the notebook. <br />On GitHub, the HTML representation is unable to render, please try loading this page with nbviewer.org.</b></div><div class=\"sk-container\" hidden><div class=\"sk-item sk-dashed-wrapped\"><div class=\"sk-label-container\"><div class=\"sk-label sk-toggleable\"><input class=\"sk-toggleable__control sk-hidden--visually\" id=\"sk-estimator-id-13\" type=\"checkbox\" ><label for=\"sk-estimator-id-13\" class=\"sk-toggleable__label sk-toggleable__label-arrow\">Pipeline</label><div class=\"sk-toggleable__content\"><pre>Pipeline(steps=[(&#x27;vect&#x27;, CountVectorizer()), (&#x27;tfidf&#x27;, TfidfTransformer()),\n",
       "                (&#x27;clf&#x27;, LogisticRegression(C=10000.0, n_jobs=1))])</pre></div></div></div><div class=\"sk-serial\"><div class=\"sk-item\"><div class=\"sk-estimator sk-toggleable\"><input class=\"sk-toggleable__control sk-hidden--visually\" id=\"sk-estimator-id-14\" type=\"checkbox\" ><label for=\"sk-estimator-id-14\" class=\"sk-toggleable__label sk-toggleable__label-arrow\">CountVectorizer</label><div class=\"sk-toggleable__content\"><pre>CountVectorizer()</pre></div></div></div><div class=\"sk-item\"><div class=\"sk-estimator sk-toggleable\"><input class=\"sk-toggleable__control sk-hidden--visually\" id=\"sk-estimator-id-15\" type=\"checkbox\" ><label for=\"sk-estimator-id-15\" class=\"sk-toggleable__label sk-toggleable__label-arrow\">TfidfTransformer</label><div class=\"sk-toggleable__content\"><pre>TfidfTransformer()</pre></div></div></div><div class=\"sk-item\"><div class=\"sk-estimator sk-toggleable\"><input class=\"sk-toggleable__control sk-hidden--visually\" id=\"sk-estimator-id-16\" type=\"checkbox\" ><label for=\"sk-estimator-id-16\" class=\"sk-toggleable__label sk-toggleable__label-arrow\">LogisticRegression</label><div class=\"sk-toggleable__content\"><pre>LogisticRegression(C=10000.0, n_jobs=1)</pre></div></div></div></div></div></div></div>"
      ],
      "text/plain": [
       "Pipeline(steps=[('vect', CountVectorizer()), ('tfidf', TfidfTransformer()),\n",
       "                ('clf', LogisticRegression(C=10000.0, n_jobs=1))])"
      ]
     },
     "execution_count": 34,
     "metadata": {},
     "output_type": "execute_result"
    }
   ],
   "source": [
    "# обучение методом LogisticRegression\n",
    "logreg.fit(X_train, y_train)"
   ]
  },
  {
   "cell_type": "code",
   "execution_count": 35,
   "id": "e624d40f",
   "metadata": {},
   "outputs": [],
   "source": [
    "# предсказание и проверка предсказания\n",
    "y_pred = logreg.predict(X_test)"
   ]
  },
  {
   "cell_type": "code",
   "execution_count": 36,
   "id": "033ecc42",
   "metadata": {},
   "outputs": [
    {
     "name": "stdout",
     "output_type": "stream",
     "text": [
      "accuracy 0.8118811881188119\n",
      "                                precision    recall  f1-score   support\n",
      "\n",
      "           Здоровье и медицина       0.69      0.88      0.77       121\n",
      "Игровая индустрия и киберспорт       0.00      0.00      0.00         2\n",
      "          Креативные индустрии       0.92      0.77      0.84        73\n",
      " Наука, технологии и инновации       0.84      0.85      0.84       203\n",
      "           Образование и Кадры       0.87      0.82      0.84       181\n",
      "            Экономика и Бизнес       0.82      0.35      0.49        26\n",
      "\n",
      "                      accuracy                           0.81       606\n",
      "                     macro avg       0.69      0.61      0.63       606\n",
      "                  weighted avg       0.82      0.81      0.81       606\n",
      "\n"
     ]
    }
   ],
   "source": [
    "# вывод точности модели и ее classification_report\n",
    "print('accuracy %s' % accuracy_score(y_pred, y_test))\n",
    "print(classification_report(y_test, y_pred))"
   ]
  },
  {
   "cell_type": "code",
   "execution_count": 37,
   "id": "8d8000c6",
   "metadata": {},
   "outputs": [],
   "source": [
    "econ_text = 'Компьютер - это машина.'"
   ]
  },
  {
   "cell_type": "code",
   "execution_count": 38,
   "id": "7ffdc197",
   "metadata": {},
   "outputs": [
    {
     "data": {
      "text/plain": [
       "array(['Наука, технологии и инновации'], dtype=object)"
      ]
     },
     "execution_count": 38,
     "metadata": {},
     "output_type": "execute_result"
    }
   ],
   "source": [
    "# запуск модели\n",
    "ect_pred = logreg.predict([econ_text])\n",
    "ect_pred"
   ]
  },
  {
   "cell_type": "markdown",
   "id": "1d9b8539",
   "metadata": {},
   "source": [
    "При подборе гипперпараметров модель улучшилась, но несильно, она либо улучшается совсем чуть-чуть, либо остается на таком же уровне, либо сильно падает, но 0,811 уже хороший результат."
   ]
  },
  {
   "cell_type": "markdown",
   "id": "5f31ac07",
   "metadata": {},
   "source": [
    "Также при большем количество данных модель показала себя лучше всего, поэтому я не стал оставлять понижение размерности, т.к. обучение все равно проходит очень быстро и это не нужно (понижение размерности нужно для ускорения работы)."
   ]
  },
  {
   "cell_type": "markdown",
   "id": "ea90810e",
   "metadata": {},
   "source": [
    "#### Кривые валидации и обучения"
   ]
  },
  {
   "cell_type": "code",
   "execution_count": 39,
   "id": "e19c29e9",
   "metadata": {},
   "outputs": [],
   "source": [
    "# создание тренировочных меток на основе модели LogReg и данных использующих этой моделью\n",
    "train_sizes, train_scores, test_scores = learning_curve(\n",
    "    logreg, X, y, cv=5, scoring='accuracy', n_jobs=-1)"
   ]
  },
  {
   "cell_type": "code",
   "execution_count": 40,
   "id": "eb328215",
   "metadata": {},
   "outputs": [],
   "source": [
    "# запись средних значения и стандартных отклонений, для построения кривых\n",
    "train_scores_mean = np.mean(train_scores, axis=1)\n",
    "train_scores_std = np.std(train_scores, axis=1)\n",
    "test_scores_mean = np.mean(test_scores, axis=1)\n",
    "test_scores_std = np.std(test_scores, axis=1)"
   ]
  },
  {
   "cell_type": "code",
   "execution_count": 41,
   "id": "b830f77a",
   "metadata": {},
   "outputs": [
    {
     "data": {
      "image/png": "[encoded data removed]",
      "text/plain": [
       "<Figure size 640x480 with 1 Axes>"
      ]
     },
     "metadata": {},
     "output_type": "display_data"
    }
   ],
   "source": [
    "# само построение\n",
    "plt.figure()\n",
    "plt.title('Learning Curve')\n",
    "plt.xlabel('Training Examples')\n",
    "plt.ylabel('Score')\n",
    "plt.ylim(0.0, 1.1)\n",
    "plt.grid()\n",
    "\n",
    "plt.fill_between(train_sizes, train_scores_mean - train_scores_std,\n",
    "                 train_scores_mean + train_scores_std, alpha=0.1,\n",
    "                 color='r')\n",
    "plt.fill_between(train_sizes, test_scores_mean - test_scores_std,\n",
    "                 test_scores_mean + test_scores_std, alpha=0.1, color='g')\n",
    "plt.plot(train_sizes, train_scores_mean, 'o-', color='r',\n",
    "         label='Training Score')\n",
    "plt.plot(train_sizes, test_scores_mean, 'o-', color='g',\n",
    "         label='Cross-Validation Score')\n",
    "plt.legend(loc='best')\n",
    "plt.show()"
   ]
  },
  {
   "cell_type": "markdown",
   "id": "92116357",
   "metadata": {},
   "source": [
    "#### Сохранение модели "
   ]
  },
  {
   "cell_type": "code",
   "execution_count": 42,
   "id": "d7e45390",
   "metadata": {},
   "outputs": [],
   "source": [
    "import pickle\n",
    "\n",
    "with open('model.pkl', 'wb') as f:\n",
    "    pickle.dump(logreg, f)"
   ]
  },
  {
   "cell_type": "code",
   "execution_count": 43,
   "id": "66dcffee",
   "metadata": {},
   "outputs": [],
   "source": [
    "# Загрузка сохраненной модели из файла .pkl\n",
    "with open('model.pkl', 'rb') as f:\n",
    "    model = pickle.load(f)"
   ]
  },
  {
   "cell_type": "code",
   "execution_count": 47,
   "id": "d2197854",
   "metadata": {},
   "outputs": [
    {
     "data": {
      "text/plain": [
       "array(['Наука, технологии и инновации'], dtype=object)"
      ]
     },
     "execution_count": 47,
     "metadata": {},
     "output_type": "execute_result"
    }
   ],
   "source": [
    "# Использование загруженной модели для прогнозирования\n",
    "predictions = model.predict([econ_text])\n",
    "predictions"
   ]
  },
  {
   "cell_type": "markdown",
   "id": "a6e39dfb",
   "metadata": {},
   "source": [
    "#### Сохранение датафрейма"
   ]
  },
  {
   "cell_type": "code",
   "execution_count": 45,
   "id": "4ba3cd3a",
   "metadata": {},
   "outputs": [],
   "source": [
    "# сохраняем DataFrame в файл\n",
    "dfHabr1.to_csv(r'Downloads\\Report2.csv', index=False, encoding='utf-8')"
   ]
  },
  {
   "cell_type": "markdown",
   "id": "93189c89",
   "metadata": {},
   "source": [
    "## 2.3 Подготовка отчета"
   ]
  },
  {
   "cell_type": "markdown",
   "id": "12c329b2",
   "metadata": {},
   "source": [
    "\n",
    "\n",
    "\n",
    "__2.1 Разбиение выборки__ Пункт был выполнен без нареканий. Было выполнено обучение и тестовая выборка, разделились 70 на 30%. Модель я выбрал LogisticRegression, сама модель с неплохой точностью (0,808). Обучение модели проходило на необработанном тексте и номинациях. \n",
    "\n",
    "    __2.1.1 SGDClassifier__  пользовался моделью, так как модель показывает себя очень хорошо (точность 0,806), в данном случае это было так, но она показала себя чуть хуже, чем LogisticRegression (Бинарная классификация).\n",
    "    https://scikit-learn.org/stable/modules/generated/sklearn.linear_model.SGDClassifier.html\n",
    "\n",
    "    __2.1.2 LogisticRegression__ выбрал, так как при обучении и тестовой выборке показала лучшую точность (0,808), так же полезна по другим вещам. \n",
    "    https://scikitlearn.org/stable/modules/generated/sklearn.linear_model.LogisticRegression.html\n",
    "\n",
    "    __2.1.3 MultinomialNB__ сама модель хорошая, но не в данной ситуцации, потому что она подходит немного для других вещей поэтому показала довольно скудную точность.\n",
    "    https://scikit-learn.org/stable/modules/generated/sklearn.naive_bayes.MultinomialNB.html\n",
    "    \n",
    "__2.2  Оптимизация модели__ Пункт был выполнен успешно. Была выполнена подборка гипперпараметров для модели LogisticRegression и ее точность улучшилась на 0,03. Сам результат получился неплохим, т.к. гипперпараметры в принципе редко сильно повышают точность модели. Также были выведены графики кривых валидаций и обучения, они показали себя хорошо.\n",
    "\n",
    "__2.3 Подготовка отчета__ Предварительная обработка данных выполнена полностью, без проблем.\n",
    "\n",
    "### Вывод\n",
    "\n",
    "В итоге работа была полностью выполнена. "
   ]
  }
 ],
 "metadata": {
  "kernelspec": {
   "display_name": "Python 3 (ipykernel)",
   "language": "python",
   "name": "python3"
  },
  "language_info": {
   "codemirror_mode": {
    "name": "ipython",
    "version": 3
   },
   "file_extension": ".py",
   "mimetype": "text/x-python",
   "name": "python",
   "nbconvert_exporter": "python",
   "pygments_lexer": "ipython3",
   "version": "3.10.9"
  }
 },
 "nbformat": 4,
 "nbformat_minor": 5
}
