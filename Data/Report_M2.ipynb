{
 "cells": [
  {
   "cell_type": "markdown",
   "id": "795267f3",
   "metadata": {},
   "source": [
    "## Модуль Б.  Разведочный анализ данных"
   ]
  },
  {
   "cell_type": "markdown",
   "id": "b3e0fc69",
   "metadata": {},
   "source": [
    "#### Импортирование библиотек"
   ]
  },
  {
   "cell_type": "code",
   "execution_count": 94,
   "id": "2d4500e9",
   "metadata": {},
   "outputs": [],
   "source": [
    "import pandas as pd\n",
    "import io\n",
    "import glob\n",
    "import re\n",
    "import nltk\n",
    "import matplotlib.pyplot as plt\n",
    "import pymorphy2\n",
    "import fitz\n",
    "import string\n",
    "import numpy as np\n",
    "import re\n",
    "import pyLDAvis\n",
    "import pyLDAvis.gensim\n",
    "from nltk.stem import *\n",
    "from nltk.corpus import stopwords\n",
    "from pymystem3 import Mystem\n",
    "from string import punctuation\n",
    "from nltk.tokenize import word_tokenize\n",
    "from tqdm.auto import tqdm, trange\n",
    "from sklearn.feature_extraction.text import CountVectorizer\n",
    "from sklearn.decomposition import LatentDirichletAllocation\n",
    "import pyLDAvis.sklearn\n",
    "from __future__ import division\n",
    "from sklearn.feature_extraction.text import TfidfVectorizer\n",
    "from sklearn.cluster import AgglomerativeClustering\n",
    "from sklearn.cluster import KMeans\n",
    "from sklearn.cluster import SpectralClustering\n",
    "from sklearn.metrics import silhouette_score\n",
    "from sklearn.manifold import TSNE\n",
    "from sklearn.decomposition import NMF\n",
    "from sklearn.decomposition import TruncatedSVD\n",
    "from sklearn.metrics.pairwise import linear_kernel\n",
    "from sklearn.metrics.pairwise import cosine_similarity\n",
    "from sklearn.naive_bayes import MultinomialNB\n",
    "from sklearn.pipeline import Pipeline\n",
    "from sklearn.model_selection import train_test_split\n",
    "from sklearn.feature_extraction.text import TfidfTransformer"
   ]
  },
  {
   "cell_type": "markdown",
   "id": "6eca1300",
   "metadata": {},
   "source": [
    "### 1.2 Формирование структуры набора данных"
   ]
  },
  {
   "cell_type": "markdown",
   "id": "540131f8",
   "metadata": {},
   "source": [
    "### Описание структуры данных"
   ]
  },
  {
   "cell_type": "markdown",
   "id": "21062b3f",
   "metadata": {},
   "source": [
    "__TitleCompany__ - Название компании\n",
    "\n",
    "__Description__ - Описание компании\n",
    "\n",
    "__Reiting__ - Рейтинг компании\n",
    "\n",
    "__Categories__ - Категории компании\n",
    "\n",
    "\n",
    "__TitleCompany__ - Название компании\n",
    "\n",
    "__Description__ - Описание компании\n",
    "\n",
    "__Reiting__ - Рейтинг компании\n",
    "\n",
    "__Categories__ - Категории компании\n",
    "\n",
    "__TextPostLemat__ - обработанный, лематизированный текст \n",
    "\n",
    "__TextPostToken__ - обработанный, токенизированный и лематизированный текст (лематизирован другим способом нежели TextPostLemat)\n",
    "\n",
    "__bigram__ - биграммы обработанного и лематизированного текста\n",
    "\n",
    "__trigram__ - триграммы обработанного и лематизированного текста\n",
    "\n",
    "__keyword__ - ключевые слова обработанного и лематизированного текста\n",
    "\n",
    "__clustersAgglomerative__ - кластеры, образованные моделью Agglomerative\n",
    "\n",
    "__clustersKmeans__ - кластеры, образованные моделью Kmeans\n",
    "\n",
    "__clustersSpectral__ - кластеры, образованные моделью Spectral"
   ]
  },
  {
   "cell_type": "markdown",
   "id": "0ec5bb6d",
   "metadata": {},
   "source": [
    "#### Установка библиотек"
   ]
  },
  {
   "cell_type": "code",
   "execution_count": 2,
   "id": "c7bb9d94",
   "metadata": {},
   "outputs": [
    {
     "name": "stdout",
     "output_type": "stream",
     "text": [
      "Requirement already satisfied: pyLDAvis in c:\\users\\essww\\anaconda3\\lib\\site-packages (3.4.0)\n",
      "Requirement already satisfied: scipy in c:\\users\\essww\\anaconda3\\lib\\site-packages (from pyLDAvis) (1.10.1)\n",
      "Requirement already satisfied: pandas>=1.3.4 in c:\\users\\essww\\anaconda3\\lib\\site-packages (from pyLDAvis) (1.4.4)\n",
      "Requirement already satisfied: gensim in c:\\users\\essww\\anaconda3\\lib\\site-packages (from pyLDAvis) (4.3.0)\n",
      "Requirement already satisfied: funcy in c:\\users\\essww\\anaconda3\\lib\\site-packages (from pyLDAvis) (2.0)\n",
      "Requirement already satisfied: numexpr in c:\\users\\essww\\anaconda3\\lib\\site-packages (from pyLDAvis) (2.8.4)\n",
      "Requirement already satisfied: scikit-learn>=1.0.0 in c:\\users\\essww\\anaconda3\\lib\\site-packages (from pyLDAvis) (1.2.2)\n",
      "Requirement already satisfied: setuptools in c:\\users\\essww\\anaconda3\\lib\\site-packages (from pyLDAvis) (65.6.3)\n",
      "Requirement already satisfied: joblib>=1.2.0 in c:\\users\\essww\\anaconda3\\lib\\site-packages (from pyLDAvis) (1.2.0)\n",
      "Requirement already satisfied: numpy>=1.22.0 in c:\\users\\essww\\anaconda3\\lib\\site-packages (from pyLDAvis) (1.23.5)\n",
      "Requirement already satisfied: jinja2 in c:\\users\\essww\\anaconda3\\lib\\site-packages (from pyLDAvis) (2.11.3)\n",
      "Requirement already satisfied: python-dateutil>=2.8.1 in c:\\users\\essww\\anaconda3\\lib\\site-packages (from pandas>=1.3.4->pyLDAvis) (2.8.2)\n",
      "Requirement already satisfied: pytz>=2020.1 in c:\\users\\essww\\anaconda3\\lib\\site-packages (from pandas>=1.3.4->pyLDAvis) (2022.7)\n",
      "Requirement already satisfied: threadpoolctl>=2.0.0 in c:\\users\\essww\\anaconda3\\lib\\site-packages (from scikit-learn>=1.0.0->pyLDAvis) (2.2.0)\n",
      "Requirement already satisfied: smart-open>=1.8.1 in c:\\users\\essww\\anaconda3\\lib\\site-packages (from gensim->pyLDAvis) (5.2.1)\n",
      "Requirement already satisfied: FuzzyTM>=0.4.0 in c:\\users\\essww\\anaconda3\\lib\\site-packages (from gensim->pyLDAvis) (2.0.5)\n",
      "Requirement already satisfied: MarkupSafe>=0.23 in c:\\users\\essww\\anaconda3\\lib\\site-packages (from jinja2->pyLDAvis) (2.0.1)\n",
      "Requirement already satisfied: pyfume in c:\\users\\essww\\anaconda3\\lib\\site-packages (from FuzzyTM>=0.4.0->gensim->pyLDAvis) (0.2.25)\n",
      "Requirement already satisfied: six>=1.5 in c:\\users\\essww\\anaconda3\\lib\\site-packages (from python-dateutil>=2.8.1->pandas>=1.3.4->pyLDAvis) (1.16.0)\n",
      "Requirement already satisfied: fst-pso in c:\\users\\essww\\anaconda3\\lib\\site-packages (from pyfume->FuzzyTM>=0.4.0->gensim->pyLDAvis) (1.8.1)\n",
      "Requirement already satisfied: simpful in c:\\users\\essww\\anaconda3\\lib\\site-packages (from pyfume->FuzzyTM>=0.4.0->gensim->pyLDAvis) (2.10.0)\n",
      "Requirement already satisfied: miniful in c:\\users\\essww\\anaconda3\\lib\\site-packages (from fst-pso->pyfume->FuzzyTM>=0.4.0->gensim->pyLDAvis) (0.0.6)\n",
      "Requirement already satisfied: requests in c:\\users\\essww\\anaconda3\\lib\\site-packages (from simpful->pyfume->FuzzyTM>=0.4.0->gensim->pyLDAvis) (2.28.1)\n",
      "Requirement already satisfied: charset-normalizer<3,>=2 in c:\\users\\essww\\anaconda3\\lib\\site-packages (from requests->simpful->pyfume->FuzzyTM>=0.4.0->gensim->pyLDAvis) (2.0.4)\n",
      "Requirement already satisfied: idna<4,>=2.5 in c:\\users\\essww\\anaconda3\\lib\\site-packages (from requests->simpful->pyfume->FuzzyTM>=0.4.0->gensim->pyLDAvis) (3.4)\n",
      "Requirement already satisfied: urllib3<1.27,>=1.21.1 in c:\\users\\essww\\anaconda3\\lib\\site-packages (from requests->simpful->pyfume->FuzzyTM>=0.4.0->gensim->pyLDAvis) (1.26.15)\n",
      "Requirement already satisfied: certifi>=2017.4.17 in c:\\users\\essww\\anaconda3\\lib\\site-packages (from requests->simpful->pyfume->FuzzyTM>=0.4.0->gensim->pyLDAvis) (2022.12.7)\n",
      "Note: you may need to restart the kernel to use updated packages.\n"
     ]
    }
   ],
   "source": [
    "pip install pyLDAvis"
   ]
  },
  {
   "cell_type": "markdown",
   "id": "41893cc7",
   "metadata": {},
   "source": [
    "### 2.1 Поиск ключевых слов/n-грамм. Векторизация текстов"
   ]
  },
  {
   "cell_type": "code",
   "execution_count": 3,
   "id": "cb6410ef",
   "metadata": {},
   "outputs": [],
   "source": [
    "dfHabr1 = pd.read_csv('Report1.csv')"
   ]
  },
  {
   "cell_type": "code",
   "execution_count": 4,
   "id": "b37bedce",
   "metadata": {},
   "outputs": [],
   "source": [
    "mystem = Mystem() \n",
    "# добавление стопслов\n",
    "russian_stopwords = stopwords.words(\"russian\")\n",
    "russian_stopwords.extend(['…', '«', '»', '...', 'быть', 'r', 'n', 'а', 'мы', 'с', 'для', 'ещё', 'его', 'также', 'к', 'тем', 'кто', 'чтобы', 'но', 'они', 'будут', 'так', 'где', 'один', 'он ', 'и', 'на', 'но', 'или', 'либо', 'это', 'мб', 'далее', 'дв', 'свой', 'ваш','всё', 'очень', 'её', 'ещё', 'вообще', 'наш', 'который'])"
   ]
  },
  {
   "cell_type": "markdown",
   "id": "e6a585e4",
   "metadata": {},
   "source": [
    "Из-за проблем с чтением нужно заново токенизировать текст, именно поэтому заново прописываю метод токенизации на лемматизированном тексте"
   ]
  },
  {
   "cell_type": "code",
   "execution_count": 5,
   "id": "c4ad6fa6",
   "metadata": {},
   "outputs": [],
   "source": [
    "def tokenize(text):\n",
    "    t = word_tokenize(text)\n",
    "    return [token for token in t if token not in russian_stopwords]"
   ]
  },
  {
   "cell_type": "code",
   "execution_count": 6,
   "id": "5a159916",
   "metadata": {},
   "outputs": [
    {
     "data": {
      "application/vnd.jupyter.widget-view+json": {
       "model_id": "d30da950b6fb482fbfaaa2ce882fb6f7",
       "version_major": 2,
       "version_minor": 0
      },
      "text/plain": [
       "  0%|          | 0/91 [00:00<?, ?it/s]"
      ]
     },
     "metadata": {},
     "output_type": "display_data"
    }
   ],
   "source": [
    "prep_text1 = [tokenize(text.lower()) for text in tqdm(dfHabr1['TextPostLemat']) if text not in russian_stopwords]"
   ]
  },
  {
   "cell_type": "code",
   "execution_count": 7,
   "id": "6f0e7097",
   "metadata": {},
   "outputs": [],
   "source": [
    "dfHabr1['TextPostToken'] = prep_text1"
   ]
  },
  {
   "cell_type": "code",
   "execution_count": 8,
   "id": "54e70483",
   "metadata": {},
   "outputs": [],
   "source": [
    "dfHabr1['bigram'] = ''\n",
    "dfHabr1['trigram'] = ''\n",
    "dfHabr1['keyword'] = ''"
   ]
  },
  {
   "cell_type": "code",
   "execution_count": 9,
   "id": "d08ea12c",
   "metadata": {},
   "outputs": [
    {
     "data": {
      "application/vnd.jupyter.widget-view+json": {
       "model_id": "9e553e2955d2476c97f1082f055196b4",
       "version_major": 2,
       "version_minor": 0
      },
      "text/plain": [
       "  0%|          | 0/91 [00:00<?, ?it/s]"
      ]
     },
     "metadata": {},
     "output_type": "display_data"
    },
    {
     "name": "stderr",
     "output_type": "stream",
     "text": [
      "C:\\Users\\essww\\AppData\\Local\\Temp\\ipykernel_15520\\4148636806.py:3: SettingWithCopyWarning: \n",
      "A value is trying to be set on a copy of a slice from a DataFrame\n",
      "\n",
      "See the caveats in the documentation: https://pandas.pydata.org/pandas-docs/stable/user_guide/indexing.html#returning-a-view-versus-a-copy\n",
      "  dfHabr1['bigram'][i] = list(nltk.ngrams(dfHabr1['TextPostToken'][i], 2))\n"
     ]
    },
    {
     "data": {
      "application/vnd.jupyter.widget-view+json": {
       "model_id": "f7e0cd2255e04b0d9a66f704e8c82e56",
       "version_major": 2,
       "version_minor": 0
      },
      "text/plain": [
       "  0%|          | 0/91 [00:00<?, ?it/s]"
      ]
     },
     "metadata": {},
     "output_type": "display_data"
    },
    {
     "name": "stderr",
     "output_type": "stream",
     "text": [
      "C:\\Users\\essww\\AppData\\Local\\Temp\\ipykernel_15520\\4148636806.py:6: SettingWithCopyWarning: \n",
      "A value is trying to be set on a copy of a slice from a DataFrame\n",
      "\n",
      "See the caveats in the documentation: https://pandas.pydata.org/pandas-docs/stable/user_guide/indexing.html#returning-a-view-versus-a-copy\n",
      "  dfHabr1['trigram'][i] = list(nltk.ngrams(dfHabr1['TextPostToken'][i], 3))\n"
     ]
    },
    {
     "data": {
      "application/vnd.jupyter.widget-view+json": {
       "model_id": "80fd0f4b9dc44ae1a3340794f490ea91",
       "version_major": 2,
       "version_minor": 0
      },
      "text/plain": [
       "  0%|          | 0/91 [00:00<?, ?it/s]"
      ]
     },
     "metadata": {},
     "output_type": "display_data"
    },
    {
     "name": "stderr",
     "output_type": "stream",
     "text": [
      "C:\\Users\\essww\\AppData\\Local\\Temp\\ipykernel_15520\\4148636806.py:11: SettingWithCopyWarning: \n",
      "A value is trying to be set on a copy of a slice from a DataFrame\n",
      "\n",
      "See the caveats in the documentation: https://pandas.pydata.org/pandas-docs/stable/user_guide/indexing.html#returning-a-view-versus-a-copy\n",
      "  dfHabr1['keyword'][i] = ', '.join(top_words)\n"
     ]
    }
   ],
   "source": [
    "# использование цикла с записью биграмм в датафрейм\n",
    "for i in tqdm(range(len(dfHabr1['TextPostToken']))):\n",
    "    dfHabr1['bigram'][i] = list(nltk.ngrams(dfHabr1['TextPostToken'][i], 2))\n",
    "# использование цикла с записью триграмм в датафрейм\n",
    "for i in tqdm(range(len(dfHabr1['TextPostToken']))):\n",
    "    dfHabr1['trigram'][i] = list(nltk.ngrams(dfHabr1['TextPostToken'][i], 3))\n",
    "# использование цикла с записью ключевых слов в датафрейм\n",
    "for i in tqdm(range(len(dfHabr1['TextPostToken']))):\n",
    "    freq_dist = nltk.FreqDist(dfHabr1['TextPostToken'][i])\n",
    "    top_words = [word for word, count in freq_dist.most_common(10)]\n",
    "    dfHabr1['keyword'][i] = ', '.join(top_words)"
   ]
  },
  {
   "cell_type": "code",
   "execution_count": 10,
   "id": "6b87ae51",
   "metadata": {},
   "outputs": [
    {
     "data": {
      "text/html": [
       "<div>\n",
       "<style scoped>\n",
       "    .dataframe tbody tr th:only-of-type {\n",
       "        vertical-align: middle;\n",
       "    }\n",
       "\n",
       "    .dataframe tbody tr th {\n",
       "        vertical-align: top;\n",
       "    }\n",
       "\n",
       "    .dataframe thead th {\n",
       "        text-align: right;\n",
       "    }\n",
       "</style>\n",
       "<table border=\"1\" class=\"dataframe\">\n",
       "  <thead>\n",
       "    <tr style=\"text-align: right;\">\n",
       "      <th></th>\n",
       "      <th>TitleCompany</th>\n",
       "      <th>Description</th>\n",
       "      <th>Reiting</th>\n",
       "      <th>Categories</th>\n",
       "      <th>TextPostLemat</th>\n",
       "      <th>TextPostToken</th>\n",
       "      <th>bigram</th>\n",
       "      <th>trigram</th>\n",
       "      <th>keyword</th>\n",
       "    </tr>\n",
       "  </thead>\n",
       "  <tbody>\n",
       "    <tr>\n",
       "      <th>0</th>\n",
       "      <td>RUVDS.com</td>\n",
       "      <td>VDS/VPS-хостинг. Скидка 15% по коду HABR15</td>\n",
       "      <td>2393.91</td>\n",
       "      <td>Электроника для начинающих, Системное админист...</td>\n",
       "      <td>общий обзор новый алгоритм стеганография позво...</td>\n",
       "      <td>[общий, обзор, новый, алгоритм, стеганография,...</td>\n",
       "      <td>[(общий, обзор), (обзор, новый), (новый, алгор...</td>\n",
       "      <td>[(общий, обзор, новый), (обзор, новый, алгорит...</td>\n",
       "      <td>алгоритм, информация, стеганография, контент, ...</td>\n",
       "    </tr>\n",
       "    <tr>\n",
       "      <th>1</th>\n",
       "      <td>Timeweb Cloud</td>\n",
       "      <td>Облачная платформа для разработчиков и бизнеса</td>\n",
       "      <td>1542.55</td>\n",
       "      <td>DIY или Сделай сам, История IT</td>\n",
       "      <td>студенческий год родитель союз студент часто п...</td>\n",
       "      <td>[студенческий, год, родитель, союз, студент, ч...</td>\n",
       "      <td>[(студенческий, год), (год, родитель), (родите...</td>\n",
       "      <td>[(студенческий, год, родитель), (год, родитель...</td>\n",
       "      <td>ребенок, геркон, игрушка, мочь, простой, конта...</td>\n",
       "    </tr>\n",
       "    <tr>\n",
       "      <th>2</th>\n",
       "      <td>Selectel</td>\n",
       "      <td>IT-инфраструктура для бизнеса</td>\n",
       "      <td>1935.27</td>\n",
       "      <td>IT-компании, Производство и разработка электро...</td>\n",
       "      <td>явление называть именно обвал дело продажа жес...</td>\n",
       "      <td>[явление, называть, именно, обвал, дело, прода...</td>\n",
       "      <td>[(явление, называть), (называть, именно), (име...</td>\n",
       "      <td>[(явление, называть, именно), (называть, именн...</td>\n",
       "      <td>млн, продажа, год, квартал, пк, рынок, динамик...</td>\n",
       "    </tr>\n",
       "    <tr>\n",
       "      <th>3</th>\n",
       "      <td>RUVDS.com</td>\n",
       "      <td>VDS/VPS-хостинг. Скидка 15% по коду HABR15</td>\n",
       "      <td>2393.91</td>\n",
       "      <td>Электроника для начинающих, Системное админист...</td>\n",
       "      <td>закон физика говорить обо весь возможный явлен...</td>\n",
       "      <td>[закон, физика, говорить, обо, весь, возможный...</td>\n",
       "      <td>[(закон, физика), (физика, говорить), (говорит...</td>\n",
       "      <td>[(закон, физика, говорить), (физика, говорить,...</td>\n",
       "      <td>дыра, чрной, событие, вселенная, горизонт, мат...</td>\n",
       "    </tr>\n",
       "    <tr>\n",
       "      <th>4</th>\n",
       "      <td>RUVDS.com</td>\n",
       "      <td>VDS/VPS-хостинг. Скидка 15% по коду HABR15</td>\n",
       "      <td>2393.91</td>\n",
       "      <td>Электроника для начинающих, Системное админист...</td>\n",
       "      <td>существовать нарисовать вид анимешной девушка ...</td>\n",
       "      <td>[существовать, нарисовать, вид, анимешной, дев...</td>\n",
       "      <td>[(существовать, нарисовать), (нарисовать, вид)...</td>\n",
       "      <td>[(существовать, нарисовать, вид), (нарисовать,...</td>\n",
       "      <td>человек, год, вид, становиться, хуманизация, б...</td>\n",
       "    </tr>\n",
       "  </tbody>\n",
       "</table>\n",
       "</div>"
      ],
      "text/plain": [
       "    TitleCompany                                     Description  Reiting  \\\n",
       "0      RUVDS.com      VDS/VPS-хостинг. Скидка 15% по коду HABR15  2393.91   \n",
       "1  Timeweb Cloud  Облачная платформа для разработчиков и бизнеса  1542.55   \n",
       "2       Selectel                   IT-инфраструктура для бизнеса  1935.27   \n",
       "3      RUVDS.com      VDS/VPS-хостинг. Скидка 15% по коду HABR15  2393.91   \n",
       "4      RUVDS.com      VDS/VPS-хостинг. Скидка 15% по коду HABR15  2393.91   \n",
       "\n",
       "                                          Categories  \\\n",
       "0  Электроника для начинающих, Системное админист...   \n",
       "1                     DIY или Сделай сам, История IT   \n",
       "2  IT-компании, Производство и разработка электро...   \n",
       "3  Электроника для начинающих, Системное админист...   \n",
       "4  Электроника для начинающих, Системное админист...   \n",
       "\n",
       "                                       TextPostLemat  \\\n",
       "0  общий обзор новый алгоритм стеганография позво...   \n",
       "1  студенческий год родитель союз студент часто п...   \n",
       "2  явление называть именно обвал дело продажа жес...   \n",
       "3  закон физика говорить обо весь возможный явлен...   \n",
       "4  существовать нарисовать вид анимешной девушка ...   \n",
       "\n",
       "                                       TextPostToken  \\\n",
       "0  [общий, обзор, новый, алгоритм, стеганография,...   \n",
       "1  [студенческий, год, родитель, союз, студент, ч...   \n",
       "2  [явление, называть, именно, обвал, дело, прода...   \n",
       "3  [закон, физика, говорить, обо, весь, возможный...   \n",
       "4  [существовать, нарисовать, вид, анимешной, дев...   \n",
       "\n",
       "                                              bigram  \\\n",
       "0  [(общий, обзор), (обзор, новый), (новый, алгор...   \n",
       "1  [(студенческий, год), (год, родитель), (родите...   \n",
       "2  [(явление, называть), (называть, именно), (име...   \n",
       "3  [(закон, физика), (физика, говорить), (говорит...   \n",
       "4  [(существовать, нарисовать), (нарисовать, вид)...   \n",
       "\n",
       "                                             trigram  \\\n",
       "0  [(общий, обзор, новый), (обзор, новый, алгорит...   \n",
       "1  [(студенческий, год, родитель), (год, родитель...   \n",
       "2  [(явление, называть, именно), (называть, именн...   \n",
       "3  [(закон, физика, говорить), (физика, говорить,...   \n",
       "4  [(существовать, нарисовать, вид), (нарисовать,...   \n",
       "\n",
       "                                             keyword  \n",
       "0  алгоритм, информация, стеганография, контент, ...  \n",
       "1  ребенок, геркон, игрушка, мочь, простой, конта...  \n",
       "2  млн, продажа, год, квартал, пк, рынок, динамик...  \n",
       "3  дыра, чрной, событие, вселенная, горизонт, мат...  \n",
       "4  человек, год, вид, становиться, хуманизация, б...  "
      ]
     },
     "execution_count": 10,
     "metadata": {},
     "output_type": "execute_result"
    }
   ],
   "source": [
    "dfHabr1.head()"
   ]
  },
  {
   "cell_type": "code",
   "execution_count": 11,
   "id": "7215f0ad",
   "metadata": {},
   "outputs": [],
   "source": [
    "def preprocess_text(data, stopwords=russian_stopwords):\n",
    "    text = re.sub('ё','е', data.lower())\n",
    "    text = text.strip()\n",
    "    text = [w for w in text.split() if w not in stopwords] \n",
    "    text = [w for w in text if len(w) >=3]\n",
    "    return ' '.join(text)"
   ]
  },
  {
   "cell_type": "code",
   "execution_count": 12,
   "id": "83ac3aa0",
   "metadata": {},
   "outputs": [],
   "source": [
    "def transform_data(data: pd.Series) -> list:\n",
    "    result = [preprocess_text(data=i) for i in data]\n",
    "    return result"
   ]
  },
  {
   "cell_type": "code",
   "execution_count": 13,
   "id": "13ff6e6c",
   "metadata": {},
   "outputs": [],
   "source": [
    "text = dfHabr1['TextPostLemat']"
   ]
  },
  {
   "cell_type": "code",
   "execution_count": 14,
   "id": "6fb29b55",
   "metadata": {},
   "outputs": [
    {
     "name": "stdout",
     "output_type": "stream",
     "text": [
      "CPU times: total: 78.1 ms\n",
      "Wall time: 130 ms\n"
     ]
    }
   ],
   "source": [
    "%%time\n",
    "dfHabr2 = transform_data(text)"
   ]
  },
  {
   "cell_type": "code",
   "execution_count": 15,
   "id": "f41523f2",
   "metadata": {},
   "outputs": [
    {
     "data": {
      "text/plain": [
       "91"
      ]
     },
     "execution_count": 15,
     "metadata": {},
     "output_type": "execute_result"
    }
   ],
   "source": [
    "len(dfHabr2)"
   ]
  },
  {
   "cell_type": "code",
   "execution_count": 16,
   "id": "d477d648",
   "metadata": {},
   "outputs": [],
   "source": [
    "vectorizer = CountVectorizer(analyzer='word', stop_words=russian_stopwords, ngram_range=(1, 3), min_df=1)\n",
    "count_matrix = vectorizer.fit_transform(dfHabr2)"
   ]
  },
  {
   "cell_type": "code",
   "execution_count": 17,
   "id": "0034057d",
   "metadata": {},
   "outputs": [
    {
     "data": {
      "text/plain": [
       "array([[0, 0, 0, 0, 0, 0, 0, 0, 0, 0, 0, 0, 0, 0, 0, 0, 0, 0, 0, 0, 0, 0,\n",
       "        0, 0, 0, 0, 0, 0, 0, 0, 0, 0, 0, 0, 0, 0, 0, 0, 0, 0, 0, 0, 0, 0,\n",
       "        0, 0, 0, 0, 0, 0, 0, 0, 0, 0, 0, 0, 0, 0, 0, 0, 0, 0, 0, 0, 0, 0,\n",
       "        0, 0, 0, 0, 0, 0, 0, 0, 0, 0, 0, 0, 0, 0, 0, 0, 0, 0, 0, 0, 0, 0,\n",
       "        0, 0, 0, 0, 0, 0, 0, 0, 0, 0, 0, 0, 0, 0, 0, 0, 0, 0, 0, 0, 0, 0,\n",
       "        0, 0, 0, 0, 0, 0, 0, 0, 0, 0, 0, 0, 0, 0, 0, 0, 0, 0, 0, 0, 0, 0,\n",
       "        0, 0, 0, 0, 0, 0, 0, 0, 0, 0, 0, 0, 0, 0, 0, 0, 0, 0, 0, 0, 0, 0,\n",
       "        0, 0, 0, 0, 0, 0, 0, 0, 0, 0, 0, 0, 0, 0, 0, 0, 0, 0, 0, 0, 0, 0,\n",
       "        0, 0, 0, 0, 0, 0, 0, 0, 0, 0, 0, 0, 0, 0, 0, 0, 0, 0, 0, 0, 0, 0,\n",
       "        0, 0],\n",
       "       [0, 0, 0, 0, 0, 0, 0, 0, 0, 0, 0, 0, 0, 0, 0, 0, 0, 0, 0, 0, 0, 0,\n",
       "        0, 0, 0, 0, 0, 0, 0, 0, 0, 0, 0, 0, 0, 0, 0, 0, 0, 0, 0, 0, 0, 0,\n",
       "        0, 0, 0, 0, 0, 0, 0, 0, 0, 0, 0, 0, 0, 0, 0, 0, 0, 0, 0, 0, 0, 0,\n",
       "        0, 0, 0, 0, 0, 0, 0, 0, 0, 0, 0, 0, 0, 0, 0, 0, 0, 0, 0, 0, 0, 0,\n",
       "        0, 0, 0, 0, 0, 0, 0, 0, 0, 0, 0, 0, 0, 0, 0, 0, 0, 0, 0, 0, 0, 0,\n",
       "        0, 0, 0, 0, 0, 0, 0, 0, 0, 0, 0, 0, 0, 0, 0, 0, 0, 0, 0, 0, 0, 0,\n",
       "        0, 0, 0, 0, 0, 0, 0, 0, 0, 0, 0, 0, 0, 0, 0, 0, 0, 0, 0, 0, 0, 0,\n",
       "        0, 0, 0, 0, 0, 0, 0, 0, 0, 0, 0, 0, 0, 0, 0, 0, 0, 0, 0, 0, 0, 0,\n",
       "        0, 0, 0, 0, 0, 0, 0, 0, 0, 0, 0, 0, 0, 0, 0, 0, 0, 0, 0, 0, 0, 0,\n",
       "        0, 0]], dtype=int64)"
      ]
     },
     "execution_count": 17,
     "metadata": {},
     "output_type": "execute_result"
    }
   ],
   "source": [
    "count_matrix.toarray()[:2,:200]"
   ]
  },
  {
   "cell_type": "code",
   "execution_count": 18,
   "id": "6e691a5a",
   "metadata": {},
   "outputs": [
    {
     "data": {
      "text/plain": [
       "(91, 161652)"
      ]
     },
     "execution_count": 18,
     "metadata": {},
     "output_type": "execute_result"
    }
   ],
   "source": [
    "count_matrix.shape"
   ]
  },
  {
   "cell_type": "code",
   "execution_count": 19,
   "id": "43e93182",
   "metadata": {},
   "outputs": [
    {
     "data": {
      "text/plain": [
       "array(['ааа', 'ааа класс', 'ааа класс требовать', 'ааа проект',\n",
       "       'ааа проект современность', 'аббревиатура',\n",
       "       'аббревиатура название', 'аббревиатура название большинство',\n",
       "       'аббревиатура обозначать', 'аббревиатура обозначать сторона',\n",
       "       'аббревиатура расшифровываться',\n",
       "       'аббревиатура расшифровываться запрос', 'абитуриент',\n",
       "       'абитуриент вопрос', 'абитуриент вопрос прежде', 'абразив',\n",
       "       'абразив кварц', 'абразив кварц угольный', 'абрам',\n",
       "       'абрам совместный', 'абрам совместный работа', 'абрам старший',\n",
       "       'абрам старший директор', 'абсолютно', 'абсолютно важный',\n",
       "       'абсолютно важный игра', 'абсолютно любой',\n",
       "       'абсолютно любой локация', 'абсолютно непонятный',\n",
       "       'абсолютно непонятный вещь', 'абсолютно никуда',\n",
       "       'абсолютно никуда полететь', 'абсолютно новый',\n",
       "       'абсолютно новый технология', 'абсолютно нормальный',\n",
       "       'абсолютно нормальный браузерный', 'абсолютно разный',\n",
       "       'абсолютно разный неявный', 'абсолютно скрывать',\n",
       "       'абсолютно скрывать секундный', 'абсолютно спокойно',\n",
       "       'абсолютно спокойно чувствовать', 'абсолютный',\n",
       "       'абсолютный значение', 'абсолютный значение идеально',\n",
       "       'абсолютный изменение', 'абсолютный изменение показатель',\n",
       "       'абсолютный норма', 'абсолютный норма окно',\n",
       "       'абсолютный относительный'], dtype=object)"
      ]
     },
     "execution_count": 19,
     "metadata": {},
     "output_type": "execute_result"
    }
   ],
   "source": [
    "vectorizer.get_feature_names_out()[:50]"
   ]
  },
  {
   "cell_type": "code",
   "execution_count": 20,
   "id": "dc40d31c",
   "metadata": {},
   "outputs": [
    {
     "data": {
      "text/plain": [
       "161652"
      ]
     },
     "execution_count": 20,
     "metadata": {},
     "output_type": "execute_result"
    }
   ],
   "source": [
    "len(vectorizer.get_feature_names_out())"
   ]
  },
  {
   "cell_type": "markdown",
   "id": "76fbbc43",
   "metadata": {},
   "source": [
    "### 2.3 Кластеризация"
   ]
  },
  {
   "cell_type": "code",
   "execution_count": 21,
   "id": "8f3b9c85",
   "metadata": {},
   "outputs": [],
   "source": [
    "# Выбор и применение алгоритма кластеризации\n",
    "agg = AgglomerativeClustering(n_clusters=15).fit(count_matrix.toarray())"
   ]
  },
  {
   "cell_type": "code",
   "execution_count": 22,
   "id": "9d3decba",
   "metadata": {},
   "outputs": [],
   "source": [
    "# Получение меток кластеров\n",
    "labelsAgglomerative = agg.labels_\n",
    "clusters1 = agg.labels_.tolist()"
   ]
  },
  {
   "cell_type": "code",
   "execution_count": 23,
   "id": "cd06c8d3",
   "metadata": {},
   "outputs": [],
   "source": [
    "dfHabr1['clustersAgglomerative'] = clusters1"
   ]
  },
  {
   "cell_type": "code",
   "execution_count": 24,
   "id": "84a39abf",
   "metadata": {},
   "outputs": [
    {
     "name": "stderr",
     "output_type": "stream",
     "text": [
      "C:\\Users\\essww\\anaconda3\\lib\\site-packages\\sklearn\\cluster\\_kmeans.py:870: FutureWarning: The default value of `n_init` will change from 10 to 'auto' in 1.4. Set the value of `n_init` explicitly to suppress the warning\n",
      "  warnings.warn(\n",
      "C:\\Users\\essww\\anaconda3\\lib\\site-packages\\sklearn\\cluster\\_kmeans.py:1382: UserWarning: KMeans is known to have a memory leak on Windows with MKL, when there are less chunks than available threads. You can avoid it by setting the environment variable OMP_NUM_THREADS=1.\n",
      "  warnings.warn(\n"
     ]
    }
   ],
   "source": [
    "# Метод к-средних - KMeans\n",
    "km = KMeans(n_clusters=15).fit(count_matrix.toarray())"
   ]
  },
  {
   "cell_type": "code",
   "execution_count": 25,
   "id": "e37af8e2",
   "metadata": {},
   "outputs": [],
   "source": [
    "labelsKmeans = km.labels_\n",
    "clusters2 = km.labels_.tolist()"
   ]
  },
  {
   "cell_type": "code",
   "execution_count": 26,
   "id": "af7720b5",
   "metadata": {},
   "outputs": [],
   "source": [
    "dfHabr1['clustersKmeans'] = clusters2"
   ]
  },
  {
   "cell_type": "code",
   "execution_count": 27,
   "id": "ff4c9d53",
   "metadata": {},
   "outputs": [
    {
     "name": "stderr",
     "output_type": "stream",
     "text": [
      "C:\\Users\\essww\\anaconda3\\lib\\site-packages\\sklearn\\manifold\\_spectral_embedding.py:274: UserWarning: Graph is not fully connected, spectral embedding may not work as expected.\n",
      "  warnings.warn(\n",
      "C:\\Users\\essww\\anaconda3\\lib\\site-packages\\sklearn\\cluster\\_kmeans.py:1382: UserWarning: KMeans is known to have a memory leak on Windows with MKL, when there are less chunks than available threads. You can avoid it by setting the environment variable OMP_NUM_THREADS=1.\n",
      "  warnings.warn(\n"
     ]
    }
   ],
   "source": [
    "# Создание модели DBSCAN\n",
    "spectral = SpectralClustering(n_clusters=15).fit(count_matrix.toarray())"
   ]
  },
  {
   "cell_type": "code",
   "execution_count": 28,
   "id": "44213a3b",
   "metadata": {},
   "outputs": [],
   "source": [
    "labelsSpectral = spectral.labels_\n",
    "clusters3 = spectral.labels_.tolist()"
   ]
  },
  {
   "cell_type": "code",
   "execution_count": 29,
   "id": "84315f3f",
   "metadata": {},
   "outputs": [],
   "source": [
    "dfHabr1['clustersSpectral'] = clusters3"
   ]
  },
  {
   "cell_type": "code",
   "execution_count": 30,
   "id": "65ebac19",
   "metadata": {},
   "outputs": [
    {
     "name": "stdout",
     "output_type": "stream",
     "text": [
      "[ 1  8  1  1  2  1  1 12  3  2  1  1  1  1  1 12  2 12  3  3  1  3  1  1\n",
      "  2  1  9  1  1  2  3  8  1  9  1  1 12  1  1  1  1  1 13  1  1 12  8  1\n",
      "  1  1  1  1  1  7  2 11  1 12  9  3  1  4  5 12  1 12 14  8  3  3 12 12\n",
      "  0  1  9  1  6  1  1  3 10  1 12  2  2  1  1 12 10  3  3]\n"
     ]
    }
   ],
   "source": [
    "print(labelsSpectral)"
   ]
  },
  {
   "cell_type": "code",
   "execution_count": 31,
   "id": "18232dbb",
   "metadata": {},
   "outputs": [
    {
     "name": "stdout",
     "output_type": "stream",
     "text": [
      "[ 4  4  4  4  4  4  4 12  7  4  4  4  4  4  0  4  4 11  4  4  4  4  4  4\n",
      "  4 13  4  4  4  4  4  4  4  4  4  4  2  4  4  4  4  4  4  4  6  4  4  4\n",
      "  4  4  1  4  4  4  4  4  4  4 10 14  4  4  4  4  9  4  4  4  4  4  4  4\n",
      "  4  4  4  4  4  4  4  5  4  4  4  8  4  4  4  3  4  4  4]\n"
     ]
    }
   ],
   "source": [
    "print(labelsKmeans)"
   ]
  },
  {
   "cell_type": "code",
   "execution_count": 32,
   "id": "f107a596",
   "metadata": {
    "scrolled": true
   },
   "outputs": [
    {
     "name": "stdout",
     "output_type": "stream",
     "text": [
      "[ 4  4  4  7  4  4  4  0 11  4  4  4  4  4  9  4 12  2  4  4  4  0  4  4\n",
      "  0 13 10  0  0  4  4  4  4  4  4  4  8  4  4  4  4  1  4  4  0  4  4  0\n",
      "  0  4  0  4  0  4  4  0  0  4 14  0  4  4  4  4  5  4  4  0  2  4  4  4\n",
      "  4  4  4  4  4  4  0  6  1  1  4  1  4  4  4  3  4  4  4]\n"
     ]
    }
   ],
   "source": [
    "print(labelsAgglomerative)"
   ]
  },
  {
   "cell_type": "code",
   "execution_count": 33,
   "id": "dc3319bc",
   "metadata": {},
   "outputs": [
    {
     "data": {
      "text/html": [
       "<div>\n",
       "<style scoped>\n",
       "    .dataframe tbody tr th:only-of-type {\n",
       "        vertical-align: middle;\n",
       "    }\n",
       "\n",
       "    .dataframe tbody tr th {\n",
       "        vertical-align: top;\n",
       "    }\n",
       "\n",
       "    .dataframe thead th {\n",
       "        text-align: right;\n",
       "    }\n",
       "</style>\n",
       "<table border=\"1\" class=\"dataframe\">\n",
       "  <thead>\n",
       "    <tr style=\"text-align: right;\">\n",
       "      <th></th>\n",
       "      <th>TitleCompany</th>\n",
       "      <th>Description</th>\n",
       "      <th>Reiting</th>\n",
       "      <th>Categories</th>\n",
       "      <th>TextPostLemat</th>\n",
       "      <th>TextPostToken</th>\n",
       "      <th>bigram</th>\n",
       "      <th>trigram</th>\n",
       "      <th>keyword</th>\n",
       "      <th>clustersAgglomerative</th>\n",
       "      <th>clustersKmeans</th>\n",
       "      <th>clustersSpectral</th>\n",
       "    </tr>\n",
       "  </thead>\n",
       "  <tbody>\n",
       "    <tr>\n",
       "      <th>0</th>\n",
       "      <td>RUVDS.com</td>\n",
       "      <td>VDS/VPS-хостинг. Скидка 15% по коду HABR15</td>\n",
       "      <td>2393.91</td>\n",
       "      <td>Электроника для начинающих, Системное админист...</td>\n",
       "      <td>общий обзор новый алгоритм стеганография позво...</td>\n",
       "      <td>[общий, обзор, новый, алгоритм, стеганография,...</td>\n",
       "      <td>[(общий, обзор), (обзор, новый), (новый, алгор...</td>\n",
       "      <td>[(общий, обзор, новый), (обзор, новый, алгорит...</td>\n",
       "      <td>алгоритм, информация, стеганография, контент, ...</td>\n",
       "      <td>4</td>\n",
       "      <td>4</td>\n",
       "      <td>1</td>\n",
       "    </tr>\n",
       "    <tr>\n",
       "      <th>1</th>\n",
       "      <td>Timeweb Cloud</td>\n",
       "      <td>Облачная платформа для разработчиков и бизнеса</td>\n",
       "      <td>1542.55</td>\n",
       "      <td>DIY или Сделай сам, История IT</td>\n",
       "      <td>студенческий год родитель союз студент часто п...</td>\n",
       "      <td>[студенческий, год, родитель, союз, студент, ч...</td>\n",
       "      <td>[(студенческий, год), (год, родитель), (родите...</td>\n",
       "      <td>[(студенческий, год, родитель), (год, родитель...</td>\n",
       "      <td>ребенок, геркон, игрушка, мочь, простой, конта...</td>\n",
       "      <td>4</td>\n",
       "      <td>4</td>\n",
       "      <td>8</td>\n",
       "    </tr>\n",
       "    <tr>\n",
       "      <th>2</th>\n",
       "      <td>Selectel</td>\n",
       "      <td>IT-инфраструктура для бизнеса</td>\n",
       "      <td>1935.27</td>\n",
       "      <td>IT-компании, Производство и разработка электро...</td>\n",
       "      <td>явление называть именно обвал дело продажа жес...</td>\n",
       "      <td>[явление, называть, именно, обвал, дело, прода...</td>\n",
       "      <td>[(явление, называть), (называть, именно), (име...</td>\n",
       "      <td>[(явление, называть, именно), (называть, именн...</td>\n",
       "      <td>млн, продажа, год, квартал, пк, рынок, динамик...</td>\n",
       "      <td>4</td>\n",
       "      <td>4</td>\n",
       "      <td>1</td>\n",
       "    </tr>\n",
       "    <tr>\n",
       "      <th>3</th>\n",
       "      <td>RUVDS.com</td>\n",
       "      <td>VDS/VPS-хостинг. Скидка 15% по коду HABR15</td>\n",
       "      <td>2393.91</td>\n",
       "      <td>Электроника для начинающих, Системное админист...</td>\n",
       "      <td>закон физика говорить обо весь возможный явлен...</td>\n",
       "      <td>[закон, физика, говорить, обо, весь, возможный...</td>\n",
       "      <td>[(закон, физика), (физика, говорить), (говорит...</td>\n",
       "      <td>[(закон, физика, говорить), (физика, говорить,...</td>\n",
       "      <td>дыра, чрной, событие, вселенная, горизонт, мат...</td>\n",
       "      <td>7</td>\n",
       "      <td>4</td>\n",
       "      <td>1</td>\n",
       "    </tr>\n",
       "    <tr>\n",
       "      <th>4</th>\n",
       "      <td>RUVDS.com</td>\n",
       "      <td>VDS/VPS-хостинг. Скидка 15% по коду HABR15</td>\n",
       "      <td>2393.91</td>\n",
       "      <td>Электроника для начинающих, Системное админист...</td>\n",
       "      <td>существовать нарисовать вид анимешной девушка ...</td>\n",
       "      <td>[существовать, нарисовать, вид, анимешной, дев...</td>\n",
       "      <td>[(существовать, нарисовать), (нарисовать, вид)...</td>\n",
       "      <td>[(существовать, нарисовать, вид), (нарисовать,...</td>\n",
       "      <td>человек, год, вид, становиться, хуманизация, б...</td>\n",
       "      <td>4</td>\n",
       "      <td>4</td>\n",
       "      <td>2</td>\n",
       "    </tr>\n",
       "  </tbody>\n",
       "</table>\n",
       "</div>"
      ],
      "text/plain": [
       "    TitleCompany                                     Description  Reiting  \\\n",
       "0      RUVDS.com      VDS/VPS-хостинг. Скидка 15% по коду HABR15  2393.91   \n",
       "1  Timeweb Cloud  Облачная платформа для разработчиков и бизнеса  1542.55   \n",
       "2       Selectel                   IT-инфраструктура для бизнеса  1935.27   \n",
       "3      RUVDS.com      VDS/VPS-хостинг. Скидка 15% по коду HABR15  2393.91   \n",
       "4      RUVDS.com      VDS/VPS-хостинг. Скидка 15% по коду HABR15  2393.91   \n",
       "\n",
       "                                          Categories  \\\n",
       "0  Электроника для начинающих, Системное админист...   \n",
       "1                     DIY или Сделай сам, История IT   \n",
       "2  IT-компании, Производство и разработка электро...   \n",
       "3  Электроника для начинающих, Системное админист...   \n",
       "4  Электроника для начинающих, Системное админист...   \n",
       "\n",
       "                                       TextPostLemat  \\\n",
       "0  общий обзор новый алгоритм стеганография позво...   \n",
       "1  студенческий год родитель союз студент часто п...   \n",
       "2  явление называть именно обвал дело продажа жес...   \n",
       "3  закон физика говорить обо весь возможный явлен...   \n",
       "4  существовать нарисовать вид анимешной девушка ...   \n",
       "\n",
       "                                       TextPostToken  \\\n",
       "0  [общий, обзор, новый, алгоритм, стеганография,...   \n",
       "1  [студенческий, год, родитель, союз, студент, ч...   \n",
       "2  [явление, называть, именно, обвал, дело, прода...   \n",
       "3  [закон, физика, говорить, обо, весь, возможный...   \n",
       "4  [существовать, нарисовать, вид, анимешной, дев...   \n",
       "\n",
       "                                              bigram  \\\n",
       "0  [(общий, обзор), (обзор, новый), (новый, алгор...   \n",
       "1  [(студенческий, год), (год, родитель), (родите...   \n",
       "2  [(явление, называть), (называть, именно), (име...   \n",
       "3  [(закон, физика), (физика, говорить), (говорит...   \n",
       "4  [(существовать, нарисовать), (нарисовать, вид)...   \n",
       "\n",
       "                                             trigram  \\\n",
       "0  [(общий, обзор, новый), (обзор, новый, алгорит...   \n",
       "1  [(студенческий, год, родитель), (год, родитель...   \n",
       "2  [(явление, называть, именно), (называть, именн...   \n",
       "3  [(закон, физика, говорить), (физика, говорить,...   \n",
       "4  [(существовать, нарисовать, вид), (нарисовать,...   \n",
       "\n",
       "                                             keyword  clustersAgglomerative  \\\n",
       "0  алгоритм, информация, стеганография, контент, ...                      4   \n",
       "1  ребенок, геркон, игрушка, мочь, простой, конта...                      4   \n",
       "2  млн, продажа, год, квартал, пк, рынок, динамик...                      4   \n",
       "3  дыра, чрной, событие, вселенная, горизонт, мат...                      7   \n",
       "4  человек, год, вид, становиться, хуманизация, б...                      4   \n",
       "\n",
       "   clustersKmeans  clustersSpectral  \n",
       "0               4                 1  \n",
       "1               4                 8  \n",
       "2               4                 1  \n",
       "3               4                 1  \n",
       "4               4                 2  "
      ]
     },
     "execution_count": 33,
     "metadata": {},
     "output_type": "execute_result"
    }
   ],
   "source": [
    "dfHabr1.head()"
   ]
  },
  {
   "cell_type": "code",
   "execution_count": 35,
   "id": "9f0e1f31",
   "metadata": {},
   "outputs": [],
   "source": [
    "topic = ['RUVDS.com', 'Selectel', 'Timeweb Cloud', 'OTUS', 'Яндекс', 'Open Data Science', 'ГК ЛАНИТ', 'VK', 'getmatch', 'Wiren Board', 'FirstVDS', 'Конференции Олега Бунина (Онтико)', 'AGIMA', 'Альфа-Банк', 'Postgres Professional', 'Ozon Tech', 'TINKOFF', 'Хабр Карьера', 'JUG Ru Group', 'Southbridge']"
   ]
  },
  {
   "cell_type": "code",
   "execution_count": 36,
   "id": "df568f5e",
   "metadata": {
    "scrolled": false
   },
   "outputs": [
    {
     "data": {
      "text/html": [
       "<div>\n",
       "<style scoped>\n",
       "    .dataframe tbody tr th:only-of-type {\n",
       "        vertical-align: middle;\n",
       "    }\n",
       "\n",
       "    .dataframe tbody tr th {\n",
       "        vertical-align: top;\n",
       "    }\n",
       "\n",
       "    .dataframe thead th {\n",
       "        text-align: right;\n",
       "    }\n",
       "</style>\n",
       "<table border=\"1\" class=\"dataframe\">\n",
       "  <thead>\n",
       "    <tr style=\"text-align: right;\">\n",
       "      <th></th>\n",
       "      <th>topic</th>\n",
       "      <th>cluster_0</th>\n",
       "      <th>cluster_1</th>\n",
       "      <th>cluster_2</th>\n",
       "      <th>cluster_3</th>\n",
       "      <th>cluster_4</th>\n",
       "      <th>cluster_5</th>\n",
       "      <th>cluster_6</th>\n",
       "      <th>cluster_7</th>\n",
       "      <th>cluster_8</th>\n",
       "      <th>cluster_9</th>\n",
       "      <th>cluster_10</th>\n",
       "      <th>cluster_11</th>\n",
       "      <th>cluster_12</th>\n",
       "      <th>cluster_13</th>\n",
       "      <th>cluster_14</th>\n",
       "    </tr>\n",
       "  </thead>\n",
       "  <tbody>\n",
       "    <tr>\n",
       "      <th>0</th>\n",
       "      <td>RUVDS.com</td>\n",
       "      <td>2</td>\n",
       "      <td>2</td>\n",
       "      <td>0</td>\n",
       "      <td>0</td>\n",
       "      <td>14</td>\n",
       "      <td>1</td>\n",
       "      <td>0</td>\n",
       "      <td>1</td>\n",
       "      <td>0</td>\n",
       "      <td>0</td>\n",
       "      <td>1</td>\n",
       "      <td>0</td>\n",
       "      <td>0</td>\n",
       "      <td>0</td>\n",
       "      <td>0</td>\n",
       "    </tr>\n",
       "    <tr>\n",
       "      <th>1</th>\n",
       "      <td>Selectel</td>\n",
       "      <td>1</td>\n",
       "      <td>0</td>\n",
       "      <td>0</td>\n",
       "      <td>0</td>\n",
       "      <td>8</td>\n",
       "      <td>0</td>\n",
       "      <td>0</td>\n",
       "      <td>0</td>\n",
       "      <td>0</td>\n",
       "      <td>0</td>\n",
       "      <td>0</td>\n",
       "      <td>0</td>\n",
       "      <td>0</td>\n",
       "      <td>0</td>\n",
       "      <td>0</td>\n",
       "    </tr>\n",
       "    <tr>\n",
       "      <th>2</th>\n",
       "      <td>Timeweb Cloud</td>\n",
       "      <td>2</td>\n",
       "      <td>0</td>\n",
       "      <td>0</td>\n",
       "      <td>0</td>\n",
       "      <td>6</td>\n",
       "      <td>0</td>\n",
       "      <td>1</td>\n",
       "      <td>0</td>\n",
       "      <td>0</td>\n",
       "      <td>0</td>\n",
       "      <td>0</td>\n",
       "      <td>0</td>\n",
       "      <td>0</td>\n",
       "      <td>0</td>\n",
       "      <td>0</td>\n",
       "    </tr>\n",
       "    <tr>\n",
       "      <th>3</th>\n",
       "      <td>OTUS</td>\n",
       "      <td>4</td>\n",
       "      <td>0</td>\n",
       "      <td>1</td>\n",
       "      <td>1</td>\n",
       "      <td>13</td>\n",
       "      <td>0</td>\n",
       "      <td>0</td>\n",
       "      <td>0</td>\n",
       "      <td>0</td>\n",
       "      <td>0</td>\n",
       "      <td>0</td>\n",
       "      <td>0</td>\n",
       "      <td>0</td>\n",
       "      <td>0</td>\n",
       "      <td>0</td>\n",
       "    </tr>\n",
       "    <tr>\n",
       "      <th>4</th>\n",
       "      <td>Яндекс</td>\n",
       "      <td>0</td>\n",
       "      <td>0</td>\n",
       "      <td>0</td>\n",
       "      <td>0</td>\n",
       "      <td>0</td>\n",
       "      <td>0</td>\n",
       "      <td>0</td>\n",
       "      <td>0</td>\n",
       "      <td>0</td>\n",
       "      <td>0</td>\n",
       "      <td>0</td>\n",
       "      <td>0</td>\n",
       "      <td>0</td>\n",
       "      <td>0</td>\n",
       "      <td>0</td>\n",
       "    </tr>\n",
       "    <tr>\n",
       "      <th>5</th>\n",
       "      <td>Open Data Science</td>\n",
       "      <td>0</td>\n",
       "      <td>0</td>\n",
       "      <td>0</td>\n",
       "      <td>0</td>\n",
       "      <td>0</td>\n",
       "      <td>0</td>\n",
       "      <td>0</td>\n",
       "      <td>0</td>\n",
       "      <td>0</td>\n",
       "      <td>0</td>\n",
       "      <td>0</td>\n",
       "      <td>0</td>\n",
       "      <td>0</td>\n",
       "      <td>0</td>\n",
       "      <td>0</td>\n",
       "    </tr>\n",
       "    <tr>\n",
       "      <th>6</th>\n",
       "      <td>ГК ЛАНИТ</td>\n",
       "      <td>0</td>\n",
       "      <td>0</td>\n",
       "      <td>0</td>\n",
       "      <td>0</td>\n",
       "      <td>1</td>\n",
       "      <td>0</td>\n",
       "      <td>0</td>\n",
       "      <td>0</td>\n",
       "      <td>0</td>\n",
       "      <td>0</td>\n",
       "      <td>0</td>\n",
       "      <td>0</td>\n",
       "      <td>0</td>\n",
       "      <td>0</td>\n",
       "      <td>0</td>\n",
       "    </tr>\n",
       "    <tr>\n",
       "      <th>7</th>\n",
       "      <td>VK</td>\n",
       "      <td>1</td>\n",
       "      <td>0</td>\n",
       "      <td>0</td>\n",
       "      <td>0</td>\n",
       "      <td>1</td>\n",
       "      <td>0</td>\n",
       "      <td>0</td>\n",
       "      <td>0</td>\n",
       "      <td>0</td>\n",
       "      <td>0</td>\n",
       "      <td>0</td>\n",
       "      <td>0</td>\n",
       "      <td>0</td>\n",
       "      <td>0</td>\n",
       "      <td>0</td>\n",
       "    </tr>\n",
       "    <tr>\n",
       "      <th>8</th>\n",
       "      <td>getmatch</td>\n",
       "      <td>0</td>\n",
       "      <td>0</td>\n",
       "      <td>0</td>\n",
       "      <td>0</td>\n",
       "      <td>1</td>\n",
       "      <td>0</td>\n",
       "      <td>0</td>\n",
       "      <td>0</td>\n",
       "      <td>0</td>\n",
       "      <td>0</td>\n",
       "      <td>0</td>\n",
       "      <td>0</td>\n",
       "      <td>0</td>\n",
       "      <td>0</td>\n",
       "      <td>0</td>\n",
       "    </tr>\n",
       "    <tr>\n",
       "      <th>9</th>\n",
       "      <td>Wiren Board</td>\n",
       "      <td>1</td>\n",
       "      <td>0</td>\n",
       "      <td>0</td>\n",
       "      <td>0</td>\n",
       "      <td>1</td>\n",
       "      <td>0</td>\n",
       "      <td>0</td>\n",
       "      <td>0</td>\n",
       "      <td>0</td>\n",
       "      <td>0</td>\n",
       "      <td>0</td>\n",
       "      <td>0</td>\n",
       "      <td>0</td>\n",
       "      <td>0</td>\n",
       "      <td>0</td>\n",
       "    </tr>\n",
       "    <tr>\n",
       "      <th>10</th>\n",
       "      <td>FirstVDS</td>\n",
       "      <td>1</td>\n",
       "      <td>0</td>\n",
       "      <td>1</td>\n",
       "      <td>0</td>\n",
       "      <td>4</td>\n",
       "      <td>0</td>\n",
       "      <td>0</td>\n",
       "      <td>0</td>\n",
       "      <td>0</td>\n",
       "      <td>0</td>\n",
       "      <td>0</td>\n",
       "      <td>0</td>\n",
       "      <td>0</td>\n",
       "      <td>0</td>\n",
       "      <td>1</td>\n",
       "    </tr>\n",
       "    <tr>\n",
       "      <th>11</th>\n",
       "      <td>Конференции Олега Бунина (Онтико)</td>\n",
       "      <td>0</td>\n",
       "      <td>1</td>\n",
       "      <td>0</td>\n",
       "      <td>0</td>\n",
       "      <td>0</td>\n",
       "      <td>0</td>\n",
       "      <td>0</td>\n",
       "      <td>0</td>\n",
       "      <td>0</td>\n",
       "      <td>0</td>\n",
       "      <td>0</td>\n",
       "      <td>0</td>\n",
       "      <td>0</td>\n",
       "      <td>1</td>\n",
       "      <td>0</td>\n",
       "    </tr>\n",
       "    <tr>\n",
       "      <th>12</th>\n",
       "      <td>AGIMA</td>\n",
       "      <td>0</td>\n",
       "      <td>0</td>\n",
       "      <td>0</td>\n",
       "      <td>0</td>\n",
       "      <td>0</td>\n",
       "      <td>0</td>\n",
       "      <td>0</td>\n",
       "      <td>0</td>\n",
       "      <td>0</td>\n",
       "      <td>0</td>\n",
       "      <td>0</td>\n",
       "      <td>0</td>\n",
       "      <td>0</td>\n",
       "      <td>0</td>\n",
       "      <td>0</td>\n",
       "    </tr>\n",
       "    <tr>\n",
       "      <th>13</th>\n",
       "      <td>Альфа-Банк</td>\n",
       "      <td>0</td>\n",
       "      <td>1</td>\n",
       "      <td>0</td>\n",
       "      <td>0</td>\n",
       "      <td>1</td>\n",
       "      <td>0</td>\n",
       "      <td>0</td>\n",
       "      <td>0</td>\n",
       "      <td>0</td>\n",
       "      <td>0</td>\n",
       "      <td>0</td>\n",
       "      <td>1</td>\n",
       "      <td>0</td>\n",
       "      <td>0</td>\n",
       "      <td>0</td>\n",
       "    </tr>\n",
       "    <tr>\n",
       "      <th>14</th>\n",
       "      <td>Postgres Professional</td>\n",
       "      <td>0</td>\n",
       "      <td>0</td>\n",
       "      <td>0</td>\n",
       "      <td>0</td>\n",
       "      <td>0</td>\n",
       "      <td>0</td>\n",
       "      <td>0</td>\n",
       "      <td>0</td>\n",
       "      <td>1</td>\n",
       "      <td>0</td>\n",
       "      <td>0</td>\n",
       "      <td>0</td>\n",
       "      <td>0</td>\n",
       "      <td>0</td>\n",
       "      <td>0</td>\n",
       "    </tr>\n",
       "    <tr>\n",
       "      <th>15</th>\n",
       "      <td>Ozon Tech</td>\n",
       "      <td>0</td>\n",
       "      <td>0</td>\n",
       "      <td>0</td>\n",
       "      <td>0</td>\n",
       "      <td>2</td>\n",
       "      <td>0</td>\n",
       "      <td>0</td>\n",
       "      <td>0</td>\n",
       "      <td>0</td>\n",
       "      <td>0</td>\n",
       "      <td>0</td>\n",
       "      <td>0</td>\n",
       "      <td>0</td>\n",
       "      <td>0</td>\n",
       "      <td>0</td>\n",
       "    </tr>\n",
       "    <tr>\n",
       "      <th>16</th>\n",
       "      <td>TINKOFF</td>\n",
       "      <td>1</td>\n",
       "      <td>0</td>\n",
       "      <td>0</td>\n",
       "      <td>0</td>\n",
       "      <td>1</td>\n",
       "      <td>0</td>\n",
       "      <td>0</td>\n",
       "      <td>0</td>\n",
       "      <td>0</td>\n",
       "      <td>0</td>\n",
       "      <td>0</td>\n",
       "      <td>0</td>\n",
       "      <td>0</td>\n",
       "      <td>0</td>\n",
       "      <td>0</td>\n",
       "    </tr>\n",
       "    <tr>\n",
       "      <th>17</th>\n",
       "      <td>Хабр Карьера</td>\n",
       "      <td>0</td>\n",
       "      <td>0</td>\n",
       "      <td>0</td>\n",
       "      <td>0</td>\n",
       "      <td>1</td>\n",
       "      <td>0</td>\n",
       "      <td>0</td>\n",
       "      <td>0</td>\n",
       "      <td>0</td>\n",
       "      <td>0</td>\n",
       "      <td>0</td>\n",
       "      <td>0</td>\n",
       "      <td>1</td>\n",
       "      <td>0</td>\n",
       "      <td>0</td>\n",
       "    </tr>\n",
       "    <tr>\n",
       "      <th>18</th>\n",
       "      <td>JUG Ru Group</td>\n",
       "      <td>0</td>\n",
       "      <td>0</td>\n",
       "      <td>0</td>\n",
       "      <td>0</td>\n",
       "      <td>0</td>\n",
       "      <td>0</td>\n",
       "      <td>0</td>\n",
       "      <td>0</td>\n",
       "      <td>0</td>\n",
       "      <td>0</td>\n",
       "      <td>0</td>\n",
       "      <td>0</td>\n",
       "      <td>0</td>\n",
       "      <td>0</td>\n",
       "      <td>0</td>\n",
       "    </tr>\n",
       "    <tr>\n",
       "      <th>19</th>\n",
       "      <td>Southbridge</td>\n",
       "      <td>2</td>\n",
       "      <td>0</td>\n",
       "      <td>0</td>\n",
       "      <td>0</td>\n",
       "      <td>5</td>\n",
       "      <td>0</td>\n",
       "      <td>0</td>\n",
       "      <td>0</td>\n",
       "      <td>0</td>\n",
       "      <td>1</td>\n",
       "      <td>0</td>\n",
       "      <td>0</td>\n",
       "      <td>0</td>\n",
       "      <td>0</td>\n",
       "      <td>0</td>\n",
       "    </tr>\n",
       "  </tbody>\n",
       "</table>\n",
       "</div>"
      ],
      "text/plain": [
       "                                topic  cluster_0  cluster_1  cluster_2  \\\n",
       "0                           RUVDS.com          2          2          0   \n",
       "1                            Selectel          1          0          0   \n",
       "2                       Timeweb Cloud          2          0          0   \n",
       "3                                OTUS          4          0          1   \n",
       "4                              Яндекс          0          0          0   \n",
       "5                   Open Data Science          0          0          0   \n",
       "6                            ГК ЛАНИТ          0          0          0   \n",
       "7                                  VK          1          0          0   \n",
       "8                            getmatch          0          0          0   \n",
       "9                         Wiren Board          1          0          0   \n",
       "10                           FirstVDS          1          0          1   \n",
       "11  Конференции Олега Бунина (Онтико)          0          1          0   \n",
       "12                              AGIMA          0          0          0   \n",
       "13                         Альфа-Банк          0          1          0   \n",
       "14              Postgres Professional          0          0          0   \n",
       "15                          Ozon Tech          0          0          0   \n",
       "16                            TINKOFF          1          0          0   \n",
       "17                       Хабр Карьера          0          0          0   \n",
       "18                       JUG Ru Group          0          0          0   \n",
       "19                        Southbridge          2          0          0   \n",
       "\n",
       "    cluster_3  cluster_4  cluster_5  cluster_6  cluster_7  cluster_8  \\\n",
       "0           0         14          1          0          1          0   \n",
       "1           0          8          0          0          0          0   \n",
       "2           0          6          0          1          0          0   \n",
       "3           1         13          0          0          0          0   \n",
       "4           0          0          0          0          0          0   \n",
       "5           0          0          0          0          0          0   \n",
       "6           0          1          0          0          0          0   \n",
       "7           0          1          0          0          0          0   \n",
       "8           0          1          0          0          0          0   \n",
       "9           0          1          0          0          0          0   \n",
       "10          0          4          0          0          0          0   \n",
       "11          0          0          0          0          0          0   \n",
       "12          0          0          0          0          0          0   \n",
       "13          0          1          0          0          0          0   \n",
       "14          0          0          0          0          0          1   \n",
       "15          0          2          0          0          0          0   \n",
       "16          0          1          0          0          0          0   \n",
       "17          0          1          0          0          0          0   \n",
       "18          0          0          0          0          0          0   \n",
       "19          0          5          0          0          0          0   \n",
       "\n",
       "    cluster_9  cluster_10  cluster_11  cluster_12  cluster_13  cluster_14  \n",
       "0           0           1           0           0           0           0  \n",
       "1           0           0           0           0           0           0  \n",
       "2           0           0           0           0           0           0  \n",
       "3           0           0           0           0           0           0  \n",
       "4           0           0           0           0           0           0  \n",
       "5           0           0           0           0           0           0  \n",
       "6           0           0           0           0           0           0  \n",
       "7           0           0           0           0           0           0  \n",
       "8           0           0           0           0           0           0  \n",
       "9           0           0           0           0           0           0  \n",
       "10          0           0           0           0           0           1  \n",
       "11          0           0           0           0           1           0  \n",
       "12          0           0           0           0           0           0  \n",
       "13          0           0           1           0           0           0  \n",
       "14          0           0           0           0           0           0  \n",
       "15          0           0           0           0           0           0  \n",
       "16          0           0           0           0           0           0  \n",
       "17          0           0           0           1           0           0  \n",
       "18          0           0           0           0           0           0  \n",
       "19          1           0           0           0           0           0  "
      ]
     },
     "execution_count": 36,
     "metadata": {},
     "output_type": "execute_result"
    }
   ],
   "source": [
    "clust_res = pd.DataFrame(columns=['topic', 'cluster_0', 'cluster_1', 'cluster_2', 'cluster_3', 'cluster_4', 'cluster_5', 'cluster_6', 'cluster_7', 'cluster_8', 'cluster_9', 'cluster_10', 'cluster_11', 'cluster_12', 'cluster_13', 'cluster_14'])\n",
    "i = 0\n",
    "topics = topic\n",
    "for topic in topics:\n",
    "    cnt = []\n",
    "    for cluster in range(15):\n",
    "        cnt.append(len(dfHabr1[dfHabr1.TitleCompany.eq(topic) &  dfHabr1.clustersAgglomerative.eq(cluster) ]))\n",
    "    clust_res.loc[i] = [topic] + cnt\n",
    "    i += 1\n",
    "clust_res"
   ]
  },
  {
   "cell_type": "code",
   "execution_count": 37,
   "id": "2b9900e9",
   "metadata": {},
   "outputs": [
    {
     "data": {
      "image/png": "[encoded data removed]",
      "text/plain": [
       "<Figure size 640x480 with 1 Axes>"
      ]
     },
     "metadata": {},
     "output_type": "display_data"
    }
   ],
   "source": [
    "cluster_counts = dfHabr1['clustersSpectral'].value_counts()\n",
    "plt.pie(cluster_counts.values, labels=cluster_counts.index, autopct='%1.1f%%')\n",
    "plt.show()"
   ]
  },
  {
   "cell_type": "code",
   "execution_count": 38,
   "id": "f00a541c",
   "metadata": {},
   "outputs": [
    {
     "data": {
      "image/png": "[encoded data removed]",
      "text/plain": [
       "<Figure size 640x480 with 1 Axes>"
      ]
     },
     "metadata": {},
     "output_type": "display_data"
    }
   ],
   "source": [
    "cluster_counts = dfHabr1['clustersAgglomerative'].value_counts()\n",
    "plt.pie(cluster_counts.values, labels=cluster_counts.index, autopct='%1.1f%%')\n",
    "plt.show()"
   ]
  },
  {
   "cell_type": "code",
   "execution_count": 39,
   "id": "9eb3d4b8",
   "metadata": {},
   "outputs": [
    {
     "data": {
      "image/png": "[encoded data removed]",
      "text/plain": [
       "<Figure size 640x480 with 1 Axes>"
      ]
     },
     "metadata": {},
     "output_type": "display_data"
    }
   ],
   "source": [
    "cluster_counts = dfHabr1['clustersKmeans'].value_counts()\n",
    "plt.pie(cluster_counts.values, labels=cluster_counts.index, autopct='%1.1f%%')\n",
    "plt.show()"
   ]
  },
  {
   "cell_type": "code",
   "execution_count": 40,
   "id": "3d31e7a1",
   "metadata": {},
   "outputs": [],
   "source": [
    "prize = ['Государство и Общество','СМИ и массовые коммуникации','Образование и Кадры', 'Экономика и Бизнес', 'Путешествия по РФ', 'Наука, технологии и инновации', 'Здоровье и Отдых', 'Культурные проекты в сети', 'Народов много - Родина одна', 'Туризм и индустрия гостеприимства', 'Подкасты и цифровой контент']"
   ]
  },
  {
   "cell_type": "code",
   "execution_count": 41,
   "id": "7835c620",
   "metadata": {},
   "outputs": [],
   "source": [
    "a = (dfHabr1['clustersKmeans'] - dfHabr1['clustersKmeans'].mean()) / dfHabr1['clustersKmeans'].std()\n",
    "a1 = (dfHabr1['clustersAgglomerative'] - dfHabr1['clustersAgglomerative'].mean()) / dfHabr1['clustersAgglomerative'].std()\n",
    "a2 = (dfHabr1['clustersSpectral'] - dfHabr1['clustersSpectral'].mean()) / dfHabr1['clustersSpectral'].std()"
   ]
  },
  {
   "cell_type": "code",
   "execution_count": 42,
   "id": "26c7779a",
   "metadata": {},
   "outputs": [],
   "source": [
    "data_norm_kmeans = a.values.reshape(-1, 1)\n",
    "data_norm_agg = a1.values.reshape(-1, 1)\n",
    "data_norm_spec = a2.values.reshape(-1, 1)"
   ]
  },
  {
   "cell_type": "code",
   "execution_count": 43,
   "id": "1dc597c7",
   "metadata": {},
   "outputs": [
    {
     "name": "stdout",
     "output_type": "stream",
     "text": [
      "Silhouette  score: 0.8461538461538461\n"
     ]
    }
   ],
   "source": [
    "# оценка качества кластеризации с помощью индекса силуэта\n",
    "silhouette_avg = silhouette_score(data_norm_kmeans, km.labels_)\n",
    "print(\"Silhouette  score:\", silhouette_avg)"
   ]
  },
  {
   "cell_type": "code",
   "execution_count": 44,
   "id": "111f992a",
   "metadata": {},
   "outputs": [
    {
     "name": "stdout",
     "output_type": "stream",
     "text": [
      "Silhouette  score: 0.8791208791208791\n"
     ]
    }
   ],
   "source": [
    "# оценка качества кластеризации с помощью индекса силуэта\n",
    "silhouette_avg = silhouette_score(data_norm_agg, agg.labels_)\n",
    "print(\"Silhouette  score:\", silhouette_avg)"
   ]
  },
  {
   "cell_type": "code",
   "execution_count": 45,
   "id": "ef204066",
   "metadata": {},
   "outputs": [
    {
     "name": "stdout",
     "output_type": "stream",
     "text": [
      "Silhouette  score: 0.9120879120879121\n"
     ]
    }
   ],
   "source": [
    "# оценка качества кластеризации с помощью индекса силуэта\n",
    "silhouette_avg = silhouette_score(data_norm_spec, spectral.labels_)\n",
    "print(\"Silhouette  score:\", silhouette_avg)"
   ]
  },
  {
   "cell_type": "markdown",
   "id": "eb577dcb",
   "metadata": {},
   "source": [
    "### 2.2 Тематическое моделирование"
   ]
  },
  {
   "cell_type": "code",
   "execution_count": 46,
   "id": "0956bf77",
   "metadata": {},
   "outputs": [
    {
     "name": "stdout",
     "output_type": "stream",
     "text": [
      "Topic 0: пакет, функция, субд, команда, мочь, переменный, схема, новый, информация, весь\n",
      "Topic 1: система, операционный, мочь, операционный система, сша, программа, данные, компьютер, устройство, каждый\n",
      "Topic 2: файл, частота, пакет, устройство, сообщение, проект, точка, работа, работать, шрифт\n",
      "Topic 3: мочь, команда, ошибка, сигнал, статья, год, растение, сумма, балл, схема\n",
      "Topic 4: сеть, доступность, мочь, доступность сеть, мониторинг, модель, время, изображение, данные, работа\n",
      "Topic 5: год, весь, игра, мочь, компания, вакансия, сертификат, работа, первый, приложение\n",
      "Topic 6: имя, код, пространство, кластер, пространство имя, использовать, мочь, инфраструктура, функция, переменный\n",
      "Topic 7: файл, устройство, интерфейс, использовать, мочь, конфигурационный, конфигурационный файл, настройка, сетевой, работа\n",
      "Topic 8: тест, дыра, плата, чрной, чрной дыра, мочь, кейс, тест кейс, весь, время\n",
      "Topic 9: метрика, данные, игра, клиент, мочь, сервер, приложение, время, количество, файл\n",
      "Topic 10: игра, мочь, запрос, значение, играть, весь, проект, делать, персонаж, каждый\n",
      "Topic 11: мочь, работа, весь, функция, парсер, использовать, работать, окрестность, самый, анимация\n",
      "Topic 12: мочь, система, сеть, качество, коммутатор, лидар, использовать, весь, выделять, позволять\n",
      "Topic 13: мочь, данные, система, код, весь, год, приложение, использовать, проект, грейс\n",
      "Topic 14: реактивный, стрим, оператор, поток, мочь, весь, элемент, данные, класс, приложение\n"
     ]
    }
   ],
   "source": [
    "# создание модели LDA\n",
    "lda_model = LatentDirichletAllocation(n_components=15, random_state=0)\n",
    "lda_model.fit(count_matrix)\n",
    "\n",
    "# вывод топ слов для каждой темы\n",
    "for i, topic in enumerate(lda_model.components_):\n",
    "    print(f\"Topic {i}: {', '.join([vectorizer.get_feature_names_out()[i] for i in topic.argsort()[:-11:-1]])}\")"
   ]
  },
  {
   "cell_type": "code",
   "execution_count": 47,
   "id": "dcece173",
   "metadata": {},
   "outputs": [
    {
     "data": {
      "text/plain": [
       "15"
      ]
     },
     "execution_count": 47,
     "metadata": {},
     "output_type": "execute_result"
    }
   ],
   "source": [
    "len(lda_model.components_)"
   ]
  },
  {
   "cell_type": "code",
   "execution_count": 48,
   "id": "b532e084",
   "metadata": {},
   "outputs": [
    {
     "data": {
      "text/plain": [
       "array([[0.06666667, 0.06666667, 0.06666667, ..., 0.06666667, 1.06666667,\n",
       "        1.06666667],\n",
       "       [0.06666667, 0.06666667, 0.06666667, ..., 0.06666667, 0.06666667,\n",
       "        0.06666667],\n",
       "       [0.06666667, 0.06666667, 0.06666667, ..., 0.06666667, 0.06666667,\n",
       "        0.06666667],\n",
       "       ...,\n",
       "       [0.06666667, 0.06666667, 0.06666667, ..., 0.06666667, 0.06666667,\n",
       "        0.06666667],\n",
       "       [0.06666667, 0.06666667, 0.06666667, ..., 0.06666667, 0.06666667,\n",
       "        0.06666667],\n",
       "       [0.06666667, 0.06666667, 0.06666667, ..., 0.06666667, 0.06666667,\n",
       "        0.06666667]])"
      ]
     },
     "execution_count": 48,
     "metadata": {},
     "output_type": "execute_result"
    }
   ],
   "source": [
    "lda_model.components_"
   ]
  },
  {
   "cell_type": "code",
   "execution_count": 49,
   "id": "d5427809",
   "metadata": {},
   "outputs": [],
   "source": [
    "# создание матрицы документ-термин\n",
    "tfidf_vectorizer = TfidfVectorizer(stop_words=russian_stopwords)\n",
    "tfidf_matrix = tfidf_vectorizer.fit_transform(dfHabr2)"
   ]
  },
  {
   "cell_type": "code",
   "execution_count": 50,
   "id": "b4f48450",
   "metadata": {},
   "outputs": [
    {
     "data": {
      "text/plain": [
       "scipy.sparse._csr.csr_matrix"
      ]
     },
     "execution_count": 50,
     "metadata": {},
     "output_type": "execute_result"
    }
   ],
   "source": [
    "type(tfidf_matrix)"
   ]
  },
  {
   "cell_type": "code",
   "execution_count": 51,
   "id": "d70ac9ca",
   "metadata": {},
   "outputs": [
    {
     "data": {
      "text/plain": [
       "(91, 10421)"
      ]
     },
     "execution_count": 51,
     "metadata": {},
     "output_type": "execute_result"
    }
   ],
   "source": [
    "tfidf_matrix.shape"
   ]
  },
  {
   "cell_type": "code",
   "execution_count": 52,
   "id": "c09bede9",
   "metadata": {},
   "outputs": [
    {
     "name": "stdout",
     "output_type": "stream",
     "text": [
      "Topic 0: значение, функция, запрос, инстанс, код, состояние, мочь, парсер, счетчик, использовать\n",
      "Topic 1: игра, игровой, игрок, персонаж, играть, студия, индустрия, мир, механика, геймификация\n",
      "Topic 2: порт, озу, плата, процессор, слот, система, разъем, чип, ядро, оснащать\n",
      "Topic 3: метрика, мониторинг, система, сбор, приложение, запрос, данные, собирать, логирование, квантиль\n",
      "Topic 4: класс, код, поле, аннотация, файл, объект, десериализация, структура, константа, память\n",
      "Topic 5: файл, кластер, сообщение, настройка, конфигурационный, сертификат, команда, ошибка, приложение, журнал\n",
      "Topic 6: плата, сигнал, устройство, схема, питание, педаль, кабель, триггер, ток, преобразователь\n",
      "Topic 7: тест, кейс, запрос, тесто, регрессионный, тестирование, спринт, тестировщик, тело, сервер\n",
      "Topic 8: год, видео, человек, грейс, весь, индустрия, технология, становиться, проект, хоппер\n",
      "Topic 9: анимация, элемент, реактивный, событие, стрим, метод, анимировать, компонент, оператор, изображение\n",
      "Topic 10: вакансия, кандидат, компания, март, бренд, сотрудник, рекрутер, карьера, найм, хабр\n",
      "Topic 11: диск, файловый, устройство, кеш, система, профиль, хранение, дисковый, кэширование, данные\n",
      "Topic 12: пакет, шрифт, субд, переменный, папка, функция, файл, проект, сборка, инициализация\n",
      "Topic 13: коммутатор, сеть, сервер, инсталляция, клиент, доступность, сетевой, адрес, выделять, подавление\n",
      "Topic 14: модель, обучение, алгоритм, микроструктура, письмо, лидар, интеллект, мочь, бренд, изображение\n"
     ]
    }
   ],
   "source": [
    "# создание модели NMF\n",
    "nmf_model = NMF(n_components=15, random_state=0)\n",
    "nmf_model.fit(tfidf_matrix)\n",
    "\n",
    "# вывод топ слов для каждой темы\n",
    "for i, topic in enumerate(nmf_model.components_):\n",
    "    print(f\"Topic {i}: {', '.join([tfidf_vectorizer.get_feature_names_out()[i] for i in topic.argsort()[:-11:-1]])}\")"
   ]
  },
  {
   "cell_type": "code",
   "execution_count": 53,
   "id": "9343d7f3",
   "metadata": {},
   "outputs": [
    {
     "data": {
      "text/plain": [
       "15"
      ]
     },
     "execution_count": 53,
     "metadata": {},
     "output_type": "execute_result"
    }
   ],
   "source": [
    "len(nmf_model.components_)"
   ]
  },
  {
   "cell_type": "code",
   "execution_count": 54,
   "id": "7e1d52b9",
   "metadata": {},
   "outputs": [
    {
     "data": {
      "text/plain": [
       "array([[0.        , 0.00331242, 0.        , ..., 0.02849525, 0.0029467 ,\n",
       "        0.        ],\n",
       "       [0.01318924, 0.0001729 , 0.        , ..., 0.        , 0.01162124,\n",
       "        0.02756057],\n",
       "       [0.        , 0.        , 0.        , ..., 0.        , 0.        ,\n",
       "        0.        ],\n",
       "       ...,\n",
       "       [0.        , 0.        , 0.        , ..., 0.        , 0.        ,\n",
       "        0.        ],\n",
       "       [0.        , 0.00060836, 0.        , ..., 0.        , 0.        ,\n",
       "        0.        ],\n",
       "       [0.        , 0.00170797, 0.        , ..., 0.        , 0.        ,\n",
       "        0.00072202]])"
      ]
     },
     "execution_count": 54,
     "metadata": {},
     "output_type": "execute_result"
    }
   ],
   "source": [
    "nmf_model.components_"
   ]
  },
  {
   "cell_type": "code",
   "execution_count": 55,
   "id": "4e2470ce",
   "metadata": {},
   "outputs": [
    {
     "name": "stdout",
     "output_type": "stream",
     "text": [
      "Topic 0: мочь, файл, система, данные, приложение, метрика, код, игра, устройство, использовать\n",
      "Topic 1: игра, год, игровой, индустрия, игрок, человек, играть, персонаж, студия, мир\n",
      "Topic 2: плата, порт, озу, система, слот, устройство, процессор, разъем, чип, ядро\n",
      "Topic 3: метрика, мониторинг, сбор, система, запрос, приложение, данные, доступность, логирование, квантиль\n",
      "Topic 4: игра, файл, озу, метрика, порт, класс, система, плата, слот, процессор\n",
      "Topic 5: сервер, файл, сеть, устройство, клиент, коммутатор, игра, кластер, конфигурационный, сетевой\n",
      "Topic 6: коммутатор, пакет, сигнал, схема, запрос, сервер, устройство, сеть, инсталляция, тест\n",
      "Topic 7: тест, запрос, сервер, кейс, процессор, приложение, озу, тесто, порт, регрессионный\n",
      "Topic 8: тест, файл, пакет, метрика, шрифт, проект, вакансия, команда, кейс, приложение\n",
      "Topic 9: диск, устройство, анимация, файловый, кеш, приложение, операционный, система, кэширование, реактивный\n",
      "Topic 10: вакансия, кандидат, значение, плата, анимация, март, сигнал, элемент, кластер, компания\n",
      "Topic 11: тест, диск, вакансия, файловый, устройство, кеш, профиль, кейс, кандидат, хранение\n",
      "Topic 12: пакет, функция, субд, звук, шрифт, кластер, безопасность, команда, порт, имя\n",
      "Topic 13: инстанс, сервер, команда, диск, инфраструктура, код, проект, значение, балл, ресурс\n",
      "Topic 14: пакет, сервер, клиент, бренд, приложение, вакансия, станция, модель, млн, диск\n"
     ]
    }
   ],
   "source": [
    "# создание модели LSA\n",
    "lsa_model = TruncatedSVD(n_components=15, random_state=0)\n",
    "lsa_model.fit(tfidf_matrix)\n",
    "# вывод топ слов для каждой темы\n",
    "for i, topic in enumerate(lsa_model.components_):\n",
    "    print(f\"Topic {i}: {', '.join([tfidf_vectorizer.get_feature_names_out()[i] for i in topic.argsort()[:-11:-1]])}\")"
   ]
  },
  {
   "cell_type": "code",
   "execution_count": 56,
   "id": "8ccdf63f",
   "metadata": {},
   "outputs": [
    {
     "data": {
      "text/plain": [
       "15"
      ]
     },
     "execution_count": 56,
     "metadata": {},
     "output_type": "execute_result"
    }
   ],
   "source": [
    "len(lsa_model.components_)"
   ]
  },
  {
   "cell_type": "code",
   "execution_count": 57,
   "id": "73dcf48d",
   "metadata": {
    "scrolled": true
   },
   "outputs": [
    {
     "data": {
      "text/plain": [
       "array([[ 2.06477017e-03,  3.99719079e-03,  6.78133197e-04, ...,\n",
       "         2.10043035e-03,  2.69073428e-03,  3.82109314e-03],\n",
       "       [ 8.80286594e-03, -2.33461074e-03,  9.57661892e-04, ...,\n",
       "        -2.40489331e-03,  6.91732884e-03,  1.64099153e-02],\n",
       "       [-3.58680425e-03, -5.91570885e-05,  6.98839123e-05, ...,\n",
       "        -2.56943721e-03, -2.81409031e-03, -6.89634384e-03],\n",
       "       ...,\n",
       "       [-1.08410276e-03, -1.36511958e-03,  4.22625126e-05, ...,\n",
       "         4.18249368e-03,  1.43010160e-03,  2.97141700e-03],\n",
       "       [ 1.65636398e-04, -4.07693548e-03, -4.44817825e-04, ...,\n",
       "         8.13387113e-03, -1.95043254e-03, -6.09117369e-03],\n",
       "       [ 4.32637032e-04, -2.09572516e-04, -7.61018879e-04, ...,\n",
       "        -6.01320673e-03, -6.51770135e-04, -6.13240847e-04]])"
      ]
     },
     "execution_count": 57,
     "metadata": {},
     "output_type": "execute_result"
    }
   ],
   "source": [
    "lsa_model.components_"
   ]
  },
  {
   "cell_type": "code",
   "execution_count": 58,
   "id": "2695b9f4",
   "metadata": {},
   "outputs": [
    {
     "name": "stdout",
     "output_type": "stream",
     "text": [
      "Topic 0: мочь, файл, система, данные, приложение, метрика, код, игра, устройство, использовать\n",
      "Topic 1: игра, год, игровой, индустрия, игрок, человек, играть, персонаж, студия, мир\n",
      "Topic 2: плата, порт, озу, система, слот, устройство, процессор, разъем, чип, ядро\n",
      "Topic 3: метрика, мониторинг, сбор, система, запрос, приложение, данные, доступность, логирование, квантиль\n",
      "Topic 4: игра, файл, озу, метрика, порт, класс, система, плата, слот, процессор\n",
      "Topic 5: сервер, файл, сеть, устройство, клиент, коммутатор, игра, кластер, конфигурационный, сетевой\n",
      "Topic 6: коммутатор, пакет, сигнал, схема, запрос, сервер, устройство, сеть, инсталляция, тест\n",
      "Topic 7: тест, запрос, сервер, кейс, процессор, приложение, озу, тесто, порт, регрессионный\n",
      "Topic 8: тест, файл, пакет, метрика, шрифт, проект, вакансия, команда, кейс, приложение\n",
      "Topic 9: диск, устройство, анимация, файловый, кеш, приложение, операционный, система, кэширование, реактивный\n",
      "Topic 10: вакансия, кандидат, значение, плата, анимация, март, сигнал, элемент, кластер, компания\n",
      "Topic 11: тест, диск, вакансия, файловый, устройство, кеш, профиль, кейс, кандидат, хранение\n",
      "Topic 12: пакет, функция, субд, звук, шрифт, кластер, безопасность, команда, порт, имя\n",
      "Topic 13: инстанс, сервер, команда, диск, инфраструктура, код, проект, значение, балл, ресурс\n",
      "Topic 14: пакет, сервер, клиент, бренд, приложение, вакансия, станция, модель, млн, диск\n"
     ]
    }
   ],
   "source": [
    "# создание модели LSA\n",
    "lsa_model = TruncatedSVD(n_components=15, random_state=0)\n",
    "lsa_model.fit(tfidf_matrix)\n",
    "# вывод топ слов для каждой темы\n",
    "for i, topic in enumerate(lsa_model.components_):\n",
    "    print(f\"Topic {i}: {', '.join([tfidf_vectorizer.get_feature_names_out()[i] for i in topic.argsort()[:-11:-1]])}\")"
   ]
  },
  {
   "cell_type": "code",
   "execution_count": 59,
   "id": "dd1b22e7",
   "metadata": {},
   "outputs": [],
   "source": [
    "pyLDAvis.enable_notebook()"
   ]
  },
  {
   "cell_type": "code",
   "execution_count": 60,
   "id": "b65bc7cd",
   "metadata": {},
   "outputs": [
    {
     "name": "stderr",
     "output_type": "stream",
     "text": [
      "C:\\Users\\essww\\anaconda3\\lib\\site-packages\\pyLDAvis\\_prepare.py:243: FutureWarning: In a future version of pandas all arguments of DataFrame.drop except for the argument 'labels' will be keyword-only.\n",
      "  default_term_info = default_term_info.sort_values(\n"
     ]
    },
    {
     "data": {
      "text/html": [
       "\n",
       "<link rel=\"stylesheet\" type=\"text/css\" href=\"https://cdn.jsdelivr.net/gh/bmabey/pyLDAvis@3.4.0/pyLDAvis/js/ldavis.v1.0.0.css\">\n",
       "\n",
       "\n",
       "<div id=\"ldavis_el1552026469855786406672147938\" style=\"background-color:white;\"></div>\n",
       "<script type=\"text/javascript\">\n",
       "\n",
       "var ldavis_el1552026469855786406672147938_data = {\"mdsDat\": {\"x\": [15.414850234985352, 91.35387420654297, 7.813094139099121, 83.8511962890625, 41.851444244384766, 37.16641616821289, 29.215206146240234, 63.13090515136719, 33.58839416503906, 53.682289123535156, 69.92916870117188, 15.087905883789062, 50.517189025878906, 63.512046813964844, 69.71472930908203], \"y\": [-28.44914436340332, -5.43059778213501, 1.1230404376983643, 24.87588119506836, -29.55568504333496, 38.94184494018555, -9.301351547241211, 41.67034912109375, 12.225706100463867, 19.85708999633789, 5.799595832824707, 26.472862243652344, -5.407717227935791, -40.14812469482422, -18.00861167907715], \"topics\": [1, 2, 3, 4, 5, 6, 7, 8, 9, 10, 11, 12, 13, 14, 15], \"cluster\": [1, 1, 1, 1, 1, 1, 1, 1, 1, 1, 1, 1, 1, 1, 1], \"Freq\": [14.804955842728315, 11.558459873611035, 8.276061949409689, 8.263899406186964, 8.110051788654106, 8.06199461749865, 7.597001986226578, 7.10828887517759, 5.833132632036772, 4.512093115232953, 3.5912290646050193, 3.5532863984710255, 3.3006322379561275, 2.950857732205403, 2.4780544799997584]}, \"tinfo\": {\"Term\": [\"\\u043f\\u0430\\u043a\\u0435\\u0442\", \"\\u0444\\u0430\\u0439\\u043b\", \"\\u0441\\u0435\\u0442\\u044c\", \"\\u0438\\u0433\\u0440\\u0430\", \"\\u0444\\u0443\\u043d\\u043a\\u0446\\u0438\\u044f\", \"\\u0440\\u0435\\u0430\\u043a\\u0442\\u0438\\u0432\\u043d\\u044b\\u0439\", \"\\u043c\\u0435\\u0442\\u0440\\u0438\\u043a\\u0430\", \"\\u0441\\u0442\\u0440\\u0438\\u043c\", \"\\u0442\\u0435\\u0441\\u0442\", \"\\u0434\\u043e\\u0441\\u0442\\u0443\\u043f\\u043d\\u043e\\u0441\\u0442\\u044c\", \"\\u0434\\u044b\\u0440\\u0430\", \"\\u043c\\u043e\\u043d\\u0438\\u0442\\u043e\\u0440\\u0438\\u043d\\u0433\", \"\\u043e\\u043f\\u0435\\u0440\\u0430\\u0442\\u043e\\u0440\", \"\\u0438\\u043c\\u044f\", \"\\u0443\\u0441\\u0442\\u0440\\u043e\\u0439\\u0441\\u0442\\u0432\\u043e\", \"\\u043a\\u043e\\u043d\\u0444\\u0438\\u0433\\u0443\\u0440\\u0430\\u0446\\u0438\\u043e\\u043d\\u043d\\u044b\\u0439\", \"\\u043f\\u043e\\u0442\\u043e\\u043a\", \"\\u043a\\u043e\\u043d\\u0444\\u0438\\u0433\\u0443\\u0440\\u0430\\u0446\\u0438\\u043e\\u043d\\u043d\\u044b\\u0439 \\u0444\\u0430\\u0439\\u043b\", \"\\u043a\\u043e\\u043c\\u0430\\u043d\\u0434\\u0430\", \"\\u043f\\u043b\\u0430\\u0442\\u0430\", \"\\u0441\\u0445\\u0435\\u043c\\u0430\", \"\\u043a\\u043e\\u0434\", \"\\u0430\\u043d\\u0438\\u043c\\u0430\\u0446\\u0438\\u044f\", \"\\u0441\\u0435\\u0442\\u0435\\u0432\\u043e\\u0439\", \"\\u043f\\u0430\\u0440\\u0441\\u0435\\u0440\", \"\\u043f\\u0440\\u043e\\u0441\\u0442\\u0440\\u0430\\u043d\\u0441\\u0442\\u0432\\u043e\", \"\\u0438\\u043d\\u0442\\u0435\\u0440\\u0444\\u0435\\u0439\\u0441\", \"\\u043a\\u043b\\u0438\\u0435\\u043d\\u0442\", \"\\u043a\\u043e\\u043c\\u043c\\u0443\\u0442\\u0430\\u0442\\u043e\\u0440\", \"\\u0434\\u0430\\u043d\\u043d\\u044b\\u0435\", \"\\u0433\\u0440\\u0435\\u0439\\u0441\", \"\\u0445\\u043e\\u043f\\u043f\\u0435\\u0440\", \"\\u0433\\u0440\\u0435\\u0439\\u0441 \\u0445\\u043e\\u043f\\u043f\\u0435\\u0440\", \"\\u0441\\u043a\\u0440\\u0430\", \"\\u0441\\u043a\\u0440\\u0430 \\u043c\\u0430\\u0441\\u0442\\u0435\\u0440\", \"\\u0430\\u043a\\u0446\\u0438\\u044f\", \"\\u0441\\u043a\\u043e\\u043b\\u044c\\u0437\\u044f\\u0449\\u0438\\u0439 \\u0441\\u0440\\u0435\\u0434\\u043d\\u0438\\u0439\", \"\\u0432\\u043e\\u0435\\u043d\\u043d\\u044b\\u0439\", \"\\u043a\\u043e\\u043d\\u0442\\u0440\\u043e\\u043b\\u044c\\u043d\\u044b\\u0439 \\u0441\\u0443\\u043c\\u043c\\u0430\", \"\\u0445\\u0443\\u043c\\u0430\\u043d\\u0438\\u0437\\u0430\\u0446\\u0438\\u044f\", \"\\u0446\\u0435\\u043d\\u0430 \\u0437\\u0430\\u043a\\u0440\\u044b\\u0442\\u0438\\u0435\", \"\\u0441\\u043a\\u043e\\u043b\\u044c\\u0437\\u0438\\u0442\\u044c \\u0441\\u0440\\u0435\\u0434\\u043d\\u0438\\u0439\", \"\\u043d\\u0430\\u0437\\u0432\\u0430\\u043d\\u0438\\u0435 \\u0441\\u0442\\u0430\\u043d\\u0446\\u0438\\u044f\", \"\\u0441\\u043a\\u043e\\u043b\\u044c\\u0437\\u0438\\u0442\\u044c\", \"\\u0433\\u0435\\u0440\\u043a\\u043e\\u043d\", \"\\u043f\\u0437\\u0443\", \"\\u0442\\u0438\\u043c\\u043b\\u0438\\u0434\\u044b\", \"\\u0431\\u0435\\u0441\\u0441\\u0435\\u0440\\u0432\\u0435\\u0440\\u043d\\u044b\\u0439\", \"\\u043f\\u0440\\u043e\\u0433\\u043d\\u043e\\u0437\\u0438\\u0440\\u043e\\u0432\\u0430\\u043d\\u0438\\u0435\", \"\\u0430\\u0434\\u043c\\u0438\\u0440\\u0430\\u043b\", \"\\u043a\\u043e\\u0431\\u043e\\u043b\", \"\\u043a\\u043e\\u043d\\u0442\\u0435\\u043a\\u0441\\u0442 \\u0442\\u0440\\u0435\\u0439\\u0441\", \"\\u0438\\u0441\\u043f\\u043e\\u043b\\u044c\\u0437\\u043e\\u0432\\u0430\\u043d\\u0438\\u0435 \\u0440\\u0435\\u0441\\u0443\\u0440\\u0441\", \"\\u0437\\u043e\\u043d\\u0430 \\u0434\\u043e\\u0441\\u0442\\u0443\\u043f\\u043d\\u043e\\u0441\\u0442\\u044c\", \"\\u0438\\u043d\\u0441\\u0442\\u0430\\u043d\\u0441 \\u0431\\u0430\\u0437\\u0430\", \"\\u0438\\u043d\\u0441\\u0442\\u0430\\u043d\\u0441 \\u0431\\u0430\\u0437\\u0430 \\u0434\\u0430\\u043d\\u043d\\u044b\\u0435\", \"\\u0438\\u0441\\u0445\\u043e\\u0434\\u043d\\u044b\\u0439 \\u0442\\u0435\\u043a\\u0441\\u0442\", \"\\u0438\\u0437\\u043c\\u0435\\u043d\\u0435\\u043d\\u0438\\u0435 \\u0446\\u0435\\u043d\\u0430\", \"\\u0440\\u0430\\u0431\\u043e\\u0442\\u0430 \\u0432\\u0440\\u0435\\u043c\\u0435\\u043d\\u043d\\u044b\\u0439\", \"\\u0446\\u0435\\u043d\\u0430 \\u0430\\u043a\\u0446\\u0438\\u044f\", \"\\u0440\\u0435\\u043f\\u043b\\u0438\\u043a\\u0430\", \"\\u0441\\u0442\\u0430\\u043d\\u0446\\u0438\\u044f\", \"\\u0441\\u043a\\u043e\\u043b\\u044c\\u0437\\u044f\\u0449\\u0438\\u0439\", \"\\u0441\\u0438\\u0441\\u0442\\u0435\\u043c\\u0430 \\u043f\\u0440\\u0438\\u043b\\u043e\\u0436\\u0435\\u043d\\u0438\\u0435\", \"\\u0432\\u0440\\u0435\\u043c\\u0435\\u043d\\u043d\\u044b\\u0439 \\u0440\\u044f\\u0434\", \"\\u043c\\u0430\\u0441\\u0442\\u0435\\u0440\", \"\\u0443\\u0441\\u0442\\u0440\\u043e\\u0439\\u0441\\u0442\\u0432\\u043e \\u0445\\u0440\\u0430\\u043d\\u0435\\u043d\\u0438\\u0435\", \"\\u0438\\u0433\\u0440\\u0443\\u0448\\u043a\\u0430\", \"\\u044f\\u043f\\u043e\\u043d\\u0441\\u043a\\u0438\\u0439\", \"\\u0442\\u0440\\u0435\\u0439\\u0441\", \"\\u043e\\u043f\\u043e\\u0432\\u0435\\u0449\\u0435\\u043d\\u0438\\u0435\", \"\\u0444\\u0430\\u0439\\u043b\\u043e\\u0432\\u044b\\u0439\", \"\\u0432\\u0440\\u0435\\u043c\\u0435\\u043d\\u043d\\u044b\\u0439\", \"\\u043e\\u043a\\u043d\\u043e\", \"\\u0444\\u0430\\u0439\\u043b\\u043e\\u0432\\u044b\\u0439 \\u0441\\u0438\\u0441\\u0442\\u0435\\u043c\\u0430\", \"\\u0440\\u044f\\u0434\", \"\\u044f\\u0437\\u044b\\u043a\", \"\\u0434\\u0438\\u0441\\u043a\", \"\\u043a\\u043e\\u0434\", \"\\u0441\\u0438\\u0441\\u0442\\u0435\\u043c\\u0430\", \"\\u0434\\u0430\\u043d\\u043d\\u044b\\u0435\", \"\\u0441\\u0440\\u0435\\u0434\\u043d\\u0438\\u0439\", \"\\u0431\\u0430\\u0437\\u0430 \\u0434\\u0430\\u043d\\u043d\\u044b\\u0435\", \"\\u043c\\u0435\\u0442\\u043e\\u0434\", \"\\u043f\\u0440\\u0438\\u043b\\u043e\\u0436\\u0435\\u043d\\u0438\\u0435\", \"\\u043c\\u043e\\u0447\\u044c\", \"\\u0433\\u043e\\u0434\", \"\\u043f\\u0440\\u043e\\u0435\\u043a\\u0442\", \"\\u0430\\u043d\\u0430\\u043b\\u0438\\u0437\", \"\\u0438\\u0441\\u043f\\u043e\\u043b\\u044c\\u0437\\u043e\\u0432\\u0430\\u0442\\u044c\", \"\\u0432\\u0435\\u0441\\u044c\", \"\\u0447\\u0435\\u043b\\u043e\\u0432\\u0435\\u043a\", \"\\u043a\\u043e\\u043c\\u0430\\u043d\\u0434\\u0430\", \"\\u043d\\u0430\\u0437\\u0432\\u0430\\u043d\\u0438\\u0435\", \"\\u043f\\u0440\\u043e\\u0433\\u0440\\u0430\\u043c\\u043c\\u0430\", \"\\u0434\\u0430\\u043d\\u043d\\u044b\\u0439\", \"\\u0440\\u0430\\u0431\\u043e\\u0442\\u0430\\u0442\\u044c\", \"\\u0438\\u0441\\u043f\\u043e\\u043b\\u044c\\u0437\\u043e\\u0432\\u0430\\u043d\\u0438\\u0435\", \"\\u0441\\u0442\\u0430\\u043d\\u043e\\u0432\\u0438\\u0442\\u044c\\u0441\\u044f\", \"\\u0444\\u0430\\u0439\\u043b\", \"\\u0440\\u0430\\u0431\\u043e\\u0442\\u0430\", \"\\u0432\\u0438\\u0434\", \"\\u043f\\u0435\\u0440\\u0432\\u044b\\u0439\", \"\\u043d\\u0430\\u043f\\u0440\\u0438\\u043c\\u0435\\u0440\", \"\\u0441\\u0430\\u043c\\u044b\\u0439\", \"\\u0432\\u0440\\u0435\\u043c\\u044f\", \"\\u043c\\u0435\\u0442\\u0440\\u0438\\u043a\\u0430\", \"\\u043f\\u0430\\u0440\\u0441\\u0435\\u0440\", \"\\u0431\\u0430\\u043d\\u044f\", \"\\u043e\\u043a\\u0440\\u0435\\u0441\\u0442\\u043d\\u043e\\u0441\\u0442\\u044c\", \"\\u0444\\u0430\\u0439\\u043b \\u043a\\u043b\\u0430\\u0441\\u0441\", \"\\u0430\\u043d\\u0438\\u043c\\u0430\\u0442\\u043e\\u0440\", \"\\u043b\\u044f\\u043c\\u0431\\u0434\\u0430\", \"\\u0440\\u0430\\u0439\\u0437\\u0435\\u0440\", \"\\u0432\\u0437\\u0432\\u0435\\u0448\\u0438\\u0432\\u0430\\u0442\\u044c \\u043e\\u043a\\u0440\\u0435\\u0441\\u0442\\u043d\\u043e\\u0441\\u0442\\u044c\", \"\\u0449\\u0438\\u0442\", \"\\u043a\\u043b\\u0435\\u0442\\u043a\\u0430\", \"\\u0431\\u0430\\u043d\\u0449\\u0438\\u043a\", \"\\u043f\\u0443\\u043b \\u043a\\u043e\\u043d\\u0441\\u0442\\u0430\\u043d\\u0442\\u0430\", \"\\u0430\\u0432\\u0442\\u043e\\u043c\\u0430\\u0442\", \"\\u043d\\u043e\\u0432\\u044b\\u0439 \\u043f\\u0430\\u0440\\u0441\\u0435\\u0440\", \"\\u043f\\u0440\\u0435\\u0434\\u0438\\u043a\\u0430\\u0442\", \"\\u0432\\u043a\\u0430\\u0442\\u0438\\u0442\\u044c\\u0441\\u044f\", \"\\u0443\\u043c\\u043d\\u044b\\u0439 \\u0431\\u0430\\u043d\\u044f\", \"\\u0431\\u0438\\u0444\\u0443\\u0440\\u043a\\u0430\\u0446\\u0438\\u044f\", \"\\u043a\\u043b\\u0435\\u0442\\u043e\\u0447\\u043d\\u044b\\u0439\", \"\\u043a\\u043b\\u0435\\u0442\\u043e\\u0447\\u043d\\u044b\\u0439 \\u0430\\u0432\\u0442\\u043e\\u043c\\u0430\\u0442\", \"\\u043c\\u0430\\u0439\\u043d\\u0438\\u043d\\u0433\", \"\\u043c\\u043e\\u0447\\u044c \\u043f\\u0440\\u0435\\u0434\\u0441\\u0442\\u0430\\u0432\\u043b\\u044f\\u0442\\u044c\", \"\\u0441\\u0442\\u0435\\u043a \\u043e\\u043f\\u0435\\u0440\\u0430\\u043d\\u0434\", \"\\u0432\\u0445\\u043e\\u0434\\u043d\\u043e\\u0439 \\u0434\\u0430\\u043d\\u043d\\u044b\\u0435\", \"\\u0432\\u044b\\u0442\\u044f\\u0436\\u043a\\u0430\", \"\\u0434\\u0435\\u0441\\u044f\\u0442\\u0438\\u0447\\u043d\\u044b\\u0439\", \"\\u0434\\u043e\\u043c\\u0430\\u0448\\u043d\\u0438\\u0439 \\u0437\\u0430\\u0434\\u0430\\u043d\\u0438\\u0435\", \"\\u043a\\u043e\\u043b\\u0438\\u0447\\u0435\\u0441\\u0442\\u0432\\u043e \\u0441\\u043e\\u0441\\u0435\\u0434\", \"\\u043c\\u0443\\u0440\\u0430\", \"\\u043e\\u0431\\u043e\\u0437\\u043d\\u0430\\u0447\\u0435\\u043d\\u0438\\u0435\", \"\\u0437\\u0430\\u043a\\u0430\\u0437\\u0447\\u0438\\u043a\", \"\\u0440\\u043e\\u043b\\u0438\\u043a\", \"\\u043f\\u0430\\u0440\\u0441\\u0438\\u043d\\u0433\", \"\\u0441\\u043b\\u043e\\u0442\", \"\\u043d\\u043e\\u0442\\u0430\\u0446\\u0438\\u044f\", \"\\u0432\\u0445\\u043e\\u0434\\u043d\\u043e\\u0439\", \"\\u0441\\u043e\\u0441\\u0435\\u0434\", \"\\u0430\\u043d\\u0438\\u043c\\u0430\\u0446\\u0438\\u044f\", \"\\u0432\\u0435\\u0441\", \"\\u0432\\u0437\\u0432\\u0435\\u0448\\u0438\\u0432\\u0430\\u0442\\u044c\", \"\\u0440\\u0430\\u0434\\u0438\\u0443\\u0441\", \"\\u043f\\u0438\\u0441\\u044c\\u043c\\u043e\", \"\\u043f\\u0440\\u0430\\u0432\\u043a\\u0430\", \"\\u043a\\u043e\\u043d\\u0441\\u0442\\u0430\\u043d\\u0442\\u0430\", \"\\u043f\\u0440\\u0430\\u0432\\u0438\\u043b\\u043e\", \"\\u043a\\u0435\\u0448\", \"\\u0440\\u0430\\u0431\\u043e\\u0442\\u0430\", \"\\u0444\\u0443\\u043d\\u043a\\u0446\\u0438\\u044f\", \"\\u043c\\u043e\\u0447\\u044c\", \"\\u0437\\u0430\\u0434\\u0430\\u0447\\u0430\", \"\\u043d\\u0443\\u0436\\u043d\\u043e\", \"\\u0432\\u0435\\u0441\\u044c\", \"\\u0437\\u043d\\u0430\\u0447\\u0435\\u043d\\u0438\\u0435\", \"\\u0441\\u0434\\u0435\\u043b\\u0430\\u0442\\u044c\", \"\\u0434\\u0430\\u0432\\u0430\\u0442\\u044c\", \"\\u0440\\u0430\\u0431\\u043e\\u0442\\u0430\\u0442\\u044c\", \"\\u043f\\u0440\\u0438\\u043c\\u0435\\u0440\", \"\\u0441\\u0430\\u043c\\u044b\\u0439\", \"\\u0438\\u0441\\u043f\\u043e\\u043b\\u044c\\u0437\\u043e\\u0432\\u0430\\u0442\\u044c\", \"\\u043a\\u043b\\u0430\\u0441\\u0441\", \"\\u043e\\u0434\\u043d\\u0430\\u043a\\u043e\", \"\\u0441\\u043b\\u0443\\u0447\\u0430\\u0439\", \"\\u043d\\u043e\\u0432\\u044b\\u0439\", \"\\u0441\\u0438\\u0441\\u0442\\u0435\\u043c\\u0430\", \"\\u0434\\u0430\\u043d\\u043d\\u044b\\u0435\", \"\\u043f\\u0440\\u043e\\u0441\\u0442\\u043e\", \"\\u043a\\u043e\\u043c\\u0430\\u043d\\u0434\\u0430\", \"\\u043a\\u0430\\u0436\\u0434\\u044b\\u0439\", \"\\u0432\\u0440\\u0435\\u043c\\u044f\", \"\\u0431\\u043e\\u043b\\u044c\\u0448\\u043e\\u0439\", \"\\u043f\\u0440\\u043e\\u0431\\u043b\\u0435\\u043c\\u0430\", \"\\u0441\\u0432\\u0430\\u0440\\u043a\\u0430\", \"\\u0430\\u0432\\u0442\\u043e\\u043c\\u043e\\u0431\\u0438\\u043b\\u044c\", \"\\u0432\\u044b\\u0434\\u0435\\u043b\\u044f\\u0442\\u044c \\u0438\\u043d\\u0441\\u0442\\u0430\\u043b\\u043b\\u044f\\u0446\\u0438\\u044f\", \"\\u0431\\u0435\\u0441\\u043f\\u0438\\u043b\\u043e\\u0442\\u043d\\u044b\\u0439\", \"\\u043b\\u0438\\u0434\\u0430\\u0440\", \"\\u0443\\u043b\\u044c\\u0442\\u0440\\u0430\\u0437\\u0432\\u0443\\u043a\\u043e\\u0432\\u043e\\u0439 \\u0441\\u0432\\u0430\\u0440\\u043a\\u0430\", \"\\u043d\\u0430\\u043a\\u043e\\u043d\\u0435\\u0447\\u043d\\u0438\\u043a\", \"\\u043f\\u043e\\u0434\\u0430\\u0432\\u043b\\u0435\\u043d\\u0438\\u0435\", \"\\u0438\\u043d\\u0441\\u0442\\u0430\\u043b\\u043b\\u044f\\u0446\\u0438\\u044f\", \"\\u043a\\u043e\\u043c\\u043c\\u0443\\u0442\\u0430\\u0442\\u043e\\u0440 \\u0434\\u043e\\u0441\\u0442\\u0443\\u043f\", \"\\u0443\\u043b\\u044c\\u0442\\u0440\\u0430\\u0437\\u0432\\u0443\\u043a\", \"\\u0443\\u043b\\u044c\\u0442\\u0440\\u0430\\u0437\\u0432\\u0443\\u043a\\u043e\\u0432\\u043e\\u0439\", \"\\u043a\\u0430\\u0447\\u0435\\u0441\\u0442\\u0432\\u043e \\u0437\\u0432\\u0443\\u043a\", \"\\u0440\\u0430\\u0434\\u0430\\u0440\", \"\\u0441\\u0432\\u0430\\u0440\\u043e\\u0447\\u043d\\u044b\\u0439\", \"\\u0431\\u0435\\u0441\\u043f\\u0438\\u043b\\u043e\\u0442\\u043d\\u044b\\u0439 \\u0430\\u0432\\u0442\\u043e\\u043c\\u043e\\u0431\\u0438\\u043b\\u044c\", \"\\u043c\\u043b\\u043d \\u043c\\u043b\\u043d\", \"\\u043a\\u0430\\u043d\\u0430\\u043b\\u044c\\u043d\\u044b\\u0439 \\u0443\\u0440\\u043e\\u0432\\u0435\\u043d\\u044c\", \"\\u043c\\u043b\\u043d \\u043c\\u043b\\u043d \\u043c\\u043b\\u043d\", \"\\u0430\\u0432\\u0442\\u043e\", \"\\u0438\\u0437\\u043c\\u0435\\u0440\\u0435\\u043d\\u0438\\u0435 \\u043a\\u0430\\u0447\\u0435\\u0441\\u0442\\u0432\\u043e\", \"\\u0442\\u0440\\u0430\\u043d\\u0441\\u043f\\u043e\\u0440\\u0442\\u043d\\u044b\\u0439 \\u0441\\u0440\\u0435\\u0434\\u0441\\u0442\\u0432\\u043e\", \"\\u0448\\u0438\\u0440\\u043e\\u043a\\u043e\\u0432\\u0435\\u0449\\u0430\\u0442\\u0435\\u043b\\u044c\\u043d\\u044b\\u0439\", \"\\u0432\\u043e\\u0434\\u0438\\u0442\\u0435\\u043b\\u044c\", \"\\u0434\\u0435\\u0442\\u0435\\u043a\\u0446\\u0438\\u044f\", \"\\u043a\\u0433\\u0446\", \"\\u043f\\u043b\\u0430\\u0441\\u0442\\u043c\\u0430\\u0441\\u0441\\u0430\", \"\\u0448\\u0443\\u043c\\u043e\\u043f\\u043e\\u0434\\u0430\\u0432\\u043b\\u0435\\u043d\\u0438\\u0435\", \"\\u043a\\u0432\\u0430\\u0440\\u0442\\u0430\\u043b \\u0433\\u043e\\u0434\", \"\\u0430\\u0432\\u0430\\u0440\\u0438\\u044f\", \"\\u043c\\u0435\\u0445\\u0430\\u043d\\u0438\\u0447\\u0435\\u0441\\u043a\\u0438\\u0439\", \"\\u043a\\u043e\\u043c\\u043c\\u0443\\u0442\\u0430\\u0442\\u043e\\u0440\", \"\\u0437\\u0432\\u043e\\u043d\\u043e\\u043a\", \"\\u043c\\u043b\\u043d\", \"\\u043c\\u0435\\u0442\\u0430\\u043b\\u043b\", \"\\u043a\\u043e\\u043c\\u043f\\u044c\\u044e\\u0442\\u0435\\u0440\\u043d\\u044b\\u0439 \\u0437\\u0440\\u0435\\u043d\\u0438\\u0435\", \"\\u043a\\u0432\\u0430\\u0440\\u0442\\u0430\\u043b\", \"\\u043c\\u0430\\u0442\\u0435\\u0440\\u0438\\u0430\\u043b\", \"\\u0441\\u043e\\u0435\\u0434\\u0438\\u043d\\u0435\\u043d\\u0438\\u0435\", \"\\u043a\\u0430\\u043c\\u0435\\u0440\\u0430\", \"\\u043a\\u0430\\u0447\\u0435\\u0441\\u0442\\u0432\\u043e\", \"\\u0432\\u044b\\u0434\\u0435\\u043b\\u044f\\u0442\\u044c\", \"\\u0432\\u0438\\u0440\\u0442\\u0443\\u0430\\u043b\\u044c\\u043d\\u044b\\u0439\", \"\\u0434\\u0430\\u0442\\u0447\\u0438\\u043a\", \"\\u0441\\u0435\\u0442\\u044c\", \"\\u0437\\u0432\\u0443\\u043a\", \"\\u043c\\u043e\\u0447\\u044c\", \"\\u0441\\u0438\\u0441\\u0442\\u0435\\u043c\\u0430\", \"\\u0442\\u0435\\u0445\\u043d\\u043e\\u043b\\u043e\\u0433\\u0438\\u044f\", \"\\u043a\\u043e\\u043c\\u043f\\u044c\\u044e\\u0442\\u0435\\u0440\\u043d\\u044b\\u0439\", \"\\u043e\\u0431\\u044a\\u0435\\u043a\\u0442\", \"\\u043f\\u043e\\u0437\\u0432\\u043e\\u043b\\u044f\\u0442\\u044c\", \"\\u043f\\u043e\\u043c\\u043e\\u0449\\u044c\", \"\\u0441\\u0435\\u0442\\u0435\\u0432\\u043e\\u0439\", \"\\u0438\\u0441\\u043f\\u043e\\u043b\\u044c\\u0437\\u043e\\u0432\\u0430\\u0442\\u044c\", \"\\u0443\\u0440\\u043e\\u0432\\u0435\\u043d\\u044c\", \"\\u043f\\u0430\\u043a\\u0435\\u0442\", \"\\u0432\\u0435\\u0441\\u044c\", \"\\u043a\\u043b\\u0438\\u0435\\u043d\\u0442\", \"\\u0441\\u0438\\u0433\\u043d\\u0430\\u043b\", \"\\u0433\\u043e\\u0434\", \"\\u0434\\u0430\\u043d\\u043d\\u044b\\u0435\", \"\\u0440\\u0430\\u0431\\u043e\\u0442\\u0430\\u0442\\u044c\", \"\\u043f\\u043e\\u043b\\u0443\\u0447\\u0430\\u0442\\u044c\", \"\\u0441\\u0435\\u0440\\u0432\\u0435\\u0440\", \"\\u0441\\u0442\\u0440\\u0438\\u043c\", \"\\u0440\\u0435\\u0430\\u043a\\u0442\\u0438\\u0432\\u043d\\u044b\\u0439 \\u0441\\u0442\\u0440\\u0438\\u043c\", \"\\u0434\\u0435\\u0441\\u0435\\u0440\\u0438\\u0430\\u043b\\u0438\\u0437\\u0430\\u0446\\u0438\\u044f\", \"\\u0440\\u0435\\u0430\\u043a\\u0442\\u0438\\u0432\", \"\\u0440\\u0435\\u0430\\u043a\\u0442\\u0438\\u0432\\u043d\\u044b\\u0439 \\u0446\\u0435\\u043f\\u043e\\u0447\\u043a\\u0430\", \"\\u0441\\u0435\\u0440\\u0438\\u0430\\u043b\\u0438\\u0437\\u0430\\u0442\\u043e\\u0440\", \"\\u0441\\u0435\\u0440\\u0438\\u0430\\u043b\\u0438\\u0437\\u0430\\u0446\\u0438\\u044f\", \"\\u043a\\u0432\\u0430\\u043d\\u0442\\u0438\\u043b\\u044c\", \"\\u043f\\u043e\\u043b\\u0438\\u043c\\u043e\\u0440\\u0444\\u043d\\u044b\\u0439\", \"\\u0441\\u043c\\u0435\\u043d\\u0430 \\u043f\\u043e\\u0442\\u043e\\u043a\", \"\\u043f\\u043e\\u043b\\u0438\\u043c\\u043e\\u0440\\u0444\\u043d\\u044b\\u0439 \\u0441\\u0442\\u0440\\u0443\\u043a\\u0442\\u0443\\u0440\\u0430\", \"\\u0441\\u0442\\u044d\\u043a\", \"\\u043f\\u0440\\u0438\\u043c\\u0438\\u0442\\u0438\\u0432\", \"\\u0440\\u0435\\u0430\\u043a\\u0442\\u0438\\u0432\\u043d\\u044b\\u0439\", \"\\u0437\\u0430\\u043f\\u0440\\u043e\\u0441 \\u044d\\u043b\\u0435\\u043c\\u0435\\u043d\\u0442\", \"\\u0440\\u0435\\u0430\\u043a\\u0442\\u0438\\u0432\\u043d\\u044b\\u0439 \\u043f\\u043e\\u0434\\u0445\\u043e\\u0434\", \"\\u043c\\u0435\\u0442\\u043a\\u0438\\u0439\", \"\\u0433\\u0430\\u0440\\u0430\\u0436\\u043d\\u044b\\u0439 \\u0432\\u043e\\u0440\\u043e\\u0442\\u0430\", \"\\u0441\\u0430\\u0431\\u0435\\u0442\\u0430\\u043d\", \"\\u0442\\u043e\\u0447\\u043a\\u0430 \\u043b\\u043e\\u0433\\u0438\\u0440\\u043e\\u0432\\u0430\\u043d\\u0438\\u0435\", \"\\u044d\\u043b\\u0435\\u043c\\u0435\\u043d\\u0442 \\u0441\\u0442\\u0440\\u0438\\u043c\", \"\\u043a\\u0438\\u043d\\u043e\\u0442\\u0435\\u0430\\u0442\\u0440\", \"\\u043f\\u0435\\u0440\\u0441\\u043e\\u043d\\u0430\\u043b\\u0438\\u0437\\u0438\\u0440\\u043e\\u0432\\u0430\\u0442\\u044c\", \"\\u0442\\u043e\\u0440\\u0440\\u0435\\u043d\\u0442\", \"\\u0437\\u0430\\u043f\\u0440\\u0430\\u0448\\u0438\\u0432\\u0430\\u0442\\u044c \\u044d\\u043b\\u0435\\u043c\\u0435\\u043d\\u0442\", \"\\u0438\\u0437\\u043c\\u0435\\u043d\\u044f\\u0442\\u044c \\u043f\\u043e\\u0442\\u043e\\u043a\", \"\\u043a\\u043e\\u043b\\u0438\\u0447\\u0435\\u0441\\u0442\\u0432\\u043e \\u043f\\u043e\\u0442\\u043e\\u043a\", \"\\u043d\\u0430\\u0441\\u043b\\u0435\\u0434\\u043d\\u0438\\u043a\", \"\\u043d\\u0435\\u0431\\u043b\\u043e\\u043a\\u0438\\u0440\\u0443\\u044e\\u0449\\u0438\\u0439\", \"\\u043e\\u0431\\u0435\\u0440\\u0442\\u043a\\u0430\", \"\\u043f\\u043e\\u0434\\u043f\\u0438\\u0441\\u043a\\u0430\", \"\\u043e\\u043f\\u0435\\u0440\\u0430\\u0442\\u043e\\u0440\", \"\\u0434\\u0432\\u0435\\u0440\\u044c\", \"\\u043f\\u043e\\u0442\\u043e\\u043a\", \"\\u043e\\u043f\\u0435\\u0440\\u0430\\u0442\\u043e\\u0440 \\u043e\\u043f\\u0435\\u0440\\u0430\\u0442\\u043e\\u0440\", \"\\u043b\\u043e\\u0433\\u0438\\u043a\\u0430\", \"\\u0438\\u0441\\u043f\\u043e\\u043b\\u043d\\u0435\\u043d\\u0438\\u0435\", \"\\u0446\\u0435\\u043f\\u043e\\u0447\\u043a\\u0430\", \"\\u0431\\u0440\\u0430\\u0443\\u0437\\u0435\\u0440\", \"\\u0433\\u0430\\u0440\\u0430\\u0436\", \"\\u0437\\u0430\\u0434\\u0435\\u0440\\u0436\\u043a\\u0430\", \"\\u0442\\u0435\\u043b\\u0435\\u0432\\u0438\\u0434\\u0435\\u043d\\u0438\\u0435\", \"\\u043f\\u043e\\u0434\\u0445\\u043e\\u0434\", \"\\u043e\\u043f\\u0442\\u0438\\u043c\\u0438\\u0437\\u0430\\u0446\\u0438\\u044f\", \"\\u044d\\u043b\\u0435\\u043c\\u0435\\u043d\\u0442\", \"\\u0438\\u043d\\u0434\\u0443\\u0441\\u0442\\u0440\\u0438\\u044f\", \"\\u0432\\u0438\\u0434\\u0435\\u043e\", \"\\u043e\\u0431\\u044a\\u0435\\u043a\\u0442\", \"\\u043a\\u043b\\u0430\\u0441\\u0441\", \"\\u043f\\u0440\\u043e\\u0438\\u0441\\u0445\\u043e\\u0434\\u0438\\u0442\\u044c\", \"\\u043a\\u043e\\u043d\\u0442\\u0435\\u043d\\u0442\", \"\\u0431\\u0438\\u0431\\u043b\\u0438\\u043e\\u0442\\u0435\\u043a\\u0430\", \"\\u043c\\u043e\\u043d\\u0438\\u0442\\u043e\\u0440\\u0438\\u043d\\u0433\", \"\\u0432\\u0435\\u0441\\u044c\", \"\\u0437\\u0430\\u043f\\u0440\\u043e\\u0441\", \"\\u0441\\u043e\\u0431\\u044b\\u0442\\u0438\\u0435\", \"\\u043f\\u0440\\u0438\\u043b\\u043e\\u0436\\u0435\\u043d\\u0438\\u0435\", \"\\u043c\\u043e\\u0447\\u044c\", \"\\u0434\\u0430\\u043d\\u043d\\u044b\\u0435\", \"\\u0441\\u0430\\u043c\\u044b\\u0439\", \"\\u0437\\u043d\\u0430\\u0447\\u0435\\u043d\\u0438\\u0435\", \"\\u0432\\u0440\\u0435\\u043c\\u044f\", \"\\u043f\\u043e\\u043b\\u0443\\u0447\\u0430\\u0442\\u044c\", \"\\u043c\\u0435\\u0442\\u0440\\u0438\\u043a\\u0430\", \"\\u0438\\u0441\\u043f\\u043e\\u043b\\u044c\\u0437\\u043e\\u0432\\u0430\\u0442\\u044c\", \"\\u043a\\u043e\\u043b\\u0438\\u0447\\u0435\\u0441\\u0442\\u0432\\u043e\", \"\\u043a\\u043e\\u0434\", \"\\u0440\\u0430\\u0431\\u043e\\u0442\\u0430\\u0442\\u044c\", \"\\u0443\\u0441\\u0442\\u0440\\u043e\\u0439\\u0441\\u0442\\u0432\\u043e\", \"\\u0434\\u0435\\u043b\\u0430\\u0442\\u044c\", \"\\u0441\\u0435\\u0442\\u0435\\u0432\\u043e\\u0439 \\u0438\\u043d\\u0442\\u0435\\u0440\\u0444\\u0435\\u0439\\u0441\", \"\\u043f\\u0440\\u0435\\u043e\\u0431\\u0440\\u0430\\u0437\\u043e\\u0432\\u0430\\u0442\\u0435\\u043b\\u044c \\u0438\\u043d\\u0442\\u0435\\u0440\\u0444\\u0435\\u0439\\u0441\", \"\\u0434\\u0438\\u043d\\u0430\\u043c\\u0438\\u0447\\u0435\\u0441\\u043a\\u0438\\u0439\", \"\\u043a\\u043e\\u043d\\u0444\\u0438\\u0433\\u0443\\u0440\\u0430\\u0446\\u0438\\u043e\\u043d\\u043d\\u044b\\u0439\", \"\\u043a\\u043e\\u043d\\u0444\\u0438\\u0433\\u0443\\u0440\\u0430\\u0446\\u0438\\u043e\\u043d\\u043d\\u044b\\u0439 \\u0444\\u0430\\u0439\\u043b\", \"\\u043a\\u0430\\u0436\\u0434\\u044b\\u0439 \\u0441\\u0435\\u0442\\u0435\\u0432\\u043e\\u0439\", \"\\u0430\\u043d\\u0438\\u043c\\u0438\\u0440\\u043e\\u0432\\u0430\\u043d\\u0438\\u0435\", \"\\u043a\\u0430\\u0436\\u0434\\u044b\\u0439 \\u0441\\u0435\\u0442\\u0435\\u0432\\u043e\\u0439 \\u0438\\u043d\\u0442\\u0435\\u0440\\u0444\\u0435\\u0439\\u0441\", \"\\u043a\\u043e\\u043d\\u0444\\u0438\\u0433\\u0443\\u0440\\u0430\\u0446\\u0438\\u043e\\u043d\\u043d\\u044b\\u0439 \\u0444\\u0430\\u0439\\u043b \\u0441\\u0435\\u0442\\u044c\", \"\\u0444\\u0430\\u0439\\u043b \\u0441\\u0435\\u0442\\u044c\", \"\\u043a\\u0430\\u043d\\u0430\\u043b \\u043f\\u043e\\u0438\\u0441\\u043a\", \"\\u0446\\u0435\\u043d\\u0442\\u0440 \\u0441\\u0435\\u0440\\u0442\\u0438\\u0444\\u0438\\u043a\\u0430\\u0446\\u0438\\u044f\", \"\\u0448\\u0438\\u043d\\u0430\", \"\\u0430\\u043d\\u0438\\u043c\\u0438\\u0440\\u043e\\u0432\\u0430\\u043d\\u0438\\u0435 \\u044d\\u043b\\u0435\\u043c\\u0435\\u043d\\u0442\", \"\\u0437\\u043d\\u0430\\u0447\\u0435\\u043d\\u0438\\u0435 \\u044f\\u0432\\u043b\\u044f\\u0442\\u044c\\u0441\\u044f\", \"\\u0437\\u043d\\u0430\\u0447\\u0435\\u043d\\u0438\\u0435 \\u044f\\u0432\\u043b\\u044f\\u0442\\u044c\\u0441\\u044f \\u0446\\u0435\\u043b\\u044b\\u0439\", \"\\u043a\\u043e\\u043d\\u0444\\u0438\\u0433\\u0443\\u0440\\u0430\\u0446\\u0438\\u043e\\u043d\\u043d\\u044b\\u0439 \\u0444\\u0430\\u0439\\u043b \\u0438\\u043d\\u0442\\u0435\\u0440\\u0444\\u0435\\u0439\\u0441\", \"\\u043d\\u0430\\u0441\\u0442\\u0440\\u0430\\u0438\\u0432\\u0430\\u0442\\u044c \\u043a\\u043e\\u043d\\u0444\\u0438\\u0433\\u0443\\u0440\\u0430\\u0446\\u0438\\u043e\\u043d\\u043d\\u044b\\u0439\", \"\\u043d\\u0430\\u0441\\u0442\\u0440\\u0430\\u0438\\u0432\\u0430\\u0442\\u044c \\u043a\\u043e\\u043d\\u0444\\u0438\\u0433\\u0443\\u0440\\u0430\\u0446\\u0438\\u043e\\u043d\\u043d\\u044b\\u0439 \\u0444\\u0430\\u0439\\u043b\", \"\\u043d\\u0430\\u0441\\u0442\\u0440\\u043e\\u0439\\u043a\\u0430 \\u0441\\u0435\\u0442\\u0435\\u0432\\u043e\\u0439\", \"\\u043f\\u043e\\u0434\\u043f\\u0438\\u0441\\u044b\\u0432\\u0430\\u0442\\u044c \\u0441\\u0435\\u0440\\u0442\\u0438\\u0444\\u0438\\u043a\\u0430\\u0442\", \"\\u0440\\u0435\\u0434\\u0430\\u043a\\u0442\\u0438\\u0440\\u043e\\u0432\\u0430\\u043d\\u0438\\u0435 \\u043a\\u043e\\u043d\\u0444\\u0438\\u0433\\u0443\\u0440\\u0430\\u0446\\u0438\\u043e\\u043d\\u043d\\u044b\\u0439\", \"\\u0440\\u0435\\u0434\\u0430\\u043a\\u0442\\u0438\\u0440\\u043e\\u0432\\u0430\\u043d\\u0438\\u0435 \\u043a\\u043e\\u043d\\u0444\\u0438\\u0433\\u0443\\u0440\\u0430\\u0446\\u0438\\u043e\\u043d\\u043d\\u044b\\u0439 \\u0444\\u0430\\u0439\\u043b\", \"\\u0441\\u0442\\u0430\\u0442\\u0438\\u0447\\u0435\\u0441\\u043a\\u0438\\u0439 \\u0430\\u0434\\u0440\\u0435\\u0441\", \"\\u0444\\u0430\\u0439\\u043b \\u0438\\u043d\\u0442\\u0435\\u0440\\u0444\\u0435\\u0439\\u0441\", \"\\u0444\\u0430\\u0439\\u043b \\u043a\\u0430\\u0436\\u0434\\u044b\\u0439\", \"\\u0444\\u0430\\u0439\\u043b \\u043a\\u0430\\u0436\\u0434\\u044b\\u0439 \\u0441\\u0435\\u0442\\u0435\\u0432\\u043e\\u0439\", \"\\u0446\\u0435\\u043b\\u0435\\u0432\\u043e\\u0439 \\u0430\\u0443\\u0434\\u0438\\u0442\\u043e\\u0440\\u0438\\u044f\", \"\\u0446\\u0435\\u043b\\u044b\\u0439 \\u0447\\u0438\\u0441\\u043b\\u043e \\u0441\\u0435\\u043a\\u0443\\u043d\\u0434\\u0430\", \"\\u0447\\u0438\\u0441\\u043b\\u043e \\u0441\\u0435\\u043a\\u0443\\u043d\\u0434\\u0430\", \"\\u043a\\u0430\\u043d\\u0434\\u0438\\u0434\\u0430\\u0442\", \"\\u0431\\u0440\\u043e\\u043a\\u0435\\u0440\", \"\\u0434\\u0438\\u0441\\u0442\\u0440\\u0438\\u0431\\u0443\\u0442\\u0438\\u0432\", \"\\u0438\\u043d\\u0442\\u0435\\u0440\\u0444\\u0435\\u0439\\u0441\", \"\\u043f\\u0430\\u0440\\u0442\\u0438\\u044f\", \"\\u0440\\u0435\\u0434\\u0430\\u043a\\u0442\\u0438\\u0440\\u043e\\u0432\\u0430\\u043d\\u0438\\u0435\", \"\\u0430\\u0443\\u0442\\u0435\\u043d\\u0442\\u0438\\u0444\\u0438\\u043a\\u0430\\u0446\\u0438\\u044f\", \"\\u043f\\u0440\\u0435\\u043e\\u0431\\u0440\\u0430\\u0437\\u043e\\u0432\\u0430\\u0442\\u0435\\u043b\\u044c\", \"\\u043d\\u0430\\u0441\\u0442\\u0440\\u043e\\u0439\\u043a\\u0430\", \"\\u0441\\u0435\\u0442\\u0435\\u0432\\u043e\\u0439\", \"\\u043e\\u0431\\u0440\\u0430\\u0437\\u0435\\u0446\", \"\\u0444\\u0430\\u0439\\u043b\", \"\\u0441\\u043a\\u043b\\u0430\\u0434\", \"\\u043a\\u043e\\u043c\\u0430\\u043d\\u0434\\u043d\\u044b\\u0439 \\u0441\\u0442\\u0440\\u043e\\u043a\\u0430\", \"\\u0443\\u0441\\u0442\\u0440\\u043e\\u0439\\u0441\\u0442\\u0432\\u043e\", \"\\u043d\\u0430\\u0441\\u0442\\u0440\\u0430\\u0438\\u0432\\u0430\\u0442\\u044c\", \"\\u0430\\u043d\\u0438\\u043c\\u0430\\u0446\\u0438\\u044f\", \"\\u0438\\u043d\\u0434\\u0438\\u043a\\u0430\\u0442\\u043e\\u0440\", \"\\u043a\\u043e\\u043c\\u043f\\u043e\\u043d\\u0435\\u043d\\u0442\", \"\\u043f\\u0440\\u043e\\u0438\\u0437\\u0432\\u043e\\u0434\\u0441\\u0442\\u0432\\u043e\", \"\\u0441\\u0435\\u0440\\u0442\\u0438\\u0444\\u0438\\u043a\\u0430\\u0442\", \"\\u043a\\u0430\\u0431\\u0435\\u043b\\u044c\", \"\\u0438\\u0441\\u043f\\u043e\\u043b\\u044c\\u0437\\u043e\\u0432\\u0430\\u0442\\u044c\", \"\\u0433\\u0440\\u0430\\u0444\\u0438\\u0447\\u0435\\u0441\\u043a\\u0438\\u0439\", \"\\u0430\\u0434\\u0440\\u0435\\u0441\", \"\\u043f\\u0440\\u0438\\u043c\\u0435\\u0440\", \"\\u043c\\u043e\\u0447\\u044c\", \"\\u0437\\u043d\\u0430\\u0447\\u0435\\u043d\\u0438\\u0435\", \"\\u043a\\u043b\\u0438\\u0435\\u043d\\u0442\", \"\\u0441\\u043e\\u0437\\u0434\\u0430\\u0432\\u0430\\u0442\\u044c\", \"\\u043d\\u0430\\u043f\\u0440\\u0438\\u043c\\u0435\\u0440\", \"\\u0438\\u0441\\u043f\\u043e\\u043b\\u044c\\u0437\\u043e\\u0432\\u0430\\u043d\\u0438\\u0435\", \"\\u0440\\u0430\\u0431\\u043e\\u0442\\u0430\", \"\\u0432\\u0440\\u0435\\u043c\\u044f\", \"\\u043a\\u043e\\u043c\\u043f\\u0430\\u043d\\u0438\\u044f\", \"\\u0444\\u0443\\u043d\\u043a\\u0446\\u0438\\u044f\", \"\\u043f\\u0440\\u0438\\u043b\\u043e\\u0436\\u0435\\u043d\\u0438\\u0435\", \"\\u043f\\u043e\\u043c\\u043e\\u0449\\u044c\", \"\\u043a\\u0430\\u0436\\u0434\\u044b\\u0439\", \"\\u043f\\u043e\\u0437\\u0432\\u043e\\u043b\\u044f\\u0442\\u044c\", \"\\u0434\\u0430\\u043d\\u043d\\u044b\\u0435\", \"\\u0441\\u0435\\u0442\\u044c\", \"\\u0440\\u0430\\u0441\\u0442\\u0435\\u043d\\u0438\\u0435\", \"\\u043d\\u043e\\u043c\\u0438\\u043d\\u0430\\u0446\\u0438\\u044f\", \"\\u0442\\u0435\\u0445\\u043d\\u0438\\u0447\\u0435\\u0441\\u043a\\u0438\\u0439 \\u0431\\u0430\\u043b\\u043b\", \"\\u0441\\u0443\\u043c\\u043c\\u0430\\u0442\\u043e\\u0440\", \"\\u0440\\u0430\\u0437\\u0440\\u044f\\u0434\", \"\\u0431\\u043b\\u043e\\u0433 \\u043a\\u043e\\u043c\\u043f\\u0430\\u043d\\u0438\\u044f\", \"\\u0441\\u0443\\u043c\\u043c\\u0430 \\u0442\\u0435\\u0445\\u043d\\u0438\\u0447\\u0435\\u0441\\u043a\\u0438\\u0439\", \"\\u0441\\u0443\\u043c\\u043c\\u0430 \\u0442\\u0435\\u0445\\u043d\\u0438\\u0447\\u0435\\u0441\\u043a\\u0438\\u0439 \\u0431\\u0430\\u043b\\u043b\", \"\\u0431\\u0430\\u043b\\u043b\", \"\\u0441\\u0438\\u0433\\u043d\\u0430\\u043b \\u043f\\u0435\\u0440\\u0435\\u043d\\u043e\\u0441\", \"\\u0432\\u0435\\u0441\\u044c \\u0431\\u0430\\u043b\\u043b\", \"\\u0441\\u0443\\u043c\\u043c\\u0430 \\u0432\\u0435\\u0441\\u044c\", \"\\u0441\\u0443\\u043c\\u043c\\u0430 \\u0432\\u0435\\u0441\\u044c \\u0431\\u0430\\u043b\\u043b\", \"\\u0441\\u0443\\u0434\\u0435\\u0439\\u0441\\u0442\\u0432\\u043e\", \"\\u0441\\u0443\\u0434\\u0435\\u0439\\u0441\\u0442\\u0432\\u043e \\u0441\\u043f\\u0430\\u0441\\u0438\\u0431\\u043e\", \"\\u043a\\u0430\\u0440\\u043f\\u0430\\u0442\\u044b\", \"\\u0447\\u0435\\u0442\\u044b\\u0440\\u0445\\u0440\\u0430\\u0437\\u0440\\u044f\\u0434\\u043d\\u044b\\u0439\", \"\\u0432\\u044b\\u0441\\u043e\\u043a\\u0438\\u0439 \\u043b\\u043e\\u0433\\u0438\\u0447\\u0435\\u0441\\u043a\\u0438\\u0439\", \"\\u0432\\u044b\\u0441\\u043e\\u043a\\u0438\\u0439 \\u043b\\u043e\\u0433\\u0438\\u0447\\u0435\\u0441\\u043a\\u0438\\u0439 \\u0443\\u0440\\u043e\\u0432\\u0435\\u043d\\u044c\", \"\\u043f\\u043e\\u043b\\u043d\\u044b\\u0439 \\u0441\\u0443\\u043c\\u043c\\u0430\\u0442\\u043e\\u0440\", \"\\u0441\\u0438\\u0433\\u043d\\u0430\\u043b \\u0432\\u044b\\u0441\\u043e\\u043a\\u0438\\u0439 \\u043b\\u043e\\u0433\\u0438\\u0447\\u0435\\u0441\\u043a\\u0438\\u0439\", \"\\u0441\\u0442\\u0440\\u0435\\u0441\\u0441\", \"\\u043c\\u043e\\u0447\\u044c \\u043f\\u043e\\u043f\\u0440\\u043e\\u0431\\u043e\\u0432\\u0430\\u0442\\u044c\", \"\\u043b\\u043e\\u0433\\u0438\\u0447\\u0435\\u0441\\u043a\\u0438\\u0439 \\u0443\\u0440\\u043e\\u0432\\u0435\\u043d\\u044c\", \"\\u0430\\u043d\\u0434\\u0440\\u0435\\u0439\", \"\\u0430\\u043d\\u0434\\u0440\\u0435\\u0439 \\u043a\\u0430\\u0440\\u043f\\u0430\\u0442\\u044b\", \"\\u0432\\u044b\\u043f\\u043e\\u043b\\u043d\\u044f\\u0442\\u044c \\u043a\\u043e\\u043c\\u0430\\u043d\\u0434\\u0430\", \"\\u0438\\u0437\\u0434\\u0430\\u0432\\u0430\\u0442\\u044c\", \"\\u043d\\u0438\\u0437\\u043a\\u0438\\u0439 \\u043b\\u043e\\u0433\\u0438\\u0447\\u0435\\u0441\\u043a\\u0438\\u0439\", \"\\u043d\\u0438\\u0437\\u043a\\u0438\\u0439 \\u043b\\u043e\\u0433\\u0438\\u0447\\u0435\\u0441\\u043a\\u0438\\u0439 \\u0443\\u0440\\u043e\\u0432\\u0435\\u043d\\u044c\", \"\\u043f\\u043e\\u0431\\u0435\\u0434\\u0438\\u0442\\u0435\\u043b\\u044c\", \"\\u043f\\u0440\\u043e\\u0432\\u0435\\u0440\\u044f\\u0442\\u044c \\u0441\\u043e\\u0441\\u0442\\u043e\\u044f\\u043d\\u0438\\u0435\", \"\\u0441\\u043f\\u0430\\u0441\\u0438\\u0431\\u043e\", \"\\u0442\\u0440\\u0438\\u0433\\u0433\\u0435\\u0440\", \"\\u043b\\u043e\\u0433\\u0438\\u0447\\u0435\\u0441\\u043a\\u0438\\u0439\", \"\\u043f\\u0435\\u0440\\u0435\\u043d\\u043e\\u0441\", \"\\u043a\\u043e\\u043d\\u043a\\u0443\\u0440\\u0441\", \"\\u0441\\u0443\\u043c\\u043c\\u0430\", \"\\u0431\\u0440\\u0435\\u043d\\u0434\", \"\\u0431\\u043b\\u043e\\u0433\", \"\\u0441\\u0438\\u0433\\u043d\\u0430\\u043b\", \"\\u0440\\u0430\\u0437\\u043c\\u0435\\u0442\\u043a\\u0430\", \"\\u0432\\u0445\\u043e\\u0434\", \"\\u043e\\u0448\\u0438\\u0431\\u043a\\u0430\", \"\\u043a\\u043e\\u043c\\u0430\\u043d\\u0434\\u0430\", \"\\u0437\\u0432\\u0443\\u043a\", \"\\u0441\\u0442\\u0430\\u0442\\u044c\\u044f\", \"\\u043f\\u0440\\u043e\\u0432\\u0435\\u0440\\u044f\\u0442\\u044c\", \"\\u043f\\u043e\\u043f\\u0440\\u043e\\u0431\\u043e\\u0432\\u0430\\u0442\\u044c\", \"\\u0441\\u0445\\u0435\\u043c\\u0430\", \"\\u043c\\u043e\\u0447\\u044c\", \"\\u0432\\u044b\\u0445\\u043e\\u0434\", \"\\u0441\\u043b\\u0435\\u0434\\u0443\\u044e\\u0449\\u0438\\u0439\", \"\\u0433\\u043e\\u0434\", \"\\u044d\\u043b\\u0435\\u043c\\u0435\\u043d\\u0442\", \"\\u043a\\u043e\\u043c\\u043f\\u0430\\u043d\\u0438\\u044f\", \"\\u0442\\u0435\\u0445\\u043d\\u0438\\u0447\\u0435\\u0441\\u043a\\u0438\\u0439\", \"\\u043f\\u0440\\u043e\\u0431\\u043b\\u0435\\u043c\\u0430\", \"\\u0444\\u0430\\u0439\\u043b\", \"\\u0432\\u0435\\u0441\\u044c\", \"\\u043c\\u043e\\u0434\\u0435\\u043b\\u044c\", \"\\u0432\\u0440\\u0435\\u043c\\u044f\", \"\\u043f\\u043e\\u043b\\u0443\\u0447\\u0430\\u0442\\u044c\", \"\\u0441\\u043e\\u0441\\u0442\\u043e\\u044f\\u043d\\u0438\\u0435\", \"\\u0438\\u0441\\u043f\\u043e\\u043b\\u044c\\u0437\\u043e\\u0432\\u0430\\u0442\\u044c\", \"\\u0433\\u0435\\u0439\\u043c\\u0438\\u0444\\u0438\\u043a\\u0430\\u0446\\u0438\\u044f\", \"\\u043c\\u043e\\u0448\\u0435\\u043d\\u043d\\u0438\\u043a\", \"\\u043b\\u0435\\u0439\\u0431\\u043b\\u0441\\u0435\\u0442\", \"\\u043e\\u0431\\u043e\\u0433\\u0440\\u0435\\u0432\", \"\\u0432\\u0440\\u0435\\u043c\\u044f \\u0438\\u0433\\u0440\\u0430\", \"\\u0440\\u0435\\u0444\\u0435\\u0440\\u0430\\u043b\\u044c\\u043d\\u044b\\u0439\", \"\\u0441\\u0438\\u043c\\u0443\\u043b\\u044f\\u0442\\u043e\\u0440 \\u043c\\u043e\\u0448\\u0435\\u043d\\u043d\\u0438\\u043a\", \"\\u0431\\u0430\\u0441\\u0441\\u0435\\u0439\\u043d\", \"\\u043c\\u0435\\u0442\\u0440\\u0438\\u043a\\u0430 \\u043f\\u0440\\u0438\\u043b\\u043e\\u0436\\u0435\\u043d\\u0438\\u0435\", \"\\u0440\\u0435\\u0444\\u0435\\u0440\\u0430\\u043b\\u044c\\u043d\\u044b\\u0439 \\u043f\\u0440\\u043e\\u0433\\u0440\\u0430\\u043c\\u043c\\u0430\", \"\\u0430\\u043f\\u0433\\u0440\\u0435\\u0439\\u0434\", \"\\u0432\\u0438\\u0440\\u0442\\u0443\\u0430\\u043b\\u044c\\u043d\\u044b\\u0439 \\u0444\\u0430\\u0439\\u043b\", \"\\u0434\\u043e\\u043c\\u0430\\u0448\\u043d\\u0438\\u0439 \\u0441\\u0435\\u0440\\u0432\\u0435\\u0440\", \"\\u0436\\u0443\\u0440\\u043d\\u0430\\u043b \\u0442\\u0440\\u0430\\u043d\\u0437\\u0430\\u043a\\u0446\\u0438\\u044f\", \"\\u0431\\u0430\\u043b\\u043b\\u043e\\u043d\", \"\\u0431\\u043b\\u043e\\u043a \\u0434\\u0430\\u043d\\u043d\\u044b\\u0435\", \"\\u0432\\u0430\\u0441\\u044f\", \"\\u0434\\u0430\\u043d\\u043d\\u044b\\u0435 \\u0438\\u0441\\u0442\\u043e\\u0447\\u043d\\u0438\\u043a\", \"\\u0434\\u0430\\u0442\\u0430\\u0446\\u0435\\u043d\\u0442\\u0440\", \"\\u0434\\u044b\\u0440\\u043a\\u0430\", \"\\u0438\\u0441\\u043f\\u043e\\u043b\\u044c\\u0437\\u043e\\u0432\\u0430\\u0442\\u044c \\u0438\\u0433\\u0440\\u043e\\u0432\\u043e\\u0439\", \"\\u0438\\u0441\\u043f\\u043e\\u043b\\u044c\\u0437\\u043e\\u0432\\u0430\\u0442\\u044c \\u0438\\u0433\\u0440\\u043e\\u0432\\u043e\\u0439 \\u043c\\u0435\\u0445\\u0430\\u043d\\u0438\\u043a\\u0430\", \"\\u043a\\u044d\\u0448\\u0431\\u044d\\u043a\", \"\\u043c\\u0435\\u0442\\u0440\\u0438\\u043a\\u0430 \\u0440\\u0430\\u0437\\u043d\\u044b\\u0439\", \"\\u043d\\u0430\\u0433\\u0440\\u0435\\u0432\\u0430\\u0442\\u044c\", \"\\u043e\\u0442\\u043e\\u0431\\u0440\\u0430\\u0436\\u0430\\u0442\\u044c \\u0433\\u0440\\u0430\\u0444\\u0438\\u043a\", \"\\u043f\\u043b\\u0430\\u0432\\u0430\\u0442\\u044c \\u0430\\u0434\\u0440\\u0435\\u0441\", \"\\u043f\\u043e\\u0434\\u043e\\u0433\\u0440\\u0435\\u0432\\u0430\\u0442\\u044c\", \"\\u043f\\u0443\\u0431\\u043b\\u0438\\u0447\\u043d\\u044b\\u0439 \\u0441\\u0435\\u0442\\u044c\", \"\\u0442\\u0435\\u043f\\u043b\\u043e\\u0432\\u043e\\u0439\", \"\\u043a\\u043e\\u043d\\u0444\\u0438\\u0433\\u0443\\u0440\\u0430\\u0442\\u043e\\u0440\", \"\\u0444\\u0430\\u0439\\u043b \\u0436\\u0443\\u0440\\u043d\\u0430\\u043b\", \"\\u0438\\u0433\\u0440\\u043e\\u0432\\u043e\\u0439\", \"\\u043f\\u0440\\u0438\\u0440\\u0430\\u0449\\u0435\\u043d\\u0438\\u0435\", \"\\u0441\\u0431\\u043e\\u0440 \\u043c\\u0435\\u0442\\u0440\\u0438\\u043a\\u0430\", \"\\u0438\\u0433\\u0440\\u043e\\u0432\\u043e\\u0439 \\u043c\\u0435\\u0445\\u0430\\u043d\\u0438\\u043a\\u0430\", \"\\u0431\\u043b\\u043e\\u043a\", \"\\u043c\\u0435\\u0442\\u0440\\u0438\\u043a\\u0430\", \"\\u043c\\u0435\\u0445\\u0430\\u043d\\u0438\\u043a\\u0430\", \"\\u0432\\u043e\\u0434\\u0430\", \"\\u0438\\u0433\\u0440\\u0430\", \"\\u0431\\u0438\\u0437\\u043d\\u0435\\u0441 \\u043c\\u0435\\u0442\\u0440\\u0438\\u043a\\u0430\", \"\\u0441\\u0438\\u0441\\u0442\\u0435\\u043c\\u0430 \\u043c\\u043e\\u043d\\u0438\\u0442\\u043e\\u0440\\u0438\\u043d\\u0433\", \"\\u0441\\u0438\\u043c\\u0443\\u043b\\u044f\\u0442\\u043e\\u0440\", \"\\u0441\\u043e\\u0431\\u0438\\u0440\\u0430\\u0442\\u044c \\u043c\\u0435\\u0442\\u0440\\u0438\\u043a\\u0430\", \"\\u0441\\u0431\\u043e\\u0440\", \"\\u043a\\u043b\\u0438\\u0435\\u043d\\u0442\", \"\\u0434\\u0430\\u043d\\u043d\\u044b\\u0435\", \"\\u043f\\u0440\\u043e\\u0434\\u0443\\u043a\\u0442\", \"\\u0438\\u0433\\u0440\\u043e\\u043a\", \"\\u0436\\u0443\\u0440\\u043d\\u0430\\u043b\", \"\\u0441\\u0435\\u0440\\u0432\\u0435\\u0440\", \"\\u0438\\u0441\\u0442\\u043e\\u0447\\u043d\\u0438\\u043a\", \"\\u043a\\u043e\\u043b\\u0438\\u0447\\u0435\\u0441\\u0442\\u0432\\u043e\", \"\\u043c\\u043e\\u043d\\u0438\\u0442\\u043e\\u0440\\u0438\\u043d\\u0433\", \"\\u043c\\u0438\\u043b\\u043b\\u0438\\u043e\\u043d\", \"\\u043f\\u0440\\u0438\\u043b\\u043e\\u0436\\u0435\\u043d\\u0438\\u0435\", \"\\u0433\\u0440\\u0430\\u0444\\u0438\\u043a\", \"\\u0441\\u043e\\u0431\\u0438\\u0440\\u0430\\u0442\\u044c\", \"\\u0437\\u0430\\u043f\\u0440\\u043e\\u0441\", \"\\u0444\\u0430\\u0439\\u043b\", \"\\u0432\\u0440\\u0435\\u043c\\u044f\", \"\\u043f\\u043e\\u043b\\u0443\\u0447\\u0430\\u0442\\u044c\", \"\\u043c\\u043e\\u0447\\u044c\", \"\\u043a\\u0430\\u0436\\u0434\\u044b\\u0439\", \"\\u043d\\u0430\\u043f\\u0440\\u0438\\u043c\\u0435\\u0440\", \"\\u0441\\u0438\\u0441\\u0442\\u0435\\u043c\\u0430\", \"\\u043f\\u0440\\u043e\\u0431\\u043b\\u0435\\u043c\\u0430\", \"\\u0432\\u043e\\u043f\\u0440\\u043e\\u0441\", \"\\u0432\\u0435\\u0441\\u044c\", \"\\u043f\\u043e\\u043b\\u044c\\u0437\\u043e\\u0432\\u0430\\u0442\\u0435\\u043b\\u044c\", \"\\u043d\\u043e\\u0432\\u044b\\u0439\", \"\\u0433\\u043e\\u0434\", \"\\u043f\\u043e\\u044d\\u0442\\u043e\\u043c\\u0443\", \"\\u043f\\u0440\\u0438\\u043c\\u0435\\u0440\", \"\\u0441\\u0445\\u0435\\u043c\\u0430\", \"\\u043b\\u0435\\u0432\\u0438\\u043d\", \"\\u044d\\u043a\\u0437\\u0430\\u043c\\u0435\\u043d\", \"\\u0432\\u0443\\u0437\", \"\\u044d\\u043b\\u0438\\u0437\\u0430\\u0431\\u0435\\u0442\", \"\\u043a\\u0435\\u043d\", \"\\u043a\\u0435\\u043d \\u043b\\u0435\\u0432\\u0438\\u043d\", \"\\u0432\\u044b\\u0441\\u043e\\u043a\\u0438\\u0439 \\u043e\\u0431\\u0440\\u0430\\u0437\\u043e\\u0432\\u0430\\u043d\\u0438\\u0435\", \"\\u0442\\u0440\\u0430\\u043d\\u0441\\u0442\\u0435\\u043b\\u0435\\u043a\\u043e\\u043c\", \"\\u0442\\u0440\\u0435\\u043a\", \"\\u043a\\u0430\\u0437\\u0430\\u0445\\u0441\\u0442\\u0430\\u043d\", \"\\u0432\\u0435\\u0441\\u044c \\u0432\\u0430\\u043a\\u0430\\u043d\\u0441\\u0438\\u044f\", \"\\u0445\\u0430\\u0431\\u0440 \\u043a\\u0430\\u0440\\u044c\\u0435\\u0440\\u0430\", \"\\u0432\\u0430\\u043a\\u0430\\u043d\\u0441\\u0438\\u044f \\u043c\\u0430\\u0440\\u0442\", \"\\u043a\\u0443\\u0440\\u0441\\u044b\", \"\\u043a\\u043e\\u043c\\u043c\\u0435\\u0440\\u0441\\u0430\\u043d\\u0442\", \"\\u043d\\u0430\\u0447\\u0438\\u043d\\u0430\\u0442\\u044c \\u043f\\u0438\\u0441\\u0430\\u0442\\u044c\", \"\\u043f\\u0440\\u043e\\u0445\\u043e\\u0434\\u0438\\u0442\\u044c \\u043a\\u0443\\u0440\\u0441\\u044b\", \"\\u0441\\u0435\\u0440\\u0432\\u0435\\u0440 \\u0440\\u0435\\u043b\\u0435\", \"\\u0446\\u043e\\u0434\\u044b\", \"\\u0443\\u043f\\u0440\\u0430\\u0432\\u043b\\u0435\\u043d\\u0438\\u0435 \\u043f\\u0440\\u043e\\u0435\\u043a\\u0442\", \"\\u0434\\u0438\\u043f\\u043b\\u043e\\u043c\", \"\\u0433\\u0430\\u0434\\u0436\\u0435\\u0442\", \"\\u0433\\u0430\\u0437\\u0435\\u0442\\u0430\", \"\\u0434\\u0430\\u0431\\u044b\", \"\\u043a\\u043e\\u0442\\u0438\\u0440\\u043e\\u0432\\u0430\\u0442\\u044c\\u0441\\u044f\", \"\\u043a\\u0440\\u044b\\u043b\\u043e\", \"\\u043a\\u0443\\u0440\\u0441\\u044b \\u0441\\u0435\\u0440\\u0442\\u0438\\u0444\\u0438\\u043a\\u0430\\u0442\", \"\\u043e\\u0431\\u0440\\u0430\\u0437\\u043e\\u0432\\u0430\\u0442\\u0435\\u043b\\u044c\\u043d\\u044b\\u0439 \\u043f\\u0440\\u043e\\u0433\\u0440\\u0430\\u043c\\u043c\\u0430\", \"\\u043e\\u043a\\u043e\\u043b\\u043e \\u0434\\u043e\\u043b\\u043b\\u0430\\u0440\", \"\\u043f\\u0435\\u0440\\u0432\\u044b\\u0439 \\u043f\\u043b\\u0430\\u043d\", \"\\u043e\\u0431\\u0440\\u0430\\u0437\\u043e\\u0432\\u0430\\u0442\\u0435\\u043b\\u044c\\u043d\\u044b\\u0439\", \"\\u0440\\u0430\\u0431\\u043e\\u0442\\u043e\\u0434\\u0430\\u0442\\u0435\\u043b\\u044c\", \"\\u043a\\u0432\\u0430\\u043b\\u0438\\u0444\\u0438\\u043a\\u0430\\u0446\\u0438\\u044f\", \"\\u043c\\u0430\\u0440\\u0442\", \"\\u043c\\u0443\\u0437\\u044b\\u043a\\u0430\", \"\\u0440\\u0430\\u0437\\u043c\\u0435\\u0449\\u0430\\u0442\\u044c \\u0432\\u0430\\u043a\\u0430\\u043d\\u0441\\u0438\\u044f\", \"\\u0432\\u0430\\u043a\\u0430\\u043d\\u0441\\u0438\\u044f\", \"\\u043e\\u043f\\u044b\\u0442 \\u0440\\u0430\\u0431\\u043e\\u0442\\u0430\", \"\\u0441\\u0435\\u0440\\u0442\\u0438\\u0444\\u0438\\u043a\\u0430\\u0446\\u0438\\u044f\", \"\\u0441\\u0435\\u0440\\u0442\\u0438\\u0444\\u0438\\u043a\\u0430\\u0442\", \"\\u043e\\u0431\\u0440\\u0430\\u0437\\u043e\\u0432\\u0430\\u043d\\u0438\\u0435\", \"\\u0440\\u0430\\u0431\\u043e\\u0442\\u043d\\u0438\\u043a\", \"\\u043f\\u0440\\u043e\\u0445\\u043e\\u0436\\u0434\\u0435\\u043d\\u0438\\u0435\", \"\\u0441\\u043f\\u0435\\u0446\\u0438\\u0430\\u043b\\u0438\\u0441\\u0442\", \"\\u0432\\u043e\\u0441\\u0442\\u043e\\u0440\\u0433\", \"\\u043e\\u043f\\u044b\\u0442\", \"\\u043e\\u0431\\u0443\\u0447\\u0435\\u043d\\u0438\\u0435\", \"\\u0438\\u0433\\u0440\\u0430\", \"\\u0433\\u043e\\u0434\", \"\\u0441\\u0442\\u0443\\u0434\\u0438\\u044f\", \"\\u043a\\u043e\\u043c\\u043f\\u0430\\u043d\\u0438\\u044f\", \"\\u0440\\u044b\\u043d\\u043e\\u043a\", \"\\u0432\\u0435\\u0441\\u044c\", \"\\u043d\\u0430\\u0432\\u044b\\u043a\", \"\\u043f\\u0438\\u0441\\u0430\\u0442\\u044c\", \"\\u043d\\u0430\\u043f\\u0440\\u0430\\u0432\\u043b\\u0435\\u043d\\u0438\\u0435\", \"\\u043f\\u0435\\u0440\\u0432\\u044b\\u0439\", \"\\u043a\\u043b\\u0438\\u0435\\u043d\\u0442\", \"\\u043f\\u0440\\u0438\\u043b\\u043e\\u0436\\u0435\\u043d\\u0438\\u0435\", \"\\u0441\\u0430\\u043c\\u044b\\u0439\", \"\\u0440\\u0430\\u0431\\u043e\\u0442\\u0430\", \"\\u043c\\u043e\\u0447\\u044c\", \"\\u0447\\u0435\\u043b\\u043e\\u0432\\u0435\\u043a\", \"\\u043f\\u0440\\u043e\\u0445\\u043e\\u0434\\u0438\\u0442\\u044c\", \"\\u043f\\u0440\\u043e\\u0441\\u0442\\u043e\", \"\\u043f\\u043e\\u044d\\u0442\\u043e\\u043c\\u0443\", \"\\u0441\\u043b\\u0443\\u0447\\u0430\\u0439\", \"\\u043f\\u043e\\u043b\\u0443\\u0447\\u0430\\u0442\\u044c\", \"\\u0432\\u0440\\u0435\\u043c\\u044f\", \"\\u043f\\u0440\\u043e\\u0435\\u043a\\u0442\", \"\\u043d\\u043e\\u0432\\u044b\\u0439\", \"\\u0431\\u043e\\u043b\\u044c\\u0448\\u043e\\u0439\", \"\\u0441\\u0442\\u0430\\u043d\\u043e\\u0432\\u0438\\u0442\\u044c\\u0441\\u044f\", \"\\u0440\\u0430\\u0431\\u043e\\u0442\\u0430\\u0442\\u044c\", \"\\u0434\\u044b\\u0440\\u0430\", \"\\u0447\\u0440\\u043d\\u043e\\u0439 \\u0434\\u044b\\u0440\\u0430\", \"\\u0442\\u0435\\u0441\\u0442 \\u043a\\u0435\\u0439\\u0441\", \"\\u0433\\u043e\\u0440\\u0438\\u0437\\u043e\\u043d\\u0442 \\u0441\\u043e\\u0431\\u044b\\u0442\\u0438\\u0435\", \"\\u0447\\u0440\\u043d\\u043e\\u0439\", \"\\u0431\\u0435\\u043b\\u044b\\u0439 \\u0434\\u044b\\u0440\\u0430\", \"\\u0431\\u0430\\u0442\\u0430\\u0440\\u0435\\u0439\\u043a\\u0430\", \"\\u043f\\u043e\\u043b\\u044c\\u0437\\u043e\\u0432\\u0430\\u0442\\u0435\\u043b\\u044c\\u0441\\u043a\\u0438\\u0439 \\u0438\\u0441\\u0442\\u043e\\u0440\\u0438\\u044f\", \"\\u0442\\u0440\\u0430\\u043d\\u0437\\u0438\\u0441\\u0442\\u043e\\u0440\", \"\\u043f\\u0435\\u0434\\u0430\\u043b\\u044c\", \"\\u0433\\u0438\\u0442\\u0430\\u0440\\u0430\", \"\\u0433\\u043e\\u0440\\u0438\\u0437\\u043e\\u043d\\u0442\", \"\\u0433\\u0438\\u0442\\u0430\\u0440\\u043d\\u044b\\u0439\", \"\\u0433\\u043e\\u0440\\u0438\\u0437\\u043e\\u043d\\u0442 \\u0441\\u043e\\u0431\\u044b\\u0442\\u0438\\u0435 \\u0447\\u0440\\u043d\\u043e\\u0439\", \"\\u0440\\u0435\\u0437\\u0438\\u0441\\u0442\\u043e\\u0440\", \"\\u0441\\u043e\\u0431\\u044b\\u0442\\u0438\\u0435 \\u0447\\u0440\\u043d\\u043e\\u0439\", \"\\u0441\\u043e\\u0431\\u044b\\u0442\\u0438\\u0435 \\u0447\\u0440\\u043d\\u043e\\u0439 \\u0434\\u044b\\u0440\\u0430\", \"\\u0432\\u0441\\u0435\\u043b\\u0435\\u043d\\u043d\\u0430\\u044f\", \"\\u0433\\u0438\\u0442\\u0430\\u0440\\u0438\\u0441\\u0442\", \"\\u0434\\u0438\\u0441\\u0442\\u043e\\u0440\\u0448\\u043d\", \"\\u0440\\u0435\\u0433\\u0440\\u0435\\u0441\\u0441\\u0438\\u043e\\u043d\\u043d\\u044b\\u0439 \\u0442\\u0435\\u0441\\u0442\", \"\\u0442\\u0435\\u043f\\u043b\\u043e\\u0432\\u0438\\u0437\\u043e\\u0440\", \"\\u0446\\u0435\\u043f\\u044c \\u043f\\u0438\\u0442\\u0430\\u043d\\u0438\\u0435\", \"\\u0441\\u0438\\u043d\\u0433\\u0443\\u043b\\u044f\\u0440\\u043d\\u043e\\u0441\\u0442\\u044c\", \"\\u043c\\u0430\\u0442\\u0435\\u0440\\u0438\\u044f \\u044d\\u043d\\u0435\\u0440\\u0433\\u0438\\u044f\", \"\\u043c\\u0443\\u0437\\u044b\\u043a\\u0430\\u043d\\u0442\", \"\\u0447\\u0440\\u043d\\u0430\\u044f\", \"\\u0447\\u0440\\u043d\\u0430\\u044f \\u0434\\u044b\\u0440\\u0430\", \"\\u0443\\u0441\\u0438\\u043b\\u0438\\u0442\\u0435\\u043b\\u044c\", \"\\u0441\\u043f\\u0440\\u0438\\u043d\\u0442\", \"\\u043c\\u0430\\u0442\\u0435\\u0440\\u0438\\u044f\", \"\\u0440\\u0435\\u0433\\u0440\\u0435\\u0441\\u0441\\u0438\\u043e\\u043d\\u043d\\u044b\\u0439\", \"\\u0442\\u0435\\u0441\\u0442\", \"\\u043a\\u0435\\u0439\\u0441\", \"\\u0431\\u0435\\u043b\\u044b\\u0439\", \"\\u043d\\u043e\\u0443\\u0442\\u0431\\u0443\\u043a\", \"\\u0446\\u0435\\u043f\\u044c\", \"\\u043f\\u043b\\u0430\\u0442\\u0430\", \"\\u0442\\u0435\\u0441\\u0442\\u0438\\u0440\\u043e\\u0432\\u0449\\u0438\\u043a\", \"\\u043c\\u0430\\u0441\\u0441\\u0430\", \"\\u043f\\u0438\\u0442\\u0430\\u043d\\u0438\\u0435\", \"\\u0441\\u043e\\u0431\\u044b\\u0442\\u0438\\u0435\", \"\\u043e\\u0437\\u0443\", \"\\u0437\\u0430\\u043c\\u044b\\u043a\\u0430\\u043d\\u0438\\u0435\", \"\\u0434\\u0438\\u043e\\u0434\", \"\\u043c\\u0435\\u0441\\u0442\\u043e\", \"\\u0441\\u0445\\u0435\\u043c\\u0430\", \"\\u0441\\u0435\\u0440\\u0432\\u0435\\u0440\", \"\\u043c\\u043e\\u0447\\u044c\", \"\\u0432\\u0440\\u0435\\u043c\\u044f\", \"\\u0432\\u0435\\u0441\\u044c\", \"\\u043d\\u043e\\u0432\\u044b\\u0439\", \"\\u0441\\u0430\\u043c\\u044b\\u0439\", \"\\u043f\\u0440\\u043e\\u0441\\u0442\\u043e\", \"\\u0441\\u043b\\u0443\\u0447\\u0430\\u0439\", \"\\u0441\\u0438\\u0441\\u0442\\u0435\\u043c\\u0430\", \"\\u0438\\u0441\\u0442\\u043e\\u0440\\u0438\\u044f\", \"\\u0433\\u043e\\u0434\", \"\\u0434\\u043e\\u0441\\u0442\\u0443\\u043f\\u043d\\u043e\\u0441\\u0442\\u044c \\u0441\\u0435\\u0442\\u044c\", \"\\u043c\\u0438\\u043a\\u0440\\u043e\\u0441\\u0442\\u0440\\u0443\\u043a\\u0442\\u0443\\u0440\\u0430\", \"\\u043c\\u043e\\u043d\\u0438\\u0442\\u043e\\u0440\\u0438\\u043d\\u0433 \\u0434\\u043e\\u0441\\u0442\\u0443\\u043f\\u043d\\u043e\\u0441\\u0442\\u044c\", \"\\u043c\\u043e\\u043d\\u0438\\u0442\\u043e\\u0440\\u0438\\u043d\\u0433 \\u0434\\u043e\\u0441\\u0442\\u0443\\u043f\\u043d\\u043e\\u0441\\u0442\\u044c \\u0441\\u0435\\u0442\\u044c\", \"\\u043c\\u043e\\u043d\\u0438\\u0442\\u043e\\u0440\\u0438\\u043d\\u0433 \\u0441\\u0435\\u0442\\u044c\", \"\\u0441\\u043e\\u0441\\u0442\\u0430\\u0432\\u043b\\u044f\\u0442\\u044c \\u043c\\u0438\\u043a\\u0440\\u043e\\u0441\\u0442\\u0440\\u0443\\u043a\\u0442\\u0443\\u0440\\u0430\", \"\\u0438\\u0437\\u043c\\u0435\\u0440\\u0435\\u043d\\u0438\\u0435 \\u0434\\u043e\\u0441\\u0442\\u0443\\u043f\\u043d\\u043e\\u0441\\u0442\\u044c\", \"\\u0438\\u0437\\u043c\\u0435\\u0440\\u0435\\u043d\\u0438\\u0435 \\u0434\\u043e\\u0441\\u0442\\u0443\\u043f\\u043d\\u043e\\u0441\\u0442\\u044c \\u0441\\u0435\\u0442\\u044c\", \"\\u043c\\u043e\\u0434\\u0435\\u043b\\u044c \\u043e\\u0441\\u043d\\u043e\\u0432\\u044b\\u0432\\u0430\\u0442\\u044c\", \"\\u0433\\u0435\\u043d\\u0435\\u0440\\u0430\\u0442\\u0438\\u0432\\u043d\\u044b\\u0439\", \"\\u0437\\u0435\\u0440\\u043d\\u043e\", \"\\u043a\\u0430\\u0447\\u0435\\u0441\\u0442\\u0432\\u043e \\u043e\\u0431\\u0441\\u043b\\u0443\\u0436\\u0438\\u0432\\u0430\\u043d\\u0438\\u0435\", \"\\u0441\\u0435\\u0442\\u044c \\u044f\\u0432\\u043b\\u044f\\u0442\\u044c\\u0441\\u044f\", \"\\u0432\\u0440\\u0435\\u043c\\u044f \\u0442\\u0435\\u0447\\u0435\\u043d\\u0438\\u0435\", \"\\u0434\\u043e\\u0441\\u0442\\u0443\\u043f\\u043d\\u043e\\u0441\\u0442\\u044c \\u0441\\u0435\\u0442\\u044c \\u044f\\u0432\\u043b\\u044f\\u0442\\u044c\\u0441\\u044f\", \"\\u043c\\u0438\\u043a\\u0440\\u043e\\u0441\\u0442\\u0440\\u0443\\u043a\\u0442\\u0443\\u0440\\u0430 \\u0441\\u0442\\u0430\\u043d\\u043e\\u0432\\u0438\\u0442\\u044c\\u0441\\u044f\", \"\\u043d\\u0435\\u0434\\u043e\\u0441\\u0442\\u0443\\u043f\\u043d\\u043e\\u0441\\u0442\\u044c\", \"\\u0440\\u0435\\u0441\\u0443\\u0440\\u0441 \\u0441\\u0435\\u0440\\u0432\\u0438\\u0441\", \"\\u0441\\u043a\\u043e\\u0440\\u043e\\u0441\\u0442\\u044c \\u043e\\u0431\\u0443\\u0447\\u0435\\u043d\\u0438\\u0435\", \"\\u0443\\u0440\\u043e\\u0432\\u0435\\u043d\\u044c \\u0434\\u043e\\u0441\\u0442\\u0443\\u043f\\u043d\\u043e\\u0441\\u0442\\u044c\", \"\\u0431\\u0435\\u0439\\u043d\\u0438\\u0442\", \"\\u0434\\u043e\\u0441\\u0442\\u0443\\u043f\\u043d\\u043e\\u0441\\u0442\\u044c \\u0441\\u0435\\u0442\\u044c \\u0438\\u0441\\u043f\\u043e\\u043b\\u044c\\u0437\\u043e\\u0432\\u0430\\u0442\\u044c\\u0441\\u044f\", \"\\u043a\\u043e\\u043d\\u0442\\u0440\\u043e\\u043b\\u044c \\u0434\\u043e\\u0441\\u0442\\u0443\\u043f\\u043d\\u043e\\u0441\\u0442\\u044c\", \"\\u043a\\u043e\\u043d\\u0442\\u0440\\u043e\\u043b\\u044c \\u0434\\u043e\\u0441\\u0442\\u0443\\u043f\\u043d\\u043e\\u0441\\u0442\\u044c \\u0441\\u0435\\u0442\\u044c\", \"\\u043c\\u043e\\u0431\\u0438\\u043b\\u044c\\u043d\\u044b\\u0439 \\u0442\\u0435\\u043b\\u0435\\u0444\\u043e\\u043d\", \"\\u043f\\u043e\\u0434\\u043a\\u043b\\u0430\\u0441\\u0441\", \"\\u043f\\u043e\\u0441\\u0442\\u0430\\u0432\\u0449\\u0438\\u043a \\u0443\\u0441\\u043b\\u0443\\u0433\\u0430\", \"\\u0442\\u0435\\u043d\\u0437\\u043e\\u0440\", \"\\u0443\\u0440\\u043e\\u0432\\u0435\\u043d\\u044c \\u043a\\u0430\\u0447\\u0435\\u0441\\u0442\\u0432\\u043e\", \"\\u0443\\u0440\\u043e\\u0432\\u0435\\u043d\\u044c \\u043e\\u0431\\u0441\\u043b\\u0443\\u0436\\u0438\\u0432\\u0430\\u043d\\u0438\\u0435\", \"\\u0434\\u043e\\u0441\\u0442\\u0443\\u043f\\u043d\\u043e\\u0441\\u0442\\u044c\", \"\\u0441\\u0435\\u0442\\u044c \\u0438\\u0441\\u043f\\u043e\\u043b\\u044c\\u0437\\u043e\\u0432\\u0430\\u0442\\u044c\\u0441\\u044f\", \"\\u0440\\u0430\\u0431\\u043e\\u0442\\u0430 \\u0441\\u0435\\u0442\\u044c\", \"\\u0441\\u0435\\u0442\\u044c\", \"\\u043e\\u0431\\u0441\\u043b\\u0443\\u0436\\u0438\\u0432\\u0430\\u043d\\u0438\\u0435\", \"\\u0441\\u0435\\u0442\\u0435\\u0432\\u043e\\u0439 \\u0443\\u0441\\u0442\\u0440\\u043e\\u0439\\u0441\\u0442\\u0432\\u043e\", \"\\u0438\\u0437\\u043e\\u0431\\u0440\\u0430\\u0436\\u0435\\u043d\\u0438\\u0435\", \"\\u0430\\u0443\\u0433\\u043c\\u0435\\u043d\\u0442\\u0430\\u0446\\u0438\\u044f\", \"\\u0441\\u0435\\u0442\\u044c \\u043c\\u043e\\u0447\\u044c\", \"\\u043f\\u0440\\u0438\\u043d\\u0446\\u0438\\u043f\", \"\\u043c\\u043e\\u043d\\u0438\\u0442\\u043e\\u0440\\u0438\\u043d\\u0433\", \"\\u043c\\u043e\\u0434\\u0435\\u043b\\u044c\", \"\\u0432\\u0438\\u0434\\u0435\\u043e\", \"\\u0441\\u0435\\u0440\\u0432\\u0438\\u0441\", \"\\u0443\\u0441\\u043b\\u0443\\u0433\\u0430\", \"\\u0441\\u0435\\u0442\\u0435\\u0432\\u043e\\u0439\", \"\\u0442\\u0435\\u0447\\u0435\\u043d\\u0438\\u0435\", \"\\u0443\\u0440\\u043e\\u0432\\u0435\\u043d\\u044c\", \"\\u043c\\u043e\\u0447\\u044c\", \"\\u0432\\u0440\\u0435\\u043c\\u044f\", \"\\u043f\\u043e\\u043b\\u044c\\u0437\\u043e\\u0432\\u0430\\u0442\\u0435\\u043b\\u044c\", \"\\u043a\\u0430\\u0447\\u0435\\u0441\\u0442\\u0432\\u043e\", \"\\u0443\\u0441\\u0442\\u0440\\u043e\\u0439\\u0441\\u0442\\u0432\\u043e\", \"\\u0440\\u0430\\u0431\\u043e\\u0442\\u0430\", \"\\u0434\\u0430\\u043d\\u043d\\u044b\\u0435\", \"\\u044f\\u0432\\u043b\\u044f\\u0442\\u044c\\u0441\\u044f\", \"\\u0438\\u043d\\u0441\\u0442\\u0440\\u0443\\u043c\\u0435\\u043d\\u0442\", \"\\u043f\\u0440\\u043e\\u0431\\u043b\\u0435\\u043c\\u0430\", \"\\u0441\\u043e\\u0437\\u0434\\u0430\\u0432\\u0430\\u0442\\u044c\", \"\\u0441\\u0438\\u0441\\u0442\\u0435\\u043c\\u0430\", \"\\u0438\\u0441\\u043f\\u043e\\u043b\\u044c\\u0437\\u043e\\u0432\\u0430\\u0442\\u044c\\u0441\\u044f\", \"\\u0434\\u043e\\u043b\\u0436\\u043d\\u044b\\u0439\", \"\\u0438\\u0441\\u043f\\u043e\\u043b\\u044c\\u0437\\u043e\\u0432\\u0430\\u0442\\u044c\", \"\\u043e\\u0441\\u043d\\u043e\\u0432\\u043d\\u043e\\u0439\", \"\\u0432\\u0435\\u0441\\u044c\", \"\\u0444\\u0443\\u043d\\u043a\\u0446\\u0438\\u044f\", \"\\u0441\\u0443\\u0431\\u0434\", \"\\u043f\\u0430\\u043a\\u0435\\u0442 \\u0441\\u0443\\u0431\\u0434\", \"\\u0433\\u043b\\u043e\\u0431\\u0430\\u043b\\u044c\\u043d\\u044b\\u0439 \\u043f\\u0435\\u0440\\u0435\\u043c\\u0435\\u043d\\u043d\\u044b\\u0439\", \"\\u0441\\u0442\\u0435\\u0433\\u0430\\u043d\\u043e\\u0433\\u0440\\u0430\\u0444\\u0438\\u044f\", \"\\u0444\\u0443\\u043d\\u043a\\u0446\\u0438\\u043e\\u043d\\u0430\\u043b\\u044c\\u043d\\u043e\\u0441\\u0442\\u044c \\u043f\\u0430\\u043a\\u0435\\u0442\", \"\\u0444\\u0443\\u043d\\u043a\\u0446\\u0438\\u044f \\u0438\\u043d\\u0438\\u0446\\u0438\\u0430\\u043b\\u0438\\u0437\\u0430\\u0446\\u0438\\u044f\", \"\\u0438\\u043d\\u0438\\u0446\\u0438\\u0430\\u043b\\u0438\\u0437\\u0430\\u0446\\u0438\\u044f \\u043f\\u0430\\u043a\\u0435\\u0442\", \"\\u043f\\u0430\\u043a\\u0435\\u0442\\u043d\\u044b\\u0439\", \"\\u0442\\u0435\\u043b\\u043e \\u043f\\u0430\\u043a\\u0435\\u0442\", \"\\u043d\\u043e\\u0432\\u044b\\u0439 \\u0430\\u043b\\u0433\\u043e\\u0440\\u0438\\u0442\\u043c\", \"\\u043f\\u0435\\u0440\\u0435\\u043c\\u0435\\u043d\\u043d\\u044b\\u0439 \\u043f\\u0430\\u043a\\u0435\\u0442\", \"\\u0447\\u0443\\u0432\\u0441\\u0442\\u0432\\u0438\\u0442\\u0435\\u043b\\u044c\\u043d\\u044b\\u0439 \\u0438\\u043d\\u0444\\u043e\\u0440\\u043c\\u0430\\u0446\\u0438\\u044f\", \"\\u0433\\u043b\\u043e\\u0431\\u0430\\u043b\\u044c\\u043d\\u044b\\u0439 \\u043f\\u0435\\u0440\\u0435\\u043c\\u0435\\u043d\\u043d\\u044b\\u0439 \\u043f\\u0430\\u043a\\u0435\\u0442\", \"\\u043f\\u043e\\u0434\\u0434\\u0435\\u0440\\u0436\\u043a\\u0430 \\u0444\\u0443\\u043d\\u043a\\u0446\\u0438\\u043e\\u043d\\u0430\\u043b\\u044c\\u043d\\u043e\\u0441\\u0442\\u044c\", \"\\u043f\\u043e\\u0434\\u0434\\u0435\\u0440\\u0436\\u043a\\u0430 \\u0444\\u0443\\u043d\\u043a\\u0446\\u0438\\u043e\\u043d\\u0430\\u043b\\u044c\\u043d\\u043e\\u0441\\u0442\\u044c \\u043f\\u0430\\u043a\\u0435\\u0442\", \"\\u0444\\u0443\\u043d\\u043a\\u0446\\u0438\\u044f \\u043f\\u0430\\u043a\\u0435\\u0442\", \"\\u044d\\u043b\\u0435\\u043c\\u0435\\u043d\\u0442 \\u043f\\u0430\\u043a\\u0435\\u0442\", \"\\u0432\\u043d\\u0435\\u0448\\u043d\\u0438\\u0439 \\u0437\\u0430\\u0432\\u0438\\u0441\\u0438\\u043c\\u043e\\u0441\\u0442\\u044c\", \"\\u043f\\u0430\\u043a\\u0435\\u0442 \\u0434\\u043e\\u0441\\u0442\\u0443\\u043f\\u043d\\u044b\\u0439\", \"\\u043f\\u0430\\u043a\\u0435\\u0442 \\u043a\\u043e\\u043c\\u0430\\u043d\\u0434\\u0430\", \"\\u0441\\u0435\\u043a\\u0446\\u0438\\u044f \\u0438\\u043d\\u0438\\u0446\\u0438\\u0430\\u043b\\u0438\\u0437\\u0430\\u0446\\u0438\\u044f\", \"\\u0444\\u0443\\u043d\\u043a\\u0446\\u0438\\u044f \\u043f\\u0440\\u043e\\u0446\\u0435\\u0434\\u0443\\u0440\\u0430\", \"\\u0441\\u0435\\u0441\\u0441\\u0438\\u044f\", \"\\u0437\\u0430\\u0432\\u0435\\u0440\\u0448\\u0430\\u0442\\u044c\\u0441\\u044f \\u043e\\u0448\\u0438\\u0431\\u043a\\u0430\", \"\\u0438\\u0437\\u043c\\u0435\\u043d\\u0435\\u043d\\u0438\\u0435 \\u043f\\u0430\\u043a\\u0435\\u0442\", \"\\u043a\\u043e\\u043c\\u0430\\u043d\\u0434\\u0430 \\u0437\\u0430\\u0432\\u0435\\u0440\\u0448\\u0430\\u0442\\u044c\\u0441\\u044f\", \"\\u043a\\u043e\\u043c\\u0430\\u043d\\u0434\\u0430 \\u0437\\u0430\\u0432\\u0435\\u0440\\u0448\\u0430\\u0442\\u044c\\u0441\\u044f \\u043e\\u0448\\u0438\\u0431\\u043a\\u0430\", \"\\u043f\\u0440\\u0430\\u0433\\u043c\\u0430\", \"\\u043f\\u0440\\u043e\\u0446\\u0435\\u0434\\u0443\\u0440\\u0430 \\u0444\\u0443\\u043d\\u043a\\u0446\\u0438\\u044f\", \"\\u0431\\u0435\\u0437\\u043e\\u0431\\u0438\\u0434\\u043d\\u044b\\u0439\", \"\\u0447\\u0443\\u0432\\u0441\\u0442\\u0432\\u0438\\u0442\\u0435\\u043b\\u044c\\u043d\\u044b\\u0439\", \"\\u043f\\u0430\\u043a\\u0435\\u0442\", \"\\u0438\\u043d\\u0438\\u0446\\u0438\\u0430\\u043b\\u0438\\u0437\\u0430\\u0446\\u0438\\u044f\", \"\\u043f\\u0440\\u043e\\u0446\\u0435\\u0434\\u0443\\u0440\\u0430\", \"\\u0442\\u0435\\u043b\\u043e\", \"\\u043c\\u043e\\u0434\\u0438\\u0444\\u0438\\u043a\\u0430\\u0442\\u043e\\u0440\", \"\\u043e\\u0431\\u0440\\u0430\\u0449\\u0435\\u043d\\u0438\\u0435\", \"\\u0444\\u0443\\u043d\\u043a\\u0446\\u0438\\u044f\", \"\\u0433\\u043b\\u043e\\u0431\\u0430\\u043b\\u044c\\u043d\\u044b\\u0439\", \"\\u043f\\u0435\\u0440\\u0435\\u043c\\u0435\\u043d\\u043d\\u044b\\u0439\", \"\\u0430\\u043b\\u0433\\u043e\\u0440\\u0438\\u0442\\u043c\", \"\\u0437\\u0430\\u0432\\u0438\\u0441\\u0438\\u043c\\u043e\\u0441\\u0442\\u044c\", \"\\u043a\\u043e\\u043c\\u0430\\u043d\\u0434\\u0430\", \"\\u0441\\u0445\\u0435\\u043c\\u0430\", \"\\u0438\\u043d\\u0444\\u043e\\u0440\\u043c\\u0430\\u0446\\u0438\\u044f\", \"\\u0444\\u0443\\u043d\\u043a\\u0446\\u0438\\u043e\\u043d\\u0430\\u043b\\u044c\\u043d\\u043e\\u0441\\u0442\\u044c\", \"\\u043d\\u043e\\u0432\\u044b\\u0439\", \"\\u0438\\u0433\\u0440\\u0430\", \"\\u0442\\u0438\\u043f\", \"\\u043c\\u043e\\u0447\\u044c\", \"\\u0432\\u0435\\u0441\\u044c\", \"\\u0438\\u043c\\u044f\", \"\\u0438\\u0441\\u043f\\u043e\\u043b\\u044c\\u0437\\u043e\\u0432\\u0430\\u043d\\u0438\\u0435\", \"\\u044d\\u043b\\u0435\\u043c\\u0435\\u043d\\u0442\", \"\\u043f\\u043e\\u0434\\u0434\\u0435\\u0440\\u0436\\u043a\\u0430\", \"\\u043d\\u0430\\u043f\\u0440\\u0438\\u043c\\u0435\\u0440\", \"\\u044f\\u0432\\u043b\\u044f\\u0442\\u044c\\u0441\\u044f\", \"\\u043f\\u0440\\u0438\\u0432\\u043e\\u0434\\u0438\\u0442\\u044c\", \"\\u043a\\u043e\\u0434\", \"\\u043f\\u043e\\u043c\\u043e\\u0449\\u044c\", \"\\u0434\\u043e\\u0441\\u0442\\u0443\\u043f\\u043d\\u044b\\u0439\", \"\\u0441\\u0448\\u0430 \\u0441\\u0448\\u0430\", \"\\u0441\\u043f\\u0443\\u0442\\u043d\\u0438\\u043a\\u043e\\u0432\\u044b\\u0439\", \"\\u0441\\u0448\\u0430 \\u0441\\u0448\\u0430 \\u0441\\u0448\\u0430\", \"\\u0441\\u043f\\u0443\\u0442\\u043d\\u0438\\u043a\", \"\\u0433\\u0440\\u0443\\u0437\", \"\\u0440\\u0430\\u043a\\u0435\\u0442\\u0430\", \"\\u0440\\u043e\\u0441\\u0441\\u0438\\u044f \\u0441\\u0448\\u0430\", \"\\u0441\\u044a\\u043c\\u043a\\u0438\", \"\\u0430\\u043f\\u043f\\u0430\\u0440\\u0430\\u0442\", \"\\u0430\\u0432\\u0442\\u043e\\u043c\\u0430\\u0442\\u0438\\u0447\\u0435\\u0441\\u043a\\u0438\\u0439 \\u043e\\u0442\\u043c\\u0435\\u043d\\u0430\", \"\\u043a\\u0438\\u043b\\u043e\\u0433\\u0440\\u0430\\u043c\\u043c \\u0433\\u0440\\u0443\\u0437\", \"\\u043a\\u0438\\u0442\\u0430\\u0439 \\u043a\\u0438\\u0442\\u0430\\u0439\", \"\\u0440\\u043e\\u0441\\u0441\\u0438\\u044f \\u0441\\u0448\\u0430 \\u0441\\u0448\\u0430\", \"\\u043d\\u0430\\u0431\\u043b\\u044e\\u0434\\u0430\\u0442\\u0435\\u043b\\u044c\", \"\\u0441\\u043d\\u0438\\u043c\\u043e\\u043a\", \"\\u0443\\u0441\\u0442\\u0440\\u043e\\u0439\\u0441\\u0442\\u0432\\u043e \\u043f\\u0440\\u0435\\u0434\\u043e\\u0441\\u0442\\u0430\\u0432\\u043b\\u044f\\u0442\\u044c\", \"\\u043a\\u043e\\u0441\\u043c\\u0438\\u0447\\u0435\\u0441\\u043a\\u0438\\u0439 \\u0430\\u043f\\u043f\\u0430\\u0440\\u0430\\u0442\", \"\\u043c\\u0430\\u043b\\u044b\\u0439 \\u0441\\u043f\\u0443\\u0442\\u043d\\u0438\\u043a\", \"\\u043f\\u0435\\u0440\\u0432\\u044b\\u0439 \\u0430\\u0440\\u0433\\u0443\\u043c\\u0435\\u043d\\u0442\", \"\\u0440\\u043e\\u0441\\u0441\\u0438\\u044f \\u0440\\u043e\\u0441\\u0441\\u0438\\u044f\", \"\\u0430\\u0441\\u0438\\u043d\\u0445\\u0440\\u043e\\u043d\\u043d\\u044b\\u0439 \\u043a\\u043e\\u043d\\u0442\\u0435\\u043a\\u0441\\u0442\", \"\\u0430\\u0441\\u0438\\u043d\\u0445\\u0440\\u043e\\u043d\\u043d\\u044b\\u0439 \\u0446\\u0435\\u043f\\u043e\\u0447\\u043a\\u0430\", \"\\u0431\\u0435\\u043a\\u0435\\u043d\\u0434\", \"\\u0432\\u043b\\u0438\\u044f\\u043d\\u0438\\u0435 \\u043f\\u0440\\u043e\\u0446\\u0435\\u0441\\u0441\\u043e\\u0440\", \"\\u0433\\u0440\\u0443\\u0437 \\u043e\\u0440\\u0431\\u0438\\u0442\\u0430\", \"\\u0434\\u0440\\u0430\\u0439\\u0432\\u0435\\u0440 \\u0443\\u0441\\u0442\\u0440\\u043e\\u0439\\u0441\\u0442\\u0432\\u043e\", \"\\u0437\\u0430\\u043f\\u0443\\u0441\\u043a\\u0430\\u0442\\u044c \\u043f\\u0440\\u043e\\u0433\\u0440\\u0430\\u043c\\u043c\\u0430\", \"\\u0438\\u043d\\u0434\\u0438\\u044f\", \"\\u043a\\u043e\\u043c\\u043f\\u043e\\u043d\\u0435\\u043d\\u0442 \\u043e\\u043f\\u0435\\u0440\\u0430\\u0446\\u0438\\u043e\\u043d\\u043d\\u044b\\u0439\", \"\\u043d\\u0430\\u0442\\u0438\\u0432\\u043d\\u044b\\u0439\", \"\\u043e\\u0442\\u043c\\u0435\\u043d\\u0430\", \"\\u043a\\u0438\\u043b\\u043e\\u0433\\u0440\\u0430\\u043c\\u043c\", \"\\u043c\\u043e\\u0431\\u0438\\u043b\\u044c\\u043d\\u044b\\u0439 \\u0443\\u0441\\u0442\\u0440\\u043e\\u0439\\u0441\\u0442\\u0432\\u043e\", \"\\u043a\\u043e\\u0441\\u043c\\u0438\\u0447\\u0435\\u0441\\u043a\\u0438\\u0439\", \"\\u043e\\u043f\\u0435\\u0440\\u0430\\u0446\\u0438\\u043e\\u043d\\u043d\\u044b\\u0439 \\u0441\\u0438\\u0441\\u0442\\u0435\\u043c\\u0430\", \"\\u043e\\u043f\\u0435\\u0440\\u0430\\u0446\\u0438\\u043e\\u043d\\u043d\\u044b\\u0439\", \"\\u0441\\u0448\\u0430\", \"\\u0430\\u0441\\u0438\\u043d\\u0445\\u0440\\u043e\\u043d\\u043d\\u044b\\u0439\", \"\\u043e\\u0442\\u043c\\u0435\\u043d\\u044f\\u0442\\u044c\", \"\\u043a\\u0438\\u0442\\u0430\\u0439\", \"\\u0440\\u043e\\u0441\\u0441\\u0438\\u044f\", \"\\u043a\\u043e\\u043c\\u043f\\u044c\\u044e\\u0442\\u0435\\u0440\", \"\\u043f\\u0440\\u043e\\u0433\\u0440\\u0430\\u043c\\u043c\\u0430\", \"\\u0441\\u043e\\u0431\\u044b\\u0442\\u0438\\u0435\", \"\\u0437\\u0430\\u043f\\u0443\\u0441\\u043a\", \"\\u0441\\u0438\\u0441\\u0442\\u0435\\u043c\\u0430\", \"\\u0437\\u0430\\u043f\\u0443\\u0441\\u043a\\u0430\\u0442\\u044c\", \"\\u043e\\u0431\\u0435\\u0441\\u043f\\u0435\\u0447\\u0438\\u0432\\u0430\\u0442\\u044c\", \"\\u0440\\u0430\\u0437\\u0440\\u0435\\u0448\\u0435\\u043d\\u0438\\u0435\", \"\\u0443\\u0441\\u0442\\u0440\\u043e\\u0439\\u0441\\u0442\\u0432\\u043e\", \"\\u043a\\u0430\\u0436\\u0434\\u044b\\u0439\", \"\\u043c\\u0435\\u0442\\u043e\\u0434\", \"\\u043c\\u043e\\u0447\\u044c\", \"\\u0434\\u0430\\u043d\\u043d\\u044b\\u0435\", \"\\u0440\\u0435\\u0430\\u043b\\u0438\\u0437\\u0430\\u0446\\u0438\\u044f\", \"\\u0440\\u0435\\u0441\\u0443\\u0440\\u0441\", \"\\u043d\\u0430\\u043f\\u0440\\u0438\\u043c\\u0435\\u0440\", \"\\u0437\\u0430\\u043f\\u0440\\u043e\\u0441\", \"\\u0440\\u0430\\u0437\\u043b\\u0438\\u0447\\u043d\\u044b\\u0439\", \"\\u043d\\u043e\\u0432\\u044b\\u0439\", \"\\u043f\\u043e\\u043b\\u0443\\u0447\\u0430\\u0442\\u044c\", \"\\u0432\\u0435\\u0441\\u044c\", \"\\u043f\\u0435\\u0440\\u0432\\u044b\\u0439\", \"\\u0441\\u043e\\u0437\\u0434\\u0430\\u0432\\u0430\\u0442\\u044c\", \"\\u043a\\u043e\\u043c\\u043f\\u0430\\u043d\\u0438\\u044f\", \"\\u0438\\u0441\\u043f\\u043e\\u043b\\u044c\\u0437\\u043e\\u0432\\u0430\\u0442\\u044c\", \"\\u0432\\u043e\\u0437\\u043c\\u043e\\u0436\\u043d\\u043e\\u0441\\u0442\\u044c\", \"\\u0444\\u0430\\u0431\\u043b\\u0430\\u0431\", \"\\u0437\\u043d\\u0430\\u0447\\u0435\\u043d\\u0438\\u0435 \\u0441\\u0447\\u0435\\u0442\\u0447\\u0438\\u043a\", \"\\u043c\\u0435\\u0439\\u043a\\u0435\\u0440\\u0441\\u043a\\u0438\\u0439\", \"\\u043c\\u0435\\u0439\\u043a\\u0435\\u0440\\u0441\\u043a\\u0438\\u0439 \\u0434\\u0432\\u0438\\u0436\\u0435\\u043d\\u0438\\u0435\", \"\\u0440\\u0435\\u043c\\u0430\\u0441\\u0442\\u0435\\u0440\", \"\\u043a\\u043e\\u043b\\u043b\\u0431\\u044d\\u043a\", \"\\u0441\\u0430\\u043c\\u043e\\u0434\\u0435\\u043b\\u044c\\u0449\\u0438\\u043a\", \"\\u0441\\u0447\\u0435\\u0442\\u0447\\u0438\\u043a\", \"\\u0430\\u043c\\u0430\\u0437\\u043e\\u043d\\u043a\\u0430\", \"\\u0438\\u043c\\u043c\\u0443\\u043d\\u0438\\u0442\\u0435\\u0442\", \"\\u043c\\u043e\\u043b\\u043d\\u0438\\u044f\", \"\\u0441\\u043d\\u0438\\u043f\\u043f\\u0435\\u0442\", \"\\u0441\\u043e\\u0441\\u0442\\u043e\\u044f\\u043d\\u0438\\u0435 \\u0433\\u043e\\u043d\\u043a\\u0430\", \"\\u0432\\u0430\\u0440\\u0438\\u0430\\u043d\\u0442 \\u0440\\u0430\\u0437\\u0432\\u0438\\u0442\\u0438\\u0435\", \"\\u0434\\u0440\\u0443\\u0438\\u0434\", \"\\u0437\\u0432\\u0443\\u043a\\u043e\\u0432\\u043e\\u0439 \\u0441\\u043e\\u043f\\u0440\\u043e\\u0432\\u043e\\u0436\\u0434\\u0435\\u043d\\u0438\\u0435\", \"\\u0437\\u0435\\u043b\\u044c\\u0435\", \"\\u0437\\u043e\\u043d\\u0430 \\u0443\\u0436\\u0430\\u0441\", \"\\u0438\\u0433\\u0440\\u0430\\u0442\\u044c \\u043b\\u0438\\u0448\\u044c\", \"\\u043a\\u043e\\u043b\\u0441\", \"\\u043e\\u0433\\u043d\\u0435\\u043d\\u043d\\u044b\\u0439\", \"\\u043e\\u0447\\u043a\\u043e\", \"\\u0441\\u0430\\u043d\\u043a\\u0442\\u0443\\u0430\\u0440\\u0438\\u0439\", \"\\u0441\\u043a\\u0438\\u043b\\u043b\\u043e\\u0432\", \"\\u0441\\u0442\\u0438\\u0445\\u0438\\u044f\", \"\\u0442\\u0430\\u043b\\u0438\\u0441\\u043c\\u0430\\u043d\", \"\\u0443\\u0440\\u043e\\u0432\\u0435\\u043d\\u044c \\u0441\\u043b\\u043e\\u0436\\u043d\\u043e\\u0441\\u0442\\u044c\", \"\\u0443\\u0440\\u043e\\u043d\", \"\\u043e\\u0431\\u043d\\u043e\\u0432\\u043b\\u0435\\u043d\\u0438\\u0435 \\u043b\\u043e\\u043a\\u0430\\u043b\\u044c\\u043d\\u044b\\u0439\", \"\\u043e\\u0431\\u043d\\u043e\\u0432\\u043b\\u0435\\u043d\\u0438\\u0435 \\u043b\\u043e\\u043a\\u0430\\u043b\\u044c\\u043d\\u044b\\u0439 \\u0441\\u043e\\u0441\\u0442\\u043e\\u044f\\u043d\\u0438\\u0435\", \"\\u043c\\u043e\\u0434\\u0438\\u0444\\u0438\\u043a\\u0430\\u0446\\u0438\\u044f\", \"\\u043f\\u0435\\u0440\\u0441\\u043e\\u043d\\u0430\\u0436\", \"\\u043b\\u043e\\u043a\\u0430\\u043b\\u044c\\u043d\\u044b\\u0439 \\u0441\\u043e\\u0441\\u0442\\u043e\\u044f\\u043d\\u0438\\u0435\", \"\\u0441\\u044e\\u0436\\u0435\\u0442\", \"\\u043f\\u043e\\u0441\\u043b\\u0435\\u0434\\u043d\\u0438\\u0439 \\u0437\\u0430\\u043f\\u0440\\u043e\\u0441\", \"\\u0431\\u043e\\u0441\\u0441\", \"\\u0434\\u0432\\u0438\\u0436\\u0435\\u043d\\u0438\\u0435\", \"\\u0438\\u043c\\u0438\\u0442\\u0438\\u0440\\u043e\\u0432\\u0430\\u0442\\u044c\", \"\\u0438\\u0433\\u0440\\u0430\\u0442\\u044c\", \"\\u0438\\u0433\\u0440\\u0430\", \"\\u0440\\u043e\\u0431\\u043e\\u0442\", \"\\u043e\\u0431\\u043d\\u043e\\u0432\\u043b\\u044f\\u0442\\u044c \\u0437\\u043d\\u0430\\u0447\\u0435\\u043d\\u0438\\u0435\", \"\\u0434\\u0435\\u043b\\u0430\\u0442\\u044c \\u0440\\u0443\\u043a\\u0430\", \"\\u0433\\u0435\\u0440\\u043e\\u0439\", \"\\u043b\\u043e\\u043a\\u0430\\u0446\\u0438\\u044f\", \"\\u0444\\u0430\\u043d\\u0430\\u0442\", \"\\u0440\\u0430\\u0434\\u0438\", \"\\u0437\\u0430\\u043f\\u0440\\u043e\\u0441\", \"\\u043a\\u043d\\u043e\\u043f\\u043a\\u0430\", \"\\u0437\\u043d\\u0430\\u0447\\u0435\\u043d\\u0438\\u0435\", \"\\u043f\\u0440\\u043e\\u0435\\u043a\\u0442\", \"\\u0434\\u0435\\u043b\\u0430\\u0442\\u044c\", \"\\u043a\\u0430\\u0436\\u0434\\u044b\\u0439\", \"\\u0432\\u044b\\u043f\\u043e\\u043b\\u043d\\u044f\\u0442\\u044c\\u0441\\u044f\", \"\\u043c\\u043e\\u0447\\u044c\", \"\\u0440\\u0430\\u0437\\u0432\\u0438\\u0442\\u0438\\u0435\", \"\\u0432\\u0435\\u0441\\u044c\", \"\\u043f\\u0435\\u0440\\u0432\\u044b\\u0439\", \"\\u043f\\u043e\\u0441\\u043b\\u0435\\u0434\\u043d\\u0438\\u0439\", \"\\u0441\\u0442\\u0430\\u043d\\u043e\\u0432\\u0438\\u0442\\u044c\\u0441\\u044f\", \"\\u0441\\u043e\\u0437\\u0434\\u0430\\u0432\\u0430\\u0442\\u044c\", \"\\u0433\\u043e\\u0434\", \"\\u043d\\u043e\\u0432\\u044b\\u0439\", \"\\u0441\\u0434\\u0435\\u043b\\u0430\\u0442\\u044c\", \"\\u043f\\u043e\\u044d\\u0442\\u043e\\u043c\\u0443\", \"\\u0443\\u0440\\u043e\\u0432\\u0435\\u043d\\u044c\", \"\\u044f\\u0432\\u043b\\u044f\\u0442\\u044c\\u0441\\u044f\", \"\\u0434\\u0430\\u043d\\u043d\\u044b\\u0435\", \"\\u0441\\u0435\\u0440\\u0432\\u0435\\u0440\", \"\\u0432\\u0440\\u0435\\u043c\\u044f\", \"\\u0440\\u0430\\u0437\\u0440\\u0430\\u0431\\u043e\\u0442\\u043a\\u0430\", \"\\u0430\\u043d\\u043e\\u043d\\u0438\\u043c\\u043d\\u044b\\u0439 \\u043f\\u0440\\u043e\\u0441\\u0442\\u0440\\u0430\\u043d\\u0441\\u0442\\u0432\\u043e\", \"\\u0430\\u043d\\u043e\\u043d\\u0438\\u043c\\u043d\\u044b\\u0439 \\u043f\\u0440\\u043e\\u0441\\u0442\\u0440\\u0430\\u043d\\u0441\\u0442\\u0432\\u043e \\u0438\\u043c\\u044f\", \"\\u043f\\u0440\\u043e\\u0441\\u0442\\u0440\\u0430\\u043d\\u0441\\u0442\\u0432\\u043e \\u0438\\u043c\\u044f\", \"\\u0432\\u043d\\u0443\\u0442\\u0440\\u0435\\u043d\\u043d\\u0438\\u0439 \\u0441\\u0432\\u044f\\u0437\\u044c\", \"\\u0435\\u0434\\u0438\\u043d\\u0438\\u0446\\u0430 \\u0442\\u0440\\u0430\\u043d\\u0441\\u043b\\u044f\\u0446\\u0438\\u044f\", \"\\u043b\\u043e\\u043a\\u0430\\u043b\\u044c\\u043d\\u044b\\u0439 \\u0437\\u043d\\u0430\\u0447\\u0435\\u043d\\u0438\\u0435\", \"\\u0430\\u043d\\u043e\\u043d\\u0438\\u043c\\u043d\\u044b\\u0439\", \"\\u0431\\u0435\\u043b\\u044b\\u0439 \\u0441\\u043f\\u0438\\u0441\\u043e\\u043a\", \"\\u0432\\u0435\\u0434\\u0435\\u043d\\u0438\\u0435\", \"\\u0432\\u0435\\u0434\\u0435\\u043d\\u0438\\u0435 \\u0436\\u0443\\u0440\\u043d\\u0430\\u043b\", \"\\u043a\\u043e\\u043d\\u0442\\u0435\\u0439\\u043d\\u0435\\u0440 \\u0438\\u043c\\u044f\", \"\\u043a\\u043e\\u043d\\u0442\\u0435\\u0439\\u043d\\u0435\\u0440 \\u0438\\u043c\\u044f \\u043f\\u043e\\u043b\\u044c\\u0437\\u043e\\u0432\\u0430\\u0442\\u0435\\u043b\\u044c\", \"\\u043c\\u0435\\u0442\\u043e\\u0434 \\u043e\\u0431\\u0435\\u0441\\u043f\\u0435\\u0447\\u0435\\u043d\\u0438\\u0435\", \"\\u043c\\u0435\\u0442\\u043e\\u0434 \\u043e\\u0431\\u0435\\u0441\\u043f\\u0435\\u0447\\u0435\\u043d\\u0438\\u0435 \\u0431\\u0435\\u0437\\u043e\\u043f\\u0430\\u0441\\u043d\\u043e\\u0441\\u0442\\u044c\", \"\\u0444\\u0430\\u0439\\u043b \\u0441\\u043e\\u0441\\u0442\\u043e\\u044f\\u043d\\u0438\\u0435\", \"\\u0432\\u0438\\u0434\\u0438\\u043c\\u043e\\u0441\\u0442\\u044c\", \"\\u0437\\u0430\\u0449\\u0438\\u0442\\u0430 \\u043a\\u043b\\u0430\\u0441\\u0442\\u0435\\u0440\", \"\\u043a\\u043b\\u0430\\u0441\\u0442\\u0435\\u0440 \\u0430\\u0442\\u0430\\u043a\\u0430\", \"\\u0441\\u0443\\u0431\\u044a\\u0435\\u043a\\u0442\", \"\\u0432\\u0438\\u0434\\u0438\\u043c\\u043e\\u0441\\u0442\\u044c \\u043f\\u0440\\u043e\\u0441\\u0442\\u0440\\u0430\\u043d\\u0441\\u0442\\u0432\\u043e\", \"\\u0432\\u0438\\u0434\\u0438\\u043c\\u043e\\u0441\\u0442\\u044c \\u043f\\u0440\\u043e\\u0441\\u0442\\u0440\\u0430\\u043d\\u0441\\u0442\\u0432\\u043e \\u0438\\u043c\\u044f\", \"\\u0433\\u043b\\u043e\\u0431\\u0430\\u043b\\u044c\\u043d\\u044b\\u0439 \\u043e\\u0431\\u043b\\u0430\\u0441\\u0442\\u044c\", \"\\u0433\\u043b\\u043e\\u0431\\u0430\\u043b\\u044c\\u043d\\u044b\\u0439 \\u043e\\u0431\\u043b\\u0430\\u0441\\u0442\\u044c \\u0432\\u0438\\u0434\\u0438\\u043c\\u043e\\u0441\\u0442\\u044c\", \"\\u0440\\u0430\\u0437\\u0432\\u0435\\u0440\\u0442\\u044b\\u0432\\u0430\\u0442\\u044c \\u043a\\u043e\\u0434\", \"\\u0442\\u0438\\u043f \\u0438\\u043d\\u0441\\u0442\\u0430\\u043d\\u0441\", \"\\u043e\\u0431\\u0435\\u0441\\u043f\\u0435\\u0447\\u0435\\u043d\\u0438\\u0435 \\u0431\\u0435\\u0437\\u043e\\u043f\\u0430\\u0441\\u043d\\u043e\\u0441\\u0442\\u044c\", \"\\u0432\\u0435\\u0434\\u0435\\u043d\\u0438\\u0435 \\u0436\\u0443\\u0440\\u043d\\u0430\\u043b \\u0430\\u0443\\u0434\\u0438\\u0442\", \"\\u0436\\u0443\\u0440\\u043d\\u0430\\u043b \\u0430\\u0443\\u0434\\u0438\\u0442\", \"\\u0437\\u0430\\u043f\\u0443\\u0441\\u043a \\u043a\\u043e\\u043d\\u0442\\u0435\\u0439\\u043d\\u0435\\u0440 \\u0438\\u043c\\u044f\", \"\\u0441\\u043d\\u0438\\u0436\\u0430\\u0442\\u044c \\u0440\\u0438\\u0441\\u043a\", \"\\u043e\\u0431\\u043b\\u0430\\u0441\\u0442\\u044c \\u0432\\u0438\\u0434\\u0438\\u043c\\u043e\\u0441\\u0442\\u044c\", \"\\u0432\\u043d\\u0435\\u0448\\u043d\\u0438\\u0439 \\u0441\\u0432\\u044f\\u0437\\u044c\", \"\\u0438\\u043c\\u044f\", \"\\u043a\\u043b\\u044e\\u0447\\u0435\\u0432\\u043e\\u0439 \\u0441\\u043b\\u043e\\u0432\\u043e\", \"\\u043a\\u043b\\u0430\\u0441\\u0442\\u0435\\u0440\", \"\\u043f\\u0440\\u043e\\u0441\\u0442\\u0440\\u0430\\u043d\\u0441\\u0442\\u0432\\u043e\", \"\\u0438\\u043d\\u0444\\u0440\\u0430\\u0441\\u0442\\u0440\\u0443\\u043a\\u0442\\u0443\\u0440\\u0430\", \"\\u0437\\u0430\\u0449\\u0438\\u0442\\u0430\", \"\\u0431\\u0435\\u0437\\u043e\\u043f\\u0430\\u0441\\u043d\\u043e\\u0441\\u0442\\u044c\", \"\\u043a\\u043e\\u043d\\u0442\\u0435\\u0439\\u043d\\u0435\\u0440\", \"\\u043f\\u0435\\u0440\\u0435\\u043c\\u0435\\u043d\\u043d\\u044b\\u0439\", \"\\u0435\\u0434\\u0438\\u043d\\u0438\\u0446\\u0430\", \"\\u0442\\u0440\\u0430\\u043d\\u0441\\u043b\\u044f\\u0446\\u0438\\u044f\", \"\\u043a\\u043e\\u0434\", \"\\u0441\\u0432\\u044f\\u0437\\u044c\", \"\\u0434\\u043e\\u0441\\u0442\\u0443\\u043f\", \"\\u0440\\u0435\\u0441\\u0443\\u0440\\u0441\", \"\\u0447\\u043b\\u0435\\u043d\", \"\\u0438\\u043d\\u0441\\u0442\\u0430\\u043d\\u0441\", \"\\u0444\\u0443\\u043d\\u043a\\u0446\\u0438\\u044f\", \"\\u0438\\u0441\\u043f\\u043e\\u043b\\u044c\\u0437\\u043e\\u0432\\u0430\\u0442\\u044c\", \"\\u043b\\u043e\\u043a\\u0430\\u043b\\u044c\\u043d\\u044b\\u0439\", \"\\u043f\\u043e\\u043b\\u044c\\u0437\\u043e\\u0432\\u0430\\u0442\\u0435\\u043b\\u044c\", \"\\u043c\\u043e\\u0447\\u044c\", \"\\u0432\\u043d\\u0443\\u0442\\u0440\\u0435\\u043d\\u043d\\u0438\\u0439\", \"\\u0444\\u0430\\u0439\\u043b\", \"\\u043e\\u0441\\u043d\\u043e\\u0432\\u0430\", \"\\u0432\\u0435\\u0441\\u044c\", \"\\u0441\\u043e\\u0437\\u0434\\u0430\\u0432\\u0430\\u0442\\u044c\", \"\\u043f\\u0440\\u043e\\u0446\\u0435\\u0441\\u0441\", \"\\u0438\\u043c\\u0435\\u0442\\u044c\", \"\\u0442\\u0438\\u043f\", \"\\u0437\\u043d\\u0430\\u0447\\u0435\\u043d\\u0438\\u0435\", \"\\u043f\\u043e\\u0437\\u0432\\u043e\\u043b\\u044f\\u0442\\u044c\", \"\\u043a\\u043e\\u043c\\u0430\\u043d\\u0434\\u0430\", \"\\u0448\\u0440\\u0438\\u0444\\u0442\", \"\\u0438\\u043d\\u0442\\u0435\\u0440\\u0444\\u0435\\u0440\\u0435\\u043d\\u0446\\u0438\\u044f\", \"\\u0440\\u0430\\u0431\\u043e\\u0447\\u0438\\u0439 \\u0447\\u0430\\u0441\\u0442\\u043e\\u0442\\u0430\", \"\\u0442\\u043e\\u0447\\u043a\\u0430 \\u0434\\u043e\\u0441\\u0442\\u0443\\u043f\", \"\\u0444\\u0430\\u0439\\u043b \\u043f\\u0440\\u043e\\u0435\\u043a\\u0442\", \"\\u0441\\u0431\\u043e\\u0440\\u043a\\u0430 \\u043f\\u0440\\u043e\\u0435\\u043a\\u0442\", \"\\u0432\\u044b\\u0431\\u043e\\u0440 \\u0440\\u0430\\u0431\\u043e\\u0447\\u0438\\u0439\", \"\\u0432\\u044b\\u0431\\u043e\\u0440 \\u0440\\u0430\\u0431\\u043e\\u0447\\u0438\\u0439 \\u0447\\u0430\\u0441\\u0442\\u043e\\u0442\\u0430\", \"\\u0432\\u044b\\u043f\\u043e\\u043b\\u043d\\u0435\\u043d\\u0438\\u0435 \\u0441\\u043a\\u0440\\u0438\\u043f\\u0442\", \"\\u043a\\u043e\\u043d\\u0444\\u0438\\u0433\\u0443\\u0440\\u0430\\u0446\\u0438\\u044f \\u0443\\u0441\\u0442\\u0440\\u043e\\u0439\\u0441\\u0442\\u0432\\u043e\", \"\\u0440\\u0430\\u0434\\u0438\\u043e\\u0447\\u0430\\u0441\\u0442\\u043e\\u0442\\u043d\\u044b\\u0439\", \"\\u0441\\u043e\\u0441\\u0435\\u0434\\u043d\\u0438\\u0439 \\u0442\\u043e\\u0447\\u043a\\u0430\", \"\\u0441\\u043e\\u0441\\u0435\\u0434\\u043d\\u0438\\u0439 \\u0442\\u043e\\u0447\\u043a\\u0430 \\u0434\\u043e\\u0441\\u0442\\u0443\\u043f\", \"\\u0443\\u0440\\u043e\\u0432\\u0435\\u043d\\u044c \\u0448\\u0443\\u043c\", \"\\u043f\\u0430\\u043a\\u0435\\u0442 \\u0448\\u0440\\u0438\\u0444\\u0442\", \"\\u043f\\u0430\\u043f\\u043a\\u0430 \\u043f\\u0430\\u043a\\u0435\\u0442\", \"\\u0441\\u0441\\u044b\\u043b\\u043a\\u0430 \\u043f\\u0430\\u043a\\u0435\\u0442\", \"\\u0441\\u043e\\u0441\\u0435\\u0434\\u043d\\u0438\\u0439\", \"\\u0430\\u0432\\u0442\\u043e\\u043c\\u0430\\u0442\\u0438\\u0447\\u0435\\u0441\\u043a\\u0438\\u0439 \\u0441\\u043c\\u0435\\u043d\\u0430\", \"\\u0430\\u043d\\u0430\\u043b\\u0438\\u0437 \\u0440\\u0430\\u0434\\u0438\\u043e\\u044d\\u0444\\u0438\\u0440\", \"\\u0431\\u0435\\u0441\\u043f\\u0440\\u043e\\u0432\\u043e\\u0434\\u043d\\u043e\\u0439 \\u0441\\u0435\\u0442\\u044c\", \"\\u0431\\u0435\\u0441\\u043f\\u0440\\u043e\\u0432\\u043e\\u0434\\u043d\\u044b\\u0439 \\u0438\\u043d\\u0442\\u0435\\u0440\\u0444\\u0435\\u0439\\u0441\", \"\\u0431\\u0435\\u0441\\u043f\\u0440\\u043e\\u0432\\u043e\\u0434\\u043d\\u044b\\u0439 \\u043a\\u043b\\u0438\\u0435\\u043d\\u0442\", \"\\u0431\\u043e\\u0440\\u0442 \\u0441\\u0444\\u043e\\u0440\\u043c\\u0443\\u043b\\u0438\\u0440\\u043e\\u0432\\u0430\\u0442\\u044c\", \"\\u0432\\u0440\\u0435\\u043c\\u0435\\u043d\\u043d\\u044b\\u0439 \\u043a\\u043b\\u044e\\u0447\", \"\\u0434\\u0438\\u0430\\u043f\\u0430\\u0437\\u043e\\u043d \\u0433\\u0433\\u0446\", \"\\u0434\\u043e\\u0431\\u0430\\u0432\\u043b\\u044f\\u0442\\u044c \\u0434\\u0443\\u0431\\u043b\\u0438\\u0440\\u043e\\u0432\\u0430\\u043d\\u0438\\u0435\", \"\\u0434\\u043e\\u0431\\u0430\\u0432\\u043b\\u044f\\u0442\\u044c \\u0434\\u0443\\u0431\\u043b\\u0438\\u0440\\u043e\\u0432\\u0430\\u043d\\u0438\\u0435 \\u0441\\u043e\\u043e\\u0431\\u0449\\u0435\\u043d\\u0438\\u0435\", \"\\u0434\\u0443\\u0431\\u043b\\u0438\\u0440\\u043e\\u0432\\u0430\\u043d\\u0438\\u0435 \\u0441\\u043e\\u043e\\u0431\\u0449\\u0435\\u043d\\u0438\\u0435\", \"\\u0434\\u0443\\u0431\\u043b\\u0438\\u0440\\u043e\\u0432\\u0430\\u043d\\u0438\\u0435 \\u0441\\u043e\\u043e\\u0431\\u0449\\u0435\\u043d\\u0438\\u0435 \\u043b\\u043e\\u0433\", \"\\u0440\\u043e\\u0443\\u0442\\u0435\\u0440\", \"\\u0442\\u043e\\u043f\\u0438\\u043a\\u0430\", \"\\u0442\\u043e\\u043f\\u0438\\u043a\", \"\\u043f\\u0430\\u043f\\u043a\\u0430\", \"\\u0447\\u0430\\u0441\\u0442\\u043e\\u0442\\u0430\", \"\\u0431\\u0435\\u0441\\u043f\\u0440\\u043e\\u0432\\u043e\\u0434\\u043d\\u044b\\u0439\", \"\\u0441\\u043e\\u043e\\u0431\\u0449\\u0435\\u043d\\u0438\\u0435 \\u043b\\u043e\\u0433\", \"\\u0447\\u0438\\u0442\\u0430\\u0442\\u044c \\u0441\\u043e\\u043e\\u0431\\u0449\\u0435\\u043d\\u0438\\u0435\", \"\\u0433\\u0433\\u0446\", \"\\u0441\\u043e\\u043e\\u0431\\u0449\\u0435\\u043d\\u0438\\u0435\", \"\\u0443\\u0442\\u0438\\u043b\\u0438\\u0437\\u0430\\u0446\\u0438\\u044f\", \"\\u0441\\u0431\\u043e\\u0440\\u043a\\u0430\", \"\\u0444\\u0430\\u0439\\u043b\", \"\\u0442\\u043e\\u0447\\u043a\\u0430\", \"\\u043f\\u0430\\u043a\\u0435\\u0442\", \"\\u043b\\u043e\\u0433\", \"\\u0434\\u043e\\u0441\\u0442\\u0443\\u043f\", \"\\u0440\\u0430\\u0431\\u043e\\u0447\\u0438\\u0439\", \"\\u043f\\u0440\\u043e\\u0435\\u043a\\u0442\", \"\\u0443\\u0441\\u0442\\u0440\\u043e\\u0439\\u0441\\u0442\\u0432\\u043e\", \"\\u043a\\u0430\\u043d\\u0430\\u043b\", \"\\u043a\\u043e\\u043d\\u043d\\u0435\\u043a\\u0442\\u043e\\u0440\", \"\\u0441\\u043a\\u0440\\u0438\\u043f\\u0442\", \"\\u0440\\u0435\\u0436\\u0438\\u043c\", \"\\u0440\\u0430\\u0431\\u043e\\u0442\\u0430\\u0442\\u044c\", \"\\u0440\\u0430\\u0431\\u043e\\u0442\\u0430\", \"\\u0434\\u043e\\u0431\\u0430\\u0432\\u043b\\u044f\\u0442\\u044c\", \"\\u0441\\u043e\\u0437\\u0434\\u0430\\u0432\\u0430\\u0442\\u044c\", \"\\u0441\\u0442\\u0430\\u0442\\u044c\\u044f\", \"\\u0432\\u0440\\u0435\\u043c\\u044f\", \"\\u043d\\u0430\\u0441\\u0442\\u0440\\u043e\\u0439\\u043a\\u0430\", \"\\u0441\\u0435\\u0442\\u044c\", \"\\u043f\\u0440\\u043e\\u0431\\u043b\\u0435\\u043c\\u0430\", \"\\u0438\\u0441\\u043f\\u043e\\u043b\\u044c\\u0437\\u043e\\u0432\\u0430\\u0442\\u044c\", \"\\u0440\\u0435\\u0448\\u0435\\u043d\\u0438\\u0435\", \"\\u043a\\u043b\\u0438\\u0435\\u043d\\u0442\"], \"Freq\": [129.0, 188.0, 144.0, 124.0, 140.0, 64.0, 127.0, 49.0, 65.0, 41.0, 38.0, 86.0, 60.0, 56.0, 162.0, 42.0, 70.0, 41.0, 155.0, 67.0, 88.0, 168.0, 51.0, 71.0, 37.0, 46.0, 86.0, 119.0, 41.0, 303.0, 38.02109151816134, 31.8220005097641, 20.9735912450689, 17.0991593648206, 16.324272988770936, 13.224727478917618, 13.224727478917618, 9.350295604323927, 9.350295604323927, 8.575409228274246, 8.575409222539, 7.800522846466166, 7.02563647617486, 12.449841103403527, 6.250750100125153, 6.2507501001251535, 6.250750100125153, 6.250750099455144, 6.250750094302387, 5.47586372407543, 5.47586372407543, 5.475863724075429, 5.475863723978947, 5.475863723400052, 5.475863723400052, 5.475863723400052, 5.475863723317925, 5.475863718206021, 5.475863718206021, 5.475863718206021, 10.900068356209571, 26.397795881718203, 13.980467492621768, 12.44984110972509, 22.52336399339229, 16.324272992873485, 11.67495473535947, 7.80052269903024, 10.125181941688735, 7.800522852893228, 10.125181980347, 17.099159367130234, 25.62290950566121, 17.082785525237078, 16.324272990915453, 31.00619015470928, 29.58513831888801, 31.82200052194764, 66.79265440644265, 83.83142105539511, 89.21691206105778, 25.94814594343058, 21.735182030481823, 36.62230909884693, 51.193594561255956, 97.95272451651971, 56.405505273757335, 38.79377801758208, 22.483636572011704, 51.06474614340651, 56.536672471265504, 35.372972325304104, 37.26182236743782, 20.186379916237296, 26.53172668061224, 30.60154490141533, 36.692225520848055, 31.770370102812183, 31.647687982050346, 35.04759526565225, 37.11161194074798, 25.938155139249634, 29.537461539193718, 29.186280445470484, 28.47302684948652, 28.536766749203885, 26.395191757642603, 36.49943636804157, 15.357951921318298, 31.396319436131684, 12.441885051580284, 8.067784870056366, 7.338768164930158, 7.338768164930157, 6.6097514598039435, 6.609751459803942, 14.628935216849952, 5.880734754677719, 5.88073470398354, 5.151718049551485, 5.151718049551486, 5.151718049551486, 5.151718049551487, 5.151718049551485, 4.4227013444252306, 4.4227013444252306, 4.4227013444252306, 4.4227013444252306, 4.42270132720903, 4.42270129277607, 13.899918511726648, 3.693684639298945, 3.693684639298946, 3.693684639298946, 3.693684639298946, 3.693684639298946, 3.693684639298946, 17.545002041361762, 20.46106886082884, 15.357951922713735, 14.62893521933872, 8.067784870389259, 20.461068859520072, 11.712868396656395, 29.209269322281, 10.25483498714288, 8.796801575813895, 10.983851692254632, 10.983851696729083, 9.525818283476807, 9.996383666462163, 25.5641858028632, 11.71286840849457, 59.827970961022, 36.776403598303276, 78.98371673113049, 26.912530244207762, 26.72723364201679, 44.39319181709618, 28.533933324401065, 26.293202508057437, 24.615938220118274, 32.46253272722592, 26.29320250961607, 29.591335218298013, 32.85435284783169, 22.192236028809326, 17.54500204715439, 22.25783252994317, 23.957948428511035, 27.751235886768832, 28.4707387340489, 23.14293110886028, 23.35702109842114, 22.80118317427558, 24.43363405966838, 20.46106886036417, 19.73205215111689, 18.47513028846756, 16.500353891837502, 16.500353891837502, 12.550801098577377, 26.37423587681742, 10.576024701947306, 9.917765903070615, 9.25950710419392, 19.791647887386734, 8.601248305317226, 8.601248305317228, 17.816871491752362, 7.942989506440529, 7.942989506440529, 7.942989506440529, 6.626471908687129, 6.626471908687122, 5.309954310933707, 5.309954310933702, 4.651695512056985, 4.651695512056985, 4.651695512056985, 4.6516955120569845, 3.993436713180249, 3.993436713180249, 3.993436713180249, 3.993436713180249, 3.9934367131802486, 3.993436101713206, 3.33517791430349, 7.271636582407814, 30.323788671460367, 14.525577500049677, 10.576024704548656, 7.942989507741306, 9.91776590613685, 5.30995386095314, 17.15861270393028, 14.52557750148482, 12.550801106847782, 31.632989115524595, 22.492868469723852, 13.191366451405466, 9.917765905052613, 33.07321658353553, 15.842095096907181, 57.42905997469137, 34.857921305485156, 17.158612702506815, 12.550801105208906, 16.50035390635887, 21.308314768025586, 20.552692414214025, 17.153236876907535, 25.80125657697968, 17.79593116733118, 19.133389086090038, 23.616630880497656, 18.4751302930735, 16.770177009434097, 18.639105559283202, 18.612780194188456, 17.084160607235027, 16.75784995735315, 15.842095097910127, 49.400020985117195, 19.786331673432226, 15.83783976520755, 11.231265872278748, 11.231265872278748, 9.91510190287051, 9.257019918166392, 7.940855948758147, 7.282773964054022, 6.624691979349892, 5.9666099946457605, 5.308528009941622, 5.308525576703276, 58.61316878426023, 4.650446025237473, 4.650446025237473, 4.650443221771055, 3.992364040533309, 3.992364040533309, 3.9923640405333107, 3.9923640405333107, 3.99236398623546, 3.99236398623546, 3.992363986235152, 3.3342820558291253, 3.3342820558291253, 3.3342820558291253, 3.334282055829125, 3.3342820558291253, 3.3342820558291253, 15.179757783364515, 48.729348611129055, 6.624691979709767, 46.031499952591126, 4.650446017706196, 15.237834427860985, 9.91510190835525, 14.550975027096253, 13.329254603717308, 7.282773964882419, 13.205511793340554, 5.966609941881817, 18.467736213312946, 11.231265878318144, 34.922217345320774, 13.828842739331307, 20.25220587778067, 21.804411069572794, 27.55961788393709, 22.905538906535043, 12.355916294279389, 17.154003750264874, 22.41865847604056, 38.97988822881198, 23.741823875727757, 19.6908708588217, 27.02523352820454, 39.736632528506696, 29.404350364302758, 23.52573135550064, 21.775539209977005, 22.79248146811257, 20.524391565460725, 19.152171936277274, 21.109464842119092, 17.846716184479778, 19.137565299624043, 19.240241194132, 17.868736474235007, 16.783922627614874, 17.693008431524373, 6.580404612378837, 5.273039457948914, 38.61085091972664, 37.95716834207405, 4.619356880516602, 4.619356880516601, 3.965674303084274, 3.965674303084274, 3.965674303084274, 3.9656743030842736, 3.9656743030842736, 7.887769768348137, 3.3119917256519242, 3.3119917256519242, 3.3119917256519242, 3.3119917256519242, 3.3119917256519242, 3.3119917256519242, 3.3119917256519242, 3.3119917256519242, 3.3119917256519242, 3.3119917256519242, 3.3119917256519242, 3.3119917256519242, 3.3119917256519242, 3.3119917256519242, 3.3119917256519242, 3.3119917256519242, 3.3119917256519242, 13.77091296828294, 8.541452347064237, 9.19513493001211, 46.45159603078692, 7.234087192374551, 8.541452346456284, 7.887769768865411, 11.156182655873662, 34.03483542780525, 31.42034258734975, 4.619356880561046, 62.797106325991166, 5.273039459668515, 5.273039458690298, 48.373419902216305, 15.731240357394443, 20.961421317700903, 7.886354702957737, 18.99980162003413, 10.501368368977115, 15.078278119733097, 10.502500080372505, 45.794436681590675, 7.8877697719189745, 17.693008441719456, 22.922469059582927, 45.790125941232915, 23.57615163149804, 20.30675433369213, 20.96142132446322, 22.91257579768194, 20.301120180438254, 24.872922678688106, 23.567804894455374, 19.65278629747969, 19.65342425600972, 20.30773874922152, 18.343236328970335, 18.996566935048403, 17.034847478857063, 20.30146101881167, 16.385643278476856, 28.093944841926774, 19.61357449404373, 13.7425488691765, 12.437876508961896, 11.785540328421689, 11.785540327552862, 11.785540327552862, 11.785540327552862, 25.484600119986354, 8.523859425720643, 8.523859424843609, 8.523859424843609, 8.523859424843609, 7.871523244300907, 7.871523244300907, 7.219187064640212, 6.566850884099993, 5.262178523019538, 5.262178523019538, 5.262178523019538, 5.262178523019538, 5.262178523019539, 4.6098423424793, 9.828531788201277, 9.827769516427884, 3.9575061619390475, 3.9575061619390484, 3.9575061619390475, 3.9575061619390492, 3.9575061619390492, 8.523859425273715, 3.9575061619390484, 11.782681121203117, 20.91824685918791, 17.65656596038476, 11.133204151357454, 6.566850883964206, 27.441608670041123, 21.570583041849094, 12.435021003640953, 39.183659938863585, 7.871523246937785, 18.961238326019657, 39.19242923702501, 40.49226161374284, 18.30890213760749, 31.360600609395494, 18.985800587120572, 14.394627900462208, 24.179927772576374, 47.667816585469865, 15.047221239267609, 21.58528040187298, 31.343523410790517, 22.222919227229156, 22.84978438025658, 16.349053966654242, 20.914664976321095, 21.59169714057493, 23.37218454560826, 17.00263882541074, 19.604223165165717, 18.295751607341316, 15.04722124223292, 15.71406357083512, 12.817885883978105, 8.346530343053951, 7.069000188504178, 5.1527049566794965, 4.513939879404588, 4.513939879404588, 4.513939879404588, 4.513939879404587, 3.875174802129667, 3.875174802129668, 3.875174802129666, 3.2364097248547234, 3.2364097248547257, 3.2364097248547234, 2.5976446475797474, 2.5976446475797483, 2.5976446475797483, 2.5976446475797483, 2.5976446475797483, 2.5976446475797483, 2.5976446475797483, 2.5976446475797483, 2.5976446475797483, 2.5976446475797483, 2.5976446475797474, 2.5976446475797483, 2.5976446475797474, 2.5976446475797474, 2.5976446475797474, 2.5976446475797474, 5.152704956956013, 7.707765266468474, 20.48306681750535, 3.875174802422234, 7.069000188851843, 5.152704957044794, 21.121831905680782, 62.00279686878461, 8.346530345323766, 10.262825580175518, 51.78255562853514, 3.875174802609061, 8.346530344282927, 5.791470035063218, 6.4302351126980435, 12.81788588670036, 34.535898534718946, 60.08650165804637, 16.650476364347824, 9.624060498962436, 12.179120807817377, 30.703308071920027, 16.6504763603158, 24.315657291058507, 21.121831904477332, 10.901590658504965, 29.42577792014173, 10.90159066051093, 16.6504763606728, 20.483066823341805, 24.31565728062364, 26.231952511337912, 21.121831899736442, 32.61960326711347, 19.844301743567446, 19.84430173864945, 21.760596980780026, 17.928006507580896, 14.095416048810366, 22.399362046419615, 16.01171127922872, 16.650476350449047, 17.928006507599758, 14.734181122588657, 14.734181121915633, 14.095416045806674, 9.391159547372792, 8.767852497768125, 6.274624299349436, 6.274624299349433, 5.651317249744754, 5.651317249744754, 5.028010200140071, 5.028010200140068, 5.02801020014007, 4.404703150535376, 3.7813961009306687, 3.7813961009306687, 3.158089051325944, 14.37761594792065, 2.5347820017211875, 2.534782001721188, 2.534782001721189, 2.5347820017211884, 2.5347820017211875, 3.7813961011481196, 7.521238399649719, 1.9114749521163554, 1.9114749521163545, 1.9114749521163545, 1.911474952116356, 1.911474952116356, 1.911474952116356, 1.911474952116356, 1.911474952116356, 1.911474952116356, 5.028010201478502, 6.897931349944597, 3.7813961015240563, 10.014466601436002, 6.897931350400376, 3.158089051621161, 21.857300550771708, 3.7813961016529496, 7.5212384009717415, 19.364072346161255, 9.391159551340824, 5.028010201275938, 5.028010201344411, 13.754308907492051, 5.028010200710149, 13.131001857320618, 16.247537111234813, 24.350528745024178, 33.700134507983634, 7.521238400401276, 21.857300553260412, 10.014466607501543, 29.960292188946312, 11.26108070505775, 12.50769480483146, 9.391159556178597, 18.117458250943177, 15.624230051923242, 17.494151207260163, 16.87084414979302, 18.74076530101754, 23.727221688447425, 15.000922999349052, 11.261080705154907, 14.377615951813388, 12.507694803275655, 11.884387754696116, 12.507694799119925, 13.13100184615547, 11.261080704039632, 11.261080696916858, 10.637773647326103, 10.6377736506075, 10.637773646053487, 37.47022960890314, 23.07336884728438, 18.46637340356637, 13.283503529383594, 23.07336884901342, 8.676508085665558, 8.1006336552008, 6.37301036380652, 6.37301036380652, 12.707629100337892, 5.221261502876991, 13.283503534335848, 4.645387072412218, 4.645387072412219, 4.645387072412218, 4.645387072412219, 4.645387072412219, 14.435252393466806, 4.069512641947441, 4.069512641947441, 4.06951264194744, 4.06951264194744, 4.06951264194744, 8.676508086891372, 3.493638211482653, 3.493638211482654, 3.493638211482653, 3.493638211482653, 7.524759226436833, 7.524759227169563, 10.404131379814888, 8.676508086212321, 40.92547629180058, 18.466373415665217, 8.676508087160837, 11.440969713112896, 9.252382516611496, 27.68036426192999, 5.221261504452409, 8.454656747640328, 12.131754679409598, 16.738750126904716, 9.252382391276964, 5.797135935222586, 5.797135935206565, 12.131754683236226, 13.859377969292108, 14.43525239888262, 21.63308581476867, 16.91795021362521, 18.020061703646764, 14.037998614343461, 13.859377966460201, 11.858443130397994, 10.404131382672952, 10.46858904790968, 9.252382523763421, 9.725396389597801, 22.57627337885591, 9.768251416568553, 6.694326145619571, 5.157363510145067, 4.645042631653561, 4.645042631653561, 3.6204008746705374, 3.6204008746705374, 3.620400874670537, 3.108079996179016, 3.1080799961790158, 3.108079996179016, 3.108079996179016, 2.595759117687483, 2.595759117687483, 2.5957591176874817, 2.595759117687483, 2.595759117687483, 2.5957591176874817, 2.595759117687483, 2.0834382391959254, 2.083438239195927, 2.083438239195927, 2.083438239195927, 2.0834382391959263, 2.0834382391959263, 2.083438239195927, 2.0834382391959254, 2.083438239195927, 2.083438239195927, 31.91107732738271, 3.620400875096783, 4.132721753960126, 54.39128093523862, 6.711507255100777, 3.1080799967053676, 14.891460214562677, 2.5957591179941235, 4.132721754539765, 12.842176703123156, 18.99906292752492, 17.45306461304551, 12.32985582162312, 12.348576700733876, 6.741299941754864, 11.817534947398086, 5.684163331840889, 11.817534943856877, 27.203660050355168, 16.95056072333035, 12.333390725130117, 10.29772980953976, 11.817534942958266, 13.360417452885876, 14.396060841444578, 9.77962081840393, 8.231288789696555, 9.768251425119916, 9.259887715154393, 10.280572303860197, 7.720220773633524, 7.726206184934713, 8.751406974697897, 7.211425003021891, 7.7207338991404955, 7.20664702444443, 17.335517374378544, 8.227539769625155, 5.950545368436795, 5.950545368436794, 5.039747607961445, 5.039747607961445, 4.58434872772377, 4.58434872772377, 4.58434872772377, 4.128949847486091, 4.128949847486091, 4.128949847486091, 3.6735509672484095, 3.2181520870107234, 3.2181520870107234, 3.2181520870107234, 3.2181520870107234, 2.762753206773033, 2.762753206773033, 2.762753206773033, 2.762753206773033, 2.762753206773033, 8.227539778992034, 2.307354326535332, 2.307354326535332, 2.307354326535332, 2.307354326535332, 2.307354326535332, 2.307354326535332, 1.8519554462976133, 4.1289498489978715, 82.00215845227139, 10.504534175952207, 8.227539775065933, 7.772140892967939, 5.039747611464621, 4.128949849687404, 32.363680473194634, 7.77214089616818, 13.236927467951517, 9.138337537368574, 9.59373642422402, 16.424719640047588, 12.326129706157074, 10.959933065771336, 5.4951464946898785, 11.41533194451937, 10.504534174769324, 9.138337540805383, 14.147725216065172, 10.959933059010718, 7.316742016271382, 8.682938660709732, 8.227539777314947, 6.861343140385596, 7.772140896114417, 6.861343136531042, 6.405944256776185, 6.861343137715154, 6.405944256035576, 5.9505453819659, 8.17955587612152, 5.463098076362902, 5.010355259911258, 10.443270603347848, 3.1993834792196485, 3.1993834792196485, 3.1993834792196485, 3.1993834792196485, 5.463098205519476, 2.2938975888738127, 2.2938975888738136, 2.2938975888738136, 2.2938975888738136, 5.010355260477526, 6.36858409804337, 1.8411546437008732, 1.841154643700873, 1.841154643700873, 1.841154643700873, 1.841154643700873, 1.3884116985278963, 1.3884116985278963, 1.3884116985278963, 1.3884116985278965, 1.3884116985278965, 1.3884116985278967, 1.3884116985278965, 1.3884116985278965, 1.3884116985278967, 1.3884116985278963, 5.010355260974064, 2.746640534374727, 3.6521264255936097, 5.010355261533172, 14.065214173557665, 14.517957118517186, 13.730742914642539, 4.1048693716070055, 3.798318939018608, 4.104869370853002, 6.368584099395201, 11.46352548596112, 12.38271661059386, 10.919685048688782, 8.179555889036918, 19.09169850039958, 8.63229883297773, 7.726812944818147, 5.183089444570284, 11.348756504033505, 10.972806578461217, 9.085041776962246, 14.232067356871644, 11.833568228828826, 6.847742902840366, 7.274069995190959, 8.371270031649134, 7.7268129350738475, 6.821327049188058, 7.814337005407046, 7.328027385691046, 7.896049475586603, 6.917253250074923, 6.821327046682508, 6.821327047190233, 6.821327040386691, 6.462419185483518, 5.678282022466558, 4.374594823430413, 3.070907624394249, 3.070907624394249, 3.0709076243942497, 2.6363452247155195, 2.201782825036781, 4.37459482492155, 1.7672204253580264, 1.7672204253580264, 1.7672204253580264, 1.7672204253580257, 1.7672204253580257, 1.3326580256792373, 1.3326580256792373, 1.3326580256792373, 1.3326580256792373, 1.3326580256792373, 1.3326580256792373, 1.3326580256792369, 1.3326580256792373, 1.3326580256792373, 1.3326580256792373, 1.3326580256792373, 1.3326580256792373, 1.3326580256792373, 1.3326580256792373, 1.3326580256792373, 1.3326580256792364, 1.3326580256792364, 3.5054700242985506, 7.416531624337273, 1.767220425560676, 3.9400324249284187, 1.767220425632481, 1.7672204256198267, 6.112844430462761, 1.7672204255087698, 8.285656429139797, 22.626215634587076, 3.5054700255085143, 1.7672204259002247, 1.767220425488696, 2.2017828256292944, 2.2017828264338832, 2.2017828258348198, 2.2017828260861103, 9.154781226350963, 4.3745948267044135, 9.154781225620244, 7.851094030087647, 7.416531628336618, 6.9819692274299685, 3.940032429140834, 10.458468418738889, 3.9400324286298423, 8.285656423960697, 6.112844424895545, 4.374594828651995, 5.678282027064129, 5.678282027674337, 6.547406826895091, 5.678282026470591, 5.243719627533612, 4.809157227202137, 4.374594828269448, 4.374594826082059, 4.809157216086014, 4.374594824272364, 4.374594821944161, 3.9400324296047233, 5.72853136807934, 4.914048235176813, 12.651637998992058, 4.099565102274284, 3.6923235358230158, 2.4705988364691973, 6.543014501240157, 2.0633572700179124, 2.0633572700179124, 2.0633572700179124, 2.0633572700179124, 2.0633572700179124, 2.0633572700179124, 2.0633572700179124, 2.063357270017912, 4.506806669570098, 1.6561157035666125, 1.6561157035666125, 1.6561157035666125, 1.6561157035666123, 1.6561157035666123, 1.6561157035666123, 1.6561157035666123, 1.6561157035666123, 1.6561157035666123, 2.8778404035643783, 1.2488741371152823, 1.2488741371152823, 1.2488741371152823, 1.2488741371152823, 2.8778404034413754, 1.2488741371152823, 19.82301100839612, 1.6561157036441172, 12.651638013678536, 14.280604281702079, 9.800947052388839, 6.54301451162206, 8.98646391308772, 6.135772941426782, 9.215124905916944, 4.099565108267248, 3.692323539398721, 15.630957613129807, 6.9502560781187634, 8.609456611049527, 8.171980647497598, 3.2850819719239674, 5.728531369594415, 9.800947042824248, 12.011797267976483, 4.914048240424024, 7.357497569398031, 11.501071033755146, 4.914048248767497, 7.615099508469345, 5.728531375860236, 8.280076706166978, 6.599806343054567, 5.400568030190856, 5.3847216058922145, 5.321289805677054, 5.386254260463787, 4.987945002641272, 4.974160799547189, 6.244515781059026, 5.146846995200537, 4.415067801569919, 5.878626189473075, 3.6669896167810982, 1.4879510220491372, 1.1220614302319996, 1.1220614302319996, 1.1220614302319996, 1.1220614302319996, 1.1220614302319996, 1.1220614302319996, 1.1220614302319996, 1.1220614302319996, 1.1220614250380805, 1.1220614250380805, 1.1220614250380805, 1.8538406242866419, 0.7561718334165631, 0.7561718334165631, 0.7561718334165631, 0.7561718334165631, 0.7561718334165631, 0.7561718334165631, 0.7561718334165631, 0.7561718334165631, 0.7561718334165631, 0.7561718334165631, 0.7561718334165631, 0.7561718334165631, 3.31739901314479, 1.487951027370507, 1.853840624154395, 3.6832886040869317, 11.00108056460335, 2.5856198188799966, 1.4879510271035832, 1.1220614303315075, 2.585619818801836, 8.8057429747027, 1.1220614305763494, 4.398897724488224, 16.623869556529, 7.3402805958956545, 9.903411748677035, 4.049178206492429, 6.217351571204817, 5.142414288428731, 8.007884823843742, 8.805742976737525, 5.512736599534816, 2.2197302221320196, 2.9515094177616072, 3.317399015695345, 6.963352176543127, 7.3197399537594015, 4.772549071389453, 5.095821897138345, 4.4006460732562935, 5.129316890778519, 3.6832886131814875, 4.049178207950616, 4.039220789930795, 4.258158881972288, 3.6384989290391765, 3.683288611447641], \"Total\": [129.0, 188.0, 144.0, 124.0, 140.0, 64.0, 127.0, 49.0, 65.0, 41.0, 38.0, 86.0, 60.0, 56.0, 162.0, 42.0, 70.0, 41.0, 155.0, 67.0, 88.0, 168.0, 51.0, 71.0, 37.0, 46.0, 86.0, 119.0, 41.0, 303.0, 38.54225678955275, 32.343165781155506, 21.494756516460303, 17.620324636212004, 16.84543826016234, 13.745892755112429, 13.745892755112429, 9.871460875715329, 9.871460875715329, 9.096574499665648, 9.096574498802259, 8.321688122749086, 7.546801747566264, 13.423749324457557, 6.771915371516557, 6.771915371516558, 6.771915371516557, 6.771915371289517, 6.771915370639996, 5.9970289954668345, 5.9970289954668345, 5.997028995466834, 5.99702899543414, 5.997028995237974, 5.997028995237974, 5.997028995237974, 5.997028995347008, 5.997028994583249, 5.997028994583249, 5.997028994583249, 12.044540677277455, 30.86259131866186, 16.081642115572468, 14.28277094221997, 26.89643663905392, 19.379886403913343, 13.563901786528003, 8.83400897614835, 11.798096106148664, 8.960453201001501, 12.183309887227551, 23.2019854471242, 38.60663441023048, 23.491542912314117, 22.427099071048875, 53.59407657110743, 52.12156410661401, 57.50301444184505, 168.56698593383308, 258.6184008846327, 303.22431217074137, 48.76886642725191, 38.38998983028149, 93.9278559690412, 171.802905054672, 526.3364458629758, 224.58986743403918, 120.70755759484685, 44.800884300612374, 249.81344843400336, 318.024301968298, 129.49919761500365, 155.3083966829674, 36.81108954655386, 73.60699729812396, 106.9329945588947, 184.65017622258395, 125.6191583307646, 127.22203688622623, 188.69748637272866, 235.27387416310884, 82.17270209353214, 153.53012281114346, 165.54231707704918, 164.75499775980958, 226.13890087711974, 127.80111083189328, 37.02365961955229, 15.882175170771266, 32.695429059455556, 12.966108353361335, 8.592008119509334, 7.862991414383128, 7.862991414383126, 7.133974709256913, 7.133974709256911, 15.806841043142551, 6.404958004130688, 6.404958007317352, 5.675941299004455, 5.675941299004456, 5.675941299004456, 5.675941299004457, 5.675941299004455, 4.9469245938782, 4.9469245938782, 4.9469245938782, 4.9469245938782, 4.946924594960418, 4.946924597124894, 15.740305729985616, 4.217907888751914, 4.217907888751915, 4.217907888751915, 4.217907888751915, 4.217907888751915, 4.217907888751915, 21.082648781162387, 25.692961258101196, 19.13781015936286, 19.76015393489918, 10.141780871577327, 28.953413420022482, 15.96726519340166, 51.27464209617627, 14.179767357455876, 11.901340415929408, 16.146316037220696, 16.16470368790272, 13.421062759282572, 14.48596582456678, 56.41193517824123, 19.20429101442081, 235.27387416310884, 140.9966301116278, 526.3364458629758, 92.09854145509479, 113.89796096310147, 318.024301968298, 135.89829391104556, 115.61171946743032, 102.39975481365336, 184.65017622258395, 118.50517605835843, 164.75499775980958, 249.81344843400336, 96.07984829373905, 53.7522993164026, 114.33828875929215, 156.1661569333906, 258.6184008846327, 303.22431217074137, 140.74326999183583, 155.3083966829674, 153.9609129727692, 226.13890087711974, 112.75782938008746, 144.541047820675, 19.004070731670495, 17.029294335040436, 17.029294335040436, 13.079741541780308, 27.555512498752105, 11.104965145150238, 10.446706346273547, 9.788447547396853, 20.974270906861467, 9.130188748520158, 9.13018874852016, 18.998148113346254, 8.471929949643462, 8.47192994964346, 8.471929949643462, 7.155412351890064, 7.1554123518900585, 5.838894754136642, 5.838894754136639, 5.180635955259921, 5.180635955259921, 5.180635955259921, 5.18063595525992, 4.522377156383184, 4.522377156383184, 4.522377156383184, 4.522377156383184, 4.522377156383184, 4.522377262409741, 3.8641183575064257, 8.900227664806485, 41.86690891346327, 19.24139885123963, 13.609670494546721, 10.072446137315202, 13.431049438857773, 6.477659909453514, 30.584693484737763, 25.672659934688635, 21.982164842745878, 88.59396816869629, 54.07355541057198, 26.514222365602816, 16.597712032100958, 144.04461029424144, 40.942447099276606, 526.3364458629758, 258.6184008846327, 56.576625621618795, 28.588866453261712, 61.64683493244414, 130.4135998125125, 123.90093719381392, 71.85320822485484, 249.81344843400336, 82.21359813822899, 129.83678543277355, 318.024301968298, 119.77320711113678, 88.37913668720981, 224.58986743403918, 303.22431217074137, 184.65017622258395, 168.53592793159524, 121.58063888979058, 49.92897321593164, 20.315283904246666, 16.36679199602199, 11.760218103093184, 11.760218103093184, 10.444054133684949, 9.78597214898083, 8.469808179572585, 7.811726194868462, 7.153644210164332, 6.4955622254602, 5.8374802407560615, 5.837480219424098, 64.80614402356936, 5.179398256051913, 5.179398256051913, 5.17939823147421, 4.521316271347749, 4.521316271347749, 4.521316271347751, 4.521316271347751, 4.521316275902186, 4.521316275902186, 4.521316275902241, 3.8632342866435656, 3.8632342866435656, 3.8632342866435656, 3.863234286643565, 3.8632342866435656, 3.8632342866435656, 17.699798843296186, 60.66898667764065, 8.064441970747994, 70.27071704280323, 5.634797136974132, 21.840792114347877, 14.311579186109489, 23.451980065366648, 21.2439197177455, 9.998776310150227, 22.753292098099717, 7.953595640125429, 39.482722001408185, 19.46570754876511, 104.82734800655919, 28.147942898470387, 52.168409890728825, 61.64683493244414, 96.07984829373905, 70.24516696240732, 26.14006723069638, 50.77247765782922, 86.32049575840685, 318.024301968298, 117.1910493186128, 78.06090305134141, 171.802905054672, 526.3364458629758, 303.22431217074137, 164.75499775980958, 135.89829391104556, 226.13890087711974, 168.53592793159524, 127.80111083189328, 249.81344843400336, 110.23877582949652, 168.56698593383308, 184.65017622258395, 162.7035034095093, 109.80996977838713, 18.88051275264764, 7.10965013744899, 5.802284982581477, 42.55450259582009, 41.90082001833253, 5.148602405149164, 5.1486024051491635, 4.494919827716837, 4.494919827716837, 4.494919827716837, 4.494919827716837, 4.494919827716837, 9.05578036960677, 3.8412372502844865, 3.8412372502844865, 3.8412372502844865, 3.8412372502844865, 3.8412372502844865, 3.8412372502844865, 3.8412372502844865, 3.8412372502844865, 3.8412372502844865, 3.8412372502844865, 3.8412372502844865, 3.8412372502844865, 3.8412372502844865, 3.8412372502844865, 3.8412372502844865, 3.8412372502844865, 3.8412372502844865, 16.728532238693763, 10.468891295313407, 12.123435539981875, 86.38671501508799, 9.702876149999739, 11.907677876352183, 11.064207335483829, 17.406897451141706, 70.28499177278579, 71.85320822485484, 5.923488781098155, 188.69748637272866, 7.083850831037576, 7.192816336713913, 162.7035034095093, 33.661698591437336, 51.27464209617627, 13.016762060201325, 49.71762338016262, 20.672665352874183, 39.17109071048254, 21.751788066316344, 249.81344843400336, 14.111327739814651, 58.83346857811133, 118.50517605835843, 526.3364458629758, 135.89829391104556, 119.77320711113678, 131.6960911452032, 165.54231707704918, 125.6191583307646, 235.27387416310884, 226.13890087711974, 134.75726144672544, 140.9966301116278, 171.802905054672, 123.90093719381392, 153.9609129727692, 130.4135998125125, 303.22431217074137, 144.04461029424144, 28.623280126352142, 20.142909779337057, 14.271884154475266, 12.96721179338726, 12.314875612847054, 12.314875612854673, 12.314875612854673, 12.314875612854673, 26.63724245384396, 9.053194710146007, 9.0531947101537, 9.0531947101537, 9.0531947101537, 8.400858529613508, 8.400858529613508, 7.74852234906558, 7.096186168525361, 5.791513807444907, 5.791513807444907, 5.791513807444907, 5.791513807444907, 5.7915138074449075, 5.139177626904668, 11.016125870083, 11.015955770032253, 4.486841446364416, 4.486841446364417, 4.486841446364416, 4.4868414463644175, 4.4868414463644175, 9.71145350901908, 4.486841446364417, 13.596289831227867, 25.06403923034155, 21.5846703655247, 13.31174134002456, 7.749868745956612, 41.29762779269456, 33.191453165891, 18.062414117700545, 88.37913668720981, 10.116986778069265, 34.46409653893357, 105.25332297315931, 155.3083966829674, 40.942447099276606, 112.20057293654716, 44.58718230730181, 28.48627861833834, 88.5811450244469, 526.3364458629758, 35.21996110066594, 86.22361257616957, 224.58986743403918, 104.82734800655919, 134.75726144672544, 48.75556168271906, 144.541047820675, 188.69748637272866, 318.024301968298, 83.22657431221766, 226.13890087711974, 168.53592793159524, 68.28098708425462, 249.81344843400336, 13.348125908621158, 8.876770367697004, 7.599240213147234, 5.682944981322553, 5.0441799040476445, 5.0441799040476445, 5.0441799040476445, 5.044179904047644, 4.405414826772724, 4.4054148267727244, 4.405414826772723, 3.7666497494977795, 3.7666497494977818, 3.7666497494977795, 3.1278846722228035, 3.1278846722228044, 3.1278846722228044, 3.1278846722228044, 3.1278846722228044, 3.1278846722228044, 3.1278846722228044, 3.1278846722228044, 3.1278846722228044, 3.1278846722228044, 3.1278846722228035, 3.1278846722228044, 3.1278846722228035, 3.1278846722228035, 3.1278846722228035, 3.1278846722228035, 6.336627558745588, 9.787778042364142, 28.405376283860658, 4.8608137070911654, 9.573486167243699, 6.775589365745625, 34.901260895429544, 127.80111083189328, 12.351807881020903, 16.563102814346454, 124.65389223686448, 5.180301202706981, 14.37503502775468, 8.964159054330999, 10.438624170852668, 26.328332711759597, 119.77320711113678, 303.22431217074137, 43.636578630979926, 19.261399646967003, 28.4705488960634, 121.58063888979058, 48.14640859279986, 110.23877582949652, 86.32049575840685, 27.101654838850482, 171.802905054672, 27.659602863264944, 72.57962063831397, 117.1910493186128, 188.69748637272866, 226.13890087711974, 168.53592793159524, 526.3364458629758, 153.9609129727692, 165.54231707704918, 258.6184008846327, 144.541047820675, 67.69416128037425, 318.024301968298, 105.76408999649423, 156.1661569333906, 224.58986743403918, 111.4306737737039, 118.50517605835843, 88.5811450244469, 9.922430107193861, 9.299123057589194, 6.805894859170507, 6.805894859170504, 6.182587809565825, 6.182587809565825, 5.559280759961141, 5.559280759961139, 5.5592807599611405, 4.935973710356446, 4.31266666075174, 4.31266666075174, 3.6893596111470144, 17.06512576518376, 3.066052561542258, 3.0660525615422585, 3.066052561542259, 3.066052561542259, 3.066052561542258, 4.719908227275741, 9.556412039297706, 2.4427455119374257, 2.442745511937425, 2.442745511937425, 2.442745511937426, 2.442745511937426, 2.442745511937426, 2.442745511937426, 2.442745511937426, 2.442745511937426, 6.7410404101781625, 9.465583768652737, 5.0416833657669535, 14.456369628776699, 10.550101121821207, 4.3430421885576544, 40.37848066501607, 5.407572963673124, 12.38184599027726, 39.17109071048254, 18.176267269907054, 8.130971849353523, 8.134926176170238, 36.07330386161296, 8.291175677488374, 35.20165905433218, 54.662225592312495, 124.65389223686448, 224.58986743403918, 17.200351166218393, 134.75726144672544, 31.53740011557664, 318.024301968298, 44.0365023135792, 57.34261614701149, 30.314296625531117, 153.53012281114346, 119.77320711113678, 171.802905054672, 164.75499775980958, 235.27387416310884, 526.3364458629758, 129.49919761500365, 54.44119031275149, 140.74326999183583, 111.4306737737039, 114.33828875929215, 168.53592793159524, 226.13890087711974, 120.70755759484685, 156.1661569333906, 112.75782938008746, 127.22203688622623, 184.65017622258395, 38.00466234333354, 23.607801581714778, 19.000806137996765, 13.81793626381399, 24.261484158910648, 9.210940820095955, 8.635066389631197, 6.907443098236918, 6.907443098236918, 13.900320632015514, 5.755694237307389, 14.677920776778613, 5.179819806842616, 5.179819806842617, 5.179819806842616, 5.179819806842617, 5.179819806842617, 16.10531305279702, 4.603945376377839, 4.603945376377839, 4.603945376377838, 4.603945376377838, 4.603945376377838, 9.86327700046619, 4.0280709459130515, 4.028070945913052, 4.0280709459130515, 4.0280709459130515, 8.788208663829995, 8.834078334361868, 12.352215564247752, 10.527458417765306, 65.94990333657148, 27.89539265130921, 12.48848623575571, 18.0820580397017, 13.700832333735859, 67.4012624384609, 6.920351296194676, 15.775034048766939, 31.97605621362717, 78.06090305134141, 23.352903056038222, 8.526239167872344, 8.535023996722526, 60.90663578966099, 88.5811450244469, 121.58063888979058, 526.3364458629758, 226.13890087711974, 318.024301968298, 156.1661569333906, 164.75499775980958, 140.74326999183583, 114.33828875929215, 258.6184008846327, 43.088458216363165, 224.58986743403918, 23.114943016751187, 10.306921054463833, 7.232995783514852, 5.696033148040348, 5.183712269548842, 5.183712269548843, 4.159070512565819, 4.159070512565819, 4.159070512565819, 3.6467496340742973, 3.646749634074297, 3.6467496340742973, 3.6467496340742973, 3.134428755582764, 3.134428755582764, 3.134428755582763, 3.134428755582764, 3.134428755582764, 3.134428755582763, 3.134428755582764, 2.6221078770912065, 2.6221078770912083, 2.6221078770912083, 2.6221078770912083, 2.6221078770912074, 2.6221078770912074, 2.6221078770912083, 2.6221078770912065, 2.6221078770912083, 2.6221078770912083, 41.09315580962022, 4.614469392847636, 5.310156468128445, 144.04461029424144, 11.378352213724524, 4.421636009840959, 42.430729508190275, 3.58982763585129, 7.275780421698121, 39.98316414635806, 86.32049575840685, 83.22657431221766, 52.168409890728825, 61.28210140013828, 19.865616489038814, 71.85320822485484, 16.450012766986013, 82.21359813822899, 526.3364458629758, 226.13890087711974, 105.76408999649423, 88.59396816869629, 162.7035034095093, 235.27387416310884, 303.22431217074137, 105.6675127278783, 61.03823102834598, 144.541047820675, 131.6960911452032, 258.6184008846327, 82.84089708502216, 89.36298437084608, 249.81344843400336, 70.73037326544463, 318.024301968298, 140.9966301116278, 17.87798181215741, 8.770004207404025, 6.493009806215665, 6.493009806215664, 5.582212045740315, 5.582212045740315, 5.126813165502639, 5.126813165502639, 5.126813165502639, 4.6714142852649605, 4.6714142852649605, 4.6714142852649605, 4.21601540502728, 3.760616524789593, 3.760616524789593, 3.760616524789593, 3.760616524789593, 3.3052176445519024, 3.3052176445519024, 3.3052176445519024, 3.3052176445519024, 3.3052176445519024, 10.155465974677309, 2.8498187643142012, 2.8498187643142012, 2.8498187643142012, 2.8498187643142012, 2.8498187643142012, 2.8498187643142012, 2.3944198840764828, 5.446300527003555, 129.83678543277355, 16.165530560028994, 12.919564571332803, 15.030172457550062, 8.332729223648547, 6.621943923721964, 140.9966301116278, 17.629091008072987, 48.26268677346442, 26.089040736642705, 40.61314853058824, 155.3083966829674, 88.5811450244469, 70.21035566575235, 15.383417973427154, 156.1661569333906, 124.65389223686448, 80.71562082870018, 526.3364458629758, 318.024301968298, 56.25401453621451, 125.6191583307646, 104.82734800655919, 50.3718909393494, 165.54231707704918, 105.6675127278783, 58.57638844736301, 168.56698593383308, 123.90093719381392, 43.99716725195959, 8.722197376238043, 6.005739771721096, 5.5529967600277805, 11.760798477169907, 3.7420249793361697, 3.7420249793361697, 3.7420249793361697, 3.7420249793361697, 6.663998503872355, 2.836539088990334, 2.836539088990335, 2.836539088990335, 2.836539088990335, 6.28201346479808, 8.077229050733592, 2.3837961438173942, 2.3837961438173942, 2.3837961438173942, 2.3837961438173942, 2.3837961438173942, 1.9310531986444175, 1.9310531986444175, 1.9310531986444175, 1.9310531986444177, 1.9310531986444177, 1.931053198644418, 1.9310531986444177, 1.9310531986444177, 1.931053198644418, 1.9310531986444175, 7.518449657289011, 4.064168409966299, 5.562549706226008, 8.208648701110166, 28.62827645137025, 31.21588425487731, 29.32982916872244, 7.356122459074028, 6.748314296596744, 7.910538168698378, 15.188435111035973, 50.826338301453326, 73.60699729812396, 78.06090305134141, 45.16779827167939, 258.6184008846327, 52.01685432685757, 43.99687356179009, 18.15743720381958, 162.7035034095093, 153.9609129727692, 93.9278559690412, 526.3364458629758, 303.22431217074137, 49.185191203907266, 77.95174878179355, 165.54231707704918, 117.1910493186128, 70.39865754601308, 156.1661569333906, 168.53592793159524, 318.024301968298, 153.53012281114346, 131.6960911452032, 134.75726144672544, 249.81344843400336, 87.27725448719785, 6.2221355589493585, 4.918448359913214, 3.6147611608770487, 3.6147611608770487, 3.6147611608770496, 3.1801987611983193, 2.7456363615195807, 5.5721309365863565, 2.311073961840826, 2.311073961840826, 2.311073961840826, 2.3110739618408256, 2.3110739618408256, 1.8765115621620372, 1.8765115621620372, 1.8765115621620372, 1.8765115621620372, 1.8765115621620372, 1.8765115621620372, 1.8765115621620367, 1.8765115621620372, 1.8765115621620372, 1.8765115621620372, 1.8765115621620372, 1.8765115621620372, 1.8765115621620372, 1.8765115621620372, 1.8765115621620372, 1.8765115621620365, 1.8765115621620365, 4.9601213210177795, 16.84911663277416, 2.718315528302187, 8.252757388210762, 2.763816906999056, 2.766472842062731, 16.265889958636727, 2.823394840301312, 27.601673158036952, 124.65389223686448, 8.4304348892394, 2.964756538992455, 3.040090666868139, 5.070956390473199, 5.17334788477744, 5.254322587224581, 5.440676848497629, 117.1910493186128, 24.05105588677358, 135.89829391104556, 120.70755759484685, 109.80996977838713, 153.9609129727692, 28.989399711233627, 526.3364458629758, 29.172647211646808, 318.024301968298, 153.53012281114346, 49.74473409015382, 127.22203688622623, 131.6960911452032, 224.58986743403918, 156.1661569333906, 115.61171946743032, 111.4306737737039, 82.21359813822899, 105.6675127278783, 303.22431217074137, 121.58063888979058, 226.13890087711974, 68.99955225797075, 6.27420629344397, 5.459723160541444, 14.10279881331999, 4.6452400276389145, 4.2379984611876464, 3.0162737618338276, 7.9994871867887705, 2.6090321953825426, 2.6090321953825426, 2.6090321953825426, 2.6090321953825426, 2.6090321953825426, 2.6090321953825426, 2.6090321953825426, 2.609032195382542, 5.827367969364162, 2.2017906289312426, 2.2017906289312426, 2.2017906289312426, 2.2017906289312426, 2.2017906289312426, 2.2017906289312426, 2.2017906289312426, 2.2017906289312426, 2.2017906289312426, 4.0771979053204745, 1.7945490624799123, 1.7945490624799123, 1.7945490624799123, 1.7945490624799123, 4.198401703851269, 1.7945490624799123, 56.25401453621451, 2.567680225752203, 35.57849718907186, 46.73670845014818, 50.035699966052796, 24.804586486177644, 44.08092487260343, 22.609272204106464, 48.26268677346442, 12.022372838228248, 10.194681840389807, 168.56698593383308, 35.814969084347815, 59.649538723479466, 77.95174878179355, 8.329083219273835, 34.619067375396604, 140.9966301116278, 249.81344843400336, 27.437836198855287, 105.76408999649423, 526.3364458629758, 32.5632095965605, 188.69748637272866, 61.82710418656295, 318.024301968298, 131.6960911452032, 80.14536603612282, 89.20819020224783, 80.71562082870018, 135.89829391104556, 130.4135998125125, 155.3083966829674, 6.792947509505175, 5.695278718540897, 4.963499524910279, 6.834299478547586, 4.640803970838192, 2.036382750952494, 1.6704931535723597, 1.6704931535723597, 1.6704931535723597, 1.6704931535723597, 1.6704931535723597, 1.6704931535723597, 1.6704931535723597, 1.6704931535723597, 1.6704931541592398, 1.6704931541592398, 1.6704931541592398, 3.13128905189818, 1.3046035567569234, 1.3046035567569234, 1.3046035567569234, 1.3046035567569234, 1.3046035567569234, 1.3046035567569234, 1.3046035567569234, 1.3046035567569234, 1.3046035567569234, 1.3046035567569234, 1.3046035567569234, 1.3046035567569234, 5.957234572903214, 2.69006532755858, 3.7096375018325065, 9.011638101722252, 35.65520323791783, 6.091231852400842, 3.352546719745267, 2.2938002031006572, 7.7410470024559235, 47.885594656273085, 2.3287519521664857, 19.479362001145596, 188.69748637272866, 52.30896731687419, 129.83678543277355, 23.69506343037166, 59.649538723479466, 40.66571733680673, 120.70755759484685, 162.7035034095093, 59.76521559952186, 8.646357101121467, 18.528224856477355, 24.94815613998729, 184.65017622258395, 235.27387416310884, 96.42767189580394, 131.6960911452032, 112.20057293654716, 226.13890087711974, 70.28499177278579, 144.04461029424144, 144.541047820675, 249.81344843400336, 93.85962698314569, 119.77320711113678], \"Category\": [\"Default\", \"Default\", \"Default\", \"Default\", \"Default\", \"Default\", \"Default\", \"Default\", \"Default\", \"Default\", \"Default\", \"Default\", \"Default\", \"Default\", \"Default\", \"Default\", \"Default\", \"Default\", \"Default\", \"Default\", \"Default\", \"Default\", \"Default\", \"Default\", \"Default\", \"Default\", \"Default\", \"Default\", \"Default\", \"Default\", \"Topic1\", \"Topic1\", \"Topic1\", \"Topic1\", \"Topic1\", \"Topic1\", \"Topic1\", \"Topic1\", \"Topic1\", \"Topic1\", \"Topic1\", \"Topic1\", \"Topic1\", \"Topic1\", \"Topic1\", \"Topic1\", \"Topic1\", \"Topic1\", \"Topic1\", \"Topic1\", \"Topic1\", \"Topic1\", \"Topic1\", \"Topic1\", \"Topic1\", \"Topic1\", \"Topic1\", \"Topic1\", \"Topic1\", \"Topic1\", \"Topic1\", \"Topic1\", \"Topic1\", \"Topic1\", \"Topic1\", \"Topic1\", \"Topic1\", \"Topic1\", \"Topic1\", \"Topic1\", \"Topic1\", \"Topic1\", \"Topic1\", \"Topic1\", \"Topic1\", \"Topic1\", \"Topic1\", \"Topic1\", \"Topic1\", \"Topic1\", \"Topic1\", \"Topic1\", \"Topic1\", \"Topic1\", \"Topic1\", \"Topic1\", \"Topic1\", \"Topic1\", \"Topic1\", \"Topic1\", \"Topic1\", \"Topic1\", \"Topic1\", \"Topic1\", \"Topic1\", \"Topic1\", \"Topic1\", \"Topic1\", \"Topic1\", \"Topic1\", \"Topic1\", \"Topic1\", \"Topic1\", \"Topic1\", \"Topic1\", \"Topic1\", \"Topic1\", \"Topic2\", \"Topic2\", \"Topic2\", \"Topic2\", \"Topic2\", \"Topic2\", \"Topic2\", \"Topic2\", \"Topic2\", \"Topic2\", \"Topic2\", \"Topic2\", \"Topic2\", \"Topic2\", \"Topic2\", \"Topic2\", \"Topic2\", \"Topic2\", \"Topic2\", \"Topic2\", \"Topic2\", \"Topic2\", \"Topic2\", \"Topic2\", \"Topic2\", \"Topic2\", \"Topic2\", \"Topic2\", \"Topic2\", \"Topic2\", \"Topic2\", \"Topic2\", \"Topic2\", \"Topic2\", \"Topic2\", \"Topic2\", \"Topic2\", \"Topic2\", \"Topic2\", \"Topic2\", \"Topic2\", \"Topic2\", \"Topic2\", \"Topic2\", \"Topic2\", \"Topic2\", \"Topic2\", \"Topic2\", \"Topic2\", \"Topic2\", \"Topic2\", \"Topic2\", \"Topic2\", \"Topic2\", \"Topic2\", \"Topic2\", \"Topic2\", \"Topic2\", \"Topic2\", \"Topic2\", \"Topic2\", \"Topic2\", \"Topic2\", \"Topic2\", \"Topic2\", \"Topic2\", \"Topic2\", \"Topic2\", \"Topic2\", \"Topic2\", \"Topic2\", \"Topic3\", \"Topic3\", \"Topic3\", \"Topic3\", \"Topic3\", \"Topic3\", \"Topic3\", \"Topic3\", \"Topic3\", \"Topic3\", \"Topic3\", \"Topic3\", \"Topic3\", \"Topic3\", \"Topic3\", \"Topic3\", \"Topic3\", \"Topic3\", \"Topic3\", \"Topic3\", \"Topic3\", \"Topic3\", \"Topic3\", \"Topic3\", \"Topic3\", \"Topic3\", \"Topic3\", \"Topic3\", \"Topic3\", \"Topic3\", \"Topic3\", \"Topic3\", \"Topic3\", \"Topic3\", \"Topic3\", \"Topic3\", \"Topic3\", \"Topic3\", \"Topic3\", \"Topic3\", \"Topic3\", \"Topic3\", \"Topic3\", \"Topic3\", \"Topic3\", \"Topic3\", \"Topic3\", \"Topic3\", \"Topic3\", \"Topic3\", \"Topic3\", \"Topic3\", \"Topic3\", \"Topic3\", \"Topic3\", \"Topic3\", \"Topic3\", \"Topic3\", \"Topic3\", \"Topic3\", \"Topic3\", \"Topic3\", \"Topic3\", \"Topic3\", \"Topic3\", \"Topic4\", \"Topic4\", \"Topic4\", \"Topic4\", \"Topic4\", \"Topic4\", \"Topic4\", \"Topic4\", \"Topic4\", \"Topic4\", \"Topic4\", \"Topic4\", \"Topic4\", \"Topic4\", \"Topic4\", \"Topic4\", \"Topic4\", \"Topic4\", \"Topic4\", \"Topic4\", \"Topic4\", \"Topic4\", \"Topic4\", \"Topic4\", \"Topic4\", \"Topic4\", \"Topic4\", \"Topic4\", \"Topic4\", \"Topic4\", \"Topic4\", \"Topic4\", \"Topic4\", \"Topic4\", \"Topic4\", \"Topic4\", \"Topic4\", \"Topic4\", \"Topic4\", \"Topic4\", \"Topic4\", \"Topic4\", \"Topic4\", \"Topic4\", \"Topic4\", \"Topic4\", \"Topic4\", \"Topic4\", \"Topic4\", \"Topic4\", \"Topic4\", \"Topic4\", \"Topic4\", \"Topic4\", \"Topic4\", \"Topic4\", \"Topic4\", \"Topic4\", \"Topic4\", \"Topic4\", \"Topic4\", \"Topic4\", \"Topic4\", \"Topic4\", \"Topic4\", \"Topic4\", \"Topic4\", \"Topic4\", \"Topic4\", \"Topic4\", \"Topic5\", \"Topic5\", \"Topic5\", \"Topic5\", \"Topic5\", \"Topic5\", \"Topic5\", \"Topic5\", \"Topic5\", \"Topic5\", \"Topic5\", \"Topic5\", \"Topic5\", \"Topic5\", \"Topic5\", \"Topic5\", \"Topic5\", \"Topic5\", \"Topic5\", \"Topic5\", \"Topic5\", \"Topic5\", \"Topic5\", \"Topic5\", \"Topic5\", \"Topic5\", \"Topic5\", \"Topic5\", \"Topic5\", \"Topic5\", \"Topic5\", \"Topic5\", \"Topic5\", \"Topic5\", \"Topic5\", \"Topic5\", \"Topic5\", \"Topic5\", \"Topic5\", \"Topic5\", \"Topic5\", \"Topic5\", \"Topic5\", \"Topic5\", \"Topic5\", \"Topic5\", \"Topic5\", \"Topic5\", \"Topic5\", \"Topic5\", \"Topic5\", \"Topic5\", \"Topic5\", \"Topic5\", \"Topic5\", \"Topic5\", \"Topic5\", \"Topic5\", \"Topic5\", \"Topic5\", \"Topic5\", \"Topic5\", \"Topic5\", \"Topic5\", \"Topic5\", \"Topic5\", \"Topic5\", \"Topic5\", \"Topic5\", \"Topic5\", \"Topic5\", \"Topic5\", \"Topic6\", \"Topic6\", \"Topic6\", \"Topic6\", \"Topic6\", \"Topic6\", \"Topic6\", \"Topic6\", \"Topic6\", \"Topic6\", \"Topic6\", \"Topic6\", \"Topic6\", \"Topic6\", \"Topic6\", \"Topic6\", \"Topic6\", \"Topic6\", \"Topic6\", \"Topic6\", \"Topic6\", \"Topic6\", \"Topic6\", \"Topic6\", \"Topic6\", \"Topic6\", \"Topic6\", \"Topic6\", \"Topic6\", \"Topic6\", \"Topic6\", \"Topic6\", \"Topic6\", \"Topic6\", \"Topic6\", \"Topic6\", \"Topic6\", \"Topic6\", \"Topic6\", \"Topic6\", \"Topic6\", \"Topic6\", \"Topic6\", \"Topic6\", \"Topic6\", \"Topic6\", \"Topic6\", \"Topic6\", \"Topic6\", \"Topic6\", \"Topic6\", \"Topic6\", \"Topic6\", \"Topic6\", \"Topic6\", \"Topic6\", \"Topic6\", \"Topic6\", \"Topic6\", \"Topic6\", \"Topic6\", \"Topic6\", \"Topic6\", \"Topic6\", \"Topic6\", \"Topic7\", \"Topic7\", \"Topic7\", \"Topic7\", \"Topic7\", \"Topic7\", \"Topic7\", \"Topic7\", \"Topic7\", \"Topic7\", \"Topic7\", \"Topic7\", \"Topic7\", \"Topic7\", \"Topic7\", \"Topic7\", \"Topic7\", \"Topic7\", \"Topic7\", \"Topic7\", \"Topic7\", \"Topic7\", \"Topic7\", \"Topic7\", \"Topic7\", \"Topic7\", \"Topic7\", \"Topic7\", \"Topic7\", \"Topic7\", \"Topic7\", \"Topic7\", \"Topic7\", \"Topic7\", \"Topic7\", \"Topic7\", \"Topic7\", \"Topic7\", \"Topic7\", \"Topic7\", \"Topic7\", \"Topic7\", \"Topic7\", \"Topic7\", \"Topic7\", \"Topic7\", \"Topic7\", \"Topic7\", \"Topic7\", \"Topic7\", \"Topic7\", \"Topic7\", \"Topic7\", \"Topic7\", \"Topic7\", \"Topic7\", \"Topic7\", \"Topic7\", \"Topic7\", \"Topic7\", \"Topic7\", \"Topic7\", \"Topic7\", \"Topic7\", \"Topic7\", \"Topic7\", \"Topic7\", \"Topic7\", \"Topic7\", \"Topic7\", \"Topic7\", \"Topic7\", \"Topic7\", \"Topic7\", \"Topic7\", \"Topic7\", \"Topic8\", \"Topic8\", \"Topic8\", \"Topic8\", \"Topic8\", \"Topic8\", \"Topic8\", \"Topic8\", \"Topic8\", \"Topic8\", \"Topic8\", \"Topic8\", \"Topic8\", \"Topic8\", \"Topic8\", \"Topic8\", \"Topic8\", \"Topic8\", \"Topic8\", \"Topic8\", \"Topic8\", \"Topic8\", \"Topic8\", \"Topic8\", \"Topic8\", \"Topic8\", \"Topic8\", \"Topic8\", \"Topic8\", \"Topic8\", \"Topic8\", \"Topic8\", \"Topic8\", \"Topic8\", \"Topic8\", \"Topic8\", \"Topic8\", \"Topic8\", \"Topic8\", \"Topic8\", \"Topic8\", \"Topic8\", \"Topic8\", \"Topic8\", \"Topic8\", \"Topic8\", \"Topic8\", \"Topic8\", \"Topic8\", \"Topic8\", \"Topic8\", \"Topic8\", \"Topic8\", \"Topic8\", \"Topic8\", \"Topic8\", \"Topic8\", \"Topic8\", \"Topic8\", \"Topic8\", \"Topic8\", \"Topic8\", \"Topic8\", \"Topic8\", \"Topic8\", \"Topic8\", \"Topic8\", \"Topic8\", \"Topic8\", \"Topic8\", \"Topic8\", \"Topic8\", \"Topic8\", \"Topic8\", \"Topic9\", \"Topic9\", \"Topic9\", \"Topic9\", \"Topic9\", \"Topic9\", \"Topic9\", \"Topic9\", \"Topic9\", \"Topic9\", \"Topic9\", \"Topic9\", \"Topic9\", \"Topic9\", \"Topic9\", \"Topic9\", \"Topic9\", \"Topic9\", \"Topic9\", \"Topic9\", \"Topic9\", \"Topic9\", \"Topic9\", \"Topic9\", \"Topic9\", \"Topic9\", \"Topic9\", \"Topic9\", \"Topic9\", \"Topic9\", \"Topic9\", \"Topic9\", \"Topic9\", \"Topic9\", \"Topic9\", \"Topic9\", \"Topic9\", \"Topic9\", \"Topic9\", \"Topic9\", \"Topic9\", \"Topic9\", \"Topic9\", \"Topic9\", \"Topic9\", \"Topic9\", \"Topic9\", \"Topic9\", \"Topic9\", \"Topic9\", \"Topic9\", \"Topic9\", \"Topic9\", \"Topic9\", \"Topic9\", \"Topic9\", \"Topic9\", \"Topic9\", \"Topic10\", \"Topic10\", \"Topic10\", \"Topic10\", \"Topic10\", \"Topic10\", \"Topic10\", \"Topic10\", \"Topic10\", \"Topic10\", \"Topic10\", \"Topic10\", \"Topic10\", \"Topic10\", \"Topic10\", \"Topic10\", \"Topic10\", \"Topic10\", \"Topic10\", \"Topic10\", \"Topic10\", \"Topic10\", \"Topic10\", \"Topic10\", \"Topic10\", \"Topic10\", \"Topic10\", \"Topic10\", \"Topic10\", \"Topic10\", \"Topic10\", \"Topic10\", \"Topic10\", \"Topic10\", \"Topic10\", \"Topic10\", \"Topic10\", \"Topic10\", \"Topic10\", \"Topic10\", \"Topic10\", \"Topic10\", \"Topic10\", \"Topic10\", \"Topic10\", \"Topic10\", \"Topic10\", \"Topic10\", \"Topic10\", \"Topic10\", \"Topic10\", \"Topic10\", \"Topic10\", \"Topic10\", \"Topic10\", \"Topic10\", \"Topic10\", \"Topic10\", \"Topic10\", \"Topic10\", \"Topic10\", \"Topic10\", \"Topic10\", \"Topic10\", \"Topic10\", \"Topic10\", \"Topic11\", \"Topic11\", \"Topic11\", \"Topic11\", \"Topic11\", \"Topic11\", \"Topic11\", \"Topic11\", \"Topic11\", \"Topic11\", \"Topic11\", \"Topic11\", \"Topic11\", \"Topic11\", \"Topic11\", \"Topic11\", \"Topic11\", \"Topic11\", \"Topic11\", \"Topic11\", \"Topic11\", \"Topic11\", \"Topic11\", \"Topic11\", \"Topic11\", \"Topic11\", \"Topic11\", \"Topic11\", \"Topic11\", \"Topic11\", \"Topic11\", \"Topic11\", \"Topic11\", \"Topic11\", \"Topic11\", \"Topic11\", \"Topic11\", \"Topic11\", \"Topic11\", \"Topic11\", \"Topic11\", \"Topic11\", \"Topic11\", \"Topic11\", \"Topic11\", \"Topic11\", \"Topic11\", \"Topic11\", \"Topic11\", \"Topic11\", \"Topic11\", \"Topic11\", \"Topic11\", \"Topic11\", \"Topic11\", \"Topic11\", \"Topic11\", \"Topic11\", \"Topic11\", \"Topic11\", \"Topic11\", \"Topic12\", \"Topic12\", \"Topic12\", \"Topic12\", \"Topic12\", \"Topic12\", \"Topic12\", \"Topic12\", \"Topic12\", \"Topic12\", \"Topic12\", \"Topic12\", \"Topic12\", \"Topic12\", \"Topic12\", \"Topic12\", \"Topic12\", \"Topic12\", \"Topic12\", \"Topic12\", \"Topic12\", \"Topic12\", \"Topic12\", \"Topic12\", \"Topic12\", \"Topic12\", \"Topic12\", \"Topic12\", \"Topic12\", \"Topic12\", \"Topic12\", \"Topic12\", \"Topic12\", \"Topic12\", \"Topic12\", \"Topic12\", \"Topic12\", \"Topic12\", \"Topic12\", \"Topic12\", \"Topic12\", \"Topic12\", \"Topic12\", \"Topic12\", \"Topic12\", \"Topic12\", \"Topic12\", \"Topic12\", \"Topic12\", \"Topic12\", \"Topic12\", \"Topic12\", \"Topic12\", \"Topic12\", \"Topic12\", \"Topic12\", \"Topic12\", \"Topic12\", \"Topic12\", \"Topic12\", \"Topic12\", \"Topic12\", \"Topic12\", \"Topic12\", \"Topic12\", \"Topic12\", \"Topic12\", \"Topic13\", \"Topic13\", \"Topic13\", \"Topic13\", \"Topic13\", \"Topic13\", \"Topic13\", \"Topic13\", \"Topic13\", \"Topic13\", \"Topic13\", \"Topic13\", \"Topic13\", \"Topic13\", \"Topic13\", \"Topic13\", \"Topic13\", \"Topic13\", \"Topic13\", \"Topic13\", \"Topic13\", \"Topic13\", \"Topic13\", \"Topic13\", \"Topic13\", \"Topic13\", \"Topic13\", \"Topic13\", \"Topic13\", \"Topic13\", \"Topic13\", \"Topic13\", \"Topic13\", \"Topic13\", \"Topic13\", \"Topic13\", \"Topic13\", \"Topic13\", \"Topic13\", \"Topic13\", \"Topic13\", \"Topic13\", \"Topic13\", \"Topic13\", \"Topic13\", \"Topic13\", \"Topic13\", \"Topic13\", \"Topic13\", \"Topic13\", \"Topic13\", \"Topic13\", \"Topic13\", \"Topic13\", \"Topic13\", \"Topic13\", \"Topic13\", \"Topic13\", \"Topic13\", \"Topic13\", \"Topic13\", \"Topic13\", \"Topic13\", \"Topic13\", \"Topic13\", \"Topic13\", \"Topic13\", \"Topic13\", \"Topic13\", \"Topic13\", \"Topic13\", \"Topic14\", \"Topic14\", \"Topic14\", \"Topic14\", \"Topic14\", \"Topic14\", \"Topic14\", \"Topic14\", \"Topic14\", \"Topic14\", \"Topic14\", \"Topic14\", \"Topic14\", \"Topic14\", \"Topic14\", \"Topic14\", \"Topic14\", \"Topic14\", \"Topic14\", \"Topic14\", \"Topic14\", \"Topic14\", \"Topic14\", \"Topic14\", \"Topic14\", \"Topic14\", \"Topic14\", \"Topic14\", \"Topic14\", \"Topic14\", \"Topic14\", \"Topic14\", \"Topic14\", \"Topic14\", \"Topic14\", \"Topic14\", \"Topic14\", \"Topic14\", \"Topic14\", \"Topic14\", \"Topic14\", \"Topic14\", \"Topic14\", \"Topic14\", \"Topic14\", \"Topic14\", \"Topic14\", \"Topic14\", \"Topic14\", \"Topic14\", \"Topic14\", \"Topic14\", \"Topic14\", \"Topic14\", \"Topic14\", \"Topic14\", \"Topic14\", \"Topic14\", \"Topic14\", \"Topic14\", \"Topic14\", \"Topic14\", \"Topic14\", \"Topic14\", \"Topic14\", \"Topic15\", \"Topic15\", \"Topic15\", \"Topic15\", \"Topic15\", \"Topic15\", \"Topic15\", \"Topic15\", \"Topic15\", \"Topic15\", \"Topic15\", \"Topic15\", \"Topic15\", \"Topic15\", \"Topic15\", \"Topic15\", \"Topic15\", \"Topic15\", \"Topic15\", \"Topic15\", \"Topic15\", \"Topic15\", \"Topic15\", \"Topic15\", \"Topic15\", \"Topic15\", \"Topic15\", \"Topic15\", \"Topic15\", \"Topic15\", \"Topic15\", \"Topic15\", \"Topic15\", \"Topic15\", \"Topic15\", \"Topic15\", \"Topic15\", \"Topic15\", \"Topic15\", \"Topic15\", \"Topic15\", \"Topic15\", \"Topic15\", \"Topic15\", \"Topic15\", \"Topic15\", \"Topic15\", \"Topic15\", \"Topic15\", \"Topic15\", \"Topic15\", \"Topic15\", \"Topic15\", \"Topic15\", \"Topic15\", \"Topic15\", \"Topic15\", \"Topic15\", \"Topic15\", \"Topic15\", \"Topic15\", \"Topic15\", \"Topic15\", \"Topic15\", \"Topic15\", \"Topic15\"], \"logprob\": [30.0, 29.0, 28.0, 27.0, 26.0, 25.0, 24.0, 23.0, 22.0, 21.0, 20.0, 19.0, 18.0, 17.0, 16.0, 15.0, 14.0, 13.0, 12.0, 11.0, 10.0, 9.0, 8.0, 7.0, 6.0, 5.0, 4.0, 3.0, 2.0, 1.0, -6.8843, -7.0623, -7.4792, -7.6834, -7.7298, -7.9404, -7.9404, -8.287, -8.287, -8.3736, -8.3736, -8.4683, -8.5729, -8.0007, -8.6898, -8.6898, -8.6898, -8.6898, -8.6898, -8.8221, -8.8221, -8.8221, -8.8221, -8.8221, -8.8221, -8.8221, -8.8221, -8.8221, -8.8221, -8.8221, -8.1337, -7.2492, -7.8848, -8.0007, -7.4079, -7.7298, -8.065, -8.4683, -8.2074, -8.4683, -8.2074, -7.6834, -7.279, -7.6844, -7.7298, -7.0883, -7.1352, -7.0623, -6.3209, -6.0936, -6.0314, -7.2664, -7.4435, -6.9218, -6.5868, -5.938, -6.4899, -6.8642, -7.4097, -6.5894, -6.4876, -6.9565, -6.9045, -7.5174, -7.2441, -7.1014, -6.9199, -7.0639, -7.0678, -6.9657, -6.9085, -7.2667, -7.1368, -7.1488, -7.1735, -7.1713, -7.2493, -6.6776, -7.5433, -6.8282, -7.7538, -8.187, -8.2817, -8.2817, -8.3864, -8.3864, -7.5919, -8.5032, -8.5032, -8.6356, -8.6356, -8.6356, -8.6356, -8.6356, -8.7882, -8.7882, -8.7882, -8.7882, -8.7882, -8.7882, -7.643, -8.9683, -8.9683, -8.9683, -8.9683, -8.9683, -8.9683, -7.4101, -7.2564, -7.5433, -7.5919, -8.187, -7.2564, -7.8142, -6.9004, -7.9472, -8.1005, -7.8785, -7.8785, -8.0209, -7.9727, -7.0337, -7.8142, -6.1834, -6.6701, -5.9057, -6.9823, -6.9892, -6.4818, -6.9238, -7.0056, -7.0715, -6.7948, -7.0056, -6.8874, -6.7828, -7.1752, -7.4101, -7.1722, -7.0986, -6.9516, -6.926, -7.1332, -7.124, -7.1481, -7.0789, -7.2564, -7.2927, -7.0244, -7.1375, -7.1375, -7.4111, -6.6685, -7.5823, -7.6465, -7.7152, -6.9556, -7.789, -7.789, -7.0607, -7.8686, -7.8686, -7.8686, -8.0498, -8.0498, -8.2713, -8.2713, -8.4036, -8.4036, -8.4036, -8.4036, -8.5562, -8.5562, -8.5562, -8.5562, -8.5562, -8.5562, -8.7363, -7.9569, -6.5289, -7.2649, -7.5823, -7.8686, -7.6465, -8.2713, -7.0984, -7.2649, -7.4111, -6.4867, -6.8277, -7.3613, -7.6465, -6.4421, -7.1782, -5.8903, -6.3896, -7.0984, -7.4111, -7.1375, -6.8818, -6.9179, -7.0987, -6.6904, -7.0619, -6.9894, -6.7789, -7.0244, -7.1213, -7.0156, -7.017, -7.1027, -7.122, -7.1782, -6.0394, -6.9544, -7.177, -7.5207, -7.5207, -7.6453, -7.714, -7.8674, -7.9539, -8.0486, -8.1532, -8.2701, -8.2701, -5.8684, -8.4024, -8.4024, -8.4024, -8.555, -8.555, -8.555, -8.555, -8.555, -8.555, -8.555, -8.7351, -8.7351, -8.7351, -8.7351, -8.7351, -8.7351, -7.2194, -6.0531, -8.0486, -6.1101, -8.4024, -7.2156, -7.6453, -7.2617, -7.3494, -7.9539, -7.3588, -8.1532, -7.0234, -7.5207, -6.3863, -7.3126, -6.9311, -6.8573, -6.623, -6.808, -7.4253, -7.0972, -6.8295, -6.2763, -6.7722, -6.9592, -6.6426, -6.2571, -6.5582, -6.7813, -6.8586, -6.813, -6.9178, -6.987, -6.8897, -7.0576, -6.9877, -6.9824, -7.0563, -7.119, -7.0474, -8.0365, -8.258, -6.2671, -6.2841, -8.3903, -8.3903, -8.5429, -8.5429, -8.5429, -8.5429, -8.5429, -7.8553, -8.723, -8.723, -8.723, -8.723, -8.723, -8.723, -8.723, -8.723, -8.723, -8.723, -8.723, -8.723, -8.723, -8.723, -8.723, -8.723, -8.723, -7.298, -7.7757, -7.7019, -6.0822, -7.9418, -7.7757, -7.8553, -7.5086, -6.3932, -6.4731, -8.3903, -5.7807, -8.258, -8.258, -6.0416, -7.1649, -6.8779, -7.8555, -6.9762, -7.5691, -7.2073, -7.569, -6.0964, -7.8553, -7.0474, -6.7885, -6.0965, -6.7604, -6.9096, -6.8779, -6.7889, -6.9099, -6.7068, -6.7607, -6.9424, -6.9423, -6.9096, -7.0113, -6.9763, -7.0853, -6.9099, -7.1242, -6.5791, -6.9384, -7.2942, -7.3939, -7.4478, -7.4478, -7.4478, -7.4478, -6.6766, -7.7718, -7.7718, -7.7718, -7.7718, -7.8514, -7.8514, -7.9379, -8.0326, -8.2541, -8.2541, -8.2541, -8.2541, -8.2541, -8.3865, -7.6294, -7.6294, -8.539, -8.539, -8.539, -8.539, -8.539, -7.7718, -8.539, -7.448, -6.874, -7.0435, -7.5047, -8.0326, -6.6026, -6.8433, -7.3941, -6.2464, -7.8514, -6.9723, -6.2462, -6.2135, -7.0073, -6.4691, -6.971, -7.2478, -6.7291, -6.0504, -7.2035, -6.8426, -6.4696, -6.8135, -6.7857, -7.1205, -6.8742, -6.8423, -6.7631, -7.0813, -6.9389, -7.008, -7.2035, -7.1601, -7.3044, -7.7334, -7.8995, -8.2157, -8.3481, -8.3481, -8.3481, -8.3481, -8.5007, -8.5007, -8.5007, -8.6808, -8.6808, -8.6808, -8.9006, -8.9006, -8.9006, -8.9006, -8.9006, -8.9006, -8.9006, -8.9006, -8.9006, -8.9006, -8.9006, -8.9006, -8.9006, -8.9006, -8.9006, -8.9006, -8.2157, -7.813, -6.8356, -8.5007, -7.8995, -8.2157, -6.8049, -5.7281, -7.7334, -7.5267, -5.9082, -8.5007, -7.7334, -8.0989, -7.9942, -7.3044, -6.3132, -5.7595, -7.0428, -7.591, -7.3555, -6.4309, -7.0428, -6.6641, -6.8049, -7.4663, -6.4734, -7.4663, -7.0428, -6.8356, -6.6641, -6.5883, -6.8049, -6.3703, -6.8673, -6.8673, -6.7751, -6.9689, -7.2094, -6.7462, -7.0819, -7.0428, -6.9689, -7.1651, -7.1651, -7.2094, -7.549, -7.6177, -7.9522, -7.9522, -8.0569, -8.0569, -8.1737, -8.1737, -8.1737, -8.3061, -8.4587, -8.4587, -8.6388, -7.1231, -8.8586, -8.8586, -8.8586, -8.8586, -8.8586, -8.4587, -7.771, -9.1409, -9.1409, -9.1409, -9.1409, -9.1409, -9.1409, -9.1409, -9.1409, -9.1409, -8.1737, -7.8575, -8.4587, -7.4847, -7.8575, -8.6388, -6.7042, -8.4587, -7.771, -6.8253, -7.549, -8.1737, -8.1737, -7.1674, -8.1737, -7.2138, -7.0008, -6.5962, -6.2713, -7.771, -6.7042, -7.4847, -6.3889, -7.3674, -7.2624, -7.549, -6.8919, -7.0399, -6.9269, -6.9632, -6.8581, -6.6221, -7.0806, -7.3674, -7.1231, -7.2624, -7.3135, -7.2624, -7.2138, -7.3674, -7.3674, -7.4243, -7.4243, -7.4243, -5.9675, -6.4524, -6.6751, -7.0045, -6.4524, -7.4304, -7.4991, -7.739, -7.739, -7.0488, -7.9383, -7.0045, -8.0552, -8.0552, -8.0552, -8.0552, -8.0552, -6.9214, -8.1875, -8.1875, -8.1875, -8.1875, -8.1875, -7.4304, -8.3401, -8.3401, -8.3401, -8.3401, -7.5728, -7.5728, -7.2488, -7.4304, -5.8793, -6.6751, -7.4304, -7.1538, -7.3662, -6.2703, -7.9383, -7.4563, -7.0952, -6.7733, -7.3662, -7.8337, -7.8337, -7.0952, -6.9621, -6.9214, -6.5168, -6.7627, -6.6996, -6.9493, -6.9621, -7.118, -7.2488, -7.2427, -7.3662, -7.3163, -6.2174, -7.0551, -7.433, -7.6938, -7.7985, -7.7985, -8.0477, -8.0477, -8.0477, -8.2002, -8.2002, -8.2002, -8.2002, -8.3804, -8.3804, -8.3804, -8.3804, -8.3804, -8.3804, -8.3804, -8.6002, -8.6002, -8.6002, -8.6002, -8.6002, -8.6002, -8.6002, -8.6002, -8.6002, -8.6002, -5.8713, -8.0477, -7.9153, -5.338, -7.4304, -8.2002, -6.6335, -8.3804, -7.9153, -6.7815, -6.3899, -6.4747, -6.8222, -6.8207, -7.426, -6.8647, -7.5966, -6.8647, -6.0309, -6.504, -6.8219, -7.0023, -6.8647, -6.742, -6.6673, -7.054, -7.2263, -7.0551, -7.1086, -7.004, -7.2904, -7.2896, -7.165, -7.3586, -7.2903, -7.3592, -6.2532, -6.9985, -7.3225, -7.3225, -7.4886, -7.4886, -7.5833, -7.5833, -7.5833, -7.688, -7.688, -7.688, -7.8048, -7.9372, -7.9372, -7.9372, -7.9372, -8.0898, -8.0898, -8.0898, -8.0898, -8.0898, -6.9985, -8.2699, -8.2699, -8.2699, -8.2699, -8.2699, -8.2699, -8.4897, -7.688, -4.6992, -6.7542, -6.9985, -7.0554, -7.4886, -7.688, -5.6289, -7.0554, -6.523, -6.8935, -6.8449, -6.3072, -6.5943, -6.7117, -7.4021, -6.671, -6.7542, -6.8935, -6.4564, -6.7117, -7.1158, -6.9446, -6.9985, -7.1801, -7.0554, -7.1801, -7.2488, -7.1801, -7.2488, -7.3225, -6.9937, -7.3973, -7.4839, -6.7494, -7.9324, -7.9324, -7.9324, -7.9324, -7.3973, -8.2651, -8.2651, -8.2651, -8.2651, -7.4839, -7.244, -8.485, -8.485, -8.485, -8.485, -8.485, -8.7672, -8.7672, -8.7672, -8.7672, -8.7672, -8.7672, -8.7672, -8.7672, -8.7672, -8.7672, -7.4839, -8.085, -7.8001, -7.4839, -6.4517, -6.42, -6.4757, -7.6832, -7.7608, -7.6832, -7.244, -6.6562, -6.5791, -6.7048, -6.9937, -6.1461, -6.9399, -7.0507, -7.45, -6.6663, -6.6999, -6.8887, -6.4399, -6.6244, -7.1714, -7.111, -6.9706, -7.0507, -7.1753, -7.0394, -7.1037, -7.029, -7.1613, -7.1753, -7.1753, -7.1753, -7.2294, -7.285, -7.5458, -7.8996, -7.8996, -7.8996, -8.0522, -8.2323, -7.5458, -8.4522, -8.4522, -8.4522, -8.4522, -8.4522, -8.7344, -8.7344, -8.7344, -8.7344, -8.7344, -8.7344, -8.7344, -8.7344, -8.7344, -8.7344, -8.7344, -8.7344, -8.7344, -8.7344, -8.7344, -8.7344, -8.7344, -7.7673, -7.0179, -8.4522, -7.6504, -8.4522, -8.4522, -7.2112, -8.4522, -6.9071, -5.9025, -7.7673, -8.4522, -8.4522, -8.2323, -8.2323, -8.2323, -8.2323, -6.8073, -7.5458, -6.8073, -6.961, -7.0179, -7.0783, -7.6504, -6.6742, -7.6504, -6.9071, -7.2112, -7.5458, -7.285, -7.285, -7.1425, -7.285, -7.3646, -7.4511, -7.5458, -7.5458, -7.4511, -7.5458, -7.5458, -7.6504, -7.1641, -7.3175, -6.3718, -7.4987, -7.6033, -8.0051, -7.0312, -8.1853, -8.1853, -8.1853, -8.1853, -8.1853, -8.1853, -8.1853, -8.1853, -7.404, -8.4051, -8.4051, -8.4051, -8.4051, -8.4051, -8.4051, -8.4051, -8.4051, -8.4051, -7.8525, -8.6873, -8.6873, -8.6873, -8.6873, -7.8525, -8.6873, -5.9227, -8.4051, -6.3718, -6.2507, -6.6271, -7.0312, -6.7139, -7.0955, -6.6887, -7.4987, -7.6033, -6.1603, -6.9708, -6.7567, -6.8089, -7.7202, -7.1641, -6.6271, -6.4237, -7.3175, -6.9139, -6.4671, -7.3175, -6.8795, -7.1641, -6.7957, -7.0225, -7.2231, -7.226, -7.2379, -7.2257, -7.3026, -7.3053, -6.9033, -7.0966, -7.2499, -6.9636, -7.4356, -8.3376, -8.6198, -8.6198, -8.6198, -8.6198, -8.6198, -8.6198, -8.6198, -8.6198, -8.6198, -8.6198, -8.6198, -8.1177, -9.0145, -9.0145, -9.0145, -9.0145, -9.0145, -9.0145, -9.0145, -9.0145, -9.0145, -9.0145, -9.0145, -9.0145, -7.5358, -8.3376, -8.1177, -7.4312, -6.337, -7.785, -8.3376, -8.6198, -7.785, -6.5596, -8.6198, -7.2536, -5.9241, -6.7416, -6.4421, -7.3365, -6.9076, -7.0974, -6.6545, -6.5596, -7.0279, -7.9376, -7.6526, -7.5358, -6.7943, -6.7444, -7.1721, -7.1065, -7.2532, -7.1, -7.4312, -7.3365, -7.3389, -7.2861, -7.4434, -7.4312], \"loglift\": [30.0, 29.0, 28.0, 27.0, 26.0, 25.0, 24.0, 23.0, 22.0, 21.0, 20.0, 19.0, 18.0, 17.0, 16.0, 15.0, 14.0, 13.0, 12.0, 11.0, 10.0, 9.0, 8.0, 7.0, 6.0, 5.0, 4.0, 3.0, 2.0, 1.0, 1.8966, 1.894, 1.8857, 1.8802, 1.8788, 1.8716, 1.8716, 1.856, 1.856, 1.8512, 1.8512, 1.8455, 1.8387, 1.8349, 1.8301, 1.8301, 1.8301, 1.8301, 1.8301, 1.8193, 1.8193, 1.8193, 1.8193, 1.8193, 1.8193, 1.8193, 1.8193, 1.8193, 1.8193, 1.8193, 1.8104, 1.7539, 1.7702, 1.7729, 1.7328, 1.7386, 1.7602, 1.7858, 1.7573, 1.7716, 1.7252, 1.605, 1.5003, 1.5916, 1.5926, 1.363, 1.3439, 1.3185, 0.9845, 0.7837, 0.6868, 1.2792, 1.3413, 0.9683, 0.6995, 0.2288, 0.5285, 0.7751, 1.2208, 0.3226, 0.183, 0.6125, 0.4828, 1.3094, 0.8898, 0.6591, 0.2943, 0.5355, 0.5189, 0.2268, 0.0634, 0.7571, 0.262, 0.1747, 0.1547, -0.1597, 0.3329, 2.1435, 2.1242, 2.1172, 2.1165, 2.0948, 2.0888, 2.0888, 2.0814, 2.0814, 2.0803, 2.0724, 2.0724, 2.0608, 2.0608, 2.0608, 2.0608, 2.0608, 2.0457, 2.0457, 2.0457, 2.0457, 2.0457, 2.0457, 2.0334, 2.025, 2.025, 2.025, 2.025, 2.025, 2.025, 1.9741, 1.9301, 1.9377, 1.8571, 1.929, 1.8106, 1.8479, 1.595, 1.8337, 1.8555, 1.7725, 1.7713, 1.8149, 1.7868, 1.3663, 1.6633, 0.7885, 0.8139, 0.2611, 0.9275, 0.7081, 0.1887, 0.5969, 0.6768, 0.7323, 0.4194, 0.6521, 0.4408, 0.1291, 0.6923, 1.0381, 0.5213, 0.2831, -0.0743, -0.2078, 0.3525, 0.2632, 0.2479, -0.0674, 0.451, 0.1664, 2.4636, 2.4602, 2.4602, 2.4505, 2.448, 2.443, 2.4398, 2.4363, 2.4338, 2.4321, 2.4321, 2.4276, 2.4273, 2.4273, 2.4273, 2.415, 2.415, 2.3968, 2.3968, 2.3841, 2.3841, 2.3841, 2.3841, 2.3674, 2.3674, 2.3674, 2.3674, 2.3674, 2.3674, 2.3446, 2.2897, 2.1692, 2.2106, 2.2396, 2.2543, 2.1886, 2.293, 1.9138, 1.9223, 1.9314, 1.4619, 1.6147, 1.7937, 1.9769, 1.0204, 1.5423, 0.2764, 0.4877, 1.2987, 1.6686, 1.1738, 0.6802, 0.6953, 1.0594, 0.2215, 0.9615, 0.577, -0.1084, 0.6226, 0.8298, 0.0028, -0.2988, 0.1115, 0.1835, 0.4539, 2.4826, 2.4669, 2.4604, 2.4473, 2.4473, 2.4413, 2.4377, 2.4288, 2.4232, 2.4165, 2.4083, 2.3983, 2.3983, 2.3928, 2.3855, 2.3855, 2.3855, 2.3689, 2.3689, 2.3689, 2.3689, 2.3689, 2.3689, 2.3689, 2.346, 2.346, 2.346, 2.346, 2.346, 2.346, 2.3397, 2.2741, 2.2966, 2.0702, 2.3013, 2.1333, 2.1263, 2.016, 2.0272, 2.1763, 1.9492, 2.2058, 1.7334, 1.9433, 1.3941, 1.7826, 1.5471, 1.454, 1.2444, 1.3727, 1.7439, 1.4082, 1.1451, 0.3942, 0.8967, 1.1159, 0.6437, -0.0904, 0.1599, 0.5469, 0.6622, 0.1986, 0.3877, 0.5952, 0.0223, 0.6724, 0.3176, 0.2318, 0.2844, 0.6149, 2.4471, 2.4347, 2.4164, 2.4148, 2.4132, 2.4036, 2.4036, 2.3868, 2.3868, 2.3868, 2.3868, 2.3868, 2.374, 2.3638, 2.3638, 2.3638, 2.3638, 2.3638, 2.3638, 2.3638, 2.3638, 2.3638, 2.3638, 2.3638, 2.3638, 2.3638, 2.3638, 2.3638, 2.3638, 2.3638, 2.3175, 2.3086, 2.2356, 1.8916, 2.2184, 2.1798, 2.1737, 2.0672, 1.7869, 1.6849, 2.2634, 1.4118, 2.2169, 2.2016, 1.2991, 1.7514, 1.6176, 2.011, 1.5501, 1.8348, 1.5574, 1.784, 0.8155, 1.9304, 1.3105, 0.8692, 0.0702, 0.7604, 0.7374, 0.6743, 0.5345, 0.6895, 0.2651, 0.2508, 0.5868, 0.5416, 0.3767, 0.6018, 0.4196, 0.4766, -0.1917, 0.3383, 2.4993, 2.4914, 2.4802, 2.4763, 2.4741, 2.4741, 2.4741, 2.4741, 2.4738, 2.4578, 2.4578, 2.4578, 2.4578, 2.4529, 2.4529, 2.4472, 2.4405, 2.4222, 2.4222, 2.4222, 2.4222, 2.4222, 2.4093, 2.4039, 2.4039, 2.3925, 2.3925, 2.3925, 2.3925, 2.3925, 2.3876, 2.3925, 2.3748, 2.3372, 2.3171, 2.3393, 2.3524, 2.1093, 2.087, 2.1447, 1.7046, 2.267, 1.9205, 1.5301, 1.1737, 1.7132, 1.2433, 1.6643, 1.8354, 1.2196, 0.1163, 1.6676, 1.1331, 0.5487, 0.9668, 0.7435, 1.4254, 0.5849, 0.3502, -0.0926, 0.9298, 0.0726, 0.2975, 1.0056, -0.2481, 2.5369, 2.5158, 2.5051, 2.4795, 2.4664, 2.4664, 2.4664, 2.4664, 2.4492, 2.4492, 2.4492, 2.4257, 2.4257, 2.4257, 2.3917, 2.3917, 2.3917, 2.3917, 2.3917, 2.3917, 2.3917, 2.3917, 2.3917, 2.3917, 2.3917, 2.3917, 2.3917, 2.3917, 2.3917, 2.3917, 2.3706, 2.3385, 2.2504, 2.3508, 2.2741, 2.3036, 2.0752, 1.8541, 2.1855, 2.0988, 1.6989, 2.2871, 2.0338, 2.1406, 2.0929, 1.8576, 1.3338, 0.9587, 1.614, 1.8836, 1.7283, 1.2012, 1.5156, 1.0659, 1.1697, 1.6667, 0.8129, 1.6464, 1.1052, 0.8332, 0.5284, 0.4232, 0.5006, -0.2036, 0.5286, 0.4561, 0.1022, 0.4902, 1.0083, -0.0757, 0.6895, 0.3389, 0.0495, 0.5542, 0.4926, 0.7393, 2.5889, 2.5851, 2.5626, 2.5626, 2.5541, 2.5541, 2.5435, 2.5435, 2.5435, 2.53, 2.5124, 2.5124, 2.4884, 2.4725, 2.4536, 2.4536, 2.4536, 2.4536, 2.4536, 2.4222, 2.4044, 2.3987, 2.3987, 2.3987, 2.3987, 2.3987, 2.3987, 2.3987, 2.3987, 2.3987, 2.3507, 2.3275, 2.3563, 2.2768, 2.219, 2.3253, 2.0301, 2.2862, 2.1454, 1.9394, 1.9836, 2.1633, 2.1628, 1.6797, 2.1437, 1.6578, 1.4307, 1.0109, 0.7471, 1.8167, 0.825, 1.4968, 0.2817, 1.2802, 1.1212, 1.4721, 0.5069, 0.6071, 0.3594, 0.365, 0.1139, -0.4554, 0.4883, 1.0681, 0.3626, 0.4569, 0.38, 0.0431, -0.2023, 0.2719, 0.0143, 0.2831, 0.1624, -0.2101, 2.8275, 2.8187, 2.8131, 2.8022, 2.7914, 2.7818, 2.7777, 2.7611, 2.7611, 2.7519, 2.7442, 2.7418, 2.7327, 2.7327, 2.7327, 2.7327, 2.7327, 2.7321, 2.7182, 2.7182, 2.7182, 2.7182, 2.7182, 2.7134, 2.6993, 2.6993, 2.6993, 2.6993, 2.6864, 2.6812, 2.67, 2.6482, 2.3645, 2.4291, 2.4774, 2.3839, 2.449, 1.9517, 2.5599, 2.2179, 1.8725, 1.3019, 1.9158, 2.4558, 2.4548, 1.2281, 0.9867, 0.7107, -0.3501, 0.2488, -0.029, 0.4325, 0.3661, 0.3677, 0.4447, -0.3654, 1.3032, -0.2979, 3.0748, 3.0447, 3.021, 2.9991, 2.9887, 2.9887, 2.9597, 2.9597, 2.9597, 2.9386, 2.9386, 2.9386, 2.9386, 2.9098, 2.9098, 2.9098, 2.9098, 2.9098, 2.9098, 2.9098, 2.8685, 2.8685, 2.8685, 2.8685, 2.8685, 2.8685, 2.8685, 2.8685, 2.8685, 2.8685, 2.8455, 2.8558, 2.8477, 2.1245, 2.5705, 2.7459, 2.0513, 2.7742, 2.5328, 1.9627, 1.5847, 1.5364, 1.656, 1.4965, 2.0177, 1.2934, 2.0358, 1.1587, 0.1358, 0.5076, 0.9495, 0.9463, 0.4761, 0.23, 0.0509, 0.7184, 1.0949, 0.404, 0.4436, -0.1267, 0.7253, 0.6503, -0.2531, 0.8152, -0.6198, 0.1247, 3.2959, 3.2628, 3.2394, 3.2394, 3.2244, 3.2244, 3.2148, 3.2148, 3.2148, 3.2032, 3.2032, 3.2032, 3.1889, 3.1709, 3.1709, 3.1709, 3.1709, 3.1474, 3.1474, 3.1474, 3.1474, 3.1474, 3.1162, 3.1155, 3.1155, 3.1155, 3.1155, 3.1155, 3.1155, 3.0698, 3.0498, 2.8671, 2.8956, 2.8754, 2.6672, 2.8238, 2.8543, 1.855, 2.5077, 2.033, 2.2776, 1.8837, 1.0801, 1.3545, 1.4694, 2.2973, 0.7107, 0.8529, 1.1482, -0.2897, -0.0412, 1.287, 0.6548, 0.7818, 1.3331, 0.268, 0.5923, 1.1136, 0.1252, 0.3644, 1.326, 3.2731, 3.2426, 3.2345, 3.2185, 3.1806, 3.1806, 3.1806, 3.1806, 3.1386, 3.125, 3.125, 3.125, 3.125, 3.1111, 3.0996, 3.079, 3.079, 3.079, 3.079, 3.079, 3.0074, 3.0074, 3.0074, 3.0074, 3.0074, 3.0074, 3.0074, 3.0074, 3.0074, 3.0074, 2.9314, 2.9455, 2.9166, 2.8436, 2.6266, 2.5718, 2.5783, 2.7539, 2.7626, 2.6813, 2.4681, 1.8481, 1.5549, 1.3704, 1.6286, 0.7312, 1.5412, 1.5979, 2.0836, 0.6745, 0.696, 1.0014, -0.2731, 0.0938, 1.3656, 0.9655, 0.3529, 0.6182, 1.0032, 0.3423, 0.2019, -0.3585, 0.2374, 0.3769, 0.3539, -0.2634, 0.7342, 3.3196, 3.2939, 3.248, 3.248, 3.248, 3.2235, 3.1903, 3.1691, 3.1428, 3.1428, 3.1428, 3.1428, 3.1428, 3.0688, 3.0688, 3.0688, 3.0688, 3.0688, 3.0688, 3.0688, 3.0688, 3.0688, 3.0688, 3.0688, 3.0688, 3.0688, 3.0688, 3.0688, 3.0688, 3.0688, 3.064, 2.5905, 2.9805, 2.6717, 2.9639, 2.9629, 2.4324, 2.9425, 2.2077, 1.7046, 2.5335, 2.8937, 2.8686, 2.5768, 2.5568, 2.5413, 2.5064, 0.8615, 1.7067, 0.7134, 0.6783, 0.716, 0.3177, 1.4153, -0.5075, 1.409, -0.2365, 0.1876, 0.98, 0.3018, 0.2672, -0.1242, 0.0968, 0.3178, 0.2682, 0.4775, 0.2266, -0.7329, 0.0863, -0.5343, 0.5481, 3.4321, 3.4178, 3.4145, 3.3981, 3.3852, 3.3235, 3.3221, 3.2884, 3.2884, 3.2884, 3.2884, 3.2884, 3.2884, 3.2884, 3.2884, 3.2661, 3.2383, 3.2383, 3.2383, 3.2383, 3.2383, 3.2383, 3.2383, 3.2383, 3.2383, 3.1747, 3.1606, 3.1606, 3.1606, 3.1606, 3.1454, 3.1606, 2.48, 3.0845, 2.4891, 2.3374, 1.8928, 2.1904, 1.9328, 2.2189, 1.8673, 2.4472, 2.5075, 1.145, 1.8835, 1.5874, 1.2677, 2.5927, 1.7241, 0.8568, 0.4882, 1.8032, 0.8576, -0.3004, 1.632, 0.3131, 1.1442, -0.1252, 0.5296, 0.8257, 0.7157, 0.8039, 0.295, 0.2594, 0.0819, 3.6135, 3.5964, 3.5806, 3.5471, 3.4622, 3.3839, 3.2997, 3.2997, 3.2997, 3.2997, 3.2997, 3.2997, 3.2997, 3.2997, 3.2997, 3.2997, 3.2997, 3.1735, 3.1523, 3.1523, 3.1523, 3.1523, 3.1523, 3.1523, 3.1523, 3.1523, 3.1523, 3.1523, 3.1523, 3.1523, 3.1123, 3.1055, 3.004, 2.803, 2.5218, 2.8408, 2.8854, 2.9827, 2.6011, 2.0043, 2.9675, 2.2097, 1.2684, 1.7339, 1.1243, 1.9309, 1.4366, 1.6298, 0.9848, 0.7812, 1.3143, 2.3379, 1.8607, 1.6801, 0.4199, 0.2275, 0.6918, 0.4456, 0.4592, -0.0885, 0.7489, 0.1261, 0.1202, -0.3742, 0.4475, 0.2159]}, \"token.table\": {\"Topic\": [3, 3, 2, 12, 15, 3, 1, 1, 3, 4, 5, 6, 7, 9, 12, 1, 2, 3, 5, 6, 10, 11, 15, 13, 1, 2, 3, 4, 5, 6, 7, 8, 9, 10, 15, 15, 4, 6, 6, 2, 2, 5, 8, 5, 5, 11, 14, 14, 14, 7, 3, 12, 1, 4, 6, 8, 12, 12, 12, 10, 5, 6, 14, 1, 3, 4, 5, 7, 9, 10, 6, 8, 7, 2, 2, 7, 9, 11, 1, 2, 3, 4, 5, 6, 8, 10, 11, 12, 14, 10, 12, 2, 9, 10, 14, 9, 14, 3, 3, 15, 5, 9, 15, 15, 15, 1, 1, 4, 5, 6, 7, 8, 9, 10, 12, 15, 1, 7, 2, 1, 3, 4, 5, 6, 7, 8, 9, 10, 6, 1, 3, 5, 6, 7, 9, 11, 14, 7, 1, 2, 3, 4, 5, 6, 7, 8, 9, 10, 11, 12, 13, 15, 15, 13, 1, 4, 5, 6, 10, 12, 2, 5, 6, 8, 10, 1, 5, 8, 1, 2, 5, 6, 8, 8, 13, 7, 14, 14, 14, 1, 2, 8, 1, 2, 3, 4, 5, 6, 7, 8, 9, 10, 11, 12, 13, 14, 15, 6, 8, 2, 6, 8, 2, 1, 2, 3, 4, 5, 6, 7, 8, 9, 10, 11, 12, 13, 15, 1, 2, 3, 4, 5, 6, 7, 8, 9, 10, 1, 14, 14, 14, 1, 2, 3, 5, 7, 9, 7, 2, 12, 11, 14, 1, 2, 3, 4, 7, 9, 10, 14, 14, 2, 3, 6, 7, 10, 3, 1, 1, 2, 3, 4, 5, 6, 7, 8, 9, 10, 11, 12, 13, 14, 15, 1, 2, 3, 4, 5, 6, 7, 8, 9, 12, 13, 1, 6, 8, 1, 2, 4, 5, 6, 7, 8, 10, 15, 15, 1, 4, 7, 1, 2, 3, 4, 5, 6, 7, 8, 9, 10, 11, 12, 13, 14, 15, 7, 10, 8, 9, 10, 8, 2, 4, 5, 6, 7, 9, 10, 2, 4, 6, 9, 2, 4, 15, 15, 1, 2, 3, 4, 5, 6, 7, 8, 10, 3, 15, 6, 1, 2, 3, 4, 5, 6, 10, 11, 12, 13, 14, 6, 6, 8, 2, 1, 2, 3, 4, 5, 6, 8, 9, 10, 13, 8, 8, 2, 4, 4, 9, 15, 7, 10, 1, 8, 13, 9, 9, 9, 1, 2, 3, 8, 11, 14, 14, 14, 11, 11, 1, 2, 3, 4, 5, 6, 7, 8, 9, 10, 11, 12, 13, 9, 9, 9, 1, 2, 4, 5, 7, 8, 9, 1, 5, 9, 12, 15, 1, 1, 12, 12, 8, 1, 2, 3, 4, 5, 6, 7, 8, 9, 10, 11, 12, 13, 14, 15, 1, 2, 3, 4, 5, 6, 7, 8, 9, 10, 11, 12, 13, 14, 15, 7, 1, 2, 3, 4, 5, 6, 7, 8, 9, 10, 11, 12, 13, 14, 15, 7, 3, 5, 7, 9, 4, 11, 1, 3, 5, 7, 8, 9, 10, 13, 1, 2, 3, 4, 5, 6, 7, 8, 9, 10, 11, 12, 13, 14, 15, 2, 13, 4, 2, 3, 15, 5, 1, 5, 9, 1, 2, 8, 1, 2, 3, 6, 7, 9, 12, 9, 2, 5, 7, 9, 1, 2, 3, 4, 5, 6, 7, 8, 9, 11, 12, 13, 15, 15, 15, 1, 2, 3, 4, 5, 6, 7, 8, 9, 10, 11, 12, 13, 14, 15, 2, 7, 1, 2, 3, 4, 5, 6, 7, 8, 9, 10, 11, 12, 14, 15, 1, 3, 10, 10, 10, 10, 1, 2, 3, 4, 5, 6, 7, 8, 9, 10, 11, 12, 13, 14, 12, 13, 15, 15, 9, 7, 1, 2, 3, 6, 8, 14, 14, 1, 6, 7, 10, 14, 14, 7, 11, 1, 2, 3, 4, 5, 6, 7, 9, 10, 11, 12, 1, 2, 3, 4, 5, 6, 7, 8, 9, 10, 11, 12, 14, 15, 2, 3, 4, 5, 6, 10, 13, 2, 5, 7, 8, 15, 5, 9, 4, 1, 2, 3, 4, 5, 6, 7, 8, 10, 11, 12, 13, 14, 4, 1, 2, 3, 4, 5, 6, 7, 9, 12, 13, 14, 15, 14, 1, 2, 3, 4, 5, 6, 7, 9, 10, 12, 13, 14, 15, 12, 1, 2, 5, 6, 7, 8, 9, 10, 11, 14, 14, 3, 4, 7, 8, 2, 3, 4, 6, 9, 10, 13, 13, 13, 10, 1, 2, 3, 4, 5, 6, 7, 9, 10, 11, 12, 13, 14, 15, 13, 5, 5, 1, 13, 1, 2, 4, 5, 6, 7, 8, 9, 10, 11, 12, 13, 1, 2, 3, 4, 7, 8, 9, 10, 11, 13, 13, 1, 4, 7, 8, 9, 13, 4, 7, 7, 8, 13, 1, 10, 6, 11, 1, 4, 10, 10, 3, 1, 2, 3, 5, 6, 9, 10, 1, 2, 3, 4, 5, 6, 7, 8, 9, 10, 11, 12, 13, 14, 15, 10, 13, 13, 1, 2, 3, 4, 5, 6, 11, 12, 14, 15, 1, 4, 5, 9, 10, 13, 12, 4, 6, 7, 8, 10, 12, 13, 1, 10, 11, 15, 11, 3, 5, 1, 4, 7, 8, 14, 1, 1, 1, 2, 3, 4, 5, 6, 7, 8, 9, 10, 12, 14, 1, 2, 3, 4, 5, 6, 7, 8, 9, 10, 12, 14, 15, 15, 1, 2, 3, 4, 5, 6, 7, 8, 9, 10, 11, 14, 15, 1, 2, 3, 4, 5, 6, 7, 8, 9, 10, 14, 1, 4, 5, 9, 10, 1, 2, 3, 4, 5, 6, 7, 9, 10, 11, 12, 13, 14, 15, 1, 1, 2, 3, 4, 5, 6, 7, 8, 9, 10, 11, 12, 13, 14, 15, 7, 7, 1, 2, 3, 4, 5, 6, 7, 8, 9, 10, 11, 12, 13, 14, 15, 1, 2, 3, 4, 5, 6, 7, 8, 9, 10, 12, 1, 2, 3, 4, 5, 6, 7, 9, 10, 15, 1, 1, 2, 5, 7, 10, 1, 2, 3, 4, 5, 6, 7, 8, 9, 10, 11, 12, 13, 14, 15, 5, 5, 8, 1, 3, 4, 5, 6, 9, 10, 11, 13, 1, 2, 3, 4, 5, 6, 7, 8, 9, 11, 12, 13, 15, 5, 3, 2, 5, 8, 6, 1, 2, 3, 5, 6, 7, 8, 9, 10, 11, 12, 13, 14, 15, 3, 10, 2, 8, 4, 3, 7, 3, 3, 3, 4, 6, 7, 8, 9, 8, 8, 1, 2, 4, 7, 8, 9, 12, 1, 12, 12, 4, 5, 6, 12, 12, 1, 2, 3, 4, 5, 6, 8, 9, 10, 13, 14, 1, 2, 5, 6, 7, 12, 14, 15, 14, 2, 5, 2, 2, 1, 2, 3, 4, 5, 7, 8, 9, 10, 12, 13, 15, 14, 1, 2, 5, 7, 8, 9, 10, 13, 1, 1, 2, 3, 4, 5, 6, 7, 8, 9, 10, 11, 12, 13, 14, 15, 1, 2, 3, 4, 5, 6, 7, 8, 9, 10, 11, 12, 13, 15, 4, 2, 13, 13, 1, 2, 3, 4, 5, 6, 7, 8, 9, 10, 11, 12, 13, 14, 15, 11, 11, 5, 10, 8, 2, 3, 10, 3, 1, 2, 3, 4, 5, 6, 7, 8, 9, 10, 12, 13, 14, 15, 1, 2, 3, 4, 5, 6, 7, 10, 12, 15, 12, 1, 2, 3, 5, 6, 7, 8, 9, 10, 11, 12, 13, 1, 3, 5, 6, 10, 3, 5, 6, 10, 5, 6, 2, 5, 9, 15, 1, 2, 7, 11, 1, 3, 4, 6, 7, 9, 12, 14, 14, 14, 1, 1, 2, 4, 6, 7, 8, 10, 11, 12, 15, 10, 10, 1, 5, 7, 5, 6, 7, 5, 6, 7, 5, 5, 15, 1, 2, 9, 12, 12, 8, 8, 1, 2, 6, 8, 8, 7, 8, 7, 3, 6, 1, 4, 6, 14, 15, 4, 5, 7, 12, 15, 1, 3, 5, 6, 3, 6, 1, 2, 3, 4, 5, 7, 8, 10, 12, 13, 14, 14, 13, 8, 9, 13, 2, 2, 12, 2, 3, 4, 8, 1, 2, 3, 9, 1, 2, 5, 9, 1, 2, 3, 4, 5, 6, 7, 8, 13, 15, 1, 7, 9, 9, 13, 13, 1, 2, 3, 4, 5, 6, 7, 8, 9, 10, 12, 13, 14, 3, 9, 10, 4, 1, 2, 3, 4, 5, 6, 7, 8, 10, 11, 12, 13, 14, 14, 14, 1, 2, 3, 4, 5, 6, 7, 10, 7, 7, 4, 7, 8, 13, 3, 9, 10, 10, 10, 1, 2, 3, 6, 7, 8, 10, 12, 3, 6, 10, 12, 3, 3, 10, 2, 7, 12, 1, 2, 3, 4, 5, 6, 7, 8, 9, 10, 11, 10, 1, 2, 8, 11, 11, 13, 13, 1, 4, 6, 7, 10, 12, 10, 10, 10, 1, 2, 3, 4, 5, 6, 7, 8, 9, 10, 11, 12, 13, 14, 15, 6, 2, 7, 2, 8, 9, 10, 13, 9, 2, 2, 12, 1, 2, 4, 5, 6, 8, 10, 11, 13, 14, 7, 1, 2, 3, 4, 5, 6, 8, 9, 10, 11, 1, 3, 1, 2, 3, 4, 5, 6, 7, 8, 9, 10, 1, 2, 3, 4, 5, 6, 7, 8, 9, 10, 11, 12, 13, 14, 15, 4, 1, 3, 4, 5, 6, 7, 8, 9, 10, 14, 15, 5, 5, 1, 2, 3, 4, 5, 6, 7, 8, 9, 10, 14, 15, 5, 12, 8, 4, 10, 6, 6, 1, 2, 3, 4, 5, 6, 7, 8, 9, 10, 11, 12, 13, 14, 15, 11, 2, 6, 1, 2, 2, 3, 4, 5, 6, 9, 1, 2, 3, 4, 5, 6, 7, 8, 9, 10, 12, 13, 14, 15, 4, 5, 14, 1, 2, 3, 4, 5, 6, 7, 8, 9, 10, 11, 12, 14, 1, 14, 13, 13, 5, 13, 7, 2, 1, 5, 1, 2, 3, 6, 8, 9, 2, 8, 8, 4, 5, 7, 11, 1, 3, 5, 7, 10, 1, 2, 3, 5, 6, 7, 8, 9, 10, 1, 3, 4, 5, 6, 7, 8, 9, 11, 12, 14, 13, 1, 2, 3, 4, 5, 6, 7, 8, 9, 10, 11, 14, 1, 2, 8, 9, 1, 2, 3, 7, 9, 12, 15, 8, 1, 2, 1, 2, 3, 4, 11, 12, 14, 4, 1, 5, 6, 7, 9, 10, 12, 1, 5, 6, 7, 9, 10, 12, 1, 10, 1, 3, 4, 7, 14, 1, 2, 3, 4, 5, 6, 7, 8, 9, 10, 13, 2, 8, 1, 2, 3, 4, 5, 6, 7, 8, 9, 10, 12, 14, 1, 2, 3, 4, 5, 6, 7, 8, 9, 10, 11, 12, 13, 15, 4, 5, 12, 4, 12, 13, 7, 13, 1, 2, 3, 4, 5, 6, 7, 8, 9, 10, 11, 13, 14, 15, 1, 2, 3, 5, 6, 9, 10, 11, 12, 15, 11, 11, 11, 15, 11, 1, 12, 15, 15, 2, 2, 4, 8, 1, 5, 6, 10, 3, 9, 1, 2, 3, 4, 5, 6, 7, 8, 9, 10, 11, 12, 13, 14, 15, 12, 8, 1, 3, 4, 5, 6, 9, 11, 13, 14, 15, 11, 6, 7, 9, 1, 2, 8, 11, 13, 4, 1, 1, 2, 3, 4, 5, 6, 7, 8, 9, 10, 12, 14, 1, 2, 4, 5, 7, 1, 2, 3, 5, 7, 9, 7, 3, 1, 2, 5, 6, 7, 9, 13, 3, 6, 3, 1, 2, 3, 4, 5, 6, 7, 8, 9, 10, 11, 12, 11, 11, 10, 7, 2, 4, 7, 8, 5, 1, 2, 3, 4, 5, 6, 7, 8, 10, 1, 2, 3, 4, 5, 6, 7, 8, 9, 10, 11, 12, 13, 14, 15, 4, 4, 6, 1, 2, 3, 4, 5, 6, 7, 8, 9, 10, 11, 12, 13, 14, 15, 1, 2, 3, 4, 5, 6, 7, 8, 9, 10, 11, 12, 13, 14, 9, 1, 2, 3, 4, 5, 6, 7, 8, 9, 10, 11, 12, 13, 14, 15, 1, 2, 3, 4, 5, 6, 7, 8, 13, 1, 2, 3, 4, 5, 6, 7, 8, 9, 10, 11, 12, 13, 15, 13, 10, 1, 2, 3, 4, 6, 7, 8, 9, 12, 14, 1, 2, 3, 4, 5, 6, 7, 8, 9, 10, 11, 13, 15, 1, 2, 3, 4, 5, 7, 8, 9, 14, 1, 2, 5, 7, 13, 11, 2, 3, 5, 5, 1, 2, 3, 4, 5, 6, 7, 9, 10, 11, 12, 13, 14, 15, 1, 2, 3, 4, 5, 6, 7, 8, 9, 10, 11, 12, 13, 14, 15, 1, 2, 3, 4, 5, 6, 7, 8, 9, 10, 11, 12, 13, 14, 15, 4, 1, 2, 3, 4, 5, 6, 7, 8, 9, 10, 11, 12, 7, 1, 2, 3, 4, 5, 6, 7, 8, 9, 10, 11, 12, 13, 14, 15, 1, 2, 3, 4, 5, 6, 7, 8, 9, 10, 14, 6, 1, 1, 2, 4, 5, 6, 7, 8, 9, 10, 12, 14, 1, 2, 3, 4, 5, 6, 7, 8, 9, 13, 14, 1, 2, 3, 4, 5, 6, 7, 8, 9, 12, 13, 14, 15, 2, 3, 4, 5, 6, 7, 8, 12, 13, 1, 2, 3, 4, 5, 6, 7, 8, 9, 10, 15, 1, 2, 3, 4, 5, 6, 7, 8, 9, 10, 11, 12, 13, 14, 15, 1, 2, 3, 6, 7, 8, 9, 12, 14, 12, 14, 1, 2, 3, 4, 5, 6, 7, 8, 9, 10, 11, 13, 15, 8, 1, 8, 11, 1, 3, 5, 10, 11, 15, 11, 1, 2, 3, 4, 5, 6, 7, 8, 9, 10, 12, 13, 14, 15, 7, 2, 1, 2, 3, 4, 5, 6, 7, 8, 9, 10, 11, 12, 13, 14, 15, 1, 7, 10, 1, 2, 3, 4, 5, 6, 7, 8, 9, 10, 11, 12, 13, 14, 15, 2, 3, 8, 2, 5, 8, 1, 2, 3, 5, 7, 8, 9, 14, 15, 15, 3, 1, 4, 7, 8, 13, 15, 2, 3, 6, 9, 14, 1, 2, 3, 4, 5, 6, 7, 8, 13, 1, 2, 3, 4, 5, 6, 7, 8, 10, 12, 13, 15, 3, 6, 8, 5, 8, 1, 2, 3, 4, 5, 6, 7, 8, 9, 10, 11, 13, 14, 1, 2, 3, 6, 8, 10, 12, 14, 6, 2, 12, 6, 4, 4, 5, 4, 4, 4, 1, 2, 3, 4, 5, 6, 7, 8, 9, 10, 11, 12, 15, 3, 9, 9, 1, 5, 10, 5, 5, 1, 3, 4, 5, 6, 7, 8, 9, 10, 15, 9, 13, 1, 8, 1, 2, 3, 4, 5, 6, 7, 8, 9, 10, 12, 14, 10, 7, 7, 1, 2, 3, 4, 5, 6, 7, 8, 9, 10, 11, 12, 13, 14, 15, 1, 3, 8, 13, 2, 8, 9, 10, 2, 5, 7, 8, 12, 12, 12, 12, 1, 3, 15, 1, 2, 3, 4, 5, 6, 7, 8, 10, 13, 1, 2, 3, 4, 5, 6, 7, 8, 9, 10, 11, 12, 4, 13, 1, 2, 3, 4, 5, 6, 7, 8, 9, 10, 11, 12, 13, 14, 15, 13, 1, 4, 5, 7, 10, 4, 7, 1, 2, 3, 4, 6, 9, 12, 15, 15, 3, 3, 1, 2, 3, 4, 5, 6, 7, 8, 9, 10, 12, 14, 1, 2, 3, 4, 5, 6, 7, 8, 9, 10, 11, 12, 13, 14, 15, 11, 1, 2, 3, 4, 5, 6, 7, 8, 9, 10, 12, 13, 14, 8, 1, 2, 3, 4, 5, 6, 7, 8, 9, 10, 4, 4, 5, 8, 9, 14, 5, 8, 5, 11, 15, 1, 3, 5, 6, 7, 9, 10, 12, 3, 5, 1, 10, 1, 2, 3, 4, 5, 6, 7, 8, 10, 11, 12, 13, 15, 10, 3, 5, 7, 10, 10, 1, 2, 3, 4, 5, 6, 7, 8, 9, 15, 6, 6, 2, 7, 7, 6, 9, 1, 2, 3, 4, 5, 6, 7, 8, 9, 10, 11, 12, 13, 14, 1, 4, 7, 1, 4, 5, 13, 3, 5, 8, 1, 1, 1, 3, 12, 1, 10, 1, 1, 1, 3, 7, 8, 9, 10, 15, 1, 2, 3, 4, 5, 6, 7, 8, 9, 10, 11, 12, 13, 14, 15, 2, 9, 1, 2, 3, 4, 5, 6, 7, 8, 9, 10, 11, 12, 13, 14, 15, 4, 14, 5, 10, 12, 13, 1, 2, 3, 4, 5, 6, 7, 8, 9, 10, 13, 15, 1, 2, 4, 7, 1, 2, 4, 5, 7, 8, 9, 10, 12, 14, 15, 9, 9, 1, 3, 5, 6, 10, 12, 15, 1, 2, 3, 4, 5, 6, 7, 8, 9, 10, 11, 12, 13, 14, 15, 1, 2, 4, 5, 6, 7, 8, 10, 11, 15, 4, 15, 2, 3, 4, 15, 2, 15, 15, 15, 10, 1, 2, 3, 4, 5, 6, 7, 8, 9, 10, 11, 12, 13, 14, 13, 4, 6, 8, 1, 2, 3, 6, 7, 8, 14, 1, 9, 1, 12, 12, 1, 2, 3, 4, 5, 6, 7, 8, 9, 10, 15, 15, 1, 2, 3, 4, 5, 6, 7, 8, 9, 10, 11, 12, 13, 14, 1, 3, 6, 5, 1, 2, 3, 4, 5, 6, 7, 8, 9, 10, 11, 12, 14, 15, 11, 2, 13, 6, 4, 1, 2, 7, 8, 13, 4, 11, 14, 6, 6, 1, 2, 6, 7, 8, 6, 6, 6, 6, 6, 1, 2, 3, 4, 5, 6, 7, 9, 10, 11, 5, 13, 1, 3, 4, 6, 8, 9, 12, 13, 12, 12, 12, 6, 8, 13, 13, 2, 4, 6, 9, 11, 14, 11, 10, 9, 7, 2, 3, 4, 6, 7, 8, 9, 9, 6, 9, 10, 1, 2, 3, 4, 5, 6, 7, 8, 9, 10, 6, 1, 2, 3, 4, 6, 7, 8, 10, 13, 1, 2, 4, 5, 6, 7, 9, 10, 11, 1, 1, 2, 3, 4, 5, 6, 7, 10, 11, 12, 13, 14, 14, 5, 15, 5, 15, 4, 1, 3, 4, 5, 6, 7, 8, 9, 11, 12, 14, 15, 15, 4, 9, 1, 5, 14, 3, 8, 1, 7, 8, 6, 7, 9, 15, 3, 3, 6, 3, 2, 8, 1, 2, 3, 4, 5, 6, 7, 8, 9, 10, 11, 12, 13, 14, 15, 10, 10, 10, 13, 15, 13, 2, 9, 1, 2, 3, 5, 7, 8, 10, 12, 1, 2, 3, 4, 5, 6, 7, 8, 9, 10, 11, 12, 13, 15, 12, 1, 2, 7, 3, 15, 13, 1, 2, 3, 5, 6, 7, 9, 10, 12, 14, 15, 1, 7, 5, 5, 5, 2, 15, 5, 14, 1, 2, 5, 12, 1, 2, 5, 12, 7, 8, 13, 2, 3, 5, 6, 7, 9, 10, 11, 11, 1, 2, 3, 4, 5, 6, 7, 9, 10, 11, 12, 13, 14, 15, 11, 11, 11, 8, 1, 1, 5, 5, 1, 1, 5, 1, 4, 5, 6, 8, 12, 14, 6, 9, 9, 8, 1, 2, 3, 4, 6, 7, 8, 9, 12, 15, 1, 2, 3, 4, 5, 6, 7, 8, 9, 10, 11, 12, 13, 6, 5, 8, 15, 1, 2, 3, 9, 14, 9, 9, 5, 9, 9, 1, 11, 11, 5, 7, 3, 15, 3, 2, 8, 1, 2, 3, 4, 5, 6, 7, 8, 9, 10, 11, 12, 11, 4, 8, 1, 2, 3, 4, 5, 6, 7, 8, 9, 10, 11, 12, 13, 14, 15, 1, 2, 4, 5, 6, 7, 8, 10, 11, 1, 9], \"Freq\": [0.7763737345602285, 0.965132474696177, 0.8809111540454069, 0.705084589795623, 0.7665163833263428, 0.9982797681181563, 0.8337461772787007, 0.271954049058952, 0.1529741525956605, 0.067988512264738, 0.305948305191321, 0.0509913841985535, 0.101982768397107, 0.0169971280661845, 0.0169971280661845, 0.9457370453559655, 0.03833027093999187, 0.34497243845992687, 0.11499081281997561, 0.11499081281997561, 0.03833027093999187, 0.34497243845992687, 0.03833027093999187, 0.8653985259766208, 0.4910617355760383, 0.04464197596145803, 0.04464197596145803, 0.022320987980729016, 0.15624691586510311, 0.08928395192291606, 0.022320987980729016, 0.022320987980729016, 0.022320987980729016, 0.04464197596145803, 0.022320987980729016, 0.7665163833263428, 0.09077741603868769, 0.9077741603868769, 0.8914957320903567, 0.9310978165668747, 0.5655817147510159, 0.40955917275073567, 0.01950281775003503, 0.971137331365781, 0.7809983618631774, 0.1250080132200861, 0.8750560925406027, 0.9562962579457273, 0.9157973496048374, 0.9079735183372691, 0.1500600576994299, 0.7503002884971495, 0.13594118444377798, 0.13594118444377798, 0.13594118444377798, 0.13594118444377798, 0.5437647377751119, 0.5178521237540173, 0.5178521237540173, 0.8356947197239406, 0.7230522492418718, 0.09038153115523398, 0.18076306231046796, 0.5730660543870919, 0.026048457017595086, 0.026048457017595086, 0.026048457017595086, 0.2604845701759509, 0.026048457017595086, 0.07814537105278527, 0.9385355876577347, 0.03754142350630939, 0.9591146459591416, 0.936774292061006, 0.9444550156835712, 0.9912414099242987, 0.9264549499707645, 0.8352753889576854, 0.0453710988546661, 0.2268554942733305, 0.0907421977093322, 0.15879884599133134, 0.06805664828199914, 0.02268554942733305, 0.06805664828199914, 0.0453710988546661, 0.0453710988546661, 0.02268554942733305, 0.20416994484599746, 0.7627451248186891, 0.5178521237540173, 0.08007375602792483, 0.7206638042513235, 0.08007375602792483, 0.16014751205584965, 0.9770988844444929, 0.7665677731151015, 0.9939034313846652, 0.9782804478278583, 0.7665163833263428, 0.16417040497413554, 0.3283408099482711, 0.4925112149224066, 0.7665163833263428, 0.7665163833263428, 0.8860122537026732, 0.3151313612825583, 0.3348270713627182, 0.17726139072143904, 0.05908713024047968, 0.019695710080159894, 0.019695710080159894, 0.019695710080159894, 0.019695710080159894, 0.019695710080159894, 0.03939142016031979, 0.19303896836682916, 0.7721558734673166, 0.8085831760908554, 0.05536358503817241, 0.05536358503817241, 0.05536358503817241, 0.05536358503817241, 0.6643630204580689, 0.05536358503817241, 0.05536358503817241, 0.05536358503817241, 0.05536358503817241, 0.9744312794742324, 0.057304519913832334, 0.028652259956916167, 0.028652259956916167, 0.028652259956916167, 0.6016974590952395, 0.057304519913832334, 0.11460903982766467, 0.028652259956916167, 0.9591146459591414, 0.14189702025982356, 0.17737127532477948, 0.06207994636367281, 0.10642276519486768, 0.06207994636367281, 0.05321138259743384, 0.12415989272734562, 0.09755420142862871, 0.07094851012991178, 0.03547425506495589, 0.008868563766238973, 0.02660569129871692, 0.02660569129871692, 0.008868563766238973, 0.7665163833263428, 0.7229422134897101, 0.04707229236818659, 0.6119398007864256, 0.04707229236818659, 0.04707229236818659, 0.04707229236818659, 0.14121687710455977, 0.06025647596699045, 0.27115414185145703, 0.662821235636895, 0.030128237983495225, 0.030128237983495225, 0.09552109882425358, 0.8596898894182822, 0.09552109882425358, 0.049531333697079905, 0.049531333697079905, 0.2971880021824794, 0.024765666848539952, 0.544844670667879, 0.8131492497873651, 0.5329037242103866, 0.9591146459591414, 0.7665677731151015, 0.7665677731151015, 0.5572430539280359, 0.14104603760994558, 0.7052301880497278, 0.07052301880497279, 0.17923158591094715, 0.13835420666809956, 0.07546593090987248, 0.12263213772854278, 0.04402179303075895, 0.07232151712196112, 0.06917710333404978, 0.0943324136373406, 0.05659944818240436, 0.025155310303290827, 0.03458855166702489, 0.025155310303290827, 0.025155310303290827, 0.025155310303290827, 0.00943324136373406, 0.9941242056691834, 0.9275003877305836, 0.7562173406916338, 0.1680482979314742, 0.0840241489657371, 0.9812201872424541, 0.3164067791078088, 0.20688135557049037, 0.08518644052902544, 0.06084745752073246, 0.048677966016585965, 0.07301694902487896, 0.06084745752073246, 0.024338983008292982, 0.012169491504146491, 0.06084745752073246, 0.012169491504146491, 0.024338983008292982, 0.012169491504146491, 0.012169491504146491, 0.019168688524234975, 0.0766747540969399, 0.03833737704846995, 0.3833737704846995, 0.019168688524234975, 0.019168688524234975, 0.03833737704846995, 0.13418081966964482, 0.019168688524234975, 0.2300242622908197, 0.17160405954407448, 0.8580202977203724, 0.9083515815356192, 0.9083515815356192, 0.11314682205773201, 0.07543121470515467, 0.49030289558350537, 0.11314682205773201, 0.15086242941030933, 0.037715607352577334, 0.796463754135887, 0.8809111540454065, 0.5178521237540173, 0.9076558104864887, 0.5572430539280359, 0.06141900705670152, 0.27638553175515684, 0.03070950352835076, 0.21496652469845534, 0.09212851058505228, 0.09212851058505228, 0.03070950352835076, 0.1535475176417538, 0.861096515185486, 0.12075032211160708, 0.06037516105580354, 0.12075032211160708, 0.6037516105580354, 0.06037516105580354, 0.8844905813205194, 0.9117191582191041, 0.13749286764927057, 0.09166191176618038, 0.06874643382463529, 0.03437321691231764, 0.13749286764927057, 0.05728869485386274, 0.09166191176618038, 0.09166191176618038, 0.03437321691231764, 0.06874643382463529, 0.03437321691231764, 0.06874643382463529, 0.03437321691231764, 0.03437321691231764, 0.011457738970772548, 0.07386161384422957, 0.14772322768845914, 0.044316968306537745, 0.11817858215076732, 0.05908929107538366, 0.11817858215076732, 0.2068125187638428, 0.14772322768845914, 0.044316968306537745, 0.014772322768845915, 0.014772322768845915, 0.12061015697871784, 0.24122031395743568, 0.6030507848935892, 0.673459378088399, 0.02590228377263073, 0.02590228377263073, 0.05180456754526146, 0.05180456754526146, 0.12951141886315365, 0.02590228377263073, 0.02590228377263073, 0.02590228377263073, 0.7665163833263428, 0.8551318640701924, 0.03717964626392141, 0.11153893879176423, 0.12823976718520505, 0.10612946249810074, 0.0619088531238921, 0.10170740156067988, 0.10612946249810074, 0.08844121874841729, 0.11497358437294247, 0.057486792186471236, 0.0751750359361547, 0.0751750359361547, 0.008844121874841729, 0.017688243749683457, 0.017688243749683457, 0.022110304687104322, 0.022110304687104322, 0.9912414099242985, 0.9571121993622181, 0.06209131090601989, 0.8692783526842784, 0.06209131090601989, 0.8815886998188615, 0.11606281323757495, 0.029015703309393737, 0.08704710992818121, 0.551298362878481, 0.05803140661878747, 0.08704710992818121, 0.029015703309393737, 0.6907648403959574, 0.1036147260593936, 0.03453824201979787, 0.13815296807919147, 0.8894363451486017, 0.06353116751061441, 0.5986256201418688, 0.5986256201418688, 0.16643995261018846, 0.05547998420339616, 0.40685321749157183, 0.05547998420339616, 0.018493328067798718, 0.12945329647459103, 0.09246664033899359, 0.05547998420339616, 0.018493328067798718, 0.9982797681181563, 0.5986256201418688, 0.8914957320903566, 0.20697220569472335, 0.17247683807893613, 0.034495367615787226, 0.1379814704631489, 0.034495367615787226, 0.034495367615787226, 0.034495367615787226, 0.10348610284736168, 0.034495367615787226, 0.1379814704631489, 0.06899073523157445, 0.86333213840785, 0.86333213840785, 0.8993969212727708, 0.9483374472607572, 0.11357195962162399, 0.028392989905405997, 0.056785979810811994, 0.028392989905405997, 0.14196494952702998, 0.42589484858109, 0.056785979810811994, 0.056785979810811994, 0.028392989905405997, 0.028392989905405997, 0.8187508646423552, 0.8187508646423556, 0.20002447679219568, 0.7000856687726849, 0.88469811885282, 0.6459074590832093, 0.38754447544992565, 0.973919491694612, 0.8226503876133328, 0.8860122536729681, 0.3944029185021977, 0.3944029185021977, 0.8687049370327713, 0.8688200386832144, 0.965284543951689, 0.11344884424750709, 0.056724422123753546, 0.11344884424750709, 0.056724422123753546, 0.45379537699002837, 0.17017326637126062, 0.9083515815356192, 0.9083515815356192, 0.9240706820211925, 0.9487631366883296, 0.24934339487264223, 0.08459865183178933, 0.08459865183178933, 0.06678840934088631, 0.026715363736354525, 0.13802937930449838, 0.08014609120906357, 0.15138706117267564, 0.04452560622725754, 0.02226280311362877, 0.004452560622725754, 0.013357681868177262, 0.03116792435908028, 0.8856840282560191, 0.9408061921695225, 0.9652845439516887, 0.07230761807705578, 0.21692285423116733, 0.03615380903852789, 0.03615380903852789, 0.3976918994238068, 0.07230761807705578, 0.07230761807705578, 0.14173010767491886, 0.5669204306996755, 0.07086505383745943, 0.07086505383745943, 0.07086505383745943, 0.9859308500663683, 0.9769824554150485, 0.8017049636403539, 0.5178521237540173, 0.8187508646423556, 0.13671907735987396, 0.2441412095712035, 0.02929694514854442, 0.13671907735987396, 0.12695342897702583, 0.0976564838284814, 0.05859389029708884, 0.03906259353139256, 0.02929694514854442, 0.01953129676569628, 0.00976564838284814, 0.02929694514854442, 0.00976564838284814, 0.01953129676569628, 0.00976564838284814, 0.29351208471003254, 0.09234088058293159, 0.06265988325270358, 0.09563876917517915, 0.06595777184495114, 0.039574663106970685, 0.1978733155348534, 0.016489442961237784, 0.006595777184495114, 0.046170440291465796, 0.009893665776742671, 0.039574663106970685, 0.016489442961237784, 0.003297888592247557, 0.009893665776742671, 0.9591146459591414, 0.28990116780958897, 0.14962640919204592, 0.056109903447017224, 0.04675825287251435, 0.07481320459602296, 0.0654615540215201, 0.0935165057450287, 0.03740660229801148, 0.00935165057450287, 0.04675825287251435, 0.04675825287251435, 0.028054951723508612, 0.03740660229801148, 0.00935165057450287, 0.01870330114900574, 0.9591146459591414, 0.6024926797536557, 0.06024926797536557, 0.1807478039260967, 0.12049853595073114, 0.8680079818778502, 0.12400114026826432, 0.06147834533142334, 0.18443503599427002, 0.06147834533142334, 0.06147834533142334, 0.12295669066284667, 0.06147834533142334, 0.06147834533142334, 0.36887007198854005, 0.15481290118109067, 0.16391954242703718, 0.04553320622973255, 0.15481290118109067, 0.0910664124594651, 0.04553320622973255, 0.054639847475679064, 0.08195977121351859, 0.03642656498378604, 0.01821328249189302, 0.01821328249189302, 0.03642656498378604, 0.06374648872162557, 0.01821328249189302, 0.00910664124594651, 0.3289375579808568, 0.6578751159617136, 0.9775892553585858, 0.948337447260757, 0.8844905813205194, 0.7665163833263428, 0.8617294764062873, 0.23432857374132818, 0.11716428687066409, 0.7029857212239846, 0.10464178353631237, 0.10464178353631237, 0.837134268290499, 0.5564925649656645, 0.17390392655177014, 0.05217117796553104, 0.017390392655177014, 0.10434235593106209, 0.05217117796553104, 0.017390392655177014, 0.8688200386832144, 0.08248486963139287, 0.7423638266825359, 0.08248486963139287, 0.08248486963139287, 0.2177798093341069, 0.12444560533377537, 0.05185233555573974, 0.13481607244492333, 0.07259326977803564, 0.07259326977803564, 0.05185233555573974, 0.062222802666887685, 0.062222802666887685, 0.04148186844459179, 0.020740934222295896, 0.031111401333443842, 0.05185233555573974, 0.7665163833263428, 0.7665163833263428, 0.19023536556760415, 0.1790450499459804, 0.03357094686487132, 0.05595157810811887, 0.11190315621623774, 0.07833220935136642, 0.05595157810811887, 0.03357094686487132, 0.05595157810811887, 0.0895225249729902, 0.05595157810811887, 0.011190315621623774, 0.011190315621623774, 0.02238063124324755, 0.011190315621623774, 0.948337447260757, 0.7964637541358865, 0.033529177975231396, 0.016764588987615698, 0.23470424582661978, 0.06705835595046279, 0.1508813008885413, 0.033529177975231396, 0.033529177975231396, 0.016764588987615698, 0.033529177975231396, 0.0502937669628471, 0.016764588987615698, 0.08382294493807849, 0.1508813008885413, 0.1005875339256942, 0.19467962103137232, 0.02433495262892154, 0.7787184841254893, 0.995027328569753, 0.7627451248186885, 0.9571121993622181, 0.18182988814225734, 0.0681862080533465, 0.0681862080533465, 0.0681862080533465, 0.11364368008891085, 0.045457472035564335, 0.045457472035564335, 0.045457472035564335, 0.022728736017782167, 0.0681862080533465, 0.136372416106693, 0.0681862080533465, 0.045457472035564335, 0.045457472035564335, 0.5178521237540172, 0.5329037242103866, 0.7665163833263428, 0.7665163833263428, 0.973564760706004, 0.9591146459591414, 0.16635651105749125, 0.08317825552874562, 0.08317825552874562, 0.24953476658623686, 0.08317825552874562, 0.3327130221149825, 0.943841777346717, 0.3863641702222665, 0.070248030949503, 0.42148818569701796, 0.0351240154747515, 0.070248030949503, 0.5572430539280359, 0.796463754135887, 0.7017990143949708, 0.147735406317514, 0.147735406317514, 0.12311283859792832, 0.073867703158757, 0.024622567719585663, 0.09849027087834265, 0.04924513543917133, 0.04924513543917133, 0.024622567719585663, 0.24622567719585664, 0.024622567719585663, 0.16286902879253162, 0.2931642518265569, 0.021715870505670882, 0.07600554676984808, 0.1085793525283544, 0.0542896762641772, 0.1085793525283544, 0.032573805758506325, 0.032573805758506325, 0.021715870505670882, 0.010857935252835441, 0.0542896762641772, 0.010857935252835441, 0.010857935252835441, 0.04394968410235092, 0.08789936820470184, 0.571345893330562, 0.04394968410235092, 0.1757987364094037, 0.04394968410235092, 0.04394968410235092, 0.8537826620762771, 0.047432370115348725, 0.047432370115348725, 0.047432370115348725, 0.047432370115348725, 0.11728500459711384, 0.7037100275826831, 0.7765514015994209, 0.10239689865200402, 0.017066149775334005, 0.07679767398900302, 0.20479379730400804, 0.059731524213669014, 0.12799612331500504, 0.17066149775334005, 0.025599224663001005, 0.04266537443833501, 0.008533074887667002, 0.06826459910133602, 0.07679767398900302, 0.008533074887667002, 0.9653631083799564, 0.2878156672992209, 0.044279333430649374, 0.022139666715324687, 0.022139666715324687, 0.11069833357662343, 0.11069833357662343, 0.06641900014597406, 0.022139666715324687, 0.1771173337225975, 0.022139666715324687, 0.06641900014597406, 0.044279333430649374, 0.5572430539280359, 0.13457176698948767, 0.05767361442406614, 0.01922453814135538, 0.03844907628271076, 0.0961226907067769, 0.17302084327219844, 0.11534722884813228, 0.0961226907067769, 0.01922453814135538, 0.17302084327219844, 0.01922453814135538, 0.05767361442406614, 0.03844907628271076, 0.5178521237540173, 0.08063024961591277, 0.08063024961591277, 0.28220587365569466, 0.04031512480795638, 0.04031512480795638, 0.04031512480795638, 0.04031512480795638, 0.04031512480795638, 0.08063024961591277, 0.28220587365569466, 0.9083515815356192, 0.7795691007690755, 0.051971273384605034, 0.10394254676921007, 0.051971273384605034, 0.024424529329554134, 0.39079246927286615, 0.024424529329554134, 0.4396415279319744, 0.0732735879886624, 0.024424529329554134, 0.024424529329554134, 0.5329037242103866, 0.5329037242103866, 0.8226503876133329, 0.14716888214278337, 0.21339487910703592, 0.0073584441071391695, 0.16188577035706173, 0.17660265857134005, 0.051509108749974185, 0.044150664642835014, 0.022075332321417507, 0.022075332321417507, 0.0073584441071391695, 0.014716888214278339, 0.06622599696425252, 0.03679222053569584, 0.029433776428556678, 0.8132646125963555, 0.7809983618631774, 0.7809983618631774, 0.8337461773105184, 0.5329037242103866, 0.03208884959965222, 0.01604442479982611, 0.01604442479982611, 0.008022212399913055, 0.024066637199739168, 0.4171550447954789, 0.19253309759791334, 0.008022212399913055, 0.008022212399913055, 0.08824433639904361, 0.008022212399913055, 0.18451088519800027, 0.07245937550773611, 0.10868906326160417, 0.036229687753868055, 0.07245937550773611, 0.14491875101547222, 0.036229687753868055, 0.07245937550773611, 0.036229687753868055, 0.07245937550773611, 0.28983750203094444, 0.5329037242103866, 0.03520460317113205, 0.03520460317113205, 0.704092063422641, 0.10561380951339615, 0.0704092063422641, 0.0704092063422641, 0.14758863709414807, 0.7379431854707404, 0.5191730706638783, 0.31150384239832696, 0.15575192119916348, 0.9055911106271051, 0.11319888882838813, 0.8914957320903567, 0.7017990143949708, 0.8337461774015426, 0.7765514015994209, 0.9617533503975904, 0.9617533503975904, 0.965132474696177, 0.09427129927681051, 0.047135649638405254, 0.16497477373441838, 0.21211042337282363, 0.023567824819202627, 0.07070347445760788, 0.35351737228803937, 0.20177519529531318, 0.11209733071961843, 0.056048665359809215, 0.022419466143923684, 0.0784681315037329, 0.06725839843177106, 0.04483893228784737, 0.11209733071961843, 0.06725839843177106, 0.056048665359809215, 0.03362919921588553, 0.03362919921588553, 0.022419466143923684, 0.056048665359809215, 0.022419466143923684, 0.35418354731188795, 0.7083670946237759, 0.8653985259766208, 0.053329527229895694, 0.07110603630652759, 0.017776509076631898, 0.12443556353642328, 0.14221207261305518, 0.053329527229895694, 0.12443556353642328, 0.017776509076631898, 0.35553018153263793, 0.017776509076631898, 0.15364804171346025, 0.07682402085673012, 0.614592166853841, 0.07682402085673012, 0.07682402085673012, 0.07682402085673012, 0.5178521237540173, 0.49737204777265576, 0.07105314968180797, 0.24868602388632788, 0.10657972452271196, 0.035526574840903984, 0.035526574840903984, 0.035526574840903984, 0.24744006917350603, 0.06186001729337651, 0.6804601902271415, 0.06186001729337651, 0.9752647187621462, 0.9535492360526941, 0.047677461802634706, 0.5488304983485226, 0.20220070991787675, 0.028885815702553823, 0.057771631405107646, 0.17331489421532295, 0.8337461773105184, 0.8337461773105184, 0.21298127060666022, 0.1146822226343555, 0.049149523986152355, 0.16383174662050787, 0.1310653972964063, 0.016383174662050786, 0.049149523986152355, 0.016383174662050786, 0.03276634932410157, 0.1310653972964063, 0.03276634932410157, 0.08191587331025393, 0.05787926996791947, 0.05787926996791947, 0.03472756198075168, 0.06945512396150336, 0.5324892837048592, 0.011575853993583895, 0.04630341597433558, 0.03472756198075168, 0.011575853993583895, 0.06945512396150336, 0.05787926996791947, 0.011575853993583895, 0.011575853993583895, 0.8779201593282121, 0.19940078450320411, 0.014242913178800295, 0.07121456589400148, 0.042728739536400884, 0.11394330543040236, 0.12818621860920265, 0.07121456589400148, 0.08545747907280177, 0.014242913178800295, 0.042728739536400884, 0.15667204496680323, 0.014242913178800295, 0.02848582635760059, 0.11991438121322891, 0.11991438121322891, 0.15988584161763855, 0.059957190606614454, 0.03997146040440964, 0.03997146040440964, 0.17987157181984337, 0.01998573020220482, 0.01998573020220482, 0.03997146040440964, 0.19985730202204818, 0.13974698207596525, 0.6987349103798263, 0.06987349103798263, 0.06987349103798263, 0.06987349103798263, 0.25473821370257566, 0.11940853767308234, 0.11144796849487684, 0.10348739931667136, 0.15921138356410977, 0.023881707534616468, 0.047763415069232935, 0.023881707534616468, 0.03184227671282196, 0.0716451226038494, 0.00796056917820549, 0.00796056917820549, 0.023881707534616468, 0.01592113835641098, 0.8337461772832462, 0.2041523397547325, 0.13209857278247397, 0.10407766340437342, 0.08406272813430161, 0.18413740448466068, 0.0640477928642298, 0.05203883170218671, 0.012008961162043088, 0.012008961162043088, 0.036026883486129264, 0.020014935270071813, 0.028020909378100537, 0.008005974108028726, 0.04803584464817235, 0.01601194821605745, 0.9591146459591414, 0.9591146459591414, 0.24142664678622908, 0.13278465573242598, 0.09657065871449164, 0.07242799403586872, 0.12071332339311454, 0.012071332339311455, 0.07242799403586872, 0.012071332339311455, 0.012071332339311455, 0.09657065871449164, 0.03621399701793436, 0.012071332339311455, 0.03621399701793436, 0.012071332339311455, 0.012071332339311455, 0.23208071056491006, 0.09283228422596403, 0.023208071056491007, 0.06962421316947301, 0.06962421316947301, 0.09283228422596403, 0.023208071056491007, 0.09283228422596403, 0.20887263950841906, 0.023208071056491007, 0.023208071056491007, 0.08307992469033687, 0.041539962345168435, 0.14538986820808952, 0.2492397740710106, 0.041539962345168435, 0.020769981172584218, 0.3530896799339317, 0.041539962345168435, 0.020769981172584218, 0.020769981172584218, 0.8337461772953598, 0.09194646407469798, 0.3677858562987919, 0.5057055524108389, 0.04597323203734899, 0.04597323203734899, 0.08443701553198303, 0.14938856594120076, 0.07144670545013948, 0.11041763569567012, 0.12340794577751366, 0.051961240327374175, 0.12990310081843542, 0.051961240327374175, 0.058456395368295944, 0.019485465122765316, 0.006495155040921772, 0.07144670545013948, 0.0454660852864524, 0.012990310081843544, 0.006495155040921772, 0.9711373313657808, 0.8898935138586825, 0.8103770876265757, 0.045491424850723945, 0.5913885230594113, 0.045491424850723945, 0.09098284970144789, 0.045491424850723945, 0.045491424850723945, 0.045491424850723945, 0.045491424850723945, 0.045491424850723945, 0.0501964222818599, 0.2007856891274396, 0.0501964222818599, 0.06692856304247986, 0.18405354836681964, 0.0501964222818599, 0.13385712608495973, 0.03346428152123993, 0.0501964222818599, 0.03346428152123993, 0.03346428152123993, 0.03346428152123993, 0.1003928445637198, 0.8898935138586825, 0.8563264471341403, 0.05977810759075205, 0.8368935062705287, 0.05977810759075205, 0.9033980525130901, 0.11287450157959389, 0.07901215110571572, 0.3611984050547004, 0.07901215110571572, 0.06772470094775633, 0.06772470094775633, 0.04514980063183755, 0.011287450157959388, 0.11287450157959389, 0.011287450157959388, 0.011287450157959388, 0.022574900315918776, 0.011287450157959388, 0.011287450157959388, 0.944294871127526, 0.8226503876133328, 0.19834645047128568, 0.7933858018851427, 0.9445314262599637, 0.7718836848323862, 0.15437673696647725, 0.8844905605837509, 0.8844905813205194, 0.10754464142160772, 0.10754464142160772, 0.03584821380720257, 0.03584821380720257, 0.03584821380720257, 0.6452678485296464, 0.9704674134537449, 0.9704674134537449, 0.0520716958126225, 0.62486034975147, 0.0520716958126225, 0.104143391625245, 0.0520716958126225, 0.0520716958126225, 0.0520716958126225, 0.24605279583094153, 0.7381583874928246, 0.7050845897956228, 0.8846981179616411, 0.12641364957405202, 0.3792409487221561, 0.5056545982962081, 0.7050845897956228, 0.2602002443172998, 0.22897621499922383, 0.010408009772691991, 0.29142427363537576, 0.05204004886345996, 0.010408009772691991, 0.010408009772691991, 0.010408009772691991, 0.05204004886345996, 0.020816019545383983, 0.05204004886345996, 0.02810686451104955, 0.02810686451104955, 0.1686411870662973, 0.08432059353314865, 0.2248549160883964, 0.1124274580441982, 0.36538923864364414, 0.02810686451104955, 0.9083515815356192, 0.9489562120008425, 0.06326374746672282, 0.8085831760908554, 0.8085831760908554, 0.0333964506459982, 0.0333964506459982, 0.15028402790699188, 0.07514201395349594, 0.166982253229991, 0.29221894315248426, 0.1335858025839928, 0.00834911266149955, 0.0500946759689973, 0.0166982253229991, 0.00834911266149955, 0.0333964506459982, 0.778913191736755, 0.3326257291015422, 0.12473464841307833, 0.12473464841307833, 0.041578216137692775, 0.041578216137692775, 0.12473464841307833, 0.041578216137692775, 0.1663128645507711, 0.8337461772787007, 0.3974681022433375, 0.10085011549457817, 0.0059323597349751865, 0.11271483496452854, 0.023729438939900746, 0.053391237614776675, 0.029661798674875933, 0.023729438939900746, 0.03559415840985112, 0.01779707920492556, 0.0415265181448263, 0.03559415840985112, 0.011864719469950373, 0.09491775575960298, 0.011864719469950373, 0.13606827440827277, 0.09071218293884852, 0.036284873175539405, 0.16328192928992732, 0.07256974635107881, 0.06349852805719396, 0.21770923905323644, 0.08164096464496366, 0.04535609146942426, 0.027213654881654555, 0.018142436587769702, 0.018142436587769702, 0.018142436587769702, 0.027213654881654555, 0.7765514015994209, 0.948337447260757, 0.943337264514115, 0.5329037242103867, 0.23823567038380075, 0.14809244375209238, 0.019316405706794656, 0.019316405706794656, 0.03863281141358931, 0.25755207609059544, 0.03863281141358931, 0.019316405706794656, 0.03219400951132443, 0.006438801902264885, 0.10302083043623816, 0.006438801902264885, 0.01287760380452977, 0.03219400951132443, 0.02575520760905954, 0.7017990143949708, 0.7017990143949708, 0.6951380051898118, 0.13902760103796238, 0.9784568071758585, 0.23885212115060803, 0.716556363451824, 0.04777042423012161, 0.985740848069405, 0.05194525270734565, 0.11873200618821862, 0.08904900464116397, 0.044524502320581985, 0.14841500773527327, 0.1706772588955643, 0.08904900464116397, 0.1632565085088006, 0.022262251160290993, 0.029683001547054656, 0.05194525270734565, 0.014841500773527328, 0.014841500773527328, 0.007420750386763664, 0.10056796081678765, 0.04022718432671506, 0.14079514514350272, 0.02011359216335753, 0.3821582511037931, 0.06034077649007259, 0.10056796081678765, 0.06034077649007259, 0.10056796081678765, 0.02011359216335753, 0.5178521237540172, 0.2754477396535112, 0.09837419273339686, 0.05902451564003811, 0.1377238698267556, 0.039349677093358744, 0.07869935418671749, 0.019674838546679372, 0.019674838546679372, 0.019674838546679372, 0.019674838546679372, 0.21642322401347308, 0.019674838546679372, 0.4197438194906436, 0.4547224711148639, 0.0349786516242203, 0.0349786516242203, 0.0349786516242203, 0.7445434584633944, 0.07445434584633945, 0.07445434584633945, 0.07445434584633945, 0.1290344433925718, 0.9032411037480027, 0.23131128828123373, 0.3469669324218506, 0.11565564414061687, 0.23131128828123373, 0.06903233185212256, 0.6903233185212255, 0.06903233185212256, 0.1380646637042451, 0.13268892394754386, 0.04422964131584795, 0.04422964131584795, 0.2653778478950877, 0.13268892394754386, 0.0884592826316959, 0.04422964131584795, 0.2653778478950877, 0.7665677731151015, 0.7665677731151015, 0.8337461772787008, 0.038255448663333816, 0.07651089732666763, 0.4590653839600058, 0.038255448663333816, 0.038255448663333816, 0.038255448663333816, 0.038255448663333816, 0.1912772433166691, 0.038255448663333816, 0.038255448663333816, 0.7627451248186885, 0.7627451248186885, 0.9117191582191041, 0.1578126520344147, 0.7890632601720734, 0.9164717625868989, 0.04699855192753327, 0.023499275963766636, 0.9069034921840232, 0.04773176274652754, 0.02386588137326377, 0.7809983618631774, 0.8898935138586825, 0.5986256201418688, 0.12182273068462006, 0.12182273068462006, 0.12182273068462006, 0.6091136534231003, 0.8389979173291279, 0.8187508646423551, 0.8187508646423551, 0.05859904074309246, 0.05859904074309246, 0.05859904074309246, 0.8203865704032944, 0.8187508646423551, 0.9591146459591414, 0.9070358675013402, 0.921144720216831, 0.9435498614361628, 0.03629037928600626, 0.16881153375065092, 0.46423171781429, 0.12660865031298818, 0.08440576687532546, 0.16881153375065092, 0.6867882777083917, 0.09157177036111888, 0.04578588518055944, 0.04578588518055944, 0.04578588518055944, 0.046329176358292326, 0.046329176358292326, 0.046329176358292326, 0.833925174449262, 0.09077601434418484, 0.9077601434418483, 0.10933806799696401, 0.1457840906626187, 0.21867613599392802, 0.07289204533130934, 0.03644602266565467, 0.07289204533130934, 0.03644602266565467, 0.03644602266565467, 0.03644602266565467, 0.07289204533130934, 0.18223011332827335, 0.6630697867371443, 0.7357497609003343, 0.19329842536638545, 0.19329842536638545, 0.3865968507327709, 0.8902464254501756, 0.8085831760908554, 0.8389979173291279, 0.1383473203409811, 0.06917366017049055, 0.06917366017049055, 0.6917366017049055, 0.19017391599446318, 0.12678261066297544, 0.12678261066297544, 0.5071304426519018, 0.8255982345061192, 0.05159988965663245, 0.05159988965663245, 0.05159988965663245, 0.0653921871408661, 0.09808828071129916, 0.5558335906973618, 0.03269609357043305, 0.03269609357043305, 0.03269609357043305, 0.03269609357043305, 0.0653921871408661, 0.03269609357043305, 0.03269609357043305, 0.08095713637757421, 0.08095713637757421, 0.8095713637757421, 0.7447733767062495, 0.8299303512689371, 0.8299303512689371, 0.13134857797149938, 0.13134857797149938, 0.04925571673931226, 0.04925571673931226, 0.016418572246437422, 0.09851143347862452, 0.1477671502179368, 0.06567428898574969, 0.19702286695724905, 0.016418572246437422, 0.016418572246437422, 0.032837144492874844, 0.016418572246437422, 0.7942459945615942, 0.09928074932019927, 0.09928074932019927, 0.9653631129608761, 0.3939193503170696, 0.021292937854976737, 0.021292937854976737, 0.11711115820237204, 0.053232344637441836, 0.010646468927488368, 0.08517175141990695, 0.0319394067824651, 0.0638788135649302, 0.053232344637441836, 0.09581822034739532, 0.010646468927488368, 0.0319394067824651, 0.7665677731151015, 0.7665677731151015, 0.20344111119816335, 0.007824658123006282, 0.05477260686104398, 0.14866850433711937, 0.007824658123006282, 0.05477260686104398, 0.48512880362638955, 0.03129863249202513, 0.9079735183372689, 0.9591146459591414, 0.08095980844525148, 0.6476784675620119, 0.08095980844525148, 0.16191961689050297, 0.7864967350980903, 0.11235667644258432, 0.11235667644258432, 0.9702218487129182, 0.9571121993622186, 0.14759246340433654, 0.036898115851084136, 0.1106943475532524, 0.07379623170216827, 0.40587927436192545, 0.14759246340433654, 0.036898115851084136, 0.036898115851084136, 0.8082488113439341, 0.07347716466763038, 0.07347716466763038, 0.07347716466763038, 0.978280447827859, 0.8563264471341406, 0.7627451248186887, 0.1797736744501766, 0.1797736744501766, 0.7190946978007065, 0.06007696509582276, 0.10813853717248097, 0.08410775113415186, 0.03604617905749366, 0.16821550226830373, 0.2042616813257974, 0.06007696509582276, 0.012015393019164553, 0.03604617905749366, 0.2042616813257974, 0.012015393019164553, 0.9617533503975904, 0.12000869981013766, 0.12000869981013766, 0.12000869981013766, 0.6000434990506883, 0.2016079719184787, 0.8064318876739148, 0.8653985259766208, 0.243279418352446, 0.25486415255970535, 0.011584734207259332, 0.243279418352446, 0.22010994993792732, 0.011584734207259332, 0.9677870981141885, 0.8778038803584193, 0.9645597093364846, 0.1861926924693961, 0.1500941092355336, 0.10829574970158753, 0.07599701733444739, 0.0873965699346145, 0.09119642080133687, 0.06269753930091909, 0.045598210400668436, 0.04179835953394606, 0.05129798670075199, 0.026598956067056586, 0.026598956067056586, 0.018999254333611847, 0.022799105200334218, 0.0056997763000835545, 0.9729183077510215, 0.8085831759139651, 0.901228675365129, 0.09478582133508265, 0.6635007493455786, 0.09478582133508265, 0.09478582133508265, 0.09478582133508265, 0.7447733767062493, 0.948337447260757, 0.15918463174324676, 0.7959231587162338, 0.20437590469633504, 0.3179180739720767, 0.022708433855148338, 0.045416867710296675, 0.022708433855148338, 0.24979277240663172, 0.022708433855148338, 0.045416867710296675, 0.06812530156544501, 0.022708433855148338, 0.9591146459591416, 0.543314535004638, 0.0543314535004638, 0.0543314535004638, 0.0271657267502319, 0.0271657267502319, 0.1358286337511595, 0.0271657267502319, 0.0271657267502319, 0.0543314535004638, 0.0271657267502319, 0.9275452349410662, 0.957239503871678, 0.1649386776729278, 0.19792641320751336, 0.06597547106917112, 0.03298773553458556, 0.06597547106917112, 0.03298773553458556, 0.06597547106917112, 0.29688961981127004, 0.03298773553458556, 0.03298773553458556, 0.17518179346554869, 0.10269277547980439, 0.09061127248218034, 0.09061127248218034, 0.13893728447267653, 0.060407514988120234, 0.12081502997624047, 0.03624450899287214, 0.012081502997624047, 0.03624450899287214, 0.04832601199049619, 0.04832601199049619, 0.01812225449643607, 0.012081502997624047, 0.012081502997624047, 0.776551401599421, 0.05941470822000492, 0.02970735411000246, 0.05941470822000492, 0.47531766576003937, 0.02970735411000246, 0.02970735411000246, 0.02970735411000246, 0.1485367705500123, 0.02970735411000246, 0.05941470822000492, 0.02970735411000246, 0.7809983618631774, 0.7809983618631774, 0.1707334623982467, 0.014227788533187223, 0.014227788533187223, 0.014227788533187223, 0.4837448101283656, 0.07113894266593612, 0.028455577066374447, 0.014227788533187223, 0.04268336559956167, 0.04268336559956167, 0.056911154132748894, 0.056911154132748894, 0.7809983618631774, 0.5178521237540173, 0.9784568071758583, 0.7765514015994209, 0.9571121993622181, 0.8914957320903564, 0.8914957320903564, 0.12166528505983568, 0.1536824653387398, 0.044824052390465774, 0.1024549768924932, 0.07043779661358908, 0.03201718027890412, 0.10885841294827402, 0.07043779661358908, 0.08964810478093155, 0.019210308167342476, 0.07043779661358908, 0.0512274884462466, 0.03842061633468495, 0.01280687211156165, 0.006403436055780825, 0.8562717318001954, 0.8809111540454068, 0.9929052067996822, 0.1972040241576374, 0.7888160966305496, 0.055303439343262775, 0.11060687868652555, 0.055303439343262775, 0.11060687868652555, 0.055303439343262775, 0.6083378327758906, 0.1843755570549958, 0.23705428764213746, 0.061458519018331936, 0.09657767274309305, 0.08779788431190276, 0.07023830744952221, 0.07901809588071249, 0.04389894215595138, 0.035119153724761105, 0.017559576862380553, 0.04389894215595138, 0.008779788431190276, 0.02633936529357083, 0.017559576862380553, 0.7765514015994209, 0.2452664852729042, 0.7357994558187125, 0.045457775475595104, 0.09091555095119021, 0.09091555095119021, 0.06818666321339265, 0.11364443868898776, 0.06818666321339265, 0.06818666321339265, 0.022728887737797552, 0.022728887737797552, 0.15910221416458287, 0.022728887737797552, 0.18183110190238042, 0.06818666321339265, 0.2381858789459527, 0.7145576368378581, 0.5329037242103868, 0.5329037242103868, 0.3372958240745936, 0.6745916481491872, 0.879825515895877, 0.948337447260757, 0.16881943006138522, 0.8440971503069261, 0.16505038990964072, 0.055016796636546905, 0.055016796636546905, 0.11003359327309381, 0.49515116972892215, 0.055016796636546905, 0.14834505345645457, 0.7417252672822728, 0.8187508646423551, 0.15101305772428453, 0.15101305772428453, 0.15101305772428453, 0.6040522308971381, 0.17577237568613915, 0.08788618784306958, 0.08788618784306958, 0.08788618784306958, 0.615203314901487, 0.09147084564927013, 0.03658833825970805, 0.03658833825970805, 0.16464752216868625, 0.2012358604283943, 0.018294169129854026, 0.2927067060776644, 0.018294169129854026, 0.10976501477912416, 0.16221432959143042, 0.2757643603054317, 0.3568715251011469, 0.01622143295914304, 0.01622143295914304, 0.01622143295914304, 0.01622143295914304, 0.03244286591828608, 0.06488573183657216, 0.01622143295914304, 0.01622143295914304, 0.5329037242103866, 0.11162313196468399, 0.33486939589405196, 0.09301927663723665, 0.018603855327447332, 0.07441542130978933, 0.037207710654894664, 0.037207710654894664, 0.16743469794702598, 0.037207710654894664, 0.018603855327447332, 0.018603855327447332, 0.037207710654894664, 0.08564245717976686, 0.38539105730895085, 0.12846368576965028, 0.38539105730895085, 0.7236646849232159, 0.08513702175567245, 0.042568510877836224, 0.042568510877836224, 0.042568510877836224, 0.08513702175567245, 0.042568510877836224, 0.8187508646423551, 0.03058531509653943, 0.9481447679927223, 0.016482886145987776, 0.03296577229197555, 0.049448658437963325, 0.807661421153401, 0.03296577229197555, 0.049448658437963325, 0.016482886145987776, 0.8873433911562225, 0.2562797816227181, 0.09610491810851927, 0.03203497270283976, 0.06406994540567952, 0.06406994540567952, 0.03203497270283976, 0.4805245905425964, 0.27944399704220024, 0.1047914988908251, 0.03493049963027503, 0.06986099926055006, 0.03493049963027503, 0.03493049963027503, 0.4890269948238505, 0.8207950132240798, 0.16415900264481595, 0.10274478823796357, 0.15411718235694535, 0.5650963353087995, 0.051372394118981785, 0.051372394118981785, 0.14203875994261306, 0.11363100795409044, 0.02840775198852261, 0.02840775198852261, 0.05681550397704522, 0.08522325596556783, 0.08522325596556783, 0.3693007758507939, 0.02840775198852261, 0.02840775198852261, 0.02840775198852261, 0.184925845054293, 0.739703380217172, 0.25878617817389743, 0.14556722522281731, 0.09704481681521154, 0.08087068067934296, 0.08087068067934296, 0.06469654454347436, 0.04852240840760577, 0.04852240840760577, 0.01617413613586859, 0.04852240840760577, 0.03234827227173718, 0.09704481681521154, 0.2120729653681647, 0.09896738383847685, 0.09896738383847685, 0.04241459307363294, 0.056552790764843916, 0.04241459307363294, 0.09896738383847685, 0.12724377922089883, 0.028276395382421958, 0.09896738383847685, 0.028276395382421958, 0.028276395382421958, 0.028276395382421958, 0.014138197691210979, 0.133006144296054, 0.133006144296054, 0.66503072148027, 0.14818515499556859, 0.5927406199822743, 0.14818515499556859, 0.9591146459591414, 0.5329037242103866, 0.18051686600759576, 0.05700532610766182, 0.019001775369220607, 0.12351153989993394, 0.047504438423051513, 0.37053461969980184, 0.047504438423051513, 0.009500887684610304, 0.019001775369220607, 0.038003550738441215, 0.038003550738441215, 0.009500887684610304, 0.009500887684610304, 0.019001775369220607, 0.053913842495926824, 0.0077019774994181184, 0.14633757248894425, 0.015403954998836237, 0.023105932498254354, 0.0077019774994181184, 0.015403954998836237, 0.6315621549522857, 0.023105932498254354, 0.07701977499418118, 0.9076558104864887, 0.9076558104864887, 0.9122002465228063, 0.5986256199315588, 0.9752647187621462, 0.44387046559665366, 0.11096761639916342, 0.44387046559665366, 0.5986256199315588, 0.9723512037958643, 0.7837887341912781, 0.15675774683825563, 0.05225258227941854, 0.10306222449309806, 0.7214355714516864, 0.10306222449309806, 0.10306222449309806, 0.07194078658133818, 0.9352302255573963, 0.1954013938808792, 0.0911873171444103, 0.05862041816426376, 0.10421407673646892, 0.06513379796029307, 0.0977006969404396, 0.0911873171444103, 0.11724083632852753, 0.01954013938808792, 0.02605351918411723, 0.01954013938808792, 0.04559365857220515, 0.03908027877617584, 0.013026759592058615, 0.013026759592058615, 0.8389979173291279, 0.8187508646423551, 0.1864794648139718, 0.04143988106977151, 0.020719940534885756, 0.062159821604657266, 0.04143988106977151, 0.10359970267442878, 0.26935922695351483, 0.04143988106977151, 0.1864794648139718, 0.04143988106977151, 0.8562717318001954, 0.826338171620431, 0.07512165196549372, 0.07512165196549372, 0.11870058493806661, 0.11870058493806661, 0.23740116987613322, 0.059350292469033304, 0.41545204728323315, 0.8846981179616411, 0.886012253672968, 0.12207325843058553, 0.0697561476746203, 0.05231711075596522, 0.10463422151193044, 0.08719518459327537, 0.10463422151193044, 0.12207325843058553, 0.22670747994251597, 0.03487807383731015, 0.017439036918655074, 0.03487807383731015, 0.03487807383731015, 0.061863181615161696, 0.6804949977667787, 0.061863181615161696, 0.061863181615161696, 0.12372636323032339, 0.06254680022571589, 0.15636700056428973, 0.09382020033857384, 0.2814606010157215, 0.031273400112857945, 0.37528080135429537, 0.9591146459591416, 0.8844905813205194, 0.13352865620606488, 0.25222079505590034, 0.1483651735622943, 0.01483651735622943, 0.02967303471245886, 0.41542248597442405, 0.01483651735622943, 0.10297119777912694, 0.9267407800121424, 0.9194512159789289, 0.17867107690748613, 0.11911405127165742, 0.11911405127165742, 0.17867107690748613, 0.05955702563582871, 0.03970468375721914, 0.03970468375721914, 0.01985234187860957, 0.03970468375721914, 0.03970468375721914, 0.138966393150267, 0.01985234187860957, 0.7977415352574005, 0.7977415352574005, 0.7627451248186887, 0.9591146459591416, 0.05649781722681842, 0.8474672584022763, 0.05649781722681842, 0.05649781722681842, 0.7809983618631774, 0.15196520644615144, 0.12663767203845952, 0.025327534407691907, 0.4558956193384543, 0.025327534407691907, 0.050655068815383814, 0.10131013763076763, 0.050655068815383814, 0.025327534407691907, 0.1610261508783623, 0.09201494335906417, 0.1610261508783623, 0.09201494335906417, 0.13035450309200758, 0.023003735839766042, 0.08434703141247549, 0.0383395597329434, 0.0383395597329434, 0.0383395597329434, 0.046007471679532085, 0.030671647786354724, 0.015335823893177362, 0.0383395597329434, 0.007667911946588681, 0.8960887549538428, 0.9237075701441547, 0.86333213840785, 0.12460251210367089, 0.10086870027440024, 0.10086870027440024, 0.12460251210367089, 0.07120143548781194, 0.1068021532317179, 0.12460251210367089, 0.0771348884451296, 0.05340107661585895, 0.023733811829270646, 0.011866905914635323, 0.04153417070122363, 0.011866905914635323, 0.017800358871952984, 0.011866905914635323, 0.11346006002980562, 0.03782002000993521, 0.11346006002980562, 0.11346006002980562, 0.10400505502732182, 0.028365015007451404, 0.15128008003974083, 0.04727502501241901, 0.009455005002483802, 0.11346006002980562, 0.028365015007451404, 0.04727502501241901, 0.009455005002483802, 0.06618503501738661, 0.8686282195406666, 0.177561207350564, 0.088780603675282, 0.1694902433800838, 0.08070963970480181, 0.14527735146864326, 0.11299349558672254, 0.024212891911440545, 0.008070963970480181, 0.04035481985240091, 0.032283855881920724, 0.04842578382288109, 0.016141927940960362, 0.024212891911440545, 0.024212891911440545, 0.016141927940960362, 0.10531386146271556, 0.1404184819502874, 0.03510462048757185, 0.03510462048757185, 0.03510462048757185, 0.4914646868260059, 0.03510462048757185, 0.03510462048757185, 0.03510462048757185, 0.22112893356841312, 0.14071841227080836, 0.10051315162200597, 0.020102630324401193, 0.020102630324401193, 0.040205260648802386, 0.06030789097320358, 0.10051315162200597, 0.020102630324401193, 0.08041052129760477, 0.040205260648802386, 0.040205260648802386, 0.08041052129760477, 0.020102630324401193, 0.7236369366347042, 0.7627451248186885, 0.14230678753297493, 0.042692036259892485, 0.042692036259892485, 0.6546112226516847, 0.014230678753297494, 0.014230678753297494, 0.014230678753297494, 0.014230678753297494, 0.042692036259892485, 0.014230678753297494, 0.12563865519140213, 0.08974189656528724, 0.07179351725222978, 0.10769027587834468, 0.12563865519140213, 0.06281932759570107, 0.13461284484793085, 0.1166644655348734, 0.05384513793917234, 0.017948379313057445, 0.02692256896958617, 0.04487094828264362, 0.02692256896958617, 0.08863372589863858, 0.4608953746729206, 0.07090698071891086, 0.19499419697700485, 0.017726745179727714, 0.07090698071891086, 0.017726745179727714, 0.05318023553918314, 0.03545349035945543, 0.07450974769552865, 0.7450974769552865, 0.07450974769552865, 0.07450974769552865, 0.07450974769552865, 0.7017990143949708, 0.8809111540454068, 0.2872424574243731, 0.6319334063336208, 0.984577280832509, 0.1365738006737789, 0.10243035050533417, 0.11950207558955653, 0.0853586254211118, 0.06828690033688944, 0.05121517525266708, 0.1365738006737789, 0.03414345016844472, 0.0853586254211118, 0.10243035050533417, 0.03414345016844472, 0.03414345016844472, 0.01707172508422236, 0.01707172508422236, 0.2968517906246726, 0.01164124669116363, 0.005820623345581815, 0.157156830330709, 0.11641246691163631, 0.005820623345581815, 0.16879807702187266, 0.09895059687489087, 0.04656498676465452, 0.005820623345581815, 0.01164124669116363, 0.01164124669116363, 0.005820623345581815, 0.02910311672790908, 0.01164124669116363, 0.15189209955804645, 0.21939969936162262, 0.04219224987723512, 0.05906914982812917, 0.19408434943528155, 0.05063069985268215, 0.12657674963170537, 0.008438449975447024, 0.008438449975447024, 0.025315349926341074, 0.025315349926341074, 0.0337537999017881, 0.025315349926341074, 0.0337537999017881, 0.008438449975447024, 0.8565339516462258, 0.15006316103540598, 0.1750736878746403, 0.05002105367846866, 0.05002105367846866, 0.05002105367846866, 0.05002105367846866, 0.02501052683923433, 0.02501052683923433, 0.02501052683923433, 0.3251368489100463, 0.02501052683923433, 0.05002105367846866, 0.8229074885475711, 0.14528744821369824, 0.13836899829876023, 0.0622660492344421, 0.0622660492344421, 0.08302139897925613, 0.14528744821369824, 0.1245320984688842, 0.027673799659752044, 0.04842914940456608, 0.06918449914938012, 0.013836899829876022, 0.027673799659752044, 0.020755349744814033, 0.013836899829876022, 0.027673799659752044, 0.0672839108630712, 0.044855940575380795, 0.044855940575380795, 0.0672839108630712, 0.0672839108630712, 0.4261314354661176, 0.08971188115076159, 0.0672839108630712, 0.0672839108630712, 0.044855940575380795, 0.022427970287690398, 0.8914957320903566, 0.8860122537876541, 0.3668129524513039, 0.06792832452801925, 0.08151398943362309, 0.040756994716811545, 0.040756994716811545, 0.06792832452801925, 0.09509965433922694, 0.01358566490560385, 0.0543426596224154, 0.16302797886724618, 0.0271713298112077, 0.06874966127317188, 0.04583310751544792, 0.04583310751544792, 0.06874966127317188, 0.13749932254634376, 0.02291655375772396, 0.3895814138813073, 0.09166621503089584, 0.04583310751544792, 0.02291655375772396, 0.02291655375772396, 0.3230949310639101, 0.13255176659032208, 0.00828448541189513, 0.03313794164758052, 0.06627588329516104, 0.02485345623568539, 0.09941382494274156, 0.09112933953084644, 0.05799139788326591, 0.01656897082379026, 0.06627588329516104, 0.00828448541189513, 0.06627588329516104, 0.04837305605882925, 0.193492224235317, 0.04837305605882925, 0.5321036166471217, 0.04837305605882925, 0.04837305605882925, 0.04837305605882925, 0.04837305605882925, 0.04837305605882925, 0.11388683870993303, 0.05694341935496652, 0.07117927419370815, 0.3274246612910575, 0.04270756451622489, 0.05694341935496652, 0.07117927419370815, 0.08541512903244979, 0.11388683870993303, 0.02847170967748326, 0.01423585483874163, 0.18473352226012793, 0.16341811584549779, 0.028420541886173527, 0.09236676113006397, 0.06394621924389043, 0.049735948300803676, 0.08526162565852058, 0.09947189660160735, 0.08526162565852058, 0.049735948300803676, 0.021315406414630145, 0.04263081282926029, 0.021315406414630145, 0.014210270943086764, 0.007105135471543382, 0.21396457584655376, 0.06418937275396613, 0.042792915169310754, 0.10698228792327688, 0.021396457584655377, 0.021396457584655377, 0.17117166067724301, 0.021396457584655377, 0.29955040618517526, 0.07090791077977425, 0.9218028401370651, 0.11021066889852058, 0.05510533444926029, 0.11021066889852058, 0.14694755853136077, 0.07347377926568038, 0.09184222408210048, 0.05510533444926029, 0.20205289298062107, 0.05510533444926029, 0.018368444816420096, 0.018368444816420096, 0.03673688963284019, 0.018368444816420096, 0.9784568071758581, 0.12292674553449731, 0.6146337276724865, 0.12292674553449731, 0.0774019893997742, 0.0774019893997742, 0.0774019893997742, 0.0774019893997742, 0.6192159151981936, 0.0774019893997742, 0.7017990143949708, 0.14972793304844856, 0.1122959497863364, 0.08734129427826165, 0.1122959497863364, 0.1122959497863364, 0.08734129427826165, 0.04990931101614952, 0.02495465550807476, 0.04990931101614952, 0.03743198326211214, 0.062386638770186895, 0.01247732775403738, 0.062386638770186895, 0.01247732775403738, 0.9591146459591416, 0.9367742915949321, 0.15726353013743008, 0.2550219407634001, 0.05950511951146003, 0.046754022473290024, 0.10625914198475006, 0.05950511951146003, 0.03825329111451002, 0.08075694790841004, 0.03825329111451002, 0.05525475383207003, 0.02125182839695001, 0.025502194076340013, 0.008500731358780005, 0.01700146271756001, 0.029752559755730015, 0.8337461774015426, 0.18831836801834356, 0.7532734720733743, 0.2003789043526223, 0.17330067403470037, 0.09206598308093457, 0.10289727520810334, 0.08665033701735018, 0.0379095224450907, 0.07040339882659702, 0.05957210669942825, 0.0379095224450907, 0.021662584254337546, 0.01624693819075316, 0.01624693819075316, 0.021662584254337546, 0.02707823031792193, 0.0379095224450907, 0.24597305673355835, 0.12298652836677917, 0.6149326418338958, 0.10564588771711149, 0.10564588771711149, 0.7395212140197804, 0.19672590387970762, 0.2459073798496345, 0.09836295193985381, 0.09836295193985381, 0.07377221395489035, 0.024590737984963452, 0.07377221395489035, 0.024590737984963452, 0.12295368992481726, 0.8058830226386099, 0.9442948711275261, 0.1838006608086155, 0.1838006608086155, 0.1838006608086155, 0.1838006608086155, 0.367601321617231, 0.5986256201418688, 0.6812699549942326, 0.061933632272202964, 0.061933632272202964, 0.12386726454440593, 0.9083515815356192, 0.10283605660587046, 0.20567211321174092, 0.10283605660587046, 0.0685573710705803, 0.10283605660587046, 0.10283605660587046, 0.03427868553529015, 0.10283605660587046, 0.1371147421411606, 0.22727706120734306, 0.1278433469291305, 0.0994337142782126, 0.042614448976376826, 0.1420481632545894, 0.014204816325458941, 0.042614448976376826, 0.042614448976376826, 0.08522889795275365, 0.0994337142782126, 0.028409632650917883, 0.028409632650917883, 0.09884365986992433, 0.7907492789593946, 0.09884365986992433, 0.23025334698213118, 0.6907600409463935, 0.2318855626798897, 0.10144993367245174, 0.04347854300247932, 0.04347854300247932, 0.08695708600495863, 0.15942132434242415, 0.07246423833746553, 0.11594278133994484, 0.014492847667493106, 0.02898569533498621, 0.014492847667493106, 0.05797139066997242, 0.014492847667493106, 0.22029540595952407, 0.05507385148988102, 0.22029540595952407, 0.05507385148988102, 0.05507385148988102, 0.05507385148988102, 0.2753692574494051, 0.05507385148988102, 0.9744312794748352, 0.8902464254501758, 0.8017049636403539, 0.978224713463978, 0.9353568023629399, 0.9104075067102014, 0.07715317853476283, 0.9653631083799564, 0.984480457879264, 0.9353568023629399, 0.18298190531960443, 0.18298190531960443, 0.020331322813289383, 0.20331322813289382, 0.040662645626578765, 0.040662645626578765, 0.060993968439868144, 0.020331322813289383, 0.020331322813289383, 0.020331322813289383, 0.060993968439868144, 0.14231925969302567, 0.020331322813289383, 0.09498968889893492, 0.8549072000904142, 0.8688200386832146, 0.16795885988584394, 0.7558148694862977, 0.08397942994292197, 0.7809983618631774, 0.7809983618631774, 0.2404987353106672, 0.1202493676553336, 0.08016624510355573, 0.040083122551777865, 0.040083122551777865, 0.1202493676553336, 0.040083122551777865, 0.08016624510355573, 0.040083122551777865, 0.1202493676553336, 0.965284543951689, 0.8299303512689369, 0.9132768359321476, 0.08302516690292251, 0.2693974199191381, 0.08979913997304603, 0.038485345702734014, 0.06414224283789002, 0.038485345702734014, 0.07697069140546803, 0.12828448567578005, 0.02565689713515601, 0.02565689713515601, 0.05131379427031202, 0.08979913997304603, 0.10262758854062404, 0.9571121993622181, 0.9912414099242985, 0.9079735183372688, 0.1917757461707391, 0.09588787308536954, 0.11719628932656277, 0.03196262436178984, 0.17046732992954586, 0.09588787308536954, 0.07457945684417631, 0.05327104060298308, 0.03196262436178984, 0.021308416241193232, 0.03196262436178984, 0.010654208120596616, 0.021308416241193232, 0.021308416241193232, 0.042616832482386464, 0.3558535282478959, 0.11861784274929862, 0.11861784274929862, 0.4744713709971945, 0.7784233120926783, 0.03892116560463391, 0.03892116560463391, 0.11676349681390175, 0.13167913516954702, 0.06583956758477351, 0.06583956758477351, 0.26335827033909404, 0.3950374055086411, 0.8389979173291279, 0.8017049636403539, 0.7050845897956228, 0.16786312302499404, 0.16786312302499404, 0.5035893690749821, 0.06341676842956309, 0.06341676842956309, 0.12683353685912618, 0.031708384214781546, 0.2219586895034708, 0.06341676842956309, 0.031708384214781546, 0.31708384214781543, 0.031708384214781546, 0.031708384214781546, 0.5784221313874097, 0.03731755686370385, 0.018658778431851927, 0.09329389215925964, 0.03731755686370385, 0.018658778431851927, 0.09329389215925964, 0.018658778431851927, 0.018658778431851927, 0.018658778431851927, 0.018658778431851927, 0.018658778431851927, 0.88469811885282, 0.7284285814502741, 0.16994932099613874, 0.18208855821014866, 0.042487330249034685, 0.14567084656811893, 0.042487330249034685, 0.06676580467705451, 0.07890504189106443, 0.10318351631908425, 0.08497466049806937, 0.018208855821014867, 0.0060696186070049556, 0.024278474428019822, 0.024278474428019822, 0.012139237214009911, 0.0060696186070049556, 0.5329037242103866, 0.34183706573945466, 0.11394568857981822, 0.03798189619327274, 0.49376465051254564, 0.03798189619327274, 0.20891031386697242, 0.7311860985344035, 0.15400915080399286, 0.05133638360133095, 0.05133638360133095, 0.25668191800665474, 0.05133638360133095, 0.15400915080399286, 0.05133638360133095, 0.2053455344053238, 0.49106681910965005, 0.9471654917597628, 0.944294871127526, 0.08376385842843258, 0.05584257228562172, 0.1396064307140543, 0.02792128614281086, 0.11168514457124344, 0.08376385842843258, 0.02792128614281086, 0.08376385842843258, 0.08376385842843258, 0.02792128614281086, 0.05584257228562172, 0.19544900299967602, 0.12109498988936, 0.22489069550881144, 0.04324821067477143, 0.07784677921458857, 0.08649642134954286, 0.10379570561945144, 0.07784677921458857, 0.05189785280972572, 0.034598568539817146, 0.05189785280972572, 0.017299284269908573, 0.02594892640486286, 0.04324821067477143, 0.017299284269908573, 0.017299284269908573, 0.9076558104864887, 0.06579995032968838, 0.008224993791211048, 0.13159990065937677, 0.057574956538477336, 0.09869992549453258, 0.09047493170332153, 0.2549748075275425, 0.057574956538477336, 0.11514991307695467, 0.016449987582422096, 0.04112496895605524, 0.03289997516484419, 0.016449987582422096, 0.9784568071758581, 0.21213371772480807, 0.016317978286523697, 0.14686180457871328, 0.11422584800566589, 0.0815898914326185, 0.04895393485957109, 0.0815898914326185, 0.06527191314609479, 0.016317978286523697, 0.19581573943828437, 0.9574825898065051, 0.9196837946179229, 0.38293546919248445, 0.4850515943104803, 0.025529031279498963, 0.10211612511799585, 0.32305360631532376, 0.6461072126306475, 0.09846913991869044, 0.7877531193495235, 0.09846913991869044, 0.05566905220825414, 0.2365934718850801, 0.4314351546139696, 0.04175178915619061, 0.013917263052063535, 0.013917263052063535, 0.16700715662476243, 0.013917263052063535, 0.052964663253637995, 0.953363938565484, 0.22616063325302277, 0.6784818997590683, 0.04859605635851995, 0.0138845875310057, 0.22909569426159407, 0.0138845875310057, 0.1110767002480456, 0.06248064388952565, 0.034711468827514254, 0.02082688129650855, 0.3748838633371539, 0.02082688129650855, 0.02082688129650855, 0.00694229376550285, 0.0277691750620114, 0.866838559206817, 0.1374423006249282, 0.1374423006249282, 0.1374423006249282, 0.5497692024997128, 0.8226503876133328, 0.07920421337418469, 0.056574438124417634, 0.19235308962301997, 0.07920421337418469, 0.022629775249767056, 0.44128061737045754, 0.022629775249767056, 0.011314887624883528, 0.06788932574930116, 0.022629775249767056, 0.86333213840785, 0.9941242056700281, 0.2231107221411592, 0.6693321664234776, 0.9912414099242985, 0.10138618229547185, 0.9124756406592467, 0.3248028744771012, 0.1082676248257004, 0.1353345310321255, 0.061867214186114516, 0.05800051329948236, 0.0270669062064251, 0.08506741950590746, 0.019333504433160786, 0.03866700886632157, 0.03866700886632157, 0.0038667008866321573, 0.07346731684601099, 0.015466803546528629, 0.0077334017732643145, 0.1391300957624443, 0.2782601915248886, 0.5565203830497772, 0.8401731042628371, 0.07001442535523643, 0.07001442535523643, 0.5329037242103866, 0.14116615720062098, 0.7058307860031049, 0.14116615720062098, 0.8939380280393392, 0.9613434055681943, 0.8705578633940165, 0.06218270452814404, 0.06218270452814404, 0.9457370453559655, 0.9571121993622186, 0.9647949371524541, 0.9498120353353043, 0.485745400313061, 0.05397171114589567, 0.05397171114589567, 0.05397171114589567, 0.05397171114589567, 0.05397171114589567, 0.16191513343768701, 0.1507707646616622, 0.10437976015038153, 0.01159775112782017, 0.06958650676692102, 0.10437976015038153, 0.25515052481204376, 0.12757526240602188, 0.03479325338346051, 0.02319550225564034, 0.03479325338346051, 0.03479325338346051, 0.01159775112782017, 0.01159775112782017, 0.01159775112782017, 0.03479325338346051, 0.7591033981525779, 0.2530344660508593, 0.09620574279502711, 0.19241148559005422, 0.04372988308864868, 0.10495171941275684, 0.10495171941275684, 0.06122183632410816, 0.07871378955956763, 0.10495171941275684, 0.08745976617729737, 0.04372988308864868, 0.008745976617729736, 0.034983906470918945, 0.008745976617729736, 0.008745976617729736, 0.017491953235459472, 0.978522246053833, 0.5572430539280359, 0.12380483377640228, 0.12380483377640228, 0.7428290026584137, 0.8653985259766209, 0.20666958394215784, 0.09644580583967366, 0.013777972262810523, 0.1791136394165368, 0.04133391678843157, 0.05511188905124209, 0.2342255284677789, 0.06888986131405261, 0.06888986131405261, 0.013777972262810523, 0.013777972262810523, 0.013777972262810523, 0.09579806530368801, 0.09579806530368801, 0.19159613060737601, 0.574788391822128, 0.1152945924040952, 0.01281051026712169, 0.25621020534243377, 0.1152945924040952, 0.01281051026712169, 0.06405255133560844, 0.21777867454106872, 0.03843153080136507, 0.1409156129383386, 0.01281051026712169, 0.01281051026712169, 0.9652845439516887, 0.9652845439516887, 0.07790388705681488, 0.5842791529261117, 0.11685583058522232, 0.11685583058522232, 0.03895194352840744, 0.03895194352840744, 0.03895194352840744, 0.1746445152623479, 0.11389859691022688, 0.053152678558105876, 0.037966198970075624, 0.15945803567431763, 0.06833915814613613, 0.037966198970075624, 0.037966198970075624, 0.060745918352121, 0.06833915814613613, 0.01518647958803025, 0.053152678558105876, 0.04555943876409075, 0.053152678558105876, 0.037966198970075624, 0.1670648565069451, 0.02088310706336814, 0.22971417769704952, 0.10441553531684068, 0.14618174944357695, 0.02088310706336814, 0.08353242825347255, 0.02088310706336814, 0.04176621412673628, 0.18794796357031324, 0.29828070526515493, 0.29828070526515493, 0.7515375898534522, 0.06262813248778769, 0.12525626497557538, 0.06262813248778769, 0.3193572945282079, 0.6387145890564158, 0.5986256201418688, 0.5986256201418688, 0.9645597093364845, 0.17574438379446278, 0.07322682658102615, 0.07322682658102615, 0.014645365316205233, 0.11716292252964186, 0.21968047974307847, 0.029290730632410465, 0.014645365316205233, 0.043936095948615694, 0.05858146126482093, 0.05858146126482093, 0.014645365316205233, 0.05858146126482093, 0.05858146126482093, 0.8653985259766209, 0.07354947654199065, 0.8825937185038878, 0.07354947654199065, 0.08316399328181356, 0.33265597312725426, 0.027721331093937856, 0.05544266218787571, 0.027721331093937856, 0.38809863531513, 0.05544266218787571, 0.11319800008002026, 0.9055840006401621, 0.08502824038190968, 0.8502824038190967, 0.8325369047029362, 0.5331270112415668, 0.02050488504775257, 0.02050488504775257, 0.06151465514325771, 0.02050488504775257, 0.04100977009550514, 0.12302931028651543, 0.06151465514325771, 0.04100977009550514, 0.06151465514325771, 0.02050488504775257, 0.5986256199315588, 0.25152875070391595, 0.09432328151396849, 0.09432328151396849, 0.08646300805447112, 0.047161640756984244, 0.07860273459497374, 0.09432328151396849, 0.08646300805447112, 0.031441093837989494, 0.047161640756984244, 0.015720546918994747, 0.015720546918994747, 0.047161640756984244, 0.007860273459497373, 0.8424438418519455, 0.09720505867522448, 0.03240168622507483, 0.7809983618631774, 0.17825220920494417, 0.09803871506271929, 0.062388273221730454, 0.026737831380741622, 0.08021349414222487, 0.27629092426766344, 0.062388273221730454, 0.053475662761483245, 0.017825220920494416, 0.017825220920494416, 0.017825220920494416, 0.03565044184098883, 0.017825220920494416, 0.03565044184098883, 0.9240706820211926, 0.8085831755601779, 0.5329037242103866, 0.8633321384078498, 0.9813941053441247, 0.05813834789396665, 0.2325533915758666, 0.17441504368189997, 0.4651067831517332, 0.1162766957879333, 0.856533948516185, 0.950890328596242, 0.9083515815356192, 0.9522836233701045, 0.9522836233701045, 0.24214465901523216, 0.024214465901523218, 0.6537905793411268, 0.024214465901523218, 0.024214465901523218, 0.9941242056691834, 0.9941242056691834, 0.9744312794742324, 0.9744312794742324, 0.9254109666134629, 0.01128908414679012, 0.04515633658716048, 0.14675809390827158, 0.01128908414679012, 0.04515633658716048, 0.27093801952296287, 0.1580471780550617, 0.1580471780550617, 0.02257816829358024, 0.13546900976148143, 0.17946455519091373, 0.7178582207636549, 0.3068548387454527, 0.03409498208282808, 0.06818996416565616, 0.03409498208282808, 0.03409498208282808, 0.03409498208282808, 0.4773297491595931, 0.03409498208282808, 0.9172000649508882, 0.9004147158866677, 0.8017049636403539, 0.12117162215728298, 0.36351486647184894, 0.48468648862913194, 0.5329037242103866, 0.25145859690303035, 0.7543757907090911, 0.19959850816568767, 0.06653283605522922, 0.5322626884418338, 0.13306567211045844, 0.9752647187621462, 0.7627451248186891, 0.8688200386832146, 0.9591146459591416, 0.060652097996053665, 0.015163024499013416, 0.030326048998026833, 0.21228234298618784, 0.015163024499013416, 0.04548907349704025, 0.6216840044595501, 0.9473282275115997, 0.14450133485996214, 0.7225066742998107, 0.14450133485996214, 0.26663624725725854, 0.10255240279125329, 0.04102096111650132, 0.02051048055825066, 0.06153144167475197, 0.32816768893201054, 0.06153144167475197, 0.04102096111650132, 0.02051048055825066, 0.02051048055825066, 0.9809496663837471, 0.12372600739421251, 0.12372600739421251, 0.3004774465288018, 0.15907629522113037, 0.03535028782691786, 0.01767514391345893, 0.07070057565383572, 0.12372600739421251, 0.01767514391345893, 0.1215804527528304, 0.0607902263764152, 0.0607902263764152, 0.0607902263764152, 0.0607902263764152, 0.1215804527528304, 0.0607902263764152, 0.36474135825849124, 0.0607902263764152, 0.8860122536729681, 0.2849510387687169, 0.0371675267959196, 0.04955670239455946, 0.1362809315850385, 0.08672422919047906, 0.0743350535918392, 0.0371675267959196, 0.06194587799319933, 0.11150258038775879, 0.04955670239455946, 0.012389175598639866, 0.06194587799319933, 0.9083515815356192, 0.2695681180455003, 0.5391362360910006, 0.37173818410855064, 0.37173818410855064, 0.8846981179616303, 0.07646872429671638, 0.17205462966761184, 0.11470308644507456, 0.09558590537089547, 0.05735154322253728, 0.11470308644507456, 0.019117181074179094, 0.11470308644507456, 0.03823436214835819, 0.019117181074179094, 0.019117181074179094, 0.13382026751925366, 0.8779246532630891, 0.8846981188528197, 0.8686282195406666, 0.49045179420810825, 0.09809035884162165, 0.3923614353664866, 0.965132474696177, 0.8993969212727713, 0.8928119840083365, 0.11160149800104206, 0.8993969212727709, 0.8378537795527473, 0.039897799026321304, 0.039897799026321304, 0.039897799026321304, 0.9857408480694048, 0.9474607678921583, 0.05263670932734213, 0.9905479086356179, 0.8809111540454069, 0.8474741048744372, 0.06081718977429137, 0.07298062772914965, 0.21894188318744892, 0.012163437954858273, 0.036490313864574825, 0.17028813136801582, 0.04865375181943309, 0.09730750363886619, 0.024326875909716546, 0.1459612554582993, 0.012163437954858273, 0.012163437954858273, 0.04865375181943309, 0.012163437954858273, 0.024326875909716546, 0.9571121993622181, 0.7627451248186885, 0.7627451248186885, 0.5329037242103866, 0.5986256201418688, 0.5329037242103866, 0.11378883208767478, 0.9103106567013982, 0.05033823141364713, 0.10067646282729426, 0.05033823141364713, 0.30202938848188277, 0.05033823141364713, 0.05033823141364713, 0.3523676198955299, 0.05033823141364713, 0.11677683394547934, 0.11063068479045413, 0.05531534239522706, 0.11063068479045413, 0.295015159441211, 0.03687689493015137, 0.012292298310050458, 0.03687689493015137, 0.012292298310050458, 0.07375378986030275, 0.006146149155025229, 0.06760764070527751, 0.006146149155025229, 0.05531534239522706, 0.8389979173291279, 0.8847011861969313, 0.07372509884974428, 0.07372509884974428, 0.4294145621948613, 0.4294145621948613, 0.9642991450692747, 0.1854820680062771, 0.07419282720251083, 0.005299487657322202, 0.33386772241129875, 0.11658872846108845, 0.12718770377573285, 0.005299487657322202, 0.005299487657322202, 0.015898462971966607, 0.04239590125857762, 0.09009129017447744, 0.20433646853693052, 0.8173458741477221, 0.7809983618631774, 0.7809983618631774, 0.7809983618631774, 0.9254897208142734, 0.8619196210689214, 0.8898935138586825, 0.7665677731151016, 0.7326959168534039, 0.12929927944471833, 0.04309975981490611, 0.04309975981490611, 0.7134226298868224, 0.1337667431037792, 0.0445889143679264, 0.0445889143679264, 0.19031949093331482, 0.38063898186662964, 0.38063898186662964, 0.06500505945605647, 0.06500505945605647, 0.06500505945605647, 0.06500505945605647, 0.06500505945605647, 0.19501517836816945, 0.06500505945605647, 0.3250252972802824, 0.8957022698224819, 0.07092368088572716, 0.2624176192771905, 0.021277104265718147, 0.042554208531436294, 0.14184736177145432, 0.028369472354290864, 0.007092368088572716, 0.007092368088572716, 0.049646576620009014, 0.2269557788343269, 0.042554208531436294, 0.028369472354290864, 0.07092368088572716, 0.007092368088572716, 0.8957022698224819, 0.7977415352574005, 0.9076558104864887, 0.9275003877305836, 0.9893898518321466, 0.9893834212351916, 0.7809983618631774, 0.7809983618631774, 0.8337461774015426, 0.9893834213290976, 0.8898935138586825, 0.04264032278778786, 0.6396048418168179, 0.04264032278778786, 0.04264032278778786, 0.04264032278778786, 0.12792096836336356, 0.04264032278778786, 0.29195306551929057, 0.6568943974184038, 0.8688200386832146, 0.9784568071758585, 0.08413919225145866, 0.05609279483430578, 0.252417576754376, 0.02804639741715289, 0.05609279483430578, 0.14023198708576445, 0.02804639741715289, 0.05609279483430578, 0.02804639741715289, 0.3085103715886818, 0.27027194488149425, 0.1312749446567258, 0.07722055568042693, 0.061776444544341544, 0.030888222272170772, 0.09266466681651232, 0.09266466681651232, 0.1158308335206404, 0.015444111136085386, 0.05405438897629885, 0.015444111136085386, 0.007722055568042693, 0.030888222272170772, 0.9864453713246718, 0.7809983618631774, 0.43595776068388364, 0.43595776068388364, 0.12006123287205962, 0.24012246574411925, 0.12006123287205962, 0.12006123287205962, 0.3601836986161789, 0.7447733767062495, 0.7447733767062495, 0.04121759383927568, 0.9480046583033406, 0.9742542066184788, 0.18361087403125362, 0.7344434961250145, 0.8562717318001954, 0.883413651113911, 0.11042670638923888, 0.9651324746961771, 0.8832690068051274, 0.8844905813205194, 0.9812201872424543, 0.9678331972018508, 0.06677646752603147, 0.07631596288689312, 0.028618486082584917, 0.33388233763015734, 0.12401343969120131, 0.20986889793895605, 0.00953949536086164, 0.00953949536086164, 0.028618486082584917, 0.01907899072172328, 0.07631596288689312, 0.00953949536086164, 0.7977415352574005, 0.8846981188528197, 0.8815886998188618, 0.16088199259293137, 0.09463646623113611, 0.10410011285424972, 0.00946364662311361, 0.11356375947736333, 0.03785458649245444, 0.0851728196080225, 0.047318233115568056, 0.047318233115568056, 0.09463646623113611, 0.06624552636179527, 0.047318233115568056, 0.03785458649245444, 0.03785458649245444, 0.01892729324622722, 0.5755775083540351, 0.07674366778053801, 0.019185916945134503, 0.0959295847256725, 0.0959295847256725, 0.019185916945134503, 0.05755775083540351, 0.019185916945134503, 0.05755775083540351, 0.8475943838759227, 0.08475943838759227], \"Term\": [\"\\u0430\\u0432\\u0430\\u0440\\u0438\\u044f\", \"\\u0430\\u0432\\u0442\\u043e\", \"\\u0430\\u0432\\u0442\\u043e\\u043c\\u0430\\u0442\", \"\\u0430\\u0432\\u0442\\u043e\\u043c\\u0430\\u0442\\u0438\\u0447\\u0435\\u0441\\u043a\\u0438\\u0439 \\u043e\\u0442\\u043c\\u0435\\u043d\\u0430\", \"\\u0430\\u0432\\u0442\\u043e\\u043c\\u0430\\u0442\\u0438\\u0447\\u0435\\u0441\\u043a\\u0438\\u0439 \\u0441\\u043c\\u0435\\u043d\\u0430\", \"\\u0430\\u0432\\u0442\\u043e\\u043c\\u043e\\u0431\\u0438\\u043b\\u044c\", \"\\u0430\\u0434\\u043c\\u0438\\u0440\\u0430\\u043b\", \"\\u0430\\u0434\\u0440\\u0435\\u0441\", \"\\u0430\\u0434\\u0440\\u0435\\u0441\", \"\\u0430\\u0434\\u0440\\u0435\\u0441\", \"\\u0430\\u0434\\u0440\\u0435\\u0441\", \"\\u0430\\u0434\\u0440\\u0435\\u0441\", \"\\u0430\\u0434\\u0440\\u0435\\u0441\", \"\\u0430\\u0434\\u0440\\u0435\\u0441\", \"\\u0430\\u0434\\u0440\\u0435\\u0441\", \"\\u0430\\u043a\\u0446\\u0438\\u044f\", \"\\u0430\\u043b\\u0433\\u043e\\u0440\\u0438\\u0442\\u043c\", \"\\u0430\\u043b\\u0433\\u043e\\u0440\\u0438\\u0442\\u043c\", \"\\u0430\\u043b\\u0433\\u043e\\u0440\\u0438\\u0442\\u043c\", \"\\u0430\\u043b\\u0433\\u043e\\u0440\\u0438\\u0442\\u043c\", \"\\u0430\\u043b\\u0433\\u043e\\u0440\\u0438\\u0442\\u043c\", \"\\u0430\\u043b\\u0433\\u043e\\u0440\\u0438\\u0442\\u043c\", \"\\u0430\\u043b\\u0433\\u043e\\u0440\\u0438\\u0442\\u043c\", \"\\u0430\\u043c\\u0430\\u0437\\u043e\\u043d\\u043a\\u0430\", \"\\u0430\\u043d\\u0430\\u043b\\u0438\\u0437\", \"\\u0430\\u043d\\u0430\\u043b\\u0438\\u0437\", \"\\u0430\\u043d\\u0430\\u043b\\u0438\\u0437\", \"\\u0430\\u043d\\u0430\\u043b\\u0438\\u0437\", \"\\u0430\\u043d\\u0430\\u043b\\u0438\\u0437\", \"\\u0430\\u043d\\u0430\\u043b\\u0438\\u0437\", \"\\u0430\\u043d\\u0430\\u043b\\u0438\\u0437\", \"\\u0430\\u043d\\u0430\\u043b\\u0438\\u0437\", \"\\u0430\\u043d\\u0430\\u043b\\u0438\\u0437\", \"\\u0430\\u043d\\u0430\\u043b\\u0438\\u0437\", \"\\u0430\\u043d\\u0430\\u043b\\u0438\\u0437\", \"\\u0430\\u043d\\u0430\\u043b\\u0438\\u0437 \\u0440\\u0430\\u0434\\u0438\\u043e\\u044d\\u0444\\u0438\\u0440\", \"\\u0430\\u043d\\u0434\\u0440\\u0435\\u0439\", \"\\u0430\\u043d\\u0434\\u0440\\u0435\\u0439\", \"\\u0430\\u043d\\u0434\\u0440\\u0435\\u0439 \\u043a\\u0430\\u0440\\u043f\\u0430\\u0442\\u044b\", \"\\u0430\\u043d\\u0438\\u043c\\u0430\\u0442\\u043e\\u0440\", \"\\u0430\\u043d\\u0438\\u043c\\u0430\\u0446\\u0438\\u044f\", \"\\u0430\\u043d\\u0438\\u043c\\u0430\\u0446\\u0438\\u044f\", \"\\u0430\\u043d\\u0438\\u043c\\u0430\\u0446\\u0438\\u044f\", \"\\u0430\\u043d\\u0438\\u043c\\u0438\\u0440\\u043e\\u0432\\u0430\\u043d\\u0438\\u0435\", \"\\u0430\\u043d\\u0438\\u043c\\u0438\\u0440\\u043e\\u0432\\u0430\\u043d\\u0438\\u0435 \\u044d\\u043b\\u0435\\u043c\\u0435\\u043d\\u0442\", \"\\u0430\\u043d\\u043e\\u043d\\u0438\\u043c\\u043d\\u044b\\u0439\", \"\\u0430\\u043d\\u043e\\u043d\\u0438\\u043c\\u043d\\u044b\\u0439\", \"\\u0430\\u043d\\u043e\\u043d\\u0438\\u043c\\u043d\\u044b\\u0439 \\u043f\\u0440\\u043e\\u0441\\u0442\\u0440\\u0430\\u043d\\u0441\\u0442\\u0432\\u043e\", \"\\u0430\\u043d\\u043e\\u043d\\u0438\\u043c\\u043d\\u044b\\u0439 \\u043f\\u0440\\u043e\\u0441\\u0442\\u0440\\u0430\\u043d\\u0441\\u0442\\u0432\\u043e \\u0438\\u043c\\u044f\", \"\\u0430\\u043f\\u0433\\u0440\\u0435\\u0439\\u0434\", \"\\u0430\\u043f\\u043f\\u0430\\u0440\\u0430\\u0442\", \"\\u0430\\u043f\\u043f\\u0430\\u0440\\u0430\\u0442\", \"\\u0430\\u0441\\u0438\\u043d\\u0445\\u0440\\u043e\\u043d\\u043d\\u044b\\u0439\", \"\\u0430\\u0441\\u0438\\u043d\\u0445\\u0440\\u043e\\u043d\\u043d\\u044b\\u0439\", \"\\u0430\\u0441\\u0438\\u043d\\u0445\\u0440\\u043e\\u043d\\u043d\\u044b\\u0439\", \"\\u0430\\u0441\\u0438\\u043d\\u0445\\u0440\\u043e\\u043d\\u043d\\u044b\\u0439\", \"\\u0430\\u0441\\u0438\\u043d\\u0445\\u0440\\u043e\\u043d\\u043d\\u044b\\u0439\", \"\\u0430\\u0441\\u0438\\u043d\\u0445\\u0440\\u043e\\u043d\\u043d\\u044b\\u0439 \\u043a\\u043e\\u043d\\u0442\\u0435\\u043a\\u0441\\u0442\", \"\\u0430\\u0441\\u0438\\u043d\\u0445\\u0440\\u043e\\u043d\\u043d\\u044b\\u0439 \\u0446\\u0435\\u043f\\u043e\\u0447\\u043a\\u0430\", \"\\u0430\\u0443\\u0433\\u043c\\u0435\\u043d\\u0442\\u0430\\u0446\\u0438\\u044f\", \"\\u0430\\u0443\\u0442\\u0435\\u043d\\u0442\\u0438\\u0444\\u0438\\u043a\\u0430\\u0446\\u0438\\u044f\", \"\\u0430\\u0443\\u0442\\u0435\\u043d\\u0442\\u0438\\u0444\\u0438\\u043a\\u0430\\u0446\\u0438\\u044f\", \"\\u0430\\u0443\\u0442\\u0435\\u043d\\u0442\\u0438\\u0444\\u0438\\u043a\\u0430\\u0446\\u0438\\u044f\", \"\\u0431\\u0430\\u0437\\u0430 \\u0434\\u0430\\u043d\\u043d\\u044b\\u0435\", \"\\u0431\\u0430\\u0437\\u0430 \\u0434\\u0430\\u043d\\u043d\\u044b\\u0435\", \"\\u0431\\u0430\\u0437\\u0430 \\u0434\\u0430\\u043d\\u043d\\u044b\\u0435\", \"\\u0431\\u0430\\u0437\\u0430 \\u0434\\u0430\\u043d\\u043d\\u044b\\u0435\", \"\\u0431\\u0430\\u0437\\u0430 \\u0434\\u0430\\u043d\\u043d\\u044b\\u0435\", \"\\u0431\\u0430\\u0437\\u0430 \\u0434\\u0430\\u043d\\u043d\\u044b\\u0435\", \"\\u0431\\u0430\\u0437\\u0430 \\u0434\\u0430\\u043d\\u043d\\u044b\\u0435\", \"\\u0431\\u0430\\u043b\\u043b\", \"\\u0431\\u0430\\u043b\\u043b\", \"\\u0431\\u0430\\u043b\\u043b\\u043e\\u043d\", \"\\u0431\\u0430\\u043d\\u0449\\u0438\\u043a\", \"\\u0431\\u0430\\u043d\\u044f\", \"\\u0431\\u0430\\u0441\\u0441\\u0435\\u0439\\u043d\", \"\\u0431\\u0430\\u0442\\u0430\\u0440\\u0435\\u0439\\u043a\\u0430\", \"\\u0431\\u0435\\u0437\\u043e\\u0431\\u0438\\u0434\\u043d\\u044b\\u0439\", \"\\u0431\\u0435\\u0437\\u043e\\u043f\\u0430\\u0441\\u043d\\u043e\\u0441\\u0442\\u044c\", \"\\u0431\\u0435\\u0437\\u043e\\u043f\\u0430\\u0441\\u043d\\u043e\\u0441\\u0442\\u044c\", \"\\u0431\\u0435\\u0437\\u043e\\u043f\\u0430\\u0441\\u043d\\u043e\\u0441\\u0442\\u044c\", \"\\u0431\\u0435\\u0437\\u043e\\u043f\\u0430\\u0441\\u043d\\u043e\\u0441\\u0442\\u044c\", \"\\u0431\\u0435\\u0437\\u043e\\u043f\\u0430\\u0441\\u043d\\u043e\\u0441\\u0442\\u044c\", \"\\u0431\\u0435\\u0437\\u043e\\u043f\\u0430\\u0441\\u043d\\u043e\\u0441\\u0442\\u044c\", \"\\u0431\\u0435\\u0437\\u043e\\u043f\\u0430\\u0441\\u043d\\u043e\\u0441\\u0442\\u044c\", \"\\u0431\\u0435\\u0437\\u043e\\u043f\\u0430\\u0441\\u043d\\u043e\\u0441\\u0442\\u044c\", \"\\u0431\\u0435\\u0437\\u043e\\u043f\\u0430\\u0441\\u043d\\u043e\\u0441\\u0442\\u044c\", \"\\u0431\\u0435\\u0437\\u043e\\u043f\\u0430\\u0441\\u043d\\u043e\\u0441\\u0442\\u044c\", \"\\u0431\\u0435\\u0437\\u043e\\u043f\\u0430\\u0441\\u043d\\u043e\\u0441\\u0442\\u044c\", \"\\u0431\\u0435\\u0439\\u043d\\u0438\\u0442\", \"\\u0431\\u0435\\u043a\\u0435\\u043d\\u0434\", \"\\u0431\\u0435\\u043b\\u044b\\u0439\", \"\\u0431\\u0435\\u043b\\u044b\\u0439\", \"\\u0431\\u0435\\u043b\\u044b\\u0439\", \"\\u0431\\u0435\\u043b\\u044b\\u0439\", \"\\u0431\\u0435\\u043b\\u044b\\u0439 \\u0434\\u044b\\u0440\\u0430\", \"\\u0431\\u0435\\u043b\\u044b\\u0439 \\u0441\\u043f\\u0438\\u0441\\u043e\\u043a\", \"\\u0431\\u0435\\u0441\\u043f\\u0438\\u043b\\u043e\\u0442\\u043d\\u044b\\u0439\", \"\\u0431\\u0435\\u0441\\u043f\\u0438\\u043b\\u043e\\u0442\\u043d\\u044b\\u0439 \\u0430\\u0432\\u0442\\u043e\\u043c\\u043e\\u0431\\u0438\\u043b\\u044c\", \"\\u0431\\u0435\\u0441\\u043f\\u0440\\u043e\\u0432\\u043e\\u0434\\u043d\\u043e\\u0439 \\u0441\\u0435\\u0442\\u044c\", \"\\u0431\\u0435\\u0441\\u043f\\u0440\\u043e\\u0432\\u043e\\u0434\\u043d\\u044b\\u0439\", \"\\u0431\\u0435\\u0441\\u043f\\u0440\\u043e\\u0432\\u043e\\u0434\\u043d\\u044b\\u0439\", \"\\u0431\\u0435\\u0441\\u043f\\u0440\\u043e\\u0432\\u043e\\u0434\\u043d\\u044b\\u0439\", \"\\u0431\\u0435\\u0441\\u043f\\u0440\\u043e\\u0432\\u043e\\u0434\\u043d\\u044b\\u0439 \\u0438\\u043d\\u0442\\u0435\\u0440\\u0444\\u0435\\u0439\\u0441\", \"\\u0431\\u0435\\u0441\\u043f\\u0440\\u043e\\u0432\\u043e\\u0434\\u043d\\u044b\\u0439 \\u043a\\u043b\\u0438\\u0435\\u043d\\u0442\", \"\\u0431\\u0435\\u0441\\u0441\\u0435\\u0440\\u0432\\u0435\\u0440\\u043d\\u044b\\u0439\", \"\\u0431\\u0438\\u0431\\u043b\\u0438\\u043e\\u0442\\u0435\\u043a\\u0430\", \"\\u0431\\u0438\\u0431\\u043b\\u0438\\u043e\\u0442\\u0435\\u043a\\u0430\", \"\\u0431\\u0438\\u0431\\u043b\\u0438\\u043e\\u0442\\u0435\\u043a\\u0430\", \"\\u0431\\u0438\\u0431\\u043b\\u0438\\u043e\\u0442\\u0435\\u043a\\u0430\", \"\\u0431\\u0438\\u0431\\u043b\\u0438\\u043e\\u0442\\u0435\\u043a\\u0430\", \"\\u0431\\u0438\\u0431\\u043b\\u0438\\u043e\\u0442\\u0435\\u043a\\u0430\", \"\\u0431\\u0438\\u0431\\u043b\\u0438\\u043e\\u0442\\u0435\\u043a\\u0430\", \"\\u0431\\u0438\\u0431\\u043b\\u0438\\u043e\\u0442\\u0435\\u043a\\u0430\", \"\\u0431\\u0438\\u0431\\u043b\\u0438\\u043e\\u0442\\u0435\\u043a\\u0430\", \"\\u0431\\u0438\\u0431\\u043b\\u0438\\u043e\\u0442\\u0435\\u043a\\u0430\", \"\\u0431\\u0438\\u0437\\u043d\\u0435\\u0441 \\u043c\\u0435\\u0442\\u0440\\u0438\\u043a\\u0430\", \"\\u0431\\u0438\\u0437\\u043d\\u0435\\u0441 \\u043c\\u0435\\u0442\\u0440\\u0438\\u043a\\u0430\", \"\\u0431\\u0438\\u0444\\u0443\\u0440\\u043a\\u0430\\u0446\\u0438\\u044f\", \"\\u0431\\u043b\\u043e\\u0433\", \"\\u0431\\u043b\\u043e\\u0433\", \"\\u0431\\u043b\\u043e\\u0433\", \"\\u0431\\u043b\\u043e\\u0433\", \"\\u0431\\u043b\\u043e\\u0433\", \"\\u0431\\u043b\\u043e\\u0433\", \"\\u0431\\u043b\\u043e\\u0433\", \"\\u0431\\u043b\\u043e\\u0433\", \"\\u0431\\u043b\\u043e\\u0433\", \"\\u0431\\u043b\\u043e\\u0433 \\u043a\\u043e\\u043c\\u043f\\u0430\\u043d\\u0438\\u044f\", \"\\u0431\\u043b\\u043e\\u043a\", \"\\u0431\\u043b\\u043e\\u043a\", \"\\u0431\\u043b\\u043e\\u043a\", \"\\u0431\\u043b\\u043e\\u043a\", \"\\u0431\\u043b\\u043e\\u043a\", \"\\u0431\\u043b\\u043e\\u043a\", \"\\u0431\\u043b\\u043e\\u043a\", \"\\u0431\\u043b\\u043e\\u043a\", \"\\u0431\\u043b\\u043e\\u043a \\u0434\\u0430\\u043d\\u043d\\u044b\\u0435\", \"\\u0431\\u043e\\u043b\\u044c\\u0448\\u043e\\u0439\", \"\\u0431\\u043e\\u043b\\u044c\\u0448\\u043e\\u0439\", \"\\u0431\\u043e\\u043b\\u044c\\u0448\\u043e\\u0439\", \"\\u0431\\u043e\\u043b\\u044c\\u0448\\u043e\\u0439\", \"\\u0431\\u043e\\u043b\\u044c\\u0448\\u043e\\u0439\", \"\\u0431\\u043e\\u043b\\u044c\\u0448\\u043e\\u0439\", \"\\u0431\\u043e\\u043b\\u044c\\u0448\\u043e\\u0439\", \"\\u0431\\u043e\\u043b\\u044c\\u0448\\u043e\\u0439\", \"\\u0431\\u043e\\u043b\\u044c\\u0448\\u043e\\u0439\", \"\\u0431\\u043e\\u043b\\u044c\\u0448\\u043e\\u0439\", \"\\u0431\\u043e\\u043b\\u044c\\u0448\\u043e\\u0439\", \"\\u0431\\u043e\\u043b\\u044c\\u0448\\u043e\\u0439\", \"\\u0431\\u043e\\u043b\\u044c\\u0448\\u043e\\u0439\", \"\\u0431\\u043e\\u043b\\u044c\\u0448\\u043e\\u0439\", \"\\u0431\\u043e\\u0440\\u0442 \\u0441\\u0444\\u043e\\u0440\\u043c\\u0443\\u043b\\u0438\\u0440\\u043e\\u0432\\u0430\\u0442\\u044c\", \"\\u0431\\u043e\\u0441\\u0441\", \"\\u0431\\u0440\\u0430\\u0443\\u0437\\u0435\\u0440\", \"\\u0431\\u0440\\u0430\\u0443\\u0437\\u0435\\u0440\", \"\\u0431\\u0440\\u0430\\u0443\\u0437\\u0435\\u0440\", \"\\u0431\\u0440\\u0430\\u0443\\u0437\\u0435\\u0440\", \"\\u0431\\u0440\\u0430\\u0443\\u0437\\u0435\\u0440\", \"\\u0431\\u0440\\u0430\\u0443\\u0437\\u0435\\u0440\", \"\\u0431\\u0440\\u0435\\u043d\\u0434\", \"\\u0431\\u0440\\u0435\\u043d\\u0434\", \"\\u0431\\u0440\\u0435\\u043d\\u0434\", \"\\u0431\\u0440\\u0435\\u043d\\u0434\", \"\\u0431\\u0440\\u0435\\u043d\\u0434\", \"\\u0431\\u0440\\u043e\\u043a\\u0435\\u0440\", \"\\u0431\\u0440\\u043e\\u043a\\u0435\\u0440\", \"\\u0431\\u0440\\u043e\\u043a\\u0435\\u0440\", \"\\u0432\\u0430\\u043a\\u0430\\u043d\\u0441\\u0438\\u044f\", \"\\u0432\\u0430\\u043a\\u0430\\u043d\\u0441\\u0438\\u044f\", \"\\u0432\\u0430\\u043a\\u0430\\u043d\\u0441\\u0438\\u044f\", \"\\u0432\\u0430\\u043a\\u0430\\u043d\\u0441\\u0438\\u044f\", \"\\u0432\\u0430\\u043a\\u0430\\u043d\\u0441\\u0438\\u044f\", \"\\u0432\\u0430\\u043a\\u0430\\u043d\\u0441\\u0438\\u044f \\u043c\\u0430\\u0440\\u0442\", \"\\u0432\\u0430\\u0440\\u0438\\u0430\\u043d\\u0442 \\u0440\\u0430\\u0437\\u0432\\u0438\\u0442\\u0438\\u0435\", \"\\u0432\\u0430\\u0441\\u044f\", \"\\u0432\\u0435\\u0434\\u0435\\u043d\\u0438\\u0435\", \"\\u0432\\u0435\\u0434\\u0435\\u043d\\u0438\\u0435 \\u0436\\u0443\\u0440\\u043d\\u0430\\u043b\", \"\\u0432\\u0435\\u0434\\u0435\\u043d\\u0438\\u0435 \\u0436\\u0443\\u0440\\u043d\\u0430\\u043b \\u0430\\u0443\\u0434\\u0438\\u0442\", \"\\u0432\\u0435\\u0441\", \"\\u0432\\u0435\\u0441\", \"\\u0432\\u0435\\u0441\", \"\\u0432\\u0435\\u0441\\u044c\", \"\\u0432\\u0435\\u0441\\u044c\", \"\\u0432\\u0435\\u0441\\u044c\", \"\\u0432\\u0435\\u0441\\u044c\", \"\\u0432\\u0435\\u0441\\u044c\", \"\\u0432\\u0435\\u0441\\u044c\", \"\\u0432\\u0435\\u0441\\u044c\", \"\\u0432\\u0435\\u0441\\u044c\", \"\\u0432\\u0435\\u0441\\u044c\", \"\\u0432\\u0435\\u0441\\u044c\", \"\\u0432\\u0435\\u0441\\u044c\", \"\\u0432\\u0435\\u0441\\u044c\", \"\\u0432\\u0435\\u0441\\u044c\", \"\\u0432\\u0435\\u0441\\u044c\", \"\\u0432\\u0435\\u0441\\u044c\", \"\\u0432\\u0435\\u0441\\u044c \\u0431\\u0430\\u043b\\u043b\", \"\\u0432\\u0435\\u0441\\u044c \\u0432\\u0430\\u043a\\u0430\\u043d\\u0441\\u0438\\u044f\", \"\\u0432\\u0437\\u0432\\u0435\\u0448\\u0438\\u0432\\u0430\\u0442\\u044c\", \"\\u0432\\u0437\\u0432\\u0435\\u0448\\u0438\\u0432\\u0430\\u0442\\u044c\", \"\\u0432\\u0437\\u0432\\u0435\\u0448\\u0438\\u0432\\u0430\\u0442\\u044c\", \"\\u0432\\u0437\\u0432\\u0435\\u0448\\u0438\\u0432\\u0430\\u0442\\u044c \\u043e\\u043a\\u0440\\u0435\\u0441\\u0442\\u043d\\u043e\\u0441\\u0442\\u044c\", \"\\u0432\\u0438\\u0434\", \"\\u0432\\u0438\\u0434\", \"\\u0432\\u0438\\u0434\", \"\\u0432\\u0438\\u0434\", \"\\u0432\\u0438\\u0434\", \"\\u0432\\u0438\\u0434\", \"\\u0432\\u0438\\u0434\", \"\\u0432\\u0438\\u0434\", \"\\u0432\\u0438\\u0434\", \"\\u0432\\u0438\\u0434\", \"\\u0432\\u0438\\u0434\", \"\\u0432\\u0438\\u0434\", \"\\u0432\\u0438\\u0434\", \"\\u0432\\u0438\\u0434\", \"\\u0432\\u0438\\u0434\\u0435\\u043e\", \"\\u0432\\u0438\\u0434\\u0435\\u043e\", \"\\u0432\\u0438\\u0434\\u0435\\u043e\", \"\\u0432\\u0438\\u0434\\u0435\\u043e\", \"\\u0432\\u0438\\u0434\\u0435\\u043e\", \"\\u0432\\u0438\\u0434\\u0435\\u043e\", \"\\u0432\\u0438\\u0434\\u0435\\u043e\", \"\\u0432\\u0438\\u0434\\u0435\\u043e\", \"\\u0432\\u0438\\u0434\\u0435\\u043e\", \"\\u0432\\u0438\\u0434\\u0435\\u043e\", \"\\u0432\\u0438\\u0434\\u0438\\u043c\\u043e\\u0441\\u0442\\u044c\", \"\\u0432\\u0438\\u0434\\u0438\\u043c\\u043e\\u0441\\u0442\\u044c\", \"\\u0432\\u0438\\u0434\\u0438\\u043c\\u043e\\u0441\\u0442\\u044c \\u043f\\u0440\\u043e\\u0441\\u0442\\u0440\\u0430\\u043d\\u0441\\u0442\\u0432\\u043e\", \"\\u0432\\u0438\\u0434\\u0438\\u043c\\u043e\\u0441\\u0442\\u044c \\u043f\\u0440\\u043e\\u0441\\u0442\\u0440\\u0430\\u043d\\u0441\\u0442\\u0432\\u043e \\u0438\\u043c\\u044f\", \"\\u0432\\u0438\\u0440\\u0442\\u0443\\u0430\\u043b\\u044c\\u043d\\u044b\\u0439\", \"\\u0432\\u0438\\u0440\\u0442\\u0443\\u0430\\u043b\\u044c\\u043d\\u044b\\u0439\", \"\\u0432\\u0438\\u0440\\u0442\\u0443\\u0430\\u043b\\u044c\\u043d\\u044b\\u0439\", \"\\u0432\\u0438\\u0440\\u0442\\u0443\\u0430\\u043b\\u044c\\u043d\\u044b\\u0439\", \"\\u0432\\u0438\\u0440\\u0442\\u0443\\u0430\\u043b\\u044c\\u043d\\u044b\\u0439\", \"\\u0432\\u0438\\u0440\\u0442\\u0443\\u0430\\u043b\\u044c\\u043d\\u044b\\u0439\", \"\\u0432\\u0438\\u0440\\u0442\\u0443\\u0430\\u043b\\u044c\\u043d\\u044b\\u0439 \\u0444\\u0430\\u0439\\u043b\", \"\\u0432\\u043a\\u0430\\u0442\\u0438\\u0442\\u044c\\u0441\\u044f\", \"\\u0432\\u043b\\u0438\\u044f\\u043d\\u0438\\u0435 \\u043f\\u0440\\u043e\\u0446\\u0435\\u0441\\u0441\\u043e\\u0440\", \"\\u0432\\u043d\\u0435\\u0448\\u043d\\u0438\\u0439 \\u0437\\u0430\\u0432\\u0438\\u0441\\u0438\\u043c\\u043e\\u0441\\u0442\\u044c\", \"\\u0432\\u043d\\u0435\\u0448\\u043d\\u0438\\u0439 \\u0441\\u0432\\u044f\\u0437\\u044c\", \"\\u0432\\u043d\\u0443\\u0442\\u0440\\u0435\\u043d\\u043d\\u0438\\u0439\", \"\\u0432\\u043d\\u0443\\u0442\\u0440\\u0435\\u043d\\u043d\\u0438\\u0439\", \"\\u0432\\u043d\\u0443\\u0442\\u0440\\u0435\\u043d\\u043d\\u0438\\u0439\", \"\\u0432\\u043d\\u0443\\u0442\\u0440\\u0435\\u043d\\u043d\\u0438\\u0439\", \"\\u0432\\u043d\\u0443\\u0442\\u0440\\u0435\\u043d\\u043d\\u0438\\u0439\", \"\\u0432\\u043d\\u0443\\u0442\\u0440\\u0435\\u043d\\u043d\\u0438\\u0439\", \"\\u0432\\u043d\\u0443\\u0442\\u0440\\u0435\\u043d\\u043d\\u0438\\u0439\", \"\\u0432\\u043d\\u0443\\u0442\\u0440\\u0435\\u043d\\u043d\\u0438\\u0439\", \"\\u0432\\u043d\\u0443\\u0442\\u0440\\u0435\\u043d\\u043d\\u0438\\u0439 \\u0441\\u0432\\u044f\\u0437\\u044c\", \"\\u0432\\u043e\\u0434\\u0430\", \"\\u0432\\u043e\\u0434\\u0430\", \"\\u0432\\u043e\\u0434\\u0430\", \"\\u0432\\u043e\\u0434\\u0430\", \"\\u0432\\u043e\\u0434\\u0430\", \"\\u0432\\u043e\\u0434\\u0438\\u0442\\u0435\\u043b\\u044c\", \"\\u0432\\u043e\\u0435\\u043d\\u043d\\u044b\\u0439\", \"\\u0432\\u043e\\u0437\\u043c\\u043e\\u0436\\u043d\\u043e\\u0441\\u0442\\u044c\", \"\\u0432\\u043e\\u0437\\u043c\\u043e\\u0436\\u043d\\u043e\\u0441\\u0442\\u044c\", \"\\u0432\\u043e\\u0437\\u043c\\u043e\\u0436\\u043d\\u043e\\u0441\\u0442\\u044c\", \"\\u0432\\u043e\\u0437\\u043c\\u043e\\u0436\\u043d\\u043e\\u0441\\u0442\\u044c\", \"\\u0432\\u043e\\u0437\\u043c\\u043e\\u0436\\u043d\\u043e\\u0441\\u0442\\u044c\", \"\\u0432\\u043e\\u0437\\u043c\\u043e\\u0436\\u043d\\u043e\\u0441\\u0442\\u044c\", \"\\u0432\\u043e\\u0437\\u043c\\u043e\\u0436\\u043d\\u043e\\u0441\\u0442\\u044c\", \"\\u0432\\u043e\\u0437\\u043c\\u043e\\u0436\\u043d\\u043e\\u0441\\u0442\\u044c\", \"\\u0432\\u043e\\u0437\\u043c\\u043e\\u0436\\u043d\\u043e\\u0441\\u0442\\u044c\", \"\\u0432\\u043e\\u0437\\u043c\\u043e\\u0436\\u043d\\u043e\\u0441\\u0442\\u044c\", \"\\u0432\\u043e\\u0437\\u043c\\u043e\\u0436\\u043d\\u043e\\u0441\\u0442\\u044c\", \"\\u0432\\u043e\\u0437\\u043c\\u043e\\u0436\\u043d\\u043e\\u0441\\u0442\\u044c\", \"\\u0432\\u043e\\u0437\\u043c\\u043e\\u0436\\u043d\\u043e\\u0441\\u0442\\u044c\", \"\\u0432\\u043e\\u0437\\u043c\\u043e\\u0436\\u043d\\u043e\\u0441\\u0442\\u044c\", \"\\u0432\\u043e\\u0437\\u043c\\u043e\\u0436\\u043d\\u043e\\u0441\\u0442\\u044c\", \"\\u0432\\u043e\\u043f\\u0440\\u043e\\u0441\", \"\\u0432\\u043e\\u043f\\u0440\\u043e\\u0441\", \"\\u0432\\u043e\\u043f\\u0440\\u043e\\u0441\", \"\\u0432\\u043e\\u043f\\u0440\\u043e\\u0441\", \"\\u0432\\u043e\\u043f\\u0440\\u043e\\u0441\", \"\\u0432\\u043e\\u043f\\u0440\\u043e\\u0441\", \"\\u0432\\u043e\\u043f\\u0440\\u043e\\u0441\", \"\\u0432\\u043e\\u043f\\u0440\\u043e\\u0441\", \"\\u0432\\u043e\\u043f\\u0440\\u043e\\u0441\", \"\\u0432\\u043e\\u043f\\u0440\\u043e\\u0441\", \"\\u0432\\u043e\\u043f\\u0440\\u043e\\u0441\", \"\\u0432\\u043e\\u0441\\u0442\\u043e\\u0440\\u0433\", \"\\u0432\\u043e\\u0441\\u0442\\u043e\\u0440\\u0433\", \"\\u0432\\u043e\\u0441\\u0442\\u043e\\u0440\\u0433\", \"\\u0432\\u0440\\u0435\\u043c\\u0435\\u043d\\u043d\\u044b\\u0439\", \"\\u0432\\u0440\\u0435\\u043c\\u0435\\u043d\\u043d\\u044b\\u0439\", \"\\u0432\\u0440\\u0435\\u043c\\u0435\\u043d\\u043d\\u044b\\u0439\", \"\\u0432\\u0440\\u0435\\u043c\\u0435\\u043d\\u043d\\u044b\\u0439\", \"\\u0432\\u0440\\u0435\\u043c\\u0435\\u043d\\u043d\\u044b\\u0439\", \"\\u0432\\u0440\\u0435\\u043c\\u0435\\u043d\\u043d\\u044b\\u0439\", \"\\u0432\\u0440\\u0435\\u043c\\u0435\\u043d\\u043d\\u044b\\u0439\", \"\\u0432\\u0440\\u0435\\u043c\\u0435\\u043d\\u043d\\u044b\\u0439\", \"\\u0432\\u0440\\u0435\\u043c\\u0435\\u043d\\u043d\\u044b\\u0439\", \"\\u0432\\u0440\\u0435\\u043c\\u0435\\u043d\\u043d\\u044b\\u0439 \\u043a\\u043b\\u044e\\u0447\", \"\\u0432\\u0440\\u0435\\u043c\\u0435\\u043d\\u043d\\u044b\\u0439 \\u0440\\u044f\\u0434\", \"\\u0432\\u0440\\u0435\\u043c\\u0435\\u043d\\u043d\\u044b\\u0439 \\u0440\\u044f\\u0434\", \"\\u0432\\u0440\\u0435\\u043c\\u0435\\u043d\\u043d\\u044b\\u0439 \\u0440\\u044f\\u0434\", \"\\u0432\\u0440\\u0435\\u043c\\u044f\", \"\\u0432\\u0440\\u0435\\u043c\\u044f\", \"\\u0432\\u0440\\u0435\\u043c\\u044f\", \"\\u0432\\u0440\\u0435\\u043c\\u044f\", \"\\u0432\\u0440\\u0435\\u043c\\u044f\", \"\\u0432\\u0440\\u0435\\u043c\\u044f\", \"\\u0432\\u0440\\u0435\\u043c\\u044f\", \"\\u0432\\u0440\\u0435\\u043c\\u044f\", \"\\u0432\\u0440\\u0435\\u043c\\u044f\", \"\\u0432\\u0440\\u0435\\u043c\\u044f\", \"\\u0432\\u0440\\u0435\\u043c\\u044f\", \"\\u0432\\u0440\\u0435\\u043c\\u044f\", \"\\u0432\\u0440\\u0435\\u043c\\u044f\", \"\\u0432\\u0440\\u0435\\u043c\\u044f\", \"\\u0432\\u0440\\u0435\\u043c\\u044f\", \"\\u0432\\u0440\\u0435\\u043c\\u044f \\u0438\\u0433\\u0440\\u0430\", \"\\u0432\\u0440\\u0435\\u043c\\u044f \\u0442\\u0435\\u0447\\u0435\\u043d\\u0438\\u0435\", \"\\u0432\\u0441\\u0435\\u043b\\u0435\\u043d\\u043d\\u0430\\u044f\", \"\\u0432\\u0441\\u0435\\u043b\\u0435\\u043d\\u043d\\u0430\\u044f\", \"\\u0432\\u0441\\u0435\\u043b\\u0435\\u043d\\u043d\\u0430\\u044f\", \"\\u0432\\u0443\\u0437\", \"\\u0432\\u0445\\u043e\\u0434\", \"\\u0432\\u0445\\u043e\\u0434\", \"\\u0432\\u0445\\u043e\\u0434\", \"\\u0432\\u0445\\u043e\\u0434\", \"\\u0432\\u0445\\u043e\\u0434\", \"\\u0432\\u0445\\u043e\\u0434\", \"\\u0432\\u0445\\u043e\\u0434\", \"\\u0432\\u0445\\u043e\\u0434\\u043d\\u043e\\u0439\", \"\\u0432\\u0445\\u043e\\u0434\\u043d\\u043e\\u0439\", \"\\u0432\\u0445\\u043e\\u0434\\u043d\\u043e\\u0439\", \"\\u0432\\u0445\\u043e\\u0434\\u043d\\u043e\\u0439\", \"\\u0432\\u0445\\u043e\\u0434\\u043d\\u043e\\u0439 \\u0434\\u0430\\u043d\\u043d\\u044b\\u0435\", \"\\u0432\\u0445\\u043e\\u0434\\u043d\\u043e\\u0439 \\u0434\\u0430\\u043d\\u043d\\u044b\\u0435\", \"\\u0432\\u044b\\u0431\\u043e\\u0440 \\u0440\\u0430\\u0431\\u043e\\u0447\\u0438\\u0439\", \"\\u0432\\u044b\\u0431\\u043e\\u0440 \\u0440\\u0430\\u0431\\u043e\\u0447\\u0438\\u0439 \\u0447\\u0430\\u0441\\u0442\\u043e\\u0442\\u0430\", \"\\u0432\\u044b\\u0434\\u0435\\u043b\\u044f\\u0442\\u044c\", \"\\u0432\\u044b\\u0434\\u0435\\u043b\\u044f\\u0442\\u044c\", \"\\u0432\\u044b\\u0434\\u0435\\u043b\\u044f\\u0442\\u044c\", \"\\u0432\\u044b\\u0434\\u0435\\u043b\\u044f\\u0442\\u044c\", \"\\u0432\\u044b\\u0434\\u0435\\u043b\\u044f\\u0442\\u044c\", \"\\u0432\\u044b\\u0434\\u0435\\u043b\\u044f\\u0442\\u044c\", \"\\u0432\\u044b\\u0434\\u0435\\u043b\\u044f\\u0442\\u044c\", \"\\u0432\\u044b\\u0434\\u0435\\u043b\\u044f\\u0442\\u044c\", \"\\u0432\\u044b\\u0434\\u0435\\u043b\\u044f\\u0442\\u044c\", \"\\u0432\\u044b\\u0434\\u0435\\u043b\\u044f\\u0442\\u044c \\u0438\\u043d\\u0441\\u0442\\u0430\\u043b\\u043b\\u044f\\u0446\\u0438\\u044f\", \"\\u0432\\u044b\\u043f\\u043e\\u043b\\u043d\\u0435\\u043d\\u0438\\u0435 \\u0441\\u043a\\u0440\\u0438\\u043f\\u0442\", \"\\u0432\\u044b\\u043f\\u043e\\u043b\\u043d\\u044f\\u0442\\u044c \\u043a\\u043e\\u043c\\u0430\\u043d\\u0434\\u0430\", \"\\u0432\\u044b\\u043f\\u043e\\u043b\\u043d\\u044f\\u0442\\u044c\\u0441\\u044f\", \"\\u0432\\u044b\\u043f\\u043e\\u043b\\u043d\\u044f\\u0442\\u044c\\u0441\\u044f\", \"\\u0432\\u044b\\u043f\\u043e\\u043b\\u043d\\u044f\\u0442\\u044c\\u0441\\u044f\", \"\\u0432\\u044b\\u043f\\u043e\\u043b\\u043d\\u044f\\u0442\\u044c\\u0441\\u044f\", \"\\u0432\\u044b\\u043f\\u043e\\u043b\\u043d\\u044f\\u0442\\u044c\\u0441\\u044f\", \"\\u0432\\u044b\\u043f\\u043e\\u043b\\u043d\\u044f\\u0442\\u044c\\u0441\\u044f\", \"\\u0432\\u044b\\u043f\\u043e\\u043b\\u043d\\u044f\\u0442\\u044c\\u0441\\u044f\", \"\\u0432\\u044b\\u043f\\u043e\\u043b\\u043d\\u044f\\u0442\\u044c\\u0441\\u044f\", \"\\u0432\\u044b\\u043f\\u043e\\u043b\\u043d\\u044f\\u0442\\u044c\\u0441\\u044f\", \"\\u0432\\u044b\\u043f\\u043e\\u043b\\u043d\\u044f\\u0442\\u044c\\u0441\\u044f\", \"\\u0432\\u044b\\u043f\\u043e\\u043b\\u043d\\u044f\\u0442\\u044c\\u0441\\u044f\", \"\\u0432\\u044b\\u0441\\u043e\\u043a\\u0438\\u0439 \\u043b\\u043e\\u0433\\u0438\\u0447\\u0435\\u0441\\u043a\\u0438\\u0439\", \"\\u0432\\u044b\\u0441\\u043e\\u043a\\u0438\\u0439 \\u043b\\u043e\\u0433\\u0438\\u0447\\u0435\\u0441\\u043a\\u0438\\u0439 \\u0443\\u0440\\u043e\\u0432\\u0435\\u043d\\u044c\", \"\\u0432\\u044b\\u0441\\u043e\\u043a\\u0438\\u0439 \\u043e\\u0431\\u0440\\u0430\\u0437\\u043e\\u0432\\u0430\\u043d\\u0438\\u0435\", \"\\u0432\\u044b\\u0442\\u044f\\u0436\\u043a\\u0430\", \"\\u0432\\u044b\\u0445\\u043e\\u0434\", \"\\u0432\\u044b\\u0445\\u043e\\u0434\", \"\\u0432\\u044b\\u0445\\u043e\\u0434\", \"\\u0432\\u044b\\u0445\\u043e\\u0434\", \"\\u0432\\u044b\\u0445\\u043e\\u0434\", \"\\u0432\\u044b\\u0445\\u043e\\u0434\", \"\\u0432\\u044b\\u0445\\u043e\\u0434\", \"\\u0432\\u044b\\u0445\\u043e\\u0434\", \"\\u0432\\u044b\\u0445\\u043e\\u0434\", \"\\u0432\\u044b\\u0445\\u043e\\u0434\", \"\\u0433\\u0430\\u0434\\u0436\\u0435\\u0442\", \"\\u0433\\u0430\\u0437\\u0435\\u0442\\u0430\", \"\\u0433\\u0430\\u0440\\u0430\\u0436\", \"\\u0433\\u0430\\u0440\\u0430\\u0436\", \"\\u0433\\u0430\\u0440\\u0430\\u0436\\u043d\\u044b\\u0439 \\u0432\\u043e\\u0440\\u043e\\u0442\\u0430\", \"\\u0433\\u0433\\u0446\", \"\\u0433\\u0433\\u0446\", \"\\u0433\\u0435\\u0439\\u043c\\u0438\\u0444\\u0438\\u043a\\u0430\\u0446\\u0438\\u044f\", \"\\u0433\\u0435\\u043d\\u0435\\u0440\\u0430\\u0442\\u0438\\u0432\\u043d\\u044b\\u0439\", \"\\u0433\\u0435\\u0440\\u043a\\u043e\\u043d\", \"\\u0433\\u0435\\u0440\\u043e\\u0439\", \"\\u0433\\u0435\\u0440\\u043e\\u0439\", \"\\u0433\\u0438\\u0442\\u0430\\u0440\\u0430\", \"\\u0433\\u0438\\u0442\\u0430\\u0440\\u0438\\u0441\\u0442\", \"\\u0433\\u0438\\u0442\\u0430\\u0440\\u043d\\u044b\\u0439\", \"\\u0433\\u043b\\u043e\\u0431\\u0430\\u043b\\u044c\\u043d\\u044b\\u0439\", \"\\u0433\\u043b\\u043e\\u0431\\u0430\\u043b\\u044c\\u043d\\u044b\\u0439\", \"\\u0433\\u043b\\u043e\\u0431\\u0430\\u043b\\u044c\\u043d\\u044b\\u0439\", \"\\u0433\\u043b\\u043e\\u0431\\u0430\\u043b\\u044c\\u043d\\u044b\\u0439\", \"\\u0433\\u043b\\u043e\\u0431\\u0430\\u043b\\u044c\\u043d\\u044b\\u0439\", \"\\u0433\\u043b\\u043e\\u0431\\u0430\\u043b\\u044c\\u043d\\u044b\\u0439\", \"\\u0433\\u043b\\u043e\\u0431\\u0430\\u043b\\u044c\\u043d\\u044b\\u0439 \\u043e\\u0431\\u043b\\u0430\\u0441\\u0442\\u044c\", \"\\u0433\\u043b\\u043e\\u0431\\u0430\\u043b\\u044c\\u043d\\u044b\\u0439 \\u043e\\u0431\\u043b\\u0430\\u0441\\u0442\\u044c \\u0432\\u0438\\u0434\\u0438\\u043c\\u043e\\u0441\\u0442\\u044c\", \"\\u0433\\u043b\\u043e\\u0431\\u0430\\u043b\\u044c\\u043d\\u044b\\u0439 \\u043f\\u0435\\u0440\\u0435\\u043c\\u0435\\u043d\\u043d\\u044b\\u0439\", \"\\u0433\\u043b\\u043e\\u0431\\u0430\\u043b\\u044c\\u043d\\u044b\\u0439 \\u043f\\u0435\\u0440\\u0435\\u043c\\u0435\\u043d\\u043d\\u044b\\u0439 \\u043f\\u0430\\u043a\\u0435\\u0442\", \"\\u0433\\u043e\\u0434\", \"\\u0433\\u043e\\u0434\", \"\\u0433\\u043e\\u0434\", \"\\u0433\\u043e\\u0434\", \"\\u0433\\u043e\\u0434\", \"\\u0433\\u043e\\u0434\", \"\\u0433\\u043e\\u0434\", \"\\u0433\\u043e\\u0434\", \"\\u0433\\u043e\\u0434\", \"\\u0433\\u043e\\u0434\", \"\\u0433\\u043e\\u0434\", \"\\u0433\\u043e\\u0434\", \"\\u0433\\u043e\\u0434\", \"\\u0433\\u043e\\u0440\\u0438\\u0437\\u043e\\u043d\\u0442\", \"\\u0433\\u043e\\u0440\\u0438\\u0437\\u043e\\u043d\\u0442 \\u0441\\u043e\\u0431\\u044b\\u0442\\u0438\\u0435\", \"\\u0433\\u043e\\u0440\\u0438\\u0437\\u043e\\u043d\\u0442 \\u0441\\u043e\\u0431\\u044b\\u0442\\u0438\\u0435 \\u0447\\u0440\\u043d\\u043e\\u0439\", \"\\u0433\\u0440\\u0430\\u0444\\u0438\\u043a\", \"\\u0433\\u0440\\u0430\\u0444\\u0438\\u043a\", \"\\u0433\\u0440\\u0430\\u0444\\u0438\\u043a\", \"\\u0433\\u0440\\u0430\\u0444\\u0438\\u043a\", \"\\u0433\\u0440\\u0430\\u0444\\u0438\\u043a\", \"\\u0433\\u0440\\u0430\\u0444\\u0438\\u043a\", \"\\u0433\\u0440\\u0430\\u0444\\u0438\\u043a\", \"\\u0433\\u0440\\u0430\\u0444\\u0438\\u0447\\u0435\\u0441\\u043a\\u0438\\u0439\", \"\\u0433\\u0440\\u0430\\u0444\\u0438\\u0447\\u0435\\u0441\\u043a\\u0438\\u0439\", \"\\u0433\\u0440\\u0430\\u0444\\u0438\\u0447\\u0435\\u0441\\u043a\\u0438\\u0439\", \"\\u0433\\u0440\\u0430\\u0444\\u0438\\u0447\\u0435\\u0441\\u043a\\u0438\\u0439\", \"\\u0433\\u0440\\u0430\\u0444\\u0438\\u0447\\u0435\\u0441\\u043a\\u0438\\u0439\", \"\\u0433\\u0440\\u0435\\u0439\\u0441\", \"\\u0433\\u0440\\u0435\\u0439\\u0441 \\u0445\\u043e\\u043f\\u043f\\u0435\\u0440\", \"\\u0433\\u0440\\u0443\\u0437\", \"\\u0433\\u0440\\u0443\\u0437 \\u043e\\u0440\\u0431\\u0438\\u0442\\u0430\", \"\\u0434\\u0430\\u0431\\u044b\", \"\\u0434\\u0430\\u0432\\u0430\\u0442\\u044c\", \"\\u0434\\u0430\\u0432\\u0430\\u0442\\u044c\", \"\\u0434\\u0430\\u0432\\u0430\\u0442\\u044c\", \"\\u0434\\u0430\\u0432\\u0430\\u0442\\u044c\", \"\\u0434\\u0430\\u0432\\u0430\\u0442\\u044c\", \"\\u0434\\u0430\\u0432\\u0430\\u0442\\u044c\", \"\\u0434\\u0430\\u0432\\u0430\\u0442\\u044c\", \"\\u0434\\u0430\\u0432\\u0430\\u0442\\u044c\", \"\\u0434\\u0430\\u0432\\u0430\\u0442\\u044c\", \"\\u0434\\u0430\\u0432\\u0430\\u0442\\u044c\", \"\\u0434\\u0430\\u0432\\u0430\\u0442\\u044c\", \"\\u0434\\u0430\\u0432\\u0430\\u0442\\u044c\", \"\\u0434\\u0430\\u0432\\u0430\\u0442\\u044c\", \"\\u0434\\u0430\\u0432\\u0430\\u0442\\u044c\", \"\\u0434\\u0430\\u0432\\u0430\\u0442\\u044c\", \"\\u0434\\u0430\\u043d\\u043d\\u044b\\u0435\", \"\\u0434\\u0430\\u043d\\u043d\\u044b\\u0435\", \"\\u0434\\u0430\\u043d\\u043d\\u044b\\u0435\", \"\\u0434\\u0430\\u043d\\u043d\\u044b\\u0435\", \"\\u0434\\u0430\\u043d\\u043d\\u044b\\u0435\", \"\\u0434\\u0430\\u043d\\u043d\\u044b\\u0435\", \"\\u0434\\u0430\\u043d\\u043d\\u044b\\u0435\", \"\\u0434\\u0430\\u043d\\u043d\\u044b\\u0435\", \"\\u0434\\u0430\\u043d\\u043d\\u044b\\u0435\", \"\\u0434\\u0430\\u043d\\u043d\\u044b\\u0435\", \"\\u0434\\u0430\\u043d\\u043d\\u044b\\u0435\", \"\\u0434\\u0430\\u043d\\u043d\\u044b\\u0435\", \"\\u0434\\u0430\\u043d\\u043d\\u044b\\u0435\", \"\\u0434\\u0430\\u043d\\u043d\\u044b\\u0435\", \"\\u0434\\u0430\\u043d\\u043d\\u044b\\u0435\", \"\\u0434\\u0430\\u043d\\u043d\\u044b\\u0435 \\u0438\\u0441\\u0442\\u043e\\u0447\\u043d\\u0438\\u043a\", \"\\u0434\\u0430\\u043d\\u043d\\u044b\\u0439\", \"\\u0434\\u0430\\u043d\\u043d\\u044b\\u0439\", \"\\u0434\\u0430\\u043d\\u043d\\u044b\\u0439\", \"\\u0434\\u0430\\u043d\\u043d\\u044b\\u0439\", \"\\u0434\\u0430\\u043d\\u043d\\u044b\\u0439\", \"\\u0434\\u0430\\u043d\\u043d\\u044b\\u0439\", \"\\u0434\\u0430\\u043d\\u043d\\u044b\\u0439\", \"\\u0434\\u0430\\u043d\\u043d\\u044b\\u0439\", \"\\u0434\\u0430\\u043d\\u043d\\u044b\\u0439\", \"\\u0434\\u0430\\u043d\\u043d\\u044b\\u0439\", \"\\u0434\\u0430\\u043d\\u043d\\u044b\\u0439\", \"\\u0434\\u0430\\u043d\\u043d\\u044b\\u0439\", \"\\u0434\\u0430\\u043d\\u043d\\u044b\\u0439\", \"\\u0434\\u0430\\u043d\\u043d\\u044b\\u0439\", \"\\u0434\\u0430\\u043d\\u043d\\u044b\\u0439\", \"\\u0434\\u0430\\u0442\\u0430\\u0446\\u0435\\u043d\\u0442\\u0440\", \"\\u0434\\u0430\\u0442\\u0447\\u0438\\u043a\", \"\\u0434\\u0430\\u0442\\u0447\\u0438\\u043a\", \"\\u0434\\u0430\\u0442\\u0447\\u0438\\u043a\", \"\\u0434\\u0430\\u0442\\u0447\\u0438\\u043a\", \"\\u0434\\u0432\\u0435\\u0440\\u044c\", \"\\u0434\\u0432\\u0435\\u0440\\u044c\", \"\\u0434\\u0432\\u0438\\u0436\\u0435\\u043d\\u0438\\u0435\", \"\\u0434\\u0432\\u0438\\u0436\\u0435\\u043d\\u0438\\u0435\", \"\\u0434\\u0432\\u0438\\u0436\\u0435\\u043d\\u0438\\u0435\", \"\\u0434\\u0432\\u0438\\u0436\\u0435\\u043d\\u0438\\u0435\", \"\\u0434\\u0432\\u0438\\u0436\\u0435\\u043d\\u0438\\u0435\", \"\\u0434\\u0432\\u0438\\u0436\\u0435\\u043d\\u0438\\u0435\", \"\\u0434\\u0432\\u0438\\u0436\\u0435\\u043d\\u0438\\u0435\", \"\\u0434\\u0432\\u0438\\u0436\\u0435\\u043d\\u0438\\u0435\", \"\\u0434\\u0435\\u043b\\u0430\\u0442\\u044c\", \"\\u0434\\u0435\\u043b\\u0430\\u0442\\u044c\", \"\\u0434\\u0435\\u043b\\u0430\\u0442\\u044c\", \"\\u0434\\u0435\\u043b\\u0430\\u0442\\u044c\", \"\\u0434\\u0435\\u043b\\u0430\\u0442\\u044c\", \"\\u0434\\u0435\\u043b\\u0430\\u0442\\u044c\", \"\\u0434\\u0435\\u043b\\u0430\\u0442\\u044c\", \"\\u0434\\u0435\\u043b\\u0430\\u0442\\u044c\", \"\\u0434\\u0435\\u043b\\u0430\\u0442\\u044c\", \"\\u0434\\u0435\\u043b\\u0430\\u0442\\u044c\", \"\\u0434\\u0435\\u043b\\u0430\\u0442\\u044c\", \"\\u0434\\u0435\\u043b\\u0430\\u0442\\u044c\", \"\\u0434\\u0435\\u043b\\u0430\\u0442\\u044c\", \"\\u0434\\u0435\\u043b\\u0430\\u0442\\u044c\", \"\\u0434\\u0435\\u043b\\u0430\\u0442\\u044c\", \"\\u0434\\u0435\\u043b\\u0430\\u0442\\u044c \\u0440\\u0443\\u043a\\u0430\", \"\\u0434\\u0435\\u043b\\u0430\\u0442\\u044c \\u0440\\u0443\\u043a\\u0430\", \"\\u0434\\u0435\\u0441\\u0435\\u0440\\u0438\\u0430\\u043b\\u0438\\u0437\\u0430\\u0446\\u0438\\u044f\", \"\\u0434\\u0435\\u0441\\u044f\\u0442\\u0438\\u0447\\u043d\\u044b\\u0439\", \"\\u0434\\u0435\\u0442\\u0435\\u043a\\u0446\\u0438\\u044f\", \"\\u0434\\u0438\\u0430\\u043f\\u0430\\u0437\\u043e\\u043d \\u0433\\u0433\\u0446\", \"\\u0434\\u0438\\u043d\\u0430\\u043c\\u0438\\u0447\\u0435\\u0441\\u043a\\u0438\\u0439\", \"\\u0434\\u0438\\u043e\\u0434\", \"\\u0434\\u0438\\u043e\\u0434\", \"\\u0434\\u0438\\u043e\\u0434\", \"\\u0434\\u0438\\u043f\\u043b\\u043e\\u043c\", \"\\u0434\\u0438\\u043f\\u043b\\u043e\\u043c\", \"\\u0434\\u0438\\u043f\\u043b\\u043e\\u043c\", \"\\u0434\\u0438\\u0441\\u043a\", \"\\u0434\\u0438\\u0441\\u043a\", \"\\u0434\\u0438\\u0441\\u043a\", \"\\u0434\\u0438\\u0441\\u043a\", \"\\u0434\\u0438\\u0441\\u043a\", \"\\u0434\\u0438\\u0441\\u043a\", \"\\u0434\\u0438\\u0441\\u043a\", \"\\u0434\\u0438\\u0441\\u0442\\u043e\\u0440\\u0448\\u043d\", \"\\u0434\\u0438\\u0441\\u0442\\u0440\\u0438\\u0431\\u0443\\u0442\\u0438\\u0432\", \"\\u0434\\u0438\\u0441\\u0442\\u0440\\u0438\\u0431\\u0443\\u0442\\u0438\\u0432\", \"\\u0434\\u0438\\u0441\\u0442\\u0440\\u0438\\u0431\\u0443\\u0442\\u0438\\u0432\", \"\\u0434\\u0438\\u0441\\u0442\\u0440\\u0438\\u0431\\u0443\\u0442\\u0438\\u0432\", \"\\u0434\\u043e\\u0431\\u0430\\u0432\\u043b\\u044f\\u0442\\u044c\", \"\\u0434\\u043e\\u0431\\u0430\\u0432\\u043b\\u044f\\u0442\\u044c\", \"\\u0434\\u043e\\u0431\\u0430\\u0432\\u043b\\u044f\\u0442\\u044c\", \"\\u0434\\u043e\\u0431\\u0430\\u0432\\u043b\\u044f\\u0442\\u044c\", \"\\u0434\\u043e\\u0431\\u0430\\u0432\\u043b\\u044f\\u0442\\u044c\", \"\\u0434\\u043e\\u0431\\u0430\\u0432\\u043b\\u044f\\u0442\\u044c\", \"\\u0434\\u043e\\u0431\\u0430\\u0432\\u043b\\u044f\\u0442\\u044c\", \"\\u0434\\u043e\\u0431\\u0430\\u0432\\u043b\\u044f\\u0442\\u044c\", \"\\u0434\\u043e\\u0431\\u0430\\u0432\\u043b\\u044f\\u0442\\u044c\", \"\\u0434\\u043e\\u0431\\u0430\\u0432\\u043b\\u044f\\u0442\\u044c\", \"\\u0434\\u043e\\u0431\\u0430\\u0432\\u043b\\u044f\\u0442\\u044c\", \"\\u0434\\u043e\\u0431\\u0430\\u0432\\u043b\\u044f\\u0442\\u044c\", \"\\u0434\\u043e\\u0431\\u0430\\u0432\\u043b\\u044f\\u0442\\u044c\", \"\\u0434\\u043e\\u0431\\u0430\\u0432\\u043b\\u044f\\u0442\\u044c \\u0434\\u0443\\u0431\\u043b\\u0438\\u0440\\u043e\\u0432\\u0430\\u043d\\u0438\\u0435\", \"\\u0434\\u043e\\u0431\\u0430\\u0432\\u043b\\u044f\\u0442\\u044c \\u0434\\u0443\\u0431\\u043b\\u0438\\u0440\\u043e\\u0432\\u0430\\u043d\\u0438\\u0435 \\u0441\\u043e\\u043e\\u0431\\u0449\\u0435\\u043d\\u0438\\u0435\", \"\\u0434\\u043e\\u043b\\u0436\\u043d\\u044b\\u0439\", \"\\u0434\\u043e\\u043b\\u0436\\u043d\\u044b\\u0439\", \"\\u0434\\u043e\\u043b\\u0436\\u043d\\u044b\\u0439\", \"\\u0434\\u043e\\u043b\\u0436\\u043d\\u044b\\u0439\", \"\\u0434\\u043e\\u043b\\u0436\\u043d\\u044b\\u0439\", \"\\u0434\\u043e\\u043b\\u0436\\u043d\\u044b\\u0439\", \"\\u0434\\u043e\\u043b\\u0436\\u043d\\u044b\\u0439\", \"\\u0434\\u043e\\u043b\\u0436\\u043d\\u044b\\u0439\", \"\\u0434\\u043e\\u043b\\u0436\\u043d\\u044b\\u0439\", \"\\u0434\\u043e\\u043b\\u0436\\u043d\\u044b\\u0439\", \"\\u0434\\u043e\\u043b\\u0436\\u043d\\u044b\\u0439\", \"\\u0434\\u043e\\u043b\\u0436\\u043d\\u044b\\u0439\", \"\\u0434\\u043e\\u043b\\u0436\\u043d\\u044b\\u0439\", \"\\u0434\\u043e\\u043b\\u0436\\u043d\\u044b\\u0439\", \"\\u0434\\u043e\\u043b\\u0436\\u043d\\u044b\\u0439\", \"\\u0434\\u043e\\u043c\\u0430\\u0448\\u043d\\u0438\\u0439 \\u0437\\u0430\\u0434\\u0430\\u043d\\u0438\\u0435\", \"\\u0434\\u043e\\u043c\\u0430\\u0448\\u043d\\u0438\\u0439 \\u0441\\u0435\\u0440\\u0432\\u0435\\u0440\", \"\\u0434\\u043e\\u0441\\u0442\\u0443\\u043f\", \"\\u0434\\u043e\\u0441\\u0442\\u0443\\u043f\", \"\\u0434\\u043e\\u0441\\u0442\\u0443\\u043f\", \"\\u0434\\u043e\\u0441\\u0442\\u0443\\u043f\", \"\\u0434\\u043e\\u0441\\u0442\\u0443\\u043f\", \"\\u0434\\u043e\\u0441\\u0442\\u0443\\u043f\", \"\\u0434\\u043e\\u0441\\u0442\\u0443\\u043f\", \"\\u0434\\u043e\\u0441\\u0442\\u0443\\u043f\", \"\\u0434\\u043e\\u0441\\u0442\\u0443\\u043f\", \"\\u0434\\u043e\\u0441\\u0442\\u0443\\u043f\", \"\\u0434\\u043e\\u0441\\u0442\\u0443\\u043f\", \"\\u0434\\u043e\\u0441\\u0442\\u0443\\u043f\", \"\\u0434\\u043e\\u0441\\u0442\\u0443\\u043f\", \"\\u0434\\u043e\\u0441\\u0442\\u0443\\u043f\", \"\\u0434\\u043e\\u0441\\u0442\\u0443\\u043f\\u043d\\u043e\\u0441\\u0442\\u044c\", \"\\u0434\\u043e\\u0441\\u0442\\u0443\\u043f\\u043d\\u043e\\u0441\\u0442\\u044c\", \"\\u0434\\u043e\\u0441\\u0442\\u0443\\u043f\\u043d\\u043e\\u0441\\u0442\\u044c\", \"\\u0434\\u043e\\u0441\\u0442\\u0443\\u043f\\u043d\\u043e\\u0441\\u0442\\u044c \\u0441\\u0435\\u0442\\u044c\", \"\\u0434\\u043e\\u0441\\u0442\\u0443\\u043f\\u043d\\u043e\\u0441\\u0442\\u044c \\u0441\\u0435\\u0442\\u044c \\u0438\\u0441\\u043f\\u043e\\u043b\\u044c\\u0437\\u043e\\u0432\\u0430\\u0442\\u044c\\u0441\\u044f\", \"\\u0434\\u043e\\u0441\\u0442\\u0443\\u043f\\u043d\\u043e\\u0441\\u0442\\u044c \\u0441\\u0435\\u0442\\u044c \\u044f\\u0432\\u043b\\u044f\\u0442\\u044c\\u0441\\u044f\", \"\\u0434\\u043e\\u0441\\u0442\\u0443\\u043f\\u043d\\u044b\\u0439\", \"\\u0434\\u043e\\u0441\\u0442\\u0443\\u043f\\u043d\\u044b\\u0439\", \"\\u0434\\u043e\\u0441\\u0442\\u0443\\u043f\\u043d\\u044b\\u0439\", \"\\u0434\\u043e\\u0441\\u0442\\u0443\\u043f\\u043d\\u044b\\u0439\", \"\\u0434\\u043e\\u0441\\u0442\\u0443\\u043f\\u043d\\u044b\\u0439\", \"\\u0434\\u043e\\u0441\\u0442\\u0443\\u043f\\u043d\\u044b\\u0439\", \"\\u0434\\u043e\\u0441\\u0442\\u0443\\u043f\\u043d\\u044b\\u0439\", \"\\u0434\\u043e\\u0441\\u0442\\u0443\\u043f\\u043d\\u044b\\u0439\", \"\\u0434\\u043e\\u0441\\u0442\\u0443\\u043f\\u043d\\u044b\\u0439\", \"\\u0434\\u043e\\u0441\\u0442\\u0443\\u043f\\u043d\\u044b\\u0439\", \"\\u0434\\u043e\\u0441\\u0442\\u0443\\u043f\\u043d\\u044b\\u0439\", \"\\u0434\\u043e\\u0441\\u0442\\u0443\\u043f\\u043d\\u044b\\u0439\", \"\\u0434\\u043e\\u0441\\u0442\\u0443\\u043f\\u043d\\u044b\\u0439\", \"\\u0434\\u043e\\u0441\\u0442\\u0443\\u043f\\u043d\\u044b\\u0439\", \"\\u0434\\u0440\\u0430\\u0439\\u0432\\u0435\\u0440 \\u0443\\u0441\\u0442\\u0440\\u043e\\u0439\\u0441\\u0442\\u0432\\u043e\", \"\\u0434\\u0440\\u0443\\u0438\\u0434\", \"\\u0434\\u0443\\u0431\\u043b\\u0438\\u0440\\u043e\\u0432\\u0430\\u043d\\u0438\\u0435 \\u0441\\u043e\\u043e\\u0431\\u0449\\u0435\\u043d\\u0438\\u0435\", \"\\u0434\\u0443\\u0431\\u043b\\u0438\\u0440\\u043e\\u0432\\u0430\\u043d\\u0438\\u0435 \\u0441\\u043e\\u043e\\u0431\\u0449\\u0435\\u043d\\u0438\\u0435 \\u043b\\u043e\\u0433\", \"\\u0434\\u044b\\u0440\\u0430\", \"\\u0434\\u044b\\u0440\\u043a\\u0430\", \"\\u0435\\u0434\\u0438\\u043d\\u0438\\u0446\\u0430\", \"\\u0435\\u0434\\u0438\\u043d\\u0438\\u0446\\u0430\", \"\\u0435\\u0434\\u0438\\u043d\\u0438\\u0446\\u0430\", \"\\u0435\\u0434\\u0438\\u043d\\u0438\\u0446\\u0430\", \"\\u0435\\u0434\\u0438\\u043d\\u0438\\u0446\\u0430\", \"\\u0435\\u0434\\u0438\\u043d\\u0438\\u0446\\u0430\", \"\\u0435\\u0434\\u0438\\u043d\\u0438\\u0446\\u0430 \\u0442\\u0440\\u0430\\u043d\\u0441\\u043b\\u044f\\u0446\\u0438\\u044f\", \"\\u0436\\u0443\\u0440\\u043d\\u0430\\u043b\", \"\\u0436\\u0443\\u0440\\u043d\\u0430\\u043b\", \"\\u0436\\u0443\\u0440\\u043d\\u0430\\u043b\", \"\\u0436\\u0443\\u0440\\u043d\\u0430\\u043b\", \"\\u0436\\u0443\\u0440\\u043d\\u0430\\u043b\", \"\\u0436\\u0443\\u0440\\u043d\\u0430\\u043b \\u0430\\u0443\\u0434\\u0438\\u0442\", \"\\u0436\\u0443\\u0440\\u043d\\u0430\\u043b \\u0442\\u0440\\u0430\\u043d\\u0437\\u0430\\u043a\\u0446\\u0438\\u044f\", \"\\u0437\\u0430\\u0432\\u0435\\u0440\\u0448\\u0430\\u0442\\u044c\\u0441\\u044f \\u043e\\u0448\\u0438\\u0431\\u043a\\u0430\", \"\\u0437\\u0430\\u0432\\u0438\\u0441\\u0438\\u043c\\u043e\\u0441\\u0442\\u044c\", \"\\u0437\\u0430\\u0432\\u0438\\u0441\\u0438\\u043c\\u043e\\u0441\\u0442\\u044c\", \"\\u0437\\u0430\\u0432\\u0438\\u0441\\u0438\\u043c\\u043e\\u0441\\u0442\\u044c\", \"\\u0437\\u0430\\u0432\\u0438\\u0441\\u0438\\u043c\\u043e\\u0441\\u0442\\u044c\", \"\\u0437\\u0430\\u0432\\u0438\\u0441\\u0438\\u043c\\u043e\\u0441\\u0442\\u044c\", \"\\u0437\\u0430\\u0432\\u0438\\u0441\\u0438\\u043c\\u043e\\u0441\\u0442\\u044c\", \"\\u0437\\u0430\\u0432\\u0438\\u0441\\u0438\\u043c\\u043e\\u0441\\u0442\\u044c\", \"\\u0437\\u0430\\u0432\\u0438\\u0441\\u0438\\u043c\\u043e\\u0441\\u0442\\u044c\", \"\\u0437\\u0430\\u0432\\u0438\\u0441\\u0438\\u043c\\u043e\\u0441\\u0442\\u044c\", \"\\u0437\\u0430\\u0432\\u0438\\u0441\\u0438\\u043c\\u043e\\u0441\\u0442\\u044c\", \"\\u0437\\u0430\\u0432\\u0438\\u0441\\u0438\\u043c\\u043e\\u0441\\u0442\\u044c\", \"\\u0437\\u0430\\u0434\\u0430\\u0447\\u0430\", \"\\u0437\\u0430\\u0434\\u0430\\u0447\\u0430\", \"\\u0437\\u0430\\u0434\\u0430\\u0447\\u0430\", \"\\u0437\\u0430\\u0434\\u0430\\u0447\\u0430\", \"\\u0437\\u0430\\u0434\\u0430\\u0447\\u0430\", \"\\u0437\\u0430\\u0434\\u0430\\u0447\\u0430\", \"\\u0437\\u0430\\u0434\\u0430\\u0447\\u0430\", \"\\u0437\\u0430\\u0434\\u0430\\u0447\\u0430\", \"\\u0437\\u0430\\u0434\\u0430\\u0447\\u0430\", \"\\u0437\\u0430\\u0434\\u0430\\u0447\\u0430\", \"\\u0437\\u0430\\u0434\\u0430\\u0447\\u0430\", \"\\u0437\\u0430\\u0434\\u0430\\u0447\\u0430\", \"\\u0437\\u0430\\u0434\\u0430\\u0447\\u0430\", \"\\u0437\\u0430\\u0434\\u0430\\u0447\\u0430\", \"\\u0437\\u0430\\u0434\\u0435\\u0440\\u0436\\u043a\\u0430\", \"\\u0437\\u0430\\u0434\\u0435\\u0440\\u0436\\u043a\\u0430\", \"\\u0437\\u0430\\u0434\\u0435\\u0440\\u0436\\u043a\\u0430\", \"\\u0437\\u0430\\u0434\\u0435\\u0440\\u0436\\u043a\\u0430\", \"\\u0437\\u0430\\u0434\\u0435\\u0440\\u0436\\u043a\\u0430\", \"\\u0437\\u0430\\u0434\\u0435\\u0440\\u0436\\u043a\\u0430\", \"\\u0437\\u0430\\u0434\\u0435\\u0440\\u0436\\u043a\\u0430\", \"\\u0437\\u0430\\u043a\\u0430\\u0437\\u0447\\u0438\\u043a\", \"\\u0437\\u0430\\u043a\\u0430\\u0437\\u0447\\u0438\\u043a\", \"\\u0437\\u0430\\u043a\\u0430\\u0437\\u0447\\u0438\\u043a\", \"\\u0437\\u0430\\u043a\\u0430\\u0437\\u0447\\u0438\\u043a\", \"\\u0437\\u0430\\u043a\\u0430\\u0437\\u0447\\u0438\\u043a\", \"\\u0437\\u0430\\u043c\\u044b\\u043a\\u0430\\u043d\\u0438\\u0435\", \"\\u0437\\u0430\\u043c\\u044b\\u043a\\u0430\\u043d\\u0438\\u0435\", \"\\u0437\\u0430\\u043f\\u0440\\u0430\\u0448\\u0438\\u0432\\u0430\\u0442\\u044c \\u044d\\u043b\\u0435\\u043c\\u0435\\u043d\\u0442\", \"\\u0437\\u0430\\u043f\\u0440\\u043e\\u0441\", \"\\u0437\\u0430\\u043f\\u0440\\u043e\\u0441\", \"\\u0437\\u0430\\u043f\\u0440\\u043e\\u0441\", \"\\u0437\\u0430\\u043f\\u0440\\u043e\\u0441\", \"\\u0437\\u0430\\u043f\\u0440\\u043e\\u0441\", \"\\u0437\\u0430\\u043f\\u0440\\u043e\\u0441\", \"\\u0437\\u0430\\u043f\\u0440\\u043e\\u0441\", \"\\u0437\\u0430\\u043f\\u0440\\u043e\\u0441\", \"\\u0437\\u0430\\u043f\\u0440\\u043e\\u0441\", \"\\u0437\\u0430\\u043f\\u0440\\u043e\\u0441\", \"\\u0437\\u0430\\u043f\\u0440\\u043e\\u0441\", \"\\u0437\\u0430\\u043f\\u0440\\u043e\\u0441\", \"\\u0437\\u0430\\u043f\\u0440\\u043e\\u0441\", \"\\u0437\\u0430\\u043f\\u0440\\u043e\\u0441 \\u044d\\u043b\\u0435\\u043c\\u0435\\u043d\\u0442\", \"\\u0437\\u0430\\u043f\\u0443\\u0441\\u043a\", \"\\u0437\\u0430\\u043f\\u0443\\u0441\\u043a\", \"\\u0437\\u0430\\u043f\\u0443\\u0441\\u043a\", \"\\u0437\\u0430\\u043f\\u0443\\u0441\\u043a\", \"\\u0437\\u0430\\u043f\\u0443\\u0441\\u043a\", \"\\u0437\\u0430\\u043f\\u0443\\u0441\\u043a\", \"\\u0437\\u0430\\u043f\\u0443\\u0441\\u043a\", \"\\u0437\\u0430\\u043f\\u0443\\u0441\\u043a\", \"\\u0437\\u0430\\u043f\\u0443\\u0441\\u043a\", \"\\u0437\\u0430\\u043f\\u0443\\u0441\\u043a\", \"\\u0437\\u0430\\u043f\\u0443\\u0441\\u043a\", \"\\u0437\\u0430\\u043f\\u0443\\u0441\\u043a\", \"\\u0437\\u0430\\u043f\\u0443\\u0441\\u043a \\u043a\\u043e\\u043d\\u0442\\u0435\\u0439\\u043d\\u0435\\u0440 \\u0438\\u043c\\u044f\", \"\\u0437\\u0430\\u043f\\u0443\\u0441\\u043a\\u0430\\u0442\\u044c\", \"\\u0437\\u0430\\u043f\\u0443\\u0441\\u043a\\u0430\\u0442\\u044c\", \"\\u0437\\u0430\\u043f\\u0443\\u0441\\u043a\\u0430\\u0442\\u044c\", \"\\u0437\\u0430\\u043f\\u0443\\u0441\\u043a\\u0430\\u0442\\u044c\", \"\\u0437\\u0430\\u043f\\u0443\\u0441\\u043a\\u0430\\u0442\\u044c\", \"\\u0437\\u0430\\u043f\\u0443\\u0441\\u043a\\u0430\\u0442\\u044c\", \"\\u0437\\u0430\\u043f\\u0443\\u0441\\u043a\\u0430\\u0442\\u044c\", \"\\u0437\\u0430\\u043f\\u0443\\u0441\\u043a\\u0430\\u0442\\u044c\", \"\\u0437\\u0430\\u043f\\u0443\\u0441\\u043a\\u0430\\u0442\\u044c\", \"\\u0437\\u0430\\u043f\\u0443\\u0441\\u043a\\u0430\\u0442\\u044c\", \"\\u0437\\u0430\\u043f\\u0443\\u0441\\u043a\\u0430\\u0442\\u044c\", \"\\u0437\\u0430\\u043f\\u0443\\u0441\\u043a\\u0430\\u0442\\u044c\", \"\\u0437\\u0430\\u043f\\u0443\\u0441\\u043a\\u0430\\u0442\\u044c\", \"\\u0437\\u0430\\u043f\\u0443\\u0441\\u043a\\u0430\\u0442\\u044c \\u043f\\u0440\\u043e\\u0433\\u0440\\u0430\\u043c\\u043c\\u0430\", \"\\u0437\\u0430\\u0449\\u0438\\u0442\\u0430\", \"\\u0437\\u0430\\u0449\\u0438\\u0442\\u0430\", \"\\u0437\\u0430\\u0449\\u0438\\u0442\\u0430\", \"\\u0437\\u0430\\u0449\\u0438\\u0442\\u0430\", \"\\u0437\\u0430\\u0449\\u0438\\u0442\\u0430\", \"\\u0437\\u0430\\u0449\\u0438\\u0442\\u0430\", \"\\u0437\\u0430\\u0449\\u0438\\u0442\\u0430\", \"\\u0437\\u0430\\u0449\\u0438\\u0442\\u0430\", \"\\u0437\\u0430\\u0449\\u0438\\u0442\\u0430\", \"\\u0437\\u0430\\u0449\\u0438\\u0442\\u0430\", \"\\u0437\\u0430\\u0449\\u0438\\u0442\\u0430 \\u043a\\u043b\\u0430\\u0441\\u0442\\u0435\\u0440\", \"\\u0437\\u0432\\u043e\\u043d\\u043e\\u043a\", \"\\u0437\\u0432\\u043e\\u043d\\u043e\\u043a\", \"\\u0437\\u0432\\u043e\\u043d\\u043e\\u043a\", \"\\u0437\\u0432\\u043e\\u043d\\u043e\\u043a\", \"\\u0437\\u0432\\u0443\\u043a\", \"\\u0437\\u0432\\u0443\\u043a\", \"\\u0437\\u0432\\u0443\\u043a\", \"\\u0437\\u0432\\u0443\\u043a\", \"\\u0437\\u0432\\u0443\\u043a\", \"\\u0437\\u0432\\u0443\\u043a\", \"\\u0437\\u0432\\u0443\\u043a\", \"\\u0437\\u0432\\u0443\\u043a\\u043e\\u0432\\u043e\\u0439 \\u0441\\u043e\\u043f\\u0440\\u043e\\u0432\\u043e\\u0436\\u0434\\u0435\\u043d\\u0438\\u0435\", \"\\u0437\\u0435\\u043b\\u044c\\u0435\", \"\\u0437\\u0435\\u0440\\u043d\\u043e\", \"\\u0437\\u043d\\u0430\\u0447\\u0435\\u043d\\u0438\\u0435\", \"\\u0437\\u043d\\u0430\\u0447\\u0435\\u043d\\u0438\\u0435\", \"\\u0437\\u043d\\u0430\\u0447\\u0435\\u043d\\u0438\\u0435\", \"\\u0437\\u043d\\u0430\\u0447\\u0435\\u043d\\u0438\\u0435\", \"\\u0437\\u043d\\u0430\\u0447\\u0435\\u043d\\u0438\\u0435\", \"\\u0437\\u043d\\u0430\\u0447\\u0435\\u043d\\u0438\\u0435\", \"\\u0437\\u043d\\u0430\\u0447\\u0435\\u043d\\u0438\\u0435\", \"\\u0437\\u043d\\u0430\\u0447\\u0435\\u043d\\u0438\\u0435\", \"\\u0437\\u043d\\u0430\\u0447\\u0435\\u043d\\u0438\\u0435\", \"\\u0437\\u043d\\u0430\\u0447\\u0435\\u043d\\u0438\\u0435\", \"\\u0437\\u043d\\u0430\\u0447\\u0435\\u043d\\u0438\\u0435\", \"\\u0437\\u043d\\u0430\\u0447\\u0435\\u043d\\u0438\\u0435\", \"\\u0437\\u043d\\u0430\\u0447\\u0435\\u043d\\u0438\\u0435\", \"\\u0437\\u043d\\u0430\\u0447\\u0435\\u043d\\u0438\\u0435\", \"\\u0437\\u043d\\u0430\\u0447\\u0435\\u043d\\u0438\\u0435 \\u0441\\u0447\\u0435\\u0442\\u0447\\u0438\\u043a\", \"\\u0437\\u043d\\u0430\\u0447\\u0435\\u043d\\u0438\\u0435 \\u044f\\u0432\\u043b\\u044f\\u0442\\u044c\\u0441\\u044f\", \"\\u0437\\u043d\\u0430\\u0447\\u0435\\u043d\\u0438\\u0435 \\u044f\\u0432\\u043b\\u044f\\u0442\\u044c\\u0441\\u044f \\u0446\\u0435\\u043b\\u044b\\u0439\", \"\\u0437\\u043e\\u043d\\u0430 \\u0434\\u043e\\u0441\\u0442\\u0443\\u043f\\u043d\\u043e\\u0441\\u0442\\u044c\", \"\\u0437\\u043e\\u043d\\u0430 \\u0443\\u0436\\u0430\\u0441\", \"\\u0438\\u0433\\u0440\\u0430\", \"\\u0438\\u0433\\u0440\\u0430\", \"\\u0438\\u0433\\u0440\\u0430\", \"\\u0438\\u0433\\u0440\\u0430\", \"\\u0438\\u0433\\u0440\\u0430\", \"\\u0438\\u0433\\u0440\\u0430\", \"\\u0438\\u0433\\u0440\\u0430\", \"\\u0438\\u0433\\u0440\\u0430\", \"\\u0438\\u0433\\u0440\\u0430\", \"\\u0438\\u0433\\u0440\\u0430\", \"\\u0438\\u0433\\u0440\\u0430\", \"\\u0438\\u0433\\u0440\\u0430\", \"\\u0438\\u0433\\u0440\\u0430\\u0442\\u044c\", \"\\u0438\\u0433\\u0440\\u0430\\u0442\\u044c\", \"\\u0438\\u0433\\u0440\\u0430\\u0442\\u044c\", \"\\u0438\\u0433\\u0440\\u0430\\u0442\\u044c\", \"\\u0438\\u0433\\u0440\\u0430\\u0442\\u044c\", \"\\u0438\\u0433\\u0440\\u0430\\u0442\\u044c\", \"\\u0438\\u0433\\u0440\\u0430\\u0442\\u044c\", \"\\u0438\\u0433\\u0440\\u0430\\u0442\\u044c\", \"\\u0438\\u0433\\u0440\\u0430\\u0442\\u044c\", \"\\u0438\\u0433\\u0440\\u0430\\u0442\\u044c\", \"\\u0438\\u0433\\u0440\\u0430\\u0442\\u044c \\u043b\\u0438\\u0448\\u044c\", \"\\u0438\\u0433\\u0440\\u043e\\u0432\\u043e\\u0439\", \"\\u0438\\u0433\\u0440\\u043e\\u0432\\u043e\\u0439\", \"\\u0438\\u0433\\u0440\\u043e\\u0432\\u043e\\u0439\", \"\\u0438\\u0433\\u0440\\u043e\\u0432\\u043e\\u0439\", \"\\u0438\\u0433\\u0440\\u043e\\u0432\\u043e\\u0439\", \"\\u0438\\u0433\\u0440\\u043e\\u0432\\u043e\\u0439\", \"\\u0438\\u0433\\u0440\\u043e\\u0432\\u043e\\u0439 \\u043c\\u0435\\u0445\\u0430\\u043d\\u0438\\u043a\\u0430\", \"\\u0438\\u0433\\u0440\\u043e\\u0432\\u043e\\u0439 \\u043c\\u0435\\u0445\\u0430\\u043d\\u0438\\u043a\\u0430\", \"\\u0438\\u0433\\u0440\\u043e\\u043a\", \"\\u0438\\u0433\\u0440\\u043e\\u043a\", \"\\u0438\\u0433\\u0440\\u043e\\u043a\", \"\\u0438\\u0433\\u0440\\u0443\\u0448\\u043a\\u0430\", \"\\u0438\\u0433\\u0440\\u0443\\u0448\\u043a\\u0430\", \"\\u0438\\u0437\\u0434\\u0430\\u0432\\u0430\\u0442\\u044c\", \"\\u0438\\u0437\\u043c\\u0435\\u043d\\u0435\\u043d\\u0438\\u0435 \\u043f\\u0430\\u043a\\u0435\\u0442\", \"\\u0438\\u0437\\u043c\\u0435\\u043d\\u0435\\u043d\\u0438\\u0435 \\u0446\\u0435\\u043d\\u0430\", \"\\u0438\\u0437\\u043c\\u0435\\u043d\\u044f\\u0442\\u044c \\u043f\\u043e\\u0442\\u043e\\u043a\", \"\\u0438\\u0437\\u043c\\u0435\\u0440\\u0435\\u043d\\u0438\\u0435 \\u0434\\u043e\\u0441\\u0442\\u0443\\u043f\\u043d\\u043e\\u0441\\u0442\\u044c\", \"\\u0438\\u0437\\u043c\\u0435\\u0440\\u0435\\u043d\\u0438\\u0435 \\u0434\\u043e\\u0441\\u0442\\u0443\\u043f\\u043d\\u043e\\u0441\\u0442\\u044c \\u0441\\u0435\\u0442\\u044c\", \"\\u0438\\u0437\\u043c\\u0435\\u0440\\u0435\\u043d\\u0438\\u0435 \\u043a\\u0430\\u0447\\u0435\\u0441\\u0442\\u0432\\u043e\", \"\\u0438\\u0437\\u043e\\u0431\\u0440\\u0430\\u0436\\u0435\\u043d\\u0438\\u0435\", \"\\u0438\\u0437\\u043e\\u0431\\u0440\\u0430\\u0436\\u0435\\u043d\\u0438\\u0435\", \"\\u0438\\u0437\\u043e\\u0431\\u0440\\u0430\\u0436\\u0435\\u043d\\u0438\\u0435\", \"\\u0438\\u0437\\u043e\\u0431\\u0440\\u0430\\u0436\\u0435\\u043d\\u0438\\u0435\", \"\\u0438\\u0437\\u043e\\u0431\\u0440\\u0430\\u0436\\u0435\\u043d\\u0438\\u0435\", \"\\u0438\\u0437\\u043e\\u0431\\u0440\\u0430\\u0436\\u0435\\u043d\\u0438\\u0435\", \"\\u0438\\u0437\\u043e\\u0431\\u0440\\u0430\\u0436\\u0435\\u043d\\u0438\\u0435\", \"\\u0438\\u043c\\u0435\\u0442\\u044c\", \"\\u0438\\u043c\\u0435\\u0442\\u044c\", \"\\u0438\\u043c\\u0435\\u0442\\u044c\", \"\\u0438\\u043c\\u0435\\u0442\\u044c\", \"\\u0438\\u043c\\u0435\\u0442\\u044c\", \"\\u0438\\u043c\\u0435\\u0442\\u044c\", \"\\u0438\\u043c\\u0435\\u0442\\u044c\", \"\\u0438\\u043c\\u0435\\u0442\\u044c\", \"\\u0438\\u043c\\u0435\\u0442\\u044c\", \"\\u0438\\u043c\\u0435\\u0442\\u044c\", \"\\u0438\\u043c\\u0435\\u0442\\u044c\", \"\\u0438\\u043c\\u0435\\u0442\\u044c\", \"\\u0438\\u043c\\u0435\\u0442\\u044c\", \"\\u0438\\u043c\\u0435\\u0442\\u044c\", \"\\u0438\\u043c\\u0435\\u0442\\u044c\", \"\\u0438\\u043c\\u0438\\u0442\\u0438\\u0440\\u043e\\u0432\\u0430\\u0442\\u044c\", \"\\u0438\\u043c\\u0438\\u0442\\u0438\\u0440\\u043e\\u0432\\u0430\\u0442\\u044c\", \"\\u0438\\u043c\\u043c\\u0443\\u043d\\u0438\\u0442\\u0435\\u0442\", \"\\u0438\\u043c\\u044f\", \"\\u0438\\u043c\\u044f\", \"\\u0438\\u043c\\u044f\", \"\\u0438\\u043c\\u044f\", \"\\u0438\\u043c\\u044f\", \"\\u0438\\u043c\\u044f\", \"\\u0438\\u043c\\u044f\", \"\\u0438\\u043c\\u044f\", \"\\u0438\\u043c\\u044f\", \"\\u0438\\u043c\\u044f\", \"\\u0438\\u043d\\u0434\\u0438\\u043a\\u0430\\u0442\\u043e\\u0440\", \"\\u0438\\u043d\\u0434\\u0438\\u043a\\u0430\\u0442\\u043e\\u0440\", \"\\u0438\\u043d\\u0434\\u0438\\u043a\\u0430\\u0442\\u043e\\u0440\", \"\\u0438\\u043d\\u0434\\u0438\\u043a\\u0430\\u0442\\u043e\\u0440\", \"\\u0438\\u043d\\u0434\\u0438\\u043a\\u0430\\u0442\\u043e\\u0440\", \"\\u0438\\u043d\\u0434\\u0438\\u043a\\u0430\\u0442\\u043e\\u0440\", \"\\u0438\\u043d\\u0434\\u0438\\u044f\", \"\\u0438\\u043d\\u0434\\u0443\\u0441\\u0442\\u0440\\u0438\\u044f\", \"\\u0438\\u043d\\u0434\\u0443\\u0441\\u0442\\u0440\\u0438\\u044f\", \"\\u0438\\u043d\\u0434\\u0443\\u0441\\u0442\\u0440\\u0438\\u044f\", \"\\u0438\\u043d\\u0434\\u0443\\u0441\\u0442\\u0440\\u0438\\u044f\", \"\\u0438\\u043d\\u0434\\u0443\\u0441\\u0442\\u0440\\u0438\\u044f\", \"\\u0438\\u043d\\u0434\\u0443\\u0441\\u0442\\u0440\\u0438\\u044f\", \"\\u0438\\u043d\\u0434\\u0443\\u0441\\u0442\\u0440\\u0438\\u044f\", \"\\u0438\\u043d\\u0438\\u0446\\u0438\\u0430\\u043b\\u0438\\u0437\\u0430\\u0446\\u0438\\u044f\", \"\\u0438\\u043d\\u0438\\u0446\\u0438\\u0430\\u043b\\u0438\\u0437\\u0430\\u0446\\u0438\\u044f\", \"\\u0438\\u043d\\u0438\\u0446\\u0438\\u0430\\u043b\\u0438\\u0437\\u0430\\u0446\\u0438\\u044f\", \"\\u0438\\u043d\\u0438\\u0446\\u0438\\u0430\\u043b\\u0438\\u0437\\u0430\\u0446\\u0438\\u044f\", \"\\u0438\\u043d\\u0438\\u0446\\u0438\\u0430\\u043b\\u0438\\u0437\\u0430\\u0446\\u0438\\u044f \\u043f\\u0430\\u043a\\u0435\\u0442\", \"\\u0438\\u043d\\u0441\\u0442\\u0430\\u043b\\u043b\\u044f\\u0446\\u0438\\u044f\", \"\\u0438\\u043d\\u0441\\u0442\\u0430\\u043b\\u043b\\u044f\\u0446\\u0438\\u044f\", \"\\u0438\\u043d\\u0441\\u0442\\u0430\\u043d\\u0441\", \"\\u0438\\u043d\\u0441\\u0442\\u0430\\u043d\\u0441\", \"\\u0438\\u043d\\u0441\\u0442\\u0430\\u043d\\u0441\", \"\\u0438\\u043d\\u0441\\u0442\\u0430\\u043d\\u0441\", \"\\u0438\\u043d\\u0441\\u0442\\u0430\\u043d\\u0441\", \"\\u0438\\u043d\\u0441\\u0442\\u0430\\u043d\\u0441 \\u0431\\u0430\\u0437\\u0430\", \"\\u0438\\u043d\\u0441\\u0442\\u0430\\u043d\\u0441 \\u0431\\u0430\\u0437\\u0430 \\u0434\\u0430\\u043d\\u043d\\u044b\\u0435\", \"\\u0438\\u043d\\u0441\\u0442\\u0440\\u0443\\u043c\\u0435\\u043d\\u0442\", \"\\u0438\\u043d\\u0441\\u0442\\u0440\\u0443\\u043c\\u0435\\u043d\\u0442\", \"\\u0438\\u043d\\u0441\\u0442\\u0440\\u0443\\u043c\\u0435\\u043d\\u0442\", \"\\u0438\\u043d\\u0441\\u0442\\u0440\\u0443\\u043c\\u0435\\u043d\\u0442\", \"\\u0438\\u043d\\u0441\\u0442\\u0440\\u0443\\u043c\\u0435\\u043d\\u0442\", \"\\u0438\\u043d\\u0441\\u0442\\u0440\\u0443\\u043c\\u0435\\u043d\\u0442\", \"\\u0438\\u043d\\u0441\\u0442\\u0440\\u0443\\u043c\\u0435\\u043d\\u0442\", \"\\u0438\\u043d\\u0441\\u0442\\u0440\\u0443\\u043c\\u0435\\u043d\\u0442\", \"\\u0438\\u043d\\u0441\\u0442\\u0440\\u0443\\u043c\\u0435\\u043d\\u0442\", \"\\u0438\\u043d\\u0441\\u0442\\u0440\\u0443\\u043c\\u0435\\u043d\\u0442\", \"\\u0438\\u043d\\u0441\\u0442\\u0440\\u0443\\u043c\\u0435\\u043d\\u0442\", \"\\u0438\\u043d\\u0441\\u0442\\u0440\\u0443\\u043c\\u0435\\u043d\\u0442\", \"\\u0438\\u043d\\u0442\\u0435\\u0440\\u0444\\u0435\\u0439\\u0441\", \"\\u0438\\u043d\\u0442\\u0435\\u0440\\u0444\\u0435\\u0439\\u0441\", \"\\u0438\\u043d\\u0442\\u0435\\u0440\\u0444\\u0435\\u0439\\u0441\", \"\\u0438\\u043d\\u0442\\u0435\\u0440\\u0444\\u0435\\u0439\\u0441\", \"\\u0438\\u043d\\u0442\\u0435\\u0440\\u0444\\u0435\\u0439\\u0441\", \"\\u0438\\u043d\\u0442\\u0435\\u0440\\u0444\\u0435\\u0439\\u0441\", \"\\u0438\\u043d\\u0442\\u0435\\u0440\\u0444\\u0435\\u0439\\u0441\", \"\\u0438\\u043d\\u0442\\u0435\\u0440\\u0444\\u0435\\u0439\\u0441\", \"\\u0438\\u043d\\u0442\\u0435\\u0440\\u0444\\u0435\\u0439\\u0441\", \"\\u0438\\u043d\\u0442\\u0435\\u0440\\u0444\\u0435\\u0439\\u0441\", \"\\u0438\\u043d\\u0442\\u0435\\u0440\\u0444\\u0435\\u0439\\u0441\", \"\\u0438\\u043d\\u0442\\u0435\\u0440\\u0444\\u0435\\u0439\\u0441\", \"\\u0438\\u043d\\u0442\\u0435\\u0440\\u0444\\u0435\\u0439\\u0441\", \"\\u0438\\u043d\\u0442\\u0435\\u0440\\u0444\\u0435\\u0440\\u0435\\u043d\\u0446\\u0438\\u044f\", \"\\u0438\\u043d\\u0444\\u043e\\u0440\\u043c\\u0430\\u0446\\u0438\\u044f\", \"\\u0438\\u043d\\u0444\\u043e\\u0440\\u043c\\u0430\\u0446\\u0438\\u044f\", \"\\u0438\\u043d\\u0444\\u043e\\u0440\\u043c\\u0430\\u0446\\u0438\\u044f\", \"\\u0438\\u043d\\u0444\\u043e\\u0440\\u043c\\u0430\\u0446\\u0438\\u044f\", \"\\u0438\\u043d\\u0444\\u043e\\u0440\\u043c\\u0430\\u0446\\u0438\\u044f\", \"\\u0438\\u043d\\u0444\\u043e\\u0440\\u043c\\u0430\\u0446\\u0438\\u044f\", \"\\u0438\\u043d\\u0444\\u043e\\u0440\\u043c\\u0430\\u0446\\u0438\\u044f\", \"\\u0438\\u043d\\u0444\\u043e\\u0440\\u043c\\u0430\\u0446\\u0438\\u044f\", \"\\u0438\\u043d\\u0444\\u043e\\u0440\\u043c\\u0430\\u0446\\u0438\\u044f\", \"\\u0438\\u043d\\u0444\\u043e\\u0440\\u043c\\u0430\\u0446\\u0438\\u044f\", \"\\u0438\\u043d\\u0444\\u043e\\u0440\\u043c\\u0430\\u0446\\u0438\\u044f\", \"\\u0438\\u043d\\u0444\\u043e\\u0440\\u043c\\u0430\\u0446\\u0438\\u044f\", \"\\u0438\\u043d\\u0444\\u043e\\u0440\\u043c\\u0430\\u0446\\u0438\\u044f\", \"\\u0438\\u043d\\u0444\\u0440\\u0430\\u0441\\u0442\\u0440\\u0443\\u043a\\u0442\\u0443\\u0440\\u0430\", \"\\u0438\\u043d\\u0444\\u0440\\u0430\\u0441\\u0442\\u0440\\u0443\\u043a\\u0442\\u0443\\u0440\\u0430\", \"\\u0438\\u043d\\u0444\\u0440\\u0430\\u0441\\u0442\\u0440\\u0443\\u043a\\u0442\\u0443\\u0440\\u0430\", \"\\u0438\\u043d\\u0444\\u0440\\u0430\\u0441\\u0442\\u0440\\u0443\\u043a\\u0442\\u0443\\u0440\\u0430\", \"\\u0438\\u043d\\u0444\\u0440\\u0430\\u0441\\u0442\\u0440\\u0443\\u043a\\u0442\\u0443\\u0440\\u0430\", \"\\u0438\\u043d\\u0444\\u0440\\u0430\\u0441\\u0442\\u0440\\u0443\\u043a\\u0442\\u0443\\u0440\\u0430\", \"\\u0438\\u043d\\u0444\\u0440\\u0430\\u0441\\u0442\\u0440\\u0443\\u043a\\u0442\\u0443\\u0440\\u0430\", \"\\u0438\\u043d\\u0444\\u0440\\u0430\\u0441\\u0442\\u0440\\u0443\\u043a\\u0442\\u0443\\u0440\\u0430\", \"\\u0438\\u043d\\u0444\\u0440\\u0430\\u0441\\u0442\\u0440\\u0443\\u043a\\u0442\\u0443\\u0440\\u0430\", \"\\u0438\\u043d\\u0444\\u0440\\u0430\\u0441\\u0442\\u0440\\u0443\\u043a\\u0442\\u0443\\u0440\\u0430\", \"\\u0438\\u043d\\u0444\\u0440\\u0430\\u0441\\u0442\\u0440\\u0443\\u043a\\u0442\\u0443\\u0440\\u0430\", \"\\u0438\\u0441\\u043f\\u043e\\u043b\\u043d\\u0435\\u043d\\u0438\\u0435\", \"\\u0438\\u0441\\u043f\\u043e\\u043b\\u043d\\u0435\\u043d\\u0438\\u0435\", \"\\u0438\\u0441\\u043f\\u043e\\u043b\\u043d\\u0435\\u043d\\u0438\\u0435\", \"\\u0438\\u0441\\u043f\\u043e\\u043b\\u043d\\u0435\\u043d\\u0438\\u0435\", \"\\u0438\\u0441\\u043f\\u043e\\u043b\\u043d\\u0435\\u043d\\u0438\\u0435\", \"\\u0438\\u0441\\u043f\\u043e\\u043b\\u044c\\u0437\\u043e\\u0432\\u0430\\u043d\\u0438\\u0435\", \"\\u0438\\u0441\\u043f\\u043e\\u043b\\u044c\\u0437\\u043e\\u0432\\u0430\\u043d\\u0438\\u0435\", \"\\u0438\\u0441\\u043f\\u043e\\u043b\\u044c\\u0437\\u043e\\u0432\\u0430\\u043d\\u0438\\u0435\", \"\\u0438\\u0441\\u043f\\u043e\\u043b\\u044c\\u0437\\u043e\\u0432\\u0430\\u043d\\u0438\\u0435\", \"\\u0438\\u0441\\u043f\\u043e\\u043b\\u044c\\u0437\\u043e\\u0432\\u0430\\u043d\\u0438\\u0435\", \"\\u0438\\u0441\\u043f\\u043e\\u043b\\u044c\\u0437\\u043e\\u0432\\u0430\\u043d\\u0438\\u0435\", \"\\u0438\\u0441\\u043f\\u043e\\u043b\\u044c\\u0437\\u043e\\u0432\\u0430\\u043d\\u0438\\u0435\", \"\\u0438\\u0441\\u043f\\u043e\\u043b\\u044c\\u0437\\u043e\\u0432\\u0430\\u043d\\u0438\\u0435\", \"\\u0438\\u0441\\u043f\\u043e\\u043b\\u044c\\u0437\\u043e\\u0432\\u0430\\u043d\\u0438\\u0435\", \"\\u0438\\u0441\\u043f\\u043e\\u043b\\u044c\\u0437\\u043e\\u0432\\u0430\\u043d\\u0438\\u0435\", \"\\u0438\\u0441\\u043f\\u043e\\u043b\\u044c\\u0437\\u043e\\u0432\\u0430\\u043d\\u0438\\u0435\", \"\\u0438\\u0441\\u043f\\u043e\\u043b\\u044c\\u0437\\u043e\\u0432\\u0430\\u043d\\u0438\\u0435\", \"\\u0438\\u0441\\u043f\\u043e\\u043b\\u044c\\u0437\\u043e\\u0432\\u0430\\u043d\\u0438\\u0435\", \"\\u0438\\u0441\\u043f\\u043e\\u043b\\u044c\\u0437\\u043e\\u0432\\u0430\\u043d\\u0438\\u0435\", \"\\u0438\\u0441\\u043f\\u043e\\u043b\\u044c\\u0437\\u043e\\u0432\\u0430\\u043d\\u0438\\u0435 \\u0440\\u0435\\u0441\\u0443\\u0440\\u0441\", \"\\u0438\\u0441\\u043f\\u043e\\u043b\\u044c\\u0437\\u043e\\u0432\\u0430\\u0442\\u044c\", \"\\u0438\\u0441\\u043f\\u043e\\u043b\\u044c\\u0437\\u043e\\u0432\\u0430\\u0442\\u044c\", \"\\u0438\\u0441\\u043f\\u043e\\u043b\\u044c\\u0437\\u043e\\u0432\\u0430\\u0442\\u044c\", \"\\u0438\\u0441\\u043f\\u043e\\u043b\\u044c\\u0437\\u043e\\u0432\\u0430\\u0442\\u044c\", \"\\u0438\\u0441\\u043f\\u043e\\u043b\\u044c\\u0437\\u043e\\u0432\\u0430\\u0442\\u044c\", \"\\u0438\\u0441\\u043f\\u043e\\u043b\\u044c\\u0437\\u043e\\u0432\\u0430\\u0442\\u044c\", \"\\u0438\\u0441\\u043f\\u043e\\u043b\\u044c\\u0437\\u043e\\u0432\\u0430\\u0442\\u044c\", \"\\u0438\\u0441\\u043f\\u043e\\u043b\\u044c\\u0437\\u043e\\u0432\\u0430\\u0442\\u044c\", \"\\u0438\\u0441\\u043f\\u043e\\u043b\\u044c\\u0437\\u043e\\u0432\\u0430\\u0442\\u044c\", \"\\u0438\\u0441\\u043f\\u043e\\u043b\\u044c\\u0437\\u043e\\u0432\\u0430\\u0442\\u044c\", \"\\u0438\\u0441\\u043f\\u043e\\u043b\\u044c\\u0437\\u043e\\u0432\\u0430\\u0442\\u044c\", \"\\u0438\\u0441\\u043f\\u043e\\u043b\\u044c\\u0437\\u043e\\u0432\\u0430\\u0442\\u044c\", \"\\u0438\\u0441\\u043f\\u043e\\u043b\\u044c\\u0437\\u043e\\u0432\\u0430\\u0442\\u044c\", \"\\u0438\\u0441\\u043f\\u043e\\u043b\\u044c\\u0437\\u043e\\u0432\\u0430\\u0442\\u044c\", \"\\u0438\\u0441\\u043f\\u043e\\u043b\\u044c\\u0437\\u043e\\u0432\\u0430\\u0442\\u044c\", \"\\u0438\\u0441\\u043f\\u043e\\u043b\\u044c\\u0437\\u043e\\u0432\\u0430\\u0442\\u044c \\u0438\\u0433\\u0440\\u043e\\u0432\\u043e\\u0439\", \"\\u0438\\u0441\\u043f\\u043e\\u043b\\u044c\\u0437\\u043e\\u0432\\u0430\\u0442\\u044c \\u0438\\u0433\\u0440\\u043e\\u0432\\u043e\\u0439 \\u043c\\u0435\\u0445\\u0430\\u043d\\u0438\\u043a\\u0430\", \"\\u0438\\u0441\\u043f\\u043e\\u043b\\u044c\\u0437\\u043e\\u0432\\u0430\\u0442\\u044c\\u0441\\u044f\", \"\\u0438\\u0441\\u043f\\u043e\\u043b\\u044c\\u0437\\u043e\\u0432\\u0430\\u0442\\u044c\\u0441\\u044f\", \"\\u0438\\u0441\\u043f\\u043e\\u043b\\u044c\\u0437\\u043e\\u0432\\u0430\\u0442\\u044c\\u0441\\u044f\", \"\\u0438\\u0441\\u043f\\u043e\\u043b\\u044c\\u0437\\u043e\\u0432\\u0430\\u0442\\u044c\\u0441\\u044f\", \"\\u0438\\u0441\\u043f\\u043e\\u043b\\u044c\\u0437\\u043e\\u0432\\u0430\\u0442\\u044c\\u0441\\u044f\", \"\\u0438\\u0441\\u043f\\u043e\\u043b\\u044c\\u0437\\u043e\\u0432\\u0430\\u0442\\u044c\\u0441\\u044f\", \"\\u0438\\u0441\\u043f\\u043e\\u043b\\u044c\\u0437\\u043e\\u0432\\u0430\\u0442\\u044c\\u0441\\u044f\", \"\\u0438\\u0441\\u043f\\u043e\\u043b\\u044c\\u0437\\u043e\\u0432\\u0430\\u0442\\u044c\\u0441\\u044f\", \"\\u0438\\u0441\\u043f\\u043e\\u043b\\u044c\\u0437\\u043e\\u0432\\u0430\\u0442\\u044c\\u0441\\u044f\", \"\\u0438\\u0441\\u043f\\u043e\\u043b\\u044c\\u0437\\u043e\\u0432\\u0430\\u0442\\u044c\\u0441\\u044f\", \"\\u0438\\u0441\\u043f\\u043e\\u043b\\u044c\\u0437\\u043e\\u0432\\u0430\\u0442\\u044c\\u0441\\u044f\", \"\\u0438\\u0441\\u043f\\u043e\\u043b\\u044c\\u0437\\u043e\\u0432\\u0430\\u0442\\u044c\\u0441\\u044f\", \"\\u0438\\u0441\\u043f\\u043e\\u043b\\u044c\\u0437\\u043e\\u0432\\u0430\\u0442\\u044c\\u0441\\u044f\", \"\\u0438\\u0441\\u043f\\u043e\\u043b\\u044c\\u0437\\u043e\\u0432\\u0430\\u0442\\u044c\\u0441\\u044f\", \"\\u0438\\u0441\\u043f\\u043e\\u043b\\u044c\\u0437\\u043e\\u0432\\u0430\\u0442\\u044c\\u0441\\u044f\", \"\\u0438\\u0441\\u0442\\u043e\\u0440\\u0438\\u044f\", \"\\u0438\\u0441\\u0442\\u043e\\u0440\\u0438\\u044f\", \"\\u0438\\u0441\\u0442\\u043e\\u0440\\u0438\\u044f\", \"\\u0438\\u0441\\u0442\\u043e\\u0440\\u0438\\u044f\", \"\\u0438\\u0441\\u0442\\u043e\\u0440\\u0438\\u044f\", \"\\u0438\\u0441\\u0442\\u043e\\u0440\\u0438\\u044f\", \"\\u0438\\u0441\\u0442\\u043e\\u0440\\u0438\\u044f\", \"\\u0438\\u0441\\u0442\\u043e\\u0440\\u0438\\u044f\", \"\\u0438\\u0441\\u0442\\u043e\\u0440\\u0438\\u044f\", \"\\u0438\\u0441\\u0442\\u043e\\u0440\\u0438\\u044f\", \"\\u0438\\u0441\\u0442\\u043e\\u0440\\u0438\\u044f\", \"\\u0438\\u0441\\u0442\\u043e\\u0447\\u043d\\u0438\\u043a\", \"\\u0438\\u0441\\u0442\\u043e\\u0447\\u043d\\u0438\\u043a\", \"\\u0438\\u0441\\u0442\\u043e\\u0447\\u043d\\u0438\\u043a\", \"\\u0438\\u0441\\u0442\\u043e\\u0447\\u043d\\u0438\\u043a\", \"\\u0438\\u0441\\u0442\\u043e\\u0447\\u043d\\u0438\\u043a\", \"\\u0438\\u0441\\u0442\\u043e\\u0447\\u043d\\u0438\\u043a\", \"\\u0438\\u0441\\u0442\\u043e\\u0447\\u043d\\u0438\\u043a\", \"\\u0438\\u0441\\u0442\\u043e\\u0447\\u043d\\u0438\\u043a\", \"\\u0438\\u0441\\u0442\\u043e\\u0447\\u043d\\u0438\\u043a\", \"\\u0438\\u0441\\u0442\\u043e\\u0447\\u043d\\u0438\\u043a\", \"\\u0438\\u0441\\u0445\\u043e\\u0434\\u043d\\u044b\\u0439 \\u0442\\u0435\\u043a\\u0441\\u0442\", \"\\u043a\\u0430\\u0431\\u0435\\u043b\\u044c\", \"\\u043a\\u0430\\u0431\\u0435\\u043b\\u044c\", \"\\u043a\\u0430\\u0431\\u0435\\u043b\\u044c\", \"\\u043a\\u0430\\u0431\\u0435\\u043b\\u044c\", \"\\u043a\\u0430\\u0431\\u0435\\u043b\\u044c\", \"\\u043a\\u0430\\u0436\\u0434\\u044b\\u0439\", \"\\u043a\\u0430\\u0436\\u0434\\u044b\\u0439\", \"\\u043a\\u0430\\u0436\\u0434\\u044b\\u0439\", \"\\u043a\\u0430\\u0436\\u0434\\u044b\\u0439\", \"\\u043a\\u0430\\u0436\\u0434\\u044b\\u0439\", \"\\u043a\\u0430\\u0436\\u0434\\u044b\\u0439\", \"\\u043a\\u0430\\u0436\\u0434\\u044b\\u0439\", \"\\u043a\\u0430\\u0436\\u0434\\u044b\\u0439\", \"\\u043a\\u0430\\u0436\\u0434\\u044b\\u0439\", \"\\u043a\\u0430\\u0436\\u0434\\u044b\\u0439\", \"\\u043a\\u0430\\u0436\\u0434\\u044b\\u0439\", \"\\u043a\\u0430\\u0436\\u0434\\u044b\\u0439\", \"\\u043a\\u0430\\u0436\\u0434\\u044b\\u0439\", \"\\u043a\\u0430\\u0436\\u0434\\u044b\\u0439\", \"\\u043a\\u0430\\u0436\\u0434\\u044b\\u0439\", \"\\u043a\\u0430\\u0436\\u0434\\u044b\\u0439 \\u0441\\u0435\\u0442\\u0435\\u0432\\u043e\\u0439\", \"\\u043a\\u0430\\u0436\\u0434\\u044b\\u0439 \\u0441\\u0435\\u0442\\u0435\\u0432\\u043e\\u0439 \\u0438\\u043d\\u0442\\u0435\\u0440\\u0444\\u0435\\u0439\\u0441\", \"\\u043a\\u0430\\u0437\\u0430\\u0445\\u0441\\u0442\\u0430\\u043d\", \"\\u043a\\u0430\\u043c\\u0435\\u0440\\u0430\", \"\\u043a\\u0430\\u043c\\u0435\\u0440\\u0430\", \"\\u043a\\u0430\\u043c\\u0435\\u0440\\u0430\", \"\\u043a\\u0430\\u043c\\u0435\\u0440\\u0430\", \"\\u043a\\u0430\\u043c\\u0435\\u0440\\u0430\", \"\\u043a\\u0430\\u043c\\u0435\\u0440\\u0430\", \"\\u043a\\u0430\\u043c\\u0435\\u0440\\u0430\", \"\\u043a\\u0430\\u043c\\u0435\\u0440\\u0430\", \"\\u043a\\u0430\\u043c\\u0435\\u0440\\u0430\", \"\\u043a\\u0430\\u043d\\u0430\\u043b\", \"\\u043a\\u0430\\u043d\\u0430\\u043b\", \"\\u043a\\u0430\\u043d\\u0430\\u043b\", \"\\u043a\\u0430\\u043d\\u0430\\u043b\", \"\\u043a\\u0430\\u043d\\u0430\\u043b\", \"\\u043a\\u0430\\u043d\\u0430\\u043b\", \"\\u043a\\u0430\\u043d\\u0430\\u043b\", \"\\u043a\\u0430\\u043d\\u0430\\u043b\", \"\\u043a\\u0430\\u043d\\u0430\\u043b\", \"\\u043a\\u0430\\u043d\\u0430\\u043b\", \"\\u043a\\u0430\\u043d\\u0430\\u043b\", \"\\u043a\\u0430\\u043d\\u0430\\u043b\", \"\\u043a\\u0430\\u043d\\u0430\\u043b\", \"\\u043a\\u0430\\u043d\\u0430\\u043b \\u043f\\u043e\\u0438\\u0441\\u043a\", \"\\u043a\\u0430\\u043d\\u0430\\u043b\\u044c\\u043d\\u044b\\u0439 \\u0443\\u0440\\u043e\\u0432\\u0435\\u043d\\u044c\", \"\\u043a\\u0430\\u043d\\u0434\\u0438\\u0434\\u0430\\u0442\", \"\\u043a\\u0430\\u043d\\u0434\\u0438\\u0434\\u0430\\u0442\", \"\\u043a\\u0430\\u043d\\u0434\\u0438\\u0434\\u0430\\u0442\", \"\\u043a\\u0430\\u0440\\u043f\\u0430\\u0442\\u044b\", \"\\u043a\\u0430\\u0447\\u0435\\u0441\\u0442\\u0432\\u043e\", \"\\u043a\\u0430\\u0447\\u0435\\u0441\\u0442\\u0432\\u043e\", \"\\u043a\\u0430\\u0447\\u0435\\u0441\\u0442\\u0432\\u043e\", \"\\u043a\\u0430\\u0447\\u0435\\u0441\\u0442\\u0432\\u043e\", \"\\u043a\\u0430\\u0447\\u0435\\u0441\\u0442\\u0432\\u043e\", \"\\u043a\\u0430\\u0447\\u0435\\u0441\\u0442\\u0432\\u043e\", \"\\u043a\\u0430\\u0447\\u0435\\u0441\\u0442\\u0432\\u043e\", \"\\u043a\\u0430\\u0447\\u0435\\u0441\\u0442\\u0432\\u043e\", \"\\u043a\\u0430\\u0447\\u0435\\u0441\\u0442\\u0432\\u043e\", \"\\u043a\\u0430\\u0447\\u0435\\u0441\\u0442\\u0432\\u043e\", \"\\u043a\\u0430\\u0447\\u0435\\u0441\\u0442\\u0432\\u043e\", \"\\u043a\\u0430\\u0447\\u0435\\u0441\\u0442\\u0432\\u043e\", \"\\u043a\\u0430\\u0447\\u0435\\u0441\\u0442\\u0432\\u043e\", \"\\u043a\\u0430\\u0447\\u0435\\u0441\\u0442\\u0432\\u043e\", \"\\u043a\\u0430\\u0447\\u0435\\u0441\\u0442\\u0432\\u043e \\u0437\\u0432\\u0443\\u043a\", \"\\u043a\\u0430\\u0447\\u0435\\u0441\\u0442\\u0432\\u043e \\u043e\\u0431\\u0441\\u043b\\u0443\\u0436\\u0438\\u0432\\u0430\\u043d\\u0438\\u0435\", \"\\u043a\\u0432\\u0430\\u043b\\u0438\\u0444\\u0438\\u043a\\u0430\\u0446\\u0438\\u044f\", \"\\u043a\\u0432\\u0430\\u043b\\u0438\\u0444\\u0438\\u043a\\u0430\\u0446\\u0438\\u044f\", \"\\u043a\\u0432\\u0430\\u043d\\u0442\\u0438\\u043b\\u044c\", \"\\u043a\\u0432\\u0430\\u0440\\u0442\\u0430\\u043b\", \"\\u043a\\u0432\\u0430\\u0440\\u0442\\u0430\\u043b\", \"\\u043a\\u0432\\u0430\\u0440\\u0442\\u0430\\u043b \\u0433\\u043e\\u0434\", \"\\u043a\\u0433\\u0446\", \"\\u043a\\u0435\\u0439\\u0441\", \"\\u043a\\u0435\\u0439\\u0441\", \"\\u043a\\u0435\\u0439\\u0441\", \"\\u043a\\u0435\\u0439\\u0441\", \"\\u043a\\u0435\\u0439\\u0441\", \"\\u043a\\u0435\\u0439\\u0441\", \"\\u043a\\u0435\\u043d\", \"\\u043a\\u0435\\u043d \\u043b\\u0435\\u0432\\u0438\\u043d\", \"\\u043a\\u0435\\u0448\", \"\\u043a\\u0435\\u0448\", \"\\u043a\\u0435\\u0448\", \"\\u043a\\u0435\\u0448\", \"\\u043a\\u0435\\u0448\", \"\\u043a\\u0435\\u0448\", \"\\u043a\\u0435\\u0448\", \"\\u043a\\u0438\\u043b\\u043e\\u0433\\u0440\\u0430\\u043c\\u043c\", \"\\u043a\\u0438\\u043b\\u043e\\u0433\\u0440\\u0430\\u043c\\u043c\", \"\\u043a\\u0438\\u043b\\u043e\\u0433\\u0440\\u0430\\u043c\\u043c \\u0433\\u0440\\u0443\\u0437\", \"\\u043a\\u0438\\u043d\\u043e\\u0442\\u0435\\u0430\\u0442\\u0440\", \"\\u043a\\u0438\\u0442\\u0430\\u0439\", \"\\u043a\\u0438\\u0442\\u0430\\u0439\", \"\\u043a\\u0438\\u0442\\u0430\\u0439\", \"\\u043a\\u0438\\u0442\\u0430\\u0439 \\u043a\\u0438\\u0442\\u0430\\u0439\", \"\\u043a\\u043b\\u0430\\u0441\\u0441\", \"\\u043a\\u043b\\u0430\\u0441\\u0441\", \"\\u043a\\u043b\\u0430\\u0441\\u0441\", \"\\u043a\\u043b\\u0430\\u0441\\u0441\", \"\\u043a\\u043b\\u0430\\u0441\\u0441\", \"\\u043a\\u043b\\u0430\\u0441\\u0441\", \"\\u043a\\u043b\\u0430\\u0441\\u0441\", \"\\u043a\\u043b\\u0430\\u0441\\u0441\", \"\\u043a\\u043b\\u0430\\u0441\\u0441\", \"\\u043a\\u043b\\u0430\\u0441\\u0441\", \"\\u043a\\u043b\\u0430\\u0441\\u0441\", \"\\u043a\\u043b\\u0430\\u0441\\u0442\\u0435\\u0440\", \"\\u043a\\u043b\\u0430\\u0441\\u0442\\u0435\\u0440\", \"\\u043a\\u043b\\u0430\\u0441\\u0442\\u0435\\u0440\", \"\\u043a\\u043b\\u0430\\u0441\\u0442\\u0435\\u0440\", \"\\u043a\\u043b\\u0430\\u0441\\u0442\\u0435\\u0440\", \"\\u043a\\u043b\\u0430\\u0441\\u0442\\u0435\\u0440\", \"\\u043a\\u043b\\u0430\\u0441\\u0442\\u0435\\u0440\", \"\\u043a\\u043b\\u0430\\u0441\\u0442\\u0435\\u0440\", \"\\u043a\\u043b\\u0430\\u0441\\u0442\\u0435\\u0440 \\u0430\\u0442\\u0430\\u043a\\u0430\", \"\\u043a\\u043b\\u0435\\u0442\\u043a\\u0430\", \"\\u043a\\u043b\\u0435\\u0442\\u043a\\u0430\", \"\\u043a\\u043b\\u0435\\u0442\\u043e\\u0447\\u043d\\u044b\\u0439\", \"\\u043a\\u043b\\u0435\\u0442\\u043e\\u0447\\u043d\\u044b\\u0439 \\u0430\\u0432\\u0442\\u043e\\u043c\\u0430\\u0442\", \"\\u043a\\u043b\\u0438\\u0435\\u043d\\u0442\", \"\\u043a\\u043b\\u0438\\u0435\\u043d\\u0442\", \"\\u043a\\u043b\\u0438\\u0435\\u043d\\u0442\", \"\\u043a\\u043b\\u0438\\u0435\\u043d\\u0442\", \"\\u043a\\u043b\\u0438\\u0435\\u043d\\u0442\", \"\\u043a\\u043b\\u0438\\u0435\\u043d\\u0442\", \"\\u043a\\u043b\\u0438\\u0435\\u043d\\u0442\", \"\\u043a\\u043b\\u0438\\u0435\\u043d\\u0442\", \"\\u043a\\u043b\\u0438\\u0435\\u043d\\u0442\", \"\\u043a\\u043b\\u0438\\u0435\\u043d\\u0442\", \"\\u043a\\u043b\\u0438\\u0435\\u043d\\u0442\", \"\\u043a\\u043b\\u0438\\u0435\\u043d\\u0442\", \"\\u043a\\u043b\\u044e\\u0447\\u0435\\u0432\\u043e\\u0439 \\u0441\\u043b\\u043e\\u0432\\u043e\", \"\\u043a\\u043d\\u043e\\u043f\\u043a\\u0430\", \"\\u043a\\u043d\\u043e\\u043f\\u043a\\u0430\", \"\\u043a\\u043d\\u043e\\u043f\\u043a\\u0430\", \"\\u043a\\u043d\\u043e\\u043f\\u043a\\u0430\", \"\\u043a\\u043d\\u043e\\u043f\\u043a\\u0430\", \"\\u043a\\u043d\\u043e\\u043f\\u043a\\u0430\", \"\\u043a\\u043d\\u043e\\u043f\\u043a\\u0430\", \"\\u043a\\u043d\\u043e\\u043f\\u043a\\u0430\", \"\\u043a\\u043e\\u0431\\u043e\\u043b\", \"\\u043a\\u043e\\u0434\", \"\\u043a\\u043e\\u0434\", \"\\u043a\\u043e\\u0434\", \"\\u043a\\u043e\\u0434\", \"\\u043a\\u043e\\u0434\", \"\\u043a\\u043e\\u0434\", \"\\u043a\\u043e\\u0434\", \"\\u043a\\u043e\\u0434\", \"\\u043a\\u043e\\u0434\", \"\\u043a\\u043e\\u0434\", \"\\u043a\\u043e\\u0434\", \"\\u043a\\u043e\\u0434\", \"\\u043a\\u043e\\u0434\", \"\\u043a\\u043e\\u0434\", \"\\u043a\\u043e\\u0434\", \"\\u043a\\u043e\\u043b\\u0438\\u0447\\u0435\\u0441\\u0442\\u0432\\u043e\", \"\\u043a\\u043e\\u043b\\u0438\\u0447\\u0435\\u0441\\u0442\\u0432\\u043e\", \"\\u043a\\u043e\\u043b\\u0438\\u0447\\u0435\\u0441\\u0442\\u0432\\u043e\", \"\\u043a\\u043e\\u043b\\u0438\\u0447\\u0435\\u0441\\u0442\\u0432\\u043e\", \"\\u043a\\u043e\\u043b\\u0438\\u0447\\u0435\\u0441\\u0442\\u0432\\u043e\", \"\\u043a\\u043e\\u043b\\u0438\\u0447\\u0435\\u0441\\u0442\\u0432\\u043e\", \"\\u043a\\u043e\\u043b\\u0438\\u0447\\u0435\\u0441\\u0442\\u0432\\u043e\", \"\\u043a\\u043e\\u043b\\u0438\\u0447\\u0435\\u0441\\u0442\\u0432\\u043e\", \"\\u043a\\u043e\\u043b\\u0438\\u0447\\u0435\\u0441\\u0442\\u0432\\u043e\", \"\\u043a\\u043e\\u043b\\u0438\\u0447\\u0435\\u0441\\u0442\\u0432\\u043e\", \"\\u043a\\u043e\\u043b\\u0438\\u0447\\u0435\\u0441\\u0442\\u0432\\u043e\", \"\\u043a\\u043e\\u043b\\u0438\\u0447\\u0435\\u0441\\u0442\\u0432\\u043e\", \"\\u043a\\u043e\\u043b\\u0438\\u0447\\u0435\\u0441\\u0442\\u0432\\u043e\", \"\\u043a\\u043e\\u043b\\u0438\\u0447\\u0435\\u0441\\u0442\\u0432\\u043e\", \"\\u043a\\u043e\\u043b\\u0438\\u0447\\u0435\\u0441\\u0442\\u0432\\u043e \\u043f\\u043e\\u0442\\u043e\\u043a\", \"\\u043a\\u043e\\u043b\\u0438\\u0447\\u0435\\u0441\\u0442\\u0432\\u043e \\u0441\\u043e\\u0441\\u0435\\u0434\", \"\\u043a\\u043e\\u043b\\u043b\\u0431\\u044d\\u043a\", \"\\u043a\\u043e\\u043b\\u0441\", \"\\u043a\\u043e\\u043c\\u0430\\u043d\\u0434\\u0430\", \"\\u043a\\u043e\\u043c\\u0430\\u043d\\u0434\\u0430\", \"\\u043a\\u043e\\u043c\\u0430\\u043d\\u0434\\u0430\", \"\\u043a\\u043e\\u043c\\u0430\\u043d\\u0434\\u0430\", \"\\u043a\\u043e\\u043c\\u0430\\u043d\\u0434\\u0430\", \"\\u043a\\u043e\\u043c\\u0430\\u043d\\u0434\\u0430\", \"\\u043a\\u043e\\u043c\\u0430\\u043d\\u0434\\u0430\", \"\\u043a\\u043e\\u043c\\u0430\\u043d\\u0434\\u0430\", \"\\u043a\\u043e\\u043c\\u0430\\u043d\\u0434\\u0430\", \"\\u043a\\u043e\\u043c\\u0430\\u043d\\u0434\\u0430\", \"\\u043a\\u043e\\u043c\\u0430\\u043d\\u0434\\u0430\", \"\\u043a\\u043e\\u043c\\u0430\\u043d\\u0434\\u0430\", \"\\u043a\\u043e\\u043c\\u0430\\u043d\\u0434\\u0430\", \"\\u043a\\u043e\\u043c\\u0430\\u043d\\u0434\\u0430\", \"\\u043a\\u043e\\u043c\\u0430\\u043d\\u0434\\u0430\", \"\\u043a\\u043e\\u043c\\u0430\\u043d\\u0434\\u0430 \\u0437\\u0430\\u0432\\u0435\\u0440\\u0448\\u0430\\u0442\\u044c\\u0441\\u044f\", \"\\u043a\\u043e\\u043c\\u0430\\u043d\\u0434\\u0430 \\u0437\\u0430\\u0432\\u0435\\u0440\\u0448\\u0430\\u0442\\u044c\\u0441\\u044f \\u043e\\u0448\\u0438\\u0431\\u043a\\u0430\", \"\\u043a\\u043e\\u043c\\u0430\\u043d\\u0434\\u043d\\u044b\\u0439 \\u0441\\u0442\\u0440\\u043e\\u043a\\u0430\", \"\\u043a\\u043e\\u043c\\u0430\\u043d\\u0434\\u043d\\u044b\\u0439 \\u0441\\u0442\\u0440\\u043e\\u043a\\u0430\", \"\\u043a\\u043e\\u043c\\u043c\\u0435\\u0440\\u0441\\u0430\\u043d\\u0442\", \"\\u043a\\u043e\\u043c\\u043c\\u0443\\u0442\\u0430\\u0442\\u043e\\u0440\", \"\\u043a\\u043e\\u043c\\u043c\\u0443\\u0442\\u0430\\u0442\\u043e\\u0440\", \"\\u043a\\u043e\\u043c\\u043c\\u0443\\u0442\\u0430\\u0442\\u043e\\u0440\", \"\\u043a\\u043e\\u043c\\u043c\\u0443\\u0442\\u0430\\u0442\\u043e\\u0440 \\u0434\\u043e\\u0441\\u0442\\u0443\\u043f\", \"\\u043a\\u043e\\u043c\\u043f\\u0430\\u043d\\u0438\\u044f\", \"\\u043a\\u043e\\u043c\\u043f\\u0430\\u043d\\u0438\\u044f\", \"\\u043a\\u043e\\u043c\\u043f\\u0430\\u043d\\u0438\\u044f\", \"\\u043a\\u043e\\u043c\\u043f\\u0430\\u043d\\u0438\\u044f\", \"\\u043a\\u043e\\u043c\\u043f\\u0430\\u043d\\u0438\\u044f\", \"\\u043a\\u043e\\u043c\\u043f\\u0430\\u043d\\u0438\\u044f\", \"\\u043a\\u043e\\u043c\\u043f\\u0430\\u043d\\u0438\\u044f\", \"\\u043a\\u043e\\u043c\\u043f\\u0430\\u043d\\u0438\\u044f\", \"\\u043a\\u043e\\u043c\\u043f\\u0430\\u043d\\u0438\\u044f\", \"\\u043a\\u043e\\u043c\\u043f\\u0430\\u043d\\u0438\\u044f\", \"\\u043a\\u043e\\u043c\\u043f\\u0430\\u043d\\u0438\\u044f\", \"\\u043a\\u043e\\u043c\\u043f\\u0430\\u043d\\u0438\\u044f\", \"\\u043a\\u043e\\u043c\\u043f\\u0430\\u043d\\u0438\\u044f\", \"\\u043a\\u043e\\u043c\\u043f\\u0430\\u043d\\u0438\\u044f\", \"\\u043a\\u043e\\u043c\\u043f\\u043e\\u043d\\u0435\\u043d\\u0442\", \"\\u043a\\u043e\\u043c\\u043f\\u043e\\u043d\\u0435\\u043d\\u0442\", \"\\u043a\\u043e\\u043c\\u043f\\u043e\\u043d\\u0435\\u043d\\u0442\", \"\\u043a\\u043e\\u043c\\u043f\\u043e\\u043d\\u0435\\u043d\\u0442\", \"\\u043a\\u043e\\u043c\\u043f\\u043e\\u043d\\u0435\\u043d\\u0442\", \"\\u043a\\u043e\\u043c\\u043f\\u043e\\u043d\\u0435\\u043d\\u0442\", \"\\u043a\\u043e\\u043c\\u043f\\u043e\\u043d\\u0435\\u043d\\u0442\", \"\\u043a\\u043e\\u043c\\u043f\\u043e\\u043d\\u0435\\u043d\\u0442\", \"\\u043a\\u043e\\u043c\\u043f\\u043e\\u043d\\u0435\\u043d\\u0442\", \"\\u043a\\u043e\\u043c\\u043f\\u043e\\u043d\\u0435\\u043d\\u0442\", \"\\u043a\\u043e\\u043c\\u043f\\u043e\\u043d\\u0435\\u043d\\u0442 \\u043e\\u043f\\u0435\\u0440\\u0430\\u0446\\u0438\\u043e\\u043d\\u043d\\u044b\\u0439\", \"\\u043a\\u043e\\u043c\\u043f\\u044c\\u044e\\u0442\\u0435\\u0440\", \"\\u043a\\u043e\\u043c\\u043f\\u044c\\u044e\\u0442\\u0435\\u0440\", \"\\u043a\\u043e\\u043c\\u043f\\u044c\\u044e\\u0442\\u0435\\u0440\", \"\\u043a\\u043e\\u043c\\u043f\\u044c\\u044e\\u0442\\u0435\\u0440\", \"\\u043a\\u043e\\u043c\\u043f\\u044c\\u044e\\u0442\\u0435\\u0440\", \"\\u043a\\u043e\\u043c\\u043f\\u044c\\u044e\\u0442\\u0435\\u0440\", \"\\u043a\\u043e\\u043c\\u043f\\u044c\\u044e\\u0442\\u0435\\u0440\", \"\\u043a\\u043e\\u043c\\u043f\\u044c\\u044e\\u0442\\u0435\\u0440\", \"\\u043a\\u043e\\u043c\\u043f\\u044c\\u044e\\u0442\\u0435\\u0440\", \"\\u043a\\u043e\\u043c\\u043f\\u044c\\u044e\\u0442\\u0435\\u0440\", \"\\u043a\\u043e\\u043c\\u043f\\u044c\\u044e\\u0442\\u0435\\u0440\", \"\\u043a\\u043e\\u043c\\u043f\\u044c\\u044e\\u0442\\u0435\\u0440\", \"\\u043a\\u043e\\u043c\\u043f\\u044c\\u044e\\u0442\\u0435\\u0440\\u043d\\u044b\\u0439\", \"\\u043a\\u043e\\u043c\\u043f\\u044c\\u044e\\u0442\\u0435\\u0440\\u043d\\u044b\\u0439\", \"\\u043a\\u043e\\u043c\\u043f\\u044c\\u044e\\u0442\\u0435\\u0440\\u043d\\u044b\\u0439\", \"\\u043a\\u043e\\u043c\\u043f\\u044c\\u044e\\u0442\\u0435\\u0440\\u043d\\u044b\\u0439\", \"\\u043a\\u043e\\u043c\\u043f\\u044c\\u044e\\u0442\\u0435\\u0440\\u043d\\u044b\\u0439\", \"\\u043a\\u043e\\u043c\\u043f\\u044c\\u044e\\u0442\\u0435\\u0440\\u043d\\u044b\\u0439 \\u0437\\u0440\\u0435\\u043d\\u0438\\u0435\", \"\\u043a\\u043e\\u043c\\u043f\\u044c\\u044e\\u0442\\u0435\\u0440\\u043d\\u044b\\u0439 \\u0437\\u0440\\u0435\\u043d\\u0438\\u0435\", \"\\u043a\\u043e\\u043c\\u043f\\u044c\\u044e\\u0442\\u0435\\u0440\\u043d\\u044b\\u0439 \\u0437\\u0440\\u0435\\u043d\\u0438\\u0435\", \"\\u043a\\u043e\\u043c\\u043f\\u044c\\u044e\\u0442\\u0435\\u0440\\u043d\\u044b\\u0439 \\u0437\\u0440\\u0435\\u043d\\u0438\\u0435\", \"\\u043a\\u043e\\u043d\\u043a\\u0443\\u0440\\u0441\", \"\\u043a\\u043e\\u043d\\u043a\\u0443\\u0440\\u0441\", \"\\u043a\\u043e\\u043d\\u043d\\u0435\\u043a\\u0442\\u043e\\u0440\", \"\\u043a\\u043e\\u043d\\u043d\\u0435\\u043a\\u0442\\u043e\\u0440\", \"\\u043a\\u043e\\u043d\\u043d\\u0435\\u043a\\u0442\\u043e\\u0440\", \"\\u043a\\u043e\\u043d\\u043d\\u0435\\u043a\\u0442\\u043e\\u0440\", \"\\u043a\\u043e\\u043d\\u0441\\u0442\\u0430\\u043d\\u0442\\u0430\", \"\\u043a\\u043e\\u043d\\u0441\\u0442\\u0430\\u043d\\u0442\\u0430\", \"\\u043a\\u043e\\u043d\\u0441\\u0442\\u0430\\u043d\\u0442\\u0430\", \"\\u043a\\u043e\\u043d\\u0441\\u0442\\u0430\\u043d\\u0442\\u0430\", \"\\u043a\\u043e\\u043d\\u0442\\u0435\\u0439\\u043d\\u0435\\u0440\", \"\\u043a\\u043e\\u043d\\u0442\\u0435\\u0439\\u043d\\u0435\\u0440\", \"\\u043a\\u043e\\u043d\\u0442\\u0435\\u0439\\u043d\\u0435\\u0440\", \"\\u043a\\u043e\\u043d\\u0442\\u0435\\u0439\\u043d\\u0435\\u0440\", \"\\u043a\\u043e\\u043d\\u0442\\u0435\\u0439\\u043d\\u0435\\u0440\", \"\\u043a\\u043e\\u043d\\u0442\\u0435\\u0439\\u043d\\u0435\\u0440\", \"\\u043a\\u043e\\u043d\\u0442\\u0435\\u0439\\u043d\\u0435\\u0440\", \"\\u043a\\u043e\\u043d\\u0442\\u0435\\u0439\\u043d\\u0435\\u0440\", \"\\u043a\\u043e\\u043d\\u0442\\u0435\\u0439\\u043d\\u0435\\u0440 \\u0438\\u043c\\u044f\", \"\\u043a\\u043e\\u043d\\u0442\\u0435\\u0439\\u043d\\u0435\\u0440 \\u0438\\u043c\\u044f \\u043f\\u043e\\u043b\\u044c\\u0437\\u043e\\u0432\\u0430\\u0442\\u0435\\u043b\\u044c\", \"\\u043a\\u043e\\u043d\\u0442\\u0435\\u043a\\u0441\\u0442 \\u0442\\u0440\\u0435\\u0439\\u0441\", \"\\u043a\\u043e\\u043d\\u0442\\u0435\\u043d\\u0442\", \"\\u043a\\u043e\\u043d\\u0442\\u0435\\u043d\\u0442\", \"\\u043a\\u043e\\u043d\\u0442\\u0435\\u043d\\u0442\", \"\\u043a\\u043e\\u043d\\u0442\\u0435\\u043d\\u0442\", \"\\u043a\\u043e\\u043d\\u0442\\u0435\\u043d\\u0442\", \"\\u043a\\u043e\\u043d\\u0442\\u0435\\u043d\\u0442\", \"\\u043a\\u043e\\u043d\\u0442\\u0435\\u043d\\u0442\", \"\\u043a\\u043e\\u043d\\u0442\\u0435\\u043d\\u0442\", \"\\u043a\\u043e\\u043d\\u0442\\u0435\\u043d\\u0442\", \"\\u043a\\u043e\\u043d\\u0442\\u0435\\u043d\\u0442\", \"\\u043a\\u043e\\u043d\\u0442\\u0440\\u043e\\u043b\\u044c \\u0434\\u043e\\u0441\\u0442\\u0443\\u043f\\u043d\\u043e\\u0441\\u0442\\u044c\", \"\\u043a\\u043e\\u043d\\u0442\\u0440\\u043e\\u043b\\u044c \\u0434\\u043e\\u0441\\u0442\\u0443\\u043f\\u043d\\u043e\\u0441\\u0442\\u044c \\u0441\\u0435\\u0442\\u044c\", \"\\u043a\\u043e\\u043d\\u0442\\u0440\\u043e\\u043b\\u044c\\u043d\\u044b\\u0439 \\u0441\\u0443\\u043c\\u043c\\u0430\", \"\\u043a\\u043e\\u043d\\u0444\\u0438\\u0433\\u0443\\u0440\\u0430\\u0442\\u043e\\u0440\", \"\\u043a\\u043e\\u043d\\u0444\\u0438\\u0433\\u0443\\u0440\\u0430\\u0442\\u043e\\u0440\", \"\\u043a\\u043e\\u043d\\u0444\\u0438\\u0433\\u0443\\u0440\\u0430\\u0446\\u0438\\u043e\\u043d\\u043d\\u044b\\u0439\", \"\\u043a\\u043e\\u043d\\u0444\\u0438\\u0433\\u0443\\u0440\\u0430\\u0446\\u0438\\u043e\\u043d\\u043d\\u044b\\u0439\", \"\\u043a\\u043e\\u043d\\u0444\\u0438\\u0433\\u0443\\u0440\\u0430\\u0446\\u0438\\u043e\\u043d\\u043d\\u044b\\u0439\", \"\\u043a\\u043e\\u043d\\u0444\\u0438\\u0433\\u0443\\u0440\\u0430\\u0446\\u0438\\u043e\\u043d\\u043d\\u044b\\u0439 \\u0444\\u0430\\u0439\\u043b\", \"\\u043a\\u043e\\u043d\\u0444\\u0438\\u0433\\u0443\\u0440\\u0430\\u0446\\u0438\\u043e\\u043d\\u043d\\u044b\\u0439 \\u0444\\u0430\\u0439\\u043b\", \"\\u043a\\u043e\\u043d\\u0444\\u0438\\u0433\\u0443\\u0440\\u0430\\u0446\\u0438\\u043e\\u043d\\u043d\\u044b\\u0439 \\u0444\\u0430\\u0439\\u043b\", \"\\u043a\\u043e\\u043d\\u0444\\u0438\\u0433\\u0443\\u0440\\u0430\\u0446\\u0438\\u043e\\u043d\\u043d\\u044b\\u0439 \\u0444\\u0430\\u0439\\u043b \\u0438\\u043d\\u0442\\u0435\\u0440\\u0444\\u0435\\u0439\\u0441\", \"\\u043a\\u043e\\u043d\\u0444\\u0438\\u0433\\u0443\\u0440\\u0430\\u0446\\u0438\\u043e\\u043d\\u043d\\u044b\\u0439 \\u0444\\u0430\\u0439\\u043b \\u0441\\u0435\\u0442\\u044c\", \"\\u043a\\u043e\\u043d\\u0444\\u0438\\u0433\\u0443\\u0440\\u0430\\u0446\\u0438\\u044f \\u0443\\u0441\\u0442\\u0440\\u043e\\u0439\\u0441\\u0442\\u0432\\u043e\", \"\\u043a\\u043e\\u0441\\u043c\\u0438\\u0447\\u0435\\u0441\\u043a\\u0438\\u0439\", \"\\u043a\\u043e\\u0441\\u043c\\u0438\\u0447\\u0435\\u0441\\u043a\\u0438\\u0439\", \"\\u043a\\u043e\\u0441\\u043c\\u0438\\u0447\\u0435\\u0441\\u043a\\u0438\\u0439\", \"\\u043a\\u043e\\u0441\\u043c\\u0438\\u0447\\u0435\\u0441\\u043a\\u0438\\u0439\", \"\\u043a\\u043e\\u0441\\u043c\\u0438\\u0447\\u0435\\u0441\\u043a\\u0438\\u0439 \\u0430\\u043f\\u043f\\u0430\\u0440\\u0430\\u0442\", \"\\u043a\\u043e\\u0442\\u0438\\u0440\\u043e\\u0432\\u0430\\u0442\\u044c\\u0441\\u044f\", \"\\u043a\\u0440\\u044b\\u043b\\u043e\", \"\\u043a\\u0443\\u0440\\u0441\\u044b\", \"\\u043a\\u0443\\u0440\\u0441\\u044b\", \"\\u043a\\u0443\\u0440\\u0441\\u044b\", \"\\u043a\\u0443\\u0440\\u0441\\u044b\", \"\\u043a\\u0443\\u0440\\u0441\\u044b \\u0441\\u0435\\u0440\\u0442\\u0438\\u0444\\u0438\\u043a\\u0430\\u0442\", \"\\u043a\\u044d\\u0448\\u0431\\u044d\\u043a\", \"\\u043b\\u0435\\u0432\\u0438\\u043d\", \"\\u043b\\u0435\\u0439\\u0431\\u043b\\u0441\\u0435\\u0442\", \"\\u043b\\u0438\\u0434\\u0430\\u0440\", \"\\u043b\\u0438\\u0434\\u0430\\u0440\", \"\\u043b\\u043e\\u0433\", \"\\u043b\\u043e\\u0433\", \"\\u043b\\u043e\\u0433\", \"\\u043b\\u043e\\u0433\", \"\\u043b\\u043e\\u0433\", \"\\u043b\\u043e\\u0433\\u0438\\u043a\\u0430\", \"\\u043b\\u043e\\u0433\\u0438\\u043a\\u0430\", \"\\u043b\\u043e\\u0433\\u0438\\u043a\\u0430\", \"\\u043b\\u043e\\u0433\\u0438\\u043a\\u0430\", \"\\u043b\\u043e\\u0433\\u0438\\u043a\\u0430\", \"\\u043b\\u043e\\u0433\\u0438\\u0447\\u0435\\u0441\\u043a\\u0438\\u0439\", \"\\u043b\\u043e\\u0433\\u0438\\u0447\\u0435\\u0441\\u043a\\u0438\\u0439\", \"\\u043b\\u043e\\u0433\\u0438\\u0447\\u0435\\u0441\\u043a\\u0438\\u0439\", \"\\u043b\\u043e\\u0433\\u0438\\u0447\\u0435\\u0441\\u043a\\u0438\\u0439\", \"\\u043b\\u043e\\u0433\\u0438\\u0447\\u0435\\u0441\\u043a\\u0438\\u0439 \\u0443\\u0440\\u043e\\u0432\\u0435\\u043d\\u044c\", \"\\u043b\\u043e\\u0433\\u0438\\u0447\\u0435\\u0441\\u043a\\u0438\\u0439 \\u0443\\u0440\\u043e\\u0432\\u0435\\u043d\\u044c\", \"\\u043b\\u043e\\u043a\\u0430\\u043b\\u044c\\u043d\\u044b\\u0439\", \"\\u043b\\u043e\\u043a\\u0430\\u043b\\u044c\\u043d\\u044b\\u0439\", \"\\u043b\\u043e\\u043a\\u0430\\u043b\\u044c\\u043d\\u044b\\u0439\", \"\\u043b\\u043e\\u043a\\u0430\\u043b\\u044c\\u043d\\u044b\\u0439\", \"\\u043b\\u043e\\u043a\\u0430\\u043b\\u044c\\u043d\\u044b\\u0439\", \"\\u043b\\u043e\\u043a\\u0430\\u043b\\u044c\\u043d\\u044b\\u0439\", \"\\u043b\\u043e\\u043a\\u0430\\u043b\\u044c\\u043d\\u044b\\u0439\", \"\\u043b\\u043e\\u043a\\u0430\\u043b\\u044c\\u043d\\u044b\\u0439\", \"\\u043b\\u043e\\u043a\\u0430\\u043b\\u044c\\u043d\\u044b\\u0439\", \"\\u043b\\u043e\\u043a\\u0430\\u043b\\u044c\\u043d\\u044b\\u0439\", \"\\u043b\\u043e\\u043a\\u0430\\u043b\\u044c\\u043d\\u044b\\u0439\", \"\\u043b\\u043e\\u043a\\u0430\\u043b\\u044c\\u043d\\u044b\\u0439 \\u0437\\u043d\\u0430\\u0447\\u0435\\u043d\\u0438\\u0435\", \"\\u043b\\u043e\\u043a\\u0430\\u043b\\u044c\\u043d\\u044b\\u0439 \\u0441\\u043e\\u0441\\u0442\\u043e\\u044f\\u043d\\u0438\\u0435\", \"\\u043b\\u043e\\u043a\\u0430\\u0446\\u0438\\u044f\", \"\\u043b\\u043e\\u043a\\u0430\\u0446\\u0438\\u044f\", \"\\u043b\\u043e\\u043a\\u0430\\u0446\\u0438\\u044f\", \"\\u043b\\u044f\\u043c\\u0431\\u0434\\u0430\", \"\\u043c\\u0430\\u0439\\u043d\\u0438\\u043d\\u0433\", \"\\u043c\\u0430\\u043b\\u044b\\u0439 \\u0441\\u043f\\u0443\\u0442\\u043d\\u0438\\u043a\", \"\\u043c\\u0430\\u0440\\u0442\", \"\\u043c\\u0430\\u0440\\u0442\", \"\\u043c\\u0430\\u0440\\u0442\", \"\\u043c\\u0430\\u0440\\u0442\", \"\\u043c\\u0430\\u0441\\u0441\\u0430\", \"\\u043c\\u0430\\u0441\\u0441\\u0430\", \"\\u043c\\u0430\\u0441\\u0441\\u0430\", \"\\u043c\\u0430\\u0441\\u0441\\u0430\", \"\\u043c\\u0430\\u0441\\u0442\\u0435\\u0440\", \"\\u043c\\u0430\\u0441\\u0442\\u0435\\u0440\", \"\\u043c\\u0430\\u0441\\u0442\\u0435\\u0440\", \"\\u043c\\u0430\\u0441\\u0442\\u0435\\u0440\", \"\\u043c\\u0430\\u0442\\u0435\\u0440\\u0438\\u0430\\u043b\", \"\\u043c\\u0430\\u0442\\u0435\\u0440\\u0438\\u0430\\u043b\", \"\\u043c\\u0430\\u0442\\u0435\\u0440\\u0438\\u0430\\u043b\", \"\\u043c\\u0430\\u0442\\u0435\\u0440\\u0438\\u0430\\u043b\", \"\\u043c\\u0430\\u0442\\u0435\\u0440\\u0438\\u0430\\u043b\", \"\\u043c\\u0430\\u0442\\u0435\\u0440\\u0438\\u0430\\u043b\", \"\\u043c\\u0430\\u0442\\u0435\\u0440\\u0438\\u0430\\u043b\", \"\\u043c\\u0430\\u0442\\u0435\\u0440\\u0438\\u0430\\u043b\", \"\\u043c\\u0430\\u0442\\u0435\\u0440\\u0438\\u0430\\u043b\", \"\\u043c\\u0430\\u0442\\u0435\\u0440\\u0438\\u0430\\u043b\", \"\\u043c\\u0430\\u0442\\u0435\\u0440\\u0438\\u044f\", \"\\u043c\\u0430\\u0442\\u0435\\u0440\\u0438\\u044f\", \"\\u043c\\u0430\\u0442\\u0435\\u0440\\u0438\\u044f\", \"\\u043c\\u0430\\u0442\\u0435\\u0440\\u0438\\u044f \\u044d\\u043d\\u0435\\u0440\\u0433\\u0438\\u044f\", \"\\u043c\\u0435\\u0439\\u043a\\u0435\\u0440\\u0441\\u043a\\u0438\\u0439\", \"\\u043c\\u0435\\u0439\\u043a\\u0435\\u0440\\u0441\\u043a\\u0438\\u0439 \\u0434\\u0432\\u0438\\u0436\\u0435\\u043d\\u0438\\u0435\", \"\\u043c\\u0435\\u0441\\u0442\\u043e\", \"\\u043c\\u0435\\u0441\\u0442\\u043e\", \"\\u043c\\u0435\\u0441\\u0442\\u043e\", \"\\u043c\\u0435\\u0441\\u0442\\u043e\", \"\\u043c\\u0435\\u0441\\u0442\\u043e\", \"\\u043c\\u0435\\u0441\\u0442\\u043e\", \"\\u043c\\u0435\\u0441\\u0442\\u043e\", \"\\u043c\\u0435\\u0441\\u0442\\u043e\", \"\\u043c\\u0435\\u0441\\u0442\\u043e\", \"\\u043c\\u0435\\u0441\\u0442\\u043e\", \"\\u043c\\u0435\\u0441\\u0442\\u043e\", \"\\u043c\\u0435\\u0441\\u0442\\u043e\", \"\\u043c\\u0435\\u0441\\u0442\\u043e\", \"\\u043c\\u0435\\u0442\\u0430\\u043b\\u043b\", \"\\u043c\\u0435\\u0442\\u0430\\u043b\\u043b\", \"\\u043c\\u0435\\u0442\\u0430\\u043b\\u043b\", \"\\u043c\\u0435\\u0442\\u043a\\u0438\\u0439\", \"\\u043c\\u0435\\u0442\\u043e\\u0434\", \"\\u043c\\u0435\\u0442\\u043e\\u0434\", \"\\u043c\\u0435\\u0442\\u043e\\u0434\", \"\\u043c\\u0435\\u0442\\u043e\\u0434\", \"\\u043c\\u0435\\u0442\\u043e\\u0434\", \"\\u043c\\u0435\\u0442\\u043e\\u0434\", \"\\u043c\\u0435\\u0442\\u043e\\u0434\", \"\\u043c\\u0435\\u0442\\u043e\\u0434\", \"\\u043c\\u0435\\u0442\\u043e\\u0434\", \"\\u043c\\u0435\\u0442\\u043e\\u0434\", \"\\u043c\\u0435\\u0442\\u043e\\u0434\", \"\\u043c\\u0435\\u0442\\u043e\\u0434\", \"\\u043c\\u0435\\u0442\\u043e\\u0434\", \"\\u043c\\u0435\\u0442\\u043e\\u0434 \\u043e\\u0431\\u0435\\u0441\\u043f\\u0435\\u0447\\u0435\\u043d\\u0438\\u0435\", \"\\u043c\\u0435\\u0442\\u043e\\u0434 \\u043e\\u0431\\u0435\\u0441\\u043f\\u0435\\u0447\\u0435\\u043d\\u0438\\u0435 \\u0431\\u0435\\u0437\\u043e\\u043f\\u0430\\u0441\\u043d\\u043e\\u0441\\u0442\\u044c\", \"\\u043c\\u0435\\u0442\\u0440\\u0438\\u043a\\u0430\", \"\\u043c\\u0435\\u0442\\u0440\\u0438\\u043a\\u0430\", \"\\u043c\\u0435\\u0442\\u0440\\u0438\\u043a\\u0430\", \"\\u043c\\u0435\\u0442\\u0440\\u0438\\u043a\\u0430\", \"\\u043c\\u0435\\u0442\\u0440\\u0438\\u043a\\u0430\", \"\\u043c\\u0435\\u0442\\u0440\\u0438\\u043a\\u0430\", \"\\u043c\\u0435\\u0442\\u0440\\u0438\\u043a\\u0430\", \"\\u043c\\u0435\\u0442\\u0440\\u0438\\u043a\\u0430\", \"\\u043c\\u0435\\u0442\\u0440\\u0438\\u043a\\u0430 \\u043f\\u0440\\u0438\\u043b\\u043e\\u0436\\u0435\\u043d\\u0438\\u0435\", \"\\u043c\\u0435\\u0442\\u0440\\u0438\\u043a\\u0430 \\u0440\\u0430\\u0437\\u043d\\u044b\\u0439\", \"\\u043c\\u0435\\u0445\\u0430\\u043d\\u0438\\u043a\\u0430\", \"\\u043c\\u0435\\u0445\\u0430\\u043d\\u0438\\u043a\\u0430\", \"\\u043c\\u0435\\u0445\\u0430\\u043d\\u0438\\u043a\\u0430\", \"\\u043c\\u0435\\u0445\\u0430\\u043d\\u0438\\u043a\\u0430\", \"\\u043c\\u0435\\u0445\\u0430\\u043d\\u0438\\u0447\\u0435\\u0441\\u043a\\u0438\\u0439\", \"\\u043c\\u0435\\u0445\\u0430\\u043d\\u0438\\u0447\\u0435\\u0441\\u043a\\u0438\\u0439\", \"\\u043c\\u0435\\u0445\\u0430\\u043d\\u0438\\u0447\\u0435\\u0441\\u043a\\u0438\\u0439\", \"\\u043c\\u0438\\u043a\\u0440\\u043e\\u0441\\u0442\\u0440\\u0443\\u043a\\u0442\\u0443\\u0440\\u0430\", \"\\u043c\\u0438\\u043a\\u0440\\u043e\\u0441\\u0442\\u0440\\u0443\\u043a\\u0442\\u0443\\u0440\\u0430 \\u0441\\u0442\\u0430\\u043d\\u043e\\u0432\\u0438\\u0442\\u044c\\u0441\\u044f\", \"\\u043c\\u0438\\u043b\\u043b\\u0438\\u043e\\u043d\", \"\\u043c\\u0438\\u043b\\u043b\\u0438\\u043e\\u043d\", \"\\u043c\\u0438\\u043b\\u043b\\u0438\\u043e\\u043d\", \"\\u043c\\u0438\\u043b\\u043b\\u0438\\u043e\\u043d\", \"\\u043c\\u0438\\u043b\\u043b\\u0438\\u043e\\u043d\", \"\\u043c\\u0438\\u043b\\u043b\\u0438\\u043e\\u043d\", \"\\u043c\\u0438\\u043b\\u043b\\u0438\\u043e\\u043d\", \"\\u043c\\u0438\\u043b\\u043b\\u0438\\u043e\\u043d\", \"\\u043c\\u043b\\u043d\", \"\\u043c\\u043b\\u043d\", \"\\u043c\\u043b\\u043d\", \"\\u043c\\u043b\\u043d\", \"\\u043c\\u043b\\u043d \\u043c\\u043b\\u043d\", \"\\u043c\\u043b\\u043d \\u043c\\u043b\\u043d \\u043c\\u043b\\u043d\", \"\\u043c\\u043e\\u0431\\u0438\\u043b\\u044c\\u043d\\u044b\\u0439 \\u0442\\u0435\\u043b\\u0435\\u0444\\u043e\\u043d\", \"\\u043c\\u043e\\u0431\\u0438\\u043b\\u044c\\u043d\\u044b\\u0439 \\u0443\\u0441\\u0442\\u0440\\u043e\\u0439\\u0441\\u0442\\u0432\\u043e\", \"\\u043c\\u043e\\u0431\\u0438\\u043b\\u044c\\u043d\\u044b\\u0439 \\u0443\\u0441\\u0442\\u0440\\u043e\\u0439\\u0441\\u0442\\u0432\\u043e\", \"\\u043c\\u043e\\u0431\\u0438\\u043b\\u044c\\u043d\\u044b\\u0439 \\u0443\\u0441\\u0442\\u0440\\u043e\\u0439\\u0441\\u0442\\u0432\\u043e\", \"\\u043c\\u043e\\u0434\\u0435\\u043b\\u044c\", \"\\u043c\\u043e\\u0434\\u0435\\u043b\\u044c\", \"\\u043c\\u043e\\u0434\\u0435\\u043b\\u044c\", \"\\u043c\\u043e\\u0434\\u0435\\u043b\\u044c\", \"\\u043c\\u043e\\u0434\\u0435\\u043b\\u044c\", \"\\u043c\\u043e\\u0434\\u0435\\u043b\\u044c\", \"\\u043c\\u043e\\u0434\\u0435\\u043b\\u044c\", \"\\u043c\\u043e\\u0434\\u0435\\u043b\\u044c\", \"\\u043c\\u043e\\u0434\\u0435\\u043b\\u044c\", \"\\u043c\\u043e\\u0434\\u0435\\u043b\\u044c\", \"\\u043c\\u043e\\u0434\\u0435\\u043b\\u044c\", \"\\u043c\\u043e\\u0434\\u0435\\u043b\\u044c \\u043e\\u0441\\u043d\\u043e\\u0432\\u044b\\u0432\\u0430\\u0442\\u044c\", \"\\u043c\\u043e\\u0434\\u0438\\u0444\\u0438\\u043a\\u0430\\u0442\\u043e\\u0440\", \"\\u043c\\u043e\\u0434\\u0438\\u0444\\u0438\\u043a\\u0430\\u0442\\u043e\\u0440\", \"\\u043c\\u043e\\u0434\\u0438\\u0444\\u0438\\u043a\\u0430\\u0442\\u043e\\u0440\", \"\\u043c\\u043e\\u0434\\u0438\\u0444\\u0438\\u043a\\u0430\\u0442\\u043e\\u0440\", \"\\u043c\\u043e\\u0434\\u0438\\u0444\\u0438\\u043a\\u0430\\u0446\\u0438\\u044f\", \"\\u043c\\u043e\\u0434\\u0438\\u0444\\u0438\\u043a\\u0430\\u0446\\u0438\\u044f\", \"\\u043c\\u043e\\u043b\\u043d\\u0438\\u044f\", \"\\u043c\\u043e\\u043d\\u0438\\u0442\\u043e\\u0440\\u0438\\u043d\\u0433\", \"\\u043c\\u043e\\u043d\\u0438\\u0442\\u043e\\u0440\\u0438\\u043d\\u0433\", \"\\u043c\\u043e\\u043d\\u0438\\u0442\\u043e\\u0440\\u0438\\u043d\\u0433\", \"\\u043c\\u043e\\u043d\\u0438\\u0442\\u043e\\u0440\\u0438\\u043d\\u0433\", \"\\u043c\\u043e\\u043d\\u0438\\u0442\\u043e\\u0440\\u0438\\u043d\\u0433\", \"\\u043c\\u043e\\u043d\\u0438\\u0442\\u043e\\u0440\\u0438\\u043d\\u0433\", \"\\u043c\\u043e\\u043d\\u0438\\u0442\\u043e\\u0440\\u0438\\u043d\\u0433 \\u0434\\u043e\\u0441\\u0442\\u0443\\u043f\\u043d\\u043e\\u0441\\u0442\\u044c\", \"\\u043c\\u043e\\u043d\\u0438\\u0442\\u043e\\u0440\\u0438\\u043d\\u0433 \\u0434\\u043e\\u0441\\u0442\\u0443\\u043f\\u043d\\u043e\\u0441\\u0442\\u044c \\u0441\\u0435\\u0442\\u044c\", \"\\u043c\\u043e\\u043d\\u0438\\u0442\\u043e\\u0440\\u0438\\u043d\\u0433 \\u0441\\u0435\\u0442\\u044c\", \"\\u043c\\u043e\\u0447\\u044c\", \"\\u043c\\u043e\\u0447\\u044c\", \"\\u043c\\u043e\\u0447\\u044c\", \"\\u043c\\u043e\\u0447\\u044c\", \"\\u043c\\u043e\\u0447\\u044c\", \"\\u043c\\u043e\\u0447\\u044c\", \"\\u043c\\u043e\\u0447\\u044c\", \"\\u043c\\u043e\\u0447\\u044c\", \"\\u043c\\u043e\\u0447\\u044c\", \"\\u043c\\u043e\\u0447\\u044c\", \"\\u043c\\u043e\\u0447\\u044c\", \"\\u043c\\u043e\\u0447\\u044c\", \"\\u043c\\u043e\\u0447\\u044c\", \"\\u043c\\u043e\\u0447\\u044c\", \"\\u043c\\u043e\\u0447\\u044c\", \"\\u043c\\u043e\\u0447\\u044c \\u043f\\u043e\\u043f\\u0440\\u043e\\u0431\\u043e\\u0432\\u0430\\u0442\\u044c\", \"\\u043c\\u043e\\u0447\\u044c \\u043f\\u0440\\u0435\\u0434\\u0441\\u0442\\u0430\\u0432\\u043b\\u044f\\u0442\\u044c\", \"\\u043c\\u043e\\u0448\\u0435\\u043d\\u043d\\u0438\\u043a\", \"\\u043c\\u0443\\u0437\\u044b\\u043a\\u0430\", \"\\u043c\\u0443\\u0437\\u044b\\u043a\\u0430\", \"\\u043c\\u0443\\u0437\\u044b\\u043a\\u0430\", \"\\u043c\\u0443\\u0437\\u044b\\u043a\\u0430\", \"\\u043c\\u0443\\u0437\\u044b\\u043a\\u0430\", \"\\u043c\\u0443\\u0437\\u044b\\u043a\\u0430\\u043d\\u0442\", \"\\u043c\\u0443\\u0440\\u0430\", \"\\u043d\\u0430\\u0431\\u043b\\u044e\\u0434\\u0430\\u0442\\u0435\\u043b\\u044c\", \"\\u043d\\u0430\\u0431\\u043b\\u044e\\u0434\\u0430\\u0442\\u0435\\u043b\\u044c\", \"\\u043d\\u0430\\u0432\\u044b\\u043a\", \"\\u043d\\u0430\\u0432\\u044b\\u043a\", \"\\u043d\\u0430\\u0432\\u044b\\u043a\", \"\\u043d\\u0430\\u0432\\u044b\\u043a\", \"\\u043d\\u0430\\u0432\\u044b\\u043a\", \"\\u043d\\u0430\\u0432\\u044b\\u043a\", \"\\u043d\\u0430\\u0432\\u044b\\u043a\", \"\\u043d\\u0430\\u0432\\u044b\\u043a\", \"\\u043d\\u0430\\u0432\\u044b\\u043a\", \"\\u043d\\u0430\\u0432\\u044b\\u043a\", \"\\u043d\\u0430\\u0433\\u0440\\u0435\\u0432\\u0430\\u0442\\u044c\", \"\\u043d\\u0430\\u0437\\u0432\\u0430\\u043d\\u0438\\u0435\", \"\\u043d\\u0430\\u0437\\u0432\\u0430\\u043d\\u0438\\u0435\", \"\\u043d\\u0430\\u0437\\u0432\\u0430\\u043d\\u0438\\u0435\", \"\\u043d\\u0430\\u0437\\u0432\\u0430\\u043d\\u0438\\u0435\", \"\\u043d\\u0430\\u0437\\u0432\\u0430\\u043d\\u0438\\u0435\", \"\\u043d\\u0430\\u0437\\u0432\\u0430\\u043d\\u0438\\u0435\", \"\\u043d\\u0430\\u0437\\u0432\\u0430\\u043d\\u0438\\u0435\", \"\\u043d\\u0430\\u0437\\u0432\\u0430\\u043d\\u0438\\u0435\", \"\\u043d\\u0430\\u0437\\u0432\\u0430\\u043d\\u0438\\u0435\", \"\\u043d\\u0430\\u0437\\u0432\\u0430\\u043d\\u0438\\u0435\", \"\\u043d\\u0430\\u0437\\u0432\\u0430\\u043d\\u0438\\u0435 \\u0441\\u0442\\u0430\\u043d\\u0446\\u0438\\u044f\", \"\\u043d\\u0430\\u043a\\u043e\\u043d\\u0435\\u0447\\u043d\\u0438\\u043a\", \"\\u043d\\u0430\\u043f\\u0440\\u0430\\u0432\\u043b\\u0435\\u043d\\u0438\\u0435\", \"\\u043d\\u0430\\u043f\\u0440\\u0430\\u0432\\u043b\\u0435\\u043d\\u0438\\u0435\", \"\\u043d\\u0430\\u043f\\u0440\\u0430\\u0432\\u043b\\u0435\\u043d\\u0438\\u0435\", \"\\u043d\\u0430\\u043f\\u0440\\u0430\\u0432\\u043b\\u0435\\u043d\\u0438\\u0435\", \"\\u043d\\u0430\\u043f\\u0440\\u0430\\u0432\\u043b\\u0435\\u043d\\u0438\\u0435\", \"\\u043d\\u0430\\u043f\\u0440\\u0430\\u0432\\u043b\\u0435\\u043d\\u0438\\u0435\", \"\\u043d\\u0430\\u043f\\u0440\\u0430\\u0432\\u043b\\u0435\\u043d\\u0438\\u0435\", \"\\u043d\\u0430\\u043f\\u0440\\u0430\\u0432\\u043b\\u0435\\u043d\\u0438\\u0435\", \"\\u043d\\u0430\\u043f\\u0440\\u0430\\u0432\\u043b\\u0435\\u043d\\u0438\\u0435\", \"\\u043d\\u0430\\u043f\\u0440\\u0430\\u0432\\u043b\\u0435\\u043d\\u0438\\u0435\", \"\\u043d\\u0430\\u043f\\u0440\\u0438\\u043c\\u0435\\u0440\", \"\\u043d\\u0430\\u043f\\u0440\\u0438\\u043c\\u0435\\u0440\", \"\\u043d\\u0430\\u043f\\u0440\\u0438\\u043c\\u0435\\u0440\", \"\\u043d\\u0430\\u043f\\u0440\\u0438\\u043c\\u0435\\u0440\", \"\\u043d\\u0430\\u043f\\u0440\\u0438\\u043c\\u0435\\u0440\", \"\\u043d\\u0430\\u043f\\u0440\\u0438\\u043c\\u0435\\u0440\", \"\\u043d\\u0430\\u043f\\u0440\\u0438\\u043c\\u0435\\u0440\", \"\\u043d\\u0430\\u043f\\u0440\\u0438\\u043c\\u0435\\u0440\", \"\\u043d\\u0430\\u043f\\u0440\\u0438\\u043c\\u0435\\u0440\", \"\\u043d\\u0430\\u043f\\u0440\\u0438\\u043c\\u0435\\u0440\", \"\\u043d\\u0430\\u043f\\u0440\\u0438\\u043c\\u0435\\u0440\", \"\\u043d\\u0430\\u043f\\u0440\\u0438\\u043c\\u0435\\u0440\", \"\\u043d\\u0430\\u043f\\u0440\\u0438\\u043c\\u0435\\u0440\", \"\\u043d\\u0430\\u043f\\u0440\\u0438\\u043c\\u0435\\u0440\", \"\\u043d\\u0430\\u043f\\u0440\\u0438\\u043c\\u0435\\u0440\", \"\\u043d\\u0430\\u0441\\u043b\\u0435\\u0434\\u043d\\u0438\\u043a\", \"\\u043d\\u0430\\u0441\\u0442\\u0440\\u0430\\u0438\\u0432\\u0430\\u0442\\u044c\", \"\\u043d\\u0430\\u0441\\u0442\\u0440\\u0430\\u0438\\u0432\\u0430\\u0442\\u044c\", \"\\u043d\\u0430\\u0441\\u0442\\u0440\\u0430\\u0438\\u0432\\u0430\\u0442\\u044c\", \"\\u043d\\u0430\\u0441\\u0442\\u0440\\u0430\\u0438\\u0432\\u0430\\u0442\\u044c\", \"\\u043d\\u0430\\u0441\\u0442\\u0440\\u0430\\u0438\\u0432\\u0430\\u0442\\u044c\", \"\\u043d\\u0430\\u0441\\u0442\\u0440\\u0430\\u0438\\u0432\\u0430\\u0442\\u044c\", \"\\u043d\\u0430\\u0441\\u0442\\u0440\\u0430\\u0438\\u0432\\u0430\\u0442\\u044c\", \"\\u043d\\u0430\\u0441\\u0442\\u0440\\u0430\\u0438\\u0432\\u0430\\u0442\\u044c\", \"\\u043d\\u0430\\u0441\\u0442\\u0440\\u0430\\u0438\\u0432\\u0430\\u0442\\u044c\", \"\\u043d\\u0430\\u0441\\u0442\\u0440\\u0430\\u0438\\u0432\\u0430\\u0442\\u044c\", \"\\u043d\\u0430\\u0441\\u0442\\u0440\\u0430\\u0438\\u0432\\u0430\\u0442\\u044c\", \"\\u043d\\u0430\\u0441\\u0442\\u0440\\u0430\\u0438\\u0432\\u0430\\u0442\\u044c \\u043a\\u043e\\u043d\\u0444\\u0438\\u0433\\u0443\\u0440\\u0430\\u0446\\u0438\\u043e\\u043d\\u043d\\u044b\\u0439\", \"\\u043d\\u0430\\u0441\\u0442\\u0440\\u0430\\u0438\\u0432\\u0430\\u0442\\u044c \\u043a\\u043e\\u043d\\u0444\\u0438\\u0433\\u0443\\u0440\\u0430\\u0446\\u0438\\u043e\\u043d\\u043d\\u044b\\u0439 \\u0444\\u0430\\u0439\\u043b\", \"\\u043d\\u0430\\u0441\\u0442\\u0440\\u043e\\u0439\\u043a\\u0430\", \"\\u043d\\u0430\\u0441\\u0442\\u0440\\u043e\\u0439\\u043a\\u0430\", \"\\u043d\\u0430\\u0441\\u0442\\u0440\\u043e\\u0439\\u043a\\u0430\", \"\\u043d\\u0430\\u0441\\u0442\\u0440\\u043e\\u0439\\u043a\\u0430\", \"\\u043d\\u0430\\u0441\\u0442\\u0440\\u043e\\u0439\\u043a\\u0430\", \"\\u043d\\u0430\\u0441\\u0442\\u0440\\u043e\\u0439\\u043a\\u0430\", \"\\u043d\\u0430\\u0441\\u0442\\u0440\\u043e\\u0439\\u043a\\u0430\", \"\\u043d\\u0430\\u0441\\u0442\\u0440\\u043e\\u0439\\u043a\\u0430\", \"\\u043d\\u0430\\u0441\\u0442\\u0440\\u043e\\u0439\\u043a\\u0430\", \"\\u043d\\u0430\\u0441\\u0442\\u0440\\u043e\\u0439\\u043a\\u0430\", \"\\u043d\\u0430\\u0441\\u0442\\u0440\\u043e\\u0439\\u043a\\u0430\", \"\\u043d\\u0430\\u0441\\u0442\\u0440\\u043e\\u0439\\u043a\\u0430\", \"\\u043d\\u0430\\u0441\\u0442\\u0440\\u043e\\u0439\\u043a\\u0430 \\u0441\\u0435\\u0442\\u0435\\u0432\\u043e\\u0439\", \"\\u043d\\u0430\\u0442\\u0438\\u0432\\u043d\\u044b\\u0439\", \"\\u043d\\u0430\\u0447\\u0438\\u043d\\u0430\\u0442\\u044c \\u043f\\u0438\\u0441\\u0430\\u0442\\u044c\", \"\\u043d\\u0435\\u0431\\u043b\\u043e\\u043a\\u0438\\u0440\\u0443\\u044e\\u0449\\u0438\\u0439\", \"\\u043d\\u0435\\u0434\\u043e\\u0441\\u0442\\u0443\\u043f\\u043d\\u043e\\u0441\\u0442\\u044c\", \"\\u043d\\u0438\\u0437\\u043a\\u0438\\u0439 \\u043b\\u043e\\u0433\\u0438\\u0447\\u0435\\u0441\\u043a\\u0438\\u0439\", \"\\u043d\\u0438\\u0437\\u043a\\u0438\\u0439 \\u043b\\u043e\\u0433\\u0438\\u0447\\u0435\\u0441\\u043a\\u0438\\u0439 \\u0443\\u0440\\u043e\\u0432\\u0435\\u043d\\u044c\", \"\\u043d\\u043e\\u0432\\u044b\\u0439\", \"\\u043d\\u043e\\u0432\\u044b\\u0439\", \"\\u043d\\u043e\\u0432\\u044b\\u0439\", \"\\u043d\\u043e\\u0432\\u044b\\u0439\", \"\\u043d\\u043e\\u0432\\u044b\\u0439\", \"\\u043d\\u043e\\u0432\\u044b\\u0439\", \"\\u043d\\u043e\\u0432\\u044b\\u0439\", \"\\u043d\\u043e\\u0432\\u044b\\u0439\", \"\\u043d\\u043e\\u0432\\u044b\\u0439\", \"\\u043d\\u043e\\u0432\\u044b\\u0439\", \"\\u043d\\u043e\\u0432\\u044b\\u0439\", \"\\u043d\\u043e\\u0432\\u044b\\u0439\", \"\\u043d\\u043e\\u0432\\u044b\\u0439\", \"\\u043d\\u043e\\u0432\\u044b\\u0439\", \"\\u043d\\u043e\\u0432\\u044b\\u0439\", \"\\u043d\\u043e\\u0432\\u044b\\u0439 \\u0430\\u043b\\u0433\\u043e\\u0440\\u0438\\u0442\\u043c\", \"\\u043d\\u043e\\u0432\\u044b\\u0439 \\u043f\\u0430\\u0440\\u0441\\u0435\\u0440\", \"\\u043d\\u043e\\u043c\\u0438\\u043d\\u0430\\u0446\\u0438\\u044f\", \"\\u043d\\u043e\\u0442\\u0430\\u0446\\u0438\\u044f\", \"\\u043d\\u043e\\u0442\\u0430\\u0446\\u0438\\u044f\", \"\\u043d\\u043e\\u0443\\u0442\\u0431\\u0443\\u043a\", \"\\u043d\\u043e\\u0443\\u0442\\u0431\\u0443\\u043a\", \"\\u043d\\u043e\\u0443\\u0442\\u0431\\u0443\\u043a\", \"\\u043d\\u043e\\u0443\\u0442\\u0431\\u0443\\u043a\", \"\\u043d\\u043e\\u0443\\u0442\\u0431\\u0443\\u043a\", \"\\u043d\\u043e\\u0443\\u0442\\u0431\\u0443\\u043a\", \"\\u043d\\u0443\\u0436\\u043d\\u043e\", \"\\u043d\\u0443\\u0436\\u043d\\u043e\", \"\\u043d\\u0443\\u0436\\u043d\\u043e\", \"\\u043d\\u0443\\u0436\\u043d\\u043e\", \"\\u043d\\u0443\\u0436\\u043d\\u043e\", \"\\u043d\\u0443\\u0436\\u043d\\u043e\", \"\\u043d\\u0443\\u0436\\u043d\\u043e\", \"\\u043d\\u0443\\u0436\\u043d\\u043e\", \"\\u043d\\u0443\\u0436\\u043d\\u043e\", \"\\u043d\\u0443\\u0436\\u043d\\u043e\", \"\\u043d\\u0443\\u0436\\u043d\\u043e\", \"\\u043d\\u0443\\u0436\\u043d\\u043e\", \"\\u043d\\u0443\\u0436\\u043d\\u043e\", \"\\u043d\\u0443\\u0436\\u043d\\u043e\", \"\\u043e\\u0431\\u0435\\u0440\\u0442\\u043a\\u0430\", \"\\u043e\\u0431\\u0435\\u0441\\u043f\\u0435\\u0447\\u0435\\u043d\\u0438\\u0435 \\u0431\\u0435\\u0437\\u043e\\u043f\\u0430\\u0441\\u043d\\u043e\\u0441\\u0442\\u044c\", \"\\u043e\\u0431\\u0435\\u0441\\u043f\\u0435\\u0447\\u0435\\u043d\\u0438\\u0435 \\u0431\\u0435\\u0437\\u043e\\u043f\\u0430\\u0441\\u043d\\u043e\\u0441\\u0442\\u044c\", \"\\u043e\\u0431\\u0435\\u0441\\u043f\\u0435\\u0447\\u0438\\u0432\\u0430\\u0442\\u044c\", \"\\u043e\\u0431\\u0435\\u0441\\u043f\\u0435\\u0447\\u0438\\u0432\\u0430\\u0442\\u044c\", \"\\u043e\\u0431\\u0435\\u0441\\u043f\\u0435\\u0447\\u0438\\u0432\\u0430\\u0442\\u044c\", \"\\u043e\\u0431\\u0435\\u0441\\u043f\\u0435\\u0447\\u0438\\u0432\\u0430\\u0442\\u044c\", \"\\u043e\\u0431\\u0435\\u0441\\u043f\\u0435\\u0447\\u0438\\u0432\\u0430\\u0442\\u044c\", \"\\u043e\\u0431\\u0435\\u0441\\u043f\\u0435\\u0447\\u0438\\u0432\\u0430\\u0442\\u044c\", \"\\u043e\\u0431\\u0435\\u0441\\u043f\\u0435\\u0447\\u0438\\u0432\\u0430\\u0442\\u044c\", \"\\u043e\\u0431\\u0435\\u0441\\u043f\\u0435\\u0447\\u0438\\u0432\\u0430\\u0442\\u044c\", \"\\u043e\\u0431\\u0435\\u0441\\u043f\\u0435\\u0447\\u0438\\u0432\\u0430\\u0442\\u044c\", \"\\u043e\\u0431\\u0435\\u0441\\u043f\\u0435\\u0447\\u0438\\u0432\\u0430\\u0442\\u044c\", \"\\u043e\\u0431\\u0435\\u0441\\u043f\\u0435\\u0447\\u0438\\u0432\\u0430\\u0442\\u044c\", \"\\u043e\\u0431\\u0435\\u0441\\u043f\\u0435\\u0447\\u0438\\u0432\\u0430\\u0442\\u044c\", \"\\u043e\\u0431\\u0435\\u0441\\u043f\\u0435\\u0447\\u0438\\u0432\\u0430\\u0442\\u044c\", \"\\u043e\\u0431\\u043b\\u0430\\u0441\\u0442\\u044c \\u0432\\u0438\\u0434\\u0438\\u043c\\u043e\\u0441\\u0442\\u044c\", \"\\u043e\\u0431\\u043b\\u0430\\u0441\\u0442\\u044c \\u0432\\u0438\\u0434\\u0438\\u043c\\u043e\\u0441\\u0442\\u044c\", \"\\u043e\\u0431\\u043d\\u043e\\u0432\\u043b\\u0435\\u043d\\u0438\\u0435 \\u043b\\u043e\\u043a\\u0430\\u043b\\u044c\\u043d\\u044b\\u0439\", \"\\u043e\\u0431\\u043d\\u043e\\u0432\\u043b\\u0435\\u043d\\u0438\\u0435 \\u043b\\u043e\\u043a\\u0430\\u043b\\u044c\\u043d\\u044b\\u0439 \\u0441\\u043e\\u0441\\u0442\\u043e\\u044f\\u043d\\u0438\\u0435\", \"\\u043e\\u0431\\u043d\\u043e\\u0432\\u043b\\u044f\\u0442\\u044c \\u0437\\u043d\\u0430\\u0447\\u0435\\u043d\\u0438\\u0435\", \"\\u043e\\u0431\\u043d\\u043e\\u0432\\u043b\\u044f\\u0442\\u044c \\u0437\\u043d\\u0430\\u0447\\u0435\\u043d\\u0438\\u0435\", \"\\u043e\\u0431\\u043e\\u0433\\u0440\\u0435\\u0432\", \"\\u043e\\u0431\\u043e\\u0437\\u043d\\u0430\\u0447\\u0435\\u043d\\u0438\\u0435\", \"\\u043e\\u0431\\u0440\\u0430\\u0437\\u0435\\u0446\", \"\\u043e\\u0431\\u0440\\u0430\\u0437\\u0435\\u0446\", \"\\u043e\\u0431\\u0440\\u0430\\u0437\\u043e\\u0432\\u0430\\u043d\\u0438\\u0435\", \"\\u043e\\u0431\\u0440\\u0430\\u0437\\u043e\\u0432\\u0430\\u043d\\u0438\\u0435\", \"\\u043e\\u0431\\u0440\\u0430\\u0437\\u043e\\u0432\\u0430\\u043d\\u0438\\u0435\", \"\\u043e\\u0431\\u0440\\u0430\\u0437\\u043e\\u0432\\u0430\\u043d\\u0438\\u0435\", \"\\u043e\\u0431\\u0440\\u0430\\u0437\\u043e\\u0432\\u0430\\u043d\\u0438\\u0435\", \"\\u043e\\u0431\\u0440\\u0430\\u0437\\u043e\\u0432\\u0430\\u043d\\u0438\\u0435\", \"\\u043e\\u0431\\u0440\\u0430\\u0437\\u043e\\u0432\\u0430\\u0442\\u0435\\u043b\\u044c\\u043d\\u044b\\u0439\", \"\\u043e\\u0431\\u0440\\u0430\\u0437\\u043e\\u0432\\u0430\\u0442\\u0435\\u043b\\u044c\\u043d\\u044b\\u0439\", \"\\u043e\\u0431\\u0440\\u0430\\u0437\\u043e\\u0432\\u0430\\u0442\\u0435\\u043b\\u044c\\u043d\\u044b\\u0439 \\u043f\\u0440\\u043e\\u0433\\u0440\\u0430\\u043c\\u043c\\u0430\", \"\\u043e\\u0431\\u0440\\u0430\\u0449\\u0435\\u043d\\u0438\\u0435\", \"\\u043e\\u0431\\u0440\\u0430\\u0449\\u0435\\u043d\\u0438\\u0435\", \"\\u043e\\u0431\\u0440\\u0430\\u0449\\u0435\\u043d\\u0438\\u0435\", \"\\u043e\\u0431\\u0440\\u0430\\u0449\\u0435\\u043d\\u0438\\u0435\", \"\\u043e\\u0431\\u0441\\u043b\\u0443\\u0436\\u0438\\u0432\\u0430\\u043d\\u0438\\u0435\", \"\\u043e\\u0431\\u0441\\u043b\\u0443\\u0436\\u0438\\u0432\\u0430\\u043d\\u0438\\u0435\", \"\\u043e\\u0431\\u0441\\u043b\\u0443\\u0436\\u0438\\u0432\\u0430\\u043d\\u0438\\u0435\", \"\\u043e\\u0431\\u0441\\u043b\\u0443\\u0436\\u0438\\u0432\\u0430\\u043d\\u0438\\u0435\", \"\\u043e\\u0431\\u0441\\u043b\\u0443\\u0436\\u0438\\u0432\\u0430\\u043d\\u0438\\u0435\", \"\\u043e\\u0431\\u0443\\u0447\\u0435\\u043d\\u0438\\u0435\", \"\\u043e\\u0431\\u0443\\u0447\\u0435\\u043d\\u0438\\u0435\", \"\\u043e\\u0431\\u0443\\u0447\\u0435\\u043d\\u0438\\u0435\", \"\\u043e\\u0431\\u0443\\u0447\\u0435\\u043d\\u0438\\u0435\", \"\\u043e\\u0431\\u0443\\u0447\\u0435\\u043d\\u0438\\u0435\", \"\\u043e\\u0431\\u0443\\u0447\\u0435\\u043d\\u0438\\u0435\", \"\\u043e\\u0431\\u0443\\u0447\\u0435\\u043d\\u0438\\u0435\", \"\\u043e\\u0431\\u0443\\u0447\\u0435\\u043d\\u0438\\u0435\", \"\\u043e\\u0431\\u0443\\u0447\\u0435\\u043d\\u0438\\u0435\", \"\\u043e\\u0431\\u044a\\u0435\\u043a\\u0442\", \"\\u043e\\u0431\\u044a\\u0435\\u043a\\u0442\", \"\\u043e\\u0431\\u044a\\u0435\\u043a\\u0442\", \"\\u043e\\u0431\\u044a\\u0435\\u043a\\u0442\", \"\\u043e\\u0431\\u044a\\u0435\\u043a\\u0442\", \"\\u043e\\u0431\\u044a\\u0435\\u043a\\u0442\", \"\\u043e\\u0431\\u044a\\u0435\\u043a\\u0442\", \"\\u043e\\u0431\\u044a\\u0435\\u043a\\u0442\", \"\\u043e\\u0431\\u044a\\u0435\\u043a\\u0442\", \"\\u043e\\u0431\\u044a\\u0435\\u043a\\u0442\", \"\\u043e\\u0431\\u044a\\u0435\\u043a\\u0442\", \"\\u043e\\u0433\\u043d\\u0435\\u043d\\u043d\\u044b\\u0439\", \"\\u043e\\u0434\\u043d\\u0430\\u043a\\u043e\", \"\\u043e\\u0434\\u043d\\u0430\\u043a\\u043e\", \"\\u043e\\u0434\\u043d\\u0430\\u043a\\u043e\", \"\\u043e\\u0434\\u043d\\u0430\\u043a\\u043e\", \"\\u043e\\u0434\\u043d\\u0430\\u043a\\u043e\", \"\\u043e\\u0434\\u043d\\u0430\\u043a\\u043e\", \"\\u043e\\u0434\\u043d\\u0430\\u043a\\u043e\", \"\\u043e\\u0434\\u043d\\u0430\\u043a\\u043e\", \"\\u043e\\u0434\\u043d\\u0430\\u043a\\u043e\", \"\\u043e\\u0434\\u043d\\u0430\\u043a\\u043e\", \"\\u043e\\u0434\\u043d\\u0430\\u043a\\u043e\", \"\\u043e\\u0434\\u043d\\u0430\\u043a\\u043e\", \"\\u043e\\u0437\\u0443\", \"\\u043e\\u0437\\u0443\", \"\\u043e\\u0437\\u0443\", \"\\u043e\\u0437\\u0443\", \"\\u043e\\u043a\\u043d\\u043e\", \"\\u043e\\u043a\\u043d\\u043e\", \"\\u043e\\u043a\\u043d\\u043e\", \"\\u043e\\u043a\\u043d\\u043e\", \"\\u043e\\u043a\\u043d\\u043e\", \"\\u043e\\u043a\\u043d\\u043e\", \"\\u043e\\u043a\\u043d\\u043e\", \"\\u043e\\u043a\\u043e\\u043b\\u043e \\u0434\\u043e\\u043b\\u043b\\u0430\\u0440\", \"\\u043e\\u043a\\u0440\\u0435\\u0441\\u0442\\u043d\\u043e\\u0441\\u0442\\u044c\", \"\\u043e\\u043a\\u0440\\u0435\\u0441\\u0442\\u043d\\u043e\\u0441\\u0442\\u044c\", \"\\u043e\\u043f\\u0435\\u0440\\u0430\\u0442\\u043e\\u0440\", \"\\u043e\\u043f\\u0435\\u0440\\u0430\\u0442\\u043e\\u0440\", \"\\u043e\\u043f\\u0435\\u0440\\u0430\\u0442\\u043e\\u0440\", \"\\u043e\\u043f\\u0435\\u0440\\u0430\\u0442\\u043e\\u0440\", \"\\u043e\\u043f\\u0435\\u0440\\u0430\\u0442\\u043e\\u0440\", \"\\u043e\\u043f\\u0435\\u0440\\u0430\\u0442\\u043e\\u0440\", \"\\u043e\\u043f\\u0435\\u0440\\u0430\\u0442\\u043e\\u0440\", \"\\u043e\\u043f\\u0435\\u0440\\u0430\\u0442\\u043e\\u0440 \\u043e\\u043f\\u0435\\u0440\\u0430\\u0442\\u043e\\u0440\", \"\\u043e\\u043f\\u0435\\u0440\\u0430\\u0446\\u0438\\u043e\\u043d\\u043d\\u044b\\u0439\", \"\\u043e\\u043f\\u0435\\u0440\\u0430\\u0446\\u0438\\u043e\\u043d\\u043d\\u044b\\u0439\", \"\\u043e\\u043f\\u0435\\u0440\\u0430\\u0446\\u0438\\u043e\\u043d\\u043d\\u044b\\u0439\", \"\\u043e\\u043f\\u0435\\u0440\\u0430\\u0446\\u0438\\u043e\\u043d\\u043d\\u044b\\u0439\", \"\\u043e\\u043f\\u0435\\u0440\\u0430\\u0446\\u0438\\u043e\\u043d\\u043d\\u044b\\u0439\", \"\\u043e\\u043f\\u0435\\u0440\\u0430\\u0446\\u0438\\u043e\\u043d\\u043d\\u044b\\u0439\", \"\\u043e\\u043f\\u0435\\u0440\\u0430\\u0446\\u0438\\u043e\\u043d\\u043d\\u044b\\u0439\", \"\\u043e\\u043f\\u0435\\u0440\\u0430\\u0446\\u0438\\u043e\\u043d\\u043d\\u044b\\u0439 \\u0441\\u0438\\u0441\\u0442\\u0435\\u043c\\u0430\", \"\\u043e\\u043f\\u0435\\u0440\\u0430\\u0446\\u0438\\u043e\\u043d\\u043d\\u044b\\u0439 \\u0441\\u0438\\u0441\\u0442\\u0435\\u043c\\u0430\", \"\\u043e\\u043f\\u0435\\u0440\\u0430\\u0446\\u0438\\u043e\\u043d\\u043d\\u044b\\u0439 \\u0441\\u0438\\u0441\\u0442\\u0435\\u043c\\u0430\", \"\\u043e\\u043f\\u0435\\u0440\\u0430\\u0446\\u0438\\u043e\\u043d\\u043d\\u044b\\u0439 \\u0441\\u0438\\u0441\\u0442\\u0435\\u043c\\u0430\", \"\\u043e\\u043f\\u0435\\u0440\\u0430\\u0446\\u0438\\u043e\\u043d\\u043d\\u044b\\u0439 \\u0441\\u0438\\u0441\\u0442\\u0435\\u043c\\u0430\", \"\\u043e\\u043f\\u0435\\u0440\\u0430\\u0446\\u0438\\u043e\\u043d\\u043d\\u044b\\u0439 \\u0441\\u0438\\u0441\\u0442\\u0435\\u043c\\u0430\", \"\\u043e\\u043f\\u0435\\u0440\\u0430\\u0446\\u0438\\u043e\\u043d\\u043d\\u044b\\u0439 \\u0441\\u0438\\u0441\\u0442\\u0435\\u043c\\u0430\", \"\\u043e\\u043f\\u043e\\u0432\\u0435\\u0449\\u0435\\u043d\\u0438\\u0435\", \"\\u043e\\u043f\\u043e\\u0432\\u0435\\u0449\\u0435\\u043d\\u0438\\u0435\", \"\\u043e\\u043f\\u0442\\u0438\\u043c\\u0438\\u0437\\u0430\\u0446\\u0438\\u044f\", \"\\u043e\\u043f\\u0442\\u0438\\u043c\\u0438\\u0437\\u0430\\u0446\\u0438\\u044f\", \"\\u043e\\u043f\\u0442\\u0438\\u043c\\u0438\\u0437\\u0430\\u0446\\u0438\\u044f\", \"\\u043e\\u043f\\u0442\\u0438\\u043c\\u0438\\u0437\\u0430\\u0446\\u0438\\u044f\", \"\\u043e\\u043f\\u0442\\u0438\\u043c\\u0438\\u0437\\u0430\\u0446\\u0438\\u044f\", \"\\u043e\\u043f\\u044b\\u0442\", \"\\u043e\\u043f\\u044b\\u0442\", \"\\u043e\\u043f\\u044b\\u0442\", \"\\u043e\\u043f\\u044b\\u0442\", \"\\u043e\\u043f\\u044b\\u0442\", \"\\u043e\\u043f\\u044b\\u0442\", \"\\u043e\\u043f\\u044b\\u0442\", \"\\u043e\\u043f\\u044b\\u0442\", \"\\u043e\\u043f\\u044b\\u0442\", \"\\u043e\\u043f\\u044b\\u0442\", \"\\u043e\\u043f\\u044b\\u0442\", \"\\u043e\\u043f\\u044b\\u0442 \\u0440\\u0430\\u0431\\u043e\\u0442\\u0430\", \"\\u043e\\u043f\\u044b\\u0442 \\u0440\\u0430\\u0431\\u043e\\u0442\\u0430\", \"\\u043e\\u0441\\u043d\\u043e\\u0432\\u0430\", \"\\u043e\\u0441\\u043d\\u043e\\u0432\\u0430\", \"\\u043e\\u0441\\u043d\\u043e\\u0432\\u0430\", \"\\u043e\\u0441\\u043d\\u043e\\u0432\\u0430\", \"\\u043e\\u0441\\u043d\\u043e\\u0432\\u0430\", \"\\u043e\\u0441\\u043d\\u043e\\u0432\\u0430\", \"\\u043e\\u0441\\u043d\\u043e\\u0432\\u0430\", \"\\u043e\\u0441\\u043d\\u043e\\u0432\\u0430\", \"\\u043e\\u0441\\u043d\\u043e\\u0432\\u0430\", \"\\u043e\\u0441\\u043d\\u043e\\u0432\\u0430\", \"\\u043e\\u0441\\u043d\\u043e\\u0432\\u0430\", \"\\u043e\\u0441\\u043d\\u043e\\u0432\\u0430\", \"\\u043e\\u0441\\u043d\\u043e\\u0432\\u043d\\u043e\\u0439\", \"\\u043e\\u0441\\u043d\\u043e\\u0432\\u043d\\u043e\\u0439\", \"\\u043e\\u0441\\u043d\\u043e\\u0432\\u043d\\u043e\\u0439\", \"\\u043e\\u0441\\u043d\\u043e\\u0432\\u043d\\u043e\\u0439\", \"\\u043e\\u0441\\u043d\\u043e\\u0432\\u043d\\u043e\\u0439\", \"\\u043e\\u0441\\u043d\\u043e\\u0432\\u043d\\u043e\\u0439\", \"\\u043e\\u0441\\u043d\\u043e\\u0432\\u043d\\u043e\\u0439\", \"\\u043e\\u0441\\u043d\\u043e\\u0432\\u043d\\u043e\\u0439\", \"\\u043e\\u0441\\u043d\\u043e\\u0432\\u043d\\u043e\\u0439\", \"\\u043e\\u0441\\u043d\\u043e\\u0432\\u043d\\u043e\\u0439\", \"\\u043e\\u0441\\u043d\\u043e\\u0432\\u043d\\u043e\\u0439\", \"\\u043e\\u0441\\u043d\\u043e\\u0432\\u043d\\u043e\\u0439\", \"\\u043e\\u0441\\u043d\\u043e\\u0432\\u043d\\u043e\\u0439\", \"\\u043e\\u0441\\u043d\\u043e\\u0432\\u043d\\u043e\\u0439\", \"\\u043e\\u0442\\u043c\\u0435\\u043d\\u0430\", \"\\u043e\\u0442\\u043c\\u0435\\u043d\\u0430\", \"\\u043e\\u0442\\u043c\\u0435\\u043d\\u0430\", \"\\u043e\\u0442\\u043c\\u0435\\u043d\\u044f\\u0442\\u044c\", \"\\u043e\\u0442\\u043c\\u0435\\u043d\\u044f\\u0442\\u044c\", \"\\u043e\\u0442\\u043c\\u0435\\u043d\\u044f\\u0442\\u044c\", \"\\u043e\\u0442\\u043e\\u0431\\u0440\\u0430\\u0436\\u0430\\u0442\\u044c \\u0433\\u0440\\u0430\\u0444\\u0438\\u043a\", \"\\u043e\\u0447\\u043a\\u043e\", \"\\u043e\\u0448\\u0438\\u0431\\u043a\\u0430\", \"\\u043e\\u0448\\u0438\\u0431\\u043a\\u0430\", \"\\u043e\\u0448\\u0438\\u0431\\u043a\\u0430\", \"\\u043e\\u0448\\u0438\\u0431\\u043a\\u0430\", \"\\u043e\\u0448\\u0438\\u0431\\u043a\\u0430\", \"\\u043e\\u0448\\u0438\\u0431\\u043a\\u0430\", \"\\u043e\\u0448\\u0438\\u0431\\u043a\\u0430\", \"\\u043e\\u0448\\u0438\\u0431\\u043a\\u0430\", \"\\u043e\\u0448\\u0438\\u0431\\u043a\\u0430\", \"\\u043e\\u0448\\u0438\\u0431\\u043a\\u0430\", \"\\u043e\\u0448\\u0438\\u0431\\u043a\\u0430\", \"\\u043e\\u0448\\u0438\\u0431\\u043a\\u0430\", \"\\u043e\\u0448\\u0438\\u0431\\u043a\\u0430\", \"\\u043e\\u0448\\u0438\\u0431\\u043a\\u0430\", \"\\u043f\\u0430\\u043a\\u0435\\u0442\", \"\\u043f\\u0430\\u043a\\u0435\\u0442\", \"\\u043f\\u0430\\u043a\\u0435\\u0442\", \"\\u043f\\u0430\\u043a\\u0435\\u0442\", \"\\u043f\\u0430\\u043a\\u0435\\u0442\", \"\\u043f\\u0430\\u043a\\u0435\\u0442\", \"\\u043f\\u0430\\u043a\\u0435\\u0442\", \"\\u043f\\u0430\\u043a\\u0435\\u0442\", \"\\u043f\\u0430\\u043a\\u0435\\u0442\", \"\\u043f\\u0430\\u043a\\u0435\\u0442\", \"\\u043f\\u0430\\u043a\\u0435\\u0442 \\u0434\\u043e\\u0441\\u0442\\u0443\\u043f\\u043d\\u044b\\u0439\", \"\\u043f\\u0430\\u043a\\u0435\\u0442 \\u043a\\u043e\\u043c\\u0430\\u043d\\u0434\\u0430\", \"\\u043f\\u0430\\u043a\\u0435\\u0442 \\u0441\\u0443\\u0431\\u0434\", \"\\u043f\\u0430\\u043a\\u0435\\u0442 \\u0448\\u0440\\u0438\\u0444\\u0442\", \"\\u043f\\u0430\\u043a\\u0435\\u0442\\u043d\\u044b\\u0439\", \"\\u043f\\u0430\\u043f\\u043a\\u0430\", \"\\u043f\\u0430\\u043f\\u043a\\u0430\", \"\\u043f\\u0430\\u043f\\u043a\\u0430\", \"\\u043f\\u0430\\u043f\\u043a\\u0430 \\u043f\\u0430\\u043a\\u0435\\u0442\", \"\\u043f\\u0430\\u0440\\u0441\\u0435\\u0440\", \"\\u043f\\u0430\\u0440\\u0441\\u0438\\u043d\\u0433\", \"\\u043f\\u0430\\u0440\\u0441\\u0438\\u043d\\u0433\", \"\\u043f\\u0430\\u0440\\u0441\\u0438\\u043d\\u0433\", \"\\u043f\\u0430\\u0440\\u0442\\u0438\\u044f\", \"\\u043f\\u0430\\u0440\\u0442\\u0438\\u044f\", \"\\u043f\\u0430\\u0440\\u0442\\u0438\\u044f\", \"\\u043f\\u0430\\u0440\\u0442\\u0438\\u044f\", \"\\u043f\\u0435\\u0434\\u0430\\u043b\\u044c\", \"\\u043f\\u0435\\u0434\\u0430\\u043b\\u044c\", \"\\u043f\\u0435\\u0440\\u0432\\u044b\\u0439\", \"\\u043f\\u0435\\u0440\\u0432\\u044b\\u0439\", \"\\u043f\\u0435\\u0440\\u0432\\u044b\\u0439\", \"\\u043f\\u0435\\u0440\\u0432\\u044b\\u0439\", \"\\u043f\\u0435\\u0440\\u0432\\u044b\\u0439\", \"\\u043f\\u0435\\u0440\\u0432\\u044b\\u0439\", \"\\u043f\\u0435\\u0440\\u0432\\u044b\\u0439\", \"\\u043f\\u0435\\u0440\\u0432\\u044b\\u0439\", \"\\u043f\\u0435\\u0440\\u0432\\u044b\\u0439\", \"\\u043f\\u0435\\u0440\\u0432\\u044b\\u0439\", \"\\u043f\\u0435\\u0440\\u0432\\u044b\\u0439\", \"\\u043f\\u0435\\u0440\\u0432\\u044b\\u0439\", \"\\u043f\\u0435\\u0440\\u0432\\u044b\\u0439\", \"\\u043f\\u0435\\u0440\\u0432\\u044b\\u0439\", \"\\u043f\\u0435\\u0440\\u0432\\u044b\\u0439\", \"\\u043f\\u0435\\u0440\\u0432\\u044b\\u0439 \\u0430\\u0440\\u0433\\u0443\\u043c\\u0435\\u043d\\u0442\", \"\\u043f\\u0435\\u0440\\u0432\\u044b\\u0439 \\u043f\\u043b\\u0430\\u043d\", \"\\u043f\\u0435\\u0440\\u0435\\u043c\\u0435\\u043d\\u043d\\u044b\\u0439\", \"\\u043f\\u0435\\u0440\\u0435\\u043c\\u0435\\u043d\\u043d\\u044b\\u0439\", \"\\u043f\\u0435\\u0440\\u0435\\u043c\\u0435\\u043d\\u043d\\u044b\\u0439\", \"\\u043f\\u0435\\u0440\\u0435\\u043c\\u0435\\u043d\\u043d\\u044b\\u0439\", \"\\u043f\\u0435\\u0440\\u0435\\u043c\\u0435\\u043d\\u043d\\u044b\\u0439\", \"\\u043f\\u0435\\u0440\\u0435\\u043c\\u0435\\u043d\\u043d\\u044b\\u0439\", \"\\u043f\\u0435\\u0440\\u0435\\u043c\\u0435\\u043d\\u043d\\u044b\\u0439\", \"\\u043f\\u0435\\u0440\\u0435\\u043c\\u0435\\u043d\\u043d\\u044b\\u0439\", \"\\u043f\\u0435\\u0440\\u0435\\u043c\\u0435\\u043d\\u043d\\u044b\\u0439\", \"\\u043f\\u0435\\u0440\\u0435\\u043c\\u0435\\u043d\\u043d\\u044b\\u0439\", \"\\u043f\\u0435\\u0440\\u0435\\u043c\\u0435\\u043d\\u043d\\u044b\\u0439 \\u043f\\u0430\\u043a\\u0435\\u0442\", \"\\u043f\\u0435\\u0440\\u0435\\u043d\\u043e\\u0441\", \"\\u043f\\u0435\\u0440\\u0435\\u043d\\u043e\\u0441\", \"\\u043f\\u0435\\u0440\\u0435\\u043d\\u043e\\u0441\", \"\\u043f\\u0435\\u0440\\u0441\\u043e\\u043d\\u0430\\u0436\", \"\\u043f\\u0435\\u0440\\u0441\\u043e\\u043d\\u0430\\u0436\", \"\\u043f\\u0435\\u0440\\u0441\\u043e\\u043d\\u0430\\u0436\", \"\\u043f\\u0435\\u0440\\u0441\\u043e\\u043d\\u0430\\u0436\", \"\\u043f\\u0435\\u0440\\u0441\\u043e\\u043d\\u0430\\u0436\", \"\\u043f\\u0435\\u0440\\u0441\\u043e\\u043d\\u0430\\u043b\\u0438\\u0437\\u0438\\u0440\\u043e\\u0432\\u0430\\u0442\\u044c\", \"\\u043f\\u0437\\u0443\", \"\\u043f\\u0438\\u0441\\u0430\\u0442\\u044c\", \"\\u043f\\u0438\\u0441\\u0430\\u0442\\u044c\", \"\\u043f\\u0438\\u0441\\u0430\\u0442\\u044c\", \"\\u043f\\u0438\\u0441\\u0430\\u0442\\u044c\", \"\\u043f\\u0438\\u0441\\u0430\\u0442\\u044c\", \"\\u043f\\u0438\\u0441\\u0430\\u0442\\u044c\", \"\\u043f\\u0438\\u0441\\u0430\\u0442\\u044c\", \"\\u043f\\u0438\\u0441\\u0430\\u0442\\u044c\", \"\\u043f\\u0438\\u0441\\u0430\\u0442\\u044c\", \"\\u043f\\u0438\\u0441\\u0430\\u0442\\u044c\", \"\\u043f\\u0438\\u0441\\u0430\\u0442\\u044c\", \"\\u043f\\u0438\\u0441\\u0430\\u0442\\u044c\", \"\\u043f\\u0438\\u0441\\u044c\\u043c\\u043e\", \"\\u043f\\u0438\\u0441\\u044c\\u043c\\u043e\", \"\\u043f\\u0438\\u0441\\u044c\\u043c\\u043e\", \"\\u043f\\u0438\\u0441\\u044c\\u043c\\u043e\", \"\\u043f\\u0438\\u0441\\u044c\\u043c\\u043e\", \"\\u043f\\u0438\\u0442\\u0430\\u043d\\u0438\\u0435\", \"\\u043f\\u0438\\u0442\\u0430\\u043d\\u0438\\u0435\", \"\\u043f\\u0438\\u0442\\u0430\\u043d\\u0438\\u0435\", \"\\u043f\\u0438\\u0442\\u0430\\u043d\\u0438\\u0435\", \"\\u043f\\u0438\\u0442\\u0430\\u043d\\u0438\\u0435\", \"\\u043f\\u0438\\u0442\\u0430\\u043d\\u0438\\u0435\", \"\\u043f\\u043b\\u0430\\u0432\\u0430\\u0442\\u044c \\u0430\\u0434\\u0440\\u0435\\u0441\", \"\\u043f\\u043b\\u0430\\u0441\\u0442\\u043c\\u0430\\u0441\\u0441\\u0430\", \"\\u043f\\u043b\\u0430\\u0442\\u0430\", \"\\u043f\\u043b\\u0430\\u0442\\u0430\", \"\\u043f\\u043b\\u0430\\u0442\\u0430\", \"\\u043f\\u043b\\u0430\\u0442\\u0430\", \"\\u043f\\u043b\\u0430\\u0442\\u0430\", \"\\u043f\\u043b\\u0430\\u0442\\u0430\", \"\\u043f\\u043b\\u0430\\u0442\\u0430\", \"\\u043f\\u043e\\u0431\\u0435\\u0434\\u0438\\u0442\\u0435\\u043b\\u044c\", \"\\u043f\\u043e\\u0431\\u0435\\u0434\\u0438\\u0442\\u0435\\u043b\\u044c\", \"\\u043f\\u043e\\u0434\\u0430\\u0432\\u043b\\u0435\\u043d\\u0438\\u0435\", \"\\u043f\\u043e\\u0434\\u0434\\u0435\\u0440\\u0436\\u043a\\u0430\", \"\\u043f\\u043e\\u0434\\u0434\\u0435\\u0440\\u0436\\u043a\\u0430\", \"\\u043f\\u043e\\u0434\\u0434\\u0435\\u0440\\u0436\\u043a\\u0430\", \"\\u043f\\u043e\\u0434\\u0434\\u0435\\u0440\\u0436\\u043a\\u0430\", \"\\u043f\\u043e\\u0434\\u0434\\u0435\\u0440\\u0436\\u043a\\u0430\", \"\\u043f\\u043e\\u0434\\u0434\\u0435\\u0440\\u0436\\u043a\\u0430\", \"\\u043f\\u043e\\u0434\\u0434\\u0435\\u0440\\u0436\\u043a\\u0430\", \"\\u043f\\u043e\\u0434\\u0434\\u0435\\u0440\\u0436\\u043a\\u0430\", \"\\u043f\\u043e\\u0434\\u0434\\u0435\\u0440\\u0436\\u043a\\u0430\", \"\\u043f\\u043e\\u0434\\u0434\\u0435\\u0440\\u0436\\u043a\\u0430\", \"\\u043f\\u043e\\u0434\\u0434\\u0435\\u0440\\u0436\\u043a\\u0430\", \"\\u043f\\u043e\\u0434\\u0434\\u0435\\u0440\\u0436\\u043a\\u0430\", \"\\u043f\\u043e\\u0434\\u0434\\u0435\\u0440\\u0436\\u043a\\u0430 \\u0444\\u0443\\u043d\\u043a\\u0446\\u0438\\u043e\\u043d\\u0430\\u043b\\u044c\\u043d\\u043e\\u0441\\u0442\\u044c\", \"\\u043f\\u043e\\u0434\\u0434\\u0435\\u0440\\u0436\\u043a\\u0430 \\u0444\\u0443\\u043d\\u043a\\u0446\\u0438\\u043e\\u043d\\u0430\\u043b\\u044c\\u043d\\u043e\\u0441\\u0442\\u044c \\u043f\\u0430\\u043a\\u0435\\u0442\", \"\\u043f\\u043e\\u0434\\u043a\\u043b\\u0430\\u0441\\u0441\", \"\\u043f\\u043e\\u0434\\u043e\\u0433\\u0440\\u0435\\u0432\\u0430\\u0442\\u044c\", \"\\u043f\\u043e\\u0434\\u043f\\u0438\\u0441\\u043a\\u0430\", \"\\u043f\\u043e\\u0434\\u043f\\u0438\\u0441\\u043a\\u0430\", \"\\u043f\\u043e\\u0434\\u043f\\u0438\\u0441\\u043a\\u0430\", \"\\u043f\\u043e\\u0434\\u043f\\u0438\\u0441\\u043a\\u0430\", \"\\u043f\\u043e\\u0434\\u043f\\u0438\\u0441\\u044b\\u0432\\u0430\\u0442\\u044c \\u0441\\u0435\\u0440\\u0442\\u0438\\u0444\\u0438\\u043a\\u0430\\u0442\", \"\\u043f\\u043e\\u0434\\u0445\\u043e\\u0434\", \"\\u043f\\u043e\\u0434\\u0445\\u043e\\u0434\", \"\\u043f\\u043e\\u0434\\u0445\\u043e\\u0434\", \"\\u043f\\u043e\\u0434\\u0445\\u043e\\u0434\", \"\\u043f\\u043e\\u0434\\u0445\\u043e\\u0434\", \"\\u043f\\u043e\\u0434\\u0445\\u043e\\u0434\", \"\\u043f\\u043e\\u0434\\u0445\\u043e\\u0434\", \"\\u043f\\u043e\\u0434\\u0445\\u043e\\u0434\", \"\\u043f\\u043e\\u0434\\u0445\\u043e\\u0434\", \"\\u043f\\u043e\\u0437\\u0432\\u043e\\u043b\\u044f\\u0442\\u044c\", \"\\u043f\\u043e\\u0437\\u0432\\u043e\\u043b\\u044f\\u0442\\u044c\", \"\\u043f\\u043e\\u0437\\u0432\\u043e\\u043b\\u044f\\u0442\\u044c\", \"\\u043f\\u043e\\u0437\\u0432\\u043e\\u043b\\u044f\\u0442\\u044c\", \"\\u043f\\u043e\\u0437\\u0432\\u043e\\u043b\\u044f\\u0442\\u044c\", \"\\u043f\\u043e\\u0437\\u0432\\u043e\\u043b\\u044f\\u0442\\u044c\", \"\\u043f\\u043e\\u0437\\u0432\\u043e\\u043b\\u044f\\u0442\\u044c\", \"\\u043f\\u043e\\u0437\\u0432\\u043e\\u043b\\u044f\\u0442\\u044c\", \"\\u043f\\u043e\\u0437\\u0432\\u043e\\u043b\\u044f\\u0442\\u044c\", \"\\u043f\\u043e\\u0437\\u0432\\u043e\\u043b\\u044f\\u0442\\u044c\", \"\\u043f\\u043e\\u0437\\u0432\\u043e\\u043b\\u044f\\u0442\\u044c\", \"\\u043f\\u043e\\u0437\\u0432\\u043e\\u043b\\u044f\\u0442\\u044c\", \"\\u043f\\u043e\\u0437\\u0432\\u043e\\u043b\\u044f\\u0442\\u044c\", \"\\u043f\\u043e\\u0437\\u0432\\u043e\\u043b\\u044f\\u0442\\u044c\", \"\\u043f\\u043e\\u0437\\u0432\\u043e\\u043b\\u044f\\u0442\\u044c\", \"\\u043f\\u043e\\u043b\\u0438\\u043c\\u043e\\u0440\\u0444\\u043d\\u044b\\u0439\", \"\\u043f\\u043e\\u043b\\u0438\\u043c\\u043e\\u0440\\u0444\\u043d\\u044b\\u0439 \\u0441\\u0442\\u0440\\u0443\\u043a\\u0442\\u0443\\u0440\\u0430\", \"\\u043f\\u043e\\u043b\\u043d\\u044b\\u0439 \\u0441\\u0443\\u043c\\u043c\\u0430\\u0442\\u043e\\u0440\", \"\\u043f\\u043e\\u043b\\u0443\\u0447\\u0430\\u0442\\u044c\", \"\\u043f\\u043e\\u043b\\u0443\\u0447\\u0430\\u0442\\u044c\", \"\\u043f\\u043e\\u043b\\u0443\\u0447\\u0430\\u0442\\u044c\", \"\\u043f\\u043e\\u043b\\u0443\\u0447\\u0430\\u0442\\u044c\", \"\\u043f\\u043e\\u043b\\u0443\\u0447\\u0430\\u0442\\u044c\", \"\\u043f\\u043e\\u043b\\u0443\\u0447\\u0430\\u0442\\u044c\", \"\\u043f\\u043e\\u043b\\u0443\\u0447\\u0430\\u0442\\u044c\", \"\\u043f\\u043e\\u043b\\u0443\\u0447\\u0430\\u0442\\u044c\", \"\\u043f\\u043e\\u043b\\u0443\\u0447\\u0430\\u0442\\u044c\", \"\\u043f\\u043e\\u043b\\u0443\\u0447\\u0430\\u0442\\u044c\", \"\\u043f\\u043e\\u043b\\u0443\\u0447\\u0430\\u0442\\u044c\", \"\\u043f\\u043e\\u043b\\u0443\\u0447\\u0430\\u0442\\u044c\", \"\\u043f\\u043e\\u043b\\u0443\\u0447\\u0430\\u0442\\u044c\", \"\\u043f\\u043e\\u043b\\u0443\\u0447\\u0430\\u0442\\u044c\", \"\\u043f\\u043e\\u043b\\u0443\\u0447\\u0430\\u0442\\u044c\", \"\\u043f\\u043e\\u043b\\u044c\\u0437\\u043e\\u0432\\u0430\\u0442\\u0435\\u043b\\u044c\", \"\\u043f\\u043e\\u043b\\u044c\\u0437\\u043e\\u0432\\u0430\\u0442\\u0435\\u043b\\u044c\", \"\\u043f\\u043e\\u043b\\u044c\\u0437\\u043e\\u0432\\u0430\\u0442\\u0435\\u043b\\u044c\", \"\\u043f\\u043e\\u043b\\u044c\\u0437\\u043e\\u0432\\u0430\\u0442\\u0435\\u043b\\u044c\", \"\\u043f\\u043e\\u043b\\u044c\\u0437\\u043e\\u0432\\u0430\\u0442\\u0435\\u043b\\u044c\", \"\\u043f\\u043e\\u043b\\u044c\\u0437\\u043e\\u0432\\u0430\\u0442\\u0435\\u043b\\u044c\", \"\\u043f\\u043e\\u043b\\u044c\\u0437\\u043e\\u0432\\u0430\\u0442\\u0435\\u043b\\u044c\", \"\\u043f\\u043e\\u043b\\u044c\\u0437\\u043e\\u0432\\u0430\\u0442\\u0435\\u043b\\u044c\", \"\\u043f\\u043e\\u043b\\u044c\\u0437\\u043e\\u0432\\u0430\\u0442\\u0435\\u043b\\u044c\", \"\\u043f\\u043e\\u043b\\u044c\\u0437\\u043e\\u0432\\u0430\\u0442\\u0435\\u043b\\u044c\", \"\\u043f\\u043e\\u043b\\u044c\\u0437\\u043e\\u0432\\u0430\\u0442\\u0435\\u043b\\u044c\", \"\\u043f\\u043e\\u043b\\u044c\\u0437\\u043e\\u0432\\u0430\\u0442\\u0435\\u043b\\u044c\", \"\\u043f\\u043e\\u043b\\u044c\\u0437\\u043e\\u0432\\u0430\\u0442\\u0435\\u043b\\u044c\", \"\\u043f\\u043e\\u043b\\u044c\\u0437\\u043e\\u0432\\u0430\\u0442\\u0435\\u043b\\u044c\", \"\\u043f\\u043e\\u043b\\u044c\\u0437\\u043e\\u0432\\u0430\\u0442\\u0435\\u043b\\u044c\\u0441\\u043a\\u0438\\u0439 \\u0438\\u0441\\u0442\\u043e\\u0440\\u0438\\u044f\", \"\\u043f\\u043e\\u043c\\u043e\\u0449\\u044c\", \"\\u043f\\u043e\\u043c\\u043e\\u0449\\u044c\", \"\\u043f\\u043e\\u043c\\u043e\\u0449\\u044c\", \"\\u043f\\u043e\\u043c\\u043e\\u0449\\u044c\", \"\\u043f\\u043e\\u043c\\u043e\\u0449\\u044c\", \"\\u043f\\u043e\\u043c\\u043e\\u0449\\u044c\", \"\\u043f\\u043e\\u043c\\u043e\\u0449\\u044c\", \"\\u043f\\u043e\\u043c\\u043e\\u0449\\u044c\", \"\\u043f\\u043e\\u043c\\u043e\\u0449\\u044c\", \"\\u043f\\u043e\\u043c\\u043e\\u0449\\u044c\", \"\\u043f\\u043e\\u043c\\u043e\\u0449\\u044c\", \"\\u043f\\u043e\\u043c\\u043e\\u0449\\u044c\", \"\\u043f\\u043e\\u043c\\u043e\\u0449\\u044c\", \"\\u043f\\u043e\\u043c\\u043e\\u0449\\u044c\", \"\\u043f\\u043e\\u043c\\u043e\\u0449\\u044c\", \"\\u043f\\u043e\\u043f\\u0440\\u043e\\u0431\\u043e\\u0432\\u0430\\u0442\\u044c\", \"\\u043f\\u043e\\u043f\\u0440\\u043e\\u0431\\u043e\\u0432\\u0430\\u0442\\u044c\", \"\\u043f\\u043e\\u043f\\u0440\\u043e\\u0431\\u043e\\u0432\\u0430\\u0442\\u044c\", \"\\u043f\\u043e\\u043f\\u0440\\u043e\\u0431\\u043e\\u0432\\u0430\\u0442\\u044c\", \"\\u043f\\u043e\\u043f\\u0440\\u043e\\u0431\\u043e\\u0432\\u0430\\u0442\\u044c\", \"\\u043f\\u043e\\u043f\\u0440\\u043e\\u0431\\u043e\\u0432\\u0430\\u0442\\u044c\", \"\\u043f\\u043e\\u043f\\u0440\\u043e\\u0431\\u043e\\u0432\\u0430\\u0442\\u044c\", \"\\u043f\\u043e\\u043f\\u0440\\u043e\\u0431\\u043e\\u0432\\u0430\\u0442\\u044c\", \"\\u043f\\u043e\\u043f\\u0440\\u043e\\u0431\\u043e\\u0432\\u0430\\u0442\\u044c\", \"\\u043f\\u043e\\u0441\\u043b\\u0435\\u0434\\u043d\\u0438\\u0439\", \"\\u043f\\u043e\\u0441\\u043b\\u0435\\u0434\\u043d\\u0438\\u0439\", \"\\u043f\\u043e\\u0441\\u043b\\u0435\\u0434\\u043d\\u0438\\u0439\", \"\\u043f\\u043e\\u0441\\u043b\\u0435\\u0434\\u043d\\u0438\\u0439\", \"\\u043f\\u043e\\u0441\\u043b\\u0435\\u0434\\u043d\\u0438\\u0439\", \"\\u043f\\u043e\\u0441\\u043b\\u0435\\u0434\\u043d\\u0438\\u0439\", \"\\u043f\\u043e\\u0441\\u043b\\u0435\\u0434\\u043d\\u0438\\u0439\", \"\\u043f\\u043e\\u0441\\u043b\\u0435\\u0434\\u043d\\u0438\\u0439\", \"\\u043f\\u043e\\u0441\\u043b\\u0435\\u0434\\u043d\\u0438\\u0439\", \"\\u043f\\u043e\\u0441\\u043b\\u0435\\u0434\\u043d\\u0438\\u0439\", \"\\u043f\\u043e\\u0441\\u043b\\u0435\\u0434\\u043d\\u0438\\u0439\", \"\\u043f\\u043e\\u0441\\u043b\\u0435\\u0434\\u043d\\u0438\\u0439\", \"\\u043f\\u043e\\u0441\\u043b\\u0435\\u0434\\u043d\\u0438\\u0439\", \"\\u043f\\u043e\\u0441\\u043b\\u0435\\u0434\\u043d\\u0438\\u0439\", \"\\u043f\\u043e\\u0441\\u043b\\u0435\\u0434\\u043d\\u0438\\u0439 \\u0437\\u0430\\u043f\\u0440\\u043e\\u0441\", \"\\u043f\\u043e\\u0441\\u0442\\u0430\\u0432\\u0449\\u0438\\u043a \\u0443\\u0441\\u043b\\u0443\\u0433\\u0430\", \"\\u043f\\u043e\\u0442\\u043e\\u043a\", \"\\u043f\\u043e\\u0442\\u043e\\u043a\", \"\\u043f\\u043e\\u0442\\u043e\\u043a\", \"\\u043f\\u043e\\u0442\\u043e\\u043a\", \"\\u043f\\u043e\\u0442\\u043e\\u043a\", \"\\u043f\\u043e\\u0442\\u043e\\u043a\", \"\\u043f\\u043e\\u0442\\u043e\\u043a\", \"\\u043f\\u043e\\u0442\\u043e\\u043a\", \"\\u043f\\u043e\\u0442\\u043e\\u043a\", \"\\u043f\\u043e\\u0442\\u043e\\u043a\", \"\\u043f\\u043e\\u044d\\u0442\\u043e\\u043c\\u0443\", \"\\u043f\\u043e\\u044d\\u0442\\u043e\\u043c\\u0443\", \"\\u043f\\u043e\\u044d\\u0442\\u043e\\u043c\\u0443\", \"\\u043f\\u043e\\u044d\\u0442\\u043e\\u043c\\u0443\", \"\\u043f\\u043e\\u044d\\u0442\\u043e\\u043c\\u0443\", \"\\u043f\\u043e\\u044d\\u0442\\u043e\\u043c\\u0443\", \"\\u043f\\u043e\\u044d\\u0442\\u043e\\u043c\\u0443\", \"\\u043f\\u043e\\u044d\\u0442\\u043e\\u043c\\u0443\", \"\\u043f\\u043e\\u044d\\u0442\\u043e\\u043c\\u0443\", \"\\u043f\\u043e\\u044d\\u0442\\u043e\\u043c\\u0443\", \"\\u043f\\u043e\\u044d\\u0442\\u043e\\u043c\\u0443\", \"\\u043f\\u043e\\u044d\\u0442\\u043e\\u043c\\u0443\", \"\\u043f\\u043e\\u044d\\u0442\\u043e\\u043c\\u0443\", \"\\u043f\\u0440\\u0430\\u0432\\u0438\\u043b\\u043e\", \"\\u043f\\u0440\\u0430\\u0432\\u0438\\u043b\\u043e\", \"\\u043f\\u0440\\u0430\\u0432\\u0438\\u043b\\u043e\", \"\\u043f\\u0440\\u0430\\u0432\\u0438\\u043b\\u043e\", \"\\u043f\\u0440\\u0430\\u0432\\u0438\\u043b\\u043e\", \"\\u043f\\u0440\\u0430\\u0432\\u0438\\u043b\\u043e\", \"\\u043f\\u0440\\u0430\\u0432\\u0438\\u043b\\u043e\", \"\\u043f\\u0440\\u0430\\u0432\\u0438\\u043b\\u043e\", \"\\u043f\\u0440\\u0430\\u0432\\u0438\\u043b\\u043e\", \"\\u043f\\u0440\\u0430\\u0432\\u043a\\u0430\", \"\\u043f\\u0440\\u0430\\u0432\\u043a\\u0430\", \"\\u043f\\u0440\\u0430\\u0432\\u043a\\u0430\", \"\\u043f\\u0440\\u0430\\u0432\\u043a\\u0430\", \"\\u043f\\u0440\\u0430\\u0432\\u043a\\u0430\", \"\\u043f\\u0440\\u0430\\u0433\\u043c\\u0430\", \"\\u043f\\u0440\\u0435\\u0434\\u0438\\u043a\\u0430\\u0442\", \"\\u043f\\u0440\\u0435\\u043e\\u0431\\u0440\\u0430\\u0437\\u043e\\u0432\\u0430\\u0442\\u0435\\u043b\\u044c\", \"\\u043f\\u0440\\u0435\\u043e\\u0431\\u0440\\u0430\\u0437\\u043e\\u0432\\u0430\\u0442\\u0435\\u043b\\u044c\", \"\\u043f\\u0440\\u0435\\u043e\\u0431\\u0440\\u0430\\u0437\\u043e\\u0432\\u0430\\u0442\\u0435\\u043b\\u044c \\u0438\\u043d\\u0442\\u0435\\u0440\\u0444\\u0435\\u0439\\u0441\", \"\\u043f\\u0440\\u0438\\u0432\\u043e\\u0434\\u0438\\u0442\\u044c\", \"\\u043f\\u0440\\u0438\\u0432\\u043e\\u0434\\u0438\\u0442\\u044c\", \"\\u043f\\u0440\\u0438\\u0432\\u043e\\u0434\\u0438\\u0442\\u044c\", \"\\u043f\\u0440\\u0438\\u0432\\u043e\\u0434\\u0438\\u0442\\u044c\", \"\\u043f\\u0440\\u0438\\u0432\\u043e\\u0434\\u0438\\u0442\\u044c\", \"\\u043f\\u0440\\u0438\\u0432\\u043e\\u0434\\u0438\\u0442\\u044c\", \"\\u043f\\u0440\\u0438\\u0432\\u043e\\u0434\\u0438\\u0442\\u044c\", \"\\u043f\\u0440\\u0438\\u0432\\u043e\\u0434\\u0438\\u0442\\u044c\", \"\\u043f\\u0440\\u0438\\u0432\\u043e\\u0434\\u0438\\u0442\\u044c\", \"\\u043f\\u0440\\u0438\\u0432\\u043e\\u0434\\u0438\\u0442\\u044c\", \"\\u043f\\u0440\\u0438\\u0432\\u043e\\u0434\\u0438\\u0442\\u044c\", \"\\u043f\\u0440\\u0438\\u0432\\u043e\\u0434\\u0438\\u0442\\u044c\", \"\\u043f\\u0440\\u0438\\u0432\\u043e\\u0434\\u0438\\u0442\\u044c\", \"\\u043f\\u0440\\u0438\\u0432\\u043e\\u0434\\u0438\\u0442\\u044c\", \"\\u043f\\u0440\\u0438\\u043b\\u043e\\u0436\\u0435\\u043d\\u0438\\u0435\", \"\\u043f\\u0440\\u0438\\u043b\\u043e\\u0436\\u0435\\u043d\\u0438\\u0435\", \"\\u043f\\u0440\\u0438\\u043b\\u043e\\u0436\\u0435\\u043d\\u0438\\u0435\", \"\\u043f\\u0440\\u0438\\u043b\\u043e\\u0436\\u0435\\u043d\\u0438\\u0435\", \"\\u043f\\u0440\\u0438\\u043b\\u043e\\u0436\\u0435\\u043d\\u0438\\u0435\", \"\\u043f\\u0440\\u0438\\u043b\\u043e\\u0436\\u0435\\u043d\\u0438\\u0435\", \"\\u043f\\u0440\\u0438\\u043b\\u043e\\u0436\\u0435\\u043d\\u0438\\u0435\", \"\\u043f\\u0440\\u0438\\u043b\\u043e\\u0436\\u0435\\u043d\\u0438\\u0435\", \"\\u043f\\u0440\\u0438\\u043b\\u043e\\u0436\\u0435\\u043d\\u0438\\u0435\", \"\\u043f\\u0440\\u0438\\u043b\\u043e\\u0436\\u0435\\u043d\\u0438\\u0435\", \"\\u043f\\u0440\\u0438\\u043b\\u043e\\u0436\\u0435\\u043d\\u0438\\u0435\", \"\\u043f\\u0440\\u0438\\u043b\\u043e\\u0436\\u0435\\u043d\\u0438\\u0435\", \"\\u043f\\u0440\\u0438\\u043b\\u043e\\u0436\\u0435\\u043d\\u0438\\u0435\", \"\\u043f\\u0440\\u0438\\u043b\\u043e\\u0436\\u0435\\u043d\\u0438\\u0435\", \"\\u043f\\u0440\\u0438\\u043b\\u043e\\u0436\\u0435\\u043d\\u0438\\u0435\", \"\\u043f\\u0440\\u0438\\u043c\\u0435\\u0440\", \"\\u043f\\u0440\\u0438\\u043c\\u0435\\u0440\", \"\\u043f\\u0440\\u0438\\u043c\\u0435\\u0440\", \"\\u043f\\u0440\\u0438\\u043c\\u0435\\u0440\", \"\\u043f\\u0440\\u0438\\u043c\\u0435\\u0440\", \"\\u043f\\u0440\\u0438\\u043c\\u0435\\u0440\", \"\\u043f\\u0440\\u0438\\u043c\\u0435\\u0440\", \"\\u043f\\u0440\\u0438\\u043c\\u0435\\u0440\", \"\\u043f\\u0440\\u0438\\u043c\\u0435\\u0440\", \"\\u043f\\u0440\\u0438\\u043c\\u0435\\u0440\", \"\\u043f\\u0440\\u0438\\u043c\\u0435\\u0440\", \"\\u043f\\u0440\\u0438\\u043c\\u0435\\u0440\", \"\\u043f\\u0440\\u0438\\u043c\\u0435\\u0440\", \"\\u043f\\u0440\\u0438\\u043c\\u0435\\u0440\", \"\\u043f\\u0440\\u0438\\u043c\\u0435\\u0440\", \"\\u043f\\u0440\\u0438\\u043c\\u0438\\u0442\\u0438\\u0432\", \"\\u043f\\u0440\\u0438\\u043d\\u0446\\u0438\\u043f\", \"\\u043f\\u0440\\u0438\\u043d\\u0446\\u0438\\u043f\", \"\\u043f\\u0440\\u0438\\u043d\\u0446\\u0438\\u043f\", \"\\u043f\\u0440\\u0438\\u043d\\u0446\\u0438\\u043f\", \"\\u043f\\u0440\\u0438\\u043d\\u0446\\u0438\\u043f\", \"\\u043f\\u0440\\u0438\\u043d\\u0446\\u0438\\u043f\", \"\\u043f\\u0440\\u0438\\u043d\\u0446\\u0438\\u043f\", \"\\u043f\\u0440\\u0438\\u043d\\u0446\\u0438\\u043f\", \"\\u043f\\u0440\\u0438\\u043d\\u0446\\u0438\\u043f\", \"\\u043f\\u0440\\u0438\\u043d\\u0446\\u0438\\u043f\", \"\\u043f\\u0440\\u0438\\u043d\\u0446\\u0438\\u043f\", \"\\u043f\\u0440\\u0438\\u043d\\u0446\\u0438\\u043f\", \"\\u043f\\u0440\\u0438\\u0440\\u0430\\u0449\\u0435\\u043d\\u0438\\u0435\", \"\\u043f\\u0440\\u043e\\u0431\\u043b\\u0435\\u043c\\u0430\", \"\\u043f\\u0440\\u043e\\u0431\\u043b\\u0435\\u043c\\u0430\", \"\\u043f\\u0440\\u043e\\u0431\\u043b\\u0435\\u043c\\u0430\", \"\\u043f\\u0440\\u043e\\u0431\\u043b\\u0435\\u043c\\u0430\", \"\\u043f\\u0440\\u043e\\u0431\\u043b\\u0435\\u043c\\u0430\", \"\\u043f\\u0440\\u043e\\u0431\\u043b\\u0435\\u043c\\u0430\", \"\\u043f\\u0440\\u043e\\u0431\\u043b\\u0435\\u043c\\u0430\", \"\\u043f\\u0440\\u043e\\u0431\\u043b\\u0435\\u043c\\u0430\", \"\\u043f\\u0440\\u043e\\u0431\\u043b\\u0435\\u043c\\u0430\", \"\\u043f\\u0440\\u043e\\u0431\\u043b\\u0435\\u043c\\u0430\", \"\\u043f\\u0440\\u043e\\u0431\\u043b\\u0435\\u043c\\u0430\", \"\\u043f\\u0440\\u043e\\u0431\\u043b\\u0435\\u043c\\u0430\", \"\\u043f\\u0440\\u043e\\u0431\\u043b\\u0435\\u043c\\u0430\", \"\\u043f\\u0440\\u043e\\u0431\\u043b\\u0435\\u043c\\u0430\", \"\\u043f\\u0440\\u043e\\u0431\\u043b\\u0435\\u043c\\u0430\", \"\\u043f\\u0440\\u043e\\u0432\\u0435\\u0440\\u044f\\u0442\\u044c\", \"\\u043f\\u0440\\u043e\\u0432\\u0435\\u0440\\u044f\\u0442\\u044c\", \"\\u043f\\u0440\\u043e\\u0432\\u0435\\u0440\\u044f\\u0442\\u044c\", \"\\u043f\\u0440\\u043e\\u0432\\u0435\\u0440\\u044f\\u0442\\u044c\", \"\\u043f\\u0440\\u043e\\u0432\\u0435\\u0440\\u044f\\u0442\\u044c\", \"\\u043f\\u0440\\u043e\\u0432\\u0435\\u0440\\u044f\\u0442\\u044c\", \"\\u043f\\u0440\\u043e\\u0432\\u0435\\u0440\\u044f\\u0442\\u044c\", \"\\u043f\\u0440\\u043e\\u0432\\u0435\\u0440\\u044f\\u0442\\u044c\", \"\\u043f\\u0440\\u043e\\u0432\\u0435\\u0440\\u044f\\u0442\\u044c\", \"\\u043f\\u0440\\u043e\\u0432\\u0435\\u0440\\u044f\\u0442\\u044c\", \"\\u043f\\u0440\\u043e\\u0432\\u0435\\u0440\\u044f\\u0442\\u044c\", \"\\u043f\\u0440\\u043e\\u0432\\u0435\\u0440\\u044f\\u0442\\u044c \\u0441\\u043e\\u0441\\u0442\\u043e\\u044f\\u043d\\u0438\\u0435\", \"\\u043f\\u0440\\u043e\\u0433\\u043d\\u043e\\u0437\\u0438\\u0440\\u043e\\u0432\\u0430\\u043d\\u0438\\u0435\", \"\\u043f\\u0440\\u043e\\u0433\\u0440\\u0430\\u043c\\u043c\\u0430\", \"\\u043f\\u0440\\u043e\\u0433\\u0440\\u0430\\u043c\\u043c\\u0430\", \"\\u043f\\u0440\\u043e\\u0433\\u0440\\u0430\\u043c\\u043c\\u0430\", \"\\u043f\\u0440\\u043e\\u0433\\u0440\\u0430\\u043c\\u043c\\u0430\", \"\\u043f\\u0440\\u043e\\u0433\\u0440\\u0430\\u043c\\u043c\\u0430\", \"\\u043f\\u0440\\u043e\\u0433\\u0440\\u0430\\u043c\\u043c\\u0430\", \"\\u043f\\u0440\\u043e\\u0433\\u0440\\u0430\\u043c\\u043c\\u0430\", \"\\u043f\\u0440\\u043e\\u0433\\u0440\\u0430\\u043c\\u043c\\u0430\", \"\\u043f\\u0440\\u043e\\u0433\\u0440\\u0430\\u043c\\u043c\\u0430\", \"\\u043f\\u0440\\u043e\\u0433\\u0440\\u0430\\u043c\\u043c\\u0430\", \"\\u043f\\u0440\\u043e\\u0433\\u0440\\u0430\\u043c\\u043c\\u0430\", \"\\u043f\\u0440\\u043e\\u0434\\u0443\\u043a\\u0442\", \"\\u043f\\u0440\\u043e\\u0434\\u0443\\u043a\\u0442\", \"\\u043f\\u0440\\u043e\\u0434\\u0443\\u043a\\u0442\", \"\\u043f\\u0440\\u043e\\u0434\\u0443\\u043a\\u0442\", \"\\u043f\\u0440\\u043e\\u0434\\u0443\\u043a\\u0442\", \"\\u043f\\u0440\\u043e\\u0434\\u0443\\u043a\\u0442\", \"\\u043f\\u0440\\u043e\\u0434\\u0443\\u043a\\u0442\", \"\\u043f\\u0440\\u043e\\u0434\\u0443\\u043a\\u0442\", \"\\u043f\\u0440\\u043e\\u0434\\u0443\\u043a\\u0442\", \"\\u043f\\u0440\\u043e\\u0434\\u0443\\u043a\\u0442\", \"\\u043f\\u0440\\u043e\\u0434\\u0443\\u043a\\u0442\", \"\\u043f\\u0440\\u043e\\u0435\\u043a\\u0442\", \"\\u043f\\u0440\\u043e\\u0435\\u043a\\u0442\", \"\\u043f\\u0440\\u043e\\u0435\\u043a\\u0442\", \"\\u043f\\u0440\\u043e\\u0435\\u043a\\u0442\", \"\\u043f\\u0440\\u043e\\u0435\\u043a\\u0442\", \"\\u043f\\u0440\\u043e\\u0435\\u043a\\u0442\", \"\\u043f\\u0440\\u043e\\u0435\\u043a\\u0442\", \"\\u043f\\u0440\\u043e\\u0435\\u043a\\u0442\", \"\\u043f\\u0440\\u043e\\u0435\\u043a\\u0442\", \"\\u043f\\u0440\\u043e\\u0435\\u043a\\u0442\", \"\\u043f\\u0440\\u043e\\u0435\\u043a\\u0442\", \"\\u043f\\u0440\\u043e\\u0435\\u043a\\u0442\", \"\\u043f\\u0440\\u043e\\u0435\\u043a\\u0442\", \"\\u043f\\u0440\\u043e\\u0438\\u0437\\u0432\\u043e\\u0434\\u0441\\u0442\\u0432\\u043e\", \"\\u043f\\u0440\\u043e\\u0438\\u0437\\u0432\\u043e\\u0434\\u0441\\u0442\\u0432\\u043e\", \"\\u043f\\u0440\\u043e\\u0438\\u0437\\u0432\\u043e\\u0434\\u0441\\u0442\\u0432\\u043e\", \"\\u043f\\u0440\\u043e\\u0438\\u0437\\u0432\\u043e\\u0434\\u0441\\u0442\\u0432\\u043e\", \"\\u043f\\u0440\\u043e\\u0438\\u0437\\u0432\\u043e\\u0434\\u0441\\u0442\\u0432\\u043e\", \"\\u043f\\u0440\\u043e\\u0438\\u0437\\u0432\\u043e\\u0434\\u0441\\u0442\\u0432\\u043e\", \"\\u043f\\u0440\\u043e\\u0438\\u0437\\u0432\\u043e\\u0434\\u0441\\u0442\\u0432\\u043e\", \"\\u043f\\u0440\\u043e\\u0438\\u0437\\u0432\\u043e\\u0434\\u0441\\u0442\\u0432\\u043e\", \"\\u043f\\u0440\\u043e\\u0438\\u0437\\u0432\\u043e\\u0434\\u0441\\u0442\\u0432\\u043e\", \"\\u043f\\u0440\\u043e\\u0438\\u0441\\u0445\\u043e\\u0434\\u0438\\u0442\\u044c\", \"\\u043f\\u0440\\u043e\\u0438\\u0441\\u0445\\u043e\\u0434\\u0438\\u0442\\u044c\", \"\\u043f\\u0440\\u043e\\u0438\\u0441\\u0445\\u043e\\u0434\\u0438\\u0442\\u044c\", \"\\u043f\\u0440\\u043e\\u0438\\u0441\\u0445\\u043e\\u0434\\u0438\\u0442\\u044c\", \"\\u043f\\u0440\\u043e\\u0438\\u0441\\u0445\\u043e\\u0434\\u0438\\u0442\\u044c\", \"\\u043f\\u0440\\u043e\\u0438\\u0441\\u0445\\u043e\\u0434\\u0438\\u0442\\u044c\", \"\\u043f\\u0440\\u043e\\u0438\\u0441\\u0445\\u043e\\u0434\\u0438\\u0442\\u044c\", \"\\u043f\\u0440\\u043e\\u0438\\u0441\\u0445\\u043e\\u0434\\u0438\\u0442\\u044c\", \"\\u043f\\u0440\\u043e\\u0438\\u0441\\u0445\\u043e\\u0434\\u0438\\u0442\\u044c\", \"\\u043f\\u0440\\u043e\\u0438\\u0441\\u0445\\u043e\\u0434\\u0438\\u0442\\u044c\", \"\\u043f\\u0440\\u043e\\u0438\\u0441\\u0445\\u043e\\u0434\\u0438\\u0442\\u044c\", \"\\u043f\\u0440\\u043e\\u0441\\u0442\\u043e\", \"\\u043f\\u0440\\u043e\\u0441\\u0442\\u043e\", \"\\u043f\\u0440\\u043e\\u0441\\u0442\\u043e\", \"\\u043f\\u0440\\u043e\\u0441\\u0442\\u043e\", \"\\u043f\\u0440\\u043e\\u0441\\u0442\\u043e\", \"\\u043f\\u0440\\u043e\\u0441\\u0442\\u043e\", \"\\u043f\\u0440\\u043e\\u0441\\u0442\\u043e\", \"\\u043f\\u0440\\u043e\\u0441\\u0442\\u043e\", \"\\u043f\\u0440\\u043e\\u0441\\u0442\\u043e\", \"\\u043f\\u0440\\u043e\\u0441\\u0442\\u043e\", \"\\u043f\\u0440\\u043e\\u0441\\u0442\\u043e\", \"\\u043f\\u0440\\u043e\\u0441\\u0442\\u043e\", \"\\u043f\\u0440\\u043e\\u0441\\u0442\\u043e\", \"\\u043f\\u0440\\u043e\\u0441\\u0442\\u043e\", \"\\u043f\\u0440\\u043e\\u0441\\u0442\\u043e\", \"\\u043f\\u0440\\u043e\\u0441\\u0442\\u0440\\u0430\\u043d\\u0441\\u0442\\u0432\\u043e\", \"\\u043f\\u0440\\u043e\\u0441\\u0442\\u0440\\u0430\\u043d\\u0441\\u0442\\u0432\\u043e\", \"\\u043f\\u0440\\u043e\\u0441\\u0442\\u0440\\u0430\\u043d\\u0441\\u0442\\u0432\\u043e\", \"\\u043f\\u0440\\u043e\\u0441\\u0442\\u0440\\u0430\\u043d\\u0441\\u0442\\u0432\\u043e\", \"\\u043f\\u0440\\u043e\\u0441\\u0442\\u0440\\u0430\\u043d\\u0441\\u0442\\u0432\\u043e\", \"\\u043f\\u0440\\u043e\\u0441\\u0442\\u0440\\u0430\\u043d\\u0441\\u0442\\u0432\\u043e\", \"\\u043f\\u0440\\u043e\\u0441\\u0442\\u0440\\u0430\\u043d\\u0441\\u0442\\u0432\\u043e\", \"\\u043f\\u0440\\u043e\\u0441\\u0442\\u0440\\u0430\\u043d\\u0441\\u0442\\u0432\\u043e\", \"\\u043f\\u0440\\u043e\\u0441\\u0442\\u0440\\u0430\\u043d\\u0441\\u0442\\u0432\\u043e\", \"\\u043f\\u0440\\u043e\\u0441\\u0442\\u0440\\u0430\\u043d\\u0441\\u0442\\u0432\\u043e \\u0438\\u043c\\u044f\", \"\\u043f\\u0440\\u043e\\u0441\\u0442\\u0440\\u0430\\u043d\\u0441\\u0442\\u0432\\u043e \\u0438\\u043c\\u044f\", \"\\u043f\\u0440\\u043e\\u0445\\u043e\\u0434\\u0438\\u0442\\u044c\", \"\\u043f\\u0440\\u043e\\u0445\\u043e\\u0434\\u0438\\u0442\\u044c\", \"\\u043f\\u0440\\u043e\\u0445\\u043e\\u0434\\u0438\\u0442\\u044c\", \"\\u043f\\u0440\\u043e\\u0445\\u043e\\u0434\\u0438\\u0442\\u044c\", \"\\u043f\\u0440\\u043e\\u0445\\u043e\\u0434\\u0438\\u0442\\u044c\", \"\\u043f\\u0440\\u043e\\u0445\\u043e\\u0434\\u0438\\u0442\\u044c\", \"\\u043f\\u0440\\u043e\\u0445\\u043e\\u0434\\u0438\\u0442\\u044c\", \"\\u043f\\u0440\\u043e\\u0445\\u043e\\u0434\\u0438\\u0442\\u044c\", \"\\u043f\\u0440\\u043e\\u0445\\u043e\\u0434\\u0438\\u0442\\u044c\", \"\\u043f\\u0440\\u043e\\u0445\\u043e\\u0434\\u0438\\u0442\\u044c\", \"\\u043f\\u0440\\u043e\\u0445\\u043e\\u0434\\u0438\\u0442\\u044c\", \"\\u043f\\u0440\\u043e\\u0445\\u043e\\u0434\\u0438\\u0442\\u044c\", \"\\u043f\\u0440\\u043e\\u0445\\u043e\\u0434\\u0438\\u0442\\u044c\", \"\\u043f\\u0440\\u043e\\u0445\\u043e\\u0434\\u0438\\u0442\\u044c \\u043a\\u0443\\u0440\\u0441\\u044b\", \"\\u043f\\u0440\\u043e\\u0445\\u043e\\u0436\\u0434\\u0435\\u043d\\u0438\\u0435\", \"\\u043f\\u0440\\u043e\\u0445\\u043e\\u0436\\u0434\\u0435\\u043d\\u0438\\u0435\", \"\\u043f\\u0440\\u043e\\u0445\\u043e\\u0436\\u0434\\u0435\\u043d\\u0438\\u0435\", \"\\u043f\\u0440\\u043e\\u0446\\u0435\\u0434\\u0443\\u0440\\u0430\", \"\\u043f\\u0440\\u043e\\u0446\\u0435\\u0434\\u0443\\u0440\\u0430\", \"\\u043f\\u0440\\u043e\\u0446\\u0435\\u0434\\u0443\\u0440\\u0430\", \"\\u043f\\u0440\\u043e\\u0446\\u0435\\u0434\\u0443\\u0440\\u0430\", \"\\u043f\\u0440\\u043e\\u0446\\u0435\\u0434\\u0443\\u0440\\u0430\", \"\\u043f\\u0440\\u043e\\u0446\\u0435\\u0434\\u0443\\u0440\\u0430\", \"\\u043f\\u0440\\u043e\\u0446\\u0435\\u0434\\u0443\\u0440\\u0430 \\u0444\\u0443\\u043d\\u043a\\u0446\\u0438\\u044f\", \"\\u043f\\u0440\\u043e\\u0446\\u0435\\u0441\\u0441\", \"\\u043f\\u0440\\u043e\\u0446\\u0435\\u0441\\u0441\", \"\\u043f\\u0440\\u043e\\u0446\\u0435\\u0441\\u0441\", \"\\u043f\\u0440\\u043e\\u0446\\u0435\\u0441\\u0441\", \"\\u043f\\u0440\\u043e\\u0446\\u0435\\u0441\\u0441\", \"\\u043f\\u0440\\u043e\\u0446\\u0435\\u0441\\u0441\", \"\\u043f\\u0440\\u043e\\u0446\\u0435\\u0441\\u0441\", \"\\u043f\\u0440\\u043e\\u0446\\u0435\\u0441\\u0441\", \"\\u043f\\u0440\\u043e\\u0446\\u0435\\u0441\\u0441\", \"\\u043f\\u0440\\u043e\\u0446\\u0435\\u0441\\u0441\", \"\\u043f\\u0440\\u043e\\u0446\\u0435\\u0441\\u0441\", \"\\u043f\\u0440\\u043e\\u0446\\u0435\\u0441\\u0441\", \"\\u043f\\u0440\\u043e\\u0446\\u0435\\u0441\\u0441\", \"\\u043f\\u0440\\u043e\\u0446\\u0435\\u0441\\u0441\", \"\\u043f\\u0443\\u0431\\u043b\\u0438\\u0447\\u043d\\u044b\\u0439 \\u0441\\u0435\\u0442\\u044c\", \"\\u043f\\u0443\\u043b \\u043a\\u043e\\u043d\\u0441\\u0442\\u0430\\u043d\\u0442\\u0430\", \"\\u0440\\u0430\\u0431\\u043e\\u0442\\u0430\", \"\\u0440\\u0430\\u0431\\u043e\\u0442\\u0430\", \"\\u0440\\u0430\\u0431\\u043e\\u0442\\u0430\", \"\\u0440\\u0430\\u0431\\u043e\\u0442\\u0430\", \"\\u0440\\u0430\\u0431\\u043e\\u0442\\u0430\", \"\\u0440\\u0430\\u0431\\u043e\\u0442\\u0430\", \"\\u0440\\u0430\\u0431\\u043e\\u0442\\u0430\", \"\\u0440\\u0430\\u0431\\u043e\\u0442\\u0430\", \"\\u0440\\u0430\\u0431\\u043e\\u0442\\u0430\", \"\\u0440\\u0430\\u0431\\u043e\\u0442\\u0430\", \"\\u0440\\u0430\\u0431\\u043e\\u0442\\u0430\", \"\\u0440\\u0430\\u0431\\u043e\\u0442\\u0430\", \"\\u0440\\u0430\\u0431\\u043e\\u0442\\u0430\", \"\\u0440\\u0430\\u0431\\u043e\\u0442\\u0430\", \"\\u0440\\u0430\\u0431\\u043e\\u0442\\u0430\", \"\\u0440\\u0430\\u0431\\u043e\\u0442\\u0430 \\u0432\\u0440\\u0435\\u043c\\u0435\\u043d\\u043d\\u044b\\u0439\", \"\\u0440\\u0430\\u0431\\u043e\\u0442\\u0430 \\u0441\\u0435\\u0442\\u044c\", \"\\u0440\\u0430\\u0431\\u043e\\u0442\\u0430 \\u0441\\u0435\\u0442\\u044c\", \"\\u0440\\u0430\\u0431\\u043e\\u0442\\u0430\\u0442\\u044c\", \"\\u0440\\u0430\\u0431\\u043e\\u0442\\u0430\\u0442\\u044c\", \"\\u0440\\u0430\\u0431\\u043e\\u0442\\u0430\\u0442\\u044c\", \"\\u0440\\u0430\\u0431\\u043e\\u0442\\u0430\\u0442\\u044c\", \"\\u0440\\u0430\\u0431\\u043e\\u0442\\u0430\\u0442\\u044c\", \"\\u0440\\u0430\\u0431\\u043e\\u0442\\u0430\\u0442\\u044c\", \"\\u0440\\u0430\\u0431\\u043e\\u0442\\u0430\\u0442\\u044c\", \"\\u0440\\u0430\\u0431\\u043e\\u0442\\u0430\\u0442\\u044c\", \"\\u0440\\u0430\\u0431\\u043e\\u0442\\u0430\\u0442\\u044c\", \"\\u0440\\u0430\\u0431\\u043e\\u0442\\u0430\\u0442\\u044c\", \"\\u0440\\u0430\\u0431\\u043e\\u0442\\u0430\\u0442\\u044c\", \"\\u0440\\u0430\\u0431\\u043e\\u0442\\u0430\\u0442\\u044c\", \"\\u0440\\u0430\\u0431\\u043e\\u0442\\u0430\\u0442\\u044c\", \"\\u0440\\u0430\\u0431\\u043e\\u0442\\u0430\\u0442\\u044c\", \"\\u0440\\u0430\\u0431\\u043e\\u0442\\u0430\\u0442\\u044c\", \"\\u0440\\u0430\\u0431\\u043e\\u0442\\u043d\\u0438\\u043a\", \"\\u0440\\u0430\\u0431\\u043e\\u0442\\u043d\\u0438\\u043a\", \"\\u0440\\u0430\\u0431\\u043e\\u0442\\u043d\\u0438\\u043a\", \"\\u0440\\u0430\\u0431\\u043e\\u0442\\u043e\\u0434\\u0430\\u0442\\u0435\\u043b\\u044c\", \"\\u0440\\u0430\\u0431\\u043e\\u0442\\u043e\\u0434\\u0430\\u0442\\u0435\\u043b\\u044c\", \"\\u0440\\u0430\\u0431\\u043e\\u0442\\u043e\\u0434\\u0430\\u0442\\u0435\\u043b\\u044c\", \"\\u0440\\u0430\\u0431\\u043e\\u0447\\u0438\\u0439\", \"\\u0440\\u0430\\u0431\\u043e\\u0447\\u0438\\u0439\", \"\\u0440\\u0430\\u0431\\u043e\\u0447\\u0438\\u0439\", \"\\u0440\\u0430\\u0431\\u043e\\u0447\\u0438\\u0439\", \"\\u0440\\u0430\\u0431\\u043e\\u0447\\u0438\\u0439\", \"\\u0440\\u0430\\u0431\\u043e\\u0447\\u0438\\u0439\", \"\\u0440\\u0430\\u0431\\u043e\\u0447\\u0438\\u0439\", \"\\u0440\\u0430\\u0431\\u043e\\u0447\\u0438\\u0439\", \"\\u0440\\u0430\\u0431\\u043e\\u0447\\u0438\\u0439\", \"\\u0440\\u0430\\u0431\\u043e\\u0447\\u0438\\u0439 \\u0447\\u0430\\u0441\\u0442\\u043e\\u0442\\u0430\", \"\\u0440\\u0430\\u0434\\u0430\\u0440\", \"\\u0440\\u0430\\u0434\\u0438\", \"\\u0440\\u0430\\u0434\\u0438\", \"\\u0440\\u0430\\u0434\\u0438\", \"\\u0440\\u0430\\u0434\\u0438\", \"\\u0440\\u0430\\u0434\\u0438\", \"\\u0440\\u0430\\u0434\\u0438\\u043e\\u0447\\u0430\\u0441\\u0442\\u043e\\u0442\\u043d\\u044b\\u0439\", \"\\u0440\\u0430\\u0434\\u0438\\u0443\\u0441\", \"\\u0440\\u0430\\u0434\\u0438\\u0443\\u0441\", \"\\u0440\\u0430\\u0434\\u0438\\u0443\\u0441\", \"\\u0440\\u0430\\u0434\\u0438\\u0443\\u0441\", \"\\u0440\\u0430\\u0437\\u0432\\u0435\\u0440\\u0442\\u044b\\u0432\\u0430\\u0442\\u044c \\u043a\\u043e\\u0434\", \"\\u0440\\u0430\\u0437\\u0432\\u0438\\u0442\\u0438\\u0435\", \"\\u0440\\u0430\\u0437\\u0432\\u0438\\u0442\\u0438\\u0435\", \"\\u0440\\u0430\\u0437\\u0432\\u0438\\u0442\\u0438\\u0435\", \"\\u0440\\u0430\\u0437\\u0432\\u0438\\u0442\\u0438\\u0435\", \"\\u0440\\u0430\\u0437\\u0432\\u0438\\u0442\\u0438\\u0435\", \"\\u0440\\u0430\\u0437\\u0432\\u0438\\u0442\\u0438\\u0435\", \"\\u0440\\u0430\\u0437\\u0432\\u0438\\u0442\\u0438\\u0435\", \"\\u0440\\u0430\\u0437\\u0432\\u0438\\u0442\\u0438\\u0435\", \"\\u0440\\u0430\\u0437\\u0432\\u0438\\u0442\\u0438\\u0435\", \"\\u0440\\u0430\\u0437\\u043b\\u0438\\u0447\\u043d\\u044b\\u0439\", \"\\u0440\\u0430\\u0437\\u043b\\u0438\\u0447\\u043d\\u044b\\u0439\", \"\\u0440\\u0430\\u0437\\u043b\\u0438\\u0447\\u043d\\u044b\\u0439\", \"\\u0440\\u0430\\u0437\\u043b\\u0438\\u0447\\u043d\\u044b\\u0439\", \"\\u0440\\u0430\\u0437\\u043b\\u0438\\u0447\\u043d\\u044b\\u0439\", \"\\u0440\\u0430\\u0437\\u043b\\u0438\\u0447\\u043d\\u044b\\u0439\", \"\\u0440\\u0430\\u0437\\u043b\\u0438\\u0447\\u043d\\u044b\\u0439\", \"\\u0440\\u0430\\u0437\\u043b\\u0438\\u0447\\u043d\\u044b\\u0439\", \"\\u0440\\u0430\\u0437\\u043b\\u0438\\u0447\\u043d\\u044b\\u0439\", \"\\u0440\\u0430\\u0437\\u043b\\u0438\\u0447\\u043d\\u044b\\u0439\", \"\\u0440\\u0430\\u0437\\u043b\\u0438\\u0447\\u043d\\u044b\\u0439\", \"\\u0440\\u0430\\u0437\\u043b\\u0438\\u0447\\u043d\\u044b\\u0439\", \"\\u0440\\u0430\\u0437\\u043c\\u0435\\u0442\\u043a\\u0430\", \"\\u0440\\u0430\\u0437\\u043c\\u0435\\u0442\\u043a\\u0430\", \"\\u0440\\u0430\\u0437\\u043c\\u0435\\u0442\\u043a\\u0430\", \"\\u0440\\u0430\\u0437\\u043c\\u0435\\u0449\\u0430\\u0442\\u044c \\u0432\\u0430\\u043a\\u0430\\u043d\\u0441\\u0438\\u044f\", \"\\u0440\\u0430\\u0437\\u043c\\u0435\\u0449\\u0430\\u0442\\u044c \\u0432\\u0430\\u043a\\u0430\\u043d\\u0441\\u0438\\u044f\", \"\\u0440\\u0430\\u0437\\u0440\\u0430\\u0431\\u043e\\u0442\\u043a\\u0430\", \"\\u0440\\u0430\\u0437\\u0440\\u0430\\u0431\\u043e\\u0442\\u043a\\u0430\", \"\\u0440\\u0430\\u0437\\u0440\\u0430\\u0431\\u043e\\u0442\\u043a\\u0430\", \"\\u0440\\u0430\\u0437\\u0440\\u0430\\u0431\\u043e\\u0442\\u043a\\u0430\", \"\\u0440\\u0430\\u0437\\u0440\\u0430\\u0431\\u043e\\u0442\\u043a\\u0430\", \"\\u0440\\u0430\\u0437\\u0440\\u0430\\u0431\\u043e\\u0442\\u043a\\u0430\", \"\\u0440\\u0430\\u0437\\u0440\\u0430\\u0431\\u043e\\u0442\\u043a\\u0430\", \"\\u0440\\u0430\\u0437\\u0440\\u0430\\u0431\\u043e\\u0442\\u043a\\u0430\", \"\\u0440\\u0430\\u0437\\u0440\\u0430\\u0431\\u043e\\u0442\\u043a\\u0430\", \"\\u0440\\u0430\\u0437\\u0440\\u0430\\u0431\\u043e\\u0442\\u043a\\u0430\", \"\\u0440\\u0430\\u0437\\u0440\\u0430\\u0431\\u043e\\u0442\\u043a\\u0430\", \"\\u0440\\u0430\\u0437\\u0440\\u0430\\u0431\\u043e\\u0442\\u043a\\u0430\", \"\\u0440\\u0430\\u0437\\u0440\\u0430\\u0431\\u043e\\u0442\\u043a\\u0430\", \"\\u0440\\u0430\\u0437\\u0440\\u0435\\u0448\\u0435\\u043d\\u0438\\u0435\", \"\\u0440\\u0430\\u0437\\u0440\\u0435\\u0448\\u0435\\u043d\\u0438\\u0435\", \"\\u0440\\u0430\\u0437\\u0440\\u0435\\u0448\\u0435\\u043d\\u0438\\u0435\", \"\\u0440\\u0430\\u0437\\u0440\\u0435\\u0448\\u0435\\u043d\\u0438\\u0435\", \"\\u0440\\u0430\\u0437\\u0440\\u0435\\u0448\\u0435\\u043d\\u0438\\u0435\", \"\\u0440\\u0430\\u0437\\u0440\\u0435\\u0448\\u0435\\u043d\\u0438\\u0435\", \"\\u0440\\u0430\\u0437\\u0440\\u0435\\u0448\\u0435\\u043d\\u0438\\u0435\", \"\\u0440\\u0430\\u0437\\u0440\\u0435\\u0448\\u0435\\u043d\\u0438\\u0435\", \"\\u0440\\u0430\\u0437\\u0440\\u044f\\u0434\", \"\\u0440\\u0430\\u0439\\u0437\\u0435\\u0440\", \"\\u0440\\u0430\\u043a\\u0435\\u0442\\u0430\", \"\\u0440\\u0430\\u0441\\u0442\\u0435\\u043d\\u0438\\u0435\", \"\\u0440\\u0435\\u0430\\u043a\\u0442\\u0438\\u0432\", \"\\u0440\\u0435\\u0430\\u043a\\u0442\\u0438\\u0432\\u043d\\u044b\\u0439\", \"\\u0440\\u0435\\u0430\\u043a\\u0442\\u0438\\u0432\\u043d\\u044b\\u0439\", \"\\u0440\\u0435\\u0430\\u043a\\u0442\\u0438\\u0432\\u043d\\u044b\\u0439 \\u043f\\u043e\\u0434\\u0445\\u043e\\u0434\", \"\\u0440\\u0435\\u0430\\u043a\\u0442\\u0438\\u0432\\u043d\\u044b\\u0439 \\u0441\\u0442\\u0440\\u0438\\u043c\", \"\\u0440\\u0435\\u0430\\u043a\\u0442\\u0438\\u0432\\u043d\\u044b\\u0439 \\u0446\\u0435\\u043f\\u043e\\u0447\\u043a\\u0430\", \"\\u0440\\u0435\\u0430\\u043b\\u0438\\u0437\\u0430\\u0446\\u0438\\u044f\", \"\\u0440\\u0435\\u0430\\u043b\\u0438\\u0437\\u0430\\u0446\\u0438\\u044f\", \"\\u0440\\u0435\\u0430\\u043b\\u0438\\u0437\\u0430\\u0446\\u0438\\u044f\", \"\\u0440\\u0435\\u0430\\u043b\\u0438\\u0437\\u0430\\u0446\\u0438\\u044f\", \"\\u0440\\u0435\\u0430\\u043b\\u0438\\u0437\\u0430\\u0446\\u0438\\u044f\", \"\\u0440\\u0435\\u0430\\u043b\\u0438\\u0437\\u0430\\u0446\\u0438\\u044f\", \"\\u0440\\u0435\\u0430\\u043b\\u0438\\u0437\\u0430\\u0446\\u0438\\u044f\", \"\\u0440\\u0435\\u0430\\u043b\\u0438\\u0437\\u0430\\u0446\\u0438\\u044f\", \"\\u0440\\u0435\\u0430\\u043b\\u0438\\u0437\\u0430\\u0446\\u0438\\u044f\", \"\\u0440\\u0435\\u0430\\u043b\\u0438\\u0437\\u0430\\u0446\\u0438\\u044f\", \"\\u0440\\u0435\\u0430\\u043b\\u0438\\u0437\\u0430\\u0446\\u0438\\u044f\", \"\\u0440\\u0435\\u0430\\u043b\\u0438\\u0437\\u0430\\u0446\\u0438\\u044f\", \"\\u0440\\u0435\\u0430\\u043b\\u0438\\u0437\\u0430\\u0446\\u0438\\u044f\", \"\\u0440\\u0435\\u0433\\u0440\\u0435\\u0441\\u0441\\u0438\\u043e\\u043d\\u043d\\u044b\\u0439\", \"\\u0440\\u0435\\u0433\\u0440\\u0435\\u0441\\u0441\\u0438\\u043e\\u043d\\u043d\\u044b\\u0439\", \"\\u0440\\u0435\\u0433\\u0440\\u0435\\u0441\\u0441\\u0438\\u043e\\u043d\\u043d\\u044b\\u0439 \\u0442\\u0435\\u0441\\u0442\", \"\\u0440\\u0435\\u0434\\u0430\\u043a\\u0442\\u0438\\u0440\\u043e\\u0432\\u0430\\u043d\\u0438\\u0435\", \"\\u0440\\u0435\\u0434\\u0430\\u043a\\u0442\\u0438\\u0440\\u043e\\u0432\\u0430\\u043d\\u0438\\u0435\", \"\\u0440\\u0435\\u0434\\u0430\\u043a\\u0442\\u0438\\u0440\\u043e\\u0432\\u0430\\u043d\\u0438\\u0435\", \"\\u0440\\u0435\\u0434\\u0430\\u043a\\u0442\\u0438\\u0440\\u043e\\u0432\\u0430\\u043d\\u0438\\u0435 \\u043a\\u043e\\u043d\\u0444\\u0438\\u0433\\u0443\\u0440\\u0430\\u0446\\u0438\\u043e\\u043d\\u043d\\u044b\\u0439\", \"\\u0440\\u0435\\u0434\\u0430\\u043a\\u0442\\u0438\\u0440\\u043e\\u0432\\u0430\\u043d\\u0438\\u0435 \\u043a\\u043e\\u043d\\u0444\\u0438\\u0433\\u0443\\u0440\\u0430\\u0446\\u0438\\u043e\\u043d\\u043d\\u044b\\u0439 \\u0444\\u0430\\u0439\\u043b\", \"\\u0440\\u0435\\u0436\\u0438\\u043c\", \"\\u0440\\u0435\\u0436\\u0438\\u043c\", \"\\u0440\\u0435\\u0436\\u0438\\u043c\", \"\\u0440\\u0435\\u0436\\u0438\\u043c\", \"\\u0440\\u0435\\u0436\\u0438\\u043c\", \"\\u0440\\u0435\\u0436\\u0438\\u043c\", \"\\u0440\\u0435\\u0436\\u0438\\u043c\", \"\\u0440\\u0435\\u0436\\u0438\\u043c\", \"\\u0440\\u0435\\u0436\\u0438\\u043c\", \"\\u0440\\u0435\\u0436\\u0438\\u043c\", \"\\u0440\\u0435\\u0437\\u0438\\u0441\\u0442\\u043e\\u0440\", \"\\u0440\\u0435\\u043c\\u0430\\u0441\\u0442\\u0435\\u0440\", \"\\u0440\\u0435\\u043f\\u043b\\u0438\\u043a\\u0430\", \"\\u0440\\u0435\\u043f\\u043b\\u0438\\u043a\\u0430\", \"\\u0440\\u0435\\u0441\\u0443\\u0440\\u0441\", \"\\u0440\\u0435\\u0441\\u0443\\u0440\\u0441\", \"\\u0440\\u0435\\u0441\\u0443\\u0440\\u0441\", \"\\u0440\\u0435\\u0441\\u0443\\u0440\\u0441\", \"\\u0440\\u0435\\u0441\\u0443\\u0440\\u0441\", \"\\u0440\\u0435\\u0441\\u0443\\u0440\\u0441\", \"\\u0440\\u0435\\u0441\\u0443\\u0440\\u0441\", \"\\u0440\\u0435\\u0441\\u0443\\u0440\\u0441\", \"\\u0440\\u0435\\u0441\\u0443\\u0440\\u0441\", \"\\u0440\\u0435\\u0441\\u0443\\u0440\\u0441\", \"\\u0440\\u0435\\u0441\\u0443\\u0440\\u0441\", \"\\u0440\\u0435\\u0441\\u0443\\u0440\\u0441\", \"\\u0440\\u0435\\u0441\\u0443\\u0440\\u0441 \\u0441\\u0435\\u0440\\u0432\\u0438\\u0441\", \"\\u0440\\u0435\\u0444\\u0435\\u0440\\u0430\\u043b\\u044c\\u043d\\u044b\\u0439\", \"\\u0440\\u0435\\u0444\\u0435\\u0440\\u0430\\u043b\\u044c\\u043d\\u044b\\u0439 \\u043f\\u0440\\u043e\\u0433\\u0440\\u0430\\u043c\\u043c\\u0430\", \"\\u0440\\u0435\\u0448\\u0435\\u043d\\u0438\\u0435\", \"\\u0440\\u0435\\u0448\\u0435\\u043d\\u0438\\u0435\", \"\\u0440\\u0435\\u0448\\u0435\\u043d\\u0438\\u0435\", \"\\u0440\\u0435\\u0448\\u0435\\u043d\\u0438\\u0435\", \"\\u0440\\u0435\\u0448\\u0435\\u043d\\u0438\\u0435\", \"\\u0440\\u0435\\u0448\\u0435\\u043d\\u0438\\u0435\", \"\\u0440\\u0435\\u0448\\u0435\\u043d\\u0438\\u0435\", \"\\u0440\\u0435\\u0448\\u0435\\u043d\\u0438\\u0435\", \"\\u0440\\u0435\\u0448\\u0435\\u043d\\u0438\\u0435\", \"\\u0440\\u0435\\u0448\\u0435\\u043d\\u0438\\u0435\", \"\\u0440\\u0435\\u0448\\u0435\\u043d\\u0438\\u0435\", \"\\u0440\\u0435\\u0448\\u0435\\u043d\\u0438\\u0435\", \"\\u0440\\u0435\\u0448\\u0435\\u043d\\u0438\\u0435\", \"\\u0440\\u0435\\u0448\\u0435\\u043d\\u0438\\u0435\", \"\\u0440\\u0435\\u0448\\u0435\\u043d\\u0438\\u0435\", \"\\u0440\\u043e\\u0431\\u043e\\u0442\", \"\\u0440\\u043e\\u0431\\u043e\\u0442\", \"\\u0440\\u043e\\u0431\\u043e\\u0442\", \"\\u0440\\u043e\\u0431\\u043e\\u0442\", \"\\u0440\\u043e\\u043b\\u0438\\u043a\", \"\\u0440\\u043e\\u043b\\u0438\\u043a\", \"\\u0440\\u043e\\u043b\\u0438\\u043a\", \"\\u0440\\u043e\\u043b\\u0438\\u043a\", \"\\u0440\\u043e\\u0441\\u0441\\u0438\\u044f\", \"\\u0440\\u043e\\u0441\\u0441\\u0438\\u044f\", \"\\u0440\\u043e\\u0441\\u0441\\u0438\\u044f\", \"\\u0440\\u043e\\u0441\\u0441\\u0438\\u044f\", \"\\u0440\\u043e\\u0441\\u0441\\u0438\\u044f\", \"\\u0440\\u043e\\u0441\\u0441\\u0438\\u044f \\u0440\\u043e\\u0441\\u0441\\u0438\\u044f\", \"\\u0440\\u043e\\u0441\\u0441\\u0438\\u044f \\u0441\\u0448\\u0430\", \"\\u0440\\u043e\\u0441\\u0441\\u0438\\u044f \\u0441\\u0448\\u0430 \\u0441\\u0448\\u0430\", \"\\u0440\\u043e\\u0443\\u0442\\u0435\\u0440\", \"\\u0440\\u043e\\u0443\\u0442\\u0435\\u0440\", \"\\u0440\\u043e\\u0443\\u0442\\u0435\\u0440\", \"\\u0440\\u044b\\u043d\\u043e\\u043a\", \"\\u0440\\u044b\\u043d\\u043e\\u043a\", \"\\u0440\\u044b\\u043d\\u043e\\u043a\", \"\\u0440\\u044b\\u043d\\u043e\\u043a\", \"\\u0440\\u044b\\u043d\\u043e\\u043a\", \"\\u0440\\u044b\\u043d\\u043e\\u043a\", \"\\u0440\\u044b\\u043d\\u043e\\u043a\", \"\\u0440\\u044b\\u043d\\u043e\\u043a\", \"\\u0440\\u044b\\u043d\\u043e\\u043a\", \"\\u0440\\u044b\\u043d\\u043e\\u043a\", \"\\u0440\\u044f\\u0434\", \"\\u0440\\u044f\\u0434\", \"\\u0440\\u044f\\u0434\", \"\\u0440\\u044f\\u0434\", \"\\u0440\\u044f\\u0434\", \"\\u0440\\u044f\\u0434\", \"\\u0440\\u044f\\u0434\", \"\\u0440\\u044f\\u0434\", \"\\u0440\\u044f\\u0434\", \"\\u0440\\u044f\\u0434\", \"\\u0440\\u044f\\u0434\", \"\\u0440\\u044f\\u0434\", \"\\u0441\\u0430\\u0431\\u0435\\u0442\\u0430\\u043d\", \"\\u0441\\u0430\\u043c\\u043e\\u0434\\u0435\\u043b\\u044c\\u0449\\u0438\\u043a\", \"\\u0441\\u0430\\u043c\\u044b\\u0439\", \"\\u0441\\u0430\\u043c\\u044b\\u0439\", \"\\u0441\\u0430\\u043c\\u044b\\u0439\", \"\\u0441\\u0430\\u043c\\u044b\\u0439\", \"\\u0441\\u0430\\u043c\\u044b\\u0439\", \"\\u0441\\u0430\\u043c\\u044b\\u0439\", \"\\u0441\\u0430\\u043c\\u044b\\u0439\", \"\\u0441\\u0430\\u043c\\u044b\\u0439\", \"\\u0441\\u0430\\u043c\\u044b\\u0439\", \"\\u0441\\u0430\\u043c\\u044b\\u0439\", \"\\u0441\\u0430\\u043c\\u044b\\u0439\", \"\\u0441\\u0430\\u043c\\u044b\\u0439\", \"\\u0441\\u0430\\u043c\\u044b\\u0439\", \"\\u0441\\u0430\\u043c\\u044b\\u0439\", \"\\u0441\\u0430\\u043c\\u044b\\u0439\", \"\\u0441\\u0430\\u043d\\u043a\\u0442\\u0443\\u0430\\u0440\\u0438\\u0439\", \"\\u0441\\u0431\\u043e\\u0440\", \"\\u0441\\u0431\\u043e\\u0440\", \"\\u0441\\u0431\\u043e\\u0440\", \"\\u0441\\u0431\\u043e\\u0440\", \"\\u0441\\u0431\\u043e\\u0440\", \"\\u0441\\u0431\\u043e\\u0440 \\u043c\\u0435\\u0442\\u0440\\u0438\\u043a\\u0430\", \"\\u0441\\u0431\\u043e\\u0440 \\u043c\\u0435\\u0442\\u0440\\u0438\\u043a\\u0430\", \"\\u0441\\u0431\\u043e\\u0440\\u043a\\u0430\", \"\\u0441\\u0431\\u043e\\u0440\\u043a\\u0430\", \"\\u0441\\u0431\\u043e\\u0440\\u043a\\u0430\", \"\\u0441\\u0431\\u043e\\u0440\\u043a\\u0430\", \"\\u0441\\u0431\\u043e\\u0440\\u043a\\u0430\", \"\\u0441\\u0431\\u043e\\u0440\\u043a\\u0430\", \"\\u0441\\u0431\\u043e\\u0440\\u043a\\u0430\", \"\\u0441\\u0431\\u043e\\u0440\\u043a\\u0430\", \"\\u0441\\u0431\\u043e\\u0440\\u043a\\u0430 \\u043f\\u0440\\u043e\\u0435\\u043a\\u0442\", \"\\u0441\\u0432\\u0430\\u0440\\u043a\\u0430\", \"\\u0441\\u0432\\u0430\\u0440\\u043e\\u0447\\u043d\\u044b\\u0439\", \"\\u0441\\u0432\\u044f\\u0437\\u044c\", \"\\u0441\\u0432\\u044f\\u0437\\u044c\", \"\\u0441\\u0432\\u044f\\u0437\\u044c\", \"\\u0441\\u0432\\u044f\\u0437\\u044c\", \"\\u0441\\u0432\\u044f\\u0437\\u044c\", \"\\u0441\\u0432\\u044f\\u0437\\u044c\", \"\\u0441\\u0432\\u044f\\u0437\\u044c\", \"\\u0441\\u0432\\u044f\\u0437\\u044c\", \"\\u0441\\u0432\\u044f\\u0437\\u044c\", \"\\u0441\\u0432\\u044f\\u0437\\u044c\", \"\\u0441\\u0432\\u044f\\u0437\\u044c\", \"\\u0441\\u0432\\u044f\\u0437\\u044c\", \"\\u0441\\u0434\\u0435\\u043b\\u0430\\u0442\\u044c\", \"\\u0441\\u0434\\u0435\\u043b\\u0430\\u0442\\u044c\", \"\\u0441\\u0434\\u0435\\u043b\\u0430\\u0442\\u044c\", \"\\u0441\\u0434\\u0435\\u043b\\u0430\\u0442\\u044c\", \"\\u0441\\u0434\\u0435\\u043b\\u0430\\u0442\\u044c\", \"\\u0441\\u0434\\u0435\\u043b\\u0430\\u0442\\u044c\", \"\\u0441\\u0434\\u0435\\u043b\\u0430\\u0442\\u044c\", \"\\u0441\\u0434\\u0435\\u043b\\u0430\\u0442\\u044c\", \"\\u0441\\u0434\\u0435\\u043b\\u0430\\u0442\\u044c\", \"\\u0441\\u0434\\u0435\\u043b\\u0430\\u0442\\u044c\", \"\\u0441\\u0434\\u0435\\u043b\\u0430\\u0442\\u044c\", \"\\u0441\\u0434\\u0435\\u043b\\u0430\\u0442\\u044c\", \"\\u0441\\u0434\\u0435\\u043b\\u0430\\u0442\\u044c\", \"\\u0441\\u0434\\u0435\\u043b\\u0430\\u0442\\u044c\", \"\\u0441\\u0434\\u0435\\u043b\\u0430\\u0442\\u044c\", \"\\u0441\\u0435\\u043a\\u0446\\u0438\\u044f \\u0438\\u043d\\u0438\\u0446\\u0438\\u0430\\u043b\\u0438\\u0437\\u0430\\u0446\\u0438\\u044f\", \"\\u0441\\u0435\\u0440\\u0432\\u0435\\u0440\", \"\\u0441\\u0435\\u0440\\u0432\\u0435\\u0440\", \"\\u0441\\u0435\\u0440\\u0432\\u0435\\u0440\", \"\\u0441\\u0435\\u0440\\u0432\\u0435\\u0440\", \"\\u0441\\u0435\\u0440\\u0432\\u0435\\u0440\", \"\\u0441\\u0435\\u0440\\u0432\\u0435\\u0440\", \"\\u0441\\u0435\\u0440\\u0432\\u0435\\u0440\", \"\\u0441\\u0435\\u0440\\u0432\\u0435\\u0440\", \"\\u0441\\u0435\\u0440\\u0432\\u0435\\u0440\", \"\\u0441\\u0435\\u0440\\u0432\\u0435\\u0440\", \"\\u0441\\u0435\\u0440\\u0432\\u0435\\u0440\", \"\\u0441\\u0435\\u0440\\u0432\\u0435\\u0440\", \"\\u0441\\u0435\\u0440\\u0432\\u0435\\u0440\", \"\\u0441\\u0435\\u0440\\u0432\\u0435\\u0440 \\u0440\\u0435\\u043b\\u0435\", \"\\u0441\\u0435\\u0440\\u0432\\u0438\\u0441\", \"\\u0441\\u0435\\u0440\\u0432\\u0438\\u0441\", \"\\u0441\\u0435\\u0440\\u0432\\u0438\\u0441\", \"\\u0441\\u0435\\u0440\\u0432\\u0438\\u0441\", \"\\u0441\\u0435\\u0440\\u0432\\u0438\\u0441\", \"\\u0441\\u0435\\u0440\\u0432\\u0438\\u0441\", \"\\u0441\\u0435\\u0440\\u0432\\u0438\\u0441\", \"\\u0441\\u0435\\u0440\\u0432\\u0438\\u0441\", \"\\u0441\\u0435\\u0440\\u0432\\u0438\\u0441\", \"\\u0441\\u0435\\u0440\\u0432\\u0438\\u0441\", \"\\u0441\\u0435\\u0440\\u0438\\u0430\\u043b\\u0438\\u0437\\u0430\\u0442\\u043e\\u0440\", \"\\u0441\\u0435\\u0440\\u0438\\u0430\\u043b\\u0438\\u0437\\u0430\\u0446\\u0438\\u044f\", \"\\u0441\\u0435\\u0440\\u0442\\u0438\\u0444\\u0438\\u043a\\u0430\\u0442\", \"\\u0441\\u0435\\u0440\\u0442\\u0438\\u0444\\u0438\\u043a\\u0430\\u0442\", \"\\u0441\\u0435\\u0440\\u0442\\u0438\\u0444\\u0438\\u043a\\u0430\\u0442\", \"\\u0441\\u0435\\u0440\\u0442\\u0438\\u0444\\u0438\\u043a\\u0430\\u0442\", \"\\u0441\\u0435\\u0440\\u0442\\u0438\\u0444\\u0438\\u043a\\u0430\\u0446\\u0438\\u044f\", \"\\u0441\\u0435\\u0440\\u0442\\u0438\\u0444\\u0438\\u043a\\u0430\\u0446\\u0438\\u044f\", \"\\u0441\\u0435\\u0441\\u0441\\u0438\\u044f\", \"\\u0441\\u0435\\u0441\\u0441\\u0438\\u044f\", \"\\u0441\\u0435\\u0441\\u0441\\u0438\\u044f\", \"\\u0441\\u0435\\u0442\\u0435\\u0432\\u043e\\u0439\", \"\\u0441\\u0435\\u0442\\u0435\\u0432\\u043e\\u0439\", \"\\u0441\\u0435\\u0442\\u0435\\u0432\\u043e\\u0439\", \"\\u0441\\u0435\\u0442\\u0435\\u0432\\u043e\\u0439\", \"\\u0441\\u0435\\u0442\\u0435\\u0432\\u043e\\u0439\", \"\\u0441\\u0435\\u0442\\u0435\\u0432\\u043e\\u0439\", \"\\u0441\\u0435\\u0442\\u0435\\u0432\\u043e\\u0439\", \"\\u0441\\u0435\\u0442\\u0435\\u0432\\u043e\\u0439\", \"\\u0441\\u0435\\u0442\\u0435\\u0432\\u043e\\u0439 \\u0438\\u043d\\u0442\\u0435\\u0440\\u0444\\u0435\\u0439\\u0441\", \"\\u0441\\u0435\\u0442\\u0435\\u0432\\u043e\\u0439 \\u0438\\u043d\\u0442\\u0435\\u0440\\u0444\\u0435\\u0439\\u0441\", \"\\u0441\\u0435\\u0442\\u0435\\u0432\\u043e\\u0439 \\u0443\\u0441\\u0442\\u0440\\u043e\\u0439\\u0441\\u0442\\u0432\\u043e\", \"\\u0441\\u0435\\u0442\\u0435\\u0432\\u043e\\u0439 \\u0443\\u0441\\u0442\\u0440\\u043e\\u0439\\u0441\\u0442\\u0432\\u043e\", \"\\u0441\\u0435\\u0442\\u044c\", \"\\u0441\\u0435\\u0442\\u044c\", \"\\u0441\\u0435\\u0442\\u044c\", \"\\u0441\\u0435\\u0442\\u044c\", \"\\u0441\\u0435\\u0442\\u044c\", \"\\u0441\\u0435\\u0442\\u044c\", \"\\u0441\\u0435\\u0442\\u044c\", \"\\u0441\\u0435\\u0442\\u044c\", \"\\u0441\\u0435\\u0442\\u044c\", \"\\u0441\\u0435\\u0442\\u044c\", \"\\u0441\\u0435\\u0442\\u044c\", \"\\u0441\\u0435\\u0442\\u044c\", \"\\u0441\\u0435\\u0442\\u044c\", \"\\u0441\\u0435\\u0442\\u044c \\u0438\\u0441\\u043f\\u043e\\u043b\\u044c\\u0437\\u043e\\u0432\\u0430\\u0442\\u044c\\u0441\\u044f\", \"\\u0441\\u0435\\u0442\\u044c \\u043c\\u043e\\u0447\\u044c\", \"\\u0441\\u0435\\u0442\\u044c \\u043c\\u043e\\u0447\\u044c\", \"\\u0441\\u0435\\u0442\\u044c \\u043c\\u043e\\u0447\\u044c\", \"\\u0441\\u0435\\u0442\\u044c \\u043c\\u043e\\u0447\\u044c\", \"\\u0441\\u0435\\u0442\\u044c \\u044f\\u0432\\u043b\\u044f\\u0442\\u044c\\u0441\\u044f\", \"\\u0441\\u0438\\u0433\\u043d\\u0430\\u043b\", \"\\u0441\\u0438\\u0433\\u043d\\u0430\\u043b\", \"\\u0441\\u0438\\u0433\\u043d\\u0430\\u043b\", \"\\u0441\\u0438\\u0433\\u043d\\u0430\\u043b\", \"\\u0441\\u0438\\u0433\\u043d\\u0430\\u043b\", \"\\u0441\\u0438\\u0433\\u043d\\u0430\\u043b\", \"\\u0441\\u0438\\u0433\\u043d\\u0430\\u043b\", \"\\u0441\\u0438\\u0433\\u043d\\u0430\\u043b\", \"\\u0441\\u0438\\u0433\\u043d\\u0430\\u043b\", \"\\u0441\\u0438\\u0433\\u043d\\u0430\\u043b\", \"\\u0441\\u0438\\u0433\\u043d\\u0430\\u043b \\u0432\\u044b\\u0441\\u043e\\u043a\\u0438\\u0439 \\u043b\\u043e\\u0433\\u0438\\u0447\\u0435\\u0441\\u043a\\u0438\\u0439\", \"\\u0441\\u0438\\u0433\\u043d\\u0430\\u043b \\u043f\\u0435\\u0440\\u0435\\u043d\\u043e\\u0441\", \"\\u0441\\u0438\\u043c\\u0443\\u043b\\u044f\\u0442\\u043e\\u0440\", \"\\u0441\\u0438\\u043c\\u0443\\u043b\\u044f\\u0442\\u043e\\u0440\", \"\\u0441\\u0438\\u043c\\u0443\\u043b\\u044f\\u0442\\u043e\\u0440 \\u043c\\u043e\\u0448\\u0435\\u043d\\u043d\\u0438\\u043a\", \"\\u0441\\u0438\\u043d\\u0433\\u0443\\u043b\\u044f\\u0440\\u043d\\u043e\\u0441\\u0442\\u044c\", \"\\u0441\\u0438\\u043d\\u0433\\u0443\\u043b\\u044f\\u0440\\u043d\\u043e\\u0441\\u0442\\u044c\", \"\\u0441\\u0438\\u0441\\u0442\\u0435\\u043c\\u0430\", \"\\u0441\\u0438\\u0441\\u0442\\u0435\\u043c\\u0430\", \"\\u0441\\u0438\\u0441\\u0442\\u0435\\u043c\\u0430\", \"\\u0441\\u0438\\u0441\\u0442\\u0435\\u043c\\u0430\", \"\\u0441\\u0438\\u0441\\u0442\\u0435\\u043c\\u0430\", \"\\u0441\\u0438\\u0441\\u0442\\u0435\\u043c\\u0430\", \"\\u0441\\u0438\\u0441\\u0442\\u0435\\u043c\\u0430\", \"\\u0441\\u0438\\u0441\\u0442\\u0435\\u043c\\u0430\", \"\\u0441\\u0438\\u0441\\u0442\\u0435\\u043c\\u0430\", \"\\u0441\\u0438\\u0441\\u0442\\u0435\\u043c\\u0430\", \"\\u0441\\u0438\\u0441\\u0442\\u0435\\u043c\\u0430\", \"\\u0441\\u0438\\u0441\\u0442\\u0435\\u043c\\u0430\", \"\\u0441\\u0438\\u0441\\u0442\\u0435\\u043c\\u0430\", \"\\u0441\\u0438\\u0441\\u0442\\u0435\\u043c\\u0430\", \"\\u0441\\u0438\\u0441\\u0442\\u0435\\u043c\\u0430 \\u043c\\u043e\\u043d\\u0438\\u0442\\u043e\\u0440\\u0438\\u043d\\u0433\", \"\\u0441\\u0438\\u0441\\u0442\\u0435\\u043c\\u0430 \\u043c\\u043e\\u043d\\u0438\\u0442\\u043e\\u0440\\u0438\\u043d\\u0433\", \"\\u0441\\u0438\\u0441\\u0442\\u0435\\u043c\\u0430 \\u043c\\u043e\\u043d\\u0438\\u0442\\u043e\\u0440\\u0438\\u043d\\u0433\", \"\\u0441\\u0438\\u0441\\u0442\\u0435\\u043c\\u0430 \\u043f\\u0440\\u0438\\u043b\\u043e\\u0436\\u0435\\u043d\\u0438\\u0435\", \"\\u0441\\u0438\\u0441\\u0442\\u0435\\u043c\\u0430 \\u043f\\u0440\\u0438\\u043b\\u043e\\u0436\\u0435\\u043d\\u0438\\u0435\", \"\\u0441\\u0438\\u0441\\u0442\\u0435\\u043c\\u0430 \\u043f\\u0440\\u0438\\u043b\\u043e\\u0436\\u0435\\u043d\\u0438\\u0435\", \"\\u0441\\u043a\\u0438\\u043b\\u043b\\u043e\\u0432\", \"\\u0441\\u043a\\u043b\\u0430\\u0434\", \"\\u0441\\u043a\\u043b\\u0430\\u0434\", \"\\u0441\\u043a\\u043b\\u0430\\u0434\", \"\\u0441\\u043a\\u043e\\u043b\\u044c\\u0437\\u0438\\u0442\\u044c\", \"\\u0441\\u043a\\u043e\\u043b\\u044c\\u0437\\u0438\\u0442\\u044c \\u0441\\u0440\\u0435\\u0434\\u043d\\u0438\\u0439\", \"\\u0441\\u043a\\u043e\\u043b\\u044c\\u0437\\u044f\\u0449\\u0438\\u0439\", \"\\u0441\\u043a\\u043e\\u043b\\u044c\\u0437\\u044f\\u0449\\u0438\\u0439\", \"\\u0441\\u043a\\u043e\\u043b\\u044c\\u0437\\u044f\\u0449\\u0438\\u0439\", \"\\u0441\\u043a\\u043e\\u043b\\u044c\\u0437\\u044f\\u0449\\u0438\\u0439 \\u0441\\u0440\\u0435\\u0434\\u043d\\u0438\\u0439\", \"\\u0441\\u043a\\u043e\\u0440\\u043e\\u0441\\u0442\\u044c \\u043e\\u0431\\u0443\\u0447\\u0435\\u043d\\u0438\\u0435\", \"\\u0441\\u043a\\u0440\\u0430\", \"\\u0441\\u043a\\u0440\\u0430 \\u043c\\u0430\\u0441\\u0442\\u0435\\u0440\", \"\\u0441\\u043a\\u0440\\u0438\\u043f\\u0442\", \"\\u0441\\u043a\\u0440\\u0438\\u043f\\u0442\", \"\\u0441\\u043a\\u0440\\u0438\\u043f\\u0442\", \"\\u0441\\u043a\\u0440\\u0438\\u043f\\u0442\", \"\\u0441\\u043a\\u0440\\u0438\\u043f\\u0442\", \"\\u0441\\u043a\\u0440\\u0438\\u043f\\u0442\", \"\\u0441\\u043a\\u0440\\u0438\\u043f\\u0442\", \"\\u0441\\u043b\\u0435\\u0434\\u0443\\u044e\\u0449\\u0438\\u0439\", \"\\u0441\\u043b\\u0435\\u0434\\u0443\\u044e\\u0449\\u0438\\u0439\", \"\\u0441\\u043b\\u0435\\u0434\\u0443\\u044e\\u0449\\u0438\\u0439\", \"\\u0441\\u043b\\u0435\\u0434\\u0443\\u044e\\u0449\\u0438\\u0439\", \"\\u0441\\u043b\\u0435\\u0434\\u0443\\u044e\\u0449\\u0438\\u0439\", \"\\u0441\\u043b\\u0435\\u0434\\u0443\\u044e\\u0449\\u0438\\u0439\", \"\\u0441\\u043b\\u0435\\u0434\\u0443\\u044e\\u0449\\u0438\\u0439\", \"\\u0441\\u043b\\u0435\\u0434\\u0443\\u044e\\u0449\\u0438\\u0439\", \"\\u0441\\u043b\\u0435\\u0434\\u0443\\u044e\\u0449\\u0438\\u0439\", \"\\u0441\\u043b\\u0435\\u0434\\u0443\\u044e\\u0449\\u0438\\u0439\", \"\\u0441\\u043b\\u0435\\u0434\\u0443\\u044e\\u0449\\u0438\\u0439\", \"\\u0441\\u043b\\u0435\\u0434\\u0443\\u044e\\u0449\\u0438\\u0439\", \"\\u0441\\u043b\\u0435\\u0434\\u0443\\u044e\\u0449\\u0438\\u0439\", \"\\u0441\\u043b\\u0435\\u0434\\u0443\\u044e\\u0449\\u0438\\u0439\", \"\\u0441\\u043b\\u0435\\u0434\\u0443\\u044e\\u0449\\u0438\\u0439\", \"\\u0441\\u043b\\u043e\\u0442\", \"\\u0441\\u043b\\u043e\\u0442\", \"\\u0441\\u043b\\u0443\\u0447\\u0430\\u0439\", \"\\u0441\\u043b\\u0443\\u0447\\u0430\\u0439\", \"\\u0441\\u043b\\u0443\\u0447\\u0430\\u0439\", \"\\u0441\\u043b\\u0443\\u0447\\u0430\\u0439\", \"\\u0441\\u043b\\u0443\\u0447\\u0430\\u0439\", \"\\u0441\\u043b\\u0443\\u0447\\u0430\\u0439\", \"\\u0441\\u043b\\u0443\\u0447\\u0430\\u0439\", \"\\u0441\\u043b\\u0443\\u0447\\u0430\\u0439\", \"\\u0441\\u043b\\u0443\\u0447\\u0430\\u0439\", \"\\u0441\\u043b\\u0443\\u0447\\u0430\\u0439\", \"\\u0441\\u043b\\u0443\\u0447\\u0430\\u0439\", \"\\u0441\\u043b\\u0443\\u0447\\u0430\\u0439\", \"\\u0441\\u043b\\u0443\\u0447\\u0430\\u0439\", \"\\u0441\\u043b\\u0443\\u0447\\u0430\\u0439\", \"\\u0441\\u043b\\u0443\\u0447\\u0430\\u0439\", \"\\u0441\\u043c\\u0435\\u043d\\u0430 \\u043f\\u043e\\u0442\\u043e\\u043a\", \"\\u0441\\u043d\\u0438\\u0436\\u0430\\u0442\\u044c \\u0440\\u0438\\u0441\\u043a\", \"\\u0441\\u043d\\u0438\\u043c\\u043e\\u043a\", \"\\u0441\\u043d\\u0438\\u043c\\u043e\\u043a\", \"\\u0441\\u043d\\u0438\\u043c\\u043e\\u043a\", \"\\u0441\\u043d\\u0438\\u043f\\u043f\\u0435\\u0442\", \"\\u0441\\u043e\\u0431\\u0438\\u0440\\u0430\\u0442\\u044c\", \"\\u0441\\u043e\\u0431\\u0438\\u0440\\u0430\\u0442\\u044c\", \"\\u0441\\u043e\\u0431\\u0438\\u0440\\u0430\\u0442\\u044c\", \"\\u0441\\u043e\\u0431\\u0438\\u0440\\u0430\\u0442\\u044c\", \"\\u0441\\u043e\\u0431\\u0438\\u0440\\u0430\\u0442\\u044c\", \"\\u0441\\u043e\\u0431\\u0438\\u0440\\u0430\\u0442\\u044c\", \"\\u0441\\u043e\\u0431\\u0438\\u0440\\u0430\\u0442\\u044c\", \"\\u0441\\u043e\\u0431\\u0438\\u0440\\u0430\\u0442\\u044c\", \"\\u0441\\u043e\\u0431\\u0438\\u0440\\u0430\\u0442\\u044c\", \"\\u0441\\u043e\\u0431\\u0438\\u0440\\u0430\\u0442\\u044c\", \"\\u0441\\u043e\\u0431\\u0438\\u0440\\u0430\\u0442\\u044c\", \"\\u0441\\u043e\\u0431\\u0438\\u0440\\u0430\\u0442\\u044c\", \"\\u0441\\u043e\\u0431\\u0438\\u0440\\u0430\\u0442\\u044c \\u043c\\u0435\\u0442\\u0440\\u0438\\u043a\\u0430\", \"\\u0441\\u043e\\u0431\\u0438\\u0440\\u0430\\u0442\\u044c \\u043c\\u0435\\u0442\\u0440\\u0438\\u043a\\u0430\", \"\\u0441\\u043e\\u0431\\u0438\\u0440\\u0430\\u0442\\u044c \\u043c\\u0435\\u0442\\u0440\\u0438\\u043a\\u0430\", \"\\u0441\\u043e\\u0431\\u0438\\u0440\\u0430\\u0442\\u044c \\u043c\\u0435\\u0442\\u0440\\u0438\\u043a\\u0430\", \"\\u0441\\u043e\\u0431\\u044b\\u0442\\u0438\\u0435\", \"\\u0441\\u043e\\u0431\\u044b\\u0442\\u0438\\u0435\", \"\\u0441\\u043e\\u0431\\u044b\\u0442\\u0438\\u0435\", \"\\u0441\\u043e\\u0431\\u044b\\u0442\\u0438\\u0435\", \"\\u0441\\u043e\\u0431\\u044b\\u0442\\u0438\\u0435\", \"\\u0441\\u043e\\u0431\\u044b\\u0442\\u0438\\u0435\", \"\\u0441\\u043e\\u0431\\u044b\\u0442\\u0438\\u0435\", \"\\u0441\\u043e\\u0431\\u044b\\u0442\\u0438\\u0435\", \"\\u0441\\u043e\\u0431\\u044b\\u0442\\u0438\\u0435\", \"\\u0441\\u043e\\u0431\\u044b\\u0442\\u0438\\u0435\", \"\\u0441\\u043e\\u0431\\u044b\\u0442\\u0438\\u0435\", \"\\u0441\\u043e\\u0431\\u044b\\u0442\\u0438\\u0435 \\u0447\\u0440\\u043d\\u043e\\u0439\", \"\\u0441\\u043e\\u0431\\u044b\\u0442\\u0438\\u0435 \\u0447\\u0440\\u043d\\u043e\\u0439 \\u0434\\u044b\\u0440\\u0430\", \"\\u0441\\u043e\\u0435\\u0434\\u0438\\u043d\\u0435\\u043d\\u0438\\u0435\", \"\\u0441\\u043e\\u0435\\u0434\\u0438\\u043d\\u0435\\u043d\\u0438\\u0435\", \"\\u0441\\u043e\\u0435\\u0434\\u0438\\u043d\\u0435\\u043d\\u0438\\u0435\", \"\\u0441\\u043e\\u0435\\u0434\\u0438\\u043d\\u0435\\u043d\\u0438\\u0435\", \"\\u0441\\u043e\\u0435\\u0434\\u0438\\u043d\\u0435\\u043d\\u0438\\u0435\", \"\\u0441\\u043e\\u0435\\u0434\\u0438\\u043d\\u0435\\u043d\\u0438\\u0435\", \"\\u0441\\u043e\\u0435\\u0434\\u0438\\u043d\\u0435\\u043d\\u0438\\u0435\", \"\\u0441\\u043e\\u0437\\u0434\\u0430\\u0432\\u0430\\u0442\\u044c\", \"\\u0441\\u043e\\u0437\\u0434\\u0430\\u0432\\u0430\\u0442\\u044c\", \"\\u0441\\u043e\\u0437\\u0434\\u0430\\u0432\\u0430\\u0442\\u044c\", \"\\u0441\\u043e\\u0437\\u0434\\u0430\\u0432\\u0430\\u0442\\u044c\", \"\\u0441\\u043e\\u0437\\u0434\\u0430\\u0432\\u0430\\u0442\\u044c\", \"\\u0441\\u043e\\u0437\\u0434\\u0430\\u0432\\u0430\\u0442\\u044c\", \"\\u0441\\u043e\\u0437\\u0434\\u0430\\u0432\\u0430\\u0442\\u044c\", \"\\u0441\\u043e\\u0437\\u0434\\u0430\\u0432\\u0430\\u0442\\u044c\", \"\\u0441\\u043e\\u0437\\u0434\\u0430\\u0432\\u0430\\u0442\\u044c\", \"\\u0441\\u043e\\u0437\\u0434\\u0430\\u0432\\u0430\\u0442\\u044c\", \"\\u0441\\u043e\\u0437\\u0434\\u0430\\u0432\\u0430\\u0442\\u044c\", \"\\u0441\\u043e\\u0437\\u0434\\u0430\\u0432\\u0430\\u0442\\u044c\", \"\\u0441\\u043e\\u0437\\u0434\\u0430\\u0432\\u0430\\u0442\\u044c\", \"\\u0441\\u043e\\u0437\\u0434\\u0430\\u0432\\u0430\\u0442\\u044c\", \"\\u0441\\u043e\\u0437\\u0434\\u0430\\u0432\\u0430\\u0442\\u044c\", \"\\u0441\\u043e\\u043e\\u0431\\u0449\\u0435\\u043d\\u0438\\u0435\", \"\\u0441\\u043e\\u043e\\u0431\\u0449\\u0435\\u043d\\u0438\\u0435\", \"\\u0441\\u043e\\u043e\\u0431\\u0449\\u0435\\u043d\\u0438\\u0435\", \"\\u0441\\u043e\\u043e\\u0431\\u0449\\u0435\\u043d\\u0438\\u0435\", \"\\u0441\\u043e\\u043e\\u0431\\u0449\\u0435\\u043d\\u0438\\u0435\", \"\\u0441\\u043e\\u043e\\u0431\\u0449\\u0435\\u043d\\u0438\\u0435\", \"\\u0441\\u043e\\u043e\\u0431\\u0449\\u0435\\u043d\\u0438\\u0435\", \"\\u0441\\u043e\\u043e\\u0431\\u0449\\u0435\\u043d\\u0438\\u0435\", \"\\u0441\\u043e\\u043e\\u0431\\u0449\\u0435\\u043d\\u0438\\u0435\", \"\\u0441\\u043e\\u043e\\u0431\\u0449\\u0435\\u043d\\u0438\\u0435\", \"\\u0441\\u043e\\u043e\\u0431\\u0449\\u0435\\u043d\\u0438\\u0435 \\u043b\\u043e\\u0433\", \"\\u0441\\u043e\\u043e\\u0431\\u0449\\u0435\\u043d\\u0438\\u0435 \\u043b\\u043e\\u0433\", \"\\u0441\\u043e\\u0441\\u0435\\u0434\", \"\\u0441\\u043e\\u0441\\u0435\\u0434\", \"\\u0441\\u043e\\u0441\\u0435\\u0434\", \"\\u0441\\u043e\\u0441\\u0435\\u0434\", \"\\u0441\\u043e\\u0441\\u0435\\u0434\\u043d\\u0438\\u0439\", \"\\u0441\\u043e\\u0441\\u0435\\u0434\\u043d\\u0438\\u0439\", \"\\u0441\\u043e\\u0441\\u0435\\u0434\\u043d\\u0438\\u0439 \\u0442\\u043e\\u0447\\u043a\\u0430\", \"\\u0441\\u043e\\u0441\\u0435\\u0434\\u043d\\u0438\\u0439 \\u0442\\u043e\\u0447\\u043a\\u0430 \\u0434\\u043e\\u0441\\u0442\\u0443\\u043f\", \"\\u0441\\u043e\\u0441\\u0442\\u0430\\u0432\\u043b\\u044f\\u0442\\u044c \\u043c\\u0438\\u043a\\u0440\\u043e\\u0441\\u0442\\u0440\\u0443\\u043a\\u0442\\u0443\\u0440\\u0430\", \"\\u0441\\u043e\\u0441\\u0442\\u043e\\u044f\\u043d\\u0438\\u0435\", \"\\u0441\\u043e\\u0441\\u0442\\u043e\\u044f\\u043d\\u0438\\u0435\", \"\\u0441\\u043e\\u0441\\u0442\\u043e\\u044f\\u043d\\u0438\\u0435\", \"\\u0441\\u043e\\u0441\\u0442\\u043e\\u044f\\u043d\\u0438\\u0435\", \"\\u0441\\u043e\\u0441\\u0442\\u043e\\u044f\\u043d\\u0438\\u0435\", \"\\u0441\\u043e\\u0441\\u0442\\u043e\\u044f\\u043d\\u0438\\u0435\", \"\\u0441\\u043e\\u0441\\u0442\\u043e\\u044f\\u043d\\u0438\\u0435\", \"\\u0441\\u043e\\u0441\\u0442\\u043e\\u044f\\u043d\\u0438\\u0435\", \"\\u0441\\u043e\\u0441\\u0442\\u043e\\u044f\\u043d\\u0438\\u0435\", \"\\u0441\\u043e\\u0441\\u0442\\u043e\\u044f\\u043d\\u0438\\u0435\", \"\\u0441\\u043e\\u0441\\u0442\\u043e\\u044f\\u043d\\u0438\\u0435\", \"\\u0441\\u043e\\u0441\\u0442\\u043e\\u044f\\u043d\\u0438\\u0435\", \"\\u0441\\u043e\\u0441\\u0442\\u043e\\u044f\\u043d\\u0438\\u0435\", \"\\u0441\\u043e\\u0441\\u0442\\u043e\\u044f\\u043d\\u0438\\u0435\", \"\\u0441\\u043e\\u0441\\u0442\\u043e\\u044f\\u043d\\u0438\\u0435 \\u0433\\u043e\\u043d\\u043a\\u0430\", \"\\u0441\\u043f\\u0430\\u0441\\u0438\\u0431\\u043e\", \"\\u0441\\u043f\\u0430\\u0441\\u0438\\u0431\\u043e\", \"\\u0441\\u043f\\u0430\\u0441\\u0438\\u0431\\u043e\", \"\\u0441\\u043f\\u0435\\u0446\\u0438\\u0430\\u043b\\u0438\\u0441\\u0442\", \"\\u0441\\u043f\\u0435\\u0446\\u0438\\u0430\\u043b\\u0438\\u0441\\u0442\", \"\\u0441\\u043f\\u0435\\u0446\\u0438\\u0430\\u043b\\u0438\\u0441\\u0442\", \"\\u0441\\u043f\\u0435\\u0446\\u0438\\u0430\\u043b\\u0438\\u0441\\u0442\", \"\\u0441\\u043f\\u0435\\u0446\\u0438\\u0430\\u043b\\u0438\\u0441\\u0442\", \"\\u0441\\u043f\\u0435\\u0446\\u0438\\u0430\\u043b\\u0438\\u0441\\u0442\", \"\\u0441\\u043f\\u0435\\u0446\\u0438\\u0430\\u043b\\u0438\\u0441\\u0442\", \"\\u0441\\u043f\\u0440\\u0438\\u043d\\u0442\", \"\\u0441\\u043f\\u0440\\u0438\\u043d\\u0442\", \"\\u0441\\u043f\\u0443\\u0442\\u043d\\u0438\\u043a\", \"\\u0441\\u043f\\u0443\\u0442\\u043d\\u0438\\u043a\", \"\\u0441\\u043f\\u0443\\u0442\\u043d\\u0438\\u043a\\u043e\\u0432\\u044b\\u0439\", \"\\u0441\\u0440\\u0435\\u0434\\u043d\\u0438\\u0439\", \"\\u0441\\u0440\\u0435\\u0434\\u043d\\u0438\\u0439\", \"\\u0441\\u0440\\u0435\\u0434\\u043d\\u0438\\u0439\", \"\\u0441\\u0440\\u0435\\u0434\\u043d\\u0438\\u0439\", \"\\u0441\\u0440\\u0435\\u0434\\u043d\\u0438\\u0439\", \"\\u0441\\u0440\\u0435\\u0434\\u043d\\u0438\\u0439\", \"\\u0441\\u0440\\u0435\\u0434\\u043d\\u0438\\u0439\", \"\\u0441\\u0440\\u0435\\u0434\\u043d\\u0438\\u0439\", \"\\u0441\\u0440\\u0435\\u0434\\u043d\\u0438\\u0439\", \"\\u0441\\u0440\\u0435\\u0434\\u043d\\u0438\\u0439\", \"\\u0441\\u0440\\u0435\\u0434\\u043d\\u0438\\u0439\", \"\\u0441\\u0441\\u044b\\u043b\\u043a\\u0430 \\u043f\\u0430\\u043a\\u0435\\u0442\", \"\\u0441\\u0442\\u0430\\u043d\\u043e\\u0432\\u0438\\u0442\\u044c\\u0441\\u044f\", \"\\u0441\\u0442\\u0430\\u043d\\u043e\\u0432\\u0438\\u0442\\u044c\\u0441\\u044f\", \"\\u0441\\u0442\\u0430\\u043d\\u043e\\u0432\\u0438\\u0442\\u044c\\u0441\\u044f\", \"\\u0441\\u0442\\u0430\\u043d\\u043e\\u0432\\u0438\\u0442\\u044c\\u0441\\u044f\", \"\\u0441\\u0442\\u0430\\u043d\\u043e\\u0432\\u0438\\u0442\\u044c\\u0441\\u044f\", \"\\u0441\\u0442\\u0430\\u043d\\u043e\\u0432\\u0438\\u0442\\u044c\\u0441\\u044f\", \"\\u0441\\u0442\\u0430\\u043d\\u043e\\u0432\\u0438\\u0442\\u044c\\u0441\\u044f\", \"\\u0441\\u0442\\u0430\\u043d\\u043e\\u0432\\u0438\\u0442\\u044c\\u0441\\u044f\", \"\\u0441\\u0442\\u0430\\u043d\\u043e\\u0432\\u0438\\u0442\\u044c\\u0441\\u044f\", \"\\u0441\\u0442\\u0430\\u043d\\u043e\\u0432\\u0438\\u0442\\u044c\\u0441\\u044f\", \"\\u0441\\u0442\\u0430\\u043d\\u043e\\u0432\\u0438\\u0442\\u044c\\u0441\\u044f\", \"\\u0441\\u0442\\u0430\\u043d\\u043e\\u0432\\u0438\\u0442\\u044c\\u0441\\u044f\", \"\\u0441\\u0442\\u0430\\u043d\\u043e\\u0432\\u0438\\u0442\\u044c\\u0441\\u044f\", \"\\u0441\\u0442\\u0430\\u043d\\u043e\\u0432\\u0438\\u0442\\u044c\\u0441\\u044f\", \"\\u0441\\u0442\\u0430\\u043d\\u0446\\u0438\\u044f\", \"\\u0441\\u0442\\u0430\\u043d\\u0446\\u0438\\u044f\", \"\\u0441\\u0442\\u0430\\u043d\\u0446\\u0438\\u044f\", \"\\u0441\\u0442\\u0430\\u0442\\u0438\\u0447\\u0435\\u0441\\u043a\\u0438\\u0439 \\u0430\\u0434\\u0440\\u0435\\u0441\", \"\\u0441\\u0442\\u0430\\u0442\\u044c\\u044f\", \"\\u0441\\u0442\\u0430\\u0442\\u044c\\u044f\", \"\\u0441\\u0442\\u0430\\u0442\\u044c\\u044f\", \"\\u0441\\u0442\\u0430\\u0442\\u044c\\u044f\", \"\\u0441\\u0442\\u0430\\u0442\\u044c\\u044f\", \"\\u0441\\u0442\\u0430\\u0442\\u044c\\u044f\", \"\\u0441\\u0442\\u0430\\u0442\\u044c\\u044f\", \"\\u0441\\u0442\\u0430\\u0442\\u044c\\u044f\", \"\\u0441\\u0442\\u0430\\u0442\\u044c\\u044f\", \"\\u0441\\u0442\\u0430\\u0442\\u044c\\u044f\", \"\\u0441\\u0442\\u0430\\u0442\\u044c\\u044f\", \"\\u0441\\u0442\\u0430\\u0442\\u044c\\u044f\", \"\\u0441\\u0442\\u0430\\u0442\\u044c\\u044f\", \"\\u0441\\u0442\\u0430\\u0442\\u044c\\u044f\", \"\\u0441\\u0442\\u0435\\u0433\\u0430\\u043d\\u043e\\u0433\\u0440\\u0430\\u0444\\u0438\\u044f\", \"\\u0441\\u0442\\u0435\\u043a \\u043e\\u043f\\u0435\\u0440\\u0430\\u043d\\u0434\", \"\\u0441\\u0442\\u0438\\u0445\\u0438\\u044f\", \"\\u0441\\u0442\\u0440\\u0435\\u0441\\u0441\", \"\\u0441\\u0442\\u0440\\u0438\\u043c\", \"\\u0441\\u0442\\u0443\\u0434\\u0438\\u044f\", \"\\u0441\\u0442\\u0443\\u0434\\u0438\\u044f\", \"\\u0441\\u0442\\u0443\\u0434\\u0438\\u044f\", \"\\u0441\\u0442\\u0443\\u0434\\u0438\\u044f\", \"\\u0441\\u0442\\u0443\\u0434\\u0438\\u044f\", \"\\u0441\\u0442\\u044d\\u043a\", \"\\u0441\\u0443\\u0431\\u0434\", \"\\u0441\\u0443\\u0431\\u044a\\u0435\\u043a\\u0442\", \"\\u0441\\u0443\\u0434\\u0435\\u0439\\u0441\\u0442\\u0432\\u043e\", \"\\u0441\\u0443\\u0434\\u0435\\u0439\\u0441\\u0442\\u0432\\u043e \\u0441\\u043f\\u0430\\u0441\\u0438\\u0431\\u043e\", \"\\u0441\\u0443\\u043c\\u043c\\u0430\", \"\\u0441\\u0443\\u043c\\u043c\\u0430\", \"\\u0441\\u0443\\u043c\\u043c\\u0430\", \"\\u0441\\u0443\\u043c\\u043c\\u0430\", \"\\u0441\\u0443\\u043c\\u043c\\u0430\", \"\\u0441\\u0443\\u043c\\u043c\\u0430 \\u0432\\u0435\\u0441\\u044c\", \"\\u0441\\u0443\\u043c\\u043c\\u0430 \\u0432\\u0435\\u0441\\u044c \\u0431\\u0430\\u043b\\u043b\", \"\\u0441\\u0443\\u043c\\u043c\\u0430 \\u0442\\u0435\\u0445\\u043d\\u0438\\u0447\\u0435\\u0441\\u043a\\u0438\\u0439\", \"\\u0441\\u0443\\u043c\\u043c\\u0430 \\u0442\\u0435\\u0445\\u043d\\u0438\\u0447\\u0435\\u0441\\u043a\\u0438\\u0439 \\u0431\\u0430\\u043b\\u043b\", \"\\u0441\\u0443\\u043c\\u043c\\u0430\\u0442\\u043e\\u0440\", \"\\u0441\\u0445\\u0435\\u043c\\u0430\", \"\\u0441\\u0445\\u0435\\u043c\\u0430\", \"\\u0441\\u0445\\u0435\\u043c\\u0430\", \"\\u0441\\u0445\\u0435\\u043c\\u0430\", \"\\u0441\\u0445\\u0435\\u043c\\u0430\", \"\\u0441\\u0445\\u0435\\u043c\\u0430\", \"\\u0441\\u0445\\u0435\\u043c\\u0430\", \"\\u0441\\u0445\\u0435\\u043c\\u0430\", \"\\u0441\\u0445\\u0435\\u043c\\u0430\", \"\\u0441\\u0445\\u0435\\u043c\\u0430\", \"\\u0441\\u0447\\u0435\\u0442\\u0447\\u0438\\u043a\", \"\\u0441\\u0447\\u0435\\u0442\\u0447\\u0438\\u043a\", \"\\u0441\\u0448\\u0430\", \"\\u0441\\u0448\\u0430\", \"\\u0441\\u0448\\u0430\", \"\\u0441\\u0448\\u0430\", \"\\u0441\\u0448\\u0430\", \"\\u0441\\u0448\\u0430\", \"\\u0441\\u0448\\u0430\", \"\\u0441\\u0448\\u0430\", \"\\u0441\\u0448\\u0430 \\u0441\\u0448\\u0430\", \"\\u0441\\u0448\\u0430 \\u0441\\u0448\\u0430 \\u0441\\u0448\\u0430\", \"\\u0441\\u044a\\u043c\\u043a\\u0438\", \"\\u0441\\u044e\\u0436\\u0435\\u0442\", \"\\u0441\\u044e\\u0436\\u0435\\u0442\", \"\\u0441\\u044e\\u0436\\u0435\\u0442\", \"\\u0442\\u0430\\u043b\\u0438\\u0441\\u043c\\u0430\\u043d\", \"\\u0442\\u0435\\u043b\\u0435\\u0432\\u0438\\u0434\\u0435\\u043d\\u0438\\u0435\", \"\\u0442\\u0435\\u043b\\u0435\\u0432\\u0438\\u0434\\u0435\\u043d\\u0438\\u0435\", \"\\u0442\\u0435\\u043b\\u043e\", \"\\u0442\\u0435\\u043b\\u043e\", \"\\u0442\\u0435\\u043b\\u043e\", \"\\u0442\\u0435\\u043b\\u043e\", \"\\u0442\\u0435\\u043b\\u043e \\u043f\\u0430\\u043a\\u0435\\u0442\", \"\\u0442\\u0435\\u043d\\u0437\\u043e\\u0440\", \"\\u0442\\u0435\\u043f\\u043b\\u043e\\u0432\\u0438\\u0437\\u043e\\u0440\", \"\\u0442\\u0435\\u043f\\u043b\\u043e\\u0432\\u043e\\u0439\", \"\\u0442\\u0435\\u0441\\u0442\", \"\\u0442\\u0435\\u0441\\u0442\", \"\\u0442\\u0435\\u0441\\u0442\", \"\\u0442\\u0435\\u0441\\u0442\", \"\\u0442\\u0435\\u0441\\u0442\", \"\\u0442\\u0435\\u0441\\u0442\", \"\\u0442\\u0435\\u0441\\u0442\", \"\\u0442\\u0435\\u0441\\u0442 \\u043a\\u0435\\u0439\\u0441\", \"\\u0442\\u0435\\u0441\\u0442\\u0438\\u0440\\u043e\\u0432\\u0449\\u0438\\u043a\", \"\\u0442\\u0435\\u0441\\u0442\\u0438\\u0440\\u043e\\u0432\\u0449\\u0438\\u043a\", \"\\u0442\\u0435\\u0441\\u0442\\u0438\\u0440\\u043e\\u0432\\u0449\\u0438\\u043a\", \"\\u0442\\u0435\\u0445\\u043d\\u0438\\u0447\\u0435\\u0441\\u043a\\u0438\\u0439\", \"\\u0442\\u0435\\u0445\\u043d\\u0438\\u0447\\u0435\\u0441\\u043a\\u0438\\u0439\", \"\\u0442\\u0435\\u0445\\u043d\\u0438\\u0447\\u0435\\u0441\\u043a\\u0438\\u0439\", \"\\u0442\\u0435\\u0445\\u043d\\u0438\\u0447\\u0435\\u0441\\u043a\\u0438\\u0439\", \"\\u0442\\u0435\\u0445\\u043d\\u0438\\u0447\\u0435\\u0441\\u043a\\u0438\\u0439\", \"\\u0442\\u0435\\u0445\\u043d\\u0438\\u0447\\u0435\\u0441\\u043a\\u0438\\u0439\", \"\\u0442\\u0435\\u0445\\u043d\\u0438\\u0447\\u0435\\u0441\\u043a\\u0438\\u0439\", \"\\u0442\\u0435\\u0445\\u043d\\u0438\\u0447\\u0435\\u0441\\u043a\\u0438\\u0439\", \"\\u0442\\u0435\\u0445\\u043d\\u0438\\u0447\\u0435\\u0441\\u043a\\u0438\\u0439\", \"\\u0442\\u0435\\u0445\\u043d\\u0438\\u0447\\u0435\\u0441\\u043a\\u0438\\u0439\", \"\\u0442\\u0435\\u0445\\u043d\\u0438\\u0447\\u0435\\u0441\\u043a\\u0438\\u0439 \\u0431\\u0430\\u043b\\u043b\", \"\\u0442\\u0435\\u0445\\u043d\\u043e\\u043b\\u043e\\u0433\\u0438\\u044f\", \"\\u0442\\u0435\\u0445\\u043d\\u043e\\u043b\\u043e\\u0433\\u0438\\u044f\", \"\\u0442\\u0435\\u0445\\u043d\\u043e\\u043b\\u043e\\u0433\\u0438\\u044f\", \"\\u0442\\u0435\\u0445\\u043d\\u043e\\u043b\\u043e\\u0433\\u0438\\u044f\", \"\\u0442\\u0435\\u0445\\u043d\\u043e\\u043b\\u043e\\u0433\\u0438\\u044f\", \"\\u0442\\u0435\\u0445\\u043d\\u043e\\u043b\\u043e\\u0433\\u0438\\u044f\", \"\\u0442\\u0435\\u0445\\u043d\\u043e\\u043b\\u043e\\u0433\\u0438\\u044f\", \"\\u0442\\u0435\\u0445\\u043d\\u043e\\u043b\\u043e\\u0433\\u0438\\u044f\", \"\\u0442\\u0435\\u0445\\u043d\\u043e\\u043b\\u043e\\u0433\\u0438\\u044f\", \"\\u0442\\u0435\\u0447\\u0435\\u043d\\u0438\\u0435\", \"\\u0442\\u0435\\u0447\\u0435\\u043d\\u0438\\u0435\", \"\\u0442\\u0435\\u0447\\u0435\\u043d\\u0438\\u0435\", \"\\u0442\\u0435\\u0447\\u0435\\u043d\\u0438\\u0435\", \"\\u0442\\u0435\\u0447\\u0435\\u043d\\u0438\\u0435\", \"\\u0442\\u0435\\u0447\\u0435\\u043d\\u0438\\u0435\", \"\\u0442\\u0435\\u0447\\u0435\\u043d\\u0438\\u0435\", \"\\u0442\\u0435\\u0447\\u0435\\u043d\\u0438\\u0435\", \"\\u0442\\u0435\\u0447\\u0435\\u043d\\u0438\\u0435\", \"\\u0442\\u0438\\u043c\\u043b\\u0438\\u0434\\u044b\", \"\\u0442\\u0438\\u043f\", \"\\u0442\\u0438\\u043f\", \"\\u0442\\u0438\\u043f\", \"\\u0442\\u0438\\u043f\", \"\\u0442\\u0438\\u043f\", \"\\u0442\\u0438\\u043f\", \"\\u0442\\u0438\\u043f\", \"\\u0442\\u0438\\u043f\", \"\\u0442\\u0438\\u043f\", \"\\u0442\\u0438\\u043f\", \"\\u0442\\u0438\\u043f\", \"\\u0442\\u0438\\u043f\", \"\\u0442\\u0438\\u043f \\u0438\\u043d\\u0441\\u0442\\u0430\\u043d\\u0441\", \"\\u0442\\u043e\\u043f\\u0438\\u043a\", \"\\u0442\\u043e\\u043f\\u0438\\u043a\", \"\\u0442\\u043e\\u043f\\u0438\\u043a\\u0430\", \"\\u0442\\u043e\\u043f\\u0438\\u043a\\u0430\", \"\\u0442\\u043e\\u0440\\u0440\\u0435\\u043d\\u0442\", \"\\u0442\\u043e\\u0447\\u043a\\u0430\", \"\\u0442\\u043e\\u0447\\u043a\\u0430\", \"\\u0442\\u043e\\u0447\\u043a\\u0430\", \"\\u0442\\u043e\\u0447\\u043a\\u0430\", \"\\u0442\\u043e\\u0447\\u043a\\u0430\", \"\\u0442\\u043e\\u0447\\u043a\\u0430\", \"\\u0442\\u043e\\u0447\\u043a\\u0430\", \"\\u0442\\u043e\\u0447\\u043a\\u0430\", \"\\u0442\\u043e\\u0447\\u043a\\u0430\", \"\\u0442\\u043e\\u0447\\u043a\\u0430\", \"\\u0442\\u043e\\u0447\\u043a\\u0430\", \"\\u0442\\u043e\\u0447\\u043a\\u0430\", \"\\u0442\\u043e\\u0447\\u043a\\u0430 \\u0434\\u043e\\u0441\\u0442\\u0443\\u043f\", \"\\u0442\\u043e\\u0447\\u043a\\u0430 \\u043b\\u043e\\u0433\\u0438\\u0440\\u043e\\u0432\\u0430\\u043d\\u0438\\u0435\", \"\\u0442\\u0440\\u0430\\u043d\\u0437\\u0438\\u0441\\u0442\\u043e\\u0440\", \"\\u0442\\u0440\\u0430\\u043d\\u0441\\u043b\\u044f\\u0446\\u0438\\u044f\", \"\\u0442\\u0440\\u0430\\u043d\\u0441\\u043b\\u044f\\u0446\\u0438\\u044f\", \"\\u0442\\u0440\\u0430\\u043d\\u0441\\u043b\\u044f\\u0446\\u0438\\u044f\", \"\\u0442\\u0440\\u0430\\u043d\\u0441\\u043f\\u043e\\u0440\\u0442\\u043d\\u044b\\u0439 \\u0441\\u0440\\u0435\\u0434\\u0441\\u0442\\u0432\\u043e\", \"\\u0442\\u0440\\u0430\\u043d\\u0441\\u0442\\u0435\\u043b\\u0435\\u043a\\u043e\\u043c\", \"\\u0442\\u0440\\u0435\\u0439\\u0441\", \"\\u0442\\u0440\\u0435\\u0439\\u0441\", \"\\u0442\\u0440\\u0435\\u043a\", \"\\u0442\\u0440\\u0438\\u0433\\u0433\\u0435\\u0440\", \"\\u0442\\u0440\\u0438\\u0433\\u0433\\u0435\\u0440\", \"\\u0442\\u0440\\u0438\\u0433\\u0433\\u0435\\u0440\", \"\\u0442\\u0440\\u0438\\u0433\\u0433\\u0435\\u0440\", \"\\u0443\\u043b\\u044c\\u0442\\u0440\\u0430\\u0437\\u0432\\u0443\\u043a\", \"\\u0443\\u043b\\u044c\\u0442\\u0440\\u0430\\u0437\\u0432\\u0443\\u043a\\u043e\\u0432\\u043e\\u0439\", \"\\u0443\\u043b\\u044c\\u0442\\u0440\\u0430\\u0437\\u0432\\u0443\\u043a\\u043e\\u0432\\u043e\\u0439\", \"\\u0443\\u043b\\u044c\\u0442\\u0440\\u0430\\u0437\\u0432\\u0443\\u043a\\u043e\\u0432\\u043e\\u0439 \\u0441\\u0432\\u0430\\u0440\\u043a\\u0430\", \"\\u0443\\u043c\\u043d\\u044b\\u0439 \\u0431\\u0430\\u043d\\u044f\", \"\\u0443\\u043f\\u0440\\u0430\\u0432\\u043b\\u0435\\u043d\\u0438\\u0435 \\u043f\\u0440\\u043e\\u0435\\u043a\\u0442\", \"\\u0443\\u0440\\u043e\\u0432\\u0435\\u043d\\u044c\", \"\\u0443\\u0440\\u043e\\u0432\\u0435\\u043d\\u044c\", \"\\u0443\\u0440\\u043e\\u0432\\u0435\\u043d\\u044c\", \"\\u0443\\u0440\\u043e\\u0432\\u0435\\u043d\\u044c\", \"\\u0443\\u0440\\u043e\\u0432\\u0435\\u043d\\u044c\", \"\\u0443\\u0440\\u043e\\u0432\\u0435\\u043d\\u044c\", \"\\u0443\\u0440\\u043e\\u0432\\u0435\\u043d\\u044c\", \"\\u0443\\u0440\\u043e\\u0432\\u0435\\u043d\\u044c\", \"\\u0443\\u0440\\u043e\\u0432\\u0435\\u043d\\u044c\", \"\\u0443\\u0440\\u043e\\u0432\\u0435\\u043d\\u044c\", \"\\u0443\\u0440\\u043e\\u0432\\u0435\\u043d\\u044c\", \"\\u0443\\u0440\\u043e\\u0432\\u0435\\u043d\\u044c\", \"\\u0443\\u0440\\u043e\\u0432\\u0435\\u043d\\u044c\", \"\\u0443\\u0440\\u043e\\u0432\\u0435\\u043d\\u044c\", \"\\u0443\\u0440\\u043e\\u0432\\u0435\\u043d\\u044c\", \"\\u0443\\u0440\\u043e\\u0432\\u0435\\u043d\\u044c \\u0434\\u043e\\u0441\\u0442\\u0443\\u043f\\u043d\\u043e\\u0441\\u0442\\u044c\", \"\\u0443\\u0440\\u043e\\u0432\\u0435\\u043d\\u044c \\u043a\\u0430\\u0447\\u0435\\u0441\\u0442\\u0432\\u043e\", \"\\u0443\\u0440\\u043e\\u0432\\u0435\\u043d\\u044c \\u043e\\u0431\\u0441\\u043b\\u0443\\u0436\\u0438\\u0432\\u0430\\u043d\\u0438\\u0435\", \"\\u0443\\u0440\\u043e\\u0432\\u0435\\u043d\\u044c \\u0441\\u043b\\u043e\\u0436\\u043d\\u043e\\u0441\\u0442\\u044c\", \"\\u0443\\u0440\\u043e\\u0432\\u0435\\u043d\\u044c \\u0448\\u0443\\u043c\", \"\\u0443\\u0440\\u043e\\u043d\", \"\\u0443\\u0441\\u0438\\u043b\\u0438\\u0442\\u0435\\u043b\\u044c\", \"\\u0443\\u0441\\u0438\\u043b\\u0438\\u0442\\u0435\\u043b\\u044c\", \"\\u0443\\u0441\\u043b\\u0443\\u0433\\u0430\", \"\\u0443\\u0441\\u043b\\u0443\\u0433\\u0430\", \"\\u0443\\u0441\\u043b\\u0443\\u0433\\u0430\", \"\\u0443\\u0441\\u043b\\u0443\\u0433\\u0430\", \"\\u0443\\u0441\\u043b\\u0443\\u0433\\u0430\", \"\\u0443\\u0441\\u043b\\u0443\\u0433\\u0430\", \"\\u0443\\u0441\\u043b\\u0443\\u0433\\u0430\", \"\\u0443\\u0441\\u043b\\u0443\\u0433\\u0430\", \"\\u0443\\u0441\\u0442\\u0440\\u043e\\u0439\\u0441\\u0442\\u0432\\u043e\", \"\\u0443\\u0441\\u0442\\u0440\\u043e\\u0439\\u0441\\u0442\\u0432\\u043e\", \"\\u0443\\u0441\\u0442\\u0440\\u043e\\u0439\\u0441\\u0442\\u0432\\u043e\", \"\\u0443\\u0441\\u0442\\u0440\\u043e\\u0439\\u0441\\u0442\\u0432\\u043e\", \"\\u0443\\u0441\\u0442\\u0440\\u043e\\u0439\\u0441\\u0442\\u0432\\u043e\", \"\\u0443\\u0441\\u0442\\u0440\\u043e\\u0439\\u0441\\u0442\\u0432\\u043e\", \"\\u0443\\u0441\\u0442\\u0440\\u043e\\u0439\\u0441\\u0442\\u0432\\u043e\", \"\\u0443\\u0441\\u0442\\u0440\\u043e\\u0439\\u0441\\u0442\\u0432\\u043e\", \"\\u0443\\u0441\\u0442\\u0440\\u043e\\u0439\\u0441\\u0442\\u0432\\u043e\", \"\\u0443\\u0441\\u0442\\u0440\\u043e\\u0439\\u0441\\u0442\\u0432\\u043e\", \"\\u0443\\u0441\\u0442\\u0440\\u043e\\u0439\\u0441\\u0442\\u0432\\u043e\", \"\\u0443\\u0441\\u0442\\u0440\\u043e\\u0439\\u0441\\u0442\\u0432\\u043e\", \"\\u0443\\u0441\\u0442\\u0440\\u043e\\u0439\\u0441\\u0442\\u0432\\u043e\", \"\\u0443\\u0441\\u0442\\u0440\\u043e\\u0439\\u0441\\u0442\\u0432\\u043e\", \"\\u0443\\u0441\\u0442\\u0440\\u043e\\u0439\\u0441\\u0442\\u0432\\u043e \\u043f\\u0440\\u0435\\u0434\\u043e\\u0441\\u0442\\u0430\\u0432\\u043b\\u044f\\u0442\\u044c\", \"\\u0443\\u0441\\u0442\\u0440\\u043e\\u0439\\u0441\\u0442\\u0432\\u043e \\u0445\\u0440\\u0430\\u043d\\u0435\\u043d\\u0438\\u0435\", \"\\u0443\\u0441\\u0442\\u0440\\u043e\\u0439\\u0441\\u0442\\u0432\\u043e \\u0445\\u0440\\u0430\\u043d\\u0435\\u043d\\u0438\\u0435\", \"\\u0443\\u0441\\u0442\\u0440\\u043e\\u0439\\u0441\\u0442\\u0432\\u043e \\u0445\\u0440\\u0430\\u043d\\u0435\\u043d\\u0438\\u0435\", \"\\u0443\\u0442\\u0438\\u043b\\u0438\\u0437\\u0430\\u0446\\u0438\\u044f\", \"\\u0443\\u0442\\u0438\\u043b\\u0438\\u0437\\u0430\\u0446\\u0438\\u044f\", \"\\u0444\\u0430\\u0431\\u043b\\u0430\\u0431\", \"\\u0444\\u0430\\u0439\\u043b\", \"\\u0444\\u0430\\u0439\\u043b\", \"\\u0444\\u0430\\u0439\\u043b\", \"\\u0444\\u0430\\u0439\\u043b\", \"\\u0444\\u0430\\u0439\\u043b\", \"\\u0444\\u0430\\u0439\\u043b\", \"\\u0444\\u0430\\u0439\\u043b\", \"\\u0444\\u0430\\u0439\\u043b\", \"\\u0444\\u0430\\u0439\\u043b\", \"\\u0444\\u0430\\u0439\\u043b\", \"\\u0444\\u0430\\u0439\\u043b\", \"\\u0444\\u0430\\u0439\\u043b \\u0436\\u0443\\u0440\\u043d\\u0430\\u043b\", \"\\u0444\\u0430\\u0439\\u043b \\u0436\\u0443\\u0440\\u043d\\u0430\\u043b\", \"\\u0444\\u0430\\u0439\\u043b \\u0438\\u043d\\u0442\\u0435\\u0440\\u0444\\u0435\\u0439\\u0441\", \"\\u0444\\u0430\\u0439\\u043b \\u043a\\u0430\\u0436\\u0434\\u044b\\u0439\", \"\\u0444\\u0430\\u0439\\u043b \\u043a\\u0430\\u0436\\u0434\\u044b\\u0439 \\u0441\\u0435\\u0442\\u0435\\u0432\\u043e\\u0439\", \"\\u0444\\u0430\\u0439\\u043b \\u043a\\u043b\\u0430\\u0441\\u0441\", \"\\u0444\\u0430\\u0439\\u043b \\u043f\\u0440\\u043e\\u0435\\u043a\\u0442\", \"\\u0444\\u0430\\u0439\\u043b \\u0441\\u0435\\u0442\\u044c\", \"\\u0444\\u0430\\u0439\\u043b \\u0441\\u043e\\u0441\\u0442\\u043e\\u044f\\u043d\\u0438\\u0435\", \"\\u0444\\u0430\\u0439\\u043b\\u043e\\u0432\\u044b\\u0439\", \"\\u0444\\u0430\\u0439\\u043b\\u043e\\u0432\\u044b\\u0439\", \"\\u0444\\u0430\\u0439\\u043b\\u043e\\u0432\\u044b\\u0439\", \"\\u0444\\u0430\\u0439\\u043b\\u043e\\u0432\\u044b\\u0439\", \"\\u0444\\u0430\\u0439\\u043b\\u043e\\u0432\\u044b\\u0439 \\u0441\\u0438\\u0441\\u0442\\u0435\\u043c\\u0430\", \"\\u0444\\u0430\\u0439\\u043b\\u043e\\u0432\\u044b\\u0439 \\u0441\\u0438\\u0441\\u0442\\u0435\\u043c\\u0430\", \"\\u0444\\u0430\\u0439\\u043b\\u043e\\u0432\\u044b\\u0439 \\u0441\\u0438\\u0441\\u0442\\u0435\\u043c\\u0430\", \"\\u0444\\u0430\\u0439\\u043b\\u043e\\u0432\\u044b\\u0439 \\u0441\\u0438\\u0441\\u0442\\u0435\\u043c\\u0430\", \"\\u0444\\u0430\\u043d\\u0430\\u0442\", \"\\u0444\\u0430\\u043d\\u0430\\u0442\", \"\\u0444\\u0430\\u043d\\u0430\\u0442\", \"\\u0444\\u0443\\u043d\\u043a\\u0446\\u0438\\u043e\\u043d\\u0430\\u043b\\u044c\\u043d\\u043e\\u0441\\u0442\\u044c\", \"\\u0444\\u0443\\u043d\\u043a\\u0446\\u0438\\u043e\\u043d\\u0430\\u043b\\u044c\\u043d\\u043e\\u0441\\u0442\\u044c\", \"\\u0444\\u0443\\u043d\\u043a\\u0446\\u0438\\u043e\\u043d\\u0430\\u043b\\u044c\\u043d\\u043e\\u0441\\u0442\\u044c\", \"\\u0444\\u0443\\u043d\\u043a\\u0446\\u0438\\u043e\\u043d\\u0430\\u043b\\u044c\\u043d\\u043e\\u0441\\u0442\\u044c\", \"\\u0444\\u0443\\u043d\\u043a\\u0446\\u0438\\u043e\\u043d\\u0430\\u043b\\u044c\\u043d\\u043e\\u0441\\u0442\\u044c\", \"\\u0444\\u0443\\u043d\\u043a\\u0446\\u0438\\u043e\\u043d\\u0430\\u043b\\u044c\\u043d\\u043e\\u0441\\u0442\\u044c\", \"\\u0444\\u0443\\u043d\\u043a\\u0446\\u0438\\u043e\\u043d\\u0430\\u043b\\u044c\\u043d\\u043e\\u0441\\u0442\\u044c\", \"\\u0444\\u0443\\u043d\\u043a\\u0446\\u0438\\u043e\\u043d\\u0430\\u043b\\u044c\\u043d\\u043e\\u0441\\u0442\\u044c\", \"\\u0444\\u0443\\u043d\\u043a\\u0446\\u0438\\u043e\\u043d\\u0430\\u043b\\u044c\\u043d\\u043e\\u0441\\u0442\\u044c \\u043f\\u0430\\u043a\\u0435\\u0442\", \"\\u0444\\u0443\\u043d\\u043a\\u0446\\u0438\\u044f\", \"\\u0444\\u0443\\u043d\\u043a\\u0446\\u0438\\u044f\", \"\\u0444\\u0443\\u043d\\u043a\\u0446\\u0438\\u044f\", \"\\u0444\\u0443\\u043d\\u043a\\u0446\\u0438\\u044f\", \"\\u0444\\u0443\\u043d\\u043a\\u0446\\u0438\\u044f\", \"\\u0444\\u0443\\u043d\\u043a\\u0446\\u0438\\u044f\", \"\\u0444\\u0443\\u043d\\u043a\\u0446\\u0438\\u044f\", \"\\u0444\\u0443\\u043d\\u043a\\u0446\\u0438\\u044f\", \"\\u0444\\u0443\\u043d\\u043a\\u0446\\u0438\\u044f\", \"\\u0444\\u0443\\u043d\\u043a\\u0446\\u0438\\u044f\", \"\\u0444\\u0443\\u043d\\u043a\\u0446\\u0438\\u044f\", \"\\u0444\\u0443\\u043d\\u043a\\u0446\\u0438\\u044f\", \"\\u0444\\u0443\\u043d\\u043a\\u0446\\u0438\\u044f\", \"\\u0444\\u0443\\u043d\\u043a\\u0446\\u0438\\u044f\", \"\\u0444\\u0443\\u043d\\u043a\\u0446\\u0438\\u044f \\u0438\\u043d\\u0438\\u0446\\u0438\\u0430\\u043b\\u0438\\u0437\\u0430\\u0446\\u0438\\u044f\", \"\\u0444\\u0443\\u043d\\u043a\\u0446\\u0438\\u044f \\u043f\\u0430\\u043a\\u0435\\u0442\", \"\\u0444\\u0443\\u043d\\u043a\\u0446\\u0438\\u044f \\u043f\\u0440\\u043e\\u0446\\u0435\\u0434\\u0443\\u0440\\u0430\", \"\\u0445\\u0430\\u0431\\u0440 \\u043a\\u0430\\u0440\\u044c\\u0435\\u0440\\u0430\", \"\\u0445\\u043e\\u043f\\u043f\\u0435\\u0440\", \"\\u0445\\u0443\\u043c\\u0430\\u043d\\u0438\\u0437\\u0430\\u0446\\u0438\\u044f\", \"\\u0446\\u0435\\u043b\\u0435\\u0432\\u043e\\u0439 \\u0430\\u0443\\u0434\\u0438\\u0442\\u043e\\u0440\\u0438\\u044f\", \"\\u0446\\u0435\\u043b\\u044b\\u0439 \\u0447\\u0438\\u0441\\u043b\\u043e \\u0441\\u0435\\u043a\\u0443\\u043d\\u0434\\u0430\", \"\\u0446\\u0435\\u043d\\u0430 \\u0430\\u043a\\u0446\\u0438\\u044f\", \"\\u0446\\u0435\\u043d\\u0430 \\u0437\\u0430\\u043a\\u0440\\u044b\\u0442\\u0438\\u0435\", \"\\u0446\\u0435\\u043d\\u0442\\u0440 \\u0441\\u0435\\u0440\\u0442\\u0438\\u0444\\u0438\\u043a\\u0430\\u0446\\u0438\\u044f\", \"\\u0446\\u0435\\u043f\\u043e\\u0447\\u043a\\u0430\", \"\\u0446\\u0435\\u043f\\u043e\\u0447\\u043a\\u0430\", \"\\u0446\\u0435\\u043f\\u043e\\u0447\\u043a\\u0430\", \"\\u0446\\u0435\\u043f\\u043e\\u0447\\u043a\\u0430\", \"\\u0446\\u0435\\u043f\\u043e\\u0447\\u043a\\u0430\", \"\\u0446\\u0435\\u043f\\u043e\\u0447\\u043a\\u0430\", \"\\u0446\\u0435\\u043f\\u043e\\u0447\\u043a\\u0430\", \"\\u0446\\u0435\\u043f\\u044c\", \"\\u0446\\u0435\\u043f\\u044c\", \"\\u0446\\u0435\\u043f\\u044c \\u043f\\u0438\\u0442\\u0430\\u043d\\u0438\\u0435\", \"\\u0446\\u043e\\u0434\\u044b\", \"\\u0447\\u0430\\u0441\\u0442\\u043e\\u0442\\u0430\", \"\\u0447\\u0430\\u0441\\u0442\\u043e\\u0442\\u0430\", \"\\u0447\\u0430\\u0441\\u0442\\u043e\\u0442\\u0430\", \"\\u0447\\u0430\\u0441\\u0442\\u043e\\u0442\\u0430\", \"\\u0447\\u0430\\u0441\\u0442\\u043e\\u0442\\u0430\", \"\\u0447\\u0430\\u0441\\u0442\\u043e\\u0442\\u0430\", \"\\u0447\\u0430\\u0441\\u0442\\u043e\\u0442\\u0430\", \"\\u0447\\u0430\\u0441\\u0442\\u043e\\u0442\\u0430\", \"\\u0447\\u0430\\u0441\\u0442\\u043e\\u0442\\u0430\", \"\\u0447\\u0430\\u0441\\u0442\\u043e\\u0442\\u0430\", \"\\u0447\\u0435\\u043b\\u043e\\u0432\\u0435\\u043a\", \"\\u0447\\u0435\\u043b\\u043e\\u0432\\u0435\\u043a\", \"\\u0447\\u0435\\u043b\\u043e\\u0432\\u0435\\u043a\", \"\\u0447\\u0435\\u043b\\u043e\\u0432\\u0435\\u043a\", \"\\u0447\\u0435\\u043b\\u043e\\u0432\\u0435\\u043a\", \"\\u0447\\u0435\\u043b\\u043e\\u0432\\u0435\\u043a\", \"\\u0447\\u0435\\u043b\\u043e\\u0432\\u0435\\u043a\", \"\\u0447\\u0435\\u043b\\u043e\\u0432\\u0435\\u043a\", \"\\u0447\\u0435\\u043b\\u043e\\u0432\\u0435\\u043a\", \"\\u0447\\u0435\\u043b\\u043e\\u0432\\u0435\\u043a\", \"\\u0447\\u0435\\u043b\\u043e\\u0432\\u0435\\u043a\", \"\\u0447\\u0435\\u043b\\u043e\\u0432\\u0435\\u043a\", \"\\u0447\\u0435\\u043b\\u043e\\u0432\\u0435\\u043a\", \"\\u0447\\u0435\\u0442\\u044b\\u0440\\u0445\\u0440\\u0430\\u0437\\u0440\\u044f\\u0434\\u043d\\u044b\\u0439\", \"\\u0447\\u0438\\u0441\\u043b\\u043e \\u0441\\u0435\\u043a\\u0443\\u043d\\u0434\\u0430\", \"\\u0447\\u0438\\u0442\\u0430\\u0442\\u044c \\u0441\\u043e\\u043e\\u0431\\u0449\\u0435\\u043d\\u0438\\u0435\", \"\\u0447\\u0438\\u0442\\u0430\\u0442\\u044c \\u0441\\u043e\\u043e\\u0431\\u0449\\u0435\\u043d\\u0438\\u0435\", \"\\u0447\\u043b\\u0435\\u043d\", \"\\u0447\\u043b\\u0435\\u043d\", \"\\u0447\\u043b\\u0435\\u043d\", \"\\u0447\\u043b\\u0435\\u043d\", \"\\u0447\\u043b\\u0435\\u043d\", \"\\u0447\\u0440\\u043d\\u0430\\u044f\", \"\\u0447\\u0440\\u043d\\u0430\\u044f \\u0434\\u044b\\u0440\\u0430\", \"\\u0447\\u0440\\u043d\\u043e\\u0439\", \"\\u0447\\u0440\\u043d\\u043e\\u0439\", \"\\u0447\\u0440\\u043d\\u043e\\u0439 \\u0434\\u044b\\u0440\\u0430\", \"\\u0447\\u0443\\u0432\\u0441\\u0442\\u0432\\u0438\\u0442\\u0435\\u043b\\u044c\\u043d\\u044b\\u0439\", \"\\u0447\\u0443\\u0432\\u0441\\u0442\\u0432\\u0438\\u0442\\u0435\\u043b\\u044c\\u043d\\u044b\\u0439\", \"\\u0447\\u0443\\u0432\\u0441\\u0442\\u0432\\u0438\\u0442\\u0435\\u043b\\u044c\\u043d\\u044b\\u0439 \\u0438\\u043d\\u0444\\u043e\\u0440\\u043c\\u0430\\u0446\\u0438\\u044f\", \"\\u0448\\u0438\\u043d\\u0430\", \"\\u0448\\u0438\\u043d\\u0430\", \"\\u0448\\u0438\\u0440\\u043e\\u043a\\u043e\\u0432\\u0435\\u0449\\u0430\\u0442\\u0435\\u043b\\u044c\\u043d\\u044b\\u0439\", \"\\u0448\\u0440\\u0438\\u0444\\u0442\", \"\\u0448\\u0443\\u043c\\u043e\\u043f\\u043e\\u0434\\u0430\\u0432\\u043b\\u0435\\u043d\\u0438\\u0435\", \"\\u0449\\u0438\\u0442\", \"\\u044d\\u043a\\u0437\\u0430\\u043c\\u0435\\u043d\", \"\\u044d\\u043b\\u0435\\u043c\\u0435\\u043d\\u0442\", \"\\u044d\\u043b\\u0435\\u043c\\u0435\\u043d\\u0442\", \"\\u044d\\u043b\\u0435\\u043c\\u0435\\u043d\\u0442\", \"\\u044d\\u043b\\u0435\\u043c\\u0435\\u043d\\u0442\", \"\\u044d\\u043b\\u0435\\u043c\\u0435\\u043d\\u0442\", \"\\u044d\\u043b\\u0435\\u043c\\u0435\\u043d\\u0442\", \"\\u044d\\u043b\\u0435\\u043c\\u0435\\u043d\\u0442\", \"\\u044d\\u043b\\u0435\\u043c\\u0435\\u043d\\u0442\", \"\\u044d\\u043b\\u0435\\u043c\\u0435\\u043d\\u0442\", \"\\u044d\\u043b\\u0435\\u043c\\u0435\\u043d\\u0442\", \"\\u044d\\u043b\\u0435\\u043c\\u0435\\u043d\\u0442\", \"\\u044d\\u043b\\u0435\\u043c\\u0435\\u043d\\u0442\", \"\\u044d\\u043b\\u0435\\u043c\\u0435\\u043d\\u0442 \\u043f\\u0430\\u043a\\u0435\\u0442\", \"\\u044d\\u043b\\u0435\\u043c\\u0435\\u043d\\u0442 \\u0441\\u0442\\u0440\\u0438\\u043c\", \"\\u044d\\u043b\\u0438\\u0437\\u0430\\u0431\\u0435\\u0442\", \"\\u044f\\u0432\\u043b\\u044f\\u0442\\u044c\\u0441\\u044f\", \"\\u044f\\u0432\\u043b\\u044f\\u0442\\u044c\\u0441\\u044f\", \"\\u044f\\u0432\\u043b\\u044f\\u0442\\u044c\\u0441\\u044f\", \"\\u044f\\u0432\\u043b\\u044f\\u0442\\u044c\\u0441\\u044f\", \"\\u044f\\u0432\\u043b\\u044f\\u0442\\u044c\\u0441\\u044f\", \"\\u044f\\u0432\\u043b\\u044f\\u0442\\u044c\\u0441\\u044f\", \"\\u044f\\u0432\\u043b\\u044f\\u0442\\u044c\\u0441\\u044f\", \"\\u044f\\u0432\\u043b\\u044f\\u0442\\u044c\\u0441\\u044f\", \"\\u044f\\u0432\\u043b\\u044f\\u0442\\u044c\\u0441\\u044f\", \"\\u044f\\u0432\\u043b\\u044f\\u0442\\u044c\\u0441\\u044f\", \"\\u044f\\u0432\\u043b\\u044f\\u0442\\u044c\\u0441\\u044f\", \"\\u044f\\u0432\\u043b\\u044f\\u0442\\u044c\\u0441\\u044f\", \"\\u044f\\u0432\\u043b\\u044f\\u0442\\u044c\\u0441\\u044f\", \"\\u044f\\u0432\\u043b\\u044f\\u0442\\u044c\\u0441\\u044f\", \"\\u044f\\u0432\\u043b\\u044f\\u0442\\u044c\\u0441\\u044f\", \"\\u044f\\u0437\\u044b\\u043a\", \"\\u044f\\u0437\\u044b\\u043a\", \"\\u044f\\u0437\\u044b\\u043a\", \"\\u044f\\u0437\\u044b\\u043a\", \"\\u044f\\u0437\\u044b\\u043a\", \"\\u044f\\u0437\\u044b\\u043a\", \"\\u044f\\u0437\\u044b\\u043a\", \"\\u044f\\u0437\\u044b\\u043a\", \"\\u044f\\u0437\\u044b\\u043a\", \"\\u044f\\u043f\\u043e\\u043d\\u0441\\u043a\\u0438\\u0439\", \"\\u044f\\u043f\\u043e\\u043d\\u0441\\u043a\\u0438\\u0439\"]}, \"R\": 30, \"lambda.step\": 0.01, \"plot.opts\": {\"xlab\": \"PC1\", \"ylab\": \"PC2\"}, \"topic.order\": [14, 12, 13, 15, 8, 4, 10, 6, 9, 5, 1, 2, 11, 7, 3]};\n",
       "\n",
       "function LDAvis_load_lib(url, callback){\n",
       "  var s = document.createElement('script');\n",
       "  s.src = url;\n",
       "  s.async = true;\n",
       "  s.onreadystatechange = s.onload = callback;\n",
       "  s.onerror = function(){console.warn(\"failed to load library \" + url);};\n",
       "  document.getElementsByTagName(\"head\")[0].appendChild(s);\n",
       "}\n",
       "\n",
       "if(typeof(LDAvis) !== \"undefined\"){\n",
       "   // already loaded: just create the visualization\n",
       "   !function(LDAvis){\n",
       "       new LDAvis(\"#\" + \"ldavis_el1552026469855786406672147938\", ldavis_el1552026469855786406672147938_data);\n",
       "   }(LDAvis);\n",
       "}else if(typeof define === \"function\" && define.amd){\n",
       "   // require.js is available: use it to load d3/LDAvis\n",
       "   require.config({paths: {d3: \"https://d3js.org/d3.v5\"}});\n",
       "   require([\"d3\"], function(d3){\n",
       "      window.d3 = d3;\n",
       "      LDAvis_load_lib(\"https://cdn.jsdelivr.net/gh/bmabey/pyLDAvis@3.4.0/pyLDAvis/js/ldavis.v3.0.0.js\", function(){\n",
       "        new LDAvis(\"#\" + \"ldavis_el1552026469855786406672147938\", ldavis_el1552026469855786406672147938_data);\n",
       "      });\n",
       "    });\n",
       "}else{\n",
       "    // require.js not available: dynamically load d3 & LDAvis\n",
       "    LDAvis_load_lib(\"https://d3js.org/d3.v5.js\", function(){\n",
       "         LDAvis_load_lib(\"https://cdn.jsdelivr.net/gh/bmabey/pyLDAvis@3.4.0/pyLDAvis/js/ldavis.v3.0.0.js\", function(){\n",
       "                 new LDAvis(\"#\" + \"ldavis_el1552026469855786406672147938\", ldavis_el1552026469855786406672147938_data);\n",
       "            })\n",
       "         });\n",
       "}\n",
       "</script>"
      ],
      "text/plain": [
       "PreparedData(topic_coordinates=               x          y  topics  cluster       Freq\n",
       "topic                                                  \n",
       "13     15.414850 -28.449144       1        1  14.804956\n",
       "11     91.353874  -5.430598       2        1  11.558460\n",
       "12      7.813094   1.123040       3        1   8.276062\n",
       "14     83.851196  24.875881       4        1   8.263899\n",
       "7      41.851444 -29.555685       5        1   8.110052\n",
       "3      37.166416  38.941845       6        1   8.061995\n",
       "9      29.215206  -9.301352       7        1   7.597002\n",
       "5      63.130905  41.670349       8        1   7.108289\n",
       "8      33.588394  12.225706       9        1   5.833133\n",
       "4      53.682289  19.857090      10        1   4.512093\n",
       "0      69.929169   5.799596      11        1   3.591229\n",
       "1      15.087906  26.472862      12        1   3.553286\n",
       "10     50.517189  -5.407717      13        1   3.300632\n",
       "6      63.512047 -40.148125      14        1   2.950858\n",
       "2      69.714729 -18.008612      15        1   2.478054, topic_info=                Term        Freq       Total Category  logprob  loglift\n",
       "85219          пакет  129.000000  129.000000  Default  30.0000  30.0000\n",
       "151113          файл  188.000000  188.000000  Default  29.0000  29.0000\n",
       "125667          сеть  144.000000  144.000000  Default  28.0000  28.0000\n",
       "36530           игра  124.000000  124.000000  Default  27.0000  27.0000\n",
       "153089       функция  140.000000  140.000000  Default  26.0000  26.0000\n",
       "...              ...         ...         ...      ...      ...      ...\n",
       "125667          сеть    4.049178  144.044610  Topic15  -7.3365   0.1261\n",
       "105864      проблема    4.039221  144.541048  Topic15  -7.3389   0.1202\n",
       "42729   использовать    4.258159  249.813448  Topic15  -7.2861  -0.3742\n",
       "120173       решение    3.638499   93.859627  Topic15  -7.4434   0.4475\n",
       "47605         клиент    3.683289  119.773207  Topic15  -7.4312   0.2159\n",
       "\n",
       "[1054 rows x 6 columns], token_table=        Topic      Freq                   Term\n",
       "term                                          \n",
       "88          3  0.776374                 авария\n",
       "132         3  0.965132                   авто\n",
       "153         2  0.880911                автомат\n",
       "281        12  0.705085  автоматический отмена\n",
       "297        15  0.766516   автоматический смена\n",
       "...       ...       ...                    ...\n",
       "161350      8  0.057558                   язык\n",
       "161350     10  0.019186                   язык\n",
       "161350     11  0.057558                   язык\n",
       "161559      1  0.847594               японский\n",
       "161559      9  0.084759               японский\n",
       "\n",
       "[3205 rows x 3 columns], R=30, lambda_step=0.01, plot_opts={'xlab': 'PC1', 'ylab': 'PC2'}, topic_order=[14, 12, 13, 15, 8, 4, 10, 6, 9, 5, 1, 2, 11, 7, 3])"
      ]
     },
     "execution_count": 60,
     "metadata": {},
     "output_type": "execute_result"
    }
   ],
   "source": [
    "# визуализация модели LDA\n",
    "panel = pyLDAvis.sklearn.prepare(lda_model, count_matrix, vectorizer, mds='tsne')\n",
    "panel"
   ]
  },
  {
   "cell_type": "code",
   "execution_count": 61,
   "id": "d522e263",
   "metadata": {},
   "outputs": [
    {
     "name": "stderr",
     "output_type": "stream",
     "text": [
      "C:\\Users\\essww\\anaconda3\\lib\\site-packages\\pandas\\core\\internals\\blocks.py:402: RuntimeWarning: divide by zero encountered in log\n",
      "  result = func(self.values, **kwargs)\n",
      "C:\\Users\\essww\\anaconda3\\lib\\site-packages\\pyLDAvis\\_prepare.py:243: FutureWarning: In a future version of pandas all arguments of DataFrame.drop except for the argument 'labels' will be keyword-only.\n",
      "  default_term_info = default_term_info.sort_values(\n",
      "C:\\Users\\essww\\anaconda3\\lib\\site-packages\\pandas\\core\\internals\\blocks.py:402: RuntimeWarning: divide by zero encountered in log\n",
      "  result = func(self.values, **kwargs)\n"
     ]
    },
    {
     "data": {
      "text/html": [
       "\n",
       "<link rel=\"stylesheet\" type=\"text/css\" href=\"https://cdn.jsdelivr.net/gh/bmabey/pyLDAvis@3.4.0/pyLDAvis/js/ldavis.v1.0.0.css\">\n",
       "\n",
       "\n",
       "<div id=\"ldavis_el1552026471621743683715483476\" style=\"background-color:white;\"></div>\n",
       "<script type=\"text/javascript\">\n",
       "\n",
       "var ldavis_el1552026471621743683715483476_data = {\"mdsDat\": {\"x\": [22.61907196044922, 30.05886459350586, 3.575773000717163, -26.11208152770996, 0.14593297243118286, 15.238860130310059, -15.325408935546875, -47.43486022949219, -23.549901962280273, -31.786239624023438, 3.765082836151123, -11.98161506652832, -10.221970558166504, 30.941131591796875, 8.5504732131958], \"y\": [27.848270416259766, 5.192907333374023, 4.570863246917725, 0.7654143571853638, 22.8684139251709, -11.408846855163574, -40.37752151489258, -0.34285449981689453, 19.5216007232666, -23.232995986938477, -28.9461612701416, 41.351104736328125, -11.694488525390625, -25.985488891601562, -58.29144287109375], \"topics\": [1, 2, 3, 4, 5, 6, 7, 8, 9, 10, 11, 12, 13, 14, 15], \"cluster\": [1, 1, 1, 1, 1, 1, 1, 1, 1, 1, 1, 1, 1, 1, 1], \"Freq\": [15.649235814270323, 10.149756262141569, 9.235999668103949, 8.732271328383357, 8.611644364640046, 8.072292273984411, 6.10480018353339, 5.2425272408418575, 5.146342317764682, 4.6629974055265535, 4.390232495150916, 4.015700099647457, 3.7880355977100133, 3.2889767353563895, 2.909188212945104]}, \"tinfo\": {\"Term\": [\"\\u043f\\u0430\\u043a\\u0435\\u0442\", \"\\u0438\\u0433\\u0440\\u0430\", \"\\u0442\\u0435\\u0441\\u0442\", \"\\u043c\\u0435\\u0442\\u0440\\u0438\\u043a\\u0430\", \"\\u0432\\u0430\\u043a\\u0430\\u043d\\u0441\\u0438\\u044f\", \"\\u0444\\u0430\\u0439\\u043b\", \"\\u0430\\u043d\\u0438\\u043c\\u0430\\u0446\\u0438\\u044f\", \"\\u043a\\u043b\\u0430\\u0441\\u0441\", \"\\u043c\\u043e\\u043d\\u0438\\u0442\\u043e\\u0440\\u0438\\u043d\\u0433\", \"\\u0441\\u0438\\u0441\\u0442\\u0435\\u043c\\u0430\", \"\\u0434\\u0438\\u0441\\u043a\", \"\\u043e\\u0437\\u0443\", \"\\u0443\\u0441\\u0442\\u0440\\u043e\\u0439\\u0441\\u0442\\u0432\\u043e\", \"\\u043f\\u043b\\u0430\\u0442\\u0430\", \"\\u043f\\u043e\\u0440\\u0442\", \"\\u0437\\u0430\\u043f\\u0440\\u043e\\u0441\", \"\\u043a\\u043e\\u043c\\u043c\\u0443\\u0442\\u0430\\u0442\\u043e\\u0440\", \"\\u0441\\u0435\\u0442\\u044c\", \"\\u0448\\u0440\\u0438\\u0444\\u0442\", \"\\u043f\\u0440\\u043e\\u0446\\u0435\\u0441\\u0441\\u043e\\u0440\", \"\\u0437\\u043d\\u0430\\u0447\\u0435\\u043d\\u0438\\u0435\", \"\\u0441\\u0435\\u0440\\u0432\\u0435\\u0440\", \"\\u0444\\u0430\\u0439\\u043b\\u043e\\u0432\\u044b\\u0439\", \"\\u0441\\u043b\\u043e\\u0442\", \"\\u043a\\u043e\\u0434\", \"\\u0444\\u0443\\u043d\\u043a\\u0446\\u0438\\u044f\", \"\\u043a\\u0430\\u043d\\u0434\\u0438\\u0434\\u0430\\u0442\", \"\\u0434\\u0430\\u043d\\u043d\\u044b\\u0435\", \"\\u043a\\u043e\\u043c\\u043f\\u0430\\u043d\\u0438\\u044f\", \"\\u043a\\u0435\\u0439\\u0441\", \"\\u0430\\u0431\\u044b\", \"\\u0430\\u0431\\u044c\\u044e\\u0437\\u0435\\u0440\\u043a\\u0430\", \"\\u0430\\u0432\\u0433\\u0443\\u0441\\u0442\", \"\\u0430\\u0432\\u0438\\u0430\\u043c\\u0435\\u0445\\u0430\\u043d\\u0438\\u043a\\u0430\", \"\\u0430\\u0432\\u0438\\u0430\\u0446\\u0438\\u043e\\u043d\\u043d\\u044b\\u0439\", \"\\u0430\\u0432\\u0438\\u0430\\u0446\\u0438\\u044f\", \"\\u0430\\u0434\\u0430\\u043c\", \"\\u0430\\u0434\\u043c\\u0438\\u0440\\u0430\\u043b\", \"\\u0430\\u0434\\u043c\\u0438\\u0440\\u0430\\u043b\\u044c\\u0441\\u043a\\u0438\\u0439\", \"\\u0430\\u0437\\u0430\\u0442\\u043e\\u0442\", \"\\u0430\\u0437\\u0438\\u043c\\u043e\\u0432\", \"\\u0430\\u0439\\u0437\\u0435\\u043a\", \"\\u0430\\u0439\\u0442\\u0438\", \"\\u0430\\u043a\\u043a\\u0430\\u0434\\u0441\\u043a\\u0438\\u0439\", \"\\u0430\\u043a\\u0442\\u0440\\u0438\\u0441\\u0430\", \"\\u0430\\u043b\\u0433\\u0435\\u0431\\u0440\\u0430\", \"\\u0430\\u043b\\u043b\\u0435\\u0433\\u043e\\u0440\\u0438\\u0447\\u0435\\u0441\\u043a\\u0438\\u0439\", \"\\u0430\\u043b\\u043b\\u0435\\u0433\\u043e\\u0440\\u0438\\u044f\", \"\\u0430\\u043b\\u044c\\u0431\\u0440\\u0435\\u0445\\u0442\", \"\\u0430\\u043b\\u044c\\u0442\\u0430\\u043c\\u0438\\u0440\", \"\\u0430\\u043c\\u0431\\u0438\\u0446\\u0438\\u044f\", \"\\u0430\\u043c\\u0435\\u0440\\u0438\\u043a\\u0430\", \"\\u0430\\u043c\\u0435\\u0440\\u0438\\u043a\\u0430\\u043d\\u0435\\u0446\", \"\\u0430\\u043d\\u0433\\u043b\\u0438\\u0447\\u0430\\u043d\\u0438\\u043d\", \"\\u0430\\u043d\\u0434\\u0440\\u043e\\u0438\\u0434\", \"\\u0430\\u043d\\u0438\\u043c\\u0435\", \"\\u0430\\u043d\\u0438\\u043c\\u0435\\u0448\\u043d\\u0438\\u043a\", \"\\u0430\\u043d\\u0438\\u043c\\u0435\\u0448\\u043d\\u043e\\u0439\", \"\\u0430\\u043d\\u0438\\u043c\\u0435\\u0448\\u043d\\u044b\\u0439\", \"\\u0430\\u043d\\u043e\\u043d\\u0438\\u043c\\u0443\\u0441\", \"\\u0433\\u0440\\u0435\\u0439\\u0441\", \"\\u0445\\u043e\\u043f\\u043f\\u0435\\u0440\", \"\\u0445\\u0443\\u043c\\u0430\\u043d\\u0438\\u0437\\u0430\\u0446\\u0438\\u044f\", \"\\u044e\\u0442\\u0443\\u0431\", \"\\u043f\\u043b\\u0435\\u0435\\u0440\", \"\\u043a\\u0438\\u043d\\u043e\\u0442\\u0435\\u0430\\u0442\\u0440\", \"\\u043f\\u0435\\u0440\\u0441\\u043e\\u043d\\u0430\\u043b\\u0438\\u0437\\u0438\\u0440\\u043e\\u0432\\u0430\\u0442\\u044c\", \"\\u0442\\u043e\\u0440\\u0440\\u0435\\u043d\\u0442\", \"\\u0438\\u0437\\u043e\\u0431\\u0440\\u0430\\u0436\\u0430\\u0442\\u044c\", \"\\u0432\\u043e\\u0435\\u043d\\u043d\\u044b\\u0439\", \"\\u0430\\u043d\\u0442\\u0440\\u043e\\u043f\\u043e\\u043c\\u043e\\u0440\\u0444\\u0438\\u0437\\u043c\", \"\\u043c\\u043e\\u044d\", \"\\u0442\\u0430\\u043d\", \"\\u043d\\u0438\\u0434\\u0437\\u0438\\u0443\\u0440\\u0430\", \"\\u0440\\u0430\\u0437\\u0432\\u043b\\u0435\\u0447\\u0435\\u043d\\u0438\\u0435\", \"\\u0430\\u043d\\u0442\\u0440\\u043e\\u043f\\u043e\\u043c\\u043e\\u0440\\u0444\\u043d\\u044b\\u0439\", \"\\u0433\\u0440\\u0438\\u0431\", \"\\u043e\\u0442\\u0430\\u043a\\u0430\", \"\\u043f\\u0440\\u0435\\u0434\\u043e\\u043a\", \"\\u0442\\u044f\\u043d\", \"\\u0433\\u043e\\u043b\", \"\\u0434\\u0438\\u0441\\u0442\\u0440\\u0438\\u0431\\u0443\\u0446\\u0438\\u044f\", \"\\u0437\\u0430\\u043c\\u043e\\u0440\\u0430\\u0436\\u0438\\u0432\\u0430\\u0442\\u044c\", \"\\u043a\\u0430\\u043d\\u0434\\u0438\\u0434\\u0430\\u0442\\u043d\\u043e\\u0439\", \"\\u043a\\u0438\\u0431\\u0435\\u0440\\u0441\\u043f\\u043e\\u0440\\u0442\", \"\\u043b\\u0430\\u0439\\u0444\", \"\\u043c\\u0443\\u043b\\u044c\\u0442\\u0438\\u043a\\u0430\\u0441\\u0442\\u0430\", \"\\u043f\\u0430\\u043a\\u0435\\u0442\\u0438\\u043a\", \"\\u043b\\u0435\\u0442\\u043d\\u0438\\u0439\", \"\\u0432\\u0438\\u0434\\u0435\\u043e\", \"\\u0434\\u043e\\u0441\\u0442\\u0430\\u0432\\u043a\\u0430\", \"\\u0444\\u0430\\u0431\\u043b\\u0430\\u0431\", \"\\u0442\\u0435\\u043b\\u0435\\u0432\\u0438\\u0434\\u0435\\u043d\\u0438\\u0435\", \"\\u0441\\u043a\\u0440\\u0430\", \"\\u0433\\u0435\\u043d\\u0435\\u0440\\u0430\\u0442\\u0438\\u0432\\u043d\\u044b\\u0439\", \"\\u043c\\u0435\\u0439\\u043a\\u0435\\u0440\\u0441\\u043a\\u0438\\u0439\", \"\\u0444\\u0438\\u043b\\u044c\\u043c\", \"\\u0440\\u043e\\u0431\\u043e\\u0442\", \"\\u043a\\u043e\\u0434\\u0435\\u043a\", \"\\u043a\\u0443\\u043b\\u044c\\u0442\\u0443\\u0440\\u0430\", \"\\u044f\\u043f\\u043e\\u043d\\u0441\\u043a\\u0438\\u0439\", \"\\u0441\\u0430\\u043c\\u043e\\u0434\\u0435\\u043b\\u044c\\u0449\\u0438\\u043a\", \"\\u0440\\u0430\\u0439\\u043e\\u043d\", \"\\u0431\\u0440\\u0430\\u0443\\u0437\\u0435\\u0440\", \"\\u0434\\u0432\\u0438\\u0436\\u0435\\u043d\\u0438\\u0435\", \"\\u0434\\u0435\\u0432\\u0443\\u0448\\u043a\\u0430\", \"\\u043c\\u0430\\u0441\\u0442\\u0435\\u0440\", \"\\u0447\\u0435\\u043b\\u043e\\u0432\\u0435\\u043a\", \"\\u0433\\u043e\\u0434\", \"\\u043c\\u043b\\u043d\", \"\\u0438\\u043d\\u0434\\u0443\\u0441\\u0442\\u0440\\u0438\\u044f\", \"\\u043a\\u0443\\u0440\\u0441\\u044b\", \"\\u043e\\u0431\\u0440\\u0430\\u0437\\u043e\\u0432\\u0430\\u043d\\u0438\\u0435\", \"\\u0442\\u0435\\u0445\\u043d\\u043e\\u043b\\u043e\\u0433\\u0438\\u044f\", \"\\u0443\\u043d\\u0438\\u0432\\u0435\\u0440\\u0441\\u0438\\u0442\\u0435\\u0442\", \"\\u0431\\u0430\\u043b\\u043b\", \"\\u043a\\u0440\\u0443\\u0442\\u043e\\u0439\", \"\\u0438\\u0434\\u0435\\u044f\", \"\\u0434\\u0435\\u043d\\u044c\", \"\\u0441\\u0442\\u0430\\u043d\\u043e\\u0432\\u0438\\u0442\\u044c\\u0441\\u044f\", \"\\u043d\\u0430\\u0432\\u044b\\u043a\", \"\\u0440\\u043e\\u043b\\u0438\\u043a\", \"\\u0441\\u043f\\u0435\\u0446\\u0438\\u0430\\u043b\\u0438\\u0441\\u0442\", \"\\u0434\\u0435\\u043b\\u0430\\u0442\\u044c\", \"\\u0432\\u0435\\u0441\\u044c\", \"\\u043f\\u0440\\u043e\\u0435\\u043a\\u0442\", \"\\u0441\\u043c\\u043e\\u0442\\u0440\\u0435\\u0442\\u044c\", \"\\u043a\\u043e\\u043d\\u0442\\u0435\\u043d\\u0442\", \"\\u0440\\u0443\\u043a\\u0430\", \"\\u0441\\u0430\\u043c\\u044b\\u0439\", \"\\u0440\\u0430\\u0431\\u043e\\u0442\\u0430\", \"\\u043f\\u0435\\u0440\\u0432\\u044b\\u0439\", \"\\u043c\\u043e\\u0447\\u044c\", \"\\u043a\\u043e\\u043c\\u043f\\u0430\\u043d\\u0438\\u044f\", \"\\u043f\\u0440\\u043e\\u0441\\u0442\\u043e\", \"\\u043d\\u0435\\u0439\\u0440\\u043e\\u0441\\u0435\\u0442\\u044c\", \"\\u043a\\u043e\\u043c\\u0430\\u043d\\u0434\\u0430\", \"\\u0430\\u043f\\u0440\\u043e\\u0431\\u0430\\u0446\\u0438\\u044f\", \"\\u0430\\u0443\\u0433\\u043c\\u0435\\u043d\\u0442\\u0430\\u0446\\u0438\\u0438\\u0431\\u0438\\u043d\\u0430\\u0440\\u0438\\u0437\\u0430\\u0446\\u0438\\u044f\", \"\\u0431\\u0435\\u0439\\u043d\\u0438\\u0442\", \"\\u0431\\u0435\\u0439\\u043d\\u0438\\u0442\\u0430\", \"\\u0431\\u0435\\u0439\\u043d\\u0438\\u0442\\u044c\", \"\\u0431\\u0438\\u043d\\u0430\\u0440\\u0438\\u0437\\u0430\\u0446\\u0438\\u044f\", \"\\u0431\\u0438\\u043d\\u0430\\u0440\\u0438\\u0437\\u043e\\u0432\\u0430\\u043d\\u043d\\u044b\\u0439\", \"\\u0432\\u0438\\u0442\\u0432\\u0438\\u0446\\u043a\\u0438\\u0439\", \"\\u0433\\u0438\\u0441\\u0442\\u043e\\u0433\\u0440\\u0430\\u043c\\u043c\\u0430\", \"\\u043c\\u0430\\u0440\\u0438\\u044f\", \"\\u043c\\u0435\\u0442\\u0430\\u043b\\u043b\\u043e\\u0432\\u0435\\u0434\\u0435\\u043d\\u0438\\u0435\", \"\\u043c\\u0443\\u043b\\u044c\\u0442\\u0438\\u043f\\u043b\\u0438\\u043a\\u0430\\u0442\\u043e\\u0440\", \"\\u043d\\u0435\\u0434\\u043e\\u043e\\u0431\\u0443\\u0447\\u0430\\u0442\\u044c\\u0441\\u044f\", \"\\u043d\\u043e\\u0440\\u043c\\u0430\\u043b\\u0438\\u0437\\u043e\\u0432\\u0430\\u0442\\u044c\", \"\\u043e\\u0431\\u0443\\u0447\\u0430\\u0435\\u043c\\u043e\\u0441\\u0442\\u044c\", \"\\u043e\\u0433\\u043e\\u0432\\u043e\\u0440\\u043a\\u0430\", \"\\u043e\\u0441\\u0442\\u0430\\u0442\\u043e\\u0447\\u043d\\u044b\\u0439\", \"\\u043e\\u0442\\u043d\\u0435\\u0441\\u0435\\u043d\\u0438\\u0435\", \"\\u043e\\u0446\\u0443\", \"\\u043f\\u0435\\u0440\\u0435\\u0431\\u0440\\u043e\\u0441\", \"\\u043f\\u043e\\u043b\\u043d\\u043e\\u0441\\u0432\\u044f\\u0437\\u043d\\u044b\\u0439\", \"\\u043f\\u0440\\u043e\\u0434\\u0438\\u043a\\u0442\\u043e\\u0432\\u0430\\u0442\\u044c\", \"\\u043f\\u0440\\u043e\\u043a\\u0430\\u0442\\u043a\\u0430\", \"\\u0440\\u0430\\u0437\\u043d\\u043e\\u0433\\u043b\\u0430\\u0441\\u0438\\u0435\", \"\\u0440\\u0430\\u0437\\u043d\\u043e\\u043e\\u0431\\u0440\\u0430\\u0437\\u0438\\u0442\\u044c\", \"\\u0441\\u0432\\u043e\\u0434\\u043d\\u043e\\u0439\", \"\\u0441\\u043a\\u043e\\u043d\\u0432\\u0435\\u0440\\u0442\\u0438\\u0440\\u043e\\u0432\\u0430\\u0442\\u044c\", \"\\u0442\\u0435\\u043d\\u0437\\u043e\\u0440\", \"\\u0442\\u0435\\u0440\\u043c\\u0438\\u0447\\u0435\\u0441\\u043a\\u0438\\u0439\", \"\\u0442\\u0435\\u0440\\u043c\\u043e\\u043e\\u0431\\u0440\\u0430\\u0431\\u043e\\u0442\\u0430\\u043d\\u043d\\u044b\\u0439\", \"\\u043c\\u0438\\u043a\\u0440\\u043e\\u0441\\u0442\\u0440\\u0443\\u043a\\u0442\\u0443\\u0440\\u0430\", \"\\u0441\\u0442\\u0435\\u0433\\u0430\\u043d\\u043e\\u0433\\u0440\\u0430\\u0444\\u0438\\u044f\", \"\\u043a\\u043b\\u0430\\u0441\\u0441\\u0438\\u0444\\u0438\\u043a\\u0430\\u0446\\u0438\\u044f\", \"\\u0447\\u0443\\u0432\\u0441\\u0442\\u0432\\u0438\\u0442\\u0435\\u043b\\u044c\\u043d\\u044b\\u0439\", \"\\u0437\\u0435\\u0440\\u043d\\u043e\", \"\\u0433\\u0443\\u043c\\u0430\\u043d\\u0438\\u0442\\u0430\\u0440\\u043d\\u044b\\u0439\", \"\\u0431\\u0435\\u0437\\u043e\\u0431\\u0438\\u0434\\u043d\\u044b\\u0439\", \"\\u043f\\u0435\\u0440\\u043b\\u0438\\u0442\", \"\\u0441\\u043e\\u043a\\u0440\\u044b\\u0442\\u0438\\u0435\", \"\\u043e\\u0431\\u044a\\u0435\\u043c\\u043d\\u044b\\u0439\", \"\\u0442\\u0435\\u0440\\u043c\\u043e\\u043e\\u0431\\u0440\\u0430\\u0431\\u043e\\u0442\\u043a\\u0430\", \"\\u0442\\u0438\\u0445\\u043e\\u043d\\u043e\\u0432\", \"\\u0443\\u0437\\u043e\\u0440\", \"\\u0448\\u0435\\u0434\\u0443\\u043b\\u0435\\u0440\", \"\\u0436\\u0443\\u0440\\u043d\\u0430\\u043b\\u0438\\u0441\\u0442\", \"\\u0434\\u0438\\u0441\\u0441\\u0438\\u0434\\u0435\\u043d\\u0442\", \"\\u0440\\u0430\\u0441\\u0441\\u043b\\u0435\\u0434\\u043e\\u0432\\u0430\\u0442\\u0435\\u043b\\u044c\", \"\\u0441\\u043b\\u0435\\u0436\\u043a\\u0430\", \"\\u0432\\u044b\\u0440\\u0430\\u0436\\u0430\\u0442\\u044c\", \"\\u043b\\u0438\\u0434\\u0430\\u0440\", \"\\u043a\\u043b\\u0430\\u0441\\u0441\\u0438\\u0444\\u0438\\u0446\\u0438\\u0440\\u043e\\u0432\\u0430\\u0442\\u044c\", \"\\u0444\\u0430\\u0437\\u043e\\u0432\\u044b\\u0439\", \"\\u0431\\u0435\\u0441\\u043f\\u0438\\u043b\\u043e\\u0442\\u043d\\u044b\\u0439\", \"\\u0440\\u0430\\u0434\\u0430\\u0440\", \"\\u0435\\u0441\\u0442\\u0435\\u0441\\u0442\\u0432\\u0435\\u043d\\u043d\\u044b\\u0439\", \"\\u043f\\u0440\\u0435\\u0434\\u043e\\u0431\\u0443\\u0447\\u0435\\u043d\\u043d\\u044b\\u0439\", \"\\u043f\\u0438\\u0441\\u044c\\u043c\\u043e\", \"\\u0430\\u043b\\u0433\\u043e\\u0440\\u0438\\u0442\\u043c\", \"\\u0430\\u0432\\u0442\\u043e\", \"\\u0430\\u0432\\u0442\\u043e\\u043c\\u043e\\u0431\\u0438\\u043b\\u044c\", \"\\u0431\\u043e\\u0442\", \"\\u044f\\u0437\\u044b\\u043a\\u043e\\u0432\\u043e\\u0439\", \"\\u043c\\u043e\\u0434\\u0435\\u043b\\u044c\", \"\\u0438\\u043d\\u0442\\u0435\\u043b\\u043b\\u0435\\u043a\\u0442\", \"\\u0440\\u0430\\u0441\\u043f\\u043e\\u0437\\u043d\\u0430\\u0432\\u0430\\u043d\\u0438\\u0435\", \"\\u043e\\u0431\\u0443\\u0447\\u0435\\u043d\\u0438\\u0435\", \"\\u043c\\u0430\\u0448\\u0438\\u043d\\u043d\\u044b\\u0439\", \"\\u0438\\u0441\\u043a\\u0443\\u0441\\u0441\\u0442\\u0432\\u0435\\u043d\\u043d\\u044b\\u0439\", \"\\u0440\\u0438\\u0441\\u043a\", \"\\u0438\\u0441\\u0441\\u043b\\u0435\\u0434\\u043e\\u0432\\u0430\\u0442\\u0435\\u043b\\u044c\", \"\\u0430\\u0443\\u0433\\u043c\\u0435\\u043d\\u0442\\u0430\\u0446\\u0438\\u044f\", \"\\u043f\\u0440\\u0438\\u043c\\u0435\\u043d\\u0435\\u043d\\u0438\\u0435\", \"\\u0443\\u0441\\u043b\\u0443\\u0433\\u0430\", \"\\u0431\\u0440\\u0435\\u043d\\u0434\", \"\\u0438\\u0437\\u043e\\u0431\\u0440\\u0430\\u0436\\u0435\\u043d\\u0438\\u0435\", \"\\u0431\\u0435\\u0437\\u043e\\u043f\\u0430\\u0441\\u043d\\u044b\\u0439\", \"\\u043a\\u043e\\u043c\\u043f\\u044c\\u044e\\u0442\\u0435\\u0440\\u043d\\u044b\\u0439\", \"\\u0430\\u043d\\u0430\\u043b\\u0438\\u0437\", \"\\u043d\\u0435\\u0439\\u0440\\u043e\\u0441\\u0435\\u0442\\u044c\", \"\\u043e\\u0431\\u0443\\u0447\\u0430\\u0442\\u044c\", \"\\u0431\\u0435\\u0437\\u043e\\u043f\\u0430\\u0441\\u043d\\u043e\\u0441\\u0442\\u044c\", \"\\u0438\\u043d\\u0444\\u043e\\u0440\\u043c\\u0430\\u0446\\u0438\\u044f\", \"\\u0434\\u0430\\u043d\\u043d\\u044b\\u0435\", \"\\u043c\\u043e\\u0447\\u044c\", \"\\u043a\\u043e\\u043d\\u0442\\u0435\\u043d\\u0442\", \"\\u043c\\u0435\\u0442\\u043e\\u0434\", \"\\u0441\\u0438\\u0441\\u0442\\u0435\\u043c\\u0430\", \"\\u0446\\u0435\\u043b\\u044c\", \"\\u043f\\u043b\\u0430\\u0442\\u0444\\u043e\\u0440\\u043c\\u0430\", \"\\u0438\\u0441\\u043f\\u043e\\u043b\\u044c\\u0437\\u043e\\u0432\\u0430\\u0442\\u044c\", \"\\u0430\\u043a\\u0442\\u0438\\u0432\\u0438\\u0437\\u0430\\u0446\\u0438\\u044f\", \"\\u0430\\u043c\\u043f\\u043b\\u0438\\u0442\\u0443\\u0434\\u043d\\u044b\\u0439\", \"\\u0430\\u043d\\u043e\\u0434\", \"\\u0431\\u0430\\u0440\\u0445\\u0430\\u0442\\u0438\\u0441\\u0442\\u044b\\u0439\", \"\\u0431\\u0430\\u0442\\u0430\\u0440\\u0435\\u0439\\u043a\\u0430\", \"\\u0431\\u0430\\u0442\\u0430\\u0440\\u0435\\u0439\\u043d\\u044b\\u0439\", \"\\u0431\\u0435\\u0433\\u0443\\u043d\\u043e\\u043a\", \"\\u0431\\u0435\\u0437\\u043d\\u0430\\u0434\\u0436\\u043d\\u043e\", \"\\u0431\\u0438\\u0441\\u0442\\u0430\\u0431\\u0438\\u043b\\u044c\\u043d\\u044b\\u0439\", \"\\u0431\\u043b\\u043e\\u0433\\u0435\\u0440\", \"\\u0431\\u043b\\u044e\\u0437\", \"\\u0431\\u0443\\u0444\\u0435\\u0440\\u0438\\u0437\\u043e\\u0432\\u0430\\u0442\\u044c\", \"\\u0432\\u0430\\u0439\", \"\\u0432\\u0438\\u043d\\u0442\\u0430\\u0436\\u043d\\u044b\\u0439\", \"\\u0432\\u043a\\u043b\\u044e\\u0447\\u043d\\u044b\\u0439\", \"\\u0432\\u043e\\u043b\\u044c\\u0442\", \"\\u0432\\u043e\\u043b\\u044c\\u0442\\u0430\", \"\\u0432\\u0441\\u0442\\u0430\\u0442\", \"\\u0432\\u0441\\u0442\\u0440\\u0435\\u0447\\u043d\\u044b\\u0439\", \"\\u0432\\u044b\\u043f\\u0440\\u044f\\u043c\\u0438\\u0442\\u0435\\u043b\\u044c\\u043d\\u044b\\u0439\", \"\\u0432\\u044b\\u0442\\u0430\\u0441\\u043a\\u0438\\u0432\\u0430\\u0442\\u044c\", \"\\u0433\\u0430\\u0440\\u043c\\u043e\\u043d\\u0438\\u043a\\u0430\", \"\\u0433\\u0430\\u0441\\u0442\\u0440\\u043e\\u043b\\u0438\\u0440\\u043e\\u0432\\u0430\\u0442\\u044c\", \"\\u0433\\u0430\\u0441\\u0442\\u0440\\u043e\\u043b\\u044c\", \"\\u0433\\u0438\\u0431\\u0440\\u0438\\u0434\\u043d\\u044b\\u0439\", \"\\u0433\\u0438\\u0442\\u0430\\u0440\\u0430\", \"\\u0433\\u0438\\u0442\\u0430\\u0440\\u0438\\u0441\\u0442\", \"\\u0433\\u0438\\u0442\\u0430\\u0440\\u043d\\u044b\\u0439\", \"\\u0433\\u043b\\u0435\\u043d\\u043d\", \"\\u0433\\u043b\\u0443\\u0445\\u043e\\u0432\\u0430\\u0442\\u044b\\u0439\", \"\\u043f\\u0435\\u0434\\u0430\\u043b\\u044c\", \"\\u0442\\u043e\\u043a\", \"\\u0443\\u0441\\u0438\\u043b\\u0438\\u0442\\u0435\\u043b\\u044c\", \"\\u0434\\u0438\\u043e\\u0434\", \"\\u0442\\u0440\\u0430\\u043d\\u0437\\u0438\\u0441\\u0442\\u043e\\u0440\", \"\\u0440\\u0435\\u0437\\u0438\\u0441\\u0442\\u043e\\u0440\", \"\\u0434\\u0438\\u0441\\u0442\\u043e\\u0440\\u0448\\u043d\", \"\\u043c\\u0443\\u0437\\u044b\\u043a\\u0430\\u043d\\u0442\", \"\\u0434\\u0436\\u0435\\u043a\", \"\\u0441\\u043e\\u043b\\u0435\\u0432\\u043e\\u0439\", \"\\u044d\\u043b\\u0435\\u043a\\u0442\\u0440\\u043e\\u0433\\u0438\\u0442\\u0430\\u0440\\u0430\", \"\\u0440\\u0435\\u0433\\u0443\\u043b\\u044f\\u0442\\u043e\\u0440\", \"\\u043a\\u043e\\u043d\\u0434\\u0435\\u043d\\u0441\\u0430\\u0442\\u043e\\u0440\", \"\\u0437\\u0432\\u0443\\u043a\\u043e\\u0441\\u043d\\u0438\\u043c\\u0430\\u0442\\u0435\\u043b\\u044c\", \"\\u0437\\u0432\\u0443\\u0447\\u0430\\u043d\\u0438\\u0435\", \"\\u043a\\u0430\\u0441\\u043a\\u0430\\u0434\", \"\\u043f\\u0435\\u0440\\u0435\\u0433\\u0440\\u0443\\u0437\", \"\\u043f\\u043e\\u0432\\u0442\\u043e\\u0440\\u0438\\u0442\\u0435\\u043b\\u044c\", \"\\u0442\\u0435\\u043c\\u0431\\u0440\", \"\\u043f\\u0435\\u0434\\u0430\\u043b\\u044c\\u043d\\u044b\\u0439\", \"\\u043f\\u0435\\u0440\\u0435\\u043a\\u043b\\u044e\\u0447\\u0430\\u0442\\u0435\\u043b\\u044c\", \"\\u043f\\u043e\\u043b\\u044f\\u0440\\u043d\\u043e\\u0441\\u0442\\u044c\", \"\\u0441\\u0432\\u0435\\u0442\\u043e\\u0434\\u0438\\u043e\\u0434\", \"\\u043d\\u0430\\u043f\\u0440\\u044f\\u0436\\u0435\\u043d\\u0438\\u0435\", \"\\u0446\\u0435\\u043f\\u044c\", \"\\u043a\\u043e\\u043d\\u0442\\u0430\\u043a\\u0442\", \"\\u0442\\u0440\\u0438\\u0433\\u0433\\u0435\\u0440\", \"\\u043f\\u043b\\u0430\\u0441\\u0442\\u0438\\u043a\\u043e\\u0432\\u044b\\u0439\", \"\\u0433\\u0435\\u0440\\u043a\\u043e\\u043d\", \"\\u043f\\u0440\\u0435\\u043e\\u0431\\u0440\\u0430\\u0437\\u043e\\u0432\\u0430\\u0442\\u0435\\u043b\\u044c\", \"\\u043a\\u0430\\u0431\\u0435\\u043b\\u044c\", \"\\u0441\\u0443\\u043c\\u043c\\u0430\\u0442\\u043e\\u0440\", \"\\u0440\\u0430\\u0437\\u0440\\u044f\\u0434\", \"\\u043c\\u0438\\u043a\\u0440\\u043e\\u0441\\u0445\\u0435\\u043c\\u0430\", \"\\u043f\\u0438\\u0442\\u0430\\u043d\\u0438\\u0435\", \"\\u0441\\u0438\\u0433\\u043d\\u0430\\u043b\", \"\\u043c\\u0430\\u0433\\u043d\\u0438\\u0442\", \"\\u0448\\u0438\\u043d\\u0430\", \"\\u0432\\u0445\\u043e\\u0434\", \"\\u043a\\u043e\\u043c\\u043f\\u043b\\u0435\\u043a\\u0442\", \"\\u0441\\u0445\\u0435\\u043c\\u0430\", \"\\u043f\\u043b\\u0430\\u0442\\u0430\", \"\\u0440\\u0430\\u0441\\u0442\\u0435\\u043d\\u0438\\u0435\", \"\\u043b\\u043e\\u0433\\u0438\\u0447\\u0435\\u0441\\u043a\\u0438\\u0439\", \"\\u043a\\u043e\\u0440\\u043f\\u0443\\u0441\", \"\\u0443\\u0441\\u0442\\u0440\\u043e\\u0439\\u0441\\u0442\\u0432\\u043e\", \"\\u043d\\u043e\\u0443\\u0442\\u0431\\u0443\\u043a\", \"\\u0437\\u0430\\u043c\\u044b\\u043a\\u0430\\u043d\\u0438\\u0435\", \"\\u0432\\u044b\\u0445\\u043e\\u0434\", \"\\u0437\\u0432\\u0443\\u043a\", \"\\u044d\\u043b\\u0435\\u043c\\u0435\\u043d\\u0442\", \"\\u043c\\u043e\\u0447\\u044c\", \"\\u0430\\u043f\\u043b\\u0438\\u043d\\u043a\\u0430\", \"\\u0430\\u0442\\u0442\\u0435\\u0441\\u0442\\u043e\\u0432\\u0430\\u0442\\u044c\", \"\\u0431\\u044b\\u0442\\u043e\\u0432\\u0430\\u0442\\u044c\", \"\\u0432\\u0430\\u0437\\u0430\", \"\\u0432\\u044b\\u0431\\u0438\\u0432\\u0430\\u0442\\u044c\\u0441\\u044f\", \"\\u0433\\u0430\\u0440\\u0444\\u0438\\u043b\\u0434\", \"\\u0434\\u0440\\u043e\\u043f\\u0430\\u0442\\u044c\", \"\\u0437\\u0430\\u0434\\u0430\\u0447\\u043a\\u0430\", \"\\u0437\\u0430\\u043c\\u043e\\u043a\", \"\\u0437\\u0432\\u0435\\u0440\\u0435\\u043a\", \"\\u0438\\u043d\\u0441\\u0442\\u0430\\u043b\\u043b\\u044f\\u0446\\u0438\\u044f\", \"\\u0438\\u0441\\u0430\", \"\\u043a\\u0430\\u043c\\u043f\\u0443\\u0441\\u043d\\u043e\\u0439\", \"\\u043a\\u043e\\u0442\\u0438\\u043a\\u043e\\u0432\", \"\\u043a\\u0440\\u0438\\u043f\\u0442\\u043e\\u0448\\u043b\\u044e\\u0437\", \"\\u043b\\u0438\\u043d\\u043a\", \"\\u043c\\u0435\\u0436\\u0441\\u0435\\u0442\\u0435\\u0432\\u043e\\u0439\", \"\\u043c\\u0443\\u043b\\u044c\\u0442\\u0438\\u0432\\u0435\\u043d\\u0434\\u043e\\u0440\\u043d\\u043e\\u0441\\u0442\\u044c\", \"\\u043d\\u0430\\u044f\\u0432\\u0443\", \"\\u043f\\u043e\\u0438\\u0433\\u0440\\u0430\\u0442\\u044c\\u0441\\u044f\", \"\\u043f\\u043e\\u0441\\u0442\\u043e\\u0440\\u043e\\u043d\\u043d\\u0438\\u0439\", \"\\u043f\\u0440\\u0438\\u043a\\u0430\\u0437\", \"\\u043f\\u0440\\u043e\\u0441\\u043b\\u043e\\u0439\\u043a\\u0430\", \"\\u043f\\u0440\\u043e\\u0442\\u0438\\u0441\\u043a\\u0438\\u0432\\u0430\\u0442\\u044c\\u0441\\u044f\", \"\\u0441\\u0430\\u0433\\u0440\\u0435\\u0433\\u0438\\u0440\\u043e\\u0432\\u0430\\u0442\\u044c\", \"\\u0441\\u0432\\u044f\\u0437\\u043d\\u043e\\u0441\\u0442\\u044c\", \"\\u0441\\u0438\\u0437\\u043e\\u0432\", \"\\u0441\\u043a\\u0443\\u0434\\u0430\", \"\\u0441\\u0443\\u043f\\u0435\\u0440\\u0430\\u0433\\u0440\\u0435\\u0433\\u0430\\u0446\\u0438\\u044f\", \"\\u0441\\u0445\\u0434\", \"\\u043c\\u0430\\u0440\\u0448\\u0440\\u0443\\u0442\\u0438\\u0437\\u0430\\u0442\\u043e\\u0440\", \"\\u0444\\u0430\\u0439\\u0440\\u0432\\u043e\\u043b\", \"\\u043f\\u043e\\u0434\\u0430\\u0432\\u043b\\u0435\\u043d\\u0438\\u0435\", \"\\u0448\\u0438\\u0440\\u043e\\u043a\\u043e\\u0432\\u0435\\u0449\\u0430\\u0442\\u0435\\u043b\\u044c\\u043d\\u044b\\u0439\", \"\\u0440\\u0435\\u0437\\u0435\\u0440\\u0432\\u0438\\u0440\\u043e\\u0432\\u0430\\u043d\\u0438\\u0435\", \"\\u0441\\u0445\\u043e\\u0434\\u0438\\u043c\\u043e\\u0441\\u0442\\u044c\", \"\\u0442\\u043e\\u043d\\u043d\\u0435\\u043b\\u044c\", \"\\u043a\\u043e\\u043c\\u043c\\u0443\\u0442\\u0430\\u0442\\u043e\\u0440\", \"\\u0434\\u0435\\u0438\\u043d\\u043a\\u0430\\u043f\\u0441\\u0443\\u043b\\u0438\\u0440\\u043e\\u0432\\u0430\\u0442\\u044c\", \"\\u043c\\u0430\\u0440\\u0448\\u0440\\u0443\\u0442\\u0438\\u0437\\u0430\\u0446\\u0438\\u044f\", \"\\u043f\\u043e\\u0434\\u0441\\u0435\\u0442\\u044c\", \"\\u0442\\u0443\\u043d\\u043d\\u0435\\u043b\\u0438\\u0440\\u043e\\u0432\\u0430\\u043d\\u0438\\u0435\", \"\\u043a\\u0430\\u043d\\u0430\\u043b\\u044c\\u043d\\u044b\\u0439\", \"\\u0436\\u0435\\u043b\\u0435\\u0437\\u043a\\u0430\", \"\\u0446\\u043e\\u0434\", \"\\u0444\\u0440\\u0435\\u0439\\u043c\", \"\\u0433\\u0438\\u043f\\u0435\\u0440\\u0432\\u0438\\u0437\\u043e\\u0440\", \"\\u043e\\u043a\\u0430\\u0437\\u0430\\u043d\\u0438\\u0435\", \"\\u0437\\u0430\\u0431\\u043e\\u0442\\u0438\\u0442\\u044c\\u0441\\u044f\", \"\\u0431\\u0435\\u0437\\u0431\\u043e\\u043b\\u0435\\u0437\\u043d\\u0435\\u043d\\u043d\\u043e\", \"\\u0431\\u043b\\u043e\\u043a\\u0438\\u0440\\u043e\\u0432\\u0430\\u0442\\u044c\\u0441\\u044f\", \"\\u0432\\u0438\\u0440\\u0442\\u0443\\u0430\\u043b\\u0438\\u0437\\u0438\\u0440\\u043e\\u0432\\u0430\\u043d\\u043d\\u044b\\u0439\", \"\\u0441\\u0435\\u0442\\u044c\", \"\\u043a\\u0430\\u0431\\u0435\\u043b\\u044c\\u043d\\u044b\\u0439\", \"\\u043f\\u0443\\u0431\\u043b\\u0438\\u0447\\u043d\\u044b\\u0439\", \"\\u043a\\u043e\\u043d\\u0444\\u0438\\u0433\\u0443\\u0440\\u0430\\u0442\\u043e\\u0440\", \"\\u0432\\u044b\\u0434\\u0435\\u043b\\u044f\\u0442\\u044c\", \"\\u0430\\u043f\\u0433\\u0440\\u0435\\u0439\\u0434\", \"\\u0434\\u043e\\u0441\\u0442\\u0443\\u043f\\u043d\\u043e\\u0441\\u0442\\u044c\", \"\\u043c\\u0430\\u0440\\u0448\\u0440\\u0443\\u0442\", \"\\u0441\\u0442\\u043e\\u0439\\u043a\\u0430\", \"\\u0444\\u0438\\u0434\\u0431\\u0435\\u043a\", \"\\u0441\\u0435\\u0442\\u0435\\u0432\\u043e\\u0439\", \"\\u0442\\u0440\\u0430\\u0444\\u0438\\u043a\", \"\\u0432\\u0438\\u0440\\u0442\\u0443\\u0430\\u043b\\u044c\\u043d\\u044b\\u0439\", \"\\u0441\\u0435\\u0440\\u0432\\u0435\\u0440\", \"\\u0430\\u0434\\u0440\\u0435\\u0441\", \"\\u043a\\u043b\\u0438\\u0435\\u043d\\u0442\", \"\\u043e\\u0431\\u043b\\u0430\\u043a\\u043e\", \"\\u0443\\u0440\\u043e\\u0432\\u0435\\u043d\\u044c\", \"\\u043e\\u0431\\u043e\\u0433\\u0440\\u0435\\u0432\", \"\\u044d\\u0432\\u0430\\u043a\\u0443\\u0430\\u0446\\u0438\\u044f\", \"\\u043f\\u0440\\u043e\\u0438\\u0437\\u0432\\u043e\\u043b\\u044c\\u043d\\u044b\\u0439\", \"\\u043e\\u0431\\u043e\\u0440\\u0443\\u0434\\u043e\\u0432\\u0430\\u043d\\u0438\\u0435\", \"\\u043e\\u0431\\u043b\\u0430\\u0447\\u043d\\u044b\\u0439\", \"\\u0434\\u043e\\u0441\\u0442\\u0443\\u043f\", \"\\u0432\\u043e\\u0434\\u0430\", \"\\u043f\\u0440\\u043e\\u0442\\u043e\\u043a\\u043e\\u043b\", \"\\u043d\\u0430\\u0433\\u0440\\u0443\\u0437\\u043a\\u0430\", \"\\u0443\\u0441\\u0442\\u0440\\u043e\\u0439\\u0441\\u0442\\u0432\\u043e\", \"\\u043f\\u043e\\u043b\\u044c\\u0437\\u043e\\u0432\\u0430\\u0442\\u0435\\u043b\\u044c\", \"\\u0441\\u0435\\u0440\\u0432\\u0438\\u0441\", \"\\u043c\\u043e\\u0447\\u044c\", \"\\u043a\\u043e\\u043d\\u0444\\u0438\\u0433\\u0443\\u0440\\u0430\\u0446\\u0438\\u044f\", \"\\u0438\\u0441\\u043f\\u043e\\u043b\\u044c\\u0437\\u043e\\u0432\\u0430\\u0442\\u044c\", \"\\u0434\\u043e\\u0431\\u0430\\u0432\\u043a\\u0430\", \"\\u043a\\u043e\\u043d\\u0444\\u0438\\u0433\\u0443\\u0440\\u0438\\u0440\\u043e\\u0432\\u0430\\u0442\\u044c\\u0441\\u044f\", \"\\u0442\\u043e\\u043f\\u0438\\u043a\", \"\\u044d\\u043a\\u0441\\u043f\\u043e\\u0440\\u0442\\u0438\\u0440\\u043e\\u0432\\u0430\\u0442\\u044c\", \"\\u0438\\u043c\\u043f\\u043e\\u0440\\u0442\", \"\\u0438\\u0441\\u0442\\u043e\\u0447\\u043d\\u0438\\u043a\\u0438\\u0435\\u0441\\u0442\\u0435\\u0441\\u0442\\u0432\\u0435\\u043d\\u043d\\u043e\", \"\\u043a\\u0430\\u0444\\u043a\\u0443\\u0434\\u043b\\u044f\", \"\\u043a\\u0438\\u0440\\u0438\\u043b\\u043b\\u0438\\u0446\\u0430\", \"\\u043a\\u043e\\u0434\\u0438\\u0440\\u043e\\u0432\\u043a\\u0430\", \"\\u043f\\u043b\\u043e\\u0434\\u0438\\u0442\\u044c\", \"\\u043f\\u043e\\u0440\\u0442\\u044f\\u043d\\u043a\\u0430\", \"\\u043f\\u0440\\u043e\\u0447\\u0438\\u0442\\u0430\\u0442\\u044c\\u0441\\u044f\", \"\\u043f\\u0441\\u0435\\u0432\\u0434\\u043e\\u0433\\u0440\\u0430\\u0444\\u0438\\u043a\\u0430\", \"\\u0440\\u0430\\u0441\\u043f\\u0430\\u043a\\u043e\\u0432\\u044b\\u0432\\u0430\\u0442\\u044c\", \"\\u0442\\u043e\\u043f\\u0438\\u043a\\u0430\", \"\\u0442\\u043e\\u043f\\u0438\\u043a\\u043d\\u0430\\u043f\\u043e\\u043c\\u0438\\u043d\\u0430\\u0442\\u044c\", \"\\u0443\\u0447\\u0435\\u0442\\u043a\\u0430\", \"\\u043a\\u0430\\u0432\\u044b\\u0447\\u043a\\u0430\", \"\\u043a\\u043e\\u043c\\u0430\\u043d\\u0434\\u0443\\u043e\\u0448\\u0438\\u0431\\u043a\\u0430\", \"\\u043d\\u0430\\u0439\\u0434\\u0435\\u043d\\u043e\\u0448\\u0438\\u0431\\u043a\\u0430\", \"\\u043e\\u0442\\u043a\\u043b\\u043e\\u043d\\u044f\\u0442\\u044c\", \"\\u043f\\u0435\\u0440\\u0435\\u0443\\u0441\\u0442\\u0430\\u043d\\u043e\\u0432\\u0438\\u0442\\u044c\", \"\\u043f\\u0440\\u0430\\u0432\\u0438\\u043b\\u044c\\u043d\\u043e\\u0441\\u0442\\u044c\", \"\\u0440\\u0430\\u0441\\u043f\\u043e\\u0437\\u043d\\u0430\\u0432\\u0430\\u0442\\u044c\\u0441\\u044f\", \"\\u0440\\u0435\\u0434\\u0430\\u043a\\u0446\\u0438\\u0438\\u043d\\u0430\\u0447\\u0430\\u0442\\u044c\", \"\\u0441\\u043a\\u043e\\u043d\\u0444\\u0438\\u0433\\u0443\\u0440\\u0438\\u0440\\u043e\\u0432\\u0430\\u0442\\u044c\", \"\\u0441\\u0442\\u0440\\u0443\\u0447\\u043e\\u043a\", \"\\u0443\\u0434\\u043e\\u0441\\u0442\\u043e\\u0432\\u0435\\u0440\\u044f\\u0442\\u044c\\u0441\\u044f\", \"\\u0443\\u0440\\u0430\", \"\\u043f\\u043e\\u0440\\u0430\\u0434\\u043e\\u0432\\u0430\\u0442\\u044c\", \"\\u043a\\u043e\\u043d\\u0441\\u044c\\u044e\\u043c\\u0435\\u0440\", \"\\u043f\\u0440\\u043e\\u0434\\u044c\\u044e\\u0441\\u0435\\u0440\", \"\\u0434\\u043e\\u0432\\u0435\\u0440\\u0435\\u043d\\u043d\\u044b\\u0439\", \"\\u043f\\u043e\\u0434\\u043b\\u0438\\u043d\\u043d\\u044b\\u0439\", \"\\u043f\\u0440\\u0438\\u043d\\u0446\\u0438\\u043f\\u0430\\u043b\", \"\\u0441\\u0443\\u043f\\u0435\\u0440\\u043f\\u043e\\u043b\\u044c\\u0437\\u043e\\u0432\\u0430\\u0442\\u0435\\u043b\\u044c\", \"\\u0431\\u0440\\u043e\\u043a\\u0435\\u0440\", \"\\u043a\\u043e\\u043d\\u0444\\u0438\\u0433\\u0443\\u0440\\u0430\\u0446\\u0438\\u043e\\u043d\\u043d\\u044b\\u0439\", \"\\u0443\\u0441\\u043a\\u043e\\u0440\\u0435\\u043d\\u043d\\u044b\\u0439\", \"\\u043f\\u0435\\u0440\\u0435\\u0437\\u0430\\u043f\\u0443\\u0441\\u043a\\u0430\\u0442\\u044c\", \"\\u0430\\u0440\\u0445\\u0438\\u0432\", \"\\u0441\\u043e\\u043e\\u0431\\u0449\\u0435\\u043d\\u0438\\u0435\", \"\\u043a\\u043b\\u0430\\u0441\\u0442\\u0435\\u0440\", \"\\u0436\\u0443\\u0440\\u043d\\u0430\\u043b\", \"\\u0444\\u0430\\u0439\\u043b\", \"\\u043d\\u0430\\u0441\\u0442\\u0440\\u043e\\u0439\\u043a\\u0430\", \"\\u043f\\u0440\\u0438\\u0440\\u0430\\u0449\\u0435\\u043d\\u0438\\u0435\", \"\\u0430\\u0443\\u0442\\u0435\\u043d\\u0442\\u0438\\u0444\\u0438\\u043a\\u0430\\u0446\\u0438\\u044f\", \"\\u0441\\u0435\\u0440\\u0442\\u0438\\u0444\\u0438\\u043a\\u0430\\u0442\", \"\\u043a\\u043e\\u043d\\u0442\\u0435\\u0439\\u043d\\u0435\\u0440\", \"\\u0440\\u0435\\u0434\\u0430\\u043a\\u0442\\u0438\\u0440\\u043e\\u0432\\u0430\\u043d\\u0438\\u0435\", \"\\u043a\\u043e\\u043c\\u0430\\u043d\\u0434\\u043d\\u044b\\u0439\", \"\\u0441\\u043b\\u0443\\u0436\\u0431\\u0430\", \"\\u043e\\u0448\\u0438\\u0431\\u043a\\u0430\", \"\\u043a\\u0430\\u0442\\u0430\\u043b\\u043e\\u0433\", \"\\u043f\\u043e\\u0434\\u043f\\u0438\\u0441\\u044b\\u0432\\u0430\\u0442\\u044c\", \"\\u0437\\u0430\\u043f\\u0443\\u0441\\u043a\\u0430\\u0442\\u044c\", \"\\u043d\\u0430\\u0441\\u0442\\u0440\\u0430\\u0438\\u0432\\u0430\\u0442\\u044c\", \"\\u043a\\u043e\\u043c\\u0430\\u043d\\u0434\\u0430\", \"\\u043d\\u0435\\u043e\\u0431\\u0445\\u043e\\u0434\\u0438\\u043c\\u043e\", \"\\u043f\\u0440\\u043e\\u0432\\u0435\\u0440\\u044f\\u0442\\u044c\", \"\\u043a\\u043e\\u043d\\u043d\\u0435\\u043a\\u0442\\u043e\\u0440\", \"\\u043a\\u043b\\u044e\\u0447\", \"\\u043f\\u0440\\u0438\\u043b\\u043e\\u0436\\u0435\\u043d\\u0438\\u0435\", \"\\u0437\\u0430\\u043f\\u0443\\u0441\\u043a\", \"\\u0441\\u0435\\u0440\\u0432\\u0435\\u0440\", \"\\u0443\\u0441\\u0442\\u0430\\u043d\\u043e\\u0432\\u043a\\u0430\", \"\\u043a\\u043e\\u043d\\u0444\\u0438\\u0433\\u0443\\u0440\\u0430\\u0446\\u0438\\u044f\", \"\\u0443\\u043a\\u0430\\u0437\\u044b\\u0432\\u0430\\u0442\\u044c\", \"\\u0431\\u0435\\u0437\\u043e\\u043f\\u0430\\u0441\\u043d\\u043e\\u0441\\u0442\\u044c\", \"\\u043f\\u0440\\u043e\\u0431\\u043b\\u0435\\u043c\\u0430\", \"\\u0430\\u0434\\u0440\\u0435\\u0441\", \"\\u043c\\u043e\\u0447\\u044c\", \"\\u0441\\u043e\\u0437\\u0434\\u0430\\u0432\\u0430\\u0442\\u044c\", \"\\u0441\\u0435\\u0442\\u0435\\u0432\\u043e\\u0439\", \"\\u0430\\u043d\\u0442\\u0438\\u0443\\u0442\\u043e\\u043f\\u0438\\u0447\\u043d\\u044b\\u0439\", \"\\u0430\\u0442\\u043c\\u043e\\u0441\\u0444\\u0435\\u0440\\u0430\", \"\\u0432\\u0430\\u043b\\u044e\\u0442\\u0430\", \"\\u0432\\u043d\\u0443\\u0442\\u0440\\u0438\\u0438\\u0433\\u0440\\u043e\\u0432\\u043e\\u0439\", \"\\u0432\\u0440\\u0430\\u0433\", \"\\u0433\\u0435\\u0439\\u043c\\u0434\\u0438\\u0437\\u0430\\u0439\\u043d\\u0435\\u0440\", \"\\u0433\\u0435\\u0439\\u043c\\u0435\\u0440\", \"\\u0433\\u0435\\u0439\\u043c\\u043f\\u043b\\u0438\", \"\\u0433\\u0435\\u0440\\u043e\\u0439\", \"\\u0438\\u043d\\u0442\\u0435\\u0440\\u0430\\u043a\\u0442\\u0438\\u0432\\u043d\\u043e\\u0441\\u0442\\u044c\", \"\\u043b\\u0435\\u0433\\u0435\\u043d\\u0434\\u0430\\u0440\\u043d\\u044b\\u0439\", \"\\u043c\\u0435\\u043b\\u043e\\u0434\\u0438\\u044f\", \"\\u043e\\u043a\\u0443\\u043d\\u0430\\u0442\\u044c\\u0441\\u044f\", \"\\u0440\\u0430\\u0441\\u0441\\u0443\\u0436\\u0434\\u0435\\u043d\\u0438\\u0435\", \"\\u0440\\u043e\\u043b\\u0435\\u0432\\u043e\\u0439\", \"\\u0441\\u0430\\u0443\\u043d\\u0434\\u0442\\u0440\\u0435\\u043a\", \"\\u0441\\u043f\\u0430\\u0441\\u0435\\u043d\\u0438\\u0435\", \"\\u0443\\u0433\\u043e\\u043b\\u043e\\u043a\", \"\\u0444\\u0430\\u043d\\u0430\\u0442\", \"\\u0430\\u043b\\u044c\\u0431\\u043e\\u043c\", \"\\u0430\\u043d\\u0442\\u0438\\u0442\\u0435\\u0440\\u0440\\u043e\\u0440\\u0438\\u0441\\u0442\\u0438\\u0447\\u0435\\u0441\\u043a\\u0438\\u0439\", \"\\u0430\\u0444\\u0438\\u0448\\u0430\", \"\\u0430\\u0447\\u0438\\u0432\\u043a\\u0438\", \"\\u0431\\u0430\\u0440\\u0440\\u0438\\u043a\\u0430\\u0434\\u0430\", \"\\u0431\\u0435\\u0437\\u043c\\u043e\\u043b\\u0432\\u043d\\u044b\\u0439\", \"\\u0431\\u0435\\u0437\\u044b\\u0441\\u0445\\u043e\\u0434\\u043d\\u043e\\u0441\\u0442\\u044c\", \"\\u0431\\u0438\\u043e\\u043c\\u043e\\u0434\", \"\\u0431\\u043e\\u043b\\u0432\\u0430\\u043d\\u0447\\u0438\\u043a\", \"\\u0431\\u0443\\u043d\\u0442\", \"\\u0431\\u0443\\u0448\\u0435\\u0432\\u0430\\u0442\\u044c\", \"\\u0438\\u0433\\u0440\\u0430\", \"\\u043e\\u0440\\u0443\\u0436\\u0438\\u0435\", \"\\u0442\\u0435\\u0440\\u0440\\u043e\\u0440\\u0438\\u0441\\u0442\", \"\\u0431\\u043e\\u0441\\u0441\", \"\\u0433\\u0435\\u0439\\u043c\\u043f\\u043b\\u0435\\u0439\\u043d\\u044b\\u0439\", \"\\u043c\\u0443\\u043b\\u044c\\u0442\\u0438\\u043f\\u043b\\u0435\\u0435\\u0440\", \"\\u0431\\u043e\\u0439\", \"\\u0432\\u0438\\u0440\\u0443\\u0441\", \"\\u0432\\u044b\\u0432\\u0435\\u0441\\u043a\\u0430\", \"\\u0437\\u0430\\u0433\\u043e\\u0432\\u043e\\u0440\", \"\\u043d\\u0435\\u043e\\u043d\\u043e\\u0432\\u044b\\u0439\", \"\\u043f\\u0435\\u0440\\u0435\\u043e\\u0441\\u043c\\u044b\\u0441\\u043b\\u044f\\u0442\\u044c\", \"\\u0440\\u043e\\u043c\\u0435\\u0440\\u043e\", \"\\u0441\\u043f\\u0435\\u043a\\u0442\\u043e\\u0440\", \"\\u0442\\u0435\\u043d\\u0435\\u0432\\u043e\\u0439\", \"\\u0443\\u043e\\u0440\\u0440\\u0435\\u043d\", \"\\u043c\\u0435\\u0442\\u043a\\u043e\\u0441\\u0442\\u044c\", \"\\u0438\\u0433\\u0440\\u043e\\u043a\", \"\\u0433\\u0435\\u0439\\u043c\\u0434\\u0435\\u0432\", \"\\u0440\\u0435\\u043c\\u0430\\u0441\\u0442\\u0435\\u0440\", \"\\u043a\\u0443\\u043b\\u044c\\u0442\\u043e\\u0432\\u044b\\u0439\", \"\\u043c\\u0435\\u0445\\u0430\\u043d\\u0438\\u043a\\u0430\", \"\\u0443\\u0432\\u043b\\u0435\\u043a\\u0430\\u0442\\u0435\\u043b\\u044c\\u043d\\u044b\\u0439\", \"\\u043f\\u0435\\u0440\\u0441\\u043e\\u043d\\u0430\\u0436\", \"\\u043c\\u043e\\u0434\\u0430\", \"\\u043f\\u043e\\u0438\\u0433\\u0440\\u0430\\u0442\\u044c\", \"\\u0438\\u0433\\u0440\\u043e\\u0432\\u043e\\u0439\", \"\\u0437\\u0430\\u0442\\u044f\\u0433\\u0438\\u0432\\u0430\\u0442\\u044c\", \"\\u0438\\u0433\\u0440\\u0430\\u0442\\u044c\", \"\\u0433\\u0435\\u0439\\u043c\\u0438\\u0444\\u0438\\u043a\\u0430\\u0446\\u0438\\u044f\", \"\\u0441\\u0442\\u0443\\u0434\\u0438\\u044f\", \"\\u0441\\u044e\\u0436\\u0435\\u0442\", \"\\u043c\\u043e\\u0448\\u0435\\u043d\\u043d\\u0438\\u043a\", \"\\u0441\\u0438\\u043c\\u0443\\u043b\\u044f\\u0442\\u043e\\u0440\", \"\\u043c\\u0438\\u0440\", \"\\u0438\\u043d\\u0434\\u0443\\u0441\\u0442\\u0440\\u0438\\u044f\", \"\\u043b\\u0435\\u0432\\u0438\\u043d\", \"\\u0447\\u0430\\u0441\\u0442\\u044c\", \"\\u043e\\u0431\\u0437\\u043e\\u0440\", \"\\u043f\\u0440\\u0435\\u0434\\u043c\\u0435\\u0442\", \"\\u043f\\u0440\\u043e\\u0434\\u0443\\u043a\\u0442\", \"\\u0433\\u043e\\u0434\", \"\\u043a\\u0430\\u0436\\u0434\\u044b\\u0439\", \"\\u0447\\u0435\\u043b\\u043e\\u0432\\u0435\\u043a\", \"\\u043c\\u043e\\u0447\\u044c\", \"\\u0441\\u043e\\u0432\\u0440\\u0435\\u043c\\u0435\\u043d\\u043d\\u044b\\u0439\", \"\\u043d\\u043e\\u0432\\u044b\\u0439\", \"\\u043f\\u0435\\u0440\\u0432\\u044b\\u0439\", \"\\u0432\\u0435\\u0441\\u044c\", \"\\u043a\\u043b\\u0438\\u0435\\u043d\\u0442\", \"\\u0430\\u0433\\u0440\\u0435\\u0433\\u0438\\u0440\\u043e\\u0432\\u0430\\u043d\\u0438\\u0435\", \"\\u0430\\u0434\\u043c\\u0438\\u043d\", \"\\u0431\\u0435\\u0437\\u043e\\u0442\\u043a\\u0430\\u0437\\u043d\\u043e\\u0441\\u0442\\u044c\", \"\\u0431\\u0435\\u0437\\u043e\\u0442\\u043b\\u0430\\u0433\\u0430\\u0442\\u0435\\u043b\\u044c\\u043d\\u043e\", \"\\u0431\\u0438\\u0437\\u043d\\u0435\\u0441\\u043e\\u0432\", \"\\u0431\\u0443\\u0434\\u0435\", \"\\u0431\\u044d\\u043a\\u0430\\u043f\\u043b\\u0438\\u0432\\u0430\\u0442\\u044c\\u0441\\u044f\", \"\\u0432\\u0438\\u0437\\u0438\\u0443\\u0430\\u043b\\u0438\\u0437\\u0430\\u0446\\u0438\\u044f\", \"\\u0432\\u0441\\u044f\\u0447\\u0435\\u0441\\u043a\\u0438\\u0439\", \"\\u0434\\u0430\\u043d\\u043d\\u044b\\u0445\\u043c\\u043e\\u0434\\u0435\\u043b\\u044c\", \"\\u0434\\u0435\\u0433\\u0440\\u0430\\u0434\\u0438\\u0440\\u043e\\u0432\\u0430\\u0442\\u044c\", \"\\u0434\\u0435\\u0444\\u043e\\u043b\\u0442\", \"\\u0437\\u0430\\u043c\\u0435\\u0440\\u0438\\u0432\\u0430\\u0442\\u044c\", \"\\u043a\\u0430\\u0440\\u0434\\u0438\\u043d\\u0430\\u043b\\u044c\\u043d\\u043e\\u0441\\u0442\\u044c\", \"\\u043a\\u0432\\u0430\\u043d\\u0442\\u0438\\u043b\\u0435\\u0439\", \"\\u043a\\u0432\\u0430\\u043d\\u0442\\u0438\\u043b\\u044c\", \"\\u043a\\u0432\\u0430\\u0440\\u0442\\u0438\\u043b\\u044c\", \"\\u043a\\u043b\\u0430\\u0441\\u0442\\u044c\", \"\\u043a\\u043e\\u0433\\u043d\\u0438\\u0442\\u0438\\u0432\\u043d\\u044b\\u0439\", \"\\u043a\\u043e\\u043c\\u043f\\u0435\\u043d\\u0441\\u0438\\u0440\\u043e\\u0432\\u0430\\u0442\\u044c\\u0441\\u044f\", \"\\u043a\\u043e\\u043d\\u0447\\u0430\\u0442\\u044c\\u0441\\u044f\", \"\\u043b\\u0443\\u043d\\u0430\", \"\\u043d\\u0430\\u0441\\u044b\\u0449\\u0435\\u043d\\u043d\\u043e\\u0441\\u0442\\u044c\", \"\\u043d\\u0435\\u043f\\u043e\\u043a\\u0440\\u044b\\u0442\\u044b\\u0439\", \"\\u043d\\u0435\\u0442\\u0440\\u0438\\u0432\\u0438\\u0430\\u043b\\u044c\\u043d\\u044b\\u0439\", \"\\u043f\\u0435\\u0440\\u0435\\u0438\\u043c\\u0435\\u043d\\u043e\\u0432\\u044b\\u0432\\u0430\\u0442\\u044c\", \"\\u043f\\u043e\\u0434\\u0445\\u043e\\u0434\\u044b\\u0433\\u043b\\u043e\\u0431\\u0430\\u043b\\u044c\\u043d\\u043e\", \"\\u043f\\u043e\\u043b\\u043a\", \"\\u043f\\u043e\\u043d\\u0435\\u0441\\u0442\\u0438\", \"\\u043f\\u043e\\u0442\\u043e\\u043f\\u0430\\u0442\\u044c\", \"\\u0441\\u0431\\u043e\\u0440\", \"\\u0432\\u0438\\u0437\\u0443\\u0430\\u043b\\u0438\\u0437\\u0438\\u0440\\u043e\\u0432\\u0430\\u0442\\u044c\", \"\\u0443\\u043a\\u043b\\u0430\\u0434\\u044b\\u0432\\u0430\\u0442\\u044c\\u0441\\u044f\", \"\\u0442\\u0430\\u0439\\u043c\\u0438\\u043d\\u0433\", \"\\u043e\\u0442\\u043b\\u0438\\u0447\\u0438\\u0442\\u0435\\u043b\\u044c\\u043d\\u044b\\u0439\", \"\\u0442\\u0430\\u0440\\u0433\\u0435\\u0442\", \"\\u0431\\u0440\\u0435\\u0434\\u043e\\u0432\\u043e\\u0439\", \"\\u0432\\u0438\\u0437\\u0443\\u0430\\u043b\\u0438\\u0437\\u0430\\u0446\\u0438\\u044f\\u0437\\u0430\\u0447\\u0435\\u043c\", \"\\u0437\\u0430\\u043a\\u043e\\u043d\\u043d\\u044b\\u0439\", \"\\u0438\\u0441\\u0442\\u0438\\u043d\\u0430\", \"\\u0438\\u0441\\u0447\\u0438\\u0441\\u043b\\u044f\\u0442\\u044c\\u0441\\u044f\", \"\\u043a\\u043e\\u043d\\u0442\\u0435\\u0439\\u043d\\u0435\\u0440\\u0430\\u043c\\u0438\\u0434\\u043b\\u044f\", \"\\u043b\\u043e\\u0433\\u0438\\u043d\\u043e\\u0432\", \"\\u043c\\u0435\\u0442\\u043e\\u0434\\u0435\\u0441\\u043b\\u0438\", \"\\u043c\\u0435\\u0442\\u0440\\u0438\\u043a\\u0440\\u0430\\u0441\\u0441\\u043c\\u0430\\u0442\\u0440\\u0438\\u0432\\u0430\\u0442\\u044c\", \"\\u043e\\u0431\\u043e\\u0433\\u0430\\u0449\\u0430\\u0442\\u044c\", \"\\u0440\\u0435\\u0441\\u0443\\u0440\\u0441\\u043e\\u0441\\u0443\\u0449\\u0435\\u0441\\u0442\\u0432\\u043b\\u044f\\u0442\\u044c\", \"\\u0443\\u0442\\u0438\\u043b\\u0438\\u0437\\u0438\\u0440\\u043e\\u0432\\u0430\\u0442\\u044c\", \"\\u0430\\u043b\\u0435\\u0440\\u0442\", \"\\u0442\\u0440\\u0435\\u0439\\u0441\", \"\\u043c\\u0435\\u0442\\u0440\\u0438\\u043a\\u0430\", \"\\u043c\\u043e\\u043d\\u0438\\u0442\\u043e\\u0440\\u0438\\u043d\\u0433\", \"\\u043e\\u043f\\u043e\\u0432\\u0435\\u0449\\u0435\\u043d\\u0438\\u0435\", \"\\u0442\\u0440\\u0430\\u0441\\u0441\\u0438\\u0440\\u043e\\u0432\\u043a\\u0430\", \"\\u0440\\u0430\\u0441\\u043f\\u0440\\u0435\\u0434\\u0435\\u043b\\u043d\\u043d\\u044b\\u0439\", \"\\u043d\\u0430\\u0431\\u043b\\u044e\\u0434\\u0430\\u0435\\u043c\\u043e\\u0441\\u0442\\u044c\", \"\\u043c\\u043e\\u043d\\u0438\\u0442\\u043e\\u0440\\u044f\\u0442\\u044c\", \"\\u043a\\u0432\\u0430\\u043d\\u0442\\u0438\\u0442\\u044c\", \"\\u043b\\u043e\\u0433\\u0438\\u0440\\u043e\\u0432\\u0430\\u043d\\u0438\\u0435\", \"\\u043b\\u0435\\u0439\\u0431\\u043b\\u0441\\u0435\\u0442\", \"\\u0434\\u0430\\u0448\\u0431\\u043e\\u0440\\u0434\", \"\\u043d\\u0430\\u0441\\u044b\\u0449\\u0435\\u043d\\u0438\\u0435\", \"\\u0432\\u0438\\u0437\\u0443\\u0430\\u043b\\u0438\\u0437\\u0430\\u0446\\u0438\\u044f\", \"\\u0441\\u043e\\u0431\\u0438\\u0440\\u0430\\u0442\\u044c\", \"\\u0431\\u043b\\u043e\\u043a\", \"\\u0442\\u0440\\u0435\\u0439\\u0441\\u0438\\u043d\\u0433\", \"\\u0432\\u0430\\u0441\\u044f\", \"\\u0434\\u0430\\u0442\\u0430\\u0446\\u0435\\u043d\\u0442\\u0440\", \"\\u0434\\u044b\\u0440\\u043a\\u0430\", \"\\u043f\\u043e\\u0434\\u0445\\u043e\\u0434\", \"\\u043f\\u0440\\u0438\\u043b\\u043e\\u0436\\u0435\\u043d\\u0438\\u0435\", \"\\u0437\\u0430\\u043f\\u0440\\u043e\\u0441\", \"\\u043f\\u0440\\u043e\\u0438\\u0437\\u0432\\u043e\\u0434\\u0438\\u0442\\u0435\\u043b\\u044c\\u043d\\u043e\\u0441\\u0442\\u044c\", \"\\u0441\\u0438\\u0441\\u0442\\u0435\\u043c\\u0430\", \"\\u0438\\u0441\\u0442\\u043e\\u0447\\u043d\\u0438\\u043a\", \"\\u0434\\u0430\\u043d\\u043d\\u044b\\u0435\", \"\\u0431\\u044b\\u0441\\u0442\\u0440\\u043e\\u0434\\u0435\\u0439\\u0441\\u0442\\u0432\\u0438\\u0435\", \"\\u0433\\u0440\\u0430\\u0444\\u0438\\u043a\", \"\\u043b\\u0435\\u0439\\u0431\\u043b\", \"\\u0440\\u0435\\u0441\\u0443\\u0440\\u0441\", \"\\u0441\\u0435\\u0440\\u0432\\u0438\\u0441\", \"\\u0434\\u043e\\u0441\\u0442\\u0443\\u043f\\u043d\\u043e\\u0441\\u0442\\u044c\", \"\\u043f\\u0440\\u043e\\u0431\\u043b\\u0435\\u043c\\u0430\", \"\\u043e\\u0448\\u0438\\u0431\\u043a\\u0430\", \"\\u0441\\u0445\\u0435\\u043c\\u0430\", \"\\u043c\\u0435\\u0442\\u043e\\u0434\", \"\\u043a\\u043e\\u043b\\u0438\\u0447\\u0435\\u0441\\u0442\\u0432\\u043e\", \"\\u043c\\u043e\\u0447\\u044c\", \"\\u0438\\u043d\\u0441\\u0442\\u0440\\u0443\\u043c\\u0435\\u043d\\u0442\", \"\\u0432\\u0440\\u0435\\u043c\\u044f\", \"\\u0430\\u043a\\u0442\\u0438\\u0432\\u0430\\u0446\\u0438\\u044f\", \"\\u0430\\u043a\\u0446\\u0435\\u043d\\u0442\", \"\\u0430\\u043d\\u0438\\u043c\\u0438\\u0440\\u043e\\u0432\\u0430\\u043d\\u0438\\u0435\", \"\\u0431\\u0435\\u0437\\u0433\\u0440\\u0430\\u043d\\u0438\\u0447\\u043d\\u044b\\u0439\", \"\\u0431\\u043b\\u0430\\u0433\\u043e\\u0434\\u0430\\u0440\\u0438\\u0442\\u044c\", \"\\u0432\\u0440\\u0430\\u0449\\u0435\\u043d\\u0438\\u0435\", \"\\u0432\\u0443\\u0430\\u043b\\u044c\", \"\\u0433\\u0440\\u0430\\u0434\\u0438\\u0435\\u043d\\u0442\", \"\\u0438\\u043d\\u0442\\u0440\\u0438\\u0433\\u043e\\u0432\\u0430\\u0442\\u044c\", \"\\u0438\\u043d\\u0442\\u0440\\u0438\\u0433\\u0443\\u044e\\u0449\\u0438\\u0439\", \"\\u043a\\u043b\\u0438\\u043f\", \"\\u043b\\u0433\\u043a\\u043e\\u0441\\u0442\\u044c\", \"\\u043c\\u043e\\u043d\\u0442\\u0438\\u0440\\u043e\\u0432\\u0430\\u043d\\u0438\\u0435\", \"\\u043d\\u0430\\u0432\\u0435\\u0434\\u0435\\u043d\\u0438\\u0435\", \"\\u043d\\u0430\\u0447\\u043d\\u0442\\u0435\", \"\\u043d\\u0435\\u043f\\u043e\\u0436\\u0438\\u043c\\u0430\\u0442\\u044c\", \"\\u043e\\u0442\\u0440\\u0438\\u0441\\u043e\\u0432\\u043a\\u0430\", \"\\u043e\\u0442\\u0440\\u0438\\u0441\\u043e\\u0432\\u0449\\u0438\\u043a\", \"\\u043e\\u0442\\u0440\\u0438\\u0441\\u043e\\u0432\\u044b\\u0432\\u0430\\u0442\\u044c\", \"\\u043e\\u0442\\u0441\\u043b\\u0435\\u0436\\u0438\\u0432\\u0430\\u0442\\u044c\\u0441\\u044f\", \"\\u043f\\u0435\\u0440\\u0435\\u0442\\u044c\", \"\\u043f\\u043b\\u0430\\u0432\\u043d\\u043e\\u0439\", \"\\u043f\\u043e\\u0432\\u043e\\u0440\\u043e\\u0442\", \"\\u043f\\u043e\\u0433\\u0440\\u0443\\u0436\\u0430\\u0442\\u044c\", \"\\u043f\\u043e\\u0434\\u0441\\u0442\\u0440\\u0430\\u0438\\u0432\\u0430\\u0442\\u044c\", \"\\u043f\\u0440\\u0438\\u0432\\u0435\\u0434\\u043d\\u043d\\u044b\\u0439\", \"\\u043f\\u0440\\u043e\\u0436\\u0435\\u043a\\u0442\\u043e\\u0440\", \"\\u043f\\u044f\\u0442\\u043d\\u043e\", \"\\u0440\\u0430\\u0434\\u0438\\u0430\\u043b\\u044c\\u043d\\u044b\\u0439\", \"\\u0440\\u0435\\u0444\", \"\\u0442\\u0435\\u043a\\u0441\\u0442\\u0443\\u0440\\u0430\", \"\\u0445\\u0443\\u043a\", \"\\u0430\\u043d\\u0438\\u043c\\u0430\\u0446\\u0438\\u044f\", \"\\u0441\\u0442\\u0440\\u0438\\u043c\", \"\\u0430\\u043d\\u0438\\u043c\\u0438\\u0440\\u043e\\u0432\\u0430\\u0442\\u044c\", \"\\u0441\\u0446\\u0435\\u043d\\u0430\", \"\\u043f\\u043e\\u043b\\u043e\\u0436\\u0435\\u043d\\u0438\\u0435\", \"\\u0441\\u043b\\u0443\\u0448\\u0430\\u0442\\u0435\\u043b\\u044c\", \"\\u0440\\u0435\\u0430\\u043a\\u0442\\u0438\\u0432\", \"\\u0440\\u0435\\u0430\\u043a\\u0442\\u0438\\u0432\\u043d\\u044b\\u0439\", \"\\u0434\\u0438\\u0440\\u0435\\u043a\\u0442\\u0438\\u0432\\u0430\", \"\\u0434\\u0438\\u043d\\u0430\\u043c\\u0438\\u0447\\u0435\\u0441\\u043a\\u0438\\u0439\", \"\\u043f\\u043b\\u0430\\u0432\\u043d\\u043e\", \"\\u043e\\u0441\\u0432\\u0435\\u0449\\u0435\\u043d\\u0438\\u0435\", \"\\u043f\\u043e\\u0434\\u043f\\u0438\\u0441\\u043a\\u0430\", \"\\u0432\\u044b\\u0437\\u044b\\u0432\\u0430\\u0442\\u044c\\u0441\\u044f\", \"\\u044d\\u043b\\u0435\\u043c\\u0435\\u043d\\u0442\", \"\\u043a\\u0443\\u0440\\u0441\\u043e\\u0440\", \"\\u0441\\u0442\\u044d\\u043a\", \"\\u0441\\u043e\\u0431\\u044b\\u0442\\u0438\\u0435\", \"\\u043a\\u043b\\u0438\\u043a\\u043d\\u0443\\u0442\\u044c\", \"\\u043e\\u043f\\u0435\\u0440\\u0430\\u0442\\u043e\\u0440\", \"\\u0434\\u044b\\u0440\\u0430\", \"\\u0430\\u043d\\u0438\\u043c\\u0430\\u0442\\u043e\\u0440\", \"\\u0442\\u0435\\u043d\\u044c\", \"\\u043d\\u0430\\u0431\\u043b\\u044e\\u0434\\u0430\\u0442\\u0435\\u043b\\u044c\", \"\\u043c\\u044b\\u0448\\u044c\", \"\\u0440\\u043e\\u043b\\u0438\\u043a\", \"\\u043f\\u043e\\u0442\\u043e\\u043a\", \"\\u0437\\u0430\\u043a\\u0430\\u0437\\u0447\\u0438\\u043a\", \"\\u043a\\u043e\\u043c\\u043f\\u043e\\u043d\\u0435\\u043d\\u0442\", \"\\u043c\\u0435\\u0442\\u043e\\u0434\", \"\\u0438\\u0437\\u043e\\u0431\\u0440\\u0430\\u0436\\u0435\\u043d\\u0438\\u0435\", \"\\u043f\\u0440\\u043e\\u0441\\u043c\\u043e\\u0442\\u0440\", \"\\u0431\\u0438\\u0431\\u043b\\u0438\\u043e\\u0442\\u0435\\u043a\\u0430\", \"\\u0441\\u043e\\u0437\\u0434\\u0430\\u0432\\u0430\\u0442\\u044c\", \"\\u044d\\u0444\\u0444\\u0435\\u043a\\u0442\", \"\\u043a\\u0430\\u0434\\u0440\", \"\\u0432\\u044b\\u0437\\u043e\\u0432\", \"\\u043f\\u0440\\u043e\\u0433\\u0440\\u0430\\u043c\\u043c\\u0430\", \"\\u0440\\u0435\\u0430\\u043b\\u0438\\u0437\\u0430\\u0446\\u0438\\u044f\", \"\\u0438\\u0441\\u043f\\u043e\\u043b\\u044c\\u0437\\u043e\\u0432\\u0430\\u0442\\u044c\", \"\\u0444\\u0443\\u043d\\u043a\\u0446\\u0438\\u044f\", \"\\u043f\\u0440\\u0438\\u043b\\u043e\\u0436\\u0435\\u043d\\u0438\\u0435\", \"\\u0440\\u0430\\u0431\\u043e\\u0442\\u0430\", \"\\u043f\\u0440\\u0438\\u043c\\u0435\\u0440\", \"\\u0430\\u0443\\u0434\\u0438\\u043e\\u0432\\u044b\\u0445\\u043e\\u0434\", \"\\u0430\\u0443\\u0434\\u0438\\u043e\\u0440\\u0430\\u0437\\u044a\\u043c\\u043e\\u043c\", \"\\u0430\\u0443\\u0434\\u0438\\u043e\\u0447\\u0438\\u043f\", \"\\u0433\\u0438\\u0433\\u0430\\u0431\\u0438\\u0442\\u043d\\u044b\\u0439\", \"\\u0438\\u043d\\u0435\\u0440\\u0446\\u0438\\u0430\\u043b\\u044c\\u043d\\u044b\\u0439\", \"\\u043a\\u043e\\u043c\\u0431\\u0438\\u043d\\u0438\\u0440\\u043e\\u0432\\u0430\\u043d\\u043d\\u044b\\u0439\", \"\\u043c\\u0430\\u043b\\u044e\\u0442\\u043a\\u0430\", \"\\u043c\\u0431\\u0438\\u0442\", \"\\u043c\\u0435\\u0436\\u043f\\u043b\\u0430\\u0442\\u043d\\u044b\\u0439\", \"\\u043c\\u0438\\u043a\\u0440\\u043e\\u043a\\u043e\\u043d\\u0442\\u0440\\u043e\\u043b\\u043b\\u0435\\u0440\", \"\\u043d\\u0435\\u0431\\u0435\\u0437\\u044b\\u0437\\u0432\\u0435\\u0441\\u0442\\u043d\\u044b\\u0439\", \"\\u043e\\u0434\\u043d\\u043e\\u043f\\u043b\\u0430\\u0442\\u043d\\u044b\\u0439\", \"\\u043e\\u0441\\u0435\\u0432\\u043e\\u0439\", \"\\u043f\\u0438\\u043d\\u043e\\u0432\\u044b\\u0439\", \"\\u0443\\u0441\\u043a\\u043e\\u0440\\u0438\\u0442\\u0435\\u043b\\u044c\", \"\\u043e\\u0437\\u0443\", \"\\u043f\\u043e\\u0437\\u0438\\u0446\\u0438\\u043e\\u043d\\u0438\\u0440\\u043e\\u0432\\u0430\\u0442\\u044c\", \"\\u0440\\u0430\\u0437\\u044a\\u0435\\u043c\", \"\\u0432\\u044b\\u0434\\u0443\\u043c\\u043a\\u0430\", \"\\u0437\\u0430\\u044f\\u0432\\u043b\\u044f\\u0442\\u044c\\u0441\\u044f\", \"\\u0437\\u0432\\u0435\\u0440\\u044c\", \"\\u0438\\u0431\\u043f\", \"\\u043a\\u043e\\u043c\\u0430\\u043d\\u0434\\u0438\\u0440\\u043e\\u0432\\u043a\\u0430\", \"\\u043c\\u043e\\u043d\\u0441\\u0442\\u0440\\u043e\\u043e\\u0431\\u0440\\u0430\\u0437\\u043d\\u044b\\u0439\", \"\\u043c\\u043e\\u043d\\u0441\\u0442\\u0440\\u0443\\u043e\\u0437\\u043d\\u044b\\u0439\", \"\\u043e\\u043a\\u0435\\u0439\", \"\\u043f\\u043e\\u0440\\u0442\\u0430\\u0442\\u0438\\u0432\\u043d\\u043e\\u0441\\u0442\\u044c\", \"\\u043f\\u043e\\u0440\\u0442\\u0430\\u0442\\u0438\\u0432\\u043d\\u044b\\u0439\", \"\\u043f\\u0440\\u043e\\u0436\\u043e\\u0440\\u043b\\u0438\\u0432\\u044b\\u0439\", \"\\u043f\\u044f\\u0434\\u044c\", \"\\u0442\\u0435\\u0445\\u043f\\u0440\\u043e\\u0446\\u0435\\u0441\\u0441\", \"\\u0432\\u043f\\u043b\\u043e\\u0442\\u044c\", \"\\u043e\\u0441\\u043d\\u0430\\u0449\\u0430\\u0442\\u044c\", \"\\u0433\\u0440\\u0430\\u043c\\u043c\", \"\\u043f\\u0440\\u043e\\u0430\\u043f\\u0433\\u0440\\u0435\\u0439\\u0434\\u0438\\u0442\\u044c\", \"\\u043f\\u043e\\u0440\\u0442\", \"\\u0433\\u0433\\u0446\", \"\\u043f\\u0440\\u043e\\u0438\\u0437\\u0432\\u043e\\u0434\\u0438\\u0442\\u0435\\u043b\\u044c\\u043d\\u044b\\u0439\", \"\\u0434\\u0435\\u0432\\u0430\\u0439\\u0441\", \"\\u043f\\u0440\\u043e\\u0438\\u0437\\u0432\\u043e\\u0434\\u0438\\u0442\\u0435\\u043b\\u044c\", \"\\u0441\\u043b\\u043e\\u0442\", \"\\u0434\\u0438\\u0441\\u043f\\u043b\\u0435\\u0439\", \"\\u0430\\u043b\\u0438\\u044d\\u043a\\u0441\\u043f\\u0440\\u0435\\u0441\\u0441\", \"\\u043f\\u043e\\u0441\\u0442\\u0430\\u0432\\u043b\\u044f\\u0442\\u044c\\u0441\\u044f\", \"\\u043d\\u0430\\u0441\\u0447\\u0435\\u0442\", \"\\u043c\\u0438\\u043d\\u0438\", \"\\u0442\\u043e\\u043f\\u043e\\u0432\\u044b\\u0439\", \"\\u044f\\u0434\\u0435\\u0440\\u043d\\u044b\\u0439\", \"\\u043c\\u0430\\u0442\\u0435\\u0440\\u0438\\u043d\\u0441\\u043a\\u0438\\u0439\", \"\\u0447\\u0438\\u043f\", \"\\u043f\\u0440\\u043e\\u0446\\u0435\\u0441\\u0441\\u043e\\u0440\", \"\\u043f\\u043b\\u0430\\u0442\\u0430\", \"\\u0441\\u0442\\u043e\\u0438\\u043c\\u043e\\u0441\\u0442\\u044c\", \"\\u044f\\u0434\\u0440\\u043e\", \"\\u0441\\u0438\\u0441\\u0442\\u0435\\u043c\\u0430\", \"\\u0445\\u0430\\u0440\\u0430\\u043a\\u0442\\u0435\\u0440\\u0438\\u0441\\u0442\\u0438\\u043a\\u0430\", \"\\u043a\\u0430\\u0441\\u0430\\u0442\\u044c\\u0441\\u044f\", \"\\u043e\\u0434\\u043d\\u043e\\u043f\\u043b\\u0430\\u0442\\u043d\\u0438\\u043a\", \"\\u0441\\u0442\\u0430\\u043d\\u0446\\u0438\\u044f\", \"\\u043f\\u0440\\u043e\\u0434\\u0430\\u0436\\u0430\", \"\\u043f\\u0440\\u043e\\u0434\\u0430\\u0432\\u0430\\u0442\\u044c\\u0441\\u044f\", \"\\u043d\\u043e\\u0443\\u0442\\u0431\\u0443\\u043a\", \"\\u043f\\u0430\\u043c\\u044f\\u0442\\u044c\", \"\\u043f\\u043e\\u0434\\u0434\\u0435\\u0440\\u0436\\u0438\\u0432\\u0430\\u0442\\u044c\", \"\\u043c\\u043e\\u0434\\u0443\\u043b\\u044c\", \"\\u043e\\u043a\\u043e\\u043b\\u043e\", \"\\u043a\\u043e\\u043c\\u043f\\u0430\\u043d\\u0438\\u044f\", \"\\u0441\\u0447\\u0435\\u0442\\u0447\\u0438\\u043a\", \"\\u043a\\u043e\\u043b\\u043b\\u0431\\u044d\\u043a\", \"\\u043f\\u0430\\u0440\\u0430\\u0433\\u0440\\u0430\\u0444\", \"\\u043f\\u0440\\u043e\\u043c\\u0438\\u0441\", \"\\u0434\\u0435\\u0434\\u0443\\u043f\\u043b\\u0438\\u043a\\u0430\\u0446\\u0438\\u044f\", \"\\u0434\\u0435\\u043c\\u043e\", \"\\u0437\\u0430\\u0438\\u043c\\u0441\\u0442\\u0432\\u043e\\u0432\\u0430\\u0442\\u044c\", \"\\u0437\\u0430\\u043c\\u0435\\u0442\\u043a\\u0430\", \"\\u0438\\u0434\\u0435\\u043d\\u0442\\u0438\\u0447\\u043d\\u043e\", \"\\u043b\\u043e\\u0432\\u043a\\u043e\\u0441\\u0442\\u044c\", \"\\u043c\\u043e\\u0448\\u0435\\u043d\\u043d\\u0438\\u0447\\u0435\\u0441\\u0442\\u0432\\u043e\", \"\\u043d\\u0430\\u0431\\u0440\\u043e\\u0441\\u0430\\u0442\\u044c\", \"\\u043d\\u0430\\u043b\\u0435\\u0432\\u043e\", \"\\u043e\\u0434\\u043d\\u043e\\u043a\\u0440\\u0430\\u0442\\u043d\\u043e\", \"\\u043f\\u043e\\u0434\\u043f\\u0438\\u0441\\u0447\\u0438\\u043a\", \"\\u0441\\u043d\\u0438\\u043f\\u043f\\u0435\\u0442\", \"\\u0440\\u0435\\u0430\\u043a\\u0442\\u0438\\u0432\\u043d\\u043e\\u0441\\u0442\\u044c\", \"\\u0444\\u0440\\u0435\\u0439\\u043c\\u0432\\u043e\\u0440\\u043a\", \"\\u0430\\u043f\\u0434\\u0435\\u0439\\u0442\", \"\\u0431\\u0435\\u0437\\u0434\\u0435\\u0439\\u0441\\u0442\\u0432\\u0438\\u0435\", \"\\u0432\\u0435\\u0437\\u0442\\u0438\", \"\\u0438\\u043d\\u0441\\u0442\\u0430\\u043b\\u043b\\u0438\\u0440\\u043e\\u0432\\u0430\\u0442\\u044c\", \"\\u0438\\u043d\\u0441\\u0442\\u0430\\u043b\\u043b\\u044f\\u0446\\u0438\\u044f\\u0447\\u0442\\u043e\\u0431\\u0430\", \"\\u043a\\u043e\\u043c\\u043f\\u043e\\u043d\\u043e\\u0432\\u0430\\u0442\\u044c\", \"\\u043a\\u043e\\u043d\\u0442\\u0435\\u043d\\u0442\\u043d\\u044b\\u0439\", \"\\u043b\\u0435\\u0433\\u043a\\u043e\\u0441\\u0442\\u044c\", \"\\u043c\\u0430\\u043d\\u0438\\u043f\\u0443\\u043b\\u0438\\u0440\\u043e\\u0432\\u0430\\u043d\\u0438\\u0435\", \"\\u043e\\u0442\\u043a\\u0430\\u0442\\u0438\\u0442\\u044c\\u0441\\u044f\", \"\\u043e\\u0442\\u0441\\u0447\\u0435\\u0442\", \"\\u043f\\u043e\\u0432\\u0442\\u043e\\u0440\", \"\\u043f\\u0440\\u043e\\u0439\\u0442\\u0438\", \"\\u0440\\u0435\\u043d\\u0434\\u0435\\u0440\\u0438\\u043d\\u0433\", \"\\u0441\\u043b\\u0443\\u0436\\u0435\\u0431\\u043d\\u044b\\u0439\", \"\\u043c\\u043e\\u0434\\u0438\\u0444\\u0438\\u043a\\u0430\\u0446\\u0438\\u044f\", \"\\u0437\\u043d\\u0430\\u0447\\u0435\\u043d\\u0438\\u0435\", \"\\u0432\\u043e\\u0437\\u0432\\u0440\\u0430\\u0449\\u0430\\u0442\\u044c\", \"\\u043f\\u0430\\u0440\\u0441\\u0435\\u0440\", \"\\u0438\\u043d\\u0441\\u0442\\u0430\\u043d\\u0441\", \"\\u043d\\u0435\\u0441\\u043e\\u0433\\u043b\\u0430\\u0441\\u043e\\u0432\\u0430\\u043d\\u043d\\u043e\\u0441\\u0442\\u044c\", \"\\u043e\\u0442\\u043c\\u0435\\u043d\\u0430\", \"\\u0440\\u0435\\u043d\\u0434\\u0435\\u0440\\u0438\\u0432\\u0430\\u0442\\u044c\\u0441\\u044f\", \"\\u0441\\u0431\\u0440\\u043e\\u0441\\u0438\\u0442\\u044c\", \"\\u0441\\u043e\\u0441\\u0442\\u043e\\u044f\\u043d\\u0438\\u0435\", \"\\u043f\\u043e\\u043b\\u0435\\u0437\\u043d\\u043e\", \"\\u0432\\u044b\\u0447\\u0438\\u0441\\u043b\\u044f\\u0442\\u044c\", \"\\u043b\\u044f\\u043c\\u0431\\u0434\\u0430\", \"\\u0430\\u0441\\u0438\\u043d\\u0445\\u0440\\u043e\\u043d\\u043d\\u044b\\u0439\", \"\\u0444\\u0443\\u043d\\u043a\\u0446\\u0438\\u044f\", \"\\u043a\\u043d\\u043e\\u043f\\u043a\\u0430\", \"\\u043f\\u0430\\u0440\\u0441\\u0438\\u043d\\u0433\", \"\\u043e\\u0442\\u043c\\u0435\\u043d\\u044f\\u0442\\u044c\", \"\\u043b\\u043e\\u043a\\u0430\\u043b\\u044c\\u043d\\u044b\\u0439\", \"\\u0438\\u0437\\u043c\\u0435\\u043d\\u0435\\u043d\\u0438\\u0435\", \"\\u0437\\u0430\\u043f\\u0440\\u043e\\u0441\", \"\\u043a\\u043e\\u0434\", \"\\u0432\\u044b\\u043f\\u043e\\u043b\\u043d\\u044f\\u0442\\u044c\\u0441\\u044f\", \"\\u043e\\u0431\\u043d\\u043e\\u0432\\u043b\\u044f\\u0442\\u044c\", \"\\u043f\\u0440\\u0438\\u043c\\u0435\\u0440\", \"\\u0438\\u043d\\u0444\\u0440\\u0430\\u0441\\u0442\\u0440\\u0443\\u043a\\u0442\\u0443\\u0440\\u0430\", \"\\u043c\\u043e\\u0447\\u044c\", \"\\u0438\\u0441\\u043f\\u043e\\u043b\\u044c\\u0437\\u043e\\u0432\\u0430\\u0442\\u044c\", \"\\u0434\\u0430\\u043d\\u043d\\u044b\\u0435\", \"\\u0434\\u0430\\u0432\\u0430\\u0442\\u044c\", \"\\u043e\\u0431\\u043d\\u043e\\u0432\\u043b\\u0435\\u043d\\u0438\\u0435\", \"\\u043f\\u0435\\u0440\\u0435\\u043c\\u0435\\u043d\\u043d\\u044b\\u0439\", \"\\u0441\\u043e\\u0437\\u0434\\u0430\\u0432\\u0430\\u0442\\u044c\", \"\\u0441\\u0435\\u043a\\u0443\\u043d\\u0434\\u0430\", \"\\u0440\\u0435\\u0441\\u0443\\u0440\\u0441\", \"\\u043d\\u0430\\u0447\\u0438\\u043d\\u0430\\u0442\\u044c\", \"\\u0434\\u0436\\u0435\\u043d\\u0435\\u0440\\u0438\\u043a\", \"\\u0430\\u043d\\u043d\\u043e\\u0442\\u0430\\u0446\\u0438\\u044f\", \"\\u0430\\u0441\\u0441\\u0435\\u043c\\u0431\\u043b\\u0435\\u0440\\u043d\\u044b\\u0439\", \"\\u0431\\u0435\\u043d\\u0447\\u043c\\u0430\\u0440\\u043a\\u0430\", \"\\u0431\\u0435\\u043d\\u0447\\u043c\\u0430\\u0440\\u043a\\u0438\\u043d\\u0433\", \"\\u0431\\u0438\\u0431\\u043b\\u0438\\u043e\\u0442\\u0435\\u043a\\u0438\\u043d\", \"\\u0432\\u043b\\u043e\\u0436\\u0435\\u043d\\u043d\\u043e\\u0441\\u0442\\u044c\", \"\\u0432\\u044b\\u0441\\u043e\\u043a\\u043e\\u0443\\u0440\\u043e\\u0432\\u043d\\u0435\\u0432\\u044b\\u0439\", \"\\u0432\\u044b\\u0442\\u0430\\u043b\\u043a\\u0438\\u0432\\u0430\\u0442\\u044c\", \"\\u0432\\u044b\\u0448\\u0435\\u043f\\u0440\\u0438\\u0432\\u0435\\u0434\\u043d\\u043d\\u044b\\u0439\", \"\\u0433\\u0435\\u043d\\u0435\\u0440\\u0438\\u0440\\u043e\\u0432\\u0430\\u0442\\u044c\\u0441\\u044f\", \"\\u0434\\u0435\\u0441\\u0435\\u0440\\u0438\\u0430\\u043b\\u0438\\u0437\\u0430\\u0442\\u043e\\u0440\", \"\\u0434\\u0435\\u0441\\u0435\\u0440\\u0438\\u0430\\u043b\\u0438\\u0437\\u0430\\u0446\\u0438\\u044f\", \"\\u0434\\u0435\\u0444\\u043e\\u043b\\u0442\\u043d\\u0430\\u044f\", \"\\u0434\\u0435\\u0444\\u043e\\u043b\\u0442\\u043d\\u043e\\u0439\", \"\\u0434\\u0435\\u0444\\u043e\\u043b\\u0442\\u043d\\u0443\\u044e\", \"\\u0434\\u0435\\u0444\\u043e\\u043b\\u0442\\u043d\\u044b\\u0439\", \"\\u0434\\u0438\\u0441\\u043a\\u0440\\u0438\\u043c\\u0438\\u043d\\u0430\\u0442\\u043e\\u0440\", \"\\u0436\\u0430\\u0434\\u043d\\u044b\\u0439\", \"\\u0437\\u0430\\u043c\\u0435\\u043d\\u044f\\u0442\\u044c\\u0441\\u044f\", \"\\u0437\\u0430\\u043f\\u0438\\u0441\\u044b\\u0432\\u0430\\u0442\\u0435\\u043b\\u044c\", \"\\u0437\\u0430\\u0440\\u0435\\u0437\\u0435\\u0440\\u0432\\u0438\\u0440\\u043e\\u0432\\u0430\\u0442\\u044c\", \"\\u0438\\u0437\\u0432\\u043b\\u0435\\u043a\\u0430\\u0442\\u044c\\u0441\\u044f\", \"\\u0438\\u0437\\u044f\\u0449\\u043d\\u043e\\u0441\\u0442\\u044c\", \"\\u0438\\u043d\\u0432\\u0435\\u0441\\u0442\", \"\\u0438\\u043d\\u0438\\u0446\\u0438\\u0430\\u043b\\u0438\\u0437\\u0438\\u0440\\u043e\\u0432\\u0430\\u0442\\u044c\\u0441\\u044f\", \"\\u0438\\u043d\\u0442\\u0435\\u0440\\u043f\\u0440\\u0435\\u0442\\u0438\\u0440\\u043e\\u0432\\u0430\\u0442\\u044c\\u0441\\u044f\", \"\\u0438\\u0441\\u043a\\u043b\\u044e\\u0447\\u0430\\u0442\\u044c\\u0441\\u044f\", \"\\u043a\\u0438\\u0434\\u0430\\u0442\\u044c\", \"\\u043c\\u0435\\u0449\\u0435\\u0440\\u044f\\u043a\\u043e\\u0432\", \"\\u0441\\u0435\\u0440\\u0438\\u0430\\u043b\\u0438\\u0437\\u0430\\u0442\\u043e\\u0440\", \"\\u0441\\u0435\\u0440\\u0438\\u0430\\u043b\\u0438\\u0437\\u0430\\u0446\\u0438\\u044f\", \"\\u043f\\u043e\\u043b\\u0438\\u043c\\u043e\\u0440\\u0444\\u043d\\u044b\\u0439\", \"\\u0441\\u043a\\u043e\\u043d\\u0441\\u0442\\u0440\\u0443\\u0438\\u0440\\u043e\\u0432\\u0430\\u0442\\u044c\", \"\\u043d\\u0430\\u0441\\u043b\\u0435\\u0434\\u043d\\u0438\\u043a\", \"\\u0430\\u043d\\u043d\\u043e\\u0442\\u0438\\u0440\\u043e\\u0432\\u0430\\u0442\\u044c\", \"\\u043a\\u043e\\u0434\\u043e\\u0433\\u0435\\u043d\\u0435\\u0440\\u0430\\u0446\\u0438\\u044f\", \"\\u0441\\u0438\\u043c\\u0432\\u043e\\u043b\\u044c\\u043d\\u044b\\u0439\", \"\\u043e\\u043f\\u0446\\u0438\\u043e\\u043d\\u0430\\u043b\\u044c\\u043d\\u043e\\u0441\\u0442\\u044c\", \"\\u0441\\u0435\\u0440\\u0438\\u0430\\u043b\\u0438\\u0437\\u043e\\u0432\\u0430\\u0442\\u044c\", \"\\u0441\\u043e\\u043e\\u0442\\u0432\\u0435\\u0442\\u0441\\u0442\\u0432\\u0435\\u043d\\u043d\\u043e\\u0442\\u0430\\u0431\\u043b\\u0438\\u0446\\u0430\", \"\\u0440\\u0435\\u043f\\u0440\\u0435\\u0437\\u0435\\u043d\\u0442\\u0430\\u0446\\u0438\\u044f\", \"\\u043f\\u0440\\u0438\\u043c\\u0438\\u0442\\u0438\\u0432\", \"\\u043a\\u043b\\u0430\\u0441\\u0441\", \"\\u043e\\u043f\\u0435\\u0440\\u0430\\u043d\\u0434\", \"\\u0438\\u0442\\u0435\\u0440\\u0430\\u0442\\u043e\\u0440\", \"\\u0438\\u043d\\u0434\\u0435\\u043a\\u0441\\u0430\\u0446\\u0438\\u044f\", \"\\u043a\\u043e\\u0434\\u043e\\u0433\\u0435\\u043d\\u0435\\u0440\\u0430\\u0442\\u043e\\u0440\", \"\\u043f\\u0440\\u043e\\u0442\\u043e\\u043a\\u043e\\u043b\\u0438\\u0440\\u043e\\u0432\\u0430\\u043d\\u0438\\u0435\", \"\\u0440\\u0430\\u043d\\u044c\\u0448\\u0435\\u043f\\u043e\\u0441\\u043b\\u0435\", \"\\u0441\\u0442\\u0440\\u043e\\u043a\\u043e\\u0432\\u044b\\u0439\", \"\\u043a\\u043e\\u043d\\u0441\\u0442\\u0430\\u043d\\u0442\\u0430\", \"\\u0440\\u0430\\u043d\\u0442\\u0430\\u0439\\u043c\", \"\\u043f\\u043e\\u043b\\u0435\", \"\\u043e\\u0431\\u044a\\u0435\\u043a\\u0442\", \"\\u0441\\u0442\\u0440\\u0443\\u043a\\u0442\\u0443\\u0440\\u0430\", \"\\u0431\\u0438\\u0431\\u043b\\u0438\\u043e\\u0442\\u0435\\u0447\\u043d\\u044b\\u0439\", \"\\u0440\\u0435\\u0433\\u0438\\u0441\\u0442\\u0440\", \"\\u043a\\u043e\\u043d\\u0441\\u0442\\u0440\\u0443\\u043a\\u0442\\u043e\\u0440\", \"\\u0433\\u0435\\u043d\\u0435\\u0440\\u0430\\u0446\\u0438\\u044f\", \"\\u043a\\u043e\\u0434\", \"\\u043d\\u0430\\u0437\\u0432\\u0430\\u043d\\u0438\\u0435\", \"\\u0431\\u0430\\u0439\\u0442\", \"\\u0430\\u043d\\u043e\\u043d\\u0438\\u043c\\u043d\\u044b\\u0439\", \"\\u043a\\u043e\\u043c\\u043f\\u0438\\u043b\\u044f\\u0442\\u043e\\u0440\", \"\\u0432\\u0438\\u0434\\u0438\\u043c\\u043e\\u0441\\u0442\\u044c\", \"\\u0438\\u0441\\u0445\\u043e\\u0434\\u043d\\u044b\\u0439\", \"\\u043e\\u043f\\u0440\\u0435\\u0434\\u0435\\u043b\\u0435\\u043d\\u0438\\u0435\", \"\\u0438\\u043d\\u0441\\u0442\\u0440\\u0443\\u043a\\u0446\\u0438\\u044f\", \"\\u043f\\u0430\\u043c\\u044f\\u0442\\u044c\", \"\\u0441\\u0442\\u0435\\u043a\", \"\\u0431\\u0438\\u0431\\u043b\\u0438\\u043e\\u0442\\u0435\\u043a\\u0430\", \"\\u0444\\u0430\\u0439\\u043b\", \"\\u0438\\u043c\\u044f\", \"\\u0442\\u0438\\u043f\", \"\\u043f\\u0440\\u043e\\u0441\\u0442\\u0440\\u0430\\u043d\\u0441\\u0442\\u0432\\u043e\", \"\\u043f\\u0440\\u043e\\u0446\\u0435\\u0441\\u0441\\u043e\\u0440\", \"\\u043c\\u0435\\u0442\\u043e\\u0434\", \"\\u0444\\u0443\\u043d\\u043a\\u0446\\u0438\\u044f\", \"\\u043c\\u043e\\u0434\\u0443\\u043b\\u044c\", \"\\u0441\\u043e\\u0437\\u0434\\u0430\\u043d\\u0438\\u0435\", \"\\u0434\\u043e\\u0431\\u0430\\u0432\\u043b\\u044f\\u0442\\u044c\", \"\\u043f\\u0440\\u043e\\u0435\\u043a\\u0442\", \"\\u0432\\u0430\\u043a\\u0430\\u043d\\u0441\\u0438\\u0438\\u0447\\u0442\\u043e\\u0431\\u0430\", \"\\u0434\\u0436\\u0443\\u043d\", \"\\u0435\\u0436\\u0435\\u043c\\u0435\\u0441\\u044f\\u0447\\u043d\\u043e\", \"\\u043a\\u0432\\u0430\\u043b\\u0438\\u0444\\u0438\\u043a\\u0430\\u0446\\u0438\\u044f\\u043c\\u0441\\u043e\\u0431\\u0438\\u0440\\u0430\\u0442\\u044c\", \"\\u043c\\u0438\\u0434\\u043b\\u043e\\u0432\", \"\\u043d\\u0430\\u0439\\u043c\", \"\\u043d\\u0430\\u043d\\u0438\\u043c\\u0430\\u043b\\u0438\\u043f\\u043e\\u0441\\u043c\\u043e\\u0442\\u0440\\u0435\\u0442\\u044c\", \"\\u043e\\u0442\\u0444\\u0438\\u043b\\u044c\\u0442\\u0440\\u043e\\u0432\\u044b\\u0432\\u0430\\u0442\\u044c\", \"\\u043f\\u043e\\u0434\\u0435\\u043b\\u043d\\u043d\\u043e\\u0435\", \"\\u0440\\u0435\\u0439\\u0442\\u0438\\u043d\\u0433\", \"\\u0441\\u0431\\u0435\\u0440\\u043a\\u043e\\u0440\\u0443\\u0441\", \"\\u0441\\u043e\\u0444\\u0442\\u0438\\u043d\\u0434\\u0430\\u0441\\u0442\\u0440\\u0438\\u0437\", \"\\u0441\\u043f\\u0435\\u0446\\u0438\\u0430\\u043b\\u0438\\u0437\\u0430\\u0446\\u0438\\u044f\\u043c\\u0441\\u043e\\u0431\\u0438\\u0440\\u0430\\u0442\\u044c\", \"\\u0441\\u0442\\u0430\\u0436\\u0435\\u0440\", \"\\u0441\\u0447\\u0438\\u0442\\u0430\\u043b\\u0438\\u044d\\u0442\\u043e\", \"\\u0444\\u0440\\u043e\\u043d\\u0442\\u0435\\u043d\\u0434\\u0435\\u0440\", \"\\u0445\\u0435\\u043b\\u043f\", \"\\u043a\\u043e\\u043c\\u043c\\u0443\\u043d\\u0438\\u043a\\u0430\\u0446\\u0438\\u043e\\u043d\\u043d\\u044b\\u0439\", \"\\u043d\\u0435\\u0440\\u044b\\u043d\\u043e\\u0447\\u043d\\u044b\\u0439\", \"\\u0440\\u0435\\u043a\\u0440\\u0443\\u0442\\u0438\\u043d\\u0433\", \"\\u0446\\u0435\\u043d\\u043d\\u043e\\u0441\\u0442\\u043d\\u044b\\u0439\", \"\\u0430\\u0433\\u0435\\u043d\\u0442\\u0441\\u0442\\u0432\\u0430\\u043c\\u0438\\u043a\\u0430\\u0440\\u044c\\u0435\\u0440\\u043d\\u044b\\u0439\", \"\\u0430\\u043a\\u0441\\u0435\\u043b\\u0435\\u0440\\u0430\\u0442\\u043e\\u0440\", \"\\u0431\\u0440\\u0438\\u0444\", \"\\u0432\\u043e\\u0432\\u0442\\u043e\\u0440\\u044b\\u0445\", \"\\u0432\\u043e\\u043f\\u0435\\u0440\\u0432\\u044b\\u0439\", \"\\u0432\\u043e\\u0440\\u043a\\u0448\\u043e\\u0440\", \"\\u0432\\u043e\\u0440\\u043e\\u043d\\u043e\\u043a\", \"\\u0432\\u0442\\u043e\\u0440\\u043e\\u0435\", \"\\u0432\\u044b\\u0434\\u0432\\u0438\\u0436\\u0435\\u043d\\u0438\\u0435\", \"\\u0432\\u0430\\u043a\\u0430\\u043d\\u0441\\u0438\\u044f\", \"\\u043a\\u0430\\u043d\\u0434\\u0438\\u0434\\u0430\\u0442\", \"\\u043a\\u043e\\u043d\\u0432\\u0435\\u0440\\u0441\\u0438\\u044f\", \"\\u0443\\u0437\\u043d\\u0430\\u0432\\u0430\\u0435\\u043c\\u043e\\u0441\\u0442\\u044c\", \"\\u043b\\u0435\\u043d\\u0434\\u0438\\u043d\\u0433\", \"\\u043e\\u0442\\u043a\\u043b\\u0438\\u043a\\u0430\\u0442\\u044c\\u0441\\u044f\", \"\\u043c\\u0430\\u0440\\u0442\", \"\\u043a\\u0430\\u0440\\u044c\\u0435\\u0440\\u0430\", \"\\u043b\\u0438\\u0434\", \"\\u0440\\u0435\\u043a\\u0440\\u0443\\u0442\\u0435\\u0440\", \"\\u043a\\u0432\\u0430\\u043b\\u0438\\u0444\\u0438\\u043a\\u0430\\u0446\\u0438\\u044f\", \"\\u0432\\u043e\\u0440\\u043e\\u043d\\u043a\\u0430\", \"\\u0441\\u043f\\u0435\\u0446\\u0438\\u0430\\u043b\\u0438\\u0437\\u0430\\u0446\\u0438\\u044f\", \"\\u0430\\u0443\\u0434\\u0438\\u0442\\u043e\\u0440\\u0438\\u044f\", \"\\u0440\\u0430\\u0431\\u043e\\u0442\\u043e\\u0434\\u0430\\u0442\\u0435\\u043b\\u044c\", \"\\u0446\\u0435\\u043b\\u0435\\u0432\\u043e\\u0439\", \"\\u043e\\u0445\\u0432\\u0430\\u0442\", \"\\u0441\\u043e\\u0442\\u0440\\u0443\\u0434\\u043d\\u0438\\u043a\", \"\\u043c\\u0435\\u0440\\u043e\\u043f\\u0440\\u0438\\u044f\\u0442\\u0438\\u0435\", \"\\u043f\\u0440\\u0435\\u0434\\u043b\\u043e\\u0436\\u0435\\u043d\\u0438\\u0435\", \"\\u0431\\u0440\\u0435\\u043d\\u0434\", \"\\u043a\\u043e\\u043c\\u043f\\u0430\\u043d\\u0438\\u044f\", \"\\u0445\\u0430\\u0431\\u0440\", \"\\u0440\\u0430\\u0437\\u043c\\u0435\\u0449\\u0430\\u0442\\u044c\", \"\\u0442\\u0440\\u0443\\u0434\", \"\\u0441\\u043f\\u0435\\u0446\\u0438\\u0430\\u043b\\u0438\\u0441\\u0442\", \"\\u043f\\u0440\\u0438\\u0447\\u0438\\u043d\\u0430\", \"\\u043a\\u0430\\u043d\\u0430\\u043b\", \"\\u043e\\u043f\\u0443\\u0431\\u043b\\u0438\\u043a\\u043e\\u0432\\u044b\\u0432\\u0430\\u0442\\u044c\", \"\\u0440\\u044b\\u043d\\u043e\\u043a\", \"\\u0430\\u043a\\u0442\\u0438\\u0432\\u043d\\u043e\\u0441\\u0442\\u044c\", \"\\u0440\\u0435\\u0448\\u0435\\u043d\\u0438\\u0435\", \"\\u0440\\u0430\\u0431\\u043e\\u0442\\u0430\", \"\\u0430\\u043d\\u043d\\u0443\\u043b\\u0438\\u0440\\u043e\\u0432\\u0430\\u043d\\u0438\\u0435\", \"\\u0431\\u043b\\u043e\\u0433\\u0433\\u0435\\u0440\", \"\\u0431\\u044b\\u0432\\u0430\\u044e\\u0442\\u0438\\u0442\\u0430\\u043a\", \"\\u0433\\u0440\\u044f\\u0437\\u043d\\u044b\\u0439\", \"\\u0434\\u0430\\u0442\\u0438\\u0440\\u043e\\u0432\\u0430\\u0442\\u044c\", \"\\u0434\\u0435\\u0430\\u043a\\u0442\\u0438\\u0432\\u0438\\u0440\\u043e\\u0432\\u0430\\u0442\\u044c\", \"\\u0434\\u0435\\u0433\\u043e\\u0442\\u044c\", \"\\u0434\\u0435\\u0439\\u0441\\u0442\\u0432\\u0438\\u0442\\u0435\\u043b\\u044c\\u043d\\u044b\\u0439\", \"\\u0437\\u0430\\u044f\\u0432\\u043b\\u0435\\u043d\\u0438\\u0435\", \"\\u0437\\u0435\\u0440\\u043a\\u0430\\u043b\\u0438\\u0440\\u043e\\u0432\\u0430\\u043d\\u0438\\u0435\", \"\\u043a\\u043e\\u043d\\u0442\\u0435\\u0439\\u043d\\u0435\\u0440\\u0438\\u0437\\u0430\\u0446\\u0438\\u044f\", \"\\u043a\\u044d\\u0448\\u0438\\u0440\\u043e\\u0432\\u0430\\u0442\\u044c\\u0441\\u044f\", \"\\u043c\\u0435\\u0434\\u0430\\u043e\\u0434\\u043d\\u0430\\u043a\\u043e\", \"\\u043d\\u0435\\u0434\\u043e\\u0441\\u0442\\u0430\\u0442\\u043a\\u0430\\u0445\\u0432\\u0430\", \"\\u043d\\u0435\\u043e\\u0434\\u043d\\u043e\\u0437\\u043d\\u0430\\u0447\\u043d\\u044b\\u0439\", \"\\u043d\\u0435\\u0443\\u0441\\u0442\\u0440\\u0430\\u043d\\u0438\\u043c\\u044b\\u0439\", \"\\u043e\\u0442\\u0441\\u0443\\u0442\\u0441\\u0442\\u0432\\u0443\\u044e\\u0449\\u0438\\u0439\", \"\\u043f\\u043e\\u0434\\u043c\\u043e\\u043d\\u0442\\u0438\\u0440\\u043e\\u0432\\u0430\\u0442\\u044c\", \"\\u0440\\u0438\\u0441\\u043a\\u043d\\u0443\\u0442\\u044c\", \"\\u0441\\u043a\\u0440\\u0438\\u0448\\u043e\\u0442\", \"\\u0444\\u0430\\u0439\\u043b\\u043e\\u0432\\u044b\\u0439\", \"\\u0447\\u0435\\u0440\\u0435\\u0434\\u043e\\u0432\\u0430\\u043d\\u0438\\u0435\", \"\\u0447\\u0435\\u0442\\u043d\\u043e\\u0441\\u0442\\u044c\", \"\\u0447\\u0442\\u043d\\u043e\\u0441\\u0442\\u044c\", \"\\u0437\\u0435\\u0440\\u043a\\u0430\\u043b\\u044c\\u043d\\u044b\\u0439\", \"\\u043a\\u044d\\u0448\\u0438\\u0440\\u043e\\u0432\\u0430\\u0442\\u044c\", \"\\u0437\\u0435\\u0440\\u043a\\u0430\\u043b\\u043e\", \"\\u0431\\u043b\\u043e\\u0447\\u043d\\u044b\\u0439\", \"\\u043e\\u0442\\u043a\\u043b\\u044e\\u0447\\u0430\\u0442\\u044c\\u0441\\u044f\", \"\\u0441\\u043e\\u0432\\u043c\\u0435\\u0449\\u0430\\u0442\\u044c\", \"\\u0434\\u0438\\u0441\\u043a\", \"\\u043a\\u0435\\u0448\", \"\\u043f\\u0440\\u043e\\u0444\\u0438\\u043b\\u044c\", \"\\u0434\\u0438\\u0441\\u043a\\u043e\\u0432\\u044b\\u0439\", \"\\u0441\\u0442\\u0440\\u043e\\u0439\", \"\\u043c\\u0430\\u0441\\u0441\\u0438\\u0432\", \"\\u0432\\u043e\\u0441\\u0441\\u0442\\u0430\\u043d\\u0430\\u0432\\u043b\\u0438\\u0432\\u0430\\u0442\\u044c\\u0441\\u044f\", \"\\u043a\\u044d\\u0448\\u0438\\u0440\\u043e\\u0432\\u0430\\u043d\\u0438\\u0435\", \"\\u0441\\u0431\\u043e\\u0439\", \"\\u0445\\u0440\\u0430\\u043d\\u0435\\u043d\\u0438\\u0435\", \"\\u043a\\u043e\\u043f\\u0438\\u044f\", \"\\u0442\\u0432\\u0435\\u0440\\u0434\\u043e\\u0442\\u0435\\u043b\\u044c\\u043d\\u044b\\u0439\", \"\\u043c\\u0435\\u0442\\u0430\\u0434\\u0430\\u043d\\u043d\\u044b\\u0435\", \"\\u0443\\u0441\\u0442\\u0440\\u043e\\u0439\\u0441\\u0442\\u0432\\u043e\", \"\\u043e\\u043f\\u0435\\u0440\\u0430\\u0446\\u0438\\u043e\\u043d\\u043d\\u044b\\u0439\", \"\\u0440\\u0430\\u0437\\u0434\\u0435\\u043b\", \"\\u0432\\u0435\\u0431\\u0438\\u043d\\u0430\\u0440\", \"\\u0437\\u0430\\u043f\\u0438\\u0441\\u044c\", \"\\u0441\\u0438\\u0441\\u0442\\u0435\\u043c\\u0430\", \"\\u0433\\u0438\\u0433\\u0430\\u0431\\u0430\\u0439\\u0442\", \"\\u0436\\u0435\\u0441\\u0442\\u043a\\u0438\\u0439\", \"\\u043a\\u043e\\u043c\\u043f\\u044c\\u044e\\u0442\\u0435\\u0440\", \"\\u043f\\u0440\\u043e\\u0441\\u0442\\u0440\\u0430\\u043d\\u0441\\u0442\\u0432\\u043e\", \"\\u0434\\u0430\\u043d\\u043d\\u044b\\u0435\", \"\\u0432\\u0438\\u0440\\u0442\\u0443\\u0430\\u043b\\u0438\\u0437\\u0430\\u0446\\u0438\\u044f\", \"\\u0434\\u0430\\u043d\\u043d\\u044b\\u0439\", \"\\u044f\\u0434\\u0440\\u043e\", \"\\u0440\\u0430\\u0431\\u043e\\u0442\\u0430\", \"\\u0438\\u0441\\u043f\\u043e\\u043b\\u044c\\u0437\\u043e\\u0432\\u0430\\u0442\\u044c\", \"\\u043a\\u043e\\u043c\\u0430\\u043d\\u0434\\u0430\", \"\\u0432\\u0432\\u0435\\u0434\\u0435\\u043d\\u0438\\u0435\\u043e\\u0434\\u0438\\u043d\", \"\\u0432\\u044b\\u0434\\u0430\\u0447\\u0430\", \"\\u0432\\u044b\\u0437\\u044b\\u0432\\u0430\\u044e\\u0449\\u0438\\u0439\", \"\\u0432\\u044b\\u043f\\u043e\\u043b\\u043d\\u044f\\u0435\\u0442\\u044f\", \"\\u0433\\u0435\\u0442\\u0442\\u0435\\u0440\", \"\\u0435\\u043a\\u0446\\u0438\\u044f\", \"\\u0437\\u0430\\u043a\\u043b\\u044e\\u0447\\u0435\\u043d\\u0438\\u0435\\u043f\\u043e\\u0434\\u0434\\u0435\\u0440\\u0436\\u043a\\u0430\", \"\\u0437\\u0430\\u043c\\u0435\\u0449\\u0430\\u0442\\u044c\", \"\\u0438\\u043c\\u043f\\u043e\\u0440\\u0442\\u0438\\u0440\\u043e\\u0432\\u0430\\u043d\\u0438\\u0435\", \"\\u0438\\u043c\\u043f\\u043e\\u0440\\u0442\\u0438\\u0440\\u043e\\u0432\\u0430\\u0442\\u044c\\u0441\\u044f\", \"\\u0438\\u043d\\u0442\\u0435\\u0440\\u043f\\u0440\\u0435\\u0442\\u0430\\u0442\\u043e\\u0440\", \"\\u043a\\u0432\\u0430\\u043b\\u0438\\u0444\\u0438\\u043a\\u0430\\u0442\\u043e\\u0440\", \"\\u043a\\u043e\\u043c\\u043f\\u043e\\u0437\\u0438\\u0442\\u043d\\u044b\\u0439\", \"\\u043b\\u0430\\u0442\\u0447\", \"\\u043b\\u0435\\u0434\\u043e\\u0432\\u0430\\u0442\\u044c\", \"\\u043c\\u043e\\u043c\\u0435\\u043d\\u0438\\u0432\\u0430\\u0442\\u044c\", \"\\u043d\\u0430\\u0433\\u043b\\u044f\\u0434\\u043d\\u043e\\u0441\\u0442\\u044c\", \"\\u043d\\u0435\\u0434\\u0435\\u043b\\u0438\\u043c\\u044b\\u0439\", \"\\u043d\\u0435\\u0434\\u0435\\u0441\\u0442\\u0440\\u0443\\u043a\\u0442\\u0438\\u0432\\u043d\\u044b\\u0439\", \"\\u043d\\u0435\\u043a\\u0432\\u0430\\u043b\\u0438\\u0444\\u0438\\u0446\\u0438\\u0440\\u043e\\u0432\\u0430\\u043d\\u043d\\u044b\\u0439\", \"\\u043d\\u0435\\u0440\\u0430\\u0431\\u043e\\u0442\\u043e\\u0441\\u043f\\u043e\\u0441\\u043e\\u0431\\u043d\\u044b\\u0439\", \"\\u043e\\u0431\\u0435\\u0441\\u043f\\u0435\\u0447\\u0438\\u0432\\u0430\\u0442\\u044c\\u0441\\u044f\", \"\\u043e\\u0431\\u044a\\u044f\\u0432\\u043b\\u044f\\u0442\\u044c\\u0441\\u044f\", \"\\u043e\\u043f\\u0435\\u0440\\u0430\\u0442\\u043e\", \"\\u043e\\u043f\\u0443\\u0441\\u043a\\u0430\\u0442\\u044c\\u0441\\u044f\", \"\\u043f\\u0435\\u0440\\u0435\\u043e\\u0442\\u043a\\u0440\\u044b\\u0442\\u0438\\u0435\", \"\\u043f\\u0435\\u0440\\u0435\\u0441\\u043e\\u0437\\u0434\\u0430\\u0432\\u0430\\u0442\\u044c\", \"\\u043f\\u0435\\u0440\\u0435\\u0447\\u0438\\u0441\\u043b\\u044f\\u0442\\u044c\\u0441\\u044f\", \"\\u043f\\u043e\\u0434\\u043a\\u043e\\u043c\\u0430\\u043d\\u0434\\u0430\", \"\\u043f\\u043e\\u0434\\u043c\\u0435\\u043d\\u0438\\u0432\\u0430\\u0442\\u044c\\u0441\\u044f\", \"\\u0441\\u0443\\u0431\\u0434\", \"\\u043f\\u0430\\u043a\\u0435\\u0442\\u043d\\u044b\\u0439\", \"\\u043f\\u0440\\u0430\\u0433\\u043c\\u0430\", \"\\u043f\\u0430\\u043a\\u0435\\u0442\", \"\\u0440\\u0438\\u0441\", \"\\u043a\\u043e\\u043d\\u0432\\u0435\\u0440\\u0442\\u0430\\u0446\\u0438\\u044f\", \"\\u0448\\u0440\\u0438\\u0444\\u0442\", \"\\u043f\\u043e\\u0434\\u043f\\u0440\\u043e\\u0433\\u0440\\u0430\\u043c\\u043c\\u0430\", \"\\u0438\\u043d\\u0438\\u0446\\u0438\\u0430\\u043b\\u0438\\u0437\\u0430\\u0446\\u0438\\u044f\", \"\\u043f\\u0430\\u043f\\u043a\\u0430\", \"\\u0432\\u043d\\u0443\\u0442\\u0440\\u0438\\u043a\\u043e\\u0440\\u043f\\u043e\\u0440\\u0430\\u0442\\u0438\\u0432\\u043d\\u044b\\u0439\", \"\\u043d\\u0435\\u0440\\u0432\", \"\\u043e\\u0446\\u0438\\u0444\\u0440\\u043e\\u0432\\u043a\\u0430\", \"\\u0440\\u0435\\u043a\\u0443\\u0440\\u0441\\u0438\\u0432\\u043d\\u043e\", \"\\u0441\\u043b\\u0435\\u0448\", \"\\u0441\\u043e\\u043b\\u044e\\u0448\\u0435\\u043d\\u044c\", \"\\u0445\\u0430\\u0440\\u0434\\u043a\\u043e\\u0434\", \"\\u043f\\u0440\\u043e\\u0446\\u0435\\u0434\\u0443\\u0440\\u0430\", \"\\u0441\\u0431\\u043e\\u0440\\u043a\\u0430\", \"\\u0441\\u0435\\u0441\\u0441\\u0438\\u044f\", \"\\u0437\\u0430\\u0432\\u0438\\u0441\\u0438\\u043c\\u044b\\u0439\", \"\\u043f\\u0435\\u0440\\u0435\\u043c\\u0435\\u043d\\u043d\\u044b\\u0439\", \"\\u0441\\u0438\\u0433\\u043d\\u0430\\u0442\\u0443\\u0440\\u0430\", \"\\u0433\\u043b\\u043e\\u0431\\u0430\\u043b\\u044c\\u043d\\u044b\\u0439\", \"\\u043c\\u043e\\u0434\\u0438\\u0444\\u0438\\u043a\\u0430\\u0442\\u043e\\u0440\", \"\\u0437\\u0432\\u043e\\u043d\\u043e\\u043a\", \"\\u043e\\u0431\\u044a\\u044f\\u0432\\u043b\\u0435\\u043d\\u0438\\u0435\", \"\\u043e\\u0431\\u0440\\u0430\\u0449\\u0435\\u043d\\u0438\\u0435\", \"\\u0448\\u0443\\u043c\\u043e\\u043f\\u043e\\u0434\\u0430\\u0432\\u043b\\u0435\\u043d\\u0438\\u0435\", \"\\u0437\\u0432\\u0443\\u043a\", \"\\u0442\\u0435\\u0433\", \"\\u0444\\u0443\\u043d\\u043a\\u0446\\u0438\\u044f\", \"\\u043f\\u0440\\u043e\\u0435\\u043a\\u0442\", \"\\u0431\\u0438\\u043b\\u0434\", \"\\u0442\\u0435\\u043b\\u043e\", \"\\u0438\\u0441\\u043a\\u0430\\u0436\\u043d\\u043d\\u044b\\u0439\", \"\\u0438\\u043c\\u044f\", \"\\u0433\\u043e\\u043b\\u043e\\u0441\", \"\\u0440\\u0435\\u0444\\u0435\\u0440\\u0435\\u043d\\u0441\\u043d\\u044b\\u0439\", \"\\u0444\\u0430\\u0439\\u043b\", \"\\u0441\\u0441\\u044b\\u043b\\u043a\\u0430\", \"\\u0444\\u0443\\u043d\\u043a\\u0446\\u0438\\u043e\\u043d\\u0430\\u043b\\u044c\\u043d\\u043e\\u0441\\u0442\\u044c\", \"\\u0441\\u0445\\u0435\\u043c\\u0430\", \"\\u043a\\u0430\\u0447\\u0435\\u0441\\u0442\\u0432\\u043e\", \"\\u0438\\u0437\\u043c\\u0435\\u0440\\u0435\\u043d\\u0438\\u0435\", \"\\u0437\\u0430\\u0432\\u0438\\u0441\\u0438\\u043c\\u043e\\u0441\\u0442\\u044c\", \"\\u043a\\u043e\\u043c\\u0430\\u043d\\u0434\\u0430\", \"\\u0441\\u0438\\u0433\\u043d\\u0430\\u043b\", \"\\u043e\\u0446\\u0435\\u043d\\u043a\\u0430\", \"\\u0434\\u043e\\u0431\\u0430\\u0432\\u043b\\u044f\\u0442\\u044c\", \"\\u0431\\u0438\\u0431\\u043b\\u0438\\u043e\\u0442\\u0435\\u043a\\u0430\", \"\\u0432\\u043b\\u0435\\u0447\\u044c\", \"\\u0432\\u043d\\u043e\\u0441\\u0438\\u0442\\u044c\\u0441\\u044f\", \"\\u0434\\u044b\\u043c\\u043e\\u0432\\u043e\\u0439\", \"\\u0437\\u0430\\u043a\\u043b\\u044e\\u0447\\u0435\\u043d\\u0438\\u0435\\u043a\\u043b\\u044e\\u0447\", \"\\u043a\\u0435\\u0439\\u0441\\u0430\\u043c\\u0438\\u043e\\u0434\\u043d\\u044b\\u0439\", \"\\u043a\\u0435\\u0439\\u0441\\u0430\\u043c\\u0438\\u0440\\u0435\\u0448\\u0435\\u043d\\u0438\\u0435\", \"\\u043a\\u043e\\u043c\\u043c\\u0435\\u043d\\u0442\\u0438\\u0440\\u043e\\u0432\\u0430\\u0442\\u044c\", \"\\u043c\\u0435\\u0442\\u0430\\u0442\\u044c\\u0441\\u044f\", \"\\u043d\\u0435\\u0432\\u0430\\u043b\\u0438\\u0434\\u043d\\u043e\\u0441\\u0442\\u044c\", \"\\u043d\\u0435\\u0434\\u0435\\u0439\\u0441\\u0442\\u0432\\u0438\\u0442\\u0435\\u043b\\u044c\\u043d\\u044b\\u0439\", \"\\u043d\\u0435\\u0434\\u043e\\u043f\\u043e\\u043d\\u0438\\u043c\\u0430\\u043d\\u0438\\u0435\", \"\\u043e\\u0431\\u0435\\u0440\\u0442\\u044b\\u0432\\u0430\\u0442\\u044c\\u0441\\u044f\", \"\\u043e\\u0442\\u0432\\u043e\\u0434\\u0438\\u0442\\u044c\", \"\\u043f\\u0435\\u0440\\u0435\\u043f\\u043e\\u043b\\u043d\\u044f\\u0442\\u044c\\u0441\\u044f\", \"\\u043f\\u0440\\u043e\\u0430\\u043a\\u0442\\u0438\\u0432\\u043d\\u043e\\u0441\\u0442\\u044c\", \"\\u043f\\u0440\\u043e\\u0430\\u043a\\u0442\\u0438\\u0432\\u043d\\u044b\\u0439\", \"\\u043f\\u0440\\u043e\\u0432\\u0430\\u043b\\u0438\\u0432\\u0430\\u0442\\u044c\", \"\\u0440\\u0435\\u0433\\u0440\\u0435\\u0441\\u0441\\u0438\\u044f\", \"\\u0441\\u0430\\u043d\\u0438\\u0442\\u0430\\u0440\\u043d\\u044b\\u0439\", \"\\u0441\\u0432\\u0430\\u043b\\u0438\\u0432\\u0430\\u0442\\u044c\", \"\\u0441\\u043f\\u0440\\u0438\\u043d\\u0442\", \"\\u0441\\u044c\\u044e\\u0442\", \"\\u0443\\u043f\\u043e\\u0440\\u044f\\u0434\\u043e\\u0447\\u0438\\u0432\\u0430\\u0442\\u044c\", \"\\u0442\\u0435\\u0441\\u0442\", \"\\u0430\\u0441\\u0435\\u0440\\u0442\", \"\\u0431\\u0438\\u043b\\u0434\\u0435\\u0440\", \"\\u043a\\u043e\\u0434\\u0438\\u0442\\u044c\", \"\\u043a\\u0440\\u0430\\u0441\\u0438\\u0432\\u043e\\u043f\\u0440\\u0438\\u0432\\u0435\\u0442\", \"\\u043d\\u043e\\u0441\\u043e\\u043a\", \"\\u043d\\u044b\\u043d\\u0447\\u0435\", \"\\u0442\\u0435\\u0441\\u0442\\u0438\\u0440\\u043e\\u0432\\u0449\\u0438\\u043a\", \"\\u043e\\u0437\\u0434\", \"\\u043a\\u0435\\u0439\\u0441\", \"\\u0440\\u0435\\u0433\\u0440\\u0435\\u0441\\u0441\\u0438\\u043e\\u043d\\u043d\\u044b\\u0439\", \"\\u043e\\u0431\\u0432\\u044f\\u0437\\u044b\\u0432\\u0430\\u0442\\u044c\", \"\\u043e\\u0431\\u0440\\u0430\\u0431\\u043e\\u0442\\u0447\\u0438\\u043a\", \"\\u043f\\u0430\\u0440\\u0430\\u043c\\u0435\\u0442\\u0440\\u0438\\u0437\\u0430\\u0446\\u0438\\u044f\", \"\\u043f\\u0435\\u043d\\u0441\\u0438\\u044f\", \"\\u043f\\u043e\\u0447\\u0438\\u043d\\u044f\\u0442\\u044c\", \"\\u0440\\u0430\\u0441\\u0441\\u043a\\u0430\\u0437\\u044b\\u0432\\u0430\\u0442\\u044c\\u0441\\u044f\", \"\\u0441\\u0430\\u0448\\u0430\", \"\\u0441\\u043e\\u043a\\u0440\\u0430\\u0449\\u043d\\u043d\\u044b\\u0435\", \"\\u0441\\u0442\\u0430\\u043d\\u043e\\u0432\\u043b\\u0435\\u043d\\u0438\\u0435\", \"\\u0442\\u0430\\u0431\\u043b\\u0438\\u0447\\u043d\\u044b\\u0439\", \"\\u0442\\u0435\\u0441\\u0442\\u0438\\u0440\", \"\\u0442\\u0435\\u0441\\u0442\\u043e\", \"\\u043f\\u043e\\u0434\\u0433\\u043e\\u0442\\u0430\\u0432\\u043b\\u0438\\u0432\\u0430\\u0442\\u044c\", \"\\u043d\\u0435\\u0432\\u0430\\u043b\\u0438\\u0434\\u043d\\u044b\\u0439\", \"\\u043f\\u0430\\u0440\\u0435\\u043d\\u044c\", \"\\u0432\\u0430\\u043b\\u0438\\u0434\\u043d\\u044b\\u0439\", \"\\u043e\\u0442\\u0447\\u0442\", \"\\u0432\\u0430\\u043b\\u0438\\u0434\\u0430\\u0446\\u0438\\u044f\", \"\\u0442\\u0435\\u0441\\u0442\\u0438\\u0440\\u043e\\u0432\\u0430\\u043d\\u0438\\u0435\", \"\\u043b\\u0435\\u0439\\u0431\\u043b\", \"\\u0437\\u0430\\u043f\\u0440\\u043e\\u0441\", \"\\u0443\\u0434\\u0430\\u043b\\u0435\\u043d\\u0438\\u0435\", \"\\u0442\\u0435\\u043b\\u043e\", \"\\u0442\\u0435\\u0433\", \"\\u0437\\u0432\\u0430\\u0442\\u044c\", \"\\u0438\\u0441\\u0442\\u043e\\u0440\\u0438\\u044f\", \"\\u043f\\u043e\\u043b\\u044c\\u0437\\u043e\\u0432\\u0430\\u0442\\u0435\\u043b\\u044c\\u0441\\u043a\\u0438\\u0439\", \"\\u043f\\u0440\\u043e\\u0432\\u0435\\u0440\\u043a\\u0430\", \"\\u043e\\u0442\\u0432\\u0435\\u0442\", \"\\u0440\\u0435\\u043f\\u043e\\u0437\\u0438\\u0442\\u043e\\u0440\\u0438\\u0439\", \"\\u043a\\u043e\\u043d\\u0441\\u0442\\u0440\\u0443\\u043a\\u0442\\u043e\\u0440\", \"\\u0441\\u043e\\u0437\\u0434\\u0430\\u0432\\u0430\\u0442\\u044c\", \"\\u0441\\u0435\\u0440\\u0432\\u0435\\u0440\", \"\\u0443\\u0441\\u0442\\u0430\\u0440\\u0435\\u0432\\u0430\\u0442\\u044c\", \"\\u0434\\u0430\\u0432\\u0430\\u0442\\u044c\", \"\\u0441\\u043b\\u0435\\u0434\\u0443\\u044e\\u0449\\u0438\\u0439\", \"\\u0434\\u043e\\u0431\\u0430\\u0432\\u043b\\u044f\\u0442\\u044c\", \"\\u043d\\u043e\\u0432\\u044b\\u0439\", \"\\u043e\\u0431\\u043b\\u0430\\u043a\\u043e\"], \"Freq\": [2.0, 3.0, 2.0, 2.0, 1.0, 3.0, 1.0, 1.0, 1.0, 3.0, 1.0, 1.0, 2.0, 1.0, 1.0, 2.0, 1.0, 2.0, 0.0, 1.0, 1.0, 2.0, 0.0, 1.0, 2.0, 1.0, 0.0, 2.0, 1.0, 0.0, 0.010217721434856426, 0.02063781695957272, 0.02063781695957272, 0.010217721434856426, 0.030653164304569276, 0.010217721434856426, 0.02063781695957272, 0.07152405004399497, 0.010217721434856426, 0.02063781695957272, 0.010217721434856426, 0.010217721434856426, 0.010217721434856426, 0.02063781695957272, 0.041111950279900875, 0.010217721434856426, 0.02063781695957272, 0.04127563391914544, 0.02063781695957272, 0.02063781695957272, 0.02063781695957272, 0.041111950279900875, 0.02826457269962119, 0.010217721434856426, 0.048485592886759535, 0.08255126783829088, 0.02063781695957272, 0.02063781695957272, 0.06191345087871816, 0.08255126783829088, 0.5006683503079647, 0.4189265788291134, 0.22701598655529992, 0.2210073732701739, 0.21052947402139016, 0.1454567786602786, 0.1454567786602786, 0.1454567786602786, 0.13416149010634446, 0.13140699108859033, 0.12382690175743633, 0.12382690175743633, 0.12382690175743633, 0.10318908479786361, 0.09697118577351907, 0.08255126783829088, 0.08255126783829088, 0.08255126783829088, 0.08255126783829088, 0.08255126783829088, 0.0727283893301393, 0.0727283893301393, 0.0727283893301393, 0.0727283893301393, 0.0727283893301393, 0.0727283893301393, 0.0727283893301393, 0.0727283893301393, 0.11249250467424775, 0.9760701981421029, 0.22847693830755397, 0.40944408759601264, 0.21810604160260166, 0.3449987500349604, 0.20330892947655443, 0.22046989332092987, 0.2746807113723069, 0.24547395188220777, 0.1828639929981771, 0.15377024618485174, 0.20963871895833222, 0.1574784952292356, 0.12814677391532348, 0.4124518202932927, 0.3457142795157984, 0.16869863304924637, 0.2759301381628934, 0.8476745729013384, 1.1148159183703108, 0.35126016983962266, 0.4670516020375053, 0.27667627568952835, 0.21965919331370587, 0.4545964421192142, 0.2694659061489674, 0.2432998302897806, 0.24455780140999042, 0.3118207236054448, 0.3109707115599839, 0.44202769243112766, 0.40415977557605715, 0.33600971279463854, 0.3699385325510462, 0.40391949874607125, 0.48848319266880896, 0.4369114369527661, 0.285975830714758, 0.31549527407009376, 0.2916333653431792, 0.35615295375969225, 0.37909192704417816, 0.35019956365840355, 0.4129835741213395, 0.3442500429529529, 0.326302386279976, 0.30743602329042163, 0.33250354851464314, 0.08088475038074132, 0.04044237519037066, 0.16176950076148264, 0.08088475038074132, 0.08088475038074132, 0.04044237519037066, 0.04044237519037066, 0.04044237519037066, 0.04044237519037066, 0.08088475038074132, 0.04044237519037066, 0.08088475038074132, 0.04044237519037066, 0.04044237519037066, 0.04044237519037066, 0.04044237519037066, 0.04044237519037066, 0.04044237519037066, 0.08088475038074132, 0.04044237519037066, 0.04044237519037066, 0.04044237519037066, 0.04044237519037066, 0.04044237519037066, 0.04044237519037066, 0.04044237519037066, 0.04044237519037066, 0.16176950076148264, 0.04044237519037066, 0.04044237519037066, 0.7684051286170424, 0.49087663071025345, 0.3445713238973837, 0.3113012106263961, 0.24265425114222397, 0.17493265118485216, 0.15103896329546257, 0.12132712557111199, 0.11327922247159693, 0.1033060864081085, 0.08088475038074132, 0.08088475038074132, 0.08088475038074132, 0.08088475038074132, 0.07585168856889467, 0.07551948164773128, 0.07551948164773128, 0.07551948164773128, 0.11721834652126147, 0.5426798297840897, 0.12620978220769002, 0.05062863348529683, 0.2814091948920897, 0.1777321230897409, 0.2043814803410124, 0.24038735939126113, 0.5484703062915771, 0.8131637430710051, 0.10367707180234885, 0.3186827090906919, 0.4344333011409498, 0.1950494877130415, 1.2105008361888574, 0.54087727321743, 0.2643302279840923, 0.8191411398415755, 0.38209040952105333, 0.4514202368470154, 0.26238891211614823, 0.24207736623603437, 0.18515040303501168, 0.4190839074387469, 0.38510812544522793, 0.5167576315397107, 0.4968770782698751, 0.322753475332759, 0.28658525336005086, 0.3878896253335626, 0.4004287844647717, 0.26780024095487576, 0.4313011377472509, 0.3987892190913124, 0.49322244689714934, 0.5172826916987913, 0.3100968234164784, 0.3660074217548733, 0.41711196009170665, 0.3018668753996818, 0.30942276982952704, 0.33070681014635744, 0.024001887593206993, 0.04800377518641399, 0.024001887593206993, 0.04800377518641399, 0.3360264263048978, 0.024001887593206993, 0.024001887593206993, 0.024001887593206993, 0.024001887593206993, 0.024001887593206993, 0.024001887593206993, 0.07200566277962098, 0.024001887593206993, 0.07200566277962098, 0.04800377518641399, 0.024001887593206993, 0.024001887593206993, 0.024001887593206993, 0.024001887593206993, 0.024001887593206993, 0.024001887593206993, 0.024001887593206993, 0.04800377518641399, 0.024001887593206993, 0.024001887593206993, 0.2160169883388629, 0.1680132131524489, 0.19201510074565595, 0.024001887593206993, 0.024001887593206993, 0.4912139215385383, 0.40371584264229443, 0.2957784705978906, 0.28126351569235775, 0.26402076352527687, 0.19201510074565595, 0.1680132131524489, 0.14401132555924195, 0.12000943796603496, 0.12000943796603496, 0.12000943796603496, 0.11037515670805355, 0.10511423215452965, 0.09600755037282797, 0.09600755037282797, 0.09600755037282797, 0.09600755037282797, 0.09600755037282797, 0.09600755037282797, 0.07200566277962098, 0.07200566277962098, 0.07200566277962098, 0.19508547243419302, 0.346523613014592, 0.3790853235109143, 0.3181290737619467, 0.42903778510634205, 0.15170689614836702, 0.2561208019844147, 0.3978059120678853, 0.4446236285318594, 0.2860554261476662, 0.2709998774030522, 0.342692552847213, 0.5650246793118853, 0.8237726612892652, 0.19209060148831103, 0.25852146271056436, 0.38858607030672176, 0.17641951676692225, 0.6938495104669294, 0.9067201694514119, 0.3095999262499633, 0.2801937419694813, 0.33392623056465753, 0.8048170721563761, 0.3299579983127338, 0.24947376159414736, 0.2828953421891706, 0.3227272673540155, 0.2831765181581729, 0.2614195585051124, 0.034725631062376555, 0.1041768931871297, 0.034725631062376555, 0.034725631062376555, 0.034725631062376555, 0.034725631062376555, 0.034725631062376555, 0.034725631062376555, 0.06945126212475311, 0.034725631062376555, 0.9556227565949624, 0.034725631062376555, 0.034725631062376555, 0.06945126212475311, 0.034725631062376555, 0.034725631062376555, 0.034725631062376555, 0.1041768931871297, 0.06945126212475311, 0.034725631062376555, 0.034725631062376555, 0.034725631062376555, 0.1041768931871297, 0.034725631062376555, 0.06945126212475311, 0.034725631062376555, 0.034725631062376555, 0.034725631062376555, 0.034725631062376555, 0.034725631062376555, 0.20729898337400549, 0.06945126212475311, 0.643682561944534, 0.35201390080286815, 0.08135513552634413, 0.08135513552634413, 0.25297384508930043, 1.6435249507108955, 0.10810753830336689, 0.10810753830336689, 0.10810753830336689, 0.10810753830336689, 0.36912136345752566, 0.1588577309464143, 0.5881146336013898, 0.09925962188457542, 0.10382645045230779, 0.06350596327060157, 0.09365405670573478, 0.054053769151683445, 0.054053769151683445, 0.054053769151683445, 1.595306839379756, 0.1475684054868178, 0.45447302484120916, 0.32800649353214856, 0.652672071569486, 0.2675554986152117, 0.7932319114961359, 0.13798575226559637, 0.228765506950518, 0.17837033241014105, 0.7657637030549795, 0.3954327549079011, 0.49054049950720774, 1.1524795581169154, 0.7056575414634346, 0.9509931718005279, 0.452245847658644, 0.5825225267476882, 0.17511692603354934, 0.1755046625637944, 0.1818140853723825, 0.35336897188250765, 0.42550457729715485, 0.5217385851258234, 0.2537755108097987, 0.3199068879883179, 0.2804029304674334, 0.5613956006135333, 0.43499701595915846, 0.3560116259208682, 0.4581417173120085, 0.33628994714418, 0.2925507258840738, 0.11075859777587808, 0.11075859777587808, 0.4476922673465066, 0.14612550495350607, 0.06411796329199332, 0.08230271968365567, 0.08230271968365567, 0.16460543936731134, 0.16460543936731134, 0.08230271968365567, 0.08230271968365567, 0.08230271968365567, 0.08230271968365567, 0.16460543936731134, 0.3369336695706284, 0.08230271968365567, 0.08230271968365567, 0.09415308945260925, 0.031384363150869746, 0.031384363150869746, 0.031384363150869746, 0.031384363150869746, 0.031384363150869746, 0.031384363150869746, 0.031384363150869746, 0.031384363150869746, 0.031384363150869746, 0.031384363150869746, 0.031384363150869746, 0.0756427206131362, 0.1157446428876045, 0.1157446428876045, 0.07716309525840298, 0.07716309525840298, 0.07716309525840298, 0.07716309525840298, 0.4282811269297762, 0.9035959235367865, 0.10340128076087612, 0.2735325042419595, 0.15006882738475974, 1.0256497071262438, 1.2038788287753786, 0.7189744475741834, 2.4906261327348522, 0.921917233767764, 0.2570940507685655, 0.4023997247330346, 0.8756528383440741, 0.5374756378576603, 0.2074764244708551, 0.1739038081780315, 0.34963248814094056, 0.8275387648848462, 0.379001048560323, 0.26074402685723014, 0.5831019579518795, 0.45031341560804794, 0.8362960296052827, 0.4092359186837094, 0.44057650647299174, 0.37712128658899063, 0.3827259042929454, 0.7899755464673981, 0.3999940273770293, 0.6803012208109886, 0.2888246336778842, 0.44939622944153373, 0.3353949428192148, 0.4186993427437582, 0.4364996771313448, 0.40067534286102596, 0.4727006251962417, 0.4028064782982218, 0.3745431501216915, 0.08360945818546767, 0.06380579005713671, 0.13779515651588675, 0.130452140038352, 0.2613800023525734, 0.08360945818546767, 0.2589599206113453, 0.2657101476927451, 0.22644988042235176, 0.130452140038352, 0.06380579005713671, 0.10447655729499751, 0.08360945818546767, 0.1509153357153227, 0.2397496745481337, 0.14514732453285836, 0.06380579005713671, 0.06380579005713671, 0.22450552095699303, 0.044398799214314714, 0.044398799214314714, 0.044398799214314714, 0.044398799214314714, 0.044398799214314714, 0.08879759842862943, 0.044398799214314714, 0.044398799214314714, 0.044398799214314714, 0.044398799214314714, 0.044398799214314714, 2.9940026612601884, 0.2788846091955386, 0.13319639764294414, 0.13547406179777977, 0.1448696208792403, 0.1448696208792403, 0.15194101882185596, 0.08879759842862943, 0.08879759842862943, 0.08879759842862943, 0.08879759842862943, 0.08879759842862943, 0.08879759842862943, 0.08879759842862943, 0.08879759842862943, 0.08879759842862943, 0.1406112727046254, 0.5743145781825926, 0.12476713568064805, 0.1767438628318897, 0.1029091566436616, 0.34921615698900177, 0.1242609680797139, 0.5387889310099633, 0.16930459853503427, 0.10786934766892081, 0.652640746063486, 0.16110437994585652, 0.5222109059119098, 0.34484659376844456, 0.41590881658480533, 0.2381707943880862, 0.22415028594948888, 0.17361453421402245, 0.37725135403275395, 0.38825524937580747, 0.25269184680957846, 0.33953830195930645, 0.20710333276338355, 0.18700374011398932, 0.26434549478157743, 0.32529322240261016, 0.24575423683851041, 0.22700402959094207, 0.23292932642544537, 0.19225066295710735, 0.20657333276386425, 0.20391770843691365, 0.20866630639505254, 0.20489106256323975, 0.03372775129099012, 0.03372775129099012, 0.03372775129099012, 0.03372775129099012, 0.03372775129099012, 0.03372775129099012, 0.03372775129099012, 0.06745550258198024, 0.03372775129099012, 0.03372775129099012, 0.03372775129099012, 0.03372775129099012, 0.03372775129099012, 0.03372775129099012, 0.03372775129099012, 0.4047330154918815, 0.03372775129099012, 0.03372775129099012, 0.03372775129099012, 0.03372775129099012, 0.03372775129099012, 0.03372775129099012, 0.03372775129099012, 0.03372775129099012, 0.03372775129099012, 0.03372775129099012, 0.03372775129099012, 0.03372775129099012, 0.03372775129099012, 0.03372775129099012, 0.8806036613461828, 0.2181217020149903, 0.13491100516396048, 0.10118325387297038, 0.09531642211583312, 0.06745550258198024, 0.04765821105791656, 0.04765821105791656, 0.04765821105791656, 0.04765821105791656, 0.04765821105791656, 0.04765821105791656, 0.04765821105791656, 0.04765821105791656, 0.04765821105791656, 0.04765821105791656, 0.04765821105791656, 0.04765821105791656, 0.2726256359451601, 0.2674352508178728, 2.3865531202516226, 1.7254257519575664, 0.30520757974535867, 0.1723375728047262, 0.1220661701554066, 0.07323970209324399, 0.20999989933618055, 0.048345077243637034, 0.43390581868199735, 0.2082946268061056, 0.21535135418892898, 0.13041539737270927, 0.1960939616530181, 0.4890362960299358, 0.3748154273918393, 0.062096654121373177, 0.07574350065676567, 0.07574350065676567, 0.07574350065676567, 0.25508732070527657, 0.8465940013095563, 0.7176117202103011, 0.33114204982950635, 0.9552100001086441, 0.3005963067052466, 0.696328380835124, 0.11319383719687891, 0.2541514163199725, 0.19371508244668847, 0.3859170898051833, 0.2950770569384793, 0.28494923347370127, 0.2963742000497705, 0.2789149742986374, 0.26443896511039783, 0.27235305711369007, 0.24797070779995647, 0.29383616440335286, 0.22998952552515212, 0.23192067881463688, 0.04644072403530676, 0.04644072403530676, 0.3250850682471473, 0.04644072403530676, 0.04644072403530676, 0.04560874339688743, 0.04644072403530676, 0.04644072403530676, 0.04560874339688743, 0.04644072403530676, 0.04644072403530676, 0.04644072403530676, 0.04644072403530676, 0.04644072403530676, 0.04644072403530676, 0.13932217210592027, 0.18576289614122704, 0.13932217210592027, 0.04644072403530676, 0.04644072403530676, 0.04644072403530676, 0.04644072403530676, 0.04644072403530676, 0.04644072403530676, 0.04644072403530676, 0.04644072403530676, 0.13932217210592027, 0.04644072403530676, 0.04644072403530676, 0.04644072403530676, 0.09288144807061352, 0.09288144807061352, 1.6256518100268598, 0.6181290336193332, 0.3938508506716491, 0.2803196776714332, 0.19668686905272528, 0.11882969433110285, 0.14010924762038218, 0.7945878436888469, 0.29769859786520964, 0.21139257069393827, 0.05838423680388962, 0.12717387580170017, 0.1672382332070105, 0.2121884845832067, 0.8251218903741547, 0.17005471622184293, 0.06593376358606222, 0.6955442627017223, 0.139570560172604, 0.36307015620952443, 0.2077531535179426, 0.1827671181627669, 0.12604122177727076, 0.2537344846055018, 0.1499348445122835, 0.3296139001397609, 0.33766342293326634, 0.24564590284421836, 0.364855083109927, 0.41052241531661704, 0.34587770626322806, 0.1976203209461621, 0.2867757291275504, 0.3097800582207933, 0.21941728876645758, 0.18552330009162474, 0.19440164162423484, 0.22562509459973118, 0.2087121520847657, 0.23195751860752892, 0.21442137630754146, 0.20816532933288448, 0.20244237372436005, 0.20117694379172515, 0.20126278633667632, 0.07091081645796474, 0.07091081645796474, 0.07091081645796474, 0.07091081645796474, 0.07091081645796474, 0.07091081645796474, 0.07091081645796474, 0.07091081645796474, 0.28364326583185895, 0.07091081645796474, 0.14182163291592947, 0.14182163291592947, 0.14182163291592947, 0.14182163291592947, 1.4174399185405115, 0.1383309728876638, 0.7895579286574436, 0.07374544763631415, 0.07374544763631415, 0.07374544763631415, 0.07374544763631415, 0.07374544763631415, 0.07374544763631415, 0.07374544763631415, 0.07374544763631415, 0.07374544763631415, 0.1474908952726283, 0.07374544763631415, 0.07374544763631415, 0.1474908952726283, 0.44751996199203403, 0.5666767284283709, 0.15439021018226565, 0.15439021018226565, 1.419129247824857, 0.4938500341000255, 0.339922022188087, 0.4008385021930949, 0.5229463144814525, 0.9447442176053794, 0.4412603893790516, 0.12725117994248814, 0.29518970147171664, 0.13726152117897944, 0.3630692353965714, 0.12186069170174299, 0.19627470569087066, 0.3925456800830359, 0.6152188700266378, 1.0266168793667705, 1.0674669089494129, 0.4711712727133821, 0.571891255343968, 0.9373790069975225, 0.2673132760026519, 0.3041311866336136, 0.19146204629252947, 0.39231301209879615, 0.31284790149789693, 0.19183452725770403, 0.299196991822045, 0.3555559187715017, 0.29940861005461145, 0.27897344554144815, 0.2242036617659928, 0.2621585577613689, 0.40341605170559847, 0.22915445335112955, 0.11457722667556478, 0.11457722667556478, 0.07638481778370985, 0.07638481778370985, 0.03819240889185493, 0.03819240889185493, 0.03819240889185493, 0.03819240889185493, 0.03819240889185493, 0.03819240889185493, 0.07638481778370985, 0.03819240889185493, 0.03819240889185493, 0.1527696355674197, 0.1540244269312145, 0.06600149005067267, 0.05806065212164875, 0.05806065212164875, 0.05806065212164875, 0.05806065212164875, 0.05806065212164875, 0.05806065212164875, 0.05806065212164875, 0.05806065212164875, 0.05806065212164875, 0.05806065212164875, 0.05806065212164875, 0.05806065212164875, 0.14637730425944834, 0.22869986013415464, 0.1592697219770826, 0.21668757969963648, 1.0314162185212599, 0.23125505621187867, 0.4047627870180287, 0.5333444522236312, 0.06996213990484584, 0.26490881317619686, 0.10532797446470414, 0.10051331208584631, 0.48893378883774846, 0.13562519159807795, 0.16141567870747237, 0.09318663050874773, 0.17982865831867456, 0.6069156414656559, 0.24105586234987766, 0.1654976521105711, 0.18018337747229618, 0.252534369851291, 0.339804403418947, 0.54160123619133, 0.5105163021128918, 0.20699742598702364, 0.22765822912896186, 0.324240863793902, 0.2953484584349047, 0.4588098615714345, 0.3753150553619988, 0.37121515888672185, 0.27629234660102364, 0.20017910600350053, 0.21296286242562518, 0.22745274843347735, 0.18774097941096546, 0.21064773659066174, 0.18243817181626232, 0.09880875494300485, 0.5462263449548723, 0.0312851961164527, 0.03829059534700225, 0.019145297673501125, 0.019145297673501125, 0.0765811906940045, 0.0312851961164527, 0.0312851961164527, 0.0312851961164527, 0.019145297673501125, 0.019145297673501125, 0.45948714416402686, 0.019145297673501125, 0.019145297673501125, 0.019145297673501125, 0.0765811906940045, 0.019145297673501125, 0.0312851961164527, 0.019145297673501125, 0.0312851961164527, 0.0312851961164527, 0.0312851961164527, 0.019145297673501125, 0.05743589302050336, 0.0312851961164527, 0.0312851961164527, 0.019145297673501125, 0.019145297673501125, 0.019145297673501125, 0.2871794651025168, 0.2680341674290157, 0.21059827440851236, 0.1251407844658108, 0.09572648836750561, 0.09940946569812659, 0.14031806823089632, 0.0625703922329054, 0.05743589302050336, 0.05743589302050336, 0.05743589302050336, 0.03829059534700225, 0.12294569098628434, 1.5644970372740075, 0.18119482842938534, 0.16852445870644597, 0.04465862511090552, 0.04465862511090552, 0.04465862511090552, 0.04465862511090552, 0.04465862511090552, 0.3612308947831234, 0.08797012776336179, 0.5569682445730839, 0.47600664798435427, 0.3706911352702479, 0.08192486813852078, 0.19151309913723652, 0.2602125227345049, 0.23605860939587145, 0.7000328891685469, 0.29757304515846844, 0.2560816301029234, 0.18078780664492874, 0.16512067276244802, 0.13472740759123958, 0.2516993725665221, 0.2767347392432359, 0.24981738990977695, 0.3210667616616822, 0.18950100380150892, 0.2968785868806438, 0.5388549319253002, 0.2833659811083189, 0.2759383954364727, 0.24253693928448466, 0.2995658331843952, 0.2877441780088297, 0.28860302342541444, 0.2258674523857943, 0.22690878180158025, 0.22226462236140657, 0.2224721653876271, 0.057381673133153385, 0.057381673133153385, 0.057381673133153385, 0.057381673133153385, 0.057381673133153385, 0.25325459648546733, 0.057381673133153385, 0.11476334626630677, 0.057381673133153385, 0.16053358038178625, 0.057381673133153385, 0.057381673133153385, 0.057381673133153385, 0.057381673133153385, 0.057381673133153385, 0.17214501939946017, 0.057381673133153385, 0.14082175025196456, 0.14082175025196456, 0.14082175025196456, 0.14082175025196456, 0.04694058341732151, 0.04694058341732151, 0.09388116683464302, 0.04694058341732151, 0.04694058341732151, 0.04694058341732151, 0.04694058341732151, 0.04694058341732151, 0.09388116683464302, 1.8346322341057226, 0.8183619535153441, 0.09388116683464302, 0.09388116683464302, 0.13183386198199207, 0.15239328908298835, 0.6550528578243162, 0.3415874058270231, 0.1391044719782562, 0.42066687790980617, 0.24977801333223104, 0.21536329134238796, 0.24722854520504678, 0.19476700107083675, 0.24754387000228772, 0.2122217397356864, 0.1592436081748538, 0.46463395821362663, 0.16118362238129735, 0.21313186770013112, 0.5138619048582986, 0.6553620679110657, 0.2526163669362305, 0.22087168145403077, 0.20932943474213322, 0.24699453642810984, 0.22100297883968834, 0.2462933083909906, 0.1583659585116231, 0.19647908830114874, 0.16856881888400102, 0.181055318904845, 0.1865362067054406, 0.07045064037312915, 0.040010776574655835, 0.040010776574655835, 0.2581393617063821, 0.07045064037312915, 0.07045064037312915, 0.040010776574655835, 0.040010776574655835, 0.07045064037312915, 0.040010776574655835, 0.2023717564032218, 0.07045064037312915, 0.040010776574655835, 0.07045064037312915, 0.07045064037312915, 0.07045064037312915, 0.1011858782016109, 0.1011858782016109, 0.1011858782016109, 0.07045064037312915, 0.8844986306773566, 0.08002155314931167, 0.08002155314931167, 0.040010776574655835, 0.11008966989751161, 0.3225567324911176, 0.03675830545692313, 0.12256039019194069, 0.12835031337571803, 0.06440297403774485, 1.4422503140075482, 0.7312957621316777, 0.5148594628607583, 0.49097751287080615, 0.20969355618707503, 0.423196832959937, 0.12781145416239442, 0.4906316743786083, 0.2646049420610941, 0.4970740026817976, 0.2627812737247205, 0.1840068095292656, 0.21598718042311982, 0.8780843706011356, 0.3821016709628387, 0.33219350251694546, 0.21638262113176115, 0.2716169726111045, 0.6954995187342364, 0.1258242755419726, 0.15940118516742333, 0.2936627424047034, 0.27664207911931143, 0.453424194980381, 0.17345772310377244, 0.29431603856442246, 0.23340942533314077, 0.23630369674127297, 0.2398147795163893, 0.1831574959862209, 0.01600958431391987, 0.01600958431391987, 0.01600958431391987, 0.01600958431391987, 0.01600958431391987, 0.01600958431391987, 0.01600958431391987, 0.04802875294175961, 0.03201916862783974, 0.01600958431391987, 0.03201916862783974, 0.01600958431391987, 0.01600958431391987, 0.01600958431391987, 0.01600958431391987, 0.01600958431391987, 0.01600958431391987, 0.01600958431391987, 0.01600958431391987, 0.03201916862783974, 0.01600958431391987, 0.01600958431391987, 0.01600958431391987, 0.01600958431391987, 0.01600958431391987, 0.01600958431391987, 0.01600958431391987, 0.03201916862783974, 0.03201916862783974, 0.01600958431391987, 0.6083642039289551, 0.1600958431391987, 0.08004792156959935, 2.530570952265115, 0.04802875294175961, 0.07816777826564511, 0.9007495199404281, 0.0731331878692079, 0.3166232107117558, 0.4627547487659224, 0.05298526587884872, 0.05298526587884872, 0.05298526587884872, 0.05298526587884872, 0.05298526587884872, 0.05298526587884872, 0.05298526587884872, 0.2160982977904602, 0.39781516750273765, 0.24071760596200847, 0.09561297185986181, 0.49552989740794495, 0.055809296658104024, 0.20421232406444678, 0.14284129033768855, 0.2875929372520334, 0.1030235798084341, 0.11405979436513114, 0.11114773501684068, 0.28519013489375783, 0.1989364075065757, 0.4574256893301079, 0.4394975279126263, 0.13584878263851444, 0.1992812049915233, 0.09262311251403389, 0.23915893415252587, 0.10188757817473634, 0.10414400002408959, 0.45447493486486473, 0.17564030797811644, 0.13408481417347543, 0.2514003175659359, 0.19943000122996682, 0.1431559984032927, 0.14449567711493624, 0.19731027688964056, 0.1730482102440468, 0.14138388134909816, 0.1501444852655268, 0.1400025403972805, 0.030497396864046074, 0.030497396864046074, 0.09149219059213824, 0.030497396864046074, 0.030497396864046074, 0.030497396864046074, 0.030497396864046074, 0.030497396864046074, 0.030497396864046074, 0.030497396864046074, 0.030497396864046074, 0.030497396864046074, 0.030497396864046074, 0.030497396864046074, 0.06099479372809215, 0.030497396864046074, 0.030497396864046074, 0.09149219059213824, 0.09149219059213824, 0.030497396864046074, 0.3631745600197524, 0.09149219059213824, 0.030497396864046074, 2.1094734345853072, 0.061154455347022525, 0.061154455347022525, 0.061154455347022525, 0.061154455347022525, 0.18346336604106758, 0.061154455347022525, 0.28808531004801097, 0.12230891069404505, 0.6967077802212697, 0.41945223724389824, 0.061154455347022525, 0.061154455347022525, 0.061154455347022525, 0.061154455347022525, 0.061154455347022525, 0.061154455347022525, 0.061154455347022525, 0.061154455347022525, 0.061154455347022525, 0.061154455347022525, 0.061154455347022525, 0.4304751249209952, 0.16745236762625382, 0.11152939597446439, 0.1881495019136948, 0.08357958756189847, 0.1553161852508429, 0.10414063942434412, 0.36663354698335965, 0.20844639350546396, 0.6161733722720795, 0.16671399448075613, 0.22001840710776857, 0.18819622301291847, 0.13310913903175356, 0.19345199145231493, 0.18148470452514073, 0.16160961297880658, 0.18077750906185655, 0.14070503948288604, 0.13475588458779147, 0.20642465918700634, 0.21113093563489696, 0.12641260942580873, 0.14772886443745434, 0.13721466532479135, 0.1363306440410364, 0.13844387634382674, 0.13107075683814104], \"Total\": [2.0, 3.0, 2.0, 2.0, 1.0, 3.0, 1.0, 1.0, 1.0, 3.0, 1.0, 1.0, 2.0, 1.0, 1.0, 2.0, 1.0, 2.0, 0.0, 1.0, 1.0, 2.0, 0.0, 1.0, 2.0, 1.0, 0.0, 2.0, 1.0, 0.0, 0.010217721434856426, 0.02063781695957272, 0.02063781695957272, 0.010217721434856426, 0.030653164304569276, 0.010217721434856426, 0.02063781695957272, 0.07152405004399497, 0.010217721434856426, 0.02063781695957272, 0.010217721434856426, 0.010217721434856426, 0.010217721434856426, 0.02063781695957272, 0.041111950279900875, 0.010217721434856426, 0.02063781695957272, 0.04127563391914544, 0.02063781695957272, 0.02063781695957272, 0.02063781695957272, 0.041111950279900875, 0.02826457269962119, 0.010217721434856426, 0.048485592886759535, 0.08255126783829088, 0.02063781695957272, 0.02063781695957272, 0.06191345087871816, 0.08255126783829088, 0.5006683503079647, 0.4189265788291134, 0.22701598655529992, 0.2210073732701739, 0.21052947402139016, 0.1454567786602786, 0.1454567786602786, 0.1454567786602786, 0.13416149010634446, 0.13140699108859033, 0.12382690175743633, 0.12382690175743633, 0.12382690175743633, 0.10318908479786361, 0.09697118577351907, 0.08255126783829088, 0.08255126783829088, 0.08255126783829088, 0.08255126783829088, 0.08255126783829088, 0.0727283893301393, 0.0727283893301393, 0.0727283893301393, 0.0727283893301393, 0.0727283893301393, 0.0727283893301393, 0.0727283893301393, 0.0727283893301393, 0.11338664330222932, 1.067396584621331, 0.23826531174569446, 0.4425801703790184, 0.22844245181240802, 0.3752937159623636, 0.21619706777347444, 0.23831239943485605, 0.3030941948546044, 0.273880689691168, 0.1984888052838342, 0.16536367083320086, 0.23441360037476397, 0.1702231424534686, 0.13587008815582485, 0.5215813020105545, 0.4319718791248294, 0.18636868746341897, 0.34226283089391846, 1.4532550165267617, 2.0746999798316463, 0.5363036533746042, 0.8864601405325808, 0.40751472294063373, 0.29072841272017863, 0.9346502188102824, 0.4074490921961228, 0.3490513804323045, 0.3567040426802827, 0.5499845032264787, 0.5509046551462928, 1.1182801108333404, 0.958703006007865, 0.6720549414341601, 0.8834862768143326, 1.2043680922172535, 2.340582084024958, 1.8485569195727534, 0.5195823766875506, 0.7248554342576994, 0.5736356624994409, 1.2230384856500938, 2.0762125384559393, 1.4358580555886147, 3.8111910481132343, 1.8569937745528193, 1.269244337861189, 0.879255105958239, 1.8435051544699164, 0.08088475038074132, 0.04044237519037066, 0.16176950076148264, 0.08088475038074132, 0.08088475038074132, 0.04044237519037066, 0.04044237519037066, 0.04044237519037066, 0.04044237519037066, 0.08088475038074132, 0.04044237519037066, 0.08088475038074132, 0.04044237519037066, 0.04044237519037066, 0.04044237519037066, 0.04044237519037066, 0.04044237519037066, 0.04044237519037066, 0.08088475038074132, 0.04044237519037066, 0.04044237519037066, 0.04044237519037066, 0.04044237519037066, 0.04044237519037066, 0.04044237519037066, 0.04044237519037066, 0.04044237519037066, 0.16176950076148264, 0.04044237519037066, 0.04044237519037066, 0.7684051286170424, 0.49087663071025345, 0.3445804721173013, 0.3113012106263961, 0.24265425114222397, 0.17493265118485216, 0.15103896329546257, 0.12132712557111199, 0.11327922247159693, 0.10350130697743543, 0.08088475038074132, 0.08088475038074132, 0.08088475038074132, 0.08088475038074132, 0.07585168856889467, 0.07551948164773128, 0.07551948164773128, 0.07551948164773128, 0.11779964439074879, 0.5544576463387302, 0.12707518487596936, 0.05062863348529683, 0.28741804978233354, 0.1815271893362107, 0.21161292666453246, 0.25188451905278086, 0.6142238420099835, 0.9342653915425442, 0.10589086044612289, 0.3671125701620273, 0.5191358658425581, 0.2138042465228486, 1.6987314890895948, 0.6928310480157056, 0.31215985660517265, 1.1456782126823135, 0.4794774536784657, 0.61880791470453, 0.32332730879764676, 0.3209206746454148, 0.2250087982519381, 0.730550367119554, 0.6848536709175301, 1.1015440696748906, 1.098042264882779, 0.5460120628023872, 0.4557780049209307, 0.8223449709925741, 0.879255105958239, 0.4187308083078536, 1.1803519784917829, 1.0993816857106813, 2.6523417044085797, 3.8111910481132343, 0.7248554342576994, 1.5468009470307509, 3.517405821993732, 0.6537044318377169, 0.8169826809662992, 2.290088217789177, 0.024001887593206993, 0.04800377518641399, 0.024001887593206993, 0.04800377518641399, 0.3360264263048978, 0.024001887593206993, 0.024001887593206993, 0.024001887593206993, 0.024001887593206993, 0.024001887593206993, 0.024001887593206993, 0.07200566277962098, 0.024001887593206993, 0.07200566277962098, 0.04800377518641399, 0.024001887593206993, 0.024001887593206993, 0.024001887593206993, 0.024001887593206993, 0.024001887593206993, 0.024001887593206993, 0.024001887593206993, 0.04800377518641399, 0.024001887593206993, 0.024001887593206993, 0.2160169883388629, 0.1680132131524489, 0.19201510074565595, 0.024001887593206993, 0.024001887593206993, 0.4912139215385383, 0.40371584264229443, 0.2957784705978906, 0.28126351569235775, 0.26402076352527687, 0.19201510074565595, 0.1680132131524489, 0.14401132555924195, 0.12000943796603496, 0.12000943796603496, 0.12000943796603496, 0.11037515670805355, 0.10511423215452965, 0.09600755037282797, 0.09600755037282797, 0.09600755037282797, 0.09600755037282797, 0.09600755037282797, 0.09600755037282797, 0.07200566277962098, 0.07200566277962098, 0.07200566277962098, 0.1985861959790043, 0.37125715613618676, 0.40981585278301264, 0.3521378540081115, 0.5066754025094584, 0.1629232847772483, 0.291197735470318, 0.4762303647634799, 0.5440934766494615, 0.3342046964279476, 0.31661497556331875, 0.4270331463114149, 0.7779403781610166, 1.2888790733166928, 0.2183983016027385, 0.3259200155301701, 0.568524284177148, 0.20241349735307007, 1.3635915649073367, 1.9880361838490397, 0.4598280540429206, 0.3975089927543151, 0.5664132983215826, 2.74945328608547, 0.6473311822180072, 0.3489313891490789, 0.48628402291121, 0.8155379405386922, 1.2859528993494245, 3.8111910481132343, 0.034725631062376555, 0.1041768931871297, 0.034725631062376555, 0.034725631062376555, 0.034725631062376555, 0.034725631062376555, 0.034725631062376555, 0.034725631062376555, 0.06945126212475311, 0.034725631062376555, 0.9556227565949624, 0.034725631062376555, 0.034725631062376555, 0.06945126212475311, 0.034725631062376555, 0.034725631062376555, 0.034725631062376555, 0.1041768931871297, 0.06945126212475311, 0.034725631062376555, 0.034725631062376555, 0.034725631062376555, 0.1041768931871297, 0.034725631062376555, 0.06945126212475311, 0.034725631062376555, 0.034725631062376555, 0.034725631062376555, 0.034725631062376555, 0.034725631062376555, 0.2084217539188751, 0.06945126212475311, 0.6615985564316342, 0.3597694576839407, 0.08194216104465814, 0.08194216104465814, 0.2584867096717513, 1.7789438096575856, 0.11107332336905629, 0.11107332336905629, 0.11107332336905629, 0.11107332336905629, 0.3992670051195611, 0.16709541834398633, 0.6714648330234227, 0.10437955934404441, 0.11059535088102537, 0.065657100501448, 0.0996464360181086, 0.055536661684528144, 0.055536661684528144, 0.055536661684528144, 2.081367089730415, 0.16252822926820365, 0.5474094083369277, 0.3938099013406465, 0.8561891787678436, 0.32049492129328966, 1.1308641343216526, 0.15429771791987076, 0.28075242499889436, 0.21366328086219297, 1.2822574980946329, 0.571522108799452, 0.7975547584792708, 2.3908196087904208, 1.2884791349799203, 1.9372596961364514, 0.7944546836232991, 1.1323338045861604, 0.21792470395241303, 0.21891720058007258, 0.23130944441186288, 0.6069705586104444, 0.8783650247565583, 1.268960870620706, 0.40330246468966247, 0.6567966271877353, 0.5624602465619682, 2.74945328608547, 1.7391949971148513, 1.0486377021913011, 3.8111910481132343, 1.242255176893329, 2.290088217789177, 0.11075859777587808, 0.11075859777587808, 0.4476922673465066, 0.14612550495350607, 0.06411796329199332, 0.08230271968365567, 0.08230271968365567, 0.16460543936731134, 0.16460543936731134, 0.08230271968365567, 0.08230271968365567, 0.08230271968365567, 0.08230271968365567, 0.16460543936731134, 0.3369336695706284, 0.08230271968365567, 0.08230271968365567, 0.09422457130789912, 0.03140819043596636, 0.03140819043596636, 0.03140819043596636, 0.03140819043596636, 0.03140819043596636, 0.03140819043596636, 0.03140819043596636, 0.03140819043596636, 0.03140819043596636, 0.03140819043596636, 0.03140819043596636, 0.07606693812401177, 0.11664373832564645, 0.11664373832564645, 0.07776249221709762, 0.07776249221709762, 0.07776249221709762, 0.07776249221709762, 0.4450577287830914, 0.9862208925007139, 0.10633663628424864, 0.2957782026759434, 0.15978930300591193, 1.2782419096168918, 1.5851146486886767, 0.9191579072314251, 3.7012433576013763, 1.36745402897617, 0.31022294711077714, 0.5279166018246788, 1.3408782124359957, 0.7543798452930929, 0.2526559128135769, 0.20603258179850145, 0.48967383482030413, 1.4464329194628502, 0.5641943630521402, 0.36302296643891874, 1.0654677169076534, 0.7652298130890862, 1.8435051544699164, 0.6886857023423536, 0.7682362403557141, 0.6215054690568612, 0.6618752643910458, 2.5510314696459666, 0.8607567495265936, 2.3908196087904208, 0.48349704229630996, 1.242255176893329, 0.6900529077727725, 1.1803519784917829, 1.5421887410033062, 1.2884791349799203, 3.8111910481132343, 1.814564265490517, 1.2822574980946329, 0.08360945818546767, 0.06380579005713671, 0.13779515651588675, 0.130452140038352, 0.2613800023525734, 0.08360945818546767, 0.2589599206113453, 0.2657101476927451, 0.22644988042235176, 0.130452140038352, 0.06380579005713671, 0.10447655729499751, 0.08360945818546767, 0.1509153357153227, 0.2397496745481337, 0.14514732453285836, 0.06380579005713671, 0.06380579005713671, 0.22450552095699303, 0.0444081225837365, 0.0444081225837365, 0.0444081225837365, 0.0444081225837365, 0.0444081225837365, 0.088816245167473, 0.0444081225837365, 0.0444081225837365, 0.0444081225837365, 0.0444081225837365, 0.0444081225837365, 3.0009330791729285, 0.2799013214896143, 0.1332243677512095, 0.13569962717922637, 0.14535299001994567, 0.14535299001994567, 0.15255188786101473, 0.088816245167473, 0.088816245167473, 0.088816245167473, 0.088816245167473, 0.088816245167473, 0.088816245167473, 0.088816245167473, 0.088816245167473, 0.088816245167473, 0.14140873932103612, 0.5949852758018326, 0.12533810996974667, 0.17908729834272755, 0.10326160994476687, 0.366323816669932, 0.12604562707199835, 0.5958672952245659, 0.17569202952164226, 0.10961840447159112, 0.7840145716200004, 0.17075863130527355, 0.6990050326550539, 0.4299223198471294, 0.57838279202964, 0.2980057982268931, 0.2794495079006341, 0.20783022537696438, 0.7488841149015938, 0.8864601405325808, 0.4171728974811325, 1.059592134126139, 0.35393883065485937, 0.3112344527820956, 0.9199300316721848, 2.0746999798316463, 1.3691336028335415, 1.4532550165267617, 3.8111910481132343, 0.5713611968352068, 1.5223231771200214, 1.4358580555886147, 2.340582084024958, 1.9372596961364514, 0.03372775129099012, 0.03372775129099012, 0.03372775129099012, 0.03372775129099012, 0.03372775129099012, 0.03372775129099012, 0.03372775129099012, 0.06745550258198024, 0.03372775129099012, 0.03372775129099012, 0.03372775129099012, 0.03372775129099012, 0.03372775129099012, 0.03372775129099012, 0.03372775129099012, 0.4047330154918815, 0.03372775129099012, 0.03372775129099012, 0.03372775129099012, 0.03372775129099012, 0.03372775129099012, 0.03372775129099012, 0.03372775129099012, 0.03372775129099012, 0.03372775129099012, 0.03372775129099012, 0.03372775129099012, 0.03372775129099012, 0.03372775129099012, 0.03372775129099012, 0.8841186331741089, 0.2181217020149903, 0.13491100516396048, 0.10118325387297038, 0.09531642211583312, 0.06745550258198024, 0.04765821105791656, 0.04765821105791656, 0.04765821105791656, 0.04765821105791656, 0.04765821105791656, 0.04765821105791656, 0.04765821105791656, 0.04765821105791656, 0.04765821105791656, 0.04765821105791656, 0.04765821105791656, 0.04765821105791656, 0.27898607474927695, 0.274654006880144, 2.59981774385035, 1.9084460551398026, 0.32657582060000456, 0.1819615658724185, 0.12761039864521914, 0.07656623918713151, 0.2361296341510495, 0.04963685327410608, 0.5464076409737966, 0.24502093017142837, 0.2684148347171894, 0.15096212927520036, 0.2486100946407065, 0.907167181233492, 0.6803200713871477, 0.06796332566717414, 0.0890985200623376, 0.0890985200623376, 0.0890985200623376, 0.4789349367267918, 2.5510314696459666, 2.2221329193563615, 0.7510940191212375, 3.517405821993732, 0.6654404370727905, 2.6523417044085797, 0.16046704037744905, 0.63824665402412, 0.4021704483264156, 1.322592471533876, 1.0486377021913011, 1.1308641343216526, 1.5421887410033062, 1.4464329194628502, 1.3635915649073367, 1.5468009470307509, 1.145780522728035, 3.8111910481132343, 0.8406314483892909, 1.722981485848432, 0.04644072403530676, 0.04644072403530676, 0.3250850682471473, 0.04644072403530676, 0.04644072403530676, 0.04560874339688743, 0.04644072403530676, 0.04644072403530676, 0.04560874339688743, 0.04644072403530676, 0.04644072403530676, 0.04644072403530676, 0.04644072403530676, 0.04644072403530676, 0.04644072403530676, 0.13932217210592027, 0.18576289614122704, 0.13932217210592027, 0.04644072403530676, 0.04644072403530676, 0.04644072403530676, 0.04644072403530676, 0.04644072403530676, 0.04644072403530676, 0.04644072403530676, 0.04644072403530676, 0.13932217210592027, 0.04644072403530676, 0.04644072403530676, 0.04644072403530676, 0.09288144807061352, 0.09288144807061352, 1.7193163758568673, 0.6551002212467659, 0.4119045751617238, 0.2939703183591885, 0.20687640211752245, 0.12380177602632622, 0.14848938348260027, 0.9503379974239234, 0.3378032932545673, 0.2440131190231405, 0.05975530161363454, 0.1424261376908959, 0.19745893651244995, 0.259484051470992, 1.2859528993494245, 0.21182776937329026, 0.06987735693298838, 1.289223831723505, 0.1805372537031069, 0.5996774430567487, 0.3110292530520982, 0.27471835915507087, 0.16996546461557724, 0.4396666408058307, 0.21810898257428346, 0.6720549414341601, 0.797829653844466, 0.48523995054756164, 1.0910974902160302, 1.5468009470307509, 1.098042264882779, 0.401083559668525, 1.0027461091200052, 1.814564265490517, 0.6032736870085748, 0.387682490900219, 0.48417663120128757, 1.203039444883333, 0.7632019155366008, 2.290088217789177, 1.7390818332296873, 2.5510314696459666, 2.0762125384559393, 1.3605622545674907, 0.20126278633667632, 0.07091081645796474, 0.07091081645796474, 0.07091081645796474, 0.07091081645796474, 0.07091081645796474, 0.07091081645796474, 0.07091081645796474, 0.07091081645796474, 0.28364326583185895, 0.07091081645796474, 0.14182163291592947, 0.14182163291592947, 0.14182163291592947, 0.14182163291592947, 1.4174399185405115, 0.1383309728876638, 0.7895579286574436, 0.07386879984436427, 0.07386879984436427, 0.07386879984436427, 0.07386879984436427, 0.07386879984436427, 0.07386879984436427, 0.07386879984436427, 0.07386879984436427, 0.07386879984436427, 0.14773759968872854, 0.07386879984436427, 0.07386879984436427, 0.14773759968872854, 0.45756211112164874, 0.5893390850961331, 0.15641290599415145, 0.15641290599415145, 1.5459182267000973, 0.5427649647913716, 0.3665948411062661, 0.43730832559830324, 0.5884234114658904, 1.1251531403417612, 0.4996528355734862, 0.13375746320637685, 0.3376951784671924, 0.1481079317235631, 0.4674915188388262, 0.1323682199660659, 0.23120004370184324, 0.5300334245151598, 0.9205600013952646, 1.72177619074691, 1.9880361838490397, 0.7529477986586273, 1.1735402399117414, 3.517405821993732, 0.4288096452724571, 0.5463431085773112, 0.24188562181348153, 0.9474643874242314, 0.6360737596964089, 0.24493712096493447, 0.6473311822180072, 1.0399004034163644, 0.6960862378043613, 0.7767094281345608, 0.4668629778069929, 1.8569937745528193, 0.40341605170559847, 0.23002975452505886, 0.11501487726252943, 0.11501487726252943, 0.0766765848416863, 0.0766765848416863, 0.03833829242084315, 0.03833829242084315, 0.03833829242084315, 0.03833829242084315, 0.03833829242084315, 0.03833829242084315, 0.0766765848416863, 0.03833829242084315, 0.03833829242084315, 0.1533531696833726, 0.15642133924772794, 0.07021078595740421, 0.06309240216189009, 0.06309240216189009, 0.06309240216189009, 0.06309240216189009, 0.06309240216189009, 0.06309240216189009, 0.06309240216189009, 0.06309240216189009, 0.06309240216189009, 0.06309240216189009, 0.06309240216189009, 0.06309240216189009, 0.16448505272204103, 0.2623569506152462, 0.1882525015583762, 0.2719399623930844, 1.5753211580984279, 0.3026297256313267, 0.5759470745585201, 0.8738006163995886, 0.07909439191281754, 0.40467038364887714, 0.13064439533575406, 0.12685618093297418, 0.9754778667488611, 0.19607324528381578, 0.24913344965563422, 0.1195693184445262, 0.30867622641016723, 1.7390818332296873, 0.4804529561306758, 0.2817272982536542, 0.32456893077575305, 0.5674469854858012, 0.9031941541855999, 2.2221329193563615, 2.1660004845499183, 0.45332027776080663, 0.56455495084442, 1.3605622545674907, 1.1874687364602485, 3.8111910481132343, 2.290088217789177, 2.6523417044085797, 1.1913366098724771, 0.6443750910617476, 1.1359096384972394, 1.814564265490517, 0.5437911244320839, 1.322592471533876, 0.9448556607724797, 0.09880875494300485, 0.5462263449548723, 0.0312851961164527, 0.03829059534700225, 0.019145297673501125, 0.019145297673501125, 0.0765811906940045, 0.0312851961164527, 0.0312851961164527, 0.0312851961164527, 0.019145297673501125, 0.019145297673501125, 0.45948714416402686, 0.019145297673501125, 0.019145297673501125, 0.019145297673501125, 0.0765811906940045, 0.019145297673501125, 0.0312851961164527, 0.019145297673501125, 0.0312851961164527, 0.0312851961164527, 0.0312851961164527, 0.019145297673501125, 0.05743589302050336, 0.0312851961164527, 0.0312851961164527, 0.019145297673501125, 0.019145297673501125, 0.019145297673501125, 0.2871794651025168, 0.2680341674290157, 0.21059827440851236, 0.1251407844658108, 0.09572648836750561, 0.09958286406549707, 0.1413117366365937, 0.0625703922329054, 0.05743589302050336, 0.05743589302050336, 0.05743589302050336, 0.03829059534700225, 0.124447869730666, 1.7145107538424191, 0.1882580295485171, 0.18147728938258698, 0.045554087919785484, 0.045554087919785484, 0.045554087919785484, 0.045554087919785484, 0.045554087919785484, 0.43039971547365014, 0.09480397648892573, 0.7040643383519672, 0.7605293133534871, 0.5723321017067035, 0.09547300074746355, 0.28281998418221277, 0.4241045068008556, 0.41550958034131485, 2.1660004845499183, 0.6437261740183118, 0.5170086065538797, 0.3172047911305287, 0.2867358221931898, 0.2094988857757226, 0.6128486625212166, 0.7396931501205688, 0.6268977595272307, 1.0399004034163644, 0.39276659045913376, 1.0027461091200052, 3.7012433576013763, 1.0062433338940098, 0.9612373631772494, 0.8205042708051036, 1.72177619074691, 1.5468009470307509, 1.7390818332296873, 0.7767094281345608, 1.156291848354352, 1.2490069679719127, 1.8485569195727534, 0.057381673133153385, 0.057381673133153385, 0.057381673133153385, 0.057381673133153385, 0.057381673133153385, 0.25325459648546733, 0.057381673133153385, 0.11476334626630677, 0.057381673133153385, 0.16053358038178625, 0.057381673133153385, 0.057381673133153385, 0.057381673133153385, 0.057381673133153385, 0.057381673133153385, 0.17214501939946017, 0.057381673133153385, 0.14139023164638623, 0.14139023164638623, 0.14139023164638623, 0.14139023164638623, 0.04713007721546208, 0.04713007721546208, 0.09426015443092416, 0.04713007721546208, 0.04713007721546208, 0.04713007721546208, 0.04713007721546208, 0.04713007721546208, 0.09426015443092416, 1.8505765669955814, 0.8252579926887631, 0.09426015443092416, 0.09426015443092416, 0.13282231777584858, 0.15616564003925343, 0.6947827590634467, 0.358294511930407, 0.14321348545603968, 0.4563439466559019, 0.2686095693855043, 0.23085966504544922, 0.2996602433059108, 0.23364450484694177, 0.3178650869850711, 0.28222499605641405, 0.20140171883767335, 0.7646896750873521, 0.20829154534210972, 0.31170043268047176, 1.1015440696748906, 1.8569937745528193, 0.4313717565879978, 0.37200027925280194, 0.34696942682188353, 0.8834862768143326, 0.6727204703657907, 1.012252425553881, 0.23035393901662474, 0.6136996420572947, 0.39287319110847496, 1.0508602986564695, 2.0762125384559393, 0.07045064037312915, 0.040010776574655835, 0.040010776574655835, 0.2581393617063821, 0.07045064037312915, 0.07045064037312915, 0.040010776574655835, 0.040010776574655835, 0.07045064037312915, 0.040010776574655835, 0.2023717564032218, 0.07045064037312915, 0.040010776574655835, 0.07045064037312915, 0.07045064037312915, 0.07045064037312915, 0.1011858782016109, 0.1011858782016109, 0.1011858782016109, 0.07045064037312915, 0.8844986306773566, 0.08002155314931167, 0.08002155314931167, 0.040010776574655835, 0.11077595914548748, 0.33503410529640365, 0.03903085789123161, 0.13345294938587524, 0.14051646869884493, 0.07154475353725391, 1.6060558570925005, 0.8376265549929925, 0.629666370169192, 0.6097046049648975, 0.24404697741031148, 0.5431620781048664, 0.14892074622564583, 0.6872139591359376, 0.37772633828089774, 0.8201784841844677, 0.38889109363589064, 0.25484351454445364, 0.3178528645974993, 2.74945328608547, 0.8727786810339255, 0.7284621730481187, 0.3942561879089803, 0.6202813420167405, 3.517405821993732, 0.18215053156474886, 0.28052460479887886, 0.9077405074652811, 0.8205042708051036, 2.6523417044085797, 0.3363436652167465, 1.2310947817592386, 1.1735402399117414, 2.0762125384559393, 2.290088217789177, 1.8435051544699164, 0.01600958431391987, 0.01600958431391987, 0.01600958431391987, 0.01600958431391987, 0.01600958431391987, 0.01600958431391987, 0.01600958431391987, 0.04802875294175961, 0.03201916862783974, 0.01600958431391987, 0.03201916862783974, 0.01600958431391987, 0.01600958431391987, 0.01600958431391987, 0.01600958431391987, 0.01600958431391987, 0.01600958431391987, 0.01600958431391987, 0.01600958431391987, 0.03201916862783974, 0.01600958431391987, 0.01600958431391987, 0.01600958431391987, 0.01600958431391987, 0.01600958431391987, 0.01600958431391987, 0.01600958431391987, 0.03201916862783974, 0.03201916862783974, 0.01600958431391987, 0.6083642039289551, 0.1600958431391987, 0.08004792156959935, 2.6215693512558116, 0.04802875294175961, 0.07890233127932059, 0.9861206011831419, 0.07929705485616272, 0.3876213485018809, 0.6038613605170522, 0.05800709418724366, 0.05800709418724366, 0.05800709418724366, 0.05800709418724366, 0.05800709418724366, 0.05800709418724366, 0.05800709418724366, 0.293402431946537, 0.6753677850850212, 0.3843783332939967, 0.14450572667773862, 1.1359096384972394, 0.07518241423299832, 0.38158196796091676, 0.24655432982144468, 0.6341834222388706, 0.16859175264337511, 0.20556989590765234, 0.199283684608001, 0.8155379405386922, 0.47963384069733694, 1.7390818332296873, 1.8485569195727534, 0.27010501790059865, 0.5573971662785433, 0.16606973717333418, 1.0062433338940098, 0.20179915230435763, 0.21219291212489494, 3.7012433576013763, 0.5934960232826598, 0.3487502430657879, 1.3635915649073367, 1.0669571691057662, 0.4546498311008115, 0.5159045260610636, 1.8435051544699164, 1.2888790733166928, 0.5647447343831592, 1.2490069679719127, 1.0027461091200052, 0.030497396864046074, 0.030497396864046074, 0.09149219059213824, 0.030497396864046074, 0.030497396864046074, 0.030497396864046074, 0.030497396864046074, 0.030497396864046074, 0.030497396864046074, 0.030497396864046074, 0.030497396864046074, 0.030497396864046074, 0.030497396864046074, 0.030497396864046074, 0.06099479372809215, 0.030497396864046074, 0.030497396864046074, 0.09149219059213824, 0.09149219059213824, 0.030497396864046074, 0.3631745600197524, 0.09149219059213824, 0.030497396864046074, 2.1107442952367457, 0.06325520172442736, 0.06325520172442736, 0.06325520172442736, 0.06325520172442736, 0.18976560517328206, 0.06325520172442736, 0.3000741406634854, 0.12651040344885472, 0.7536413256274204, 0.45373062356961574, 0.06325520172442736, 0.06325520172442736, 0.06325520172442736, 0.06325520172442736, 0.06325520172442736, 0.06325520172442736, 0.06325520172442736, 0.06325520172442736, 0.06325520172442736, 0.06325520172442736, 0.06325520172442736, 0.5236871580282934, 0.1908537701061073, 0.1233081515736324, 0.2551531493381278, 0.09608171166691068, 0.22393909578334706, 0.1308339803837447, 0.7668733608549094, 0.4021704483264156, 2.2221329193563615, 0.32189595536284243, 0.5573971662785433, 0.47963384069733694, 0.2654642441902063, 0.5988906706736709, 0.5362521008970342, 0.4958552152345098, 0.7532652613836023, 0.42581872597671266, 0.4241045068008556, 1.814564265490517, 2.3908196087904208, 0.3580710440463574, 1.1913366098724771, 1.0686728666360092, 1.2490069679719127, 1.5223231771200214, 0.7944546836232991], \"Category\": [\"Default\", \"Default\", \"Default\", \"Default\", \"Default\", \"Default\", \"Default\", \"Default\", \"Default\", \"Default\", \"Default\", \"Default\", \"Default\", \"Default\", \"Default\", \"Default\", \"Default\", \"Default\", \"Default\", \"Default\", \"Default\", \"Default\", \"Default\", \"Default\", \"Default\", \"Default\", \"Default\", \"Default\", \"Default\", \"Default\", \"Topic1\", \"Topic1\", \"Topic1\", \"Topic1\", \"Topic1\", \"Topic1\", \"Topic1\", \"Topic1\", \"Topic1\", \"Topic1\", \"Topic1\", \"Topic1\", \"Topic1\", \"Topic1\", \"Topic1\", \"Topic1\", \"Topic1\", \"Topic1\", \"Topic1\", \"Topic1\", \"Topic1\", \"Topic1\", \"Topic1\", \"Topic1\", \"Topic1\", \"Topic1\", \"Topic1\", \"Topic1\", \"Topic1\", \"Topic1\", \"Topic1\", \"Topic1\", \"Topic1\", \"Topic1\", \"Topic1\", \"Topic1\", \"Topic1\", \"Topic1\", \"Topic1\", \"Topic1\", \"Topic1\", \"Topic1\", \"Topic1\", \"Topic1\", \"Topic1\", \"Topic1\", \"Topic1\", \"Topic1\", \"Topic1\", \"Topic1\", \"Topic1\", \"Topic1\", \"Topic1\", \"Topic1\", \"Topic1\", \"Topic1\", \"Topic1\", \"Topic1\", \"Topic1\", \"Topic1\", \"Topic1\", \"Topic1\", \"Topic1\", \"Topic1\", \"Topic1\", \"Topic1\", \"Topic1\", \"Topic1\", \"Topic1\", \"Topic1\", \"Topic1\", \"Topic1\", \"Topic1\", \"Topic1\", \"Topic1\", \"Topic1\", \"Topic1\", \"Topic1\", \"Topic1\", \"Topic1\", \"Topic1\", \"Topic1\", \"Topic1\", \"Topic1\", \"Topic1\", \"Topic1\", \"Topic1\", \"Topic1\", \"Topic1\", \"Topic1\", \"Topic1\", \"Topic1\", \"Topic1\", \"Topic1\", \"Topic1\", \"Topic1\", \"Topic1\", \"Topic1\", \"Topic1\", \"Topic1\", \"Topic1\", \"Topic1\", \"Topic1\", \"Topic1\", \"Topic1\", \"Topic1\", \"Topic1\", \"Topic2\", \"Topic2\", \"Topic2\", \"Topic2\", \"Topic2\", \"Topic2\", \"Topic2\", \"Topic2\", \"Topic2\", \"Topic2\", \"Topic2\", \"Topic2\", \"Topic2\", \"Topic2\", \"Topic2\", \"Topic2\", \"Topic2\", \"Topic2\", \"Topic2\", \"Topic2\", \"Topic2\", \"Topic2\", \"Topic2\", \"Topic2\", \"Topic2\", \"Topic2\", \"Topic2\", \"Topic2\", \"Topic2\", \"Topic2\", \"Topic2\", \"Topic2\", \"Topic2\", \"Topic2\", \"Topic2\", \"Topic2\", \"Topic2\", \"Topic2\", \"Topic2\", \"Topic2\", \"Topic2\", \"Topic2\", \"Topic2\", \"Topic2\", \"Topic2\", \"Topic2\", \"Topic2\", \"Topic2\", \"Topic2\", \"Topic2\", \"Topic2\", \"Topic2\", \"Topic2\", \"Topic2\", \"Topic2\", \"Topic2\", \"Topic2\", \"Topic2\", \"Topic2\", \"Topic2\", \"Topic2\", \"Topic2\", \"Topic2\", \"Topic2\", \"Topic2\", \"Topic2\", \"Topic2\", \"Topic2\", \"Topic2\", \"Topic2\", \"Topic2\", \"Topic2\", \"Topic2\", \"Topic2\", \"Topic2\", \"Topic2\", \"Topic2\", \"Topic2\", \"Topic2\", \"Topic2\", \"Topic2\", \"Topic2\", \"Topic2\", \"Topic2\", \"Topic2\", \"Topic2\", \"Topic2\", \"Topic2\", \"Topic2\", \"Topic2\", \"Topic3\", \"Topic3\", \"Topic3\", \"Topic3\", \"Topic3\", \"Topic3\", \"Topic3\", \"Topic3\", \"Topic3\", \"Topic3\", \"Topic3\", \"Topic3\", \"Topic3\", \"Topic3\", \"Topic3\", \"Topic3\", \"Topic3\", \"Topic3\", \"Topic3\", \"Topic3\", \"Topic3\", \"Topic3\", \"Topic3\", \"Topic3\", \"Topic3\", \"Topic3\", \"Topic3\", \"Topic3\", \"Topic3\", \"Topic3\", \"Topic3\", \"Topic3\", \"Topic3\", \"Topic3\", \"Topic3\", \"Topic3\", \"Topic3\", \"Topic3\", \"Topic3\", \"Topic3\", \"Topic3\", \"Topic3\", \"Topic3\", \"Topic3\", \"Topic3\", \"Topic3\", \"Topic3\", \"Topic3\", \"Topic3\", \"Topic3\", \"Topic3\", \"Topic3\", \"Topic3\", \"Topic3\", \"Topic3\", \"Topic3\", \"Topic3\", \"Topic3\", \"Topic3\", \"Topic3\", \"Topic3\", \"Topic3\", \"Topic3\", \"Topic3\", \"Topic3\", \"Topic3\", \"Topic3\", \"Topic3\", \"Topic3\", \"Topic3\", \"Topic3\", \"Topic3\", \"Topic3\", \"Topic3\", \"Topic3\", \"Topic3\", \"Topic3\", \"Topic3\", \"Topic3\", \"Topic3\", \"Topic3\", \"Topic3\", \"Topic4\", \"Topic4\", \"Topic4\", \"Topic4\", \"Topic4\", \"Topic4\", \"Topic4\", \"Topic4\", \"Topic4\", \"Topic4\", \"Topic4\", \"Topic4\", \"Topic4\", \"Topic4\", \"Topic4\", \"Topic4\", \"Topic4\", \"Topic4\", \"Topic4\", \"Topic4\", \"Topic4\", \"Topic4\", \"Topic4\", \"Topic4\", \"Topic4\", \"Topic4\", \"Topic4\", \"Topic4\", \"Topic4\", \"Topic4\", \"Topic4\", \"Topic4\", \"Topic4\", \"Topic4\", \"Topic4\", \"Topic4\", \"Topic4\", \"Topic4\", \"Topic4\", \"Topic4\", \"Topic4\", \"Topic4\", \"Topic4\", \"Topic4\", \"Topic4\", \"Topic4\", \"Topic4\", \"Topic4\", \"Topic4\", \"Topic4\", \"Topic4\", \"Topic4\", \"Topic4\", \"Topic4\", \"Topic4\", \"Topic4\", \"Topic4\", \"Topic4\", \"Topic4\", \"Topic4\", \"Topic4\", \"Topic4\", \"Topic4\", \"Topic4\", \"Topic4\", \"Topic4\", \"Topic4\", \"Topic4\", \"Topic4\", \"Topic4\", \"Topic4\", \"Topic4\", \"Topic4\", \"Topic4\", \"Topic4\", \"Topic4\", \"Topic4\", \"Topic4\", \"Topic4\", \"Topic4\", \"Topic4\", \"Topic4\", \"Topic4\", \"Topic4\", \"Topic4\", \"Topic5\", \"Topic5\", \"Topic5\", \"Topic5\", \"Topic5\", \"Topic5\", \"Topic5\", \"Topic5\", \"Topic5\", \"Topic5\", \"Topic5\", \"Topic5\", \"Topic5\", \"Topic5\", \"Topic5\", \"Topic5\", \"Topic5\", \"Topic5\", \"Topic5\", \"Topic5\", \"Topic5\", \"Topic5\", \"Topic5\", \"Topic5\", \"Topic5\", \"Topic5\", \"Topic5\", \"Topic5\", \"Topic5\", \"Topic5\", \"Topic5\", \"Topic5\", \"Topic5\", \"Topic5\", \"Topic5\", \"Topic5\", \"Topic5\", \"Topic5\", \"Topic5\", \"Topic5\", \"Topic5\", \"Topic5\", \"Topic5\", \"Topic5\", \"Topic5\", \"Topic5\", \"Topic5\", \"Topic5\", \"Topic5\", \"Topic5\", \"Topic5\", \"Topic5\", \"Topic5\", \"Topic5\", \"Topic5\", \"Topic5\", \"Topic5\", \"Topic5\", \"Topic5\", \"Topic5\", \"Topic5\", \"Topic5\", \"Topic5\", \"Topic5\", \"Topic5\", \"Topic5\", \"Topic5\", \"Topic5\", \"Topic5\", \"Topic5\", \"Topic5\", \"Topic5\", \"Topic5\", \"Topic5\", \"Topic5\", \"Topic6\", \"Topic6\", \"Topic6\", \"Topic6\", \"Topic6\", \"Topic6\", \"Topic6\", \"Topic6\", \"Topic6\", \"Topic6\", \"Topic6\", \"Topic6\", \"Topic6\", \"Topic6\", \"Topic6\", \"Topic6\", \"Topic6\", \"Topic6\", \"Topic6\", \"Topic6\", \"Topic6\", \"Topic6\", \"Topic6\", \"Topic6\", \"Topic6\", \"Topic6\", \"Topic6\", \"Topic6\", \"Topic6\", \"Topic6\", \"Topic6\", \"Topic6\", \"Topic6\", \"Topic6\", \"Topic6\", \"Topic6\", \"Topic6\", \"Topic6\", \"Topic6\", \"Topic6\", \"Topic6\", \"Topic6\", \"Topic6\", \"Topic6\", \"Topic6\", \"Topic6\", \"Topic6\", \"Topic6\", \"Topic6\", \"Topic6\", \"Topic6\", \"Topic6\", \"Topic6\", \"Topic6\", \"Topic6\", \"Topic6\", \"Topic6\", \"Topic6\", \"Topic6\", \"Topic6\", \"Topic6\", \"Topic6\", \"Topic6\", \"Topic6\", \"Topic6\", \"Topic6\", \"Topic6\", \"Topic6\", \"Topic6\", \"Topic6\", \"Topic6\", \"Topic6\", \"Topic6\", \"Topic6\", \"Topic6\", \"Topic6\", \"Topic6\", \"Topic6\", \"Topic6\", \"Topic6\", \"Topic7\", \"Topic7\", \"Topic7\", \"Topic7\", \"Topic7\", \"Topic7\", \"Topic7\", \"Topic7\", \"Topic7\", \"Topic7\", \"Topic7\", \"Topic7\", \"Topic7\", \"Topic7\", \"Topic7\", \"Topic7\", \"Topic7\", \"Topic7\", \"Topic7\", \"Topic7\", \"Topic7\", \"Topic7\", \"Topic7\", \"Topic7\", \"Topic7\", \"Topic7\", \"Topic7\", \"Topic7\", \"Topic7\", \"Topic7\", \"Topic7\", \"Topic7\", \"Topic7\", \"Topic7\", \"Topic7\", \"Topic7\", \"Topic7\", \"Topic7\", \"Topic7\", \"Topic7\", \"Topic7\", \"Topic7\", \"Topic7\", \"Topic7\", \"Topic7\", \"Topic7\", \"Topic7\", \"Topic7\", \"Topic7\", \"Topic7\", \"Topic7\", \"Topic7\", \"Topic7\", \"Topic7\", \"Topic7\", \"Topic7\", \"Topic7\", \"Topic7\", \"Topic7\", \"Topic7\", \"Topic7\", \"Topic7\", \"Topic7\", \"Topic7\", \"Topic7\", \"Topic7\", \"Topic7\", \"Topic7\", \"Topic7\", \"Topic7\", \"Topic7\", \"Topic7\", \"Topic7\", \"Topic7\", \"Topic7\", \"Topic7\", \"Topic7\", \"Topic7\", \"Topic7\", \"Topic7\", \"Topic7\", \"Topic7\", \"Topic7\", \"Topic7\", \"Topic7\", \"Topic7\", \"Topic7\", \"Topic7\", \"Topic7\", \"Topic7\", \"Topic8\", \"Topic8\", \"Topic8\", \"Topic8\", \"Topic8\", \"Topic8\", \"Topic8\", \"Topic8\", \"Topic8\", \"Topic8\", \"Topic8\", \"Topic8\", \"Topic8\", \"Topic8\", \"Topic8\", \"Topic8\", \"Topic8\", \"Topic8\", \"Topic8\", \"Topic8\", \"Topic8\", \"Topic8\", \"Topic8\", \"Topic8\", \"Topic8\", \"Topic8\", \"Topic8\", \"Topic8\", \"Topic8\", \"Topic8\", \"Topic8\", \"Topic8\", \"Topic8\", \"Topic8\", \"Topic8\", \"Topic8\", \"Topic8\", \"Topic8\", \"Topic8\", \"Topic8\", \"Topic8\", \"Topic8\", \"Topic8\", \"Topic8\", \"Topic8\", \"Topic8\", \"Topic8\", \"Topic8\", \"Topic8\", \"Topic8\", \"Topic8\", \"Topic8\", \"Topic8\", \"Topic8\", \"Topic8\", \"Topic8\", \"Topic8\", \"Topic8\", \"Topic8\", \"Topic8\", \"Topic8\", \"Topic8\", \"Topic8\", \"Topic8\", \"Topic8\", \"Topic8\", \"Topic8\", \"Topic8\", \"Topic8\", \"Topic8\", \"Topic8\", \"Topic8\", \"Topic8\", \"Topic8\", \"Topic8\", \"Topic8\", \"Topic9\", \"Topic9\", \"Topic9\", \"Topic9\", \"Topic9\", \"Topic9\", \"Topic9\", \"Topic9\", \"Topic9\", \"Topic9\", \"Topic9\", \"Topic9\", \"Topic9\", \"Topic9\", \"Topic9\", \"Topic9\", \"Topic9\", \"Topic9\", \"Topic9\", \"Topic9\", \"Topic9\", \"Topic9\", \"Topic9\", \"Topic9\", \"Topic9\", \"Topic9\", \"Topic9\", \"Topic9\", \"Topic9\", \"Topic9\", \"Topic9\", \"Topic9\", \"Topic9\", \"Topic9\", \"Topic9\", \"Topic9\", \"Topic9\", \"Topic9\", \"Topic9\", \"Topic9\", \"Topic9\", \"Topic9\", \"Topic9\", \"Topic9\", \"Topic9\", \"Topic9\", \"Topic9\", \"Topic9\", \"Topic9\", \"Topic9\", \"Topic9\", \"Topic9\", \"Topic9\", \"Topic9\", \"Topic9\", \"Topic9\", \"Topic9\", \"Topic9\", \"Topic9\", \"Topic9\", \"Topic9\", \"Topic9\", \"Topic9\", \"Topic9\", \"Topic9\", \"Topic9\", \"Topic9\", \"Topic10\", \"Topic10\", \"Topic10\", \"Topic10\", \"Topic10\", \"Topic10\", \"Topic10\", \"Topic10\", \"Topic10\", \"Topic10\", \"Topic10\", \"Topic10\", \"Topic10\", \"Topic10\", \"Topic10\", \"Topic10\", \"Topic10\", \"Topic10\", \"Topic10\", \"Topic10\", \"Topic10\", \"Topic10\", \"Topic10\", \"Topic10\", \"Topic10\", \"Topic10\", \"Topic10\", \"Topic10\", \"Topic10\", \"Topic10\", \"Topic10\", \"Topic10\", \"Topic10\", \"Topic10\", \"Topic10\", \"Topic10\", \"Topic10\", \"Topic10\", \"Topic10\", \"Topic10\", \"Topic10\", \"Topic10\", \"Topic10\", \"Topic10\", \"Topic10\", \"Topic10\", \"Topic10\", \"Topic10\", \"Topic10\", \"Topic10\", \"Topic10\", \"Topic10\", \"Topic10\", \"Topic10\", \"Topic10\", \"Topic10\", \"Topic10\", \"Topic10\", \"Topic10\", \"Topic10\", \"Topic10\", \"Topic10\", \"Topic10\", \"Topic10\", \"Topic10\", \"Topic10\", \"Topic10\", \"Topic10\", \"Topic10\", \"Topic11\", \"Topic11\", \"Topic11\", \"Topic11\", \"Topic11\", \"Topic11\", \"Topic11\", \"Topic11\", \"Topic11\", \"Topic11\", \"Topic11\", \"Topic11\", \"Topic11\", \"Topic11\", \"Topic11\", \"Topic11\", \"Topic11\", \"Topic11\", \"Topic11\", \"Topic11\", \"Topic11\", \"Topic11\", \"Topic11\", \"Topic11\", \"Topic11\", \"Topic11\", \"Topic11\", \"Topic11\", \"Topic11\", \"Topic11\", \"Topic11\", \"Topic11\", \"Topic11\", \"Topic11\", \"Topic11\", \"Topic11\", \"Topic11\", \"Topic11\", \"Topic11\", \"Topic11\", \"Topic11\", \"Topic11\", \"Topic11\", \"Topic11\", \"Topic11\", \"Topic11\", \"Topic11\", \"Topic11\", \"Topic11\", \"Topic11\", \"Topic11\", \"Topic11\", \"Topic11\", \"Topic11\", \"Topic11\", \"Topic11\", \"Topic11\", \"Topic11\", \"Topic11\", \"Topic11\", \"Topic11\", \"Topic11\", \"Topic11\", \"Topic11\", \"Topic11\", \"Topic11\", \"Topic11\", \"Topic11\", \"Topic11\", \"Topic11\", \"Topic11\", \"Topic11\", \"Topic11\", \"Topic11\", \"Topic11\", \"Topic11\", \"Topic11\", \"Topic11\", \"Topic11\", \"Topic11\", \"Topic11\", \"Topic11\", \"Topic11\", \"Topic12\", \"Topic12\", \"Topic12\", \"Topic12\", \"Topic12\", \"Topic12\", \"Topic12\", \"Topic12\", \"Topic12\", \"Topic12\", \"Topic12\", \"Topic12\", \"Topic12\", \"Topic12\", \"Topic12\", \"Topic12\", \"Topic12\", \"Topic12\", \"Topic12\", \"Topic12\", \"Topic12\", \"Topic12\", \"Topic12\", \"Topic12\", \"Topic12\", \"Topic12\", \"Topic12\", \"Topic12\", \"Topic12\", \"Topic12\", \"Topic12\", \"Topic12\", \"Topic12\", \"Topic12\", \"Topic12\", \"Topic12\", \"Topic12\", \"Topic12\", \"Topic12\", \"Topic12\", \"Topic12\", \"Topic12\", \"Topic12\", \"Topic12\", \"Topic12\", \"Topic12\", \"Topic12\", \"Topic12\", \"Topic12\", \"Topic12\", \"Topic12\", \"Topic12\", \"Topic12\", \"Topic12\", \"Topic12\", \"Topic12\", \"Topic12\", \"Topic12\", \"Topic12\", \"Topic12\", \"Topic12\", \"Topic12\", \"Topic12\", \"Topic13\", \"Topic13\", \"Topic13\", \"Topic13\", \"Topic13\", \"Topic13\", \"Topic13\", \"Topic13\", \"Topic13\", \"Topic13\", \"Topic13\", \"Topic13\", \"Topic13\", \"Topic13\", \"Topic13\", \"Topic13\", \"Topic13\", \"Topic13\", \"Topic13\", \"Topic13\", \"Topic13\", \"Topic13\", \"Topic13\", \"Topic13\", \"Topic13\", \"Topic13\", \"Topic13\", \"Topic13\", \"Topic13\", \"Topic13\", \"Topic13\", \"Topic13\", \"Topic13\", \"Topic13\", \"Topic13\", \"Topic13\", \"Topic13\", \"Topic13\", \"Topic13\", \"Topic13\", \"Topic13\", \"Topic13\", \"Topic13\", \"Topic13\", \"Topic13\", \"Topic13\", \"Topic13\", \"Topic13\", \"Topic13\", \"Topic13\", \"Topic13\", \"Topic13\", \"Topic13\", \"Topic13\", \"Topic13\", \"Topic13\", \"Topic13\", \"Topic13\", \"Topic13\", \"Topic13\", \"Topic14\", \"Topic14\", \"Topic14\", \"Topic14\", \"Topic14\", \"Topic14\", \"Topic14\", \"Topic14\", \"Topic14\", \"Topic14\", \"Topic14\", \"Topic14\", \"Topic14\", \"Topic14\", \"Topic14\", \"Topic14\", \"Topic14\", \"Topic14\", \"Topic14\", \"Topic14\", \"Topic14\", \"Topic14\", \"Topic14\", \"Topic14\", \"Topic14\", \"Topic14\", \"Topic14\", \"Topic14\", \"Topic14\", \"Topic14\", \"Topic14\", \"Topic14\", \"Topic14\", \"Topic14\", \"Topic14\", \"Topic14\", \"Topic14\", \"Topic14\", \"Topic14\", \"Topic14\", \"Topic14\", \"Topic14\", \"Topic14\", \"Topic14\", \"Topic14\", \"Topic14\", \"Topic14\", \"Topic14\", \"Topic14\", \"Topic14\", \"Topic14\", \"Topic14\", \"Topic14\", \"Topic14\", \"Topic14\", \"Topic14\", \"Topic14\", \"Topic14\", \"Topic14\", \"Topic14\", \"Topic14\", \"Topic14\", \"Topic14\", \"Topic14\", \"Topic14\", \"Topic14\", \"Topic14\", \"Topic14\", \"Topic14\", \"Topic14\", \"Topic14\", \"Topic14\", \"Topic14\", \"Topic14\", \"Topic14\", \"Topic14\", \"Topic14\", \"Topic14\", \"Topic14\", \"Topic14\", \"Topic14\", \"Topic15\", \"Topic15\", \"Topic15\", \"Topic15\", \"Topic15\", \"Topic15\", \"Topic15\", \"Topic15\", \"Topic15\", \"Topic15\", \"Topic15\", \"Topic15\", \"Topic15\", \"Topic15\", \"Topic15\", \"Topic15\", \"Topic15\", \"Topic15\", \"Topic15\", \"Topic15\", \"Topic15\", \"Topic15\", \"Topic15\", \"Topic15\", \"Topic15\", \"Topic15\", \"Topic15\", \"Topic15\", \"Topic15\", \"Topic15\", \"Topic15\", \"Topic15\", \"Topic15\", \"Topic15\", \"Topic15\", \"Topic15\", \"Topic15\", \"Topic15\", \"Topic15\", \"Topic15\", \"Topic15\", \"Topic15\", \"Topic15\", \"Topic15\", \"Topic15\", \"Topic15\", \"Topic15\", \"Topic15\", \"Topic15\", \"Topic15\", \"Topic15\", \"Topic15\", \"Topic15\", \"Topic15\", \"Topic15\", \"Topic15\", \"Topic15\", \"Topic15\", \"Topic15\", \"Topic15\", \"Topic15\", \"Topic15\", \"Topic15\", \"Topic15\", \"Topic15\", \"Topic15\", \"Topic15\", \"Topic15\", \"Topic15\", \"Topic15\", \"Topic15\", \"Topic15\", \"Topic15\"], \"logprob\": [30.0, 29.0, 28.0, 27.0, 26.0, 25.0, 24.0, 23.0, 22.0, 21.0, 20.0, 19.0, 18.0, 17.0, 16.0, 15.0, 14.0, 13.0, 12.0, 11.0, 10.0, 9.0, 8.0, 7.0, 6.0, 5.0, 4.0, 3.0, 2.0, 1.0, -9.8108, -9.1078, -9.1078, -9.8108, -8.7121, -9.8108, -9.1078, -7.8649, -9.8108, -9.1078, -9.8108, -9.8108, -9.8108, -9.1078, -8.4186, -9.8108, -9.1078, -8.4146, -9.1078, -9.1078, -9.1078, -8.4186, -8.7933, -9.8108, -8.2536, -7.7215, -9.1078, -9.1078, -8.0091, -7.7215, -5.9189, -6.0972, -6.7099, -6.7367, -6.7853, -7.155, -7.155, -7.155, -7.2358, -7.2566, -7.316, -7.316, -7.316, -7.4983, -7.5605, -7.7215, -7.7215, -7.7215, -7.7215, -7.7215, -7.8482, -7.8482, -7.8482, -7.8482, -7.8482, -7.8482, -7.8482, -7.8482, -7.412, -5.2514, -6.7034, -6.1201, -6.7499, -6.2913, -6.8202, -6.7391, -6.5193, -6.6317, -6.9261, -7.0994, -6.7895, -7.0756, -7.2817, -6.1128, -6.2893, -7.0068, -6.5147, -5.3924, -5.1184, -6.2734, -5.9884, -6.512, -6.7428, -6.0155, -6.5384, -6.6406, -6.6354, -6.3925, -6.3952, -6.0435, -6.1331, -6.3177, -6.2215, -6.1337, -5.9436, -6.0552, -6.479, -6.3807, -6.4594, -6.2595, -6.1971, -6.2764, -6.1115, -6.2935, -6.3471, -6.4066, -6.3282, -7.3089, -8.002, -6.6157, -7.3089, -7.3089, -8.002, -8.002, -8.002, -8.002, -7.3089, -8.002, -7.3089, -8.002, -8.002, -8.002, -8.002, -8.002, -8.002, -7.3089, -8.002, -8.002, -8.002, -8.002, -8.002, -8.002, -8.002, -8.002, -6.6157, -8.002, -8.002, -5.0576, -5.5057, -5.8596, -5.9612, -6.2103, -6.5375, -6.6844, -6.9034, -6.9721, -7.0642, -7.3089, -7.3089, -7.3089, -7.3089, -7.3731, -7.3775, -7.3775, -7.3775, -6.9379, -5.4054, -6.864, -7.7774, -6.0621, -6.5216, -6.3819, -6.2197, -5.3948, -5.001, -7.0606, -5.9377, -5.6279, -6.4287, -4.6031, -5.4087, -6.1247, -4.9937, -5.7563, -5.5895, -6.1321, -6.2127, -6.4807, -5.6638, -5.7484, -5.4543, -5.4936, -5.925, -6.0439, -5.7412, -5.7094, -6.1117, -5.6351, -5.7135, -5.501, -5.4533, -5.965, -5.7993, -5.6686, -5.9919, -5.9672, -5.9007, -8.4294, -7.7363, -8.4294, -7.7363, -5.7904, -8.4294, -8.4294, -8.4294, -8.4294, -8.4294, -8.4294, -7.3308, -8.4294, -7.3308, -7.7363, -8.4294, -8.4294, -8.4294, -8.4294, -8.4294, -8.4294, -8.4294, -7.7363, -8.4294, -8.4294, -6.2322, -6.4835, -6.35, -8.4294, -8.4294, -5.4107, -5.6069, -5.918, -5.9683, -6.0315, -6.35, -6.4835, -6.6377, -6.82, -6.82, -6.82, -6.9037, -6.9525, -7.0431, -7.0431, -7.0431, -7.0431, -7.0431, -7.0431, -7.3308, -7.3308, -7.3308, -6.3341, -5.7596, -5.6698, -5.8451, -5.546, -6.5856, -6.0619, -5.6216, -5.5103, -5.9514, -6.0055, -5.7707, -5.2707, -4.8937, -6.3496, -6.0526, -5.6451, -6.4347, -5.0653, -4.7977, -5.8723, -5.9721, -5.7967, -4.917, -5.8086, -6.0882, -5.9625, -5.8308, -5.9615, -6.0414, -8.004, -6.9054, -8.004, -8.004, -8.004, -8.004, -8.004, -8.004, -7.3109, -8.004, -4.6891, -8.004, -8.004, -7.3109, -8.004, -8.004, -8.004, -6.9054, -7.3109, -8.004, -8.004, -8.004, -6.9054, -8.004, -7.3109, -8.004, -8.004, -8.004, -8.004, -8.004, -6.2173, -7.3109, -5.0843, -5.6878, -7.1527, -7.1527, -6.0182, -4.1469, -6.8684, -6.8684, -6.8684, -6.8684, -5.6404, -6.4835, -5.1746, -6.9537, -6.9088, -7.4004, -7.0119, -7.5615, -7.5615, -7.5615, -4.1767, -6.5572, -5.4323, -5.7585, -5.0704, -5.9622, -4.8754, -6.6243, -6.1188, -6.3676, -4.9106, -5.5715, -5.356, -4.5018, -4.9924, -4.694, -5.4373, -5.1841, -6.386, -6.3838, -6.3485, -5.684, -5.4982, -5.2943, -6.015, -5.7835, -5.9153, -5.2211, -5.4761, -5.6765, -5.4243, -5.7335, -5.8729, -6.8302, -6.8302, -5.4335, -6.5531, -7.3769, -7.1272, -7.1272, -6.434, -6.434, -7.1272, -7.1272, -7.1272, -7.1272, -6.434, -5.7177, -7.1272, -7.1272, -6.9927, -8.0913, -8.0913, -8.0913, -8.0913, -8.0913, -8.0913, -8.0913, -8.0913, -8.0913, -8.0913, -8.0913, -7.2116, -6.7862, -6.7862, -7.1917, -7.1917, -7.1917, -7.1917, -5.4778, -4.7312, -6.899, -5.9262, -6.5265, -4.6045, -4.4443, -4.9598, -3.7173, -4.7111, -5.9881, -5.5401, -4.7626, -5.2507, -6.2026, -6.3791, -5.6807, -4.8191, -5.6, -5.974, -5.1692, -5.4276, -4.8086, -5.5233, -5.4495, -5.605, -5.5903, -4.8656, -5.5461, -5.015, -5.8718, -5.4297, -5.7223, -5.5004, -5.4588, -5.5444, -5.3791, -5.5391, -5.6119, -7.0467, -7.3171, -6.5471, -6.6019, -5.9069, -7.0467, -5.9162, -5.8905, -6.0504, -6.6019, -7.3171, -6.8239, -7.0467, -6.4562, -5.9933, -6.4952, -7.3171, -7.3171, -6.059, -7.6797, -7.6797, -7.6797, -7.6797, -7.6797, -6.9865, -7.6797, -7.6797, -7.6797, -7.6797, -7.6797, -3.4685, -5.8421, -6.5811, -6.5641, -6.4971, -6.4971, -6.4494, -6.9865, -6.9865, -6.9865, -6.9865, -6.9865, -6.9865, -6.9865, -6.9865, -6.9865, -6.5269, -5.1197, -6.6465, -6.2982, -6.8391, -5.6172, -6.6505, -5.1836, -6.3412, -6.792, -4.9919, -6.3908, -5.2148, -5.6298, -5.4424, -5.9999, -6.0606, -6.3161, -5.54, -5.5112, -5.9407, -5.6453, -6.1397, -6.2418, -5.8956, -5.6882, -5.9686, -6.0479, -6.0222, -6.2141, -6.1422, -6.1552, -6.1322, -6.1504, -7.6752, -7.6752, -7.6752, -7.6752, -7.6752, -7.6752, -7.6752, -6.9821, -7.6752, -7.6752, -7.6752, -7.6752, -7.6752, -7.6752, -7.6752, -5.1903, -7.6752, -7.6752, -7.6752, -7.6752, -7.6752, -7.6752, -7.6752, -7.6752, -7.6752, -7.6752, -7.6752, -7.6752, -7.6752, -7.6752, -4.4129, -5.8085, -6.2889, -6.5766, -6.6363, -6.9821, -7.3295, -7.3295, -7.3295, -7.3295, -7.3295, -7.3295, -7.3295, -7.3295, -7.3295, -7.3295, -7.3295, -7.3295, -5.5854, -5.6047, -3.4159, -3.7403, -5.4725, -6.0441, -6.389, -6.8998, -5.8464, -7.3152, -5.1207, -5.8546, -5.8213, -6.3228, -5.9149, -5.0011, -5.2671, -7.0648, -6.8662, -6.8662, -6.8662, -5.6519, -4.4523, -4.6176, -5.391, -4.3316, -5.4878, -4.6477, -6.4644, -5.6556, -5.9271, -5.2379, -5.5063, -5.5412, -5.5019, -5.5626, -5.6159, -5.5864, -5.6802, -5.5105, -5.7555, -5.7471, -7.2031, -7.2031, -5.2572, -7.2031, -7.2031, -7.2212, -7.2031, -7.2031, -7.2212, -7.2031, -7.2031, -7.2031, -7.2031, -7.2031, -7.2031, -6.1045, -5.8168, -6.1045, -7.2031, -7.2031, -7.2031, -7.2031, -7.2031, -7.2031, -7.2031, -7.2031, -6.1045, -7.2031, -7.2031, -7.2031, -6.5099, -6.5099, -3.6476, -4.6146, -5.0653, -5.4053, -5.7597, -6.2636, -6.0988, -4.3634, -5.3452, -5.6875, -6.9742, -6.1957, -5.9218, -5.6838, -4.3257, -5.9051, -6.8526, -4.4966, -6.1027, -5.1467, -5.7049, -5.8331, -6.2047, -5.505, -6.0311, -5.2433, -5.2192, -5.5374, -5.1418, -5.0238, -5.1952, -5.7549, -5.3826, -5.3054, -5.6503, -5.8181, -5.7713, -5.6224, -5.7003, -5.5947, -5.6733, -5.7029, -5.7308, -5.7371, -5.7181, -6.7613, -6.7613, -6.7613, -6.7613, -6.7613, -6.7613, -6.7613, -6.7613, -5.375, -6.7613, -6.0682, -6.0682, -6.0682, -6.0682, -3.7661, -6.0931, -4.3513, -6.7221, -6.7221, -6.7221, -6.7221, -6.7221, -6.7221, -6.7221, -6.7221, -6.7221, -6.029, -6.7221, -6.7221, -6.029, -4.919, -4.683, -5.9833, -5.9833, -3.765, -4.8205, -5.194, -5.0292, -4.7633, -4.1718, -4.9331, -6.1766, -5.3351, -6.1009, -5.1282, -6.2199, -5.7432, -5.0501, -4.6008, -4.0887, -4.0497, -4.8675, -4.6738, -4.1797, -5.4343, -5.3053, -5.7681, -5.0507, -5.277, -5.7661, -5.3216, -5.1491, -5.3209, -5.3916, -5.6102, -5.4538, -4.9242, -5.4897, -6.1829, -6.1829, -6.5883, -6.5883, -7.2815, -7.2815, -7.2815, -7.2815, -7.2815, -7.2815, -6.5883, -7.2815, -7.2815, -5.8952, -5.887, -6.7344, -6.8626, -6.8626, -6.8626, -6.8626, -6.8626, -6.8626, -6.8626, -6.8626, -6.8626, -6.8626, -6.8626, -6.8626, -5.9379, -5.4917, -5.8535, -5.5457, -3.9854, -5.4806, -4.9208, -4.645, -6.6762, -5.3447, -6.267, -6.3138, -4.7319, -6.0142, -5.8401, -6.3895, -5.7321, -4.5157, -5.4391, -5.8152, -5.7301, -5.3926, -5.0958, -4.6296, -4.6887, -5.5914, -5.4963, -5.1426, -5.236, -4.7955, -4.9964, -5.0073, -5.3027, -5.6249, -5.563, -5.4972, -5.6891, -5.5739, -5.7177, -6.2707, -4.5608, -7.4207, -7.2186, -7.9118, -7.9118, -6.5255, -7.4207, -7.4207, -7.4207, -7.9118, -7.9118, -4.7337, -7.9118, -7.9118, -7.9118, -6.5255, -7.9118, -7.4207, -7.9118, -7.4207, -7.4207, -7.4207, -7.9118, -6.8132, -7.4207, -7.4207, -7.9118, -7.9118, -7.9118, -5.2037, -5.2727, -5.5139, -6.0344, -6.3023, -6.2646, -5.9199, -6.7276, -6.8132, -6.8132, -6.8132, -7.2186, -6.0521, -3.5085, -5.6643, -5.7368, -7.0648, -7.0648, -7.0648, -7.0648, -7.0648, -4.9743, -6.3868, -4.5413, -4.6984, -4.9485, -6.458, -5.6089, -5.3023, -5.3998, -4.3127, -5.1682, -5.3183, -5.6665, -5.7572, -5.9606, -5.3356, -5.2408, -5.3431, -5.0922, -5.6195, -5.1705, -4.5744, -5.2171, -5.2437, -5.3727, -5.1615, -5.2018, -5.1988, -5.4439, -5.4393, -5.46, -5.459, -6.7249, -6.7249, -6.7249, -6.7249, -6.7249, -5.2403, -6.7249, -6.0318, -6.7249, -5.6962, -6.7249, -6.7249, -6.7249, -6.7249, -6.7249, -5.6263, -6.7249, -5.8272, -5.8272, -5.8272, -5.8272, -6.9258, -6.9258, -6.2326, -6.9258, -6.9258, -6.9258, -6.9258, -6.9258, -6.2326, -3.2601, -4.0674, -6.2326, -6.2326, -5.8931, -5.7482, -4.29, -4.9411, -5.8394, -4.7328, -5.2541, -5.4023, -5.2644, -5.5029, -5.2631, -5.417, -5.7042, -4.6334, -5.6921, -5.4128, -4.5327, -4.2895, -5.2428, -5.3771, -5.4308, -5.2653, -5.3765, -5.2682, -5.7098, -5.4941, -5.6473, -5.5759, -5.546, -6.4614, -7.0272, -7.0272, -5.1628, -6.4614, -6.4614, -7.0272, -7.0272, -6.4614, -7.0272, -5.4062, -6.4614, -7.0272, -6.4614, -6.4614, -6.4614, -6.0994, -6.0994, -6.0994, -6.4614, -3.9313, -6.334, -6.334, -7.0272, -6.015, -4.94, -7.1119, -5.9077, -5.8615, -6.5512, -3.4424, -4.1215, -4.4724, -4.5199, -5.3707, -4.6685, -5.8658, -4.5206, -5.1381, -4.5076, -5.145, -5.5013, -5.3411, -3.9386, -4.7706, -4.9106, -5.3393, -5.1119, -4.1717, -5.8814, -5.6449, -5.0339, -5.0936, -4.5995, -5.5604, -5.0317, -5.2635, -5.2512, -5.2364, -5.506, -7.8019, -7.8019, -7.8019, -7.8019, -7.8019, -7.8019, -7.8019, -6.7032, -7.1087, -7.8019, -7.1087, -7.8019, -7.8019, -7.8019, -7.8019, -7.8019, -7.8019, -7.8019, -7.8019, -7.1087, -7.8019, -7.8019, -7.8019, -7.8019, -7.8019, -7.8019, -7.8019, -7.1087, -7.1087, -7.8019, -4.1643, -5.4993, -6.1924, -2.7388, -6.7032, -6.2162, -3.7718, -6.2828, -4.8173, -4.4378, -6.605, -6.605, -6.605, -6.605, -6.605, -6.605, -6.605, -5.1993, -4.5891, -5.0914, -6.0147, -4.3694, -6.5531, -5.2559, -5.6133, -4.9135, -5.9401, -5.8383, -5.8642, -4.9219, -5.2821, -4.4494, -4.4894, -5.6635, -5.2803, -6.0465, -5.0979, -5.9512, -5.9293, -4.4559, -5.4066, -5.6766, -5.048, -5.2796, -5.6111, -5.6018, -5.2903, -5.4215, -5.6236, -5.5634, -5.6334, -7.0347, -7.0347, -5.9361, -7.0347, -7.0347, -7.0347, -7.0347, -7.0347, -7.0347, -7.0347, -7.0347, -7.0347, -7.0347, -7.0347, -6.3415, -7.0347, -7.0347, -5.9361, -5.9361, -7.0347, -4.5575, -5.9361, -7.0347, -2.7981, -6.3389, -6.3389, -6.3389, -6.3389, -5.2403, -6.3389, -4.7891, -5.6458, -3.906, -4.4134, -6.3389, -6.3389, -6.3389, -6.3389, -6.3389, -6.3389, -6.3389, -6.3389, -6.3389, -6.3389, -6.3389, -4.3874, -5.3316, -5.738, -5.2151, -6.0265, -5.4069, -5.8066, -4.548, -5.1127, -4.0288, -5.3361, -5.0586, -5.2149, -5.5612, -5.1873, -5.2512, -5.3672, -5.2551, -5.5057, -5.5489, -5.1224, -5.0999, -5.6128, -5.457, -5.5308, -5.5373, -5.5219, -5.5766], \"loglift\": [30.0, 29.0, 28.0, 27.0, 26.0, 25.0, 24.0, 23.0, 22.0, 21.0, 20.0, 19.0, 18.0, 17.0, 16.0, 15.0, 14.0, 13.0, 12.0, 11.0, 10.0, 9.0, 8.0, 7.0, 6.0, 5.0, 4.0, 3.0, 2.0, 1.0, 1.8547, 1.8547, 1.8547, 1.8547, 1.8547, 1.8547, 1.8547, 1.8547, 1.8547, 1.8547, 1.8547, 1.8547, 1.8547, 1.8547, 1.8547, 1.8547, 1.8547, 1.8547, 1.8547, 1.8547, 1.8547, 1.8547, 1.8547, 1.8547, 1.8547, 1.8547, 1.8547, 1.8547, 1.8547, 1.8547, 1.8547, 1.8547, 1.8547, 1.8547, 1.8547, 1.8547, 1.8547, 1.8547, 1.8547, 1.8547, 1.8547, 1.8547, 1.8547, 1.8547, 1.8547, 1.8547, 1.8547, 1.8547, 1.8547, 1.8547, 1.8547, 1.8547, 1.8547, 1.8547, 1.8547, 1.8547, 1.8547, 1.8547, 1.8468, 1.7653, 1.8128, 1.7769, 1.8084, 1.7706, 1.7933, 1.7769, 1.7563, 1.7452, 1.7728, 1.7821, 1.743, 1.7769, 1.7962, 1.62, 1.632, 1.7551, 1.6393, 1.3157, 1.2336, 1.4316, 1.214, 1.4675, 1.5744, 1.134, 1.4413, 1.4938, 1.4773, 1.2873, 1.2829, 0.9266, 0.991, 1.1615, 0.9842, 0.7623, 0.2879, 0.4123, 1.2576, 1.0229, 1.1783, 0.621, 0.1542, 0.4437, -0.3675, 0.1694, 0.4964, 0.8039, 0.142, 2.2877, 2.2877, 2.2877, 2.2877, 2.2877, 2.2877, 2.2877, 2.2877, 2.2877, 2.2877, 2.2877, 2.2877, 2.2877, 2.2877, 2.2877, 2.2877, 2.2877, 2.2877, 2.2877, 2.2877, 2.2877, 2.2877, 2.2877, 2.2877, 2.2877, 2.2877, 2.2877, 2.2877, 2.2877, 2.2877, 2.2877, 2.2877, 2.2877, 2.2877, 2.2877, 2.2877, 2.2877, 2.2877, 2.2877, 2.2858, 2.2877, 2.2877, 2.2877, 2.2877, 2.2877, 2.2877, 2.2877, 2.2877, 2.2828, 2.2662, 2.2809, 2.2877, 2.2666, 2.2666, 2.2529, 2.241, 2.1745, 2.1489, 2.2666, 2.1462, 2.1096, 2.1959, 1.9489, 2.0401, 2.1214, 1.9522, 2.0607, 1.9723, 2.0789, 2.0058, 2.0927, 1.732, 1.712, 1.5308, 1.4948, 1.762, 1.8238, 1.5363, 1.5012, 1.8407, 1.281, 1.2737, 0.6055, 0.2906, 1.4386, 0.8464, 0.1556, 1.5151, 1.3168, 0.3526, 2.3821, 2.3821, 2.3821, 2.3821, 2.3821, 2.3821, 2.3821, 2.3821, 2.3821, 2.3821, 2.3821, 2.3821, 2.3821, 2.3821, 2.3821, 2.3821, 2.3821, 2.3821, 2.3821, 2.3821, 2.3821, 2.3821, 2.3821, 2.3821, 2.3821, 2.3821, 2.3821, 2.3821, 2.3821, 2.3821, 2.3821, 2.3821, 2.3821, 2.3821, 2.3821, 2.3821, 2.3821, 2.3821, 2.3821, 2.3821, 2.3821, 2.3821, 2.3821, 2.3821, 2.3821, 2.3821, 2.3821, 2.3821, 2.3821, 2.3821, 2.3821, 2.3821, 2.3643, 2.3131, 2.3041, 2.2805, 2.2157, 2.3107, 2.2537, 2.2021, 2.1802, 2.2265, 2.2265, 2.162, 2.0623, 1.9344, 2.2537, 2.1504, 2.0015, 2.2446, 1.7064, 1.597, 1.9865, 2.0323, 1.8537, 1.1535, 1.7082, 2.0465, 1.8403, 1.455, 0.8689, -0.2975, 2.4381, 2.4381, 2.4381, 2.4381, 2.4381, 2.4381, 2.4381, 2.4381, 2.4381, 2.4381, 2.4381, 2.4381, 2.4381, 2.4381, 2.4381, 2.4381, 2.4381, 2.4381, 2.4381, 2.4381, 2.4381, 2.4381, 2.4381, 2.4381, 2.4381, 2.4381, 2.4381, 2.4381, 2.4381, 2.4381, 2.4327, 2.4381, 2.4107, 2.4164, 2.431, 2.431, 2.4166, 2.359, 2.4111, 2.4111, 2.4111, 2.4111, 2.3596, 2.3876, 2.3056, 2.3878, 2.375, 2.4048, 2.3761, 2.4111, 2.4111, 2.4111, 2.1722, 2.3416, 2.2521, 2.2553, 2.1667, 2.2576, 2.0835, 2.3264, 2.2334, 2.2576, 1.9226, 2.0698, 1.9521, 1.7084, 1.8361, 1.7266, 1.8747, 1.7735, 2.2194, 2.2171, 2.1974, 1.8972, 1.7134, 1.5494, 1.9749, 1.7188, 1.7421, 0.8494, 1.0523, 1.3579, 0.3196, 1.1314, 0.3804, 2.4521, 2.4521, 2.4521, 2.4521, 2.4521, 2.4521, 2.4521, 2.4521, 2.4521, 2.4521, 2.4521, 2.4521, 2.4521, 2.4521, 2.4521, 2.4521, 2.4521, 2.4513, 2.4513, 2.4513, 2.4513, 2.4513, 2.4513, 2.4513, 2.4513, 2.4513, 2.4513, 2.4513, 2.4513, 2.4465, 2.4443, 2.4443, 2.4443, 2.4443, 2.4443, 2.4443, 2.4136, 2.3646, 2.4241, 2.3739, 2.3893, 2.2319, 2.1769, 2.2064, 2.0559, 2.0578, 2.2642, 2.1806, 2.0259, 2.113, 2.255, 2.2825, 2.1152, 1.8937, 2.0542, 2.1211, 1.8492, 1.9218, 1.6616, 1.9316, 1.896, 1.9525, 1.9043, 1.2798, 1.6857, 1.1952, 1.9368, 1.4353, 1.7306, 1.4156, 1.1899, 1.284, 0.3648, 0.9469, 1.2214, 2.5167, 2.5167, 2.5167, 2.5167, 2.5167, 2.5167, 2.5167, 2.5167, 2.5167, 2.5167, 2.5167, 2.5167, 2.5167, 2.5167, 2.5167, 2.5167, 2.5167, 2.5167, 2.5167, 2.5165, 2.5165, 2.5165, 2.5165, 2.5165, 2.5165, 2.5165, 2.5165, 2.5165, 2.5165, 2.5165, 2.5144, 2.5131, 2.5165, 2.5151, 2.5134, 2.5134, 2.5127, 2.5165, 2.5165, 2.5165, 2.5165, 2.5165, 2.5165, 2.5165, 2.5165, 2.5165, 2.5111, 2.4814, 2.5122, 2.5036, 2.5133, 2.4689, 2.5025, 2.416, 2.4797, 2.5006, 2.3333, 2.4585, 2.2251, 2.2962, 2.187, 2.2926, 2.2962, 2.3368, 1.8311, 1.6912, 2.0154, 1.3787, 1.9808, 2.0073, 1.2697, 0.6639, 0.7991, 0.6601, -0.2782, 1.4275, 0.5194, 0.5649, 0.0993, 0.2702, 2.7961, 2.7961, 2.7961, 2.7961, 2.7961, 2.7961, 2.7961, 2.7961, 2.7961, 2.7961, 2.7961, 2.7961, 2.7961, 2.7961, 2.7961, 2.7961, 2.7961, 2.7961, 2.7961, 2.7961, 2.7961, 2.7961, 2.7961, 2.7961, 2.7961, 2.7961, 2.7961, 2.7961, 2.7961, 2.7961, 2.7921, 2.7961, 2.7961, 2.7961, 2.7961, 2.7961, 2.7961, 2.7961, 2.7961, 2.7961, 2.7961, 2.7961, 2.7961, 2.7961, 2.7961, 2.7961, 2.7961, 2.7961, 2.773, 2.7695, 2.7105, 2.6953, 2.7284, 2.7418, 2.7517, 2.7517, 2.6788, 2.7697, 2.5656, 2.6337, 2.5758, 2.6498, 2.5588, 2.1782, 2.2, 2.7058, 2.6337, 2.6337, 2.6337, 2.1661, 1.6931, 1.6658, 1.9771, 1.4925, 2.0014, 1.4587, 2.4471, 1.8753, 2.0656, 1.5644, 1.5281, 1.4177, 1.1468, 1.1501, 1.1558, 1.0592, 1.2656, 0.2334, 1.5, 0.7907, 2.9484, 2.9484, 2.9484, 2.9484, 2.9484, 2.9484, 2.9484, 2.9484, 2.9484, 2.9484, 2.9484, 2.9484, 2.9484, 2.9484, 2.9484, 2.9484, 2.9484, 2.9484, 2.9484, 2.9484, 2.9484, 2.9484, 2.9484, 2.9484, 2.9484, 2.9484, 2.9484, 2.9484, 2.9484, 2.9484, 2.9484, 2.9484, 2.8923, 2.8903, 2.9035, 2.9008, 2.8979, 2.9074, 2.8903, 2.7694, 2.822, 2.8049, 2.9252, 2.8351, 2.7823, 2.7471, 2.5046, 2.7287, 2.8903, 2.3313, 2.691, 2.4466, 2.5448, 2.5408, 2.6494, 2.3986, 2.5736, 2.2359, 2.0885, 2.2676, 1.8529, 1.6219, 1.7932, 2.2405, 1.6966, 1.1806, 1.937, 2.2114, 2.0358, 1.2746, 1.6518, 0.6586, 0.8552, 0.4424, 0.6205, 1.0369, 2.9669, 2.9669, 2.9669, 2.9669, 2.9669, 2.9669, 2.9669, 2.9669, 2.9669, 2.9669, 2.9669, 2.9669, 2.9669, 2.9669, 2.9669, 2.9669, 2.9669, 2.9669, 2.9652, 2.9652, 2.9652, 2.9652, 2.9652, 2.9652, 2.9652, 2.9652, 2.9652, 2.9652, 2.9652, 2.9652, 2.9652, 2.9447, 2.9277, 2.9539, 2.9539, 2.8813, 2.8724, 2.8913, 2.8798, 2.8489, 2.7921, 2.8426, 2.917, 2.8324, 2.8908, 2.7141, 2.8842, 2.8031, 2.6666, 2.5639, 2.4498, 2.345, 2.4981, 2.2481, 1.6445, 2.4943, 2.3811, 2.7331, 2.0852, 2.2573, 2.7225, 2.1951, 1.8937, 2.1232, 1.9429, 2.2334, 1.0091, 3.0655, 3.0617, 3.0617, 3.0617, 3.0617, 3.0617, 3.0617, 3.0617, 3.0617, 3.0617, 3.0617, 3.0617, 3.0617, 3.0617, 3.0617, 3.0617, 3.0501, 3.0037, 2.9824, 2.9824, 2.9824, 2.9824, 2.9824, 2.9824, 2.9824, 2.9824, 2.9824, 2.9824, 2.9824, 2.9824, 2.9489, 2.9282, 2.8983, 2.8384, 2.642, 2.7965, 2.7128, 2.5718, 2.9428, 2.6418, 2.8501, 2.8327, 2.3748, 2.6969, 2.6315, 2.8162, 2.5252, 2.0128, 2.3758, 2.5335, 2.477, 2.2559, 2.0879, 1.6538, 1.6203, 2.2816, 2.1573, 1.6313, 1.6741, 0.9485, 1.2569, 1.0991, 1.6041, 1.8964, 1.3914, 0.9889, 2.002, 1.2283, 1.4209, 3.1258, 3.1258, 3.1258, 3.1258, 3.1258, 3.1258, 3.1258, 3.1258, 3.1258, 3.1258, 3.1258, 3.1258, 3.1258, 3.1258, 3.1258, 3.1258, 3.1258, 3.1258, 3.1258, 3.1258, 3.1258, 3.1258, 3.1258, 3.1258, 3.1258, 3.1258, 3.1258, 3.1258, 3.1258, 3.1258, 3.1258, 3.1258, 3.1258, 3.1258, 3.1258, 3.124, 3.1187, 3.1258, 3.1258, 3.1258, 3.1258, 3.1258, 3.1136, 3.0342, 3.0875, 3.0517, 3.1059, 3.1059, 3.1059, 3.1059, 3.1059, 2.9506, 3.051, 2.8914, 2.6572, 2.6914, 2.9727, 2.7359, 2.6373, 2.5604, 1.9963, 2.3542, 2.4232, 2.5636, 2.5739, 2.6843, 2.2359, 2.1426, 2.2057, 1.9506, 2.397, 1.9086, 1.1988, 1.8585, 1.8777, 1.907, 1.377, 1.4439, 1.3297, 1.8907, 1.4974, 1.3996, 1.0084, 3.215, 3.215, 3.215, 3.215, 3.215, 3.215, 3.215, 3.215, 3.215, 3.215, 3.215, 3.215, 3.215, 3.215, 3.215, 3.215, 3.215, 3.2109, 3.2109, 3.2109, 3.2109, 3.2109, 3.2109, 3.2109, 3.2109, 3.2109, 3.2109, 3.2109, 3.2109, 3.2109, 3.2063, 3.2066, 3.2109, 3.2109, 3.2075, 3.1905, 3.1561, 3.1672, 3.1858, 3.1336, 3.1423, 3.1455, 3.0226, 3.033, 2.9649, 2.9299, 2.9801, 2.7167, 2.9586, 2.8348, 2.4524, 2.1734, 2.6799, 2.6936, 2.7096, 1.9404, 2.1018, 1.8015, 2.8403, 2.076, 2.3688, 1.4564, 0.8053, 3.2733, 3.2733, 3.2733, 3.2733, 3.2733, 3.2733, 3.2733, 3.2733, 3.2733, 3.2733, 3.2733, 3.2733, 3.2733, 3.2733, 3.2733, 3.2733, 3.2733, 3.2733, 3.2733, 3.2733, 3.2733, 3.2733, 3.2733, 3.2733, 3.2671, 3.2354, 3.2133, 3.1882, 3.1828, 3.1682, 3.1657, 3.1376, 3.072, 3.0567, 3.1216, 3.0238, 3.1205, 2.9364, 2.9174, 2.7725, 2.8813, 2.9476, 2.887, 2.1319, 2.4473, 2.4881, 2.6734, 2.4475, 1.6525, 2.9034, 2.7081, 2.1448, 2.1861, 1.507, 2.6111, 1.8423, 1.6583, 1.1001, 1.0168, 0.9642, 3.4146, 3.4146, 3.4146, 3.4146, 3.4146, 3.4146, 3.4146, 3.4146, 3.4146, 3.4146, 3.4146, 3.4146, 3.4146, 3.4146, 3.4146, 3.4146, 3.4146, 3.4146, 3.4146, 3.4146, 3.4146, 3.4146, 3.4146, 3.4146, 3.4146, 3.4146, 3.4146, 3.4146, 3.4146, 3.4146, 3.4146, 3.4146, 3.4146, 3.3793, 3.4146, 3.4052, 3.324, 3.3337, 3.2123, 3.1484, 3.324, 3.324, 3.324, 3.324, 3.324, 3.324, 3.324, 3.1088, 2.8853, 2.9466, 3.0016, 2.585, 3.1166, 2.7894, 2.8687, 2.6238, 2.9221, 2.8255, 2.8307, 2.3639, 2.5346, 2.0791, 1.9781, 2.7273, 2.386, 2.8307, 1.9777, 2.7312, 2.7029, 1.3173, 2.197, 2.4587, 1.7238, 1.7375, 2.259, 2.1419, 1.1799, 1.4066, 2.0297, 1.2961, 1.4458, 3.5373, 3.5373, 3.5373, 3.5373, 3.5373, 3.5373, 3.5373, 3.5373, 3.5373, 3.5373, 3.5373, 3.5373, 3.5373, 3.5373, 3.5373, 3.5373, 3.5373, 3.5373, 3.5373, 3.5373, 3.5373, 3.5373, 3.5373, 3.5367, 3.5035, 3.5035, 3.5035, 3.5035, 3.5035, 3.5035, 3.4965, 3.5035, 3.4587, 3.4587, 3.5035, 3.5035, 3.5035, 3.5035, 3.5035, 3.5035, 3.5035, 3.5035, 3.5035, 3.5035, 3.5035, 3.3413, 3.4065, 3.4369, 3.2327, 3.3979, 3.1714, 3.3091, 2.7993, 2.8801, 2.2546, 2.8793, 2.6077, 2.6018, 2.847, 2.4072, 2.4539, 2.4162, 2.1101, 2.4299, 2.3908, 1.3636, 1.1104, 2.4961, 1.4498, 1.4847, 1.3223, 1.1398, 1.7354]}, \"token.table\": {\"Topic\": [4, 2, 8, 11, 2, 12, 12, 1, 4, 1, 1, 7, 13, 4, 4, 5, 7, 10, 15, 5, 10, 6, 6, 6, 6, 4, 10, 2, 12, 15, 13, 11, 5, 4, 10, 11, 5, 4, 12, 5, 5, 2, 12, 7, 2, 2, 7, 2, 5, 2, 9, 9, 5, 14, 6, 2, 3, 3, 9, 4, 11, 9, 5, 7, 9, 13, 9, 9, 8, 7, 4, 5, 5, 4, 4, 3, 7, 9, 13, 9, 8, 5, 8, 14, 3, 15, 4, 3, 4, 13, 5, 11, 13, 10, 4, 1, 9, 14, 8, 9], \"Freq\": [0.7761088036676543, 1.0703596740846013, 1.163253039454851, 1.8307428948389832, 0.9078166071877085, 0.9078166071877085, 1.0807442586647513, 0.9368589092448328, 1.1679661747642232, 0.48199740189959706, 1.9973301675348416, 0.37702532759555596, 0.6226433505309928, 0.7880463638810666, 0.8842795254089907, 1.0879523443497077, 0.450018084557088, 0.450018084557088, 0.450018084557088, 0.9385549502169218, 0.6347911947092117, 0.9996890703163612, 1.430604864462373, 1.2754864975707165, 1.680713860779746, 1.0464380354054783, 1.1444258349466538, 1.443353329594622, 1.211742278001952, 1.3268911430347605, 1.1938494476316666, 1.166513534848216, 0.6308691934853252, 0.5161930545472747, 0.46168041380092023, 0.46168041380092023, 0.5424449167257909, 1.1242626041038157, 0.5385047670613806, 1.3255921486230566, 1.013971624008438, 1.8035642697027183, 1.4392988124057369, 0.7692846949486485, 1.3013968319026927, 0.5886745529959725, 1.0479730326218157, 0.2623851670975821, 0.7312860094819513, 0.8728454368166388, 0.705497274995377, 1.6968160186370125, 0.6913559464419281, 1.1443527132184805, 1.6782260211531288, 1.6280709598110101, 1.2854455535061866, 0.5030089533199031, 0.5030089533199031, 1.511490601481284, 1.4203247423960454, 0.6468647453200618, 0.39199830025569243, 0.39199830025569243, 1.6994565146699092, 1.5881426218320964, 0.5807955792246133, 1.2665315155537606, 1.0522571997654466, 1.13106992939382, 0.41826660460841986, 0.41826660460841986, 0.7457798856939315, 0.7798745583363306, 0.9609069009825875, 0.7758679776114948, 0.2843004335033429, 0.2843004335033429, 0.2843004335033429, 0.8887679055815048, 0.775660498505636, 0.7823245290867634, 1.5264839906431902, 1.6437522022856892, 0.7333574258857749, 0.9475330595531354, 0.883131807908424, 0.3637086707604145, 0.3637086707604145, 0.3637086707604145, 0.5403589569144456, 0.2701794784572228, 1.1305840001518053, 0.5750160693375066, 1.4892812710641496, 0.6881104751937975, 1.0862952968674835, 1.0140747478555925, 0.7776334580418219, 0.8521224632869915], \"Term\": [\"\\u0430\\u0434\\u0440\\u0435\\u0441\", \"\\u0430\\u043b\\u0433\\u043e\\u0440\\u0438\\u0442\\u043c\", \"\\u0430\\u043d\\u0438\\u043c\\u0430\\u0446\\u0438\\u044f\", \"\\u0430\\u043d\\u043d\\u043e\\u0442\\u0430\\u0446\\u0438\\u044f\", \"\\u0431\\u0440\\u0435\\u043d\\u0434\", \"\\u0431\\u0440\\u0435\\u043d\\u0434\", \"\\u0432\\u0430\\u043a\\u0430\\u043d\\u0441\\u0438\\u044f\", \"\\u0432\\u0438\\u0434\\u0435\\u043e\", \"\\u0432\\u044b\\u0434\\u0435\\u043b\\u044f\\u0442\\u044c\", \"\\u0433\\u043e\\u0434\", \"\\u0433\\u0440\\u0435\\u0439\\u0441\", \"\\u0434\\u0430\\u043d\\u043d\\u044b\\u0435\", \"\\u0434\\u0438\\u0441\\u043a\", \"\\u0434\\u043e\\u0441\\u0442\\u0443\\u043f\", \"\\u0434\\u043e\\u0441\\u0442\\u0443\\u043f\\u043d\\u043e\\u0441\\u0442\\u044c\", \"\\u0436\\u0443\\u0440\\u043d\\u0430\\u043b\", \"\\u0437\\u0430\\u043f\\u0440\\u043e\\u0441\", \"\\u0437\\u0430\\u043f\\u0440\\u043e\\u0441\", \"\\u0437\\u0430\\u043f\\u0440\\u043e\\u0441\", \"\\u0437\\u0430\\u043f\\u0443\\u0441\\u043a\\u0430\\u0442\\u044c\", \"\\u0437\\u043d\\u0430\\u0447\\u0435\\u043d\\u0438\\u0435\", \"\\u0438\\u0433\\u0440\\u0430\", \"\\u0438\\u0433\\u0440\\u0430\\u0442\\u044c\", \"\\u0438\\u0433\\u0440\\u043e\\u0432\\u043e\\u0439\", \"\\u0438\\u0433\\u0440\\u043e\\u043a\", \"\\u0438\\u043d\\u0441\\u0442\\u0430\\u043b\\u043b\\u044f\\u0446\\u0438\\u044f\", \"\\u0438\\u043d\\u0441\\u0442\\u0430\\u043d\\u0441\", \"\\u0438\\u043d\\u0442\\u0435\\u043b\\u043b\\u0435\\u043a\\u0442\", \"\\u043a\\u0430\\u043d\\u0434\\u0438\\u0434\\u0430\\u0442\", \"\\u043a\\u0435\\u0439\\u0441\", \"\\u043a\\u0435\\u0448\", \"\\u043a\\u043b\\u0430\\u0441\\u0441\", \"\\u043a\\u043b\\u0430\\u0441\\u0442\\u0435\\u0440\", \"\\u043a\\u043b\\u0438\\u0435\\u043d\\u0442\", \"\\u043a\\u043e\\u0434\", \"\\u043a\\u043e\\u0434\", \"\\u043a\\u043e\\u043c\\u0430\\u043d\\u0434\\u0430\", \"\\u043a\\u043e\\u043c\\u043c\\u0443\\u0442\\u0430\\u0442\\u043e\\u0440\", \"\\u043a\\u043e\\u043c\\u043f\\u0430\\u043d\\u0438\\u044f\", \"\\u043a\\u043e\\u043d\\u0442\\u0435\\u0439\\u043d\\u0435\\u0440\", \"\\u043a\\u043e\\u043d\\u0444\\u0438\\u0433\\u0443\\u0440\\u0430\\u0446\\u0438\\u043e\\u043d\\u043d\\u044b\\u0439\", \"\\u043b\\u0438\\u0434\\u0430\\u0440\", \"\\u043c\\u0430\\u0440\\u0442\", \"\\u043c\\u0435\\u0442\\u0440\\u0438\\u043a\\u0430\", \"\\u043c\\u0438\\u043a\\u0440\\u043e\\u0441\\u0442\\u0440\\u0443\\u043a\\u0442\\u0443\\u0440\\u0430\", \"\\u043c\\u043e\\u0434\\u0435\\u043b\\u044c\", \"\\u043c\\u043e\\u043d\\u0438\\u0442\\u043e\\u0440\\u0438\\u043d\\u0433\", \"\\u043c\\u043e\\u0447\\u044c\", \"\\u043d\\u0430\\u0441\\u0442\\u0440\\u043e\\u0439\\u043a\\u0430\", \"\\u043e\\u0431\\u0443\\u0447\\u0435\\u043d\\u0438\\u0435\", \"\\u043e\\u0437\\u0443\", \"\\u043e\\u0441\\u043d\\u0430\\u0449\\u0430\\u0442\\u044c\", \"\\u043e\\u0448\\u0438\\u0431\\u043a\\u0430\", \"\\u043f\\u0430\\u043a\\u0435\\u0442\", \"\\u043f\\u0435\\u0440\\u0441\\u043e\\u043d\\u0430\\u0436\", \"\\u043f\\u0438\\u0441\\u044c\\u043c\\u043e\", \"\\u043f\\u0438\\u0442\\u0430\\u043d\\u0438\\u0435\", \"\\u043f\\u043b\\u0430\\u0442\\u0430\", \"\\u043f\\u043b\\u0430\\u0442\\u0430\", \"\\u043f\\u043e\\u0434\\u0430\\u0432\\u043b\\u0435\\u043d\\u0438\\u0435\", \"\\u043f\\u043e\\u043b\\u0435\", \"\\u043f\\u043e\\u0440\\u0442\", \"\\u043f\\u0440\\u0438\\u043b\\u043e\\u0436\\u0435\\u043d\\u0438\\u0435\", \"\\u043f\\u0440\\u0438\\u043b\\u043e\\u0436\\u0435\\u043d\\u0438\\u0435\", \"\\u043f\\u0440\\u043e\\u0438\\u0437\\u0432\\u043e\\u0434\\u0438\\u0442\\u0435\\u043b\\u044c\", \"\\u043f\\u0440\\u043e\\u0444\\u0438\\u043b\\u044c\", \"\\u043f\\u0440\\u043e\\u0446\\u0435\\u0441\\u0441\\u043e\\u0440\", \"\\u0440\\u0430\\u0437\\u044a\\u0435\\u043c\", \"\\u0440\\u0435\\u0430\\u043a\\u0442\\u0438\\u0432\\u043d\\u044b\\u0439\", \"\\u0441\\u0431\\u043e\\u0440\", \"\\u0441\\u0435\\u0440\\u0432\\u0435\\u0440\", \"\\u0441\\u0435\\u0440\\u0432\\u0435\\u0440\", \"\\u0441\\u0435\\u0440\\u0442\\u0438\\u0444\\u0438\\u043a\\u0430\\u0442\", \"\\u0441\\u0435\\u0442\\u0435\\u0432\\u043e\\u0439\", \"\\u0441\\u0435\\u0442\\u044c\", \"\\u0441\\u0438\\u0433\\u043d\\u0430\\u043b\", \"\\u0441\\u0438\\u0441\\u0442\\u0435\\u043c\\u0430\", \"\\u0441\\u0438\\u0441\\u0442\\u0435\\u043c\\u0430\", \"\\u0441\\u0438\\u0441\\u0442\\u0435\\u043c\\u0430\", \"\\u0441\\u043b\\u043e\\u0442\", \"\\u0441\\u043e\\u0431\\u044b\\u0442\\u0438\\u0435\", \"\\u0441\\u043e\\u043e\\u0431\\u0449\\u0435\\u043d\\u0438\\u0435\", \"\\u0441\\u0442\\u0440\\u0438\\u043c\", \"\\u0441\\u0443\\u0431\\u0434\", \"\\u0441\\u0445\\u0435\\u043c\\u0430\", \"\\u0442\\u0435\\u0441\\u0442\", \"\\u0443\\u0440\\u043e\\u0432\\u0435\\u043d\\u044c\", \"\\u0443\\u0441\\u0442\\u0440\\u043e\\u0439\\u0441\\u0442\\u0432\\u043e\", \"\\u0443\\u0441\\u0442\\u0440\\u043e\\u0439\\u0441\\u0442\\u0432\\u043e\", \"\\u0443\\u0441\\u0442\\u0440\\u043e\\u0439\\u0441\\u0442\\u0432\\u043e\", \"\\u0444\\u0430\\u0439\\u043b\", \"\\u0444\\u0430\\u0439\\u043b\", \"\\u0444\\u0430\\u0439\\u043b\\u043e\\u0432\\u044b\\u0439\", \"\\u0444\\u0443\\u043d\\u043a\\u0446\\u0438\\u044f\", \"\\u0446\\u043e\\u0434\", \"\\u0447\\u0435\\u043b\\u043e\\u0432\\u0435\\u043a\", \"\\u0447\\u0438\\u043f\", \"\\u0448\\u0440\\u0438\\u0444\\u0442\", \"\\u044d\\u043b\\u0435\\u043c\\u0435\\u043d\\u0442\", \"\\u044f\\u0434\\u0440\\u043e\"]}, \"R\": 30, \"lambda.step\": 0.01, \"plot.opts\": {\"xlab\": \"PC1\", \"ylab\": \"PC2\"}, \"topic.order\": [9, 15, 7, 14, 6, 2, 4, 10, 3, 1, 5, 11, 12, 13, 8]};\n",
       "\n",
       "function LDAvis_load_lib(url, callback){\n",
       "  var s = document.createElement('script');\n",
       "  s.src = url;\n",
       "  s.async = true;\n",
       "  s.onreadystatechange = s.onload = callback;\n",
       "  s.onerror = function(){console.warn(\"failed to load library \" + url);};\n",
       "  document.getElementsByTagName(\"head\")[0].appendChild(s);\n",
       "}\n",
       "\n",
       "if(typeof(LDAvis) !== \"undefined\"){\n",
       "   // already loaded: just create the visualization\n",
       "   !function(LDAvis){\n",
       "       new LDAvis(\"#\" + \"ldavis_el1552026471621743683715483476\", ldavis_el1552026471621743683715483476_data);\n",
       "   }(LDAvis);\n",
       "}else if(typeof define === \"function\" && define.amd){\n",
       "   // require.js is available: use it to load d3/LDAvis\n",
       "   require.config({paths: {d3: \"https://d3js.org/d3.v5\"}});\n",
       "   require([\"d3\"], function(d3){\n",
       "      window.d3 = d3;\n",
       "      LDAvis_load_lib(\"https://cdn.jsdelivr.net/gh/bmabey/pyLDAvis@3.4.0/pyLDAvis/js/ldavis.v3.0.0.js\", function(){\n",
       "        new LDAvis(\"#\" + \"ldavis_el1552026471621743683715483476\", ldavis_el1552026471621743683715483476_data);\n",
       "      });\n",
       "    });\n",
       "}else{\n",
       "    // require.js not available: dynamically load d3 & LDAvis\n",
       "    LDAvis_load_lib(\"https://d3js.org/d3.v5.js\", function(){\n",
       "         LDAvis_load_lib(\"https://cdn.jsdelivr.net/gh/bmabey/pyLDAvis@3.4.0/pyLDAvis/js/ldavis.v3.0.0.js\", function(){\n",
       "                 new LDAvis(\"#\" + \"ldavis_el1552026471621743683715483476\", ldavis_el1552026471621743683715483476_data);\n",
       "            })\n",
       "         });\n",
       "}\n",
       "</script>"
      ],
      "text/plain": [
       "PreparedData(topic_coordinates=               x          y  topics  cluster       Freq\n",
       "topic                                                  \n",
       "8      22.619072  27.848270       1        1  15.649236\n",
       "14     30.058865   5.192907       2        1  10.149756\n",
       "6       3.575773   4.570863       3        1   9.236000\n",
       "13    -26.112082   0.765414       4        1   8.732271\n",
       "5       0.145933  22.868414       5        1   8.611644\n",
       "1      15.238860 -11.408847       6        1   8.072292\n",
       "3     -15.325409 -40.377522       7        1   6.104800\n",
       "9     -47.434860  -0.342854       8        1   5.242527\n",
       "2     -23.549902  19.521601       9        1   5.146342\n",
       "0     -31.786240 -23.232996      10        1   4.662997\n",
       "4       3.765083 -28.946161      11        1   4.390232\n",
       "10    -11.981615  41.351105      12        1   4.015700\n",
       "11    -10.221971 -11.694489      13        1   3.788036\n",
       "12     30.941132 -25.985489      14        1   3.288977\n",
       "7       8.550473 -58.291443      15        1   2.909188, topic_info=           Term      Freq     Total Category  logprob  loglift\n",
       "5615      пакет  2.000000  2.000000  Default  30.0000  30.0000\n",
       "2560       игра  3.000000  3.000000  Default  29.0000  29.0000\n",
       "9072       тест  2.000000  2.000000  Default  28.0000  28.0000\n",
       "3989    метрика  2.000000  2.000000  Default  27.0000  27.0000\n",
       "666    вакансия  1.000000  1.000000  Default  26.0000  26.0000\n",
       "...         ...       ...       ...      ...      ...      ...\n",
       "1606     давать  0.147729  1.191337  Topic15  -5.4570   1.4498\n",
       "8253  следующий  0.137215  1.068673  Topic15  -5.5308   1.4847\n",
       "1874  добавлять  0.136331  1.249007  Topic15  -5.5373   1.3223\n",
       "4850      новый  0.138444  1.522323  Topic15  -5.5219   1.1398\n",
       "4935     облако  0.131071  0.794455  Topic15  -5.5766   1.7354\n",
       "\n",
       "[1211 rows x 6 columns], token_table=       Topic      Freq       Term\n",
       "term                             \n",
       "76         4  0.776109      адрес\n",
       "120        2  1.070360   алгоритм\n",
       "183        8  1.163253   анимация\n",
       "192       11  1.830743  аннотация\n",
       "592        2  0.907817      бренд\n",
       "...      ...       ...        ...\n",
       "10022      1  0.688110    человек\n",
       "10059      9  1.086295        чип\n",
       "10188     14  1.014075      шрифт\n",
       "10311      8  0.777633    элемент\n",
       "10398      9  0.852122       ядро\n",
       "\n",
       "[100 rows x 3 columns], R=30, lambda_step=0.01, plot_opts={'xlab': 'PC1', 'ylab': 'PC2'}, topic_order=[9, 15, 7, 14, 6, 2, 4, 10, 3, 1, 5, 11, 12, 13, 8])"
      ]
     },
     "execution_count": 61,
     "metadata": {},
     "output_type": "execute_result"
    }
   ],
   "source": [
    "# визуализация модели NMF\n",
    "panel = pyLDAvis.sklearn.prepare(nmf_model, tfidf_matrix, tfidf_vectorizer, mds='tsne')\n",
    "panel"
   ]
  },
  {
   "cell_type": "code",
   "execution_count": 62,
   "id": "1ecbc81e",
   "metadata": {},
   "outputs": [
    {
     "data": {
      "image/png": "[encoded data removed]",
      "text/plain": [
       "<Figure size 640x480 with 2 Axes>"
      ]
     },
     "metadata": {},
     "output_type": "display_data"
    }
   ],
   "source": [
    "# визуализация модели LSA, к сожалению, через pyLDAvis невозможно вывести модель LSA\n",
    "plt.imshow(lsa_model.components_, cmap='viridis', interpolation='none')\n",
    "plt.colorbar()\n",
    "plt.xticks(range(15), ['Topic ' + str(i) for i in range(15)], rotation=90)\n",
    "plt.show()"
   ]
  },
  {
   "cell_type": "markdown",
   "id": "0cdb363d",
   "metadata": {},
   "source": [
    "1 - Архитекутра компьютера\n",
    "\n",
    "2 - Технологии медицины\n",
    "\n",
    "3 - GameDev\n",
    "\n",
    "4 - Бизнес решение\n",
    "\n",
    "5 - Интернет и связь\n",
    "\n",
    "6 - \n",
    "\n",
    "7 - Беспилотники\n",
    "\n",
    "8 -\n",
    "\n",
    "9 - Языки программирования\n",
    "\n",
    "10 - Сервера и ПО\n",
    "\n",
    "11 - Блогинг\n",
    "\n",
    "12 - Архитекутра компьютера\n",
    "\n",
    "13 - СУБД\n",
    "\n",
    "14 - Машинное обучение\n",
    "\n",
    "15 - Электроника\n",
    "\n",
    "сми"
   ]
  },
  {
   "cell_type": "code",
   "execution_count": 64,
   "id": "0b991832",
   "metadata": {},
   "outputs": [
    {
     "name": "stdout",
     "output_type": "stream",
     "text": [
      "7     ошибка, команда, мочь, проблема, файл, проверя...\n",
      "21    класс, объект, десериализация, поле, значение,...\n",
      "24    качество, звук, пакет, звонок, сигнал, мочь, р...\n",
      "27    приложение, клиент, вк, версия, писать, старый...\n",
      "28    приложение, станция, язык, поиск, программа, в...\n",
      "44    устройство, преобразователь, кабель, производс...\n",
      "47    метрика, приложение, мониторинг, сбор, собират...\n",
      "48    мониторинг, метрика, система, мочь, запрос, по...\n",
      "50    система, операционный, устройство, компьютер, ...\n",
      "52    коммутатор, выделять, инсталляция, клиент, сер...\n",
      "55    данные, база, инстанс, мочь, ресурс, использов...\n",
      "56    частота, устройство, точка, доступ, работать, ...\n",
      "59    код, проект, файл, работать, весь, вс, просто,...\n",
      "67    диск, данные, система, файловый, профиль, испо...\n",
      "78    система, метрика, мониторинг, приложение, данн...\n",
      "Name: keyword, dtype: object\n"
     ]
    }
   ],
   "source": [
    "print(dfHabr1.loc[dfHabr1['clustersAgglomerative'] == 0, 'keyword'])"
   ]
  },
  {
   "cell_type": "code",
   "execution_count": 65,
   "id": "ad4e0ed6",
   "metadata": {},
   "outputs": [
    {
     "name": "stdout",
     "output_type": "stream",
     "text": [
      "41    год, видео, вс, человек, весь, индустрия, брау...\n",
      "80    игра, играть, персонаж, весь, мочь, каждый, го...\n",
      "81    грейс, хоппер, год, е, первый, компьютер, рабо...\n",
      "83    игра, клиент, геймификация, игровой, приложени...\n",
      "Name: keyword, dtype: object\n"
     ]
    }
   ],
   "source": [
    "print(dfHabr1.loc[dfHabr1['clustersAgglomerative'] == 1, 'keyword'])"
   ]
  },
  {
   "cell_type": "code",
   "execution_count": 66,
   "id": "43cdbd4a",
   "metadata": {},
   "outputs": [
    {
     "name": "stdout",
     "output_type": "stream",
     "text": [
      "17    лидар, мочь, объект, автомобиль, система, бесп...\n",
      "68    ряд, средний, временный, данные, мочь, метод, ...\n",
      "Name: keyword, dtype: object\n"
     ]
    }
   ],
   "source": [
    "print(dfHabr1.loc[dfHabr1['clustersAgglomerative'] == 2, 'keyword'])"
   ]
  },
  {
   "cell_type": "code",
   "execution_count": 67,
   "id": "93efed26",
   "metadata": {},
   "outputs": [
    {
     "name": "stdout",
     "output_type": "stream",
     "text": [
      "87    сеть, доступность, мониторинг, время, мочь, се...\n",
      "Name: keyword, dtype: object\n"
     ]
    }
   ],
   "source": [
    "print(dfHabr1.loc[dfHabr1['clustersAgglomerative'] == 3, 'keyword'])"
   ]
  },
  {
   "cell_type": "code",
   "execution_count": 68,
   "id": "424f6ba8",
   "metadata": {},
   "outputs": [
    {
     "name": "stdout",
     "output_type": "stream",
     "text": [
      "0     алгоритм, информация, стеганография, контент, ...\n",
      "1     ребенок, геркон, игрушка, мочь, простой, конта...\n",
      "2     млн, продажа, год, квартал, пк, рынок, динамик...\n",
      "4     человек, год, вид, становиться, хуманизация, б...\n",
      "5     левин, игра, элизабет, студия, кен, человек, г...\n",
      "6     система, плата, гб, порт, разъем, озу, процесс...\n",
      "9     анимация, элемент, использовать, создавать, ко...\n",
      "10    имя, пространство, связь, анонимный, функция, ...\n",
      "11    движение, фаблаб, проект, делать, робот, мейке...\n",
      "12    тест, кейс, регрессионный, история, спринт, те...\n",
      "13    сварка, ультразвуковой, материал, наконечник, ...\n",
      "15    язык, использовать, отдел, платформенный, проб...\n",
      "18    окрестность, правило, клетка, сосед, радиус, п...\n",
      "19    класс, код, процессор, аннотация, создавать, и...\n",
      "20    облачный, мочь, виртуальный, использовать, раб...\n",
      "22    кластер, безопасность, доступ, пользователь, з...\n",
      "23    педаль, схема, батарейка, усилитель, транзисто...\n",
      "29    баня, щит, умный, банщик, управление, весь, ве...\n",
      "30    игра, мир, мочь, способ, оружие, часть, обзор,...\n",
      "31    гб, порт, система, озу, пк, устройство, процес...\n",
      "32    модель, микроструктура, изображение, обучение,...\n",
      "33    ия, мочь, письмо, интеллект, система, искусств...\n",
      "34    знание, курс, кластер, специалист, инфраструкт...\n",
      "35    облако, доклад, бизнес, безопасность, инфрастр...\n",
      "37    принцип, модуль, интерфейс, мочь, данные, клас...\n",
      "38    сервер, клиент, исследование, пользователь, ад...\n",
      "39    растение, звук, мочь, стресс, цветок, самый, и...\n",
      "40    сервер, вода, корпус, обогрев, мочь, бассейн, ...\n",
      "42    ия, модель, данные, обучение, услуга, например...\n",
      "43    кг, сша, спутник, россия, снимок, запуск, аппа...\n",
      "45    игра, игровой, индустрия, проект, продукт, игр...\n",
      "46    система, порт, процессор, озу, плата, оснащать...\n",
      "49    сертификат, клиент, мочь, брокер, настройка, а...\n",
      "51    запрос, отмена, мочь, асинхронный, контекст, п...\n",
      "53    видео, ия, создавать, мочь, изображение, техно...\n",
      "54    команда, навык, важный, мочь, работа, директор...\n",
      "57    запрос, тест, тесто, создавать, давать, ответ,...\n",
      "60    пакет, файл, проект, шрифт, сборка, папка, доб...\n",
      "61    бренд, модель, строка, разметка, выборка, метр...\n",
      "62    кеш, диск, работа, кэширование, устройство, да...\n",
      "63    игра, первый, часть, каждый, весь, мир, год, н...\n",
      "65    сеть, уровень, коммутатор, мочь, подавление, а...\n",
      "66    значение, мочь, функция, использовать, давать,...\n",
      "69    компания, кандидат, вакансия, решение, канал, ...\n",
      "70    год, нейросеть, обучение, андрей, карпаты, код...\n",
      "71    код, инфраструктура, использовать, инстанс, со...\n",
      "72    скра, мастер, команда, роль, менеджер, работа,...\n",
      "73    значение, запрос, данные, счетчик, состояние, ...\n",
      "74    сервер, приложение, код, проект, образ, часть,...\n",
      "75    центр, транстелеком, цод, казахстан, дата, нов...\n",
      "76    процессор, чип, архитектура, компания, инструк...\n",
      "77    плата, ноутбук, питание, замыкание, потреблени...\n",
      "82    класс, файл, память, константа, структура, инс...\n",
      "84    журнал, файл, данные, количество, база, размер...\n",
      "85    событие, метод, реализация, запускать, програм...\n",
      "86    плата, мочь, х, слот, коммутатор, карта, канал...\n",
      "88    файл, сообщение, создавать, статья, работа, на...\n",
      "89    устройство, весь, гараж, мочь, пользователь, с...\n",
      "90    вакансия, март, компания, карьера, весь, хабр,...\n",
      "Name: keyword, dtype: object\n"
     ]
    }
   ],
   "source": [
    "print(dfHabr1.loc[dfHabr1['clustersAgglomerative'] == 4, 'keyword'])"
   ]
  },
  {
   "cell_type": "code",
   "execution_count": 69,
   "id": "6ce22d50",
   "metadata": {},
   "outputs": [
    {
     "name": "stdout",
     "output_type": "stream",
     "text": [
      "64    парсер, функция, входной, использовать, данные...\n",
      "Name: keyword, dtype: object\n"
     ]
    }
   ],
   "source": [
    "print(dfHabr1.loc[dfHabr1['clustersAgglomerative'] == 5, 'keyword'])"
   ]
  },
  {
   "cell_type": "code",
   "execution_count": 70,
   "id": "d527e25c",
   "metadata": {},
   "outputs": [
    {
     "name": "stdout",
     "output_type": "stream",
     "text": [
      "79    работа, анимация, ролик, весь, самый, заказчик...\n",
      "Name: keyword, dtype: object\n"
     ]
    }
   ],
   "source": [
    "print(dfHabr1.loc[dfHabr1['clustersAgglomerative'] == 6, 'keyword'])"
   ]
  },
  {
   "cell_type": "code",
   "execution_count": 71,
   "id": "fbbf6524",
   "metadata": {},
   "outputs": [
    {
     "name": "stdout",
     "output_type": "stream",
     "text": [
      "3    дыра, чрной, событие, вселенная, горизонт, мат...\n",
      "Name: keyword, dtype: object\n"
     ]
    }
   ],
   "source": [
    "print(dfHabr1.loc[dfHabr1['clustersAgglomerative'] == 7, 'keyword'])"
   ]
  },
  {
   "cell_type": "code",
   "execution_count": 72,
   "id": "379133e5",
   "metadata": {},
   "outputs": [
    {
     "name": "stdout",
     "output_type": "stream",
     "text": [
      "36    пакет, функция, субд, команда, переменный, схе...\n",
      "Name: keyword, dtype: object\n"
     ]
    }
   ],
   "source": [
    "print(dfHabr1.loc[dfHabr1['clustersAgglomerative'] == 8, 'keyword'])"
   ]
  },
  {
   "cell_type": "code",
   "execution_count": 73,
   "id": "edcad6de",
   "metadata": {},
   "outputs": [
    {
     "name": "stdout",
     "output_type": "stream",
     "text": [
      "14    файл, конфигурационный, интерфейс, сетевой, на...\n",
      "Name: keyword, dtype: object\n"
     ]
    }
   ],
   "source": [
    "print(dfHabr1.loc[dfHabr1['clustersAgglomerative'] == 9, 'keyword'])"
   ]
  },
  {
   "cell_type": "code",
   "execution_count": 74,
   "id": "2c4dbf89",
   "metadata": {},
   "outputs": [
    {
     "name": "stdout",
     "output_type": "stream",
     "text": [
      "26    сигнал, схема, элемент, триггер, вход, логичес...\n",
      "Name: keyword, dtype: object\n"
     ]
    }
   ],
   "source": [
    "print(dfHabr1.loc[dfHabr1['clustersAgglomerative'] == 10, 'keyword'])"
   ]
  },
  {
   "cell_type": "code",
   "execution_count": 75,
   "id": "c9969a86",
   "metadata": {},
   "outputs": [
    {
     "name": "stdout",
     "output_type": "stream",
     "text": [
      "8    реактивный, стрим, оператор, поток, элемент, с...\n",
      "Name: keyword, dtype: object\n"
     ]
    }
   ],
   "source": [
    "print(dfHabr1.loc[dfHabr1['clustersAgglomerative'] == 11, 'keyword'])"
   ]
  },
  {
   "cell_type": "code",
   "execution_count": 76,
   "id": "8464d3c0",
   "metadata": {},
   "outputs": [
    {
     "name": "stdout",
     "output_type": "stream",
     "text": [
      "16    балл, статья, сумма, номинация, технический, к...\n",
      "Name: keyword, dtype: object\n"
     ]
    }
   ],
   "source": [
    "print(dfHabr1.loc[dfHabr1['clustersAgglomerative'] == 12, 'keyword'])"
   ]
  },
  {
   "cell_type": "code",
   "execution_count": 77,
   "id": "db2068ef",
   "metadata": {},
   "outputs": [
    {
     "name": "stdout",
     "output_type": "stream",
     "text": [
      "25    данные, метрика, система, блок, весь, запрос, ...\n",
      "Name: keyword, dtype: object\n"
     ]
    }
   ],
   "source": [
    "print(dfHabr1.loc[dfHabr1['clustersAgglomerative'] == 13, 'keyword'])"
   ]
  },
  {
   "cell_type": "code",
   "execution_count": 78,
   "id": "c83412d2",
   "metadata": {},
   "outputs": [
    {
     "name": "stdout",
     "output_type": "stream",
     "text": [
      "58    год, сертификат, обучение, курсы, работа, спец...\n",
      "Name: keyword, dtype: object\n"
     ]
    }
   ],
   "source": [
    "print(dfHabr1.loc[dfHabr1['clustersAgglomerative'] == 14, 'keyword'])"
   ]
  },
  {
   "cell_type": "code",
   "execution_count": null,
   "id": "afcc1da0",
   "metadata": {},
   "outputs": [],
   "source": []
  },
  {
   "cell_type": "code",
   "execution_count": null,
   "id": "04fd3482",
   "metadata": {},
   "outputs": [],
   "source": []
  },
  {
   "cell_type": "code",
   "execution_count": 79,
   "id": "1f7c40f5",
   "metadata": {},
   "outputs": [
    {
     "data": {
      "text/html": [
       "<div>\n",
       "<style scoped>\n",
       "    .dataframe tbody tr th:only-of-type {\n",
       "        vertical-align: middle;\n",
       "    }\n",
       "\n",
       "    .dataframe tbody tr th {\n",
       "        vertical-align: top;\n",
       "    }\n",
       "\n",
       "    .dataframe thead th {\n",
       "        text-align: right;\n",
       "    }\n",
       "</style>\n",
       "<table border=\"1\" class=\"dataframe\">\n",
       "  <thead>\n",
       "    <tr style=\"text-align: right;\">\n",
       "      <th></th>\n",
       "      <th>TitleCompany</th>\n",
       "      <th>Description</th>\n",
       "      <th>Reiting</th>\n",
       "      <th>Categories</th>\n",
       "      <th>TextPostLemat</th>\n",
       "      <th>TextPostToken</th>\n",
       "      <th>bigram</th>\n",
       "      <th>trigram</th>\n",
       "      <th>keyword</th>\n",
       "      <th>clustersAgglomerative</th>\n",
       "      <th>clustersKmeans</th>\n",
       "      <th>clustersSpectral</th>\n",
       "    </tr>\n",
       "  </thead>\n",
       "  <tbody>\n",
       "    <tr>\n",
       "      <th>0</th>\n",
       "      <td>RUVDS.com</td>\n",
       "      <td>VDS/VPS-хостинг. Скидка 15% по коду HABR15</td>\n",
       "      <td>2393.91</td>\n",
       "      <td>Электроника для начинающих, Системное админист...</td>\n",
       "      <td>общий обзор новый алгоритм стеганография позво...</td>\n",
       "      <td>[общий, обзор, новый, алгоритм, стеганография,...</td>\n",
       "      <td>[(общий, обзор), (обзор, новый), (новый, алгор...</td>\n",
       "      <td>[(общий, обзор, новый), (обзор, новый, алгорит...</td>\n",
       "      <td>алгоритм, информация, стеганография, контент, ...</td>\n",
       "      <td>4</td>\n",
       "      <td>4</td>\n",
       "      <td>1</td>\n",
       "    </tr>\n",
       "    <tr>\n",
       "      <th>1</th>\n",
       "      <td>Timeweb Cloud</td>\n",
       "      <td>Облачная платформа для разработчиков и бизнеса</td>\n",
       "      <td>1542.55</td>\n",
       "      <td>DIY или Сделай сам, История IT</td>\n",
       "      <td>студенческий год родитель союз студент часто п...</td>\n",
       "      <td>[студенческий, год, родитель, союз, студент, ч...</td>\n",
       "      <td>[(студенческий, год), (год, родитель), (родите...</td>\n",
       "      <td>[(студенческий, год, родитель), (год, родитель...</td>\n",
       "      <td>ребенок, геркон, игрушка, мочь, простой, конта...</td>\n",
       "      <td>4</td>\n",
       "      <td>4</td>\n",
       "      <td>8</td>\n",
       "    </tr>\n",
       "    <tr>\n",
       "      <th>2</th>\n",
       "      <td>Selectel</td>\n",
       "      <td>IT-инфраструктура для бизнеса</td>\n",
       "      <td>1935.27</td>\n",
       "      <td>IT-компании, Производство и разработка электро...</td>\n",
       "      <td>явление называть именно обвал дело продажа жес...</td>\n",
       "      <td>[явление, называть, именно, обвал, дело, прода...</td>\n",
       "      <td>[(явление, называть), (называть, именно), (име...</td>\n",
       "      <td>[(явление, называть, именно), (называть, именн...</td>\n",
       "      <td>млн, продажа, год, квартал, пк, рынок, динамик...</td>\n",
       "      <td>4</td>\n",
       "      <td>4</td>\n",
       "      <td>1</td>\n",
       "    </tr>\n",
       "    <tr>\n",
       "      <th>3</th>\n",
       "      <td>RUVDS.com</td>\n",
       "      <td>VDS/VPS-хостинг. Скидка 15% по коду HABR15</td>\n",
       "      <td>2393.91</td>\n",
       "      <td>Электроника для начинающих, Системное админист...</td>\n",
       "      <td>закон физика говорить обо весь возможный явлен...</td>\n",
       "      <td>[закон, физика, говорить, обо, весь, возможный...</td>\n",
       "      <td>[(закон, физика), (физика, говорить), (говорит...</td>\n",
       "      <td>[(закон, физика, говорить), (физика, говорить,...</td>\n",
       "      <td>дыра, чрной, событие, вселенная, горизонт, мат...</td>\n",
       "      <td>7</td>\n",
       "      <td>4</td>\n",
       "      <td>1</td>\n",
       "    </tr>\n",
       "    <tr>\n",
       "      <th>4</th>\n",
       "      <td>RUVDS.com</td>\n",
       "      <td>VDS/VPS-хостинг. Скидка 15% по коду HABR15</td>\n",
       "      <td>2393.91</td>\n",
       "      <td>Электроника для начинающих, Системное админист...</td>\n",
       "      <td>существовать нарисовать вид анимешной девушка ...</td>\n",
       "      <td>[существовать, нарисовать, вид, анимешной, дев...</td>\n",
       "      <td>[(существовать, нарисовать), (нарисовать, вид)...</td>\n",
       "      <td>[(существовать, нарисовать, вид), (нарисовать,...</td>\n",
       "      <td>человек, год, вид, становиться, хуманизация, б...</td>\n",
       "      <td>4</td>\n",
       "      <td>4</td>\n",
       "      <td>2</td>\n",
       "    </tr>\n",
       "  </tbody>\n",
       "</table>\n",
       "</div>"
      ],
      "text/plain": [
       "    TitleCompany                                     Description  Reiting  \\\n",
       "0      RUVDS.com      VDS/VPS-хостинг. Скидка 15% по коду HABR15  2393.91   \n",
       "1  Timeweb Cloud  Облачная платформа для разработчиков и бизнеса  1542.55   \n",
       "2       Selectel                   IT-инфраструктура для бизнеса  1935.27   \n",
       "3      RUVDS.com      VDS/VPS-хостинг. Скидка 15% по коду HABR15  2393.91   \n",
       "4      RUVDS.com      VDS/VPS-хостинг. Скидка 15% по коду HABR15  2393.91   \n",
       "\n",
       "                                          Categories  \\\n",
       "0  Электроника для начинающих, Системное админист...   \n",
       "1                     DIY или Сделай сам, История IT   \n",
       "2  IT-компании, Производство и разработка электро...   \n",
       "3  Электроника для начинающих, Системное админист...   \n",
       "4  Электроника для начинающих, Системное админист...   \n",
       "\n",
       "                                       TextPostLemat  \\\n",
       "0  общий обзор новый алгоритм стеганография позво...   \n",
       "1  студенческий год родитель союз студент часто п...   \n",
       "2  явление называть именно обвал дело продажа жес...   \n",
       "3  закон физика говорить обо весь возможный явлен...   \n",
       "4  существовать нарисовать вид анимешной девушка ...   \n",
       "\n",
       "                                       TextPostToken  \\\n",
       "0  [общий, обзор, новый, алгоритм, стеганография,...   \n",
       "1  [студенческий, год, родитель, союз, студент, ч...   \n",
       "2  [явление, называть, именно, обвал, дело, прода...   \n",
       "3  [закон, физика, говорить, обо, весь, возможный...   \n",
       "4  [существовать, нарисовать, вид, анимешной, дев...   \n",
       "\n",
       "                                              bigram  \\\n",
       "0  [(общий, обзор), (обзор, новый), (новый, алгор...   \n",
       "1  [(студенческий, год), (год, родитель), (родите...   \n",
       "2  [(явление, называть), (называть, именно), (име...   \n",
       "3  [(закон, физика), (физика, говорить), (говорит...   \n",
       "4  [(существовать, нарисовать), (нарисовать, вид)...   \n",
       "\n",
       "                                             trigram  \\\n",
       "0  [(общий, обзор, новый), (обзор, новый, алгорит...   \n",
       "1  [(студенческий, год, родитель), (год, родитель...   \n",
       "2  [(явление, называть, именно), (называть, именн...   \n",
       "3  [(закон, физика, говорить), (физика, говорить,...   \n",
       "4  [(существовать, нарисовать, вид), (нарисовать,...   \n",
       "\n",
       "                                             keyword  clustersAgglomerative  \\\n",
       "0  алгоритм, информация, стеганография, контент, ...                      4   \n",
       "1  ребенок, геркон, игрушка, мочь, простой, конта...                      4   \n",
       "2  млн, продажа, год, квартал, пк, рынок, динамик...                      4   \n",
       "3  дыра, чрной, событие, вселенная, горизонт, мат...                      7   \n",
       "4  человек, год, вид, становиться, хуманизация, б...                      4   \n",
       "\n",
       "   clustersKmeans  clustersSpectral  \n",
       "0               4                 1  \n",
       "1               4                 8  \n",
       "2               4                 1  \n",
       "3               4                 1  \n",
       "4               4                 2  "
      ]
     },
     "execution_count": 79,
     "metadata": {},
     "output_type": "execute_result"
    }
   ],
   "source": [
    "dfHabr1.head()"
   ]
  },
  {
   "cell_type": "code",
   "execution_count": null,
   "id": "b3e491b5",
   "metadata": {},
   "outputs": [],
   "source": []
  },
  {
   "cell_type": "code",
   "execution_count": 80,
   "id": "81e558a9",
   "metadata": {},
   "outputs": [],
   "source": [
    "df = ['данные, метод, система, изменение, цепочка, вакансия, сотрудник, диск, создание, канал',\n",
    "'игра, человек, работа, дать, файл, статья, сообщение, создать, конфигурация, настройка',\n",
    "'файл, система, проект, пакет, приложение, мочь, мониторинг, проблема, программа, библиотека',\n",
    "'схема, значение, компания, запрос, код, сигнал, переменный, инстанс, кнопка, кнопка текст',\n",
    "'функция, данные, время, использовать, пример, игра, ресурс, база, клиент, компьютер',\n",
    "'устройство, время, год, работать, уровень, пользователь, питание, пк, рабочий, плата',\n",
    "'использовать, язык, мочь, данные, разработчик, год, работать, играть, поиск программа, приложение станция',\n",
    "'мочь, кластер, коммутатор, приложение, каждый, команда, уровень, инфраструктура, следующий, канал',\n",
    "'год, система, стать, изображение, обучение, ресурс, человек, безопасность, инфраструктура, результат',\n",
    "'сервер, функция, часть, переменный, замыкание, приложение, класс, клиент, пользователь, тест',\n",
    "'код, год, процессор, использовать, обучение, доступ, класс, ия, безопасность, название',\n",
    "'год, поле, делать, класс, хабра, пользователь, автор, технический, первый, каждый',\n",
    "'использовать, новый, работать, пользователь, сеть, событие, интерфейс, тест, адрес, команда',\n",
    "'работа, устройство, система, объект, значение библиотека сериализатор, десериализация, сериализация результат использование, сериализация результат, сериализация, сериализатор сериализация результат',\n",
    "'запрос, метрика, система, например, сша, пк, ресурс, слот, снимок, порт система']"
   ]
  },
  {
   "cell_type": "code",
   "execution_count": 81,
   "id": "4de5f3f0",
   "metadata": {},
   "outputs": [],
   "source": [
    "dfCosinTest = pd.DataFrame({'texts': df})"
   ]
  },
  {
   "cell_type": "code",
   "execution_count": 82,
   "id": "cb394aa6",
   "metadata": {},
   "outputs": [],
   "source": [
    "find_nearest_to = str(dfHabr1.loc[dfHabr1['clustersAgglomerative'] == 15, 'keyword'])"
   ]
  },
  {
   "cell_type": "code",
   "execution_count": 83,
   "id": "4efaa23b",
   "metadata": {},
   "outputs": [],
   "source": [
    "# формирование весов tf-idf\n",
    "tfidf = TfidfVectorizer()\n",
    "mx_tf = tfidf.fit_transform(df)\n",
    "new_entry = tfidf.transform([find_nearest_to])"
   ]
  },
  {
   "cell_type": "code",
   "execution_count": 84,
   "id": "c896b356",
   "metadata": {},
   "outputs": [
    {
     "data": {
      "text/plain": [
       "scipy.sparse._csr.csr_matrix"
      ]
     },
     "execution_count": 84,
     "metadata": {},
     "output_type": "execute_result"
    }
   ],
   "source": [
    "type(mx_tf)"
   ]
  },
  {
   "cell_type": "code",
   "execution_count": 85,
   "id": "d175eb30",
   "metadata": {},
   "outputs": [
    {
     "data": {
      "text/html": [
       "<div>\n",
       "<style scoped>\n",
       "    .dataframe tbody tr th:only-of-type {\n",
       "        vertical-align: middle;\n",
       "    }\n",
       "\n",
       "    .dataframe tbody tr th {\n",
       "        vertical-align: top;\n",
       "    }\n",
       "\n",
       "    .dataframe thead th {\n",
       "        text-align: right;\n",
       "    }\n",
       "</style>\n",
       "<table border=\"1\" class=\"dataframe\">\n",
       "  <thead>\n",
       "    <tr style=\"text-align: right;\">\n",
       "      <th></th>\n",
       "      <th>0</th>\n",
       "      <th>1</th>\n",
       "      <th>2</th>\n",
       "      <th>3</th>\n",
       "      <th>4</th>\n",
       "      <th>5</th>\n",
       "      <th>6</th>\n",
       "      <th>7</th>\n",
       "      <th>8</th>\n",
       "      <th>9</th>\n",
       "      <th>...</th>\n",
       "      <th>92</th>\n",
       "      <th>93</th>\n",
       "      <th>94</th>\n",
       "      <th>95</th>\n",
       "      <th>96</th>\n",
       "      <th>97</th>\n",
       "      <th>98</th>\n",
       "      <th>99</th>\n",
       "      <th>100</th>\n",
       "      <th>101</th>\n",
       "    </tr>\n",
       "  </thead>\n",
       "  <tbody>\n",
       "    <tr>\n",
       "      <th>0</th>\n",
       "      <td>0.000000</td>\n",
       "      <td>0.000000</td>\n",
       "      <td>0.000000</td>\n",
       "      <td>0.000000</td>\n",
       "      <td>0.000000</td>\n",
       "      <td>0.33771</td>\n",
       "      <td>0.000000</td>\n",
       "      <td>0.000000</td>\n",
       "      <td>0.261695</td>\n",
       "      <td>0.000000</td>\n",
       "      <td>...</td>\n",
       "      <td>0.000000</td>\n",
       "      <td>0.000000</td>\n",
       "      <td>0.000000</td>\n",
       "      <td>0.000000</td>\n",
       "      <td>0.000000</td>\n",
       "      <td>0.000000</td>\n",
       "      <td>0.33771</td>\n",
       "      <td>0.000000</td>\n",
       "      <td>0.000000</td>\n",
       "      <td>0.000000</td>\n",
       "    </tr>\n",
       "    <tr>\n",
       "      <th>1</th>\n",
       "      <td>0.000000</td>\n",
       "      <td>0.000000</td>\n",
       "      <td>0.000000</td>\n",
       "      <td>0.000000</td>\n",
       "      <td>0.000000</td>\n",
       "      <td>0.00000</td>\n",
       "      <td>0.000000</td>\n",
       "      <td>0.000000</td>\n",
       "      <td>0.000000</td>\n",
       "      <td>0.333037</td>\n",
       "      <td>...</td>\n",
       "      <td>0.000000</td>\n",
       "      <td>0.000000</td>\n",
       "      <td>0.000000</td>\n",
       "      <td>0.289187</td>\n",
       "      <td>0.000000</td>\n",
       "      <td>0.000000</td>\n",
       "      <td>0.00000</td>\n",
       "      <td>0.000000</td>\n",
       "      <td>0.289187</td>\n",
       "      <td>0.000000</td>\n",
       "    </tr>\n",
       "    <tr>\n",
       "      <th>2</th>\n",
       "      <td>0.000000</td>\n",
       "      <td>0.000000</td>\n",
       "      <td>0.000000</td>\n",
       "      <td>0.000000</td>\n",
       "      <td>0.311519</td>\n",
       "      <td>0.00000</td>\n",
       "      <td>0.000000</td>\n",
       "      <td>0.000000</td>\n",
       "      <td>0.000000</td>\n",
       "      <td>0.000000</td>\n",
       "      <td>...</td>\n",
       "      <td>0.000000</td>\n",
       "      <td>0.000000</td>\n",
       "      <td>0.000000</td>\n",
       "      <td>0.311519</td>\n",
       "      <td>0.000000</td>\n",
       "      <td>0.000000</td>\n",
       "      <td>0.00000</td>\n",
       "      <td>0.000000</td>\n",
       "      <td>0.000000</td>\n",
       "      <td>0.000000</td>\n",
       "    </tr>\n",
       "    <tr>\n",
       "      <th>3</th>\n",
       "      <td>0.000000</td>\n",
       "      <td>0.000000</td>\n",
       "      <td>0.000000</td>\n",
       "      <td>0.000000</td>\n",
       "      <td>0.000000</td>\n",
       "      <td>0.00000</td>\n",
       "      <td>0.000000</td>\n",
       "      <td>0.000000</td>\n",
       "      <td>0.000000</td>\n",
       "      <td>0.000000</td>\n",
       "      <td>...</td>\n",
       "      <td>0.000000</td>\n",
       "      <td>0.000000</td>\n",
       "      <td>0.000000</td>\n",
       "      <td>0.000000</td>\n",
       "      <td>0.000000</td>\n",
       "      <td>0.000000</td>\n",
       "      <td>0.00000</td>\n",
       "      <td>0.000000</td>\n",
       "      <td>0.000000</td>\n",
       "      <td>0.000000</td>\n",
       "    </tr>\n",
       "    <tr>\n",
       "      <th>4</th>\n",
       "      <td>0.000000</td>\n",
       "      <td>0.000000</td>\n",
       "      <td>0.360132</td>\n",
       "      <td>0.000000</td>\n",
       "      <td>0.000000</td>\n",
       "      <td>0.00000</td>\n",
       "      <td>0.312714</td>\n",
       "      <td>0.000000</td>\n",
       "      <td>0.279070</td>\n",
       "      <td>0.000000</td>\n",
       "      <td>...</td>\n",
       "      <td>0.000000</td>\n",
       "      <td>0.000000</td>\n",
       "      <td>0.000000</td>\n",
       "      <td>0.000000</td>\n",
       "      <td>0.312714</td>\n",
       "      <td>0.000000</td>\n",
       "      <td>0.00000</td>\n",
       "      <td>0.000000</td>\n",
       "      <td>0.000000</td>\n",
       "      <td>0.000000</td>\n",
       "    </tr>\n",
       "    <tr>\n",
       "      <th>5</th>\n",
       "      <td>0.000000</td>\n",
       "      <td>0.000000</td>\n",
       "      <td>0.000000</td>\n",
       "      <td>0.000000</td>\n",
       "      <td>0.000000</td>\n",
       "      <td>0.00000</td>\n",
       "      <td>0.316570</td>\n",
       "      <td>0.234509</td>\n",
       "      <td>0.000000</td>\n",
       "      <td>0.000000</td>\n",
       "      <td>...</td>\n",
       "      <td>0.000000</td>\n",
       "      <td>0.316570</td>\n",
       "      <td>0.316570</td>\n",
       "      <td>0.000000</td>\n",
       "      <td>0.000000</td>\n",
       "      <td>0.000000</td>\n",
       "      <td>0.00000</td>\n",
       "      <td>0.000000</td>\n",
       "      <td>0.000000</td>\n",
       "      <td>0.000000</td>\n",
       "    </tr>\n",
       "    <tr>\n",
       "      <th>6</th>\n",
       "      <td>0.000000</td>\n",
       "      <td>0.000000</td>\n",
       "      <td>0.000000</td>\n",
       "      <td>0.000000</td>\n",
       "      <td>0.000000</td>\n",
       "      <td>0.00000</td>\n",
       "      <td>0.000000</td>\n",
       "      <td>0.214939</td>\n",
       "      <td>0.258936</td>\n",
       "      <td>0.000000</td>\n",
       "      <td>...</td>\n",
       "      <td>0.000000</td>\n",
       "      <td>0.000000</td>\n",
       "      <td>0.000000</td>\n",
       "      <td>0.000000</td>\n",
       "      <td>0.000000</td>\n",
       "      <td>0.000000</td>\n",
       "      <td>0.00000</td>\n",
       "      <td>0.000000</td>\n",
       "      <td>0.000000</td>\n",
       "      <td>0.334149</td>\n",
       "    </tr>\n",
       "    <tr>\n",
       "      <th>7</th>\n",
       "      <td>0.000000</td>\n",
       "      <td>0.000000</td>\n",
       "      <td>0.000000</td>\n",
       "      <td>0.000000</td>\n",
       "      <td>0.000000</td>\n",
       "      <td>0.00000</td>\n",
       "      <td>0.000000</td>\n",
       "      <td>0.000000</td>\n",
       "      <td>0.000000</td>\n",
       "      <td>0.000000</td>\n",
       "      <td>...</td>\n",
       "      <td>0.000000</td>\n",
       "      <td>0.309646</td>\n",
       "      <td>0.000000</td>\n",
       "      <td>0.000000</td>\n",
       "      <td>0.000000</td>\n",
       "      <td>0.000000</td>\n",
       "      <td>0.00000</td>\n",
       "      <td>0.000000</td>\n",
       "      <td>0.000000</td>\n",
       "      <td>0.000000</td>\n",
       "    </tr>\n",
       "    <tr>\n",
       "      <th>8</th>\n",
       "      <td>0.000000</td>\n",
       "      <td>0.000000</td>\n",
       "      <td>0.000000</td>\n",
       "      <td>0.323653</td>\n",
       "      <td>0.000000</td>\n",
       "      <td>0.00000</td>\n",
       "      <td>0.000000</td>\n",
       "      <td>0.239756</td>\n",
       "      <td>0.000000</td>\n",
       "      <td>0.000000</td>\n",
       "      <td>...</td>\n",
       "      <td>0.000000</td>\n",
       "      <td>0.000000</td>\n",
       "      <td>0.000000</td>\n",
       "      <td>0.000000</td>\n",
       "      <td>0.000000</td>\n",
       "      <td>0.000000</td>\n",
       "      <td>0.00000</td>\n",
       "      <td>0.000000</td>\n",
       "      <td>0.323653</td>\n",
       "      <td>0.000000</td>\n",
       "    </tr>\n",
       "    <tr>\n",
       "      <th>9</th>\n",
       "      <td>0.000000</td>\n",
       "      <td>0.000000</td>\n",
       "      <td>0.000000</td>\n",
       "      <td>0.000000</td>\n",
       "      <td>0.000000</td>\n",
       "      <td>0.00000</td>\n",
       "      <td>0.000000</td>\n",
       "      <td>0.000000</td>\n",
       "      <td>0.000000</td>\n",
       "      <td>0.000000</td>\n",
       "      <td>...</td>\n",
       "      <td>0.000000</td>\n",
       "      <td>0.000000</td>\n",
       "      <td>0.000000</td>\n",
       "      <td>0.000000</td>\n",
       "      <td>0.314907</td>\n",
       "      <td>0.000000</td>\n",
       "      <td>0.00000</td>\n",
       "      <td>0.362658</td>\n",
       "      <td>0.000000</td>\n",
       "      <td>0.000000</td>\n",
       "    </tr>\n",
       "    <tr>\n",
       "      <th>10</th>\n",
       "      <td>0.000000</td>\n",
       "      <td>0.000000</td>\n",
       "      <td>0.000000</td>\n",
       "      <td>0.311519</td>\n",
       "      <td>0.000000</td>\n",
       "      <td>0.00000</td>\n",
       "      <td>0.000000</td>\n",
       "      <td>0.230767</td>\n",
       "      <td>0.000000</td>\n",
       "      <td>0.000000</td>\n",
       "      <td>...</td>\n",
       "      <td>0.000000</td>\n",
       "      <td>0.000000</td>\n",
       "      <td>0.000000</td>\n",
       "      <td>0.000000</td>\n",
       "      <td>0.000000</td>\n",
       "      <td>0.000000</td>\n",
       "      <td>0.00000</td>\n",
       "      <td>0.000000</td>\n",
       "      <td>0.000000</td>\n",
       "      <td>0.000000</td>\n",
       "    </tr>\n",
       "    <tr>\n",
       "      <th>11</th>\n",
       "      <td>0.347909</td>\n",
       "      <td>0.000000</td>\n",
       "      <td>0.000000</td>\n",
       "      <td>0.000000</td>\n",
       "      <td>0.000000</td>\n",
       "      <td>0.00000</td>\n",
       "      <td>0.000000</td>\n",
       "      <td>0.223790</td>\n",
       "      <td>0.000000</td>\n",
       "      <td>0.000000</td>\n",
       "      <td>...</td>\n",
       "      <td>0.347909</td>\n",
       "      <td>0.000000</td>\n",
       "      <td>0.000000</td>\n",
       "      <td>0.000000</td>\n",
       "      <td>0.000000</td>\n",
       "      <td>0.347909</td>\n",
       "      <td>0.00000</td>\n",
       "      <td>0.000000</td>\n",
       "      <td>0.000000</td>\n",
       "      <td>0.000000</td>\n",
       "    </tr>\n",
       "    <tr>\n",
       "      <th>12</th>\n",
       "      <td>0.000000</td>\n",
       "      <td>0.351465</td>\n",
       "      <td>0.000000</td>\n",
       "      <td>0.000000</td>\n",
       "      <td>0.000000</td>\n",
       "      <td>0.00000</td>\n",
       "      <td>0.000000</td>\n",
       "      <td>0.000000</td>\n",
       "      <td>0.000000</td>\n",
       "      <td>0.000000</td>\n",
       "      <td>...</td>\n",
       "      <td>0.000000</td>\n",
       "      <td>0.000000</td>\n",
       "      <td>0.000000</td>\n",
       "      <td>0.000000</td>\n",
       "      <td>0.000000</td>\n",
       "      <td>0.000000</td>\n",
       "      <td>0.00000</td>\n",
       "      <td>0.000000</td>\n",
       "      <td>0.000000</td>\n",
       "      <td>0.000000</td>\n",
       "    </tr>\n",
       "    <tr>\n",
       "      <th>13</th>\n",
       "      <td>0.000000</td>\n",
       "      <td>0.000000</td>\n",
       "      <td>0.000000</td>\n",
       "      <td>0.000000</td>\n",
       "      <td>0.150665</td>\n",
       "      <td>0.00000</td>\n",
       "      <td>0.000000</td>\n",
       "      <td>0.000000</td>\n",
       "      <td>0.000000</td>\n",
       "      <td>0.000000</td>\n",
       "      <td>...</td>\n",
       "      <td>0.000000</td>\n",
       "      <td>0.000000</td>\n",
       "      <td>0.150665</td>\n",
       "      <td>0.000000</td>\n",
       "      <td>0.000000</td>\n",
       "      <td>0.000000</td>\n",
       "      <td>0.00000</td>\n",
       "      <td>0.000000</td>\n",
       "      <td>0.000000</td>\n",
       "      <td>0.000000</td>\n",
       "    </tr>\n",
       "    <tr>\n",
       "      <th>14</th>\n",
       "      <td>0.000000</td>\n",
       "      <td>0.000000</td>\n",
       "      <td>0.000000</td>\n",
       "      <td>0.000000</td>\n",
       "      <td>0.000000</td>\n",
       "      <td>0.00000</td>\n",
       "      <td>0.000000</td>\n",
       "      <td>0.000000</td>\n",
       "      <td>0.000000</td>\n",
       "      <td>0.000000</td>\n",
       "      <td>...</td>\n",
       "      <td>0.000000</td>\n",
       "      <td>0.000000</td>\n",
       "      <td>0.000000</td>\n",
       "      <td>0.000000</td>\n",
       "      <td>0.000000</td>\n",
       "      <td>0.000000</td>\n",
       "      <td>0.00000</td>\n",
       "      <td>0.000000</td>\n",
       "      <td>0.000000</td>\n",
       "      <td>0.000000</td>\n",
       "    </tr>\n",
       "  </tbody>\n",
       "</table>\n",
       "<p>15 rows × 102 columns</p>\n",
       "</div>"
      ],
      "text/plain": [
       "         0         1         2         3         4        5         6    \\\n",
       "0   0.000000  0.000000  0.000000  0.000000  0.000000  0.33771  0.000000   \n",
       "1   0.000000  0.000000  0.000000  0.000000  0.000000  0.00000  0.000000   \n",
       "2   0.000000  0.000000  0.000000  0.000000  0.311519  0.00000  0.000000   \n",
       "3   0.000000  0.000000  0.000000  0.000000  0.000000  0.00000  0.000000   \n",
       "4   0.000000  0.000000  0.360132  0.000000  0.000000  0.00000  0.312714   \n",
       "5   0.000000  0.000000  0.000000  0.000000  0.000000  0.00000  0.316570   \n",
       "6   0.000000  0.000000  0.000000  0.000000  0.000000  0.00000  0.000000   \n",
       "7   0.000000  0.000000  0.000000  0.000000  0.000000  0.00000  0.000000   \n",
       "8   0.000000  0.000000  0.000000  0.323653  0.000000  0.00000  0.000000   \n",
       "9   0.000000  0.000000  0.000000  0.000000  0.000000  0.00000  0.000000   \n",
       "10  0.000000  0.000000  0.000000  0.311519  0.000000  0.00000  0.000000   \n",
       "11  0.347909  0.000000  0.000000  0.000000  0.000000  0.00000  0.000000   \n",
       "12  0.000000  0.351465  0.000000  0.000000  0.000000  0.00000  0.000000   \n",
       "13  0.000000  0.000000  0.000000  0.000000  0.150665  0.00000  0.000000   \n",
       "14  0.000000  0.000000  0.000000  0.000000  0.000000  0.00000  0.000000   \n",
       "\n",
       "         7         8         9    ...       92        93        94        95   \\\n",
       "0   0.000000  0.261695  0.000000  ...  0.000000  0.000000  0.000000  0.000000   \n",
       "1   0.000000  0.000000  0.333037  ...  0.000000  0.000000  0.000000  0.289187   \n",
       "2   0.000000  0.000000  0.000000  ...  0.000000  0.000000  0.000000  0.311519   \n",
       "3   0.000000  0.000000  0.000000  ...  0.000000  0.000000  0.000000  0.000000   \n",
       "4   0.000000  0.279070  0.000000  ...  0.000000  0.000000  0.000000  0.000000   \n",
       "5   0.234509  0.000000  0.000000  ...  0.000000  0.316570  0.316570  0.000000   \n",
       "6   0.214939  0.258936  0.000000  ...  0.000000  0.000000  0.000000  0.000000   \n",
       "7   0.000000  0.000000  0.000000  ...  0.000000  0.309646  0.000000  0.000000   \n",
       "8   0.239756  0.000000  0.000000  ...  0.000000  0.000000  0.000000  0.000000   \n",
       "9   0.000000  0.000000  0.000000  ...  0.000000  0.000000  0.000000  0.000000   \n",
       "10  0.230767  0.000000  0.000000  ...  0.000000  0.000000  0.000000  0.000000   \n",
       "11  0.223790  0.000000  0.000000  ...  0.347909  0.000000  0.000000  0.000000   \n",
       "12  0.000000  0.000000  0.000000  ...  0.000000  0.000000  0.000000  0.000000   \n",
       "13  0.000000  0.000000  0.000000  ...  0.000000  0.000000  0.150665  0.000000   \n",
       "14  0.000000  0.000000  0.000000  ...  0.000000  0.000000  0.000000  0.000000   \n",
       "\n",
       "         96        97       98        99        100       101  \n",
       "0   0.000000  0.000000  0.33771  0.000000  0.000000  0.000000  \n",
       "1   0.000000  0.000000  0.00000  0.000000  0.289187  0.000000  \n",
       "2   0.000000  0.000000  0.00000  0.000000  0.000000  0.000000  \n",
       "3   0.000000  0.000000  0.00000  0.000000  0.000000  0.000000  \n",
       "4   0.312714  0.000000  0.00000  0.000000  0.000000  0.000000  \n",
       "5   0.000000  0.000000  0.00000  0.000000  0.000000  0.000000  \n",
       "6   0.000000  0.000000  0.00000  0.000000  0.000000  0.334149  \n",
       "7   0.000000  0.000000  0.00000  0.000000  0.000000  0.000000  \n",
       "8   0.000000  0.000000  0.00000  0.000000  0.323653  0.000000  \n",
       "9   0.314907  0.000000  0.00000  0.362658  0.000000  0.000000  \n",
       "10  0.000000  0.000000  0.00000  0.000000  0.000000  0.000000  \n",
       "11  0.000000  0.347909  0.00000  0.000000  0.000000  0.000000  \n",
       "12  0.000000  0.000000  0.00000  0.000000  0.000000  0.000000  \n",
       "13  0.000000  0.000000  0.00000  0.000000  0.000000  0.000000  \n",
       "14  0.000000  0.000000  0.00000  0.000000  0.000000  0.000000  \n",
       "\n",
       "[15 rows x 102 columns]"
      ]
     },
     "execution_count": 85,
     "metadata": {},
     "output_type": "execute_result"
    }
   ],
   "source": [
    "sdf = pd.DataFrame.sparse.from_spmatrix(mx_tf)\n",
    "sdf"
   ]
  },
  {
   "cell_type": "code",
   "execution_count": 86,
   "id": "40f964e3",
   "metadata": {},
   "outputs": [
    {
     "data": {
      "text/plain": [
       "array([[1.        , 0.        , 0.05012935, 0.        , 0.07303129,\n",
       "        0.        , 0.06776233, 0.09080196, 0.05208198, 0.        ,\n",
       "        0.        , 0.        , 0.        , 0.02424497, 0.08943761],\n",
       "       [0.        , 1.        , 0.09008711, 0.        , 0.09043272,\n",
       "        0.        , 0.        , 0.        , 0.09359617, 0.        ,\n",
       "        0.        , 0.        , 0.        , 0.04357047, 0.        ],\n",
       "       [0.05012935, 0.09008711, 1.        , 0.        , 0.        ,\n",
       "        0.        , 0.22152497, 0.13994754, 0.05532766, 0.06419857,\n",
       "        0.        , 0.        , 0.        , 0.07269095, 0.09501124],\n",
       "       [0.        , 0.        , 0.        , 1.        , 0.        ,\n",
       "        0.        , 0.        , 0.        , 0.        , 0.07888394,\n",
       "        0.07803503, 0.        , 0.        , 0.0377415 , 0.06961259],\n",
       "       [0.07303129, 0.09043272, 0.        , 0.        , 1.        ,\n",
       "        0.09899591, 0.13164018, 0.        , 0.08060448, 0.19695175,\n",
       "        0.06375134, 0.        , 0.06245583, 0.        , 0.06920889],\n",
       "       [0.        , 0.        , 0.        , 0.        , 0.09899591,\n",
       "        1.        , 0.12355779, 0.0980249 , 0.0562249 , 0.06523967,\n",
       "        0.05411694, 0.11506725, 0.14016941, 0.04769621, 0.08797362],\n",
       "       [0.06776233, 0.        , 0.22152497, 0.        , 0.13164018,\n",
       "        0.12355779, 1.        , 0.13034897, 0.0515329 , 0.05979539,\n",
       "        0.10875276, 0.04810127, 0.12847221, 0.        , 0.        ],\n",
       "       [0.09080196, 0.        , 0.13994754, 0.        , 0.        ,\n",
       "        0.0980249 , 0.13034897, 1.        , 0.10021793, 0.06381274,\n",
       "        0.        , 0.09354431, 0.0945004 , 0.        , 0.        ],\n",
       "       [0.05208198, 0.09359617, 0.05532766, 0.        , 0.08060448,\n",
       "        0.0562249 , 0.0515329 , 0.10021793, 1.        , 0.        ,\n",
       "        0.25697539, 0.05365493, 0.        , 0.17304896, 0.17034201],\n",
       "       [0.        , 0.        , 0.06419857, 0.07888394, 0.19695175,\n",
       "        0.06523967, 0.05979539, 0.06381274, 0.        , 1.        ,\n",
       "        0.07812675, 0.13802239, 0.15899998, 0.        , 0.        ],\n",
       "       [0.        , 0.        , 0.        , 0.07803503, 0.06375134,\n",
       "        0.05411694, 0.10875276, 0.        , 0.25697539, 0.07812675,\n",
       "        1.        , 0.12659273, 0.06221714, 0.        , 0.        ],\n",
       "       [0.        , 0.        , 0.        , 0.        , 0.        ,\n",
       "        0.11506725, 0.04810127, 0.09354431, 0.05365493, 0.13802239,\n",
       "        0.12659273, 1.        , 0.06033612, 0.        , 0.        ],\n",
       "       [0.        , 0.        , 0.        , 0.        , 0.06245583,\n",
       "        0.14016941, 0.12847221, 0.0945004 , 0.        , 0.15899998,\n",
       "        0.06221714, 0.06033612, 1.        , 0.        , 0.        ],\n",
       "       [0.02424497, 0.04357047, 0.07269095, 0.0377415 , 0.        ,\n",
       "        0.04769621, 0.        , 0.        , 0.17304896, 0.        ,\n",
       "        0.        , 0.        , 0.        , 1.        , 0.04595201],\n",
       "       [0.08943761, 0.        , 0.09501124, 0.06961259, 0.06920889,\n",
       "        0.08797362, 0.        , 0.        , 0.17034201, 0.        ,\n",
       "        0.        , 0.        , 0.        , 0.04595201, 1.        ]])"
      ]
     },
     "execution_count": 86,
     "metadata": {},
     "output_type": "execute_result"
    }
   ],
   "source": [
    "cosine_similarity(mx_tf)"
   ]
  },
  {
   "cell_type": "code",
   "execution_count": 87,
   "id": "93990544",
   "metadata": {},
   "outputs": [
    {
     "data": {
      "text/html": [
       "<div>\n",
       "<style scoped>\n",
       "    .dataframe tbody tr th:only-of-type {\n",
       "        vertical-align: middle;\n",
       "    }\n",
       "\n",
       "    .dataframe tbody tr th {\n",
       "        vertical-align: top;\n",
       "    }\n",
       "\n",
       "    .dataframe thead th {\n",
       "        text-align: right;\n",
       "    }\n",
       "</style>\n",
       "<table border=\"1\" class=\"dataframe\">\n",
       "  <thead>\n",
       "    <tr style=\"text-align: right;\">\n",
       "      <th></th>\n",
       "      <th>0</th>\n",
       "      <th>1</th>\n",
       "      <th>2</th>\n",
       "      <th>3</th>\n",
       "      <th>4</th>\n",
       "      <th>5</th>\n",
       "      <th>6</th>\n",
       "      <th>7</th>\n",
       "      <th>8</th>\n",
       "      <th>9</th>\n",
       "      <th>...</th>\n",
       "      <th>92</th>\n",
       "      <th>93</th>\n",
       "      <th>94</th>\n",
       "      <th>95</th>\n",
       "      <th>96</th>\n",
       "      <th>97</th>\n",
       "      <th>98</th>\n",
       "      <th>99</th>\n",
       "      <th>100</th>\n",
       "      <th>101</th>\n",
       "    </tr>\n",
       "  </thead>\n",
       "  <tbody>\n",
       "    <tr>\n",
       "      <th>0</th>\n",
       "      <td>0.0</td>\n",
       "      <td>0.0</td>\n",
       "      <td>0.0</td>\n",
       "      <td>0.0</td>\n",
       "      <td>0.0</td>\n",
       "      <td>0.0</td>\n",
       "      <td>0.0</td>\n",
       "      <td>0.0</td>\n",
       "      <td>0.0</td>\n",
       "      <td>0.0</td>\n",
       "      <td>...</td>\n",
       "      <td>0.0</td>\n",
       "      <td>0.0</td>\n",
       "      <td>0.0</td>\n",
       "      <td>0.0</td>\n",
       "      <td>0.0</td>\n",
       "      <td>0.0</td>\n",
       "      <td>0.0</td>\n",
       "      <td>0.0</td>\n",
       "      <td>0.0</td>\n",
       "      <td>0.0</td>\n",
       "    </tr>\n",
       "  </tbody>\n",
       "</table>\n",
       "<p>1 rows × 102 columns</p>\n",
       "</div>"
      ],
      "text/plain": [
       "   0    1    2    3    4    5    6    7    8    9    ...  92   93   94   95   \\\n",
       "0  0.0  0.0  0.0  0.0  0.0  0.0  0.0  0.0  0.0  0.0  ...  0.0  0.0  0.0  0.0   \n",
       "\n",
       "   96   97   98   99   100  101  \n",
       "0  0.0  0.0  0.0  0.0  0.0  0.0  \n",
       "\n",
       "[1 rows x 102 columns]"
      ]
     },
     "execution_count": 87,
     "metadata": {},
     "output_type": "execute_result"
    }
   ],
   "source": [
    "new_entry = tfidf.transform([find_nearest_to])\n",
    "pd.DataFrame.sparse.from_spmatrix(new_entry)"
   ]
  },
  {
   "cell_type": "code",
   "execution_count": 88,
   "id": "d2fd00fb",
   "metadata": {},
   "outputs": [
    {
     "data": {
      "text/plain": [
       "array([0., 0., 0., 0., 0., 0., 0., 0., 0., 0., 0., 0., 0., 0., 0.])"
      ]
     },
     "execution_count": 88,
     "metadata": {},
     "output_type": "execute_result"
    }
   ],
   "source": [
    "cosine_similarities = cosine_similarity(new_entry, mx_tf).flatten()\n",
    "cosine_similarities"
   ]
  },
  {
   "cell_type": "code",
   "execution_count": 89,
   "id": "59e0b165",
   "metadata": {},
   "outputs": [
    {
     "data": {
      "text/html": [
       "<div>\n",
       "<style scoped>\n",
       "    .dataframe tbody tr th:only-of-type {\n",
       "        vertical-align: middle;\n",
       "    }\n",
       "\n",
       "    .dataframe tbody tr th {\n",
       "        vertical-align: top;\n",
       "    }\n",
       "\n",
       "    .dataframe thead th {\n",
       "        text-align: right;\n",
       "    }\n",
       "</style>\n",
       "<table border=\"1\" class=\"dataframe\">\n",
       "  <thead>\n",
       "    <tr style=\"text-align: right;\">\n",
       "      <th></th>\n",
       "      <th>texts</th>\n",
       "      <th>cos_similarities</th>\n",
       "    </tr>\n",
       "  </thead>\n",
       "  <tbody>\n",
       "    <tr>\n",
       "      <th>0</th>\n",
       "      <td>данные, метод, система, изменение, цепочка, ва...</td>\n",
       "      <td>0.0</td>\n",
       "    </tr>\n",
       "    <tr>\n",
       "      <th>1</th>\n",
       "      <td>игра, человек, работа, дать, файл, статья, соо...</td>\n",
       "      <td>0.0</td>\n",
       "    </tr>\n",
       "    <tr>\n",
       "      <th>2</th>\n",
       "      <td>файл, система, проект, пакет, приложение, мочь...</td>\n",
       "      <td>0.0</td>\n",
       "    </tr>\n",
       "    <tr>\n",
       "      <th>3</th>\n",
       "      <td>схема, значение, компания, запрос, код, сигнал...</td>\n",
       "      <td>0.0</td>\n",
       "    </tr>\n",
       "    <tr>\n",
       "      <th>4</th>\n",
       "      <td>функция, данные, время, использовать, пример, ...</td>\n",
       "      <td>0.0</td>\n",
       "    </tr>\n",
       "    <tr>\n",
       "      <th>5</th>\n",
       "      <td>устройство, время, год, работать, уровень, пол...</td>\n",
       "      <td>0.0</td>\n",
       "    </tr>\n",
       "    <tr>\n",
       "      <th>6</th>\n",
       "      <td>использовать, язык, мочь, данные, разработчик,...</td>\n",
       "      <td>0.0</td>\n",
       "    </tr>\n",
       "    <tr>\n",
       "      <th>7</th>\n",
       "      <td>мочь, кластер, коммутатор, приложение, каждый,...</td>\n",
       "      <td>0.0</td>\n",
       "    </tr>\n",
       "    <tr>\n",
       "      <th>8</th>\n",
       "      <td>год, система, стать, изображение, обучение, ре...</td>\n",
       "      <td>0.0</td>\n",
       "    </tr>\n",
       "    <tr>\n",
       "      <th>9</th>\n",
       "      <td>сервер, функция, часть, переменный, замыкание,...</td>\n",
       "      <td>0.0</td>\n",
       "    </tr>\n",
       "    <tr>\n",
       "      <th>10</th>\n",
       "      <td>код, год, процессор, использовать, обучение, д...</td>\n",
       "      <td>0.0</td>\n",
       "    </tr>\n",
       "    <tr>\n",
       "      <th>11</th>\n",
       "      <td>год, поле, делать, класс, хабра, пользователь,...</td>\n",
       "      <td>0.0</td>\n",
       "    </tr>\n",
       "    <tr>\n",
       "      <th>12</th>\n",
       "      <td>использовать, новый, работать, пользователь, с...</td>\n",
       "      <td>0.0</td>\n",
       "    </tr>\n",
       "    <tr>\n",
       "      <th>13</th>\n",
       "      <td>работа, устройство, система, объект, значение ...</td>\n",
       "      <td>0.0</td>\n",
       "    </tr>\n",
       "    <tr>\n",
       "      <th>14</th>\n",
       "      <td>запрос, метрика, система, например, сша, пк, р...</td>\n",
       "      <td>0.0</td>\n",
       "    </tr>\n",
       "  </tbody>\n",
       "</table>\n",
       "</div>"
      ],
      "text/plain": [
       "                                                texts  cos_similarities\n",
       "0   данные, метод, система, изменение, цепочка, ва...               0.0\n",
       "1   игра, человек, работа, дать, файл, статья, соо...               0.0\n",
       "2   файл, система, проект, пакет, приложение, мочь...               0.0\n",
       "3   схема, значение, компания, запрос, код, сигнал...               0.0\n",
       "4   функция, данные, время, использовать, пример, ...               0.0\n",
       "5   устройство, время, год, работать, уровень, пол...               0.0\n",
       "6   использовать, язык, мочь, данные, разработчик,...               0.0\n",
       "7   мочь, кластер, коммутатор, приложение, каждый,...               0.0\n",
       "8   год, система, стать, изображение, обучение, ре...               0.0\n",
       "9   сервер, функция, часть, переменный, замыкание,...               0.0\n",
       "10  код, год, процессор, использовать, обучение, д...               0.0\n",
       "11  год, поле, делать, класс, хабра, пользователь,...               0.0\n",
       "12  использовать, новый, работать, пользователь, с...               0.0\n",
       "13  работа, устройство, система, объект, значение ...               0.0\n",
       "14  запрос, метрика, система, например, сша, пк, р...               0.0"
      ]
     },
     "execution_count": 89,
     "metadata": {},
     "output_type": "execute_result"
    }
   ],
   "source": [
    "# запишем все попарные результаты сравнений\n",
    "dfCosinTest['cos_similarities'] = cosine_similarities\n",
    "# и отсортируем по убыванию (т.к. cos(0)=1)\n",
    "dfCosinTest = dfCosinTest.sort_values(by=['cos_similarities'], ascending=[0])\n",
    "dfCosinTest"
   ]
  },
  {
   "cell_type": "markdown",
   "id": "304d4a9f",
   "metadata": {},
   "source": [
    "0 = 14\n",
    "\n",
    "1 = 15\n",
    "\n",
    "2 = 6\n",
    "\n",
    "3 = 2\n",
    "\n",
    "4 = 3\n",
    "\n",
    "5 = 5\n",
    "\n",
    "6 = 4\n",
    "\n",
    "7 = 8\n",
    "\n",
    "8 = 1\n",
    "\n",
    "9 = 13\n",
    "\n",
    "10 = 7\n",
    "\n",
    "11 = 9\n",
    "\n",
    "12 = 10\n",
    "\n",
    "13 = 11\n",
    "\n",
    "14 = 12"
   ]
  },
  {
   "cell_type": "code",
   "execution_count": null,
   "id": "810158ce",
   "metadata": {},
   "outputs": [],
   "source": []
  },
  {
   "cell_type": "markdown",
   "id": "78d0a84f",
   "metadata": {},
   "source": [
    "### 2.4 Разведочный анализ"
   ]
  },
  {
   "cell_type": "markdown",
   "id": "26b7ade4",
   "metadata": {},
   "source": [
    "### Вывод"
   ]
  },
  {
   "cell_type": "code",
   "execution_count": null,
   "id": "d7350c1f",
   "metadata": {},
   "outputs": [],
   "source": []
  },
  {
   "cell_type": "code",
   "execution_count": null,
   "id": "95978f80",
   "metadata": {},
   "outputs": [],
   "source": []
  },
  {
   "cell_type": "code",
   "execution_count": null,
   "id": "2b9a3148",
   "metadata": {},
   "outputs": [],
   "source": []
  },
  {
   "cell_type": "code",
   "execution_count": null,
   "id": "038a6c29",
   "metadata": {},
   "outputs": [],
   "source": []
  },
  {
   "cell_type": "code",
   "execution_count": null,
   "id": "387bde70",
   "metadata": {},
   "outputs": [],
   "source": []
  },
  {
   "cell_type": "code",
   "execution_count": null,
   "id": "b07b31c0",
   "metadata": {},
   "outputs": [],
   "source": []
  },
  {
   "cell_type": "code",
   "execution_count": null,
   "id": "66f847a1",
   "metadata": {},
   "outputs": [],
   "source": []
  },
  {
   "cell_type": "code",
   "execution_count": null,
   "id": "eb6fec56",
   "metadata": {},
   "outputs": [],
   "source": []
  },
  {
   "cell_type": "code",
   "execution_count": null,
   "id": "e00a0496",
   "metadata": {},
   "outputs": [],
   "source": []
  },
  {
   "cell_type": "code",
   "execution_count": null,
   "id": "39534074",
   "metadata": {},
   "outputs": [],
   "source": []
  },
  {
   "cell_type": "code",
   "execution_count": null,
   "id": "65913f85",
   "metadata": {},
   "outputs": [],
   "source": []
  },
  {
   "cell_type": "code",
   "execution_count": null,
   "id": "2895674e",
   "metadata": {},
   "outputs": [],
   "source": []
  },
  {
   "cell_type": "code",
   "execution_count": null,
   "id": "b35da826",
   "metadata": {},
   "outputs": [],
   "source": []
  },
  {
   "cell_type": "code",
   "execution_count": null,
   "id": "d8d9c632",
   "metadata": {},
   "outputs": [],
   "source": []
  },
  {
   "cell_type": "code",
   "execution_count": null,
   "id": "c746a03d",
   "metadata": {},
   "outputs": [],
   "source": []
  },
  {
   "cell_type": "code",
   "execution_count": null,
   "id": "c0d0ecbe",
   "metadata": {},
   "outputs": [],
   "source": []
  },
  {
   "cell_type": "code",
   "execution_count": null,
   "id": "19243edd",
   "metadata": {},
   "outputs": [],
   "source": []
  },
  {
   "cell_type": "code",
   "execution_count": null,
   "id": "87aa8b57",
   "metadata": {},
   "outputs": [],
   "source": []
  },
  {
   "cell_type": "code",
   "execution_count": null,
   "id": "b981bac4",
   "metadata": {},
   "outputs": [],
   "source": []
  },
  {
   "cell_type": "code",
   "execution_count": null,
   "id": "a831e60d",
   "metadata": {},
   "outputs": [],
   "source": []
  },
  {
   "cell_type": "code",
   "execution_count": null,
   "id": "1673fa02",
   "metadata": {},
   "outputs": [],
   "source": []
  },
  {
   "cell_type": "code",
   "execution_count": null,
   "id": "bc888168",
   "metadata": {},
   "outputs": [],
   "source": []
  },
  {
   "cell_type": "code",
   "execution_count": null,
   "id": "fadbe63e",
   "metadata": {},
   "outputs": [],
   "source": []
  },
  {
   "cell_type": "code",
   "execution_count": null,
   "id": "5a017c24",
   "metadata": {},
   "outputs": [],
   "source": []
  },
  {
   "cell_type": "code",
   "execution_count": null,
   "id": "52e737fb",
   "metadata": {},
   "outputs": [],
   "source": []
  },
  {
   "cell_type": "code",
   "execution_count": null,
   "id": "8ac37a3b",
   "metadata": {},
   "outputs": [],
   "source": []
  },
  {
   "cell_type": "code",
   "execution_count": null,
   "id": "424462f9",
   "metadata": {},
   "outputs": [],
   "source": []
  },
  {
   "cell_type": "code",
   "execution_count": null,
   "id": "548ca51f",
   "metadata": {},
   "outputs": [],
   "source": []
  },
  {
   "cell_type": "code",
   "execution_count": null,
   "id": "f1bd1c74",
   "metadata": {},
   "outputs": [],
   "source": []
  },
  {
   "cell_type": "code",
   "execution_count": null,
   "id": "f31f0e09",
   "metadata": {},
   "outputs": [],
   "source": []
  },
  {
   "cell_type": "code",
   "execution_count": null,
   "id": "989889e7",
   "metadata": {},
   "outputs": [],
   "source": []
  },
  {
   "cell_type": "code",
   "execution_count": null,
   "id": "6b50f3eb",
   "metadata": {},
   "outputs": [],
   "source": []
  },
  {
   "cell_type": "code",
   "execution_count": null,
   "id": "aaf7c51e",
   "metadata": {},
   "outputs": [],
   "source": []
  },
  {
   "cell_type": "code",
   "execution_count": null,
   "id": "cbb9b0a9",
   "metadata": {},
   "outputs": [],
   "source": []
  },
  {
   "cell_type": "code",
   "execution_count": null,
   "id": "ceff6de4",
   "metadata": {},
   "outputs": [],
   "source": []
  },
  {
   "cell_type": "code",
   "execution_count": 90,
   "id": "121521fd",
   "metadata": {},
   "outputs": [],
   "source": [
    "X = dfHabr1['keyword']\n",
    "y = dfHabr1['clustersAgglomerative']"
   ]
  },
  {
   "cell_type": "code",
   "execution_count": 91,
   "id": "149859bf",
   "metadata": {},
   "outputs": [],
   "source": [
    "X_train, X_test, y_train, y_test = train_test_split(X, y, test_size=0.3, random_state = 42)"
   ]
  },
  {
   "cell_type": "code",
   "execution_count": 92,
   "id": "a6820059",
   "metadata": {},
   "outputs": [
    {
     "data": {
      "text/plain": [
       "array([ 4, 12,  7,  0, 11, 13,  2,  6,  1, 10, 14,  9,  5,  8,  3],\n",
       "      dtype=int64)"
      ]
     },
     "execution_count": 92,
     "metadata": {},
     "output_type": "execute_result"
    }
   ],
   "source": [
    "my_tags = dfHabr1['clustersKmeans'].unique()\n",
    "my_tags"
   ]
  },
  {
   "cell_type": "code",
   "execution_count": null,
   "id": "372bfcef",
   "metadata": {},
   "outputs": [],
   "source": []
  },
  {
   "cell_type": "code",
   "execution_count": 95,
   "id": "126e08c9",
   "metadata": {},
   "outputs": [],
   "source": [
    "nb = Pipeline([('vect', CountVectorizer()),\n",
    "               ('tfidf', TfidfTransformer()),\n",
    "               ('clf', MultinomialNB()),\n",
    "              ])"
   ]
  },
  {
   "cell_type": "code",
   "execution_count": 96,
   "id": "e0bf0987",
   "metadata": {},
   "outputs": [
    {
     "name": "stdout",
     "output_type": "stream",
     "text": [
      "CPU times: total: 0 ns\n",
      "Wall time: 4.57 ms\n"
     ]
    },
    {
     "data": {
      "text/html": [
       "<style>#sk-container-id-1 {color: black;background-color: white;}#sk-container-id-1 pre{padding: 0;}#sk-container-id-1 div.sk-toggleable {background-color: white;}#sk-container-id-1 label.sk-toggleable__label {cursor: pointer;display: block;width: 100%;margin-bottom: 0;padding: 0.3em;box-sizing: border-box;text-align: center;}#sk-container-id-1 label.sk-toggleable__label-arrow:before {content: \"▸\";float: left;margin-right: 0.25em;color: #696969;}#sk-container-id-1 label.sk-toggleable__label-arrow:hover:before {color: black;}#sk-container-id-1 div.sk-estimator:hover label.sk-toggleable__label-arrow:before {color: black;}#sk-container-id-1 div.sk-toggleable__content {max-height: 0;max-width: 0;overflow: hidden;text-align: left;background-color: #f0f8ff;}#sk-container-id-1 div.sk-toggleable__content pre {margin: 0.2em;color: black;border-radius: 0.25em;background-color: #f0f8ff;}#sk-container-id-1 input.sk-toggleable__control:checked~div.sk-toggleable__content {max-height: 200px;max-width: 100%;overflow: auto;}#sk-container-id-1 input.sk-toggleable__control:checked~label.sk-toggleable__label-arrow:before {content: \"▾\";}#sk-container-id-1 div.sk-estimator input.sk-toggleable__control:checked~label.sk-toggleable__label {background-color: #d4ebff;}#sk-container-id-1 div.sk-label input.sk-toggleable__control:checked~label.sk-toggleable__label {background-color: #d4ebff;}#sk-container-id-1 input.sk-hidden--visually {border: 0;clip: rect(1px 1px 1px 1px);clip: rect(1px, 1px, 1px, 1px);height: 1px;margin: -1px;overflow: hidden;padding: 0;position: absolute;width: 1px;}#sk-container-id-1 div.sk-estimator {font-family: monospace;background-color: #f0f8ff;border: 1px dotted black;border-radius: 0.25em;box-sizing: border-box;margin-bottom: 0.5em;}#sk-container-id-1 div.sk-estimator:hover {background-color: #d4ebff;}#sk-container-id-1 div.sk-parallel-item::after {content: \"\";width: 100%;border-bottom: 1px solid gray;flex-grow: 1;}#sk-container-id-1 div.sk-label:hover label.sk-toggleable__label {background-color: #d4ebff;}#sk-container-id-1 div.sk-serial::before {content: \"\";position: absolute;border-left: 1px solid gray;box-sizing: border-box;top: 0;bottom: 0;left: 50%;z-index: 0;}#sk-container-id-1 div.sk-serial {display: flex;flex-direction: column;align-items: center;background-color: white;padding-right: 0.2em;padding-left: 0.2em;position: relative;}#sk-container-id-1 div.sk-item {position: relative;z-index: 1;}#sk-container-id-1 div.sk-parallel {display: flex;align-items: stretch;justify-content: center;background-color: white;position: relative;}#sk-container-id-1 div.sk-item::before, #sk-container-id-1 div.sk-parallel-item::before {content: \"\";position: absolute;border-left: 1px solid gray;box-sizing: border-box;top: 0;bottom: 0;left: 50%;z-index: -1;}#sk-container-id-1 div.sk-parallel-item {display: flex;flex-direction: column;z-index: 1;position: relative;background-color: white;}#sk-container-id-1 div.sk-parallel-item:first-child::after {align-self: flex-end;width: 50%;}#sk-container-id-1 div.sk-parallel-item:last-child::after {align-self: flex-start;width: 50%;}#sk-container-id-1 div.sk-parallel-item:only-child::after {width: 0;}#sk-container-id-1 div.sk-dashed-wrapped {border: 1px dashed gray;margin: 0 0.4em 0.5em 0.4em;box-sizing: border-box;padding-bottom: 0.4em;background-color: white;}#sk-container-id-1 div.sk-label label {font-family: monospace;font-weight: bold;display: inline-block;line-height: 1.2em;}#sk-container-id-1 div.sk-label-container {text-align: center;}#sk-container-id-1 div.sk-container {/* jupyter's `normalize.less` sets `[hidden] { display: none; }` but bootstrap.min.css set `[hidden] { display: none !important; }` so we also need the `!important` here to be able to override the default hidden behavior on the sphinx rendered scikit-learn.org. See: https://github.com/scikit-learn/scikit-learn/issues/21755 */display: inline-block !important;position: relative;}#sk-container-id-1 div.sk-text-repr-fallback {display: none;}</style><div id=\"sk-container-id-1\" class=\"sk-top-container\"><div class=\"sk-text-repr-fallback\"><pre>Pipeline(steps=[(&#x27;vect&#x27;, CountVectorizer()), (&#x27;tfidf&#x27;, TfidfTransformer()),\n",
       "                (&#x27;clf&#x27;, MultinomialNB())])</pre><b>In a Jupyter environment, please rerun this cell to show the HTML representation or trust the notebook. <br />On GitHub, the HTML representation is unable to render, please try loading this page with nbviewer.org.</b></div><div class=\"sk-container\" hidden><div class=\"sk-item sk-dashed-wrapped\"><div class=\"sk-label-container\"><div class=\"sk-label sk-toggleable\"><input class=\"sk-toggleable__control sk-hidden--visually\" id=\"sk-estimator-id-1\" type=\"checkbox\" ><label for=\"sk-estimator-id-1\" class=\"sk-toggleable__label sk-toggleable__label-arrow\">Pipeline</label><div class=\"sk-toggleable__content\"><pre>Pipeline(steps=[(&#x27;vect&#x27;, CountVectorizer()), (&#x27;tfidf&#x27;, TfidfTransformer()),\n",
       "                (&#x27;clf&#x27;, MultinomialNB())])</pre></div></div></div><div class=\"sk-serial\"><div class=\"sk-item\"><div class=\"sk-estimator sk-toggleable\"><input class=\"sk-toggleable__control sk-hidden--visually\" id=\"sk-estimator-id-2\" type=\"checkbox\" ><label for=\"sk-estimator-id-2\" class=\"sk-toggleable__label sk-toggleable__label-arrow\">CountVectorizer</label><div class=\"sk-toggleable__content\"><pre>CountVectorizer()</pre></div></div></div><div class=\"sk-item\"><div class=\"sk-estimator sk-toggleable\"><input class=\"sk-toggleable__control sk-hidden--visually\" id=\"sk-estimator-id-3\" type=\"checkbox\" ><label for=\"sk-estimator-id-3\" class=\"sk-toggleable__label sk-toggleable__label-arrow\">TfidfTransformer</label><div class=\"sk-toggleable__content\"><pre>TfidfTransformer()</pre></div></div></div><div class=\"sk-item\"><div class=\"sk-estimator sk-toggleable\"><input class=\"sk-toggleable__control sk-hidden--visually\" id=\"sk-estimator-id-4\" type=\"checkbox\" ><label for=\"sk-estimator-id-4\" class=\"sk-toggleable__label sk-toggleable__label-arrow\">MultinomialNB</label><div class=\"sk-toggleable__content\"><pre>MultinomialNB()</pre></div></div></div></div></div></div></div>"
      ],
      "text/plain": [
       "Pipeline(steps=[('vect', CountVectorizer()), ('tfidf', TfidfTransformer()),\n",
       "                ('clf', MultinomialNB())])"
      ]
     },
     "execution_count": 96,
     "metadata": {},
     "output_type": "execute_result"
    }
   ],
   "source": [
    "%%time\n",
    "nb.fit(X_train, y_train)"
   ]
  },
  {
   "cell_type": "code",
   "execution_count": 97,
   "id": "7a891d88",
   "metadata": {},
   "outputs": [
    {
     "name": "stdout",
     "output_type": "stream",
     "text": [
      "CPU times: total: 0 ns\n",
      "Wall time: 1.01 ms\n"
     ]
    }
   ],
   "source": [
    "%%time\n",
    "from sklearn.metrics import classification_report\n",
    "y_pred = nb.predict(X_test)"
   ]
  },
  {
   "cell_type": "code",
   "execution_count": 98,
   "id": "05cfebb7",
   "metadata": {},
   "outputs": [
    {
     "data": {
      "text/plain": [
       "4"
      ]
     },
     "execution_count": 98,
     "metadata": {},
     "output_type": "execute_result"
    }
   ],
   "source": [
    "y_pred[0]"
   ]
  },
  {
   "cell_type": "code",
   "execution_count": 99,
   "id": "b20651c6",
   "metadata": {},
   "outputs": [
    {
     "name": "stdout",
     "output_type": "stream",
     "text": [
      "алгоритм, информация, стеганография, контент, новый, метод, чувствительный, мочь, безопасный, использование 4 4\n"
     ]
    }
   ],
   "source": [
    "print(X_test[0], y_test[0], y_pred[0])"
   ]
  },
  {
   "cell_type": "code",
   "execution_count": 100,
   "id": "242c0037",
   "metadata": {},
   "outputs": [
    {
     "data": {
      "text/plain": [
       "array([ 4, 12,  7,  0, 11, 13,  2,  6,  1, 10, 14,  9,  5,  8,  3],\n",
       "      dtype=int64)"
      ]
     },
     "execution_count": 100,
     "metadata": {},
     "output_type": "execute_result"
    }
   ],
   "source": [
    "my_tags"
   ]
  },
  {
   "cell_type": "code",
   "execution_count": 101,
   "id": "8fa18bd9",
   "metadata": {
    "scrolled": true
   },
   "outputs": [
    {
     "name": "stdout",
     "output_type": "stream",
     "text": [
      "accuracy 0.75\n",
      "              precision    recall  f1-score   support\n",
      "\n",
      "           0       0.00      0.00      0.00         4\n",
      "           2       0.00      0.00      0.00         1\n",
      "           4       0.75      1.00      0.86        21\n",
      "           5       0.00      0.00      0.00         1\n",
      "          10       0.00      0.00      0.00         1\n",
      "\n",
      "    accuracy                           0.75        28\n",
      "   macro avg       0.15      0.20      0.17        28\n",
      "weighted avg       0.56      0.75      0.64        28\n",
      "\n"
     ]
    },
    {
     "name": "stderr",
     "output_type": "stream",
     "text": [
      "C:\\Users\\essww\\anaconda3\\lib\\site-packages\\sklearn\\metrics\\_classification.py:1344: UndefinedMetricWarning: Precision and F-score are ill-defined and being set to 0.0 in labels with no predicted samples. Use `zero_division` parameter to control this behavior.\n",
      "  _warn_prf(average, modifier, msg_start, len(result))\n",
      "C:\\Users\\essww\\anaconda3\\lib\\site-packages\\sklearn\\metrics\\_classification.py:1344: UndefinedMetricWarning: Precision and F-score are ill-defined and being set to 0.0 in labels with no predicted samples. Use `zero_division` parameter to control this behavior.\n",
      "  _warn_prf(average, modifier, msg_start, len(result))\n",
      "C:\\Users\\essww\\anaconda3\\lib\\site-packages\\sklearn\\metrics\\_classification.py:1344: UndefinedMetricWarning: Precision and F-score are ill-defined and being set to 0.0 in labels with no predicted samples. Use `zero_division` parameter to control this behavior.\n",
      "  _warn_prf(average, modifier, msg_start, len(result))\n"
     ]
    }
   ],
   "source": [
    "from sklearn.metrics import accuracy_score\n",
    "\n",
    "print('accuracy %s' % accuracy_score(y_pred, y_test))\n",
    "print(classification_report(y_test, y_pred))"
   ]
  },
  {
   "cell_type": "code",
   "execution_count": null,
   "id": "adc68067",
   "metadata": {},
   "outputs": [],
   "source": []
  },
  {
   "cell_type": "code",
   "execution_count": 102,
   "id": "3c605912",
   "metadata": {},
   "outputs": [],
   "source": [
    "from sklearn.linear_model import SGDClassifier\n",
    "\n",
    "sgd = Pipeline([('vect', CountVectorizer()),\n",
    "                ('tfidf', TfidfTransformer()),\n",
    "                ('clf', SGDClassifier(loss='hinge', penalty='l2',alpha=1e-3, random_state=42, max_iter=5, tol=None)),\n",
    "               ])"
   ]
  },
  {
   "cell_type": "code",
   "execution_count": 103,
   "id": "7ecc9325",
   "metadata": {},
   "outputs": [
    {
     "name": "stdout",
     "output_type": "stream",
     "text": [
      "CPU times: total: 0 ns\n",
      "Wall time: 2.92 ms\n"
     ]
    },
    {
     "data": {
      "text/html": [
       "<style>#sk-container-id-2 {color: black;background-color: white;}#sk-container-id-2 pre{padding: 0;}#sk-container-id-2 div.sk-toggleable {background-color: white;}#sk-container-id-2 label.sk-toggleable__label {cursor: pointer;display: block;width: 100%;margin-bottom: 0;padding: 0.3em;box-sizing: border-box;text-align: center;}#sk-container-id-2 label.sk-toggleable__label-arrow:before {content: \"▸\";float: left;margin-right: 0.25em;color: #696969;}#sk-container-id-2 label.sk-toggleable__label-arrow:hover:before {color: black;}#sk-container-id-2 div.sk-estimator:hover label.sk-toggleable__label-arrow:before {color: black;}#sk-container-id-2 div.sk-toggleable__content {max-height: 0;max-width: 0;overflow: hidden;text-align: left;background-color: #f0f8ff;}#sk-container-id-2 div.sk-toggleable__content pre {margin: 0.2em;color: black;border-radius: 0.25em;background-color: #f0f8ff;}#sk-container-id-2 input.sk-toggleable__control:checked~div.sk-toggleable__content {max-height: 200px;max-width: 100%;overflow: auto;}#sk-container-id-2 input.sk-toggleable__control:checked~label.sk-toggleable__label-arrow:before {content: \"▾\";}#sk-container-id-2 div.sk-estimator input.sk-toggleable__control:checked~label.sk-toggleable__label {background-color: #d4ebff;}#sk-container-id-2 div.sk-label input.sk-toggleable__control:checked~label.sk-toggleable__label {background-color: #d4ebff;}#sk-container-id-2 input.sk-hidden--visually {border: 0;clip: rect(1px 1px 1px 1px);clip: rect(1px, 1px, 1px, 1px);height: 1px;margin: -1px;overflow: hidden;padding: 0;position: absolute;width: 1px;}#sk-container-id-2 div.sk-estimator {font-family: monospace;background-color: #f0f8ff;border: 1px dotted black;border-radius: 0.25em;box-sizing: border-box;margin-bottom: 0.5em;}#sk-container-id-2 div.sk-estimator:hover {background-color: #d4ebff;}#sk-container-id-2 div.sk-parallel-item::after {content: \"\";width: 100%;border-bottom: 1px solid gray;flex-grow: 1;}#sk-container-id-2 div.sk-label:hover label.sk-toggleable__label {background-color: #d4ebff;}#sk-container-id-2 div.sk-serial::before {content: \"\";position: absolute;border-left: 1px solid gray;box-sizing: border-box;top: 0;bottom: 0;left: 50%;z-index: 0;}#sk-container-id-2 div.sk-serial {display: flex;flex-direction: column;align-items: center;background-color: white;padding-right: 0.2em;padding-left: 0.2em;position: relative;}#sk-container-id-2 div.sk-item {position: relative;z-index: 1;}#sk-container-id-2 div.sk-parallel {display: flex;align-items: stretch;justify-content: center;background-color: white;position: relative;}#sk-container-id-2 div.sk-item::before, #sk-container-id-2 div.sk-parallel-item::before {content: \"\";position: absolute;border-left: 1px solid gray;box-sizing: border-box;top: 0;bottom: 0;left: 50%;z-index: -1;}#sk-container-id-2 div.sk-parallel-item {display: flex;flex-direction: column;z-index: 1;position: relative;background-color: white;}#sk-container-id-2 div.sk-parallel-item:first-child::after {align-self: flex-end;width: 50%;}#sk-container-id-2 div.sk-parallel-item:last-child::after {align-self: flex-start;width: 50%;}#sk-container-id-2 div.sk-parallel-item:only-child::after {width: 0;}#sk-container-id-2 div.sk-dashed-wrapped {border: 1px dashed gray;margin: 0 0.4em 0.5em 0.4em;box-sizing: border-box;padding-bottom: 0.4em;background-color: white;}#sk-container-id-2 div.sk-label label {font-family: monospace;font-weight: bold;display: inline-block;line-height: 1.2em;}#sk-container-id-2 div.sk-label-container {text-align: center;}#sk-container-id-2 div.sk-container {/* jupyter's `normalize.less` sets `[hidden] { display: none; }` but bootstrap.min.css set `[hidden] { display: none !important; }` so we also need the `!important` here to be able to override the default hidden behavior on the sphinx rendered scikit-learn.org. See: https://github.com/scikit-learn/scikit-learn/issues/21755 */display: inline-block !important;position: relative;}#sk-container-id-2 div.sk-text-repr-fallback {display: none;}</style><div id=\"sk-container-id-2\" class=\"sk-top-container\"><div class=\"sk-text-repr-fallback\"><pre>Pipeline(steps=[(&#x27;vect&#x27;, CountVectorizer()), (&#x27;tfidf&#x27;, TfidfTransformer()),\n",
       "                (&#x27;clf&#x27;,\n",
       "                 SGDClassifier(alpha=0.001, max_iter=5, random_state=42,\n",
       "                               tol=None))])</pre><b>In a Jupyter environment, please rerun this cell to show the HTML representation or trust the notebook. <br />On GitHub, the HTML representation is unable to render, please try loading this page with nbviewer.org.</b></div><div class=\"sk-container\" hidden><div class=\"sk-item sk-dashed-wrapped\"><div class=\"sk-label-container\"><div class=\"sk-label sk-toggleable\"><input class=\"sk-toggleable__control sk-hidden--visually\" id=\"sk-estimator-id-5\" type=\"checkbox\" ><label for=\"sk-estimator-id-5\" class=\"sk-toggleable__label sk-toggleable__label-arrow\">Pipeline</label><div class=\"sk-toggleable__content\"><pre>Pipeline(steps=[(&#x27;vect&#x27;, CountVectorizer()), (&#x27;tfidf&#x27;, TfidfTransformer()),\n",
       "                (&#x27;clf&#x27;,\n",
       "                 SGDClassifier(alpha=0.001, max_iter=5, random_state=42,\n",
       "                               tol=None))])</pre></div></div></div><div class=\"sk-serial\"><div class=\"sk-item\"><div class=\"sk-estimator sk-toggleable\"><input class=\"sk-toggleable__control sk-hidden--visually\" id=\"sk-estimator-id-6\" type=\"checkbox\" ><label for=\"sk-estimator-id-6\" class=\"sk-toggleable__label sk-toggleable__label-arrow\">CountVectorizer</label><div class=\"sk-toggleable__content\"><pre>CountVectorizer()</pre></div></div></div><div class=\"sk-item\"><div class=\"sk-estimator sk-toggleable\"><input class=\"sk-toggleable__control sk-hidden--visually\" id=\"sk-estimator-id-7\" type=\"checkbox\" ><label for=\"sk-estimator-id-7\" class=\"sk-toggleable__label sk-toggleable__label-arrow\">TfidfTransformer</label><div class=\"sk-toggleable__content\"><pre>TfidfTransformer()</pre></div></div></div><div class=\"sk-item\"><div class=\"sk-estimator sk-toggleable\"><input class=\"sk-toggleable__control sk-hidden--visually\" id=\"sk-estimator-id-8\" type=\"checkbox\" ><label for=\"sk-estimator-id-8\" class=\"sk-toggleable__label sk-toggleable__label-arrow\">SGDClassifier</label><div class=\"sk-toggleable__content\"><pre>SGDClassifier(alpha=0.001, max_iter=5, random_state=42, tol=None)</pre></div></div></div></div></div></div></div>"
      ],
      "text/plain": [
       "Pipeline(steps=[('vect', CountVectorizer()), ('tfidf', TfidfTransformer()),\n",
       "                ('clf',\n",
       "                 SGDClassifier(alpha=0.001, max_iter=5, random_state=42,\n",
       "                               tol=None))])"
      ]
     },
     "execution_count": 103,
     "metadata": {},
     "output_type": "execute_result"
    }
   ],
   "source": [
    "%%time\n",
    "sgd.fit(X_train, y_train)"
   ]
  },
  {
   "cell_type": "code",
   "execution_count": 104,
   "id": "fd0e5eac",
   "metadata": {},
   "outputs": [
    {
     "name": "stdout",
     "output_type": "stream",
     "text": [
      "CPU times: total: 0 ns\n",
      "Wall time: 561 µs\n"
     ]
    }
   ],
   "source": [
    "%%time\n",
    "y_pred = sgd.predict(X_test)"
   ]
  },
  {
   "cell_type": "code",
   "execution_count": 105,
   "id": "3fd92a5a",
   "metadata": {},
   "outputs": [
    {
     "name": "stdout",
     "output_type": "stream",
     "text": [
      "accuracy 0.6428571428571429\n",
      "              precision    recall  f1-score   support\n",
      "\n",
      "           0       0.33      0.25      0.29         4\n",
      "           2       0.00      0.00      0.00         1\n",
      "           4       0.74      0.81      0.77        21\n",
      "           5       0.00      0.00      0.00         1\n",
      "           9       0.00      0.00      0.00         0\n",
      "          10       0.00      0.00      0.00         1\n",
      "          14       0.00      0.00      0.00         0\n",
      "\n",
      "    accuracy                           0.64        28\n",
      "   macro avg       0.15      0.15      0.15        28\n",
      "weighted avg       0.60      0.64      0.62        28\n",
      "\n"
     ]
    },
    {
     "name": "stderr",
     "output_type": "stream",
     "text": [
      "C:\\Users\\essww\\anaconda3\\lib\\site-packages\\sklearn\\metrics\\_classification.py:1344: UndefinedMetricWarning: Precision and F-score are ill-defined and being set to 0.0 in labels with no predicted samples. Use `zero_division` parameter to control this behavior.\n",
      "  _warn_prf(average, modifier, msg_start, len(result))\n",
      "C:\\Users\\essww\\anaconda3\\lib\\site-packages\\sklearn\\metrics\\_classification.py:1344: UndefinedMetricWarning: Recall and F-score are ill-defined and being set to 0.0 in labels with no true samples. Use `zero_division` parameter to control this behavior.\n",
      "  _warn_prf(average, modifier, msg_start, len(result))\n",
      "C:\\Users\\essww\\anaconda3\\lib\\site-packages\\sklearn\\metrics\\_classification.py:1344: UndefinedMetricWarning: Precision and F-score are ill-defined and being set to 0.0 in labels with no predicted samples. Use `zero_division` parameter to control this behavior.\n",
      "  _warn_prf(average, modifier, msg_start, len(result))\n",
      "C:\\Users\\essww\\anaconda3\\lib\\site-packages\\sklearn\\metrics\\_classification.py:1344: UndefinedMetricWarning: Recall and F-score are ill-defined and being set to 0.0 in labels with no true samples. Use `zero_division` parameter to control this behavior.\n",
      "  _warn_prf(average, modifier, msg_start, len(result))\n",
      "C:\\Users\\essww\\anaconda3\\lib\\site-packages\\sklearn\\metrics\\_classification.py:1344: UndefinedMetricWarning: Precision and F-score are ill-defined and being set to 0.0 in labels with no predicted samples. Use `zero_division` parameter to control this behavior.\n",
      "  _warn_prf(average, modifier, msg_start, len(result))\n",
      "C:\\Users\\essww\\anaconda3\\lib\\site-packages\\sklearn\\metrics\\_classification.py:1344: UndefinedMetricWarning: Recall and F-score are ill-defined and being set to 0.0 in labels with no true samples. Use `zero_division` parameter to control this behavior.\n",
      "  _warn_prf(average, modifier, msg_start, len(result))\n"
     ]
    }
   ],
   "source": [
    "print('accuracy %s' % accuracy_score(y_pred, y_test))\n",
    "print(classification_report(y_test, y_pred))"
   ]
  },
  {
   "cell_type": "code",
   "execution_count": null,
   "id": "60a8b44c",
   "metadata": {},
   "outputs": [],
   "source": []
  },
  {
   "cell_type": "code",
   "execution_count": 106,
   "id": "c1b65627",
   "metadata": {},
   "outputs": [],
   "source": [
    "from sklearn.linear_model import LogisticRegression\n",
    "\n",
    "logreg = Pipeline([('vect', CountVectorizer()),\n",
    "                ('tfidf', TfidfTransformer()),\n",
    "                ('clf', LogisticRegression(n_jobs=1, C=1e5)),\n",
    "               ])"
   ]
  },
  {
   "cell_type": "code",
   "execution_count": 107,
   "id": "114dc97e",
   "metadata": {},
   "outputs": [
    {
     "name": "stdout",
     "output_type": "stream",
     "text": [
      "CPU times: total: 15.6 ms\n",
      "Wall time: 16.5 ms\n"
     ]
    },
    {
     "data": {
      "text/html": [
       "<style>#sk-container-id-3 {color: black;background-color: white;}#sk-container-id-3 pre{padding: 0;}#sk-container-id-3 div.sk-toggleable {background-color: white;}#sk-container-id-3 label.sk-toggleable__label {cursor: pointer;display: block;width: 100%;margin-bottom: 0;padding: 0.3em;box-sizing: border-box;text-align: center;}#sk-container-id-3 label.sk-toggleable__label-arrow:before {content: \"▸\";float: left;margin-right: 0.25em;color: #696969;}#sk-container-id-3 label.sk-toggleable__label-arrow:hover:before {color: black;}#sk-container-id-3 div.sk-estimator:hover label.sk-toggleable__label-arrow:before {color: black;}#sk-container-id-3 div.sk-toggleable__content {max-height: 0;max-width: 0;overflow: hidden;text-align: left;background-color: #f0f8ff;}#sk-container-id-3 div.sk-toggleable__content pre {margin: 0.2em;color: black;border-radius: 0.25em;background-color: #f0f8ff;}#sk-container-id-3 input.sk-toggleable__control:checked~div.sk-toggleable__content {max-height: 200px;max-width: 100%;overflow: auto;}#sk-container-id-3 input.sk-toggleable__control:checked~label.sk-toggleable__label-arrow:before {content: \"▾\";}#sk-container-id-3 div.sk-estimator input.sk-toggleable__control:checked~label.sk-toggleable__label {background-color: #d4ebff;}#sk-container-id-3 div.sk-label input.sk-toggleable__control:checked~label.sk-toggleable__label {background-color: #d4ebff;}#sk-container-id-3 input.sk-hidden--visually {border: 0;clip: rect(1px 1px 1px 1px);clip: rect(1px, 1px, 1px, 1px);height: 1px;margin: -1px;overflow: hidden;padding: 0;position: absolute;width: 1px;}#sk-container-id-3 div.sk-estimator {font-family: monospace;background-color: #f0f8ff;border: 1px dotted black;border-radius: 0.25em;box-sizing: border-box;margin-bottom: 0.5em;}#sk-container-id-3 div.sk-estimator:hover {background-color: #d4ebff;}#sk-container-id-3 div.sk-parallel-item::after {content: \"\";width: 100%;border-bottom: 1px solid gray;flex-grow: 1;}#sk-container-id-3 div.sk-label:hover label.sk-toggleable__label {background-color: #d4ebff;}#sk-container-id-3 div.sk-serial::before {content: \"\";position: absolute;border-left: 1px solid gray;box-sizing: border-box;top: 0;bottom: 0;left: 50%;z-index: 0;}#sk-container-id-3 div.sk-serial {display: flex;flex-direction: column;align-items: center;background-color: white;padding-right: 0.2em;padding-left: 0.2em;position: relative;}#sk-container-id-3 div.sk-item {position: relative;z-index: 1;}#sk-container-id-3 div.sk-parallel {display: flex;align-items: stretch;justify-content: center;background-color: white;position: relative;}#sk-container-id-3 div.sk-item::before, #sk-container-id-3 div.sk-parallel-item::before {content: \"\";position: absolute;border-left: 1px solid gray;box-sizing: border-box;top: 0;bottom: 0;left: 50%;z-index: -1;}#sk-container-id-3 div.sk-parallel-item {display: flex;flex-direction: column;z-index: 1;position: relative;background-color: white;}#sk-container-id-3 div.sk-parallel-item:first-child::after {align-self: flex-end;width: 50%;}#sk-container-id-3 div.sk-parallel-item:last-child::after {align-self: flex-start;width: 50%;}#sk-container-id-3 div.sk-parallel-item:only-child::after {width: 0;}#sk-container-id-3 div.sk-dashed-wrapped {border: 1px dashed gray;margin: 0 0.4em 0.5em 0.4em;box-sizing: border-box;padding-bottom: 0.4em;background-color: white;}#sk-container-id-3 div.sk-label label {font-family: monospace;font-weight: bold;display: inline-block;line-height: 1.2em;}#sk-container-id-3 div.sk-label-container {text-align: center;}#sk-container-id-3 div.sk-container {/* jupyter's `normalize.less` sets `[hidden] { display: none; }` but bootstrap.min.css set `[hidden] { display: none !important; }` so we also need the `!important` here to be able to override the default hidden behavior on the sphinx rendered scikit-learn.org. See: https://github.com/scikit-learn/scikit-learn/issues/21755 */display: inline-block !important;position: relative;}#sk-container-id-3 div.sk-text-repr-fallback {display: none;}</style><div id=\"sk-container-id-3\" class=\"sk-top-container\"><div class=\"sk-text-repr-fallback\"><pre>Pipeline(steps=[(&#x27;vect&#x27;, CountVectorizer()), (&#x27;tfidf&#x27;, TfidfTransformer()),\n",
       "                (&#x27;clf&#x27;, LogisticRegression(C=100000.0, n_jobs=1))])</pre><b>In a Jupyter environment, please rerun this cell to show the HTML representation or trust the notebook. <br />On GitHub, the HTML representation is unable to render, please try loading this page with nbviewer.org.</b></div><div class=\"sk-container\" hidden><div class=\"sk-item sk-dashed-wrapped\"><div class=\"sk-label-container\"><div class=\"sk-label sk-toggleable\"><input class=\"sk-toggleable__control sk-hidden--visually\" id=\"sk-estimator-id-9\" type=\"checkbox\" ><label for=\"sk-estimator-id-9\" class=\"sk-toggleable__label sk-toggleable__label-arrow\">Pipeline</label><div class=\"sk-toggleable__content\"><pre>Pipeline(steps=[(&#x27;vect&#x27;, CountVectorizer()), (&#x27;tfidf&#x27;, TfidfTransformer()),\n",
       "                (&#x27;clf&#x27;, LogisticRegression(C=100000.0, n_jobs=1))])</pre></div></div></div><div class=\"sk-serial\"><div class=\"sk-item\"><div class=\"sk-estimator sk-toggleable\"><input class=\"sk-toggleable__control sk-hidden--visually\" id=\"sk-estimator-id-10\" type=\"checkbox\" ><label for=\"sk-estimator-id-10\" class=\"sk-toggleable__label sk-toggleable__label-arrow\">CountVectorizer</label><div class=\"sk-toggleable__content\"><pre>CountVectorizer()</pre></div></div></div><div class=\"sk-item\"><div class=\"sk-estimator sk-toggleable\"><input class=\"sk-toggleable__control sk-hidden--visually\" id=\"sk-estimator-id-11\" type=\"checkbox\" ><label for=\"sk-estimator-id-11\" class=\"sk-toggleable__label sk-toggleable__label-arrow\">TfidfTransformer</label><div class=\"sk-toggleable__content\"><pre>TfidfTransformer()</pre></div></div></div><div class=\"sk-item\"><div class=\"sk-estimator sk-toggleable\"><input class=\"sk-toggleable__control sk-hidden--visually\" id=\"sk-estimator-id-12\" type=\"checkbox\" ><label for=\"sk-estimator-id-12\" class=\"sk-toggleable__label sk-toggleable__label-arrow\">LogisticRegression</label><div class=\"sk-toggleable__content\"><pre>LogisticRegression(C=100000.0, n_jobs=1)</pre></div></div></div></div></div></div></div>"
      ],
      "text/plain": [
       "Pipeline(steps=[('vect', CountVectorizer()), ('tfidf', TfidfTransformer()),\n",
       "                ('clf', LogisticRegression(C=100000.0, n_jobs=1))])"
      ]
     },
     "execution_count": 107,
     "metadata": {},
     "output_type": "execute_result"
    }
   ],
   "source": [
    "%%time\n",
    "logreg.fit(X_train, y_train)"
   ]
  },
  {
   "cell_type": "code",
   "execution_count": 108,
   "id": "38ecc719",
   "metadata": {},
   "outputs": [
    {
     "name": "stdout",
     "output_type": "stream",
     "text": [
      "CPU times: total: 0 ns\n",
      "Wall time: 1 ms\n"
     ]
    }
   ],
   "source": [
    "%%time\n",
    "y_pred = logreg.predict(X_test)"
   ]
  },
  {
   "cell_type": "code",
   "execution_count": 109,
   "id": "8ad0c5cc",
   "metadata": {},
   "outputs": [
    {
     "name": "stdout",
     "output_type": "stream",
     "text": [
      "accuracy 0.7142857142857143\n",
      "              precision    recall  f1-score   support\n",
      "\n",
      "           0       0.33      0.25      0.29         4\n",
      "           2       0.00      0.00      0.00         1\n",
      "           4       0.76      0.90      0.83        21\n",
      "           5       0.00      0.00      0.00         1\n",
      "          10       0.00      0.00      0.00         1\n",
      "\n",
      "    accuracy                           0.71        28\n",
      "   macro avg       0.22      0.23      0.22        28\n",
      "weighted avg       0.62      0.71      0.66        28\n",
      "\n"
     ]
    },
    {
     "name": "stderr",
     "output_type": "stream",
     "text": [
      "C:\\Users\\essww\\anaconda3\\lib\\site-packages\\sklearn\\metrics\\_classification.py:1344: UndefinedMetricWarning: Precision and F-score are ill-defined and being set to 0.0 in labels with no predicted samples. Use `zero_division` parameter to control this behavior.\n",
      "  _warn_prf(average, modifier, msg_start, len(result))\n",
      "C:\\Users\\essww\\anaconda3\\lib\\site-packages\\sklearn\\metrics\\_classification.py:1344: UndefinedMetricWarning: Precision and F-score are ill-defined and being set to 0.0 in labels with no predicted samples. Use `zero_division` parameter to control this behavior.\n",
      "  _warn_prf(average, modifier, msg_start, len(result))\n",
      "C:\\Users\\essww\\anaconda3\\lib\\site-packages\\sklearn\\metrics\\_classification.py:1344: UndefinedMetricWarning: Precision and F-score are ill-defined and being set to 0.0 in labels with no predicted samples. Use `zero_division` parameter to control this behavior.\n",
      "  _warn_prf(average, modifier, msg_start, len(result))\n"
     ]
    }
   ],
   "source": [
    "print('accuracy %s' % accuracy_score(y_pred, y_test))\n",
    "print(classification_report(y_test, y_pred))"
   ]
  },
  {
   "cell_type": "code",
   "execution_count": 110,
   "id": "57f70501",
   "metadata": {},
   "outputs": [],
   "source": [
    "econ_text = 'время неумолимо бежать вперед выходить новый гаджет постепенно заменять старый превращать тыква хороший случай тапочек звонок смартфон становиться практически одинаковый дисплей весь площадь передний панель полный отсутствие аппаратный кнопка беспроводной зарядка это здорово хотеться взять рука старый необычный наш время qwerty смартфон попытаться использовать основной цена мочь приятно удивлять бу девайс купить несколько сотня рубль проблема клиент приложение версия android безбожно устаревать давно работать желание воскрешать старый девайс превыше потребительский качество приходить мысль почему написать ноль свой клиент популярный приложение вк музыка youtube трекинг посылка садиться писать необходимый повседневный жизнь приложение ноль голый api android либо фреймворков appcompat получаться это узнавать статья мотивация самый дело копаться старый девайса пытаться находить применение это очень интересный затягивать дело зачастую попытка оживлять девайс заключаться прочтение большой количество мануал документация копание терминал компиляция загрузчик ядро подобный занятие интересный весь уровень хардварный системный прикладной пользовательский предыдущий статья моддиль девайса весь уровень ремонтировать железный болячка написать несколько статья системный моддинг компиляция загрузчик неизвестный китайский устройство узнавать пользовательский опыт установка готовый кастомный прошивка летний устройство сегодняшний день обходить прикладной уровень моддинг устройство т е написание самый обычный повседневный программа который сложно представлять жизнь современный человек время выход первый galaxy s год многие сутки красноглазить java версия аська сидеть вконтакте большинство заглядывать смартфон каждый пара минута проверка нотификация год смартфонный жизнь становиться похожий который привыкать соц сеть мессенджер пушить потоковый видео многие успевать привязываться жизнь конкретно самый девайса год давно миновать тенденция разработка приложение кардинальный поменяться учитывать многий читатель любить выбрасывать девайса мусорка правильно делать наверняка регулярно заглядывать полочка свой пыльный бывший гаджет рассматривать теплота сожаление понимать время проходить проходить посмотреть навык огромный мотивация программер мочь многое число запиливать весь самый необходимый приложение давно лелеять идея подумывать реализовать весь свой жизнь писать c практически щупать api android ui фрейморк день очень сильно зачесываться рука написать эдакий причем сразу весьма серьезный весь устройство год самый молодой являться реплика lumia который успевать замоддить рождаться идея написать клиент youtube вк трекинг придача б выделять неделя время должный успевать заканчивать пусть сыроватый вполне юзабельный клиент любить сервис начинать думать планирование написание приложение старый мобильный ос любой платформа требовать планирование работать учет ограничение целевой платформа сразу несколько ограничение раззадоривать пыл большинство свой старый версия android работать одноядерный чипсет значит лимитировать многопоточность никакой работа ui поток кроме обновление интерфейс поскольку первый версия система интерфейс менее отзывчивый свежий нужно сохранять баланс функционал симпатичность скорость работа приложение должный оптимально работать следующий условие мб озу который свободно средний мб сбер привет вылет гб озу ядро мгц видео ядро уровень mali malii негусто сходить второй ограничение становиться тотальный устаревание корневой сертификат многие знать просто мобильный система обновлять поэтому приходиться идти хаки делать сервер реле который преобразовывать трафик https http просто отключать проверка верификация ssl это кейс api vk решать отдельный сервер реле который отправлять запрос сервер вк обратно возвращать обычный результат json третий ограничение становиться android targetsdk android cupcake никакой appcompat кушать драгоценный свободный место никакой сервис google год чистый api система условие год назад писаться первый приложение android раздобывать лепешка расшибаться портировать свой приложение гордость сказать приложение работать android устройство полный энтузиазм садиться писать код основной часть статья решать поделить каждый приложение отдельно конкретный объяснение делать хотеться заранее сказать особо давно писать android зато писать winforms поэтому решение мочь показываться странный некоторый решение обусловливать версия android например нотификация первый версия android notification builder notification похожий структура приложение писать java вконтакте первый дело начинать писать клиент вк сразу определяться свой хотелок который весьма скромный возможность листать диалог читать сообщение отправлять полный поддержка qwerty клавиатура т е отправка enter плюс возможность слушать музыка ограничение вк бочка кой случай гнать просто публичный api ограничение хотя здорово снова хотеться почувствовать эмоция который ощущать прослушивание музыка школяр свой первый android смартфон год прилетать школа слушать плейлист практически девайса идентичный железо версия android помнить пользоваться прелесть многозадачность android g интернет g чипсет просто поддерживать песня слушать поставлять второй качаться пока песня доигрывать второй скачаться итак хотелка выбирать пора начинать писать приложение дебаг устройство galaxy s android jb китайский galaxy s mini i android фото высоко samsung galaxy s i android эмулятор kitkat android studio уметь проблема собирать приложение вплоть версия android последний build tools target sdk главное выкидывать appcompat androidx юнит тест build gradle либо проблема цеплять устройство adb отладчик проблема работать первый дело начинать писать активитя полноэкранный форма терминология android экран приложение диалог должный секунда подгружать данные строить морда весь суть весь код клиент получение ответ api вк разбор json датасет визуализация датасет экран это вводить объект vk который делать асинхронный запрос сервер оборачивать работа сервер реле парсить json vkobjectprocessor это скоро отрефакториться vkdataset поздно архитектура приложение получаться довольно простой примитивный старт активитя авторизация проверять данный приложение persiststorage наличие api токен отсутствие запрашивать авторизация это становиться классический среди различный самопальный клиент клиент прикидываться официальный приложение вк это использоваться связка app id app secret приложение вконтакте android авторизация приложение перенаправлять страница диалог поскольку пуша лонгполлинг метод обновление оставаться заданный интервал это handler который сечь брать список диалог сервер проверять обновляться данные обновлять датасет отправлять сигнал обновление интерфейс который построить listview кроме кеш аватарка точно распаралелленый несколько поток загружать данный момент превьюшка храниться хэшмап это сообщение реализовать схожий образ данный момент возможность горячий подгрузка сообщение сверху поэтому обновляться последний сообщение скоп сразу шустро весь это работать вполне неплохо основной процессорный время уходить разбор тяжелый json отчасти вино вк мало кастрировать функционал gethistory последний версия api возможность возвращать поле который нужный поступать аудиозапись музыка api настоящий заноза разработчик клиент который приходиться подолбаться правда недолго основной запрос сервер реле почему сделать музыка суть обход простой сгенерировать специальный api токен свободно обращаться метод связывать музыка необходимость притворяться официальный клиент подписывать запрос md ключ примитивный php скрипт предоставлять возможность позволять получать доступ база музыка вк однако ограничение типичный пользователь должный открытый аудиозапись php audiorelay for minivk c monobogdan token censored function vkrequest request global token curl curl init https api vk com method request access token token v curl setopt curl curlopt returntransfer true return curl exec curl function audioget uid get uid return vkrequest audio get owner id uid count function audiosearch query get query return vkrequest audio search q query count function audiogetdetails id get id return vkrequest audio getbyid audios id function audiostream url get url curl curl init urldecode url curl setopt curl curlopt returntransfer true return curl exec curl actions array actions get audioget actions search audiosearch actions getdetails audiogetdetails actions stream audiostream if isset get act act get act if isset actions act exit actions act exit internal error итог получаться рабочий плеер поиск музыка добавлять трек производительность оставаться отличный ссориться ребята вк хотеть поэтому добавлять возможность качать трек пока становиться стоить дружелюбный разработчик кастомный клиент получать итог довольно простенький клиент вк который практически потреблять озу шустро работать хватать куча различный фич минимум прсомотр лента стена успеться проект интересный продолжать наращивать фишечка потихоньку близко релиз слегка причесывать клиент добавлять вкшный дизайн приделывать анимированный боковой меню animation помнить youtube разработка клиент youtube свой особенность первый отличие клиент вк видео реле просто загружать слишком трафик второй youtube отдавать видео формат который поддерживать старый устройство основной это h p сожаление потоковый видео софтовый декодирование укладывать лопатка большинство одноядерник год ситуация осложняться videoview стандартный плеер весь смартфон который отлаживать приложение уметь игнорировать ошибка ssl просто валиться ошибка приходиться придумывать видосик хотеться смотреть крутой amoled дисплей galaxy s посидеть подумать придумывать поиск база youtube получение информация прямой ссылка видео решать использовать альтернативный фронтэнд youtube который называться invidous api крутой штука свой api который распределять пул токен ютуб отдавать ответ вид json формат запрос очень простой url инстанс invidous api v метод например search q test region ru hl ru выдавать результат поиск test российский регион очень удобно invidous отдельный сервис целый сеть т н инстанс хотеть юзай поскольку большинство инстанс прятаться свежий сертификат приходиться идти довольно известный костыль отключение верификация хостнейм httpurlconnection public static void disablesslcertificatechecking trustmanager trustallcerts new trustmanager new x trustmanager public x certificate getacceptedissuers return null override public void checkclienttrusted x certificate arg string arg throws certificateexception not implemented override public void checkservertrusted x certificate arg string arg throws certificateexception not implemented try sslcontext sc sslcontext getinstance tls sc init null trustallcerts new java security securerandom httpsurlconnection setdefaultsslsocketfactory sc getsocketfactory httpsurlconnection setdefaulthostnameverifier new hostnameverifier override public boolean verify string hostname sslsession session return true catch keymanagementexception e e printstacktrace catch nosuchalgorithmexception e e printstacktrace поскольку возможность воспроизводить потоковый видео онлайн решать просто предварительно загружать собственный менеджер закачка возможность последующий очистка кеш поскольку устройство p качество нужный выбирать p p mp avc кодек среднее ролик минута весить около мегабайт hsdpa загрузка подобный видео занимать около минута подождать закинуть тестовый версия беседа любитель ретро мобилка человек восторг поскольку invidous отчасти строиться анонимность авторизация однако свой задача посмотреть видосик выполнять нормально поэтому весь ui приложение поделить вкладка тренд популярный история поиск подписка история реализовывать сторона клиент некоторые подход показываться плюс однако минимальный задел клиент мочь смотреть видео скачать приложение бэкэнд полностью открытый исходный код доступный лицензия gplv следить статус проект github последний версия скачать релиз проект текущий хотеться портировать android несмотря приложение целое иметь targetsdk оно работать отказываться android слегка поменяться бинарный формат xml разметка приложение старый система вылетать исключение это решать eclipse adt зуб импортировать проект вперед кроме экспериментировать попытка сильно уменьшать нагрузка сеть процессор путем облегчение датасет json вк весить среднее кб который ядерный чипсет частота мгц мочь долго жевать негативно сказываться ui примитивный keyvalue формат который содержать нужный поле умещаться кб текстовый вид благодаря свой примитивность весь парсинг substring indexof поиск ключ хешмап налегать процессор благодаря наработка запиливать примитивный клиент вкшечка j me целое сделать единый формат датасет мессенджер бэкэнд реализовывать угодно telegram вк личный сообщение хабер платформа делать морда заводить современный мессенджер sailfish j me symbian winmobile практически пот кровь полный адаптация кнопочный управление клиент проблема писать сообщение любой клавиатура число qwerty однако основной интерфейс полностью адаптировать кнопка требовать выполнение некоторый действие палец заключение получаться вполне неплохо приложение кой сыроватый явно дотягивать функционал большой версия кое таки выигрывать легкий быстрый самый главное мочь продлять жизнь любимый девайса считать это классно средний потребление озу оба клиент мб вес apk кб момент выход статья значить писать голый api модный фреймворков остальной функционал кой android продолжать неплохо работать наш время например dlna стриминг дом e mail клиент банкинг смска уверенный это покрывать потребность большинство пользователь это называть старый смартфон бесполезный писать статья цель показывать старый девайса отнюдь тыква щепотка энтузиазм глаз любовь гаджет заодно поделиться свой приложение часто комментарий писать хотеть пользоваться свой смартфон далеко устаревать версия android считать ждать ваш мнение комментарий зарегистрировать пользователь мочь участвовать опрос входить пожалуйста старенький девайс появляться второй жизнь определенно запланировать устаревание продолжать жить неюзабельный вокруг прыгать проголосовать пользователь воздерживаться пользователь зарегистрировать пользователь мочь участвовать опрос входить пожалуйста полезно развивать приложение старый система развивать это нужный пустой трата время делать модный приложенька флаттер проголосовать пользователь воздерживаться пользователь  \\n'"
   ]
  },
  {
   "cell_type": "code",
   "execution_count": 111,
   "id": "ffa7d8c8",
   "metadata": {},
   "outputs": [
    {
     "ename": "NameError",
     "evalue": "name 'remove_multiple_spaces' is not defined",
     "output_type": "error",
     "traceback": [
      "\u001b[1;31m---------------------------------------------------------------------------\u001b[0m",
      "\u001b[1;31mNameError\u001b[0m                                 Traceback (most recent call last)",
      "Cell \u001b[1;32mIn[111], line 1\u001b[0m\n\u001b[1;32m----> 1\u001b[0m econ_text \u001b[38;5;241m=\u001b[39m \u001b[43mremove_multiple_spaces\u001b[49m(remove_numbers(remove_punctuation(econ_text\u001b[38;5;241m.\u001b[39mlower())))\n",
      "\u001b[1;31mNameError\u001b[0m: name 'remove_multiple_spaces' is not defined"
     ]
    }
   ],
   "source": [
    "econ_text = remove_multiple_spaces(remove_numbers(remove_punctuation(econ_text.lower())))\n"
   ]
  },
  {
   "cell_type": "code",
   "execution_count": 112,
   "id": "a3669332",
   "metadata": {
    "scrolled": true
   },
   "outputs": [
    {
     "ename": "NameError",
     "evalue": "name 'lemmatize' is not defined",
     "output_type": "error",
     "traceback": [
      "\u001b[1;31m---------------------------------------------------------------------------\u001b[0m",
      "\u001b[1;31mNameError\u001b[0m                                 Traceback (most recent call last)",
      "File \u001b[1;32m<timed exec>:1\u001b[0m\n",
      "\u001b[1;31mNameError\u001b[0m: name 'lemmatize' is not defined"
     ]
    }
   ],
   "source": [
    "%%time\n",
    "econ_text = lemmatize(econ_text)"
   ]
  },
  {
   "cell_type": "code",
   "execution_count": 113,
   "id": "8ba6fc72",
   "metadata": {},
   "outputs": [
    {
     "data": {
      "text/plain": [
       "array([4], dtype=int64)"
      ]
     },
     "execution_count": 113,
     "metadata": {},
     "output_type": "execute_result"
    }
   ],
   "source": [
    "ect_pred = nb.predict([econ_text])\n",
    "ect_pred"
   ]
  },
  {
   "cell_type": "code",
   "execution_count": null,
   "id": "6e487010",
   "metadata": {},
   "outputs": [],
   "source": []
  },
  {
   "cell_type": "code",
   "execution_count": null,
   "id": "2a6aecc1",
   "metadata": {},
   "outputs": [],
   "source": []
  },
  {
   "cell_type": "code",
   "execution_count": null,
   "id": "9a27981b",
   "metadata": {},
   "outputs": [],
   "source": []
  },
  {
   "cell_type": "code",
   "execution_count": null,
   "id": "0899c63a",
   "metadata": {},
   "outputs": [],
   "source": []
  },
  {
   "cell_type": "code",
   "execution_count": null,
   "id": "98d18bb9",
   "metadata": {},
   "outputs": [],
   "source": []
  },
  {
   "cell_type": "code",
   "execution_count": null,
   "id": "3d685308",
   "metadata": {},
   "outputs": [],
   "source": []
  },
  {
   "cell_type": "code",
   "execution_count": null,
   "id": "5fcda658",
   "metadata": {},
   "outputs": [],
   "source": []
  },
  {
   "cell_type": "code",
   "execution_count": null,
   "id": "8b73d76e",
   "metadata": {},
   "outputs": [],
   "source": []
  },
  {
   "cell_type": "code",
   "execution_count": null,
   "id": "e7a9b44a",
   "metadata": {},
   "outputs": [],
   "source": []
  },
  {
   "cell_type": "code",
   "execution_count": null,
   "id": "5594ae6b",
   "metadata": {},
   "outputs": [],
   "source": []
  },
  {
   "cell_type": "code",
   "execution_count": null,
   "id": "bce7d222",
   "metadata": {},
   "outputs": [],
   "source": []
  },
  {
   "cell_type": "code",
   "execution_count": null,
   "id": "40131a5f",
   "metadata": {},
   "outputs": [],
   "source": []
  },
  {
   "cell_type": "code",
   "execution_count": null,
   "id": "35c2e911",
   "metadata": {},
   "outputs": [],
   "source": []
  },
  {
   "cell_type": "code",
   "execution_count": null,
   "id": "9e36c6f4",
   "metadata": {},
   "outputs": [],
   "source": []
  },
  {
   "cell_type": "code",
   "execution_count": null,
   "id": "1e114795",
   "metadata": {},
   "outputs": [],
   "source": []
  },
  {
   "cell_type": "code",
   "execution_count": null,
   "id": "e79c7e07",
   "metadata": {},
   "outputs": [],
   "source": []
  },
  {
   "cell_type": "code",
   "execution_count": null,
   "id": "8ba3e7a4",
   "metadata": {},
   "outputs": [],
   "source": []
  },
  {
   "cell_type": "code",
   "execution_count": null,
   "id": "2e7951f8",
   "metadata": {},
   "outputs": [],
   "source": []
  },
  {
   "cell_type": "code",
   "execution_count": null,
   "id": "e6899c6e",
   "metadata": {},
   "outputs": [],
   "source": []
  },
  {
   "cell_type": "code",
   "execution_count": null,
   "id": "398dd31c",
   "metadata": {},
   "outputs": [],
   "source": []
  }
 ],
 "metadata": {
  "kernelspec": {
   "display_name": "Python 3 (ipykernel)",
   "language": "python",
   "name": "python3"
  },
  "language_info": {
   "codemirror_mode": {
    "name": "ipython",
    "version": 3
   },
   "file_extension": ".py",
   "mimetype": "text/x-python",
   "name": "python",
   "nbconvert_exporter": "python",
   "pygments_lexer": "ipython3",
   "version": "3.9.16"
  }
 },
 "nbformat": 4,
 "nbformat_minor": 5
}
